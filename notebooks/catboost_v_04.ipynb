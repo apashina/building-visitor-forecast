{
 "cells": [
  {
   "cell_type": "markdown",
   "metadata": {},
   "source": [
    "ML ШИФТ"
   ]
  },
  {
   "cell_type": "markdown",
   "metadata": {},
   "source": [
    "[JINT] (SHIFT-64009) Пашина Алёна"
   ]
  },
  {
   "cell_type": "markdown",
   "metadata": {},
   "source": [
    "270 балла"
   ]
  },
  {
   "cell_type": "markdown",
   "metadata": {},
   "source": [
    "# Описание задачи\n",
    "\n",
    "Чтобы попасть в здание, нужно пройти через турникет. Чтобы открыть парковку, нужно открыть шлагбаум. Чтобы попасть на этаж, нужно приложить 'таблетку'. Все это фиксируется - кто, в какую дату, в какое время.\n",
    "Сможем ли мы выучить, кому конкретно принадлежит 'след' прохода через турникеты? Мы знаем, что это был кто-то, кто уже был. (Правда, есть и несколько новых - не больше 10%).\n",
    "\n",
    "'8 утра понедельник, турникет 4? Директор.' '11 утра суббота? Гриша. Но Гриша в последний день месяца никогда не приходит.'  Какие есть паттерны в настоящих данных?\n",
    "\n",
    "**Цель** - предсказать, кто вошел в здание по времени и турникету.\n",
    "\n",
    "**Описание данных**\n",
    "\n",
    "В обучающей выборке:\n",
    "\n",
    "* `user_id` - ID посетителя\n",
    "* `ts` - дата и время прохождения через турникет\n",
    "* `gate_id` - ID турникета\n",
    "\n",
    "В тестовой выборке `user_id` заменены на слова: `aucroc, binary, blue, categorical` и т.п.\n",
    "\n",
    "Требуется составить таблицу вида:\n",
    "\n",
    "| user_word | preds |\n",
    "| --- | --- |\n",
    "| aucroc | 50 |\n",
    "| binary | 11 |\n",
    "| blue | -999 |\n",
    "| ... | ... |\n",
    "\n",
    "* `user_word` - закодированные ID пользователей\n",
    "* `preds` - предсказанные ID\n",
    "* `-999` - ID нового посетителя, которого раньше не было\n",
    "\n",
    "Таблицу нужно запомнить как `csv` и потом заархивировать в `zip` архив. \n",
    "\n",
    "Каждому слову сопоставлен вес, который зависит от того, насколько трудно предсказать ID. Баллы набираются как взвешенная по весам сумма правильных ответов. Чем сложнее отгадали слово, тем больше баллов.\n",
    "\n",
    "Посетителей здания будем считать сотрудниками некой компании."
   ]
  },
  {
   "cell_type": "markdown",
   "metadata": {},
   "source": [
    "# Импорт библиотек"
   ]
  },
  {
   "cell_type": "code",
   "execution_count": 193,
   "metadata": {},
   "outputs": [],
   "source": [
    "import pandas as pd\n",
    "import numpy as np\n",
    "import sklearn\n",
    "import warnings\n",
    "import matplotlib.pyplot as plt\n",
    "import seaborn as sns\n",
    "import joblib\n",
    "import lightgbm as lgb\n",
    "\n",
    "from sklearn.model_selection import train_test_split, cross_val_score, GridSearchCV, StratifiedKFold\n",
    "from sklearn.compose import ColumnTransformer\n",
    "from sklearn.pipeline import Pipeline\n",
    "\n",
    "from sklearn.metrics import (roc_auc_score, \n",
    "                             f1_score,\n",
    "                             roc_curve, \n",
    "                             accuracy_score, \n",
    "                             ConfusionMatrixDisplay, \n",
    "                             confusion_matrix, \n",
    "                             recall_score,\n",
    "                             precision_score)\n",
    "from sklearn.inspection import permutation_importance\n",
    "from catboost import (CatBoostClassifier,\n",
    "                        Pool,\n",
    "                        EShapCalcType,\n",
    "                        EFeaturesSelectionAlgorithm)\n",
    "\n",
    "import shap\n",
    "import loguru\n",
    "import plotly\n",
    "import phik\n",
    "import zipfile\n",
    "import io\n",
    "import re\n",
    "from optuna.integration import OptunaSearchCV\n",
    "from optuna.distributions import IntDistribution, FloatDistribution\n",
    "import optuna\n",
    "from scipy.stats import mode"
   ]
  },
  {
   "cell_type": "code",
   "execution_count": 2,
   "metadata": {},
   "outputs": [],
   "source": [
    "# sklearn.set_config(transform_output=\"pandas\")\n",
    "warnings.filterwarnings('ignore')\n",
    "pd.options.display.float_format = '{:,.2f}'.format\n",
    "\n",
    "RANDOM_STATE = 42"
   ]
  },
  {
   "cell_type": "code",
   "execution_count": 3,
   "metadata": {},
   "outputs": [],
   "source": [
    "pd.set_option('display.max_rows', 300)\n",
    "pd.set_option('display.max_columns', 300)"
   ]
  },
  {
   "cell_type": "markdown",
   "metadata": {},
   "source": [
    "# Первичный анализ и предобработка данных"
   ]
  },
  {
   "cell_type": "code",
   "execution_count": 4,
   "metadata": {},
   "outputs": [],
   "source": [
    "df_train = pd.read_csv('../data/train.csv', index_col=[0], parse_dates=[2])\n",
    "df_test = pd.read_csv('../data/test.csv', index_col=[0], parse_dates=[1])\n",
    "ex_submit = pd.read_csv('../data/submit.csv')"
   ]
  },
  {
   "cell_type": "code",
   "execution_count": 5,
   "metadata": {},
   "outputs": [
    {
     "name": "stdout",
     "output_type": "stream",
     "text": [
      "\u001b[1mтренировочная выборка:\u001b[0m\n"
     ]
    },
    {
     "data": {
      "text/html": [
       "<div>\n",
       "<style scoped>\n",
       "    .dataframe tbody tr th:only-of-type {\n",
       "        vertical-align: middle;\n",
       "    }\n",
       "\n",
       "    .dataframe tbody tr th {\n",
       "        vertical-align: top;\n",
       "    }\n",
       "\n",
       "    .dataframe thead th {\n",
       "        text-align: right;\n",
       "    }\n",
       "</style>\n",
       "<table border=\"1\" class=\"dataframe\">\n",
       "  <thead>\n",
       "    <tr style=\"text-align: right;\">\n",
       "      <th></th>\n",
       "      <th>user_id</th>\n",
       "      <th>ts</th>\n",
       "      <th>gate_id</th>\n",
       "    </tr>\n",
       "  </thead>\n",
       "  <tbody>\n",
       "    <tr>\n",
       "      <th>0</th>\n",
       "      <td>18</td>\n",
       "      <td>2022-07-29 09:08:54</td>\n",
       "      <td>7</td>\n",
       "    </tr>\n",
       "    <tr>\n",
       "      <th>1</th>\n",
       "      <td>18</td>\n",
       "      <td>2022-07-29 09:09:54</td>\n",
       "      <td>9</td>\n",
       "    </tr>\n",
       "    <tr>\n",
       "      <th>2</th>\n",
       "      <td>18</td>\n",
       "      <td>2022-07-29 09:09:54</td>\n",
       "      <td>9</td>\n",
       "    </tr>\n",
       "    <tr>\n",
       "      <th>3</th>\n",
       "      <td>18</td>\n",
       "      <td>2022-07-29 09:10:06</td>\n",
       "      <td>5</td>\n",
       "    </tr>\n",
       "    <tr>\n",
       "      <th>4</th>\n",
       "      <td>18</td>\n",
       "      <td>2022-07-29 09:10:08</td>\n",
       "      <td>5</td>\n",
       "    </tr>\n",
       "    <tr>\n",
       "      <th>...</th>\n",
       "      <td>...</td>\n",
       "      <td>...</td>\n",
       "      <td>...</td>\n",
       "    </tr>\n",
       "    <tr>\n",
       "      <th>37513</th>\n",
       "      <td>6</td>\n",
       "      <td>2022-12-31 20:38:56</td>\n",
       "      <td>11</td>\n",
       "    </tr>\n",
       "    <tr>\n",
       "      <th>37514</th>\n",
       "      <td>6</td>\n",
       "      <td>2022-12-31 20:39:22</td>\n",
       "      <td>6</td>\n",
       "    </tr>\n",
       "    <tr>\n",
       "      <th>37515</th>\n",
       "      <td>6</td>\n",
       "      <td>2022-12-31 20:39:23</td>\n",
       "      <td>6</td>\n",
       "    </tr>\n",
       "    <tr>\n",
       "      <th>37516</th>\n",
       "      <td>6</td>\n",
       "      <td>2022-12-31 20:39:31</td>\n",
       "      <td>9</td>\n",
       "    </tr>\n",
       "    <tr>\n",
       "      <th>37517</th>\n",
       "      <td>6</td>\n",
       "      <td>2022-12-31 20:39:31</td>\n",
       "      <td>9</td>\n",
       "    </tr>\n",
       "  </tbody>\n",
       "</table>\n",
       "<p>37518 rows × 3 columns</p>\n",
       "</div>"
      ],
      "text/plain": [
       "       user_id                  ts  gate_id\n",
       "0           18 2022-07-29 09:08:54        7\n",
       "1           18 2022-07-29 09:09:54        9\n",
       "2           18 2022-07-29 09:09:54        9\n",
       "3           18 2022-07-29 09:10:06        5\n",
       "4           18 2022-07-29 09:10:08        5\n",
       "...        ...                 ...      ...\n",
       "37513        6 2022-12-31 20:38:56       11\n",
       "37514        6 2022-12-31 20:39:22        6\n",
       "37515        6 2022-12-31 20:39:23        6\n",
       "37516        6 2022-12-31 20:39:31        9\n",
       "37517        6 2022-12-31 20:39:31        9\n",
       "\n",
       "[37518 rows x 3 columns]"
      ]
     },
     "metadata": {},
     "output_type": "display_data"
    },
    {
     "name": "stdout",
     "output_type": "stream",
     "text": [
      "\u001b[1mобщая информация - тренировочная выборка:\u001b[0m\n",
      "<class 'pandas.core.frame.DataFrame'>\n",
      "Index: 37518 entries, 0 to 37517\n",
      "Data columns (total 3 columns):\n",
      " #   Column   Non-Null Count  Dtype         \n",
      "---  ------   --------------  -----         \n",
      " 0   user_id  37518 non-null  int64         \n",
      " 1   ts       37518 non-null  datetime64[ns]\n",
      " 2   gate_id  37518 non-null  int64         \n",
      "dtypes: datetime64[ns](1), int64(2)\n",
      "memory usage: 1.1 MB\n",
      "\u001b[1mколичество пропусков: 0\u001b[0m\n",
      "\u001b[1mколичество явных дубликатов: 2346\u001b[0m\n",
      "\n",
      "\u001b[1mтестовая выборка:\u001b[0m\n"
     ]
    },
    {
     "data": {
      "text/html": [
       "<div>\n",
       "<style scoped>\n",
       "    .dataframe tbody tr th:only-of-type {\n",
       "        vertical-align: middle;\n",
       "    }\n",
       "\n",
       "    .dataframe tbody tr th {\n",
       "        vertical-align: top;\n",
       "    }\n",
       "\n",
       "    .dataframe thead th {\n",
       "        text-align: right;\n",
       "    }\n",
       "</style>\n",
       "<table border=\"1\" class=\"dataframe\">\n",
       "  <thead>\n",
       "    <tr style=\"text-align: right;\">\n",
       "      <th></th>\n",
       "      <th>ts</th>\n",
       "      <th>gate_id</th>\n",
       "      <th>user_word</th>\n",
       "    </tr>\n",
       "  </thead>\n",
       "  <tbody>\n",
       "    <tr>\n",
       "      <th>37518</th>\n",
       "      <td>2023-01-03 08:21:00</td>\n",
       "      <td>9</td>\n",
       "      <td>gini</td>\n",
       "    </tr>\n",
       "    <tr>\n",
       "      <th>37519</th>\n",
       "      <td>2023-01-03 08:21:00</td>\n",
       "      <td>9</td>\n",
       "      <td>gini</td>\n",
       "    </tr>\n",
       "    <tr>\n",
       "      <th>37520</th>\n",
       "      <td>2023-01-03 08:21:18</td>\n",
       "      <td>5</td>\n",
       "      <td>gini</td>\n",
       "    </tr>\n",
       "    <tr>\n",
       "      <th>37521</th>\n",
       "      <td>2023-01-03 08:21:19</td>\n",
       "      <td>5</td>\n",
       "      <td>gini</td>\n",
       "    </tr>\n",
       "    <tr>\n",
       "      <th>37522</th>\n",
       "      <td>2023-01-03 08:21:39</td>\n",
       "      <td>10</td>\n",
       "      <td>gini</td>\n",
       "    </tr>\n",
       "    <tr>\n",
       "      <th>...</th>\n",
       "      <td>...</td>\n",
       "      <td>...</td>\n",
       "      <td>...</td>\n",
       "    </tr>\n",
       "    <tr>\n",
       "      <th>44638</th>\n",
       "      <td>2023-02-24 19:43:36</td>\n",
       "      <td>11</td>\n",
       "      <td>collinear</td>\n",
       "    </tr>\n",
       "    <tr>\n",
       "      <th>44639</th>\n",
       "      <td>2023-02-24 19:44:00</td>\n",
       "      <td>4</td>\n",
       "      <td>collinear</td>\n",
       "    </tr>\n",
       "    <tr>\n",
       "      <th>44640</th>\n",
       "      <td>2023-02-24 19:44:01</td>\n",
       "      <td>4</td>\n",
       "      <td>collinear</td>\n",
       "    </tr>\n",
       "    <tr>\n",
       "      <th>44641</th>\n",
       "      <td>2023-02-24 19:44:09</td>\n",
       "      <td>9</td>\n",
       "      <td>collinear</td>\n",
       "    </tr>\n",
       "    <tr>\n",
       "      <th>44642</th>\n",
       "      <td>2023-02-24 19:44:09</td>\n",
       "      <td>9</td>\n",
       "      <td>collinear</td>\n",
       "    </tr>\n",
       "  </tbody>\n",
       "</table>\n",
       "<p>7125 rows × 3 columns</p>\n",
       "</div>"
      ],
      "text/plain": [
       "                       ts  gate_id  user_word\n",
       "37518 2023-01-03 08:21:00        9       gini\n",
       "37519 2023-01-03 08:21:00        9       gini\n",
       "37520 2023-01-03 08:21:18        5       gini\n",
       "37521 2023-01-03 08:21:19        5       gini\n",
       "37522 2023-01-03 08:21:39       10       gini\n",
       "...                   ...      ...        ...\n",
       "44638 2023-02-24 19:43:36       11  collinear\n",
       "44639 2023-02-24 19:44:00        4  collinear\n",
       "44640 2023-02-24 19:44:01        4  collinear\n",
       "44641 2023-02-24 19:44:09        9  collinear\n",
       "44642 2023-02-24 19:44:09        9  collinear\n",
       "\n",
       "[7125 rows x 3 columns]"
      ]
     },
     "metadata": {},
     "output_type": "display_data"
    },
    {
     "name": "stdout",
     "output_type": "stream",
     "text": [
      "\u001b[1mобщая информация - тестовая выборка:\u001b[0m\n",
      "<class 'pandas.core.frame.DataFrame'>\n",
      "Index: 7125 entries, 37518 to 44642\n",
      "Data columns (total 3 columns):\n",
      " #   Column     Non-Null Count  Dtype         \n",
      "---  ------     --------------  -----         \n",
      " 0   ts         7125 non-null   datetime64[ns]\n",
      " 1   gate_id    7125 non-null   int64         \n",
      " 2   user_word  7125 non-null   object        \n",
      "dtypes: datetime64[ns](1), int64(1), object(1)\n",
      "memory usage: 222.7+ KB\n",
      "\u001b[1mколичество пропусков: 0\u001b[0m\n",
      "\u001b[1mколичество явных дубликатов: 505\u001b[0m\n",
      "\n",
      "\u001b[1mпример решения:\u001b[0m\n"
     ]
    },
    {
     "data": {
      "text/html": [
       "<div>\n",
       "<style scoped>\n",
       "    .dataframe tbody tr th:only-of-type {\n",
       "        vertical-align: middle;\n",
       "    }\n",
       "\n",
       "    .dataframe tbody tr th {\n",
       "        vertical-align: top;\n",
       "    }\n",
       "\n",
       "    .dataframe thead th {\n",
       "        text-align: right;\n",
       "    }\n",
       "</style>\n",
       "<table border=\"1\" class=\"dataframe\">\n",
       "  <thead>\n",
       "    <tr style=\"text-align: right;\">\n",
       "      <th></th>\n",
       "      <th>user_word</th>\n",
       "      <th>preds</th>\n",
       "    </tr>\n",
       "  </thead>\n",
       "  <tbody>\n",
       "    <tr>\n",
       "      <th>0</th>\n",
       "      <td>aucroc</td>\n",
       "      <td>49</td>\n",
       "    </tr>\n",
       "    <tr>\n",
       "      <th>1</th>\n",
       "      <td>binary</td>\n",
       "      <td>12</td>\n",
       "    </tr>\n",
       "    <tr>\n",
       "      <th>2</th>\n",
       "      <td>blue</td>\n",
       "      <td>55</td>\n",
       "    </tr>\n",
       "    <tr>\n",
       "      <th>3</th>\n",
       "      <td>categorical</td>\n",
       "      <td>14</td>\n",
       "    </tr>\n",
       "    <tr>\n",
       "      <th>4</th>\n",
       "      <td>coefficient</td>\n",
       "      <td>15</td>\n",
       "    </tr>\n",
       "    <tr>\n",
       "      <th>5</th>\n",
       "      <td>collinear</td>\n",
       "      <td>12</td>\n",
       "    </tr>\n",
       "    <tr>\n",
       "      <th>6</th>\n",
       "      <td>distributed</td>\n",
       "      <td>12</td>\n",
       "    </tr>\n",
       "    <tr>\n",
       "      <th>7</th>\n",
       "      <td>epsilon</td>\n",
       "      <td>1</td>\n",
       "    </tr>\n",
       "    <tr>\n",
       "      <th>8</th>\n",
       "      <td>f1</td>\n",
       "      <td>37</td>\n",
       "    </tr>\n",
       "    <tr>\n",
       "      <th>9</th>\n",
       "      <td>fit</td>\n",
       "      <td>3</td>\n",
       "    </tr>\n",
       "    <tr>\n",
       "      <th>10</th>\n",
       "      <td>gini</td>\n",
       "      <td>15</td>\n",
       "    </tr>\n",
       "    <tr>\n",
       "      <th>11</th>\n",
       "      <td>independent</td>\n",
       "      <td>-999</td>\n",
       "    </tr>\n",
       "    <tr>\n",
       "      <th>12</th>\n",
       "      <td>lasso</td>\n",
       "      <td>15</td>\n",
       "    </tr>\n",
       "    <tr>\n",
       "      <th>13</th>\n",
       "      <td>linear</td>\n",
       "      <td>3</td>\n",
       "    </tr>\n",
       "    <tr>\n",
       "      <th>14</th>\n",
       "      <td>logistic</td>\n",
       "      <td>12</td>\n",
       "    </tr>\n",
       "    <tr>\n",
       "      <th>15</th>\n",
       "      <td>loss</td>\n",
       "      <td>19</td>\n",
       "    </tr>\n",
       "    <tr>\n",
       "      <th>16</th>\n",
       "      <td>matrix</td>\n",
       "      <td>55</td>\n",
       "    </tr>\n",
       "    <tr>\n",
       "      <th>17</th>\n",
       "      <td>minimization</td>\n",
       "      <td>12</td>\n",
       "    </tr>\n",
       "    <tr>\n",
       "      <th>18</th>\n",
       "      <td>mse</td>\n",
       "      <td>55</td>\n",
       "    </tr>\n",
       "    <tr>\n",
       "      <th>19</th>\n",
       "      <td>ols</td>\n",
       "      <td>37</td>\n",
       "    </tr>\n",
       "    <tr>\n",
       "      <th>20</th>\n",
       "      <td>precision</td>\n",
       "      <td>-999</td>\n",
       "    </tr>\n",
       "    <tr>\n",
       "      <th>21</th>\n",
       "      <td>predict</td>\n",
       "      <td>12</td>\n",
       "    </tr>\n",
       "    <tr>\n",
       "      <th>22</th>\n",
       "      <td>pvalue</td>\n",
       "      <td>32</td>\n",
       "    </tr>\n",
       "    <tr>\n",
       "      <th>23</th>\n",
       "      <td>r2</td>\n",
       "      <td>12</td>\n",
       "    </tr>\n",
       "    <tr>\n",
       "      <th>24</th>\n",
       "      <td>recall</td>\n",
       "      <td>3</td>\n",
       "    </tr>\n",
       "    <tr>\n",
       "      <th>25</th>\n",
       "      <td>regression</td>\n",
       "      <td>55</td>\n",
       "    </tr>\n",
       "    <tr>\n",
       "      <th>26</th>\n",
       "      <td>residual</td>\n",
       "      <td>-999</td>\n",
       "    </tr>\n",
       "    <tr>\n",
       "      <th>27</th>\n",
       "      <td>ridge</td>\n",
       "      <td>12</td>\n",
       "    </tr>\n",
       "    <tr>\n",
       "      <th>28</th>\n",
       "      <td>sigmoid</td>\n",
       "      <td>55</td>\n",
       "    </tr>\n",
       "    <tr>\n",
       "      <th>29</th>\n",
       "      <td>significant</td>\n",
       "      <td>55</td>\n",
       "    </tr>\n",
       "    <tr>\n",
       "      <th>30</th>\n",
       "      <td>target</td>\n",
       "      <td>55</td>\n",
       "    </tr>\n",
       "    <tr>\n",
       "      <th>31</th>\n",
       "      <td>tstat</td>\n",
       "      <td>55</td>\n",
       "    </tr>\n",
       "    <tr>\n",
       "      <th>32</th>\n",
       "      <td>x</td>\n",
       "      <td>19</td>\n",
       "    </tr>\n",
       "    <tr>\n",
       "      <th>33</th>\n",
       "      <td>y</td>\n",
       "      <td>17</td>\n",
       "    </tr>\n",
       "  </tbody>\n",
       "</table>\n",
       "</div>"
      ],
      "text/plain": [
       "       user_word  preds\n",
       "0         aucroc     49\n",
       "1         binary     12\n",
       "2           blue     55\n",
       "3    categorical     14\n",
       "4    coefficient     15\n",
       "5      collinear     12\n",
       "6    distributed     12\n",
       "7        epsilon      1\n",
       "8             f1     37\n",
       "9            fit      3\n",
       "10          gini     15\n",
       "11   independent   -999\n",
       "12         lasso     15\n",
       "13        linear      3\n",
       "14      logistic     12\n",
       "15          loss     19\n",
       "16        matrix     55\n",
       "17  minimization     12\n",
       "18           mse     55\n",
       "19           ols     37\n",
       "20     precision   -999\n",
       "21       predict     12\n",
       "22        pvalue     32\n",
       "23            r2     12\n",
       "24        recall      3\n",
       "25    regression     55\n",
       "26      residual   -999\n",
       "27         ridge     12\n",
       "28       sigmoid     55\n",
       "29   significant     55\n",
       "30        target     55\n",
       "31         tstat     55\n",
       "32             x     19\n",
       "33             y     17"
      ]
     },
     "metadata": {},
     "output_type": "display_data"
    },
    {
     "name": "stdout",
     "output_type": "stream",
     "text": [
      "\u001b[1mобщая информация - пример решения:\u001b[0m\n",
      "<class 'pandas.core.frame.DataFrame'>\n",
      "RangeIndex: 34 entries, 0 to 33\n",
      "Data columns (total 2 columns):\n",
      " #   Column     Non-Null Count  Dtype \n",
      "---  ------     --------------  ----- \n",
      " 0   user_word  34 non-null     object\n",
      " 1   preds      34 non-null     int64 \n",
      "dtypes: int64(1), object(1)\n",
      "memory usage: 672.0+ bytes\n",
      "\u001b[1mколичество пропусков: 0\u001b[0m\n",
      "\u001b[1mколичество явных дубликатов: 0\u001b[0m\n",
      "\n"
     ]
    }
   ],
   "source": [
    "for name, df in zip(['тренировочная выборка', 'тестовая выборка', 'пример решения'], [df_train, df_test, ex_submit]):\n",
    "    print(f'\\033[1m{name}:\\033[0m')\n",
    "    display(df)\n",
    "    print(f'\\033[1mобщая информация - {name}:\\033[0m')\n",
    "    df.info()\n",
    "    print(f'\\033[1mколичество пропусков: {df.isna().sum().sum()}\\033[0m')\n",
    "    print(f'\\033[1mколичество явных дубликатов: {df.duplicated().sum()}\\033[0m')\n",
    "    print()"
   ]
  },
  {
   "cell_type": "markdown",
   "metadata": {},
   "source": [
    "Пропусков в данных не обнаружено.\n",
    "\n",
    "В тренировочной и тестовой выборке есть явные дубликаты, пока не будем удалять их. Проанализируем позже."
   ]
  },
  {
   "cell_type": "code",
   "execution_count": 6,
   "metadata": {},
   "outputs": [],
   "source": [
    "# df_train = df_train.drop_duplicates().reset_index(drop=True)\n",
    "# df_test = df_test.drop_duplicates().reset_index(drop=True)"
   ]
  },
  {
   "cell_type": "code",
   "execution_count": 7,
   "metadata": {},
   "outputs": [
    {
     "data": {
      "text/plain": [
       "(37518, 3)"
      ]
     },
     "execution_count": 7,
     "metadata": {},
     "output_type": "execute_result"
    }
   ],
   "source": [
    "df_train.shape"
   ]
  },
  {
   "cell_type": "code",
   "execution_count": 8,
   "metadata": {},
   "outputs": [
    {
     "data": {
      "text/plain": [
       "(7125, 3)"
      ]
     },
     "execution_count": 8,
     "metadata": {},
     "output_type": "execute_result"
    }
   ],
   "source": [
    "df_test.shape"
   ]
  },
  {
   "cell_type": "code",
   "execution_count": 9,
   "metadata": {},
   "outputs": [
    {
     "data": {
      "text/html": [
       "<div>\n",
       "<style scoped>\n",
       "    .dataframe tbody tr th:only-of-type {\n",
       "        vertical-align: middle;\n",
       "    }\n",
       "\n",
       "    .dataframe tbody tr th {\n",
       "        vertical-align: top;\n",
       "    }\n",
       "\n",
       "    .dataframe thead th {\n",
       "        text-align: right;\n",
       "    }\n",
       "</style>\n",
       "<table border=\"1\" class=\"dataframe\">\n",
       "  <thead>\n",
       "    <tr style=\"text-align: right;\">\n",
       "      <th></th>\n",
       "      <th>ts</th>\n",
       "    </tr>\n",
       "  </thead>\n",
       "  <tbody>\n",
       "    <tr>\n",
       "      <th>min</th>\n",
       "      <td>2022-07-29 09:08:54</td>\n",
       "    </tr>\n",
       "    <tr>\n",
       "      <th>max</th>\n",
       "      <td>2022-12-31 20:39:31</td>\n",
       "    </tr>\n",
       "  </tbody>\n",
       "</table>\n",
       "</div>"
      ],
      "text/plain": [
       "                     ts\n",
       "min 2022-07-29 09:08:54\n",
       "max 2022-12-31 20:39:31"
      ]
     },
     "execution_count": 9,
     "metadata": {},
     "output_type": "execute_result"
    }
   ],
   "source": [
    "df_train.ts.agg([min, max]).to_frame()"
   ]
  },
  {
   "cell_type": "code",
   "execution_count": 10,
   "metadata": {},
   "outputs": [
    {
     "data": {
      "text/html": [
       "<div>\n",
       "<style scoped>\n",
       "    .dataframe tbody tr th:only-of-type {\n",
       "        vertical-align: middle;\n",
       "    }\n",
       "\n",
       "    .dataframe tbody tr th {\n",
       "        vertical-align: top;\n",
       "    }\n",
       "\n",
       "    .dataframe thead th {\n",
       "        text-align: right;\n",
       "    }\n",
       "</style>\n",
       "<table border=\"1\" class=\"dataframe\">\n",
       "  <thead>\n",
       "    <tr style=\"text-align: right;\">\n",
       "      <th></th>\n",
       "      <th>ts</th>\n",
       "    </tr>\n",
       "  </thead>\n",
       "  <tbody>\n",
       "    <tr>\n",
       "      <th>min</th>\n",
       "      <td>2023-01-03 08:21:00</td>\n",
       "    </tr>\n",
       "    <tr>\n",
       "      <th>max</th>\n",
       "      <td>2023-02-24 19:44:09</td>\n",
       "    </tr>\n",
       "  </tbody>\n",
       "</table>\n",
       "</div>"
      ],
      "text/plain": [
       "                     ts\n",
       "min 2023-01-03 08:21:00\n",
       "max 2023-02-24 19:44:09"
      ]
     },
     "execution_count": 10,
     "metadata": {},
     "output_type": "execute_result"
    }
   ],
   "source": [
    "df_test.ts.agg([min, max]).to_frame()"
   ]
  },
  {
   "cell_type": "code",
   "execution_count": 11,
   "metadata": {},
   "outputs": [
    {
     "data": {
      "text/plain": [
       "7"
      ]
     },
     "execution_count": 11,
     "metadata": {},
     "output_type": "execute_result"
    }
   ],
   "source": [
    "(df_test.ts.max() - df_train.ts.min()).days // 30"
   ]
  },
  {
   "cell_type": "markdown",
   "metadata": {},
   "source": [
    "Предоставлены данные за 7 месяцев - с июля 2022 по фефраль 2023. Номер месяца в качестве признака не подойдет."
   ]
  },
  {
   "cell_type": "markdown",
   "metadata": {},
   "source": [
    "ID сотрудников"
   ]
  },
  {
   "cell_type": "code",
   "execution_count": 12,
   "metadata": {},
   "outputs": [
    {
     "name": "stdout",
     "output_type": "stream",
     "text": [
      "0, 1, 2, 3, 4, 5, 6, 7, 8, 9, 10, 11, 12, 14, 15, 17, 18, 19, 20, 21, 22, 23, 24, 25, 26, 27, 28, 29, 30, 31, 32, 33, 34, 35, 36, 37, 38, 39, 40, 41, 42, 43, 44, 45, 46, 47, 48, 49, 50, 51, 52, 53, 54, 55, 56, 57\n",
      "Количество сотрудников в train: 56\n"
     ]
    }
   ],
   "source": [
    "# id сотрудников в train\n",
    "print(*sorted(df_train.user_id.unique()), sep=', ')\n",
    "print(f'Количество сотрудников в train: {len(df_train.user_id.unique())}')"
   ]
  },
  {
   "cell_type": "code",
   "execution_count": 13,
   "metadata": {},
   "outputs": [
    {
     "data": {
      "text/plain": [
       "{13, 16}"
      ]
     },
     "execution_count": 13,
     "metadata": {},
     "output_type": "execute_result"
    }
   ],
   "source": [
    "# отсутствующие id\n",
    "set(range(0, 58)) - set(df_train.user_id.unique())"
   ]
  },
  {
   "cell_type": "code",
   "execution_count": 14,
   "metadata": {},
   "outputs": [],
   "source": [
    "# активность сотрудников в train\n",
    "count_user_id = df_train.user_id.value_counts(ascending=True).to_frame()"
   ]
  },
  {
   "cell_type": "code",
   "execution_count": 15,
   "metadata": {},
   "outputs": [
    {
     "data": {
      "text/html": [
       "<div>\n",
       "<style scoped>\n",
       "    .dataframe tbody tr th:only-of-type {\n",
       "        vertical-align: middle;\n",
       "    }\n",
       "\n",
       "    .dataframe tbody tr th {\n",
       "        vertical-align: top;\n",
       "    }\n",
       "\n",
       "    .dataframe thead th {\n",
       "        text-align: right;\n",
       "    }\n",
       "</style>\n",
       "<table border=\"1\" class=\"dataframe\">\n",
       "  <thead>\n",
       "    <tr style=\"text-align: right;\">\n",
       "      <th></th>\n",
       "      <th>count</th>\n",
       "    </tr>\n",
       "    <tr>\n",
       "      <th>user_id</th>\n",
       "      <th></th>\n",
       "    </tr>\n",
       "  </thead>\n",
       "  <tbody>\n",
       "    <tr>\n",
       "      <th>4</th>\n",
       "      <td>2</td>\n",
       "    </tr>\n",
       "    <tr>\n",
       "      <th>51</th>\n",
       "      <td>3</td>\n",
       "    </tr>\n",
       "    <tr>\n",
       "      <th>44</th>\n",
       "      <td>4</td>\n",
       "    </tr>\n",
       "    <tr>\n",
       "      <th>21</th>\n",
       "      <td>5</td>\n",
       "    </tr>\n",
       "    <tr>\n",
       "      <th>52</th>\n",
       "      <td>5</td>\n",
       "    </tr>\n",
       "    <tr>\n",
       "      <th>30</th>\n",
       "      <td>10</td>\n",
       "    </tr>\n",
       "    <tr>\n",
       "      <th>5</th>\n",
       "      <td>10</td>\n",
       "    </tr>\n",
       "    <tr>\n",
       "      <th>38</th>\n",
       "      <td>13</td>\n",
       "    </tr>\n",
       "    <tr>\n",
       "      <th>10</th>\n",
       "      <td>17</td>\n",
       "    </tr>\n",
       "    <tr>\n",
       "      <th>8</th>\n",
       "      <td>29</td>\n",
       "    </tr>\n",
       "    <tr>\n",
       "      <th>2</th>\n",
       "      <td>39</td>\n",
       "    </tr>\n",
       "    <tr>\n",
       "      <th>36</th>\n",
       "      <td>48</td>\n",
       "    </tr>\n",
       "    <tr>\n",
       "      <th>7</th>\n",
       "      <td>49</td>\n",
       "    </tr>\n",
       "    <tr>\n",
       "      <th>45</th>\n",
       "      <td>57</td>\n",
       "    </tr>\n",
       "    <tr>\n",
       "      <th>28</th>\n",
       "      <td>64</td>\n",
       "    </tr>\n",
       "    <tr>\n",
       "      <th>22</th>\n",
       "      <td>96</td>\n",
       "    </tr>\n",
       "    <tr>\n",
       "      <th>20</th>\n",
       "      <td>115</td>\n",
       "    </tr>\n",
       "    <tr>\n",
       "      <th>43</th>\n",
       "      <td>124</td>\n",
       "    </tr>\n",
       "    <tr>\n",
       "      <th>41</th>\n",
       "      <td>124</td>\n",
       "    </tr>\n",
       "    <tr>\n",
       "      <th>56</th>\n",
       "      <td>137</td>\n",
       "    </tr>\n",
       "    <tr>\n",
       "      <th>31</th>\n",
       "      <td>191</td>\n",
       "    </tr>\n",
       "    <tr>\n",
       "      <th>40</th>\n",
       "      <td>242</td>\n",
       "    </tr>\n",
       "    <tr>\n",
       "      <th>25</th>\n",
       "      <td>247</td>\n",
       "    </tr>\n",
       "    <tr>\n",
       "      <th>23</th>\n",
       "      <td>261</td>\n",
       "    </tr>\n",
       "    <tr>\n",
       "      <th>34</th>\n",
       "      <td>284</td>\n",
       "    </tr>\n",
       "    <tr>\n",
       "      <th>26</th>\n",
       "      <td>316</td>\n",
       "    </tr>\n",
       "    <tr>\n",
       "      <th>42</th>\n",
       "      <td>359</td>\n",
       "    </tr>\n",
       "    <tr>\n",
       "      <th>24</th>\n",
       "      <td>416</td>\n",
       "    </tr>\n",
       "    <tr>\n",
       "      <th>57</th>\n",
       "      <td>497</td>\n",
       "    </tr>\n",
       "    <tr>\n",
       "      <th>46</th>\n",
       "      <td>502</td>\n",
       "    </tr>\n",
       "    <tr>\n",
       "      <th>35</th>\n",
       "      <td>601</td>\n",
       "    </tr>\n",
       "    <tr>\n",
       "      <th>27</th>\n",
       "      <td>603</td>\n",
       "    </tr>\n",
       "    <tr>\n",
       "      <th>17</th>\n",
       "      <td>677</td>\n",
       "    </tr>\n",
       "    <tr>\n",
       "      <th>14</th>\n",
       "      <td>696</td>\n",
       "    </tr>\n",
       "    <tr>\n",
       "      <th>48</th>\n",
       "      <td>743</td>\n",
       "    </tr>\n",
       "    <tr>\n",
       "      <th>3</th>\n",
       "      <td>989</td>\n",
       "    </tr>\n",
       "    <tr>\n",
       "      <th>29</th>\n",
       "      <td>990</td>\n",
       "    </tr>\n",
       "    <tr>\n",
       "      <th>50</th>\n",
       "      <td>994</td>\n",
       "    </tr>\n",
       "    <tr>\n",
       "      <th>9</th>\n",
       "      <td>1034</td>\n",
       "    </tr>\n",
       "    <tr>\n",
       "      <th>54</th>\n",
       "      <td>1070</td>\n",
       "    </tr>\n",
       "    <tr>\n",
       "      <th>32</th>\n",
       "      <td>1076</td>\n",
       "    </tr>\n",
       "    <tr>\n",
       "      <th>39</th>\n",
       "      <td>1144</td>\n",
       "    </tr>\n",
       "    <tr>\n",
       "      <th>0</th>\n",
       "      <td>1250</td>\n",
       "    </tr>\n",
       "    <tr>\n",
       "      <th>49</th>\n",
       "      <td>1275</td>\n",
       "    </tr>\n",
       "    <tr>\n",
       "      <th>11</th>\n",
       "      <td>1281</td>\n",
       "    </tr>\n",
       "    <tr>\n",
       "      <th>33</th>\n",
       "      <td>1285</td>\n",
       "    </tr>\n",
       "    <tr>\n",
       "      <th>1</th>\n",
       "      <td>1299</td>\n",
       "    </tr>\n",
       "    <tr>\n",
       "      <th>53</th>\n",
       "      <td>1311</td>\n",
       "    </tr>\n",
       "    <tr>\n",
       "      <th>47</th>\n",
       "      <td>1341</td>\n",
       "    </tr>\n",
       "    <tr>\n",
       "      <th>18</th>\n",
       "      <td>1578</td>\n",
       "    </tr>\n",
       "    <tr>\n",
       "      <th>15</th>\n",
       "      <td>1756</td>\n",
       "    </tr>\n",
       "    <tr>\n",
       "      <th>19</th>\n",
       "      <td>1793</td>\n",
       "    </tr>\n",
       "    <tr>\n",
       "      <th>12</th>\n",
       "      <td>1953</td>\n",
       "    </tr>\n",
       "    <tr>\n",
       "      <th>6</th>\n",
       "      <td>2013</td>\n",
       "    </tr>\n",
       "    <tr>\n",
       "      <th>55</th>\n",
       "      <td>2238</td>\n",
       "    </tr>\n",
       "    <tr>\n",
       "      <th>37</th>\n",
       "      <td>2262</td>\n",
       "    </tr>\n",
       "  </tbody>\n",
       "</table>\n",
       "</div>"
      ],
      "text/plain": [
       "         count\n",
       "user_id       \n",
       "4            2\n",
       "51           3\n",
       "44           4\n",
       "21           5\n",
       "52           5\n",
       "30          10\n",
       "5           10\n",
       "38          13\n",
       "10          17\n",
       "8           29\n",
       "2           39\n",
       "36          48\n",
       "7           49\n",
       "45          57\n",
       "28          64\n",
       "22          96\n",
       "20         115\n",
       "43         124\n",
       "41         124\n",
       "56         137\n",
       "31         191\n",
       "40         242\n",
       "25         247\n",
       "23         261\n",
       "34         284\n",
       "26         316\n",
       "42         359\n",
       "24         416\n",
       "57         497\n",
       "46         502\n",
       "35         601\n",
       "27         603\n",
       "17         677\n",
       "14         696\n",
       "48         743\n",
       "3          989\n",
       "29         990\n",
       "50         994\n",
       "9         1034\n",
       "54        1070\n",
       "32        1076\n",
       "39        1144\n",
       "0         1250\n",
       "49        1275\n",
       "11        1281\n",
       "33        1285\n",
       "1         1299\n",
       "53        1311\n",
       "47        1341\n",
       "18        1578\n",
       "15        1756\n",
       "19        1793\n",
       "12        1953\n",
       "6         2013\n",
       "55        2238\n",
       "37        2262"
      ]
     },
     "execution_count": 15,
     "metadata": {},
     "output_type": "execute_result"
    }
   ],
   "source": [
    "count_user_id"
   ]
  },
  {
   "cell_type": "code",
   "execution_count": 16,
   "metadata": {},
   "outputs": [
    {
     "data": {
      "image/png": "[encoded data removed]",
      "text/plain": [
       "<Figure size 1500x1000 with 1 Axes>"
      ]
     },
     "metadata": {},
     "output_type": "display_data"
    }
   ],
   "source": [
    "plt.figure(figsize=(15, 10))\n",
    "plt.barh(count_user_id.index.astype(str), count_user_id['count'], color='skyblue')\n",
    "plt.xlabel('Количество проходок через турникеты')\n",
    "plt.ylabel('user id')\n",
    "plt.title('Активность сотрудников в train')\n",
    "plt.xticks(np.arange(0, 2210, 100))\n",
    "plt.grid(axis='x', linestyle='--', linewidth=0.7)"
   ]
  },
  {
   "cell_type": "markdown",
   "metadata": {},
   "source": [
    "Удалим неактивных сотрудников, количество проходов через турникеты которых менее 100. Поскольку это слишком маленькие категории для обучения (подбор гиперпараметров модели будет выполняться с помощью кроссвалидации), и, скорее всего, этих сотрудников нет в test."
   ]
  },
  {
   "cell_type": "code",
   "execution_count": 17,
   "metadata": {},
   "outputs": [],
   "source": [
    "# delete_user_id = [4, 5, 7, 8, 10, 18, 20, 21, 22, 27, 28, 30, 31, 34, 36, 38, 40, 41, 42, 44, 45, 47, 48, 51, 52, 53, 57]"
   ]
  },
  {
   "cell_type": "code",
   "execution_count": 18,
   "metadata": {},
   "outputs": [
    {
     "data": {
      "text/plain": [
       "36"
      ]
     },
     "execution_count": 18,
     "metadata": {},
     "output_type": "execute_result"
    }
   ],
   "source": [
    "27\n",
    "18\n",
    "31\n",
    "48\n",
    "8\n",
    "47\n",
    "36"
   ]
  },
  {
   "cell_type": "code",
   "execution_count": 19,
   "metadata": {},
   "outputs": [
    {
     "data": {
      "text/plain": [
       "22"
      ]
     },
     "execution_count": 19,
     "metadata": {},
     "output_type": "execute_result"
    }
   ],
   "source": [
    "delete_user_id = [4, 5, 7, 10, 18, 20, 21, 27, 28, 31, 34, 38, 40, 42, 44, 45, 47, 48, 51, 52, 53, 57]\n",
    "len(delete_user_id)"
   ]
  },
  {
   "cell_type": "code",
   "execution_count": 20,
   "metadata": {},
   "outputs": [
    {
     "data": {
      "text/plain": [
       "34"
      ]
     },
     "execution_count": 20,
     "metadata": {},
     "output_type": "execute_result"
    }
   ],
   "source": [
    "len(df_train.user_id.unique()) - len(delete_user_id)"
   ]
  },
  {
   "cell_type": "code",
   "execution_count": 21,
   "metadata": {},
   "outputs": [
    {
     "data": {
      "text/plain": [
       "(30025, 3)"
      ]
     },
     "execution_count": 21,
     "metadata": {},
     "output_type": "execute_result"
    }
   ],
   "source": [
    "df_train = df_train[~df_train['user_id'].isin(delete_user_id)]\n",
    "df_train.shape"
   ]
  },
  {
   "cell_type": "code",
   "execution_count": 22,
   "metadata": {},
   "outputs": [
    {
     "name": "stdout",
     "output_type": "stream",
     "text": [
      "Количество сотрудников в train: 34\n"
     ]
    }
   ],
   "source": [
    "print(f'Количество сотрудников в train: {len(df_train.user_id.unique())}')"
   ]
  },
  {
   "cell_type": "code",
   "execution_count": 23,
   "metadata": {},
   "outputs": [
    {
     "data": {
      "text/html": [
       "<div>\n",
       "<style scoped>\n",
       "    .dataframe tbody tr th:only-of-type {\n",
       "        vertical-align: middle;\n",
       "    }\n",
       "\n",
       "    .dataframe tbody tr th {\n",
       "        vertical-align: top;\n",
       "    }\n",
       "\n",
       "    .dataframe thead th {\n",
       "        text-align: right;\n",
       "    }\n",
       "</style>\n",
       "<table border=\"1\" class=\"dataframe\">\n",
       "  <thead>\n",
       "    <tr style=\"text-align: right;\">\n",
       "      <th></th>\n",
       "      <th>count</th>\n",
       "    </tr>\n",
       "    <tr>\n",
       "      <th>user_id</th>\n",
       "      <th></th>\n",
       "    </tr>\n",
       "  </thead>\n",
       "  <tbody>\n",
       "    <tr>\n",
       "      <th>30</th>\n",
       "      <td>10</td>\n",
       "    </tr>\n",
       "    <tr>\n",
       "      <th>8</th>\n",
       "      <td>29</td>\n",
       "    </tr>\n",
       "    <tr>\n",
       "      <th>2</th>\n",
       "      <td>39</td>\n",
       "    </tr>\n",
       "    <tr>\n",
       "      <th>36</th>\n",
       "      <td>48</td>\n",
       "    </tr>\n",
       "    <tr>\n",
       "      <th>22</th>\n",
       "      <td>96</td>\n",
       "    </tr>\n",
       "    <tr>\n",
       "      <th>43</th>\n",
       "      <td>124</td>\n",
       "    </tr>\n",
       "    <tr>\n",
       "      <th>41</th>\n",
       "      <td>124</td>\n",
       "    </tr>\n",
       "    <tr>\n",
       "      <th>56</th>\n",
       "      <td>137</td>\n",
       "    </tr>\n",
       "    <tr>\n",
       "      <th>25</th>\n",
       "      <td>247</td>\n",
       "    </tr>\n",
       "    <tr>\n",
       "      <th>23</th>\n",
       "      <td>261</td>\n",
       "    </tr>\n",
       "    <tr>\n",
       "      <th>26</th>\n",
       "      <td>316</td>\n",
       "    </tr>\n",
       "    <tr>\n",
       "      <th>24</th>\n",
       "      <td>416</td>\n",
       "    </tr>\n",
       "    <tr>\n",
       "      <th>46</th>\n",
       "      <td>502</td>\n",
       "    </tr>\n",
       "    <tr>\n",
       "      <th>35</th>\n",
       "      <td>601</td>\n",
       "    </tr>\n",
       "    <tr>\n",
       "      <th>17</th>\n",
       "      <td>677</td>\n",
       "    </tr>\n",
       "    <tr>\n",
       "      <th>14</th>\n",
       "      <td>696</td>\n",
       "    </tr>\n",
       "    <tr>\n",
       "      <th>3</th>\n",
       "      <td>989</td>\n",
       "    </tr>\n",
       "    <tr>\n",
       "      <th>29</th>\n",
       "      <td>990</td>\n",
       "    </tr>\n",
       "    <tr>\n",
       "      <th>50</th>\n",
       "      <td>994</td>\n",
       "    </tr>\n",
       "    <tr>\n",
       "      <th>9</th>\n",
       "      <td>1034</td>\n",
       "    </tr>\n",
       "    <tr>\n",
       "      <th>54</th>\n",
       "      <td>1070</td>\n",
       "    </tr>\n",
       "    <tr>\n",
       "      <th>32</th>\n",
       "      <td>1076</td>\n",
       "    </tr>\n",
       "    <tr>\n",
       "      <th>39</th>\n",
       "      <td>1144</td>\n",
       "    </tr>\n",
       "    <tr>\n",
       "      <th>0</th>\n",
       "      <td>1250</td>\n",
       "    </tr>\n",
       "    <tr>\n",
       "      <th>49</th>\n",
       "      <td>1275</td>\n",
       "    </tr>\n",
       "    <tr>\n",
       "      <th>11</th>\n",
       "      <td>1281</td>\n",
       "    </tr>\n",
       "    <tr>\n",
       "      <th>33</th>\n",
       "      <td>1285</td>\n",
       "    </tr>\n",
       "    <tr>\n",
       "      <th>1</th>\n",
       "      <td>1299</td>\n",
       "    </tr>\n",
       "    <tr>\n",
       "      <th>15</th>\n",
       "      <td>1756</td>\n",
       "    </tr>\n",
       "    <tr>\n",
       "      <th>19</th>\n",
       "      <td>1793</td>\n",
       "    </tr>\n",
       "    <tr>\n",
       "      <th>12</th>\n",
       "      <td>1953</td>\n",
       "    </tr>\n",
       "    <tr>\n",
       "      <th>6</th>\n",
       "      <td>2013</td>\n",
       "    </tr>\n",
       "    <tr>\n",
       "      <th>55</th>\n",
       "      <td>2238</td>\n",
       "    </tr>\n",
       "    <tr>\n",
       "      <th>37</th>\n",
       "      <td>2262</td>\n",
       "    </tr>\n",
       "  </tbody>\n",
       "</table>\n",
       "</div>"
      ],
      "text/plain": [
       "         count\n",
       "user_id       \n",
       "30          10\n",
       "8           29\n",
       "2           39\n",
       "36          48\n",
       "22          96\n",
       "43         124\n",
       "41         124\n",
       "56         137\n",
       "25         247\n",
       "23         261\n",
       "26         316\n",
       "24         416\n",
       "46         502\n",
       "35         601\n",
       "17         677\n",
       "14         696\n",
       "3          989\n",
       "29         990\n",
       "50         994\n",
       "9         1034\n",
       "54        1070\n",
       "32        1076\n",
       "39        1144\n",
       "0         1250\n",
       "49        1275\n",
       "11        1281\n",
       "33        1285\n",
       "1         1299\n",
       "15        1756\n",
       "19        1793\n",
       "12        1953\n",
       "6         2013\n",
       "55        2238\n",
       "37        2262"
      ]
     },
     "execution_count": 23,
     "metadata": {},
     "output_type": "execute_result"
    }
   ],
   "source": [
    "df_train.user_id.value_counts(ascending=True).to_frame()"
   ]
  },
  {
   "cell_type": "markdown",
   "metadata": {},
   "source": [
    "Исходя из графиков посещений здания для каждого сотрудника, исключим некоторых из тренировочной выборки."
   ]
  },
  {
   "cell_type": "code",
   "execution_count": null,
   "metadata": {},
   "outputs": [],
   "source": []
  },
  {
   "cell_type": "code",
   "execution_count": 24,
   "metadata": {},
   "outputs": [
    {
     "name": "stdout",
     "output_type": "stream",
     "text": [
      "Количество сотрудников в test: 34\n"
     ]
    }
   ],
   "source": [
    "print(f'Количество сотрудников в test: {len(df_test.user_word.unique())}')"
   ]
  },
  {
   "cell_type": "code",
   "execution_count": 25,
   "metadata": {},
   "outputs": [
    {
     "data": {
      "text/plain": [
       "3"
      ]
     },
     "execution_count": 25,
     "metadata": {},
     "output_type": "execute_result"
    }
   ],
   "source": [
    "# по условию сказано, что в тестовой выборке может быть не более 10% новых сотрудников\n",
    "int(.1 * len(df_test.user_word.unique()))"
   ]
  },
  {
   "cell_type": "code",
   "execution_count": 26,
   "metadata": {},
   "outputs": [],
   "source": [
    "# активность сотрудников в test\n",
    "count_user_word = df_test.user_word.value_counts(ascending=True).to_frame()"
   ]
  },
  {
   "cell_type": "code",
   "execution_count": 27,
   "metadata": {},
   "outputs": [
    {
     "data": {
      "text/html": [
       "<div>\n",
       "<style scoped>\n",
       "    .dataframe tbody tr th:only-of-type {\n",
       "        vertical-align: middle;\n",
       "    }\n",
       "\n",
       "    .dataframe tbody tr th {\n",
       "        vertical-align: top;\n",
       "    }\n",
       "\n",
       "    .dataframe thead th {\n",
       "        text-align: right;\n",
       "    }\n",
       "</style>\n",
       "<table border=\"1\" class=\"dataframe\">\n",
       "  <thead>\n",
       "    <tr style=\"text-align: right;\">\n",
       "      <th></th>\n",
       "      <th>count</th>\n",
       "    </tr>\n",
       "    <tr>\n",
       "      <th>user_word</th>\n",
       "      <th></th>\n",
       "    </tr>\n",
       "  </thead>\n",
       "  <tbody>\n",
       "    <tr>\n",
       "      <th>logistic</th>\n",
       "      <td>5</td>\n",
       "    </tr>\n",
       "    <tr>\n",
       "      <th>blue</th>\n",
       "      <td>12</td>\n",
       "    </tr>\n",
       "    <tr>\n",
       "      <th>lasso</th>\n",
       "      <td>34</td>\n",
       "    </tr>\n",
       "    <tr>\n",
       "      <th>aucroc</th>\n",
       "      <td>41</td>\n",
       "    </tr>\n",
       "    <tr>\n",
       "      <th>regression</th>\n",
       "      <td>53</td>\n",
       "    </tr>\n",
       "    <tr>\n",
       "      <th>y</th>\n",
       "      <td>57</td>\n",
       "    </tr>\n",
       "    <tr>\n",
       "      <th>precision</th>\n",
       "      <td>57</td>\n",
       "    </tr>\n",
       "    <tr>\n",
       "      <th>coefficient</th>\n",
       "      <td>65</td>\n",
       "    </tr>\n",
       "    <tr>\n",
       "      <th>minimization</th>\n",
       "      <td>99</td>\n",
       "    </tr>\n",
       "    <tr>\n",
       "      <th>mse</th>\n",
       "      <td>107</td>\n",
       "    </tr>\n",
       "    <tr>\n",
       "      <th>target</th>\n",
       "      <td>116</td>\n",
       "    </tr>\n",
       "    <tr>\n",
       "      <th>distributed</th>\n",
       "      <td>123</td>\n",
       "    </tr>\n",
       "    <tr>\n",
       "      <th>tstat</th>\n",
       "      <td>143</td>\n",
       "    </tr>\n",
       "    <tr>\n",
       "      <th>ols</th>\n",
       "      <td>145</td>\n",
       "    </tr>\n",
       "    <tr>\n",
       "      <th>ridge</th>\n",
       "      <td>150</td>\n",
       "    </tr>\n",
       "    <tr>\n",
       "      <th>matrix</th>\n",
       "      <td>166</td>\n",
       "    </tr>\n",
       "    <tr>\n",
       "      <th>pvalue</th>\n",
       "      <td>186</td>\n",
       "    </tr>\n",
       "    <tr>\n",
       "      <th>fit</th>\n",
       "      <td>193</td>\n",
       "    </tr>\n",
       "    <tr>\n",
       "      <th>linear</th>\n",
       "      <td>211</td>\n",
       "    </tr>\n",
       "    <tr>\n",
       "      <th>r2</th>\n",
       "      <td>212</td>\n",
       "    </tr>\n",
       "    <tr>\n",
       "      <th>predict</th>\n",
       "      <td>228</td>\n",
       "    </tr>\n",
       "    <tr>\n",
       "      <th>residual</th>\n",
       "      <td>228</td>\n",
       "    </tr>\n",
       "    <tr>\n",
       "      <th>recall</th>\n",
       "      <td>229</td>\n",
       "    </tr>\n",
       "    <tr>\n",
       "      <th>categorical</th>\n",
       "      <td>259</td>\n",
       "    </tr>\n",
       "    <tr>\n",
       "      <th>gini</th>\n",
       "      <td>288</td>\n",
       "    </tr>\n",
       "    <tr>\n",
       "      <th>significant</th>\n",
       "      <td>292</td>\n",
       "    </tr>\n",
       "    <tr>\n",
       "      <th>independent</th>\n",
       "      <td>311</td>\n",
       "    </tr>\n",
       "    <tr>\n",
       "      <th>x</th>\n",
       "      <td>318</td>\n",
       "    </tr>\n",
       "    <tr>\n",
       "      <th>collinear</th>\n",
       "      <td>329</td>\n",
       "    </tr>\n",
       "    <tr>\n",
       "      <th>epsilon</th>\n",
       "      <td>371</td>\n",
       "    </tr>\n",
       "    <tr>\n",
       "      <th>binary</th>\n",
       "      <td>393</td>\n",
       "    </tr>\n",
       "    <tr>\n",
       "      <th>sigmoid</th>\n",
       "      <td>446</td>\n",
       "    </tr>\n",
       "    <tr>\n",
       "      <th>loss</th>\n",
       "      <td>497</td>\n",
       "    </tr>\n",
       "    <tr>\n",
       "      <th>f1</th>\n",
       "      <td>761</td>\n",
       "    </tr>\n",
       "  </tbody>\n",
       "</table>\n",
       "</div>"
      ],
      "text/plain": [
       "              count\n",
       "user_word          \n",
       "logistic          5\n",
       "blue             12\n",
       "lasso            34\n",
       "aucroc           41\n",
       "regression       53\n",
       "y                57\n",
       "precision        57\n",
       "coefficient      65\n",
       "minimization     99\n",
       "mse             107\n",
       "target          116\n",
       "distributed     123\n",
       "tstat           143\n",
       "ols             145\n",
       "ridge           150\n",
       "matrix          166\n",
       "pvalue          186\n",
       "fit             193\n",
       "linear          211\n",
       "r2              212\n",
       "predict         228\n",
       "residual        228\n",
       "recall          229\n",
       "categorical     259\n",
       "gini            288\n",
       "significant     292\n",
       "independent     311\n",
       "x               318\n",
       "collinear       329\n",
       "epsilon         371\n",
       "binary          393\n",
       "sigmoid         446\n",
       "loss            497\n",
       "f1              761"
      ]
     },
     "execution_count": 27,
     "metadata": {},
     "output_type": "execute_result"
    }
   ],
   "source": [
    "count_user_word"
   ]
  },
  {
   "cell_type": "code",
   "execution_count": 28,
   "metadata": {},
   "outputs": [
    {
     "data": {
      "image/png": "[encoded data removed]",
      "text/plain": [
       "<Figure size 1400x700 with 1 Axes>"
      ]
     },
     "metadata": {},
     "output_type": "display_data"
    }
   ],
   "source": [
    "plt.figure(figsize=(14, 7))\n",
    "plt.barh(count_user_word.index.astype(str), count_user_word['count'], color='skyblue')\n",
    "plt.xlabel('Количество проходок через турникеты')\n",
    "plt.ylabel('user word')\n",
    "plt.title('Активность сотрудников в test')\n",
    "plt.xticks(np.arange(0, 750, 50))\n",
    "plt.grid(axis='x', linestyle='--', linewidth=0.7)"
   ]
  },
  {
   "cell_type": "markdown",
   "metadata": {},
   "source": [
    "Турникеты"
   ]
  },
  {
   "cell_type": "code",
   "execution_count": 29,
   "metadata": {},
   "outputs": [
    {
     "name": "stdout",
     "output_type": "stream",
     "text": [
      "Количество турникетов в train: 17\n"
     ]
    },
    {
     "data": {
      "text/html": [
       "<div>\n",
       "<style scoped>\n",
       "    .dataframe tbody tr th:only-of-type {\n",
       "        vertical-align: middle;\n",
       "    }\n",
       "\n",
       "    .dataframe tbody tr th {\n",
       "        vertical-align: top;\n",
       "    }\n",
       "\n",
       "    .dataframe thead th {\n",
       "        text-align: right;\n",
       "    }\n",
       "</style>\n",
       "<table border=\"1\" class=\"dataframe\">\n",
       "  <thead>\n",
       "    <tr style=\"text-align: right;\">\n",
       "      <th>gate_id</th>\n",
       "      <th>14</th>\n",
       "      <th>0</th>\n",
       "      <th>16</th>\n",
       "      <th>1</th>\n",
       "      <th>8</th>\n",
       "      <th>-1</th>\n",
       "      <th>15</th>\n",
       "      <th>12</th>\n",
       "      <th>13</th>\n",
       "      <th>6</th>\n",
       "      <th>7</th>\n",
       "      <th>9</th>\n",
       "      <th>11</th>\n",
       "      <th>5</th>\n",
       "      <th>10</th>\n",
       "      <th>3</th>\n",
       "      <th>4</th>\n",
       "    </tr>\n",
       "  </thead>\n",
       "  <tbody>\n",
       "    <tr>\n",
       "      <th>count</th>\n",
       "      <td>1</td>\n",
       "      <td>2</td>\n",
       "      <td>3</td>\n",
       "      <td>5</td>\n",
       "      <td>32</td>\n",
       "      <td>44</td>\n",
       "      <td>298</td>\n",
       "      <td>432</td>\n",
       "      <td>805</td>\n",
       "      <td>1355</td>\n",
       "      <td>2412</td>\n",
       "      <td>2846</td>\n",
       "      <td>3374</td>\n",
       "      <td>3785</td>\n",
       "      <td>3926</td>\n",
       "      <td>4137</td>\n",
       "      <td>6568</td>\n",
       "    </tr>\n",
       "  </tbody>\n",
       "</table>\n",
       "</div>"
      ],
      "text/plain": [
       "gate_id   14   0    16   1    8   -1    15   12   13    6     7     9     11  \\\n",
       "count      1    2    3    5   32   44  298  432  805  1355  2412  2846  3374   \n",
       "\n",
       "gate_id    5     10    3     4   \n",
       "count    3785  3926  4137  6568  "
      ]
     },
     "execution_count": 29,
     "metadata": {},
     "output_type": "execute_result"
    }
   ],
   "source": [
    "print(f'Количество турникетов в train: {len(df_train.gate_id.unique())}')\n",
    "# частота использования турникетов в train\n",
    "count_gate_id_train = df_train.gate_id.value_counts(ascending=True).to_frame()\n",
    "count_gate_id_train.T"
   ]
  },
  {
   "cell_type": "code",
   "execution_count": 30,
   "metadata": {},
   "outputs": [
    {
     "name": "stdout",
     "output_type": "stream",
     "text": [
      "Количество турникетов в test: 16\n"
     ]
    },
    {
     "data": {
      "text/html": [
       "<div>\n",
       "<style scoped>\n",
       "    .dataframe tbody tr th:only-of-type {\n",
       "        vertical-align: middle;\n",
       "    }\n",
       "\n",
       "    .dataframe tbody tr th {\n",
       "        vertical-align: top;\n",
       "    }\n",
       "\n",
       "    .dataframe thead th {\n",
       "        text-align: right;\n",
       "    }\n",
       "</style>\n",
       "<table border=\"1\" class=\"dataframe\">\n",
       "  <thead>\n",
       "    <tr style=\"text-align: right;\">\n",
       "      <th>gate_id</th>\n",
       "      <th>14</th>\n",
       "      <th>1</th>\n",
       "      <th>-1</th>\n",
       "      <th>2</th>\n",
       "      <th>8</th>\n",
       "      <th>15</th>\n",
       "      <th>12</th>\n",
       "      <th>6</th>\n",
       "      <th>13</th>\n",
       "      <th>7</th>\n",
       "      <th>11</th>\n",
       "      <th>9</th>\n",
       "      <th>5</th>\n",
       "      <th>3</th>\n",
       "      <th>10</th>\n",
       "      <th>4</th>\n",
       "    </tr>\n",
       "  </thead>\n",
       "  <tbody>\n",
       "    <tr>\n",
       "      <th>count</th>\n",
       "      <td>1</td>\n",
       "      <td>2</td>\n",
       "      <td>2</td>\n",
       "      <td>4</td>\n",
       "      <td>18</td>\n",
       "      <td>102</td>\n",
       "      <td>132</td>\n",
       "      <td>294</td>\n",
       "      <td>345</td>\n",
       "      <td>540</td>\n",
       "      <td>762</td>\n",
       "      <td>780</td>\n",
       "      <td>860</td>\n",
       "      <td>909</td>\n",
       "      <td>915</td>\n",
       "      <td>1459</td>\n",
       "    </tr>\n",
       "  </tbody>\n",
       "</table>\n",
       "</div>"
      ],
      "text/plain": [
       "gate_id   14   1   -1    2    8    15   12   6    13   7    11   9    5    3   \\\n",
       "count      1    2    2    4   18  102  132  294  345  540  762  780  860  909   \n",
       "\n",
       "gate_id   10    4   \n",
       "count    915  1459  "
      ]
     },
     "execution_count": 30,
     "metadata": {},
     "output_type": "execute_result"
    }
   ],
   "source": [
    "print(f'Количество турникетов в test: {len(df_test.gate_id.unique())}')\n",
    "# частота использования турникетов в test\n",
    "count_gate_id_test = df_test.gate_id.value_counts(ascending=True).to_frame()\n",
    "count_gate_id_test.T"
   ]
  },
  {
   "cell_type": "code",
   "execution_count": 31,
   "metadata": {},
   "outputs": [
    {
     "data": {
      "text/plain": [
       "{0, 16}"
      ]
     },
     "execution_count": 31,
     "metadata": {},
     "output_type": "execute_result"
    }
   ],
   "source": [
    "# id турникетов, которые есть в train, но нет в test\n",
    "set(df_train.gate_id.unique()) - set(df_test.gate_id.unique())"
   ]
  },
  {
   "cell_type": "code",
   "execution_count": 32,
   "metadata": {},
   "outputs": [
    {
     "data": {
      "text/plain": [
       "{2}"
      ]
     },
     "execution_count": 32,
     "metadata": {},
     "output_type": "execute_result"
    }
   ],
   "source": [
    "# id турникетов, которые есть в test, но нет в train\n",
    "set(df_test.gate_id.unique()) - set(df_train.gate_id.unique())"
   ]
  },
  {
   "cell_type": "markdown",
   "metadata": {},
   "source": [
    "Поскольку `gate_id` мы будем использовать в качестве признака, редкие категории (менее 5 записей) нужно удалить."
   ]
  },
  {
   "cell_type": "code",
   "execution_count": 33,
   "metadata": {},
   "outputs": [
    {
     "data": {
      "text/plain": [
       "{-1, 0, 1, 2, 14, 16}"
      ]
     },
     "execution_count": 33,
     "metadata": {},
     "output_type": "execute_result"
    }
   ],
   "source": [
    "delete_gate_id = set(count_gate_id_train.query('count < 5').index) | set(count_gate_id_test.query('count < 5').index)\n",
    "delete_gate_id"
   ]
  },
  {
   "cell_type": "code",
   "execution_count": 34,
   "metadata": {},
   "outputs": [],
   "source": [
    "df_train = df_train.query('gate_id not in @delete_gate_id').reset_index(drop=True)\n",
    "df_test = df_test.query('gate_id not in @delete_gate_id').reset_index(drop=True)"
   ]
  },
  {
   "cell_type": "code",
   "execution_count": 35,
   "metadata": {},
   "outputs": [
    {
     "data": {
      "text/plain": [
       "(7116, 3)"
      ]
     },
     "execution_count": 35,
     "metadata": {},
     "output_type": "execute_result"
    }
   ],
   "source": [
    "df_test.shape"
   ]
  },
  {
   "cell_type": "markdown",
   "metadata": {},
   "source": [
    "Двойное срабатывание турникетов"
   ]
  },
  {
   "cell_type": "code",
   "execution_count": 36,
   "metadata": {},
   "outputs": [],
   "source": [
    "def make_features_for_analysis(df):\n",
    "    df = df.loc[:]\n",
    "    # отсортируем датафреймы для удобства генерирования признаков\n",
    "    df.sort_values(['user_id', 'ts'], inplace=True)\n",
    "    df['date'] = df.ts.dt.normalize()\n",
    "    df['hour'] = df.ts.dt.hour\n",
    "    df['total_minutes'] = df.hour * 60 + df.ts.dt.minute\n",
    "    df['total_seconds'] = df.total_minutes * 60 + df.ts.dt.second\n",
    "    # для удобства расчетов\n",
    "    grouped_data = df.groupby(['user_id', 'date'])\n",
    "    # предыдущий турникет\n",
    "    df['gate_id_lag_1'] = grouped_data['gate_id'].shift(1, fill_value=-100)\n",
    "    # разница в секундах между текущей записью и предыдущей\n",
    "    df['sec_btw_lag_1'] = df['total_seconds'] - grouped_data['total_seconds'].shift(1)\n",
    "    df['sec_btw_lag_1'] = df['sec_btw_lag_1'].fillna(-1000).astype('int')\n",
    "\n",
    "    return df"
   ]
  },
  {
   "cell_type": "code",
   "execution_count": 37,
   "metadata": {},
   "outputs": [],
   "source": [
    "def plot_count_sec_btw_repeating_gate_id(df, max_interval_sec=100):\n",
    "    # отфильтруем данные с повторным срабатыванием турникета\n",
    "    df_repeating_gate_id = df.query('gate_id == gate_id_lag_1')\n",
    "    # частота наблюдаемых промежутков времени между повторными срабатываниями турникетов\n",
    "    sec_btw_repeating_gate_id = df_repeating_gate_id['sec_btw_lag_1'].value_counts().to_frame().sort_index()\n",
    "    sec_btw_repeating_gate_id = sec_btw_repeating_gate_id[sec_btw_repeating_gate_id.index < max_interval_sec]\n",
    "\n",
    "    plt.figure(figsize=(15, 3))\n",
    "    plt.bar(sec_btw_repeating_gate_id.index.astype(str), sec_btw_repeating_gate_id['count'], color='skyblue')\n",
    "    plt.xlabel('Количество секунд между повторными срабатываниями турникетов')\n",
    "    plt.ylabel('Количество повторных срабатываний')\n",
    "    plt.title('Повторное срабатывание турникетов');"
   ]
  },
  {
   "cell_type": "code",
   "execution_count": 38,
   "metadata": {},
   "outputs": [],
   "source": [
    "def check_repeating_gate_id(df):\n",
    "    # отфильтруем данные с повторным срабатыванием турникета\n",
    "    df_repeating_gate_id = df.query('gate_id == gate_id_lag_1')\n",
    "    result = pd.concat(\n",
    "        [\n",
    "            # умножаем на 2 для визуального сравнения с общим количеством срабатываний\n",
    "            df_repeating_gate_id.query('sec_btw_lag_1 <= 3')['gate_id'].value_counts() * 2,\n",
    "            df['gate_id'].value_counts()\n",
    "        ],\n",
    "        axis=1\n",
    "    ).reset_index().fillna(0).astype(int)\n",
    "    result.columns = ['gate_id', 'repeating', 'total']\n",
    "    display(result)"
   ]
  },
  {
   "cell_type": "code",
   "execution_count": 39,
   "metadata": {},
   "outputs": [],
   "source": [
    "df_train = make_features_for_analysis(df_train)\n",
    "\n",
    "# временно переименуем колонку `user_word` на `user_id`\n",
    "df_test = df_test.rename(columns={'user_word': 'user_id'})\n",
    "df_test = make_features_for_analysis(df_test)"
   ]
  },
  {
   "cell_type": "code",
   "execution_count": 40,
   "metadata": {},
   "outputs": [
    {
     "data": {
      "text/html": [
       "<div>\n",
       "<style scoped>\n",
       "    .dataframe tbody tr th:only-of-type {\n",
       "        vertical-align: middle;\n",
       "    }\n",
       "\n",
       "    .dataframe tbody tr th {\n",
       "        vertical-align: top;\n",
       "    }\n",
       "\n",
       "    .dataframe thead th {\n",
       "        text-align: right;\n",
       "    }\n",
       "</style>\n",
       "<table border=\"1\" class=\"dataframe\">\n",
       "  <thead>\n",
       "    <tr style=\"text-align: right;\">\n",
       "      <th></th>\n",
       "      <th>gate_id</th>\n",
       "      <th>repeating</th>\n",
       "      <th>total</th>\n",
       "    </tr>\n",
       "  </thead>\n",
       "  <tbody>\n",
       "    <tr>\n",
       "      <th>0</th>\n",
       "      <td>4</td>\n",
       "      <td>6512</td>\n",
       "      <td>6568</td>\n",
       "    </tr>\n",
       "    <tr>\n",
       "      <th>1</th>\n",
       "      <td>3</td>\n",
       "      <td>4080</td>\n",
       "      <td>4137</td>\n",
       "    </tr>\n",
       "    <tr>\n",
       "      <th>2</th>\n",
       "      <td>5</td>\n",
       "      <td>3740</td>\n",
       "      <td>3785</td>\n",
       "    </tr>\n",
       "    <tr>\n",
       "      <th>3</th>\n",
       "      <td>9</td>\n",
       "      <td>2846</td>\n",
       "      <td>2846</td>\n",
       "    </tr>\n",
       "    <tr>\n",
       "      <th>4</th>\n",
       "      <td>6</td>\n",
       "      <td>1348</td>\n",
       "      <td>1355</td>\n",
       "    </tr>\n",
       "    <tr>\n",
       "      <th>5</th>\n",
       "      <td>13</td>\n",
       "      <td>802</td>\n",
       "      <td>805</td>\n",
       "    </tr>\n",
       "    <tr>\n",
       "      <th>6</th>\n",
       "      <td>12</td>\n",
       "      <td>432</td>\n",
       "      <td>432</td>\n",
       "    </tr>\n",
       "    <tr>\n",
       "      <th>7</th>\n",
       "      <td>8</td>\n",
       "      <td>32</td>\n",
       "      <td>32</td>\n",
       "    </tr>\n",
       "    <tr>\n",
       "      <th>8</th>\n",
       "      <td>7</td>\n",
       "      <td>4</td>\n",
       "      <td>2412</td>\n",
       "    </tr>\n",
       "    <tr>\n",
       "      <th>9</th>\n",
       "      <td>10</td>\n",
       "      <td>0</td>\n",
       "      <td>3926</td>\n",
       "    </tr>\n",
       "    <tr>\n",
       "      <th>10</th>\n",
       "      <td>11</td>\n",
       "      <td>0</td>\n",
       "      <td>3374</td>\n",
       "    </tr>\n",
       "    <tr>\n",
       "      <th>11</th>\n",
       "      <td>15</td>\n",
       "      <td>0</td>\n",
       "      <td>298</td>\n",
       "    </tr>\n",
       "  </tbody>\n",
       "</table>\n",
       "</div>"
      ],
      "text/plain": [
       "    gate_id  repeating  total\n",
       "0         4       6512   6568\n",
       "1         3       4080   4137\n",
       "2         5       3740   3785\n",
       "3         9       2846   2846\n",
       "4         6       1348   1355\n",
       "5        13        802    805\n",
       "6        12        432    432\n",
       "7         8         32     32\n",
       "8         7          4   2412\n",
       "9        10          0   3926\n",
       "10       11          0   3374\n",
       "11       15          0    298"
      ]
     },
     "metadata": {},
     "output_type": "display_data"
    },
    {
     "data": {
      "image/png": "[encoded data removed]",
      "text/plain": [
       "<Figure size 1500x300 with 1 Axes>"
      ]
     },
     "metadata": {},
     "output_type": "display_data"
    }
   ],
   "source": [
    "plot_count_sec_btw_repeating_gate_id(df_train)\n",
    "check_repeating_gate_id(df_train)"
   ]
  },
  {
   "cell_type": "code",
   "execution_count": 41,
   "metadata": {},
   "outputs": [
    {
     "data": {
      "text/html": [
       "<div>\n",
       "<style scoped>\n",
       "    .dataframe tbody tr th:only-of-type {\n",
       "        vertical-align: middle;\n",
       "    }\n",
       "\n",
       "    .dataframe tbody tr th {\n",
       "        vertical-align: top;\n",
       "    }\n",
       "\n",
       "    .dataframe thead th {\n",
       "        text-align: right;\n",
       "    }\n",
       "</style>\n",
       "<table border=\"1\" class=\"dataframe\">\n",
       "  <thead>\n",
       "    <tr style=\"text-align: right;\">\n",
       "      <th></th>\n",
       "      <th>gate_id</th>\n",
       "      <th>repeating</th>\n",
       "      <th>total</th>\n",
       "    </tr>\n",
       "  </thead>\n",
       "  <tbody>\n",
       "    <tr>\n",
       "      <th>0</th>\n",
       "      <td>4</td>\n",
       "      <td>1442</td>\n",
       "      <td>1459</td>\n",
       "    </tr>\n",
       "    <tr>\n",
       "      <th>1</th>\n",
       "      <td>3</td>\n",
       "      <td>888</td>\n",
       "      <td>909</td>\n",
       "    </tr>\n",
       "    <tr>\n",
       "      <th>2</th>\n",
       "      <td>5</td>\n",
       "      <td>834</td>\n",
       "      <td>860</td>\n",
       "    </tr>\n",
       "    <tr>\n",
       "      <th>3</th>\n",
       "      <td>9</td>\n",
       "      <td>780</td>\n",
       "      <td>780</td>\n",
       "    </tr>\n",
       "    <tr>\n",
       "      <th>4</th>\n",
       "      <td>13</td>\n",
       "      <td>344</td>\n",
       "      <td>345</td>\n",
       "    </tr>\n",
       "    <tr>\n",
       "      <th>5</th>\n",
       "      <td>6</td>\n",
       "      <td>292</td>\n",
       "      <td>294</td>\n",
       "    </tr>\n",
       "    <tr>\n",
       "      <th>6</th>\n",
       "      <td>12</td>\n",
       "      <td>132</td>\n",
       "      <td>132</td>\n",
       "    </tr>\n",
       "    <tr>\n",
       "      <th>7</th>\n",
       "      <td>8</td>\n",
       "      <td>18</td>\n",
       "      <td>18</td>\n",
       "    </tr>\n",
       "    <tr>\n",
       "      <th>8</th>\n",
       "      <td>7</td>\n",
       "      <td>2</td>\n",
       "      <td>540</td>\n",
       "    </tr>\n",
       "    <tr>\n",
       "      <th>9</th>\n",
       "      <td>10</td>\n",
       "      <td>0</td>\n",
       "      <td>915</td>\n",
       "    </tr>\n",
       "    <tr>\n",
       "      <th>10</th>\n",
       "      <td>11</td>\n",
       "      <td>0</td>\n",
       "      <td>762</td>\n",
       "    </tr>\n",
       "    <tr>\n",
       "      <th>11</th>\n",
       "      <td>15</td>\n",
       "      <td>0</td>\n",
       "      <td>102</td>\n",
       "    </tr>\n",
       "  </tbody>\n",
       "</table>\n",
       "</div>"
      ],
      "text/plain": [
       "    gate_id  repeating  total\n",
       "0         4       1442   1459\n",
       "1         3        888    909\n",
       "2         5        834    860\n",
       "3         9        780    780\n",
       "4        13        344    345\n",
       "5         6        292    294\n",
       "6        12        132    132\n",
       "7         8         18     18\n",
       "8         7          2    540\n",
       "9        10          0    915\n",
       "10       11          0    762\n",
       "11       15          0    102"
      ]
     },
     "metadata": {},
     "output_type": "display_data"
    },
    {
     "data": {
      "image/png": "[encoded data removed]",
      "text/plain": [
       "<Figure size 1500x300 with 1 Axes>"
      ]
     },
     "metadata": {},
     "output_type": "display_data"
    }
   ],
   "source": [
    "plot_count_sec_btw_repeating_gate_id(df_test)\n",
    "check_repeating_gate_id(df_test)"
   ]
  },
  {
   "cell_type": "markdown",
   "metadata": {},
   "source": [
    "Исходя из данных выше, полными дубликатами можно считать записи, если одновременно выполняются условия:\n",
    "\n",
    "- `gate_id` совпадает с предыдущим,\n",
    "- промежуток времени между срабатываниями не превышает 3 секунд,\n",
    "- `gate_id` не равен 7."
   ]
  },
  {
   "cell_type": "code",
   "execution_count": 42,
   "metadata": {},
   "outputs": [
    {
     "data": {
      "text/plain": [
       "(20074, 9)"
      ]
     },
     "execution_count": 42,
     "metadata": {},
     "output_type": "execute_result"
    }
   ],
   "source": [
    "df_train = df_train.query('not (gate_id == gate_id_lag_1 and sec_btw_lag_1 <= 3 and gate_id != 7)')\n",
    "df_train.shape"
   ]
  },
  {
   "cell_type": "code",
   "execution_count": 43,
   "metadata": {},
   "outputs": [
    {
     "data": {
      "text/plain": [
       "(4751, 9)"
      ]
     },
     "execution_count": 43,
     "metadata": {},
     "output_type": "execute_result"
    }
   ],
   "source": [
    "df_test = df_test.query('not (gate_id == gate_id_lag_1 and sec_btw_lag_1 <= 3 and gate_id != 7)')\n",
    "df_test.shape"
   ]
  },
  {
   "cell_type": "code",
   "execution_count": 44,
   "metadata": {},
   "outputs": [
    {
     "data": {
      "image/png": "[encoded data removed]",
      "text/plain": [
       "<Figure size 1500x300 with 1 Axes>"
      ]
     },
     "metadata": {},
     "output_type": "display_data"
    }
   ],
   "source": [
    "plot_count_sec_btw_repeating_gate_id(df_train, max_interval_sec=60*10)"
   ]
  },
  {
   "cell_type": "code",
   "execution_count": 45,
   "metadata": {},
   "outputs": [
    {
     "data": {
      "image/png": "[encoded data removed]",
      "text/plain": [
       "<Figure size 1500x300 with 1 Axes>"
      ]
     },
     "metadata": {},
     "output_type": "display_data"
    }
   ],
   "source": [
    "plot_count_sec_btw_repeating_gate_id(df_test, max_interval_sec=60*1000000)"
   ]
  },
  {
   "cell_type": "markdown",
   "metadata": {},
   "source": [
    "# Генерирование признаков"
   ]
  },
  {
   "cell_type": "code",
   "execution_count": 46,
   "metadata": {},
   "outputs": [],
   "source": [
    "def make_features(df):\n",
    "    df = df.loc[:]\n",
    "    # отсортируем датафрейм для удобства генерирования признаков\n",
    "    # потом отсортируем только по дате\n",
    "    df = df.sort_values(['user_id', 'ts']).reset_index(drop=True)\n",
    "    # временные признаки\n",
    "    df['date'] = df.ts.dt.normalize()\n",
    "    df['day_of_month'] = df.ts.dt.day\n",
    "    df['hour'] = df.ts.dt.hour\n",
    "    df['total_minutes'] = df.hour * 60 + df.ts.dt.minute\n",
    "    df['total_seconds'] = df.total_minutes * 60 + df.ts.dt.second\n",
    "    df['week_number'] = df.ts.dt.isocalendar().week             # неделя начинается с пн. Вспомогательный признак\n",
    "    df['day_of_week'] = df.ts.dt.dayofweek                      # 0 = пн.\n",
    "    df['is_weekend'] = df.day_of_week >= 5\n",
    "    df['time_of_day'] = np.select(\n",
    "            condlist=[df['hour'] < 6, df['hour'] < 12, df['hour'] < 18],\n",
    "            choicelist=['night', 'morning', 'afternoon'],\n",
    "            default='evening',\n",
    "    )       # время суток\n",
    "    df['is_month_start'] = df['ts'].dt.is_month_start\n",
    "    df['is_month_end'] = df['ts'].dt.is_month_end\n",
    "\n",
    "    # для удобства расчетов\n",
    "    grouped_data = df.groupby(['user_id', 'date'])\n",
    "    # число проходов сотрудником ч/з турникуты в день\n",
    "    df['pass_cnt_per_day'] = grouped_data['gate_id'].transform('size')\n",
    "    # число проходов через конкретный турникет в конкретный день\n",
    "    df['daily_gate_pass_count'] = df.groupby(['user_id', 'date', 'gate_id'])['gate_id'].transform('size')\n",
    "    # вероятность прохода через конкретный турникет в конкретный день\n",
    "    df['probability_gate_id'] = df['daily_gate_pass_count'] / df['pass_cnt_per_day']\n",
    "    # количество сотрудников, вошедших в конкретный день в здание\n",
    "    df['cnt_users_per_day'] = df.groupby('date')['user_id'].transform('nunique')\n",
    "    # количество сотрудников, вошедших в конкретную неделю в здание\n",
    "    df['cnt_users_per_week'] = df.groupby('week_number')['user_id'].transform('nunique')\n",
    "    # индекс дневной явки сотрудника\n",
    "    df['daily_attendance_index'] = df['cnt_users_per_day'] / df['cnt_users_per_week']\n",
    "    # количество дней в конкретную неделю, в которые сотрудник заходил в здание\n",
    "    df['cnt_days_per_week'] = df.groupby(['user_id', 'week_number'])['date'].transform('nunique')\n",
    "\n",
    "    # время прихода на работу (количество минут от полуночи)\n",
    "    df['entry_time'] = grouped_data['ts'].transform('min')\n",
    "    df['entry_time'] = ((df['entry_time'] - df['date']).dt.total_seconds() // 60).astype('int')\n",
    "    # время ухода с работы (количество минут от полуночи)\n",
    "    df['exit_time'] = grouped_data['ts'].transform('max')\n",
    "    df['exit_time'] = ((df['exit_time'] - df['date']).dt.total_seconds() // 60).astype('int')   # Вспомогательный признак\n",
    "    # продолжительность рабочего времени в минутах\n",
    "    df['working_time_per_day'] = df['exit_time'] - df['entry_time']\n",
    "    # турникет, через который сотрудник зашел в здание в конкретный день\n",
    "    df['entrance_gate_id'] = grouped_data['gate_id'].transform('first')\n",
    "    # турникет, через который сотрудник вышел из здания в конкретный день\n",
    "    df['exit_gate_id'] = grouped_data['gate_id'].transform('last')\n",
    "    # продолжительность рабочего времени за неделю в минутах (working_time_per_week)\n",
    "    df_working_time_per_week = df.groupby(['user_id', 'date'], as_index=False)[['week_number', 'working_time_per_day']].first()\n",
    "    df_working_time_per_week = df_working_time_per_week.groupby(['user_id', 'week_number'], as_index=False)[['working_time_per_day']].sum()\n",
    "    df_working_time_per_week = df_working_time_per_week.rename(columns={'working_time_per_day': 'working_time_per_week'})\n",
    "    df = pd.merge(df, df_working_time_per_week, on=['user_id', 'week_number'], how='left')\n",
    "    # индекс дневной нагрузки сотрудника - отношение минут работы за день к минутам работы за неделю\n",
    "    df['daily_workload_index'] = df['working_time_per_day'] / df['working_time_per_week']\n",
    "    # на случай, когда working_time_per_day = 0 и working_time_per_week = 0\n",
    "    df['daily_workload_index'] = df['daily_workload_index'].fillna(0)\n",
    "\n",
    "    for i in range(1, 6):\n",
    "        # 5 предыдущих турникетов\n",
    "        df[f'gate_id_lag_{i}'] = grouped_data['gate_id'].shift(i, fill_value=-100)\n",
    "        # 5 последующих турникетов\n",
    "        df[f'gate_id_{i}'] = grouped_data['gate_id'].shift(-i, fill_value=-200)\n",
    "        # разница в секундах между текущей записью и пятью предыдущими\n",
    "        df[f'sec_btw_lag_{i}'] = df['total_seconds'] - grouped_data['total_seconds'].shift(i)\n",
    "        df[f'sec_btw_lag_{i}'] = df[f'sec_btw_lag_{i}'].fillna(-1000).astype('int')\n",
    "        # разница в секундах между текущей записью и пятью следующими\n",
    "        df[f'sec_btw_{i}'] = df['total_seconds'] - grouped_data['total_seconds'].shift(-i)\n",
    "        df[f'sec_btw_{i}'] = df[f'sec_btw_{i}'].fillna(1000).astype('int')\n",
    "\n",
    "    # метка gate_id, совпадающего с предыдущим, промежуток между срабатываниями менее 5 секунд\n",
    "    df['repeat_gate_lt_5s'] = df['gate_id'].eq(df['gate_id_lag_1']) & df['sec_btw_lag_1'].lt(5)\n",
    "    # -//- от 5 до 10 секунд\n",
    "    df['repeat_gate_btw_5_10s'] = df['gate_id'].eq(df['gate_id_lag_1']) & df['sec_btw_lag_1'].between(5, 10, inclusive='left')\n",
    "    # -//- от 10 до 15 секунд\n",
    "    df['repeat_gate_btw_10_15s'] = df['gate_id'].eq(df['gate_id_lag_1']) & df['sec_btw_lag_1'].between(10, 15, inclusive='left')\n",
    "    # -//- от 15 до 90 секунд\n",
    "    df['repeat_gate_btw_15_90s'] = df['gate_id'].eq(df['gate_id_lag_1']) & df['sec_btw_lag_1'].between(15, 90, inclusive='left')\n",
    "    # -//- от 90 секунд\n",
    "    df['repeat_gate_ge_90s'] = df['gate_id'].eq(df['gate_id_lag_1']) & df['sec_btw_lag_1'].ge(90)\n",
    "    # для удобства расчетов\n",
    "    grouped_data = df.groupby(['user_id', 'date'])\n",
    "    # количество повторных срабатываний турникетов для user_id в конкретный день, промежуток между срабатываниями менее 5 секунд\n",
    "    df['cnt_repeat_gate_lt_5s'] = grouped_data['repeat_gate_lt_5s'].transform('sum')\n",
    "    # -//- от 5 до 10 секунд\n",
    "    df['cnt_repeat_gate_btw_5_10s'] = grouped_data['repeat_gate_btw_5_10s'].transform('sum')\n",
    "    # -//- от 10 до 15 секунд\n",
    "    df['cnt_repeat_gate_btw_10_15s'] = grouped_data['repeat_gate_btw_10_15s'].transform('sum')\n",
    "    # -//- от 15 до 90 секунд\n",
    "    df['cnt_repeat_gate_btw_15_90s'] = grouped_data['repeat_gate_btw_15_90s'].transform('sum')\n",
    "    # -//- от 90 секунд\n",
    "    df['cnt_repeat_gate_ge_90s'] = grouped_data['repeat_gate_ge_90s'].transform('sum')\n",
    "\n",
    "    # маршрут – содержит информацию о соседних турникетах, через которые прошел сотрудник (направление не учитывается)\n",
    "    df['route'] = df.apply(lambda row: str(sorted([row['gate_id_lag_1'], row['gate_id']])), axis=1)\n",
    "    # если сотрудник пришел с улицы\n",
    "    df.loc[df['route'].str.contains('-100'), 'route'] = 'not_route'\n",
    "\n",
    "    # вспомогательный признак\n",
    "    df['temp_sec_btw_lag_1'] = df['sec_btw_lag_1']\n",
    "    # если сотрудник пришел с улицы\n",
    "    df.loc[df['temp_sec_btw_lag_1'] < 0, 'temp_sec_btw_lag_1'] = 0\n",
    "    # накопленное время нахождения в здании к моменту прохода через турникет в течение дня\n",
    "    df['cumtime_per_day'] = df.groupby(['user_id', 'date'])['temp_sec_btw_lag_1'].cumsum()\n",
    "    # накопленное время нахождения на конкретном маршруте в течение дня\n",
    "    df['cumtime_at_route_per_day'] = df.groupby(['user_id', 'date', 'route'])['temp_sec_btw_lag_1'].cumsum()\n",
    "\n",
    "    # самый часто используемый турникет за день\n",
    "    df['most_frequent_gate_per_day'] = df.groupby(['user_id', 'date'])['gate_id'].transform(lambda x: x.value_counts().idxmax())\n",
    "    # самый часто используемый турникет за неделю\n",
    "    df['most_frequent_gate_per_week'] = df.groupby(['user_id', 'week_number'])['gate_id'].transform(lambda x: x.value_counts().idxmax())\n",
    "    # самый часто используемый маршрут за день\n",
    "    df['most_frequent_route_per_day'] = df.groupby(['user_id', 'date'])['route'].transform(lambda x: x.value_counts().idxmax())\n",
    "    # самый часто используемый маршрут за неделю\n",
    "    df['most_frequent_route_per_week'] = df.groupby(['user_id', 'week_number'])['route'].transform(lambda x: x.value_counts().idxmax())\n",
    "\n",
    "    # удаление вспомогательных признаков\n",
    "    # df = df.drop(columns=['week_number', 'exit_time', 'temp_sec_btw_lag_1'])\n",
    "\n",
    "    return df"
   ]
  },
  {
   "cell_type": "code",
   "execution_count": 47,
   "metadata": {},
   "outputs": [
    {
     "data": {
      "text/html": [
       "<div>\n",
       "<style scoped>\n",
       "    .dataframe tbody tr th:only-of-type {\n",
       "        vertical-align: middle;\n",
       "    }\n",
       "\n",
       "    .dataframe tbody tr th {\n",
       "        vertical-align: top;\n",
       "    }\n",
       "\n",
       "    .dataframe thead th {\n",
       "        text-align: right;\n",
       "    }\n",
       "</style>\n",
       "<table border=\"1\" class=\"dataframe\">\n",
       "  <thead>\n",
       "    <tr style=\"text-align: right;\">\n",
       "      <th></th>\n",
       "      <th>user_id</th>\n",
       "      <th>ts</th>\n",
       "      <th>gate_id</th>\n",
       "      <th>date</th>\n",
       "      <th>hour</th>\n",
       "      <th>total_minutes</th>\n",
       "      <th>total_seconds</th>\n",
       "      <th>gate_id_lag_1</th>\n",
       "      <th>sec_btw_lag_1</th>\n",
       "      <th>day_of_month</th>\n",
       "      <th>week_number</th>\n",
       "      <th>day_of_week</th>\n",
       "      <th>is_weekend</th>\n",
       "      <th>time_of_day</th>\n",
       "      <th>is_month_start</th>\n",
       "      <th>is_month_end</th>\n",
       "      <th>pass_cnt_per_day</th>\n",
       "      <th>daily_gate_pass_count</th>\n",
       "      <th>probability_gate_id</th>\n",
       "      <th>cnt_users_per_day</th>\n",
       "      <th>cnt_users_per_week</th>\n",
       "      <th>daily_attendance_index</th>\n",
       "      <th>cnt_days_per_week</th>\n",
       "      <th>entry_time</th>\n",
       "      <th>exit_time</th>\n",
       "      <th>working_time_per_day</th>\n",
       "      <th>entrance_gate_id</th>\n",
       "      <th>exit_gate_id</th>\n",
       "      <th>working_time_per_week</th>\n",
       "      <th>daily_workload_index</th>\n",
       "      <th>gate_id_1</th>\n",
       "      <th>sec_btw_1</th>\n",
       "      <th>gate_id_lag_2</th>\n",
       "      <th>gate_id_2</th>\n",
       "      <th>sec_btw_lag_2</th>\n",
       "      <th>sec_btw_2</th>\n",
       "      <th>gate_id_lag_3</th>\n",
       "      <th>gate_id_3</th>\n",
       "      <th>sec_btw_lag_3</th>\n",
       "      <th>sec_btw_3</th>\n",
       "      <th>gate_id_lag_4</th>\n",
       "      <th>gate_id_4</th>\n",
       "      <th>sec_btw_lag_4</th>\n",
       "      <th>sec_btw_4</th>\n",
       "      <th>gate_id_lag_5</th>\n",
       "      <th>gate_id_5</th>\n",
       "      <th>sec_btw_lag_5</th>\n",
       "      <th>sec_btw_5</th>\n",
       "      <th>repeat_gate_lt_5s</th>\n",
       "      <th>repeat_gate_btw_5_10s</th>\n",
       "      <th>repeat_gate_btw_10_15s</th>\n",
       "      <th>repeat_gate_btw_15_90s</th>\n",
       "      <th>repeat_gate_ge_90s</th>\n",
       "      <th>cnt_repeat_gate_lt_5s</th>\n",
       "      <th>cnt_repeat_gate_btw_5_10s</th>\n",
       "      <th>cnt_repeat_gate_btw_10_15s</th>\n",
       "      <th>cnt_repeat_gate_btw_15_90s</th>\n",
       "      <th>cnt_repeat_gate_ge_90s</th>\n",
       "      <th>route</th>\n",
       "      <th>temp_sec_btw_lag_1</th>\n",
       "      <th>cumtime_per_day</th>\n",
       "      <th>cumtime_at_route_per_day</th>\n",
       "      <th>most_frequent_gate_per_day</th>\n",
       "      <th>most_frequent_gate_per_week</th>\n",
       "      <th>most_frequent_route_per_day</th>\n",
       "      <th>most_frequent_route_per_week</th>\n",
       "    </tr>\n",
       "  </thead>\n",
       "  <tbody>\n",
       "    <tr>\n",
       "      <th>0</th>\n",
       "      <td>0</td>\n",
       "      <td>2022-07-29 10:30:17</td>\n",
       "      <td>3</td>\n",
       "      <td>2022-07-29</td>\n",
       "      <td>10</td>\n",
       "      <td>630</td>\n",
       "      <td>37817</td>\n",
       "      <td>-100</td>\n",
       "      <td>-1000</td>\n",
       "      <td>29</td>\n",
       "      <td>30</td>\n",
       "      <td>4</td>\n",
       "      <td>False</td>\n",
       "      <td>morning</td>\n",
       "      <td>False</td>\n",
       "      <td>False</td>\n",
       "      <td>8</td>\n",
       "      <td>2</td>\n",
       "      <td>0.25</td>\n",
       "      <td>17</td>\n",
       "      <td>17</td>\n",
       "      <td>1.00</td>\n",
       "      <td>1</td>\n",
       "      <td>630</td>\n",
       "      <td>1126</td>\n",
       "      <td>496</td>\n",
       "      <td>3</td>\n",
       "      <td>4</td>\n",
       "      <td>496</td>\n",
       "      <td>1.00</td>\n",
       "      <td>11</td>\n",
       "      <td>-10144</td>\n",
       "      <td>-100</td>\n",
       "      <td>6</td>\n",
       "      <td>-1000</td>\n",
       "      <td>-10171</td>\n",
       "      <td>-100</td>\n",
       "      <td>7</td>\n",
       "      <td>-1000</td>\n",
       "      <td>-13798</td>\n",
       "      <td>-100</td>\n",
       "      <td>3</td>\n",
       "      <td>-1000</td>\n",
       "      <td>-13869</td>\n",
       "      <td>-100</td>\n",
       "      <td>10</td>\n",
       "      <td>-1000</td>\n",
       "      <td>-13899</td>\n",
       "      <td>False</td>\n",
       "      <td>False</td>\n",
       "      <td>False</td>\n",
       "      <td>False</td>\n",
       "      <td>False</td>\n",
       "      <td>0</td>\n",
       "      <td>0</td>\n",
       "      <td>0</td>\n",
       "      <td>0</td>\n",
       "      <td>0</td>\n",
       "      <td>not_route</td>\n",
       "      <td>0</td>\n",
       "      <td>0</td>\n",
       "      <td>0</td>\n",
       "      <td>3</td>\n",
       "      <td>3</td>\n",
       "      <td>not_route</td>\n",
       "      <td>not_route</td>\n",
       "    </tr>\n",
       "    <tr>\n",
       "      <th>1</th>\n",
       "      <td>0</td>\n",
       "      <td>2022-07-29 13:19:21</td>\n",
       "      <td>11</td>\n",
       "      <td>2022-07-29</td>\n",
       "      <td>13</td>\n",
       "      <td>799</td>\n",
       "      <td>47961</td>\n",
       "      <td>3</td>\n",
       "      <td>10144</td>\n",
       "      <td>29</td>\n",
       "      <td>30</td>\n",
       "      <td>4</td>\n",
       "      <td>False</td>\n",
       "      <td>afternoon</td>\n",
       "      <td>False</td>\n",
       "      <td>False</td>\n",
       "      <td>8</td>\n",
       "      <td>2</td>\n",
       "      <td>0.25</td>\n",
       "      <td>17</td>\n",
       "      <td>17</td>\n",
       "      <td>1.00</td>\n",
       "      <td>1</td>\n",
       "      <td>630</td>\n",
       "      <td>1126</td>\n",
       "      <td>496</td>\n",
       "      <td>3</td>\n",
       "      <td>4</td>\n",
       "      <td>496</td>\n",
       "      <td>1.00</td>\n",
       "      <td>6</td>\n",
       "      <td>-27</td>\n",
       "      <td>-100</td>\n",
       "      <td>7</td>\n",
       "      <td>-1000</td>\n",
       "      <td>-3654</td>\n",
       "      <td>-100</td>\n",
       "      <td>3</td>\n",
       "      <td>-1000</td>\n",
       "      <td>-3725</td>\n",
       "      <td>-100</td>\n",
       "      <td>10</td>\n",
       "      <td>-1000</td>\n",
       "      <td>-3755</td>\n",
       "      <td>-100</td>\n",
       "      <td>11</td>\n",
       "      <td>-1000</td>\n",
       "      <td>-19588</td>\n",
       "      <td>False</td>\n",
       "      <td>False</td>\n",
       "      <td>False</td>\n",
       "      <td>False</td>\n",
       "      <td>False</td>\n",
       "      <td>0</td>\n",
       "      <td>0</td>\n",
       "      <td>0</td>\n",
       "      <td>0</td>\n",
       "      <td>0</td>\n",
       "      <td>[3, 11]</td>\n",
       "      <td>10144</td>\n",
       "      <td>10144</td>\n",
       "      <td>10144</td>\n",
       "      <td>3</td>\n",
       "      <td>3</td>\n",
       "      <td>not_route</td>\n",
       "      <td>not_route</td>\n",
       "    </tr>\n",
       "    <tr>\n",
       "      <th>2</th>\n",
       "      <td>0</td>\n",
       "      <td>2022-07-29 13:19:48</td>\n",
       "      <td>6</td>\n",
       "      <td>2022-07-29</td>\n",
       "      <td>13</td>\n",
       "      <td>799</td>\n",
       "      <td>47988</td>\n",
       "      <td>11</td>\n",
       "      <td>27</td>\n",
       "      <td>29</td>\n",
       "      <td>30</td>\n",
       "      <td>4</td>\n",
       "      <td>False</td>\n",
       "      <td>afternoon</td>\n",
       "      <td>False</td>\n",
       "      <td>False</td>\n",
       "      <td>8</td>\n",
       "      <td>1</td>\n",
       "      <td>0.12</td>\n",
       "      <td>17</td>\n",
       "      <td>17</td>\n",
       "      <td>1.00</td>\n",
       "      <td>1</td>\n",
       "      <td>630</td>\n",
       "      <td>1126</td>\n",
       "      <td>496</td>\n",
       "      <td>3</td>\n",
       "      <td>4</td>\n",
       "      <td>496</td>\n",
       "      <td>1.00</td>\n",
       "      <td>7</td>\n",
       "      <td>-3627</td>\n",
       "      <td>3</td>\n",
       "      <td>3</td>\n",
       "      <td>10171</td>\n",
       "      <td>-3698</td>\n",
       "      <td>-100</td>\n",
       "      <td>10</td>\n",
       "      <td>-1000</td>\n",
       "      <td>-3728</td>\n",
       "      <td>-100</td>\n",
       "      <td>11</td>\n",
       "      <td>-1000</td>\n",
       "      <td>-19561</td>\n",
       "      <td>-100</td>\n",
       "      <td>4</td>\n",
       "      <td>-1000</td>\n",
       "      <td>-19589</td>\n",
       "      <td>False</td>\n",
       "      <td>False</td>\n",
       "      <td>False</td>\n",
       "      <td>False</td>\n",
       "      <td>False</td>\n",
       "      <td>0</td>\n",
       "      <td>0</td>\n",
       "      <td>0</td>\n",
       "      <td>0</td>\n",
       "      <td>0</td>\n",
       "      <td>[6, 11]</td>\n",
       "      <td>27</td>\n",
       "      <td>10171</td>\n",
       "      <td>27</td>\n",
       "      <td>3</td>\n",
       "      <td>3</td>\n",
       "      <td>not_route</td>\n",
       "      <td>not_route</td>\n",
       "    </tr>\n",
       "  </tbody>\n",
       "</table>\n",
       "</div>"
      ],
      "text/plain": [
       "   user_id                  ts  gate_id       date  hour  total_minutes  \\\n",
       "0        0 2022-07-29 10:30:17        3 2022-07-29    10            630   \n",
       "1        0 2022-07-29 13:19:21       11 2022-07-29    13            799   \n",
       "2        0 2022-07-29 13:19:48        6 2022-07-29    13            799   \n",
       "\n",
       "   total_seconds  gate_id_lag_1  sec_btw_lag_1  day_of_month  week_number  \\\n",
       "0          37817           -100          -1000            29           30   \n",
       "1          47961              3          10144            29           30   \n",
       "2          47988             11             27            29           30   \n",
       "\n",
       "   day_of_week  is_weekend time_of_day  is_month_start  is_month_end  \\\n",
       "0            4       False     morning           False         False   \n",
       "1            4       False   afternoon           False         False   \n",
       "2            4       False   afternoon           False         False   \n",
       "\n",
       "   pass_cnt_per_day  daily_gate_pass_count  probability_gate_id  \\\n",
       "0                 8                      2                 0.25   \n",
       "1                 8                      2                 0.25   \n",
       "2                 8                      1                 0.12   \n",
       "\n",
       "   cnt_users_per_day  cnt_users_per_week  daily_attendance_index  \\\n",
       "0                 17                  17                    1.00   \n",
       "1                 17                  17                    1.00   \n",
       "2                 17                  17                    1.00   \n",
       "\n",
       "   cnt_days_per_week  entry_time  exit_time  working_time_per_day  \\\n",
       "0                  1         630       1126                   496   \n",
       "1                  1         630       1126                   496   \n",
       "2                  1         630       1126                   496   \n",
       "\n",
       "   entrance_gate_id  exit_gate_id  working_time_per_week  \\\n",
       "0                 3             4                    496   \n",
       "1                 3             4                    496   \n",
       "2                 3             4                    496   \n",
       "\n",
       "   daily_workload_index  gate_id_1  sec_btw_1  gate_id_lag_2  gate_id_2  \\\n",
       "0                  1.00         11     -10144           -100          6   \n",
       "1                  1.00          6        -27           -100          7   \n",
       "2                  1.00          7      -3627              3          3   \n",
       "\n",
       "   sec_btw_lag_2  sec_btw_2  gate_id_lag_3  gate_id_3  sec_btw_lag_3  \\\n",
       "0          -1000     -10171           -100          7          -1000   \n",
       "1          -1000      -3654           -100          3          -1000   \n",
       "2          10171      -3698           -100         10          -1000   \n",
       "\n",
       "   sec_btw_3  gate_id_lag_4  gate_id_4  sec_btw_lag_4  sec_btw_4  \\\n",
       "0     -13798           -100          3          -1000     -13869   \n",
       "1      -3725           -100         10          -1000      -3755   \n",
       "2      -3728           -100         11          -1000     -19561   \n",
       "\n",
       "   gate_id_lag_5  gate_id_5  sec_btw_lag_5  sec_btw_5  repeat_gate_lt_5s  \\\n",
       "0           -100         10          -1000     -13899              False   \n",
       "1           -100         11          -1000     -19588              False   \n",
       "2           -100          4          -1000     -19589              False   \n",
       "\n",
       "   repeat_gate_btw_5_10s  repeat_gate_btw_10_15s  repeat_gate_btw_15_90s  \\\n",
       "0                  False                   False                   False   \n",
       "1                  False                   False                   False   \n",
       "2                  False                   False                   False   \n",
       "\n",
       "   repeat_gate_ge_90s  cnt_repeat_gate_lt_5s  cnt_repeat_gate_btw_5_10s  \\\n",
       "0               False                      0                          0   \n",
       "1               False                      0                          0   \n",
       "2               False                      0                          0   \n",
       "\n",
       "   cnt_repeat_gate_btw_10_15s  cnt_repeat_gate_btw_15_90s  \\\n",
       "0                           0                           0   \n",
       "1                           0                           0   \n",
       "2                           0                           0   \n",
       "\n",
       "   cnt_repeat_gate_ge_90s      route  temp_sec_btw_lag_1  cumtime_per_day  \\\n",
       "0                       0  not_route                   0                0   \n",
       "1                       0    [3, 11]               10144            10144   \n",
       "2                       0    [6, 11]                  27            10171   \n",
       "\n",
       "   cumtime_at_route_per_day  most_frequent_gate_per_day  \\\n",
       "0                         0                           3   \n",
       "1                     10144                           3   \n",
       "2                        27                           3   \n",
       "\n",
       "   most_frequent_gate_per_week most_frequent_route_per_day  \\\n",
       "0                            3                   not_route   \n",
       "1                            3                   not_route   \n",
       "2                            3                   not_route   \n",
       "\n",
       "  most_frequent_route_per_week  \n",
       "0                    not_route  \n",
       "1                    not_route  \n",
       "2                    not_route  "
      ]
     },
     "execution_count": 47,
     "metadata": {},
     "output_type": "execute_result"
    }
   ],
   "source": [
    "df_train = make_features(df_train)\n",
    "df_train.head(3)"
   ]
  },
  {
   "cell_type": "code",
   "execution_count": 48,
   "metadata": {},
   "outputs": [
    {
     "data": {
      "text/plain": [
       "(20074, 66)"
      ]
     },
     "execution_count": 48,
     "metadata": {},
     "output_type": "execute_result"
    }
   ],
   "source": [
    "df_train.shape"
   ]
  },
  {
   "cell_type": "code",
   "execution_count": 49,
   "metadata": {},
   "outputs": [
    {
     "data": {
      "text/html": [
       "<div>\n",
       "<style scoped>\n",
       "    .dataframe tbody tr th:only-of-type {\n",
       "        vertical-align: middle;\n",
       "    }\n",
       "\n",
       "    .dataframe tbody tr th {\n",
       "        vertical-align: top;\n",
       "    }\n",
       "\n",
       "    .dataframe thead th {\n",
       "        text-align: right;\n",
       "    }\n",
       "</style>\n",
       "<table border=\"1\" class=\"dataframe\">\n",
       "  <thead>\n",
       "    <tr style=\"text-align: right;\">\n",
       "      <th></th>\n",
       "      <th>ts</th>\n",
       "      <th>gate_id</th>\n",
       "      <th>user_id</th>\n",
       "      <th>date</th>\n",
       "      <th>hour</th>\n",
       "      <th>total_minutes</th>\n",
       "      <th>total_seconds</th>\n",
       "      <th>gate_id_lag_1</th>\n",
       "      <th>sec_btw_lag_1</th>\n",
       "      <th>day_of_month</th>\n",
       "      <th>week_number</th>\n",
       "      <th>day_of_week</th>\n",
       "      <th>is_weekend</th>\n",
       "      <th>time_of_day</th>\n",
       "      <th>is_month_start</th>\n",
       "      <th>is_month_end</th>\n",
       "      <th>pass_cnt_per_day</th>\n",
       "      <th>daily_gate_pass_count</th>\n",
       "      <th>probability_gate_id</th>\n",
       "      <th>cnt_users_per_day</th>\n",
       "      <th>cnt_users_per_week</th>\n",
       "      <th>daily_attendance_index</th>\n",
       "      <th>cnt_days_per_week</th>\n",
       "      <th>entry_time</th>\n",
       "      <th>exit_time</th>\n",
       "      <th>working_time_per_day</th>\n",
       "      <th>entrance_gate_id</th>\n",
       "      <th>exit_gate_id</th>\n",
       "      <th>working_time_per_week</th>\n",
       "      <th>daily_workload_index</th>\n",
       "      <th>gate_id_1</th>\n",
       "      <th>sec_btw_1</th>\n",
       "      <th>gate_id_lag_2</th>\n",
       "      <th>gate_id_2</th>\n",
       "      <th>sec_btw_lag_2</th>\n",
       "      <th>sec_btw_2</th>\n",
       "      <th>gate_id_lag_3</th>\n",
       "      <th>gate_id_3</th>\n",
       "      <th>sec_btw_lag_3</th>\n",
       "      <th>sec_btw_3</th>\n",
       "      <th>gate_id_lag_4</th>\n",
       "      <th>gate_id_4</th>\n",
       "      <th>sec_btw_lag_4</th>\n",
       "      <th>sec_btw_4</th>\n",
       "      <th>gate_id_lag_5</th>\n",
       "      <th>gate_id_5</th>\n",
       "      <th>sec_btw_lag_5</th>\n",
       "      <th>sec_btw_5</th>\n",
       "      <th>repeat_gate_lt_5s</th>\n",
       "      <th>repeat_gate_btw_5_10s</th>\n",
       "      <th>repeat_gate_btw_10_15s</th>\n",
       "      <th>repeat_gate_btw_15_90s</th>\n",
       "      <th>repeat_gate_ge_90s</th>\n",
       "      <th>cnt_repeat_gate_lt_5s</th>\n",
       "      <th>cnt_repeat_gate_btw_5_10s</th>\n",
       "      <th>cnt_repeat_gate_btw_10_15s</th>\n",
       "      <th>cnt_repeat_gate_btw_15_90s</th>\n",
       "      <th>cnt_repeat_gate_ge_90s</th>\n",
       "      <th>route</th>\n",
       "      <th>temp_sec_btw_lag_1</th>\n",
       "      <th>cumtime_per_day</th>\n",
       "      <th>cumtime_at_route_per_day</th>\n",
       "      <th>most_frequent_gate_per_day</th>\n",
       "      <th>most_frequent_gate_per_week</th>\n",
       "      <th>most_frequent_route_per_day</th>\n",
       "      <th>most_frequent_route_per_week</th>\n",
       "    </tr>\n",
       "  </thead>\n",
       "  <tbody>\n",
       "    <tr>\n",
       "      <th>0</th>\n",
       "      <td>2023-01-04 11:07:00</td>\n",
       "      <td>15</td>\n",
       "      <td>aucroc</td>\n",
       "      <td>2023-01-04</td>\n",
       "      <td>11</td>\n",
       "      <td>667</td>\n",
       "      <td>40020</td>\n",
       "      <td>-100</td>\n",
       "      <td>-1000</td>\n",
       "      <td>4</td>\n",
       "      <td>1</td>\n",
       "      <td>2</td>\n",
       "      <td>False</td>\n",
       "      <td>morning</td>\n",
       "      <td>False</td>\n",
       "      <td>False</td>\n",
       "      <td>7</td>\n",
       "      <td>2</td>\n",
       "      <td>0.29</td>\n",
       "      <td>21</td>\n",
       "      <td>27</td>\n",
       "      <td>0.78</td>\n",
       "      <td>2</td>\n",
       "      <td>667</td>\n",
       "      <td>1103</td>\n",
       "      <td>436</td>\n",
       "      <td>15</td>\n",
       "      <td>15</td>\n",
       "      <td>632</td>\n",
       "      <td>0.69</td>\n",
       "      <td>9</td>\n",
       "      <td>-164</td>\n",
       "      <td>-100</td>\n",
       "      <td>5</td>\n",
       "      <td>-1000</td>\n",
       "      <td>-174</td>\n",
       "      <td>-100</td>\n",
       "      <td>10</td>\n",
       "      <td>-1000</td>\n",
       "      <td>-192</td>\n",
       "      <td>-100</td>\n",
       "      <td>11</td>\n",
       "      <td>-1000</td>\n",
       "      <td>-25885</td>\n",
       "      <td>-100</td>\n",
       "      <td>4</td>\n",
       "      <td>-1000</td>\n",
       "      <td>-25910</td>\n",
       "      <td>False</td>\n",
       "      <td>False</td>\n",
       "      <td>False</td>\n",
       "      <td>False</td>\n",
       "      <td>False</td>\n",
       "      <td>0</td>\n",
       "      <td>0</td>\n",
       "      <td>0</td>\n",
       "      <td>0</td>\n",
       "      <td>0</td>\n",
       "      <td>not_route</td>\n",
       "      <td>0</td>\n",
       "      <td>0</td>\n",
       "      <td>0</td>\n",
       "      <td>15</td>\n",
       "      <td>15</td>\n",
       "      <td>not_route</td>\n",
       "      <td>not_route</td>\n",
       "    </tr>\n",
       "    <tr>\n",
       "      <th>1</th>\n",
       "      <td>2023-01-04 11:09:44</td>\n",
       "      <td>9</td>\n",
       "      <td>aucroc</td>\n",
       "      <td>2023-01-04</td>\n",
       "      <td>11</td>\n",
       "      <td>669</td>\n",
       "      <td>40184</td>\n",
       "      <td>15</td>\n",
       "      <td>164</td>\n",
       "      <td>4</td>\n",
       "      <td>1</td>\n",
       "      <td>2</td>\n",
       "      <td>False</td>\n",
       "      <td>morning</td>\n",
       "      <td>False</td>\n",
       "      <td>False</td>\n",
       "      <td>7</td>\n",
       "      <td>1</td>\n",
       "      <td>0.14</td>\n",
       "      <td>21</td>\n",
       "      <td>27</td>\n",
       "      <td>0.78</td>\n",
       "      <td>2</td>\n",
       "      <td>667</td>\n",
       "      <td>1103</td>\n",
       "      <td>436</td>\n",
       "      <td>15</td>\n",
       "      <td>15</td>\n",
       "      <td>632</td>\n",
       "      <td>0.69</td>\n",
       "      <td>5</td>\n",
       "      <td>-10</td>\n",
       "      <td>-100</td>\n",
       "      <td>10</td>\n",
       "      <td>-1000</td>\n",
       "      <td>-28</td>\n",
       "      <td>-100</td>\n",
       "      <td>11</td>\n",
       "      <td>-1000</td>\n",
       "      <td>-25721</td>\n",
       "      <td>-100</td>\n",
       "      <td>4</td>\n",
       "      <td>-1000</td>\n",
       "      <td>-25746</td>\n",
       "      <td>-100</td>\n",
       "      <td>15</td>\n",
       "      <td>-1000</td>\n",
       "      <td>-26000</td>\n",
       "      <td>False</td>\n",
       "      <td>False</td>\n",
       "      <td>False</td>\n",
       "      <td>False</td>\n",
       "      <td>False</td>\n",
       "      <td>0</td>\n",
       "      <td>0</td>\n",
       "      <td>0</td>\n",
       "      <td>0</td>\n",
       "      <td>0</td>\n",
       "      <td>[9, 15]</td>\n",
       "      <td>164</td>\n",
       "      <td>164</td>\n",
       "      <td>164</td>\n",
       "      <td>15</td>\n",
       "      <td>15</td>\n",
       "      <td>not_route</td>\n",
       "      <td>not_route</td>\n",
       "    </tr>\n",
       "    <tr>\n",
       "      <th>2</th>\n",
       "      <td>2023-01-04 11:09:54</td>\n",
       "      <td>5</td>\n",
       "      <td>aucroc</td>\n",
       "      <td>2023-01-04</td>\n",
       "      <td>11</td>\n",
       "      <td>669</td>\n",
       "      <td>40194</td>\n",
       "      <td>9</td>\n",
       "      <td>10</td>\n",
       "      <td>4</td>\n",
       "      <td>1</td>\n",
       "      <td>2</td>\n",
       "      <td>False</td>\n",
       "      <td>morning</td>\n",
       "      <td>False</td>\n",
       "      <td>False</td>\n",
       "      <td>7</td>\n",
       "      <td>1</td>\n",
       "      <td>0.14</td>\n",
       "      <td>21</td>\n",
       "      <td>27</td>\n",
       "      <td>0.78</td>\n",
       "      <td>2</td>\n",
       "      <td>667</td>\n",
       "      <td>1103</td>\n",
       "      <td>436</td>\n",
       "      <td>15</td>\n",
       "      <td>15</td>\n",
       "      <td>632</td>\n",
       "      <td>0.69</td>\n",
       "      <td>10</td>\n",
       "      <td>-18</td>\n",
       "      <td>15</td>\n",
       "      <td>11</td>\n",
       "      <td>174</td>\n",
       "      <td>-25711</td>\n",
       "      <td>-100</td>\n",
       "      <td>4</td>\n",
       "      <td>-1000</td>\n",
       "      <td>-25736</td>\n",
       "      <td>-100</td>\n",
       "      <td>15</td>\n",
       "      <td>-1000</td>\n",
       "      <td>-25990</td>\n",
       "      <td>-100</td>\n",
       "      <td>-200</td>\n",
       "      <td>-1000</td>\n",
       "      <td>1000</td>\n",
       "      <td>False</td>\n",
       "      <td>False</td>\n",
       "      <td>False</td>\n",
       "      <td>False</td>\n",
       "      <td>False</td>\n",
       "      <td>0</td>\n",
       "      <td>0</td>\n",
       "      <td>0</td>\n",
       "      <td>0</td>\n",
       "      <td>0</td>\n",
       "      <td>[5, 9]</td>\n",
       "      <td>10</td>\n",
       "      <td>174</td>\n",
       "      <td>10</td>\n",
       "      <td>15</td>\n",
       "      <td>15</td>\n",
       "      <td>not_route</td>\n",
       "      <td>not_route</td>\n",
       "    </tr>\n",
       "  </tbody>\n",
       "</table>\n",
       "</div>"
      ],
      "text/plain": [
       "                   ts  gate_id user_id       date  hour  total_minutes  \\\n",
       "0 2023-01-04 11:07:00       15  aucroc 2023-01-04    11            667   \n",
       "1 2023-01-04 11:09:44        9  aucroc 2023-01-04    11            669   \n",
       "2 2023-01-04 11:09:54        5  aucroc 2023-01-04    11            669   \n",
       "\n",
       "   total_seconds  gate_id_lag_1  sec_btw_lag_1  day_of_month  week_number  \\\n",
       "0          40020           -100          -1000             4            1   \n",
       "1          40184             15            164             4            1   \n",
       "2          40194              9             10             4            1   \n",
       "\n",
       "   day_of_week  is_weekend time_of_day  is_month_start  is_month_end  \\\n",
       "0            2       False     morning           False         False   \n",
       "1            2       False     morning           False         False   \n",
       "2            2       False     morning           False         False   \n",
       "\n",
       "   pass_cnt_per_day  daily_gate_pass_count  probability_gate_id  \\\n",
       "0                 7                      2                 0.29   \n",
       "1                 7                      1                 0.14   \n",
       "2                 7                      1                 0.14   \n",
       "\n",
       "   cnt_users_per_day  cnt_users_per_week  daily_attendance_index  \\\n",
       "0                 21                  27                    0.78   \n",
       "1                 21                  27                    0.78   \n",
       "2                 21                  27                    0.78   \n",
       "\n",
       "   cnt_days_per_week  entry_time  exit_time  working_time_per_day  \\\n",
       "0                  2         667       1103                   436   \n",
       "1                  2         667       1103                   436   \n",
       "2                  2         667       1103                   436   \n",
       "\n",
       "   entrance_gate_id  exit_gate_id  working_time_per_week  \\\n",
       "0                15            15                    632   \n",
       "1                15            15                    632   \n",
       "2                15            15                    632   \n",
       "\n",
       "   daily_workload_index  gate_id_1  sec_btw_1  gate_id_lag_2  gate_id_2  \\\n",
       "0                  0.69          9       -164           -100          5   \n",
       "1                  0.69          5        -10           -100         10   \n",
       "2                  0.69         10        -18             15         11   \n",
       "\n",
       "   sec_btw_lag_2  sec_btw_2  gate_id_lag_3  gate_id_3  sec_btw_lag_3  \\\n",
       "0          -1000       -174           -100         10          -1000   \n",
       "1          -1000        -28           -100         11          -1000   \n",
       "2            174     -25711           -100          4          -1000   \n",
       "\n",
       "   sec_btw_3  gate_id_lag_4  gate_id_4  sec_btw_lag_4  sec_btw_4  \\\n",
       "0       -192           -100         11          -1000     -25885   \n",
       "1     -25721           -100          4          -1000     -25746   \n",
       "2     -25736           -100         15          -1000     -25990   \n",
       "\n",
       "   gate_id_lag_5  gate_id_5  sec_btw_lag_5  sec_btw_5  repeat_gate_lt_5s  \\\n",
       "0           -100          4          -1000     -25910              False   \n",
       "1           -100         15          -1000     -26000              False   \n",
       "2           -100       -200          -1000       1000              False   \n",
       "\n",
       "   repeat_gate_btw_5_10s  repeat_gate_btw_10_15s  repeat_gate_btw_15_90s  \\\n",
       "0                  False                   False                   False   \n",
       "1                  False                   False                   False   \n",
       "2                  False                   False                   False   \n",
       "\n",
       "   repeat_gate_ge_90s  cnt_repeat_gate_lt_5s  cnt_repeat_gate_btw_5_10s  \\\n",
       "0               False                      0                          0   \n",
       "1               False                      0                          0   \n",
       "2               False                      0                          0   \n",
       "\n",
       "   cnt_repeat_gate_btw_10_15s  cnt_repeat_gate_btw_15_90s  \\\n",
       "0                           0                           0   \n",
       "1                           0                           0   \n",
       "2                           0                           0   \n",
       "\n",
       "   cnt_repeat_gate_ge_90s      route  temp_sec_btw_lag_1  cumtime_per_day  \\\n",
       "0                       0  not_route                   0                0   \n",
       "1                       0    [9, 15]                 164              164   \n",
       "2                       0     [5, 9]                  10              174   \n",
       "\n",
       "   cumtime_at_route_per_day  most_frequent_gate_per_day  \\\n",
       "0                         0                          15   \n",
       "1                       164                          15   \n",
       "2                        10                          15   \n",
       "\n",
       "   most_frequent_gate_per_week most_frequent_route_per_day  \\\n",
       "0                           15                   not_route   \n",
       "1                           15                   not_route   \n",
       "2                           15                   not_route   \n",
       "\n",
       "  most_frequent_route_per_week  \n",
       "0                    not_route  \n",
       "1                    not_route  \n",
       "2                    not_route  "
      ]
     },
     "execution_count": 49,
     "metadata": {},
     "output_type": "execute_result"
    }
   ],
   "source": [
    "df_test = make_features(df_test)\n",
    "# df_test = df_test.rename(columns={'user_id': 'user_word'})\n",
    "df_test.head(3)"
   ]
  },
  {
   "cell_type": "code",
   "execution_count": 50,
   "metadata": {},
   "outputs": [
    {
     "data": {
      "text/plain": [
       "(4751, 66)"
      ]
     },
     "execution_count": 50,
     "metadata": {},
     "output_type": "execute_result"
    }
   ],
   "source": [
    "df_test.shape"
   ]
  },
  {
   "cell_type": "code",
   "execution_count": 51,
   "metadata": {},
   "outputs": [
    {
     "data": {
      "text/plain": [
       "route\n",
       "[10, 11]     2885\n",
       "[4, 11]      2745\n",
       "not_route    2033\n",
       "[3, 10]      1779\n",
       "[5, 10]      1530\n",
       "[3, 7]       1352\n",
       "[5, 9]        861\n",
       "[4, 7]        785\n",
       "[4, 9]        550\n",
       "[5, 7]        526\n",
       "[7, 9]        519\n",
       "[6, 11]       420\n",
       "[4, 5]        399\n",
       "[10, 13]      391\n",
       "[4, 10]       366\n",
       "[3, 4]        334\n",
       "[10, 10]      324\n",
       "[12, 13]      230\n",
       "[5, 11]       223\n",
       "[3, 11]       191\n",
       "[6, 10]       191\n",
       "[6, 9]        160\n",
       "[3, 6]        153\n",
       "[6, 7]        148\n",
       "[9, 15]       145\n",
       "[4, 15]       104\n",
       "[11, 12]      104\n",
       "[5, 6]        101\n",
       "[11, 13]       66\n",
       "[10, 12]       58\n",
       "[11, 11]       56\n",
       "[3, 15]        33\n",
       "[4, 4]         29\n",
       "[13, 13]       27\n",
       "[3, 13]        25\n",
       "[5, 5]         23\n",
       "[5, 13]        21\n",
       "[3, 3]         21\n",
       "[4, 12]        17\n",
       "[7, 7]         17\n",
       "[15, 15]       16\n",
       "[4, 8]         14\n",
       "[4, 13]        14\n",
       "[5, 15]        13\n",
       "[3, 9]         13\n",
       "[6, 13]         7\n",
       "[6, 12]         7\n",
       "[7, 15]         7\n",
       "[3, 5]          7\n",
       "[12, 12]        6\n",
       "[5, 8]          5\n",
       "[3, 8]          5\n",
       "[9, 9]          4\n",
       "[4, 6]          2\n",
       "[5, 12]         2\n",
       "[6, 6]          2\n",
       "[8, 9]          2\n",
       "[3, 12]         2\n",
       "[9, 10]         1\n",
       "[7, 11]         1\n",
       "[8, 15]         1\n",
       "[6, 8]          1\n",
       "Name: count, dtype: int64"
      ]
     },
     "execution_count": 51,
     "metadata": {},
     "output_type": "execute_result"
    }
   ],
   "source": [
    "df_train['route'].value_counts()"
   ]
  },
  {
   "cell_type": "code",
   "execution_count": 52,
   "metadata": {},
   "outputs": [
    {
     "data": {
      "text/plain": [
       "route\n",
       "[10, 11]    9,315.04\n",
       "[4, 10]     1,083.01\n",
       "[5, 11]       694.11\n",
       "[6, 10]       599.23\n",
       "[3, 11]       588.27\n",
       "[4, 7]        509.73\n",
       "[10, 10]      476.03\n",
       "[10, 13]      417.72\n",
       "[4, 5]        324.99\n",
       "[3, 4]        263.60\n",
       "[12, 13]      108.65\n",
       "[10, 12]      103.32\n",
       "[5, 6]         97.81\n",
       "[3, 6]         97.45\n",
       "[11, 12]       92.51\n",
       "[6, 7]         88.02\n",
       "[11, 13]       88.02\n",
       "[5, 10]        57.59\n",
       "[13, 13]       40.50\n",
       "[11, 11]       40.32\n",
       "[4, 12]        32.94\n",
       "[3, 13]        30.97\n",
       "[3, 10]        30.85\n",
       "[5, 13]        29.56\n",
       "[4, 11]        25.93\n",
       "[7, 9]         23.96\n",
       "[3, 7]         23.03\n",
       "[4, 13]        22.52\n",
       "[15, 15]       19.97\n",
       "[6, 12]        12.99\n",
       "[9, 15]        10.67\n",
       "[6, 11]        10.67\n",
       "[6, 13]        10.02\n",
       "[5, 7]         10.00\n",
       "[4, 15]         7.03\n",
       "[7, 15]         6.48\n",
       "[12, 12]        6.14\n",
       "[5, 9]          4.87\n",
       "[4, 9]          4.40\n",
       "[3, 15]         3.05\n",
       "[9, 9]          2.96\n",
       "[3, 12]         2.85\n",
       "[7, 7]          2.38\n",
       "[5, 15]         2.13\n",
       "[3, 5]          2.05\n",
       "[6, 9]          1.82\n",
       "[4, 8]          1.09\n",
       "[4, 4]          0.81\n",
       "[5, 12]         0.22\n",
       "[7, 11]         0.14\n",
       "[9, 10]         0.14\n",
       "[3, 9]          0.12\n",
       "[8, 15]         0.06\n",
       "[5, 8]          0.05\n",
       "[3, 8]          0.03\n",
       "[3, 3]          0.03\n",
       "[5, 5]          0.03\n",
       "[8, 9]          0.01\n",
       "[6, 8]          0.01\n",
       "[4, 6]          0.01\n",
       "[6, 6]          0.00\n",
       "not_route       0.00\n",
       "Name: temp_sec_btw_lag_1, dtype: float64"
      ]
     },
     "execution_count": 52,
     "metadata": {},
     "output_type": "execute_result"
    }
   ],
   "source": [
    "df_train.groupby('route')['temp_sec_btw_lag_1'].sum().sort_values(ascending=False)/3600"
   ]
  },
  {
   "cell_type": "code",
   "execution_count": 53,
   "metadata": {},
   "outputs": [
    {
     "data": {
      "text/plain": [
       "0"
      ]
     },
     "execution_count": 53,
     "metadata": {},
     "output_type": "execute_result"
    }
   ],
   "source": [
    "df_train.isna().sum().sum()"
   ]
  },
  {
   "cell_type": "code",
   "execution_count": 54,
   "metadata": {},
   "outputs": [
    {
     "data": {
      "text/plain": [
       "0"
      ]
     },
     "execution_count": 54,
     "metadata": {},
     "output_type": "execute_result"
    }
   ],
   "source": [
    "df_test.isna().sum().sum()"
   ]
  },
  {
   "cell_type": "markdown",
   "metadata": {},
   "source": [
    "# Исследовательский анализ данных"
   ]
  },
  {
   "cell_type": "code",
   "execution_count": 55,
   "metadata": {},
   "outputs": [],
   "source": [
    "week_counts_train = df_train['week_number'].value_counts().sort_index().reset_index()"
   ]
  },
  {
   "cell_type": "code",
   "execution_count": 56,
   "metadata": {},
   "outputs": [
    {
     "data": {
      "image/png": "[encoded data removed]",
      "text/plain": [
       "<Figure size 1500x300 with 1 Axes>"
      ]
     },
     "metadata": {},
     "output_type": "display_data"
    }
   ],
   "source": [
    "plt.figure(figsize=(15, 3))\n",
    "sns.barplot(x='week_number', y='count', data=week_counts_train, color='purple')\n",
    "plt.title('Количество проходов через турникеты в неделю (train)')\n",
    "plt.xlabel('Номер недели')\n",
    "plt.ylabel('Количество')\n",
    "plt.tight_layout()"
   ]
  },
  {
   "cell_type": "code",
   "execution_count": 57,
   "metadata": {},
   "outputs": [
    {
     "data": {
      "text/plain": [
       "3"
      ]
     },
     "execution_count": 57,
     "metadata": {},
     "output_type": "execute_result"
    }
   ],
   "source": [
    "df_train.loc[df_train['week_number'] == 30, 'date'].nunique()"
   ]
  },
  {
   "cell_type": "code",
   "execution_count": 58,
   "metadata": {},
   "outputs": [
    {
     "data": {
      "text/plain": [
       "3"
      ]
     },
     "execution_count": 58,
     "metadata": {},
     "output_type": "execute_result"
    }
   ],
   "source": [
    "df_train.loc[df_train['week_number'] == 45, 'date'].nunique()"
   ]
  },
  {
   "cell_type": "code",
   "execution_count": 59,
   "metadata": {},
   "outputs": [
    {
     "data": {
      "text/plain": [
       "array([ 0,  1,  6, 12, 14, 15, 17, 32, 35, 37, 46, 49, 50, 54],\n",
       "      dtype=int64)"
      ]
     },
     "execution_count": 59,
     "metadata": {},
     "output_type": "execute_result"
    }
   ],
   "source": [
    "df_train.loc[df_train['week_number'] == 45, 'user_id'].unique()"
   ]
  },
  {
   "cell_type": "markdown",
   "metadata": {},
   "source": [
    "Мы видим, что 30 неделя - неполная. Поскольку при генерировании признаков мы использовали агрегацию по номеру недели, удалим данные за 30 неделю из тренировочной выборки."
   ]
  },
  {
   "cell_type": "code",
   "execution_count": 60,
   "metadata": {},
   "outputs": [
    {
     "data": {
      "text/plain": [
       "(20074, 66)"
      ]
     },
     "execution_count": 60,
     "metadata": {},
     "output_type": "execute_result"
    }
   ],
   "source": [
    "df_train.shape"
   ]
  },
  {
   "cell_type": "code",
   "execution_count": 61,
   "metadata": {},
   "outputs": [
    {
     "data": {
      "text/plain": [
       "(19673, 66)"
      ]
     },
     "execution_count": 61,
     "metadata": {},
     "output_type": "execute_result"
    }
   ],
   "source": [
    "df_train = df_train.query('week_number > 30 and week_number != 45').reset_index(drop=True)\n",
    "df_train.shape"
   ]
  },
  {
   "cell_type": "code",
   "execution_count": 62,
   "metadata": {},
   "outputs": [],
   "source": [
    "# df_train = df_train.query('week_number > 30').reset_index(drop=True)\n",
    "# df_train.shape"
   ]
  },
  {
   "cell_type": "code",
   "execution_count": 63,
   "metadata": {},
   "outputs": [
    {
     "data": {
      "text/plain": [
       "34"
      ]
     },
     "execution_count": 63,
     "metadata": {},
     "output_type": "execute_result"
    }
   ],
   "source": [
    "df_train['user_id'].nunique()"
   ]
  },
  {
   "cell_type": "code",
   "execution_count": 64,
   "metadata": {},
   "outputs": [],
   "source": [
    "week_counts_test = df_test['week_number'].value_counts().sort_index().reset_index()"
   ]
  },
  {
   "cell_type": "code",
   "execution_count": 65,
   "metadata": {},
   "outputs": [
    {
     "data": {
      "image/png": "[encoded data removed]",
      "text/plain": [
       "<Figure size 600x300 with 1 Axes>"
      ]
     },
     "metadata": {},
     "output_type": "display_data"
    }
   ],
   "source": [
    "plt.figure(figsize=(6, 3))\n",
    "sns.barplot(x='week_number', y='count', data=week_counts_test, color='purple')\n",
    "plt.title('Количество проходов через турникеты в неделю (test)')\n",
    "plt.xlabel('Номер недели')\n",
    "plt.ylabel('Количество')\n",
    "plt.tight_layout()"
   ]
  },
  {
   "cell_type": "code",
   "execution_count": 66,
   "metadata": {},
   "outputs": [
    {
     "data": {
      "text/plain": [
       "5"
      ]
     },
     "execution_count": 66,
     "metadata": {},
     "output_type": "execute_result"
    }
   ],
   "source": [
    "df_test.loc[df_test['week_number'] == 1, 'date'].nunique()"
   ]
  },
  {
   "cell_type": "code",
   "execution_count": 67,
   "metadata": {},
   "outputs": [
    {
     "data": {
      "text/plain": [
       "5"
      ]
     },
     "execution_count": 67,
     "metadata": {},
     "output_type": "execute_result"
    }
   ],
   "source": [
    "df_test.loc[df_test['week_number'] == 8, 'date'].nunique()"
   ]
  },
  {
   "cell_type": "code",
   "execution_count": 68,
   "metadata": {},
   "outputs": [
    {
     "data": {
      "text/plain": [
       "20"
      ]
     },
     "execution_count": 68,
     "metadata": {},
     "output_type": "execute_result"
    }
   ],
   "source": [
    "df_test.query('week_number >= 6')['user_id'].nunique()"
   ]
  },
  {
   "cell_type": "markdown",
   "metadata": {},
   "source": [
    "Удалим из тестовой выборки данные с 6 по 8 неделю, поскольку в этот период была маленькая активность."
   ]
  },
  {
   "cell_type": "code",
   "execution_count": 69,
   "metadata": {},
   "outputs": [
    {
     "data": {
      "text/plain": [
       "(4751, 66)"
      ]
     },
     "execution_count": 69,
     "metadata": {},
     "output_type": "execute_result"
    }
   ],
   "source": [
    "df_test.shape"
   ]
  },
  {
   "cell_type": "code",
   "execution_count": 70,
   "metadata": {},
   "outputs": [
    {
     "data": {
      "text/plain": [
       "(4315, 66)"
      ]
     },
     "execution_count": 70,
     "metadata": {},
     "output_type": "execute_result"
    }
   ],
   "source": [
    "df_test = df_test.query('week_number < 6').reset_index(drop=True)\n",
    "df_test.shape"
   ]
  },
  {
   "cell_type": "code",
   "execution_count": 71,
   "metadata": {},
   "outputs": [
    {
     "data": {
      "text/plain": [
       "34"
      ]
     },
     "execution_count": 71,
     "metadata": {},
     "output_type": "execute_result"
    }
   ],
   "source": [
    "df_test['user_id'].nunique()"
   ]
  },
  {
   "cell_type": "code",
   "execution_count": null,
   "metadata": {},
   "outputs": [],
   "source": []
  },
  {
   "cell_type": "code",
   "execution_count": 72,
   "metadata": {},
   "outputs": [
    {
     "data": {
      "text/plain": [
       "user_id\n",
       "37   0.08\n",
       "55   0.08\n",
       "12   0.07\n",
       "6    0.07\n",
       "15   0.06\n",
       "19   0.06\n",
       "1    0.04\n",
       "33   0.04\n",
       "11   0.04\n",
       "0    0.04\n",
       "49   0.04\n",
       "9    0.04\n",
       "39   0.04\n",
       "32   0.04\n",
       "54   0.04\n",
       "50   0.03\n",
       "3    0.03\n",
       "29   0.03\n",
       "14   0.02\n",
       "17   0.02\n",
       "35   0.02\n",
       "46   0.01\n",
       "24   0.01\n",
       "26   0.01\n",
       "23   0.01\n",
       "25   0.01\n",
       "43   0.00\n",
       "41   0.00\n",
       "56   0.00\n",
       "22   0.00\n",
       "36   0.00\n",
       "2    0.00\n",
       "8    0.00\n",
       "30   0.00\n",
       "Name: proportion, dtype: float64"
      ]
     },
     "execution_count": 72,
     "metadata": {},
     "output_type": "execute_result"
    }
   ],
   "source": [
    "# посмотрим распределение классов зависимой переменной\n",
    "df_train['user_id'].value_counts(normalize=True)"
   ]
  },
  {
   "cell_type": "code",
   "execution_count": 73,
   "metadata": {},
   "outputs": [
    {
     "data": {
      "text/plain": [
       "user_id\n",
       "37    1509\n",
       "55    1480\n",
       "12    1303\n",
       "6     1280\n",
       "15    1144\n",
       "19    1140\n",
       "1      851\n",
       "33     837\n",
       "11     832\n",
       "0      824\n",
       "49     818\n",
       "9      767\n",
       "39     747\n",
       "32     737\n",
       "54     693\n",
       "50     658\n",
       "3      643\n",
       "29     634\n",
       "14     467\n",
       "17     453\n",
       "35     399\n",
       "46     294\n",
       "24     274\n",
       "26     193\n",
       "23     170\n",
       "25     151\n",
       "43      81\n",
       "41      80\n",
       "56      74\n",
       "22      61\n",
       "36      27\n",
       "2       27\n",
       "8       19\n",
       "30       6\n",
       "Name: count, dtype: int64"
      ]
     },
     "execution_count": 73,
     "metadata": {},
     "output_type": "execute_result"
    }
   ],
   "source": [
    "df_train['user_id'].value_counts()"
   ]
  },
  {
   "cell_type": "code",
   "execution_count": 74,
   "metadata": {},
   "outputs": [
    {
     "data": {
      "text/plain": [
       "user_id\n",
       "f1             0.11\n",
       "loss           0.07\n",
       "sigmoid        0.07\n",
       "binary         0.05\n",
       "epsilon        0.05\n",
       "significant    0.04\n",
       "collinear      0.04\n",
       "x              0.04\n",
       "independent    0.04\n",
       "residual       0.04\n",
       "linear         0.03\n",
       "gini           0.03\n",
       "fit            0.03\n",
       "predict        0.03\n",
       "pvalue         0.03\n",
       "recall         0.03\n",
       "r2             0.03\n",
       "categorical    0.03\n",
       "ridge          0.02\n",
       "tstat          0.02\n",
       "ols            0.02\n",
       "matrix         0.02\n",
       "distributed    0.02\n",
       "target         0.02\n",
       "minimization   0.02\n",
       "mse            0.01\n",
       "coefficient    0.01\n",
       "y              0.01\n",
       "regression     0.01\n",
       "aucroc         0.01\n",
       "precision      0.01\n",
       "lasso          0.00\n",
       "blue           0.00\n",
       "logistic       0.00\n",
       "Name: proportion, dtype: float64"
      ]
     },
     "execution_count": 74,
     "metadata": {},
     "output_type": "execute_result"
    }
   ],
   "source": [
    "df_test['user_id'].value_counts(normalize=True)"
   ]
  },
  {
   "cell_type": "code",
   "execution_count": 75,
   "metadata": {},
   "outputs": [
    {
     "data": {
      "text/plain": [
       "user_id\n",
       "f1              456\n",
       "loss            309\n",
       "sigmoid         281\n",
       "binary          236\n",
       "epsilon         220\n",
       "significant     192\n",
       "collinear       189\n",
       "x               187\n",
       "independent     175\n",
       "residual        157\n",
       "linear          142\n",
       "gini            139\n",
       "fit             134\n",
       "predict         133\n",
       "pvalue          129\n",
       "recall          128\n",
       "r2              126\n",
       "categorical     124\n",
       "ridge           106\n",
       "tstat            99\n",
       "ols              95\n",
       "matrix           93\n",
       "distributed      81\n",
       "target           70\n",
       "minimization     66\n",
       "mse              63\n",
       "coefficient      41\n",
       "y                30\n",
       "regression       30\n",
       "aucroc           27\n",
       "precision        26\n",
       "lasso            20\n",
       "blue              8\n",
       "logistic          3\n",
       "Name: count, dtype: int64"
      ]
     },
     "execution_count": 75,
     "metadata": {},
     "output_type": "execute_result"
    }
   ],
   "source": [
    "df_test['user_id'].value_counts()"
   ]
  },
  {
   "cell_type": "code",
   "execution_count": null,
   "metadata": {},
   "outputs": [],
   "source": []
  },
  {
   "cell_type": "code",
   "execution_count": 76,
   "metadata": {},
   "outputs": [],
   "source": [
    "df_train = df_train.sort_values('ts').reset_index(drop=True)\n",
    "df_test = df_test.sort_values('ts').reset_index(drop=True)"
   ]
  },
  {
   "cell_type": "code",
   "execution_count": 77,
   "metadata": {},
   "outputs": [],
   "source": [
    "# удаление вспомогательных признаков\n",
    "df_train = df_train.drop(['ts', 'date', 'week_number', 'exit_time', 'temp_sec_btw_lag_1'], axis=1)\n",
    "df_test = df_test.drop(['ts', 'date', 'week_number', 'exit_time', 'temp_sec_btw_lag_1'], axis=1)"
   ]
  },
  {
   "cell_type": "code",
   "execution_count": 78,
   "metadata": {},
   "outputs": [
    {
     "name": "stdout",
     "output_type": "stream",
     "text": [
      "<class 'pandas.core.frame.DataFrame'>\n",
      "RangeIndex: 19673 entries, 0 to 19672\n",
      "Data columns (total 61 columns):\n",
      " #   Column                        Non-Null Count  Dtype  \n",
      "---  ------                        --------------  -----  \n",
      " 0   user_id                       19673 non-null  int64  \n",
      " 1   gate_id                       19673 non-null  int64  \n",
      " 2   hour                          19673 non-null  int32  \n",
      " 3   total_minutes                 19673 non-null  int32  \n",
      " 4   total_seconds                 19673 non-null  int32  \n",
      " 5   gate_id_lag_1                 19673 non-null  int64  \n",
      " 6   sec_btw_lag_1                 19673 non-null  int32  \n",
      " 7   day_of_month                  19673 non-null  int32  \n",
      " 8   day_of_week                   19673 non-null  int32  \n",
      " 9   is_weekend                    19673 non-null  bool   \n",
      " 10  time_of_day                   19673 non-null  object \n",
      " 11  is_month_start                19673 non-null  bool   \n",
      " 12  is_month_end                  19673 non-null  bool   \n",
      " 13  pass_cnt_per_day              19673 non-null  int64  \n",
      " 14  daily_gate_pass_count         19673 non-null  int64  \n",
      " 15  probability_gate_id           19673 non-null  float64\n",
      " 16  cnt_users_per_day             19673 non-null  int64  \n",
      " 17  cnt_users_per_week            19673 non-null  int64  \n",
      " 18  daily_attendance_index        19673 non-null  float64\n",
      " 19  cnt_days_per_week             19673 non-null  int64  \n",
      " 20  entry_time                    19673 non-null  int32  \n",
      " 21  working_time_per_day          19673 non-null  int32  \n",
      " 22  entrance_gate_id              19673 non-null  int64  \n",
      " 23  exit_gate_id                  19673 non-null  int64  \n",
      " 24  working_time_per_week         19673 non-null  int32  \n",
      " 25  daily_workload_index          19673 non-null  float64\n",
      " 26  gate_id_1                     19673 non-null  int64  \n",
      " 27  sec_btw_1                     19673 non-null  int32  \n",
      " 28  gate_id_lag_2                 19673 non-null  int64  \n",
      " 29  gate_id_2                     19673 non-null  int64  \n",
      " 30  sec_btw_lag_2                 19673 non-null  int32  \n",
      " 31  sec_btw_2                     19673 non-null  int32  \n",
      " 32  gate_id_lag_3                 19673 non-null  int64  \n",
      " 33  gate_id_3                     19673 non-null  int64  \n",
      " 34  sec_btw_lag_3                 19673 non-null  int32  \n",
      " 35  sec_btw_3                     19673 non-null  int32  \n",
      " 36  gate_id_lag_4                 19673 non-null  int64  \n",
      " 37  gate_id_4                     19673 non-null  int64  \n",
      " 38  sec_btw_lag_4                 19673 non-null  int32  \n",
      " 39  sec_btw_4                     19673 non-null  int32  \n",
      " 40  gate_id_lag_5                 19673 non-null  int64  \n",
      " 41  gate_id_5                     19673 non-null  int64  \n",
      " 42  sec_btw_lag_5                 19673 non-null  int32  \n",
      " 43  sec_btw_5                     19673 non-null  int32  \n",
      " 44  repeat_gate_lt_5s             19673 non-null  bool   \n",
      " 45  repeat_gate_btw_5_10s         19673 non-null  bool   \n",
      " 46  repeat_gate_btw_10_15s        19673 non-null  bool   \n",
      " 47  repeat_gate_btw_15_90s        19673 non-null  bool   \n",
      " 48  repeat_gate_ge_90s            19673 non-null  bool   \n",
      " 49  cnt_repeat_gate_lt_5s         19673 non-null  int64  \n",
      " 50  cnt_repeat_gate_btw_5_10s     19673 non-null  int64  \n",
      " 51  cnt_repeat_gate_btw_10_15s    19673 non-null  int64  \n",
      " 52  cnt_repeat_gate_btw_15_90s    19673 non-null  int64  \n",
      " 53  cnt_repeat_gate_ge_90s        19673 non-null  int64  \n",
      " 54  route                         19673 non-null  object \n",
      " 55  cumtime_per_day               19673 non-null  int32  \n",
      " 56  cumtime_at_route_per_day      19673 non-null  int32  \n",
      " 57  most_frequent_gate_per_day    19673 non-null  int64  \n",
      " 58  most_frequent_gate_per_week   19673 non-null  int64  \n",
      " 59  most_frequent_route_per_day   19673 non-null  object \n",
      " 60  most_frequent_route_per_week  19673 non-null  object \n",
      "dtypes: bool(8), float64(3), int32(20), int64(26), object(4)\n",
      "memory usage: 6.6+ MB\n"
     ]
    }
   ],
   "source": [
    "df_train.info()"
   ]
  },
  {
   "cell_type": "code",
   "execution_count": 79,
   "metadata": {},
   "outputs": [
    {
     "data": {
      "text/plain": [
       "Index(['user_id', 'gate_id', 'hour', 'total_minutes', 'total_seconds',\n",
       "       'gate_id_lag_1', 'sec_btw_lag_1', 'day_of_month', 'day_of_week',\n",
       "       'is_weekend', 'time_of_day', 'is_month_start', 'is_month_end',\n",
       "       'pass_cnt_per_day', 'daily_gate_pass_count', 'probability_gate_id',\n",
       "       'cnt_users_per_day', 'cnt_users_per_week', 'daily_attendance_index',\n",
       "       'cnt_days_per_week', 'entry_time', 'working_time_per_day',\n",
       "       'entrance_gate_id', 'exit_gate_id', 'working_time_per_week',\n",
       "       'daily_workload_index', 'gate_id_1', 'sec_btw_1', 'gate_id_lag_2',\n",
       "       'gate_id_2', 'sec_btw_lag_2', 'sec_btw_2', 'gate_id_lag_3', 'gate_id_3',\n",
       "       'sec_btw_lag_3', 'sec_btw_3', 'gate_id_lag_4', 'gate_id_4',\n",
       "       'sec_btw_lag_4', 'sec_btw_4', 'gate_id_lag_5', 'gate_id_5',\n",
       "       'sec_btw_lag_5', 'sec_btw_5', 'repeat_gate_lt_5s',\n",
       "       'repeat_gate_btw_5_10s', 'repeat_gate_btw_10_15s',\n",
       "       'repeat_gate_btw_15_90s', 'repeat_gate_ge_90s', 'cnt_repeat_gate_lt_5s',\n",
       "       'cnt_repeat_gate_btw_5_10s', 'cnt_repeat_gate_btw_10_15s',\n",
       "       'cnt_repeat_gate_btw_15_90s', 'cnt_repeat_gate_ge_90s', 'route',\n",
       "       'cumtime_per_day', 'cumtime_at_route_per_day',\n",
       "       'most_frequent_gate_per_day', 'most_frequent_gate_per_week',\n",
       "       'most_frequent_route_per_day', 'most_frequent_route_per_week'],\n",
       "      dtype='object')"
      ]
     },
     "execution_count": 79,
     "metadata": {},
     "output_type": "execute_result"
    }
   ],
   "source": [
    "df_train.columns"
   ]
  },
  {
   "cell_type": "code",
   "execution_count": 80,
   "metadata": {},
   "outputs": [],
   "source": [
    "categorical_features = [\n",
    "       # 'user_id',\n",
    "       'gate_id', 'hour', 'gate_id_lag_1',\n",
    "       'day_of_month', 'day_of_week', 'is_weekend',\n",
    "       'time_of_day', 'is_month_start', 'is_month_end',\n",
    "       'entrance_gate_id', 'exit_gate_id', 'gate_id_1',\n",
    "       'gate_id_lag_2', 'gate_id_2', 'gate_id_lag_3',\n",
    "       'gate_id_3', 'gate_id_lag_4', 'gate_id_4',\n",
    "       'gate_id_lag_5', 'gate_id_5', 'repeat_gate_lt_5s',\n",
    "       'repeat_gate_btw_5_10s', 'repeat_gate_btw_10_15s', 'repeat_gate_btw_15_90s',\n",
    "       'repeat_gate_ge_90s', 'route', 'most_frequent_gate_per_day',\n",
    "       'most_frequent_gate_per_week', 'most_frequent_route_per_day', 'most_frequent_route_per_week'\n",
    "]\n",
    "# df_train[categorical_features] = df_train[categorical_features].astype('category')\n",
    "# df_test[categorical_features] = df_test[categorical_features].astype('category')"
   ]
  },
  {
   "cell_type": "code",
   "execution_count": 81,
   "metadata": {},
   "outputs": [
    {
     "name": "stdout",
     "output_type": "stream",
     "text": [
      "<class 'pandas.core.frame.DataFrame'>\n",
      "RangeIndex: 19673 entries, 0 to 19672\n",
      "Data columns (total 61 columns):\n",
      " #   Column                        Non-Null Count  Dtype  \n",
      "---  ------                        --------------  -----  \n",
      " 0   user_id                       19673 non-null  int64  \n",
      " 1   gate_id                       19673 non-null  int64  \n",
      " 2   hour                          19673 non-null  int32  \n",
      " 3   total_minutes                 19673 non-null  int32  \n",
      " 4   total_seconds                 19673 non-null  int32  \n",
      " 5   gate_id_lag_1                 19673 non-null  int64  \n",
      " 6   sec_btw_lag_1                 19673 non-null  int32  \n",
      " 7   day_of_month                  19673 non-null  int32  \n",
      " 8   day_of_week                   19673 non-null  int32  \n",
      " 9   is_weekend                    19673 non-null  bool   \n",
      " 10  time_of_day                   19673 non-null  object \n",
      " 11  is_month_start                19673 non-null  bool   \n",
      " 12  is_month_end                  19673 non-null  bool   \n",
      " 13  pass_cnt_per_day              19673 non-null  int64  \n",
      " 14  daily_gate_pass_count         19673 non-null  int64  \n",
      " 15  probability_gate_id           19673 non-null  float64\n",
      " 16  cnt_users_per_day             19673 non-null  int64  \n",
      " 17  cnt_users_per_week            19673 non-null  int64  \n",
      " 18  daily_attendance_index        19673 non-null  float64\n",
      " 19  cnt_days_per_week             19673 non-null  int64  \n",
      " 20  entry_time                    19673 non-null  int32  \n",
      " 21  working_time_per_day          19673 non-null  int32  \n",
      " 22  entrance_gate_id              19673 non-null  int64  \n",
      " 23  exit_gate_id                  19673 non-null  int64  \n",
      " 24  working_time_per_week         19673 non-null  int32  \n",
      " 25  daily_workload_index          19673 non-null  float64\n",
      " 26  gate_id_1                     19673 non-null  int64  \n",
      " 27  sec_btw_1                     19673 non-null  int32  \n",
      " 28  gate_id_lag_2                 19673 non-null  int64  \n",
      " 29  gate_id_2                     19673 non-null  int64  \n",
      " 30  sec_btw_lag_2                 19673 non-null  int32  \n",
      " 31  sec_btw_2                     19673 non-null  int32  \n",
      " 32  gate_id_lag_3                 19673 non-null  int64  \n",
      " 33  gate_id_3                     19673 non-null  int64  \n",
      " 34  sec_btw_lag_3                 19673 non-null  int32  \n",
      " 35  sec_btw_3                     19673 non-null  int32  \n",
      " 36  gate_id_lag_4                 19673 non-null  int64  \n",
      " 37  gate_id_4                     19673 non-null  int64  \n",
      " 38  sec_btw_lag_4                 19673 non-null  int32  \n",
      " 39  sec_btw_4                     19673 non-null  int32  \n",
      " 40  gate_id_lag_5                 19673 non-null  int64  \n",
      " 41  gate_id_5                     19673 non-null  int64  \n",
      " 42  sec_btw_lag_5                 19673 non-null  int32  \n",
      " 43  sec_btw_5                     19673 non-null  int32  \n",
      " 44  repeat_gate_lt_5s             19673 non-null  bool   \n",
      " 45  repeat_gate_btw_5_10s         19673 non-null  bool   \n",
      " 46  repeat_gate_btw_10_15s        19673 non-null  bool   \n",
      " 47  repeat_gate_btw_15_90s        19673 non-null  bool   \n",
      " 48  repeat_gate_ge_90s            19673 non-null  bool   \n",
      " 49  cnt_repeat_gate_lt_5s         19673 non-null  int64  \n",
      " 50  cnt_repeat_gate_btw_5_10s     19673 non-null  int64  \n",
      " 51  cnt_repeat_gate_btw_10_15s    19673 non-null  int64  \n",
      " 52  cnt_repeat_gate_btw_15_90s    19673 non-null  int64  \n",
      " 53  cnt_repeat_gate_ge_90s        19673 non-null  int64  \n",
      " 54  route                         19673 non-null  object \n",
      " 55  cumtime_per_day               19673 non-null  int32  \n",
      " 56  cumtime_at_route_per_day      19673 non-null  int32  \n",
      " 57  most_frequent_gate_per_day    19673 non-null  int64  \n",
      " 58  most_frequent_gate_per_week   19673 non-null  int64  \n",
      " 59  most_frequent_route_per_day   19673 non-null  object \n",
      " 60  most_frequent_route_per_week  19673 non-null  object \n",
      "dtypes: bool(8), float64(3), int32(20), int64(26), object(4)\n",
      "memory usage: 6.6+ MB\n"
     ]
    }
   ],
   "source": [
    "df_train.info()"
   ]
  },
  {
   "cell_type": "markdown",
   "metadata": {},
   "source": [
    "## Оценка важности признаков"
   ]
  },
  {
   "cell_type": "markdown",
   "metadata": {},
   "source": [
    "### Корреляция между признаками"
   ]
  },
  {
   "cell_type": "code",
   "execution_count": 82,
   "metadata": {},
   "outputs": [],
   "source": [
    "# %%time\n",
    "# phik_overview = df_train.phik_matrix().round(2).sort_values('user_id', ascending=False)\n",
    "# phik_overview"
   ]
  },
  {
   "cell_type": "code",
   "execution_count": 83,
   "metadata": {},
   "outputs": [],
   "source": [
    "# # отберем фичи, у которых корреляция с целевым признаком более 0.2\n",
    "# df_train = df_train[phik_overview[phik_overview['user_id'] > 0.2].index]"
   ]
  },
  {
   "cell_type": "code",
   "execution_count": 84,
   "metadata": {},
   "outputs": [],
   "source": [
    "# fig = plt.figure(figsize=(45,15))\n",
    "# sns.heatmap(phik_overview, vmin=0, vmax=1, cmap='Purples', annot=True, linewidths=0.1, fmt='.2f')\n",
    "# plt.suptitle('Матрица Phi_K-корреляций', y=0.92);"
   ]
  },
  {
   "cell_type": "code",
   "execution_count": 85,
   "metadata": {},
   "outputs": [],
   "source": [
    "# %%time\n",
    "# significance_overview = df_train.significance_matrix().fillna(0).round(1).sort_values('user_id', ascending=False)\n",
    "# significance_overview"
   ]
  },
  {
   "cell_type": "code",
   "execution_count": 86,
   "metadata": {},
   "outputs": [],
   "source": [
    "# fig = plt.figure(figsize=(45,15))\n",
    "# sns.heatmap(significance_overview, vmin=-5, vmax=5, cmap='Purples', annot=True, linewidths=0.1, fmt='.1f')\n",
    "# plt.suptitle('Значимость коэффициентов', y=0.92);"
   ]
  },
  {
   "cell_type": "code",
   "execution_count": null,
   "metadata": {},
   "outputs": [],
   "source": []
  },
  {
   "cell_type": "markdown",
   "metadata": {},
   "source": [
    "# Построение моделей"
   ]
  },
  {
   "cell_type": "markdown",
   "metadata": {},
   "source": [
    "## Разделение исходных данных на выборки"
   ]
  },
  {
   "cell_type": "code",
   "execution_count": 87,
   "metadata": {},
   "outputs": [
    {
     "name": "stdout",
     "output_type": "stream",
     "text": [
      "<class 'pandas.core.frame.DataFrame'>\n",
      "RangeIndex: 19673 entries, 0 to 19672\n",
      "Data columns (total 61 columns):\n",
      " #   Column                        Non-Null Count  Dtype  \n",
      "---  ------                        --------------  -----  \n",
      " 0   user_id                       19673 non-null  int64  \n",
      " 1   gate_id                       19673 non-null  int64  \n",
      " 2   hour                          19673 non-null  int32  \n",
      " 3   total_minutes                 19673 non-null  int32  \n",
      " 4   total_seconds                 19673 non-null  int32  \n",
      " 5   gate_id_lag_1                 19673 non-null  int64  \n",
      " 6   sec_btw_lag_1                 19673 non-null  int32  \n",
      " 7   day_of_month                  19673 non-null  int32  \n",
      " 8   day_of_week                   19673 non-null  int32  \n",
      " 9   is_weekend                    19673 non-null  bool   \n",
      " 10  time_of_day                   19673 non-null  object \n",
      " 11  is_month_start                19673 non-null  bool   \n",
      " 12  is_month_end                  19673 non-null  bool   \n",
      " 13  pass_cnt_per_day              19673 non-null  int64  \n",
      " 14  daily_gate_pass_count         19673 non-null  int64  \n",
      " 15  probability_gate_id           19673 non-null  float64\n",
      " 16  cnt_users_per_day             19673 non-null  int64  \n",
      " 17  cnt_users_per_week            19673 non-null  int64  \n",
      " 18  daily_attendance_index        19673 non-null  float64\n",
      " 19  cnt_days_per_week             19673 non-null  int64  \n",
      " 20  entry_time                    19673 non-null  int32  \n",
      " 21  working_time_per_day          19673 non-null  int32  \n",
      " 22  entrance_gate_id              19673 non-null  int64  \n",
      " 23  exit_gate_id                  19673 non-null  int64  \n",
      " 24  working_time_per_week         19673 non-null  int32  \n",
      " 25  daily_workload_index          19673 non-null  float64\n",
      " 26  gate_id_1                     19673 non-null  int64  \n",
      " 27  sec_btw_1                     19673 non-null  int32  \n",
      " 28  gate_id_lag_2                 19673 non-null  int64  \n",
      " 29  gate_id_2                     19673 non-null  int64  \n",
      " 30  sec_btw_lag_2                 19673 non-null  int32  \n",
      " 31  sec_btw_2                     19673 non-null  int32  \n",
      " 32  gate_id_lag_3                 19673 non-null  int64  \n",
      " 33  gate_id_3                     19673 non-null  int64  \n",
      " 34  sec_btw_lag_3                 19673 non-null  int32  \n",
      " 35  sec_btw_3                     19673 non-null  int32  \n",
      " 36  gate_id_lag_4                 19673 non-null  int64  \n",
      " 37  gate_id_4                     19673 non-null  int64  \n",
      " 38  sec_btw_lag_4                 19673 non-null  int32  \n",
      " 39  sec_btw_4                     19673 non-null  int32  \n",
      " 40  gate_id_lag_5                 19673 non-null  int64  \n",
      " 41  gate_id_5                     19673 non-null  int64  \n",
      " 42  sec_btw_lag_5                 19673 non-null  int32  \n",
      " 43  sec_btw_5                     19673 non-null  int32  \n",
      " 44  repeat_gate_lt_5s             19673 non-null  bool   \n",
      " 45  repeat_gate_btw_5_10s         19673 non-null  bool   \n",
      " 46  repeat_gate_btw_10_15s        19673 non-null  bool   \n",
      " 47  repeat_gate_btw_15_90s        19673 non-null  bool   \n",
      " 48  repeat_gate_ge_90s            19673 non-null  bool   \n",
      " 49  cnt_repeat_gate_lt_5s         19673 non-null  int64  \n",
      " 50  cnt_repeat_gate_btw_5_10s     19673 non-null  int64  \n",
      " 51  cnt_repeat_gate_btw_10_15s    19673 non-null  int64  \n",
      " 52  cnt_repeat_gate_btw_15_90s    19673 non-null  int64  \n",
      " 53  cnt_repeat_gate_ge_90s        19673 non-null  int64  \n",
      " 54  route                         19673 non-null  object \n",
      " 55  cumtime_per_day               19673 non-null  int32  \n",
      " 56  cumtime_at_route_per_day      19673 non-null  int32  \n",
      " 57  most_frequent_gate_per_day    19673 non-null  int64  \n",
      " 58  most_frequent_gate_per_week   19673 non-null  int64  \n",
      " 59  most_frequent_route_per_day   19673 non-null  object \n",
      " 60  most_frequent_route_per_week  19673 non-null  object \n",
      "dtypes: bool(8), float64(3), int32(20), int64(26), object(4)\n",
      "memory usage: 6.6+ MB\n"
     ]
    }
   ],
   "source": [
    "df_train.info()"
   ]
  },
  {
   "cell_type": "code",
   "execution_count": 88,
   "metadata": {},
   "outputs": [],
   "source": [
    "y = df_train['user_id']\n",
    "X = df_train.drop(['user_id'], axis=1)"
   ]
  },
  {
   "cell_type": "code",
   "execution_count": 89,
   "metadata": {},
   "outputs": [],
   "source": [
    "# categorical_columns = X.select_dtypes(include=['category']).columns.tolist()\n",
    "# print(categorical_columns)"
   ]
  },
  {
   "cell_type": "code",
   "execution_count": 90,
   "metadata": {},
   "outputs": [
    {
     "name": "stdout",
     "output_type": "stream",
     "text": [
      "['gate_id', 'hour', 'gate_id_lag_1', 'day_of_month', 'day_of_week', 'is_weekend', 'time_of_day', 'is_month_start', 'is_month_end', 'entrance_gate_id', 'exit_gate_id', 'gate_id_1', 'gate_id_lag_2', 'gate_id_2', 'gate_id_lag_3', 'gate_id_3', 'gate_id_lag_4', 'gate_id_4', 'gate_id_lag_5', 'gate_id_5', 'repeat_gate_lt_5s', 'repeat_gate_btw_5_10s', 'repeat_gate_btw_10_15s', 'repeat_gate_btw_15_90s', 'repeat_gate_ge_90s', 'route', 'most_frequent_gate_per_day', 'most_frequent_gate_per_week', 'most_frequent_route_per_day', 'most_frequent_route_per_week']\n"
     ]
    }
   ],
   "source": [
    "categorical_columns = categorical_features\n",
    "print(categorical_columns)"
   ]
  },
  {
   "cell_type": "code",
   "execution_count": 91,
   "metadata": {},
   "outputs": [
    {
     "data": {
      "text/plain": [
       "30"
      ]
     },
     "execution_count": 91,
     "metadata": {},
     "output_type": "execute_result"
    }
   ],
   "source": [
    "len(categorical_columns)"
   ]
  },
  {
   "cell_type": "code",
   "execution_count": 92,
   "metadata": {},
   "outputs": [],
   "source": [
    "# numerical_columns = X.select_dtypes(exclude=['category']).columns.tolist()\n",
    "# print(numerical_columns)"
   ]
  },
  {
   "cell_type": "code",
   "execution_count": 93,
   "metadata": {},
   "outputs": [
    {
     "name": "stdout",
     "output_type": "stream",
     "text": [
      "['cnt_repeat_gate_btw_10_15s', 'entry_time', 'sec_btw_3', 'daily_gate_pass_count', 'sec_btw_lag_4', 'working_time_per_week', 'cumtime_per_day', 'sec_btw_5', 'cnt_users_per_week', 'sec_btw_lag_1', 'sec_btw_lag_3', 'daily_attendance_index', 'sec_btw_lag_2', 'sec_btw_1', 'sec_btw_2', 'cnt_repeat_gate_btw_15_90s', 'pass_cnt_per_day', 'cumtime_at_route_per_day', 'working_time_per_day', 'sec_btw_lag_5', 'cnt_users_per_day', 'sec_btw_4', 'total_minutes', 'daily_workload_index', 'cnt_repeat_gate_lt_5s', 'probability_gate_id', 'cnt_days_per_week', 'total_seconds', 'cnt_repeat_gate_ge_90s', 'cnt_repeat_gate_btw_5_10s']\n"
     ]
    }
   ],
   "source": [
    "numerical_columns = list(set(X.columns) - set(categorical_columns))\n",
    "print(numerical_columns)"
   ]
  },
  {
   "cell_type": "code",
   "execution_count": 94,
   "metadata": {},
   "outputs": [
    {
     "data": {
      "text/plain": [
       "30"
      ]
     },
     "execution_count": 94,
     "metadata": {},
     "output_type": "execute_result"
    }
   ],
   "source": [
    "len(numerical_columns)"
   ]
  },
  {
   "cell_type": "code",
   "execution_count": 95,
   "metadata": {},
   "outputs": [],
   "source": [
    "X = X[categorical_columns + numerical_columns]"
   ]
  },
  {
   "cell_type": "code",
   "execution_count": 96,
   "metadata": {},
   "outputs": [],
   "source": [
    "# # формируем массив индексов категориальных признаков\n",
    "# categorical_features_indices = np.where(X.dtypes == 'category')[0]\n",
    "# categorical_features_indices"
   ]
  },
  {
   "cell_type": "code",
   "execution_count": 97,
   "metadata": {},
   "outputs": [
    {
     "name": "stdout",
     "output_type": "stream",
     "text": [
      "[0, 1, 2, 3, 4, 5, 6, 7, 8, 9, 10, 11, 12, 13, 14, 15, 16, 17, 18, 19, 20, 21, 22, 23, 24, 25, 26, 27, 28, 29]\n"
     ]
    }
   ],
   "source": [
    "# формируем массив индексов категориальных признаков\n",
    "categorical_features_indices = list(range(len(categorical_columns)))\n",
    "print(categorical_features_indices)"
   ]
  },
  {
   "cell_type": "code",
   "execution_count": 98,
   "metadata": {},
   "outputs": [],
   "source": [
    "# выделение обучающей выборки (80 %) и тестовой (20 %)\n",
    "X_train, X_test, y_train, y_test = train_test_split(\n",
    "                                                    X, \n",
    "                                                    y, \n",
    "                                                    test_size=0.2, \n",
    "                                                    random_state=RANDOM_STATE,\n",
    "                                                    shuffle=True,\n",
    "                                                    stratify=y\n",
    ")"
   ]
  },
  {
   "cell_type": "code",
   "execution_count": 99,
   "metadata": {},
   "outputs": [
    {
     "data": {
      "text/plain": [
       "((15738, 60), (3935, 60), (15738,), (3935,))"
      ]
     },
     "execution_count": 99,
     "metadata": {},
     "output_type": "execute_result"
    }
   ],
   "source": [
    "X_train.shape, X_test.shape, y_train.shape, y_test.shape"
   ]
  },
  {
   "cell_type": "code",
   "execution_count": 100,
   "metadata": {},
   "outputs": [
    {
     "data": {
      "text/plain": [
       "34"
      ]
     },
     "execution_count": 100,
     "metadata": {},
     "output_type": "execute_result"
    }
   ],
   "source": [
    "y_train.nunique()"
   ]
  },
  {
   "cell_type": "code",
   "execution_count": 101,
   "metadata": {},
   "outputs": [
    {
     "name": "stdout",
     "output_type": "stream",
     "text": [
      "[0, 1, 2, 3, 6, 8, 9, 11, 12, 14, 15, 17, 19, 22, 23, 24, 25, 26, 29, 30, 32, 33, 35, 36, 37, 39, 41, 43, 46, 49, 50, 54, 55, 56]\n"
     ]
    }
   ],
   "source": [
    "print(sorted(y_train.unique()))"
   ]
  },
  {
   "cell_type": "code",
   "execution_count": 102,
   "metadata": {},
   "outputs": [
    {
     "data": {
      "text/plain": [
       "34"
      ]
     },
     "execution_count": 102,
     "metadata": {},
     "output_type": "execute_result"
    }
   ],
   "source": [
    "y_test.nunique()"
   ]
  },
  {
   "cell_type": "code",
   "execution_count": 103,
   "metadata": {},
   "outputs": [
    {
     "name": "stdout",
     "output_type": "stream",
     "text": [
      "[0, 1, 2, 3, 6, 8, 9, 11, 12, 14, 15, 17, 19, 22, 23, 24, 25, 26, 29, 30, 32, 33, 35, 36, 37, 39, 41, 43, 46, 49, 50, 54, 55, 56]\n"
     ]
    }
   ],
   "source": [
    "print(sorted(y_test.unique()))"
   ]
  },
  {
   "cell_type": "markdown",
   "metadata": {},
   "source": [
    "## Подбор гиперпараметров"
   ]
  },
  {
   "cell_type": "code",
   "execution_count": 104,
   "metadata": {},
   "outputs": [],
   "source": [
    "# %%time\n",
    "\n",
    "# n_splits = 5\n",
    "# scores = []\n",
    "# models = []\n",
    "\n",
    "# skf = StratifiedKFold(n_splits=n_splits, shuffle=True, random_state=RANDOM_STATE)\n",
    "\n",
    "# for train_index, val_index in skf.split(X, y):\n",
    "    \n",
    "#     X_train, X_val = X.iloc[train_index], X.iloc[val_index]\n",
    "#     y_train, y_val = y.iloc[train_index], y.iloc[val_index]\n",
    "    \n",
    "\n",
    "#     model = CatBoostClassifier(\n",
    "#                                 random_seed=RANDOM_STATE,\n",
    "#                                 loss_function='MultiClass',\n",
    "#                                 # eval_metric='TotalF1:average=Macro',\n",
    "#                                 cat_features=categorical_features_indices,\n",
    "#                                 thread_count=-1,\n",
    "#                                 task_type='GPU',\n",
    "#     )\n",
    "\n",
    "#     model.fit(\n",
    "#                 X_train, y_train,\n",
    "#                 eval_set=(X_val, y_val),\n",
    "#                 early_stopping_rounds=100,\n",
    "#                 verbose=100\n",
    "#     )\n",
    "    \n",
    "#     models.append(model)\n",
    "    \n",
    "#     y_pred = model.predict(X_val)\n",
    "#     scores.append(f1_score(y_val, y_pred, average='macro'))\n",
    "\n",
    "# np.mean(scores)"
   ]
  },
  {
   "cell_type": "code",
   "execution_count": 105,
   "metadata": {},
   "outputs": [],
   "source": [
    "# models"
   ]
  },
  {
   "cell_type": "code",
   "execution_count": 106,
   "metadata": {},
   "outputs": [],
   "source": [
    "# for m in models:\n",
    "#     print(m.tree_count_)"
   ]
  },
  {
   "cell_type": "code",
   "execution_count": 107,
   "metadata": {},
   "outputs": [],
   "source": [
    "# for m in models:\n",
    "#     print(m.get_all_params())"
   ]
  },
  {
   "cell_type": "code",
   "execution_count": 108,
   "metadata": {},
   "outputs": [],
   "source": [
    "# models[0].get_best_score()"
   ]
  },
  {
   "cell_type": "code",
   "execution_count": null,
   "metadata": {},
   "outputs": [],
   "source": []
  },
  {
   "cell_type": "code",
   "execution_count": 161,
   "metadata": {},
   "outputs": [],
   "source": [
    "def fit_catboost(trial, train, val, cat_features_indices):\n",
    "    X_train, y_train = train\n",
    "    X_val, y_val = val\n",
    "\n",
    "    param = {\n",
    "        'n_estimators' : 1000, # Можно не перебирать, есть Early-Stopping\n",
    "        'learning_rate': trial.suggest_float('learning_rate', 0.001, 0.1),\n",
    "        'l2_leaf_reg': trial.suggest_float('l2_leaf_reg', 3.0, 60.0),        \n",
    "        'auto_class_weights': trial.suggest_categorical('auto_class_weights', ['Balanced', 'None']),\n",
    "        'max_depth': trial.suggest_int('max_depth', 4, 10),\n",
    "        'border_count': trial.suggest_int('border_count', 32, 128)\n",
    "    }\n",
    "\n",
    "    clf = CatBoostClassifier(\n",
    "        **param,\n",
    "        loss_function='MultiClass',\n",
    "        eval_metric='TotalF1:average=Macro',\n",
    "        random_seed=RANDOM_STATE,\n",
    "        cat_features=cat_features_indices,\n",
    "        thread_count=-1,\n",
    "        task_type='GPU',\n",
    "    )\n",
    "\n",
    "    clf.fit(\n",
    "        X_train,\n",
    "        y_train,\n",
    "        eval_set=(X_val, y_val),\n",
    "        verbose=100,\n",
    "        plot=False,\n",
    "        early_stopping_rounds=100,\n",
    "    )\n",
    "\n",
    "    y_pred = clf.predict(X_val)\n",
    "    return clf, y_pred"
   ]
  },
  {
   "cell_type": "code",
   "execution_count": 162,
   "metadata": {},
   "outputs": [],
   "source": [
    "def objective(trial, X, y, cat_features_indices, return_models=False):\n",
    "    n_splits = 3\n",
    "    skf = StratifiedKFold(n_splits=n_splits, shuffle=True, random_state=RANDOM_STATE)\n",
    "\n",
    "    scores, models = [], []\n",
    "    \n",
    "    for train_idx, valid_idx in skf.split(X, y):\n",
    "        train_data = X.iloc[train_idx, :], y.iloc[train_idx]\n",
    "        valid_data = X.iloc[valid_idx, :], y.iloc[valid_idx]\n",
    "\n",
    "        # Подаем trials для перебора\n",
    "        model, y_pred = fit_catboost(trial, train_data, valid_data, cat_features_indices) # Определили выше\n",
    "        scores.append(f1_score(valid_data[1], y_pred, average='macro'))\n",
    "        models.append(model)\n",
    "        # break\n",
    "         \n",
    "\n",
    "    result = np.mean(scores)\n",
    "    \n",
    "    if return_models:\n",
    "        return result, models\n",
    "    else:\n",
    "        return result"
   ]
  },
  {
   "cell_type": "code",
   "execution_count": 111,
   "metadata": {},
   "outputs": [
    {
     "name": "stderr",
     "output_type": "stream",
     "text": [
      "[I 2024-08-14 10:51:45,410] A new study created in memory with name: no-name-ebb22068-8876-4ebb-a8b0-342f8c555778\n"
     ]
    },
    {
     "data": {
      "application/vnd.jupyter.widget-view+json": {
       "model_id": "63aecc4615b74639aab8b15abaa11212",
       "version_major": 2,
       "version_minor": 0
      },
      "text/plain": [
       "  0%|          | 0/3 [00:00<?, ?it/s]"
      ]
     },
     "metadata": {},
     "output_type": "display_data"
    },
    {
     "name": "stdout",
     "output_type": "stream",
     "text": [
      "0:\tlearn: 0.1383191\ttest: 0.1380143\tbest: 0.1380143 (0)\ttotal: 50.4ms\tremaining: 50.3s\n",
      "100:\tlearn: 0.2333411\ttest: 0.2279575\tbest: 0.2332031 (83)\ttotal: 3.79s\tremaining: 33.7s\n",
      "200:\tlearn: 0.2699237\ttest: 0.2617138\tbest: 0.2617455 (199)\ttotal: 7.53s\tremaining: 29.9s\n",
      "300:\tlearn: 0.3070389\ttest: 0.2950596\tbest: 0.2950596 (300)\ttotal: 11.3s\tremaining: 26.2s\n",
      "400:\tlearn: 0.3137291\ttest: 0.3026132\tbest: 0.3037638 (385)\ttotal: 14.9s\tremaining: 22.3s\n",
      "500:\tlearn: 0.3480682\ttest: 0.3401514\tbest: 0.3401925 (499)\ttotal: 18.6s\tremaining: 18.6s\n",
      "600:\tlearn: 0.3678107\ttest: 0.3604353\tbest: 0.3606895 (589)\ttotal: 22.2s\tremaining: 14.8s\n",
      "700:\tlearn: 0.3878888\ttest: 0.3832084\tbest: 0.3832084 (700)\ttotal: 25.8s\tremaining: 11s\n",
      "800:\tlearn: 0.4130573\ttest: 0.4043466\tbest: 0.4043466 (799)\ttotal: 29.8s\tremaining: 7.39s\n",
      "900:\tlearn: 0.4346650\ttest: 0.4235956\tbest: 0.4235956 (900)\ttotal: 33.9s\tremaining: 3.73s\n",
      "999:\tlearn: 0.4525963\ttest: 0.4428513\tbest: 0.4428708 (994)\ttotal: 38s\tremaining: 0us\n",
      "bestTest = 0.4428707788\n",
      "bestIteration = 994\n",
      "Shrink model to first 995 iterations.\n",
      "0:\tlearn: 0.1351810\ttest: 0.1345931\tbest: 0.1345931 (0)\ttotal: 41.7ms\tremaining: 41.6s\n",
      "100:\tlearn: 0.2319785\ttest: 0.2276454\tbest: 0.2276454 (94)\ttotal: 4.12s\tremaining: 36.7s\n",
      "200:\tlearn: 0.2706350\ttest: 0.2646686\tbest: 0.2663670 (192)\ttotal: 8.08s\tremaining: 32.1s\n",
      "300:\tlearn: 0.2950044\ttest: 0.2921486\tbest: 0.2994852 (271)\ttotal: 12.1s\tremaining: 28s\n",
      "400:\tlearn: 0.3147378\ttest: 0.3122262\tbest: 0.3122264 (394)\ttotal: 15.9s\tremaining: 23.8s\n",
      "500:\tlearn: 0.3426848\ttest: 0.3331656\tbest: 0.3331656 (500)\ttotal: 19.8s\tremaining: 19.7s\n",
      "600:\tlearn: 0.3719455\ttest: 0.3626859\tbest: 0.3626859 (600)\ttotal: 23.6s\tremaining: 15.6s\n",
      "700:\tlearn: 0.3957863\ttest: 0.3911727\tbest: 0.3911727 (700)\ttotal: 27.2s\tremaining: 11.6s\n",
      "800:\tlearn: 0.4127667\ttest: 0.4061968\tbest: 0.4062625 (799)\ttotal: 31.1s\tremaining: 7.72s\n",
      "900:\tlearn: 0.4389449\ttest: 0.4324839\tbest: 0.4324839 (899)\ttotal: 35.1s\tremaining: 3.86s\n",
      "999:\tlearn: 0.4527431\ttest: 0.4460177\tbest: 0.4473802 (992)\ttotal: 39.1s\tremaining: 0us\n",
      "bestTest = 0.4473801589\n",
      "bestIteration = 992\n",
      "Shrink model to first 993 iterations.\n",
      "0:\tlearn: 0.1345674\ttest: 0.1319988\tbest: 0.1319988 (0)\ttotal: 40.9ms\tremaining: 40.9s\n",
      "100:\tlearn: 0.2283640\ttest: 0.2297881\tbest: 0.2318024 (94)\ttotal: 3.98s\tremaining: 35.4s\n",
      "200:\tlearn: 0.2556070\ttest: 0.2554265\tbest: 0.2554265 (200)\ttotal: 7.94s\tremaining: 31.6s\n",
      "300:\tlearn: 0.2836528\ttest: 0.2825750\tbest: 0.2825895 (299)\ttotal: 11.8s\tremaining: 27.4s\n",
      "400:\tlearn: 0.3120361\ttest: 0.3112483\tbest: 0.3120222 (397)\ttotal: 15.6s\tremaining: 23.3s\n",
      "500:\tlearn: 0.3441134\ttest: 0.3403023\tbest: 0.3412678 (499)\ttotal: 19.2s\tremaining: 19.1s\n",
      "600:\tlearn: 0.3647322\ttest: 0.3615423\tbest: 0.3638247 (595)\ttotal: 22.7s\tremaining: 15s\n",
      "700:\tlearn: 0.3921846\ttest: 0.3898230\tbest: 0.3903295 (696)\ttotal: 26.5s\tremaining: 11.3s\n",
      "800:\tlearn: 0.4165272\ttest: 0.4203078\tbest: 0.4218177 (792)\ttotal: 30.5s\tremaining: 7.58s\n",
      "900:\tlearn: 0.4442077\ttest: 0.4476594\tbest: 0.4476594 (900)\ttotal: 34.5s\tremaining: 3.79s\n",
      "999:\tlearn: 0.4584500\ttest: 0.4617365\tbest: 0.4617365 (997)\ttotal: 38.5s\tremaining: 0us\n",
      "bestTest = 0.4617365229\n",
      "bestIteration = 997\n",
      "Shrink model to first 998 iterations.\n",
      "[I 2024-08-14 10:53:46,059] Trial 0 finished with value: 0.4506624868835432 and parameters: {'learning_rate': 0.0029566394453543346, 'l2_leaf_reg': 19.75159800789667, 'auto_class_weights': 'None', 'max_depth': 5, 'border_count': 52}. Best is trial 0 with value: 0.4506624868835432.\n",
      "0:\tlearn: 0.2235029\ttest: 0.2257380\tbest: 0.2257380 (0)\ttotal: 43.3ms\tremaining: 43.3s\n",
      "100:\tlearn: 0.4369653\ttest: 0.4147751\tbest: 0.4210002 (99)\ttotal: 3.92s\tremaining: 34.9s\n",
      "200:\tlearn: 0.5204258\ttest: 0.4998231\tbest: 0.4998231 (200)\ttotal: 7.84s\tremaining: 31.2s\n",
      "300:\tlearn: 0.6318674\ttest: 0.6039305\tbest: 0.6039310 (299)\ttotal: 11.7s\tremaining: 27.2s\n",
      "400:\tlearn: 0.6842070\ttest: 0.6577282\tbest: 0.6577282 (400)\ttotal: 15.5s\tremaining: 23.1s\n",
      "500:\tlearn: 0.7160300\ttest: 0.6916184\tbest: 0.6916184 (500)\ttotal: 19.3s\tremaining: 19.3s\n",
      "600:\tlearn: 0.7511396\ttest: 0.7280465\tbest: 0.7280465 (600)\ttotal: 23.4s\tremaining: 15.5s\n",
      "700:\tlearn: 0.7733475\ttest: 0.7568264\tbest: 0.7579244 (698)\ttotal: 27.3s\tremaining: 11.7s\n",
      "800:\tlearn: 0.7983780\ttest: 0.7854211\tbest: 0.7854211 (800)\ttotal: 31.4s\tremaining: 7.79s\n",
      "900:\tlearn: 0.8184568\ttest: 0.8134030\tbest: 0.8134030 (900)\ttotal: 35.3s\tremaining: 3.88s\n",
      "999:\tlearn: 0.8382669\ttest: 0.8284591\tbest: 0.8284591 (998)\ttotal: 39s\tremaining: 0us\n",
      "bestTest = 0.828459076\n",
      "bestIteration = 998\n",
      "Shrink model to first 999 iterations.\n",
      "0:\tlearn: 0.1840030\ttest: 0.1923822\tbest: 0.1923822 (0)\ttotal: 39.4ms\tremaining: 39.3s\n",
      "100:\tlearn: 0.4774108\ttest: 0.4667540\tbest: 0.4667540 (100)\ttotal: 3.98s\tremaining: 35.4s\n",
      "200:\tlearn: 0.5843074\ttest: 0.5754192\tbest: 0.5768456 (196)\ttotal: 8.04s\tremaining: 31.9s\n",
      "300:\tlearn: 0.6353963\ttest: 0.6202542\tbest: 0.6202542 (300)\ttotal: 11.9s\tremaining: 27.6s\n",
      "400:\tlearn: 0.6688622\ttest: 0.6559596\tbest: 0.6563792 (399)\ttotal: 15.8s\tremaining: 23.5s\n",
      "500:\tlearn: 0.7075707\ttest: 0.7009979\tbest: 0.7009979 (500)\ttotal: 19.6s\tremaining: 19.5s\n",
      "600:\tlearn: 0.7434133\ttest: 0.7332793\tbest: 0.7332793 (600)\ttotal: 23.5s\tremaining: 15.6s\n",
      "700:\tlearn: 0.7699895\ttest: 0.7610127\tbest: 0.7610127 (700)\ttotal: 27.6s\tremaining: 11.8s\n",
      "800:\tlearn: 0.7946150\ttest: 0.7801593\tbest: 0.7801593 (800)\ttotal: 31.6s\tremaining: 7.84s\n",
      "900:\tlearn: 0.8186963\ttest: 0.8058426\tbest: 0.8059051 (898)\ttotal: 35.8s\tremaining: 3.93s\n",
      "999:\tlearn: 0.8315896\ttest: 0.8188138\tbest: 0.8188188 (998)\ttotal: 42.4s\tremaining: 0us\n",
      "bestTest = 0.8188188332\n",
      "bestIteration = 998\n",
      "Shrink model to first 999 iterations.\n",
      "0:\tlearn: 0.1817900\ttest: 0.1783899\tbest: 0.1783899 (0)\ttotal: 65.5ms\tremaining: 1m 5s\n",
      "100:\tlearn: 0.4902834\ttest: 0.4569105\tbest: 0.4578991 (97)\ttotal: 6.85s\tremaining: 1m\n",
      "200:\tlearn: 0.5584717\ttest: 0.5269760\tbest: 0.5269760 (200)\ttotal: 13.7s\tremaining: 54.4s\n",
      "300:\tlearn: 0.6376247\ttest: 0.6091838\tbest: 0.6093074 (295)\ttotal: 20.2s\tremaining: 46.9s\n",
      "400:\tlearn: 0.6734674\ttest: 0.6498900\tbest: 0.6503235 (391)\ttotal: 26.8s\tremaining: 40.1s\n",
      "500:\tlearn: 0.7162831\ttest: 0.7011787\tbest: 0.7011787 (499)\ttotal: 33.5s\tremaining: 33.4s\n",
      "600:\tlearn: 0.7471839\ttest: 0.7299619\tbest: 0.7299619 (600)\ttotal: 40.2s\tremaining: 26.7s\n",
      "700:\tlearn: 0.7765672\ttest: 0.7629133\tbest: 0.7630936 (693)\ttotal: 46.9s\tremaining: 20s\n",
      "800:\tlearn: 0.8017155\ttest: 0.7897136\tbest: 0.7897136 (799)\ttotal: 53.8s\tremaining: 13.4s\n",
      "900:\tlearn: 0.8203704\ttest: 0.8109664\tbest: 0.8109664 (900)\ttotal: 1m\tremaining: 6.65s\n",
      "999:\tlearn: 0.8292349\ttest: 0.8246841\tbest: 0.8248940 (998)\ttotal: 1m 7s\tremaining: 0us\n",
      "bestTest = 0.824893985\n",
      "bestIteration = 998\n",
      "Shrink model to first 999 iterations.\n",
      "[I 2024-08-14 10:56:18,506] Trial 1 finished with value: 0.7533576248756345 and parameters: {'learning_rate': 0.00496130449035015, 'l2_leaf_reg': 32.83604498523018, 'auto_class_weights': 'Balanced', 'max_depth': 5, 'border_count': 76}. Best is trial 1 with value: 0.7533576248756345.\n",
      "0:\tlearn: 0.2235029\ttest: 0.2257380\tbest: 0.2257380 (0)\ttotal: 69.4ms\tremaining: 1m 9s\n",
      "100:\tlearn: 0.5420522\ttest: 0.5241301\tbest: 0.5241301 (100)\ttotal: 6.82s\tremaining: 1m\n",
      "200:\tlearn: 0.6770416\ttest: 0.6445731\tbest: 0.6458532 (199)\ttotal: 13.4s\tremaining: 53.3s\n",
      "300:\tlearn: 0.7489120\ttest: 0.7216202\tbest: 0.7216202 (300)\ttotal: 20.2s\tremaining: 46.8s\n",
      "400:\tlearn: 0.8154147\ttest: 0.8000850\tbest: 0.8000850 (400)\ttotal: 27.1s\tremaining: 40.4s\n",
      "500:\tlearn: 0.8415369\ttest: 0.8270737\tbest: 0.8277795 (495)\ttotal: 33.7s\tremaining: 33.5s\n",
      "600:\tlearn: 0.8569337\ttest: 0.8071728\tbest: 0.8339758 (533)\ttotal: 39.9s\tremaining: 26.5s\n",
      "bestTest = 0.833975754\n",
      "bestIteration = 533\n",
      "Shrink model to first 534 iterations.\n",
      "0:\tlearn: 0.1840030\ttest: 0.1923822\tbest: 0.1923822 (0)\ttotal: 69.6ms\tremaining: 1m 9s\n",
      "100:\tlearn: 0.5904307\ttest: 0.5734746\tbest: 0.5746882 (98)\ttotal: 6.86s\tremaining: 1m 1s\n",
      "200:\tlearn: 0.6900236\ttest: 0.6846186\tbest: 0.6846186 (200)\ttotal: 13.5s\tremaining: 53.7s\n",
      "300:\tlearn: 0.7579085\ttest: 0.7482121\tbest: 0.7482121 (300)\ttotal: 20.3s\tremaining: 47.2s\n",
      "400:\tlearn: 0.8140920\ttest: 0.8050713\tbest: 0.8050713 (400)\ttotal: 27.2s\tremaining: 40.6s\n",
      "500:\tlearn: 0.8377238\ttest: 0.8249973\tbest: 0.8257644 (490)\ttotal: 33.8s\tremaining: 33.7s\n",
      "600:\tlearn: 0.8537020\ttest: 0.8380883\tbest: 0.8380883 (599)\ttotal: 40.2s\tremaining: 26.7s\n",
      "700:\tlearn: 0.8632027\ttest: 0.8494806\tbest: 0.8495968 (695)\ttotal: 46.5s\tremaining: 19.8s\n",
      "800:\tlearn: 0.8750811\ttest: 0.8624285\tbest: 0.8628856 (794)\ttotal: 52.8s\tremaining: 13.1s\n",
      "900:\tlearn: 0.8842316\ttest: 0.8685071\tbest: 0.8685071 (900)\ttotal: 59.1s\tremaining: 6.5s\n",
      "999:\tlearn: 0.8925138\ttest: 0.8783943\tbest: 0.8783943 (997)\ttotal: 1m 5s\tremaining: 0us\n",
      "bestTest = 0.8783942706\n",
      "bestIteration = 997\n",
      "Shrink model to first 998 iterations.\n",
      "0:\tlearn: 0.2203374\ttest: 0.2087458\tbest: 0.2087458 (0)\ttotal: 75.5ms\tremaining: 1m 15s\n",
      "100:\tlearn: 0.5847715\ttest: 0.5545919\tbest: 0.5549828 (95)\ttotal: 6.86s\tremaining: 1m 1s\n",
      "200:\tlearn: 0.6824188\ttest: 0.6633928\tbest: 0.6633928 (200)\ttotal: 13.4s\tremaining: 53.4s\n",
      "300:\tlearn: 0.7581825\ttest: 0.7480904\tbest: 0.7480904 (300)\ttotal: 20.2s\tremaining: 46.8s\n",
      "400:\tlearn: 0.8095312\ttest: 0.8011226\tbest: 0.8011226 (400)\ttotal: 27s\tremaining: 40.3s\n",
      "500:\tlearn: 0.8399586\ttest: 0.8343851\tbest: 0.8343851 (500)\ttotal: 33.7s\tremaining: 33.5s\n",
      "600:\tlearn: 0.8561331\ttest: 0.8540111\tbest: 0.8541598 (599)\ttotal: 40s\tremaining: 26.5s\n",
      "700:\tlearn: 0.8711928\ttest: 0.8666830\tbest: 0.8668011 (695)\ttotal: 46.3s\tremaining: 19.8s\n",
      "800:\tlearn: 0.8795725\ttest: 0.8752412\tbest: 0.8753048 (795)\ttotal: 52.5s\tremaining: 13.1s\n",
      "900:\tlearn: 0.8916651\ttest: 0.8875772\tbest: 0.8875772 (900)\ttotal: 58.9s\tremaining: 6.47s\n",
      "999:\tlearn: 0.8994713\ttest: 0.8953168\tbest: 0.8953811 (997)\ttotal: 1m 5s\tremaining: 0us\n",
      "bestTest = 0.8953810502\n",
      "bestIteration = 997\n",
      "Shrink model to first 998 iterations.\n",
      "[I 2024-08-14 10:59:15,333] Trial 2 finished with value: 0.8181459391657055 and parameters: {'learning_rate': 0.009960866235200577, 'l2_leaf_reg': 26.658759105751248, 'auto_class_weights': 'Balanced', 'max_depth': 5, 'border_count': 89}. Best is trial 2 with value: 0.8181459391657055.\n",
      "CPU times: total: 15min 48s\n",
      "Wall time: 7min 29s\n"
     ]
    }
   ],
   "source": [
    "%%time\n",
    "\n",
    "study = optuna.create_study(direction='maximize')\n",
    "study.optimize(\n",
    "                lambda trial: objective(trial, X, y, categorical_features_indices),\n",
    "                n_trials=3,\n",
    "                # n_jobs = -1,\n",
    "                show_progress_bar=True,\n",
    ")"
   ]
  },
  {
   "cell_type": "code",
   "execution_count": 112,
   "metadata": {},
   "outputs": [
    {
     "name": "stdout",
     "output_type": "stream",
     "text": [
      "Best trial: score 0.8181459391657055, params {'learning_rate': 0.009960866235200577, 'l2_leaf_reg': 26.658759105751248, 'auto_class_weights': 'Balanced', 'max_depth': 5, 'border_count': 89}\n"
     ]
    }
   ],
   "source": [
    "print(\"Best trial: score {}, params {}\".format(study.best_trial.value, study.best_trial.params))"
   ]
  },
  {
   "cell_type": "code",
   "execution_count": 113,
   "metadata": {},
   "outputs": [
    {
     "name": "stdout",
     "output_type": "stream",
     "text": [
      "0:\tlearn: 0.2235029\ttest: 0.2257380\tbest: 0.2257380 (0)\ttotal: 54ms\tremaining: 54s\n",
      "100:\tlearn: 0.5420522\ttest: 0.5241301\tbest: 0.5241301 (100)\ttotal: 3.84s\tremaining: 34.2s\n",
      "200:\tlearn: 0.6770416\ttest: 0.6445731\tbest: 0.6458532 (199)\ttotal: 7.48s\tremaining: 29.7s\n",
      "300:\tlearn: 0.7489120\ttest: 0.7216202\tbest: 0.7216202 (300)\ttotal: 11.3s\tremaining: 26.2s\n",
      "400:\tlearn: 0.8154147\ttest: 0.8000850\tbest: 0.8000850 (400)\ttotal: 15.2s\tremaining: 22.7s\n",
      "500:\tlearn: 0.8415369\ttest: 0.8270737\tbest: 0.8277795 (495)\ttotal: 18.8s\tremaining: 18.8s\n",
      "600:\tlearn: 0.8569337\ttest: 0.8071728\tbest: 0.8339758 (533)\ttotal: 22.2s\tremaining: 14.7s\n",
      "bestTest = 0.833975754\n",
      "bestIteration = 533\n",
      "Shrink model to first 534 iterations.\n",
      "0:\tlearn: 0.1840030\ttest: 0.1923822\tbest: 0.1923822 (0)\ttotal: 37.3ms\tremaining: 37.2s\n",
      "100:\tlearn: 0.5904307\ttest: 0.5734746\tbest: 0.5746882 (98)\ttotal: 3.83s\tremaining: 34.1s\n",
      "200:\tlearn: 0.6900236\ttest: 0.6846186\tbest: 0.6846186 (200)\ttotal: 7.49s\tremaining: 29.8s\n",
      "300:\tlearn: 0.7579085\ttest: 0.7482121\tbest: 0.7482121 (300)\ttotal: 11.3s\tremaining: 26.2s\n",
      "400:\tlearn: 0.8140920\ttest: 0.8050713\tbest: 0.8050713 (400)\ttotal: 15.2s\tremaining: 22.7s\n",
      "500:\tlearn: 0.8377238\ttest: 0.8249973\tbest: 0.8257644 (490)\ttotal: 18.9s\tremaining: 18.8s\n",
      "600:\tlearn: 0.8537020\ttest: 0.8380883\tbest: 0.8380883 (599)\ttotal: 22.3s\tremaining: 14.8s\n",
      "700:\tlearn: 0.8632027\ttest: 0.8494806\tbest: 0.8495968 (695)\ttotal: 25.6s\tremaining: 10.9s\n",
      "800:\tlearn: 0.8750811\ttest: 0.8624285\tbest: 0.8628856 (794)\ttotal: 29s\tremaining: 7.22s\n",
      "900:\tlearn: 0.8842316\ttest: 0.8685071\tbest: 0.8685071 (900)\ttotal: 32.5s\tremaining: 3.57s\n",
      "999:\tlearn: 0.8925138\ttest: 0.8783943\tbest: 0.8783943 (997)\ttotal: 36s\tremaining: 0us\n",
      "bestTest = 0.8783942706\n",
      "bestIteration = 997\n",
      "Shrink model to first 998 iterations.\n",
      "0:\tlearn: 0.2203374\ttest: 0.2087458\tbest: 0.2087458 (0)\ttotal: 40.6ms\tremaining: 40.6s\n",
      "100:\tlearn: 0.5847715\ttest: 0.5545919\tbest: 0.5549828 (95)\ttotal: 3.89s\tremaining: 34.6s\n",
      "200:\tlearn: 0.6824188\ttest: 0.6633928\tbest: 0.6633928 (200)\ttotal: 7.6s\tremaining: 30.2s\n",
      "300:\tlearn: 0.7581825\ttest: 0.7480904\tbest: 0.7480904 (300)\ttotal: 11.4s\tremaining: 26.6s\n",
      "400:\tlearn: 0.8095312\ttest: 0.8011226\tbest: 0.8011226 (400)\ttotal: 15.3s\tremaining: 22.9s\n",
      "500:\tlearn: 0.8399586\ttest: 0.8343851\tbest: 0.8343851 (500)\ttotal: 19.1s\tremaining: 19s\n",
      "600:\tlearn: 0.8561331\ttest: 0.8540111\tbest: 0.8541598 (599)\ttotal: 22.5s\tremaining: 15s\n",
      "700:\tlearn: 0.8711928\ttest: 0.8666830\tbest: 0.8668011 (695)\ttotal: 26s\tremaining: 11.1s\n",
      "800:\tlearn: 0.8795725\ttest: 0.8752412\tbest: 0.8753048 (795)\ttotal: 29.3s\tremaining: 7.29s\n",
      "900:\tlearn: 0.8916651\ttest: 0.8875772\tbest: 0.8875772 (900)\ttotal: 32.8s\tremaining: 3.6s\n",
      "999:\tlearn: 0.8994713\ttest: 0.8953168\tbest: 0.8953811 (997)\ttotal: 36.3s\tremaining: 0us\n",
      "bestTest = 0.8953810502\n",
      "bestIteration = 997\n",
      "Shrink model to first 998 iterations.\n"
     ]
    }
   ],
   "source": [
    "%%time\n",
    "\n",
    "valid_scores, models = objective(\n",
    "    optuna.trial.FixedTrial(study.best_params),\n",
    "    X, \n",
    "    y, \n",
    "    categorical_features_indices,\n",
    "    return_models=True,\n",
    ")"
   ]
  },
  {
   "cell_type": "code",
   "execution_count": 114,
   "metadata": {},
   "outputs": [
    {
     "data": {
      "text/plain": [
       "(0.8181459391657055, 3)"
      ]
     },
     "execution_count": 114,
     "metadata": {},
     "output_type": "execute_result"
    }
   ],
   "source": [
    "valid_scores, len(models)"
   ]
  },
  {
   "cell_type": "code",
   "execution_count": 115,
   "metadata": {},
   "outputs": [
    {
     "data": {
      "text/plain": [
       "[<catboost.core.CatBoostClassifier at 0x221a6ae4520>,\n",
       " <catboost.core.CatBoostClassifier at 0x221aa21ff40>,\n",
       " <catboost.core.CatBoostClassifier at 0x221a692bbb0>]"
      ]
     },
     "execution_count": 115,
     "metadata": {},
     "output_type": "execute_result"
    }
   ],
   "source": [
    "models"
   ]
  },
  {
   "cell_type": "code",
   "execution_count": 116,
   "metadata": {},
   "outputs": [
    {
     "name": "stdout",
     "output_type": "stream",
     "text": [
      "534\n",
      "998\n",
      "998\n"
     ]
    }
   ],
   "source": [
    "for m in models:\n",
    "    print(m.tree_count_)"
   ]
  },
  {
   "cell_type": "code",
   "execution_count": 117,
   "metadata": {},
   "outputs": [
    {
     "name": "stdout",
     "output_type": "stream",
     "text": [
      "{'nan_mode': 'Min', 'gpu_ram_part': 0.95, 'eval_metric': 'TotalF1:average=Macro', 'combinations_ctr': ['Borders:CtrBorderCount=15:CtrBorderType=Uniform:TargetBorderCount=1:TargetBorderType=MinEntropy:Prior=0/1:Prior=0.5/1:Prior=1/1', 'FeatureFreq:CtrBorderCount=15:CtrBorderType=Median:Prior=0/1'], 'iterations': 1000, 'fold_permutation_block': 64, 'leaf_estimation_method': 'Newton', 'observations_to_bootstrap': 'TestOnly', 'od_pval': 0, 'random_score_type': 'NormalWithModelSizeDecrease', 'counter_calc_method': 'SkipTest', 'grow_policy': 'SymmetricTree', 'penalties_coefficient': 1, 'boosting_type': 'Plain', 'ctr_history_unit': 'Sample', 'feature_border_type': 'GreedyLogSum', 'bayesian_matrix_reg': 0.10000000149011612, 'one_hot_max_size': 2, 'devices': '-1', 'eval_fraction': 0, 'pinned_memory_bytes': '104857600', 'force_unit_auto_pair_weights': False, 'l2_leaf_reg': 26.65875816345215, 'random_strength': 1, 'od_type': 'Iter', 'rsm': 1, 'boost_from_average': False, 'gpu_cat_features_storage': 'GpuRam', 'fold_size_loss_normalization': False, 'max_ctr_complexity': 4, 'model_size_reg': 0.5, 'simple_ctr': ['Borders:CtrBorderCount=15:CtrBorderType=Uniform:TargetBorderCount=1:TargetBorderType=MinEntropy:Prior=0/1:Prior=0.5/1:Prior=1/1', 'FeatureFreq:CtrBorderCount=15:CtrBorderType=MinEntropy:Prior=0/1'], 'pool_metainfo_options': {'tags': {}}, 'use_best_model': True, 'meta_l2_frequency': 0, 'od_wait': 100, 'class_names': [0, 1, 2, 3, 6, 8, 9, 11, 12, 14, 15, 17, 19, 22, 23, 24, 25, 26, 29, 30, 32, 33, 35, 36, 37, 39, 41, 43, 46, 49, 50, 54, 55, 56], 'random_seed': 42, 'depth': 5, 'ctr_target_border_count': 1, 'has_time': False, 'border_count': 89, 'min_fold_size': 100, 'class_weights': [1.8324226140975952, 1.7742503881454468, 55.88888931274414, 2.3504672050476074, 1.179366946220398, 77.38461303710938, 1.96484375, 1.815884470939636, 1.157652497291565, 3.2243590354919434, 1.3184796571731567, 3.3311257362365723, 1.3236842155456543, 25.149999618530273, 8.902654647827148, 5.497267723083496, 9.96039581298828, 7.798449516296387, 2.3782505989074707, 251.5, 2.048879861831665, 1.802867412567139, 3.7819550037384033, 55.88888931274414, 1, 2.020080327987671, 18.98113250732422, 18.629629135131836, 5.13265323638916, 1.8458715677261353, 2.291571855545044, 2.1774892807006836, 1.0192502737045288, 20.53061294555664], 'data_partition': 'DocParallel', 'bagging_temperature': 1, 'classes_count': 0, 'auto_class_weights': 'Balanced', 'leaf_estimation_backtracking': 'AnyImprovement', 'best_model_min_trees': 1, 'min_data_in_leaf': 1, 'add_ridge_penalty_to_loss_function': False, 'loss_function': 'MultiClass', 'learning_rate': 0.009960866533219814, 'meta_l2_exponent': 1, 'score_function': 'Cosine', 'task_type': 'GPU', 'leaf_estimation_iterations': 1, 'bootstrap_type': 'Bayesian', 'max_leaves': 32, 'permutation_count': 4}\n",
      "{'nan_mode': 'Min', 'gpu_ram_part': 0.95, 'eval_metric': 'TotalF1:average=Macro', 'combinations_ctr': ['Borders:CtrBorderCount=15:CtrBorderType=Uniform:TargetBorderCount=1:TargetBorderType=MinEntropy:Prior=0/1:Prior=0.5/1:Prior=1/1', 'FeatureFreq:CtrBorderCount=15:CtrBorderType=Median:Prior=0/1'], 'iterations': 1000, 'fold_permutation_block': 64, 'leaf_estimation_method': 'Newton', 'observations_to_bootstrap': 'TestOnly', 'od_pval': 0, 'random_score_type': 'NormalWithModelSizeDecrease', 'counter_calc_method': 'SkipTest', 'grow_policy': 'SymmetricTree', 'penalties_coefficient': 1, 'boosting_type': 'Plain', 'ctr_history_unit': 'Sample', 'feature_border_type': 'GreedyLogSum', 'bayesian_matrix_reg': 0.10000000149011612, 'one_hot_max_size': 2, 'devices': '-1', 'eval_fraction': 0, 'pinned_memory_bytes': '104857600', 'force_unit_auto_pair_weights': False, 'l2_leaf_reg': 26.65875816345215, 'random_strength': 1, 'od_type': 'Iter', 'rsm': 1, 'boost_from_average': False, 'gpu_cat_features_storage': 'GpuRam', 'fold_size_loss_normalization': False, 'max_ctr_complexity': 4, 'model_size_reg': 0.5, 'simple_ctr': ['Borders:CtrBorderCount=15:CtrBorderType=Uniform:TargetBorderCount=1:TargetBorderType=MinEntropy:Prior=0/1:Prior=0.5/1:Prior=1/1', 'FeatureFreq:CtrBorderCount=15:CtrBorderType=MinEntropy:Prior=0/1'], 'pool_metainfo_options': {'tags': {}}, 'use_best_model': True, 'meta_l2_frequency': 0, 'od_wait': 100, 'class_names': [0, 1, 2, 3, 6, 8, 9, 11, 12, 14, 15, 17, 19, 22, 23, 24, 25, 26, 29, 30, 32, 33, 35, 36, 37, 39, 41, 43, 46, 49, 50, 54, 55, 56], 'random_seed': 42, 'depth': 5, 'ctr_target_border_count': 1, 'has_time': False, 'border_count': 89, 'min_fold_size': 100, 'class_weights': [1.8324226140975952, 1.7742503881454468, 55.88888931274414, 2.3449883460998535, 1.177985906600952, 83.83333587646484, 1.9686888456344604, 1.8126126527786257, 1.158986210823059, 3.234726667404175, 1.3184796571731567, 3.3311257362365723, 1.3236842155456543, 24.536584854125977, 8.82456111907959, 5.497267723083496, 10.0600004196167, 7.859375, 2.3782505989074707, 251.5, 2.044715404510498, 1.802867412567139, 3.7819550037384033, 55.88888931274414, 1, 2.020080327987671, 18.98113250732422, 18.629629135131836, 5.13265323638916, 1.842490792274475, 2.2968037128448486, 2.1774892807006836, 1.0192502737045288, 20.53061294555664], 'data_partition': 'DocParallel', 'bagging_temperature': 1, 'classes_count': 0, 'auto_class_weights': 'Balanced', 'leaf_estimation_backtracking': 'AnyImprovement', 'best_model_min_trees': 1, 'min_data_in_leaf': 1, 'add_ridge_penalty_to_loss_function': False, 'loss_function': 'MultiClass', 'learning_rate': 0.009960866533219814, 'meta_l2_exponent': 1, 'score_function': 'Cosine', 'task_type': 'GPU', 'leaf_estimation_iterations': 1, 'bootstrap_type': 'Bayesian', 'max_leaves': 32, 'permutation_count': 4}\n",
      "{'nan_mode': 'Min', 'gpu_ram_part': 0.95, 'eval_metric': 'TotalF1:average=Macro', 'combinations_ctr': ['Borders:CtrBorderCount=15:CtrBorderType=Uniform:TargetBorderCount=1:TargetBorderType=MinEntropy:Prior=0/1:Prior=0.5/1:Prior=1/1', 'FeatureFreq:CtrBorderCount=15:CtrBorderType=Median:Prior=0/1'], 'iterations': 1000, 'fold_permutation_block': 64, 'leaf_estimation_method': 'Newton', 'observations_to_bootstrap': 'TestOnly', 'od_pval': 0, 'random_score_type': 'NormalWithModelSizeDecrease', 'counter_calc_method': 'SkipTest', 'grow_policy': 'SymmetricTree', 'penalties_coefficient': 1, 'boosting_type': 'Plain', 'ctr_history_unit': 'Sample', 'feature_border_type': 'GreedyLogSum', 'bayesian_matrix_reg': 0.10000000149011612, 'one_hot_max_size': 2, 'devices': '-1', 'eval_fraction': 0, 'pinned_memory_bytes': '104857600', 'force_unit_auto_pair_weights': False, 'l2_leaf_reg': 26.65875816345215, 'random_strength': 1, 'od_type': 'Iter', 'rsm': 1, 'boost_from_average': False, 'gpu_cat_features_storage': 'GpuRam', 'fold_size_loss_normalization': False, 'max_ctr_complexity': 4, 'model_size_reg': 0.5, 'simple_ctr': ['Borders:CtrBorderCount=15:CtrBorderType=Uniform:TargetBorderCount=1:TargetBorderType=MinEntropy:Prior=0/1:Prior=0.5/1:Prior=1/1', 'FeatureFreq:CtrBorderCount=15:CtrBorderType=MinEntropy:Prior=0/1'], 'pool_metainfo_options': {'tags': {}}, 'use_best_model': True, 'meta_l2_frequency': 0, 'od_wait': 100, 'class_names': [0, 1, 2, 3, 6, 8, 9, 11, 12, 14, 15, 17, 19, 22, 23, 24, 25, 26, 29, 30, 32, 33, 35, 36, 37, 39, 41, 43, 46, 49, 50, 54, 55, 56], 'random_seed': 42, 'depth': 5, 'ctr_target_border_count': 1, 'has_time': False, 'border_count': 89, 'min_fold_size': 100, 'class_weights': [1.82909095287323, 1.7711267471313477, 55.88888931274414, 2.3449883460998535, 1.179366946220398, 77.38461303710938, 1.9686888456344604, 1.8126126527786257, 1.157652497291565, 3.234726667404175, 1.3202099800109863, 3.3311257362365723, 1.3236842155456543, 24.536584854125977, 8.902654647827148, 5.527472496032715, 9.96039581298828, 7.798449516296387, 2.3838863372802734, 251.5, 2.048879861831665, 1.802867412567139, 3.7819550037384033, 55.88888931274414, 1, 2.020080327987671, 18.629629135131836, 18.629629135131836, 5.13265323638916, 1.8458715677261353, 2.291571855545044, 2.1774892807006836, 1.0202839374542236, 20.1200008392334], 'data_partition': 'DocParallel', 'bagging_temperature': 1, 'classes_count': 0, 'auto_class_weights': 'Balanced', 'leaf_estimation_backtracking': 'AnyImprovement', 'best_model_min_trees': 1, 'min_data_in_leaf': 1, 'add_ridge_penalty_to_loss_function': False, 'loss_function': 'MultiClass', 'learning_rate': 0.009960866533219814, 'meta_l2_exponent': 1, 'score_function': 'Cosine', 'task_type': 'GPU', 'leaf_estimation_iterations': 1, 'bootstrap_type': 'Bayesian', 'max_leaves': 32, 'permutation_count': 4}\n"
     ]
    }
   ],
   "source": [
    "for m in models:\n",
    "    print(m.get_all_params())"
   ]
  },
  {
   "cell_type": "markdown",
   "metadata": {},
   "source": [
    "## Важность признаков"
   ]
  },
  {
   "cell_type": "markdown",
   "metadata": {},
   "source": [
    "### Feature Importance"
   ]
  },
  {
   "cell_type": "code",
   "execution_count": 118,
   "metadata": {},
   "outputs": [
    {
     "data": {
      "text/html": [
       "<div>\n",
       "<style scoped>\n",
       "    .dataframe tbody tr th:only-of-type {\n",
       "        vertical-align: middle;\n",
       "    }\n",
       "\n",
       "    .dataframe tbody tr th {\n",
       "        vertical-align: top;\n",
       "    }\n",
       "\n",
       "    .dataframe thead th {\n",
       "        text-align: right;\n",
       "    }\n",
       "</style>\n",
       "<table border=\"1\" class=\"dataframe\">\n",
       "  <thead>\n",
       "    <tr style=\"text-align: right;\">\n",
       "      <th></th>\n",
       "      <th>Feature Id</th>\n",
       "      <th>Importances</th>\n",
       "    </tr>\n",
       "  </thead>\n",
       "  <tbody>\n",
       "    <tr>\n",
       "      <th>0</th>\n",
       "      <td>working_time_per_week</td>\n",
       "      <td>21.06</td>\n",
       "    </tr>\n",
       "    <tr>\n",
       "      <th>1</th>\n",
       "      <td>most_frequent_gate_per_week</td>\n",
       "      <td>14.69</td>\n",
       "    </tr>\n",
       "    <tr>\n",
       "      <th>2</th>\n",
       "      <td>entry_time</td>\n",
       "      <td>10.84</td>\n",
       "    </tr>\n",
       "    <tr>\n",
       "      <th>3</th>\n",
       "      <td>pass_cnt_per_day</td>\n",
       "      <td>9.64</td>\n",
       "    </tr>\n",
       "    <tr>\n",
       "      <th>4</th>\n",
       "      <td>most_frequent_route_per_week</td>\n",
       "      <td>8.12</td>\n",
       "    </tr>\n",
       "    <tr>\n",
       "      <th>5</th>\n",
       "      <td>cnt_days_per_week</td>\n",
       "      <td>7.70</td>\n",
       "    </tr>\n",
       "    <tr>\n",
       "      <th>6</th>\n",
       "      <td>cnt_users_per_week</td>\n",
       "      <td>7.17</td>\n",
       "    </tr>\n",
       "    <tr>\n",
       "      <th>7</th>\n",
       "      <td>entrance_gate_id</td>\n",
       "      <td>6.35</td>\n",
       "    </tr>\n",
       "    <tr>\n",
       "      <th>8</th>\n",
       "      <td>working_time_per_day</td>\n",
       "      <td>4.90</td>\n",
       "    </tr>\n",
       "    <tr>\n",
       "      <th>9</th>\n",
       "      <td>exit_gate_id</td>\n",
       "      <td>3.32</td>\n",
       "    </tr>\n",
       "    <tr>\n",
       "      <th>10</th>\n",
       "      <td>daily_workload_index</td>\n",
       "      <td>2.46</td>\n",
       "    </tr>\n",
       "    <tr>\n",
       "      <th>11</th>\n",
       "      <td>most_frequent_route_per_day</td>\n",
       "      <td>1.47</td>\n",
       "    </tr>\n",
       "    <tr>\n",
       "      <th>12</th>\n",
       "      <td>most_frequent_gate_per_day</td>\n",
       "      <td>0.95</td>\n",
       "    </tr>\n",
       "    <tr>\n",
       "      <th>13</th>\n",
       "      <td>cnt_repeat_gate_ge_90s</td>\n",
       "      <td>0.62</td>\n",
       "    </tr>\n",
       "    <tr>\n",
       "      <th>14</th>\n",
       "      <td>probability_gate_id</td>\n",
       "      <td>0.27</td>\n",
       "    </tr>\n",
       "    <tr>\n",
       "      <th>15</th>\n",
       "      <td>day_of_week</td>\n",
       "      <td>0.18</td>\n",
       "    </tr>\n",
       "    <tr>\n",
       "      <th>16</th>\n",
       "      <td>daily_attendance_index</td>\n",
       "      <td>0.11</td>\n",
       "    </tr>\n",
       "    <tr>\n",
       "      <th>17</th>\n",
       "      <td>cnt_users_per_day</td>\n",
       "      <td>0.09</td>\n",
       "    </tr>\n",
       "    <tr>\n",
       "      <th>18</th>\n",
       "      <td>cnt_repeat_gate_lt_5s</td>\n",
       "      <td>0.03</td>\n",
       "    </tr>\n",
       "    <tr>\n",
       "      <th>19</th>\n",
       "      <td>is_month_end</td>\n",
       "      <td>0.02</td>\n",
       "    </tr>\n",
       "    <tr>\n",
       "      <th>20</th>\n",
       "      <td>day_of_month</td>\n",
       "      <td>0.01</td>\n",
       "    </tr>\n",
       "    <tr>\n",
       "      <th>21</th>\n",
       "      <td>sec_btw_lag_1</td>\n",
       "      <td>0.00</td>\n",
       "    </tr>\n",
       "    <tr>\n",
       "      <th>22</th>\n",
       "      <td>gate_id_lag_2</td>\n",
       "      <td>0.00</td>\n",
       "    </tr>\n",
       "    <tr>\n",
       "      <th>23</th>\n",
       "      <td>gate_id</td>\n",
       "      <td>0.00</td>\n",
       "    </tr>\n",
       "    <tr>\n",
       "      <th>24</th>\n",
       "      <td>repeat_gate_btw_5_10s</td>\n",
       "      <td>0.00</td>\n",
       "    </tr>\n",
       "    <tr>\n",
       "      <th>25</th>\n",
       "      <td>hour</td>\n",
       "      <td>0.00</td>\n",
       "    </tr>\n",
       "    <tr>\n",
       "      <th>26</th>\n",
       "      <td>gate_id_lag_1</td>\n",
       "      <td>0.00</td>\n",
       "    </tr>\n",
       "    <tr>\n",
       "      <th>27</th>\n",
       "      <td>is_weekend</td>\n",
       "      <td>0.00</td>\n",
       "    </tr>\n",
       "    <tr>\n",
       "      <th>28</th>\n",
       "      <td>time_of_day</td>\n",
       "      <td>0.00</td>\n",
       "    </tr>\n",
       "    <tr>\n",
       "      <th>29</th>\n",
       "      <td>is_month_start</td>\n",
       "      <td>0.00</td>\n",
       "    </tr>\n",
       "    <tr>\n",
       "      <th>30</th>\n",
       "      <td>gate_id_1</td>\n",
       "      <td>0.00</td>\n",
       "    </tr>\n",
       "    <tr>\n",
       "      <th>31</th>\n",
       "      <td>gate_id_2</td>\n",
       "      <td>0.00</td>\n",
       "    </tr>\n",
       "    <tr>\n",
       "      <th>32</th>\n",
       "      <td>gate_id_lag_3</td>\n",
       "      <td>0.00</td>\n",
       "    </tr>\n",
       "    <tr>\n",
       "      <th>33</th>\n",
       "      <td>gate_id_3</td>\n",
       "      <td>0.00</td>\n",
       "    </tr>\n",
       "    <tr>\n",
       "      <th>34</th>\n",
       "      <td>gate_id_lag_4</td>\n",
       "      <td>0.00</td>\n",
       "    </tr>\n",
       "    <tr>\n",
       "      <th>35</th>\n",
       "      <td>gate_id_4</td>\n",
       "      <td>0.00</td>\n",
       "    </tr>\n",
       "    <tr>\n",
       "      <th>36</th>\n",
       "      <td>gate_id_lag_5</td>\n",
       "      <td>0.00</td>\n",
       "    </tr>\n",
       "    <tr>\n",
       "      <th>37</th>\n",
       "      <td>gate_id_5</td>\n",
       "      <td>0.00</td>\n",
       "    </tr>\n",
       "    <tr>\n",
       "      <th>38</th>\n",
       "      <td>repeat_gate_lt_5s</td>\n",
       "      <td>0.00</td>\n",
       "    </tr>\n",
       "    <tr>\n",
       "      <th>39</th>\n",
       "      <td>repeat_gate_btw_10_15s</td>\n",
       "      <td>0.00</td>\n",
       "    </tr>\n",
       "    <tr>\n",
       "      <th>40</th>\n",
       "      <td>repeat_gate_btw_15_90s</td>\n",
       "      <td>0.00</td>\n",
       "    </tr>\n",
       "    <tr>\n",
       "      <th>41</th>\n",
       "      <td>repeat_gate_ge_90s</td>\n",
       "      <td>0.00</td>\n",
       "    </tr>\n",
       "    <tr>\n",
       "      <th>42</th>\n",
       "      <td>route</td>\n",
       "      <td>0.00</td>\n",
       "    </tr>\n",
       "    <tr>\n",
       "      <th>43</th>\n",
       "      <td>cnt_repeat_gate_btw_10_15s</td>\n",
       "      <td>0.00</td>\n",
       "    </tr>\n",
       "    <tr>\n",
       "      <th>44</th>\n",
       "      <td>sec_btw_3</td>\n",
       "      <td>0.00</td>\n",
       "    </tr>\n",
       "    <tr>\n",
       "      <th>45</th>\n",
       "      <td>daily_gate_pass_count</td>\n",
       "      <td>0.00</td>\n",
       "    </tr>\n",
       "    <tr>\n",
       "      <th>46</th>\n",
       "      <td>sec_btw_lag_4</td>\n",
       "      <td>0.00</td>\n",
       "    </tr>\n",
       "    <tr>\n",
       "      <th>47</th>\n",
       "      <td>cumtime_per_day</td>\n",
       "      <td>0.00</td>\n",
       "    </tr>\n",
       "    <tr>\n",
       "      <th>48</th>\n",
       "      <td>sec_btw_5</td>\n",
       "      <td>0.00</td>\n",
       "    </tr>\n",
       "    <tr>\n",
       "      <th>49</th>\n",
       "      <td>sec_btw_lag_3</td>\n",
       "      <td>0.00</td>\n",
       "    </tr>\n",
       "    <tr>\n",
       "      <th>50</th>\n",
       "      <td>sec_btw_lag_2</td>\n",
       "      <td>0.00</td>\n",
       "    </tr>\n",
       "    <tr>\n",
       "      <th>51</th>\n",
       "      <td>sec_btw_1</td>\n",
       "      <td>0.00</td>\n",
       "    </tr>\n",
       "    <tr>\n",
       "      <th>52</th>\n",
       "      <td>sec_btw_2</td>\n",
       "      <td>0.00</td>\n",
       "    </tr>\n",
       "    <tr>\n",
       "      <th>53</th>\n",
       "      <td>cnt_repeat_gate_btw_15_90s</td>\n",
       "      <td>0.00</td>\n",
       "    </tr>\n",
       "    <tr>\n",
       "      <th>54</th>\n",
       "      <td>cumtime_at_route_per_day</td>\n",
       "      <td>0.00</td>\n",
       "    </tr>\n",
       "    <tr>\n",
       "      <th>55</th>\n",
       "      <td>sec_btw_lag_5</td>\n",
       "      <td>0.00</td>\n",
       "    </tr>\n",
       "    <tr>\n",
       "      <th>56</th>\n",
       "      <td>sec_btw_4</td>\n",
       "      <td>0.00</td>\n",
       "    </tr>\n",
       "    <tr>\n",
       "      <th>57</th>\n",
       "      <td>total_minutes</td>\n",
       "      <td>0.00</td>\n",
       "    </tr>\n",
       "    <tr>\n",
       "      <th>58</th>\n",
       "      <td>total_seconds</td>\n",
       "      <td>0.00</td>\n",
       "    </tr>\n",
       "    <tr>\n",
       "      <th>59</th>\n",
       "      <td>cnt_repeat_gate_btw_5_10s</td>\n",
       "      <td>0.00</td>\n",
       "    </tr>\n",
       "  </tbody>\n",
       "</table>\n",
       "</div>"
      ],
      "text/plain": [
       "                      Feature Id  Importances\n",
       "0          working_time_per_week        21.06\n",
       "1    most_frequent_gate_per_week        14.69\n",
       "2                     entry_time        10.84\n",
       "3               pass_cnt_per_day         9.64\n",
       "4   most_frequent_route_per_week         8.12\n",
       "5              cnt_days_per_week         7.70\n",
       "6             cnt_users_per_week         7.17\n",
       "7               entrance_gate_id         6.35\n",
       "8           working_time_per_day         4.90\n",
       "9                   exit_gate_id         3.32\n",
       "10          daily_workload_index         2.46\n",
       "11   most_frequent_route_per_day         1.47\n",
       "12    most_frequent_gate_per_day         0.95\n",
       "13        cnt_repeat_gate_ge_90s         0.62\n",
       "14           probability_gate_id         0.27\n",
       "15                   day_of_week         0.18\n",
       "16        daily_attendance_index         0.11\n",
       "17             cnt_users_per_day         0.09\n",
       "18         cnt_repeat_gate_lt_5s         0.03\n",
       "19                  is_month_end         0.02\n",
       "20                  day_of_month         0.01\n",
       "21                 sec_btw_lag_1         0.00\n",
       "22                 gate_id_lag_2         0.00\n",
       "23                       gate_id         0.00\n",
       "24         repeat_gate_btw_5_10s         0.00\n",
       "25                          hour         0.00\n",
       "26                 gate_id_lag_1         0.00\n",
       "27                    is_weekend         0.00\n",
       "28                   time_of_day         0.00\n",
       "29                is_month_start         0.00\n",
       "30                     gate_id_1         0.00\n",
       "31                     gate_id_2         0.00\n",
       "32                 gate_id_lag_3         0.00\n",
       "33                     gate_id_3         0.00\n",
       "34                 gate_id_lag_4         0.00\n",
       "35                     gate_id_4         0.00\n",
       "36                 gate_id_lag_5         0.00\n",
       "37                     gate_id_5         0.00\n",
       "38             repeat_gate_lt_5s         0.00\n",
       "39        repeat_gate_btw_10_15s         0.00\n",
       "40        repeat_gate_btw_15_90s         0.00\n",
       "41            repeat_gate_ge_90s         0.00\n",
       "42                         route         0.00\n",
       "43    cnt_repeat_gate_btw_10_15s         0.00\n",
       "44                     sec_btw_3         0.00\n",
       "45         daily_gate_pass_count         0.00\n",
       "46                 sec_btw_lag_4         0.00\n",
       "47               cumtime_per_day         0.00\n",
       "48                     sec_btw_5         0.00\n",
       "49                 sec_btw_lag_3         0.00\n",
       "50                 sec_btw_lag_2         0.00\n",
       "51                     sec_btw_1         0.00\n",
       "52                     sec_btw_2         0.00\n",
       "53    cnt_repeat_gate_btw_15_90s         0.00\n",
       "54      cumtime_at_route_per_day         0.00\n",
       "55                 sec_btw_lag_5         0.00\n",
       "56                     sec_btw_4         0.00\n",
       "57                 total_minutes         0.00\n",
       "58                 total_seconds         0.00\n",
       "59     cnt_repeat_gate_btw_5_10s         0.00"
      ]
     },
     "execution_count": 118,
     "metadata": {},
     "output_type": "execute_result"
    }
   ],
   "source": [
    "models[1].get_feature_importance(prettified=True)"
   ]
  },
  {
   "cell_type": "code",
   "execution_count": 119,
   "metadata": {},
   "outputs": [],
   "source": [
    "feature_importance = models[1].feature_importances_\n",
    "sorted_idx = np.argsort(feature_importance)"
   ]
  },
  {
   "cell_type": "code",
   "execution_count": 105,
   "metadata": {},
   "outputs": [],
   "source": [
    "# plt.figure(figsize=(15, 15))\n",
    "# plt.barh(np.array(X.columns)[sorted_idx], feature_importance[sorted_idx], color='skyblue')\n",
    "# plt.xlabel('Importance')\n",
    "# plt.ylabel('Features')\n",
    "# plt.title('Feature Importance in CatBoostClassifier')\n",
    "# plt.grid(axis='x', linestyle='--', linewidth=0.7)"
   ]
  },
  {
   "cell_type": "markdown",
   "metadata": {},
   "source": [
    "### SHAP values"
   ]
  },
  {
   "cell_type": "code",
   "execution_count": null,
   "metadata": {},
   "outputs": [],
   "source": []
  },
  {
   "cell_type": "markdown",
   "metadata": {},
   "source": [
    "## Отбор признаков"
   ]
  },
  {
   "cell_type": "code",
   "execution_count": 120,
   "metadata": {},
   "outputs": [],
   "source": [
    "# создаем список имен признаков\n",
    "feature_names = list(X_train.columns)\n",
    "\n",
    "# создаем список категориальных признаков\n",
    "cat_features = categorical_columns\n",
    "\n",
    "# создаем обучающий и проверочный пулы\n",
    "train_pool = Pool(X_train, \n",
    "                  y_train,\n",
    "                  feature_names=feature_names, \n",
    "                  cat_features=cat_features)\n",
    "\n",
    "test_pool = Pool(X_test, \n",
    "                 y_test, \n",
    "                 feature_names=feature_names, \n",
    "                 cat_features=cat_features)"
   ]
  },
  {
   "cell_type": "code",
   "execution_count": 108,
   "metadata": {},
   "outputs": [],
   "source": [
    " model = CatBoostClassifier(\n",
    "                                random_seed=RANDOM_STATE,\n",
    "                                loss_function='MultiClass',\n",
    "                                # eval_metric='TotalF1:average=Macro',\n",
    "                                cat_features=categorical_features_indices,\n",
    "                                thread_count=-1,\n",
    "                                task_type='GPU',\n",
    "    )"
   ]
  },
  {
   "cell_type": "code",
   "execution_count": 121,
   "metadata": {},
   "outputs": [
    {
     "data": {
      "text/plain": [
       "{'learning_rate': 0.009960866235200577,\n",
       " 'l2_leaf_reg': 26.658759105751248,\n",
       " 'auto_class_weights': 'Balanced',\n",
       " 'max_depth': 5,\n",
       " 'border_count': 89}"
      ]
     },
     "execution_count": 121,
     "metadata": {},
     "output_type": "execute_result"
    }
   ],
   "source": [
    "study.best_params"
   ]
  },
  {
   "cell_type": "code",
   "execution_count": 124,
   "metadata": {},
   "outputs": [],
   "source": [
    "# пишем функцию отбора признаков на основе \n",
    "# рекурсивного удаления признаков\n",
    "def catboost_select_features(\n",
    "    algorithm: EFeaturesSelectionAlgorithm, \n",
    "    steps: int = 1):\n",
    "    print('Algorithm:', algorithm)\n",
    "    model = CatBoostClassifier(\n",
    "                    **study.best_params,\n",
    "                    n_estimators=998,\n",
    "                    random_seed=RANDOM_STATE,\n",
    "                    loss_function='MultiClass',\n",
    "                    eval_metric='TotalF1:average=Macro',\n",
    "                    # cat_features=categorical_features_indices,\n",
    "                    thread_count=-1,\n",
    "                    task_type='GPU'\n",
    "    )\n",
    "    summary = model.select_features(\n",
    "        # обучающий пул\n",
    "        train_pool,\n",
    "        # проверочный пул\n",
    "        eval_set=test_pool,\n",
    "        # список признаков, участвующих в отборе\n",
    "        features_for_select=list(range(train_pool.num_col())),\n",
    "        # количество отбираемых признаков\n",
    "        num_features_to_select=21,\n",
    "        # количество итераций обучения модели, вычисляющей \n",
    "        # оценки важностей (чем больше, тем лучше качество)\n",
    "        steps=steps,\n",
    "        # алгоритм отбора\n",
    "        algorithm=algorithm,\n",
    "        # метод вычисления значений SHAP\n",
    "        shap_calc_type=EShapCalcType.Regular,\n",
    "        # обучаем модель с отобранными признаками\n",
    "        train_final_model=True,\n",
    "        # уровень детализации вывода\n",
    "        logging_level='Silent',\n",
    "        # отрисовка кривых обучения и валидации\n",
    "        plot=True\n",
    "    )\n",
    "    print('Selected features:', summary['selected_features_names'])\n",
    "    return summary"
   ]
  },
  {
   "cell_type": "code",
   "execution_count": 125,
   "metadata": {},
   "outputs": [
    {
     "name": "stdout",
     "output_type": "stream",
     "text": [
      "Algorithm: EFeaturesSelectionAlgorithm.RecursiveByShapValues\n"
     ]
    },
    {
     "data": {
      "application/vnd.jupyter.widget-view+json": {
       "model_id": "57f5e24a479d4f4c86994a34b184fe52",
       "version_major": 2,
       "version_minor": 0
      },
      "text/plain": [
       "MetricVisualizer(layout=Layout(align_self='stretch', height='500px'))"
      ]
     },
     "metadata": {},
     "output_type": "display_data"
    },
    {
     "data": {
      "application/vnd.plotly.v1+json": {
       "config": {
        "plotlyServerURL": "https://plot.ly"
       },
       "data": [
        {
         "line": {
          "color": "rgb(51,160,44)"
         },
         "mode": "lines+markers",
         "name": "",
         "text": [
          "",
          "gate_id",
          "hour",
          "gate_id_lag_1",
          "day_of_month",
          "is_weekend",
          "time_of_day",
          "is_month_start",
          "total_seconds",
          "cnt_repeat_gate_btw_5_10s",
          "gate_id_1",
          "gate_id_2",
          "gate_id_lag_3",
          "gate_id_3",
          "gate_id_lag_4",
          "gate_id_4",
          "gate_id_lag_5",
          "gate_id_5",
          "repeat_gate_lt_5s",
          "repeat_gate_btw_5_10s",
          "repeat_gate_btw_10_15s",
          "repeat_gate_btw_15_90s",
          "repeat_gate_ge_90s",
          "route",
          "cnt_repeat_gate_btw_10_15s",
          "sec_btw_3",
          "daily_gate_pass_count",
          "sec_btw_lag_4",
          "cumtime_per_day",
          "sec_btw_5",
          "sec_btw_lag_1",
          "sec_btw_lag_3",
          "sec_btw_lag_2",
          "sec_btw_1",
          "sec_btw_2",
          "cnt_repeat_gate_btw_15_90s",
          "cumtime_at_route_per_day",
          "sec_btw_lag_5",
          "sec_btw_4",
          "total_minutes"
         ],
         "type": "scatter",
         "x": [
          0,
          1,
          2,
          3,
          4,
          5,
          6,
          7,
          8,
          9,
          10,
          11,
          12,
          13,
          14,
          15,
          16,
          17,
          18,
          19,
          20,
          21,
          22,
          23,
          24,
          25,
          26,
          27,
          28,
          29,
          30,
          31,
          32,
          33,
          34,
          35,
          36,
          37,
          38,
          39
         ],
         "y": [
          0.6087072210392875,
          0.6087072210392875,
          0.6087072210392875,
          0.6087072210392875,
          0.6087072210392875,
          0.6087072210392875,
          0.6087072210392875,
          0.6087072210392875,
          0.6087072210392875,
          0.6087072210392875,
          0.6087072210392875,
          0.6087072210392875,
          0.6087072210392875,
          0.6087072210392875,
          0.6087072210392875,
          0.6087072210392875,
          0.6087072210392875,
          0.6087072210392875,
          0.6087072210392875,
          0.6087072210392875,
          0.6087072210392875,
          0.6087072210392875,
          0.6072469195122647,
          0.6057866179852419,
          0.6043263164582191,
          0.6028660149311963,
          0.6014057134041735,
          0.5999454118771507,
          0.5984851103501279,
          0.5984851103501279,
          0.5984851103501279,
          0.5984851103501279,
          0.5984851103501279,
          0.5984851103501279,
          0.5984851103501279,
          0.5984851103501279,
          0.5984851103501279,
          0.5984851103501279,
          0.5984851103501279,
          0.5984851103501279
         ]
        },
        {
         "marker": {
          "size": 10,
          "symbol": "square"
         },
         "mode": "markers",
         "name": "",
         "text": [
          "",
          "gate_id_2",
          "repeat_gate_btw_15_90s",
          "cumtime_per_day",
          "sec_btw_2",
          "total_minutes"
         ],
         "type": "scatter",
         "x": [
          0,
          11,
          21,
          28,
          34,
          39
         ],
         "y": [
          0.6087072210392875,
          0.6087072210392875,
          0.6087072210392875,
          0.5984851103501279,
          0.5984851103501279,
          0.5984851103501279
         ]
        },
        {
         "mode": "text",
         "name": "",
         "text": [
          "",
          "0",
          "1",
          "2",
          "3",
          "5",
          "6",
          "7",
          "57",
          "59",
          "11",
          "13",
          "14",
          "15",
          "16",
          "17",
          "18",
          "19",
          "20",
          "21",
          "22",
          "23",
          "24",
          "25",
          "30",
          "32",
          "33",
          "34",
          "36",
          "37",
          "39",
          "40",
          "42",
          "43",
          "44",
          "45",
          "47",
          "49",
          "51",
          "52"
         ],
         "textfont": {
          "color": "rgb(51,160,44)",
          "family": "sans serif",
          "size": 18
         },
         "textposition": "bottom center",
         "type": "scatter",
         "visible": false,
         "x": [
          0,
          1,
          2,
          3,
          4,
          5,
          6,
          7,
          8,
          9,
          10,
          11,
          12,
          13,
          14,
          15,
          16,
          17,
          18,
          19,
          20,
          21,
          22,
          23,
          24,
          25,
          26,
          27,
          28,
          29,
          30,
          31,
          32,
          33,
          34,
          35,
          36,
          37,
          38,
          39
         ],
         "y": [
          0.6087072210392875,
          0.6087072210392875,
          0.6087072210392875,
          0.6087072210392875,
          0.6087072210392875,
          0.6087072210392875,
          0.6087072210392875,
          0.6087072210392875,
          0.6087072210392875,
          0.6087072210392875,
          0.6087072210392875,
          0.6087072210392875,
          0.6087072210392875,
          0.6087072210392875,
          0.6087072210392875,
          0.6087072210392875,
          0.6087072210392875,
          0.6087072210392875,
          0.6087072210392875,
          0.6087072210392875,
          0.6087072210392875,
          0.6087072210392875,
          0.6072469195122647,
          0.6057866179852419,
          0.6043263164582191,
          0.6028660149311963,
          0.6014057134041735,
          0.5999454118771507,
          0.5984851103501279,
          0.5984851103501279,
          0.5984851103501279,
          0.5984851103501279,
          0.5984851103501279,
          0.5984851103501279,
          0.5984851103501279,
          0.5984851103501279,
          0.5984851103501279,
          0.5984851103501279,
          0.5984851103501279,
          0.5984851103501279
         ]
        },
        {
         "mode": "text",
         "name": "",
         "text": [
          "",
          "gate_id",
          "hour",
          "gate_id_lag_1",
          "day_of_month",
          "is_weekend",
          "time_of_day",
          "is_month_start",
          "total_seconds",
          "cnt_repeat_gate_btw_5_10s",
          "gate_id_1",
          "gate_id_2",
          "gate_id_lag_3",
          "gate_id_3",
          "gate_id_lag_4",
          "gate_id_4",
          "gate_id_lag_5",
          "gate_id_5",
          "repeat_gate_lt_5s",
          "repeat_gate_btw_5_10s",
          "repeat_gate_btw_10_15s",
          "repeat_gate_btw_15_90s",
          "repeat_gate_ge_90s",
          "route",
          "cnt_repeat_gate_btw_10_15s",
          "sec_btw_3",
          "daily_gate_pass_count",
          "sec_btw_lag_4",
          "cumtime_per_day",
          "sec_btw_5",
          "sec_btw_lag_1",
          "sec_btw_lag_3",
          "sec_btw_lag_2",
          "sec_btw_1",
          "sec_btw_2",
          "cnt_repeat_gate_btw_15_90s",
          "cumtime_at_route_per_day",
          "sec_btw_lag_5",
          "sec_btw_4",
          "total_minutes"
         ],
         "textfont": {
          "color": "rgb(51,160,44)",
          "family": "sans serif",
          "size": 18
         },
         "textposition": "bottom center",
         "type": "scatter",
         "visible": false,
         "x": [
          0,
          1,
          2,
          3,
          4,
          5,
          6,
          7,
          8,
          9,
          10,
          11,
          12,
          13,
          14,
          15,
          16,
          17,
          18,
          19,
          20,
          21,
          22,
          23,
          24,
          25,
          26,
          27,
          28,
          29,
          30,
          31,
          32,
          33,
          34,
          35,
          36,
          37,
          38,
          39
         ],
         "y": [
          0.6087072210392875,
          0.6087072210392875,
          0.6087072210392875,
          0.6087072210392875,
          0.6087072210392875,
          0.6087072210392875,
          0.6087072210392875,
          0.6087072210392875,
          0.6087072210392875,
          0.6087072210392875,
          0.6087072210392875,
          0.6087072210392875,
          0.6087072210392875,
          0.6087072210392875,
          0.6087072210392875,
          0.6087072210392875,
          0.6087072210392875,
          0.6087072210392875,
          0.6087072210392875,
          0.6087072210392875,
          0.6087072210392875,
          0.6087072210392875,
          0.6072469195122647,
          0.6057866179852419,
          0.6043263164582191,
          0.6028660149311963,
          0.6014057134041735,
          0.5999454118771507,
          0.5984851103501279,
          0.5984851103501279,
          0.5984851103501279,
          0.5984851103501279,
          0.5984851103501279,
          0.5984851103501279,
          0.5984851103501279,
          0.5984851103501279,
          0.5984851103501279,
          0.5984851103501279,
          0.5984851103501279,
          0.5984851103501279
         ]
        }
       ],
       "layout": {
        "showlegend": false,
        "template": {
         "data": {
          "bar": [
           {
            "error_x": {
             "color": "#2a3f5f"
            },
            "error_y": {
             "color": "#2a3f5f"
            },
            "marker": {
             "line": {
              "color": "#E5ECF6",
              "width": 0.5
             },
             "pattern": {
              "fillmode": "overlay",
              "size": 10,
              "solidity": 0.2
             }
            },
            "type": "bar"
           }
          ],
          "barpolar": [
           {
            "marker": {
             "line": {
              "color": "#E5ECF6",
              "width": 0.5
             },
             "pattern": {
              "fillmode": "overlay",
              "size": 10,
              "solidity": 0.2
             }
            },
            "type": "barpolar"
           }
          ],
          "carpet": [
           {
            "aaxis": {
             "endlinecolor": "#2a3f5f",
             "gridcolor": "white",
             "linecolor": "white",
             "minorgridcolor": "white",
             "startlinecolor": "#2a3f5f"
            },
            "baxis": {
             "endlinecolor": "#2a3f5f",
             "gridcolor": "white",
             "linecolor": "white",
             "minorgridcolor": "white",
             "startlinecolor": "#2a3f5f"
            },
            "type": "carpet"
           }
          ],
          "choropleth": [
           {
            "colorbar": {
             "outlinewidth": 0,
             "ticks": ""
            },
            "type": "choropleth"
           }
          ],
          "contour": [
           {
            "colorbar": {
             "outlinewidth": 0,
             "ticks": ""
            },
            "colorscale": [
             [
              0,
              "#0d0887"
             ],
             [
              0.1111111111111111,
              "#46039f"
             ],
             [
              0.2222222222222222,
              "#7201a8"
             ],
             [
              0.3333333333333333,
              "#9c179e"
             ],
             [
              0.4444444444444444,
              "#bd3786"
             ],
             [
              0.5555555555555556,
              "#d8576b"
             ],
             [
              0.6666666666666666,
              "#ed7953"
             ],
             [
              0.7777777777777778,
              "#fb9f3a"
             ],
             [
              0.8888888888888888,
              "#fdca26"
             ],
             [
              1,
              "#f0f921"
             ]
            ],
            "type": "contour"
           }
          ],
          "contourcarpet": [
           {
            "colorbar": {
             "outlinewidth": 0,
             "ticks": ""
            },
            "type": "contourcarpet"
           }
          ],
          "heatmap": [
           {
            "colorbar": {
             "outlinewidth": 0,
             "ticks": ""
            },
            "colorscale": [
             [
              0,
              "#0d0887"
             ],
             [
              0.1111111111111111,
              "#46039f"
             ],
             [
              0.2222222222222222,
              "#7201a8"
             ],
             [
              0.3333333333333333,
              "#9c179e"
             ],
             [
              0.4444444444444444,
              "#bd3786"
             ],
             [
              0.5555555555555556,
              "#d8576b"
             ],
             [
              0.6666666666666666,
              "#ed7953"
             ],
             [
              0.7777777777777778,
              "#fb9f3a"
             ],
             [
              0.8888888888888888,
              "#fdca26"
             ],
             [
              1,
              "#f0f921"
             ]
            ],
            "type": "heatmap"
           }
          ],
          "heatmapgl": [
           {
            "colorbar": {
             "outlinewidth": 0,
             "ticks": ""
            },
            "colorscale": [
             [
              0,
              "#0d0887"
             ],
             [
              0.1111111111111111,
              "#46039f"
             ],
             [
              0.2222222222222222,
              "#7201a8"
             ],
             [
              0.3333333333333333,
              "#9c179e"
             ],
             [
              0.4444444444444444,
              "#bd3786"
             ],
             [
              0.5555555555555556,
              "#d8576b"
             ],
             [
              0.6666666666666666,
              "#ed7953"
             ],
             [
              0.7777777777777778,
              "#fb9f3a"
             ],
             [
              0.8888888888888888,
              "#fdca26"
             ],
             [
              1,
              "#f0f921"
             ]
            ],
            "type": "heatmapgl"
           }
          ],
          "histogram": [
           {
            "marker": {
             "pattern": {
              "fillmode": "overlay",
              "size": 10,
              "solidity": 0.2
             }
            },
            "type": "histogram"
           }
          ],
          "histogram2d": [
           {
            "colorbar": {
             "outlinewidth": 0,
             "ticks": ""
            },
            "colorscale": [
             [
              0,
              "#0d0887"
             ],
             [
              0.1111111111111111,
              "#46039f"
             ],
             [
              0.2222222222222222,
              "#7201a8"
             ],
             [
              0.3333333333333333,
              "#9c179e"
             ],
             [
              0.4444444444444444,
              "#bd3786"
             ],
             [
              0.5555555555555556,
              "#d8576b"
             ],
             [
              0.6666666666666666,
              "#ed7953"
             ],
             [
              0.7777777777777778,
              "#fb9f3a"
             ],
             [
              0.8888888888888888,
              "#fdca26"
             ],
             [
              1,
              "#f0f921"
             ]
            ],
            "type": "histogram2d"
           }
          ],
          "histogram2dcontour": [
           {
            "colorbar": {
             "outlinewidth": 0,
             "ticks": ""
            },
            "colorscale": [
             [
              0,
              "#0d0887"
             ],
             [
              0.1111111111111111,
              "#46039f"
             ],
             [
              0.2222222222222222,
              "#7201a8"
             ],
             [
              0.3333333333333333,
              "#9c179e"
             ],
             [
              0.4444444444444444,
              "#bd3786"
             ],
             [
              0.5555555555555556,
              "#d8576b"
             ],
             [
              0.6666666666666666,
              "#ed7953"
             ],
             [
              0.7777777777777778,
              "#fb9f3a"
             ],
             [
              0.8888888888888888,
              "#fdca26"
             ],
             [
              1,
              "#f0f921"
             ]
            ],
            "type": "histogram2dcontour"
           }
          ],
          "mesh3d": [
           {
            "colorbar": {
             "outlinewidth": 0,
             "ticks": ""
            },
            "type": "mesh3d"
           }
          ],
          "parcoords": [
           {
            "line": {
             "colorbar": {
              "outlinewidth": 0,
              "ticks": ""
             }
            },
            "type": "parcoords"
           }
          ],
          "pie": [
           {
            "automargin": true,
            "type": "pie"
           }
          ],
          "scatter": [
           {
            "fillpattern": {
             "fillmode": "overlay",
             "size": 10,
             "solidity": 0.2
            },
            "type": "scatter"
           }
          ],
          "scatter3d": [
           {
            "line": {
             "colorbar": {
              "outlinewidth": 0,
              "ticks": ""
             }
            },
            "marker": {
             "colorbar": {
              "outlinewidth": 0,
              "ticks": ""
             }
            },
            "type": "scatter3d"
           }
          ],
          "scattercarpet": [
           {
            "marker": {
             "colorbar": {
              "outlinewidth": 0,
              "ticks": ""
             }
            },
            "type": "scattercarpet"
           }
          ],
          "scattergeo": [
           {
            "marker": {
             "colorbar": {
              "outlinewidth": 0,
              "ticks": ""
             }
            },
            "type": "scattergeo"
           }
          ],
          "scattergl": [
           {
            "marker": {
             "colorbar": {
              "outlinewidth": 0,
              "ticks": ""
             }
            },
            "type": "scattergl"
           }
          ],
          "scattermapbox": [
           {
            "marker": {
             "colorbar": {
              "outlinewidth": 0,
              "ticks": ""
             }
            },
            "type": "scattermapbox"
           }
          ],
          "scatterpolar": [
           {
            "marker": {
             "colorbar": {
              "outlinewidth": 0,
              "ticks": ""
             }
            },
            "type": "scatterpolar"
           }
          ],
          "scatterpolargl": [
           {
            "marker": {
             "colorbar": {
              "outlinewidth": 0,
              "ticks": ""
             }
            },
            "type": "scatterpolargl"
           }
          ],
          "scatterternary": [
           {
            "marker": {
             "colorbar": {
              "outlinewidth": 0,
              "ticks": ""
             }
            },
            "type": "scatterternary"
           }
          ],
          "surface": [
           {
            "colorbar": {
             "outlinewidth": 0,
             "ticks": ""
            },
            "colorscale": [
             [
              0,
              "#0d0887"
             ],
             [
              0.1111111111111111,
              "#46039f"
             ],
             [
              0.2222222222222222,
              "#7201a8"
             ],
             [
              0.3333333333333333,
              "#9c179e"
             ],
             [
              0.4444444444444444,
              "#bd3786"
             ],
             [
              0.5555555555555556,
              "#d8576b"
             ],
             [
              0.6666666666666666,
              "#ed7953"
             ],
             [
              0.7777777777777778,
              "#fb9f3a"
             ],
             [
              0.8888888888888888,
              "#fdca26"
             ],
             [
              1,
              "#f0f921"
             ]
            ],
            "type": "surface"
           }
          ],
          "table": [
           {
            "cells": {
             "fill": {
              "color": "#EBF0F8"
             },
             "line": {
              "color": "white"
             }
            },
            "header": {
             "fill": {
              "color": "#C8D4E3"
             },
             "line": {
              "color": "white"
             }
            },
            "type": "table"
           }
          ]
         },
         "layout": {
          "annotationdefaults": {
           "arrowcolor": "#2a3f5f",
           "arrowhead": 0,
           "arrowwidth": 1
          },
          "autotypenumbers": "strict",
          "coloraxis": {
           "colorbar": {
            "outlinewidth": 0,
            "ticks": ""
           }
          },
          "colorscale": {
           "diverging": [
            [
             0,
             "#8e0152"
            ],
            [
             0.1,
             "#c51b7d"
            ],
            [
             0.2,
             "#de77ae"
            ],
            [
             0.3,
             "#f1b6da"
            ],
            [
             0.4,
             "#fde0ef"
            ],
            [
             0.5,
             "#f7f7f7"
            ],
            [
             0.6,
             "#e6f5d0"
            ],
            [
             0.7,
             "#b8e186"
            ],
            [
             0.8,
             "#7fbc41"
            ],
            [
             0.9,
             "#4d9221"
            ],
            [
             1,
             "#276419"
            ]
           ],
           "sequential": [
            [
             0,
             "#0d0887"
            ],
            [
             0.1111111111111111,
             "#46039f"
            ],
            [
             0.2222222222222222,
             "#7201a8"
            ],
            [
             0.3333333333333333,
             "#9c179e"
            ],
            [
             0.4444444444444444,
             "#bd3786"
            ],
            [
             0.5555555555555556,
             "#d8576b"
            ],
            [
             0.6666666666666666,
             "#ed7953"
            ],
            [
             0.7777777777777778,
             "#fb9f3a"
            ],
            [
             0.8888888888888888,
             "#fdca26"
            ],
            [
             1,
             "#f0f921"
            ]
           ],
           "sequentialminus": [
            [
             0,
             "#0d0887"
            ],
            [
             0.1111111111111111,
             "#46039f"
            ],
            [
             0.2222222222222222,
             "#7201a8"
            ],
            [
             0.3333333333333333,
             "#9c179e"
            ],
            [
             0.4444444444444444,
             "#bd3786"
            ],
            [
             0.5555555555555556,
             "#d8576b"
            ],
            [
             0.6666666666666666,
             "#ed7953"
            ],
            [
             0.7777777777777778,
             "#fb9f3a"
            ],
            [
             0.8888888888888888,
             "#fdca26"
            ],
            [
             1,
             "#f0f921"
            ]
           ]
          },
          "colorway": [
           "#636efa",
           "#EF553B",
           "#00cc96",
           "#ab63fa",
           "#FFA15A",
           "#19d3f3",
           "#FF6692",
           "#B6E880",
           "#FF97FF",
           "#FECB52"
          ],
          "font": {
           "color": "#2a3f5f"
          },
          "geo": {
           "bgcolor": "white",
           "lakecolor": "white",
           "landcolor": "#E5ECF6",
           "showlakes": true,
           "showland": true,
           "subunitcolor": "white"
          },
          "hoverlabel": {
           "align": "left"
          },
          "hovermode": "closest",
          "mapbox": {
           "style": "light"
          },
          "paper_bgcolor": "white",
          "plot_bgcolor": "#E5ECF6",
          "polar": {
           "angularaxis": {
            "gridcolor": "white",
            "linecolor": "white",
            "ticks": ""
           },
           "bgcolor": "#E5ECF6",
           "radialaxis": {
            "gridcolor": "white",
            "linecolor": "white",
            "ticks": ""
           }
          },
          "scene": {
           "xaxis": {
            "backgroundcolor": "#E5ECF6",
            "gridcolor": "white",
            "gridwidth": 2,
            "linecolor": "white",
            "showbackground": true,
            "ticks": "",
            "zerolinecolor": "white"
           },
           "yaxis": {
            "backgroundcolor": "#E5ECF6",
            "gridcolor": "white",
            "gridwidth": 2,
            "linecolor": "white",
            "showbackground": true,
            "ticks": "",
            "zerolinecolor": "white"
           },
           "zaxis": {
            "backgroundcolor": "#E5ECF6",
            "gridcolor": "white",
            "gridwidth": 2,
            "linecolor": "white",
            "showbackground": true,
            "ticks": "",
            "zerolinecolor": "white"
           }
          },
          "shapedefaults": {
           "line": {
            "color": "#2a3f5f"
           }
          },
          "ternary": {
           "aaxis": {
            "gridcolor": "white",
            "linecolor": "white",
            "ticks": ""
           },
           "baxis": {
            "gridcolor": "white",
            "linecolor": "white",
            "ticks": ""
           },
           "bgcolor": "#E5ECF6",
           "caxis": {
            "gridcolor": "white",
            "linecolor": "white",
            "ticks": ""
           }
          },
          "title": {
           "x": 0.05
          },
          "xaxis": {
           "automargin": true,
           "gridcolor": "white",
           "linecolor": "white",
           "ticks": "",
           "title": {
            "standoff": 15
           },
           "zerolinecolor": "white",
           "zerolinewidth": 2
          },
          "yaxis": {
           "automargin": true,
           "gridcolor": "white",
           "linecolor": "white",
           "ticks": "",
           "title": {
            "standoff": 15
           },
           "zerolinecolor": "white",
           "zerolinewidth": 2
          }
         }
        },
        "title": {
         "text": "Loss by eliminated features"
        },
        "updatemenus": [
         {
          "active": 0,
          "buttons": [
           {
            "args": [
             {
              "visible": [
               true,
               true,
               false,
               false
              ]
             }
            ],
            "label": "Hide features",
            "method": "update"
           },
           {
            "args": [
             {
              "visible": [
               true,
               true,
               true,
               false
              ]
             }
            ],
            "label": "Show indices",
            "method": "update"
           },
           {
            "args": [
             {
              "visible": [
               true,
               true,
               false,
               true
              ]
             }
            ],
            "label": "Show names",
            "method": "update"
           }
          ],
          "pad": {
           "r": 10,
           "t": 10
          },
          "showactive": true,
          "x": -0.25,
          "xanchor": "left",
          "y": 1.03,
          "yanchor": "top"
         }
        ],
        "xaxis": {
         "gridcolor": "rgb(255,255,255)",
         "showgrid": true,
         "showline": false,
         "showticklabels": true,
         "tickcolor": "rgb(127,127,127)",
         "ticks": "outside",
         "title": {
          "text": "number of removed features"
         },
         "zeroline": false
        },
        "yaxis": {
         "gridcolor": "rgb(255,255,255)",
         "showgrid": true,
         "showline": false,
         "showticklabels": true,
         "tickcolor": "rgb(127,127,127)",
         "tickfont": {
          "color": "rgb(51,160,44)"
         },
         "ticks": "outside",
         "title": {
          "font": {
           "color": "rgb(51,160,44)"
          },
          "text": "loss value"
         },
         "zeroline": false
        }
       }
      }
     },
     "metadata": {},
     "output_type": "display_data"
    },
    {
     "name": "stdout",
     "output_type": "stream",
     "text": [
      "Selected features: ['day_of_week', 'is_month_end', 'entrance_gate_id', 'exit_gate_id', 'gate_id_lag_2', 'most_frequent_gate_per_day', 'most_frequent_gate_per_week', 'most_frequent_route_per_day', 'most_frequent_route_per_week', 'entry_time', 'working_time_per_week', 'cnt_users_per_week', 'daily_attendance_index', 'pass_cnt_per_day', 'working_time_per_day', 'cnt_users_per_day', 'daily_workload_index', 'cnt_repeat_gate_lt_5s', 'probability_gate_id', 'cnt_days_per_week', 'cnt_repeat_gate_ge_90s']\n",
      "CPU times: total: 12min 30s\n",
      "Wall time: 5min 25s\n"
     ]
    }
   ],
   "source": [
    "%%time\n",
    "\n",
    "# выполняем отбор признаков\n",
    "shap_summary = catboost_select_features(\n",
    "    algorithm=EFeaturesSelectionAlgorithm.RecursiveByShapValues, \n",
    "    steps=5\n",
    ")"
   ]
  },
  {
   "cell_type": "code",
   "execution_count": 137,
   "metadata": {},
   "outputs": [
    {
     "name": "stdout",
     "output_type": "stream",
     "text": [
      "{'main_indices': [0, 11, 21, 28, 34, 39], 'removed_features_count': [0, 1, 2, 3, 4, 5, 6, 7, 8, 9, 10, 11, 12, 13, 14, 15, 16, 17, 18, 19, 20, 21, 22, 23, 24, 25, 26, 27, 28, 29, 30, 31, 32, 33, 34, 35, 36, 37, 38, 39], 'loss_values': [0.6087072210392875, 0.6087072210392875, 0.6087072210392875, 0.6087072210392875, 0.6087072210392875, 0.6087072210392875, 0.6087072210392875, 0.6087072210392875, 0.6087072210392875, 0.6087072210392875, 0.6087072210392875, 0.6087072210392875, 0.6087072210392875, 0.6087072210392875, 0.6087072210392875, 0.6087072210392875, 0.6087072210392875, 0.6087072210392875, 0.6087072210392875, 0.6087072210392875, 0.6087072210392875, 0.6087072210392875, 0.6072469195122647, 0.6057866179852419, 0.6043263164582191, 0.6028660149311963, 0.6014057134041735, 0.5999454118771507, 0.5984851103501279, 0.5984851103501279, 0.5984851103501279, 0.5984851103501279, 0.5984851103501279, 0.5984851103501279, 0.5984851103501279, 0.5984851103501279, 0.5984851103501279, 0.5984851103501279, 0.5984851103501279, 0.5984851103501279]}\n"
     ]
    }
   ],
   "source": [
    "print(shap_summary['loss_graph'])"
   ]
  },
  {
   "cell_type": "code",
   "execution_count": 138,
   "metadata": {},
   "outputs": [
    {
     "data": {
      "text/plain": [
       "0.5984851103501279"
      ]
     },
     "execution_count": 138,
     "metadata": {},
     "output_type": "execute_result"
    }
   ],
   "source": [
    "shap_summary['loss_graph']['loss_values'][-1]"
   ]
  },
  {
   "cell_type": "code",
   "execution_count": 139,
   "metadata": {},
   "outputs": [
    {
     "name": "stdout",
     "output_type": "stream",
     "text": [
      "['day_of_week', 'is_month_end', 'entrance_gate_id', 'exit_gate_id', 'gate_id_lag_2', 'most_frequent_gate_per_day', 'most_frequent_gate_per_week', 'most_frequent_route_per_day', 'most_frequent_route_per_week', 'entry_time', 'working_time_per_week', 'cnt_users_per_week', 'daily_attendance_index', 'pass_cnt_per_day', 'working_time_per_day', 'cnt_users_per_day', 'daily_workload_index', 'cnt_repeat_gate_lt_5s', 'probability_gate_id', 'cnt_days_per_week', 'cnt_repeat_gate_ge_90s']\n"
     ]
    }
   ],
   "source": [
    "# печатаем отобранные признаки\n",
    "selected_feat = shap_summary['selected_features_names']\n",
    "print(selected_feat)"
   ]
  },
  {
   "cell_type": "code",
   "execution_count": 140,
   "metadata": {},
   "outputs": [
    {
     "data": {
      "text/plain": [
       "['most_frequent_gate_per_week',\n",
       " 'most_frequent_route_per_week',\n",
       " 'working_time_per_week']"
      ]
     },
     "execution_count": 140,
     "metadata": {},
     "output_type": "execute_result"
    }
   ],
   "source": [
    "['most_frequent_gate_per_week', 'most_frequent_route_per_week', 'working_time_per_week']"
   ]
  },
  {
   "cell_type": "code",
   "execution_count": 141,
   "metadata": {},
   "outputs": [
    {
     "name": "stdout",
     "output_type": "stream",
     "text": [
      "['gate_id', 'hour', 'gate_id_lag_1', 'day_of_month', 'is_weekend', 'time_of_day', 'is_month_start', 'total_seconds', 'cnt_repeat_gate_btw_5_10s', 'gate_id_1', 'gate_id_2', 'gate_id_lag_3', 'gate_id_3', 'gate_id_lag_4', 'gate_id_4', 'gate_id_lag_5', 'gate_id_5', 'repeat_gate_lt_5s', 'repeat_gate_btw_5_10s', 'repeat_gate_btw_10_15s', 'repeat_gate_btw_15_90s', 'repeat_gate_ge_90s', 'route', 'cnt_repeat_gate_btw_10_15s', 'sec_btw_3', 'daily_gate_pass_count', 'sec_btw_lag_4', 'cumtime_per_day', 'sec_btw_5', 'sec_btw_lag_1', 'sec_btw_lag_3', 'sec_btw_lag_2', 'sec_btw_1', 'sec_btw_2', 'cnt_repeat_gate_btw_15_90s', 'cumtime_at_route_per_day', 'sec_btw_lag_5', 'sec_btw_4', 'total_minutes']\n"
     ]
    }
   ],
   "source": [
    "# печатаем исключенные признаки\n",
    "eliminated_feat = shap_summary['eliminated_features_names']\n",
    "print(eliminated_feat)"
   ]
  },
  {
   "cell_type": "code",
   "execution_count": 142,
   "metadata": {},
   "outputs": [
    {
     "data": {
      "text/plain": [
       "['hour',\n",
       " 'gate_id_lag_1',\n",
       " 'gate_id_2',\n",
       " 'sec_btw_lag_5',\n",
       " 'gate_id_lag_3',\n",
       " 'gate_id_3',\n",
       " 'gate_id_lag_4',\n",
       " 'cumtime_at_route_per_day',\n",
       " 'sec_btw_5',\n",
       " 'gate_id_4',\n",
       " 'gate_id_5',\n",
       " 'repeat_gate_lt_5s',\n",
       " 'repeat_gate_btw_5_10s',\n",
       " 'repeat_gate_btw_10_15s',\n",
       " 'repeat_gate_btw_15_90s',\n",
       " 'repeat_gate_ge_90s',\n",
       " 'route',\n",
       " 'daily_gate_pass_count',\n",
       " 'cnt_repeat_gate_btw_10_15s',\n",
       " 'gate_id_lag_5',\n",
       " 'gate_id_lag_2',\n",
       " 'time_of_day',\n",
       " 'day_of_month',\n",
       " 'sec_btw_4',\n",
       " 'is_weekend',\n",
       " 'gate_id_1',\n",
       " 'sec_btw_lag_4',\n",
       " 'is_month_end',\n",
       " 'cnt_repeat_gate_btw_15_90s',\n",
       " 'is_month_start',\n",
       " 'gate_id',\n",
       " 'sec_btw_lag_3',\n",
       " 'total_seconds',\n",
       " 'total_minutes',\n",
       " 'sec_btw_3',\n",
       " 'cnt_repeat_gate_btw_5_10s',\n",
       " 'sec_btw_lag_2',\n",
       " 'cumtime_per_day',\n",
       " 'sec_btw_2',\n",
       " 'cnt_repeat_gate_lt_5s',\n",
       " 'probability_gate_id',\n",
       " 'sec_btw_lag_1',\n",
       " 'sec_btw_1',\n",
       " 'day_of_week',\n",
       " 'daily_attendance_index',\n",
       " 'cnt_users_per_day',\n",
       " 'cnt_repeat_gate_ge_90s',\n",
       " 'most_frequent_gate_per_day',\n",
       " 'daily_workload_index',\n",
       " 'most_frequent_route_per_day',\n",
       " 'entrance_gate_id',\n",
       " 'exit_gate_id',\n",
       " 'working_time_per_day',\n",
       " 'pass_cnt_per_day',\n",
       " 'cnt_users_per_week',\n",
       " 'cnt_days_per_week',\n",
       " 'entry_time']"
      ]
     },
     "execution_count": 142,
     "metadata": {},
     "output_type": "execute_result"
    }
   ],
   "source": [
    "['hour', 'gate_id_lag_1', 'gate_id_2', 'sec_btw_lag_5', 'gate_id_lag_3', 'gate_id_3', 'gate_id_lag_4', 'cumtime_at_route_per_day', 'sec_btw_5', 'gate_id_4', 'gate_id_5', 'repeat_gate_lt_5s', 'repeat_gate_btw_5_10s', 'repeat_gate_btw_10_15s', 'repeat_gate_btw_15_90s', 'repeat_gate_ge_90s', 'route', 'daily_gate_pass_count', 'cnt_repeat_gate_btw_10_15s', 'gate_id_lag_5', 'gate_id_lag_2', 'time_of_day', 'day_of_month', 'sec_btw_4', 'is_weekend', 'gate_id_1', 'sec_btw_lag_4', 'is_month_end', 'cnt_repeat_gate_btw_15_90s', 'is_month_start', 'gate_id', 'sec_btw_lag_3', 'total_seconds', 'total_minutes', 'sec_btw_3', 'cnt_repeat_gate_btw_5_10s', 'sec_btw_lag_2', 'cumtime_per_day', 'sec_btw_2', 'cnt_repeat_gate_lt_5s', 'probability_gate_id', 'sec_btw_lag_1', 'sec_btw_1', 'day_of_week', 'daily_attendance_index', 'cnt_users_per_day', 'cnt_repeat_gate_ge_90s', 'most_frequent_gate_per_day', 'daily_workload_index', 'most_frequent_route_per_day', 'entrance_gate_id', 'exit_gate_id', 'working_time_per_day', 'pass_cnt_per_day', 'cnt_users_per_week', 'cnt_days_per_week', 'entry_time']"
   ]
  },
  {
   "cell_type": "code",
   "execution_count": 143,
   "metadata": {},
   "outputs": [],
   "source": [
    "# формируем набор отобранных признаков\n",
    "fulldata = X[selected_feat]"
   ]
  },
  {
   "cell_type": "code",
   "execution_count": 144,
   "metadata": {},
   "outputs": [
    {
     "data": {
      "text/plain": [
       "Index(['day_of_week', 'is_month_end', 'entrance_gate_id', 'exit_gate_id',\n",
       "       'gate_id_lag_2', 'most_frequent_gate_per_day',\n",
       "       'most_frequent_gate_per_week', 'most_frequent_route_per_day',\n",
       "       'most_frequent_route_per_week', 'entry_time', 'working_time_per_week',\n",
       "       'cnt_users_per_week', 'daily_attendance_index', 'pass_cnt_per_day',\n",
       "       'working_time_per_day', 'cnt_users_per_day', 'daily_workload_index',\n",
       "       'cnt_repeat_gate_lt_5s', 'probability_gate_id', 'cnt_days_per_week',\n",
       "       'cnt_repeat_gate_ge_90s'],\n",
       "      dtype='object')"
      ]
     },
     "execution_count": 144,
     "metadata": {},
     "output_type": "execute_result"
    }
   ],
   "source": [
    "fulldata.columns"
   ]
  },
  {
   "cell_type": "code",
   "execution_count": 118,
   "metadata": {},
   "outputs": [
    {
     "data": {
      "text/plain": [
       "[]"
      ]
     },
     "execution_count": 118,
     "metadata": {},
     "output_type": "execute_result"
    }
   ],
   "source": [
    "# # создаем список категориальных признаков\n",
    "# cat_features = fulldata.select_dtypes(include=['category']).columns.tolist()\n",
    "# cat_features"
   ]
  },
  {
   "cell_type": "code",
   "execution_count": 145,
   "metadata": {},
   "outputs": [],
   "source": [
    "# создаем список категориальных признаков\n",
    "cat_features = [\n",
    "    'day_of_week', 'is_month_end', 'entrance_gate_id', 'exit_gate_id',\n",
    "       'gate_id_lag_2', 'most_frequent_gate_per_day',\n",
    "       'most_frequent_gate_per_week', 'most_frequent_route_per_day',\n",
    "       'most_frequent_route_per_week'\n",
    "]"
   ]
  },
  {
   "cell_type": "code",
   "execution_count": 146,
   "metadata": {},
   "outputs": [],
   "source": [
    "# создаем пул\n",
    "fulldata_pool = Pool(fulldata, \n",
    "                     y,\n",
    "                     cat_features=cat_features)"
   ]
  },
  {
   "cell_type": "code",
   "execution_count": 147,
   "metadata": {},
   "outputs": [
    {
     "name": "stdout",
     "output_type": "stream",
     "text": [
      "0:\tlearn: 0.1975575\ttotal: 51.1ms\tremaining: 50.9s\n",
      "1:\tlearn: 0.2405078\ttotal: 97.2ms\tremaining: 48.4s\n",
      "2:\tlearn: 0.2569814\ttotal: 142ms\tremaining: 47.2s\n",
      "3:\tlearn: 0.2698822\ttotal: 187ms\tremaining: 46.5s\n",
      "4:\tlearn: 0.2793918\ttotal: 237ms\tremaining: 47.2s\n",
      "5:\tlearn: 0.2819433\ttotal: 274ms\tremaining: 45.4s\n",
      "6:\tlearn: 0.2939288\ttotal: 313ms\tremaining: 44.4s\n",
      "7:\tlearn: 0.2910218\ttotal: 356ms\tremaining: 44s\n",
      "8:\tlearn: 0.2979533\ttotal: 390ms\tremaining: 42.8s\n",
      "9:\tlearn: 0.2881290\ttotal: 428ms\tremaining: 42.3s\n",
      "10:\tlearn: 0.3156872\ttotal: 464ms\tremaining: 41.7s\n",
      "11:\tlearn: 0.3157106\ttotal: 503ms\tremaining: 41.3s\n",
      "12:\tlearn: 0.3249226\ttotal: 539ms\tremaining: 40.8s\n",
      "13:\tlearn: 0.3195148\ttotal: 574ms\tremaining: 40.4s\n",
      "14:\tlearn: 0.3187692\ttotal: 610ms\tremaining: 39.9s\n",
      "15:\tlearn: 0.3338767\ttotal: 646ms\tremaining: 39.7s\n",
      "16:\tlearn: 0.3456161\ttotal: 681ms\tremaining: 39.3s\n",
      "17:\tlearn: 0.3446407\ttotal: 718ms\tremaining: 39.1s\n",
      "18:\tlearn: 0.3447595\ttotal: 756ms\tremaining: 39s\n",
      "19:\tlearn: 0.3429001\ttotal: 790ms\tremaining: 38.6s\n",
      "20:\tlearn: 0.3437663\ttotal: 825ms\tremaining: 38.4s\n",
      "21:\tlearn: 0.3450440\ttotal: 861ms\tremaining: 38.2s\n",
      "22:\tlearn: 0.3532227\ttotal: 896ms\tremaining: 38s\n",
      "23:\tlearn: 0.3514100\ttotal: 930ms\tremaining: 37.7s\n",
      "24:\tlearn: 0.3672797\ttotal: 970ms\tremaining: 37.8s\n",
      "25:\tlearn: 0.3580002\ttotal: 1.01s\tremaining: 37.6s\n",
      "26:\tlearn: 0.3743268\ttotal: 1.04s\tremaining: 37.5s\n",
      "27:\tlearn: 0.3717925\ttotal: 1.08s\tremaining: 37.5s\n",
      "28:\tlearn: 0.3851124\ttotal: 1.12s\tremaining: 37.3s\n",
      "29:\tlearn: 0.4048326\ttotal: 1.15s\tremaining: 37.2s\n",
      "30:\tlearn: 0.4114313\ttotal: 1.19s\tremaining: 37.1s\n",
      "31:\tlearn: 0.4172514\ttotal: 1.23s\tremaining: 37s\n",
      "32:\tlearn: 0.4212308\ttotal: 1.27s\tremaining: 37.1s\n",
      "33:\tlearn: 0.4215450\ttotal: 1.3s\tremaining: 37s\n",
      "34:\tlearn: 0.4275970\ttotal: 1.34s\tremaining: 36.9s\n",
      "35:\tlearn: 0.4328784\ttotal: 1.38s\tremaining: 36.8s\n",
      "36:\tlearn: 0.4343592\ttotal: 1.41s\tremaining: 36.7s\n",
      "37:\tlearn: 0.4295134\ttotal: 1.45s\tremaining: 36.6s\n",
      "38:\tlearn: 0.4267757\ttotal: 1.48s\tremaining: 36.5s\n",
      "39:\tlearn: 0.4264676\ttotal: 1.52s\tremaining: 36.5s\n",
      "40:\tlearn: 0.4286273\ttotal: 1.56s\tremaining: 36.5s\n",
      "41:\tlearn: 0.4371727\ttotal: 1.6s\tremaining: 36.4s\n",
      "42:\tlearn: 0.4400968\ttotal: 1.64s\tremaining: 36.4s\n",
      "43:\tlearn: 0.4410839\ttotal: 1.67s\tremaining: 36.3s\n",
      "44:\tlearn: 0.4410806\ttotal: 1.71s\tremaining: 36.2s\n",
      "45:\tlearn: 0.4411793\ttotal: 1.75s\tremaining: 36.2s\n",
      "46:\tlearn: 0.4412840\ttotal: 1.78s\tremaining: 36.1s\n",
      "47:\tlearn: 0.4468035\ttotal: 1.82s\tremaining: 36s\n",
      "48:\tlearn: 0.4473168\ttotal: 1.86s\tremaining: 36s\n",
      "49:\tlearn: 0.4481277\ttotal: 1.9s\tremaining: 36s\n",
      "50:\tlearn: 0.4484640\ttotal: 1.94s\tremaining: 36s\n",
      "51:\tlearn: 0.4496716\ttotal: 1.97s\tremaining: 35.9s\n",
      "52:\tlearn: 0.4503667\ttotal: 2.01s\tremaining: 35.9s\n",
      "53:\tlearn: 0.4421896\ttotal: 2.05s\tremaining: 35.8s\n",
      "54:\tlearn: 0.4452126\ttotal: 2.09s\tremaining: 35.8s\n",
      "55:\tlearn: 0.4497307\ttotal: 2.12s\tremaining: 35.7s\n",
      "56:\tlearn: 0.4472724\ttotal: 2.16s\tremaining: 35.7s\n",
      "57:\tlearn: 0.4590992\ttotal: 2.2s\tremaining: 35.6s\n",
      "58:\tlearn: 0.4605923\ttotal: 2.24s\tremaining: 35.6s\n",
      "59:\tlearn: 0.4598101\ttotal: 2.27s\tremaining: 35.6s\n",
      "60:\tlearn: 0.4599129\ttotal: 2.31s\tremaining: 35.5s\n",
      "61:\tlearn: 0.4600606\ttotal: 2.35s\tremaining: 35.5s\n",
      "62:\tlearn: 0.4601146\ttotal: 2.39s\tremaining: 35.4s\n",
      "63:\tlearn: 0.4615838\ttotal: 2.42s\tremaining: 35.4s\n",
      "64:\tlearn: 0.4651785\ttotal: 2.46s\tremaining: 35.3s\n",
      "65:\tlearn: 0.4703164\ttotal: 2.5s\tremaining: 35.3s\n",
      "66:\tlearn: 0.4667521\ttotal: 2.54s\tremaining: 35.3s\n",
      "67:\tlearn: 0.4652057\ttotal: 2.57s\tremaining: 35.2s\n",
      "68:\tlearn: 0.4709410\ttotal: 2.61s\tremaining: 35.2s\n",
      "69:\tlearn: 0.4701133\ttotal: 2.65s\tremaining: 35.1s\n",
      "70:\tlearn: 0.4719982\ttotal: 2.69s\tremaining: 35.1s\n",
      "71:\tlearn: 0.4763476\ttotal: 2.73s\tremaining: 35.1s\n",
      "72:\tlearn: 0.4770807\ttotal: 2.77s\tremaining: 35.1s\n",
      "73:\tlearn: 0.4789429\ttotal: 2.8s\tremaining: 35s\n",
      "74:\tlearn: 0.4743626\ttotal: 2.84s\tremaining: 35s\n",
      "75:\tlearn: 0.4824323\ttotal: 2.88s\tremaining: 34.9s\n",
      "76:\tlearn: 0.4852442\ttotal: 2.91s\tremaining: 34.8s\n",
      "77:\tlearn: 0.4867269\ttotal: 2.95s\tremaining: 34.8s\n",
      "78:\tlearn: 0.4887364\ttotal: 2.99s\tremaining: 34.8s\n",
      "79:\tlearn: 0.4928006\ttotal: 3.02s\tremaining: 34.7s\n",
      "80:\tlearn: 0.4967294\ttotal: 3.06s\tremaining: 34.7s\n",
      "81:\tlearn: 0.4987956\ttotal: 3.1s\tremaining: 34.6s\n",
      "82:\tlearn: 0.5010315\ttotal: 3.14s\tremaining: 34.6s\n",
      "83:\tlearn: 0.5008244\ttotal: 3.17s\tremaining: 34.5s\n",
      "84:\tlearn: 0.5013805\ttotal: 3.21s\tremaining: 34.5s\n",
      "85:\tlearn: 0.5008902\ttotal: 3.25s\tremaining: 34.5s\n",
      "86:\tlearn: 0.5020495\ttotal: 3.29s\tremaining: 34.4s\n",
      "87:\tlearn: 0.5043636\ttotal: 3.32s\tremaining: 34.4s\n",
      "88:\tlearn: 0.5072132\ttotal: 3.36s\tremaining: 34.3s\n",
      "89:\tlearn: 0.5072549\ttotal: 3.4s\tremaining: 34.3s\n",
      "90:\tlearn: 0.5099087\ttotal: 3.43s\tremaining: 34.2s\n",
      "91:\tlearn: 0.5092237\ttotal: 3.47s\tremaining: 34.2s\n",
      "92:\tlearn: 0.5105414\ttotal: 3.51s\tremaining: 34.1s\n",
      "93:\tlearn: 0.5110512\ttotal: 3.54s\tremaining: 34.1s\n",
      "94:\tlearn: 0.5114461\ttotal: 3.58s\tremaining: 34s\n",
      "95:\tlearn: 0.5112891\ttotal: 3.62s\tremaining: 34s\n",
      "96:\tlearn: 0.5127385\ttotal: 3.66s\tremaining: 34s\n",
      "97:\tlearn: 0.5133348\ttotal: 3.7s\tremaining: 34s\n",
      "98:\tlearn: 0.5115486\ttotal: 3.73s\tremaining: 33.9s\n",
      "99:\tlearn: 0.5145200\ttotal: 3.77s\tremaining: 33.9s\n",
      "100:\tlearn: 0.5134622\ttotal: 3.81s\tremaining: 33.9s\n",
      "101:\tlearn: 0.5131799\ttotal: 3.85s\tremaining: 33.8s\n",
      "102:\tlearn: 0.5122277\ttotal: 3.89s\tremaining: 33.8s\n",
      "103:\tlearn: 0.5120591\ttotal: 3.93s\tremaining: 33.8s\n",
      "104:\tlearn: 0.5133698\ttotal: 3.96s\tremaining: 33.7s\n",
      "105:\tlearn: 0.5145783\ttotal: 4s\tremaining: 33.7s\n",
      "106:\tlearn: 0.5160141\ttotal: 4.04s\tremaining: 33.6s\n",
      "107:\tlearn: 0.5162674\ttotal: 4.07s\tremaining: 33.6s\n",
      "108:\tlearn: 0.5170745\ttotal: 4.11s\tremaining: 33.5s\n",
      "109:\tlearn: 0.5168767\ttotal: 4.15s\tremaining: 33.5s\n",
      "110:\tlearn: 0.5218616\ttotal: 4.19s\tremaining: 33.5s\n",
      "111:\tlearn: 0.5224649\ttotal: 4.23s\tremaining: 33.5s\n",
      "112:\tlearn: 0.5247201\ttotal: 4.26s\tremaining: 33.4s\n",
      "113:\tlearn: 0.5240914\ttotal: 4.3s\tremaining: 33.4s\n",
      "114:\tlearn: 0.5286417\ttotal: 4.34s\tremaining: 33.3s\n",
      "115:\tlearn: 0.5312469\ttotal: 4.38s\tremaining: 33.3s\n",
      "116:\tlearn: 0.5355227\ttotal: 4.42s\tremaining: 33.3s\n",
      "117:\tlearn: 0.5388251\ttotal: 4.45s\tremaining: 33.2s\n",
      "118:\tlearn: 0.5388512\ttotal: 4.49s\tremaining: 33.2s\n",
      "119:\tlearn: 0.5443908\ttotal: 4.53s\tremaining: 33.1s\n",
      "120:\tlearn: 0.5480470\ttotal: 4.57s\tremaining: 33.1s\n",
      "121:\tlearn: 0.5489381\ttotal: 4.61s\tremaining: 33.1s\n",
      "122:\tlearn: 0.5513419\ttotal: 4.64s\tremaining: 33s\n",
      "123:\tlearn: 0.5515904\ttotal: 4.68s\tremaining: 33s\n",
      "124:\tlearn: 0.5563134\ttotal: 4.72s\tremaining: 33s\n",
      "125:\tlearn: 0.5592689\ttotal: 4.76s\tremaining: 32.9s\n",
      "126:\tlearn: 0.5605079\ttotal: 4.8s\tremaining: 32.9s\n",
      "127:\tlearn: 0.5638046\ttotal: 4.84s\tremaining: 32.9s\n",
      "128:\tlearn: 0.5683874\ttotal: 4.87s\tremaining: 32.8s\n",
      "129:\tlearn: 0.5692161\ttotal: 4.91s\tremaining: 32.8s\n",
      "130:\tlearn: 0.5715621\ttotal: 4.95s\tremaining: 32.8s\n",
      "131:\tlearn: 0.5715086\ttotal: 4.99s\tremaining: 32.7s\n",
      "132:\tlearn: 0.5745295\ttotal: 5.03s\tremaining: 32.7s\n",
      "133:\tlearn: 0.5759638\ttotal: 5.06s\tremaining: 32.7s\n",
      "134:\tlearn: 0.5759778\ttotal: 5.1s\tremaining: 32.6s\n",
      "135:\tlearn: 0.5752508\ttotal: 5.14s\tremaining: 32.6s\n",
      "136:\tlearn: 0.5773547\ttotal: 5.17s\tremaining: 32.5s\n",
      "137:\tlearn: 0.5796143\ttotal: 5.21s\tremaining: 32.5s\n",
      "138:\tlearn: 0.5805304\ttotal: 5.25s\tremaining: 32.4s\n",
      "139:\tlearn: 0.5811429\ttotal: 5.29s\tremaining: 32.4s\n",
      "140:\tlearn: 0.5813572\ttotal: 5.33s\tremaining: 32.4s\n",
      "141:\tlearn: 0.5865688\ttotal: 5.36s\tremaining: 32.3s\n",
      "142:\tlearn: 0.5895607\ttotal: 5.4s\tremaining: 32.3s\n",
      "143:\tlearn: 0.5902282\ttotal: 5.43s\tremaining: 32.2s\n",
      "144:\tlearn: 0.5926319\ttotal: 5.47s\tremaining: 32.2s\n",
      "145:\tlearn: 0.5946529\ttotal: 5.51s\tremaining: 32.1s\n",
      "146:\tlearn: 0.5960367\ttotal: 5.55s\tremaining: 32.1s\n",
      "147:\tlearn: 0.5981156\ttotal: 5.58s\tremaining: 32.1s\n",
      "148:\tlearn: 0.5981546\ttotal: 5.62s\tremaining: 32s\n",
      "149:\tlearn: 0.6001975\ttotal: 5.66s\tremaining: 32s\n",
      "150:\tlearn: 0.6043983\ttotal: 5.7s\tremaining: 32s\n",
      "151:\tlearn: 0.6072438\ttotal: 5.74s\tremaining: 31.9s\n",
      "152:\tlearn: 0.6093773\ttotal: 5.77s\tremaining: 31.9s\n",
      "153:\tlearn: 0.6126636\ttotal: 5.81s\tremaining: 31.8s\n",
      "154:\tlearn: 0.6212752\ttotal: 5.85s\tremaining: 31.8s\n",
      "155:\tlearn: 0.6231580\ttotal: 5.88s\tremaining: 31.7s\n",
      "156:\tlearn: 0.6243029\ttotal: 5.92s\tremaining: 31.7s\n",
      "157:\tlearn: 0.6256905\ttotal: 5.95s\tremaining: 31.6s\n",
      "158:\tlearn: 0.6266845\ttotal: 5.99s\tremaining: 31.6s\n",
      "159:\tlearn: 0.6295035\ttotal: 6.02s\tremaining: 31.6s\n",
      "160:\tlearn: 0.6301934\ttotal: 6.06s\tremaining: 31.5s\n",
      "161:\tlearn: 0.6310807\ttotal: 6.1s\tremaining: 31.5s\n",
      "162:\tlearn: 0.6301832\ttotal: 6.13s\tremaining: 31.4s\n",
      "163:\tlearn: 0.6309017\ttotal: 6.17s\tremaining: 31.4s\n",
      "164:\tlearn: 0.6322699\ttotal: 6.21s\tremaining: 31.3s\n",
      "165:\tlearn: 0.6340817\ttotal: 6.24s\tremaining: 31.3s\n",
      "166:\tlearn: 0.6343760\ttotal: 6.28s\tremaining: 31.2s\n",
      "167:\tlearn: 0.6355947\ttotal: 6.31s\tremaining: 31.2s\n",
      "168:\tlearn: 0.6366287\ttotal: 6.34s\tremaining: 31.1s\n",
      "169:\tlearn: 0.6387515\ttotal: 6.38s\tremaining: 31.1s\n",
      "170:\tlearn: 0.6407523\ttotal: 6.41s\tremaining: 31s\n",
      "171:\tlearn: 0.6412304\ttotal: 6.45s\tremaining: 31s\n",
      "172:\tlearn: 0.6425903\ttotal: 6.48s\tremaining: 30.9s\n",
      "173:\tlearn: 0.6429831\ttotal: 6.52s\tremaining: 30.9s\n",
      "174:\tlearn: 0.6433226\ttotal: 6.55s\tremaining: 30.8s\n",
      "175:\tlearn: 0.6433292\ttotal: 6.59s\tremaining: 30.8s\n",
      "176:\tlearn: 0.6448371\ttotal: 6.62s\tremaining: 30.7s\n",
      "177:\tlearn: 0.6458977\ttotal: 6.66s\tremaining: 30.7s\n",
      "178:\tlearn: 0.6481249\ttotal: 6.7s\tremaining: 30.6s\n",
      "179:\tlearn: 0.6503633\ttotal: 6.73s\tremaining: 30.6s\n",
      "180:\tlearn: 0.6496425\ttotal: 6.77s\tremaining: 30.5s\n",
      "181:\tlearn: 0.6512175\ttotal: 6.8s\tremaining: 30.5s\n",
      "182:\tlearn: 0.6509447\ttotal: 6.84s\tremaining: 30.4s\n",
      "183:\tlearn: 0.6530937\ttotal: 6.87s\tremaining: 30.4s\n",
      "184:\tlearn: 0.6534609\ttotal: 6.91s\tremaining: 30.3s\n",
      "185:\tlearn: 0.6537621\ttotal: 6.94s\tremaining: 30.3s\n",
      "186:\tlearn: 0.6549399\ttotal: 6.98s\tremaining: 30.3s\n",
      "187:\tlearn: 0.6563966\ttotal: 7.01s\tremaining: 30.2s\n",
      "188:\tlearn: 0.6575496\ttotal: 7.04s\tremaining: 30.2s\n",
      "189:\tlearn: 0.6585898\ttotal: 7.08s\tremaining: 30.1s\n",
      "190:\tlearn: 0.6614834\ttotal: 7.11s\tremaining: 30.1s\n",
      "191:\tlearn: 0.6642399\ttotal: 7.15s\tremaining: 30s\n",
      "192:\tlearn: 0.6636992\ttotal: 7.18s\tremaining: 30s\n",
      "193:\tlearn: 0.6649855\ttotal: 7.21s\tremaining: 29.9s\n",
      "194:\tlearn: 0.6650095\ttotal: 7.25s\tremaining: 29.9s\n",
      "195:\tlearn: 0.6645064\ttotal: 7.29s\tremaining: 29.8s\n",
      "196:\tlearn: 0.6654450\ttotal: 7.32s\tremaining: 29.8s\n",
      "197:\tlearn: 0.6650270\ttotal: 7.36s\tremaining: 29.7s\n",
      "198:\tlearn: 0.6650908\ttotal: 7.39s\tremaining: 29.7s\n",
      "199:\tlearn: 0.6667998\ttotal: 7.42s\tremaining: 29.6s\n",
      "200:\tlearn: 0.6676503\ttotal: 7.46s\tremaining: 29.6s\n",
      "201:\tlearn: 0.6679524\ttotal: 7.49s\tremaining: 29.5s\n",
      "202:\tlearn: 0.6697629\ttotal: 7.53s\tremaining: 29.5s\n",
      "203:\tlearn: 0.6700807\ttotal: 7.56s\tremaining: 29.4s\n",
      "204:\tlearn: 0.6710732\ttotal: 7.6s\tremaining: 29.4s\n",
      "205:\tlearn: 0.6737739\ttotal: 7.63s\tremaining: 29.3s\n",
      "206:\tlearn: 0.6742834\ttotal: 7.66s\tremaining: 29.3s\n",
      "207:\tlearn: 0.6753514\ttotal: 7.7s\tremaining: 29.2s\n",
      "208:\tlearn: 0.6761685\ttotal: 7.73s\tremaining: 29.2s\n",
      "209:\tlearn: 0.6765315\ttotal: 7.76s\tremaining: 29.1s\n",
      "210:\tlearn: 0.6768141\ttotal: 7.8s\tremaining: 29.1s\n",
      "211:\tlearn: 0.6785684\ttotal: 7.83s\tremaining: 29s\n",
      "212:\tlearn: 0.6802133\ttotal: 7.87s\tremaining: 29s\n",
      "213:\tlearn: 0.6794497\ttotal: 7.9s\tremaining: 29s\n",
      "214:\tlearn: 0.6813669\ttotal: 7.94s\tremaining: 28.9s\n",
      "215:\tlearn: 0.6821229\ttotal: 7.97s\tremaining: 28.9s\n",
      "216:\tlearn: 0.6834965\ttotal: 8.01s\tremaining: 28.8s\n",
      "217:\tlearn: 0.6833273\ttotal: 8.04s\tremaining: 28.8s\n",
      "218:\tlearn: 0.6853061\ttotal: 8.08s\tremaining: 28.7s\n",
      "219:\tlearn: 0.6865912\ttotal: 8.12s\tremaining: 28.7s\n",
      "220:\tlearn: 0.6862128\ttotal: 8.16s\tremaining: 28.7s\n",
      "221:\tlearn: 0.6870261\ttotal: 8.2s\tremaining: 28.7s\n",
      "222:\tlearn: 0.6874806\ttotal: 8.23s\tremaining: 28.6s\n",
      "223:\tlearn: 0.6884946\ttotal: 8.27s\tremaining: 28.6s\n",
      "224:\tlearn: 0.6904672\ttotal: 8.3s\tremaining: 28.5s\n",
      "225:\tlearn: 0.6914543\ttotal: 8.34s\tremaining: 28.5s\n",
      "226:\tlearn: 0.6918990\ttotal: 8.37s\tremaining: 28.4s\n",
      "227:\tlearn: 0.6921465\ttotal: 8.4s\tremaining: 28.4s\n",
      "228:\tlearn: 0.6924441\ttotal: 8.44s\tremaining: 28.3s\n",
      "229:\tlearn: 0.6926149\ttotal: 8.47s\tremaining: 28.3s\n",
      "230:\tlearn: 0.6946975\ttotal: 8.51s\tremaining: 28.3s\n",
      "231:\tlearn: 0.6954110\ttotal: 8.55s\tremaining: 28.2s\n",
      "232:\tlearn: 0.6965964\ttotal: 8.59s\tremaining: 28.2s\n",
      "233:\tlearn: 0.6969997\ttotal: 8.63s\tremaining: 28.2s\n",
      "234:\tlearn: 0.6977107\ttotal: 8.67s\tremaining: 28.1s\n",
      "235:\tlearn: 0.6991956\ttotal: 8.71s\tremaining: 28.1s\n",
      "236:\tlearn: 0.6998276\ttotal: 8.74s\tremaining: 28.1s\n",
      "237:\tlearn: 0.7001117\ttotal: 8.78s\tremaining: 28s\n",
      "238:\tlearn: 0.7014060\ttotal: 8.82s\tremaining: 28s\n",
      "239:\tlearn: 0.7023856\ttotal: 8.86s\tremaining: 28s\n",
      "240:\tlearn: 0.7037237\ttotal: 8.9s\tremaining: 27.9s\n",
      "241:\tlearn: 0.7048934\ttotal: 8.93s\tremaining: 27.9s\n",
      "242:\tlearn: 0.7049805\ttotal: 8.97s\tremaining: 27.9s\n",
      "243:\tlearn: 0.7066287\ttotal: 9.01s\tremaining: 27.8s\n",
      "244:\tlearn: 0.7078830\ttotal: 9.04s\tremaining: 27.8s\n",
      "245:\tlearn: 0.7090781\ttotal: 9.08s\tremaining: 27.8s\n",
      "246:\tlearn: 0.7101278\ttotal: 9.12s\tremaining: 27.7s\n",
      "247:\tlearn: 0.7122363\ttotal: 9.16s\tremaining: 27.7s\n",
      "248:\tlearn: 0.7141280\ttotal: 9.19s\tremaining: 27.7s\n",
      "249:\tlearn: 0.7152488\ttotal: 9.23s\tremaining: 27.6s\n",
      "250:\tlearn: 0.7159603\ttotal: 9.27s\tremaining: 27.6s\n",
      "251:\tlearn: 0.7170445\ttotal: 9.31s\tremaining: 27.6s\n",
      "252:\tlearn: 0.7174102\ttotal: 9.35s\tremaining: 27.5s\n",
      "253:\tlearn: 0.7192456\ttotal: 9.38s\tremaining: 27.5s\n",
      "254:\tlearn: 0.7202931\ttotal: 9.42s\tremaining: 27.5s\n",
      "255:\tlearn: 0.7223925\ttotal: 9.46s\tremaining: 27.4s\n",
      "256:\tlearn: 0.7220074\ttotal: 9.5s\tremaining: 27.4s\n",
      "257:\tlearn: 0.7255241\ttotal: 9.54s\tremaining: 27.4s\n",
      "258:\tlearn: 0.7262626\ttotal: 9.58s\tremaining: 27.3s\n",
      "259:\tlearn: 0.7275378\ttotal: 9.62s\tremaining: 27.3s\n",
      "260:\tlearn: 0.7291532\ttotal: 9.65s\tremaining: 27.3s\n",
      "261:\tlearn: 0.7311703\ttotal: 9.7s\tremaining: 27.2s\n",
      "262:\tlearn: 0.7322822\ttotal: 9.73s\tremaining: 27.2s\n",
      "263:\tlearn: 0.7334214\ttotal: 9.77s\tremaining: 27.2s\n",
      "264:\tlearn: 0.7326576\ttotal: 9.81s\tremaining: 27.1s\n",
      "265:\tlearn: 0.7343735\ttotal: 9.85s\tremaining: 27.1s\n",
      "266:\tlearn: 0.7374924\ttotal: 9.89s\tremaining: 27.1s\n",
      "267:\tlearn: 0.7396982\ttotal: 9.92s\tremaining: 27s\n",
      "268:\tlearn: 0.7412472\ttotal: 9.96s\tremaining: 27s\n",
      "269:\tlearn: 0.7412118\ttotal: 10s\tremaining: 27s\n",
      "270:\tlearn: 0.7426506\ttotal: 10s\tremaining: 26.9s\n",
      "271:\tlearn: 0.7422002\ttotal: 10.1s\tremaining: 26.9s\n",
      "272:\tlearn: 0.7434292\ttotal: 10.1s\tremaining: 26.8s\n",
      "273:\tlearn: 0.7443067\ttotal: 10.1s\tremaining: 26.8s\n",
      "274:\tlearn: 0.7459321\ttotal: 10.2s\tremaining: 26.8s\n",
      "275:\tlearn: 0.7460111\ttotal: 10.2s\tremaining: 26.7s\n",
      "276:\tlearn: 0.7461433\ttotal: 10.3s\tremaining: 26.7s\n",
      "277:\tlearn: 0.7490109\ttotal: 10.3s\tremaining: 26.7s\n",
      "278:\tlearn: 0.7495632\ttotal: 10.3s\tremaining: 26.6s\n",
      "279:\tlearn: 0.7520309\ttotal: 10.4s\tremaining: 26.6s\n",
      "280:\tlearn: 0.7533771\ttotal: 10.4s\tremaining: 26.6s\n",
      "281:\tlearn: 0.7535573\ttotal: 10.4s\tremaining: 26.5s\n",
      "282:\tlearn: 0.7547914\ttotal: 10.5s\tremaining: 26.5s\n",
      "283:\tlearn: 0.7542531\ttotal: 10.5s\tremaining: 26.5s\n",
      "284:\tlearn: 0.7552913\ttotal: 10.6s\tremaining: 26.4s\n",
      "285:\tlearn: 0.7575742\ttotal: 10.6s\tremaining: 26.4s\n",
      "286:\tlearn: 0.7575307\ttotal: 10.7s\tremaining: 26.4s\n",
      "287:\tlearn: 0.7576854\ttotal: 10.7s\tremaining: 26.4s\n",
      "288:\tlearn: 0.7576557\ttotal: 10.7s\tremaining: 26.3s\n",
      "289:\tlearn: 0.7585617\ttotal: 10.8s\tremaining: 26.3s\n",
      "290:\tlearn: 0.7589594\ttotal: 10.8s\tremaining: 26.3s\n",
      "291:\tlearn: 0.7593606\ttotal: 10.8s\tremaining: 26.2s\n",
      "292:\tlearn: 0.7588051\ttotal: 10.9s\tremaining: 26.2s\n",
      "293:\tlearn: 0.7596090\ttotal: 10.9s\tremaining: 26.1s\n",
      "294:\tlearn: 0.7612143\ttotal: 10.9s\tremaining: 26.1s\n",
      "295:\tlearn: 0.7646375\ttotal: 11s\tremaining: 26.1s\n",
      "296:\tlearn: 0.7646407\ttotal: 11s\tremaining: 26s\n",
      "297:\tlearn: 0.7647263\ttotal: 11.1s\tremaining: 26s\n",
      "298:\tlearn: 0.7659932\ttotal: 11.1s\tremaining: 25.9s\n",
      "299:\tlearn: 0.7669609\ttotal: 11.1s\tremaining: 25.9s\n",
      "300:\tlearn: 0.7667422\ttotal: 11.2s\tremaining: 25.9s\n",
      "301:\tlearn: 0.7676288\ttotal: 11.2s\tremaining: 25.8s\n",
      "302:\tlearn: 0.7674296\ttotal: 11.3s\tremaining: 25.8s\n",
      "303:\tlearn: 0.7674888\ttotal: 11.3s\tremaining: 25.8s\n",
      "304:\tlearn: 0.7679492\ttotal: 11.3s\tremaining: 25.7s\n",
      "305:\tlearn: 0.7688339\ttotal: 11.4s\tremaining: 25.7s\n",
      "306:\tlearn: 0.7697337\ttotal: 11.4s\tremaining: 25.7s\n",
      "307:\tlearn: 0.7698324\ttotal: 11.4s\tremaining: 25.6s\n",
      "308:\tlearn: 0.7702505\ttotal: 11.5s\tremaining: 25.6s\n",
      "309:\tlearn: 0.7702355\ttotal: 11.5s\tremaining: 25.5s\n",
      "310:\tlearn: 0.7707275\ttotal: 11.5s\tremaining: 25.5s\n",
      "311:\tlearn: 0.7709960\ttotal: 11.6s\tremaining: 25.5s\n",
      "312:\tlearn: 0.7720852\ttotal: 11.6s\tremaining: 25.4s\n",
      "313:\tlearn: 0.7730050\ttotal: 11.7s\tremaining: 25.4s\n",
      "314:\tlearn: 0.7745172\ttotal: 11.7s\tremaining: 25.4s\n",
      "315:\tlearn: 0.7749430\ttotal: 11.7s\tremaining: 25.3s\n",
      "316:\tlearn: 0.7755213\ttotal: 11.8s\tremaining: 25.3s\n",
      "317:\tlearn: 0.7771257\ttotal: 11.8s\tremaining: 25.3s\n",
      "318:\tlearn: 0.7766793\ttotal: 11.9s\tremaining: 25.2s\n",
      "319:\tlearn: 0.7770326\ttotal: 11.9s\tremaining: 25.2s\n",
      "320:\tlearn: 0.7777726\ttotal: 11.9s\tremaining: 25.2s\n",
      "321:\tlearn: 0.7777126\ttotal: 12s\tremaining: 25.1s\n",
      "322:\tlearn: 0.7784728\ttotal: 12s\tremaining: 25.1s\n",
      "323:\tlearn: 0.7786110\ttotal: 12.1s\tremaining: 25.1s\n",
      "324:\tlearn: 0.7808111\ttotal: 12.1s\tremaining: 25s\n",
      "325:\tlearn: 0.7803324\ttotal: 12.1s\tremaining: 25s\n",
      "326:\tlearn: 0.7808857\ttotal: 12.2s\tremaining: 25s\n",
      "327:\tlearn: 0.7803625\ttotal: 12.2s\tremaining: 24.9s\n",
      "328:\tlearn: 0.7808384\ttotal: 12.2s\tremaining: 24.9s\n",
      "329:\tlearn: 0.7820542\ttotal: 12.3s\tremaining: 24.9s\n",
      "330:\tlearn: 0.7832252\ttotal: 12.3s\tremaining: 24.8s\n",
      "331:\tlearn: 0.7838730\ttotal: 12.4s\tremaining: 24.8s\n",
      "332:\tlearn: 0.7841947\ttotal: 12.4s\tremaining: 24.8s\n",
      "333:\tlearn: 0.7843231\ttotal: 12.4s\tremaining: 24.7s\n",
      "334:\tlearn: 0.7856362\ttotal: 12.5s\tremaining: 24.7s\n",
      "335:\tlearn: 0.7870183\ttotal: 12.5s\tremaining: 24.7s\n",
      "336:\tlearn: 0.7897300\ttotal: 12.6s\tremaining: 24.6s\n",
      "337:\tlearn: 0.7901924\ttotal: 12.6s\tremaining: 24.6s\n",
      "338:\tlearn: 0.7897037\ttotal: 12.6s\tremaining: 24.5s\n",
      "339:\tlearn: 0.7896488\ttotal: 12.7s\tremaining: 24.5s\n",
      "340:\tlearn: 0.7906572\ttotal: 12.7s\tremaining: 24.5s\n",
      "341:\tlearn: 0.7907415\ttotal: 12.7s\tremaining: 24.5s\n",
      "342:\tlearn: 0.7913208\ttotal: 12.8s\tremaining: 24.4s\n",
      "343:\tlearn: 0.7919520\ttotal: 12.8s\tremaining: 24.4s\n",
      "344:\tlearn: 0.7919650\ttotal: 12.9s\tremaining: 24.4s\n",
      "345:\tlearn: 0.7928782\ttotal: 12.9s\tremaining: 24.3s\n",
      "346:\tlearn: 0.7914317\ttotal: 12.9s\tremaining: 24.3s\n",
      "347:\tlearn: 0.7926488\ttotal: 13s\tremaining: 24.2s\n",
      "348:\tlearn: 0.7935511\ttotal: 13s\tremaining: 24.2s\n",
      "349:\tlearn: 0.7940439\ttotal: 13.1s\tremaining: 24.2s\n",
      "350:\tlearn: 0.7942030\ttotal: 13.1s\tremaining: 24.1s\n",
      "351:\tlearn: 0.7939857\ttotal: 13.1s\tremaining: 24.1s\n",
      "352:\tlearn: 0.7949429\ttotal: 13.2s\tremaining: 24.1s\n",
      "353:\tlearn: 0.7940781\ttotal: 13.2s\tremaining: 24s\n",
      "354:\tlearn: 0.7938540\ttotal: 13.3s\tremaining: 24s\n",
      "355:\tlearn: 0.7942119\ttotal: 13.3s\tremaining: 24s\n",
      "356:\tlearn: 0.7948893\ttotal: 13.3s\tremaining: 23.9s\n",
      "357:\tlearn: 0.7952600\ttotal: 13.4s\tremaining: 23.9s\n",
      "358:\tlearn: 0.7950866\ttotal: 13.4s\tremaining: 23.9s\n",
      "359:\tlearn: 0.7959396\ttotal: 13.4s\tremaining: 23.8s\n",
      "360:\tlearn: 0.7951974\ttotal: 13.5s\tremaining: 23.8s\n",
      "361:\tlearn: 0.7960937\ttotal: 13.5s\tremaining: 23.8s\n",
      "362:\tlearn: 0.7959850\ttotal: 13.6s\tremaining: 23.7s\n",
      "363:\tlearn: 0.7964067\ttotal: 13.6s\tremaining: 23.7s\n",
      "364:\tlearn: 0.7966709\ttotal: 13.6s\tremaining: 23.6s\n",
      "365:\tlearn: 0.7971403\ttotal: 13.7s\tremaining: 23.6s\n",
      "366:\tlearn: 0.7977808\ttotal: 13.7s\tremaining: 23.6s\n",
      "367:\tlearn: 0.7987005\ttotal: 13.7s\tremaining: 23.5s\n",
      "368:\tlearn: 0.7986954\ttotal: 13.8s\tremaining: 23.5s\n",
      "369:\tlearn: 0.7986208\ttotal: 13.8s\tremaining: 23.5s\n",
      "370:\tlearn: 0.7988098\ttotal: 13.9s\tremaining: 23.4s\n",
      "371:\tlearn: 0.8002309\ttotal: 13.9s\tremaining: 23.4s\n",
      "372:\tlearn: 0.8007758\ttotal: 13.9s\tremaining: 23.3s\n",
      "373:\tlearn: 0.7997533\ttotal: 14s\tremaining: 23.3s\n",
      "374:\tlearn: 0.8004532\ttotal: 14s\tremaining: 23.3s\n",
      "375:\tlearn: 0.8011551\ttotal: 14s\tremaining: 23.2s\n",
      "376:\tlearn: 0.8008205\ttotal: 14.1s\tremaining: 23.2s\n",
      "377:\tlearn: 0.8018624\ttotal: 14.1s\tremaining: 23.1s\n",
      "378:\tlearn: 0.8020064\ttotal: 14.1s\tremaining: 23.1s\n",
      "379:\tlearn: 0.8024796\ttotal: 14.2s\tremaining: 23.1s\n",
      "380:\tlearn: 0.8036387\ttotal: 14.2s\tremaining: 23s\n",
      "381:\tlearn: 0.8049352\ttotal: 14.2s\tremaining: 23s\n",
      "382:\tlearn: 0.8051033\ttotal: 14.3s\tremaining: 22.9s\n",
      "383:\tlearn: 0.8050470\ttotal: 14.3s\tremaining: 22.9s\n",
      "384:\tlearn: 0.8061029\ttotal: 14.4s\tremaining: 22.9s\n",
      "385:\tlearn: 0.8067249\ttotal: 14.4s\tremaining: 22.8s\n",
      "386:\tlearn: 0.8066352\ttotal: 14.4s\tremaining: 22.8s\n",
      "387:\tlearn: 0.8078326\ttotal: 14.5s\tremaining: 22.7s\n",
      "388:\tlearn: 0.8079821\ttotal: 14.5s\tremaining: 22.7s\n",
      "389:\tlearn: 0.8082304\ttotal: 14.5s\tremaining: 22.7s\n",
      "390:\tlearn: 0.8080751\ttotal: 14.6s\tremaining: 22.6s\n",
      "391:\tlearn: 0.8083222\ttotal: 14.6s\tremaining: 22.6s\n",
      "392:\tlearn: 0.8077370\ttotal: 14.7s\tremaining: 22.6s\n",
      "393:\tlearn: 0.8080603\ttotal: 14.7s\tremaining: 22.5s\n",
      "394:\tlearn: 0.8083453\ttotal: 14.7s\tremaining: 22.5s\n",
      "395:\tlearn: 0.8083020\ttotal: 14.8s\tremaining: 22.5s\n",
      "396:\tlearn: 0.8090072\ttotal: 14.8s\tremaining: 22.4s\n",
      "397:\tlearn: 0.8090381\ttotal: 14.8s\tremaining: 22.4s\n",
      "398:\tlearn: 0.8092365\ttotal: 14.9s\tremaining: 22.4s\n",
      "399:\tlearn: 0.8095102\ttotal: 14.9s\tremaining: 22.3s\n",
      "400:\tlearn: 0.8101205\ttotal: 15s\tremaining: 22.3s\n",
      "401:\tlearn: 0.8090010\ttotal: 15s\tremaining: 22.2s\n",
      "402:\tlearn: 0.8092099\ttotal: 15s\tremaining: 22.2s\n",
      "403:\tlearn: 0.8093723\ttotal: 15.1s\tremaining: 22.2s\n",
      "404:\tlearn: 0.8097623\ttotal: 15.1s\tremaining: 22.1s\n",
      "405:\tlearn: 0.8109314\ttotal: 15.2s\tremaining: 22.1s\n",
      "406:\tlearn: 0.8121518\ttotal: 15.2s\tremaining: 22.1s\n",
      "407:\tlearn: 0.8120350\ttotal: 15.2s\tremaining: 22s\n",
      "408:\tlearn: 0.8122372\ttotal: 15.3s\tremaining: 22s\n",
      "409:\tlearn: 0.8117850\ttotal: 15.3s\tremaining: 21.9s\n",
      "410:\tlearn: 0.8115776\ttotal: 15.3s\tremaining: 21.9s\n",
      "411:\tlearn: 0.8110778\ttotal: 15.4s\tremaining: 21.9s\n",
      "412:\tlearn: 0.8110027\ttotal: 15.4s\tremaining: 21.8s\n",
      "413:\tlearn: 0.8113659\ttotal: 15.4s\tremaining: 21.8s\n",
      "414:\tlearn: 0.8123872\ttotal: 15.5s\tremaining: 21.8s\n",
      "415:\tlearn: 0.8118274\ttotal: 15.5s\tremaining: 21.7s\n",
      "416:\tlearn: 0.8129778\ttotal: 15.6s\tremaining: 21.7s\n",
      "417:\tlearn: 0.8131911\ttotal: 15.6s\tremaining: 21.7s\n",
      "418:\tlearn: 0.8129012\ttotal: 15.6s\tremaining: 21.6s\n",
      "419:\tlearn: 0.8133188\ttotal: 15.7s\tremaining: 21.6s\n",
      "420:\tlearn: 0.8133684\ttotal: 15.7s\tremaining: 21.5s\n",
      "421:\tlearn: 0.8132582\ttotal: 15.8s\tremaining: 21.5s\n",
      "422:\tlearn: 0.8143429\ttotal: 15.8s\tremaining: 21.5s\n",
      "423:\tlearn: 0.8143374\ttotal: 15.8s\tremaining: 21.4s\n",
      "424:\tlearn: 0.8147707\ttotal: 15.9s\tremaining: 21.4s\n",
      "425:\tlearn: 0.8164774\ttotal: 15.9s\tremaining: 21.4s\n",
      "426:\tlearn: 0.8172486\ttotal: 15.9s\tremaining: 21.3s\n",
      "427:\tlearn: 0.8172644\ttotal: 16s\tremaining: 21.3s\n",
      "428:\tlearn: 0.8177271\ttotal: 16s\tremaining: 21.2s\n",
      "429:\tlearn: 0.8174525\ttotal: 16.1s\tremaining: 21.2s\n",
      "430:\tlearn: 0.8174349\ttotal: 16.1s\tremaining: 21.2s\n",
      "431:\tlearn: 0.8174780\ttotal: 16.1s\tremaining: 21.1s\n",
      "432:\tlearn: 0.8182742\ttotal: 16.2s\tremaining: 21.1s\n",
      "433:\tlearn: 0.8186480\ttotal: 16.2s\tremaining: 21.1s\n",
      "434:\tlearn: 0.8186480\ttotal: 16.2s\tremaining: 21s\n",
      "435:\tlearn: 0.8182978\ttotal: 16.3s\tremaining: 21s\n",
      "436:\tlearn: 0.8182978\ttotal: 16.3s\tremaining: 20.9s\n",
      "437:\tlearn: 0.8179726\ttotal: 16.3s\tremaining: 20.9s\n",
      "438:\tlearn: 0.8186997\ttotal: 16.4s\tremaining: 20.9s\n",
      "439:\tlearn: 0.8187591\ttotal: 16.4s\tremaining: 20.8s\n",
      "440:\tlearn: 0.8185606\ttotal: 16.5s\tremaining: 20.8s\n",
      "441:\tlearn: 0.8190506\ttotal: 16.5s\tremaining: 20.8s\n",
      "442:\tlearn: 0.8192204\ttotal: 16.5s\tremaining: 20.7s\n",
      "443:\tlearn: 0.8198963\ttotal: 16.6s\tremaining: 20.7s\n",
      "444:\tlearn: 0.8208879\ttotal: 16.6s\tremaining: 20.6s\n",
      "445:\tlearn: 0.8209003\ttotal: 16.6s\tremaining: 20.6s\n",
      "446:\tlearn: 0.8218503\ttotal: 16.7s\tremaining: 20.6s\n",
      "447:\tlearn: 0.8220524\ttotal: 16.7s\tremaining: 20.5s\n",
      "448:\tlearn: 0.8220500\ttotal: 16.8s\tremaining: 20.5s\n",
      "449:\tlearn: 0.8220136\ttotal: 16.8s\tremaining: 20.5s\n",
      "450:\tlearn: 0.8223819\ttotal: 16.8s\tremaining: 20.4s\n",
      "451:\tlearn: 0.8215692\ttotal: 16.9s\tremaining: 20.4s\n",
      "452:\tlearn: 0.8226801\ttotal: 16.9s\tremaining: 20.3s\n",
      "453:\tlearn: 0.8230380\ttotal: 16.9s\tremaining: 20.3s\n",
      "454:\tlearn: 0.8231792\ttotal: 17s\tremaining: 20.3s\n",
      "455:\tlearn: 0.8235880\ttotal: 17s\tremaining: 20.2s\n",
      "456:\tlearn: 0.8237165\ttotal: 17.1s\tremaining: 20.2s\n",
      "457:\tlearn: 0.8237072\ttotal: 17.1s\tremaining: 20.2s\n",
      "458:\tlearn: 0.8252786\ttotal: 17.1s\tremaining: 20.1s\n",
      "459:\tlearn: 0.8250360\ttotal: 17.2s\tremaining: 20.1s\n",
      "460:\tlearn: 0.8260637\ttotal: 17.2s\tremaining: 20s\n",
      "461:\tlearn: 0.8254788\ttotal: 17.2s\tremaining: 20s\n",
      "462:\tlearn: 0.8266947\ttotal: 17.3s\tremaining: 20s\n",
      "463:\tlearn: 0.8266947\ttotal: 17.3s\tremaining: 19.9s\n",
      "464:\tlearn: 0.8267112\ttotal: 17.3s\tremaining: 19.9s\n",
      "465:\tlearn: 0.8258939\ttotal: 17.4s\tremaining: 19.8s\n",
      "466:\tlearn: 0.8261103\ttotal: 17.4s\tremaining: 19.8s\n",
      "467:\tlearn: 0.8268535\ttotal: 17.5s\tremaining: 19.8s\n",
      "468:\tlearn: 0.8273519\ttotal: 17.5s\tremaining: 19.7s\n",
      "469:\tlearn: 0.8283172\ttotal: 17.5s\tremaining: 19.7s\n",
      "470:\tlearn: 0.8283533\ttotal: 17.6s\tremaining: 19.7s\n",
      "471:\tlearn: 0.8285229\ttotal: 17.6s\tremaining: 19.6s\n",
      "472:\tlearn: 0.8287560\ttotal: 17.6s\tremaining: 19.6s\n",
      "473:\tlearn: 0.8293136\ttotal: 17.7s\tremaining: 19.5s\n",
      "474:\tlearn: 0.8292906\ttotal: 17.7s\tremaining: 19.5s\n",
      "475:\tlearn: 0.8297449\ttotal: 17.7s\tremaining: 19.5s\n",
      "476:\tlearn: 0.8298908\ttotal: 17.8s\tremaining: 19.4s\n",
      "477:\tlearn: 0.8317545\ttotal: 17.8s\tremaining: 19.4s\n",
      "478:\tlearn: 0.8316253\ttotal: 17.9s\tremaining: 19.4s\n",
      "479:\tlearn: 0.8315024\ttotal: 17.9s\tremaining: 19.3s\n",
      "480:\tlearn: 0.8316780\ttotal: 17.9s\tremaining: 19.3s\n",
      "481:\tlearn: 0.8320309\ttotal: 18s\tremaining: 19.2s\n",
      "482:\tlearn: 0.8319228\ttotal: 18s\tremaining: 19.2s\n",
      "483:\tlearn: 0.8300284\ttotal: 18s\tremaining: 19.1s\n",
      "484:\tlearn: 0.8308161\ttotal: 18.1s\tremaining: 19.1s\n",
      "485:\tlearn: 0.8310401\ttotal: 18.1s\tremaining: 19.1s\n",
      "486:\tlearn: 0.8313692\ttotal: 18.1s\tremaining: 19s\n",
      "487:\tlearn: 0.8313692\ttotal: 18.2s\tremaining: 19s\n",
      "488:\tlearn: 0.8313434\ttotal: 18.2s\tremaining: 18.9s\n",
      "489:\tlearn: 0.8312997\ttotal: 18.2s\tremaining: 18.9s\n",
      "490:\tlearn: 0.8311995\ttotal: 18.3s\tremaining: 18.9s\n",
      "491:\tlearn: 0.8311995\ttotal: 18.3s\tremaining: 18.8s\n",
      "492:\tlearn: 0.8315777\ttotal: 18.3s\tremaining: 18.8s\n",
      "493:\tlearn: 0.8317745\ttotal: 18.4s\tremaining: 18.7s\n",
      "494:\tlearn: 0.8318818\ttotal: 18.4s\tremaining: 18.7s\n",
      "495:\tlearn: 0.8320088\ttotal: 18.4s\tremaining: 18.7s\n",
      "496:\tlearn: 0.8332356\ttotal: 18.5s\tremaining: 18.6s\n",
      "497:\tlearn: 0.8343429\ttotal: 18.5s\tremaining: 18.6s\n",
      "498:\tlearn: 0.8346551\ttotal: 18.5s\tremaining: 18.5s\n",
      "499:\tlearn: 0.8339090\ttotal: 18.6s\tremaining: 18.5s\n",
      "500:\tlearn: 0.8343438\ttotal: 18.6s\tremaining: 18.5s\n",
      "501:\tlearn: 0.8343456\ttotal: 18.7s\tremaining: 18.4s\n",
      "502:\tlearn: 0.8343370\ttotal: 18.7s\tremaining: 18.4s\n",
      "503:\tlearn: 0.8337139\ttotal: 18.7s\tremaining: 18.3s\n",
      "504:\tlearn: 0.8334401\ttotal: 18.8s\tremaining: 18.3s\n",
      "505:\tlearn: 0.8338855\ttotal: 18.8s\tremaining: 18.3s\n",
      "506:\tlearn: 0.8342904\ttotal: 18.8s\tremaining: 18.2s\n",
      "507:\tlearn: 0.8342965\ttotal: 18.9s\tremaining: 18.2s\n",
      "508:\tlearn: 0.8344836\ttotal: 18.9s\tremaining: 18.1s\n",
      "509:\tlearn: 0.8341024\ttotal: 18.9s\tremaining: 18.1s\n",
      "510:\tlearn: 0.8345379\ttotal: 19s\tremaining: 18.1s\n",
      "511:\tlearn: 0.8353480\ttotal: 19s\tremaining: 18s\n",
      "512:\tlearn: 0.8348575\ttotal: 19s\tremaining: 18s\n",
      "513:\tlearn: 0.8350133\ttotal: 19.1s\tremaining: 18s\n",
      "514:\tlearn: 0.8349786\ttotal: 19.1s\tremaining: 17.9s\n",
      "515:\tlearn: 0.8361811\ttotal: 19.1s\tremaining: 17.9s\n",
      "516:\tlearn: 0.8364564\ttotal: 19.2s\tremaining: 17.8s\n",
      "517:\tlearn: 0.8364514\ttotal: 19.2s\tremaining: 17.8s\n",
      "518:\tlearn: 0.8366150\ttotal: 19.2s\tremaining: 17.8s\n",
      "519:\tlearn: 0.8371515\ttotal: 19.3s\tremaining: 17.7s\n",
      "520:\tlearn: 0.8371515\ttotal: 19.3s\tremaining: 17.7s\n",
      "521:\tlearn: 0.8374084\ttotal: 19.3s\tremaining: 17.6s\n",
      "522:\tlearn: 0.8374282\ttotal: 19.4s\tremaining: 17.6s\n",
      "523:\tlearn: 0.8376557\ttotal: 19.4s\tremaining: 17.6s\n",
      "524:\tlearn: 0.8382581\ttotal: 19.5s\tremaining: 17.5s\n",
      "525:\tlearn: 0.8386852\ttotal: 19.5s\tremaining: 17.5s\n",
      "526:\tlearn: 0.8390233\ttotal: 19.5s\tremaining: 17.5s\n",
      "527:\tlearn: 0.8383407\ttotal: 19.6s\tremaining: 17.4s\n",
      "528:\tlearn: 0.8385421\ttotal: 19.6s\tremaining: 17.4s\n",
      "529:\tlearn: 0.8390107\ttotal: 19.6s\tremaining: 17.3s\n",
      "530:\tlearn: 0.8393180\ttotal: 19.7s\tremaining: 17.3s\n",
      "531:\tlearn: 0.8389645\ttotal: 19.7s\tremaining: 17.3s\n",
      "532:\tlearn: 0.8401185\ttotal: 19.8s\tremaining: 17.2s\n",
      "533:\tlearn: 0.8401556\ttotal: 19.8s\tremaining: 17.2s\n",
      "534:\tlearn: 0.8405218\ttotal: 19.8s\tremaining: 17.2s\n",
      "535:\tlearn: 0.8412139\ttotal: 19.9s\tremaining: 17.1s\n",
      "536:\tlearn: 0.8418513\ttotal: 19.9s\tremaining: 17.1s\n",
      "537:\tlearn: 0.8417484\ttotal: 19.9s\tremaining: 17.1s\n",
      "538:\tlearn: 0.8425210\ttotal: 20s\tremaining: 17s\n",
      "539:\tlearn: 0.8425685\ttotal: 20s\tremaining: 17s\n",
      "540:\tlearn: 0.8428768\ttotal: 20.1s\tremaining: 16.9s\n",
      "541:\tlearn: 0.8435167\ttotal: 20.1s\tremaining: 16.9s\n",
      "542:\tlearn: 0.8441050\ttotal: 20.1s\tremaining: 16.9s\n",
      "543:\tlearn: 0.8452916\ttotal: 20.2s\tremaining: 16.8s\n",
      "544:\tlearn: 0.8456618\ttotal: 20.2s\tremaining: 16.8s\n",
      "545:\tlearn: 0.8465906\ttotal: 20.3s\tremaining: 16.8s\n",
      "546:\tlearn: 0.8477554\ttotal: 20.3s\tremaining: 16.7s\n",
      "547:\tlearn: 0.8478307\ttotal: 20.3s\tremaining: 16.7s\n",
      "548:\tlearn: 0.8483192\ttotal: 20.4s\tremaining: 16.7s\n",
      "549:\tlearn: 0.8480336\ttotal: 20.4s\tremaining: 16.6s\n",
      "550:\tlearn: 0.8476282\ttotal: 20.4s\tremaining: 16.6s\n",
      "551:\tlearn: 0.8483275\ttotal: 20.5s\tremaining: 16.5s\n",
      "552:\tlearn: 0.8485852\ttotal: 20.5s\tremaining: 16.5s\n",
      "553:\tlearn: 0.8492004\ttotal: 20.6s\tremaining: 16.5s\n",
      "554:\tlearn: 0.8492074\ttotal: 20.6s\tremaining: 16.4s\n",
      "555:\tlearn: 0.8488606\ttotal: 20.6s\tremaining: 16.4s\n",
      "556:\tlearn: 0.8489623\ttotal: 20.7s\tremaining: 16.4s\n",
      "557:\tlearn: 0.8490097\ttotal: 20.7s\tremaining: 16.3s\n",
      "558:\tlearn: 0.8498289\ttotal: 20.7s\tremaining: 16.3s\n",
      "559:\tlearn: 0.8499427\ttotal: 20.8s\tremaining: 16.3s\n",
      "560:\tlearn: 0.8509104\ttotal: 20.8s\tremaining: 16.2s\n",
      "561:\tlearn: 0.8512018\ttotal: 20.9s\tremaining: 16.2s\n",
      "562:\tlearn: 0.8522007\ttotal: 20.9s\tremaining: 16.1s\n",
      "563:\tlearn: 0.8528236\ttotal: 20.9s\tremaining: 16.1s\n",
      "564:\tlearn: 0.8528721\ttotal: 21s\tremaining: 16.1s\n",
      "565:\tlearn: 0.8526184\ttotal: 21s\tremaining: 16s\n",
      "566:\tlearn: 0.8528016\ttotal: 21s\tremaining: 16s\n",
      "567:\tlearn: 0.8534266\ttotal: 21.1s\tremaining: 15.9s\n",
      "568:\tlearn: 0.8536123\ttotal: 21.1s\tremaining: 15.9s\n",
      "569:\tlearn: 0.8534876\ttotal: 21.1s\tremaining: 15.9s\n",
      "570:\tlearn: 0.8539994\ttotal: 21.2s\tremaining: 15.8s\n",
      "571:\tlearn: 0.8543590\ttotal: 21.2s\tremaining: 15.8s\n",
      "572:\tlearn: 0.8548175\ttotal: 21.2s\tremaining: 15.8s\n",
      "573:\tlearn: 0.8544329\ttotal: 21.3s\tremaining: 15.7s\n",
      "574:\tlearn: 0.8549990\ttotal: 21.3s\tremaining: 15.7s\n",
      "575:\tlearn: 0.8549464\ttotal: 21.4s\tremaining: 15.6s\n",
      "576:\tlearn: 0.8550838\ttotal: 21.4s\tremaining: 15.6s\n",
      "577:\tlearn: 0.8549725\ttotal: 21.4s\tremaining: 15.6s\n",
      "578:\tlearn: 0.8549674\ttotal: 21.5s\tremaining: 15.5s\n",
      "579:\tlearn: 0.8551009\ttotal: 21.5s\tremaining: 15.5s\n",
      "580:\tlearn: 0.8561020\ttotal: 21.5s\tremaining: 15.5s\n",
      "581:\tlearn: 0.8556955\ttotal: 21.6s\tremaining: 15.4s\n",
      "582:\tlearn: 0.8557731\ttotal: 21.6s\tremaining: 15.4s\n",
      "583:\tlearn: 0.8562930\ttotal: 21.6s\tremaining: 15.3s\n",
      "584:\tlearn: 0.8562907\ttotal: 21.7s\tremaining: 15.3s\n",
      "585:\tlearn: 0.8564988\ttotal: 21.7s\tremaining: 15.3s\n",
      "586:\tlearn: 0.8565579\ttotal: 21.7s\tremaining: 15.2s\n",
      "587:\tlearn: 0.8565961\ttotal: 21.8s\tremaining: 15.2s\n",
      "588:\tlearn: 0.8565941\ttotal: 21.8s\tremaining: 15.2s\n",
      "589:\tlearn: 0.8565941\ttotal: 21.9s\tremaining: 15.1s\n",
      "590:\tlearn: 0.8573644\ttotal: 21.9s\tremaining: 15.1s\n",
      "591:\tlearn: 0.8573719\ttotal: 21.9s\tremaining: 15s\n",
      "592:\tlearn: 0.8573906\ttotal: 22s\tremaining: 15s\n",
      "593:\tlearn: 0.8572962\ttotal: 22s\tremaining: 15s\n",
      "594:\tlearn: 0.8572146\ttotal: 22s\tremaining: 14.9s\n",
      "595:\tlearn: 0.8577977\ttotal: 22.1s\tremaining: 14.9s\n",
      "596:\tlearn: 0.8577482\ttotal: 22.1s\tremaining: 14.8s\n",
      "597:\tlearn: 0.8577482\ttotal: 22.1s\tremaining: 14.8s\n",
      "598:\tlearn: 0.8578583\ttotal: 22.2s\tremaining: 14.8s\n",
      "599:\tlearn: 0.8587079\ttotal: 22.2s\tremaining: 14.7s\n",
      "600:\tlearn: 0.8584412\ttotal: 22.2s\tremaining: 14.7s\n",
      "601:\tlearn: 0.8584786\ttotal: 22.3s\tremaining: 14.7s\n",
      "602:\tlearn: 0.8586259\ttotal: 22.3s\tremaining: 14.6s\n",
      "603:\tlearn: 0.8591707\ttotal: 22.3s\tremaining: 14.6s\n",
      "604:\tlearn: 0.8592575\ttotal: 22.4s\tremaining: 14.5s\n",
      "605:\tlearn: 0.8595307\ttotal: 22.4s\tremaining: 14.5s\n",
      "606:\tlearn: 0.8592942\ttotal: 22.4s\tremaining: 14.5s\n",
      "607:\tlearn: 0.8592890\ttotal: 22.5s\tremaining: 14.4s\n",
      "608:\tlearn: 0.8593745\ttotal: 22.5s\tremaining: 14.4s\n",
      "609:\tlearn: 0.8602721\ttotal: 22.5s\tremaining: 14.3s\n",
      "610:\tlearn: 0.8600642\ttotal: 22.6s\tremaining: 14.3s\n",
      "611:\tlearn: 0.8603091\ttotal: 22.6s\tremaining: 14.3s\n",
      "612:\tlearn: 0.8605338\ttotal: 22.6s\tremaining: 14.2s\n",
      "613:\tlearn: 0.8601743\ttotal: 22.7s\tremaining: 14.2s\n",
      "614:\tlearn: 0.8606299\ttotal: 22.7s\tremaining: 14.1s\n",
      "615:\tlearn: 0.8602778\ttotal: 22.8s\tremaining: 14.1s\n",
      "616:\tlearn: 0.8600625\ttotal: 22.8s\tremaining: 14.1s\n",
      "617:\tlearn: 0.8602175\ttotal: 22.8s\tremaining: 14s\n",
      "618:\tlearn: 0.8613039\ttotal: 22.9s\tremaining: 14s\n",
      "619:\tlearn: 0.8609207\ttotal: 22.9s\tremaining: 14s\n",
      "620:\tlearn: 0.8616896\ttotal: 22.9s\tremaining: 13.9s\n",
      "621:\tlearn: 0.8610897\ttotal: 23s\tremaining: 13.9s\n",
      "622:\tlearn: 0.8616641\ttotal: 23s\tremaining: 13.8s\n",
      "623:\tlearn: 0.8617038\ttotal: 23s\tremaining: 13.8s\n",
      "624:\tlearn: 0.8617038\ttotal: 23.1s\tremaining: 13.8s\n",
      "625:\tlearn: 0.8617038\ttotal: 23.1s\tremaining: 13.7s\n",
      "626:\tlearn: 0.8624747\ttotal: 23.1s\tremaining: 13.7s\n",
      "627:\tlearn: 0.8626719\ttotal: 23.2s\tremaining: 13.6s\n",
      "628:\tlearn: 0.8635719\ttotal: 23.2s\tremaining: 13.6s\n",
      "629:\tlearn: 0.8636252\ttotal: 23.2s\tremaining: 13.6s\n",
      "630:\tlearn: 0.8641449\ttotal: 23.3s\tremaining: 13.5s\n",
      "631:\tlearn: 0.8638251\ttotal: 23.3s\tremaining: 13.5s\n",
      "632:\tlearn: 0.8628486\ttotal: 23.3s\tremaining: 13.5s\n",
      "633:\tlearn: 0.8640315\ttotal: 23.4s\tremaining: 13.4s\n",
      "634:\tlearn: 0.8649009\ttotal: 23.4s\tremaining: 13.4s\n",
      "635:\tlearn: 0.8652561\ttotal: 23.4s\tremaining: 13.3s\n",
      "636:\tlearn: 0.8657543\ttotal: 23.5s\tremaining: 13.3s\n",
      "637:\tlearn: 0.8665188\ttotal: 23.5s\tremaining: 13.3s\n",
      "638:\tlearn: 0.8669897\ttotal: 23.6s\tremaining: 13.2s\n",
      "639:\tlearn: 0.8670327\ttotal: 23.6s\tremaining: 13.2s\n",
      "640:\tlearn: 0.8675326\ttotal: 23.6s\tremaining: 13.2s\n",
      "641:\tlearn: 0.8678000\ttotal: 23.7s\tremaining: 13.1s\n",
      "642:\tlearn: 0.8676579\ttotal: 23.7s\tremaining: 13.1s\n",
      "643:\tlearn: 0.8679671\ttotal: 23.7s\tremaining: 13s\n",
      "644:\tlearn: 0.8675603\ttotal: 23.8s\tremaining: 13s\n",
      "645:\tlearn: 0.8681681\ttotal: 23.8s\tremaining: 13s\n",
      "646:\tlearn: 0.8681933\ttotal: 23.8s\tremaining: 12.9s\n",
      "647:\tlearn: 0.8681854\ttotal: 23.9s\tremaining: 12.9s\n",
      "648:\tlearn: 0.8688283\ttotal: 23.9s\tremaining: 12.9s\n",
      "649:\tlearn: 0.8686924\ttotal: 23.9s\tremaining: 12.8s\n",
      "650:\tlearn: 0.8689919\ttotal: 24s\tremaining: 12.8s\n",
      "651:\tlearn: 0.8693587\ttotal: 24s\tremaining: 12.7s\n",
      "652:\tlearn: 0.8687507\ttotal: 24s\tremaining: 12.7s\n",
      "653:\tlearn: 0.8692233\ttotal: 24.1s\tremaining: 12.7s\n",
      "654:\tlearn: 0.8698731\ttotal: 24.1s\tremaining: 12.6s\n",
      "655:\tlearn: 0.8697791\ttotal: 24.1s\tremaining: 12.6s\n",
      "656:\tlearn: 0.8695956\ttotal: 24.2s\tremaining: 12.5s\n",
      "657:\tlearn: 0.8697350\ttotal: 24.2s\tremaining: 12.5s\n",
      "658:\tlearn: 0.8706182\ttotal: 24.3s\tremaining: 12.5s\n",
      "659:\tlearn: 0.8712789\ttotal: 24.3s\tremaining: 12.4s\n",
      "660:\tlearn: 0.8705360\ttotal: 24.4s\tremaining: 12.4s\n",
      "661:\tlearn: 0.8722898\ttotal: 24.4s\tremaining: 12.4s\n",
      "662:\tlearn: 0.8724308\ttotal: 24.4s\tremaining: 12.3s\n",
      "663:\tlearn: 0.8727668\ttotal: 24.5s\tremaining: 12.3s\n",
      "664:\tlearn: 0.8730961\ttotal: 24.5s\tremaining: 12.3s\n",
      "665:\tlearn: 0.8728716\ttotal: 24.5s\tremaining: 12.2s\n",
      "666:\tlearn: 0.8728879\ttotal: 24.6s\tremaining: 12.2s\n",
      "667:\tlearn: 0.8728879\ttotal: 24.6s\tremaining: 12.2s\n",
      "668:\tlearn: 0.8729234\ttotal: 24.6s\tremaining: 12.1s\n",
      "669:\tlearn: 0.8729797\ttotal: 24.7s\tremaining: 12.1s\n",
      "670:\tlearn: 0.8732043\ttotal: 24.7s\tremaining: 12s\n",
      "671:\tlearn: 0.8732043\ttotal: 24.8s\tremaining: 12s\n",
      "672:\tlearn: 0.8731983\ttotal: 24.8s\tremaining: 12s\n",
      "673:\tlearn: 0.8732043\ttotal: 24.8s\tremaining: 11.9s\n",
      "674:\tlearn: 0.8732637\ttotal: 24.9s\tremaining: 11.9s\n",
      "675:\tlearn: 0.8736477\ttotal: 24.9s\tremaining: 11.9s\n",
      "676:\tlearn: 0.8741366\ttotal: 24.9s\tremaining: 11.8s\n",
      "677:\tlearn: 0.8751010\ttotal: 25s\tremaining: 11.8s\n",
      "678:\tlearn: 0.8752248\ttotal: 25s\tremaining: 11.8s\n",
      "679:\tlearn: 0.8758736\ttotal: 25.1s\tremaining: 11.7s\n",
      "680:\tlearn: 0.8759191\ttotal: 25.1s\tremaining: 11.7s\n",
      "681:\tlearn: 0.8761179\ttotal: 25.1s\tremaining: 11.6s\n",
      "682:\tlearn: 0.8759244\ttotal: 25.2s\tremaining: 11.6s\n",
      "683:\tlearn: 0.8769615\ttotal: 25.2s\tremaining: 11.6s\n",
      "684:\tlearn: 0.8775692\ttotal: 25.2s\tremaining: 11.5s\n",
      "685:\tlearn: 0.8781343\ttotal: 25.3s\tremaining: 11.5s\n",
      "686:\tlearn: 0.8787793\ttotal: 25.3s\tremaining: 11.5s\n",
      "687:\tlearn: 0.8794407\ttotal: 25.4s\tremaining: 11.4s\n",
      "688:\tlearn: 0.8788016\ttotal: 25.4s\tremaining: 11.4s\n",
      "689:\tlearn: 0.8785157\ttotal: 25.4s\tremaining: 11.4s\n",
      "690:\tlearn: 0.8787791\ttotal: 25.5s\tremaining: 11.3s\n",
      "691:\tlearn: 0.8790196\ttotal: 25.5s\tremaining: 11.3s\n",
      "692:\tlearn: 0.8789885\ttotal: 25.5s\tremaining: 11.2s\n",
      "693:\tlearn: 0.8790972\ttotal: 25.6s\tremaining: 11.2s\n",
      "694:\tlearn: 0.8792358\ttotal: 25.6s\tremaining: 11.2s\n",
      "695:\tlearn: 0.8789619\ttotal: 25.6s\tremaining: 11.1s\n",
      "696:\tlearn: 0.8790451\ttotal: 25.7s\tremaining: 11.1s\n",
      "697:\tlearn: 0.8791649\ttotal: 25.7s\tremaining: 11.1s\n",
      "698:\tlearn: 0.8791649\ttotal: 25.8s\tremaining: 11s\n",
      "699:\tlearn: 0.8790741\ttotal: 25.8s\tremaining: 11s\n",
      "700:\tlearn: 0.8796317\ttotal: 25.8s\tremaining: 10.9s\n",
      "701:\tlearn: 0.8796079\ttotal: 25.8s\tremaining: 10.9s\n",
      "702:\tlearn: 0.8795950\ttotal: 25.9s\tremaining: 10.9s\n",
      "703:\tlearn: 0.8798245\ttotal: 25.9s\tremaining: 10.8s\n",
      "704:\tlearn: 0.8799923\ttotal: 25.9s\tremaining: 10.8s\n",
      "705:\tlearn: 0.8801460\ttotal: 26s\tremaining: 10.7s\n",
      "706:\tlearn: 0.8808011\ttotal: 26s\tremaining: 10.7s\n",
      "707:\tlearn: 0.8809577\ttotal: 26.1s\tremaining: 10.7s\n",
      "708:\tlearn: 0.8809269\ttotal: 26.1s\tremaining: 10.6s\n",
      "709:\tlearn: 0.8814245\ttotal: 26.1s\tremaining: 10.6s\n",
      "710:\tlearn: 0.8813883\ttotal: 26.2s\tremaining: 10.6s\n",
      "711:\tlearn: 0.8814963\ttotal: 26.2s\tremaining: 10.5s\n",
      "712:\tlearn: 0.8814974\ttotal: 26.3s\tremaining: 10.5s\n",
      "713:\tlearn: 0.8815588\ttotal: 26.3s\tremaining: 10.5s\n",
      "714:\tlearn: 0.8818672\ttotal: 26.3s\tremaining: 10.4s\n",
      "715:\tlearn: 0.8822607\ttotal: 26.4s\tremaining: 10.4s\n",
      "716:\tlearn: 0.8826720\ttotal: 26.4s\tremaining: 10.3s\n",
      "717:\tlearn: 0.8826214\ttotal: 26.4s\tremaining: 10.3s\n",
      "718:\tlearn: 0.8825852\ttotal: 26.5s\tremaining: 10.3s\n",
      "719:\tlearn: 0.8825370\ttotal: 26.5s\tremaining: 10.2s\n",
      "720:\tlearn: 0.8829500\ttotal: 26.5s\tremaining: 10.2s\n",
      "721:\tlearn: 0.8830427\ttotal: 26.6s\tremaining: 10.2s\n",
      "722:\tlearn: 0.8830427\ttotal: 26.6s\tremaining: 10.1s\n",
      "723:\tlearn: 0.8828761\ttotal: 26.6s\tremaining: 10.1s\n",
      "724:\tlearn: 0.8828363\ttotal: 26.7s\tremaining: 10s\n",
      "725:\tlearn: 0.8828777\ttotal: 26.7s\tremaining: 10s\n",
      "726:\tlearn: 0.8830134\ttotal: 26.7s\tremaining: 9.97s\n",
      "727:\tlearn: 0.8829054\ttotal: 26.8s\tremaining: 9.93s\n",
      "728:\tlearn: 0.8829054\ttotal: 26.8s\tremaining: 9.9s\n",
      "729:\tlearn: 0.8832566\ttotal: 26.9s\tremaining: 9.86s\n",
      "730:\tlearn: 0.8832658\ttotal: 26.9s\tremaining: 9.83s\n",
      "731:\tlearn: 0.8834791\ttotal: 26.9s\tremaining: 9.79s\n",
      "732:\tlearn: 0.8834977\ttotal: 27s\tremaining: 9.75s\n",
      "733:\tlearn: 0.8833861\ttotal: 27s\tremaining: 9.71s\n",
      "734:\tlearn: 0.8835948\ttotal: 27s\tremaining: 9.68s\n",
      "735:\tlearn: 0.8838306\ttotal: 27.1s\tremaining: 9.64s\n",
      "736:\tlearn: 0.8838306\ttotal: 27.1s\tremaining: 9.6s\n",
      "737:\tlearn: 0.8840177\ttotal: 27.1s\tremaining: 9.56s\n",
      "738:\tlearn: 0.8840050\ttotal: 27.2s\tremaining: 9.53s\n",
      "739:\tlearn: 0.8840050\ttotal: 27.2s\tremaining: 9.49s\n",
      "740:\tlearn: 0.8840570\ttotal: 27.3s\tremaining: 9.45s\n",
      "741:\tlearn: 0.8841779\ttotal: 27.3s\tremaining: 9.42s\n",
      "742:\tlearn: 0.8842956\ttotal: 27.3s\tremaining: 9.38s\n",
      "743:\tlearn: 0.8845773\ttotal: 27.4s\tremaining: 9.34s\n",
      "744:\tlearn: 0.8845008\ttotal: 27.4s\tremaining: 9.3s\n",
      "745:\tlearn: 0.8846637\ttotal: 27.4s\tremaining: 9.27s\n",
      "746:\tlearn: 0.8849419\ttotal: 27.5s\tremaining: 9.23s\n",
      "747:\tlearn: 0.8854498\ttotal: 27.5s\tremaining: 9.19s\n",
      "748:\tlearn: 0.8852417\ttotal: 27.5s\tremaining: 9.15s\n",
      "749:\tlearn: 0.8855639\ttotal: 27.6s\tremaining: 9.12s\n",
      "750:\tlearn: 0.8856603\ttotal: 27.6s\tremaining: 9.08s\n",
      "751:\tlearn: 0.8856965\ttotal: 27.6s\tremaining: 9.04s\n",
      "752:\tlearn: 0.8858460\ttotal: 27.7s\tremaining: 9.01s\n",
      "753:\tlearn: 0.8862109\ttotal: 27.7s\tremaining: 8.97s\n",
      "754:\tlearn: 0.8863803\ttotal: 27.7s\tremaining: 8.93s\n",
      "755:\tlearn: 0.8860723\ttotal: 27.8s\tremaining: 8.89s\n",
      "756:\tlearn: 0.8863803\ttotal: 27.8s\tremaining: 8.86s\n",
      "757:\tlearn: 0.8862146\ttotal: 27.9s\tremaining: 8.82s\n",
      "758:\tlearn: 0.8860044\ttotal: 27.9s\tremaining: 8.78s\n",
      "759:\tlearn: 0.8873529\ttotal: 27.9s\tremaining: 8.74s\n",
      "760:\tlearn: 0.8875695\ttotal: 28s\tremaining: 8.71s\n",
      "761:\tlearn: 0.8881992\ttotal: 28s\tremaining: 8.67s\n",
      "762:\tlearn: 0.8881224\ttotal: 28s\tremaining: 8.63s\n",
      "763:\tlearn: 0.8881554\ttotal: 28.1s\tremaining: 8.59s\n",
      "764:\tlearn: 0.8887091\ttotal: 28.1s\tremaining: 8.55s\n",
      "765:\tlearn: 0.8884523\ttotal: 28.1s\tremaining: 8.52s\n",
      "766:\tlearn: 0.8885224\ttotal: 28.2s\tremaining: 8.48s\n",
      "767:\tlearn: 0.8886300\ttotal: 28.2s\tremaining: 8.44s\n",
      "768:\tlearn: 0.8886074\ttotal: 28.2s\tremaining: 8.41s\n",
      "769:\tlearn: 0.8883345\ttotal: 28.3s\tremaining: 8.37s\n",
      "770:\tlearn: 0.8888404\ttotal: 28.3s\tremaining: 8.33s\n",
      "771:\tlearn: 0.8886563\ttotal: 28.3s\tremaining: 8.3s\n",
      "772:\tlearn: 0.8884525\ttotal: 28.4s\tremaining: 8.26s\n",
      "773:\tlearn: 0.8881477\ttotal: 28.4s\tremaining: 8.22s\n",
      "774:\tlearn: 0.8884134\ttotal: 28.4s\tremaining: 8.19s\n",
      "775:\tlearn: 0.8881900\ttotal: 28.5s\tremaining: 8.15s\n",
      "776:\tlearn: 0.8881799\ttotal: 28.5s\tremaining: 8.11s\n",
      "777:\tlearn: 0.8883759\ttotal: 28.6s\tremaining: 8.08s\n",
      "778:\tlearn: 0.8884185\ttotal: 28.6s\tremaining: 8.04s\n",
      "779:\tlearn: 0.8884109\ttotal: 28.6s\tremaining: 8s\n",
      "780:\tlearn: 0.8888228\ttotal: 28.7s\tremaining: 7.96s\n",
      "781:\tlearn: 0.8891691\ttotal: 28.7s\tremaining: 7.93s\n",
      "782:\tlearn: 0.8896235\ttotal: 28.7s\tremaining: 7.89s\n",
      "783:\tlearn: 0.8897020\ttotal: 28.8s\tremaining: 7.86s\n",
      "784:\tlearn: 0.8896908\ttotal: 28.8s\tremaining: 7.82s\n",
      "785:\tlearn: 0.8900427\ttotal: 28.9s\tremaining: 7.78s\n",
      "786:\tlearn: 0.8899373\ttotal: 28.9s\tremaining: 7.75s\n",
      "787:\tlearn: 0.8899773\ttotal: 28.9s\tremaining: 7.71s\n",
      "788:\tlearn: 0.8900190\ttotal: 29s\tremaining: 7.67s\n",
      "789:\tlearn: 0.8907637\ttotal: 29s\tremaining: 7.63s\n",
      "790:\tlearn: 0.8910140\ttotal: 29s\tremaining: 7.6s\n",
      "791:\tlearn: 0.8910889\ttotal: 29.1s\tremaining: 7.56s\n",
      "792:\tlearn: 0.8912116\ttotal: 29.1s\tremaining: 7.52s\n",
      "793:\tlearn: 0.8915731\ttotal: 29.1s\tremaining: 7.49s\n",
      "794:\tlearn: 0.8923687\ttotal: 29.2s\tremaining: 7.45s\n",
      "795:\tlearn: 0.8931113\ttotal: 29.2s\tremaining: 7.42s\n",
      "796:\tlearn: 0.8928000\ttotal: 29.3s\tremaining: 7.38s\n",
      "797:\tlearn: 0.8927136\ttotal: 29.3s\tremaining: 7.34s\n",
      "798:\tlearn: 0.8934438\ttotal: 29.3s\tremaining: 7.31s\n",
      "799:\tlearn: 0.8939426\ttotal: 29.4s\tremaining: 7.27s\n",
      "800:\tlearn: 0.8946635\ttotal: 29.4s\tremaining: 7.24s\n",
      "801:\tlearn: 0.8943372\ttotal: 29.5s\tremaining: 7.2s\n",
      "802:\tlearn: 0.8944991\ttotal: 29.5s\tremaining: 7.16s\n",
      "803:\tlearn: 0.8945573\ttotal: 29.5s\tremaining: 7.12s\n",
      "804:\tlearn: 0.8943554\ttotal: 29.6s\tremaining: 7.09s\n",
      "805:\tlearn: 0.8943239\ttotal: 29.6s\tremaining: 7.05s\n",
      "806:\tlearn: 0.8957396\ttotal: 29.6s\tremaining: 7.02s\n",
      "807:\tlearn: 0.8955488\ttotal: 29.7s\tremaining: 6.98s\n",
      "808:\tlearn: 0.8958395\ttotal: 29.7s\tremaining: 6.94s\n",
      "809:\tlearn: 0.8958364\ttotal: 29.8s\tremaining: 6.91s\n",
      "810:\tlearn: 0.8959765\ttotal: 29.8s\tremaining: 6.87s\n",
      "811:\tlearn: 0.8958824\ttotal: 29.8s\tremaining: 6.83s\n",
      "812:\tlearn: 0.8964306\ttotal: 29.9s\tremaining: 6.8s\n",
      "813:\tlearn: 0.8963988\ttotal: 29.9s\tremaining: 6.76s\n",
      "814:\tlearn: 0.8958817\ttotal: 30s\tremaining: 6.73s\n",
      "815:\tlearn: 0.8959894\ttotal: 30s\tremaining: 6.69s\n",
      "816:\tlearn: 0.8960625\ttotal: 30s\tremaining: 6.65s\n",
      "817:\tlearn: 0.8960623\ttotal: 30.1s\tremaining: 6.62s\n",
      "818:\tlearn: 0.8960311\ttotal: 30.1s\tremaining: 6.58s\n",
      "819:\tlearn: 0.8962651\ttotal: 30.1s\tremaining: 6.54s\n",
      "820:\tlearn: 0.8964431\ttotal: 30.2s\tremaining: 6.51s\n",
      "821:\tlearn: 0.8964733\ttotal: 30.2s\tremaining: 6.47s\n",
      "822:\tlearn: 0.8962715\ttotal: 30.3s\tremaining: 6.43s\n",
      "823:\tlearn: 0.8969809\ttotal: 30.3s\tremaining: 6.4s\n",
      "824:\tlearn: 0.8970557\ttotal: 30.3s\tremaining: 6.36s\n",
      "825:\tlearn: 0.8970842\ttotal: 30.4s\tremaining: 6.33s\n",
      "826:\tlearn: 0.8970842\ttotal: 30.4s\tremaining: 6.29s\n",
      "827:\tlearn: 0.8977852\ttotal: 30.5s\tremaining: 6.25s\n",
      "828:\tlearn: 0.8979282\ttotal: 30.5s\tremaining: 6.22s\n",
      "829:\tlearn: 0.8980947\ttotal: 30.5s\tremaining: 6.18s\n",
      "830:\tlearn: 0.8980947\ttotal: 30.6s\tremaining: 6.14s\n",
      "831:\tlearn: 0.8983135\ttotal: 30.6s\tremaining: 6.11s\n",
      "832:\tlearn: 0.8981525\ttotal: 30.6s\tremaining: 6.07s\n",
      "833:\tlearn: 0.8980078\ttotal: 30.7s\tremaining: 6.03s\n",
      "834:\tlearn: 0.8979408\ttotal: 30.7s\tremaining: 6s\n",
      "835:\tlearn: 0.8979771\ttotal: 30.8s\tremaining: 5.96s\n",
      "836:\tlearn: 0.8980850\ttotal: 30.8s\tremaining: 5.92s\n",
      "837:\tlearn: 0.8980850\ttotal: 30.8s\tremaining: 5.89s\n",
      "838:\tlearn: 0.8986061\ttotal: 30.9s\tremaining: 5.85s\n",
      "839:\tlearn: 0.8984386\ttotal: 30.9s\tremaining: 5.81s\n",
      "840:\tlearn: 0.8991226\ttotal: 30.9s\tremaining: 5.78s\n",
      "841:\tlearn: 0.8991692\ttotal: 31s\tremaining: 5.74s\n",
      "842:\tlearn: 0.8992287\ttotal: 31s\tremaining: 5.7s\n",
      "843:\tlearn: 0.8999350\ttotal: 31s\tremaining: 5.67s\n",
      "844:\tlearn: 0.8999629\ttotal: 31.1s\tremaining: 5.63s\n",
      "845:\tlearn: 0.8993055\ttotal: 31.1s\tremaining: 5.59s\n",
      "846:\tlearn: 0.9001694\ttotal: 31.2s\tremaining: 5.55s\n",
      "847:\tlearn: 0.8999469\ttotal: 31.2s\tremaining: 5.52s\n",
      "848:\tlearn: 0.8999469\ttotal: 31.2s\tremaining: 5.48s\n",
      "849:\tlearn: 0.8999102\ttotal: 31.3s\tremaining: 5.44s\n",
      "850:\tlearn: 0.8999102\ttotal: 31.3s\tremaining: 5.41s\n",
      "851:\tlearn: 0.8999469\ttotal: 31.3s\tremaining: 5.37s\n",
      "852:\tlearn: 0.8999469\ttotal: 31.4s\tremaining: 5.33s\n",
      "853:\tlearn: 0.8999102\ttotal: 31.4s\tremaining: 5.29s\n",
      "854:\tlearn: 0.8999469\ttotal: 31.4s\tremaining: 5.26s\n",
      "855:\tlearn: 0.9001393\ttotal: 31.5s\tremaining: 5.22s\n",
      "856:\tlearn: 0.9001393\ttotal: 31.5s\tremaining: 5.18s\n",
      "857:\tlearn: 0.9001800\ttotal: 31.5s\tremaining: 5.15s\n",
      "858:\tlearn: 0.9000233\ttotal: 31.6s\tremaining: 5.11s\n",
      "859:\tlearn: 0.9012152\ttotal: 31.6s\tremaining: 5.07s\n",
      "860:\tlearn: 0.9011486\ttotal: 31.6s\tremaining: 5.04s\n",
      "861:\tlearn: 0.9005328\ttotal: 31.7s\tremaining: 5s\n",
      "862:\tlearn: 0.9006964\ttotal: 31.7s\tremaining: 4.96s\n",
      "863:\tlearn: 0.9018935\ttotal: 31.8s\tremaining: 4.92s\n",
      "864:\tlearn: 0.9015103\ttotal: 31.8s\tremaining: 4.89s\n",
      "865:\tlearn: 0.9019995\ttotal: 31.8s\tremaining: 4.85s\n",
      "866:\tlearn: 0.9015103\ttotal: 31.9s\tremaining: 4.82s\n",
      "867:\tlearn: 0.9015103\ttotal: 31.9s\tremaining: 4.78s\n",
      "868:\tlearn: 0.9015103\ttotal: 31.9s\tremaining: 4.74s\n",
      "869:\tlearn: 0.9016923\ttotal: 32s\tremaining: 4.71s\n",
      "870:\tlearn: 0.9017330\ttotal: 32s\tremaining: 4.67s\n",
      "871:\tlearn: 0.9022818\ttotal: 32.1s\tremaining: 4.63s\n",
      "872:\tlearn: 0.9024020\ttotal: 32.1s\tremaining: 4.59s\n",
      "873:\tlearn: 0.9024667\ttotal: 32.1s\tremaining: 4.56s\n",
      "874:\tlearn: 0.9023795\ttotal: 32.2s\tremaining: 4.52s\n",
      "875:\tlearn: 0.9024434\ttotal: 32.2s\tremaining: 4.48s\n",
      "876:\tlearn: 0.9026145\ttotal: 32.2s\tremaining: 4.45s\n",
      "877:\tlearn: 0.9019371\ttotal: 32.3s\tremaining: 4.41s\n",
      "878:\tlearn: 0.9019371\ttotal: 32.3s\tremaining: 4.37s\n",
      "879:\tlearn: 0.9019172\ttotal: 32.3s\tremaining: 4.34s\n",
      "880:\tlearn: 0.9020656\ttotal: 32.4s\tremaining: 4.3s\n",
      "881:\tlearn: 0.9020430\ttotal: 32.4s\tremaining: 4.26s\n",
      "882:\tlearn: 0.9020458\ttotal: 32.4s\tremaining: 4.22s\n",
      "883:\tlearn: 0.9019183\ttotal: 32.5s\tremaining: 4.19s\n",
      "884:\tlearn: 0.9019055\ttotal: 32.5s\tremaining: 4.15s\n",
      "885:\tlearn: 0.9019055\ttotal: 32.6s\tremaining: 4.11s\n",
      "886:\tlearn: 0.9021541\ttotal: 32.6s\tremaining: 4.08s\n",
      "887:\tlearn: 0.9021541\ttotal: 32.6s\tremaining: 4.04s\n",
      "888:\tlearn: 0.9027030\ttotal: 32.7s\tremaining: 4s\n",
      "889:\tlearn: 0.9028105\ttotal: 32.7s\tremaining: 3.97s\n",
      "890:\tlearn: 0.9028847\ttotal: 32.7s\tremaining: 3.93s\n",
      "891:\tlearn: 0.9026344\ttotal: 32.8s\tremaining: 3.89s\n",
      "892:\tlearn: 0.9026344\ttotal: 32.8s\tremaining: 3.86s\n",
      "893:\tlearn: 0.9026809\ttotal: 32.8s\tremaining: 3.82s\n",
      "894:\tlearn: 0.9024186\ttotal: 32.9s\tremaining: 3.78s\n",
      "895:\tlearn: 0.9024186\ttotal: 32.9s\tremaining: 3.75s\n",
      "896:\tlearn: 0.9036372\ttotal: 32.9s\tremaining: 3.71s\n",
      "897:\tlearn: 0.9037046\ttotal: 33s\tremaining: 3.67s\n",
      "898:\tlearn: 0.9037928\ttotal: 33s\tremaining: 3.63s\n",
      "899:\tlearn: 0.9039992\ttotal: 33s\tremaining: 3.6s\n",
      "900:\tlearn: 0.9040825\ttotal: 33.1s\tremaining: 3.56s\n",
      "901:\tlearn: 0.9040825\ttotal: 33.1s\tremaining: 3.52s\n",
      "902:\tlearn: 0.9042343\ttotal: 33.1s\tremaining: 3.49s\n",
      "903:\tlearn: 0.9044485\ttotal: 33.2s\tremaining: 3.45s\n",
      "904:\tlearn: 0.9048432\ttotal: 33.2s\tremaining: 3.41s\n",
      "905:\tlearn: 0.9051548\ttotal: 33.3s\tremaining: 3.38s\n",
      "906:\tlearn: 0.9057155\ttotal: 33.3s\tremaining: 3.34s\n",
      "907:\tlearn: 0.9057512\ttotal: 33.3s\tremaining: 3.3s\n",
      "908:\tlearn: 0.9060508\ttotal: 33.4s\tremaining: 3.27s\n",
      "909:\tlearn: 0.9060390\ttotal: 33.4s\tremaining: 3.23s\n",
      "910:\tlearn: 0.9062738\ttotal: 33.4s\tremaining: 3.19s\n",
      "911:\tlearn: 0.9064524\ttotal: 33.5s\tremaining: 3.15s\n",
      "912:\tlearn: 0.9063603\ttotal: 33.5s\tremaining: 3.12s\n",
      "913:\tlearn: 0.9063397\ttotal: 33.5s\tremaining: 3.08s\n",
      "914:\tlearn: 0.9064943\ttotal: 33.6s\tremaining: 3.05s\n",
      "915:\tlearn: 0.9065614\ttotal: 33.6s\tremaining: 3.01s\n",
      "916:\tlearn: 0.9067280\ttotal: 33.7s\tremaining: 2.97s\n",
      "917:\tlearn: 0.9072237\ttotal: 33.7s\tremaining: 2.94s\n",
      "918:\tlearn: 0.9071366\ttotal: 33.7s\tremaining: 2.9s\n",
      "919:\tlearn: 0.9070998\ttotal: 33.8s\tremaining: 2.86s\n",
      "920:\tlearn: 0.9070998\ttotal: 33.8s\tremaining: 2.83s\n",
      "921:\tlearn: 0.9078506\ttotal: 33.8s\tremaining: 2.79s\n",
      "922:\tlearn: 0.9079104\ttotal: 33.9s\tremaining: 2.75s\n",
      "923:\tlearn: 0.9082017\ttotal: 33.9s\tremaining: 2.71s\n",
      "924:\tlearn: 0.9080657\ttotal: 33.9s\tremaining: 2.68s\n",
      "925:\tlearn: 0.9082871\ttotal: 34s\tremaining: 2.64s\n",
      "926:\tlearn: 0.9085660\ttotal: 34s\tremaining: 2.6s\n",
      "927:\tlearn: 0.9087999\ttotal: 34s\tremaining: 2.57s\n",
      "928:\tlearn: 0.9087120\ttotal: 34.1s\tremaining: 2.53s\n",
      "929:\tlearn: 0.9092743\ttotal: 34.1s\tremaining: 2.49s\n",
      "930:\tlearn: 0.9094021\ttotal: 34.2s\tremaining: 2.46s\n",
      "931:\tlearn: 0.9092569\ttotal: 34.2s\tremaining: 2.42s\n",
      "932:\tlearn: 0.9094277\ttotal: 34.2s\tremaining: 2.38s\n",
      "933:\tlearn: 0.9097572\ttotal: 34.3s\tremaining: 2.35s\n",
      "934:\tlearn: 0.9097332\ttotal: 34.3s\tremaining: 2.31s\n",
      "935:\tlearn: 0.9098666\ttotal: 34.3s\tremaining: 2.27s\n",
      "936:\tlearn: 0.9098660\ttotal: 34.4s\tremaining: 2.24s\n",
      "937:\tlearn: 0.9098660\ttotal: 34.4s\tremaining: 2.2s\n",
      "938:\tlearn: 0.9098660\ttotal: 34.4s\tremaining: 2.16s\n",
      "939:\tlearn: 0.9098755\ttotal: 34.5s\tremaining: 2.13s\n",
      "940:\tlearn: 0.9097525\ttotal: 34.5s\tremaining: 2.09s\n",
      "941:\tlearn: 0.9099295\ttotal: 34.5s\tremaining: 2.05s\n",
      "942:\tlearn: 0.9097525\ttotal: 34.6s\tremaining: 2.02s\n",
      "943:\tlearn: 0.9098549\ttotal: 34.6s\tremaining: 1.98s\n",
      "944:\tlearn: 0.9103295\ttotal: 34.7s\tremaining: 1.94s\n",
      "945:\tlearn: 0.9102214\ttotal: 34.7s\tremaining: 1.91s\n",
      "946:\tlearn: 0.9108118\ttotal: 34.7s\tremaining: 1.87s\n",
      "947:\tlearn: 0.9105964\ttotal: 34.8s\tremaining: 1.83s\n",
      "948:\tlearn: 0.9105118\ttotal: 34.8s\tremaining: 1.8s\n",
      "949:\tlearn: 0.9109566\ttotal: 34.8s\tremaining: 1.76s\n",
      "950:\tlearn: 0.9112358\ttotal: 34.9s\tremaining: 1.72s\n",
      "951:\tlearn: 0.9112100\ttotal: 34.9s\tremaining: 1.69s\n",
      "952:\tlearn: 0.9114889\ttotal: 34.9s\tremaining: 1.65s\n",
      "953:\tlearn: 0.9115184\ttotal: 35s\tremaining: 1.61s\n",
      "954:\tlearn: 0.9113802\ttotal: 35s\tremaining: 1.57s\n",
      "955:\tlearn: 0.9115815\ttotal: 35s\tremaining: 1.54s\n",
      "956:\tlearn: 0.9120092\ttotal: 35.1s\tremaining: 1.5s\n",
      "957:\tlearn: 0.9121054\ttotal: 35.1s\tremaining: 1.47s\n",
      "958:\tlearn: 0.9123201\ttotal: 35.1s\tremaining: 1.43s\n",
      "959:\tlearn: 0.9122106\ttotal: 35.2s\tremaining: 1.39s\n",
      "960:\tlearn: 0.9120935\ttotal: 35.2s\tremaining: 1.35s\n",
      "961:\tlearn: 0.9123181\ttotal: 35.2s\tremaining: 1.32s\n",
      "962:\tlearn: 0.9123061\ttotal: 35.3s\tremaining: 1.28s\n",
      "963:\tlearn: 0.9122205\ttotal: 35.3s\tremaining: 1.25s\n",
      "964:\tlearn: 0.9124227\ttotal: 35.3s\tremaining: 1.21s\n",
      "965:\tlearn: 0.9124227\ttotal: 35.4s\tremaining: 1.17s\n",
      "966:\tlearn: 0.9124227\ttotal: 35.4s\tremaining: 1.14s\n",
      "967:\tlearn: 0.9125670\ttotal: 35.5s\tremaining: 1.1s\n",
      "968:\tlearn: 0.9127110\ttotal: 35.5s\tremaining: 1.06s\n",
      "969:\tlearn: 0.9127942\ttotal: 35.5s\tremaining: 1.02s\n",
      "970:\tlearn: 0.9128514\ttotal: 35.6s\tremaining: 989ms\n",
      "971:\tlearn: 0.9127939\ttotal: 35.6s\tremaining: 952ms\n",
      "972:\tlearn: 0.9127939\ttotal: 35.6s\tremaining: 916ms\n",
      "973:\tlearn: 0.9127939\ttotal: 35.7s\tremaining: 879ms\n",
      "974:\tlearn: 0.9127946\ttotal: 35.7s\tremaining: 843ms\n",
      "975:\tlearn: 0.9127946\ttotal: 35.8s\tremaining: 806ms\n",
      "976:\tlearn: 0.9129674\ttotal: 35.8s\tremaining: 769ms\n",
      "977:\tlearn: 0.9129923\ttotal: 35.8s\tremaining: 733ms\n",
      "978:\tlearn: 0.9131461\ttotal: 35.9s\tremaining: 696ms\n",
      "979:\tlearn: 0.9129674\ttotal: 35.9s\tremaining: 660ms\n",
      "980:\tlearn: 0.9131452\ttotal: 36s\tremaining: 623ms\n",
      "981:\tlearn: 0.9134166\ttotal: 36s\tremaining: 587ms\n",
      "982:\tlearn: 0.9131690\ttotal: 36s\tremaining: 550ms\n",
      "983:\tlearn: 0.9137185\ttotal: 36.1s\tremaining: 513ms\n",
      "984:\tlearn: 0.9133339\ttotal: 36.1s\tremaining: 477ms\n",
      "985:\tlearn: 0.9133298\ttotal: 36.1s\tremaining: 440ms\n",
      "986:\tlearn: 0.9133567\ttotal: 36.2s\tremaining: 403ms\n",
      "987:\tlearn: 0.9136756\ttotal: 36.2s\tremaining: 367ms\n",
      "988:\tlearn: 0.9136555\ttotal: 36.3s\tremaining: 330ms\n",
      "989:\tlearn: 0.9140205\ttotal: 36.3s\tremaining: 293ms\n",
      "990:\tlearn: 0.9142211\ttotal: 36.3s\tremaining: 257ms\n",
      "991:\tlearn: 0.9140398\ttotal: 36.4s\tremaining: 220ms\n",
      "992:\tlearn: 0.9140769\ttotal: 36.4s\tremaining: 183ms\n",
      "993:\tlearn: 0.9142224\ttotal: 36.4s\tremaining: 147ms\n",
      "994:\tlearn: 0.9140765\ttotal: 36.5s\tremaining: 110ms\n",
      "995:\tlearn: 0.9143677\ttotal: 36.5s\tremaining: 73.3ms\n",
      "996:\tlearn: 0.9143677\ttotal: 36.5s\tremaining: 36.7ms\n",
      "997:\tlearn: 0.9144178\ttotal: 36.6s\tremaining: 0us\n",
      "CPU times: total: 1min 21s\n",
      "Wall time: 37.3 s\n"
     ]
    }
   ],
   "source": [
    "%%time\n",
    "\n",
    "# создаем модель\n",
    "model_full = CatBoostClassifier(\n",
    "                    **study.best_params,\n",
    "                    n_estimators=998,\n",
    "                    random_seed=RANDOM_STATE,\n",
    "                    loss_function='MultiClass',\n",
    "                    eval_metric='TotalF1:average=Macro',\n",
    "                    thread_count=-1,\n",
    "                    task_type='GPU',\n",
    "                    logging_level='Silent',\n",
    ")\n",
    "\n",
    "# обучаем модель\n",
    "model_full.fit(fulldata_pool);"
   ]
  },
  {
   "cell_type": "markdown",
   "metadata": {},
   "source": [
    "## Подбор гиперпараметров после отбора признаков"
   ]
  },
  {
   "cell_type": "code",
   "execution_count": 166,
   "metadata": {},
   "outputs": [
    {
     "name": "stderr",
     "output_type": "stream",
     "text": [
      "[I 2024-08-14 11:55:50,922] A new study created in memory with name: no-name-22891b2b-6e59-4b42-b0ff-1350fcab186d\n"
     ]
    },
    {
     "data": {
      "application/vnd.jupyter.widget-view+json": {
       "model_id": "a2e9311c16de4d68a03c209d451e3ef2",
       "version_major": 2,
       "version_minor": 0
      },
      "text/plain": [
       "  0%|          | 0/3 [00:00<?, ?it/s]"
      ]
     },
     "metadata": {},
     "output_type": "display_data"
    },
    {
     "name": "stdout",
     "output_type": "stream",
     "text": [
      "0:\tlearn: 0.1187706\ttest: 0.1182185\tbest: 0.1182185 (0)\ttotal: 39.2ms\tremaining: 39.2s\n",
      "100:\tlearn: 0.7265094\ttest: 0.7144916\tbest: 0.7144916 (100)\ttotal: 2.71s\tremaining: 24.1s\n",
      "200:\tlearn: 0.8535721\ttest: 0.8306543\tbest: 0.8306543 (200)\ttotal: 5.32s\tremaining: 21.1s\n",
      "300:\tlearn: 0.9042163\ttest: 0.8725293\tbest: 0.8725293 (300)\ttotal: 7.95s\tremaining: 18.5s\n",
      "400:\tlearn: 0.9633087\ttest: 0.8984127\tbest: 0.8984127 (400)\ttotal: 10.6s\tremaining: 15.8s\n",
      "500:\tlearn: 0.9770291\ttest: 0.9216694\tbest: 0.9227388 (463)\ttotal: 13.2s\tremaining: 13.1s\n",
      "600:\tlearn: 0.9803427\ttest: 0.9244684\tbest: 0.9245062 (578)\ttotal: 15.8s\tremaining: 10.5s\n",
      "700:\tlearn: 0.9828161\ttest: 0.9251804\tbest: 0.9257260 (687)\ttotal: 18.3s\tremaining: 7.82s\n",
      "800:\tlearn: 0.9872273\ttest: 0.9300512\tbest: 0.9302489 (796)\ttotal: 20.9s\tremaining: 5.2s\n",
      "900:\tlearn: 0.9900312\ttest: 0.9342112\tbest: 0.9350439 (881)\ttotal: 23.5s\tremaining: 2.58s\n",
      "999:\tlearn: 0.9920722\ttest: 0.9372787\tbest: 0.9373890 (971)\ttotal: 26.1s\tremaining: 0us\n",
      "bestTest = 0.93738904\n",
      "bestIteration = 971\n",
      "Shrink model to first 972 iterations.\n",
      "0:\tlearn: 0.1182429\ttest: 0.1189301\tbest: 0.1189301 (0)\ttotal: 28.8ms\tremaining: 28.8s\n",
      "100:\tlearn: 0.7136315\ttest: 0.6848667\tbest: 0.6848667 (100)\ttotal: 2.73s\tremaining: 24.3s\n",
      "200:\tlearn: 0.8538128\ttest: 0.8352076\tbest: 0.8382370 (196)\ttotal: 5.46s\tremaining: 21.7s\n",
      "300:\tlearn: 0.9037442\ttest: 0.8707527\tbest: 0.8714331 (297)\ttotal: 8.12s\tremaining: 18.9s\n",
      "400:\tlearn: 0.9402385\ttest: 0.8850700\tbest: 0.8855209 (398)\ttotal: 10.8s\tremaining: 16.1s\n",
      "500:\tlearn: 0.9523489\ttest: 0.9062059\tbest: 0.9068184 (482)\ttotal: 13.4s\tremaining: 13.3s\n",
      "600:\tlearn: 0.9659027\ttest: 0.9221861\tbest: 0.9224109 (599)\ttotal: 15.9s\tremaining: 10.6s\n",
      "700:\tlearn: 0.9761293\ttest: 0.9621803\tbest: 0.9622766 (696)\ttotal: 18.4s\tremaining: 7.86s\n",
      "800:\tlearn: 0.9817199\ttest: 0.9668642\tbest: 0.9669273 (774)\ttotal: 21s\tremaining: 5.21s\n",
      "900:\tlearn: 0.9855944\ttest: 0.9712174\tbest: 0.9718135 (890)\ttotal: 23.5s\tremaining: 2.58s\n",
      "999:\tlearn: 0.9887707\ttest: 0.9741330\tbest: 0.9758643 (987)\ttotal: 26.1s\tremaining: 0us\n",
      "bestTest = 0.9758643063\n",
      "bestIteration = 987\n",
      "Shrink model to first 988 iterations.\n",
      "0:\tlearn: 0.1151623\ttest: 0.1098655\tbest: 0.1098655 (0)\ttotal: 29.3ms\tremaining: 29.3s\n",
      "100:\tlearn: 0.7321444\ttest: 0.7123778\tbest: 0.7123778 (100)\ttotal: 2.74s\tremaining: 24.4s\n",
      "200:\tlearn: 0.8689636\ttest: 0.8269724\tbest: 0.8273740 (192)\ttotal: 5.42s\tremaining: 21.6s\n",
      "300:\tlearn: 0.8990331\ttest: 0.8616845\tbest: 0.8623255 (298)\ttotal: 8.09s\tremaining: 18.8s\n",
      "400:\tlearn: 0.9378143\ttest: 0.8892016\tbest: 0.8899570 (398)\ttotal: 10.7s\tremaining: 16s\n",
      "500:\tlearn: 0.9551044\ttest: 0.9053145\tbest: 0.9057118 (499)\ttotal: 13.3s\tremaining: 13.2s\n",
      "600:\tlearn: 0.9793654\ttest: 0.9480983\tbest: 0.9480983 (588)\ttotal: 15.9s\tremaining: 10.6s\n",
      "700:\tlearn: 0.9835113\ttest: 0.9524833\tbest: 0.9528435 (692)\ttotal: 18.6s\tremaining: 7.92s\n",
      "800:\tlearn: 0.9889555\ttest: 0.9609556\tbest: 0.9609999 (766)\ttotal: 21.2s\tremaining: 5.26s\n",
      "900:\tlearn: 0.9911038\ttest: 0.9667464\tbest: 0.9667464 (883)\ttotal: 23.8s\tremaining: 2.61s\n",
      "999:\tlearn: 0.9917715\ttest: 0.9718732\tbest: 0.9725264 (934)\ttotal: 26.4s\tremaining: 0us\n",
      "bestTest = 0.9725263971\n",
      "bestIteration = 934\n",
      "Shrink model to first 935 iterations.\n",
      "[I 2024-08-14 11:57:11,155] Trial 0 finished with value: 0.9619265811460846 and parameters: {'learning_rate': 0.09959253518718761, 'l2_leaf_reg': 11.781405434390404, 'auto_class_weights': 'None', 'max_depth': 4, 'border_count': 96}. Best is trial 0 with value: 0.9619265811460846.\n",
      "0:\tlearn: 0.3849783\ttest: 0.3443997\tbest: 0.3443997 (0)\ttotal: 295ms\tremaining: 4m 55s\n",
      "100:\tlearn: 0.8271979\ttest: 0.7884126\tbest: 0.7884126 (100)\ttotal: 27.5s\tremaining: 4m 5s\n",
      "200:\tlearn: 0.9785246\ttest: 0.9245660\tbest: 0.9245660 (198)\ttotal: 52.9s\tremaining: 3m 30s\n",
      "300:\tlearn: 0.9934685\ttest: 0.9453900\tbest: 0.9453900 (300)\ttotal: 1m 19s\tremaining: 3m 3s\n",
      "400:\tlearn: 0.9968306\ttest: 0.9487978\tbest: 0.9504607 (391)\ttotal: 1m 48s\tremaining: 2m 42s\n",
      "bestTest = 0.9504607368\n",
      "bestIteration = 391\n",
      "Shrink model to first 392 iterations.\n",
      "0:\tlearn: 0.3572508\ttest: 0.3394807\tbest: 0.3394807 (0)\ttotal: 410ms\tremaining: 6m 49s\n",
      "100:\tlearn: 0.8161401\ttest: 0.8021856\tbest: 0.8021856 (100)\ttotal: 39s\tremaining: 5m 47s\n",
      "200:\tlearn: 0.9498625\ttest: 0.9204716\tbest: 0.9204716 (198)\ttotal: 1m 15s\tremaining: 5m\n",
      "300:\tlearn: 0.9942927\ttest: 0.9851404\tbest: 0.9851404 (299)\ttotal: 1m 51s\tremaining: 4m 19s\n",
      "400:\tlearn: 0.9976874\ttest: 0.9887384\tbest: 0.9887384 (391)\ttotal: 2m 27s\tremaining: 3m 39s\n",
      "500:\tlearn: 0.9986979\ttest: 0.9933448\tbest: 0.9940344 (487)\ttotal: 3m 1s\tremaining: 3m\n",
      "600:\tlearn: 0.9995627\ttest: 0.9967438\tbest: 0.9974123 (587)\ttotal: 3m 34s\tremaining: 2m 22s\n",
      "700:\tlearn: 0.9997226\ttest: 0.9977807\tbest: 0.9977807 (641)\ttotal: 4m 6s\tremaining: 1m 45s\n",
      "bestTest = 0.9977807335\n",
      "bestIteration = 641\n",
      "Shrink model to first 642 iterations.\n",
      "0:\tlearn: 0.3792289\ttest: 0.3730161\tbest: 0.3730161 (0)\ttotal: 429ms\tremaining: 7m 8s\n",
      "100:\tlearn: 0.8327443\ttest: 0.8043500\tbest: 0.8043500 (100)\ttotal: 39.5s\tremaining: 5m 51s\n",
      "200:\tlearn: 0.9506879\ttest: 0.8855227\tbest: 0.8855432 (199)\ttotal: 1m 15s\tremaining: 5m\n",
      "300:\tlearn: 0.9855820\ttest: 0.9559550\tbest: 0.9561773 (299)\ttotal: 1m 51s\tremaining: 4m 18s\n",
      "400:\tlearn: 0.9954248\ttest: 0.9771359\tbest: 0.9771359 (395)\ttotal: 2m 27s\tremaining: 3m 39s\n",
      "500:\tlearn: 0.9980647\ttest: 0.9843896\tbest: 0.9843896 (462)\ttotal: 3m 2s\tremaining: 3m 2s\n",
      "600:\tlearn: 0.9994785\ttest: 0.9894020\tbest: 0.9894020 (574)\ttotal: 3m 38s\tremaining: 2m 25s\n",
      "700:\tlearn: 0.9998130\ttest: 0.9924128\tbest: 0.9924128 (675)\ttotal: 4m 14s\tremaining: 1m 48s\n",
      "bestTest = 0.9924127802\n",
      "bestIteration = 675\n",
      "Shrink model to first 676 iterations.\n",
      "[I 2024-08-14 12:08:36,599] Trial 1 finished with value: 0.9802180834790722 and parameters: {'learning_rate': 0.0819941203636449, 'l2_leaf_reg': 16.364146188935777, 'auto_class_weights': 'None', 'max_depth': 10, 'border_count': 56}. Best is trial 1 with value: 0.9802180834790722.\n",
      "0:\tlearn: 0.3942872\ttest: 0.3615208\tbest: 0.3615208 (0)\ttotal: 156ms\tremaining: 2m 35s\n",
      "100:\tlearn: 0.6108967\ttest: 0.5868422\tbest: 0.5868422 (100)\ttotal: 16s\tremaining: 2m 22s\n",
      "200:\tlearn: 0.7271453\ttest: 0.7015791\tbest: 0.7015791 (200)\ttotal: 31.2s\tremaining: 2m 3s\n",
      "300:\tlearn: 0.8350448\ttest: 0.8095409\tbest: 0.8095409 (300)\ttotal: 45.8s\tremaining: 1m 46s\n",
      "400:\tlearn: 0.8812430\ttest: 0.8574577\tbest: 0.8574577 (400)\ttotal: 1m\tremaining: 1m 30s\n",
      "500:\tlearn: 0.9093758\ttest: 0.8884125\tbest: 0.8900124 (492)\ttotal: 1m 14s\tremaining: 1m 14s\n",
      "600:\tlearn: 0.9232097\ttest: 0.9061445\tbest: 0.9061445 (599)\ttotal: 1m 28s\tremaining: 58.4s\n",
      "700:\tlearn: 0.9368114\ttest: 0.9193671\tbest: 0.9193671 (700)\ttotal: 1m 41s\tremaining: 43.3s\n",
      "800:\tlearn: 0.9548454\ttest: 0.9405419\tbest: 0.9405419 (799)\ttotal: 1m 55s\tremaining: 28.8s\n",
      "900:\tlearn: 0.9625218\ttest: 0.9477121\tbest: 0.9477121 (897)\ttotal: 2m 9s\tremaining: 14.3s\n",
      "999:\tlearn: 0.9676325\ttest: 0.9164132\tbest: 0.9492430 (935)\ttotal: 2m 23s\tremaining: 0us\n",
      "bestTest = 0.9492429881\n",
      "bestIteration = 935\n",
      "Shrink model to first 936 iterations.\n",
      "0:\tlearn: 0.3845128\ttest: 0.3622111\tbest: 0.3622111 (0)\ttotal: 143ms\tremaining: 2m 23s\n",
      "100:\tlearn: 0.5815784\ttest: 0.5656017\tbest: 0.5668863 (99)\ttotal: 15.5s\tremaining: 2m 18s\n",
      "200:\tlearn: 0.7128758\ttest: 0.6933441\tbest: 0.6933441 (200)\ttotal: 31s\tremaining: 2m 3s\n",
      "300:\tlearn: 0.8264372\ttest: 0.8145838\tbest: 0.8153462 (296)\ttotal: 45.4s\tremaining: 1m 45s\n",
      "400:\tlearn: 0.8732747\ttest: 0.8591047\tbest: 0.8593562 (399)\ttotal: 59.9s\tremaining: 1m 29s\n",
      "500:\tlearn: 0.8957105\ttest: 0.8826284\tbest: 0.8826284 (500)\ttotal: 1m 13s\tremaining: 1m 13s\n",
      "600:\tlearn: 0.9142719\ttest: 0.9009426\tbest: 0.9009818 (598)\ttotal: 1m 26s\tremaining: 57.5s\n",
      "700:\tlearn: 0.9284589\ttest: 0.9152167\tbest: 0.9152167 (700)\ttotal: 1m 39s\tremaining: 42.6s\n",
      "800:\tlearn: 0.9393364\ttest: 0.9259758\tbest: 0.9263924 (799)\ttotal: 1m 53s\tremaining: 28.2s\n",
      "900:\tlearn: 0.9509334\ttest: 0.9379863\tbest: 0.9383491 (892)\ttotal: 2m 7s\tremaining: 14s\n",
      "999:\tlearn: 0.9579792\ttest: 0.9450342\tbest: 0.9454038 (993)\ttotal: 2m 20s\tremaining: 0us\n",
      "bestTest = 0.9454037664\n",
      "bestIteration = 993\n",
      "Shrink model to first 994 iterations.\n",
      "0:\tlearn: 0.3767634\ttest: 0.3592657\tbest: 0.3592657 (0)\ttotal: 164ms\tremaining: 2m 43s\n",
      "100:\tlearn: 0.6019342\ttest: 0.5889236\tbest: 0.5897086 (99)\ttotal: 15.8s\tremaining: 2m 20s\n",
      "200:\tlearn: 0.7222713\ttest: 0.7107285\tbest: 0.7107285 (200)\ttotal: 31.1s\tremaining: 2m 3s\n",
      "300:\tlearn: 0.8273826\ttest: 0.8163131\tbest: 0.8163131 (298)\ttotal: 45.2s\tremaining: 1m 45s\n",
      "400:\tlearn: 0.8755112\ttest: 0.8742018\tbest: 0.8742018 (400)\ttotal: 1m\tremaining: 1m 30s\n",
      "500:\tlearn: 0.9000487\ttest: 0.8968943\tbest: 0.8968943 (500)\ttotal: 1m 14s\tremaining: 1m 14s\n",
      "600:\tlearn: 0.9206520\ttest: 0.9145660\tbest: 0.9152150 (595)\ttotal: 1m 28s\tremaining: 58.4s\n",
      "700:\tlearn: 0.9367642\ttest: 0.9301946\tbest: 0.9308879 (695)\ttotal: 1m 41s\tremaining: 43.4s\n",
      "800:\tlearn: 0.9459983\ttest: 0.9415794\tbest: 0.9415794 (790)\ttotal: 1m 55s\tremaining: 28.7s\n",
      "900:\tlearn: 0.9595461\ttest: 0.9510616\tbest: 0.9511963 (899)\ttotal: 2m 9s\tremaining: 14.2s\n",
      "999:\tlearn: 0.9654795\ttest: 0.9577792\tbest: 0.9580431 (995)\ttotal: 2m 22s\tremaining: 0us\n",
      "bestTest = 0.9580430748\n",
      "bestIteration = 995\n",
      "Shrink model to first 996 iterations.\n",
      "[I 2024-08-14 12:15:45,779] Trial 2 finished with value: 0.921065186808898 and parameters: {'learning_rate': 0.014590248507276464, 'l2_leaf_reg': 40.86757462539437, 'auto_class_weights': 'Balanced', 'max_depth': 8, 'border_count': 119}. Best is trial 1 with value: 0.9802180834790722.\n",
      "CPU times: total: 41min 55s\n",
      "Wall time: 19min 54s\n"
     ]
    }
   ],
   "source": [
    "%%time\n",
    "\n",
    "study = optuna.create_study(direction='maximize')\n",
    "study.optimize(\n",
    "                lambda trial: objective(trial, X[selected_feat], y, list(range(len(cat_features)))),\n",
    "                n_trials=3,\n",
    "                # n_jobs = -1,\n",
    "                show_progress_bar=True,\n",
    ")"
   ]
  },
  {
   "cell_type": "code",
   "execution_count": 167,
   "metadata": {},
   "outputs": [
    {
     "name": "stdout",
     "output_type": "stream",
     "text": [
      "Best trial: score 0.9802180834790722, params {'learning_rate': 0.0819941203636449, 'l2_leaf_reg': 16.364146188935777, 'auto_class_weights': 'None', 'max_depth': 10, 'border_count': 56}\n"
     ]
    }
   ],
   "source": [
    "print(\"Best trial: score {}, params {}\".format(study.best_trial.value, study.best_trial.params))"
   ]
  },
  {
   "cell_type": "code",
   "execution_count": 168,
   "metadata": {},
   "outputs": [
    {
     "name": "stdout",
     "output_type": "stream",
     "text": [
      "0:\tlearn: 0.3849783\ttest: 0.3443997\tbest: 0.3443997 (0)\ttotal: 369ms\tremaining: 6m 8s\n",
      "100:\tlearn: 0.8271979\ttest: 0.7884126\tbest: 0.7884126 (100)\ttotal: 27.6s\tremaining: 4m 5s\n",
      "200:\tlearn: 0.9785246\ttest: 0.9245660\tbest: 0.9245660 (198)\ttotal: 52.7s\tremaining: 3m 29s\n",
      "300:\tlearn: 0.9934685\ttest: 0.9453900\tbest: 0.9453900 (300)\ttotal: 1m 18s\tremaining: 3m 2s\n",
      "400:\tlearn: 0.9968306\ttest: 0.9487978\tbest: 0.9504607 (391)\ttotal: 1m 43s\tremaining: 2m 33s\n",
      "bestTest = 0.9504607368\n",
      "bestIteration = 391\n",
      "Shrink model to first 392 iterations.\n",
      "0:\tlearn: 0.3572508\ttest: 0.3394807\tbest: 0.3394807 (0)\ttotal: 292ms\tremaining: 4m 51s\n",
      "100:\tlearn: 0.8161401\ttest: 0.8021856\tbest: 0.8021856 (100)\ttotal: 27.5s\tremaining: 4m 4s\n",
      "200:\tlearn: 0.9498625\ttest: 0.9204716\tbest: 0.9204716 (198)\ttotal: 52.5s\tremaining: 3m 28s\n",
      "300:\tlearn: 0.9942927\ttest: 0.9851404\tbest: 0.9851404 (299)\ttotal: 1m 16s\tremaining: 2m 58s\n",
      "400:\tlearn: 0.9976874\ttest: 0.9887384\tbest: 0.9887384 (391)\ttotal: 1m 40s\tremaining: 2m 30s\n",
      "500:\tlearn: 0.9986979\ttest: 0.9933448\tbest: 0.9940344 (487)\ttotal: 2m 3s\tremaining: 2m 2s\n",
      "600:\tlearn: 0.9995627\ttest: 0.9967438\tbest: 0.9974123 (587)\ttotal: 2m 25s\tremaining: 1m 36s\n",
      "700:\tlearn: 0.9997226\ttest: 0.9977807\tbest: 0.9977807 (641)\ttotal: 2m 46s\tremaining: 1m 10s\n",
      "bestTest = 0.9977807335\n",
      "bestIteration = 641\n",
      "Shrink model to first 642 iterations.\n",
      "0:\tlearn: 0.3792289\ttest: 0.3730161\tbest: 0.3730161 (0)\ttotal: 311ms\tremaining: 5m 10s\n",
      "100:\tlearn: 0.8327443\ttest: 0.8043500\tbest: 0.8043500 (100)\ttotal: 28.1s\tremaining: 4m 10s\n",
      "200:\tlearn: 0.9506879\ttest: 0.8855227\tbest: 0.8855432 (199)\ttotal: 53s\tremaining: 3m 30s\n",
      "300:\tlearn: 0.9855820\ttest: 0.9559550\tbest: 0.9561773 (299)\ttotal: 1m 27s\tremaining: 3m 22s\n",
      "400:\tlearn: 0.9954248\ttest: 0.9771359\tbest: 0.9771359 (395)\ttotal: 2m 3s\tremaining: 3m 3s\n",
      "500:\tlearn: 0.9980647\ttest: 0.9843896\tbest: 0.9843896 (462)\ttotal: 2m 38s\tremaining: 2m 38s\n",
      "600:\tlearn: 0.9994785\ttest: 0.9894020\tbest: 0.9894020 (574)\ttotal: 3m 15s\tremaining: 2m 9s\n",
      "700:\tlearn: 0.9998130\ttest: 0.9924128\tbest: 0.9924128 (675)\ttotal: 3m 50s\tremaining: 1m 38s\n",
      "bestTest = 0.9924127802\n",
      "bestIteration = 675\n",
      "Shrink model to first 676 iterations.\n",
      "CPU times: total: 20min 10s\n",
      "Wall time: 9min 20s\n"
     ]
    }
   ],
   "source": [
    "%%time\n",
    "\n",
    "valid_scores, models = objective(\n",
    "    optuna.trial.FixedTrial(study.best_params),\n",
    "    X[selected_feat], \n",
    "    y, \n",
    "    list(range(len(cat_features))),\n",
    "    return_models=True,\n",
    ")"
   ]
  },
  {
   "cell_type": "code",
   "execution_count": 169,
   "metadata": {},
   "outputs": [
    {
     "data": {
      "text/plain": [
       "(0.9802180834790722, 3)"
      ]
     },
     "execution_count": 169,
     "metadata": {},
     "output_type": "execute_result"
    }
   ],
   "source": [
    "valid_scores, len(models)"
   ]
  },
  {
   "cell_type": "code",
   "execution_count": 170,
   "metadata": {},
   "outputs": [
    {
     "data": {
      "text/plain": [
       "[<catboost.core.CatBoostClassifier at 0x221b9bf2f50>,\n",
       " <catboost.core.CatBoostClassifier at 0x221b9bf2ef0>,\n",
       " <catboost.core.CatBoostClassifier at 0x221b9bf0a30>]"
      ]
     },
     "execution_count": 170,
     "metadata": {},
     "output_type": "execute_result"
    }
   ],
   "source": [
    "models"
   ]
  },
  {
   "cell_type": "code",
   "execution_count": 171,
   "metadata": {},
   "outputs": [
    {
     "name": "stdout",
     "output_type": "stream",
     "text": [
      "392\n",
      "642\n",
      "676\n"
     ]
    }
   ],
   "source": [
    "for m in models:\n",
    "    print(m.tree_count_)"
   ]
  },
  {
   "cell_type": "code",
   "execution_count": 172,
   "metadata": {},
   "outputs": [
    {
     "name": "stdout",
     "output_type": "stream",
     "text": [
      "{'nan_mode': 'Min', 'gpu_ram_part': 0.95, 'eval_metric': 'TotalF1:average=Macro', 'combinations_ctr': ['Borders:CtrBorderCount=15:CtrBorderType=Uniform:TargetBorderCount=1:TargetBorderType=MinEntropy:Prior=0/1:Prior=0.5/1:Prior=1/1', 'FeatureFreq:CtrBorderCount=15:CtrBorderType=Median:Prior=0/1'], 'iterations': 1000, 'fold_permutation_block': 64, 'leaf_estimation_method': 'Newton', 'observations_to_bootstrap': 'TestOnly', 'od_pval': 0, 'random_score_type': 'NormalWithModelSizeDecrease', 'counter_calc_method': 'SkipTest', 'grow_policy': 'SymmetricTree', 'penalties_coefficient': 1, 'boosting_type': 'Plain', 'ctr_history_unit': 'Sample', 'feature_border_type': 'GreedyLogSum', 'bayesian_matrix_reg': 0.10000000149011612, 'one_hot_max_size': 2, 'devices': '-1', 'eval_fraction': 0, 'pinned_memory_bytes': '104857600', 'force_unit_auto_pair_weights': False, 'l2_leaf_reg': 16.364145278930664, 'random_strength': 1, 'od_type': 'Iter', 'rsm': 1, 'boost_from_average': False, 'gpu_cat_features_storage': 'GpuRam', 'fold_size_loss_normalization': False, 'max_ctr_complexity': 4, 'model_size_reg': 0.5, 'simple_ctr': ['Borders:CtrBorderCount=15:CtrBorderType=Uniform:TargetBorderCount=1:TargetBorderType=MinEntropy:Prior=0/1:Prior=0.5/1:Prior=1/1', 'FeatureFreq:CtrBorderCount=15:CtrBorderType=MinEntropy:Prior=0/1'], 'pool_metainfo_options': {'tags': {}}, 'use_best_model': True, 'meta_l2_frequency': 0, 'od_wait': 100, 'class_names': [0, 1, 2, 3, 6, 8, 9, 11, 12, 14, 15, 17, 19, 22, 23, 24, 25, 26, 29, 30, 32, 33, 35, 36, 37, 39, 41, 43, 46, 49, 50, 54, 55, 56], 'random_seed': 42, 'depth': 10, 'ctr_target_border_count': 1, 'has_time': False, 'border_count': 56, 'min_fold_size': 100, 'data_partition': 'DocParallel', 'bagging_temperature': 1, 'classes_count': 0, 'auto_class_weights': 'None', 'leaf_estimation_backtracking': 'AnyImprovement', 'best_model_min_trees': 1, 'min_data_in_leaf': 1, 'add_ridge_penalty_to_loss_function': False, 'loss_function': 'MultiClass', 'learning_rate': 0.08199412375688553, 'meta_l2_exponent': 1, 'score_function': 'Cosine', 'task_type': 'GPU', 'leaf_estimation_iterations': 1, 'bootstrap_type': 'Bayesian', 'max_leaves': 1024, 'permutation_count': 4}\n",
      "{'nan_mode': 'Min', 'gpu_ram_part': 0.95, 'eval_metric': 'TotalF1:average=Macro', 'combinations_ctr': ['Borders:CtrBorderCount=15:CtrBorderType=Uniform:TargetBorderCount=1:TargetBorderType=MinEntropy:Prior=0/1:Prior=0.5/1:Prior=1/1', 'FeatureFreq:CtrBorderCount=15:CtrBorderType=Median:Prior=0/1'], 'iterations': 1000, 'fold_permutation_block': 64, 'leaf_estimation_method': 'Newton', 'observations_to_bootstrap': 'TestOnly', 'od_pval': 0, 'random_score_type': 'NormalWithModelSizeDecrease', 'counter_calc_method': 'SkipTest', 'grow_policy': 'SymmetricTree', 'penalties_coefficient': 1, 'boosting_type': 'Plain', 'ctr_history_unit': 'Sample', 'feature_border_type': 'GreedyLogSum', 'bayesian_matrix_reg': 0.10000000149011612, 'one_hot_max_size': 2, 'devices': '-1', 'eval_fraction': 0, 'pinned_memory_bytes': '104857600', 'force_unit_auto_pair_weights': False, 'l2_leaf_reg': 16.364145278930664, 'random_strength': 1, 'od_type': 'Iter', 'rsm': 1, 'boost_from_average': False, 'gpu_cat_features_storage': 'GpuRam', 'fold_size_loss_normalization': False, 'max_ctr_complexity': 4, 'model_size_reg': 0.5, 'simple_ctr': ['Borders:CtrBorderCount=15:CtrBorderType=Uniform:TargetBorderCount=1:TargetBorderType=MinEntropy:Prior=0/1:Prior=0.5/1:Prior=1/1', 'FeatureFreq:CtrBorderCount=15:CtrBorderType=MinEntropy:Prior=0/1'], 'pool_metainfo_options': {'tags': {}}, 'use_best_model': True, 'meta_l2_frequency': 0, 'od_wait': 100, 'class_names': [0, 1, 2, 3, 6, 8, 9, 11, 12, 14, 15, 17, 19, 22, 23, 24, 25, 26, 29, 30, 32, 33, 35, 36, 37, 39, 41, 43, 46, 49, 50, 54, 55, 56], 'random_seed': 42, 'depth': 10, 'ctr_target_border_count': 1, 'has_time': False, 'border_count': 56, 'min_fold_size': 100, 'data_partition': 'DocParallel', 'bagging_temperature': 1, 'classes_count': 0, 'auto_class_weights': 'None', 'leaf_estimation_backtracking': 'AnyImprovement', 'best_model_min_trees': 1, 'min_data_in_leaf': 1, 'add_ridge_penalty_to_loss_function': False, 'loss_function': 'MultiClass', 'learning_rate': 0.08199412375688553, 'meta_l2_exponent': 1, 'score_function': 'Cosine', 'task_type': 'GPU', 'leaf_estimation_iterations': 1, 'bootstrap_type': 'Bayesian', 'max_leaves': 1024, 'permutation_count': 4}\n",
      "{'nan_mode': 'Min', 'gpu_ram_part': 0.95, 'eval_metric': 'TotalF1:average=Macro', 'combinations_ctr': ['Borders:CtrBorderCount=15:CtrBorderType=Uniform:TargetBorderCount=1:TargetBorderType=MinEntropy:Prior=0/1:Prior=0.5/1:Prior=1/1', 'FeatureFreq:CtrBorderCount=15:CtrBorderType=Median:Prior=0/1'], 'iterations': 1000, 'fold_permutation_block': 64, 'leaf_estimation_method': 'Newton', 'observations_to_bootstrap': 'TestOnly', 'od_pval': 0, 'random_score_type': 'NormalWithModelSizeDecrease', 'counter_calc_method': 'SkipTest', 'grow_policy': 'SymmetricTree', 'penalties_coefficient': 1, 'boosting_type': 'Plain', 'ctr_history_unit': 'Sample', 'feature_border_type': 'GreedyLogSum', 'bayesian_matrix_reg': 0.10000000149011612, 'one_hot_max_size': 2, 'devices': '-1', 'eval_fraction': 0, 'pinned_memory_bytes': '104857600', 'force_unit_auto_pair_weights': False, 'l2_leaf_reg': 16.364145278930664, 'random_strength': 1, 'od_type': 'Iter', 'rsm': 1, 'boost_from_average': False, 'gpu_cat_features_storage': 'GpuRam', 'fold_size_loss_normalization': False, 'max_ctr_complexity': 4, 'model_size_reg': 0.5, 'simple_ctr': ['Borders:CtrBorderCount=15:CtrBorderType=Uniform:TargetBorderCount=1:TargetBorderType=MinEntropy:Prior=0/1:Prior=0.5/1:Prior=1/1', 'FeatureFreq:CtrBorderCount=15:CtrBorderType=MinEntropy:Prior=0/1'], 'pool_metainfo_options': {'tags': {}}, 'use_best_model': True, 'meta_l2_frequency': 0, 'od_wait': 100, 'class_names': [0, 1, 2, 3, 6, 8, 9, 11, 12, 14, 15, 17, 19, 22, 23, 24, 25, 26, 29, 30, 32, 33, 35, 36, 37, 39, 41, 43, 46, 49, 50, 54, 55, 56], 'random_seed': 42, 'depth': 10, 'ctr_target_border_count': 1, 'has_time': False, 'border_count': 56, 'min_fold_size': 100, 'data_partition': 'DocParallel', 'bagging_temperature': 1, 'classes_count': 0, 'auto_class_weights': 'None', 'leaf_estimation_backtracking': 'AnyImprovement', 'best_model_min_trees': 1, 'min_data_in_leaf': 1, 'add_ridge_penalty_to_loss_function': False, 'loss_function': 'MultiClass', 'learning_rate': 0.08199412375688553, 'meta_l2_exponent': 1, 'score_function': 'Cosine', 'task_type': 'GPU', 'leaf_estimation_iterations': 1, 'bootstrap_type': 'Bayesian', 'max_leaves': 1024, 'permutation_count': 4}\n"
     ]
    }
   ],
   "source": [
    "for m in models:\n",
    "    print(m.get_all_params())"
   ]
  },
  {
   "cell_type": "markdown",
   "metadata": {},
   "source": [
    "## Итоговое предсказание лучшей модели"
   ]
  },
  {
   "cell_type": "code",
   "execution_count": 197,
   "metadata": {},
   "outputs": [],
   "source": [
    "def make_prediction_dict(df_test, name_columns, models):\n",
    "    # из тестового набора выделяем фичи, на которых обучались\n",
    "    X = df_test.loc[:, name_columns]\n",
    "    # датафрейм с закодированными user_id из тестовой выборки\n",
    "    result = df_test.loc[:, ['user_word']]\n",
    "    # делаем предсказания user_id\n",
    "    predictions = np.array([model.predict(X) for model in models])\n",
    "    result['pred_user_id'] = mode(predictions, axis=0)[0].flatten()\n",
    "    result = result.groupby('user_word')['pred_user_id'].agg(lambda group: dict(group.value_counts())).to_dict()\n",
    "    return result"
   ]
  },
  {
   "cell_type": "code",
   "execution_count": 198,
   "metadata": {},
   "outputs": [],
   "source": [
    "def make_prediction(df_test, name_columns, models):\n",
    "    # из тестового набора выделяем фичи, на которых обучались\n",
    "    X = df_test.loc[:, name_columns]\n",
    "    # датафрейм с закодированными user_id из тестовой выборки\n",
    "    result = df_test.loc[:, ['user_word']]\n",
    "    # делаем предсказания user_id\n",
    "    predictions = np.array([model.predict(X) for model in models])\n",
    "    result['pred_user_id'] = mode(predictions, axis=0)[0].flatten()\n",
    "    # датафрейм: user_word; предсказанный user_id; количество предсказанных конкретных user_id для конкретной категории user_word\n",
    "    temp_1 = result.groupby(['user_word', 'pred_user_id']).size().reset_index(name='count_pred_user_id_in_user_word')\n",
    "    # датафрейм: user_word; количество user_word\n",
    "    temp_2 = result['user_word'].value_counts().reset_index(name='count_user_word')\n",
    "    # датафрейм: user_word; pred_user_id; count_pred_user_id_in_user_word; count_user_word\n",
    "    result = temp_1.merge(temp_2, on='user_word', how='left')\n",
    "    # добавляем уверенность модели в том, что предсказанный user_id, соответсвует user_word\n",
    "    result['confidence'] = result['count_pred_user_id_in_user_word'] / result['count_user_word']\n",
    "    # сортируем данные по убыванию уверенности\n",
    "    result = result.sort_values(by='confidence', ascending=False)\n",
    "\n",
    "    # формируем итоговый датафрейм\n",
    "    final = pd.DataFrame(columns=['user_word', 'preds'])\n",
    "    # user_word, которые уже добавлены в final\n",
    "    words = set()\n",
    "    # user_id, которые уже добавлены в final\n",
    "    ids = set()\n",
    "    # добавляем в final предсказания по приоритету уверенности (result уже отсортирован)\n",
    "    for _, row in result.iterrows():\n",
    "        word, user_id = row['user_word'], row['pred_user_id']\n",
    "        if word not in words and user_id not in ids and row['confidence'] > 0.01:\n",
    "            final.loc[len(final)] = [word, user_id]\n",
    "            words.add(word)\n",
    "            ids.add(user_id)\n",
    "\n",
    "    # категориям, насчет которых модель не уверена, проставляется -999\n",
    "    for word in (set(result['user_word'].unique()) - set(final['user_word'])):\n",
    "        final.loc[len(final)] = [word, -999]\n",
    "    \n",
    "    return final.sort_values(by='user_word')"
   ]
  },
  {
   "cell_type": "code",
   "execution_count": 199,
   "metadata": {},
   "outputs": [],
   "source": [
    "df_test = df_test.rename(columns={'user_id': 'user_word'})"
   ]
  },
  {
   "cell_type": "markdown",
   "metadata": {},
   "source": [
    "Вариант Ивана"
   ]
  },
  {
   "cell_type": "code",
   "execution_count": 151,
   "metadata": {},
   "outputs": [],
   "source": [
    "# выбор ответа для конкретного user_word\n",
    "def choosing_answer(votes):\n",
    "    votes = sorted(votes.items(), key=lambda x: x[1], reverse=True)\n",
    "    \n",
    "    if len(votes) == 1:                 # если существует единственный вариант ответа\n",
    "        return votes[0]                 # возвращаем ответ и число голосов\n",
    "    if votes[0][1] == votes[1][1]:      # если первые два места равны\n",
    "        return -999, 100                # ответ со 100% неопределен\n",
    "    return votes[0]\n",
    "\n",
    "\n",
    "# функция отбора голосов\n",
    "def vote_processing(d):\n",
    "    word_to_id = {}\n",
    "    id_to_word = {}\n",
    "    result = []\n",
    "\n",
    "    for user_word, votes in d.items():\n",
    "        user_id, num = choosing_answer(votes)           # получили ответ и количество голосов\n",
    "        result.append(tuple([user_word, user_id, num]))\n",
    "\n",
    "    # отсортируем список по уверенности в ответе\n",
    "    result = sorted(result, key=lambda x: x[2], reverse=True)\n",
    "\n",
    "    # проверим список на наличие дубликатов:\n",
    "    for user_word, user_id, number_of_votes in result:\n",
    "        # ситуация, когда ответ user_id неопознан или уже есть (и его приоритет ниже, так как список отсортирован по убыванию уверенности)\n",
    "        if user_id == -999 or user_id in id_to_word:\n",
    "            word_to_id[user_word] = -999\n",
    "            continue\n",
    "        word_to_id[user_word] = user_id\n",
    "        id_to_word[user_id] = user_word\n",
    "\n",
    "    # сохраним в требуемом формате\n",
    "    df = pd.Series(word_to_id).to_frame().reset_index()\n",
    "    df.columns = ['user_word', 'preds']\n",
    "    df = df.groupby('user_word')['preds'].first().to_frame()\n",
    "    return df"
   ]
  },
  {
   "cell_type": "code",
   "execution_count": null,
   "metadata": {},
   "outputs": [],
   "source": []
  },
  {
   "cell_type": "markdown",
   "metadata": {},
   "source": [
    "Сделаем предсказание"
   ]
  },
  {
   "cell_type": "code",
   "execution_count": 201,
   "metadata": {},
   "outputs": [
    {
     "data": {
      "text/plain": [
       "{'aucroc': {24: 27},\n",
       " 'binary': {12: 170, 15: 20, 14: 13, 46: 12, 19: 9, 9: 6, 49: 6},\n",
       " 'blue': {56: 5, 24: 3},\n",
       " 'categorical': {14: 105, 43: 18, 39: 1},\n",
       " 'coefficient': {26: 19, 15: 15, 24: 5, 46: 2},\n",
       " 'collinear': {37: 38,\n",
       "  0: 34,\n",
       "  6: 24,\n",
       "  19: 21,\n",
       "  29: 13,\n",
       "  32: 10,\n",
       "  50: 10,\n",
       "  46: 9,\n",
       "  35: 9,\n",
       "  11: 6,\n",
       "  43: 5,\n",
       "  3: 4,\n",
       "  54: 4,\n",
       "  23: 2},\n",
       " 'distributed': {0: 38, 19: 25, 41: 10, 50: 8},\n",
       " 'epsilon': {49: 80, 1: 70, 26: 23, 37: 18, 3: 13, 24: 11, 54: 5},\n",
       " 'f1': {37: 276, 6: 166, 33: 14},\n",
       " 'fit': {3: 38,\n",
       "  15: 18,\n",
       "  17: 15,\n",
       "  23: 15,\n",
       "  35: 13,\n",
       "  37: 10,\n",
       "  0: 10,\n",
       "  49: 6,\n",
       "  50: 6,\n",
       "  46: 3},\n",
       " 'gini': {15: 127, 39: 6, 0: 6},\n",
       " 'independent': {15: 44, 49: 41, 39: 30, 14: 25, 1: 21, 46: 10, 25: 4},\n",
       " 'lasso': {46: 12, 56: 5, 23: 3},\n",
       " 'linear': {17: 50, 3: 41, 0: 14, 33: 12, 55: 11, 35: 10, 32: 4},\n",
       " 'logistic': {56: 3},\n",
       " 'loss': {19: 71, 12: 52, 15: 51, 9: 46, 49: 37, 0: 30, 39: 12, 54: 10},\n",
       " 'matrix': {32: 30, 35: 14, 46: 14, 19: 12, 11: 7, 25: 6, 29: 5, 23: 5},\n",
       " 'minimization': {29: 41, 19: 16, 25: 7, 30: 2},\n",
       " 'mse': {43: 32, 23: 23, 25: 8},\n",
       " 'ols': {11: 57, 35: 13, 39: 12, 15: 7, 6: 6},\n",
       " 'precision': {9: 14, 12: 12},\n",
       " 'predict': {39: 43, 15: 26, 11: 16, 29: 16, 19: 10, 23: 10, 54: 7, 0: 5},\n",
       " 'pvalue': {32: 40, 54: 38, 29: 28, 50: 23},\n",
       " 'r2': {54: 74, 49: 21, 23: 17, 39: 10, 15: 4},\n",
       " 'recall': {3: 77, 17: 20, 39: 17, 37: 10, 11: 4},\n",
       " 'regression': {19: 20, 0: 10},\n",
       " 'residual': {32: 42, 19: 33, 50: 30, 39: 20, 29: 10, 11: 9, 54: 8, 49: 5},\n",
       " 'ridge': {0: 24, 39: 21, 35: 18, 50: 17, 1: 14, 54: 7, 32: 5},\n",
       " 'sigmoid': {55: 225, 19: 32, 26: 21, 1: 3},\n",
       " 'significant': {55: 40,\n",
       "  33: 36,\n",
       "  37: 25,\n",
       "  0: 19,\n",
       "  17: 15,\n",
       "  23: 11,\n",
       "  3: 11,\n",
       "  54: 10,\n",
       "  29: 9,\n",
       "  15: 8,\n",
       "  11: 8},\n",
       " 'target': {46: 31, 43: 10, 19: 10, 25: 9, 6: 7, 23: 3},\n",
       " 'tstat': {19: 29, 12: 20, 14: 17, 9: 16, 54: 10, 43: 7},\n",
       " 'x': {6: 53, 11: 27, 49: 26, 39: 23, 37: 22, 19: 22, 24: 9, 33: 5},\n",
       " 'y': {12: 22, 54: 7, 24: 1}}"
      ]
     },
     "execution_count": 201,
     "metadata": {},
     "output_type": "execute_result"
    }
   ],
   "source": [
    "result_dct = make_prediction_dict(df_test, selected_feat, models)\n",
    "result_dct"
   ]
  },
  {
   "cell_type": "code",
   "execution_count": 202,
   "metadata": {},
   "outputs": [
    {
     "data": {
      "text/html": [
       "<div>\n",
       "<style scoped>\n",
       "    .dataframe tbody tr th:only-of-type {\n",
       "        vertical-align: middle;\n",
       "    }\n",
       "\n",
       "    .dataframe tbody tr th {\n",
       "        vertical-align: top;\n",
       "    }\n",
       "\n",
       "    .dataframe thead th {\n",
       "        text-align: right;\n",
       "    }\n",
       "</style>\n",
       "<table border=\"1\" class=\"dataframe\">\n",
       "  <thead>\n",
       "    <tr style=\"text-align: right;\">\n",
       "      <th></th>\n",
       "      <th>preds</th>\n",
       "    </tr>\n",
       "    <tr>\n",
       "      <th>user_word</th>\n",
       "      <th></th>\n",
       "    </tr>\n",
       "  </thead>\n",
       "  <tbody>\n",
       "    <tr>\n",
       "      <th>aucroc</th>\n",
       "      <td>24</td>\n",
       "    </tr>\n",
       "    <tr>\n",
       "      <th>binary</th>\n",
       "      <td>12</td>\n",
       "    </tr>\n",
       "    <tr>\n",
       "      <th>blue</th>\n",
       "      <td>56</td>\n",
       "    </tr>\n",
       "    <tr>\n",
       "      <th>categorical</th>\n",
       "      <td>14</td>\n",
       "    </tr>\n",
       "    <tr>\n",
       "      <th>coefficient</th>\n",
       "      <td>26</td>\n",
       "    </tr>\n",
       "    <tr>\n",
       "      <th>collinear</th>\n",
       "      <td>-999</td>\n",
       "    </tr>\n",
       "    <tr>\n",
       "      <th>distributed</th>\n",
       "      <td>0</td>\n",
       "    </tr>\n",
       "    <tr>\n",
       "      <th>epsilon</th>\n",
       "      <td>49</td>\n",
       "    </tr>\n",
       "    <tr>\n",
       "      <th>f1</th>\n",
       "      <td>37</td>\n",
       "    </tr>\n",
       "    <tr>\n",
       "      <th>fit</th>\n",
       "      <td>-999</td>\n",
       "    </tr>\n",
       "    <tr>\n",
       "      <th>gini</th>\n",
       "      <td>15</td>\n",
       "    </tr>\n",
       "    <tr>\n",
       "      <th>independent</th>\n",
       "      <td>-999</td>\n",
       "    </tr>\n",
       "    <tr>\n",
       "      <th>lasso</th>\n",
       "      <td>-999</td>\n",
       "    </tr>\n",
       "    <tr>\n",
       "      <th>linear</th>\n",
       "      <td>17</td>\n",
       "    </tr>\n",
       "    <tr>\n",
       "      <th>logistic</th>\n",
       "      <td>-999</td>\n",
       "    </tr>\n",
       "    <tr>\n",
       "      <th>loss</th>\n",
       "      <td>19</td>\n",
       "    </tr>\n",
       "    <tr>\n",
       "      <th>matrix</th>\n",
       "      <td>-999</td>\n",
       "    </tr>\n",
       "    <tr>\n",
       "      <th>minimization</th>\n",
       "      <td>29</td>\n",
       "    </tr>\n",
       "    <tr>\n",
       "      <th>mse</th>\n",
       "      <td>43</td>\n",
       "    </tr>\n",
       "    <tr>\n",
       "      <th>ols</th>\n",
       "      <td>11</td>\n",
       "    </tr>\n",
       "    <tr>\n",
       "      <th>precision</th>\n",
       "      <td>9</td>\n",
       "    </tr>\n",
       "    <tr>\n",
       "      <th>predict</th>\n",
       "      <td>39</td>\n",
       "    </tr>\n",
       "    <tr>\n",
       "      <th>pvalue</th>\n",
       "      <td>-999</td>\n",
       "    </tr>\n",
       "    <tr>\n",
       "      <th>r2</th>\n",
       "      <td>54</td>\n",
       "    </tr>\n",
       "    <tr>\n",
       "      <th>recall</th>\n",
       "      <td>3</td>\n",
       "    </tr>\n",
       "    <tr>\n",
       "      <th>regression</th>\n",
       "      <td>-999</td>\n",
       "    </tr>\n",
       "    <tr>\n",
       "      <th>residual</th>\n",
       "      <td>32</td>\n",
       "    </tr>\n",
       "    <tr>\n",
       "      <th>ridge</th>\n",
       "      <td>-999</td>\n",
       "    </tr>\n",
       "    <tr>\n",
       "      <th>sigmoid</th>\n",
       "      <td>55</td>\n",
       "    </tr>\n",
       "    <tr>\n",
       "      <th>significant</th>\n",
       "      <td>-999</td>\n",
       "    </tr>\n",
       "    <tr>\n",
       "      <th>target</th>\n",
       "      <td>46</td>\n",
       "    </tr>\n",
       "    <tr>\n",
       "      <th>tstat</th>\n",
       "      <td>-999</td>\n",
       "    </tr>\n",
       "    <tr>\n",
       "      <th>x</th>\n",
       "      <td>6</td>\n",
       "    </tr>\n",
       "    <tr>\n",
       "      <th>y</th>\n",
       "      <td>-999</td>\n",
       "    </tr>\n",
       "  </tbody>\n",
       "</table>\n",
       "</div>"
      ],
      "text/plain": [
       "              preds\n",
       "user_word          \n",
       "aucroc           24\n",
       "binary           12\n",
       "blue             56\n",
       "categorical      14\n",
       "coefficient      26\n",
       "collinear      -999\n",
       "distributed       0\n",
       "epsilon          49\n",
       "f1               37\n",
       "fit            -999\n",
       "gini             15\n",
       "independent    -999\n",
       "lasso          -999\n",
       "linear           17\n",
       "logistic       -999\n",
       "loss             19\n",
       "matrix         -999\n",
       "minimization     29\n",
       "mse              43\n",
       "ols              11\n",
       "precision         9\n",
       "predict          39\n",
       "pvalue         -999\n",
       "r2               54\n",
       "recall            3\n",
       "regression     -999\n",
       "residual         32\n",
       "ridge          -999\n",
       "sigmoid          55\n",
       "significant    -999\n",
       "target           46\n",
       "tstat          -999\n",
       "x                 6\n",
       "y              -999"
      ]
     },
     "execution_count": 202,
     "metadata": {},
     "output_type": "execute_result"
    }
   ],
   "source": [
    "vote_processing(result_dct)"
   ]
  },
  {
   "cell_type": "code",
   "execution_count": 204,
   "metadata": {},
   "outputs": [
    {
     "data": {
      "text/html": [
       "<div>\n",
       "<style scoped>\n",
       "    .dataframe tbody tr th:only-of-type {\n",
       "        vertical-align: middle;\n",
       "    }\n",
       "\n",
       "    .dataframe tbody tr th {\n",
       "        vertical-align: top;\n",
       "    }\n",
       "\n",
       "    .dataframe thead th {\n",
       "        text-align: right;\n",
       "    }\n",
       "</style>\n",
       "<table border=\"1\" class=\"dataframe\">\n",
       "  <thead>\n",
       "    <tr style=\"text-align: right;\">\n",
       "      <th></th>\n",
       "      <th>user_word</th>\n",
       "      <th>preds</th>\n",
       "    </tr>\n",
       "  </thead>\n",
       "  <tbody>\n",
       "    <tr>\n",
       "      <th>0</th>\n",
       "      <td>aucroc</td>\n",
       "      <td>24</td>\n",
       "    </tr>\n",
       "    <tr>\n",
       "      <th>31</th>\n",
       "      <td>binary</td>\n",
       "      <td>-999</td>\n",
       "    </tr>\n",
       "    <tr>\n",
       "      <th>33</th>\n",
       "      <td>blue</td>\n",
       "      <td>-999</td>\n",
       "    </tr>\n",
       "    <tr>\n",
       "      <th>3</th>\n",
       "      <td>categorical</td>\n",
       "      <td>14</td>\n",
       "    </tr>\n",
       "    <tr>\n",
       "      <th>16</th>\n",
       "      <td>coefficient</td>\n",
       "      <td>26</td>\n",
       "    </tr>\n",
       "    <tr>\n",
       "      <th>32</th>\n",
       "      <td>collinear</td>\n",
       "      <td>-999</td>\n",
       "    </tr>\n",
       "    <tr>\n",
       "      <th>15</th>\n",
       "      <td>distributed</td>\n",
       "      <td>0</td>\n",
       "    </tr>\n",
       "    <tr>\n",
       "      <th>17</th>\n",
       "      <td>epsilon</td>\n",
       "      <td>49</td>\n",
       "    </tr>\n",
       "    <tr>\n",
       "      <th>8</th>\n",
       "      <td>f1</td>\n",
       "      <td>37</td>\n",
       "    </tr>\n",
       "    <tr>\n",
       "      <th>27</th>\n",
       "      <td>fit</td>\n",
       "      <td>23</td>\n",
       "    </tr>\n",
       "    <tr>\n",
       "      <th>2</th>\n",
       "      <td>gini</td>\n",
       "      <td>15</td>\n",
       "    </tr>\n",
       "    <tr>\n",
       "      <th>26</th>\n",
       "      <td>independent</td>\n",
       "      <td>1</td>\n",
       "    </tr>\n",
       "    <tr>\n",
       "      <th>10</th>\n",
       "      <td>lasso</td>\n",
       "      <td>46</td>\n",
       "    </tr>\n",
       "    <tr>\n",
       "      <th>18</th>\n",
       "      <td>linear</td>\n",
       "      <td>17</td>\n",
       "    </tr>\n",
       "    <tr>\n",
       "      <th>1</th>\n",
       "      <td>logistic</td>\n",
       "      <td>56</td>\n",
       "    </tr>\n",
       "    <tr>\n",
       "      <th>29</th>\n",
       "      <td>loss</td>\n",
       "      <td>-999</td>\n",
       "    </tr>\n",
       "    <tr>\n",
       "      <th>20</th>\n",
       "      <td>matrix</td>\n",
       "      <td>32</td>\n",
       "    </tr>\n",
       "    <tr>\n",
       "      <th>7</th>\n",
       "      <td>minimization</td>\n",
       "      <td>29</td>\n",
       "    </tr>\n",
       "    <tr>\n",
       "      <th>14</th>\n",
       "      <td>mse</td>\n",
       "      <td>43</td>\n",
       "    </tr>\n",
       "    <tr>\n",
       "      <th>11</th>\n",
       "      <td>ols</td>\n",
       "      <td>11</td>\n",
       "    </tr>\n",
       "    <tr>\n",
       "      <th>13</th>\n",
       "      <td>precision</td>\n",
       "      <td>9</td>\n",
       "    </tr>\n",
       "    <tr>\n",
       "      <th>19</th>\n",
       "      <td>predict</td>\n",
       "      <td>39</td>\n",
       "    </tr>\n",
       "    <tr>\n",
       "      <th>30</th>\n",
       "      <td>pvalue</td>\n",
       "      <td>-999</td>\n",
       "    </tr>\n",
       "    <tr>\n",
       "      <th>12</th>\n",
       "      <td>r2</td>\n",
       "      <td>54</td>\n",
       "    </tr>\n",
       "    <tr>\n",
       "      <th>9</th>\n",
       "      <td>recall</td>\n",
       "      <td>3</td>\n",
       "    </tr>\n",
       "    <tr>\n",
       "      <th>6</th>\n",
       "      <td>regression</td>\n",
       "      <td>19</td>\n",
       "    </tr>\n",
       "    <tr>\n",
       "      <th>22</th>\n",
       "      <td>residual</td>\n",
       "      <td>50</td>\n",
       "    </tr>\n",
       "    <tr>\n",
       "      <th>24</th>\n",
       "      <td>ridge</td>\n",
       "      <td>35</td>\n",
       "    </tr>\n",
       "    <tr>\n",
       "      <th>4</th>\n",
       "      <td>sigmoid</td>\n",
       "      <td>55</td>\n",
       "    </tr>\n",
       "    <tr>\n",
       "      <th>23</th>\n",
       "      <td>significant</td>\n",
       "      <td>33</td>\n",
       "    </tr>\n",
       "    <tr>\n",
       "      <th>25</th>\n",
       "      <td>target</td>\n",
       "      <td>25</td>\n",
       "    </tr>\n",
       "    <tr>\n",
       "      <th>28</th>\n",
       "      <td>tstat</td>\n",
       "      <td>-999</td>\n",
       "    </tr>\n",
       "    <tr>\n",
       "      <th>21</th>\n",
       "      <td>x</td>\n",
       "      <td>6</td>\n",
       "    </tr>\n",
       "    <tr>\n",
       "      <th>5</th>\n",
       "      <td>y</td>\n",
       "      <td>12</td>\n",
       "    </tr>\n",
       "  </tbody>\n",
       "</table>\n",
       "</div>"
      ],
      "text/plain": [
       "       user_word  preds\n",
       "0         aucroc     24\n",
       "31        binary   -999\n",
       "33          blue   -999\n",
       "3    categorical     14\n",
       "16   coefficient     26\n",
       "32     collinear   -999\n",
       "15   distributed      0\n",
       "17       epsilon     49\n",
       "8             f1     37\n",
       "27           fit     23\n",
       "2           gini     15\n",
       "26   independent      1\n",
       "10         lasso     46\n",
       "18        linear     17\n",
       "1       logistic     56\n",
       "29          loss   -999\n",
       "20        matrix     32\n",
       "7   minimization     29\n",
       "14           mse     43\n",
       "11           ols     11\n",
       "13     precision      9\n",
       "19       predict     39\n",
       "30        pvalue   -999\n",
       "12            r2     54\n",
       "9         recall      3\n",
       "6     regression     19\n",
       "22      residual     50\n",
       "24         ridge     35\n",
       "4        sigmoid     55\n",
       "23   significant     33\n",
       "25        target     25\n",
       "28         tstat   -999\n",
       "21             x      6\n",
       "5              y     12"
      ]
     },
     "execution_count": 204,
     "metadata": {},
     "output_type": "execute_result"
    }
   ],
   "source": [
    "result_cb = make_prediction(df_test, selected_feat, models)\n",
    "result_cb"
   ]
  },
  {
   "cell_type": "code",
   "execution_count": 205,
   "metadata": {},
   "outputs": [
    {
     "data": {
      "text/plain": [
       "34"
      ]
     },
     "execution_count": 205,
     "metadata": {},
     "output_type": "execute_result"
    }
   ],
   "source": [
    "len(result_cb)"
   ]
  },
  {
   "cell_type": "markdown",
   "metadata": {},
   "source": [
    "Сохраненим результаты"
   ]
  },
  {
   "cell_type": "code",
   "execution_count": 206,
   "metadata": {},
   "outputs": [],
   "source": [
    "csv_buffer = io.StringIO()\n",
    "result_cb.to_csv(csv_buffer, index=False)\n",
    "with zipfile.ZipFile('../data/answer.zip', mode='w', compression=zipfile.ZIP_DEFLATED) as zf:\n",
    "    zf.writestr('answer.csv', csv_buffer.getvalue())"
   ]
  },
  {
   "cell_type": "code",
   "execution_count": 207,
   "metadata": {},
   "outputs": [],
   "source": [
    "result_cb.to_csv('../data/submit_cb_v_04.csv', index=False)"
   ]
  },
  {
   "cell_type": "markdown",
   "metadata": {},
   "source": [
    "# Сравнение ответов"
   ]
  },
  {
   "cell_type": "code",
   "execution_count": 208,
   "metadata": {},
   "outputs": [],
   "source": [
    "right_answers = pd.read_csv(r'E:\\projects\\SHIFT\\предыдущие_наработки\\right_answers.csv')\n",
    "res_ivan = pd.read_csv(r'E:\\projects\\SHIFT\\От_Ивана\\ШИФТ тест\\Решения\\1) 04_02_2024\\answer_ivan.csv')\n",
    "res_vera = pd.read_csv(r'E:\\projects\\SHIFT\\От_Ивана\\ШИФТ тест\\Решения\\4) Ivanova_Vera_SaintPetersburg 358\\shift_ml-main\\answer_vera.csv')\n",
    "res_cb_01 = pd.read_csv('../data/submit_cb_v_01_264.csv')\n",
    "res_cb_02 = pd.read_csv('../data/submit_cb_v_02.csv')\n",
    "res_cb_03 = pd.read_csv('../data/submit_cb_v_03_270.csv')\n",
    "res_cb_04 = pd.read_csv('../data/submit_cb_v_04.csv')"
   ]
  },
  {
   "cell_type": "code",
   "execution_count": 209,
   "metadata": {},
   "outputs": [],
   "source": [
    "res = right_answers.loc[:].rename(columns={'preds': 'right_answers'})\n",
    "res['right_answers'] = res['right_answers'].apply(lambda x: f'{x:.0f}')\n",
    "res['ivan'] = res_ivan['preds']\n",
    "res['vera'] = res_vera['preds']\n",
    "res['cb_v_01_264'] = res_cb_01['preds']\n",
    "res['cb_v_02'] = res_cb_02['preds']\n",
    "res['cb_v_03_270'] = res_cb_03['preds']\n",
    "res['cb_v_04'] = res_cb_04['preds']"
   ]
  },
  {
   "cell_type": "code",
   "execution_count": 210,
   "metadata": {},
   "outputs": [
    {
     "data": {
      "text/html": [
       "<style type=\"text/css\">\n",
       "#T_1d030_row0_col1, #T_1d030_row1_col1, #T_1d030_row3_col1, #T_1d030_row6_col1, #T_1d030_row7_col1, #T_1d030_row8_col1, #T_1d030_row10_col1, #T_1d030_row13_col1, #T_1d030_row15_col1, #T_1d030_row16_col1, #T_1d030_row18_col1, #T_1d030_row19_col1, #T_1d030_row21_col1, #T_1d030_row22_col1, #T_1d030_row23_col1, #T_1d030_row24_col1, #T_1d030_row27_col1, #T_1d030_row28_col1, #T_1d030_row29_col1, #T_1d030_row30_col1, #T_1d030_row31_col1, #T_1d030_row32_col1, #T_1d030_row33_col1 {\n",
       "  background-color: red;\n",
       "}\n",
       "#T_1d030_row0_col2, #T_1d030_row0_col4, #T_1d030_row0_col6, #T_1d030_row0_col7, #T_1d030_row1_col2, #T_1d030_row1_col4, #T_1d030_row1_col5, #T_1d030_row1_col6, #T_1d030_row3_col2, #T_1d030_row3_col4, #T_1d030_row3_col5, #T_1d030_row3_col6, #T_1d030_row3_col7, #T_1d030_row6_col2, #T_1d030_row6_col4, #T_1d030_row6_col6, #T_1d030_row6_col7, #T_1d030_row7_col2, #T_1d030_row7_col4, #T_1d030_row7_col5, #T_1d030_row7_col6, #T_1d030_row10_col2, #T_1d030_row10_col4, #T_1d030_row10_col5, #T_1d030_row10_col6, #T_1d030_row10_col7, #T_1d030_row11_col2, #T_1d030_row11_col4, #T_1d030_row11_col6, #T_1d030_row12_col5, #T_1d030_row13_col2, #T_1d030_row13_col4, #T_1d030_row13_col5, #T_1d030_row13_col6, #T_1d030_row13_col7, #T_1d030_row15_col2, #T_1d030_row15_col4, #T_1d030_row15_col5, #T_1d030_row15_col6, #T_1d030_row16_col2, #T_1d030_row18_col2, #T_1d030_row18_col4, #T_1d030_row18_col5, #T_1d030_row18_col6, #T_1d030_row18_col7, #T_1d030_row19_col2, #T_1d030_row19_col4, #T_1d030_row19_col5, #T_1d030_row19_col6, #T_1d030_row19_col7, #T_1d030_row21_col2, #T_1d030_row21_col4, #T_1d030_row21_col5, #T_1d030_row21_col6, #T_1d030_row21_col7, #T_1d030_row22_col2, #T_1d030_row22_col4, #T_1d030_row23_col2, #T_1d030_row23_col4, #T_1d030_row23_col5, #T_1d030_row23_col6, #T_1d030_row23_col7, #T_1d030_row24_col2, #T_1d030_row24_col4, #T_1d030_row24_col5, #T_1d030_row24_col6, #T_1d030_row24_col7, #T_1d030_row25_col2, #T_1d030_row27_col2, #T_1d030_row27_col4, #T_1d030_row27_col6, #T_1d030_row27_col7, #T_1d030_row28_col2, #T_1d030_row28_col5, #T_1d030_row28_col6, #T_1d030_row28_col7, #T_1d030_row29_col2, #T_1d030_row29_col4, #T_1d030_row29_col5, #T_1d030_row29_col6, #T_1d030_row29_col7, #T_1d030_row30_col2, #T_1d030_row30_col4, #T_1d030_row30_col5, #T_1d030_row30_col6, #T_1d030_row31_col2, #T_1d030_row31_col4, #T_1d030_row31_col6, #T_1d030_row32_col2, #T_1d030_row33_col2, #T_1d030_row33_col4, #T_1d030_row33_col6 {\n",
       "  background-color: green;\n",
       "}\n",
       "</style>\n",
       "<table id=\"T_1d030\">\n",
       "  <thead>\n",
       "    <tr>\n",
       "      <th class=\"blank level0\" >&nbsp;</th>\n",
       "      <th id=\"T_1d030_level0_col0\" class=\"col_heading level0 col0\" >user_word</th>\n",
       "      <th id=\"T_1d030_level0_col1\" class=\"col_heading level0 col1\" >right_answers</th>\n",
       "      <th id=\"T_1d030_level0_col2\" class=\"col_heading level0 col2\" >ivan</th>\n",
       "      <th id=\"T_1d030_level0_col3\" class=\"col_heading level0 col3\" >vera</th>\n",
       "      <th id=\"T_1d030_level0_col4\" class=\"col_heading level0 col4\" >cb_v_01_264</th>\n",
       "      <th id=\"T_1d030_level0_col5\" class=\"col_heading level0 col5\" >cb_v_02</th>\n",
       "      <th id=\"T_1d030_level0_col6\" class=\"col_heading level0 col6\" >cb_v_03_270</th>\n",
       "      <th id=\"T_1d030_level0_col7\" class=\"col_heading level0 col7\" >cb_v_04</th>\n",
       "    </tr>\n",
       "  </thead>\n",
       "  <tbody>\n",
       "    <tr>\n",
       "      <th id=\"T_1d030_level0_row0\" class=\"row_heading level0 row0\" >0</th>\n",
       "      <td id=\"T_1d030_row0_col0\" class=\"data row0 col0\" >aucroc</td>\n",
       "      <td id=\"T_1d030_row0_col1\" class=\"data row0 col1\" >24</td>\n",
       "      <td id=\"T_1d030_row0_col2\" class=\"data row0 col2\" >24</td>\n",
       "      <td id=\"T_1d030_row0_col3\" class=\"data row0 col3\" >24</td>\n",
       "      <td id=\"T_1d030_row0_col4\" class=\"data row0 col4\" >24</td>\n",
       "      <td id=\"T_1d030_row0_col5\" class=\"data row0 col5\" >49</td>\n",
       "      <td id=\"T_1d030_row0_col6\" class=\"data row0 col6\" >24</td>\n",
       "      <td id=\"T_1d030_row0_col7\" class=\"data row0 col7\" >24</td>\n",
       "    </tr>\n",
       "    <tr>\n",
       "      <th id=\"T_1d030_level0_row1\" class=\"row_heading level0 row1\" >1</th>\n",
       "      <td id=\"T_1d030_row1_col0\" class=\"data row1 col0\" >binary</td>\n",
       "      <td id=\"T_1d030_row1_col1\" class=\"data row1 col1\" >12</td>\n",
       "      <td id=\"T_1d030_row1_col2\" class=\"data row1 col2\" >12</td>\n",
       "      <td id=\"T_1d030_row1_col3\" class=\"data row1 col3\" >12</td>\n",
       "      <td id=\"T_1d030_row1_col4\" class=\"data row1 col4\" >12</td>\n",
       "      <td id=\"T_1d030_row1_col5\" class=\"data row1 col5\" >12</td>\n",
       "      <td id=\"T_1d030_row1_col6\" class=\"data row1 col6\" >12</td>\n",
       "      <td id=\"T_1d030_row1_col7\" class=\"data row1 col7\" >-999</td>\n",
       "    </tr>\n",
       "    <tr>\n",
       "      <th id=\"T_1d030_level0_row2\" class=\"row_heading level0 row2\" >2</th>\n",
       "      <td id=\"T_1d030_row2_col0\" class=\"data row2 col0\" >blue</td>\n",
       "      <td id=\"T_1d030_row2_col1\" class=\"data row2 col1\" >nan</td>\n",
       "      <td id=\"T_1d030_row2_col2\" class=\"data row2 col2\" >-999</td>\n",
       "      <td id=\"T_1d030_row2_col3\" class=\"data row2 col3\" >56</td>\n",
       "      <td id=\"T_1d030_row2_col4\" class=\"data row2 col4\" >-999</td>\n",
       "      <td id=\"T_1d030_row2_col5\" class=\"data row2 col5\" >-999</td>\n",
       "      <td id=\"T_1d030_row2_col6\" class=\"data row2 col6\" >-999</td>\n",
       "      <td id=\"T_1d030_row2_col7\" class=\"data row2 col7\" >-999</td>\n",
       "    </tr>\n",
       "    <tr>\n",
       "      <th id=\"T_1d030_level0_row3\" class=\"row_heading level0 row3\" >3</th>\n",
       "      <td id=\"T_1d030_row3_col0\" class=\"data row3 col0\" >categorical</td>\n",
       "      <td id=\"T_1d030_row3_col1\" class=\"data row3 col1\" >14</td>\n",
       "      <td id=\"T_1d030_row3_col2\" class=\"data row3 col2\" >14</td>\n",
       "      <td id=\"T_1d030_row3_col3\" class=\"data row3 col3\" >14</td>\n",
       "      <td id=\"T_1d030_row3_col4\" class=\"data row3 col4\" >14</td>\n",
       "      <td id=\"T_1d030_row3_col5\" class=\"data row3 col5\" >14</td>\n",
       "      <td id=\"T_1d030_row3_col6\" class=\"data row3 col6\" >14</td>\n",
       "      <td id=\"T_1d030_row3_col7\" class=\"data row3 col7\" >14</td>\n",
       "    </tr>\n",
       "    <tr>\n",
       "      <th id=\"T_1d030_level0_row4\" class=\"row_heading level0 row4\" >4</th>\n",
       "      <td id=\"T_1d030_row4_col0\" class=\"data row4 col0\" >coefficient</td>\n",
       "      <td id=\"T_1d030_row4_col1\" class=\"data row4 col1\" >nan</td>\n",
       "      <td id=\"T_1d030_row4_col2\" class=\"data row4 col2\" >-999</td>\n",
       "      <td id=\"T_1d030_row4_col3\" class=\"data row4 col3\" >27</td>\n",
       "      <td id=\"T_1d030_row4_col4\" class=\"data row4 col4\" >22</td>\n",
       "      <td id=\"T_1d030_row4_col5\" class=\"data row4 col5\" >22</td>\n",
       "      <td id=\"T_1d030_row4_col6\" class=\"data row4 col6\" >22</td>\n",
       "      <td id=\"T_1d030_row4_col7\" class=\"data row4 col7\" >26</td>\n",
       "    </tr>\n",
       "    <tr>\n",
       "      <th id=\"T_1d030_level0_row5\" class=\"row_heading level0 row5\" >5</th>\n",
       "      <td id=\"T_1d030_row5_col0\" class=\"data row5 col0\" >collinear</td>\n",
       "      <td id=\"T_1d030_row5_col1\" class=\"data row5 col1\" >nan</td>\n",
       "      <td id=\"T_1d030_row5_col2\" class=\"data row5 col2\" >-999</td>\n",
       "      <td id=\"T_1d030_row5_col3\" class=\"data row5 col3\" >23</td>\n",
       "      <td id=\"T_1d030_row5_col4\" class=\"data row5 col4\" >-999</td>\n",
       "      <td id=\"T_1d030_row5_col5\" class=\"data row5 col5\" >-999</td>\n",
       "      <td id=\"T_1d030_row5_col6\" class=\"data row5 col6\" >47</td>\n",
       "      <td id=\"T_1d030_row5_col7\" class=\"data row5 col7\" >-999</td>\n",
       "    </tr>\n",
       "    <tr>\n",
       "      <th id=\"T_1d030_level0_row6\" class=\"row_heading level0 row6\" >6</th>\n",
       "      <td id=\"T_1d030_row6_col0\" class=\"data row6 col0\" >distributed</td>\n",
       "      <td id=\"T_1d030_row6_col1\" class=\"data row6 col1\" >0</td>\n",
       "      <td id=\"T_1d030_row6_col2\" class=\"data row6 col2\" >0</td>\n",
       "      <td id=\"T_1d030_row6_col3\" class=\"data row6 col3\" >0</td>\n",
       "      <td id=\"T_1d030_row6_col4\" class=\"data row6 col4\" >0</td>\n",
       "      <td id=\"T_1d030_row6_col5\" class=\"data row6 col5\" >35</td>\n",
       "      <td id=\"T_1d030_row6_col6\" class=\"data row6 col6\" >0</td>\n",
       "      <td id=\"T_1d030_row6_col7\" class=\"data row6 col7\" >0</td>\n",
       "    </tr>\n",
       "    <tr>\n",
       "      <th id=\"T_1d030_level0_row7\" class=\"row_heading level0 row7\" >7</th>\n",
       "      <td id=\"T_1d030_row7_col0\" class=\"data row7 col0\" >epsilon</td>\n",
       "      <td id=\"T_1d030_row7_col1\" class=\"data row7 col1\" >1</td>\n",
       "      <td id=\"T_1d030_row7_col2\" class=\"data row7 col2\" >1</td>\n",
       "      <td id=\"T_1d030_row7_col3\" class=\"data row7 col3\" >1</td>\n",
       "      <td id=\"T_1d030_row7_col4\" class=\"data row7 col4\" >1</td>\n",
       "      <td id=\"T_1d030_row7_col5\" class=\"data row7 col5\" >1</td>\n",
       "      <td id=\"T_1d030_row7_col6\" class=\"data row7 col6\" >1</td>\n",
       "      <td id=\"T_1d030_row7_col7\" class=\"data row7 col7\" >49</td>\n",
       "    </tr>\n",
       "    <tr>\n",
       "      <th id=\"T_1d030_level0_row8\" class=\"row_heading level0 row8\" >8</th>\n",
       "      <td id=\"T_1d030_row8_col0\" class=\"data row8 col0\" >f1</td>\n",
       "      <td id=\"T_1d030_row8_col1\" class=\"data row8 col1\" >6</td>\n",
       "      <td id=\"T_1d030_row8_col2\" class=\"data row8 col2\" >6</td>\n",
       "      <td id=\"T_1d030_row8_col3\" class=\"data row8 col3\" >18</td>\n",
       "      <td id=\"T_1d030_row8_col4\" class=\"data row8 col4\" >37</td>\n",
       "      <td id=\"T_1d030_row8_col5\" class=\"data row8 col5\" >6</td>\n",
       "      <td id=\"T_1d030_row8_col6\" class=\"data row8 col6\" >6</td>\n",
       "      <td id=\"T_1d030_row8_col7\" class=\"data row8 col7\" >37</td>\n",
       "    </tr>\n",
       "    <tr>\n",
       "      <th id=\"T_1d030_level0_row9\" class=\"row_heading level0 row9\" >9</th>\n",
       "      <td id=\"T_1d030_row9_col0\" class=\"data row9 col0\" >fit</td>\n",
       "      <td id=\"T_1d030_row9_col1\" class=\"data row9 col1\" >nan</td>\n",
       "      <td id=\"T_1d030_row9_col2\" class=\"data row9 col2\" >23</td>\n",
       "      <td id=\"T_1d030_row9_col3\" class=\"data row9 col3\" >6</td>\n",
       "      <td id=\"T_1d030_row9_col4\" class=\"data row9 col4\" >-999</td>\n",
       "      <td id=\"T_1d030_row9_col5\" class=\"data row9 col5\" >23</td>\n",
       "      <td id=\"T_1d030_row9_col6\" class=\"data row9 col6\" >37</td>\n",
       "      <td id=\"T_1d030_row9_col7\" class=\"data row9 col7\" >23</td>\n",
       "    </tr>\n",
       "    <tr>\n",
       "      <th id=\"T_1d030_level0_row10\" class=\"row_heading level0 row10\" >10</th>\n",
       "      <td id=\"T_1d030_row10_col0\" class=\"data row10 col0\" >gini</td>\n",
       "      <td id=\"T_1d030_row10_col1\" class=\"data row10 col1\" >15</td>\n",
       "      <td id=\"T_1d030_row10_col2\" class=\"data row10 col2\" >15</td>\n",
       "      <td id=\"T_1d030_row10_col3\" class=\"data row10 col3\" >15</td>\n",
       "      <td id=\"T_1d030_row10_col4\" class=\"data row10 col4\" >15</td>\n",
       "      <td id=\"T_1d030_row10_col5\" class=\"data row10 col5\" >15</td>\n",
       "      <td id=\"T_1d030_row10_col6\" class=\"data row10 col6\" >15</td>\n",
       "      <td id=\"T_1d030_row10_col7\" class=\"data row10 col7\" >15</td>\n",
       "    </tr>\n",
       "    <tr>\n",
       "      <th id=\"T_1d030_level0_row11\" class=\"row_heading level0 row11\" >11</th>\n",
       "      <td id=\"T_1d030_row11_col0\" class=\"data row11 col0\" >independent</td>\n",
       "      <td id=\"T_1d030_row11_col1\" class=\"data row11 col1\" >nan</td>\n",
       "      <td id=\"T_1d030_row11_col2\" class=\"data row11 col2\" >49</td>\n",
       "      <td id=\"T_1d030_row11_col3\" class=\"data row11 col3\" >49</td>\n",
       "      <td id=\"T_1d030_row11_col4\" class=\"data row11 col4\" >49</td>\n",
       "      <td id=\"T_1d030_row11_col5\" class=\"data row11 col5\" >-999</td>\n",
       "      <td id=\"T_1d030_row11_col6\" class=\"data row11 col6\" >49</td>\n",
       "      <td id=\"T_1d030_row11_col7\" class=\"data row11 col7\" >1</td>\n",
       "    </tr>\n",
       "    <tr>\n",
       "      <th id=\"T_1d030_level0_row12\" class=\"row_heading level0 row12\" >12</th>\n",
       "      <td id=\"T_1d030_row12_col0\" class=\"data row12 col0\" >lasso</td>\n",
       "      <td id=\"T_1d030_row12_col1\" class=\"data row12 col1\" >nan</td>\n",
       "      <td id=\"T_1d030_row12_col2\" class=\"data row12 col2\" >36</td>\n",
       "      <td id=\"T_1d030_row12_col3\" class=\"data row12 col3\" >25</td>\n",
       "      <td id=\"T_1d030_row12_col4\" class=\"data row12 col4\" >56</td>\n",
       "      <td id=\"T_1d030_row12_col5\" class=\"data row12 col5\" >25</td>\n",
       "      <td id=\"T_1d030_row12_col6\" class=\"data row12 col6\" >23</td>\n",
       "      <td id=\"T_1d030_row12_col7\" class=\"data row12 col7\" >46</td>\n",
       "    </tr>\n",
       "    <tr>\n",
       "      <th id=\"T_1d030_level0_row13\" class=\"row_heading level0 row13\" >13</th>\n",
       "      <td id=\"T_1d030_row13_col0\" class=\"data row13 col0\" >linear</td>\n",
       "      <td id=\"T_1d030_row13_col1\" class=\"data row13 col1\" >17</td>\n",
       "      <td id=\"T_1d030_row13_col2\" class=\"data row13 col2\" >17</td>\n",
       "      <td id=\"T_1d030_row13_col3\" class=\"data row13 col3\" >17</td>\n",
       "      <td id=\"T_1d030_row13_col4\" class=\"data row13 col4\" >17</td>\n",
       "      <td id=\"T_1d030_row13_col5\" class=\"data row13 col5\" >17</td>\n",
       "      <td id=\"T_1d030_row13_col6\" class=\"data row13 col6\" >17</td>\n",
       "      <td id=\"T_1d030_row13_col7\" class=\"data row13 col7\" >17</td>\n",
       "    </tr>\n",
       "    <tr>\n",
       "      <th id=\"T_1d030_level0_row14\" class=\"row_heading level0 row14\" >14</th>\n",
       "      <td id=\"T_1d030_row14_col0\" class=\"data row14 col0\" >logistic</td>\n",
       "      <td id=\"T_1d030_row14_col1\" class=\"data row14 col1\" >nan</td>\n",
       "      <td id=\"T_1d030_row14_col2\" class=\"data row14 col2\" >-999</td>\n",
       "      <td id=\"T_1d030_row14_col3\" class=\"data row14 col3\" >31</td>\n",
       "      <td id=\"T_1d030_row14_col4\" class=\"data row14 col4\" >23</td>\n",
       "      <td id=\"T_1d030_row14_col5\" class=\"data row14 col5\" >56</td>\n",
       "      <td id=\"T_1d030_row14_col6\" class=\"data row14 col6\" >56</td>\n",
       "      <td id=\"T_1d030_row14_col7\" class=\"data row14 col7\" >56</td>\n",
       "    </tr>\n",
       "    <tr>\n",
       "      <th id=\"T_1d030_level0_row15\" class=\"row_heading level0 row15\" >15</th>\n",
       "      <td id=\"T_1d030_row15_col0\" class=\"data row15 col0\" >loss</td>\n",
       "      <td id=\"T_1d030_row15_col1\" class=\"data row15 col1\" >19</td>\n",
       "      <td id=\"T_1d030_row15_col2\" class=\"data row15 col2\" >19</td>\n",
       "      <td id=\"T_1d030_row15_col3\" class=\"data row15 col3\" >19</td>\n",
       "      <td id=\"T_1d030_row15_col4\" class=\"data row15 col4\" >19</td>\n",
       "      <td id=\"T_1d030_row15_col5\" class=\"data row15 col5\" >19</td>\n",
       "      <td id=\"T_1d030_row15_col6\" class=\"data row15 col6\" >19</td>\n",
       "      <td id=\"T_1d030_row15_col7\" class=\"data row15 col7\" >-999</td>\n",
       "    </tr>\n",
       "    <tr>\n",
       "      <th id=\"T_1d030_level0_row16\" class=\"row_heading level0 row16\" >16</th>\n",
       "      <td id=\"T_1d030_row16_col0\" class=\"data row16 col0\" >matrix</td>\n",
       "      <td id=\"T_1d030_row16_col1\" class=\"data row16 col1\" >29</td>\n",
       "      <td id=\"T_1d030_row16_col2\" class=\"data row16 col2\" >29</td>\n",
       "      <td id=\"T_1d030_row16_col3\" class=\"data row16 col3\" >29</td>\n",
       "      <td id=\"T_1d030_row16_col4\" class=\"data row16 col4\" >48</td>\n",
       "      <td id=\"T_1d030_row16_col5\" class=\"data row16 col5\" >-999</td>\n",
       "      <td id=\"T_1d030_row16_col6\" class=\"data row16 col6\" >48</td>\n",
       "      <td id=\"T_1d030_row16_col7\" class=\"data row16 col7\" >32</td>\n",
       "    </tr>\n",
       "    <tr>\n",
       "      <th id=\"T_1d030_level0_row17\" class=\"row_heading level0 row17\" >17</th>\n",
       "      <td id=\"T_1d030_row17_col0\" class=\"data row17 col0\" >minimization</td>\n",
       "      <td id=\"T_1d030_row17_col1\" class=\"data row17 col1\" >nan</td>\n",
       "      <td id=\"T_1d030_row17_col2\" class=\"data row17 col2\" >50</td>\n",
       "      <td id=\"T_1d030_row17_col3\" class=\"data row17 col3\" >48</td>\n",
       "      <td id=\"T_1d030_row17_col4\" class=\"data row17 col4\" >50</td>\n",
       "      <td id=\"T_1d030_row17_col5\" class=\"data row17 col5\" >50</td>\n",
       "      <td id=\"T_1d030_row17_col6\" class=\"data row17 col6\" >50</td>\n",
       "      <td id=\"T_1d030_row17_col7\" class=\"data row17 col7\" >29</td>\n",
       "    </tr>\n",
       "    <tr>\n",
       "      <th id=\"T_1d030_level0_row18\" class=\"row_heading level0 row18\" >18</th>\n",
       "      <td id=\"T_1d030_row18_col0\" class=\"data row18 col0\" >mse</td>\n",
       "      <td id=\"T_1d030_row18_col1\" class=\"data row18 col1\" >43</td>\n",
       "      <td id=\"T_1d030_row18_col2\" class=\"data row18 col2\" >43</td>\n",
       "      <td id=\"T_1d030_row18_col3\" class=\"data row18 col3\" >43</td>\n",
       "      <td id=\"T_1d030_row18_col4\" class=\"data row18 col4\" >43</td>\n",
       "      <td id=\"T_1d030_row18_col5\" class=\"data row18 col5\" >43</td>\n",
       "      <td id=\"T_1d030_row18_col6\" class=\"data row18 col6\" >43</td>\n",
       "      <td id=\"T_1d030_row18_col7\" class=\"data row18 col7\" >43</td>\n",
       "    </tr>\n",
       "    <tr>\n",
       "      <th id=\"T_1d030_level0_row19\" class=\"row_heading level0 row19\" >19</th>\n",
       "      <td id=\"T_1d030_row19_col0\" class=\"data row19 col0\" >ols</td>\n",
       "      <td id=\"T_1d030_row19_col1\" class=\"data row19 col1\" >11</td>\n",
       "      <td id=\"T_1d030_row19_col2\" class=\"data row19 col2\" >11</td>\n",
       "      <td id=\"T_1d030_row19_col3\" class=\"data row19 col3\" >11</td>\n",
       "      <td id=\"T_1d030_row19_col4\" class=\"data row19 col4\" >11</td>\n",
       "      <td id=\"T_1d030_row19_col5\" class=\"data row19 col5\" >11</td>\n",
       "      <td id=\"T_1d030_row19_col6\" class=\"data row19 col6\" >11</td>\n",
       "      <td id=\"T_1d030_row19_col7\" class=\"data row19 col7\" >11</td>\n",
       "    </tr>\n",
       "    <tr>\n",
       "      <th id=\"T_1d030_level0_row20\" class=\"row_heading level0 row20\" >20</th>\n",
       "      <td id=\"T_1d030_row20_col0\" class=\"data row20 col0\" >precision</td>\n",
       "      <td id=\"T_1d030_row20_col1\" class=\"data row20 col1\" >nan</td>\n",
       "      <td id=\"T_1d030_row20_col2\" class=\"data row20 col2\" >-999</td>\n",
       "      <td id=\"T_1d030_row20_col3\" class=\"data row20 col3\" >8</td>\n",
       "      <td id=\"T_1d030_row20_col4\" class=\"data row20 col4\" >-999</td>\n",
       "      <td id=\"T_1d030_row20_col5\" class=\"data row20 col5\" >9</td>\n",
       "      <td id=\"T_1d030_row20_col6\" class=\"data row20 col6\" >-999</td>\n",
       "      <td id=\"T_1d030_row20_col7\" class=\"data row20 col7\" >9</td>\n",
       "    </tr>\n",
       "    <tr>\n",
       "      <th id=\"T_1d030_level0_row21\" class=\"row_heading level0 row21\" >21</th>\n",
       "      <td id=\"T_1d030_row21_col0\" class=\"data row21 col0\" >predict</td>\n",
       "      <td id=\"T_1d030_row21_col1\" class=\"data row21 col1\" >39</td>\n",
       "      <td id=\"T_1d030_row21_col2\" class=\"data row21 col2\" >39</td>\n",
       "      <td id=\"T_1d030_row21_col3\" class=\"data row21 col3\" >39</td>\n",
       "      <td id=\"T_1d030_row21_col4\" class=\"data row21 col4\" >39</td>\n",
       "      <td id=\"T_1d030_row21_col5\" class=\"data row21 col5\" >39</td>\n",
       "      <td id=\"T_1d030_row21_col6\" class=\"data row21 col6\" >39</td>\n",
       "      <td id=\"T_1d030_row21_col7\" class=\"data row21 col7\" >39</td>\n",
       "    </tr>\n",
       "    <tr>\n",
       "      <th id=\"T_1d030_level0_row22\" class=\"row_heading level0 row22\" >22</th>\n",
       "      <td id=\"T_1d030_row22_col0\" class=\"data row22 col0\" >pvalue</td>\n",
       "      <td id=\"T_1d030_row22_col1\" class=\"data row22 col1\" >32</td>\n",
       "      <td id=\"T_1d030_row22_col2\" class=\"data row22 col2\" >32</td>\n",
       "      <td id=\"T_1d030_row22_col3\" class=\"data row22 col3\" >32</td>\n",
       "      <td id=\"T_1d030_row22_col4\" class=\"data row22 col4\" >32</td>\n",
       "      <td id=\"T_1d030_row22_col5\" class=\"data row22 col5\" >0</td>\n",
       "      <td id=\"T_1d030_row22_col6\" class=\"data row22 col6\" >29</td>\n",
       "      <td id=\"T_1d030_row22_col7\" class=\"data row22 col7\" >-999</td>\n",
       "    </tr>\n",
       "    <tr>\n",
       "      <th id=\"T_1d030_level0_row23\" class=\"row_heading level0 row23\" >23</th>\n",
       "      <td id=\"T_1d030_row23_col0\" class=\"data row23 col0\" >r2</td>\n",
       "      <td id=\"T_1d030_row23_col1\" class=\"data row23 col1\" >54</td>\n",
       "      <td id=\"T_1d030_row23_col2\" class=\"data row23 col2\" >54</td>\n",
       "      <td id=\"T_1d030_row23_col3\" class=\"data row23 col3\" >54</td>\n",
       "      <td id=\"T_1d030_row23_col4\" class=\"data row23 col4\" >54</td>\n",
       "      <td id=\"T_1d030_row23_col5\" class=\"data row23 col5\" >54</td>\n",
       "      <td id=\"T_1d030_row23_col6\" class=\"data row23 col6\" >54</td>\n",
       "      <td id=\"T_1d030_row23_col7\" class=\"data row23 col7\" >54</td>\n",
       "    </tr>\n",
       "    <tr>\n",
       "      <th id=\"T_1d030_level0_row24\" class=\"row_heading level0 row24\" >24</th>\n",
       "      <td id=\"T_1d030_row24_col0\" class=\"data row24 col0\" >recall</td>\n",
       "      <td id=\"T_1d030_row24_col1\" class=\"data row24 col1\" >3</td>\n",
       "      <td id=\"T_1d030_row24_col2\" class=\"data row24 col2\" >3</td>\n",
       "      <td id=\"T_1d030_row24_col3\" class=\"data row24 col3\" >3</td>\n",
       "      <td id=\"T_1d030_row24_col4\" class=\"data row24 col4\" >3</td>\n",
       "      <td id=\"T_1d030_row24_col5\" class=\"data row24 col5\" >3</td>\n",
       "      <td id=\"T_1d030_row24_col6\" class=\"data row24 col6\" >3</td>\n",
       "      <td id=\"T_1d030_row24_col7\" class=\"data row24 col7\" >3</td>\n",
       "    </tr>\n",
       "    <tr>\n",
       "      <th id=\"T_1d030_level0_row25\" class=\"row_heading level0 row25\" >25</th>\n",
       "      <td id=\"T_1d030_row25_col0\" class=\"data row25 col0\" >regression</td>\n",
       "      <td id=\"T_1d030_row25_col1\" class=\"data row25 col1\" >nan</td>\n",
       "      <td id=\"T_1d030_row25_col2\" class=\"data row25 col2\" >-999</td>\n",
       "      <td id=\"T_1d030_row25_col3\" class=\"data row25 col3\" >-999</td>\n",
       "      <td id=\"T_1d030_row25_col4\" class=\"data row25 col4\" >25</td>\n",
       "      <td id=\"T_1d030_row25_col5\" class=\"data row25 col5\" >32</td>\n",
       "      <td id=\"T_1d030_row25_col6\" class=\"data row25 col6\" >32</td>\n",
       "      <td id=\"T_1d030_row25_col7\" class=\"data row25 col7\" >19</td>\n",
       "    </tr>\n",
       "    <tr>\n",
       "      <th id=\"T_1d030_level0_row26\" class=\"row_heading level0 row26\" >26</th>\n",
       "      <td id=\"T_1d030_row26_col0\" class=\"data row26 col0\" >residual</td>\n",
       "      <td id=\"T_1d030_row26_col1\" class=\"data row26 col1\" >nan</td>\n",
       "      <td id=\"T_1d030_row26_col2\" class=\"data row26 col2\" >-999</td>\n",
       "      <td id=\"T_1d030_row26_col3\" class=\"data row26 col3\" >47</td>\n",
       "      <td id=\"T_1d030_row26_col4\" class=\"data row26 col4\" >-999</td>\n",
       "      <td id=\"T_1d030_row26_col5\" class=\"data row26 col5\" >-999</td>\n",
       "      <td id=\"T_1d030_row26_col6\" class=\"data row26 col6\" >-999</td>\n",
       "      <td id=\"T_1d030_row26_col7\" class=\"data row26 col7\" >50</td>\n",
       "    </tr>\n",
       "    <tr>\n",
       "      <th id=\"T_1d030_level0_row27\" class=\"row_heading level0 row27\" >27</th>\n",
       "      <td id=\"T_1d030_row27_col0\" class=\"data row27 col0\" >ridge</td>\n",
       "      <td id=\"T_1d030_row27_col1\" class=\"data row27 col1\" >35</td>\n",
       "      <td id=\"T_1d030_row27_col2\" class=\"data row27 col2\" >35</td>\n",
       "      <td id=\"T_1d030_row27_col3\" class=\"data row27 col3\" >35</td>\n",
       "      <td id=\"T_1d030_row27_col4\" class=\"data row27 col4\" >35</td>\n",
       "      <td id=\"T_1d030_row27_col5\" class=\"data row27 col5\" >48</td>\n",
       "      <td id=\"T_1d030_row27_col6\" class=\"data row27 col6\" >35</td>\n",
       "      <td id=\"T_1d030_row27_col7\" class=\"data row27 col7\" >35</td>\n",
       "    </tr>\n",
       "    <tr>\n",
       "      <th id=\"T_1d030_level0_row28\" class=\"row_heading level0 row28\" >28</th>\n",
       "      <td id=\"T_1d030_row28_col0\" class=\"data row28 col0\" >sigmoid</td>\n",
       "      <td id=\"T_1d030_row28_col1\" class=\"data row28 col1\" >55</td>\n",
       "      <td id=\"T_1d030_row28_col2\" class=\"data row28 col2\" >55</td>\n",
       "      <td id=\"T_1d030_row28_col3\" class=\"data row28 col3\" >55</td>\n",
       "      <td id=\"T_1d030_row28_col4\" class=\"data row28 col4\" >26</td>\n",
       "      <td id=\"T_1d030_row28_col5\" class=\"data row28 col5\" >55</td>\n",
       "      <td id=\"T_1d030_row28_col6\" class=\"data row28 col6\" >55</td>\n",
       "      <td id=\"T_1d030_row28_col7\" class=\"data row28 col7\" >55</td>\n",
       "    </tr>\n",
       "    <tr>\n",
       "      <th id=\"T_1d030_level0_row29\" class=\"row_heading level0 row29\" >29</th>\n",
       "      <td id=\"T_1d030_row29_col0\" class=\"data row29 col0\" >significant</td>\n",
       "      <td id=\"T_1d030_row29_col1\" class=\"data row29 col1\" >33</td>\n",
       "      <td id=\"T_1d030_row29_col2\" class=\"data row29 col2\" >33</td>\n",
       "      <td id=\"T_1d030_row29_col3\" class=\"data row29 col3\" >33</td>\n",
       "      <td id=\"T_1d030_row29_col4\" class=\"data row29 col4\" >33</td>\n",
       "      <td id=\"T_1d030_row29_col5\" class=\"data row29 col5\" >33</td>\n",
       "      <td id=\"T_1d030_row29_col6\" class=\"data row29 col6\" >33</td>\n",
       "      <td id=\"T_1d030_row29_col7\" class=\"data row29 col7\" >33</td>\n",
       "    </tr>\n",
       "    <tr>\n",
       "      <th id=\"T_1d030_level0_row30\" class=\"row_heading level0 row30\" >30</th>\n",
       "      <td id=\"T_1d030_row30_col0\" class=\"data row30 col0\" >target</td>\n",
       "      <td id=\"T_1d030_row30_col1\" class=\"data row30 col1\" >46</td>\n",
       "      <td id=\"T_1d030_row30_col2\" class=\"data row30 col2\" >46</td>\n",
       "      <td id=\"T_1d030_row30_col3\" class=\"data row30 col3\" >46</td>\n",
       "      <td id=\"T_1d030_row30_col4\" class=\"data row30 col4\" >46</td>\n",
       "      <td id=\"T_1d030_row30_col5\" class=\"data row30 col5\" >46</td>\n",
       "      <td id=\"T_1d030_row30_col6\" class=\"data row30 col6\" >46</td>\n",
       "      <td id=\"T_1d030_row30_col7\" class=\"data row30 col7\" >25</td>\n",
       "    </tr>\n",
       "    <tr>\n",
       "      <th id=\"T_1d030_level0_row31\" class=\"row_heading level0 row31\" >31</th>\n",
       "      <td id=\"T_1d030_row31_col0\" class=\"data row31 col0\" >tstat</td>\n",
       "      <td id=\"T_1d030_row31_col1\" class=\"data row31 col1\" >9</td>\n",
       "      <td id=\"T_1d030_row31_col2\" class=\"data row31 col2\" >9</td>\n",
       "      <td id=\"T_1d030_row31_col3\" class=\"data row31 col3\" >9</td>\n",
       "      <td id=\"T_1d030_row31_col4\" class=\"data row31 col4\" >9</td>\n",
       "      <td id=\"T_1d030_row31_col5\" class=\"data row31 col5\" >-999</td>\n",
       "      <td id=\"T_1d030_row31_col6\" class=\"data row31 col6\" >9</td>\n",
       "      <td id=\"T_1d030_row31_col7\" class=\"data row31 col7\" >-999</td>\n",
       "    </tr>\n",
       "    <tr>\n",
       "      <th id=\"T_1d030_level0_row32\" class=\"row_heading level0 row32\" >32</th>\n",
       "      <td id=\"T_1d030_row32_col0\" class=\"data row32 col0\" >x</td>\n",
       "      <td id=\"T_1d030_row32_col1\" class=\"data row32 col1\" >37</td>\n",
       "      <td id=\"T_1d030_row32_col2\" class=\"data row32 col2\" >37</td>\n",
       "      <td id=\"T_1d030_row32_col3\" class=\"data row32 col3\" >37</td>\n",
       "      <td id=\"T_1d030_row32_col4\" class=\"data row32 col4\" >6</td>\n",
       "      <td id=\"T_1d030_row32_col5\" class=\"data row32 col5\" >53</td>\n",
       "      <td id=\"T_1d030_row32_col6\" class=\"data row32 col6\" >-999</td>\n",
       "      <td id=\"T_1d030_row32_col7\" class=\"data row32 col7\" >6</td>\n",
       "    </tr>\n",
       "    <tr>\n",
       "      <th id=\"T_1d030_level0_row33\" class=\"row_heading level0 row33\" >33</th>\n",
       "      <td id=\"T_1d030_row33_col0\" class=\"data row33 col0\" >y</td>\n",
       "      <td id=\"T_1d030_row33_col1\" class=\"data row33 col1\" >-999</td>\n",
       "      <td id=\"T_1d030_row33_col2\" class=\"data row33 col2\" >-999</td>\n",
       "      <td id=\"T_1d030_row33_col3\" class=\"data row33 col3\" >-999</td>\n",
       "      <td id=\"T_1d030_row33_col4\" class=\"data row33 col4\" >-999</td>\n",
       "      <td id=\"T_1d030_row33_col5\" class=\"data row33 col5\" >47</td>\n",
       "      <td id=\"T_1d030_row33_col6\" class=\"data row33 col6\" >-999</td>\n",
       "      <td id=\"T_1d030_row33_col7\" class=\"data row33 col7\" >12</td>\n",
       "    </tr>\n",
       "  </tbody>\n",
       "</table>\n"
      ],
      "text/plain": [
       "<pandas.io.formats.style.Styler at 0x221b9bf1d50>"
      ]
     },
     "execution_count": 210,
     "metadata": {},
     "output_type": "execute_result"
    }
   ],
   "source": [
    "# Функция для условного форматирования\n",
    "def highlight_matching_cells(x):\n",
    "    ref_col = x['vera']\n",
    "    df_styled = pd.DataFrame('', index=x.index, columns=x.columns)\n",
    "    for col in x.columns:\n",
    "        if col == 'right_answers':\n",
    "            df_styled[col] = ['background-color: red' if x[col].iloc[i] != 'nan' else '' for i in range(len(x))]\n",
    "        elif col != 'vera':\n",
    "            df_styled[col] = ['background-color: green' if x[col].iloc[i] == ref_col.iloc[i] else '' for i in range(len(x))]\n",
    "    return df_styled\n",
    "\n",
    "# Применение стиля\n",
    "res.style.apply(highlight_matching_cells, axis=None)"
   ]
  },
  {
   "cell_type": "markdown",
   "metadata": {},
   "source": [
    "# The end"
   ]
  }
 ],
 "metadata": {
  "kernelspec": {
   "display_name": "venv",
   "language": "python",
   "name": "python3"
  },
  "language_info": {
   "codemirror_mode": {
    "name": "ipython",
    "version": 3
   },
   "file_extension": ".py",
   "mimetype": "text/x-python",
   "name": "python",
   "nbconvert_exporter": "python",
   "pygments_lexer": "ipython3",
   "version": "3.10.7"
  }
 },
 "nbformat": 4,
 "nbformat_minor": 2
}
