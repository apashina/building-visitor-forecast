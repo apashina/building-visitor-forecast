{
 "cells": [
  {
   "cell_type": "markdown",
   "metadata": {},
   "source": [
    "ML ШИФТ"
   ]
  },
  {
   "cell_type": "markdown",
   "metadata": {},
   "source": [
    "[JINT] (SHIFT-64009) Пашина Алёна"
   ]
  },
  {
   "cell_type": "markdown",
   "metadata": {},
   "source": []
  },
  {
   "cell_type": "markdown",
   "metadata": {},
   "source": [
    "# Описание задачи\n",
    "\n",
    "Чтобы попасть в здание, нужно пройти через турникет. Чтобы открыть парковку, нужно открыть шлагбаум. Чтобы попасть на этаж, нужно приложить 'таблетку'. Все это фиксируется - кто, в какую дату, в какое время.\n",
    "Сможем ли мы выучить, кому конкретно принадлежит 'след' прохода через турникеты? Мы знаем, что это был кто-то, кто уже был. (Правда, есть и несколько новых - не больше 10%).\n",
    "\n",
    "'8 утра понедельник, турникет 4? Директор.' '11 утра суббота? Гриша. Но Гриша в последний день месяца никогда не приходит.'  Какие есть паттерны в настоящих данных?\n",
    "\n",
    "**Цель** - предсказать, кто вошел в здание по времени и турникету.\n",
    "\n",
    "**Описание данных**\n",
    "\n",
    "В обучающей выборке:\n",
    "\n",
    "* `user_id` - ID посетителя\n",
    "* `ts` - дата и время прохождения через турникет\n",
    "* `gate_id` - ID турникета\n",
    "\n",
    "В тестовой выборке `user_id` заменены на слова: `aucroc, binary, blue, categorical` и т.п.\n",
    "\n",
    "Требуется составить таблицу вида:\n",
    "\n",
    "| user_word | preds |\n",
    "| --- | --- |\n",
    "| aucroc | 50 |\n",
    "| binary | 11 |\n",
    "| blue | -999 |\n",
    "| ... | ... |\n",
    "\n",
    "* `user_word` - закодированные ID пользователей\n",
    "* `preds` - предсказанные ID\n",
    "* `-999` - ID нового посетителя, которого раньше не было\n",
    "\n",
    "Таблицу нужно запомнить как `csv` и потом заархивировать в `zip` архив. \n",
    "\n",
    "Каждому слову сопоставлен вес, который зависит от того, насколько трудно предсказать ID. Баллы набираются как взвешенная по весам сумма правильных ответов. Чем сложнее отгадали слово, тем больше баллов.\n",
    "\n",
    "Посетителей здания будем считать сотрудниками некой компании."
   ]
  },
  {
   "cell_type": "markdown",
   "metadata": {},
   "source": [
    "# Импорт библиотек"
   ]
  },
  {
   "cell_type": "code",
   "execution_count": 14,
   "metadata": {},
   "outputs": [],
   "source": [
    "import pandas as pd\n",
    "import numpy as np\n",
    "import sklearn\n",
    "import warnings\n",
    "import matplotlib.pyplot as plt\n",
    "import seaborn as sns\n",
    "import joblib\n",
    "import lightgbm as lgb\n",
    "\n",
    "from sklearn.model_selection import train_test_split, cross_val_score, GridSearchCV, StratifiedKFold\n",
    "from sklearn.compose import ColumnTransformer\n",
    "from sklearn.pipeline import Pipeline\n",
    "\n",
    "from sklearn.metrics import (roc_auc_score, \n",
    "                             f1_score,\n",
    "                             roc_curve, \n",
    "                             accuracy_score, \n",
    "                             ConfusionMatrixDisplay, \n",
    "                             confusion_matrix, \n",
    "                             recall_score,\n",
    "                             precision_score)\n",
    "from sklearn.inspection import permutation_importance\n",
    "from catboost import (CatBoostClassifier,\n",
    "                        Pool,\n",
    "                        EShapCalcType,\n",
    "                        EFeaturesSelectionAlgorithm)\n",
    "\n",
    "import shap\n",
    "import loguru\n",
    "import plotly\n",
    "import phik\n",
    "import zipfile\n",
    "import io\n",
    "import re\n",
    "from optuna.integration import OptunaSearchCV\n",
    "from optuna.distributions import IntDistribution, FloatDistribution\n",
    "import optuna\n",
    "from scipy.stats import mode"
   ]
  },
  {
   "cell_type": "code",
   "execution_count": 15,
   "metadata": {},
   "outputs": [],
   "source": [
    "# sklearn.set_config(transform_output=\"pandas\")\n",
    "warnings.filterwarnings('ignore')\n",
    "pd.options.display.float_format = '{:,.2f}'.format\n",
    "\n",
    "RANDOM_STATE = 42"
   ]
  },
  {
   "cell_type": "code",
   "execution_count": 16,
   "metadata": {},
   "outputs": [],
   "source": [
    "pd.set_option('display.max_rows', 300)\n",
    "pd.set_option('display.max_columns', 300)"
   ]
  },
  {
   "cell_type": "markdown",
   "metadata": {},
   "source": [
    "# Первичный анализ и предобработка данных"
   ]
  },
  {
   "cell_type": "code",
   "execution_count": 17,
   "metadata": {},
   "outputs": [],
   "source": [
    "df_train = pd.read_csv('../data/train.csv', index_col=[0], parse_dates=[2])\n",
    "df_test = pd.read_csv('../data/test.csv', index_col=[0], parse_dates=[1])\n",
    "ex_submit = pd.read_csv('../data/submit.csv')"
   ]
  },
  {
   "cell_type": "code",
   "execution_count": 18,
   "metadata": {},
   "outputs": [
    {
     "name": "stdout",
     "output_type": "stream",
     "text": [
      "\u001b[1mтренировочная выборка:\u001b[0m\n"
     ]
    },
    {
     "data": {
      "text/html": [
       "<div>\n",
       "<style scoped>\n",
       "    .dataframe tbody tr th:only-of-type {\n",
       "        vertical-align: middle;\n",
       "    }\n",
       "\n",
       "    .dataframe tbody tr th {\n",
       "        vertical-align: top;\n",
       "    }\n",
       "\n",
       "    .dataframe thead th {\n",
       "        text-align: right;\n",
       "    }\n",
       "</style>\n",
       "<table border=\"1\" class=\"dataframe\">\n",
       "  <thead>\n",
       "    <tr style=\"text-align: right;\">\n",
       "      <th></th>\n",
       "      <th>user_id</th>\n",
       "      <th>ts</th>\n",
       "      <th>gate_id</th>\n",
       "    </tr>\n",
       "  </thead>\n",
       "  <tbody>\n",
       "    <tr>\n",
       "      <th>0</th>\n",
       "      <td>18</td>\n",
       "      <td>2022-07-29 09:08:54</td>\n",
       "      <td>7</td>\n",
       "    </tr>\n",
       "    <tr>\n",
       "      <th>1</th>\n",
       "      <td>18</td>\n",
       "      <td>2022-07-29 09:09:54</td>\n",
       "      <td>9</td>\n",
       "    </tr>\n",
       "    <tr>\n",
       "      <th>2</th>\n",
       "      <td>18</td>\n",
       "      <td>2022-07-29 09:09:54</td>\n",
       "      <td>9</td>\n",
       "    </tr>\n",
       "    <tr>\n",
       "      <th>3</th>\n",
       "      <td>18</td>\n",
       "      <td>2022-07-29 09:10:06</td>\n",
       "      <td>5</td>\n",
       "    </tr>\n",
       "    <tr>\n",
       "      <th>4</th>\n",
       "      <td>18</td>\n",
       "      <td>2022-07-29 09:10:08</td>\n",
       "      <td>5</td>\n",
       "    </tr>\n",
       "    <tr>\n",
       "      <th>...</th>\n",
       "      <td>...</td>\n",
       "      <td>...</td>\n",
       "      <td>...</td>\n",
       "    </tr>\n",
       "    <tr>\n",
       "      <th>37513</th>\n",
       "      <td>6</td>\n",
       "      <td>2022-12-31 20:38:56</td>\n",
       "      <td>11</td>\n",
       "    </tr>\n",
       "    <tr>\n",
       "      <th>37514</th>\n",
       "      <td>6</td>\n",
       "      <td>2022-12-31 20:39:22</td>\n",
       "      <td>6</td>\n",
       "    </tr>\n",
       "    <tr>\n",
       "      <th>37515</th>\n",
       "      <td>6</td>\n",
       "      <td>2022-12-31 20:39:23</td>\n",
       "      <td>6</td>\n",
       "    </tr>\n",
       "    <tr>\n",
       "      <th>37516</th>\n",
       "      <td>6</td>\n",
       "      <td>2022-12-31 20:39:31</td>\n",
       "      <td>9</td>\n",
       "    </tr>\n",
       "    <tr>\n",
       "      <th>37517</th>\n",
       "      <td>6</td>\n",
       "      <td>2022-12-31 20:39:31</td>\n",
       "      <td>9</td>\n",
       "    </tr>\n",
       "  </tbody>\n",
       "</table>\n",
       "<p>37518 rows × 3 columns</p>\n",
       "</div>"
      ],
      "text/plain": [
       "       user_id                  ts  gate_id\n",
       "0           18 2022-07-29 09:08:54        7\n",
       "1           18 2022-07-29 09:09:54        9\n",
       "2           18 2022-07-29 09:09:54        9\n",
       "3           18 2022-07-29 09:10:06        5\n",
       "4           18 2022-07-29 09:10:08        5\n",
       "...        ...                 ...      ...\n",
       "37513        6 2022-12-31 20:38:56       11\n",
       "37514        6 2022-12-31 20:39:22        6\n",
       "37515        6 2022-12-31 20:39:23        6\n",
       "37516        6 2022-12-31 20:39:31        9\n",
       "37517        6 2022-12-31 20:39:31        9\n",
       "\n",
       "[37518 rows x 3 columns]"
      ]
     },
     "metadata": {},
     "output_type": "display_data"
    },
    {
     "name": "stdout",
     "output_type": "stream",
     "text": [
      "\u001b[1mобщая информация - тренировочная выборка:\u001b[0m\n",
      "<class 'pandas.core.frame.DataFrame'>\n",
      "Index: 37518 entries, 0 to 37517\n",
      "Data columns (total 3 columns):\n",
      " #   Column   Non-Null Count  Dtype         \n",
      "---  ------   --------------  -----         \n",
      " 0   user_id  37518 non-null  int64         \n",
      " 1   ts       37518 non-null  datetime64[ns]\n",
      " 2   gate_id  37518 non-null  int64         \n",
      "dtypes: datetime64[ns](1), int64(2)\n",
      "memory usage: 1.1 MB\n",
      "\u001b[1mколичество пропусков: 0\u001b[0m\n",
      "\u001b[1mколичество явных дубликатов: 2346\u001b[0m\n",
      "\n",
      "\u001b[1mтестовая выборка:\u001b[0m\n"
     ]
    },
    {
     "data": {
      "text/html": [
       "<div>\n",
       "<style scoped>\n",
       "    .dataframe tbody tr th:only-of-type {\n",
       "        vertical-align: middle;\n",
       "    }\n",
       "\n",
       "    .dataframe tbody tr th {\n",
       "        vertical-align: top;\n",
       "    }\n",
       "\n",
       "    .dataframe thead th {\n",
       "        text-align: right;\n",
       "    }\n",
       "</style>\n",
       "<table border=\"1\" class=\"dataframe\">\n",
       "  <thead>\n",
       "    <tr style=\"text-align: right;\">\n",
       "      <th></th>\n",
       "      <th>ts</th>\n",
       "      <th>gate_id</th>\n",
       "      <th>user_word</th>\n",
       "    </tr>\n",
       "  </thead>\n",
       "  <tbody>\n",
       "    <tr>\n",
       "      <th>37518</th>\n",
       "      <td>2023-01-03 08:21:00</td>\n",
       "      <td>9</td>\n",
       "      <td>gini</td>\n",
       "    </tr>\n",
       "    <tr>\n",
       "      <th>37519</th>\n",
       "      <td>2023-01-03 08:21:00</td>\n",
       "      <td>9</td>\n",
       "      <td>gini</td>\n",
       "    </tr>\n",
       "    <tr>\n",
       "      <th>37520</th>\n",
       "      <td>2023-01-03 08:21:18</td>\n",
       "      <td>5</td>\n",
       "      <td>gini</td>\n",
       "    </tr>\n",
       "    <tr>\n",
       "      <th>37521</th>\n",
       "      <td>2023-01-03 08:21:19</td>\n",
       "      <td>5</td>\n",
       "      <td>gini</td>\n",
       "    </tr>\n",
       "    <tr>\n",
       "      <th>37522</th>\n",
       "      <td>2023-01-03 08:21:39</td>\n",
       "      <td>10</td>\n",
       "      <td>gini</td>\n",
       "    </tr>\n",
       "    <tr>\n",
       "      <th>...</th>\n",
       "      <td>...</td>\n",
       "      <td>...</td>\n",
       "      <td>...</td>\n",
       "    </tr>\n",
       "    <tr>\n",
       "      <th>44638</th>\n",
       "      <td>2023-02-24 19:43:36</td>\n",
       "      <td>11</td>\n",
       "      <td>collinear</td>\n",
       "    </tr>\n",
       "    <tr>\n",
       "      <th>44639</th>\n",
       "      <td>2023-02-24 19:44:00</td>\n",
       "      <td>4</td>\n",
       "      <td>collinear</td>\n",
       "    </tr>\n",
       "    <tr>\n",
       "      <th>44640</th>\n",
       "      <td>2023-02-24 19:44:01</td>\n",
       "      <td>4</td>\n",
       "      <td>collinear</td>\n",
       "    </tr>\n",
       "    <tr>\n",
       "      <th>44641</th>\n",
       "      <td>2023-02-24 19:44:09</td>\n",
       "      <td>9</td>\n",
       "      <td>collinear</td>\n",
       "    </tr>\n",
       "    <tr>\n",
       "      <th>44642</th>\n",
       "      <td>2023-02-24 19:44:09</td>\n",
       "      <td>9</td>\n",
       "      <td>collinear</td>\n",
       "    </tr>\n",
       "  </tbody>\n",
       "</table>\n",
       "<p>7125 rows × 3 columns</p>\n",
       "</div>"
      ],
      "text/plain": [
       "                       ts  gate_id  user_word\n",
       "37518 2023-01-03 08:21:00        9       gini\n",
       "37519 2023-01-03 08:21:00        9       gini\n",
       "37520 2023-01-03 08:21:18        5       gini\n",
       "37521 2023-01-03 08:21:19        5       gini\n",
       "37522 2023-01-03 08:21:39       10       gini\n",
       "...                   ...      ...        ...\n",
       "44638 2023-02-24 19:43:36       11  collinear\n",
       "44639 2023-02-24 19:44:00        4  collinear\n",
       "44640 2023-02-24 19:44:01        4  collinear\n",
       "44641 2023-02-24 19:44:09        9  collinear\n",
       "44642 2023-02-24 19:44:09        9  collinear\n",
       "\n",
       "[7125 rows x 3 columns]"
      ]
     },
     "metadata": {},
     "output_type": "display_data"
    },
    {
     "name": "stdout",
     "output_type": "stream",
     "text": [
      "\u001b[1mобщая информация - тестовая выборка:\u001b[0m\n",
      "<class 'pandas.core.frame.DataFrame'>\n",
      "Index: 7125 entries, 37518 to 44642\n",
      "Data columns (total 3 columns):\n",
      " #   Column     Non-Null Count  Dtype         \n",
      "---  ------     --------------  -----         \n",
      " 0   ts         7125 non-null   datetime64[ns]\n",
      " 1   gate_id    7125 non-null   int64         \n",
      " 2   user_word  7125 non-null   object        \n",
      "dtypes: datetime64[ns](1), int64(1), object(1)\n",
      "memory usage: 222.7+ KB\n",
      "\u001b[1mколичество пропусков: 0\u001b[0m\n",
      "\u001b[1mколичество явных дубликатов: 505\u001b[0m\n",
      "\n",
      "\u001b[1mпример решения:\u001b[0m\n"
     ]
    },
    {
     "data": {
      "text/html": [
       "<div>\n",
       "<style scoped>\n",
       "    .dataframe tbody tr th:only-of-type {\n",
       "        vertical-align: middle;\n",
       "    }\n",
       "\n",
       "    .dataframe tbody tr th {\n",
       "        vertical-align: top;\n",
       "    }\n",
       "\n",
       "    .dataframe thead th {\n",
       "        text-align: right;\n",
       "    }\n",
       "</style>\n",
       "<table border=\"1\" class=\"dataframe\">\n",
       "  <thead>\n",
       "    <tr style=\"text-align: right;\">\n",
       "      <th></th>\n",
       "      <th>user_word</th>\n",
       "      <th>preds</th>\n",
       "    </tr>\n",
       "  </thead>\n",
       "  <tbody>\n",
       "    <tr>\n",
       "      <th>0</th>\n",
       "      <td>aucroc</td>\n",
       "      <td>49</td>\n",
       "    </tr>\n",
       "    <tr>\n",
       "      <th>1</th>\n",
       "      <td>binary</td>\n",
       "      <td>12</td>\n",
       "    </tr>\n",
       "    <tr>\n",
       "      <th>2</th>\n",
       "      <td>blue</td>\n",
       "      <td>55</td>\n",
       "    </tr>\n",
       "    <tr>\n",
       "      <th>3</th>\n",
       "      <td>categorical</td>\n",
       "      <td>14</td>\n",
       "    </tr>\n",
       "    <tr>\n",
       "      <th>4</th>\n",
       "      <td>coefficient</td>\n",
       "      <td>15</td>\n",
       "    </tr>\n",
       "    <tr>\n",
       "      <th>5</th>\n",
       "      <td>collinear</td>\n",
       "      <td>12</td>\n",
       "    </tr>\n",
       "    <tr>\n",
       "      <th>6</th>\n",
       "      <td>distributed</td>\n",
       "      <td>12</td>\n",
       "    </tr>\n",
       "    <tr>\n",
       "      <th>7</th>\n",
       "      <td>epsilon</td>\n",
       "      <td>1</td>\n",
       "    </tr>\n",
       "    <tr>\n",
       "      <th>8</th>\n",
       "      <td>f1</td>\n",
       "      <td>37</td>\n",
       "    </tr>\n",
       "    <tr>\n",
       "      <th>9</th>\n",
       "      <td>fit</td>\n",
       "      <td>3</td>\n",
       "    </tr>\n",
       "    <tr>\n",
       "      <th>10</th>\n",
       "      <td>gini</td>\n",
       "      <td>15</td>\n",
       "    </tr>\n",
       "    <tr>\n",
       "      <th>11</th>\n",
       "      <td>independent</td>\n",
       "      <td>-999</td>\n",
       "    </tr>\n",
       "    <tr>\n",
       "      <th>12</th>\n",
       "      <td>lasso</td>\n",
       "      <td>15</td>\n",
       "    </tr>\n",
       "    <tr>\n",
       "      <th>13</th>\n",
       "      <td>linear</td>\n",
       "      <td>3</td>\n",
       "    </tr>\n",
       "    <tr>\n",
       "      <th>14</th>\n",
       "      <td>logistic</td>\n",
       "      <td>12</td>\n",
       "    </tr>\n",
       "    <tr>\n",
       "      <th>15</th>\n",
       "      <td>loss</td>\n",
       "      <td>19</td>\n",
       "    </tr>\n",
       "    <tr>\n",
       "      <th>16</th>\n",
       "      <td>matrix</td>\n",
       "      <td>55</td>\n",
       "    </tr>\n",
       "    <tr>\n",
       "      <th>17</th>\n",
       "      <td>minimization</td>\n",
       "      <td>12</td>\n",
       "    </tr>\n",
       "    <tr>\n",
       "      <th>18</th>\n",
       "      <td>mse</td>\n",
       "      <td>55</td>\n",
       "    </tr>\n",
       "    <tr>\n",
       "      <th>19</th>\n",
       "      <td>ols</td>\n",
       "      <td>37</td>\n",
       "    </tr>\n",
       "    <tr>\n",
       "      <th>20</th>\n",
       "      <td>precision</td>\n",
       "      <td>-999</td>\n",
       "    </tr>\n",
       "    <tr>\n",
       "      <th>21</th>\n",
       "      <td>predict</td>\n",
       "      <td>12</td>\n",
       "    </tr>\n",
       "    <tr>\n",
       "      <th>22</th>\n",
       "      <td>pvalue</td>\n",
       "      <td>32</td>\n",
       "    </tr>\n",
       "    <tr>\n",
       "      <th>23</th>\n",
       "      <td>r2</td>\n",
       "      <td>12</td>\n",
       "    </tr>\n",
       "    <tr>\n",
       "      <th>24</th>\n",
       "      <td>recall</td>\n",
       "      <td>3</td>\n",
       "    </tr>\n",
       "    <tr>\n",
       "      <th>25</th>\n",
       "      <td>regression</td>\n",
       "      <td>55</td>\n",
       "    </tr>\n",
       "    <tr>\n",
       "      <th>26</th>\n",
       "      <td>residual</td>\n",
       "      <td>-999</td>\n",
       "    </tr>\n",
       "    <tr>\n",
       "      <th>27</th>\n",
       "      <td>ridge</td>\n",
       "      <td>12</td>\n",
       "    </tr>\n",
       "    <tr>\n",
       "      <th>28</th>\n",
       "      <td>sigmoid</td>\n",
       "      <td>55</td>\n",
       "    </tr>\n",
       "    <tr>\n",
       "      <th>29</th>\n",
       "      <td>significant</td>\n",
       "      <td>55</td>\n",
       "    </tr>\n",
       "    <tr>\n",
       "      <th>30</th>\n",
       "      <td>target</td>\n",
       "      <td>55</td>\n",
       "    </tr>\n",
       "    <tr>\n",
       "      <th>31</th>\n",
       "      <td>tstat</td>\n",
       "      <td>55</td>\n",
       "    </tr>\n",
       "    <tr>\n",
       "      <th>32</th>\n",
       "      <td>x</td>\n",
       "      <td>19</td>\n",
       "    </tr>\n",
       "    <tr>\n",
       "      <th>33</th>\n",
       "      <td>y</td>\n",
       "      <td>17</td>\n",
       "    </tr>\n",
       "  </tbody>\n",
       "</table>\n",
       "</div>"
      ],
      "text/plain": [
       "       user_word  preds\n",
       "0         aucroc     49\n",
       "1         binary     12\n",
       "2           blue     55\n",
       "3    categorical     14\n",
       "4    coefficient     15\n",
       "5      collinear     12\n",
       "6    distributed     12\n",
       "7        epsilon      1\n",
       "8             f1     37\n",
       "9            fit      3\n",
       "10          gini     15\n",
       "11   independent   -999\n",
       "12         lasso     15\n",
       "13        linear      3\n",
       "14      logistic     12\n",
       "15          loss     19\n",
       "16        matrix     55\n",
       "17  minimization     12\n",
       "18           mse     55\n",
       "19           ols     37\n",
       "20     precision   -999\n",
       "21       predict     12\n",
       "22        pvalue     32\n",
       "23            r2     12\n",
       "24        recall      3\n",
       "25    regression     55\n",
       "26      residual   -999\n",
       "27         ridge     12\n",
       "28       sigmoid     55\n",
       "29   significant     55\n",
       "30        target     55\n",
       "31         tstat     55\n",
       "32             x     19\n",
       "33             y     17"
      ]
     },
     "metadata": {},
     "output_type": "display_data"
    },
    {
     "name": "stdout",
     "output_type": "stream",
     "text": [
      "\u001b[1mобщая информация - пример решения:\u001b[0m\n",
      "<class 'pandas.core.frame.DataFrame'>\n",
      "RangeIndex: 34 entries, 0 to 33\n",
      "Data columns (total 2 columns):\n",
      " #   Column     Non-Null Count  Dtype \n",
      "---  ------     --------------  ----- \n",
      " 0   user_word  34 non-null     object\n",
      " 1   preds      34 non-null     int64 \n",
      "dtypes: int64(1), object(1)\n",
      "memory usage: 672.0+ bytes\n",
      "\u001b[1mколичество пропусков: 0\u001b[0m\n",
      "\u001b[1mколичество явных дубликатов: 0\u001b[0m\n",
      "\n"
     ]
    }
   ],
   "source": [
    "for name, df in zip(['тренировочная выборка', 'тестовая выборка', 'пример решения'], [df_train, df_test, ex_submit]):\n",
    "    print(f'\\033[1m{name}:\\033[0m')\n",
    "    display(df)\n",
    "    print(f'\\033[1mобщая информация - {name}:\\033[0m')\n",
    "    df.info()\n",
    "    print(f'\\033[1mколичество пропусков: {df.isna().sum().sum()}\\033[0m')\n",
    "    print(f'\\033[1mколичество явных дубликатов: {df.duplicated().sum()}\\033[0m')\n",
    "    print()"
   ]
  },
  {
   "cell_type": "markdown",
   "metadata": {},
   "source": [
    "Пропусков в данных не обнаружено.\n",
    "\n",
    "В тренировочной и тестовой выборке есть явные дубликаты, удалим их."
   ]
  },
  {
   "cell_type": "code",
   "execution_count": 19,
   "metadata": {},
   "outputs": [],
   "source": [
    "df_train = df_train.drop_duplicates().reset_index(drop=True)\n",
    "df_test = df_test.drop_duplicates().reset_index(drop=True)"
   ]
  },
  {
   "cell_type": "code",
   "execution_count": 20,
   "metadata": {},
   "outputs": [
    {
     "data": {
      "text/plain": [
       "(35172, 3)"
      ]
     },
     "execution_count": 20,
     "metadata": {},
     "output_type": "execute_result"
    }
   ],
   "source": [
    "df_train.shape"
   ]
  },
  {
   "cell_type": "code",
   "execution_count": 21,
   "metadata": {},
   "outputs": [
    {
     "data": {
      "text/plain": [
       "(6620, 3)"
      ]
     },
     "execution_count": 21,
     "metadata": {},
     "output_type": "execute_result"
    }
   ],
   "source": [
    "df_test.shape"
   ]
  },
  {
   "cell_type": "markdown",
   "metadata": {},
   "source": [
    "Предоставлены данные за 7 месяцев - с июля 2022 по фефраль 2023. Номер месяца в качестве признака не подойдет."
   ]
  },
  {
   "cell_type": "markdown",
   "metadata": {},
   "source": [
    "ID сотрудников"
   ]
  },
  {
   "cell_type": "code",
   "execution_count": 22,
   "metadata": {},
   "outputs": [
    {
     "data": {
      "text/html": [
       "<div>\n",
       "<style scoped>\n",
       "    .dataframe tbody tr th:only-of-type {\n",
       "        vertical-align: middle;\n",
       "    }\n",
       "\n",
       "    .dataframe tbody tr th {\n",
       "        vertical-align: top;\n",
       "    }\n",
       "\n",
       "    .dataframe thead th {\n",
       "        text-align: right;\n",
       "    }\n",
       "</style>\n",
       "<table border=\"1\" class=\"dataframe\">\n",
       "  <thead>\n",
       "    <tr style=\"text-align: right;\">\n",
       "      <th></th>\n",
       "      <th>count</th>\n",
       "    </tr>\n",
       "    <tr>\n",
       "      <th>user_id</th>\n",
       "      <th></th>\n",
       "    </tr>\n",
       "  </thead>\n",
       "  <tbody>\n",
       "    <tr>\n",
       "      <th>4</th>\n",
       "      <td>1</td>\n",
       "    </tr>\n",
       "    <tr>\n",
       "      <th>51</th>\n",
       "      <td>2</td>\n",
       "    </tr>\n",
       "    <tr>\n",
       "      <th>44</th>\n",
       "      <td>4</td>\n",
       "    </tr>\n",
       "    <tr>\n",
       "      <th>21</th>\n",
       "      <td>5</td>\n",
       "    </tr>\n",
       "    <tr>\n",
       "      <th>52</th>\n",
       "      <td>5</td>\n",
       "    </tr>\n",
       "    <tr>\n",
       "      <th>30</th>\n",
       "      <td>10</td>\n",
       "    </tr>\n",
       "    <tr>\n",
       "      <th>5</th>\n",
       "      <td>10</td>\n",
       "    </tr>\n",
       "    <tr>\n",
       "      <th>38</th>\n",
       "      <td>13</td>\n",
       "    </tr>\n",
       "    <tr>\n",
       "      <th>10</th>\n",
       "      <td>17</td>\n",
       "    </tr>\n",
       "    <tr>\n",
       "      <th>8</th>\n",
       "      <td>27</td>\n",
       "    </tr>\n",
       "    <tr>\n",
       "      <th>2</th>\n",
       "      <td>39</td>\n",
       "    </tr>\n",
       "    <tr>\n",
       "      <th>36</th>\n",
       "      <td>45</td>\n",
       "    </tr>\n",
       "    <tr>\n",
       "      <th>7</th>\n",
       "      <td>48</td>\n",
       "    </tr>\n",
       "    <tr>\n",
       "      <th>45</th>\n",
       "      <td>57</td>\n",
       "    </tr>\n",
       "    <tr>\n",
       "      <th>28</th>\n",
       "      <td>64</td>\n",
       "    </tr>\n",
       "    <tr>\n",
       "      <th>22</th>\n",
       "      <td>87</td>\n",
       "    </tr>\n",
       "    <tr>\n",
       "      <th>41</th>\n",
       "      <td>110</td>\n",
       "    </tr>\n",
       "    <tr>\n",
       "      <th>20</th>\n",
       "      <td>112</td>\n",
       "    </tr>\n",
       "    <tr>\n",
       "      <th>43</th>\n",
       "      <td>117</td>\n",
       "    </tr>\n",
       "    <tr>\n",
       "      <th>56</th>\n",
       "      <td>129</td>\n",
       "    </tr>\n",
       "    <tr>\n",
       "      <th>31</th>\n",
       "      <td>181</td>\n",
       "    </tr>\n",
       "    <tr>\n",
       "      <th>25</th>\n",
       "      <td>238</td>\n",
       "    </tr>\n",
       "    <tr>\n",
       "      <th>40</th>\n",
       "      <td>242</td>\n",
       "    </tr>\n",
       "    <tr>\n",
       "      <th>23</th>\n",
       "      <td>247</td>\n",
       "    </tr>\n",
       "    <tr>\n",
       "      <th>34</th>\n",
       "      <td>267</td>\n",
       "    </tr>\n",
       "    <tr>\n",
       "      <th>26</th>\n",
       "      <td>279</td>\n",
       "    </tr>\n",
       "    <tr>\n",
       "      <th>42</th>\n",
       "      <td>340</td>\n",
       "    </tr>\n",
       "    <tr>\n",
       "      <th>24</th>\n",
       "      <td>386</td>\n",
       "    </tr>\n",
       "    <tr>\n",
       "      <th>46</th>\n",
       "      <td>475</td>\n",
       "    </tr>\n",
       "    <tr>\n",
       "      <th>57</th>\n",
       "      <td>482</td>\n",
       "    </tr>\n",
       "    <tr>\n",
       "      <th>27</th>\n",
       "      <td>523</td>\n",
       "    </tr>\n",
       "    <tr>\n",
       "      <th>35</th>\n",
       "      <td>549</td>\n",
       "    </tr>\n",
       "    <tr>\n",
       "      <th>14</th>\n",
       "      <td>617</td>\n",
       "    </tr>\n",
       "    <tr>\n",
       "      <th>17</th>\n",
       "      <td>648</td>\n",
       "    </tr>\n",
       "    <tr>\n",
       "      <th>48</th>\n",
       "      <td>712</td>\n",
       "    </tr>\n",
       "    <tr>\n",
       "      <th>3</th>\n",
       "      <td>894</td>\n",
       "    </tr>\n",
       "    <tr>\n",
       "      <th>29</th>\n",
       "      <td>924</td>\n",
       "    </tr>\n",
       "    <tr>\n",
       "      <th>50</th>\n",
       "      <td>965</td>\n",
       "    </tr>\n",
       "    <tr>\n",
       "      <th>54</th>\n",
       "      <td>977</td>\n",
       "    </tr>\n",
       "    <tr>\n",
       "      <th>9</th>\n",
       "      <td>1015</td>\n",
       "    </tr>\n",
       "    <tr>\n",
       "      <th>32</th>\n",
       "      <td>1020</td>\n",
       "    </tr>\n",
       "    <tr>\n",
       "      <th>39</th>\n",
       "      <td>1032</td>\n",
       "    </tr>\n",
       "    <tr>\n",
       "      <th>49</th>\n",
       "      <td>1129</td>\n",
       "    </tr>\n",
       "    <tr>\n",
       "      <th>1</th>\n",
       "      <td>1171</td>\n",
       "    </tr>\n",
       "    <tr>\n",
       "      <th>0</th>\n",
       "      <td>1184</td>\n",
       "    </tr>\n",
       "    <tr>\n",
       "      <th>33</th>\n",
       "      <td>1184</td>\n",
       "    </tr>\n",
       "    <tr>\n",
       "      <th>47</th>\n",
       "      <td>1250</td>\n",
       "    </tr>\n",
       "    <tr>\n",
       "      <th>11</th>\n",
       "      <td>1255</td>\n",
       "    </tr>\n",
       "    <tr>\n",
       "      <th>53</th>\n",
       "      <td>1279</td>\n",
       "    </tr>\n",
       "    <tr>\n",
       "      <th>18</th>\n",
       "      <td>1441</td>\n",
       "    </tr>\n",
       "    <tr>\n",
       "      <th>15</th>\n",
       "      <td>1659</td>\n",
       "    </tr>\n",
       "    <tr>\n",
       "      <th>19</th>\n",
       "      <td>1661</td>\n",
       "    </tr>\n",
       "    <tr>\n",
       "      <th>12</th>\n",
       "      <td>1837</td>\n",
       "    </tr>\n",
       "    <tr>\n",
       "      <th>6</th>\n",
       "      <td>1857</td>\n",
       "    </tr>\n",
       "    <tr>\n",
       "      <th>55</th>\n",
       "      <td>2166</td>\n",
       "    </tr>\n",
       "    <tr>\n",
       "      <th>37</th>\n",
       "      <td>2184</td>\n",
       "    </tr>\n",
       "  </tbody>\n",
       "</table>\n",
       "</div>"
      ],
      "text/plain": [
       "         count\n",
       "user_id       \n",
       "4            1\n",
       "51           2\n",
       "44           4\n",
       "21           5\n",
       "52           5\n",
       "30          10\n",
       "5           10\n",
       "38          13\n",
       "10          17\n",
       "8           27\n",
       "2           39\n",
       "36          45\n",
       "7           48\n",
       "45          57\n",
       "28          64\n",
       "22          87\n",
       "41         110\n",
       "20         112\n",
       "43         117\n",
       "56         129\n",
       "31         181\n",
       "25         238\n",
       "40         242\n",
       "23         247\n",
       "34         267\n",
       "26         279\n",
       "42         340\n",
       "24         386\n",
       "46         475\n",
       "57         482\n",
       "27         523\n",
       "35         549\n",
       "14         617\n",
       "17         648\n",
       "48         712\n",
       "3          894\n",
       "29         924\n",
       "50         965\n",
       "54         977\n",
       "9         1015\n",
       "32        1020\n",
       "39        1032\n",
       "49        1129\n",
       "1         1171\n",
       "0         1184\n",
       "33        1184\n",
       "47        1250\n",
       "11        1255\n",
       "53        1279\n",
       "18        1441\n",
       "15        1659\n",
       "19        1661\n",
       "12        1837\n",
       "6         1857\n",
       "55        2166\n",
       "37        2184"
      ]
     },
     "execution_count": 22,
     "metadata": {},
     "output_type": "execute_result"
    }
   ],
   "source": [
    "# активность сотрудников в train\n",
    "df_train.user_id.value_counts(ascending=True).to_frame()"
   ]
  },
  {
   "cell_type": "code",
   "execution_count": 23,
   "metadata": {},
   "outputs": [
    {
     "data": {
      "text/plain": [
       "Index(['aucroc', 'binary', 'blue', 'categorical', 'coefficient', 'collinear',\n",
       "       'distributed', 'epsilon', 'f1', 'fit', 'gini', 'independent', 'lasso',\n",
       "       'linear', 'logistic', 'loss', 'matrix', 'minimization', 'mse', 'ols',\n",
       "       'precision', 'predict', 'pvalue', 'r2', 'recall', 'regression',\n",
       "       'residual', 'ridge', 'sigmoid', 'significant', 'target', 'tstat', 'x',\n",
       "       'y'],\n",
       "      dtype='object', name='user_word')"
      ]
     },
     "execution_count": 23,
     "metadata": {},
     "output_type": "execute_result"
    }
   ],
   "source": [
    "df_test.user_word.value_counts(ascending=True).to_frame().sort_index().index"
   ]
  },
  {
   "cell_type": "markdown",
   "metadata": {},
   "source": [
    "Удалим из трейна и теста юзеров, для которых мы уверенно делаем предсказания"
   ]
  },
  {
   "cell_type": "code",
   "execution_count": 24,
   "metadata": {},
   "outputs": [],
   "source": [
    "u_id = [24, 12, 14, 0, 1, 6, 15, 17, 19, 43, 11, 39, 32, 54, 3, 35, 55, 33, 46, 9, 37, 49, 29]\n",
    "u_word = [\n",
    "    'aucroc', 'binary', 'categorical', 'distributed', 'epsilon', 'f1', 'gini', 'linear', 'loss', 'mse', 'ols', \n",
    "    'predict', 'pvalue', 'r2', 'recall', 'ridge', 'sigmoid', 'significant', 'target', 'tstat', 'x',\n",
    "    'y',\n",
    "    'independent', 'matrix'\n",
    "]"
   ]
  },
  {
   "cell_type": "code",
   "execution_count": 25,
   "metadata": {},
   "outputs": [
    {
     "data": {
      "text/plain": [
       "23"
      ]
     },
     "execution_count": 25,
     "metadata": {},
     "output_type": "execute_result"
    }
   ],
   "source": [
    "len(u_id)"
   ]
  },
  {
   "cell_type": "code",
   "execution_count": 26,
   "metadata": {},
   "outputs": [
    {
     "data": {
      "text/plain": [
       "24"
      ]
     },
     "execution_count": 26,
     "metadata": {},
     "output_type": "execute_result"
    }
   ],
   "source": [
    "len(u_word)"
   ]
  },
  {
   "cell_type": "code",
   "execution_count": 27,
   "metadata": {},
   "outputs": [
    {
     "data": {
      "text/plain": [
       "(9231, 3)"
      ]
     },
     "execution_count": 27,
     "metadata": {},
     "output_type": "execute_result"
    }
   ],
   "source": [
    "df_train = df_train[~df_train['user_id'].isin(u_id)]\n",
    "df_train.shape"
   ]
  },
  {
   "cell_type": "code",
   "execution_count": 28,
   "metadata": {},
   "outputs": [
    {
     "data": {
      "text/plain": [
       "(1010, 3)"
      ]
     },
     "execution_count": 28,
     "metadata": {},
     "output_type": "execute_result"
    }
   ],
   "source": [
    "df_test = df_test[~df_test['user_word'].isin(u_word)]\n",
    "df_test.shape"
   ]
  },
  {
   "cell_type": "code",
   "execution_count": 29,
   "metadata": {},
   "outputs": [
    {
     "name": "stdout",
     "output_type": "stream",
     "text": [
      "Количество сотрудников в train: 33\n"
     ]
    }
   ],
   "source": [
    "print(f'Количество сотрудников в train: {df_train.user_id.nunique()}')"
   ]
  },
  {
   "cell_type": "code",
   "execution_count": 30,
   "metadata": {},
   "outputs": [
    {
     "name": "stdout",
     "output_type": "stream",
     "text": [
      "[2, 4, 5, 7, 8, 10, 18, 20, 21, 22, 23, 25, 26, 27, 28, 30, 31, 34, 36, 38, 40, 41, 42, 44, 45, 47, 48, 50, 51, 52, 53, 56, 57]\n"
     ]
    }
   ],
   "source": [
    "print(sorted(df_train['user_id'].unique()))"
   ]
  },
  {
   "cell_type": "code",
   "execution_count": 31,
   "metadata": {},
   "outputs": [
    {
     "data": {
      "text/html": [
       "<div>\n",
       "<style scoped>\n",
       "    .dataframe tbody tr th:only-of-type {\n",
       "        vertical-align: middle;\n",
       "    }\n",
       "\n",
       "    .dataframe tbody tr th {\n",
       "        vertical-align: top;\n",
       "    }\n",
       "\n",
       "    .dataframe thead th {\n",
       "        text-align: right;\n",
       "    }\n",
       "</style>\n",
       "<table border=\"1\" class=\"dataframe\">\n",
       "  <thead>\n",
       "    <tr style=\"text-align: right;\">\n",
       "      <th></th>\n",
       "      <th>count</th>\n",
       "    </tr>\n",
       "    <tr>\n",
       "      <th>user_id</th>\n",
       "      <th></th>\n",
       "    </tr>\n",
       "  </thead>\n",
       "  <tbody>\n",
       "    <tr>\n",
       "      <th>4</th>\n",
       "      <td>1</td>\n",
       "    </tr>\n",
       "    <tr>\n",
       "      <th>51</th>\n",
       "      <td>2</td>\n",
       "    </tr>\n",
       "    <tr>\n",
       "      <th>44</th>\n",
       "      <td>4</td>\n",
       "    </tr>\n",
       "    <tr>\n",
       "      <th>52</th>\n",
       "      <td>5</td>\n",
       "    </tr>\n",
       "    <tr>\n",
       "      <th>21</th>\n",
       "      <td>5</td>\n",
       "    </tr>\n",
       "    <tr>\n",
       "      <th>30</th>\n",
       "      <td>10</td>\n",
       "    </tr>\n",
       "    <tr>\n",
       "      <th>5</th>\n",
       "      <td>10</td>\n",
       "    </tr>\n",
       "    <tr>\n",
       "      <th>38</th>\n",
       "      <td>13</td>\n",
       "    </tr>\n",
       "    <tr>\n",
       "      <th>10</th>\n",
       "      <td>17</td>\n",
       "    </tr>\n",
       "    <tr>\n",
       "      <th>8</th>\n",
       "      <td>27</td>\n",
       "    </tr>\n",
       "    <tr>\n",
       "      <th>2</th>\n",
       "      <td>39</td>\n",
       "    </tr>\n",
       "    <tr>\n",
       "      <th>36</th>\n",
       "      <td>45</td>\n",
       "    </tr>\n",
       "    <tr>\n",
       "      <th>7</th>\n",
       "      <td>48</td>\n",
       "    </tr>\n",
       "    <tr>\n",
       "      <th>45</th>\n",
       "      <td>57</td>\n",
       "    </tr>\n",
       "    <tr>\n",
       "      <th>28</th>\n",
       "      <td>64</td>\n",
       "    </tr>\n",
       "    <tr>\n",
       "      <th>22</th>\n",
       "      <td>87</td>\n",
       "    </tr>\n",
       "    <tr>\n",
       "      <th>41</th>\n",
       "      <td>110</td>\n",
       "    </tr>\n",
       "    <tr>\n",
       "      <th>20</th>\n",
       "      <td>112</td>\n",
       "    </tr>\n",
       "    <tr>\n",
       "      <th>56</th>\n",
       "      <td>129</td>\n",
       "    </tr>\n",
       "    <tr>\n",
       "      <th>31</th>\n",
       "      <td>181</td>\n",
       "    </tr>\n",
       "    <tr>\n",
       "      <th>25</th>\n",
       "      <td>238</td>\n",
       "    </tr>\n",
       "    <tr>\n",
       "      <th>40</th>\n",
       "      <td>242</td>\n",
       "    </tr>\n",
       "    <tr>\n",
       "      <th>23</th>\n",
       "      <td>247</td>\n",
       "    </tr>\n",
       "    <tr>\n",
       "      <th>34</th>\n",
       "      <td>267</td>\n",
       "    </tr>\n",
       "    <tr>\n",
       "      <th>26</th>\n",
       "      <td>279</td>\n",
       "    </tr>\n",
       "    <tr>\n",
       "      <th>42</th>\n",
       "      <td>340</td>\n",
       "    </tr>\n",
       "    <tr>\n",
       "      <th>57</th>\n",
       "      <td>482</td>\n",
       "    </tr>\n",
       "    <tr>\n",
       "      <th>27</th>\n",
       "      <td>523</td>\n",
       "    </tr>\n",
       "    <tr>\n",
       "      <th>48</th>\n",
       "      <td>712</td>\n",
       "    </tr>\n",
       "    <tr>\n",
       "      <th>50</th>\n",
       "      <td>965</td>\n",
       "    </tr>\n",
       "    <tr>\n",
       "      <th>47</th>\n",
       "      <td>1250</td>\n",
       "    </tr>\n",
       "    <tr>\n",
       "      <th>53</th>\n",
       "      <td>1279</td>\n",
       "    </tr>\n",
       "    <tr>\n",
       "      <th>18</th>\n",
       "      <td>1441</td>\n",
       "    </tr>\n",
       "  </tbody>\n",
       "</table>\n",
       "</div>"
      ],
      "text/plain": [
       "         count\n",
       "user_id       \n",
       "4            1\n",
       "51           2\n",
       "44           4\n",
       "52           5\n",
       "21           5\n",
       "30          10\n",
       "5           10\n",
       "38          13\n",
       "10          17\n",
       "8           27\n",
       "2           39\n",
       "36          45\n",
       "7           48\n",
       "45          57\n",
       "28          64\n",
       "22          87\n",
       "41         110\n",
       "20         112\n",
       "56         129\n",
       "31         181\n",
       "25         238\n",
       "40         242\n",
       "23         247\n",
       "34         267\n",
       "26         279\n",
       "42         340\n",
       "57         482\n",
       "27         523\n",
       "48         712\n",
       "50         965\n",
       "47        1250\n",
       "53        1279\n",
       "18        1441"
      ]
     },
     "execution_count": 31,
     "metadata": {},
     "output_type": "execute_result"
    }
   ],
   "source": [
    "df_train.user_id.value_counts(ascending=True).to_frame()"
   ]
  },
  {
   "cell_type": "markdown",
   "metadata": {},
   "source": [
    "Исходя из графиков посещений здания для каждого сотрудника, исключим некоторых из тренировочной выборки."
   ]
  },
  {
   "cell_type": "code",
   "execution_count": 32,
   "metadata": {},
   "outputs": [
    {
     "data": {
      "text/plain": [
       "[2,\n",
       " 4,\n",
       " 5,\n",
       " 7,\n",
       " 8,\n",
       " 10,\n",
       " 18,\n",
       " 20,\n",
       " 21,\n",
       " 22,\n",
       " 23,\n",
       " 25,\n",
       " 26,\n",
       " 27,\n",
       " 28,\n",
       " 29,\n",
       " 30,\n",
       " 31,\n",
       " 34,\n",
       " 36,\n",
       " 38,\n",
       " 40,\n",
       " 41,\n",
       " 42,\n",
       " 44,\n",
       " 45,\n",
       " 47,\n",
       " 48,\n",
       " 49,\n",
       " 50,\n",
       " 51,\n",
       " 52,\n",
       " 53,\n",
       " 56,\n",
       " 57]"
      ]
     },
     "execution_count": 32,
     "metadata": {},
     "output_type": "execute_result"
    }
   ],
   "source": [
    "[2, 4, 5, 7, 8, 10, 18, 20, 21, 22, 23, 25, 26, 27, 28, 29, 30, 31, 34, 36, 38, 40, 41, 42, 44, 45, 47, 48, 49, 50, 51, 52, 53, 56, 57]"
   ]
  },
  {
   "cell_type": "code",
   "execution_count": 33,
   "metadata": {},
   "outputs": [
    {
     "data": {
      "text/plain": [
       "6"
      ]
     },
     "execution_count": 33,
     "metadata": {},
     "output_type": "execute_result"
    }
   ],
   "source": [
    "delete_user_id = [4, 20, 21, 44, 51, 52]\n",
    "len(delete_user_id)"
   ]
  },
  {
   "cell_type": "code",
   "execution_count": 34,
   "metadata": {},
   "outputs": [
    {
     "data": {
      "text/plain": [
       "(9102, 3)"
      ]
     },
     "execution_count": 34,
     "metadata": {},
     "output_type": "execute_result"
    }
   ],
   "source": [
    "df_train = df_train[~df_train['user_id'].isin(delete_user_id)]\n",
    "df_train.shape"
   ]
  },
  {
   "cell_type": "code",
   "execution_count": 35,
   "metadata": {},
   "outputs": [
    {
     "data": {
      "text/plain": [
       "27"
      ]
     },
     "execution_count": 35,
     "metadata": {},
     "output_type": "execute_result"
    }
   ],
   "source": [
    "df_train['user_id'].nunique()"
   ]
  },
  {
   "cell_type": "code",
   "execution_count": null,
   "metadata": {},
   "outputs": [],
   "source": []
  },
  {
   "cell_type": "code",
   "execution_count": 36,
   "metadata": {},
   "outputs": [
    {
     "name": "stdout",
     "output_type": "stream",
     "text": [
      "Количество сотрудников в test: 10\n"
     ]
    }
   ],
   "source": [
    "print(f'Количество сотрудников в test: {df_test.user_word.nunique()}')"
   ]
  },
  {
   "cell_type": "code",
   "execution_count": 37,
   "metadata": {},
   "outputs": [
    {
     "data": {
      "text/html": [
       "<div>\n",
       "<style scoped>\n",
       "    .dataframe tbody tr th:only-of-type {\n",
       "        vertical-align: middle;\n",
       "    }\n",
       "\n",
       "    .dataframe tbody tr th {\n",
       "        vertical-align: top;\n",
       "    }\n",
       "\n",
       "    .dataframe thead th {\n",
       "        text-align: right;\n",
       "    }\n",
       "</style>\n",
       "<table border=\"1\" class=\"dataframe\">\n",
       "  <thead>\n",
       "    <tr style=\"text-align: right;\">\n",
       "      <th></th>\n",
       "      <th>count</th>\n",
       "    </tr>\n",
       "    <tr>\n",
       "      <th>user_word</th>\n",
       "      <th></th>\n",
       "    </tr>\n",
       "  </thead>\n",
       "  <tbody>\n",
       "    <tr>\n",
       "      <th>logistic</th>\n",
       "      <td>5</td>\n",
       "    </tr>\n",
       "    <tr>\n",
       "      <th>blue</th>\n",
       "      <td>12</td>\n",
       "    </tr>\n",
       "    <tr>\n",
       "      <th>lasso</th>\n",
       "      <td>33</td>\n",
       "    </tr>\n",
       "    <tr>\n",
       "      <th>regression</th>\n",
       "      <td>50</td>\n",
       "    </tr>\n",
       "    <tr>\n",
       "      <th>precision</th>\n",
       "      <td>54</td>\n",
       "    </tr>\n",
       "    <tr>\n",
       "      <th>coefficient</th>\n",
       "      <td>56</td>\n",
       "    </tr>\n",
       "    <tr>\n",
       "      <th>minimization</th>\n",
       "      <td>95</td>\n",
       "    </tr>\n",
       "    <tr>\n",
       "      <th>fit</th>\n",
       "      <td>183</td>\n",
       "    </tr>\n",
       "    <tr>\n",
       "      <th>residual</th>\n",
       "      <td>224</td>\n",
       "    </tr>\n",
       "    <tr>\n",
       "      <th>collinear</th>\n",
       "      <td>298</td>\n",
       "    </tr>\n",
       "  </tbody>\n",
       "</table>\n",
       "</div>"
      ],
      "text/plain": [
       "              count\n",
       "user_word          \n",
       "logistic          5\n",
       "blue             12\n",
       "lasso            33\n",
       "regression       50\n",
       "precision        54\n",
       "coefficient      56\n",
       "minimization     95\n",
       "fit             183\n",
       "residual        224\n",
       "collinear       298"
      ]
     },
     "execution_count": 37,
     "metadata": {},
     "output_type": "execute_result"
    }
   ],
   "source": [
    "# активность сотрудников в test\n",
    "df_test.user_word.value_counts(ascending=True).to_frame()"
   ]
  },
  {
   "cell_type": "markdown",
   "metadata": {},
   "source": [
    "Турникеты"
   ]
  },
  {
   "cell_type": "code",
   "execution_count": 38,
   "metadata": {},
   "outputs": [
    {
     "name": "stdout",
     "output_type": "stream",
     "text": [
      "Количество турникетов в train: 16\n"
     ]
    },
    {
     "data": {
      "text/html": [
       "<div>\n",
       "<style scoped>\n",
       "    .dataframe tbody tr th:only-of-type {\n",
       "        vertical-align: middle;\n",
       "    }\n",
       "\n",
       "    .dataframe tbody tr th {\n",
       "        vertical-align: top;\n",
       "    }\n",
       "\n",
       "    .dataframe thead th {\n",
       "        text-align: right;\n",
       "    }\n",
       "</style>\n",
       "<table border=\"1\" class=\"dataframe\">\n",
       "  <thead>\n",
       "    <tr style=\"text-align: right;\">\n",
       "      <th>gate_id</th>\n",
       "      <th>0</th>\n",
       "      <th>16</th>\n",
       "      <th>1</th>\n",
       "      <th>8</th>\n",
       "      <th>-1</th>\n",
       "      <th>15</th>\n",
       "      <th>12</th>\n",
       "      <th>9</th>\n",
       "      <th>13</th>\n",
       "      <th>6</th>\n",
       "      <th>7</th>\n",
       "      <th>11</th>\n",
       "      <th>5</th>\n",
       "      <th>10</th>\n",
       "      <th>3</th>\n",
       "      <th>4</th>\n",
       "    </tr>\n",
       "  </thead>\n",
       "  <tbody>\n",
       "    <tr>\n",
       "      <th>count</th>\n",
       "      <td>2</td>\n",
       "      <td>3</td>\n",
       "      <td>5</td>\n",
       "      <td>9</td>\n",
       "      <td>11</td>\n",
       "      <td>29</td>\n",
       "      <td>248</td>\n",
       "      <td>374</td>\n",
       "      <td>374</td>\n",
       "      <td>498</td>\n",
       "      <td>756</td>\n",
       "      <td>963</td>\n",
       "      <td>1041</td>\n",
       "      <td>1071</td>\n",
       "      <td>1597</td>\n",
       "      <td>2121</td>\n",
       "    </tr>\n",
       "  </tbody>\n",
       "</table>\n",
       "</div>"
      ],
      "text/plain": [
       "gate_id   0    16   1    8   -1    15   12   9    13   6    7    11    5   \\\n",
       "count      2    3    5    9   11   29  248  374  374  498  756  963  1041   \n",
       "\n",
       "gate_id    10    3     4   \n",
       "count    1071  1597  2121  "
      ]
     },
     "execution_count": 38,
     "metadata": {},
     "output_type": "execute_result"
    }
   ],
   "source": [
    "print(f'Количество турникетов в train: {len(df_train.gate_id.unique())}')\n",
    "# частота использования турникетов в train\n",
    "count_gate_id_train = df_train.gate_id.value_counts(ascending=True).to_frame()\n",
    "count_gate_id_train.T"
   ]
  },
  {
   "cell_type": "code",
   "execution_count": 39,
   "metadata": {},
   "outputs": [
    {
     "name": "stdout",
     "output_type": "stream",
     "text": [
      "Количество турникетов в test: 11\n"
     ]
    },
    {
     "data": {
      "text/html": [
       "<div>\n",
       "<style scoped>\n",
       "    .dataframe tbody tr th:only-of-type {\n",
       "        vertical-align: middle;\n",
       "    }\n",
       "\n",
       "    .dataframe tbody tr th {\n",
       "        vertical-align: top;\n",
       "    }\n",
       "\n",
       "    .dataframe thead th {\n",
       "        text-align: right;\n",
       "    }\n",
       "</style>\n",
       "<table border=\"1\" class=\"dataframe\">\n",
       "  <thead>\n",
       "    <tr style=\"text-align: right;\">\n",
       "      <th>gate_id</th>\n",
       "      <th>8</th>\n",
       "      <th>1</th>\n",
       "      <th>13</th>\n",
       "      <th>6</th>\n",
       "      <th>9</th>\n",
       "      <th>7</th>\n",
       "      <th>5</th>\n",
       "      <th>11</th>\n",
       "      <th>10</th>\n",
       "      <th>3</th>\n",
       "      <th>4</th>\n",
       "    </tr>\n",
       "  </thead>\n",
       "  <tbody>\n",
       "    <tr>\n",
       "      <th>count</th>\n",
       "      <td>1</td>\n",
       "      <td>1</td>\n",
       "      <td>2</td>\n",
       "      <td>41</td>\n",
       "      <td>56</td>\n",
       "      <td>95</td>\n",
       "      <td>104</td>\n",
       "      <td>128</td>\n",
       "      <td>134</td>\n",
       "      <td>198</td>\n",
       "      <td>250</td>\n",
       "    </tr>\n",
       "  </tbody>\n",
       "</table>\n",
       "</div>"
      ],
      "text/plain": [
       "gate_id  8   1   13  6   9   7    5    11   10   3    4 \n",
       "count     1   1   2  41  56  95  104  128  134  198  250"
      ]
     },
     "execution_count": 39,
     "metadata": {},
     "output_type": "execute_result"
    }
   ],
   "source": [
    "print(f'Количество турникетов в test: {len(df_test.gate_id.unique())}')\n",
    "# частота использования турникетов в test\n",
    "count_gate_id_test = df_test.gate_id.value_counts(ascending=True).to_frame()\n",
    "count_gate_id_test.T"
   ]
  },
  {
   "cell_type": "code",
   "execution_count": 40,
   "metadata": {},
   "outputs": [
    {
     "data": {
      "text/plain": [
       "{-1, 0, 12, 15, 16}"
      ]
     },
     "execution_count": 40,
     "metadata": {},
     "output_type": "execute_result"
    }
   ],
   "source": [
    "# id турникетов, которые есть в train, но нет в test\n",
    "set(df_train.gate_id.unique()) - set(df_test.gate_id.unique())"
   ]
  },
  {
   "cell_type": "code",
   "execution_count": 41,
   "metadata": {},
   "outputs": [
    {
     "data": {
      "text/plain": [
       "set()"
      ]
     },
     "execution_count": 41,
     "metadata": {},
     "output_type": "execute_result"
    }
   ],
   "source": [
    "# id турникетов, которые есть в test, но нет в train\n",
    "set(df_test.gate_id.unique()) - set(df_train.gate_id.unique())"
   ]
  },
  {
   "cell_type": "markdown",
   "metadata": {},
   "source": [
    "Поскольку `gate_id` мы будем использовать в качестве признака, редкие категории (менее 5 записей) нужно удалить."
   ]
  },
  {
   "cell_type": "code",
   "execution_count": 42,
   "metadata": {},
   "outputs": [],
   "source": [
    "delete_gate_id = set(count_gate_id_train.query('count < 5').index) | set(count_gate_id_test.query('count < 5').index)\n",
    "delete_gate_id = [-1, 0, 1, 2, 14, 16]"
   ]
  },
  {
   "cell_type": "code",
   "execution_count": 43,
   "metadata": {},
   "outputs": [],
   "source": [
    "df_train = df_train.query('gate_id not in @delete_gate_id').reset_index(drop=True)\n",
    "df_test = df_test.query('gate_id not in @delete_gate_id').reset_index(drop=True)"
   ]
  },
  {
   "cell_type": "markdown",
   "metadata": {},
   "source": [
    "# Генерирование признаков"
   ]
  },
  {
   "cell_type": "code",
   "execution_count": 44,
   "metadata": {},
   "outputs": [],
   "source": [
    "def make_features(df):\n",
    "    df = df.loc[:]\n",
    "    # отсортируем датафрейм для удобства генерирования признаков\n",
    "    # потом отсортируем только по дате\n",
    "    df = df.sort_values(['user_id', 'ts']).reset_index(drop=True)\n",
    "    # временные признаки\n",
    "    df['date'] = df.ts.dt.normalize()\n",
    "    df['day_of_month'] = df.ts.dt.day\n",
    "    df['hour'] = df.ts.dt.hour\n",
    "    df['total_minutes'] = df.hour * 60 + df.ts.dt.minute\n",
    "    df['total_seconds'] = df.total_minutes * 60 + df.ts.dt.second\n",
    "    df['week_number'] = df.ts.dt.isocalendar().week             # неделя начинается с пн. Вспомогательный признак\n",
    "    df['day_of_week'] = df.ts.dt.dayofweek                      # 0 = пн.\n",
    "    df['is_weekend'] = df.day_of_week >= 5\n",
    "    df['time_of_day'] = np.select(\n",
    "            condlist=[df['hour'] < 6, df['hour'] < 12, df['hour'] < 18],\n",
    "            choicelist=['night', 'morning', 'afternoon'],\n",
    "            default='evening',\n",
    "    )       # время суток\n",
    "    df['is_month_start'] = df['ts'].dt.is_month_start\n",
    "    df['is_month_end'] = df['ts'].dt.is_month_end\n",
    "\n",
    "    # для удобства расчетов\n",
    "    grouped_data = df.groupby(['user_id', 'date'])\n",
    "    # число проходов сотрудником ч/з турникуты в день\n",
    "    df['pass_cnt_per_day'] = grouped_data['gate_id'].transform('size')\n",
    "    # число проходов через конкретный турникет в конкретный день\n",
    "    df['daily_gate_pass_count'] = df.groupby(['user_id', 'date', 'gate_id'])['gate_id'].transform('size')\n",
    "    # вероятность прохода через конкретный турникет в конкретный день\n",
    "    df['probability_gate_id'] = df['daily_gate_pass_count'] / df['pass_cnt_per_day']\n",
    "    # количество сотрудников, вошедших в конкретный день в здание\n",
    "    df['cnt_users_per_day'] = df.groupby('date')['user_id'].transform('nunique')\n",
    "    # количество сотрудников, вошедших в конкретную неделю в здание\n",
    "    df['cnt_users_per_week'] = df.groupby('week_number')['user_id'].transform('nunique')\n",
    "    # индекс дневной явки сотрудника\n",
    "    df['daily_attendance_index'] = df['cnt_users_per_day'] / df['cnt_users_per_week']\n",
    "    # количество дней в конкретную неделю, в которые сотрудник заходил в здание\n",
    "    df['cnt_days_per_week'] = df.groupby(['user_id', 'week_number'])['date'].transform('nunique')\n",
    "\n",
    "    # время прихода на работу (количество минут от полуночи)\n",
    "    df['entry_time'] = grouped_data['ts'].transform('min')\n",
    "    df['entry_time'] = ((df['entry_time'] - df['date']).dt.total_seconds() // 60).astype('int')\n",
    "    # время ухода с работы (количество минут от полуночи)\n",
    "    df['exit_time'] = grouped_data['ts'].transform('max')\n",
    "    df['exit_time'] = ((df['exit_time'] - df['date']).dt.total_seconds() // 60).astype('int')   # Вспомогательный признак\n",
    "    # продолжительность рабочего времени в минутах\n",
    "    df['working_time_per_day'] = df['exit_time'] - df['entry_time']\n",
    "    # турникет, через который сотрудник зашел в здание в конкретный день\n",
    "    df['entrance_gate_id'] = grouped_data['gate_id'].transform('first')\n",
    "    # турникет, через который сотрудник вышел из здания в конкретный день\n",
    "    df['exit_gate_id'] = grouped_data['gate_id'].transform('last')\n",
    "    # продолжительность рабочего времени за неделю в минутах (working_time_per_week)\n",
    "    df_working_time_per_week = df.groupby(['user_id', 'date'], as_index=False)[['week_number', 'working_time_per_day']].first()\n",
    "    df_working_time_per_week = df_working_time_per_week.groupby(['user_id', 'week_number'], as_index=False)['working_time_per_day'].sum()\n",
    "    df_working_time_per_week = df_working_time_per_week.rename(columns={'working_time_per_day': 'working_time_per_week'})\n",
    "    df = pd.merge(df, df_working_time_per_week, on=['user_id', 'week_number'], how='left')\n",
    "    # индекс дневной нагрузки сотрудника - отношение минут работы за день к минутам работы за неделю\n",
    "    df['daily_workload_index'] = df['working_time_per_day'] / df['working_time_per_week']\n",
    "    # на случай, когда working_time_per_day = 0 и working_time_per_week = 0\n",
    "    df['daily_workload_index'] = df['daily_workload_index'].fillna(0)\n",
    "\n",
    "    for i in range(1, 6):\n",
    "        # 5 предыдущих турникетов\n",
    "        df[f'gate_id_lag_{i}'] = grouped_data['gate_id'].shift(i, fill_value=-100)\n",
    "        # 5 последующих турникетов\n",
    "        df[f'gate_id_{i}'] = grouped_data['gate_id'].shift(-i, fill_value=-200)\n",
    "        # разница в секундах между текущей записью и пятью предыдущими\n",
    "        df[f'sec_btw_lag_{i}'] = df['total_seconds'] - grouped_data['total_seconds'].shift(i)\n",
    "        df[f'sec_btw_lag_{i}'] = df[f'sec_btw_lag_{i}'].fillna(-1000).astype('int')\n",
    "        # разница в секундах между текущей записью и пятью следующими\n",
    "        df[f'sec_btw_{i}'] = df['total_seconds'] - grouped_data['total_seconds'].shift(-i)\n",
    "        df[f'sec_btw_{i}'] = df[f'sec_btw_{i}'].fillna(1000).astype('int')\n",
    "\n",
    "    # метка gate_id, совпадающего с предыдущим, промежуток между срабатываниями равен 1 секунде\n",
    "    df['repeat_gate_1s'] = df['gate_id'].eq(df['gate_id_lag_1']) & df['sec_btw_lag_1'].eq(1)\n",
    "    # -//- 2 секундам\n",
    "    df['repeat_gate_2s'] = df['gate_id'].eq(df['gate_id_lag_1']) & df['sec_btw_lag_1'].eq(2)\n",
    "    # -//- 3 секундам\n",
    "    df['repeat_gate_3s'] = df['gate_id'].eq(df['gate_id_lag_1']) & df['sec_btw_lag_1'].eq(3)\n",
    "    # -//- 4 секундам\n",
    "    df['repeat_gate_4s'] = df['gate_id'].eq(df['gate_id_lag_1']) & df['sec_btw_lag_1'].eq(4)\n",
    "    # -//- от 5 секунд\n",
    "    df['repeat_gate_ge_5s'] = df['gate_id'].eq(df['gate_id_lag_1']) & df['sec_btw_lag_1'].ge(5)\n",
    "    # для удобства расчетов\n",
    "    grouped_data = df.groupby(['user_id', 'date'])\n",
    "    # количество повторных срабатываний турникетов для user_id в конкретный день, промежуток между срабатываниями равен 1 секунде\n",
    "    df['cnt_repeat_gate_1s'] = grouped_data['repeat_gate_1s'].transform('sum')\n",
    "    # -//- 2 секундам\n",
    "    df['cnt_repeat_gate_2s'] = grouped_data['repeat_gate_2s'].transform('sum')\n",
    "    # -//- 2 секундам\n",
    "    df['cnt_repeat_gate_3s'] = grouped_data['repeat_gate_3s'].transform('sum')\n",
    "    # -//- 2 секундам\n",
    "    df['cnt_repeat_gate_4s'] = grouped_data['repeat_gate_4s'].transform('sum')\n",
    "    # -//- от 5 секунд\n",
    "    df['cnt_repeat_gate_ge_5s'] = grouped_data['repeat_gate_ge_5s'].transform('sum')\n",
    "\n",
    "    # маршрут – содержит информацию о соседних турникетах, через которые прошел сотрудник (направление не учитывается)\n",
    "    df['route'] = df.apply(lambda row: str(sorted([row['gate_id_lag_1'], row['gate_id']])), axis=1)\n",
    "    # если сотрудник пришел с улицы\n",
    "    df.loc[df['route'].str.contains('-100'), 'route'] = 'not_route'\n",
    "\n",
    "    # вспомогательный признак\n",
    "    df['temp_sec_btw_lag_1'] = df['sec_btw_lag_1']\n",
    "    # если сотрудник пришел с улицы\n",
    "    df.loc[df['temp_sec_btw_lag_1'] < 0, 'temp_sec_btw_lag_1'] = 0\n",
    "    # накопленное время нахождения в здании к моменту прохода через турникет в течение дня\n",
    "    df['cumtime_per_day'] = df.groupby(['user_id', 'date'])['temp_sec_btw_lag_1'].cumsum()\n",
    "    # накопленное время нахождения на конкретном маршруте в течение дня\n",
    "    df['cumtime_at_route_per_day'] = df.groupby(['user_id', 'date', 'route'])['temp_sec_btw_lag_1'].cumsum()\n",
    "\n",
    "    # самый часто используемый турникет за день\n",
    "    df['most_frequent_gate_per_day'] = df.groupby(['user_id', 'date'])['gate_id'].transform(lambda x: x.value_counts().idxmax())\n",
    "    # самый часто используемый турникет за неделю\n",
    "    df['most_frequent_gate_per_week'] = df.groupby(['user_id', 'week_number'])['gate_id'].transform(lambda x: x.value_counts().idxmax())\n",
    "    # самый часто используемый маршрут за день\n",
    "    df['most_frequent_route_per_day'] = df.groupby(['user_id', 'date'])['route'].transform(lambda x: x.value_counts().idxmax())\n",
    "    # самый часто используемый маршрут за неделю\n",
    "    df['most_frequent_route_per_week'] = df.groupby(['user_id', 'week_number'])['route'].transform(lambda x: x.value_counts().idxmax())\n",
    "\n",
    "    # среднее время, затраченное на маршрут в течение недели\n",
    "    df['weekly_route_avg_time'] = df.groupby(['user_id', 'week_number', 'route'])['temp_sec_btw_lag_1'].transform('mean')\n",
    "    # среднее время, затраченное на маршрут\n",
    "    df['route_avg_time'] = df.groupby(['user_id', 'route'])['temp_sec_btw_lag_1'].transform('mean')\n",
    "\n",
    "    return df"
   ]
  },
  {
   "cell_type": "code",
   "execution_count": 45,
   "metadata": {},
   "outputs": [
    {
     "data": {
      "text/html": [
       "<div>\n",
       "<style scoped>\n",
       "    .dataframe tbody tr th:only-of-type {\n",
       "        vertical-align: middle;\n",
       "    }\n",
       "\n",
       "    .dataframe tbody tr th {\n",
       "        vertical-align: top;\n",
       "    }\n",
       "\n",
       "    .dataframe thead th {\n",
       "        text-align: right;\n",
       "    }\n",
       "</style>\n",
       "<table border=\"1\" class=\"dataframe\">\n",
       "  <thead>\n",
       "    <tr style=\"text-align: right;\">\n",
       "      <th></th>\n",
       "      <th>user_id</th>\n",
       "      <th>ts</th>\n",
       "      <th>gate_id</th>\n",
       "      <th>date</th>\n",
       "      <th>day_of_month</th>\n",
       "      <th>hour</th>\n",
       "      <th>total_minutes</th>\n",
       "      <th>total_seconds</th>\n",
       "      <th>week_number</th>\n",
       "      <th>day_of_week</th>\n",
       "      <th>is_weekend</th>\n",
       "      <th>time_of_day</th>\n",
       "      <th>is_month_start</th>\n",
       "      <th>is_month_end</th>\n",
       "      <th>pass_cnt_per_day</th>\n",
       "      <th>daily_gate_pass_count</th>\n",
       "      <th>probability_gate_id</th>\n",
       "      <th>cnt_users_per_day</th>\n",
       "      <th>cnt_users_per_week</th>\n",
       "      <th>daily_attendance_index</th>\n",
       "      <th>cnt_days_per_week</th>\n",
       "      <th>entry_time</th>\n",
       "      <th>exit_time</th>\n",
       "      <th>working_time_per_day</th>\n",
       "      <th>entrance_gate_id</th>\n",
       "      <th>exit_gate_id</th>\n",
       "      <th>working_time_per_week</th>\n",
       "      <th>daily_workload_index</th>\n",
       "      <th>gate_id_lag_1</th>\n",
       "      <th>gate_id_1</th>\n",
       "      <th>sec_btw_lag_1</th>\n",
       "      <th>sec_btw_1</th>\n",
       "      <th>gate_id_lag_2</th>\n",
       "      <th>gate_id_2</th>\n",
       "      <th>sec_btw_lag_2</th>\n",
       "      <th>sec_btw_2</th>\n",
       "      <th>gate_id_lag_3</th>\n",
       "      <th>gate_id_3</th>\n",
       "      <th>sec_btw_lag_3</th>\n",
       "      <th>sec_btw_3</th>\n",
       "      <th>gate_id_lag_4</th>\n",
       "      <th>gate_id_4</th>\n",
       "      <th>sec_btw_lag_4</th>\n",
       "      <th>sec_btw_4</th>\n",
       "      <th>gate_id_lag_5</th>\n",
       "      <th>gate_id_5</th>\n",
       "      <th>sec_btw_lag_5</th>\n",
       "      <th>sec_btw_5</th>\n",
       "      <th>repeat_gate_1s</th>\n",
       "      <th>repeat_gate_2s</th>\n",
       "      <th>repeat_gate_3s</th>\n",
       "      <th>repeat_gate_4s</th>\n",
       "      <th>repeat_gate_ge_5s</th>\n",
       "      <th>cnt_repeat_gate_1s</th>\n",
       "      <th>cnt_repeat_gate_2s</th>\n",
       "      <th>cnt_repeat_gate_3s</th>\n",
       "      <th>cnt_repeat_gate_4s</th>\n",
       "      <th>cnt_repeat_gate_ge_5s</th>\n",
       "      <th>route</th>\n",
       "      <th>temp_sec_btw_lag_1</th>\n",
       "      <th>cumtime_per_day</th>\n",
       "      <th>cumtime_at_route_per_day</th>\n",
       "      <th>most_frequent_gate_per_day</th>\n",
       "      <th>most_frequent_gate_per_week</th>\n",
       "      <th>most_frequent_route_per_day</th>\n",
       "      <th>most_frequent_route_per_week</th>\n",
       "      <th>weekly_route_avg_time</th>\n",
       "      <th>route_avg_time</th>\n",
       "    </tr>\n",
       "  </thead>\n",
       "  <tbody>\n",
       "    <tr>\n",
       "      <th>0</th>\n",
       "      <td>2</td>\n",
       "      <td>2022-12-28 14:22:24</td>\n",
       "      <td>5</td>\n",
       "      <td>2022-12-28</td>\n",
       "      <td>28</td>\n",
       "      <td>14</td>\n",
       "      <td>862</td>\n",
       "      <td>51744</td>\n",
       "      <td>52</td>\n",
       "      <td>2</td>\n",
       "      <td>False</td>\n",
       "      <td>afternoon</td>\n",
       "      <td>False</td>\n",
       "      <td>False</td>\n",
       "      <td>11</td>\n",
       "      <td>2</td>\n",
       "      <td>0.18</td>\n",
       "      <td>5</td>\n",
       "      <td>6</td>\n",
       "      <td>0.83</td>\n",
       "      <td>3</td>\n",
       "      <td>862</td>\n",
       "      <td>1131</td>\n",
       "      <td>269</td>\n",
       "      <td>5</td>\n",
       "      <td>4</td>\n",
       "      <td>1321</td>\n",
       "      <td>0.20</td>\n",
       "      <td>-100</td>\n",
       "      <td>5</td>\n",
       "      <td>-1000</td>\n",
       "      <td>-2</td>\n",
       "      <td>-100</td>\n",
       "      <td>4</td>\n",
       "      <td>-1000</td>\n",
       "      <td>-17</td>\n",
       "      <td>-100</td>\n",
       "      <td>4</td>\n",
       "      <td>-1000</td>\n",
       "      <td>-19</td>\n",
       "      <td>-100</td>\n",
       "      <td>3</td>\n",
       "      <td>-1000</td>\n",
       "      <td>-7896</td>\n",
       "      <td>-100</td>\n",
       "      <td>3</td>\n",
       "      <td>-1000</td>\n",
       "      <td>-7898</td>\n",
       "      <td>False</td>\n",
       "      <td>False</td>\n",
       "      <td>False</td>\n",
       "      <td>False</td>\n",
       "      <td>False</td>\n",
       "      <td>1</td>\n",
       "      <td>3</td>\n",
       "      <td>0</td>\n",
       "      <td>0</td>\n",
       "      <td>1</td>\n",
       "      <td>not_route</td>\n",
       "      <td>0</td>\n",
       "      <td>0</td>\n",
       "      <td>0</td>\n",
       "      <td>4</td>\n",
       "      <td>4</td>\n",
       "      <td>[4, 4]</td>\n",
       "      <td>[4, 4]</td>\n",
       "      <td>0.00</td>\n",
       "      <td>0.00</td>\n",
       "    </tr>\n",
       "    <tr>\n",
       "      <th>1</th>\n",
       "      <td>2</td>\n",
       "      <td>2022-12-28 14:22:26</td>\n",
       "      <td>5</td>\n",
       "      <td>2022-12-28</td>\n",
       "      <td>28</td>\n",
       "      <td>14</td>\n",
       "      <td>862</td>\n",
       "      <td>51746</td>\n",
       "      <td>52</td>\n",
       "      <td>2</td>\n",
       "      <td>False</td>\n",
       "      <td>afternoon</td>\n",
       "      <td>False</td>\n",
       "      <td>False</td>\n",
       "      <td>11</td>\n",
       "      <td>2</td>\n",
       "      <td>0.18</td>\n",
       "      <td>5</td>\n",
       "      <td>6</td>\n",
       "      <td>0.83</td>\n",
       "      <td>3</td>\n",
       "      <td>862</td>\n",
       "      <td>1131</td>\n",
       "      <td>269</td>\n",
       "      <td>5</td>\n",
       "      <td>4</td>\n",
       "      <td>1321</td>\n",
       "      <td>0.20</td>\n",
       "      <td>5</td>\n",
       "      <td>4</td>\n",
       "      <td>2</td>\n",
       "      <td>-15</td>\n",
       "      <td>-100</td>\n",
       "      <td>4</td>\n",
       "      <td>-1000</td>\n",
       "      <td>-17</td>\n",
       "      <td>-100</td>\n",
       "      <td>3</td>\n",
       "      <td>-1000</td>\n",
       "      <td>-7894</td>\n",
       "      <td>-100</td>\n",
       "      <td>3</td>\n",
       "      <td>-1000</td>\n",
       "      <td>-7896</td>\n",
       "      <td>-100</td>\n",
       "      <td>10</td>\n",
       "      <td>-1000</td>\n",
       "      <td>-7911</td>\n",
       "      <td>False</td>\n",
       "      <td>True</td>\n",
       "      <td>False</td>\n",
       "      <td>False</td>\n",
       "      <td>False</td>\n",
       "      <td>1</td>\n",
       "      <td>3</td>\n",
       "      <td>0</td>\n",
       "      <td>0</td>\n",
       "      <td>1</td>\n",
       "      <td>[5, 5]</td>\n",
       "      <td>2</td>\n",
       "      <td>2</td>\n",
       "      <td>2</td>\n",
       "      <td>4</td>\n",
       "      <td>4</td>\n",
       "      <td>[4, 4]</td>\n",
       "      <td>[4, 4]</td>\n",
       "      <td>1.40</td>\n",
       "      <td>1.40</td>\n",
       "    </tr>\n",
       "    <tr>\n",
       "      <th>2</th>\n",
       "      <td>2</td>\n",
       "      <td>2022-12-28 14:22:41</td>\n",
       "      <td>4</td>\n",
       "      <td>2022-12-28</td>\n",
       "      <td>28</td>\n",
       "      <td>14</td>\n",
       "      <td>862</td>\n",
       "      <td>51761</td>\n",
       "      <td>52</td>\n",
       "      <td>2</td>\n",
       "      <td>False</td>\n",
       "      <td>afternoon</td>\n",
       "      <td>False</td>\n",
       "      <td>False</td>\n",
       "      <td>11</td>\n",
       "      <td>4</td>\n",
       "      <td>0.36</td>\n",
       "      <td>5</td>\n",
       "      <td>6</td>\n",
       "      <td>0.83</td>\n",
       "      <td>3</td>\n",
       "      <td>862</td>\n",
       "      <td>1131</td>\n",
       "      <td>269</td>\n",
       "      <td>5</td>\n",
       "      <td>4</td>\n",
       "      <td>1321</td>\n",
       "      <td>0.20</td>\n",
       "      <td>5</td>\n",
       "      <td>4</td>\n",
       "      <td>15</td>\n",
       "      <td>-2</td>\n",
       "      <td>5</td>\n",
       "      <td>3</td>\n",
       "      <td>17</td>\n",
       "      <td>-7879</td>\n",
       "      <td>-100</td>\n",
       "      <td>3</td>\n",
       "      <td>-1000</td>\n",
       "      <td>-7881</td>\n",
       "      <td>-100</td>\n",
       "      <td>10</td>\n",
       "      <td>-1000</td>\n",
       "      <td>-7896</td>\n",
       "      <td>-100</td>\n",
       "      <td>10</td>\n",
       "      <td>-1000</td>\n",
       "      <td>-7915</td>\n",
       "      <td>False</td>\n",
       "      <td>False</td>\n",
       "      <td>False</td>\n",
       "      <td>False</td>\n",
       "      <td>False</td>\n",
       "      <td>1</td>\n",
       "      <td>3</td>\n",
       "      <td>0</td>\n",
       "      <td>0</td>\n",
       "      <td>1</td>\n",
       "      <td>[4, 5]</td>\n",
       "      <td>15</td>\n",
       "      <td>17</td>\n",
       "      <td>15</td>\n",
       "      <td>4</td>\n",
       "      <td>4</td>\n",
       "      <td>[4, 4]</td>\n",
       "      <td>[4, 4]</td>\n",
       "      <td>15.00</td>\n",
       "      <td>15.00</td>\n",
       "    </tr>\n",
       "  </tbody>\n",
       "</table>\n",
       "</div>"
      ],
      "text/plain": [
       "   user_id                  ts  gate_id       date  day_of_month  hour  \\\n",
       "0        2 2022-12-28 14:22:24        5 2022-12-28            28    14   \n",
       "1        2 2022-12-28 14:22:26        5 2022-12-28            28    14   \n",
       "2        2 2022-12-28 14:22:41        4 2022-12-28            28    14   \n",
       "\n",
       "   total_minutes  total_seconds  week_number  day_of_week  is_weekend  \\\n",
       "0            862          51744           52            2       False   \n",
       "1            862          51746           52            2       False   \n",
       "2            862          51761           52            2       False   \n",
       "\n",
       "  time_of_day  is_month_start  is_month_end  pass_cnt_per_day  \\\n",
       "0   afternoon           False         False                11   \n",
       "1   afternoon           False         False                11   \n",
       "2   afternoon           False         False                11   \n",
       "\n",
       "   daily_gate_pass_count  probability_gate_id  cnt_users_per_day  \\\n",
       "0                      2                 0.18                  5   \n",
       "1                      2                 0.18                  5   \n",
       "2                      4                 0.36                  5   \n",
       "\n",
       "   cnt_users_per_week  daily_attendance_index  cnt_days_per_week  entry_time  \\\n",
       "0                   6                    0.83                  3         862   \n",
       "1                   6                    0.83                  3         862   \n",
       "2                   6                    0.83                  3         862   \n",
       "\n",
       "   exit_time  working_time_per_day  entrance_gate_id  exit_gate_id  \\\n",
       "0       1131                   269                 5             4   \n",
       "1       1131                   269                 5             4   \n",
       "2       1131                   269                 5             4   \n",
       "\n",
       "   working_time_per_week  daily_workload_index  gate_id_lag_1  gate_id_1  \\\n",
       "0                   1321                  0.20           -100          5   \n",
       "1                   1321                  0.20              5          4   \n",
       "2                   1321                  0.20              5          4   \n",
       "\n",
       "   sec_btw_lag_1  sec_btw_1  gate_id_lag_2  gate_id_2  sec_btw_lag_2  \\\n",
       "0          -1000         -2           -100          4          -1000   \n",
       "1              2        -15           -100          4          -1000   \n",
       "2             15         -2              5          3             17   \n",
       "\n",
       "   sec_btw_2  gate_id_lag_3  gate_id_3  sec_btw_lag_3  sec_btw_3  \\\n",
       "0        -17           -100          4          -1000        -19   \n",
       "1        -17           -100          3          -1000      -7894   \n",
       "2      -7879           -100          3          -1000      -7881   \n",
       "\n",
       "   gate_id_lag_4  gate_id_4  sec_btw_lag_4  sec_btw_4  gate_id_lag_5  \\\n",
       "0           -100          3          -1000      -7896           -100   \n",
       "1           -100          3          -1000      -7896           -100   \n",
       "2           -100         10          -1000      -7896           -100   \n",
       "\n",
       "   gate_id_5  sec_btw_lag_5  sec_btw_5  repeat_gate_1s  repeat_gate_2s  \\\n",
       "0          3          -1000      -7898           False           False   \n",
       "1         10          -1000      -7911           False            True   \n",
       "2         10          -1000      -7915           False           False   \n",
       "\n",
       "   repeat_gate_3s  repeat_gate_4s  repeat_gate_ge_5s  cnt_repeat_gate_1s  \\\n",
       "0           False           False              False                   1   \n",
       "1           False           False              False                   1   \n",
       "2           False           False              False                   1   \n",
       "\n",
       "   cnt_repeat_gate_2s  cnt_repeat_gate_3s  cnt_repeat_gate_4s  \\\n",
       "0                   3                   0                   0   \n",
       "1                   3                   0                   0   \n",
       "2                   3                   0                   0   \n",
       "\n",
       "   cnt_repeat_gate_ge_5s      route  temp_sec_btw_lag_1  cumtime_per_day  \\\n",
       "0                      1  not_route                   0                0   \n",
       "1                      1     [5, 5]                   2                2   \n",
       "2                      1     [4, 5]                  15               17   \n",
       "\n",
       "   cumtime_at_route_per_day  most_frequent_gate_per_day  \\\n",
       "0                         0                           4   \n",
       "1                         2                           4   \n",
       "2                        15                           4   \n",
       "\n",
       "   most_frequent_gate_per_week most_frequent_route_per_day  \\\n",
       "0                            4                      [4, 4]   \n",
       "1                            4                      [4, 4]   \n",
       "2                            4                      [4, 4]   \n",
       "\n",
       "  most_frequent_route_per_week  weekly_route_avg_time  route_avg_time  \n",
       "0                       [4, 4]                   0.00            0.00  \n",
       "1                       [4, 4]                   1.40            1.40  \n",
       "2                       [4, 4]                  15.00           15.00  "
      ]
     },
     "execution_count": 45,
     "metadata": {},
     "output_type": "execute_result"
    }
   ],
   "source": [
    "df_train = make_features(df_train)\n",
    "df_train.head(3)"
   ]
  },
  {
   "cell_type": "code",
   "execution_count": 46,
   "metadata": {},
   "outputs": [
    {
     "data": {
      "text/plain": [
       "(9081, 68)"
      ]
     },
     "execution_count": 46,
     "metadata": {},
     "output_type": "execute_result"
    }
   ],
   "source": [
    "df_train.shape"
   ]
  },
  {
   "cell_type": "code",
   "execution_count": 47,
   "metadata": {},
   "outputs": [
    {
     "data": {
      "text/html": [
       "<div>\n",
       "<style scoped>\n",
       "    .dataframe tbody tr th:only-of-type {\n",
       "        vertical-align: middle;\n",
       "    }\n",
       "\n",
       "    .dataframe tbody tr th {\n",
       "        vertical-align: top;\n",
       "    }\n",
       "\n",
       "    .dataframe thead th {\n",
       "        text-align: right;\n",
       "    }\n",
       "</style>\n",
       "<table border=\"1\" class=\"dataframe\">\n",
       "  <thead>\n",
       "    <tr style=\"text-align: right;\">\n",
       "      <th></th>\n",
       "      <th>ts</th>\n",
       "      <th>gate_id</th>\n",
       "      <th>user_id</th>\n",
       "      <th>date</th>\n",
       "      <th>day_of_month</th>\n",
       "      <th>hour</th>\n",
       "      <th>total_minutes</th>\n",
       "      <th>total_seconds</th>\n",
       "      <th>week_number</th>\n",
       "      <th>day_of_week</th>\n",
       "      <th>is_weekend</th>\n",
       "      <th>time_of_day</th>\n",
       "      <th>is_month_start</th>\n",
       "      <th>is_month_end</th>\n",
       "      <th>pass_cnt_per_day</th>\n",
       "      <th>daily_gate_pass_count</th>\n",
       "      <th>probability_gate_id</th>\n",
       "      <th>cnt_users_per_day</th>\n",
       "      <th>cnt_users_per_week</th>\n",
       "      <th>daily_attendance_index</th>\n",
       "      <th>cnt_days_per_week</th>\n",
       "      <th>entry_time</th>\n",
       "      <th>exit_time</th>\n",
       "      <th>working_time_per_day</th>\n",
       "      <th>entrance_gate_id</th>\n",
       "      <th>exit_gate_id</th>\n",
       "      <th>working_time_per_week</th>\n",
       "      <th>daily_workload_index</th>\n",
       "      <th>gate_id_lag_1</th>\n",
       "      <th>gate_id_1</th>\n",
       "      <th>sec_btw_lag_1</th>\n",
       "      <th>sec_btw_1</th>\n",
       "      <th>gate_id_lag_2</th>\n",
       "      <th>gate_id_2</th>\n",
       "      <th>sec_btw_lag_2</th>\n",
       "      <th>sec_btw_2</th>\n",
       "      <th>gate_id_lag_3</th>\n",
       "      <th>gate_id_3</th>\n",
       "      <th>sec_btw_lag_3</th>\n",
       "      <th>sec_btw_3</th>\n",
       "      <th>gate_id_lag_4</th>\n",
       "      <th>gate_id_4</th>\n",
       "      <th>sec_btw_lag_4</th>\n",
       "      <th>sec_btw_4</th>\n",
       "      <th>gate_id_lag_5</th>\n",
       "      <th>gate_id_5</th>\n",
       "      <th>sec_btw_lag_5</th>\n",
       "      <th>sec_btw_5</th>\n",
       "      <th>repeat_gate_1s</th>\n",
       "      <th>repeat_gate_2s</th>\n",
       "      <th>repeat_gate_3s</th>\n",
       "      <th>repeat_gate_4s</th>\n",
       "      <th>repeat_gate_ge_5s</th>\n",
       "      <th>cnt_repeat_gate_1s</th>\n",
       "      <th>cnt_repeat_gate_2s</th>\n",
       "      <th>cnt_repeat_gate_3s</th>\n",
       "      <th>cnt_repeat_gate_4s</th>\n",
       "      <th>cnt_repeat_gate_ge_5s</th>\n",
       "      <th>route</th>\n",
       "      <th>temp_sec_btw_lag_1</th>\n",
       "      <th>cumtime_per_day</th>\n",
       "      <th>cumtime_at_route_per_day</th>\n",
       "      <th>most_frequent_gate_per_day</th>\n",
       "      <th>most_frequent_gate_per_week</th>\n",
       "      <th>most_frequent_route_per_day</th>\n",
       "      <th>most_frequent_route_per_week</th>\n",
       "      <th>weekly_route_avg_time</th>\n",
       "      <th>route_avg_time</th>\n",
       "    </tr>\n",
       "  </thead>\n",
       "  <tbody>\n",
       "    <tr>\n",
       "      <th>0</th>\n",
       "      <td>2023-01-03 12:58:57</td>\n",
       "      <td>5</td>\n",
       "      <td>blue</td>\n",
       "      <td>2023-01-03</td>\n",
       "      <td>3</td>\n",
       "      <td>12</td>\n",
       "      <td>778</td>\n",
       "      <td>46737</td>\n",
       "      <td>1</td>\n",
       "      <td>1</td>\n",
       "      <td>False</td>\n",
       "      <td>afternoon</td>\n",
       "      <td>False</td>\n",
       "      <td>False</td>\n",
       "      <td>7</td>\n",
       "      <td>3</td>\n",
       "      <td>0.43</td>\n",
       "      <td>7</td>\n",
       "      <td>7</td>\n",
       "      <td>1.00</td>\n",
       "      <td>2</td>\n",
       "      <td>778</td>\n",
       "      <td>785</td>\n",
       "      <td>7</td>\n",
       "      <td>5</td>\n",
       "      <td>4</td>\n",
       "      <td>23</td>\n",
       "      <td>0.30</td>\n",
       "      <td>-100</td>\n",
       "      <td>5</td>\n",
       "      <td>-1000</td>\n",
       "      <td>-9</td>\n",
       "      <td>-100</td>\n",
       "      <td>5</td>\n",
       "      <td>-1000</td>\n",
       "      <td>-12</td>\n",
       "      <td>-100</td>\n",
       "      <td>10</td>\n",
       "      <td>-1000</td>\n",
       "      <td>-107</td>\n",
       "      <td>-100</td>\n",
       "      <td>11</td>\n",
       "      <td>-1000</td>\n",
       "      <td>-353</td>\n",
       "      <td>-100</td>\n",
       "      <td>4</td>\n",
       "      <td>-1000</td>\n",
       "      <td>-381</td>\n",
       "      <td>False</td>\n",
       "      <td>False</td>\n",
       "      <td>False</td>\n",
       "      <td>False</td>\n",
       "      <td>False</td>\n",
       "      <td>1</td>\n",
       "      <td>0</td>\n",
       "      <td>1</td>\n",
       "      <td>0</td>\n",
       "      <td>1</td>\n",
       "      <td>not_route</td>\n",
       "      <td>0</td>\n",
       "      <td>0</td>\n",
       "      <td>0</td>\n",
       "      <td>5</td>\n",
       "      <td>5</td>\n",
       "      <td>[5, 5]</td>\n",
       "      <td>not_route</td>\n",
       "      <td>0.00</td>\n",
       "      <td>0.00</td>\n",
       "    </tr>\n",
       "    <tr>\n",
       "      <th>1</th>\n",
       "      <td>2023-01-03 12:59:06</td>\n",
       "      <td>5</td>\n",
       "      <td>blue</td>\n",
       "      <td>2023-01-03</td>\n",
       "      <td>3</td>\n",
       "      <td>12</td>\n",
       "      <td>779</td>\n",
       "      <td>46746</td>\n",
       "      <td>1</td>\n",
       "      <td>1</td>\n",
       "      <td>False</td>\n",
       "      <td>afternoon</td>\n",
       "      <td>False</td>\n",
       "      <td>False</td>\n",
       "      <td>7</td>\n",
       "      <td>3</td>\n",
       "      <td>0.43</td>\n",
       "      <td>7</td>\n",
       "      <td>7</td>\n",
       "      <td>1.00</td>\n",
       "      <td>2</td>\n",
       "      <td>778</td>\n",
       "      <td>785</td>\n",
       "      <td>7</td>\n",
       "      <td>5</td>\n",
       "      <td>4</td>\n",
       "      <td>23</td>\n",
       "      <td>0.30</td>\n",
       "      <td>5</td>\n",
       "      <td>5</td>\n",
       "      <td>9</td>\n",
       "      <td>-3</td>\n",
       "      <td>-100</td>\n",
       "      <td>10</td>\n",
       "      <td>-1000</td>\n",
       "      <td>-98</td>\n",
       "      <td>-100</td>\n",
       "      <td>11</td>\n",
       "      <td>-1000</td>\n",
       "      <td>-344</td>\n",
       "      <td>-100</td>\n",
       "      <td>4</td>\n",
       "      <td>-1000</td>\n",
       "      <td>-372</td>\n",
       "      <td>-100</td>\n",
       "      <td>4</td>\n",
       "      <td>-1000</td>\n",
       "      <td>-373</td>\n",
       "      <td>False</td>\n",
       "      <td>False</td>\n",
       "      <td>False</td>\n",
       "      <td>False</td>\n",
       "      <td>True</td>\n",
       "      <td>1</td>\n",
       "      <td>0</td>\n",
       "      <td>1</td>\n",
       "      <td>0</td>\n",
       "      <td>1</td>\n",
       "      <td>[5, 5]</td>\n",
       "      <td>9</td>\n",
       "      <td>9</td>\n",
       "      <td>9</td>\n",
       "      <td>5</td>\n",
       "      <td>5</td>\n",
       "      <td>[5, 5]</td>\n",
       "      <td>not_route</td>\n",
       "      <td>6.00</td>\n",
       "      <td>6.00</td>\n",
       "    </tr>\n",
       "    <tr>\n",
       "      <th>2</th>\n",
       "      <td>2023-01-03 12:59:09</td>\n",
       "      <td>5</td>\n",
       "      <td>blue</td>\n",
       "      <td>2023-01-03</td>\n",
       "      <td>3</td>\n",
       "      <td>12</td>\n",
       "      <td>779</td>\n",
       "      <td>46749</td>\n",
       "      <td>1</td>\n",
       "      <td>1</td>\n",
       "      <td>False</td>\n",
       "      <td>afternoon</td>\n",
       "      <td>False</td>\n",
       "      <td>False</td>\n",
       "      <td>7</td>\n",
       "      <td>3</td>\n",
       "      <td>0.43</td>\n",
       "      <td>7</td>\n",
       "      <td>7</td>\n",
       "      <td>1.00</td>\n",
       "      <td>2</td>\n",
       "      <td>778</td>\n",
       "      <td>785</td>\n",
       "      <td>7</td>\n",
       "      <td>5</td>\n",
       "      <td>4</td>\n",
       "      <td>23</td>\n",
       "      <td>0.30</td>\n",
       "      <td>5</td>\n",
       "      <td>10</td>\n",
       "      <td>3</td>\n",
       "      <td>-95</td>\n",
       "      <td>5</td>\n",
       "      <td>11</td>\n",
       "      <td>12</td>\n",
       "      <td>-341</td>\n",
       "      <td>-100</td>\n",
       "      <td>4</td>\n",
       "      <td>-1000</td>\n",
       "      <td>-369</td>\n",
       "      <td>-100</td>\n",
       "      <td>4</td>\n",
       "      <td>-1000</td>\n",
       "      <td>-370</td>\n",
       "      <td>-100</td>\n",
       "      <td>-200</td>\n",
       "      <td>-1000</td>\n",
       "      <td>1000</td>\n",
       "      <td>False</td>\n",
       "      <td>False</td>\n",
       "      <td>True</td>\n",
       "      <td>False</td>\n",
       "      <td>False</td>\n",
       "      <td>1</td>\n",
       "      <td>0</td>\n",
       "      <td>1</td>\n",
       "      <td>0</td>\n",
       "      <td>1</td>\n",
       "      <td>[5, 5]</td>\n",
       "      <td>3</td>\n",
       "      <td>12</td>\n",
       "      <td>12</td>\n",
       "      <td>5</td>\n",
       "      <td>5</td>\n",
       "      <td>[5, 5]</td>\n",
       "      <td>not_route</td>\n",
       "      <td>6.00</td>\n",
       "      <td>6.00</td>\n",
       "    </tr>\n",
       "  </tbody>\n",
       "</table>\n",
       "</div>"
      ],
      "text/plain": [
       "                   ts  gate_id user_id       date  day_of_month  hour  \\\n",
       "0 2023-01-03 12:58:57        5    blue 2023-01-03             3    12   \n",
       "1 2023-01-03 12:59:06        5    blue 2023-01-03             3    12   \n",
       "2 2023-01-03 12:59:09        5    blue 2023-01-03             3    12   \n",
       "\n",
       "   total_minutes  total_seconds  week_number  day_of_week  is_weekend  \\\n",
       "0            778          46737            1            1       False   \n",
       "1            779          46746            1            1       False   \n",
       "2            779          46749            1            1       False   \n",
       "\n",
       "  time_of_day  is_month_start  is_month_end  pass_cnt_per_day  \\\n",
       "0   afternoon           False         False                 7   \n",
       "1   afternoon           False         False                 7   \n",
       "2   afternoon           False         False                 7   \n",
       "\n",
       "   daily_gate_pass_count  probability_gate_id  cnt_users_per_day  \\\n",
       "0                      3                 0.43                  7   \n",
       "1                      3                 0.43                  7   \n",
       "2                      3                 0.43                  7   \n",
       "\n",
       "   cnt_users_per_week  daily_attendance_index  cnt_days_per_week  entry_time  \\\n",
       "0                   7                    1.00                  2         778   \n",
       "1                   7                    1.00                  2         778   \n",
       "2                   7                    1.00                  2         778   \n",
       "\n",
       "   exit_time  working_time_per_day  entrance_gate_id  exit_gate_id  \\\n",
       "0        785                     7                 5             4   \n",
       "1        785                     7                 5             4   \n",
       "2        785                     7                 5             4   \n",
       "\n",
       "   working_time_per_week  daily_workload_index  gate_id_lag_1  gate_id_1  \\\n",
       "0                     23                  0.30           -100          5   \n",
       "1                     23                  0.30              5          5   \n",
       "2                     23                  0.30              5         10   \n",
       "\n",
       "   sec_btw_lag_1  sec_btw_1  gate_id_lag_2  gate_id_2  sec_btw_lag_2  \\\n",
       "0          -1000         -9           -100          5          -1000   \n",
       "1              9         -3           -100         10          -1000   \n",
       "2              3        -95              5         11             12   \n",
       "\n",
       "   sec_btw_2  gate_id_lag_3  gate_id_3  sec_btw_lag_3  sec_btw_3  \\\n",
       "0        -12           -100         10          -1000       -107   \n",
       "1        -98           -100         11          -1000       -344   \n",
       "2       -341           -100          4          -1000       -369   \n",
       "\n",
       "   gate_id_lag_4  gate_id_4  sec_btw_lag_4  sec_btw_4  gate_id_lag_5  \\\n",
       "0           -100         11          -1000       -353           -100   \n",
       "1           -100          4          -1000       -372           -100   \n",
       "2           -100          4          -1000       -370           -100   \n",
       "\n",
       "   gate_id_5  sec_btw_lag_5  sec_btw_5  repeat_gate_1s  repeat_gate_2s  \\\n",
       "0          4          -1000       -381           False           False   \n",
       "1          4          -1000       -373           False           False   \n",
       "2       -200          -1000       1000           False           False   \n",
       "\n",
       "   repeat_gate_3s  repeat_gate_4s  repeat_gate_ge_5s  cnt_repeat_gate_1s  \\\n",
       "0           False           False              False                   1   \n",
       "1           False           False               True                   1   \n",
       "2            True           False              False                   1   \n",
       "\n",
       "   cnt_repeat_gate_2s  cnt_repeat_gate_3s  cnt_repeat_gate_4s  \\\n",
       "0                   0                   1                   0   \n",
       "1                   0                   1                   0   \n",
       "2                   0                   1                   0   \n",
       "\n",
       "   cnt_repeat_gate_ge_5s      route  temp_sec_btw_lag_1  cumtime_per_day  \\\n",
       "0                      1  not_route                   0                0   \n",
       "1                      1     [5, 5]                   9                9   \n",
       "2                      1     [5, 5]                   3               12   \n",
       "\n",
       "   cumtime_at_route_per_day  most_frequent_gate_per_day  \\\n",
       "0                         0                           5   \n",
       "1                         9                           5   \n",
       "2                        12                           5   \n",
       "\n",
       "   most_frequent_gate_per_week most_frequent_route_per_day  \\\n",
       "0                            5                      [5, 5]   \n",
       "1                            5                      [5, 5]   \n",
       "2                            5                      [5, 5]   \n",
       "\n",
       "  most_frequent_route_per_week  weekly_route_avg_time  route_avg_time  \n",
       "0                    not_route                   0.00            0.00  \n",
       "1                    not_route                   6.00            6.00  \n",
       "2                    not_route                   6.00            6.00  "
      ]
     },
     "execution_count": 47,
     "metadata": {},
     "output_type": "execute_result"
    }
   ],
   "source": [
    "# временно переименуем колонку `user_word` на `user_id`\n",
    "df_test = df_test.rename(columns={'user_word': 'user_id'})\n",
    "\n",
    "df_test = make_features(df_test)\n",
    "# df_test = df_test.rename(columns={'user_id': 'user_word'})\n",
    "df_test.head(3)"
   ]
  },
  {
   "cell_type": "code",
   "execution_count": 48,
   "metadata": {},
   "outputs": [
    {
     "data": {
      "text/plain": [
       "(1009, 68)"
      ]
     },
     "execution_count": 48,
     "metadata": {},
     "output_type": "execute_result"
    }
   ],
   "source": [
    "df_test.shape"
   ]
  },
  {
   "cell_type": "code",
   "execution_count": 49,
   "metadata": {},
   "outputs": [
    {
     "data": {
      "text/plain": [
       "0"
      ]
     },
     "execution_count": 49,
     "metadata": {},
     "output_type": "execute_result"
    }
   ],
   "source": [
    "df_train.isna().sum().sum()"
   ]
  },
  {
   "cell_type": "code",
   "execution_count": 50,
   "metadata": {},
   "outputs": [
    {
     "data": {
      "text/plain": [
       "0"
      ]
     },
     "execution_count": 50,
     "metadata": {},
     "output_type": "execute_result"
    }
   ],
   "source": [
    "df_test.isna().sum().sum()"
   ]
  },
  {
   "cell_type": "markdown",
   "metadata": {},
   "source": [
    "# Исследовательский анализ данных"
   ]
  },
  {
   "cell_type": "markdown",
   "metadata": {},
   "source": [
    "## Повторное срабатывание турникетов"
   ]
  },
  {
   "cell_type": "code",
   "execution_count": null,
   "metadata": {},
   "outputs": [],
   "source": []
  },
  {
   "cell_type": "code",
   "execution_count": null,
   "metadata": {},
   "outputs": [],
   "source": []
  },
  {
   "cell_type": "code",
   "execution_count": null,
   "metadata": {},
   "outputs": [],
   "source": []
  },
  {
   "cell_type": "markdown",
   "metadata": {},
   "source": [
    "## Количество проходов через турникеты в неделю"
   ]
  },
  {
   "cell_type": "code",
   "execution_count": 51,
   "metadata": {},
   "outputs": [],
   "source": [
    "week_counts_train = df_train['week_number'].value_counts().sort_index().reset_index()"
   ]
  },
  {
   "cell_type": "code",
   "execution_count": 52,
   "metadata": {},
   "outputs": [
    {
     "data": {
      "image/png": "[encoded data removed]",
      "text/plain": [
       "<Figure size 1500x300 with 1 Axes>"
      ]
     },
     "metadata": {},
     "output_type": "display_data"
    }
   ],
   "source": [
    "plt.figure(figsize=(15, 3))\n",
    "sns.barplot(x='week_number', y='count', data=week_counts_train, color='purple')\n",
    "plt.title('Количество проходов через турникеты в неделю (train)')\n",
    "plt.xlabel('Номер недели')\n",
    "plt.ylabel('Количество')\n",
    "plt.tight_layout()"
   ]
  },
  {
   "cell_type": "code",
   "execution_count": 53,
   "metadata": {},
   "outputs": [
    {
     "data": {
      "text/plain": [
       "2"
      ]
     },
     "execution_count": 53,
     "metadata": {},
     "output_type": "execute_result"
    }
   ],
   "source": [
    "df_train.loc[df_train['week_number'] == 30, 'date'].nunique()"
   ]
  },
  {
   "cell_type": "code",
   "execution_count": 54,
   "metadata": {},
   "outputs": [
    {
     "data": {
      "text/plain": [
       "2"
      ]
     },
     "execution_count": 54,
     "metadata": {},
     "output_type": "execute_result"
    }
   ],
   "source": [
    "df_train.loc[df_train['week_number'] == 45, 'date'].nunique()"
   ]
  },
  {
   "cell_type": "code",
   "execution_count": 55,
   "metadata": {},
   "outputs": [
    {
     "data": {
      "text/plain": [
       "array([18, 47, 50], dtype=int64)"
      ]
     },
     "execution_count": 55,
     "metadata": {},
     "output_type": "execute_result"
    }
   ],
   "source": [
    "df_train.loc[df_train['week_number'] == 45, 'user_id'].unique()"
   ]
  },
  {
   "cell_type": "markdown",
   "metadata": {},
   "source": [
    "Мы видим, что 30 неделя - неполная. Поскольку при генерировании признаков мы использовали агрегацию по номеру недели, удалим данные за 30 неделю из тренировочной выборки."
   ]
  },
  {
   "cell_type": "code",
   "execution_count": 56,
   "metadata": {},
   "outputs": [
    {
     "data": {
      "text/plain": [
       "(9081, 68)"
      ]
     },
     "execution_count": 56,
     "metadata": {},
     "output_type": "execute_result"
    }
   ],
   "source": [
    "df_train.shape"
   ]
  },
  {
   "cell_type": "code",
   "execution_count": 57,
   "metadata": {},
   "outputs": [
    {
     "data": {
      "text/plain": [
       "(8875, 68)"
      ]
     },
     "execution_count": 57,
     "metadata": {},
     "output_type": "execute_result"
    }
   ],
   "source": [
    "df_train = df_train.query('week_number > 30 and week_number != 45').reset_index(drop=True)\n",
    "df_train.shape"
   ]
  },
  {
   "cell_type": "code",
   "execution_count": 58,
   "metadata": {},
   "outputs": [],
   "source": [
    "# df_train = df_train.query('week_number > 30').reset_index(drop=True)\n",
    "# df_train.shape"
   ]
  },
  {
   "cell_type": "code",
   "execution_count": 59,
   "metadata": {},
   "outputs": [
    {
     "data": {
      "text/plain": [
       "27"
      ]
     },
     "execution_count": 59,
     "metadata": {},
     "output_type": "execute_result"
    }
   ],
   "source": [
    "df_train['user_id'].nunique()"
   ]
  },
  {
   "cell_type": "code",
   "execution_count": 60,
   "metadata": {},
   "outputs": [],
   "source": [
    "week_counts_test = df_test['week_number'].value_counts().sort_index().reset_index()"
   ]
  },
  {
   "cell_type": "code",
   "execution_count": 61,
   "metadata": {},
   "outputs": [
    {
     "data": {
      "image/png": "[encoded data removed]",
      "text/plain": [
       "<Figure size 600x300 with 1 Axes>"
      ]
     },
     "metadata": {},
     "output_type": "display_data"
    }
   ],
   "source": [
    "plt.figure(figsize=(6, 3))\n",
    "sns.barplot(x='week_number', y='count', data=week_counts_test, color='purple')\n",
    "plt.title('Количество проходов через турникеты в неделю (test)')\n",
    "plt.xlabel('Номер недели')\n",
    "plt.ylabel('Количество')\n",
    "plt.tight_layout()"
   ]
  },
  {
   "cell_type": "code",
   "execution_count": 62,
   "metadata": {},
   "outputs": [
    {
     "data": {
      "text/plain": [
       "4"
      ]
     },
     "execution_count": 62,
     "metadata": {},
     "output_type": "execute_result"
    }
   ],
   "source": [
    "df_test.loc[df_test['week_number'] == 1, 'date'].nunique()"
   ]
  },
  {
   "cell_type": "code",
   "execution_count": 63,
   "metadata": {},
   "outputs": [
    {
     "data": {
      "text/plain": [
       "3"
      ]
     },
     "execution_count": 63,
     "metadata": {},
     "output_type": "execute_result"
    }
   ],
   "source": [
    "df_test.loc[df_test['week_number'] == 8, 'date'].nunique()"
   ]
  },
  {
   "cell_type": "code",
   "execution_count": 64,
   "metadata": {},
   "outputs": [
    {
     "data": {
      "text/plain": [
       "3"
      ]
     },
     "execution_count": 64,
     "metadata": {},
     "output_type": "execute_result"
    }
   ],
   "source": [
    "df_test.query('week_number >= 6')['user_id'].nunique()"
   ]
  },
  {
   "cell_type": "markdown",
   "metadata": {},
   "source": [
    "Удалим из тестовой выборки данные с 6 по 8 неделю, поскольку в этот период была маленькая активность."
   ]
  },
  {
   "cell_type": "code",
   "execution_count": 65,
   "metadata": {},
   "outputs": [
    {
     "data": {
      "text/plain": [
       "(1009, 68)"
      ]
     },
     "execution_count": 65,
     "metadata": {},
     "output_type": "execute_result"
    }
   ],
   "source": [
    "df_test.shape"
   ]
  },
  {
   "cell_type": "code",
   "execution_count": 66,
   "metadata": {},
   "outputs": [
    {
     "data": {
      "text/plain": [
       "(940, 68)"
      ]
     },
     "execution_count": 66,
     "metadata": {},
     "output_type": "execute_result"
    }
   ],
   "source": [
    "df_test = df_test.query('week_number < 6').reset_index(drop=True)\n",
    "df_test.shape"
   ]
  },
  {
   "cell_type": "code",
   "execution_count": 67,
   "metadata": {},
   "outputs": [
    {
     "data": {
      "text/plain": [
       "10"
      ]
     },
     "execution_count": 67,
     "metadata": {},
     "output_type": "execute_result"
    }
   ],
   "source": [
    "df_test['user_id'].nunique()"
   ]
  },
  {
   "cell_type": "code",
   "execution_count": null,
   "metadata": {},
   "outputs": [],
   "source": []
  },
  {
   "cell_type": "code",
   "execution_count": 68,
   "metadata": {},
   "outputs": [],
   "source": [
    "df_train = df_train.sort_values('ts').reset_index(drop=True)\n",
    "df_test = df_test.sort_values('ts').reset_index(drop=True)"
   ]
  },
  {
   "cell_type": "code",
   "execution_count": 69,
   "metadata": {},
   "outputs": [],
   "source": [
    "# удаление вспомогательных признаков\n",
    "df_train = df_train.drop(['ts', 'date', 'week_number', 'exit_time', 'temp_sec_btw_lag_1'], axis=1)\n",
    "df_test = df_test.drop(['ts', 'date', 'week_number', 'exit_time', 'temp_sec_btw_lag_1'], axis=1)"
   ]
  },
  {
   "cell_type": "code",
   "execution_count": 70,
   "metadata": {},
   "outputs": [
    {
     "name": "stdout",
     "output_type": "stream",
     "text": [
      "<class 'pandas.core.frame.DataFrame'>\n",
      "RangeIndex: 8875 entries, 0 to 8874\n",
      "Data columns (total 63 columns):\n",
      " #   Column                        Non-Null Count  Dtype  \n",
      "---  ------                        --------------  -----  \n",
      " 0   user_id                       8875 non-null   int64  \n",
      " 1   gate_id                       8875 non-null   int64  \n",
      " 2   day_of_month                  8875 non-null   int32  \n",
      " 3   hour                          8875 non-null   int32  \n",
      " 4   total_minutes                 8875 non-null   int32  \n",
      " 5   total_seconds                 8875 non-null   int32  \n",
      " 6   day_of_week                   8875 non-null   int32  \n",
      " 7   is_weekend                    8875 non-null   bool   \n",
      " 8   time_of_day                   8875 non-null   object \n",
      " 9   is_month_start                8875 non-null   bool   \n",
      " 10  is_month_end                  8875 non-null   bool   \n",
      " 11  pass_cnt_per_day              8875 non-null   int64  \n",
      " 12  daily_gate_pass_count         8875 non-null   int64  \n",
      " 13  probability_gate_id           8875 non-null   float64\n",
      " 14  cnt_users_per_day             8875 non-null   int64  \n",
      " 15  cnt_users_per_week            8875 non-null   int64  \n",
      " 16  daily_attendance_index        8875 non-null   float64\n",
      " 17  cnt_days_per_week             8875 non-null   int64  \n",
      " 18  entry_time                    8875 non-null   int32  \n",
      " 19  working_time_per_day          8875 non-null   int32  \n",
      " 20  entrance_gate_id              8875 non-null   int64  \n",
      " 21  exit_gate_id                  8875 non-null   int64  \n",
      " 22  working_time_per_week         8875 non-null   int32  \n",
      " 23  daily_workload_index          8875 non-null   float64\n",
      " 24  gate_id_lag_1                 8875 non-null   int64  \n",
      " 25  gate_id_1                     8875 non-null   int64  \n",
      " 26  sec_btw_lag_1                 8875 non-null   int32  \n",
      " 27  sec_btw_1                     8875 non-null   int32  \n",
      " 28  gate_id_lag_2                 8875 non-null   int64  \n",
      " 29  gate_id_2                     8875 non-null   int64  \n",
      " 30  sec_btw_lag_2                 8875 non-null   int32  \n",
      " 31  sec_btw_2                     8875 non-null   int32  \n",
      " 32  gate_id_lag_3                 8875 non-null   int64  \n",
      " 33  gate_id_3                     8875 non-null   int64  \n",
      " 34  sec_btw_lag_3                 8875 non-null   int32  \n",
      " 35  sec_btw_3                     8875 non-null   int32  \n",
      " 36  gate_id_lag_4                 8875 non-null   int64  \n",
      " 37  gate_id_4                     8875 non-null   int64  \n",
      " 38  sec_btw_lag_4                 8875 non-null   int32  \n",
      " 39  sec_btw_4                     8875 non-null   int32  \n",
      " 40  gate_id_lag_5                 8875 non-null   int64  \n",
      " 41  gate_id_5                     8875 non-null   int64  \n",
      " 42  sec_btw_lag_5                 8875 non-null   int32  \n",
      " 43  sec_btw_5                     8875 non-null   int32  \n",
      " 44  repeat_gate_1s                8875 non-null   bool   \n",
      " 45  repeat_gate_2s                8875 non-null   bool   \n",
      " 46  repeat_gate_3s                8875 non-null   bool   \n",
      " 47  repeat_gate_4s                8875 non-null   bool   \n",
      " 48  repeat_gate_ge_5s             8875 non-null   bool   \n",
      " 49  cnt_repeat_gate_1s            8875 non-null   int64  \n",
      " 50  cnt_repeat_gate_2s            8875 non-null   int64  \n",
      " 51  cnt_repeat_gate_3s            8875 non-null   int64  \n",
      " 52  cnt_repeat_gate_4s            8875 non-null   int64  \n",
      " 53  cnt_repeat_gate_ge_5s         8875 non-null   int64  \n",
      " 54  route                         8875 non-null   object \n",
      " 55  cumtime_per_day               8875 non-null   int32  \n",
      " 56  cumtime_at_route_per_day      8875 non-null   int32  \n",
      " 57  most_frequent_gate_per_day    8875 non-null   int64  \n",
      " 58  most_frequent_gate_per_week   8875 non-null   int64  \n",
      " 59  most_frequent_route_per_day   8875 non-null   object \n",
      " 60  most_frequent_route_per_week  8875 non-null   object \n",
      " 61  weekly_route_avg_time         8875 non-null   float64\n",
      " 62  route_avg_time                8875 non-null   float64\n",
      "dtypes: bool(8), float64(5), int32(20), int64(26), object(4)\n",
      "memory usage: 3.1+ MB\n"
     ]
    }
   ],
   "source": [
    "df_train.info()"
   ]
  },
  {
   "cell_type": "code",
   "execution_count": 71,
   "metadata": {},
   "outputs": [
    {
     "data": {
      "text/plain": [
       "Index(['user_id', 'gate_id', 'day_of_month', 'hour', 'total_minutes',\n",
       "       'total_seconds', 'day_of_week', 'is_weekend', 'time_of_day',\n",
       "       'is_month_start', 'is_month_end', 'pass_cnt_per_day',\n",
       "       'daily_gate_pass_count', 'probability_gate_id', 'cnt_users_per_day',\n",
       "       'cnt_users_per_week', 'daily_attendance_index', 'cnt_days_per_week',\n",
       "       'entry_time', 'working_time_per_day', 'entrance_gate_id',\n",
       "       'exit_gate_id', 'working_time_per_week', 'daily_workload_index',\n",
       "       'gate_id_lag_1', 'gate_id_1', 'sec_btw_lag_1', 'sec_btw_1',\n",
       "       'gate_id_lag_2', 'gate_id_2', 'sec_btw_lag_2', 'sec_btw_2',\n",
       "       'gate_id_lag_3', 'gate_id_3', 'sec_btw_lag_3', 'sec_btw_3',\n",
       "       'gate_id_lag_4', 'gate_id_4', 'sec_btw_lag_4', 'sec_btw_4',\n",
       "       'gate_id_lag_5', 'gate_id_5', 'sec_btw_lag_5', 'sec_btw_5',\n",
       "       'repeat_gate_1s', 'repeat_gate_2s', 'repeat_gate_3s', 'repeat_gate_4s',\n",
       "       'repeat_gate_ge_5s', 'cnt_repeat_gate_1s', 'cnt_repeat_gate_2s',\n",
       "       'cnt_repeat_gate_3s', 'cnt_repeat_gate_4s', 'cnt_repeat_gate_ge_5s',\n",
       "       'route', 'cumtime_per_day', 'cumtime_at_route_per_day',\n",
       "       'most_frequent_gate_per_day', 'most_frequent_gate_per_week',\n",
       "       'most_frequent_route_per_day', 'most_frequent_route_per_week',\n",
       "       'weekly_route_avg_time', 'route_avg_time'],\n",
       "      dtype='object')"
      ]
     },
     "execution_count": 71,
     "metadata": {},
     "output_type": "execute_result"
    }
   ],
   "source": [
    "df_train.columns"
   ]
  },
  {
   "cell_type": "code",
   "execution_count": 72,
   "metadata": {},
   "outputs": [],
   "source": [
    "categorical_features = [\n",
    "       'gate_id', 'day_of_month', 'hour',\n",
    "       'day_of_week', 'is_weekend', 'time_of_day', \n",
    "       'is_month_start', 'is_month_end', 'entrance_gate_id', \n",
    "       'exit_gate_id', 'gate_id_lag_1', 'gate_id_1',\n",
    "       'gate_id_lag_2', 'gate_id_2', 'gate_id_lag_3',\n",
    "       'gate_id_3', 'gate_id_lag_4', 'gate_id_4',\n",
    "       'gate_id_lag_5', 'gate_id_5', 'repeat_gate_1s',\n",
    "       'repeat_gate_2s', 'repeat_gate_3s', 'repeat_gate_4s',\n",
    "       'repeat_gate_ge_5s', 'route', 'most_frequent_gate_per_day',\n",
    "       'most_frequent_gate_per_week', 'most_frequent_route_per_day', 'most_frequent_route_per_week'\n",
    "]"
   ]
  },
  {
   "cell_type": "markdown",
   "metadata": {},
   "source": [
    "## Оценка важности признаков"
   ]
  },
  {
   "cell_type": "markdown",
   "metadata": {},
   "source": [
    "### Корреляция между признаками"
   ]
  },
  {
   "cell_type": "code",
   "execution_count": 73,
   "metadata": {},
   "outputs": [],
   "source": [
    "# %%time\n",
    "# phik_overview = df_train.phik_matrix().round(2).sort_values('user_id', ascending=False)\n",
    "# phik_overview"
   ]
  },
  {
   "cell_type": "code",
   "execution_count": 74,
   "metadata": {},
   "outputs": [],
   "source": [
    "# # отберем фичи, у которых корреляция с целевым признаком более 0.2\n",
    "# df_train = df_train[phik_overview[phik_overview['user_id'] > 0.2].index]"
   ]
  },
  {
   "cell_type": "code",
   "execution_count": 75,
   "metadata": {},
   "outputs": [],
   "source": [
    "# fig = plt.figure(figsize=(45,15))\n",
    "# sns.heatmap(phik_overview, vmin=0, vmax=1, cmap='Purples', annot=True, linewidths=0.1, fmt='.2f')\n",
    "# plt.suptitle('Матрица Phi_K-корреляций', y=0.92);"
   ]
  },
  {
   "cell_type": "code",
   "execution_count": 76,
   "metadata": {},
   "outputs": [],
   "source": [
    "# %%time\n",
    "# significance_overview = df_train.significance_matrix().fillna(0).round(1).sort_values('user_id', ascending=False)\n",
    "# significance_overview"
   ]
  },
  {
   "cell_type": "code",
   "execution_count": 77,
   "metadata": {},
   "outputs": [],
   "source": [
    "# fig = plt.figure(figsize=(45,15))\n",
    "# sns.heatmap(significance_overview, vmin=-5, vmax=5, cmap='Purples', annot=True, linewidths=0.1, fmt='.1f')\n",
    "# plt.suptitle('Значимость коэффициентов', y=0.92);"
   ]
  },
  {
   "cell_type": "code",
   "execution_count": null,
   "metadata": {},
   "outputs": [],
   "source": []
  },
  {
   "cell_type": "markdown",
   "metadata": {},
   "source": [
    "# Построение моделей"
   ]
  },
  {
   "cell_type": "markdown",
   "metadata": {},
   "source": [
    "## Разделение исходных данных на выборки"
   ]
  },
  {
   "cell_type": "code",
   "execution_count": 78,
   "metadata": {},
   "outputs": [],
   "source": [
    "y = df_train['user_id']\n",
    "X = df_train.drop(['user_id'], axis=1)"
   ]
  },
  {
   "cell_type": "code",
   "execution_count": 79,
   "metadata": {},
   "outputs": [
    {
     "name": "stdout",
     "output_type": "stream",
     "text": [
      "['gate_id', 'day_of_month', 'hour', 'day_of_week', 'is_weekend', 'time_of_day', 'is_month_start', 'is_month_end', 'entrance_gate_id', 'exit_gate_id', 'gate_id_lag_1', 'gate_id_1', 'gate_id_lag_2', 'gate_id_2', 'gate_id_lag_3', 'gate_id_3', 'gate_id_lag_4', 'gate_id_4', 'gate_id_lag_5', 'gate_id_5', 'repeat_gate_1s', 'repeat_gate_2s', 'repeat_gate_3s', 'repeat_gate_4s', 'repeat_gate_ge_5s', 'route', 'most_frequent_gate_per_day', 'most_frequent_gate_per_week', 'most_frequent_route_per_day', 'most_frequent_route_per_week']\n"
     ]
    }
   ],
   "source": [
    "categorical_columns = categorical_features\n",
    "print(categorical_columns)"
   ]
  },
  {
   "cell_type": "code",
   "execution_count": 80,
   "metadata": {},
   "outputs": [
    {
     "data": {
      "text/plain": [
       "30"
      ]
     },
     "execution_count": 80,
     "metadata": {},
     "output_type": "execute_result"
    }
   ],
   "source": [
    "len(categorical_columns)"
   ]
  },
  {
   "cell_type": "code",
   "execution_count": 81,
   "metadata": {},
   "outputs": [
    {
     "name": "stdout",
     "output_type": "stream",
     "text": [
      "['cnt_repeat_gate_ge_5s', 'cnt_days_per_week', 'route_avg_time', 'sec_btw_lag_5', 'cumtime_at_route_per_day', 'cnt_users_per_day', 'cnt_repeat_gate_2s', 'total_seconds', 'entry_time', 'sec_btw_2', 'daily_attendance_index', 'sec_btw_4', 'daily_gate_pass_count', 'sec_btw_lag_3', 'cnt_repeat_gate_4s', 'probability_gate_id', 'working_time_per_day', 'cnt_repeat_gate_1s', 'working_time_per_week', 'daily_workload_index', 'weekly_route_avg_time', 'sec_btw_lag_4', 'sec_btw_lag_1', 'sec_btw_3', 'sec_btw_lag_2', 'cnt_repeat_gate_3s', 'total_minutes', 'cnt_users_per_week', 'cumtime_per_day', 'sec_btw_1', 'sec_btw_5', 'pass_cnt_per_day']\n"
     ]
    }
   ],
   "source": [
    "numerical_columns = list(set(X.columns) - set(categorical_columns))\n",
    "print(numerical_columns)"
   ]
  },
  {
   "cell_type": "code",
   "execution_count": 82,
   "metadata": {},
   "outputs": [
    {
     "data": {
      "text/plain": [
       "32"
      ]
     },
     "execution_count": 82,
     "metadata": {},
     "output_type": "execute_result"
    }
   ],
   "source": [
    "len(numerical_columns)"
   ]
  },
  {
   "cell_type": "code",
   "execution_count": 83,
   "metadata": {},
   "outputs": [],
   "source": [
    "X = X[categorical_columns + numerical_columns]"
   ]
  },
  {
   "cell_type": "code",
   "execution_count": 84,
   "metadata": {},
   "outputs": [
    {
     "name": "stdout",
     "output_type": "stream",
     "text": [
      "[0, 1, 2, 3, 4, 5, 6, 7, 8, 9, 10, 11, 12, 13, 14, 15, 16, 17, 18, 19, 20, 21, 22, 23, 24, 25, 26, 27, 28, 29]\n"
     ]
    }
   ],
   "source": [
    "# формируем массив индексов категориальных признаков\n",
    "categorical_features_indices = list(range(len(categorical_columns)))\n",
    "print(categorical_features_indices)"
   ]
  },
  {
   "cell_type": "code",
   "execution_count": 85,
   "metadata": {},
   "outputs": [],
   "source": [
    "# выделение обучающей выборки (80 %) и тестовой (20 %)\n",
    "X_train, X_test, y_train, y_test = train_test_split(\n",
    "                                                    X, \n",
    "                                                    y, \n",
    "                                                    test_size=0.2, \n",
    "                                                    random_state=RANDOM_STATE,\n",
    "                                                    shuffle=True,\n",
    "                                                    stratify=y\n",
    ")"
   ]
  },
  {
   "cell_type": "code",
   "execution_count": 86,
   "metadata": {},
   "outputs": [
    {
     "data": {
      "text/plain": [
       "((7100, 62), (1775, 62), (7100,), (1775,))"
      ]
     },
     "execution_count": 86,
     "metadata": {},
     "output_type": "execute_result"
    }
   ],
   "source": [
    "X_train.shape, X_test.shape, y_train.shape, y_test.shape"
   ]
  },
  {
   "cell_type": "code",
   "execution_count": 87,
   "metadata": {},
   "outputs": [
    {
     "data": {
      "text/plain": [
       "27"
      ]
     },
     "execution_count": 87,
     "metadata": {},
     "output_type": "execute_result"
    }
   ],
   "source": [
    "y_train.nunique()"
   ]
  },
  {
   "cell_type": "code",
   "execution_count": 88,
   "metadata": {},
   "outputs": [
    {
     "name": "stdout",
     "output_type": "stream",
     "text": [
      "[2, 5, 7, 8, 10, 18, 22, 23, 25, 26, 27, 28, 30, 31, 34, 36, 38, 40, 41, 42, 45, 47, 48, 50, 53, 56, 57]\n"
     ]
    }
   ],
   "source": [
    "print(sorted(y_train.unique()))"
   ]
  },
  {
   "cell_type": "code",
   "execution_count": 89,
   "metadata": {},
   "outputs": [
    {
     "data": {
      "text/plain": [
       "27"
      ]
     },
     "execution_count": 89,
     "metadata": {},
     "output_type": "execute_result"
    }
   ],
   "source": [
    "y_test.nunique()"
   ]
  },
  {
   "cell_type": "code",
   "execution_count": 90,
   "metadata": {},
   "outputs": [
    {
     "name": "stdout",
     "output_type": "stream",
     "text": [
      "[2, 5, 7, 8, 10, 18, 22, 23, 25, 26, 27, 28, 30, 31, 34, 36, 38, 40, 41, 42, 45, 47, 48, 50, 53, 56, 57]\n"
     ]
    }
   ],
   "source": [
    "print(sorted(y_test.unique()))"
   ]
  },
  {
   "cell_type": "markdown",
   "metadata": {},
   "source": [
    "## Подбор гиперпараметров после отбора признаков"
   ]
  },
  {
   "cell_type": "code",
   "execution_count": 91,
   "metadata": {},
   "outputs": [],
   "source": [
    "def fit_catboost(trial, train, val, cat_features_indices):\n",
    "    X_train, y_train = train\n",
    "    X_val, y_val = val\n",
    "\n",
    "    param = {\n",
    "        'n_estimators' : 2000, # Можно не перебирать, есть Early-Stopping\n",
    "        'learning_rate': trial.suggest_float('learning_rate', 0.001, 0.1),\n",
    "        'l2_leaf_reg': trial.suggest_float('l2_leaf_reg', 3.0, 60.0),        \n",
    "        'auto_class_weights': trial.suggest_categorical('auto_class_weights', ['Balanced', 'None']),\n",
    "        'max_depth': trial.suggest_int('max_depth', 4, 10),\n",
    "        'border_count': trial.suggest_int('border_count', 32, 128)\n",
    "    }\n",
    "\n",
    "    clf = CatBoostClassifier(\n",
    "        **param,\n",
    "        loss_function='MultiClass',\n",
    "        eval_metric='TotalF1:average=Macro',\n",
    "        random_seed=RANDOM_STATE,\n",
    "        cat_features=cat_features_indices,\n",
    "        thread_count=-1,\n",
    "        task_type='GPU',\n",
    "    )\n",
    "\n",
    "    clf.fit(\n",
    "        X_train,\n",
    "        y_train,\n",
    "        eval_set=(X_val, y_val),\n",
    "        verbose=100,\n",
    "        plot=False,\n",
    "        early_stopping_rounds=100,\n",
    "    )\n",
    "\n",
    "    y_pred = clf.predict(X_val)\n",
    "    return clf, y_pred"
   ]
  },
  {
   "cell_type": "code",
   "execution_count": 92,
   "metadata": {},
   "outputs": [],
   "source": [
    "def objective(trial, X, y, cat_features_indices, return_models=False):\n",
    "    n_splits = 3\n",
    "    skf = StratifiedKFold(n_splits=n_splits, shuffle=True, random_state=RANDOM_STATE)\n",
    "\n",
    "    scores, models = [], []\n",
    "    \n",
    "    for train_idx, valid_idx in skf.split(X, y):\n",
    "        train_data = X.iloc[train_idx, :], y.iloc[train_idx]\n",
    "        valid_data = X.iloc[valid_idx, :], y.iloc[valid_idx]\n",
    "\n",
    "        # Подаем trials для перебора\n",
    "        model, y_pred = fit_catboost(trial, train_data, valid_data, cat_features_indices) # Определили выше\n",
    "        scores.append(f1_score(valid_data[1], y_pred, average='macro'))\n",
    "        models.append(model)\n",
    "        # break\n",
    "         \n",
    "\n",
    "    result = np.mean(scores)\n",
    "    \n",
    "    if return_models:\n",
    "        return result, models\n",
    "    else:\n",
    "        return result"
   ]
  },
  {
   "cell_type": "code",
   "execution_count": 93,
   "metadata": {},
   "outputs": [],
   "source": [
    "selected_features = [\n",
    "    'most_frequent_route_per_week',\n",
    "    'working_time_per_week',\n",
    "    'entry_time',\n",
    "    'cnt_users_per_day',\n",
    "    'cnt_repeat_gate_3s',\n",
    "    'most_frequent_route_per_day',\n",
    "    'route_avg_time',\n",
    "    'daily_attendance_index',\n",
    "    'cnt_repeat_gate_2s',\n",
    "    'exit_gate_id',\n",
    "    'daily_workload_index',\n",
    "    'cnt_repeat_gate_1s',\n",
    "    'entrance_gate_id',\n",
    "    'working_time_per_day',\n",
    "    'pass_cnt_per_day',\n",
    "    'cnt_users_per_week',\n",
    "    'cnt_days_per_week',\n",
    "    'most_frequent_gate_per_week'\n",
    "]\n",
    "\n",
    "cat_features = [\n",
    "    'most_frequent_route_per_week',\n",
    "    'most_frequent_route_per_day',\n",
    "    'exit_gate_id',\n",
    "    'entrance_gate_id',\n",
    "    'most_frequent_gate_per_week'\n",
    "]"
   ]
  },
  {
   "cell_type": "code",
   "execution_count": 94,
   "metadata": {},
   "outputs": [
    {
     "name": "stderr",
     "output_type": "stream",
     "text": [
      "[I 2024-08-15 13:30:50,066] A new study created in memory with name: no-name-aa7161e2-e83a-43bd-bc08-528bb49afbdf\n"
     ]
    },
    {
     "data": {
      "application/vnd.jupyter.widget-view+json": {
       "model_id": "ce093ef2cce64e39b0382fc6362cb337",
       "version_major": 2,
       "version_minor": 0
      },
      "text/plain": [
       "  0%|          | 0/3 [00:00<?, ?it/s]"
      ]
     },
     "metadata": {},
     "output_type": "display_data"
    },
    {
     "name": "stdout",
     "output_type": "stream",
     "text": [
      "0:\tlearn: 0.2063685\ttest: 0.2012497\tbest: 0.2012497 (0)\ttotal: 31.2ms\tremaining: 1m 2s\n",
      "100:\tlearn: 0.8945130\ttest: 0.8870631\tbest: 0.8870631 (100)\ttotal: 2.04s\tremaining: 38.3s\n",
      "200:\tlearn: 0.9539732\ttest: 0.9431654\tbest: 0.9431654 (200)\ttotal: 3.9s\tremaining: 35s\n",
      "300:\tlearn: 0.9768066\ttest: 0.9648691\tbest: 0.9649082 (293)\ttotal: 5.71s\tremaining: 32.2s\n",
      "400:\tlearn: 0.9841619\ttest: 0.9782140\tbest: 0.9782140 (400)\ttotal: 7.5s\tremaining: 29.9s\n",
      "500:\tlearn: 0.9922142\ttest: 0.9901801\tbest: 0.9901801 (499)\ttotal: 9.33s\tremaining: 27.9s\n",
      "600:\tlearn: 0.9960711\ttest: 0.9935761\tbest: 0.9935761 (599)\ttotal: 11.2s\tremaining: 26s\n",
      "700:\tlearn: 0.9974303\ttest: 0.9959356\tbest: 0.9959356 (691)\ttotal: 13s\tremaining: 24.1s\n",
      "800:\tlearn: 0.9989144\ttest: 0.9975536\tbest: 0.9975536 (777)\ttotal: 14.8s\tremaining: 22.2s\n",
      "900:\tlearn: 0.9992136\ttest: 0.9981121\tbest: 0.9981121 (828)\ttotal: 16.7s\tremaining: 20.3s\n",
      "bestTest = 0.9981121011\n",
      "bestIteration = 828\n",
      "Shrink model to first 829 iterations.\n",
      "0:\tlearn: 0.2411599\ttest: 0.2283069\tbest: 0.2283069 (0)\ttotal: 21.9ms\tremaining: 43.9s\n",
      "100:\tlearn: 0.8949778\ttest: 0.8680461\tbest: 0.8680461 (100)\ttotal: 1.95s\tremaining: 36.6s\n",
      "200:\tlearn: 0.9581335\ttest: 0.9429556\tbest: 0.9434316 (196)\ttotal: 3.81s\tremaining: 34.1s\n",
      "300:\tlearn: 0.9762384\ttest: 0.9649182\tbest: 0.9650262 (296)\ttotal: 5.66s\tremaining: 31.9s\n",
      "400:\tlearn: 0.9886967\ttest: 0.9790628\tbest: 0.9790654 (398)\ttotal: 7.51s\tremaining: 29.9s\n",
      "500:\tlearn: 0.9921716\ttest: 0.9856503\tbest: 0.9856503 (494)\ttotal: 9.41s\tremaining: 28.2s\n",
      "600:\tlearn: 0.9953102\ttest: 0.9904239\tbest: 0.9904239 (599)\ttotal: 11.3s\tremaining: 26.2s\n",
      "700:\tlearn: 0.9975966\ttest: 0.9941433\tbest: 0.9941433 (693)\ttotal: 13.1s\tremaining: 24.3s\n",
      "800:\tlearn: 0.9981640\ttest: 0.9951937\tbest: 0.9954393 (792)\ttotal: 14.9s\tremaining: 22.4s\n",
      "900:\tlearn: 0.9989278\ttest: 0.9969765\tbest: 0.9969765 (891)\ttotal: 16.8s\tremaining: 20.5s\n",
      "1000:\tlearn: 0.9990579\ttest: 0.9982068\tbest: 0.9982068 (975)\ttotal: 18.6s\tremaining: 18.6s\n",
      "1100:\tlearn: 0.9998073\ttest: 0.9982068\tbest: 0.9982068 (1042)\ttotal: 20.5s\tremaining: 16.7s\n",
      "bestTest = 0.9982068457\n",
      "bestIteration = 1042\n",
      "Shrink model to first 1043 iterations.\n",
      "0:\tlearn: 0.2011631\ttest: 0.2094901\tbest: 0.2094901 (0)\ttotal: 19.7ms\tremaining: 39.4s\n",
      "100:\tlearn: 0.8890768\ttest: 0.8845748\tbest: 0.8845748 (100)\ttotal: 1.92s\tremaining: 36.2s\n",
      "200:\tlearn: 0.9536015\ttest: 0.9409796\tbest: 0.9409796 (200)\ttotal: 3.78s\tremaining: 33.8s\n",
      "300:\tlearn: 0.9764102\ttest: 0.9676552\tbest: 0.9676552 (299)\ttotal: 5.61s\tremaining: 31.6s\n",
      "400:\tlearn: 0.9884090\ttest: 0.9805605\tbest: 0.9805605 (400)\ttotal: 7.45s\tremaining: 29.7s\n",
      "500:\tlearn: 0.9940799\ttest: 0.9907634\tbest: 0.9907634 (497)\ttotal: 9.28s\tremaining: 27.8s\n",
      "600:\tlearn: 0.9973231\ttest: 0.9954948\tbest: 0.9954948 (598)\ttotal: 11.1s\tremaining: 25.9s\n",
      "700:\tlearn: 0.9984957\ttest: 0.9971966\tbest: 0.9971966 (657)\ttotal: 13s\tremaining: 24s\n",
      "800:\tlearn: 0.9993339\ttest: 0.9983534\tbest: 0.9983534 (773)\ttotal: 14.8s\tremaining: 22.2s\n",
      "900:\tlearn: 0.9995136\ttest: 0.9985337\tbest: 0.9985337 (851)\ttotal: 16.7s\tremaining: 20.3s\n",
      "1000:\tlearn: 0.9995993\ttest: 0.9985558\tbest: 0.9985573 (988)\ttotal: 18.5s\tremaining: 18.5s\n",
      "1100:\tlearn: 0.9999110\ttest: 0.9991819\tbest: 0.9992712 (1095)\ttotal: 20.3s\tremaining: 16.6s\n",
      "1200:\tlearn: 1.0000000\ttest: 0.9995372\tbest: 0.9995372 (1174)\ttotal: 22.2s\tremaining: 14.8s\n",
      "bestTest = 0.999537222\n",
      "bestIteration = 1174\n",
      "Shrink model to first 1175 iterations.\n",
      "[I 2024-08-15 13:31:53,517] Trial 0 finished with value: 0.9974417468380543 and parameters: {'learning_rate': 0.03969560965592583, 'l2_leaf_reg': 3.752827058894772, 'auto_class_weights': 'Balanced', 'max_depth': 4, 'border_count': 78}. Best is trial 0 with value: 0.9974417468380543.\n",
      "0:\tlearn: 0.1728036\ttest: 0.1745404\tbest: 0.1745404 (0)\ttotal: 20.1ms\tremaining: 40.2s\n",
      "100:\tlearn: 0.3955257\ttest: 0.3821266\tbest: 0.3837399 (97)\ttotal: 1.91s\tremaining: 35.8s\n",
      "200:\tlearn: 0.5484363\ttest: 0.5471263\tbest: 0.5471263 (200)\ttotal: 3.79s\tremaining: 33.9s\n",
      "300:\tlearn: 0.6564579\ttest: 0.6423021\tbest: 0.6427584 (294)\ttotal: 5.64s\tremaining: 31.8s\n",
      "400:\tlearn: 0.7014491\ttest: 0.6767729\tbest: 0.6767729 (400)\ttotal: 7.44s\tremaining: 29.7s\n",
      "500:\tlearn: 0.7348289\ttest: 0.7268653\tbest: 0.7268653 (500)\ttotal: 9.31s\tremaining: 27.9s\n",
      "600:\tlearn: 0.7667236\ttest: 0.7543022\tbest: 0.7543022 (600)\ttotal: 11.2s\tremaining: 26s\n",
      "700:\tlearn: 0.8200745\ttest: 0.7981130\tbest: 0.7986341 (699)\ttotal: 13s\tremaining: 24.2s\n",
      "800:\tlearn: 0.8333552\ttest: 0.8090044\tbest: 0.8102976 (793)\ttotal: 14.9s\tremaining: 22.3s\n",
      "900:\tlearn: 0.8720245\ttest: 0.8467273\tbest: 0.8476176 (894)\ttotal: 16.8s\tremaining: 20.5s\n",
      "1000:\tlearn: 0.8766065\ttest: 0.8504672\tbest: 0.8523277 (999)\ttotal: 18.6s\tremaining: 18.6s\n",
      "1100:\tlearn: 0.8829925\ttest: 0.8751391\tbest: 0.8765298 (1092)\ttotal: 20.5s\tremaining: 16.7s\n",
      "1200:\tlearn: 0.8967157\ttest: 0.8847859\tbest: 0.8847859 (1194)\ttotal: 22.3s\tremaining: 14.8s\n",
      "1300:\tlearn: 0.9179150\ttest: 0.8953653\tbest: 0.8962342 (1274)\ttotal: 24.2s\tremaining: 13s\n",
      "1400:\tlearn: 0.9275416\ttest: 0.8979176\tbest: 0.8979176 (1384)\ttotal: 26s\tremaining: 11.1s\n",
      "1500:\tlearn: 0.9495414\ttest: 0.9202373\tbest: 0.9203719 (1494)\ttotal: 27.8s\tremaining: 9.24s\n",
      "1600:\tlearn: 0.9561501\ttest: 0.9360014\tbest: 0.9360014 (1590)\ttotal: 29.6s\tremaining: 7.38s\n",
      "1700:\tlearn: 0.9699301\ttest: 0.9473216\tbest: 0.9473216 (1675)\ttotal: 31.4s\tremaining: 5.53s\n",
      "1800:\tlearn: 0.9722756\ttest: 0.9549154\tbest: 0.9549154 (1799)\ttotal: 33.3s\tremaining: 3.68s\n",
      "1900:\tlearn: 0.9724570\ttest: 0.9550918\tbest: 0.9550918 (1812)\ttotal: 35.1s\tremaining: 1.83s\n",
      "bestTest = 0.9550918372\n",
      "bestIteration = 1812\n",
      "Shrink model to first 1813 iterations.\n",
      "0:\tlearn: 0.1767972\ttest: 0.1738046\tbest: 0.1738046 (0)\ttotal: 21.6ms\tremaining: 43.2s\n",
      "100:\tlearn: 0.3784111\ttest: 0.3801119\tbest: 0.3801119 (100)\ttotal: 1.92s\tremaining: 36.1s\n",
      "200:\tlearn: 0.5700119\ttest: 0.5380867\tbest: 0.5382175 (199)\ttotal: 3.8s\tremaining: 34s\n",
      "300:\tlearn: 0.6724261\ttest: 0.6328786\tbest: 0.6329595 (295)\ttotal: 5.72s\tremaining: 32.3s\n",
      "400:\tlearn: 0.7102670\ttest: 0.6845012\tbest: 0.6845012 (400)\ttotal: 7.56s\tremaining: 30.1s\n",
      "500:\tlearn: 0.7349001\ttest: 0.7036922\tbest: 0.7036922 (497)\ttotal: 9.38s\tremaining: 28.1s\n",
      "600:\tlearn: 0.7780905\ttest: 0.7344190\tbest: 0.7344190 (592)\ttotal: 11.2s\tremaining: 26s\n",
      "700:\tlearn: 0.7855058\ttest: 0.7423676\tbest: 0.7423676 (693)\ttotal: 13s\tremaining: 24s\n",
      "800:\tlearn: 0.8219375\ttest: 0.7713243\tbest: 0.7713243 (800)\ttotal: 14.7s\tremaining: 22.1s\n",
      "900:\tlearn: 0.8259295\ttest: 0.7779893\tbest: 0.7779893 (896)\ttotal: 16.5s\tremaining: 20.1s\n",
      "1000:\tlearn: 0.8294729\ttest: 0.7782866\tbest: 0.7788692 (966)\ttotal: 18.3s\tremaining: 18.2s\n",
      "1100:\tlearn: 0.8302619\ttest: 0.7776003\tbest: 0.7802631 (1073)\ttotal: 20.1s\tremaining: 16.4s\n",
      "bestTest = 0.7802631104\n",
      "bestIteration = 1073\n",
      "Shrink model to first 1074 iterations.\n",
      "0:\tlearn: 0.1741708\ttest: 0.1736053\tbest: 0.1736053 (0)\ttotal: 20.4ms\tremaining: 40.8s\n",
      "100:\tlearn: 0.3930014\ttest: 0.3911261\tbest: 0.3967008 (97)\ttotal: 1.93s\tremaining: 36.3s\n",
      "200:\tlearn: 0.5668774\ttest: 0.5431573\tbest: 0.5431573 (199)\ttotal: 3.85s\tremaining: 34.4s\n",
      "300:\tlearn: 0.6877122\ttest: 0.6743038\tbest: 0.6763948 (295)\ttotal: 5.71s\tremaining: 32.3s\n",
      "400:\tlearn: 0.7169747\ttest: 0.6964013\tbest: 0.6980179 (392)\ttotal: 7.57s\tremaining: 30.2s\n",
      "500:\tlearn: 0.7422990\ttest: 0.7260068\tbest: 0.7260176 (496)\ttotal: 9.42s\tremaining: 28.2s\n",
      "600:\tlearn: 0.7695748\ttest: 0.7359584\tbest: 0.7360645 (597)\ttotal: 11.2s\tremaining: 26.2s\n",
      "700:\tlearn: 0.7772392\ttest: 0.7514107\tbest: 0.7514107 (697)\ttotal: 13.1s\tremaining: 24.2s\n",
      "800:\tlearn: 0.7834580\ttest: 0.7563402\tbest: 0.7564759 (795)\ttotal: 14.9s\tremaining: 22.3s\n",
      "900:\tlearn: 0.7953021\ttest: 0.7717823\tbest: 0.7722270 (895)\ttotal: 16.7s\tremaining: 20.3s\n",
      "1000:\tlearn: 0.8011154\ttest: 0.7758157\tbest: 0.7765793 (945)\ttotal: 18.5s\tremaining: 18.4s\n",
      "1100:\tlearn: 0.8197801\ttest: 0.7779335\tbest: 0.7780458 (1093)\ttotal: 20.3s\tremaining: 16.6s\n",
      "1200:\tlearn: 0.8533556\ttest: 0.7948960\tbest: 0.7953101 (1196)\ttotal: 22.1s\tremaining: 14.7s\n",
      "1300:\tlearn: 0.8858740\ttest: 0.8205294\tbest: 0.8205294 (1293)\ttotal: 23.8s\tremaining: 12.8s\n",
      "1400:\tlearn: 0.9062811\ttest: 0.8216917\tbest: 0.8216917 (1389)\ttotal: 25.6s\tremaining: 10.9s\n",
      "1500:\tlearn: 0.9056627\ttest: 0.8206622\tbest: 0.8217893 (1431)\ttotal: 27.4s\tremaining: 9.11s\n",
      "1600:\tlearn: 0.9220215\ttest: 0.8475871\tbest: 0.8479372 (1584)\ttotal: 29.2s\tremaining: 7.28s\n",
      "1700:\tlearn: 0.9326699\ttest: 0.8496304\tbest: 0.8501048 (1698)\ttotal: 31s\tremaining: 5.45s\n",
      "1800:\tlearn: 0.9411193\ttest: 0.8692538\tbest: 0.8692538 (1781)\ttotal: 32.7s\tremaining: 3.62s\n",
      "1900:\tlearn: 0.9579798\ttest: 0.8843803\tbest: 0.8843803 (1860)\ttotal: 34.5s\tremaining: 1.8s\n",
      "1999:\tlearn: 0.9678217\ttest: 0.9140281\tbest: 0.9159462 (1987)\ttotal: 36.3s\tremaining: 0us\n",
      "bestTest = 0.9159461723\n",
      "bestIteration = 1987\n",
      "Shrink model to first 1988 iterations.\n",
      "[I 2024-08-15 13:33:27,840] Trial 1 finished with value: 0.8837670399927648 and parameters: {'learning_rate': 0.03285991365959791, 'l2_leaf_reg': 22.479750653746205, 'auto_class_weights': 'None', 'max_depth': 4, 'border_count': 127}. Best is trial 0 with value: 0.9974417468380543.\n",
      "0:\tlearn: 0.2531718\ttest: 0.2358460\tbest: 0.2358460 (0)\ttotal: 35ms\tremaining: 1m 9s\n",
      "100:\tlearn: 0.4069019\ttest: 0.3935848\tbest: 0.3956340 (99)\ttotal: 3.29s\tremaining: 1m 1s\n",
      "200:\tlearn: 0.5380096\ttest: 0.5459973\tbest: 0.5459973 (200)\ttotal: 6.44s\tremaining: 57.6s\n",
      "300:\tlearn: 0.6629721\ttest: 0.6602277\tbest: 0.6602277 (299)\ttotal: 9.54s\tremaining: 53.8s\n",
      "400:\tlearn: 0.6878118\ttest: 0.6685320\tbest: 0.6688783 (397)\ttotal: 12.7s\tremaining: 50.6s\n",
      "500:\tlearn: 0.7185892\ttest: 0.6869053\tbest: 0.6869053 (495)\ttotal: 16.2s\tremaining: 48.3s\n",
      "600:\tlearn: 0.7533447\ttest: 0.7268038\tbest: 0.7268038 (587)\ttotal: 19.5s\tremaining: 45.5s\n",
      "700:\tlearn: 0.7906171\ttest: 0.7602585\tbest: 0.7602585 (700)\ttotal: 22.8s\tremaining: 42.2s\n",
      "800:\tlearn: 0.7994496\ttest: 0.7745343\tbest: 0.7745343 (799)\ttotal: 25.9s\tremaining: 38.8s\n",
      "900:\tlearn: 0.8209875\ttest: 0.7846532\tbest: 0.7846532 (888)\ttotal: 28.9s\tremaining: 35.3s\n",
      "1000:\tlearn: 0.8850344\ttest: 0.8169388\tbest: 0.8177731 (994)\ttotal: 31.9s\tremaining: 31.8s\n",
      "1100:\tlearn: 0.9115985\ttest: 0.8533705\tbest: 0.8533705 (1100)\ttotal: 34.8s\tremaining: 28.4s\n",
      "1200:\tlearn: 0.9305322\ttest: 0.8641634\tbest: 0.8641634 (1195)\ttotal: 37.7s\tremaining: 25.1s\n",
      "1300:\tlearn: 0.9312115\ttest: 0.8640443\tbest: 0.8645880 (1232)\ttotal: 40.5s\tremaining: 21.8s\n",
      "bestTest = 0.8645879927\n",
      "bestIteration = 1232\n",
      "Shrink model to first 1233 iterations.\n",
      "0:\tlearn: 0.2517878\ttest: 0.2465919\tbest: 0.2465919 (0)\ttotal: 35.7ms\tremaining: 1m 11s\n",
      "100:\tlearn: 0.3817622\ttest: 0.3929165\tbest: 0.3997648 (93)\ttotal: 3.29s\tremaining: 1m 1s\n",
      "200:\tlearn: 0.5247074\ttest: 0.5108818\tbest: 0.5112097 (199)\ttotal: 6.53s\tremaining: 58.5s\n",
      "300:\tlearn: 0.6059183\ttest: 0.5689957\tbest: 0.5689957 (299)\ttotal: 9.57s\tremaining: 54s\n",
      "400:\tlearn: 0.6374159\ttest: 0.5994541\tbest: 0.5994541 (397)\ttotal: 12.8s\tremaining: 50.9s\n",
      "500:\tlearn: 0.7088609\ttest: 0.6702986\tbest: 0.6728517 (481)\ttotal: 16.2s\tremaining: 48.3s\n",
      "600:\tlearn: 0.7387509\ttest: 0.7112870\tbest: 0.7116351 (597)\ttotal: 19.3s\tremaining: 45s\n",
      "700:\tlearn: 0.7764307\ttest: 0.7405250\tbest: 0.7408377 (696)\ttotal: 22.4s\tremaining: 41.6s\n",
      "800:\tlearn: 0.8274211\ttest: 0.7862413\tbest: 0.7862413 (800)\ttotal: 25.4s\tremaining: 38s\n",
      "900:\tlearn: 0.8363083\ttest: 0.7983088\tbest: 0.7987938 (892)\ttotal: 28.3s\tremaining: 34.5s\n",
      "1000:\tlearn: 0.8389524\ttest: 0.8025393\tbest: 0.8030862 (987)\ttotal: 31.1s\tremaining: 31s\n",
      "1100:\tlearn: 0.8535113\ttest: 0.8261467\tbest: 0.8261467 (1100)\ttotal: 33.8s\tremaining: 27.6s\n",
      "1200:\tlearn: 0.8544756\ttest: 0.8289859\tbest: 0.8289859 (1147)\ttotal: 36.4s\tremaining: 24.2s\n",
      "1300:\tlearn: 0.8632805\ttest: 0.8309336\tbest: 0.8309336 (1282)\ttotal: 39.1s\tremaining: 21s\n",
      "1400:\tlearn: 0.8748623\ttest: 0.8322506\tbest: 0.8322506 (1340)\ttotal: 41.7s\tremaining: 17.8s\n",
      "1500:\tlearn: 0.8801814\ttest: 0.8348119\tbest: 0.8348119 (1497)\ttotal: 44.4s\tremaining: 14.8s\n",
      "1600:\tlearn: 0.8903037\ttest: 0.8665509\tbest: 0.8665509 (1600)\ttotal: 47s\tremaining: 11.7s\n",
      "1700:\tlearn: 0.8917034\ttest: 0.8680740\tbest: 0.8680740 (1651)\ttotal: 49.7s\tremaining: 8.73s\n",
      "bestTest = 0.8680740106\n",
      "bestIteration = 1651\n",
      "Shrink model to first 1652 iterations.\n",
      "0:\tlearn: 0.2526910\ttest: 0.2558447\tbest: 0.2558447 (0)\ttotal: 34.8ms\tremaining: 1m 9s\n",
      "100:\tlearn: 0.3859957\ttest: 0.3767546\tbest: 0.3779851 (96)\ttotal: 3.33s\tremaining: 1m 2s\n",
      "200:\tlearn: 0.5280411\ttest: 0.5364794\tbest: 0.5366284 (198)\ttotal: 6.57s\tremaining: 58.8s\n",
      "300:\tlearn: 0.5835255\ttest: 0.5753375\tbest: 0.5753375 (300)\ttotal: 9.64s\tremaining: 54.4s\n",
      "400:\tlearn: 0.6492130\ttest: 0.6317864\tbest: 0.6317864 (400)\ttotal: 13s\tremaining: 51.9s\n",
      "500:\tlearn: 0.7298750\ttest: 0.7181894\tbest: 0.7181894 (500)\ttotal: 16.4s\tremaining: 49.2s\n",
      "600:\tlearn: 0.7615934\ttest: 0.7382622\tbest: 0.7382622 (598)\ttotal: 19.7s\tremaining: 45.9s\n",
      "700:\tlearn: 0.7855595\ttest: 0.7582400\tbest: 0.7582400 (696)\ttotal: 22.9s\tremaining: 42.4s\n",
      "800:\tlearn: 0.8008237\ttest: 0.7776455\tbest: 0.7781140 (794)\ttotal: 25.9s\tremaining: 38.8s\n",
      "900:\tlearn: 0.8338426\ttest: 0.8000078\tbest: 0.8004937 (866)\ttotal: 28.9s\tremaining: 35.2s\n",
      "1000:\tlearn: 0.8569362\ttest: 0.8151398\tbest: 0.8151398 (996)\ttotal: 31.8s\tremaining: 31.7s\n",
      "1100:\tlearn: 0.8898748\ttest: 0.8157300\tbest: 0.8159216 (1043)\ttotal: 34.6s\tremaining: 28.3s\n",
      "bestTest = 0.8159216225\n",
      "bestIteration = 1043\n",
      "Shrink model to first 1044 iterations.\n",
      "[I 2024-08-15 13:35:37,615] Trial 2 finished with value: 0.8495278752511449 and parameters: {'learning_rate': 0.02647949456398384, 'l2_leaf_reg': 35.071674135518855, 'auto_class_weights': 'None', 'max_depth': 6, 'border_count': 39}. Best is trial 0 with value: 0.9974417468380543.\n",
      "CPU times: total: 10min 48s\n",
      "Wall time: 4min 47s\n"
     ]
    }
   ],
   "source": [
    "%%time\n",
    "\n",
    "study = optuna.create_study(direction='maximize')\n",
    "study.optimize(\n",
    "                lambda trial: objective(trial, X[selected_features], y, cat_features),\n",
    "                n_trials=3,\n",
    "                show_progress_bar=True,\n",
    ")"
   ]
  },
  {
   "cell_type": "code",
   "execution_count": 95,
   "metadata": {},
   "outputs": [
    {
     "name": "stdout",
     "output_type": "stream",
     "text": [
      "Best trial: score 0.9974417468380543, params {'learning_rate': 0.03969560965592583, 'l2_leaf_reg': 3.752827058894772, 'auto_class_weights': 'Balanced', 'max_depth': 4, 'border_count': 78}\n"
     ]
    }
   ],
   "source": [
    "print(\"Best trial: score {}, params {}\".format(study.best_trial.value, study.best_trial.params))"
   ]
  },
  {
   "cell_type": "code",
   "execution_count": 96,
   "metadata": {},
   "outputs": [
    {
     "name": "stdout",
     "output_type": "stream",
     "text": [
      "0:\tlearn: 0.2063685\ttest: 0.2012497\tbest: 0.2012497 (0)\ttotal: 21.6ms\tremaining: 43.2s\n",
      "100:\tlearn: 0.8945130\ttest: 0.8870631\tbest: 0.8870631 (100)\ttotal: 1.99s\tremaining: 37.3s\n",
      "200:\tlearn: 0.9539732\ttest: 0.9431654\tbest: 0.9431654 (200)\ttotal: 3.94s\tremaining: 35.3s\n",
      "300:\tlearn: 0.9768066\ttest: 0.9648691\tbest: 0.9649082 (293)\ttotal: 5.87s\tremaining: 33.1s\n",
      "400:\tlearn: 0.9841619\ttest: 0.9782140\tbest: 0.9782140 (400)\ttotal: 7.74s\tremaining: 30.9s\n",
      "500:\tlearn: 0.9922142\ttest: 0.9901801\tbest: 0.9901801 (499)\ttotal: 9.66s\tremaining: 28.9s\n",
      "600:\tlearn: 0.9960711\ttest: 0.9935761\tbest: 0.9935761 (599)\ttotal: 11.6s\tremaining: 27s\n",
      "700:\tlearn: 0.9974303\ttest: 0.9959356\tbest: 0.9959356 (691)\ttotal: 13.5s\tremaining: 25.1s\n",
      "800:\tlearn: 0.9989144\ttest: 0.9975536\tbest: 0.9975536 (777)\ttotal: 15.5s\tremaining: 23.1s\n",
      "900:\tlearn: 0.9992136\ttest: 0.9981121\tbest: 0.9981121 (828)\ttotal: 17.4s\tremaining: 21.2s\n",
      "bestTest = 0.9981121011\n",
      "bestIteration = 828\n",
      "Shrink model to first 829 iterations.\n",
      "0:\tlearn: 0.2411599\ttest: 0.2283069\tbest: 0.2283069 (0)\ttotal: 21.3ms\tremaining: 42.6s\n",
      "100:\tlearn: 0.8949778\ttest: 0.8680461\tbest: 0.8680461 (100)\ttotal: 2.03s\tremaining: 38.2s\n",
      "200:\tlearn: 0.9581335\ttest: 0.9429556\tbest: 0.9434316 (196)\ttotal: 3.98s\tremaining: 35.6s\n",
      "300:\tlearn: 0.9762384\ttest: 0.9649182\tbest: 0.9650262 (296)\ttotal: 5.91s\tremaining: 33.4s\n",
      "400:\tlearn: 0.9886967\ttest: 0.9790628\tbest: 0.9790654 (398)\ttotal: 7.85s\tremaining: 31.3s\n",
      "500:\tlearn: 0.9921716\ttest: 0.9856503\tbest: 0.9856503 (494)\ttotal: 9.8s\tremaining: 29.3s\n",
      "600:\tlearn: 0.9953102\ttest: 0.9904239\tbest: 0.9904239 (599)\ttotal: 11.7s\tremaining: 27.3s\n",
      "700:\tlearn: 0.9975966\ttest: 0.9941433\tbest: 0.9941433 (693)\ttotal: 13.7s\tremaining: 25.3s\n",
      "800:\tlearn: 0.9981640\ttest: 0.9951937\tbest: 0.9954393 (792)\ttotal: 15.6s\tremaining: 23.3s\n",
      "900:\tlearn: 0.9989278\ttest: 0.9969765\tbest: 0.9969765 (891)\ttotal: 17.5s\tremaining: 21.4s\n",
      "1000:\tlearn: 0.9990579\ttest: 0.9982068\tbest: 0.9982068 (975)\ttotal: 19.4s\tremaining: 19.4s\n",
      "1100:\tlearn: 0.9998073\ttest: 0.9982068\tbest: 0.9982068 (1042)\ttotal: 21.4s\tremaining: 17.5s\n",
      "bestTest = 0.9982068457\n",
      "bestIteration = 1042\n",
      "Shrink model to first 1043 iterations.\n",
      "0:\tlearn: 0.2011631\ttest: 0.2094901\tbest: 0.2094901 (0)\ttotal: 21ms\tremaining: 42.1s\n",
      "100:\tlearn: 0.8890768\ttest: 0.8845748\tbest: 0.8845748 (100)\ttotal: 2s\tremaining: 37.7s\n",
      "200:\tlearn: 0.9536015\ttest: 0.9409796\tbest: 0.9409796 (200)\ttotal: 3.94s\tremaining: 35.3s\n",
      "300:\tlearn: 0.9764102\ttest: 0.9676552\tbest: 0.9676552 (299)\ttotal: 5.87s\tremaining: 33.1s\n",
      "400:\tlearn: 0.9884090\ttest: 0.9805605\tbest: 0.9805605 (400)\ttotal: 7.79s\tremaining: 31.1s\n",
      "500:\tlearn: 0.9940799\ttest: 0.9907634\tbest: 0.9907634 (497)\ttotal: 9.69s\tremaining: 29s\n",
      "600:\tlearn: 0.9973231\ttest: 0.9954948\tbest: 0.9954948 (598)\ttotal: 11.6s\tremaining: 27s\n",
      "700:\tlearn: 0.9984957\ttest: 0.9971966\tbest: 0.9971966 (657)\ttotal: 13.5s\tremaining: 25s\n",
      "800:\tlearn: 0.9993339\ttest: 0.9983534\tbest: 0.9983534 (773)\ttotal: 15.4s\tremaining: 23.1s\n",
      "900:\tlearn: 0.9995136\ttest: 0.9985337\tbest: 0.9985337 (851)\ttotal: 17.4s\tremaining: 21.2s\n",
      "1000:\tlearn: 0.9995993\ttest: 0.9985558\tbest: 0.9985573 (988)\ttotal: 19.3s\tremaining: 19.3s\n",
      "1100:\tlearn: 0.9999110\ttest: 0.9991819\tbest: 0.9992712 (1095)\ttotal: 21.2s\tremaining: 17.3s\n",
      "1200:\tlearn: 1.0000000\ttest: 0.9995372\tbest: 0.9995372 (1174)\ttotal: 23.1s\tremaining: 15.4s\n",
      "bestTest = 0.999537222\n",
      "bestIteration = 1174\n",
      "Shrink model to first 1175 iterations.\n",
      "CPU times: total: 2min 32s\n",
      "Wall time: 1min 5s\n"
     ]
    }
   ],
   "source": [
    "%%time\n",
    "\n",
    "valid_scores, models_sf_new_fit = objective(\n",
    "    optuna.trial.FixedTrial(study.best_params),\n",
    "    X[selected_features], \n",
    "    y, \n",
    "    cat_features,\n",
    "    return_models=True,\n",
    ")"
   ]
  },
  {
   "cell_type": "code",
   "execution_count": 97,
   "metadata": {},
   "outputs": [
    {
     "data": {
      "text/plain": [
       "0.9974417468380543"
      ]
     },
     "execution_count": 97,
     "metadata": {},
     "output_type": "execute_result"
    }
   ],
   "source": [
    "valid_scores"
   ]
  },
  {
   "cell_type": "code",
   "execution_count": 98,
   "metadata": {},
   "outputs": [
    {
     "name": "stdout",
     "output_type": "stream",
     "text": [
      "829\n",
      "1043\n",
      "1175\n"
     ]
    }
   ],
   "source": [
    "for m in models_sf_new_fit:\n",
    "    print(m.tree_count_)"
   ]
  },
  {
   "cell_type": "code",
   "execution_count": 99,
   "metadata": {},
   "outputs": [
    {
     "name": "stdout",
     "output_type": "stream",
     "text": [
      "{'nan_mode': 'Min', 'gpu_ram_part': 0.95, 'eval_metric': 'TotalF1:average=Macro', 'combinations_ctr': ['Borders:CtrBorderCount=15:CtrBorderType=Uniform:TargetBorderCount=1:TargetBorderType=MinEntropy:Prior=0/1:Prior=0.5/1:Prior=1/1', 'FeatureFreq:CtrBorderCount=15:CtrBorderType=Median:Prior=0/1'], 'iterations': 2000, 'fold_permutation_block': 64, 'leaf_estimation_method': 'Newton', 'observations_to_bootstrap': 'TestOnly', 'od_pval': 0, 'random_score_type': 'NormalWithModelSizeDecrease', 'counter_calc_method': 'SkipTest', 'grow_policy': 'SymmetricTree', 'penalties_coefficient': 1, 'boosting_type': 'Plain', 'ctr_history_unit': 'Sample', 'feature_border_type': 'GreedyLogSum', 'bayesian_matrix_reg': 0.10000000149011612, 'one_hot_max_size': 2, 'devices': '-1', 'eval_fraction': 0, 'pinned_memory_bytes': '104857600', 'force_unit_auto_pair_weights': False, 'l2_leaf_reg': 3.7528271675109863, 'random_strength': 1, 'od_type': 'Iter', 'rsm': 1, 'boost_from_average': False, 'gpu_cat_features_storage': 'GpuRam', 'fold_size_loss_normalization': False, 'max_ctr_complexity': 4, 'model_size_reg': 0.5, 'simple_ctr': ['Borders:CtrBorderCount=15:CtrBorderType=Uniform:TargetBorderCount=1:TargetBorderType=MinEntropy:Prior=0/1:Prior=0.5/1:Prior=1/1', 'FeatureFreq:CtrBorderCount=15:CtrBorderType=MinEntropy:Prior=0/1'], 'pool_metainfo_options': {'tags': {}}, 'use_best_model': True, 'meta_l2_frequency': 0, 'od_wait': 100, 'class_names': [2, 5, 7, 8, 10, 18, 22, 23, 25, 26, 27, 28, 30, 31, 34, 36, 38, 40, 41, 42, 45, 47, 48, 50, 53, 56, 57], 'random_seed': 42, 'depth': 4, 'ctr_target_border_count': 1, 'has_time': False, 'border_count': 78, 'min_fold_size': 100, 'class_weights': [34.88461685180664, 151.1666717529297, 28.34375, 50.38888931274414, 75.58333587646484, 1, 15.637930870056152, 5.5987653732299805, 5.8516130447387695, 5.212643623352051, 2.644314765930176, 21.595237731933594, 151.1666717529297, 8.098214149475098, 5.095505714416504, 31.275861740112305, 100.77777862548828, 5.633540153503418, 12.424657821655272, 3.995594739913941, 23.86842155456543, 1.116995096206665, 1.9135020971298216, 1.4465709924697876, 1.0888354778289795, 11.060976028442385, 2.8343749046325684], 'data_partition': 'DocParallel', 'bagging_temperature': 1, 'classes_count': 0, 'auto_class_weights': 'Balanced', 'leaf_estimation_backtracking': 'AnyImprovement', 'best_model_min_trees': 1, 'min_data_in_leaf': 1, 'add_ridge_penalty_to_loss_function': False, 'loss_function': 'MultiClass', 'learning_rate': 0.039695609360933304, 'meta_l2_exponent': 1, 'score_function': 'Cosine', 'task_type': 'GPU', 'leaf_estimation_iterations': 1, 'bootstrap_type': 'Bayesian', 'max_leaves': 16, 'permutation_count': 4}\n",
      "{'nan_mode': 'Min', 'gpu_ram_part': 0.95, 'eval_metric': 'TotalF1:average=Macro', 'combinations_ctr': ['Borders:CtrBorderCount=15:CtrBorderType=Uniform:TargetBorderCount=1:TargetBorderType=MinEntropy:Prior=0/1:Prior=0.5/1:Prior=1/1', 'FeatureFreq:CtrBorderCount=15:CtrBorderType=Median:Prior=0/1'], 'iterations': 2000, 'fold_permutation_block': 64, 'leaf_estimation_method': 'Newton', 'observations_to_bootstrap': 'TestOnly', 'od_pval': 0, 'random_score_type': 'NormalWithModelSizeDecrease', 'counter_calc_method': 'SkipTest', 'grow_policy': 'SymmetricTree', 'penalties_coefficient': 1, 'boosting_type': 'Plain', 'ctr_history_unit': 'Sample', 'feature_border_type': 'GreedyLogSum', 'bayesian_matrix_reg': 0.10000000149011612, 'one_hot_max_size': 2, 'devices': '-1', 'eval_fraction': 0, 'pinned_memory_bytes': '104857600', 'force_unit_auto_pair_weights': False, 'l2_leaf_reg': 3.7528271675109863, 'random_strength': 1, 'od_type': 'Iter', 'rsm': 1, 'boost_from_average': False, 'gpu_cat_features_storage': 'GpuRam', 'fold_size_loss_normalization': False, 'max_ctr_complexity': 4, 'model_size_reg': 0.5, 'simple_ctr': ['Borders:CtrBorderCount=15:CtrBorderType=Uniform:TargetBorderCount=1:TargetBorderType=MinEntropy:Prior=0/1:Prior=0.5/1:Prior=1/1', 'FeatureFreq:CtrBorderCount=15:CtrBorderType=MinEntropy:Prior=0/1'], 'pool_metainfo_options': {'tags': {}}, 'use_best_model': True, 'meta_l2_frequency': 0, 'od_wait': 100, 'class_names': [2, 5, 7, 8, 10, 18, 22, 23, 25, 26, 27, 28, 30, 31, 34, 36, 38, 40, 41, 42, 45, 47, 48, 50, 53, 56, 57], 'random_seed': 42, 'depth': 4, 'ctr_target_border_count': 1, 'has_time': False, 'border_count': 78, 'min_fold_size': 100, 'class_weights': [34.88461685180664, 129.57142639160156, 28.34375, 50.38888931274414, 82.45454406738281, 1, 15.637930870056152, 5.5987653732299805, 5.889610290527344, 5.212643623352051, 2.644314765930176, 21.0930233001709, 129.57142639160156, 8.098214149475098, 5.095505714416504, 32.39285659790039, 113.375, 5.633540153503418, 12.256756782531738, 3.995594739913941, 23.86842155456543, 1.1156212091445925, 1.909473657608032, 1.4465709924697876, 1.0901442766189575, 11.060976028442385, 2.8343749046325684], 'data_partition': 'DocParallel', 'bagging_temperature': 1, 'classes_count': 0, 'auto_class_weights': 'Balanced', 'leaf_estimation_backtracking': 'AnyImprovement', 'best_model_min_trees': 1, 'min_data_in_leaf': 1, 'add_ridge_penalty_to_loss_function': False, 'loss_function': 'MultiClass', 'learning_rate': 0.039695609360933304, 'meta_l2_exponent': 1, 'score_function': 'Cosine', 'task_type': 'GPU', 'leaf_estimation_iterations': 1, 'bootstrap_type': 'Bayesian', 'max_leaves': 16, 'permutation_count': 4}\n",
      "{'nan_mode': 'Min', 'gpu_ram_part': 0.95, 'eval_metric': 'TotalF1:average=Macro', 'combinations_ctr': ['Borders:CtrBorderCount=15:CtrBorderType=Uniform:TargetBorderCount=1:TargetBorderType=MinEntropy:Prior=0/1:Prior=0.5/1:Prior=1/1', 'FeatureFreq:CtrBorderCount=15:CtrBorderType=Median:Prior=0/1'], 'iterations': 2000, 'fold_permutation_block': 64, 'leaf_estimation_method': 'Newton', 'observations_to_bootstrap': 'TestOnly', 'od_pval': 0, 'random_score_type': 'NormalWithModelSizeDecrease', 'counter_calc_method': 'SkipTest', 'grow_policy': 'SymmetricTree', 'penalties_coefficient': 1, 'boosting_type': 'Plain', 'ctr_history_unit': 'Sample', 'feature_border_type': 'GreedyLogSum', 'bayesian_matrix_reg': 0.10000000149011612, 'one_hot_max_size': 2, 'devices': '-1', 'eval_fraction': 0, 'pinned_memory_bytes': '104857600', 'force_unit_auto_pair_weights': False, 'l2_leaf_reg': 3.7528271675109863, 'random_strength': 1, 'od_type': 'Iter', 'rsm': 1, 'boost_from_average': False, 'gpu_cat_features_storage': 'GpuRam', 'fold_size_loss_normalization': False, 'max_ctr_complexity': 4, 'model_size_reg': 0.5, 'simple_ctr': ['Borders:CtrBorderCount=15:CtrBorderType=Uniform:TargetBorderCount=1:TargetBorderType=MinEntropy:Prior=0/1:Prior=0.5/1:Prior=1/1', 'FeatureFreq:CtrBorderCount=15:CtrBorderType=MinEntropy:Prior=0/1'], 'pool_metainfo_options': {'tags': {}}, 'use_best_model': True, 'meta_l2_frequency': 0, 'od_wait': 100, 'class_names': [2, 5, 7, 8, 10, 18, 22, 23, 25, 26, 27, 28, 30, 31, 34, 36, 38, 40, 41, 42, 45, 47, 48, 50, 53, 56, 57], 'random_seed': 42, 'depth': 4, 'ctr_target_border_count': 1, 'has_time': False, 'border_count': 78, 'min_fold_size': 100, 'class_weights': [34.846153259277344, 129.42857360839844, 28.3125, 50.33333206176758, 82.36363983154297, 1, 15.620689392089844, 5.592592716217041, 5.845161437988281, 5.206896781921387, 2.649122714996338, 21.069766998291016, 129.42857360839844, 8.089285850524902, 5.089887619018555, 31.241378784179688, 100.66666412353516, 5.592592716217041, 12.410959243774414, 4.008849620819092, 23.842105865478516, 1.1143910884857178, 1.9073684215545657, 1.4472843408584597, 1.0876350402832031, 11.04878044128418, 2.831249952316284], 'data_partition': 'DocParallel', 'bagging_temperature': 1, 'classes_count': 0, 'auto_class_weights': 'Balanced', 'leaf_estimation_backtracking': 'AnyImprovement', 'best_model_min_trees': 1, 'min_data_in_leaf': 1, 'add_ridge_penalty_to_loss_function': False, 'loss_function': 'MultiClass', 'learning_rate': 0.039695609360933304, 'meta_l2_exponent': 1, 'score_function': 'Cosine', 'task_type': 'GPU', 'leaf_estimation_iterations': 1, 'bootstrap_type': 'Bayesian', 'max_leaves': 16, 'permutation_count': 4}\n"
     ]
    }
   ],
   "source": [
    "for m in models_sf_new_fit:\n",
    "    print(m.get_all_params())"
   ]
  },
  {
   "cell_type": "code",
   "execution_count": null,
   "metadata": {},
   "outputs": [],
   "source": []
  },
  {
   "cell_type": "markdown",
   "metadata": {},
   "source": [
    "## Итоговое предсказание лучшей модели"
   ]
  },
  {
   "cell_type": "code",
   "execution_count": 100,
   "metadata": {},
   "outputs": [],
   "source": [
    "def make_prediction_dict(df_test, name_columns, models):\n",
    "    # из тестового набора выделяем фичи, на которых обучались\n",
    "    X = df_test.loc[:, name_columns]\n",
    "    # датафрейм с закодированными user_id из тестовой выборки\n",
    "    result = df_test.loc[:, ['user_word']]\n",
    "    # делаем предсказания user_id\n",
    "    predictions = np.array([model.predict(X) for model in models])\n",
    "    result['pred_user_id'] = mode(predictions, axis=0)[0].flatten()\n",
    "    result = result.groupby('user_word')['pred_user_id'].agg(lambda group: dict(group.value_counts())).to_dict()\n",
    "    return result"
   ]
  },
  {
   "cell_type": "code",
   "execution_count": 101,
   "metadata": {},
   "outputs": [],
   "source": [
    "def make_prediction(df_test, name_columns, models):\n",
    "    # из тестового набора выделяем фичи, на которых обучались\n",
    "    X = df_test.loc[:, name_columns]\n",
    "    # датафрейм с закодированными user_id из тестовой выборки\n",
    "    result = df_test.loc[:, ['user_word']]\n",
    "    # делаем предсказания user_id\n",
    "    predictions = np.array([model.predict(X) for model in models])\n",
    "    result['pred_user_id'] = mode(predictions, axis=0)[0].flatten()\n",
    "    # датафрейм: user_word; предсказанный user_id; количество предсказанных конкретных user_id для конкретной категории user_word\n",
    "    temp_1 = result.groupby(['user_word', 'pred_user_id']).size().reset_index(name='count_pred_user_id_in_user_word')\n",
    "    # датафрейм: user_word; количество user_word\n",
    "    temp_2 = result['user_word'].value_counts().reset_index(name='count_user_word')\n",
    "    # датафрейм: pred_user_id; количество pred_user_id\n",
    "    temp_3 = result['pred_user_id'].value_counts().reset_index(name='count_pred_user_id')\n",
    "    # датафрейм: user_word; pred_user_id; count_pred_user_id_in_user_word; count_user_word; count_pred_user_id\n",
    "    result = temp_1.merge(temp_2, on='user_word', how='left').merge(temp_3, on='pred_user_id', how='left')\n",
    "    # добавляем уверенность модели в том, что предсказанный user_id, соответсвует user_word, в знаменателе - кол-во user_word\n",
    "    result['confidence_per_user_word'] = result['count_pred_user_id_in_user_word'] / result['count_user_word']\n",
    "    # добавляем уверенность модели в том, что предсказанный user_id, соответсвует user_word, в знаменателе - кол-во pred_user_id\n",
    "    result['confidence_per_pred_user_id'] = result['count_pred_user_id_in_user_word'] / result['count_pred_user_id']\n",
    "    # итоговая уверенность\n",
    "    result['confidence'] = result['confidence_per_user_word'] + result['confidence_per_pred_user_id']\n",
    "    # сортируем данные по убыванию уверенности\n",
    "    result = result.sort_values(by='confidence', ascending=False)\n",
    "\n",
    "    # формируем итоговый датафрейм\n",
    "    final = pd.DataFrame(columns=['user_word', 'preds'])\n",
    "    # user_word, которые уже добавлены в final\n",
    "    words = set()\n",
    "    # user_id, которые уже добавлены в final\n",
    "    ids = set()\n",
    "    # добавляем в final предсказания по приоритету уверенности (result уже отсортирован)\n",
    "    for _, row in result.iterrows():\n",
    "        word, user_id = row['user_word'], row['pred_user_id']\n",
    "        if word not in words and user_id not in ids and row['confidence'] > 0.1:\n",
    "            final.loc[len(final)] = [word, user_id]\n",
    "            words.add(word)\n",
    "            ids.add(user_id)\n",
    "\n",
    "    # категориям, насчет которых модель не уверена, проставляется -999\n",
    "    for word in (set(result['user_word'].unique()) - set(final['user_word'])):\n",
    "        final.loc[len(final)] = [word, -999]\n",
    "    \n",
    "    return final.sort_values(by='user_word')"
   ]
  },
  {
   "cell_type": "code",
   "execution_count": 102,
   "metadata": {},
   "outputs": [],
   "source": [
    "df_test = df_test.rename(columns={'user_id': 'user_word'})"
   ]
  },
  {
   "cell_type": "markdown",
   "metadata": {},
   "source": [
    "Сделаем предсказание"
   ]
  },
  {
   "cell_type": "markdown",
   "metadata": {},
   "source": [
    "После удаления фичей, уменьшающих скор, и повторного подбора гиперпараметров"
   ]
  },
  {
   "cell_type": "code",
   "execution_count": 103,
   "metadata": {},
   "outputs": [
    {
     "data": {
      "text/plain": [
       "{'blue': {36: 7, 25: 5},\n",
       " 'coefficient': {18: 24, 34: 13, 27: 7, 22: 7, 25: 3, 41: 2},\n",
       " 'collinear': {50: 133, 23: 58, 47: 27, 2: 16, 41: 11, 56: 7},\n",
       " 'fit': {23: 166, 50: 17},\n",
       " 'lasso': {41: 10, 36: 9, 25: 6, 56: 4, 30: 3, 23: 1},\n",
       " 'logistic': {36: 5},\n",
       " 'minimization': {50: 78, 41: 13, 30: 4},\n",
       " 'precision': {41: 16, 56: 11, 23: 8, 50: 3},\n",
       " 'regression': {41: 28, 22: 11, 56: 3},\n",
       " 'residual': {50: 157, 48: 42, 47: 20, 25: 5}}"
      ]
     },
     "execution_count": 103,
     "metadata": {},
     "output_type": "execute_result"
    }
   ],
   "source": [
    "result_dct_sf_new_fit = make_prediction_dict(df_test, selected_features, models_sf_new_fit)\n",
    "result_dct_sf_new_fit"
   ]
  },
  {
   "cell_type": "code",
   "execution_count": null,
   "metadata": {},
   "outputs": [],
   "source": [
    "{'blue': {56: 12},\n",
    " 'coefficient': {49: 21, 26: 10, 41: 8, 18: 7, 25: 7, 40: 3},\n",
    " 'collinear': {50: 144, 23: 47, 29: 40, 49: 14, 25: 7},\n",
    " 'fit': {23: 160, 49: 8, 29: 8, 25: 7},\n",
    " 'independent': {49: 193, 23: 27, 18: 14},\n",
    " 'lasso': {25: 13, 56: 10, 41: 10},\n",
    " 'logistic': {56: 5},\n",
    " 'matrix': {29: 67, 50: 24, 23: 11, 41: 9, 49: 8, 56: 7, 25: 6},\n",
    " 'minimization': {50: 60, 41: 30, 56: 4, 10: 1},\n",
    " 'precision': {41: 16, 23: 11, 25: 11},\n",
    " 'regression': {50: 14, 41: 14, 49: 14},\n",
    " 'residual': {50: 106, 29: 76, 49: 22, 47: 20}}"
   ]
  },
  {
   "cell_type": "code",
   "execution_count": null,
   "metadata": {},
   "outputs": [],
   "source": [
    "{'blue': {30: 7, 56: 5},\n",
    " 'coefficient': {18: 16, 2: 12, 34: 9, 22: 9, 23: 7, 7: 3},\n",
    " 'collinear': {50: 147,\n",
    "  29: 42,\n",
    "  23: 41,\n",
    "  41: 20,\n",
    "  2: 16,\n",
    "  22: 9,\n",
    "  38: 9,\n",
    "  56: 8,\n",
    "  25: 6},\n",
    " 'fit': {23: 144, 2: 24, 25: 8, 50: 7},\n",
    " 'independent': {49: 170, 23: 69, 26: 25, 41: 14},\n",
    " 'lasso': {34: 10, 56: 8, 36: 5, 30: 5, 23: 5},\n",
    " 'logistic': {36: 5},\n",
    " 'matrix': {29: 46, 50: 31, 2: 19, 41: 17, 30: 16, 25: 12, 22: 9, 10: 7},\n",
    " 'minimization': {50: 59, 41: 21, 10: 11, 30: 4},\n",
    " 'precision': {23: 38, 25: 15},\n",
    " 'regression': {41: 28, 50: 14, 56: 8},\n",
    " 'residual': {50: 94, 29: 91, 47: 34, 25: 5}}"
   ]
  },
  {
   "cell_type": "code",
   "execution_count": null,
   "metadata": {},
   "outputs": [],
   "source": [
    "{'blue': {25: 12},\n",
    " 'coefficient': {18: 28, 49: 12, 41: 9, 27: 7},\n",
    " 'collinear': {50: 108, 29: 97, 23: 47, 18: 20, 49: 18, 56: 8},\n",
    " 'fit': {23: 157, 50: 13, 49: 8, 29: 5},\n",
    " 'independent': {49: 241, 23: 21, 18: 14, 50: 2},\n",
    " 'lasso': {25: 13, 18: 10, 56: 9, 23: 1},\n",
    " 'logistic': {56: 5},\n",
    " 'matrix': {29: 84, 49: 33, 50: 13, 2: 11, 47: 9, 27: 6, 23: 1},\n",
    " 'minimization': {50: 91, 30: 4},\n",
    " 'precision': {50: 52, 23: 1},\n",
    " 'regression': {50: 14, 49: 14, 29: 8, 47: 8, 41: 6},\n",
    " 'residual': {50: 102, 29: 85, 49: 37}}"
   ]
  },
  {
   "cell_type": "code",
   "execution_count": 104,
   "metadata": {},
   "outputs": [
    {
     "data": {
      "text/html": [
       "<div>\n",
       "<style scoped>\n",
       "    .dataframe tbody tr th:only-of-type {\n",
       "        vertical-align: middle;\n",
       "    }\n",
       "\n",
       "    .dataframe tbody tr th {\n",
       "        vertical-align: top;\n",
       "    }\n",
       "\n",
       "    .dataframe thead th {\n",
       "        text-align: right;\n",
       "    }\n",
       "</style>\n",
       "<table border=\"1\" class=\"dataframe\">\n",
       "  <thead>\n",
       "    <tr style=\"text-align: right;\">\n",
       "      <th></th>\n",
       "      <th>user_word</th>\n",
       "      <th>preds</th>\n",
       "    </tr>\n",
       "  </thead>\n",
       "  <tbody>\n",
       "    <tr>\n",
       "      <th>8</th>\n",
       "      <td>blue</td>\n",
       "      <td>25</td>\n",
       "    </tr>\n",
       "    <tr>\n",
       "      <th>1</th>\n",
       "      <td>coefficient</td>\n",
       "      <td>18</td>\n",
       "    </tr>\n",
       "    <tr>\n",
       "      <th>4</th>\n",
       "      <td>collinear</td>\n",
       "      <td>2</td>\n",
       "    </tr>\n",
       "    <tr>\n",
       "      <th>0</th>\n",
       "      <td>fit</td>\n",
       "      <td>23</td>\n",
       "    </tr>\n",
       "    <tr>\n",
       "      <th>9</th>\n",
       "      <td>lasso</td>\n",
       "      <td>30</td>\n",
       "    </tr>\n",
       "    <tr>\n",
       "      <th>2</th>\n",
       "      <td>logistic</td>\n",
       "      <td>36</td>\n",
       "    </tr>\n",
       "    <tr>\n",
       "      <th>5</th>\n",
       "      <td>minimization</td>\n",
       "      <td>50</td>\n",
       "    </tr>\n",
       "    <tr>\n",
       "      <th>7</th>\n",
       "      <td>precision</td>\n",
       "      <td>56</td>\n",
       "    </tr>\n",
       "    <tr>\n",
       "      <th>6</th>\n",
       "      <td>regression</td>\n",
       "      <td>41</td>\n",
       "    </tr>\n",
       "    <tr>\n",
       "      <th>3</th>\n",
       "      <td>residual</td>\n",
       "      <td>48</td>\n",
       "    </tr>\n",
       "  </tbody>\n",
       "</table>\n",
       "</div>"
      ],
      "text/plain": [
       "      user_word  preds\n",
       "8          blue     25\n",
       "1   coefficient     18\n",
       "4     collinear      2\n",
       "0           fit     23\n",
       "9         lasso     30\n",
       "2      logistic     36\n",
       "5  minimization     50\n",
       "7     precision     56\n",
       "6    regression     41\n",
       "3      residual     48"
      ]
     },
     "execution_count": 104,
     "metadata": {},
     "output_type": "execute_result"
    }
   ],
   "source": [
    "result_cb_sf_new_fit = make_prediction(df_test, selected_features, models_sf_new_fit)\n",
    "result_cb_sf_new_fit"
   ]
  },
  {
   "cell_type": "code",
   "execution_count": 105,
   "metadata": {},
   "outputs": [
    {
     "data": {
      "text/plain": [
       "10"
      ]
     },
     "execution_count": 105,
     "metadata": {},
     "output_type": "execute_result"
    }
   ],
   "source": [
    "len(result_cb_sf_new_fit)"
   ]
  },
  {
   "cell_type": "markdown",
   "metadata": {},
   "source": [
    "Сохраненим результаты"
   ]
  },
  {
   "cell_type": "code",
   "execution_count": 302,
   "metadata": {},
   "outputs": [],
   "source": [
    "# csv_buffer = io.StringIO()\n",
    "\n",
    "# # result_cb.to_csv(csv_buffer, index=False)\n",
    "\n",
    "# # result_cb_sf.to_csv(csv_buffer, index=False)\n",
    "\n",
    "# result_cb_sf_new_fit.to_csv(csv_buffer, index=False)\n",
    "\n",
    "# with zipfile.ZipFile('../data/answer.zip', mode='w', compression=zipfile.ZIP_DEFLATED) as zf:\n",
    "#     zf.writestr('answer.csv', csv_buffer.getvalue())"
   ]
  },
  {
   "cell_type": "code",
   "execution_count": 106,
   "metadata": {},
   "outputs": [],
   "source": [
    "# result_cb.to_csv('../data/submit_cb_v_05_all.csv', index=False)\n",
    "\n",
    "# result_cb_sf.to_csv('../data/submit_cb_v_05_sf.csv', index=False)\n",
    "\n",
    "result_cb_sf_new_fit.to_csv('../data/experiment_04.csv', index=False)"
   ]
  },
  {
   "cell_type": "markdown",
   "metadata": {},
   "source": [
    "# Сравнение ответов"
   ]
  },
  {
   "cell_type": "code",
   "execution_count": 107,
   "metadata": {},
   "outputs": [],
   "source": [
    "right_answers = pd.read_csv(r'E:\\projects\\SHIFT\\предыдущие_наработки\\right_answers.csv')\n",
    "res_ivan = pd.read_csv(r'E:\\projects\\SHIFT\\От_Ивана\\ШИФТ тест\\Решения\\1) 04_02_2024\\answer_ivan.csv')\n",
    "res_vera = pd.read_csv(r'E:\\projects\\SHIFT\\От_Ивана\\ШИФТ тест\\Решения\\4) Ivanova_Vera_SaintPetersburg 358\\shift_ml-main\\answer_vera.csv')\n",
    "res_cb_01 = pd.read_csv('../data/experiment_01.csv')\n",
    "res_cb_02 = pd.read_csv('../data/experiment_02.csv')\n",
    "res_cb_03 = pd.read_csv('../data/experiment_03.csv')\n",
    "res_cb_04 = pd.read_csv('../data/experiment_04.csv')"
   ]
  },
  {
   "cell_type": "code",
   "execution_count": 108,
   "metadata": {},
   "outputs": [
    {
     "data": {
      "text/plain": [
       "array(['blue', 'coefficient', 'collinear', 'fit', 'lasso', 'logistic',\n",
       "       'minimization', 'precision', 'regression', 'residual'],\n",
       "      dtype=object)"
      ]
     },
     "execution_count": 108,
     "metadata": {},
     "output_type": "execute_result"
    }
   ],
   "source": [
    "u_w = res_cb_04.user_word.unique()\n",
    "u_w"
   ]
  },
  {
   "cell_type": "code",
   "execution_count": 110,
   "metadata": {},
   "outputs": [],
   "source": [
    "res = right_answers.loc[:].rename(columns={'preds': 'right_answers'}).query('user_word in @u_w').reset_index(drop=True)\n",
    "res['right_answers'] = res['right_answers'].apply(lambda x: f'{x:.0f}')\n",
    "res['ivan'] = res_ivan.query('user_word in @u_w').reset_index(drop=True)['preds']\n",
    "res['vera'] = res_vera.query('word in @u_w').reset_index(drop=True)['preds']\n",
    "res['cb_v_01'] = res_cb_01.query('user_word in @u_w').reset_index(drop=True)['preds']\n",
    "res['cb_v_02'] = res_cb_02.query('user_word in @u_w').reset_index(drop=True)['preds']\n",
    "res['cb_v_03'] = res_cb_03.query('user_word in @u_w').reset_index(drop=True)['preds']\n",
    "res['cb_v_04'] = res_cb_04['preds']"
   ]
  },
  {
   "cell_type": "code",
   "execution_count": 111,
   "metadata": {},
   "outputs": [
    {
     "data": {
      "text/html": [
       "<style type=\"text/css\">\n",
       "#T_d52d4_row0_col6, #T_d52d4_row4_col6, #T_d52d4_row8_col2, #T_d52d4_row8_col6, #T_d52d4_row9_col5, #T_d52d4_row9_col6 {\n",
       "  background-color: green;\n",
       "}\n",
       "</style>\n",
       "<table id=\"T_d52d4\">\n",
       "  <thead>\n",
       "    <tr>\n",
       "      <th class=\"blank level0\" >&nbsp;</th>\n",
       "      <th id=\"T_d52d4_level0_col0\" class=\"col_heading level0 col0\" >user_word</th>\n",
       "      <th id=\"T_d52d4_level0_col1\" class=\"col_heading level0 col1\" >right_answers</th>\n",
       "      <th id=\"T_d52d4_level0_col2\" class=\"col_heading level0 col2\" >ivan</th>\n",
       "      <th id=\"T_d52d4_level0_col3\" class=\"col_heading level0 col3\" >vera</th>\n",
       "      <th id=\"T_d52d4_level0_col4\" class=\"col_heading level0 col4\" >cb_v_01</th>\n",
       "      <th id=\"T_d52d4_level0_col5\" class=\"col_heading level0 col5\" >cb_v_02</th>\n",
       "      <th id=\"T_d52d4_level0_col6\" class=\"col_heading level0 col6\" >cb_v_03</th>\n",
       "      <th id=\"T_d52d4_level0_col7\" class=\"col_heading level0 col7\" >cb_v_04</th>\n",
       "    </tr>\n",
       "  </thead>\n",
       "  <tbody>\n",
       "    <tr>\n",
       "      <th id=\"T_d52d4_level0_row0\" class=\"row_heading level0 row0\" >0</th>\n",
       "      <td id=\"T_d52d4_row0_col0\" class=\"data row0 col0\" >blue</td>\n",
       "      <td id=\"T_d52d4_row0_col1\" class=\"data row0 col1\" >nan</td>\n",
       "      <td id=\"T_d52d4_row0_col2\" class=\"data row0 col2\" >-999</td>\n",
       "      <td id=\"T_d52d4_row0_col3\" class=\"data row0 col3\" >56</td>\n",
       "      <td id=\"T_d52d4_row0_col4\" class=\"data row0 col4\" >25</td>\n",
       "      <td id=\"T_d52d4_row0_col5\" class=\"data row0 col5\" >30</td>\n",
       "      <td id=\"T_d52d4_row0_col6\" class=\"data row0 col6\" >56</td>\n",
       "      <td id=\"T_d52d4_row0_col7\" class=\"data row0 col7\" >25</td>\n",
       "    </tr>\n",
       "    <tr>\n",
       "      <th id=\"T_d52d4_level0_row1\" class=\"row_heading level0 row1\" >1</th>\n",
       "      <td id=\"T_d52d4_row1_col0\" class=\"data row1 col0\" >coefficient</td>\n",
       "      <td id=\"T_d52d4_row1_col1\" class=\"data row1 col1\" >nan</td>\n",
       "      <td id=\"T_d52d4_row1_col2\" class=\"data row1 col2\" >-999</td>\n",
       "      <td id=\"T_d52d4_row1_col3\" class=\"data row1 col3\" >27</td>\n",
       "      <td id=\"T_d52d4_row1_col4\" class=\"data row1 col4\" >18</td>\n",
       "      <td id=\"T_d52d4_row1_col5\" class=\"data row1 col5\" >18</td>\n",
       "      <td id=\"T_d52d4_row1_col6\" class=\"data row1 col6\" >26</td>\n",
       "      <td id=\"T_d52d4_row1_col7\" class=\"data row1 col7\" >18</td>\n",
       "    </tr>\n",
       "    <tr>\n",
       "      <th id=\"T_d52d4_level0_row2\" class=\"row_heading level0 row2\" >2</th>\n",
       "      <td id=\"T_d52d4_row2_col0\" class=\"data row2 col0\" >collinear</td>\n",
       "      <td id=\"T_d52d4_row2_col1\" class=\"data row2 col1\" >nan</td>\n",
       "      <td id=\"T_d52d4_row2_col2\" class=\"data row2 col2\" >-999</td>\n",
       "      <td id=\"T_d52d4_row2_col3\" class=\"data row2 col3\" >23</td>\n",
       "      <td id=\"T_d52d4_row2_col4\" class=\"data row2 col4\" >-999</td>\n",
       "      <td id=\"T_d52d4_row2_col5\" class=\"data row2 col5\" >38</td>\n",
       "      <td id=\"T_d52d4_row2_col6\" class=\"data row2 col6\" >50</td>\n",
       "      <td id=\"T_d52d4_row2_col7\" class=\"data row2 col7\" >2</td>\n",
       "    </tr>\n",
       "    <tr>\n",
       "      <th id=\"T_d52d4_level0_row3\" class=\"row_heading level0 row3\" >3</th>\n",
       "      <td id=\"T_d52d4_row3_col0\" class=\"data row3 col0\" >fit</td>\n",
       "      <td id=\"T_d52d4_row3_col1\" class=\"data row3 col1\" >nan</td>\n",
       "      <td id=\"T_d52d4_row3_col2\" class=\"data row3 col2\" >23</td>\n",
       "      <td id=\"T_d52d4_row3_col3\" class=\"data row3 col3\" >6</td>\n",
       "      <td id=\"T_d52d4_row3_col4\" class=\"data row3 col4\" >23</td>\n",
       "      <td id=\"T_d52d4_row3_col5\" class=\"data row3 col5\" >23</td>\n",
       "      <td id=\"T_d52d4_row3_col6\" class=\"data row3 col6\" >23</td>\n",
       "      <td id=\"T_d52d4_row3_col7\" class=\"data row3 col7\" >23</td>\n",
       "    </tr>\n",
       "    <tr>\n",
       "      <th id=\"T_d52d4_level0_row4\" class=\"row_heading level0 row4\" >4</th>\n",
       "      <td id=\"T_d52d4_row4_col0\" class=\"data row4 col0\" >lasso</td>\n",
       "      <td id=\"T_d52d4_row4_col1\" class=\"data row4 col1\" >nan</td>\n",
       "      <td id=\"T_d52d4_row4_col2\" class=\"data row4 col2\" >36</td>\n",
       "      <td id=\"T_d52d4_row4_col3\" class=\"data row4 col3\" >25</td>\n",
       "      <td id=\"T_d52d4_row4_col4\" class=\"data row4 col4\" >-999</td>\n",
       "      <td id=\"T_d52d4_row4_col5\" class=\"data row4 col5\" >34</td>\n",
       "      <td id=\"T_d52d4_row4_col6\" class=\"data row4 col6\" >25</td>\n",
       "      <td id=\"T_d52d4_row4_col7\" class=\"data row4 col7\" >30</td>\n",
       "    </tr>\n",
       "    <tr>\n",
       "      <th id=\"T_d52d4_level0_row5\" class=\"row_heading level0 row5\" >5</th>\n",
       "      <td id=\"T_d52d4_row5_col0\" class=\"data row5 col0\" >logistic</td>\n",
       "      <td id=\"T_d52d4_row5_col1\" class=\"data row5 col1\" >nan</td>\n",
       "      <td id=\"T_d52d4_row5_col2\" class=\"data row5 col2\" >-999</td>\n",
       "      <td id=\"T_d52d4_row5_col3\" class=\"data row5 col3\" >31</td>\n",
       "      <td id=\"T_d52d4_row5_col4\" class=\"data row5 col4\" >56</td>\n",
       "      <td id=\"T_d52d4_row5_col5\" class=\"data row5 col5\" >36</td>\n",
       "      <td id=\"T_d52d4_row5_col6\" class=\"data row5 col6\" >-999</td>\n",
       "      <td id=\"T_d52d4_row5_col7\" class=\"data row5 col7\" >36</td>\n",
       "    </tr>\n",
       "    <tr>\n",
       "      <th id=\"T_d52d4_level0_row6\" class=\"row_heading level0 row6\" >6</th>\n",
       "      <td id=\"T_d52d4_row6_col0\" class=\"data row6 col0\" >minimization</td>\n",
       "      <td id=\"T_d52d4_row6_col1\" class=\"data row6 col1\" >nan</td>\n",
       "      <td id=\"T_d52d4_row6_col2\" class=\"data row6 col2\" >50</td>\n",
       "      <td id=\"T_d52d4_row6_col3\" class=\"data row6 col3\" >48</td>\n",
       "      <td id=\"T_d52d4_row6_col4\" class=\"data row6 col4\" >50</td>\n",
       "      <td id=\"T_d52d4_row6_col5\" class=\"data row6 col5\" >50</td>\n",
       "      <td id=\"T_d52d4_row6_col6\" class=\"data row6 col6\" >10</td>\n",
       "      <td id=\"T_d52d4_row6_col7\" class=\"data row6 col7\" >50</td>\n",
       "    </tr>\n",
       "    <tr>\n",
       "      <th id=\"T_d52d4_level0_row7\" class=\"row_heading level0 row7\" >7</th>\n",
       "      <td id=\"T_d52d4_row7_col0\" class=\"data row7 col0\" >precision</td>\n",
       "      <td id=\"T_d52d4_row7_col1\" class=\"data row7 col1\" >nan</td>\n",
       "      <td id=\"T_d52d4_row7_col2\" class=\"data row7 col2\" >-999</td>\n",
       "      <td id=\"T_d52d4_row7_col3\" class=\"data row7 col3\" >8</td>\n",
       "      <td id=\"T_d52d4_row7_col4\" class=\"data row7 col4\" >-999</td>\n",
       "      <td id=\"T_d52d4_row7_col5\" class=\"data row7 col5\" >25</td>\n",
       "      <td id=\"T_d52d4_row7_col6\" class=\"data row7 col6\" >41</td>\n",
       "      <td id=\"T_d52d4_row7_col7\" class=\"data row7 col7\" >56</td>\n",
       "    </tr>\n",
       "    <tr>\n",
       "      <th id=\"T_d52d4_level0_row8\" class=\"row_heading level0 row8\" >8</th>\n",
       "      <td id=\"T_d52d4_row8_col0\" class=\"data row8 col0\" >regression</td>\n",
       "      <td id=\"T_d52d4_row8_col1\" class=\"data row8 col1\" >nan</td>\n",
       "      <td id=\"T_d52d4_row8_col2\" class=\"data row8 col2\" >-999</td>\n",
       "      <td id=\"T_d52d4_row8_col3\" class=\"data row8 col3\" >-999</td>\n",
       "      <td id=\"T_d52d4_row8_col4\" class=\"data row8 col4\" >47</td>\n",
       "      <td id=\"T_d52d4_row8_col5\" class=\"data row8 col5\" >41</td>\n",
       "      <td id=\"T_d52d4_row8_col6\" class=\"data row8 col6\" >-999</td>\n",
       "      <td id=\"T_d52d4_row8_col7\" class=\"data row8 col7\" >41</td>\n",
       "    </tr>\n",
       "    <tr>\n",
       "      <th id=\"T_d52d4_level0_row9\" class=\"row_heading level0 row9\" >9</th>\n",
       "      <td id=\"T_d52d4_row9_col0\" class=\"data row9 col0\" >residual</td>\n",
       "      <td id=\"T_d52d4_row9_col1\" class=\"data row9 col1\" >nan</td>\n",
       "      <td id=\"T_d52d4_row9_col2\" class=\"data row9 col2\" >-999</td>\n",
       "      <td id=\"T_d52d4_row9_col3\" class=\"data row9 col3\" >47</td>\n",
       "      <td id=\"T_d52d4_row9_col4\" class=\"data row9 col4\" >29</td>\n",
       "      <td id=\"T_d52d4_row9_col5\" class=\"data row9 col5\" >47</td>\n",
       "      <td id=\"T_d52d4_row9_col6\" class=\"data row9 col6\" >47</td>\n",
       "      <td id=\"T_d52d4_row9_col7\" class=\"data row9 col7\" >48</td>\n",
       "    </tr>\n",
       "  </tbody>\n",
       "</table>\n"
      ],
      "text/plain": [
       "<pandas.io.formats.style.Styler at 0x2b896e988e0>"
      ]
     },
     "execution_count": 111,
     "metadata": {},
     "output_type": "execute_result"
    }
   ],
   "source": [
    "# Функция для условного форматирования\n",
    "def highlight_matching_cells(x):\n",
    "    ref_col = x['vera']\n",
    "    df_styled = pd.DataFrame('', index=x.index, columns=x.columns)\n",
    "    for col in x.columns:\n",
    "        if col == 'right_answers':\n",
    "            df_styled[col] = ['background-color: red' if x[col].iloc[i] != 'nan' else '' for i in range(len(x))]\n",
    "        elif col != 'vera':\n",
    "            df_styled[col] = ['background-color: green' if x[col].iloc[i] == ref_col.iloc[i] else '' for i in range(len(x))]\n",
    "    return df_styled\n",
    "\n",
    "# Применение стиля\n",
    "res.style.apply(highlight_matching_cells, axis=None)"
   ]
  },
  {
   "cell_type": "markdown",
   "metadata": {},
   "source": [
    "# The end"
   ]
  }
 ],
 "metadata": {
  "kernelspec": {
   "display_name": "venv",
   "language": "python",
   "name": "python3"
  },
  "language_info": {
   "codemirror_mode": {
    "name": "ipython",
    "version": 3
   },
   "file_extension": ".py",
   "mimetype": "text/x-python",
   "name": "python",
   "nbconvert_exporter": "python",
   "pygments_lexer": "ipython3",
   "version": "3.10.7"
  }
 },
 "nbformat": 4,
 "nbformat_minor": 2
}
