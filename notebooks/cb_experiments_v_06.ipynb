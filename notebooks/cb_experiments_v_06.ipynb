{
 "cells": [
  {
   "cell_type": "markdown",
   "metadata": {},
   "source": [
    "ML ШИФТ"
   ]
  },
  {
   "cell_type": "markdown",
   "metadata": {},
   "source": [
    "[JINT] (SHIFT-64009) Пашина Алёна"
   ]
  },
  {
   "cell_type": "markdown",
   "metadata": {},
   "source": []
  },
  {
   "cell_type": "markdown",
   "metadata": {},
   "source": [
    "# Описание задачи\n",
    "\n",
    "Чтобы попасть в здание, нужно пройти через турникет. Чтобы открыть парковку, нужно открыть шлагбаум. Чтобы попасть на этаж, нужно приложить 'таблетку'. Все это фиксируется - кто, в какую дату, в какое время.\n",
    "Сможем ли мы выучить, кому конкретно принадлежит 'след' прохода через турникеты? Мы знаем, что это был кто-то, кто уже был. (Правда, есть и несколько новых - не больше 10%).\n",
    "\n",
    "'8 утра понедельник, турникет 4? Директор.' '11 утра суббота? Гриша. Но Гриша в последний день месяца никогда не приходит.'  Какие есть паттерны в настоящих данных?\n",
    "\n",
    "**Цель** - предсказать, кто вошел в здание по времени и турникету.\n",
    "\n",
    "**Описание данных**\n",
    "\n",
    "В обучающей выборке:\n",
    "\n",
    "* `user_id` - ID посетителя\n",
    "* `ts` - дата и время прохождения через турникет\n",
    "* `gate_id` - ID турникета\n",
    "\n",
    "В тестовой выборке `user_id` заменены на слова: `aucroc, binary, blue, categorical` и т.п.\n",
    "\n",
    "Требуется составить таблицу вида:\n",
    "\n",
    "| user_word | preds |\n",
    "| --- | --- |\n",
    "| aucroc | 50 |\n",
    "| binary | 11 |\n",
    "| blue | -999 |\n",
    "| ... | ... |\n",
    "\n",
    "* `user_word` - закодированные ID пользователей\n",
    "* `preds` - предсказанные ID\n",
    "* `-999` - ID нового посетителя, которого раньше не было\n",
    "\n",
    "Таблицу нужно запомнить как `csv` и потом заархивировать в `zip` архив. \n",
    "\n",
    "Каждому слову сопоставлен вес, который зависит от того, насколько трудно предсказать ID. Баллы набираются как взвешенная по весам сумма правильных ответов. Чем сложнее отгадали слово, тем больше баллов.\n",
    "\n",
    "Посетителей здания будем считать сотрудниками некой компании."
   ]
  },
  {
   "cell_type": "markdown",
   "metadata": {},
   "source": [
    "# Импорт библиотек"
   ]
  },
  {
   "cell_type": "code",
   "execution_count": 1,
   "metadata": {},
   "outputs": [],
   "source": [
    "import pandas as pd\n",
    "import numpy as np\n",
    "import sklearn\n",
    "import warnings\n",
    "import matplotlib.pyplot as plt\n",
    "import seaborn as sns\n",
    "import joblib\n",
    "import lightgbm as lgb\n",
    "\n",
    "from sklearn.model_selection import train_test_split, cross_val_score, GridSearchCV, StratifiedKFold\n",
    "from sklearn.compose import ColumnTransformer\n",
    "from sklearn.pipeline import Pipeline\n",
    "\n",
    "from sklearn.metrics import (roc_auc_score, \n",
    "                             f1_score,\n",
    "                             roc_curve, \n",
    "                             accuracy_score, \n",
    "                             ConfusionMatrixDisplay, \n",
    "                             confusion_matrix, \n",
    "                             recall_score,\n",
    "                             precision_score)\n",
    "from sklearn.inspection import permutation_importance\n",
    "from catboost import (CatBoostClassifier,\n",
    "                        Pool,\n",
    "                        EShapCalcType,\n",
    "                        EFeaturesSelectionAlgorithm)\n",
    "\n",
    "import shap\n",
    "import loguru\n",
    "import plotly\n",
    "import phik\n",
    "import zipfile\n",
    "import io\n",
    "import re\n",
    "from optuna.integration import OptunaSearchCV\n",
    "from optuna.distributions import IntDistribution, FloatDistribution\n",
    "import optuna\n",
    "from scipy.stats import mode"
   ]
  },
  {
   "cell_type": "code",
   "execution_count": 2,
   "metadata": {},
   "outputs": [],
   "source": [
    "# sklearn.set_config(transform_output=\"pandas\")\n",
    "warnings.filterwarnings('ignore')\n",
    "pd.options.display.float_format = '{:,.2f}'.format\n",
    "\n",
    "RANDOM_STATE = 42"
   ]
  },
  {
   "cell_type": "code",
   "execution_count": 3,
   "metadata": {},
   "outputs": [],
   "source": [
    "pd.set_option('display.max_rows', 300)\n",
    "pd.set_option('display.max_columns', 300)"
   ]
  },
  {
   "cell_type": "markdown",
   "metadata": {},
   "source": [
    "# Первичный анализ и предобработка данных"
   ]
  },
  {
   "cell_type": "code",
   "execution_count": 4,
   "metadata": {},
   "outputs": [],
   "source": [
    "df_train = pd.read_csv('../data/train.csv', index_col=[0], parse_dates=[2])\n",
    "df_test = pd.read_csv('../data/test.csv', index_col=[0], parse_dates=[1])\n",
    "ex_submit = pd.read_csv('../data/submit.csv')"
   ]
  },
  {
   "cell_type": "code",
   "execution_count": 5,
   "metadata": {},
   "outputs": [
    {
     "name": "stdout",
     "output_type": "stream",
     "text": [
      "\u001b[1mтренировочная выборка:\u001b[0m\n"
     ]
    },
    {
     "data": {
      "text/html": [
       "<div>\n",
       "<style scoped>\n",
       "    .dataframe tbody tr th:only-of-type {\n",
       "        vertical-align: middle;\n",
       "    }\n",
       "\n",
       "    .dataframe tbody tr th {\n",
       "        vertical-align: top;\n",
       "    }\n",
       "\n",
       "    .dataframe thead th {\n",
       "        text-align: right;\n",
       "    }\n",
       "</style>\n",
       "<table border=\"1\" class=\"dataframe\">\n",
       "  <thead>\n",
       "    <tr style=\"text-align: right;\">\n",
       "      <th></th>\n",
       "      <th>user_id</th>\n",
       "      <th>ts</th>\n",
       "      <th>gate_id</th>\n",
       "    </tr>\n",
       "  </thead>\n",
       "  <tbody>\n",
       "    <tr>\n",
       "      <th>0</th>\n",
       "      <td>18</td>\n",
       "      <td>2022-07-29 09:08:54</td>\n",
       "      <td>7</td>\n",
       "    </tr>\n",
       "    <tr>\n",
       "      <th>1</th>\n",
       "      <td>18</td>\n",
       "      <td>2022-07-29 09:09:54</td>\n",
       "      <td>9</td>\n",
       "    </tr>\n",
       "    <tr>\n",
       "      <th>2</th>\n",
       "      <td>18</td>\n",
       "      <td>2022-07-29 09:09:54</td>\n",
       "      <td>9</td>\n",
       "    </tr>\n",
       "    <tr>\n",
       "      <th>3</th>\n",
       "      <td>18</td>\n",
       "      <td>2022-07-29 09:10:06</td>\n",
       "      <td>5</td>\n",
       "    </tr>\n",
       "    <tr>\n",
       "      <th>4</th>\n",
       "      <td>18</td>\n",
       "      <td>2022-07-29 09:10:08</td>\n",
       "      <td>5</td>\n",
       "    </tr>\n",
       "    <tr>\n",
       "      <th>...</th>\n",
       "      <td>...</td>\n",
       "      <td>...</td>\n",
       "      <td>...</td>\n",
       "    </tr>\n",
       "    <tr>\n",
       "      <th>37513</th>\n",
       "      <td>6</td>\n",
       "      <td>2022-12-31 20:38:56</td>\n",
       "      <td>11</td>\n",
       "    </tr>\n",
       "    <tr>\n",
       "      <th>37514</th>\n",
       "      <td>6</td>\n",
       "      <td>2022-12-31 20:39:22</td>\n",
       "      <td>6</td>\n",
       "    </tr>\n",
       "    <tr>\n",
       "      <th>37515</th>\n",
       "      <td>6</td>\n",
       "      <td>2022-12-31 20:39:23</td>\n",
       "      <td>6</td>\n",
       "    </tr>\n",
       "    <tr>\n",
       "      <th>37516</th>\n",
       "      <td>6</td>\n",
       "      <td>2022-12-31 20:39:31</td>\n",
       "      <td>9</td>\n",
       "    </tr>\n",
       "    <tr>\n",
       "      <th>37517</th>\n",
       "      <td>6</td>\n",
       "      <td>2022-12-31 20:39:31</td>\n",
       "      <td>9</td>\n",
       "    </tr>\n",
       "  </tbody>\n",
       "</table>\n",
       "<p>37518 rows × 3 columns</p>\n",
       "</div>"
      ],
      "text/plain": [
       "       user_id                  ts  gate_id\n",
       "0           18 2022-07-29 09:08:54        7\n",
       "1           18 2022-07-29 09:09:54        9\n",
       "2           18 2022-07-29 09:09:54        9\n",
       "3           18 2022-07-29 09:10:06        5\n",
       "4           18 2022-07-29 09:10:08        5\n",
       "...        ...                 ...      ...\n",
       "37513        6 2022-12-31 20:38:56       11\n",
       "37514        6 2022-12-31 20:39:22        6\n",
       "37515        6 2022-12-31 20:39:23        6\n",
       "37516        6 2022-12-31 20:39:31        9\n",
       "37517        6 2022-12-31 20:39:31        9\n",
       "\n",
       "[37518 rows x 3 columns]"
      ]
     },
     "metadata": {},
     "output_type": "display_data"
    },
    {
     "name": "stdout",
     "output_type": "stream",
     "text": [
      "\u001b[1mобщая информация - тренировочная выборка:\u001b[0m\n",
      "<class 'pandas.core.frame.DataFrame'>\n",
      "Index: 37518 entries, 0 to 37517\n",
      "Data columns (total 3 columns):\n",
      " #   Column   Non-Null Count  Dtype         \n",
      "---  ------   --------------  -----         \n",
      " 0   user_id  37518 non-null  int64         \n",
      " 1   ts       37518 non-null  datetime64[ns]\n",
      " 2   gate_id  37518 non-null  int64         \n",
      "dtypes: datetime64[ns](1), int64(2)\n",
      "memory usage: 1.1 MB\n",
      "\u001b[1mколичество пропусков: 0\u001b[0m\n",
      "\u001b[1mколичество явных дубликатов: 2346\u001b[0m\n",
      "\n",
      "\u001b[1mтестовая выборка:\u001b[0m\n"
     ]
    },
    {
     "data": {
      "text/html": [
       "<div>\n",
       "<style scoped>\n",
       "    .dataframe tbody tr th:only-of-type {\n",
       "        vertical-align: middle;\n",
       "    }\n",
       "\n",
       "    .dataframe tbody tr th {\n",
       "        vertical-align: top;\n",
       "    }\n",
       "\n",
       "    .dataframe thead th {\n",
       "        text-align: right;\n",
       "    }\n",
       "</style>\n",
       "<table border=\"1\" class=\"dataframe\">\n",
       "  <thead>\n",
       "    <tr style=\"text-align: right;\">\n",
       "      <th></th>\n",
       "      <th>ts</th>\n",
       "      <th>gate_id</th>\n",
       "      <th>user_word</th>\n",
       "    </tr>\n",
       "  </thead>\n",
       "  <tbody>\n",
       "    <tr>\n",
       "      <th>37518</th>\n",
       "      <td>2023-01-03 08:21:00</td>\n",
       "      <td>9</td>\n",
       "      <td>gini</td>\n",
       "    </tr>\n",
       "    <tr>\n",
       "      <th>37519</th>\n",
       "      <td>2023-01-03 08:21:00</td>\n",
       "      <td>9</td>\n",
       "      <td>gini</td>\n",
       "    </tr>\n",
       "    <tr>\n",
       "      <th>37520</th>\n",
       "      <td>2023-01-03 08:21:18</td>\n",
       "      <td>5</td>\n",
       "      <td>gini</td>\n",
       "    </tr>\n",
       "    <tr>\n",
       "      <th>37521</th>\n",
       "      <td>2023-01-03 08:21:19</td>\n",
       "      <td>5</td>\n",
       "      <td>gini</td>\n",
       "    </tr>\n",
       "    <tr>\n",
       "      <th>37522</th>\n",
       "      <td>2023-01-03 08:21:39</td>\n",
       "      <td>10</td>\n",
       "      <td>gini</td>\n",
       "    </tr>\n",
       "    <tr>\n",
       "      <th>...</th>\n",
       "      <td>...</td>\n",
       "      <td>...</td>\n",
       "      <td>...</td>\n",
       "    </tr>\n",
       "    <tr>\n",
       "      <th>44638</th>\n",
       "      <td>2023-02-24 19:43:36</td>\n",
       "      <td>11</td>\n",
       "      <td>collinear</td>\n",
       "    </tr>\n",
       "    <tr>\n",
       "      <th>44639</th>\n",
       "      <td>2023-02-24 19:44:00</td>\n",
       "      <td>4</td>\n",
       "      <td>collinear</td>\n",
       "    </tr>\n",
       "    <tr>\n",
       "      <th>44640</th>\n",
       "      <td>2023-02-24 19:44:01</td>\n",
       "      <td>4</td>\n",
       "      <td>collinear</td>\n",
       "    </tr>\n",
       "    <tr>\n",
       "      <th>44641</th>\n",
       "      <td>2023-02-24 19:44:09</td>\n",
       "      <td>9</td>\n",
       "      <td>collinear</td>\n",
       "    </tr>\n",
       "    <tr>\n",
       "      <th>44642</th>\n",
       "      <td>2023-02-24 19:44:09</td>\n",
       "      <td>9</td>\n",
       "      <td>collinear</td>\n",
       "    </tr>\n",
       "  </tbody>\n",
       "</table>\n",
       "<p>7125 rows × 3 columns</p>\n",
       "</div>"
      ],
      "text/plain": [
       "                       ts  gate_id  user_word\n",
       "37518 2023-01-03 08:21:00        9       gini\n",
       "37519 2023-01-03 08:21:00        9       gini\n",
       "37520 2023-01-03 08:21:18        5       gini\n",
       "37521 2023-01-03 08:21:19        5       gini\n",
       "37522 2023-01-03 08:21:39       10       gini\n",
       "...                   ...      ...        ...\n",
       "44638 2023-02-24 19:43:36       11  collinear\n",
       "44639 2023-02-24 19:44:00        4  collinear\n",
       "44640 2023-02-24 19:44:01        4  collinear\n",
       "44641 2023-02-24 19:44:09        9  collinear\n",
       "44642 2023-02-24 19:44:09        9  collinear\n",
       "\n",
       "[7125 rows x 3 columns]"
      ]
     },
     "metadata": {},
     "output_type": "display_data"
    },
    {
     "name": "stdout",
     "output_type": "stream",
     "text": [
      "\u001b[1mобщая информация - тестовая выборка:\u001b[0m\n",
      "<class 'pandas.core.frame.DataFrame'>\n",
      "Index: 7125 entries, 37518 to 44642\n",
      "Data columns (total 3 columns):\n",
      " #   Column     Non-Null Count  Dtype         \n",
      "---  ------     --------------  -----         \n",
      " 0   ts         7125 non-null   datetime64[ns]\n",
      " 1   gate_id    7125 non-null   int64         \n",
      " 2   user_word  7125 non-null   object        \n",
      "dtypes: datetime64[ns](1), int64(1), object(1)\n",
      "memory usage: 222.7+ KB\n",
      "\u001b[1mколичество пропусков: 0\u001b[0m\n",
      "\u001b[1mколичество явных дубликатов: 505\u001b[0m\n",
      "\n",
      "\u001b[1mпример решения:\u001b[0m\n"
     ]
    },
    {
     "data": {
      "text/html": [
       "<div>\n",
       "<style scoped>\n",
       "    .dataframe tbody tr th:only-of-type {\n",
       "        vertical-align: middle;\n",
       "    }\n",
       "\n",
       "    .dataframe tbody tr th {\n",
       "        vertical-align: top;\n",
       "    }\n",
       "\n",
       "    .dataframe thead th {\n",
       "        text-align: right;\n",
       "    }\n",
       "</style>\n",
       "<table border=\"1\" class=\"dataframe\">\n",
       "  <thead>\n",
       "    <tr style=\"text-align: right;\">\n",
       "      <th></th>\n",
       "      <th>user_word</th>\n",
       "      <th>preds</th>\n",
       "    </tr>\n",
       "  </thead>\n",
       "  <tbody>\n",
       "    <tr>\n",
       "      <th>0</th>\n",
       "      <td>aucroc</td>\n",
       "      <td>49</td>\n",
       "    </tr>\n",
       "    <tr>\n",
       "      <th>1</th>\n",
       "      <td>binary</td>\n",
       "      <td>12</td>\n",
       "    </tr>\n",
       "    <tr>\n",
       "      <th>2</th>\n",
       "      <td>blue</td>\n",
       "      <td>55</td>\n",
       "    </tr>\n",
       "    <tr>\n",
       "      <th>3</th>\n",
       "      <td>categorical</td>\n",
       "      <td>14</td>\n",
       "    </tr>\n",
       "    <tr>\n",
       "      <th>4</th>\n",
       "      <td>coefficient</td>\n",
       "      <td>15</td>\n",
       "    </tr>\n",
       "    <tr>\n",
       "      <th>5</th>\n",
       "      <td>collinear</td>\n",
       "      <td>12</td>\n",
       "    </tr>\n",
       "    <tr>\n",
       "      <th>6</th>\n",
       "      <td>distributed</td>\n",
       "      <td>12</td>\n",
       "    </tr>\n",
       "    <tr>\n",
       "      <th>7</th>\n",
       "      <td>epsilon</td>\n",
       "      <td>1</td>\n",
       "    </tr>\n",
       "    <tr>\n",
       "      <th>8</th>\n",
       "      <td>f1</td>\n",
       "      <td>37</td>\n",
       "    </tr>\n",
       "    <tr>\n",
       "      <th>9</th>\n",
       "      <td>fit</td>\n",
       "      <td>3</td>\n",
       "    </tr>\n",
       "    <tr>\n",
       "      <th>10</th>\n",
       "      <td>gini</td>\n",
       "      <td>15</td>\n",
       "    </tr>\n",
       "    <tr>\n",
       "      <th>11</th>\n",
       "      <td>independent</td>\n",
       "      <td>-999</td>\n",
       "    </tr>\n",
       "    <tr>\n",
       "      <th>12</th>\n",
       "      <td>lasso</td>\n",
       "      <td>15</td>\n",
       "    </tr>\n",
       "    <tr>\n",
       "      <th>13</th>\n",
       "      <td>linear</td>\n",
       "      <td>3</td>\n",
       "    </tr>\n",
       "    <tr>\n",
       "      <th>14</th>\n",
       "      <td>logistic</td>\n",
       "      <td>12</td>\n",
       "    </tr>\n",
       "    <tr>\n",
       "      <th>15</th>\n",
       "      <td>loss</td>\n",
       "      <td>19</td>\n",
       "    </tr>\n",
       "    <tr>\n",
       "      <th>16</th>\n",
       "      <td>matrix</td>\n",
       "      <td>55</td>\n",
       "    </tr>\n",
       "    <tr>\n",
       "      <th>17</th>\n",
       "      <td>minimization</td>\n",
       "      <td>12</td>\n",
       "    </tr>\n",
       "    <tr>\n",
       "      <th>18</th>\n",
       "      <td>mse</td>\n",
       "      <td>55</td>\n",
       "    </tr>\n",
       "    <tr>\n",
       "      <th>19</th>\n",
       "      <td>ols</td>\n",
       "      <td>37</td>\n",
       "    </tr>\n",
       "    <tr>\n",
       "      <th>20</th>\n",
       "      <td>precision</td>\n",
       "      <td>-999</td>\n",
       "    </tr>\n",
       "    <tr>\n",
       "      <th>21</th>\n",
       "      <td>predict</td>\n",
       "      <td>12</td>\n",
       "    </tr>\n",
       "    <tr>\n",
       "      <th>22</th>\n",
       "      <td>pvalue</td>\n",
       "      <td>32</td>\n",
       "    </tr>\n",
       "    <tr>\n",
       "      <th>23</th>\n",
       "      <td>r2</td>\n",
       "      <td>12</td>\n",
       "    </tr>\n",
       "    <tr>\n",
       "      <th>24</th>\n",
       "      <td>recall</td>\n",
       "      <td>3</td>\n",
       "    </tr>\n",
       "    <tr>\n",
       "      <th>25</th>\n",
       "      <td>regression</td>\n",
       "      <td>55</td>\n",
       "    </tr>\n",
       "    <tr>\n",
       "      <th>26</th>\n",
       "      <td>residual</td>\n",
       "      <td>-999</td>\n",
       "    </tr>\n",
       "    <tr>\n",
       "      <th>27</th>\n",
       "      <td>ridge</td>\n",
       "      <td>12</td>\n",
       "    </tr>\n",
       "    <tr>\n",
       "      <th>28</th>\n",
       "      <td>sigmoid</td>\n",
       "      <td>55</td>\n",
       "    </tr>\n",
       "    <tr>\n",
       "      <th>29</th>\n",
       "      <td>significant</td>\n",
       "      <td>55</td>\n",
       "    </tr>\n",
       "    <tr>\n",
       "      <th>30</th>\n",
       "      <td>target</td>\n",
       "      <td>55</td>\n",
       "    </tr>\n",
       "    <tr>\n",
       "      <th>31</th>\n",
       "      <td>tstat</td>\n",
       "      <td>55</td>\n",
       "    </tr>\n",
       "    <tr>\n",
       "      <th>32</th>\n",
       "      <td>x</td>\n",
       "      <td>19</td>\n",
       "    </tr>\n",
       "    <tr>\n",
       "      <th>33</th>\n",
       "      <td>y</td>\n",
       "      <td>17</td>\n",
       "    </tr>\n",
       "  </tbody>\n",
       "</table>\n",
       "</div>"
      ],
      "text/plain": [
       "       user_word  preds\n",
       "0         aucroc     49\n",
       "1         binary     12\n",
       "2           blue     55\n",
       "3    categorical     14\n",
       "4    coefficient     15\n",
       "5      collinear     12\n",
       "6    distributed     12\n",
       "7        epsilon      1\n",
       "8             f1     37\n",
       "9            fit      3\n",
       "10          gini     15\n",
       "11   independent   -999\n",
       "12         lasso     15\n",
       "13        linear      3\n",
       "14      logistic     12\n",
       "15          loss     19\n",
       "16        matrix     55\n",
       "17  minimization     12\n",
       "18           mse     55\n",
       "19           ols     37\n",
       "20     precision   -999\n",
       "21       predict     12\n",
       "22        pvalue     32\n",
       "23            r2     12\n",
       "24        recall      3\n",
       "25    regression     55\n",
       "26      residual   -999\n",
       "27         ridge     12\n",
       "28       sigmoid     55\n",
       "29   significant     55\n",
       "30        target     55\n",
       "31         tstat     55\n",
       "32             x     19\n",
       "33             y     17"
      ]
     },
     "metadata": {},
     "output_type": "display_data"
    },
    {
     "name": "stdout",
     "output_type": "stream",
     "text": [
      "\u001b[1mобщая информация - пример решения:\u001b[0m\n",
      "<class 'pandas.core.frame.DataFrame'>\n",
      "RangeIndex: 34 entries, 0 to 33\n",
      "Data columns (total 2 columns):\n",
      " #   Column     Non-Null Count  Dtype \n",
      "---  ------     --------------  ----- \n",
      " 0   user_word  34 non-null     object\n",
      " 1   preds      34 non-null     int64 \n",
      "dtypes: int64(1), object(1)\n",
      "memory usage: 672.0+ bytes\n",
      "\u001b[1mколичество пропусков: 0\u001b[0m\n",
      "\u001b[1mколичество явных дубликатов: 0\u001b[0m\n",
      "\n"
     ]
    }
   ],
   "source": [
    "for name, df in zip(['тренировочная выборка', 'тестовая выборка', 'пример решения'], [df_train, df_test, ex_submit]):\n",
    "    print(f'\\033[1m{name}:\\033[0m')\n",
    "    display(df)\n",
    "    print(f'\\033[1mобщая информация - {name}:\\033[0m')\n",
    "    df.info()\n",
    "    print(f'\\033[1mколичество пропусков: {df.isna().sum().sum()}\\033[0m')\n",
    "    print(f'\\033[1mколичество явных дубликатов: {df.duplicated().sum()}\\033[0m')\n",
    "    print()"
   ]
  },
  {
   "cell_type": "markdown",
   "metadata": {},
   "source": [
    "Пропусков в данных не обнаружено.\n",
    "\n",
    "В тренировочной и тестовой выборке есть явные дубликаты, удалим их."
   ]
  },
  {
   "cell_type": "code",
   "execution_count": 6,
   "metadata": {},
   "outputs": [],
   "source": [
    "df_train = df_train.drop_duplicates().reset_index(drop=True)\n",
    "df_test = df_test.drop_duplicates().reset_index(drop=True)"
   ]
  },
  {
   "cell_type": "code",
   "execution_count": 7,
   "metadata": {},
   "outputs": [
    {
     "data": {
      "text/plain": [
       "(35172, 3)"
      ]
     },
     "execution_count": 7,
     "metadata": {},
     "output_type": "execute_result"
    }
   ],
   "source": [
    "df_train.shape"
   ]
  },
  {
   "cell_type": "code",
   "execution_count": 8,
   "metadata": {},
   "outputs": [
    {
     "data": {
      "text/plain": [
       "(6620, 3)"
      ]
     },
     "execution_count": 8,
     "metadata": {},
     "output_type": "execute_result"
    }
   ],
   "source": [
    "df_test.shape"
   ]
  },
  {
   "cell_type": "markdown",
   "metadata": {},
   "source": [
    "Предоставлены данные за 7 месяцев - с июля 2022 по фефраль 2023. Номер месяца в качестве признака не подойдет."
   ]
  },
  {
   "cell_type": "markdown",
   "metadata": {},
   "source": [
    "ID сотрудников"
   ]
  },
  {
   "cell_type": "code",
   "execution_count": 9,
   "metadata": {},
   "outputs": [
    {
     "data": {
      "text/html": [
       "<div>\n",
       "<style scoped>\n",
       "    .dataframe tbody tr th:only-of-type {\n",
       "        vertical-align: middle;\n",
       "    }\n",
       "\n",
       "    .dataframe tbody tr th {\n",
       "        vertical-align: top;\n",
       "    }\n",
       "\n",
       "    .dataframe thead th {\n",
       "        text-align: right;\n",
       "    }\n",
       "</style>\n",
       "<table border=\"1\" class=\"dataframe\">\n",
       "  <thead>\n",
       "    <tr style=\"text-align: right;\">\n",
       "      <th>user_id</th>\n",
       "      <th>4</th>\n",
       "      <th>51</th>\n",
       "      <th>44</th>\n",
       "      <th>21</th>\n",
       "      <th>52</th>\n",
       "      <th>30</th>\n",
       "      <th>5</th>\n",
       "      <th>38</th>\n",
       "      <th>10</th>\n",
       "      <th>8</th>\n",
       "      <th>2</th>\n",
       "      <th>36</th>\n",
       "      <th>7</th>\n",
       "      <th>45</th>\n",
       "      <th>28</th>\n",
       "      <th>22</th>\n",
       "      <th>41</th>\n",
       "      <th>20</th>\n",
       "      <th>43</th>\n",
       "      <th>56</th>\n",
       "      <th>31</th>\n",
       "      <th>25</th>\n",
       "      <th>40</th>\n",
       "      <th>23</th>\n",
       "      <th>34</th>\n",
       "      <th>26</th>\n",
       "      <th>42</th>\n",
       "      <th>24</th>\n",
       "      <th>46</th>\n",
       "      <th>57</th>\n",
       "      <th>27</th>\n",
       "      <th>35</th>\n",
       "      <th>14</th>\n",
       "      <th>17</th>\n",
       "      <th>48</th>\n",
       "      <th>3</th>\n",
       "      <th>29</th>\n",
       "      <th>50</th>\n",
       "      <th>54</th>\n",
       "      <th>9</th>\n",
       "      <th>32</th>\n",
       "      <th>39</th>\n",
       "      <th>49</th>\n",
       "      <th>1</th>\n",
       "      <th>0</th>\n",
       "      <th>33</th>\n",
       "      <th>47</th>\n",
       "      <th>11</th>\n",
       "      <th>53</th>\n",
       "      <th>18</th>\n",
       "      <th>15</th>\n",
       "      <th>19</th>\n",
       "      <th>12</th>\n",
       "      <th>6</th>\n",
       "      <th>55</th>\n",
       "      <th>37</th>\n",
       "    </tr>\n",
       "  </thead>\n",
       "  <tbody>\n",
       "    <tr>\n",
       "      <th>count</th>\n",
       "      <td>1</td>\n",
       "      <td>2</td>\n",
       "      <td>4</td>\n",
       "      <td>5</td>\n",
       "      <td>5</td>\n",
       "      <td>10</td>\n",
       "      <td>10</td>\n",
       "      <td>13</td>\n",
       "      <td>17</td>\n",
       "      <td>27</td>\n",
       "      <td>39</td>\n",
       "      <td>45</td>\n",
       "      <td>48</td>\n",
       "      <td>57</td>\n",
       "      <td>64</td>\n",
       "      <td>87</td>\n",
       "      <td>110</td>\n",
       "      <td>112</td>\n",
       "      <td>117</td>\n",
       "      <td>129</td>\n",
       "      <td>181</td>\n",
       "      <td>238</td>\n",
       "      <td>242</td>\n",
       "      <td>247</td>\n",
       "      <td>267</td>\n",
       "      <td>279</td>\n",
       "      <td>340</td>\n",
       "      <td>386</td>\n",
       "      <td>475</td>\n",
       "      <td>482</td>\n",
       "      <td>523</td>\n",
       "      <td>549</td>\n",
       "      <td>617</td>\n",
       "      <td>648</td>\n",
       "      <td>712</td>\n",
       "      <td>894</td>\n",
       "      <td>924</td>\n",
       "      <td>965</td>\n",
       "      <td>977</td>\n",
       "      <td>1015</td>\n",
       "      <td>1020</td>\n",
       "      <td>1032</td>\n",
       "      <td>1129</td>\n",
       "      <td>1171</td>\n",
       "      <td>1184</td>\n",
       "      <td>1184</td>\n",
       "      <td>1250</td>\n",
       "      <td>1255</td>\n",
       "      <td>1279</td>\n",
       "      <td>1441</td>\n",
       "      <td>1659</td>\n",
       "      <td>1661</td>\n",
       "      <td>1837</td>\n",
       "      <td>1857</td>\n",
       "      <td>2166</td>\n",
       "      <td>2184</td>\n",
       "    </tr>\n",
       "  </tbody>\n",
       "</table>\n",
       "</div>"
      ],
      "text/plain": [
       "user_id  4   51  44  21  52  30  5   38  10  8   2   36  7   45  28  22   41  \\\n",
       "count     1   2   4   5   5  10  10  13  17  27  39  45  48  57  64  87  110   \n",
       "\n",
       "user_id   20   43   56   31   25   40   23   34   26   42   24   46   57   27  \\\n",
       "count    112  117  129  181  238  242  247  267  279  340  386  475  482  523   \n",
       "\n",
       "user_id   35   14   17   48   3    29   50   54    9     32    39    49    1   \\\n",
       "count    549  617  648  712  894  924  965  977  1015  1020  1032  1129  1171   \n",
       "\n",
       "user_id    0     33    47    11    53    18    15    19    12    6     55  \\\n",
       "count    1184  1184  1250  1255  1279  1441  1659  1661  1837  1857  2166   \n",
       "\n",
       "user_id    37  \n",
       "count    2184  "
      ]
     },
     "execution_count": 9,
     "metadata": {},
     "output_type": "execute_result"
    }
   ],
   "source": [
    "# активность сотрудников в train\n",
    "df_train.user_id.value_counts(ascending=True).to_frame().T"
   ]
  },
  {
   "cell_type": "code",
   "execution_count": 10,
   "metadata": {},
   "outputs": [
    {
     "data": {
      "text/plain": [
       "Index(['aucroc', 'binary', 'blue', 'categorical', 'coefficient', 'collinear',\n",
       "       'distributed', 'epsilon', 'f1', 'fit', 'gini', 'independent', 'lasso',\n",
       "       'linear', 'logistic', 'loss', 'matrix', 'minimization', 'mse', 'ols',\n",
       "       'precision', 'predict', 'pvalue', 'r2', 'recall', 'regression',\n",
       "       'residual', 'ridge', 'sigmoid', 'significant', 'target', 'tstat', 'x',\n",
       "       'y'],\n",
       "      dtype='object', name='user_word')"
      ]
     },
     "execution_count": 10,
     "metadata": {},
     "output_type": "execute_result"
    }
   ],
   "source": [
    "df_test.user_word.value_counts(ascending=True).to_frame().sort_index().index"
   ]
  },
  {
   "cell_type": "markdown",
   "metadata": {},
   "source": [
    "Удалим из трейна и теста юзеров, для которых мы уверенно делаем предсказания"
   ]
  },
  {
   "cell_type": "markdown",
   "metadata": {},
   "source": [
    "blue = 56 - стоит 20 баллов\n",
    "\n",
    "minimization = 50 - 11 баллов\n",
    "\n",
    "ridge = 35 - 14 баллов\n",
    "\n",
    "regression = -999 - стоит 40 баллов\n",
    "\n",
    "fit = 2 - стоит 25 баллов\n",
    "\n",
    "\n",
    "\n",
    "\n",
    "\n",
    "independent точно не 49 и не 39 и не 26\n",
    "\n",
    "precision точно не -999 и не 9\n",
    "\n",
    "logistic точно не -999 и не 8\n",
    "\n",
    "collinear точно не -999 и не 22 и не 31\n",
    "\n",
    "residual точно не -999 и не 47\n",
    "\n",
    "coefficient\tточно не -999 и не 22 и не 18\n",
    "\n",
    "lasso точно не 23 и не 36"
   ]
  },
  {
   "cell_type": "code",
   "execution_count": 11,
   "metadata": {},
   "outputs": [],
   "source": [
    "u_id = [24, 12, 14, 0, 1, 6, 15, 17, 19, 43, 11, 39, 32, 54, 3, 35, 55, 33, 46, 9, 37, 49, 29, 23]\n",
    "u_word = [\n",
    "    'aucroc', 'binary', 'categorical', 'distributed', 'epsilon', 'f1', 'gini', 'linear', 'loss', 'mse', 'ols', \n",
    "    'predict', 'pvalue', 'r2', 'recall', 'ridge', 'sigmoid', 'significant', 'target', 'tstat', 'x',\n",
    "    'y',\n",
    "    'independent', 'matrix',\n",
    "    'fit'\n",
    "]"
   ]
  },
  {
   "cell_type": "code",
   "execution_count": 12,
   "metadata": {},
   "outputs": [
    {
     "data": {
      "text/plain": [
       "24"
      ]
     },
     "execution_count": 12,
     "metadata": {},
     "output_type": "execute_result"
    }
   ],
   "source": [
    "len(u_id)"
   ]
  },
  {
   "cell_type": "code",
   "execution_count": 13,
   "metadata": {},
   "outputs": [
    {
     "data": {
      "text/plain": [
       "25"
      ]
     },
     "execution_count": 13,
     "metadata": {},
     "output_type": "execute_result"
    }
   ],
   "source": [
    "len(u_word)"
   ]
  },
  {
   "cell_type": "code",
   "execution_count": 14,
   "metadata": {},
   "outputs": [
    {
     "data": {
      "text/plain": [
       "(8984, 3)"
      ]
     },
     "execution_count": 14,
     "metadata": {},
     "output_type": "execute_result"
    }
   ],
   "source": [
    "df_train = df_train[~df_train['user_id'].isin(u_id)]\n",
    "df_train.shape"
   ]
  },
  {
   "cell_type": "code",
   "execution_count": 15,
   "metadata": {},
   "outputs": [
    {
     "data": {
      "text/plain": [
       "(827, 3)"
      ]
     },
     "execution_count": 15,
     "metadata": {},
     "output_type": "execute_result"
    }
   ],
   "source": [
    "df_test = df_test[~df_test['user_word'].isin(u_word)]\n",
    "df_test.shape"
   ]
  },
  {
   "cell_type": "code",
   "execution_count": 16,
   "metadata": {},
   "outputs": [
    {
     "name": "stdout",
     "output_type": "stream",
     "text": [
      "Количество сотрудников в train: 32\n"
     ]
    }
   ],
   "source": [
    "print(f'Количество сотрудников в train: {df_train.user_id.nunique()}')"
   ]
  },
  {
   "cell_type": "code",
   "execution_count": 17,
   "metadata": {},
   "outputs": [
    {
     "name": "stdout",
     "output_type": "stream",
     "text": [
      "[2, 4, 5, 7, 8, 10, 18, 20, 21, 22, 25, 26, 27, 28, 30, 31, 34, 36, 38, 40, 41, 42, 44, 45, 47, 48, 50, 51, 52, 53, 56, 57]\n"
     ]
    }
   ],
   "source": [
    "print(sorted(df_train['user_id'].unique()))"
   ]
  },
  {
   "cell_type": "code",
   "execution_count": 18,
   "metadata": {},
   "outputs": [
    {
     "data": {
      "text/html": [
       "<div>\n",
       "<style scoped>\n",
       "    .dataframe tbody tr th:only-of-type {\n",
       "        vertical-align: middle;\n",
       "    }\n",
       "\n",
       "    .dataframe tbody tr th {\n",
       "        vertical-align: top;\n",
       "    }\n",
       "\n",
       "    .dataframe thead th {\n",
       "        text-align: right;\n",
       "    }\n",
       "</style>\n",
       "<table border=\"1\" class=\"dataframe\">\n",
       "  <thead>\n",
       "    <tr style=\"text-align: right;\">\n",
       "      <th>user_id</th>\n",
       "      <th>4</th>\n",
       "      <th>51</th>\n",
       "      <th>44</th>\n",
       "      <th>52</th>\n",
       "      <th>21</th>\n",
       "      <th>30</th>\n",
       "      <th>5</th>\n",
       "      <th>38</th>\n",
       "      <th>10</th>\n",
       "      <th>8</th>\n",
       "      <th>2</th>\n",
       "      <th>36</th>\n",
       "      <th>7</th>\n",
       "      <th>45</th>\n",
       "      <th>28</th>\n",
       "      <th>22</th>\n",
       "      <th>41</th>\n",
       "      <th>20</th>\n",
       "      <th>56</th>\n",
       "      <th>31</th>\n",
       "      <th>25</th>\n",
       "      <th>40</th>\n",
       "      <th>34</th>\n",
       "      <th>26</th>\n",
       "      <th>42</th>\n",
       "      <th>57</th>\n",
       "      <th>27</th>\n",
       "      <th>48</th>\n",
       "      <th>50</th>\n",
       "      <th>47</th>\n",
       "      <th>53</th>\n",
       "      <th>18</th>\n",
       "    </tr>\n",
       "  </thead>\n",
       "  <tbody>\n",
       "    <tr>\n",
       "      <th>count</th>\n",
       "      <td>1</td>\n",
       "      <td>2</td>\n",
       "      <td>4</td>\n",
       "      <td>5</td>\n",
       "      <td>5</td>\n",
       "      <td>10</td>\n",
       "      <td>10</td>\n",
       "      <td>13</td>\n",
       "      <td>17</td>\n",
       "      <td>27</td>\n",
       "      <td>39</td>\n",
       "      <td>45</td>\n",
       "      <td>48</td>\n",
       "      <td>57</td>\n",
       "      <td>64</td>\n",
       "      <td>87</td>\n",
       "      <td>110</td>\n",
       "      <td>112</td>\n",
       "      <td>129</td>\n",
       "      <td>181</td>\n",
       "      <td>238</td>\n",
       "      <td>242</td>\n",
       "      <td>267</td>\n",
       "      <td>279</td>\n",
       "      <td>340</td>\n",
       "      <td>482</td>\n",
       "      <td>523</td>\n",
       "      <td>712</td>\n",
       "      <td>965</td>\n",
       "      <td>1250</td>\n",
       "      <td>1279</td>\n",
       "      <td>1441</td>\n",
       "    </tr>\n",
       "  </tbody>\n",
       "</table>\n",
       "</div>"
      ],
      "text/plain": [
       "user_id  4   51  44  52  21  30  5   38  10  8   2   36  7   45  28  22   41  \\\n",
       "count     1   2   4   5   5  10  10  13  17  27  39  45  48  57  64  87  110   \n",
       "\n",
       "user_id   20   56   31   25   40   34   26   42   57   27   48   50    47  \\\n",
       "count    112  129  181  238  242  267  279  340  482  523  712  965  1250   \n",
       "\n",
       "user_id    53    18  \n",
       "count    1279  1441  "
      ]
     },
     "execution_count": 18,
     "metadata": {},
     "output_type": "execute_result"
    }
   ],
   "source": [
    "df_train.user_id.value_counts(ascending=True).to_frame().T"
   ]
  },
  {
   "cell_type": "markdown",
   "metadata": {},
   "source": [
    "Исходя из графиков посещений здания для каждого сотрудника, исключим некоторых из тренировочной выборки."
   ]
  },
  {
   "cell_type": "code",
   "execution_count": 19,
   "metadata": {},
   "outputs": [
    {
     "data": {
      "text/plain": [
       "36"
      ]
     },
     "execution_count": 19,
     "metadata": {},
     "output_type": "execute_result"
    }
   ],
   "source": [
    "34\n",
    "\n",
    "36"
   ]
  },
  {
   "cell_type": "code",
   "execution_count": 20,
   "metadata": {},
   "outputs": [
    {
     "data": {
      "text/plain": [
       "25"
      ]
     },
     "execution_count": 20,
     "metadata": {},
     "output_type": "execute_result"
    }
   ],
   "source": [
    "delete_user_id = [4, 5, 7, 8, 10, 18, 20, 21, 22, 27, 28, 30, 31, 36, 38, 40, 42, 44, 45, 47, 48, 51, 52, 53, 57]\n",
    "len(delete_user_id)"
   ]
  },
  {
   "cell_type": "code",
   "execution_count": 21,
   "metadata": {},
   "outputs": [
    {
     "data": {
      "text/plain": [
       "(2027, 3)"
      ]
     },
     "execution_count": 21,
     "metadata": {},
     "output_type": "execute_result"
    }
   ],
   "source": [
    "df_train = df_train[~df_train['user_id'].isin(delete_user_id)]\n",
    "df_train.shape"
   ]
  },
  {
   "cell_type": "code",
   "execution_count": 22,
   "metadata": {},
   "outputs": [
    {
     "data": {
      "text/plain": [
       "7"
      ]
     },
     "execution_count": 22,
     "metadata": {},
     "output_type": "execute_result"
    }
   ],
   "source": [
    "df_train['user_id'].nunique()"
   ]
  },
  {
   "cell_type": "code",
   "execution_count": null,
   "metadata": {},
   "outputs": [],
   "source": []
  },
  {
   "cell_type": "code",
   "execution_count": 23,
   "metadata": {},
   "outputs": [
    {
     "name": "stdout",
     "output_type": "stream",
     "text": [
      "Количество сотрудников в test: 9\n"
     ]
    }
   ],
   "source": [
    "print(f'Количество сотрудников в test: {df_test.user_word.nunique()}')"
   ]
  },
  {
   "cell_type": "code",
   "execution_count": 24,
   "metadata": {},
   "outputs": [
    {
     "data": {
      "text/html": [
       "<div>\n",
       "<style scoped>\n",
       "    .dataframe tbody tr th:only-of-type {\n",
       "        vertical-align: middle;\n",
       "    }\n",
       "\n",
       "    .dataframe tbody tr th {\n",
       "        vertical-align: top;\n",
       "    }\n",
       "\n",
       "    .dataframe thead th {\n",
       "        text-align: right;\n",
       "    }\n",
       "</style>\n",
       "<table border=\"1\" class=\"dataframe\">\n",
       "  <thead>\n",
       "    <tr style=\"text-align: right;\">\n",
       "      <th></th>\n",
       "      <th>count</th>\n",
       "    </tr>\n",
       "    <tr>\n",
       "      <th>user_word</th>\n",
       "      <th></th>\n",
       "    </tr>\n",
       "  </thead>\n",
       "  <tbody>\n",
       "    <tr>\n",
       "      <th>logistic</th>\n",
       "      <td>5</td>\n",
       "    </tr>\n",
       "    <tr>\n",
       "      <th>blue</th>\n",
       "      <td>12</td>\n",
       "    </tr>\n",
       "    <tr>\n",
       "      <th>lasso</th>\n",
       "      <td>33</td>\n",
       "    </tr>\n",
       "    <tr>\n",
       "      <th>regression</th>\n",
       "      <td>50</td>\n",
       "    </tr>\n",
       "    <tr>\n",
       "      <th>precision</th>\n",
       "      <td>54</td>\n",
       "    </tr>\n",
       "    <tr>\n",
       "      <th>coefficient</th>\n",
       "      <td>56</td>\n",
       "    </tr>\n",
       "    <tr>\n",
       "      <th>minimization</th>\n",
       "      <td>95</td>\n",
       "    </tr>\n",
       "    <tr>\n",
       "      <th>residual</th>\n",
       "      <td>224</td>\n",
       "    </tr>\n",
       "    <tr>\n",
       "      <th>collinear</th>\n",
       "      <td>298</td>\n",
       "    </tr>\n",
       "  </tbody>\n",
       "</table>\n",
       "</div>"
      ],
      "text/plain": [
       "              count\n",
       "user_word          \n",
       "logistic          5\n",
       "blue             12\n",
       "lasso            33\n",
       "regression       50\n",
       "precision        54\n",
       "coefficient      56\n",
       "minimization     95\n",
       "residual        224\n",
       "collinear       298"
      ]
     },
     "execution_count": 24,
     "metadata": {},
     "output_type": "execute_result"
    }
   ],
   "source": [
    "# активность сотрудников в test\n",
    "df_test.user_word.value_counts(ascending=True).to_frame()"
   ]
  },
  {
   "cell_type": "markdown",
   "metadata": {},
   "source": [
    "Турникеты"
   ]
  },
  {
   "cell_type": "code",
   "execution_count": 25,
   "metadata": {},
   "outputs": [
    {
     "name": "stdout",
     "output_type": "stream",
     "text": [
      "Количество турникетов в train: 16\n"
     ]
    },
    {
     "data": {
      "text/html": [
       "<div>\n",
       "<style scoped>\n",
       "    .dataframe tbody tr th:only-of-type {\n",
       "        vertical-align: middle;\n",
       "    }\n",
       "\n",
       "    .dataframe tbody tr th {\n",
       "        vertical-align: top;\n",
       "    }\n",
       "\n",
       "    .dataframe thead th {\n",
       "        text-align: right;\n",
       "    }\n",
       "</style>\n",
       "<table border=\"1\" class=\"dataframe\">\n",
       "  <thead>\n",
       "    <tr style=\"text-align: right;\">\n",
       "      <th>gate_id</th>\n",
       "      <th>1</th>\n",
       "      <th>0</th>\n",
       "      <th>16</th>\n",
       "      <th>12</th>\n",
       "      <th>-1</th>\n",
       "      <th>8</th>\n",
       "      <th>13</th>\n",
       "      <th>15</th>\n",
       "      <th>9</th>\n",
       "      <th>6</th>\n",
       "      <th>7</th>\n",
       "      <th>5</th>\n",
       "      <th>10</th>\n",
       "      <th>11</th>\n",
       "      <th>3</th>\n",
       "      <th>4</th>\n",
       "    </tr>\n",
       "  </thead>\n",
       "  <tbody>\n",
       "    <tr>\n",
       "      <th>count</th>\n",
       "      <td>2</td>\n",
       "      <td>2</td>\n",
       "      <td>3</td>\n",
       "      <td>5</td>\n",
       "      <td>6</td>\n",
       "      <td>7</td>\n",
       "      <td>16</td>\n",
       "      <td>29</td>\n",
       "      <td>84</td>\n",
       "      <td>90</td>\n",
       "      <td>147</td>\n",
       "      <td>196</td>\n",
       "      <td>239</td>\n",
       "      <td>245</td>\n",
       "      <td>427</td>\n",
       "      <td>529</td>\n",
       "    </tr>\n",
       "  </tbody>\n",
       "</table>\n",
       "</div>"
      ],
      "text/plain": [
       "gate_id   1    0    16   12  -1    8    13   15   9    6    7    5    10   11  \\\n",
       "count      2    2    3    5    6    7   16   29   84   90  147  196  239  245   \n",
       "\n",
       "gate_id   3    4   \n",
       "count    427  529  "
      ]
     },
     "execution_count": 25,
     "metadata": {},
     "output_type": "execute_result"
    }
   ],
   "source": [
    "print(f'Количество турникетов в train: {len(df_train.gate_id.unique())}')\n",
    "# частота использования турникетов в train\n",
    "count_gate_id_train = df_train.gate_id.value_counts(ascending=True).to_frame()\n",
    "count_gate_id_train.T"
   ]
  },
  {
   "cell_type": "code",
   "execution_count": 26,
   "metadata": {},
   "outputs": [
    {
     "name": "stdout",
     "output_type": "stream",
     "text": [
      "Количество турникетов в test: 10\n"
     ]
    },
    {
     "data": {
      "text/html": [
       "<div>\n",
       "<style scoped>\n",
       "    .dataframe tbody tr th:only-of-type {\n",
       "        vertical-align: middle;\n",
       "    }\n",
       "\n",
       "    .dataframe tbody tr th {\n",
       "        vertical-align: top;\n",
       "    }\n",
       "\n",
       "    .dataframe thead th {\n",
       "        text-align: right;\n",
       "    }\n",
       "</style>\n",
       "<table border=\"1\" class=\"dataframe\">\n",
       "  <thead>\n",
       "    <tr style=\"text-align: right;\">\n",
       "      <th>gate_id</th>\n",
       "      <th>8</th>\n",
       "      <th>1</th>\n",
       "      <th>6</th>\n",
       "      <th>9</th>\n",
       "      <th>5</th>\n",
       "      <th>7</th>\n",
       "      <th>11</th>\n",
       "      <th>10</th>\n",
       "      <th>3</th>\n",
       "      <th>4</th>\n",
       "    </tr>\n",
       "  </thead>\n",
       "  <tbody>\n",
       "    <tr>\n",
       "      <th>count</th>\n",
       "      <td>1</td>\n",
       "      <td>1</td>\n",
       "      <td>41</td>\n",
       "      <td>50</td>\n",
       "      <td>66</td>\n",
       "      <td>74</td>\n",
       "      <td>103</td>\n",
       "      <td>105</td>\n",
       "      <td>184</td>\n",
       "      <td>202</td>\n",
       "    </tr>\n",
       "  </tbody>\n",
       "</table>\n",
       "</div>"
      ],
      "text/plain": [
       "gate_id  8   1   6   9   5   7    11   10   3    4 \n",
       "count     1   1  41  50  66  74  103  105  184  202"
      ]
     },
     "execution_count": 26,
     "metadata": {},
     "output_type": "execute_result"
    }
   ],
   "source": [
    "print(f'Количество турникетов в test: {len(df_test.gate_id.unique())}')\n",
    "# частота использования турникетов в test\n",
    "count_gate_id_test = df_test.gate_id.value_counts(ascending=True).to_frame()\n",
    "count_gate_id_test.T"
   ]
  },
  {
   "cell_type": "code",
   "execution_count": 27,
   "metadata": {},
   "outputs": [
    {
     "data": {
      "text/plain": [
       "{-1, 0, 12, 13, 15, 16}"
      ]
     },
     "execution_count": 27,
     "metadata": {},
     "output_type": "execute_result"
    }
   ],
   "source": [
    "# id турникетов, которые есть в train, но нет в test\n",
    "set(df_train.gate_id.unique()) - set(df_test.gate_id.unique())"
   ]
  },
  {
   "cell_type": "code",
   "execution_count": 28,
   "metadata": {},
   "outputs": [
    {
     "data": {
      "text/plain": [
       "set()"
      ]
     },
     "execution_count": 28,
     "metadata": {},
     "output_type": "execute_result"
    }
   ],
   "source": [
    "# id турникетов, которые есть в test, но нет в train\n",
    "set(df_test.gate_id.unique()) - set(df_train.gate_id.unique())"
   ]
  },
  {
   "cell_type": "markdown",
   "metadata": {},
   "source": [
    "Поскольку `gate_id` мы будем использовать в качестве признака, редкие категории (менее 5 записей) нужно удалить."
   ]
  },
  {
   "cell_type": "code",
   "execution_count": 29,
   "metadata": {},
   "outputs": [],
   "source": [
    "delete_gate_id = set(count_gate_id_train.query('count < 5').index) | set(count_gate_id_test.query('count < 5').index)\n",
    "delete_gate_id = [-1, 0, 1, 2, 14, 16]"
   ]
  },
  {
   "cell_type": "code",
   "execution_count": 30,
   "metadata": {},
   "outputs": [],
   "source": [
    "df_train = df_train.query('gate_id not in @delete_gate_id').reset_index(drop=True)\n",
    "df_test = df_test.query('gate_id not in @delete_gate_id').reset_index(drop=True)"
   ]
  },
  {
   "cell_type": "markdown",
   "metadata": {},
   "source": [
    "# Генерирование признаков"
   ]
  },
  {
   "cell_type": "code",
   "execution_count": 31,
   "metadata": {},
   "outputs": [],
   "source": [
    "def make_features(df):\n",
    "    df = df.loc[:]\n",
    "    # отсортируем датафрейм для удобства генерирования признаков\n",
    "    # потом отсортируем только по дате\n",
    "    df = df.sort_values(['user_id', 'ts']).reset_index(drop=True)\n",
    "    # временные признаки\n",
    "    df['date'] = df.ts.dt.normalize()\n",
    "    df['day_of_month'] = df.ts.dt.day\n",
    "    df['hour'] = df.ts.dt.hour\n",
    "    df['total_minutes'] = df.hour * 60 + df.ts.dt.minute\n",
    "    df['total_seconds'] = df.total_minutes * 60 + df.ts.dt.second\n",
    "    df['week_number'] = df.ts.dt.isocalendar().week             # неделя начинается с пн. Вспомогательный признак\n",
    "    df['day_of_week'] = df.ts.dt.dayofweek                      # 0 = пн.\n",
    "    df['is_weekend'] = df.day_of_week >= 5\n",
    "    df['time_of_day'] = np.select(\n",
    "            condlist=[df['hour'] < 6, df['hour'] < 12, df['hour'] < 18],\n",
    "            choicelist=['night', 'morning', 'afternoon'],\n",
    "            default='evening',\n",
    "    )       # время суток\n",
    "    df['is_month_start'] = df['ts'].dt.is_month_start\n",
    "    df['is_month_end'] = df['ts'].dt.is_month_end\n",
    "\n",
    "    # для удобства расчетов\n",
    "    grouped_data = df.groupby(['user_id', 'date'])\n",
    "    # число проходов сотрудником ч/з турникуты в день\n",
    "    df['pass_cnt_per_day'] = grouped_data['gate_id'].transform('size')\n",
    "    # число проходов через конкретный турникет в конкретный день\n",
    "    df['daily_gate_pass_count'] = df.groupby(['user_id', 'date', 'gate_id'])['gate_id'].transform('size')\n",
    "    # вероятность прохода через конкретный турникет в конкретный день\n",
    "    df['probability_gate_id'] = df['daily_gate_pass_count'] / df['pass_cnt_per_day']\n",
    "    # количество сотрудников, вошедших в конкретный день в здание\n",
    "    df['cnt_users_per_day'] = df.groupby('date')['user_id'].transform('nunique')\n",
    "    # количество сотрудников, вошедших в конкретную неделю в здание\n",
    "    df['cnt_users_per_week'] = df.groupby('week_number')['user_id'].transform('nunique')\n",
    "    # индекс дневной явки сотрудника\n",
    "    df['daily_attendance_index'] = df['cnt_users_per_day'] / df['cnt_users_per_week']\n",
    "    # количество дней в конкретную неделю, в которые сотрудник заходил в здание\n",
    "    df['cnt_days_per_week'] = df.groupby(['user_id', 'week_number'])['date'].transform('nunique')\n",
    "\n",
    "    # время прихода на работу (количество минут от полуночи)\n",
    "    df['entry_time'] = grouped_data['ts'].transform('min')\n",
    "    df['entry_time'] = ((df['entry_time'] - df['date']).dt.total_seconds() // 60).astype('int')\n",
    "    # время ухода с работы (количество минут от полуночи)\n",
    "    df['exit_time'] = grouped_data['ts'].transform('max')\n",
    "    df['exit_time'] = ((df['exit_time'] - df['date']).dt.total_seconds() // 60).astype('int')   # Вспомогательный признак\n",
    "    # продолжительность рабочего времени в минутах\n",
    "    df['working_time_per_day'] = df['exit_time'] - df['entry_time']\n",
    "    # турникет, через который сотрудник зашел в здание в конкретный день\n",
    "    df['entrance_gate_id'] = grouped_data['gate_id'].transform('first')\n",
    "    # турникет, через который сотрудник вышел из здания в конкретный день\n",
    "    df['exit_gate_id'] = grouped_data['gate_id'].transform('last')\n",
    "    # продолжительность рабочего времени за неделю в минутах (working_time_per_week)\n",
    "    df_working_time_per_week = df.groupby(['user_id', 'date'], as_index=False)[['week_number', 'working_time_per_day']].first()\n",
    "    df_working_time_per_week = df_working_time_per_week.groupby(['user_id', 'week_number'], as_index=False)['working_time_per_day'].sum()\n",
    "    df_working_time_per_week = df_working_time_per_week.rename(columns={'working_time_per_day': 'working_time_per_week'})\n",
    "    df = pd.merge(df, df_working_time_per_week, on=['user_id', 'week_number'], how='left')\n",
    "    # индекс дневной нагрузки сотрудника - отношение минут работы за день к минутам работы за неделю\n",
    "    df['daily_workload_index'] = df['working_time_per_day'] / df['working_time_per_week']\n",
    "    # на случай, когда working_time_per_day = 0 и working_time_per_week = 0\n",
    "    df['daily_workload_index'] = df['daily_workload_index'].fillna(0)\n",
    "\n",
    "    for i in range(1, 6):\n",
    "        # 5 предыдущих турникетов\n",
    "        df[f'gate_id_lag_{i}'] = grouped_data['gate_id'].shift(i, fill_value=-100)\n",
    "        # 5 последующих турникетов\n",
    "        df[f'gate_id_{i}'] = grouped_data['gate_id'].shift(-i, fill_value=-200)\n",
    "        # разница в секундах между текущей записью и пятью предыдущими\n",
    "        df[f'sec_btw_lag_{i}'] = df['total_seconds'] - grouped_data['total_seconds'].shift(i)\n",
    "        df[f'sec_btw_lag_{i}'] = df[f'sec_btw_lag_{i}'].fillna(-1000).astype('int')\n",
    "        # разница в секундах между текущей записью и пятью следующими\n",
    "        df[f'sec_btw_{i}'] = df['total_seconds'] - grouped_data['total_seconds'].shift(-i)\n",
    "        df[f'sec_btw_{i}'] = df[f'sec_btw_{i}'].fillna(1000).astype('int')\n",
    "\n",
    "    # метка gate_id, совпадающего с предыдущим, промежуток между срабатываниями равен 1 секунде\n",
    "    df['repeat_gate_1s'] = df['gate_id'].eq(df['gate_id_lag_1']) & df['sec_btw_lag_1'].eq(1)\n",
    "    # -//- 2 секундам\n",
    "    df['repeat_gate_2s'] = df['gate_id'].eq(df['gate_id_lag_1']) & df['sec_btw_lag_1'].eq(2)\n",
    "    # -//- 3 секундам\n",
    "    df['repeat_gate_3s'] = df['gate_id'].eq(df['gate_id_lag_1']) & df['sec_btw_lag_1'].eq(3)\n",
    "    # -//- 4 секундам\n",
    "    df['repeat_gate_4s'] = df['gate_id'].eq(df['gate_id_lag_1']) & df['sec_btw_lag_1'].eq(4)\n",
    "    # -//- от 5 секунд\n",
    "    df['repeat_gate_ge_5s'] = df['gate_id'].eq(df['gate_id_lag_1']) & df['sec_btw_lag_1'].ge(5)\n",
    "    # для удобства расчетов\n",
    "    grouped_data = df.groupby(['user_id', 'date'])\n",
    "    # количество повторных срабатываний турникетов для user_id в конкретный день, промежуток между срабатываниями равен 1 секунде\n",
    "    df['cnt_repeat_gate_1s'] = grouped_data['repeat_gate_1s'].transform('sum')\n",
    "    # -//- 2 секундам\n",
    "    df['cnt_repeat_gate_2s'] = grouped_data['repeat_gate_2s'].transform('sum')\n",
    "    # -//- 2 секундам\n",
    "    df['cnt_repeat_gate_3s'] = grouped_data['repeat_gate_3s'].transform('sum')\n",
    "    # -//- 2 секундам\n",
    "    df['cnt_repeat_gate_4s'] = grouped_data['repeat_gate_4s'].transform('sum')\n",
    "    # -//- от 5 секунд\n",
    "    df['cnt_repeat_gate_ge_5s'] = grouped_data['repeat_gate_ge_5s'].transform('sum')\n",
    "\n",
    "    # маршрут – содержит информацию о соседних турникетах, через которые прошел сотрудник (направление не учитывается)\n",
    "    df['route'] = df.apply(lambda row: str(sorted([row['gate_id_lag_1'], row['gate_id']])), axis=1)\n",
    "    # если сотрудник пришел с улицы\n",
    "    df.loc[df['route'].str.contains('-100'), 'route'] = 'not_route'\n",
    "\n",
    "    # вспомогательный признак\n",
    "    df['temp_sec_btw_lag_1'] = df['sec_btw_lag_1']\n",
    "    # если сотрудник пришел с улицы\n",
    "    df.loc[df['temp_sec_btw_lag_1'] < 0, 'temp_sec_btw_lag_1'] = 0\n",
    "    # накопленное время нахождения в здании к моменту прохода через турникет в течение дня\n",
    "    df['cumtime_per_day'] = df.groupby(['user_id', 'date'])['temp_sec_btw_lag_1'].cumsum()\n",
    "    # накопленное время нахождения на конкретном маршруте в течение дня\n",
    "    df['cumtime_at_route_per_day'] = df.groupby(['user_id', 'date', 'route'])['temp_sec_btw_lag_1'].cumsum()\n",
    "\n",
    "    # самый часто используемый турникет за день\n",
    "    df['most_frequent_gate_per_day'] = df.groupby(['user_id', 'date'])['gate_id'].transform(lambda x: x.value_counts().idxmax())\n",
    "    # самый часто используемый турникет за неделю\n",
    "    df['most_frequent_gate_per_week'] = df.groupby(['user_id', 'week_number'])['gate_id'].transform(lambda x: x.value_counts().idxmax())\n",
    "    # самый часто используемый маршрут за день\n",
    "    df['most_frequent_route_per_day'] = df.groupby(['user_id', 'date'])['route'].transform(lambda x: x.value_counts().idxmax())\n",
    "    # самый часто используемый маршрут за неделю\n",
    "    df['most_frequent_route_per_week'] = df.groupby(['user_id', 'week_number'])['route'].transform(lambda x: x.value_counts().idxmax())\n",
    "\n",
    "    # среднее время, затраченное на маршрут в течение недели\n",
    "    df['weekly_route_avg_time'] = df.groupby(['user_id', 'week_number', 'route'])['temp_sec_btw_lag_1'].transform('mean')\n",
    "    # среднее время, затраченное на маршрут\n",
    "    df['route_avg_time'] = df.groupby(['user_id', 'route'])['temp_sec_btw_lag_1'].transform('mean')\n",
    "\n",
    "    return df"
   ]
  },
  {
   "cell_type": "code",
   "execution_count": 32,
   "metadata": {},
   "outputs": [
    {
     "data": {
      "text/html": [
       "<div>\n",
       "<style scoped>\n",
       "    .dataframe tbody tr th:only-of-type {\n",
       "        vertical-align: middle;\n",
       "    }\n",
       "\n",
       "    .dataframe tbody tr th {\n",
       "        vertical-align: top;\n",
       "    }\n",
       "\n",
       "    .dataframe thead th {\n",
       "        text-align: right;\n",
       "    }\n",
       "</style>\n",
       "<table border=\"1\" class=\"dataframe\">\n",
       "  <thead>\n",
       "    <tr style=\"text-align: right;\">\n",
       "      <th></th>\n",
       "      <th>user_id</th>\n",
       "      <th>ts</th>\n",
       "      <th>gate_id</th>\n",
       "      <th>date</th>\n",
       "      <th>day_of_month</th>\n",
       "      <th>hour</th>\n",
       "      <th>total_minutes</th>\n",
       "      <th>total_seconds</th>\n",
       "      <th>week_number</th>\n",
       "      <th>day_of_week</th>\n",
       "      <th>is_weekend</th>\n",
       "      <th>time_of_day</th>\n",
       "      <th>is_month_start</th>\n",
       "      <th>is_month_end</th>\n",
       "      <th>pass_cnt_per_day</th>\n",
       "      <th>daily_gate_pass_count</th>\n",
       "      <th>probability_gate_id</th>\n",
       "      <th>cnt_users_per_day</th>\n",
       "      <th>cnt_users_per_week</th>\n",
       "      <th>daily_attendance_index</th>\n",
       "      <th>cnt_days_per_week</th>\n",
       "      <th>entry_time</th>\n",
       "      <th>exit_time</th>\n",
       "      <th>working_time_per_day</th>\n",
       "      <th>entrance_gate_id</th>\n",
       "      <th>exit_gate_id</th>\n",
       "      <th>working_time_per_week</th>\n",
       "      <th>daily_workload_index</th>\n",
       "      <th>gate_id_lag_1</th>\n",
       "      <th>gate_id_1</th>\n",
       "      <th>sec_btw_lag_1</th>\n",
       "      <th>sec_btw_1</th>\n",
       "      <th>gate_id_lag_2</th>\n",
       "      <th>gate_id_2</th>\n",
       "      <th>sec_btw_lag_2</th>\n",
       "      <th>sec_btw_2</th>\n",
       "      <th>gate_id_lag_3</th>\n",
       "      <th>gate_id_3</th>\n",
       "      <th>sec_btw_lag_3</th>\n",
       "      <th>sec_btw_3</th>\n",
       "      <th>gate_id_lag_4</th>\n",
       "      <th>gate_id_4</th>\n",
       "      <th>sec_btw_lag_4</th>\n",
       "      <th>sec_btw_4</th>\n",
       "      <th>gate_id_lag_5</th>\n",
       "      <th>gate_id_5</th>\n",
       "      <th>sec_btw_lag_5</th>\n",
       "      <th>sec_btw_5</th>\n",
       "      <th>repeat_gate_1s</th>\n",
       "      <th>repeat_gate_2s</th>\n",
       "      <th>repeat_gate_3s</th>\n",
       "      <th>repeat_gate_4s</th>\n",
       "      <th>repeat_gate_ge_5s</th>\n",
       "      <th>cnt_repeat_gate_1s</th>\n",
       "      <th>cnt_repeat_gate_2s</th>\n",
       "      <th>cnt_repeat_gate_3s</th>\n",
       "      <th>cnt_repeat_gate_4s</th>\n",
       "      <th>cnt_repeat_gate_ge_5s</th>\n",
       "      <th>route</th>\n",
       "      <th>temp_sec_btw_lag_1</th>\n",
       "      <th>cumtime_per_day</th>\n",
       "      <th>cumtime_at_route_per_day</th>\n",
       "      <th>most_frequent_gate_per_day</th>\n",
       "      <th>most_frequent_gate_per_week</th>\n",
       "      <th>most_frequent_route_per_day</th>\n",
       "      <th>most_frequent_route_per_week</th>\n",
       "      <th>weekly_route_avg_time</th>\n",
       "      <th>route_avg_time</th>\n",
       "    </tr>\n",
       "  </thead>\n",
       "  <tbody>\n",
       "    <tr>\n",
       "      <th>0</th>\n",
       "      <td>2</td>\n",
       "      <td>2022-12-28 14:22:24</td>\n",
       "      <td>5</td>\n",
       "      <td>2022-12-28</td>\n",
       "      <td>28</td>\n",
       "      <td>14</td>\n",
       "      <td>862</td>\n",
       "      <td>51744</td>\n",
       "      <td>52</td>\n",
       "      <td>2</td>\n",
       "      <td>False</td>\n",
       "      <td>afternoon</td>\n",
       "      <td>False</td>\n",
       "      <td>False</td>\n",
       "      <td>11</td>\n",
       "      <td>2</td>\n",
       "      <td>0.18</td>\n",
       "      <td>4</td>\n",
       "      <td>4</td>\n",
       "      <td>1.00</td>\n",
       "      <td>3</td>\n",
       "      <td>862</td>\n",
       "      <td>1131</td>\n",
       "      <td>269</td>\n",
       "      <td>5</td>\n",
       "      <td>4</td>\n",
       "      <td>1321</td>\n",
       "      <td>0.20</td>\n",
       "      <td>-100</td>\n",
       "      <td>5</td>\n",
       "      <td>-1000</td>\n",
       "      <td>-2</td>\n",
       "      <td>-100</td>\n",
       "      <td>4</td>\n",
       "      <td>-1000</td>\n",
       "      <td>-17</td>\n",
       "      <td>-100</td>\n",
       "      <td>4</td>\n",
       "      <td>-1000</td>\n",
       "      <td>-19</td>\n",
       "      <td>-100</td>\n",
       "      <td>3</td>\n",
       "      <td>-1000</td>\n",
       "      <td>-7896</td>\n",
       "      <td>-100</td>\n",
       "      <td>3</td>\n",
       "      <td>-1000</td>\n",
       "      <td>-7898</td>\n",
       "      <td>False</td>\n",
       "      <td>False</td>\n",
       "      <td>False</td>\n",
       "      <td>False</td>\n",
       "      <td>False</td>\n",
       "      <td>1</td>\n",
       "      <td>3</td>\n",
       "      <td>0</td>\n",
       "      <td>0</td>\n",
       "      <td>1</td>\n",
       "      <td>not_route</td>\n",
       "      <td>0</td>\n",
       "      <td>0</td>\n",
       "      <td>0</td>\n",
       "      <td>4</td>\n",
       "      <td>4</td>\n",
       "      <td>[4, 4]</td>\n",
       "      <td>[4, 4]</td>\n",
       "      <td>0.00</td>\n",
       "      <td>0.00</td>\n",
       "    </tr>\n",
       "    <tr>\n",
       "      <th>1</th>\n",
       "      <td>2</td>\n",
       "      <td>2022-12-28 14:22:26</td>\n",
       "      <td>5</td>\n",
       "      <td>2022-12-28</td>\n",
       "      <td>28</td>\n",
       "      <td>14</td>\n",
       "      <td>862</td>\n",
       "      <td>51746</td>\n",
       "      <td>52</td>\n",
       "      <td>2</td>\n",
       "      <td>False</td>\n",
       "      <td>afternoon</td>\n",
       "      <td>False</td>\n",
       "      <td>False</td>\n",
       "      <td>11</td>\n",
       "      <td>2</td>\n",
       "      <td>0.18</td>\n",
       "      <td>4</td>\n",
       "      <td>4</td>\n",
       "      <td>1.00</td>\n",
       "      <td>3</td>\n",
       "      <td>862</td>\n",
       "      <td>1131</td>\n",
       "      <td>269</td>\n",
       "      <td>5</td>\n",
       "      <td>4</td>\n",
       "      <td>1321</td>\n",
       "      <td>0.20</td>\n",
       "      <td>5</td>\n",
       "      <td>4</td>\n",
       "      <td>2</td>\n",
       "      <td>-15</td>\n",
       "      <td>-100</td>\n",
       "      <td>4</td>\n",
       "      <td>-1000</td>\n",
       "      <td>-17</td>\n",
       "      <td>-100</td>\n",
       "      <td>3</td>\n",
       "      <td>-1000</td>\n",
       "      <td>-7894</td>\n",
       "      <td>-100</td>\n",
       "      <td>3</td>\n",
       "      <td>-1000</td>\n",
       "      <td>-7896</td>\n",
       "      <td>-100</td>\n",
       "      <td>10</td>\n",
       "      <td>-1000</td>\n",
       "      <td>-7911</td>\n",
       "      <td>False</td>\n",
       "      <td>True</td>\n",
       "      <td>False</td>\n",
       "      <td>False</td>\n",
       "      <td>False</td>\n",
       "      <td>1</td>\n",
       "      <td>3</td>\n",
       "      <td>0</td>\n",
       "      <td>0</td>\n",
       "      <td>1</td>\n",
       "      <td>[5, 5]</td>\n",
       "      <td>2</td>\n",
       "      <td>2</td>\n",
       "      <td>2</td>\n",
       "      <td>4</td>\n",
       "      <td>4</td>\n",
       "      <td>[4, 4]</td>\n",
       "      <td>[4, 4]</td>\n",
       "      <td>1.40</td>\n",
       "      <td>1.40</td>\n",
       "    </tr>\n",
       "    <tr>\n",
       "      <th>2</th>\n",
       "      <td>2</td>\n",
       "      <td>2022-12-28 14:22:41</td>\n",
       "      <td>4</td>\n",
       "      <td>2022-12-28</td>\n",
       "      <td>28</td>\n",
       "      <td>14</td>\n",
       "      <td>862</td>\n",
       "      <td>51761</td>\n",
       "      <td>52</td>\n",
       "      <td>2</td>\n",
       "      <td>False</td>\n",
       "      <td>afternoon</td>\n",
       "      <td>False</td>\n",
       "      <td>False</td>\n",
       "      <td>11</td>\n",
       "      <td>4</td>\n",
       "      <td>0.36</td>\n",
       "      <td>4</td>\n",
       "      <td>4</td>\n",
       "      <td>1.00</td>\n",
       "      <td>3</td>\n",
       "      <td>862</td>\n",
       "      <td>1131</td>\n",
       "      <td>269</td>\n",
       "      <td>5</td>\n",
       "      <td>4</td>\n",
       "      <td>1321</td>\n",
       "      <td>0.20</td>\n",
       "      <td>5</td>\n",
       "      <td>4</td>\n",
       "      <td>15</td>\n",
       "      <td>-2</td>\n",
       "      <td>5</td>\n",
       "      <td>3</td>\n",
       "      <td>17</td>\n",
       "      <td>-7879</td>\n",
       "      <td>-100</td>\n",
       "      <td>3</td>\n",
       "      <td>-1000</td>\n",
       "      <td>-7881</td>\n",
       "      <td>-100</td>\n",
       "      <td>10</td>\n",
       "      <td>-1000</td>\n",
       "      <td>-7896</td>\n",
       "      <td>-100</td>\n",
       "      <td>10</td>\n",
       "      <td>-1000</td>\n",
       "      <td>-7915</td>\n",
       "      <td>False</td>\n",
       "      <td>False</td>\n",
       "      <td>False</td>\n",
       "      <td>False</td>\n",
       "      <td>False</td>\n",
       "      <td>1</td>\n",
       "      <td>3</td>\n",
       "      <td>0</td>\n",
       "      <td>0</td>\n",
       "      <td>1</td>\n",
       "      <td>[4, 5]</td>\n",
       "      <td>15</td>\n",
       "      <td>17</td>\n",
       "      <td>15</td>\n",
       "      <td>4</td>\n",
       "      <td>4</td>\n",
       "      <td>[4, 4]</td>\n",
       "      <td>[4, 4]</td>\n",
       "      <td>15.00</td>\n",
       "      <td>15.00</td>\n",
       "    </tr>\n",
       "  </tbody>\n",
       "</table>\n",
       "</div>"
      ],
      "text/plain": [
       "   user_id                  ts  gate_id       date  day_of_month  hour  \\\n",
       "0        2 2022-12-28 14:22:24        5 2022-12-28            28    14   \n",
       "1        2 2022-12-28 14:22:26        5 2022-12-28            28    14   \n",
       "2        2 2022-12-28 14:22:41        4 2022-12-28            28    14   \n",
       "\n",
       "   total_minutes  total_seconds  week_number  day_of_week  is_weekend  \\\n",
       "0            862          51744           52            2       False   \n",
       "1            862          51746           52            2       False   \n",
       "2            862          51761           52            2       False   \n",
       "\n",
       "  time_of_day  is_month_start  is_month_end  pass_cnt_per_day  \\\n",
       "0   afternoon           False         False                11   \n",
       "1   afternoon           False         False                11   \n",
       "2   afternoon           False         False                11   \n",
       "\n",
       "   daily_gate_pass_count  probability_gate_id  cnt_users_per_day  \\\n",
       "0                      2                 0.18                  4   \n",
       "1                      2                 0.18                  4   \n",
       "2                      4                 0.36                  4   \n",
       "\n",
       "   cnt_users_per_week  daily_attendance_index  cnt_days_per_week  entry_time  \\\n",
       "0                   4                    1.00                  3         862   \n",
       "1                   4                    1.00                  3         862   \n",
       "2                   4                    1.00                  3         862   \n",
       "\n",
       "   exit_time  working_time_per_day  entrance_gate_id  exit_gate_id  \\\n",
       "0       1131                   269                 5             4   \n",
       "1       1131                   269                 5             4   \n",
       "2       1131                   269                 5             4   \n",
       "\n",
       "   working_time_per_week  daily_workload_index  gate_id_lag_1  gate_id_1  \\\n",
       "0                   1321                  0.20           -100          5   \n",
       "1                   1321                  0.20              5          4   \n",
       "2                   1321                  0.20              5          4   \n",
       "\n",
       "   sec_btw_lag_1  sec_btw_1  gate_id_lag_2  gate_id_2  sec_btw_lag_2  \\\n",
       "0          -1000         -2           -100          4          -1000   \n",
       "1              2        -15           -100          4          -1000   \n",
       "2             15         -2              5          3             17   \n",
       "\n",
       "   sec_btw_2  gate_id_lag_3  gate_id_3  sec_btw_lag_3  sec_btw_3  \\\n",
       "0        -17           -100          4          -1000        -19   \n",
       "1        -17           -100          3          -1000      -7894   \n",
       "2      -7879           -100          3          -1000      -7881   \n",
       "\n",
       "   gate_id_lag_4  gate_id_4  sec_btw_lag_4  sec_btw_4  gate_id_lag_5  \\\n",
       "0           -100          3          -1000      -7896           -100   \n",
       "1           -100          3          -1000      -7896           -100   \n",
       "2           -100         10          -1000      -7896           -100   \n",
       "\n",
       "   gate_id_5  sec_btw_lag_5  sec_btw_5  repeat_gate_1s  repeat_gate_2s  \\\n",
       "0          3          -1000      -7898           False           False   \n",
       "1         10          -1000      -7911           False            True   \n",
       "2         10          -1000      -7915           False           False   \n",
       "\n",
       "   repeat_gate_3s  repeat_gate_4s  repeat_gate_ge_5s  cnt_repeat_gate_1s  \\\n",
       "0           False           False              False                   1   \n",
       "1           False           False              False                   1   \n",
       "2           False           False              False                   1   \n",
       "\n",
       "   cnt_repeat_gate_2s  cnt_repeat_gate_3s  cnt_repeat_gate_4s  \\\n",
       "0                   3                   0                   0   \n",
       "1                   3                   0                   0   \n",
       "2                   3                   0                   0   \n",
       "\n",
       "   cnt_repeat_gate_ge_5s      route  temp_sec_btw_lag_1  cumtime_per_day  \\\n",
       "0                      1  not_route                   0                0   \n",
       "1                      1     [5, 5]                   2                2   \n",
       "2                      1     [4, 5]                  15               17   \n",
       "\n",
       "   cumtime_at_route_per_day  most_frequent_gate_per_day  \\\n",
       "0                         0                           4   \n",
       "1                         2                           4   \n",
       "2                        15                           4   \n",
       "\n",
       "   most_frequent_gate_per_week most_frequent_route_per_day  \\\n",
       "0                            4                      [4, 4]   \n",
       "1                            4                      [4, 4]   \n",
       "2                            4                      [4, 4]   \n",
       "\n",
       "  most_frequent_route_per_week  weekly_route_avg_time  route_avg_time  \n",
       "0                       [4, 4]                   0.00            0.00  \n",
       "1                       [4, 4]                   1.40            1.40  \n",
       "2                       [4, 4]                  15.00           15.00  "
      ]
     },
     "execution_count": 32,
     "metadata": {},
     "output_type": "execute_result"
    }
   ],
   "source": [
    "df_train = make_features(df_train)\n",
    "df_train.head(3)"
   ]
  },
  {
   "cell_type": "code",
   "execution_count": 33,
   "metadata": {},
   "outputs": [
    {
     "data": {
      "text/plain": [
       "(2014, 68)"
      ]
     },
     "execution_count": 33,
     "metadata": {},
     "output_type": "execute_result"
    }
   ],
   "source": [
    "df_train.shape"
   ]
  },
  {
   "cell_type": "code",
   "execution_count": 34,
   "metadata": {},
   "outputs": [
    {
     "data": {
      "text/html": [
       "<div>\n",
       "<style scoped>\n",
       "    .dataframe tbody tr th:only-of-type {\n",
       "        vertical-align: middle;\n",
       "    }\n",
       "\n",
       "    .dataframe tbody tr th {\n",
       "        vertical-align: top;\n",
       "    }\n",
       "\n",
       "    .dataframe thead th {\n",
       "        text-align: right;\n",
       "    }\n",
       "</style>\n",
       "<table border=\"1\" class=\"dataframe\">\n",
       "  <thead>\n",
       "    <tr style=\"text-align: right;\">\n",
       "      <th></th>\n",
       "      <th>ts</th>\n",
       "      <th>gate_id</th>\n",
       "      <th>user_id</th>\n",
       "      <th>date</th>\n",
       "      <th>day_of_month</th>\n",
       "      <th>hour</th>\n",
       "      <th>total_minutes</th>\n",
       "      <th>total_seconds</th>\n",
       "      <th>week_number</th>\n",
       "      <th>day_of_week</th>\n",
       "      <th>is_weekend</th>\n",
       "      <th>time_of_day</th>\n",
       "      <th>is_month_start</th>\n",
       "      <th>is_month_end</th>\n",
       "      <th>pass_cnt_per_day</th>\n",
       "      <th>daily_gate_pass_count</th>\n",
       "      <th>probability_gate_id</th>\n",
       "      <th>cnt_users_per_day</th>\n",
       "      <th>cnt_users_per_week</th>\n",
       "      <th>daily_attendance_index</th>\n",
       "      <th>cnt_days_per_week</th>\n",
       "      <th>entry_time</th>\n",
       "      <th>exit_time</th>\n",
       "      <th>working_time_per_day</th>\n",
       "      <th>entrance_gate_id</th>\n",
       "      <th>exit_gate_id</th>\n",
       "      <th>working_time_per_week</th>\n",
       "      <th>daily_workload_index</th>\n",
       "      <th>gate_id_lag_1</th>\n",
       "      <th>gate_id_1</th>\n",
       "      <th>sec_btw_lag_1</th>\n",
       "      <th>sec_btw_1</th>\n",
       "      <th>gate_id_lag_2</th>\n",
       "      <th>gate_id_2</th>\n",
       "      <th>sec_btw_lag_2</th>\n",
       "      <th>sec_btw_2</th>\n",
       "      <th>gate_id_lag_3</th>\n",
       "      <th>gate_id_3</th>\n",
       "      <th>sec_btw_lag_3</th>\n",
       "      <th>sec_btw_3</th>\n",
       "      <th>gate_id_lag_4</th>\n",
       "      <th>gate_id_4</th>\n",
       "      <th>sec_btw_lag_4</th>\n",
       "      <th>sec_btw_4</th>\n",
       "      <th>gate_id_lag_5</th>\n",
       "      <th>gate_id_5</th>\n",
       "      <th>sec_btw_lag_5</th>\n",
       "      <th>sec_btw_5</th>\n",
       "      <th>repeat_gate_1s</th>\n",
       "      <th>repeat_gate_2s</th>\n",
       "      <th>repeat_gate_3s</th>\n",
       "      <th>repeat_gate_4s</th>\n",
       "      <th>repeat_gate_ge_5s</th>\n",
       "      <th>cnt_repeat_gate_1s</th>\n",
       "      <th>cnt_repeat_gate_2s</th>\n",
       "      <th>cnt_repeat_gate_3s</th>\n",
       "      <th>cnt_repeat_gate_4s</th>\n",
       "      <th>cnt_repeat_gate_ge_5s</th>\n",
       "      <th>route</th>\n",
       "      <th>temp_sec_btw_lag_1</th>\n",
       "      <th>cumtime_per_day</th>\n",
       "      <th>cumtime_at_route_per_day</th>\n",
       "      <th>most_frequent_gate_per_day</th>\n",
       "      <th>most_frequent_gate_per_week</th>\n",
       "      <th>most_frequent_route_per_day</th>\n",
       "      <th>most_frequent_route_per_week</th>\n",
       "      <th>weekly_route_avg_time</th>\n",
       "      <th>route_avg_time</th>\n",
       "    </tr>\n",
       "  </thead>\n",
       "  <tbody>\n",
       "    <tr>\n",
       "      <th>0</th>\n",
       "      <td>2023-01-03 12:58:57</td>\n",
       "      <td>5</td>\n",
       "      <td>blue</td>\n",
       "      <td>2023-01-03</td>\n",
       "      <td>3</td>\n",
       "      <td>12</td>\n",
       "      <td>778</td>\n",
       "      <td>46737</td>\n",
       "      <td>1</td>\n",
       "      <td>1</td>\n",
       "      <td>False</td>\n",
       "      <td>afternoon</td>\n",
       "      <td>False</td>\n",
       "      <td>False</td>\n",
       "      <td>7</td>\n",
       "      <td>3</td>\n",
       "      <td>0.43</td>\n",
       "      <td>6</td>\n",
       "      <td>6</td>\n",
       "      <td>1.00</td>\n",
       "      <td>2</td>\n",
       "      <td>778</td>\n",
       "      <td>785</td>\n",
       "      <td>7</td>\n",
       "      <td>5</td>\n",
       "      <td>4</td>\n",
       "      <td>23</td>\n",
       "      <td>0.30</td>\n",
       "      <td>-100</td>\n",
       "      <td>5</td>\n",
       "      <td>-1000</td>\n",
       "      <td>-9</td>\n",
       "      <td>-100</td>\n",
       "      <td>5</td>\n",
       "      <td>-1000</td>\n",
       "      <td>-12</td>\n",
       "      <td>-100</td>\n",
       "      <td>10</td>\n",
       "      <td>-1000</td>\n",
       "      <td>-107</td>\n",
       "      <td>-100</td>\n",
       "      <td>11</td>\n",
       "      <td>-1000</td>\n",
       "      <td>-353</td>\n",
       "      <td>-100</td>\n",
       "      <td>4</td>\n",
       "      <td>-1000</td>\n",
       "      <td>-381</td>\n",
       "      <td>False</td>\n",
       "      <td>False</td>\n",
       "      <td>False</td>\n",
       "      <td>False</td>\n",
       "      <td>False</td>\n",
       "      <td>1</td>\n",
       "      <td>0</td>\n",
       "      <td>1</td>\n",
       "      <td>0</td>\n",
       "      <td>1</td>\n",
       "      <td>not_route</td>\n",
       "      <td>0</td>\n",
       "      <td>0</td>\n",
       "      <td>0</td>\n",
       "      <td>5</td>\n",
       "      <td>5</td>\n",
       "      <td>[5, 5]</td>\n",
       "      <td>not_route</td>\n",
       "      <td>0.00</td>\n",
       "      <td>0.00</td>\n",
       "    </tr>\n",
       "    <tr>\n",
       "      <th>1</th>\n",
       "      <td>2023-01-03 12:59:06</td>\n",
       "      <td>5</td>\n",
       "      <td>blue</td>\n",
       "      <td>2023-01-03</td>\n",
       "      <td>3</td>\n",
       "      <td>12</td>\n",
       "      <td>779</td>\n",
       "      <td>46746</td>\n",
       "      <td>1</td>\n",
       "      <td>1</td>\n",
       "      <td>False</td>\n",
       "      <td>afternoon</td>\n",
       "      <td>False</td>\n",
       "      <td>False</td>\n",
       "      <td>7</td>\n",
       "      <td>3</td>\n",
       "      <td>0.43</td>\n",
       "      <td>6</td>\n",
       "      <td>6</td>\n",
       "      <td>1.00</td>\n",
       "      <td>2</td>\n",
       "      <td>778</td>\n",
       "      <td>785</td>\n",
       "      <td>7</td>\n",
       "      <td>5</td>\n",
       "      <td>4</td>\n",
       "      <td>23</td>\n",
       "      <td>0.30</td>\n",
       "      <td>5</td>\n",
       "      <td>5</td>\n",
       "      <td>9</td>\n",
       "      <td>-3</td>\n",
       "      <td>-100</td>\n",
       "      <td>10</td>\n",
       "      <td>-1000</td>\n",
       "      <td>-98</td>\n",
       "      <td>-100</td>\n",
       "      <td>11</td>\n",
       "      <td>-1000</td>\n",
       "      <td>-344</td>\n",
       "      <td>-100</td>\n",
       "      <td>4</td>\n",
       "      <td>-1000</td>\n",
       "      <td>-372</td>\n",
       "      <td>-100</td>\n",
       "      <td>4</td>\n",
       "      <td>-1000</td>\n",
       "      <td>-373</td>\n",
       "      <td>False</td>\n",
       "      <td>False</td>\n",
       "      <td>False</td>\n",
       "      <td>False</td>\n",
       "      <td>True</td>\n",
       "      <td>1</td>\n",
       "      <td>0</td>\n",
       "      <td>1</td>\n",
       "      <td>0</td>\n",
       "      <td>1</td>\n",
       "      <td>[5, 5]</td>\n",
       "      <td>9</td>\n",
       "      <td>9</td>\n",
       "      <td>9</td>\n",
       "      <td>5</td>\n",
       "      <td>5</td>\n",
       "      <td>[5, 5]</td>\n",
       "      <td>not_route</td>\n",
       "      <td>6.00</td>\n",
       "      <td>6.00</td>\n",
       "    </tr>\n",
       "    <tr>\n",
       "      <th>2</th>\n",
       "      <td>2023-01-03 12:59:09</td>\n",
       "      <td>5</td>\n",
       "      <td>blue</td>\n",
       "      <td>2023-01-03</td>\n",
       "      <td>3</td>\n",
       "      <td>12</td>\n",
       "      <td>779</td>\n",
       "      <td>46749</td>\n",
       "      <td>1</td>\n",
       "      <td>1</td>\n",
       "      <td>False</td>\n",
       "      <td>afternoon</td>\n",
       "      <td>False</td>\n",
       "      <td>False</td>\n",
       "      <td>7</td>\n",
       "      <td>3</td>\n",
       "      <td>0.43</td>\n",
       "      <td>6</td>\n",
       "      <td>6</td>\n",
       "      <td>1.00</td>\n",
       "      <td>2</td>\n",
       "      <td>778</td>\n",
       "      <td>785</td>\n",
       "      <td>7</td>\n",
       "      <td>5</td>\n",
       "      <td>4</td>\n",
       "      <td>23</td>\n",
       "      <td>0.30</td>\n",
       "      <td>5</td>\n",
       "      <td>10</td>\n",
       "      <td>3</td>\n",
       "      <td>-95</td>\n",
       "      <td>5</td>\n",
       "      <td>11</td>\n",
       "      <td>12</td>\n",
       "      <td>-341</td>\n",
       "      <td>-100</td>\n",
       "      <td>4</td>\n",
       "      <td>-1000</td>\n",
       "      <td>-369</td>\n",
       "      <td>-100</td>\n",
       "      <td>4</td>\n",
       "      <td>-1000</td>\n",
       "      <td>-370</td>\n",
       "      <td>-100</td>\n",
       "      <td>-200</td>\n",
       "      <td>-1000</td>\n",
       "      <td>1000</td>\n",
       "      <td>False</td>\n",
       "      <td>False</td>\n",
       "      <td>True</td>\n",
       "      <td>False</td>\n",
       "      <td>False</td>\n",
       "      <td>1</td>\n",
       "      <td>0</td>\n",
       "      <td>1</td>\n",
       "      <td>0</td>\n",
       "      <td>1</td>\n",
       "      <td>[5, 5]</td>\n",
       "      <td>3</td>\n",
       "      <td>12</td>\n",
       "      <td>12</td>\n",
       "      <td>5</td>\n",
       "      <td>5</td>\n",
       "      <td>[5, 5]</td>\n",
       "      <td>not_route</td>\n",
       "      <td>6.00</td>\n",
       "      <td>6.00</td>\n",
       "    </tr>\n",
       "  </tbody>\n",
       "</table>\n",
       "</div>"
      ],
      "text/plain": [
       "                   ts  gate_id user_id       date  day_of_month  hour  \\\n",
       "0 2023-01-03 12:58:57        5    blue 2023-01-03             3    12   \n",
       "1 2023-01-03 12:59:06        5    blue 2023-01-03             3    12   \n",
       "2 2023-01-03 12:59:09        5    blue 2023-01-03             3    12   \n",
       "\n",
       "   total_minutes  total_seconds  week_number  day_of_week  is_weekend  \\\n",
       "0            778          46737            1            1       False   \n",
       "1            779          46746            1            1       False   \n",
       "2            779          46749            1            1       False   \n",
       "\n",
       "  time_of_day  is_month_start  is_month_end  pass_cnt_per_day  \\\n",
       "0   afternoon           False         False                 7   \n",
       "1   afternoon           False         False                 7   \n",
       "2   afternoon           False         False                 7   \n",
       "\n",
       "   daily_gate_pass_count  probability_gate_id  cnt_users_per_day  \\\n",
       "0                      3                 0.43                  6   \n",
       "1                      3                 0.43                  6   \n",
       "2                      3                 0.43                  6   \n",
       "\n",
       "   cnt_users_per_week  daily_attendance_index  cnt_days_per_week  entry_time  \\\n",
       "0                   6                    1.00                  2         778   \n",
       "1                   6                    1.00                  2         778   \n",
       "2                   6                    1.00                  2         778   \n",
       "\n",
       "   exit_time  working_time_per_day  entrance_gate_id  exit_gate_id  \\\n",
       "0        785                     7                 5             4   \n",
       "1        785                     7                 5             4   \n",
       "2        785                     7                 5             4   \n",
       "\n",
       "   working_time_per_week  daily_workload_index  gate_id_lag_1  gate_id_1  \\\n",
       "0                     23                  0.30           -100          5   \n",
       "1                     23                  0.30              5          5   \n",
       "2                     23                  0.30              5         10   \n",
       "\n",
       "   sec_btw_lag_1  sec_btw_1  gate_id_lag_2  gate_id_2  sec_btw_lag_2  \\\n",
       "0          -1000         -9           -100          5          -1000   \n",
       "1              9         -3           -100         10          -1000   \n",
       "2              3        -95              5         11             12   \n",
       "\n",
       "   sec_btw_2  gate_id_lag_3  gate_id_3  sec_btw_lag_3  sec_btw_3  \\\n",
       "0        -12           -100         10          -1000       -107   \n",
       "1        -98           -100         11          -1000       -344   \n",
       "2       -341           -100          4          -1000       -369   \n",
       "\n",
       "   gate_id_lag_4  gate_id_4  sec_btw_lag_4  sec_btw_4  gate_id_lag_5  \\\n",
       "0           -100         11          -1000       -353           -100   \n",
       "1           -100          4          -1000       -372           -100   \n",
       "2           -100          4          -1000       -370           -100   \n",
       "\n",
       "   gate_id_5  sec_btw_lag_5  sec_btw_5  repeat_gate_1s  repeat_gate_2s  \\\n",
       "0          4          -1000       -381           False           False   \n",
       "1          4          -1000       -373           False           False   \n",
       "2       -200          -1000       1000           False           False   \n",
       "\n",
       "   repeat_gate_3s  repeat_gate_4s  repeat_gate_ge_5s  cnt_repeat_gate_1s  \\\n",
       "0           False           False              False                   1   \n",
       "1           False           False               True                   1   \n",
       "2            True           False              False                   1   \n",
       "\n",
       "   cnt_repeat_gate_2s  cnt_repeat_gate_3s  cnt_repeat_gate_4s  \\\n",
       "0                   0                   1                   0   \n",
       "1                   0                   1                   0   \n",
       "2                   0                   1                   0   \n",
       "\n",
       "   cnt_repeat_gate_ge_5s      route  temp_sec_btw_lag_1  cumtime_per_day  \\\n",
       "0                      1  not_route                   0                0   \n",
       "1                      1     [5, 5]                   9                9   \n",
       "2                      1     [5, 5]                   3               12   \n",
       "\n",
       "   cumtime_at_route_per_day  most_frequent_gate_per_day  \\\n",
       "0                         0                           5   \n",
       "1                         9                           5   \n",
       "2                        12                           5   \n",
       "\n",
       "   most_frequent_gate_per_week most_frequent_route_per_day  \\\n",
       "0                            5                      [5, 5]   \n",
       "1                            5                      [5, 5]   \n",
       "2                            5                      [5, 5]   \n",
       "\n",
       "  most_frequent_route_per_week  weekly_route_avg_time  route_avg_time  \n",
       "0                    not_route                   0.00            0.00  \n",
       "1                    not_route                   6.00            6.00  \n",
       "2                    not_route                   6.00            6.00  "
      ]
     },
     "execution_count": 34,
     "metadata": {},
     "output_type": "execute_result"
    }
   ],
   "source": [
    "# временно переименуем колонку `user_word` на `user_id`\n",
    "df_test = df_test.rename(columns={'user_word': 'user_id'})\n",
    "\n",
    "df_test = make_features(df_test)\n",
    "# df_test = df_test.rename(columns={'user_id': 'user_word'})\n",
    "df_test.head(3)"
   ]
  },
  {
   "cell_type": "code",
   "execution_count": 35,
   "metadata": {},
   "outputs": [
    {
     "data": {
      "text/plain": [
       "(826, 68)"
      ]
     },
     "execution_count": 35,
     "metadata": {},
     "output_type": "execute_result"
    }
   ],
   "source": [
    "df_test.shape"
   ]
  },
  {
   "cell_type": "code",
   "execution_count": 36,
   "metadata": {},
   "outputs": [
    {
     "data": {
      "text/plain": [
       "0"
      ]
     },
     "execution_count": 36,
     "metadata": {},
     "output_type": "execute_result"
    }
   ],
   "source": [
    "df_train.isna().sum().sum()"
   ]
  },
  {
   "cell_type": "code",
   "execution_count": 37,
   "metadata": {},
   "outputs": [
    {
     "data": {
      "text/plain": [
       "0"
      ]
     },
     "execution_count": 37,
     "metadata": {},
     "output_type": "execute_result"
    }
   ],
   "source": [
    "df_test.isna().sum().sum()"
   ]
  },
  {
   "cell_type": "markdown",
   "metadata": {},
   "source": [
    "# Исследовательский анализ данных"
   ]
  },
  {
   "cell_type": "markdown",
   "metadata": {},
   "source": [
    "## Повторное срабатывание турникетов"
   ]
  },
  {
   "cell_type": "code",
   "execution_count": null,
   "metadata": {},
   "outputs": [],
   "source": []
  },
  {
   "cell_type": "code",
   "execution_count": null,
   "metadata": {},
   "outputs": [],
   "source": []
  },
  {
   "cell_type": "code",
   "execution_count": null,
   "metadata": {},
   "outputs": [],
   "source": []
  },
  {
   "cell_type": "markdown",
   "metadata": {},
   "source": [
    "## Количество проходов через турникеты в неделю"
   ]
  },
  {
   "cell_type": "code",
   "execution_count": 38,
   "metadata": {},
   "outputs": [],
   "source": [
    "week_counts_train = df_train['week_number'].value_counts().sort_index().reset_index()"
   ]
  },
  {
   "cell_type": "code",
   "execution_count": 39,
   "metadata": {},
   "outputs": [
    {
     "data": {
      "image/png": "[encoded data removed]",
      "text/plain": [
       "<Figure size 1500x300 with 1 Axes>"
      ]
     },
     "metadata": {},
     "output_type": "display_data"
    }
   ],
   "source": [
    "plt.figure(figsize=(15, 3))\n",
    "sns.barplot(x='week_number', y='count', data=week_counts_train, color='purple')\n",
    "plt.title('Количество проходов через турникеты в неделю (train)')\n",
    "plt.xlabel('Номер недели')\n",
    "plt.ylabel('Количество')\n",
    "plt.tight_layout()"
   ]
  },
  {
   "cell_type": "code",
   "execution_count": 40,
   "metadata": {},
   "outputs": [
    {
     "data": {
      "text/plain": [
       "1"
      ]
     },
     "execution_count": 40,
     "metadata": {},
     "output_type": "execute_result"
    }
   ],
   "source": [
    "df_train.loc[df_train['week_number'] == 30, 'date'].nunique()"
   ]
  },
  {
   "cell_type": "code",
   "execution_count": 41,
   "metadata": {},
   "outputs": [
    {
     "data": {
      "text/plain": [
       "1"
      ]
     },
     "execution_count": 41,
     "metadata": {},
     "output_type": "execute_result"
    }
   ],
   "source": [
    "df_train.loc[df_train['week_number'] == 45, 'date'].nunique()"
   ]
  },
  {
   "cell_type": "code",
   "execution_count": 42,
   "metadata": {},
   "outputs": [
    {
     "data": {
      "text/plain": [
       "array([50], dtype=int64)"
      ]
     },
     "execution_count": 42,
     "metadata": {},
     "output_type": "execute_result"
    }
   ],
   "source": [
    "df_train.loc[df_train['week_number'] == 45, 'user_id'].unique()"
   ]
  },
  {
   "cell_type": "markdown",
   "metadata": {},
   "source": [
    "Мы видим, что 30 неделя - неполная. Поскольку при генерировании признаков мы использовали агрегацию по номеру недели, удалим данные за 30 неделю из тренировочной выборки."
   ]
  },
  {
   "cell_type": "code",
   "execution_count": 43,
   "metadata": {},
   "outputs": [
    {
     "data": {
      "text/plain": [
       "(2014, 68)"
      ]
     },
     "execution_count": 43,
     "metadata": {},
     "output_type": "execute_result"
    }
   ],
   "source": [
    "df_train.shape"
   ]
  },
  {
   "cell_type": "code",
   "execution_count": 44,
   "metadata": {},
   "outputs": [
    {
     "data": {
      "text/plain": [
       "(1972, 68)"
      ]
     },
     "execution_count": 44,
     "metadata": {},
     "output_type": "execute_result"
    }
   ],
   "source": [
    "df_train = df_train.query('week_number > 30 and week_number != 45').reset_index(drop=True)\n",
    "df_train.shape"
   ]
  },
  {
   "cell_type": "code",
   "execution_count": 45,
   "metadata": {},
   "outputs": [
    {
     "data": {
      "text/plain": [
       "7"
      ]
     },
     "execution_count": 45,
     "metadata": {},
     "output_type": "execute_result"
    }
   ],
   "source": [
    "df_train['user_id'].nunique()"
   ]
  },
  {
   "cell_type": "code",
   "execution_count": 46,
   "metadata": {},
   "outputs": [],
   "source": [
    "week_counts_test = df_test['week_number'].value_counts().sort_index().reset_index()"
   ]
  },
  {
   "cell_type": "code",
   "execution_count": 47,
   "metadata": {},
   "outputs": [
    {
     "data": {
      "image/png": "[encoded data removed]",
      "text/plain": [
       "<Figure size 600x300 with 1 Axes>"
      ]
     },
     "metadata": {},
     "output_type": "display_data"
    }
   ],
   "source": [
    "plt.figure(figsize=(6, 3))\n",
    "sns.barplot(x='week_number', y='count', data=week_counts_test, color='purple')\n",
    "plt.title('Количество проходов через турникеты в неделю (test)')\n",
    "plt.xlabel('Номер недели')\n",
    "plt.ylabel('Количество')\n",
    "plt.tight_layout()"
   ]
  },
  {
   "cell_type": "code",
   "execution_count": 48,
   "metadata": {},
   "outputs": [
    {
     "data": {
      "text/plain": [
       "4"
      ]
     },
     "execution_count": 48,
     "metadata": {},
     "output_type": "execute_result"
    }
   ],
   "source": [
    "df_test.loc[df_test['week_number'] == 1, 'date'].nunique()"
   ]
  },
  {
   "cell_type": "code",
   "execution_count": 49,
   "metadata": {},
   "outputs": [
    {
     "data": {
      "text/plain": [
       "3"
      ]
     },
     "execution_count": 49,
     "metadata": {},
     "output_type": "execute_result"
    }
   ],
   "source": [
    "df_test.loc[df_test['week_number'] == 8, 'date'].nunique()"
   ]
  },
  {
   "cell_type": "code",
   "execution_count": 50,
   "metadata": {},
   "outputs": [
    {
     "data": {
      "text/plain": [
       "3"
      ]
     },
     "execution_count": 50,
     "metadata": {},
     "output_type": "execute_result"
    }
   ],
   "source": [
    "df_test.query('week_number >= 6')['user_id'].nunique()"
   ]
  },
  {
   "cell_type": "markdown",
   "metadata": {},
   "source": [
    "Удалим из тестовой выборки данные с 6 по 8 неделю, поскольку в этот период была маленькая активность."
   ]
  },
  {
   "cell_type": "code",
   "execution_count": 51,
   "metadata": {},
   "outputs": [
    {
     "data": {
      "text/plain": [
       "(826, 68)"
      ]
     },
     "execution_count": 51,
     "metadata": {},
     "output_type": "execute_result"
    }
   ],
   "source": [
    "df_test.shape"
   ]
  },
  {
   "cell_type": "code",
   "execution_count": 52,
   "metadata": {},
   "outputs": [
    {
     "data": {
      "text/plain": [
       "(757, 68)"
      ]
     },
     "execution_count": 52,
     "metadata": {},
     "output_type": "execute_result"
    }
   ],
   "source": [
    "df_test = df_test.query('week_number < 6').reset_index(drop=True)\n",
    "df_test.shape"
   ]
  },
  {
   "cell_type": "code",
   "execution_count": 53,
   "metadata": {},
   "outputs": [
    {
     "data": {
      "text/plain": [
       "9"
      ]
     },
     "execution_count": 53,
     "metadata": {},
     "output_type": "execute_result"
    }
   ],
   "source": [
    "df_test['user_id'].nunique()"
   ]
  },
  {
   "cell_type": "code",
   "execution_count": null,
   "metadata": {},
   "outputs": [],
   "source": []
  },
  {
   "cell_type": "code",
   "execution_count": 54,
   "metadata": {},
   "outputs": [],
   "source": [
    "df_train = df_train.sort_values('ts').reset_index(drop=True)\n",
    "df_test = df_test.sort_values('ts').reset_index(drop=True)"
   ]
  },
  {
   "cell_type": "code",
   "execution_count": 55,
   "metadata": {},
   "outputs": [],
   "source": [
    "# удаление вспомогательных признаков\n",
    "df_train = df_train.drop(['ts', 'date', 'week_number', 'exit_time', 'temp_sec_btw_lag_1'], axis=1)\n",
    "df_test = df_test.drop(['ts', 'date', 'week_number', 'exit_time', 'temp_sec_btw_lag_1'], axis=1)"
   ]
  },
  {
   "cell_type": "code",
   "execution_count": 56,
   "metadata": {},
   "outputs": [
    {
     "name": "stdout",
     "output_type": "stream",
     "text": [
      "<class 'pandas.core.frame.DataFrame'>\n",
      "RangeIndex: 1972 entries, 0 to 1971\n",
      "Data columns (total 63 columns):\n",
      " #   Column                        Non-Null Count  Dtype  \n",
      "---  ------                        --------------  -----  \n",
      " 0   user_id                       1972 non-null   int64  \n",
      " 1   gate_id                       1972 non-null   int64  \n",
      " 2   day_of_month                  1972 non-null   int32  \n",
      " 3   hour                          1972 non-null   int32  \n",
      " 4   total_minutes                 1972 non-null   int32  \n",
      " 5   total_seconds                 1972 non-null   int32  \n",
      " 6   day_of_week                   1972 non-null   int32  \n",
      " 7   is_weekend                    1972 non-null   bool   \n",
      " 8   time_of_day                   1972 non-null   object \n",
      " 9   is_month_start                1972 non-null   bool   \n",
      " 10  is_month_end                  1972 non-null   bool   \n",
      " 11  pass_cnt_per_day              1972 non-null   int64  \n",
      " 12  daily_gate_pass_count         1972 non-null   int64  \n",
      " 13  probability_gate_id           1972 non-null   float64\n",
      " 14  cnt_users_per_day             1972 non-null   int64  \n",
      " 15  cnt_users_per_week            1972 non-null   int64  \n",
      " 16  daily_attendance_index        1972 non-null   float64\n",
      " 17  cnt_days_per_week             1972 non-null   int64  \n",
      " 18  entry_time                    1972 non-null   int32  \n",
      " 19  working_time_per_day          1972 non-null   int32  \n",
      " 20  entrance_gate_id              1972 non-null   int64  \n",
      " 21  exit_gate_id                  1972 non-null   int64  \n",
      " 22  working_time_per_week         1972 non-null   int32  \n",
      " 23  daily_workload_index          1972 non-null   float64\n",
      " 24  gate_id_lag_1                 1972 non-null   int64  \n",
      " 25  gate_id_1                     1972 non-null   int64  \n",
      " 26  sec_btw_lag_1                 1972 non-null   int32  \n",
      " 27  sec_btw_1                     1972 non-null   int32  \n",
      " 28  gate_id_lag_2                 1972 non-null   int64  \n",
      " 29  gate_id_2                     1972 non-null   int64  \n",
      " 30  sec_btw_lag_2                 1972 non-null   int32  \n",
      " 31  sec_btw_2                     1972 non-null   int32  \n",
      " 32  gate_id_lag_3                 1972 non-null   int64  \n",
      " 33  gate_id_3                     1972 non-null   int64  \n",
      " 34  sec_btw_lag_3                 1972 non-null   int32  \n",
      " 35  sec_btw_3                     1972 non-null   int32  \n",
      " 36  gate_id_lag_4                 1972 non-null   int64  \n",
      " 37  gate_id_4                     1972 non-null   int64  \n",
      " 38  sec_btw_lag_4                 1972 non-null   int32  \n",
      " 39  sec_btw_4                     1972 non-null   int32  \n",
      " 40  gate_id_lag_5                 1972 non-null   int64  \n",
      " 41  gate_id_5                     1972 non-null   int64  \n",
      " 42  sec_btw_lag_5                 1972 non-null   int32  \n",
      " 43  sec_btw_5                     1972 non-null   int32  \n",
      " 44  repeat_gate_1s                1972 non-null   bool   \n",
      " 45  repeat_gate_2s                1972 non-null   bool   \n",
      " 46  repeat_gate_3s                1972 non-null   bool   \n",
      " 47  repeat_gate_4s                1972 non-null   bool   \n",
      " 48  repeat_gate_ge_5s             1972 non-null   bool   \n",
      " 49  cnt_repeat_gate_1s            1972 non-null   int64  \n",
      " 50  cnt_repeat_gate_2s            1972 non-null   int64  \n",
      " 51  cnt_repeat_gate_3s            1972 non-null   int64  \n",
      " 52  cnt_repeat_gate_4s            1972 non-null   int64  \n",
      " 53  cnt_repeat_gate_ge_5s         1972 non-null   int64  \n",
      " 54  route                         1972 non-null   object \n",
      " 55  cumtime_per_day               1972 non-null   int32  \n",
      " 56  cumtime_at_route_per_day      1972 non-null   int32  \n",
      " 57  most_frequent_gate_per_day    1972 non-null   int64  \n",
      " 58  most_frequent_gate_per_week   1972 non-null   int64  \n",
      " 59  most_frequent_route_per_day   1972 non-null   object \n",
      " 60  most_frequent_route_per_week  1972 non-null   object \n",
      " 61  weekly_route_avg_time         1972 non-null   float64\n",
      " 62  route_avg_time                1972 non-null   float64\n",
      "dtypes: bool(8), float64(5), int32(20), int64(26), object(4)\n",
      "memory usage: 708.8+ KB\n"
     ]
    }
   ],
   "source": [
    "df_train.info()"
   ]
  },
  {
   "cell_type": "code",
   "execution_count": 57,
   "metadata": {},
   "outputs": [
    {
     "data": {
      "text/plain": [
       "Index(['user_id', 'gate_id', 'day_of_month', 'hour', 'total_minutes',\n",
       "       'total_seconds', 'day_of_week', 'is_weekend', 'time_of_day',\n",
       "       'is_month_start', 'is_month_end', 'pass_cnt_per_day',\n",
       "       'daily_gate_pass_count', 'probability_gate_id', 'cnt_users_per_day',\n",
       "       'cnt_users_per_week', 'daily_attendance_index', 'cnt_days_per_week',\n",
       "       'entry_time', 'working_time_per_day', 'entrance_gate_id',\n",
       "       'exit_gate_id', 'working_time_per_week', 'daily_workload_index',\n",
       "       'gate_id_lag_1', 'gate_id_1', 'sec_btw_lag_1', 'sec_btw_1',\n",
       "       'gate_id_lag_2', 'gate_id_2', 'sec_btw_lag_2', 'sec_btw_2',\n",
       "       'gate_id_lag_3', 'gate_id_3', 'sec_btw_lag_3', 'sec_btw_3',\n",
       "       'gate_id_lag_4', 'gate_id_4', 'sec_btw_lag_4', 'sec_btw_4',\n",
       "       'gate_id_lag_5', 'gate_id_5', 'sec_btw_lag_5', 'sec_btw_5',\n",
       "       'repeat_gate_1s', 'repeat_gate_2s', 'repeat_gate_3s', 'repeat_gate_4s',\n",
       "       'repeat_gate_ge_5s', 'cnt_repeat_gate_1s', 'cnt_repeat_gate_2s',\n",
       "       'cnt_repeat_gate_3s', 'cnt_repeat_gate_4s', 'cnt_repeat_gate_ge_5s',\n",
       "       'route', 'cumtime_per_day', 'cumtime_at_route_per_day',\n",
       "       'most_frequent_gate_per_day', 'most_frequent_gate_per_week',\n",
       "       'most_frequent_route_per_day', 'most_frequent_route_per_week',\n",
       "       'weekly_route_avg_time', 'route_avg_time'],\n",
       "      dtype='object')"
      ]
     },
     "execution_count": 57,
     "metadata": {},
     "output_type": "execute_result"
    }
   ],
   "source": [
    "df_train.columns"
   ]
  },
  {
   "cell_type": "code",
   "execution_count": 58,
   "metadata": {},
   "outputs": [],
   "source": [
    "categorical_features = [\n",
    "       'gate_id', 'day_of_month', 'hour',\n",
    "       'day_of_week', 'is_weekend', 'time_of_day', \n",
    "       'is_month_start', 'is_month_end', 'entrance_gate_id', \n",
    "       'exit_gate_id', 'gate_id_lag_1', 'gate_id_1',\n",
    "       'gate_id_lag_2', 'gate_id_2', 'gate_id_lag_3',\n",
    "       'gate_id_3', 'gate_id_lag_4', 'gate_id_4',\n",
    "       'gate_id_lag_5', 'gate_id_5', 'repeat_gate_1s',\n",
    "       'repeat_gate_2s', 'repeat_gate_3s', 'repeat_gate_4s',\n",
    "       'repeat_gate_ge_5s', 'route', 'most_frequent_gate_per_day',\n",
    "       'most_frequent_gate_per_week', 'most_frequent_route_per_day', 'most_frequent_route_per_week'\n",
    "]"
   ]
  },
  {
   "cell_type": "markdown",
   "metadata": {},
   "source": [
    "## Оценка важности признаков"
   ]
  },
  {
   "cell_type": "markdown",
   "metadata": {},
   "source": [
    "### Корреляция между признаками"
   ]
  },
  {
   "cell_type": "code",
   "execution_count": 59,
   "metadata": {},
   "outputs": [],
   "source": [
    "# %%time\n",
    "# phik_overview = df_train.phik_matrix().round(2).sort_values('user_id', ascending=False)\n",
    "# phik_overview"
   ]
  },
  {
   "cell_type": "code",
   "execution_count": 60,
   "metadata": {},
   "outputs": [],
   "source": [
    "# # отберем фичи, у которых корреляция с целевым признаком более 0.2\n",
    "# df_train = df_train[phik_overview[phik_overview['user_id'] > 0.2].index]"
   ]
  },
  {
   "cell_type": "code",
   "execution_count": 61,
   "metadata": {},
   "outputs": [],
   "source": [
    "# fig = plt.figure(figsize=(45,15))\n",
    "# sns.heatmap(phik_overview, vmin=0, vmax=1, cmap='Purples', annot=True, linewidths=0.1, fmt='.2f')\n",
    "# plt.suptitle('Матрица Phi_K-корреляций', y=0.92);"
   ]
  },
  {
   "cell_type": "code",
   "execution_count": 62,
   "metadata": {},
   "outputs": [],
   "source": [
    "# %%time\n",
    "# significance_overview = df_train.significance_matrix().fillna(0).round(1).sort_values('user_id', ascending=False)\n",
    "# significance_overview"
   ]
  },
  {
   "cell_type": "code",
   "execution_count": 63,
   "metadata": {},
   "outputs": [],
   "source": [
    "# fig = plt.figure(figsize=(45,15))\n",
    "# sns.heatmap(significance_overview, vmin=-5, vmax=5, cmap='Purples', annot=True, linewidths=0.1, fmt='.1f')\n",
    "# plt.suptitle('Значимость коэффициентов', y=0.92);"
   ]
  },
  {
   "cell_type": "code",
   "execution_count": null,
   "metadata": {},
   "outputs": [],
   "source": []
  },
  {
   "cell_type": "markdown",
   "metadata": {},
   "source": [
    "# Построение моделей"
   ]
  },
  {
   "cell_type": "markdown",
   "metadata": {},
   "source": [
    "## Разделение исходных данных на выборки"
   ]
  },
  {
   "cell_type": "code",
   "execution_count": 64,
   "metadata": {},
   "outputs": [],
   "source": [
    "y = df_train['user_id']\n",
    "X = df_train.drop(['user_id'], axis=1)"
   ]
  },
  {
   "cell_type": "code",
   "execution_count": 65,
   "metadata": {},
   "outputs": [
    {
     "name": "stdout",
     "output_type": "stream",
     "text": [
      "['gate_id', 'day_of_month', 'hour', 'day_of_week', 'is_weekend', 'time_of_day', 'is_month_start', 'is_month_end', 'entrance_gate_id', 'exit_gate_id', 'gate_id_lag_1', 'gate_id_1', 'gate_id_lag_2', 'gate_id_2', 'gate_id_lag_3', 'gate_id_3', 'gate_id_lag_4', 'gate_id_4', 'gate_id_lag_5', 'gate_id_5', 'repeat_gate_1s', 'repeat_gate_2s', 'repeat_gate_3s', 'repeat_gate_4s', 'repeat_gate_ge_5s', 'route', 'most_frequent_gate_per_day', 'most_frequent_gate_per_week', 'most_frequent_route_per_day', 'most_frequent_route_per_week']\n"
     ]
    }
   ],
   "source": [
    "categorical_columns = categorical_features\n",
    "print(categorical_columns)"
   ]
  },
  {
   "cell_type": "code",
   "execution_count": 66,
   "metadata": {},
   "outputs": [
    {
     "data": {
      "text/plain": [
       "30"
      ]
     },
     "execution_count": 66,
     "metadata": {},
     "output_type": "execute_result"
    }
   ],
   "source": [
    "len(categorical_columns)"
   ]
  },
  {
   "cell_type": "code",
   "execution_count": 67,
   "metadata": {},
   "outputs": [
    {
     "name": "stdout",
     "output_type": "stream",
     "text": [
      "['entry_time', 'sec_btw_3', 'sec_btw_lag_2', 'cumtime_at_route_per_day', 'sec_btw_lag_5', 'total_minutes', 'sec_btw_1', 'total_seconds', 'cnt_repeat_gate_2s', 'cnt_repeat_gate_ge_5s', 'cnt_days_per_week', 'probability_gate_id', 'working_time_per_week', 'sec_btw_2', 'cnt_users_per_week', 'sec_btw_lag_3', 'daily_gate_pass_count', 'working_time_per_day', 'sec_btw_4', 'cnt_repeat_gate_4s', 'route_avg_time', 'daily_attendance_index', 'cumtime_per_day', 'daily_workload_index', 'sec_btw_lag_1', 'sec_btw_5', 'cnt_repeat_gate_1s', 'sec_btw_lag_4', 'weekly_route_avg_time', 'cnt_users_per_day', 'cnt_repeat_gate_3s', 'pass_cnt_per_day']\n"
     ]
    }
   ],
   "source": [
    "numerical_columns = list(set(X.columns) - set(categorical_columns))\n",
    "print(numerical_columns)"
   ]
  },
  {
   "cell_type": "code",
   "execution_count": 68,
   "metadata": {},
   "outputs": [
    {
     "data": {
      "text/plain": [
       "32"
      ]
     },
     "execution_count": 68,
     "metadata": {},
     "output_type": "execute_result"
    }
   ],
   "source": [
    "len(numerical_columns)"
   ]
  },
  {
   "cell_type": "code",
   "execution_count": 69,
   "metadata": {},
   "outputs": [],
   "source": [
    "X = X[categorical_columns + numerical_columns]"
   ]
  },
  {
   "cell_type": "code",
   "execution_count": 70,
   "metadata": {},
   "outputs": [
    {
     "name": "stdout",
     "output_type": "stream",
     "text": [
      "[0, 1, 2, 3, 4, 5, 6, 7, 8, 9, 10, 11, 12, 13, 14, 15, 16, 17, 18, 19, 20, 21, 22, 23, 24, 25, 26, 27, 28, 29]\n"
     ]
    }
   ],
   "source": [
    "# формируем массив индексов категориальных признаков\n",
    "categorical_features_indices = list(range(len(categorical_columns)))\n",
    "print(categorical_features_indices)"
   ]
  },
  {
   "cell_type": "code",
   "execution_count": 71,
   "metadata": {},
   "outputs": [],
   "source": [
    "# выделение обучающей выборки (80 %) и тестовой (20 %)\n",
    "X_train, X_test, y_train, y_test = train_test_split(\n",
    "                                                    X, \n",
    "                                                    y, \n",
    "                                                    test_size=0.2, \n",
    "                                                    random_state=RANDOM_STATE,\n",
    "                                                    shuffle=True,\n",
    "                                                    stratify=y\n",
    ")"
   ]
  },
  {
   "cell_type": "code",
   "execution_count": 72,
   "metadata": {},
   "outputs": [
    {
     "data": {
      "text/plain": [
       "((1577, 62), (395, 62), (1577,), (395,))"
      ]
     },
     "execution_count": 72,
     "metadata": {},
     "output_type": "execute_result"
    }
   ],
   "source": [
    "X_train.shape, X_test.shape, y_train.shape, y_test.shape"
   ]
  },
  {
   "cell_type": "code",
   "execution_count": 73,
   "metadata": {},
   "outputs": [
    {
     "data": {
      "text/plain": [
       "7"
      ]
     },
     "execution_count": 73,
     "metadata": {},
     "output_type": "execute_result"
    }
   ],
   "source": [
    "y_train.nunique()"
   ]
  },
  {
   "cell_type": "code",
   "execution_count": 74,
   "metadata": {},
   "outputs": [
    {
     "name": "stdout",
     "output_type": "stream",
     "text": [
      "[2, 25, 26, 34, 41, 50, 56]\n"
     ]
    }
   ],
   "source": [
    "print(sorted(y_train.unique()))"
   ]
  },
  {
   "cell_type": "code",
   "execution_count": 75,
   "metadata": {},
   "outputs": [
    {
     "data": {
      "text/plain": [
       "7"
      ]
     },
     "execution_count": 75,
     "metadata": {},
     "output_type": "execute_result"
    }
   ],
   "source": [
    "y_test.nunique()"
   ]
  },
  {
   "cell_type": "code",
   "execution_count": 76,
   "metadata": {},
   "outputs": [
    {
     "name": "stdout",
     "output_type": "stream",
     "text": [
      "[2, 25, 26, 34, 41, 50, 56]\n"
     ]
    }
   ],
   "source": [
    "print(sorted(y_test.unique()))"
   ]
  },
  {
   "cell_type": "markdown",
   "metadata": {},
   "source": [
    "## Подбор гиперпараметров после отбора признаков"
   ]
  },
  {
   "cell_type": "code",
   "execution_count": 77,
   "metadata": {},
   "outputs": [],
   "source": [
    "def fit_catboost(trial, train, val, cat_features_indices):\n",
    "    X_train, y_train = train\n",
    "    X_val, y_val = val\n",
    "\n",
    "    param = {\n",
    "        'n_estimators' : 2000, # Можно не перебирать, есть Early-Stopping\n",
    "        'learning_rate': trial.suggest_float('learning_rate', 0.001, 0.1),\n",
    "        'l2_leaf_reg': trial.suggest_float('l2_leaf_reg', 3.0, 60.0),        \n",
    "        'auto_class_weights': trial.suggest_categorical('auto_class_weights', ['Balanced', 'None']),\n",
    "        'max_depth': trial.suggest_int('max_depth', 4, 10),\n",
    "        'border_count': trial.suggest_int('border_count', 32, 128)\n",
    "    }\n",
    "\n",
    "    clf = CatBoostClassifier(\n",
    "        **param,\n",
    "        loss_function='MultiClass',\n",
    "        eval_metric='TotalF1:average=Macro',\n",
    "        random_seed=RANDOM_STATE,\n",
    "        cat_features=cat_features_indices,\n",
    "        thread_count=-1,\n",
    "        task_type='GPU',\n",
    "    )\n",
    "\n",
    "    clf.fit(\n",
    "        X_train,\n",
    "        y_train,\n",
    "        eval_set=(X_val, y_val),\n",
    "        verbose=100,\n",
    "        plot=False,\n",
    "        early_stopping_rounds=100,\n",
    "    )\n",
    "\n",
    "    y_pred = clf.predict(X_val)\n",
    "    return clf, y_pred"
   ]
  },
  {
   "cell_type": "code",
   "execution_count": 78,
   "metadata": {},
   "outputs": [],
   "source": [
    "def objective(trial, X, y, cat_features_indices, return_models=False):\n",
    "    n_splits = 3\n",
    "    skf = StratifiedKFold(n_splits=n_splits, shuffle=True, random_state=RANDOM_STATE)\n",
    "\n",
    "    scores, models = [], []\n",
    "    \n",
    "    for train_idx, valid_idx in skf.split(X, y):\n",
    "        train_data = X.iloc[train_idx, :], y.iloc[train_idx]\n",
    "        valid_data = X.iloc[valid_idx, :], y.iloc[valid_idx]\n",
    "\n",
    "        # Подаем trials для перебора\n",
    "        model, y_pred = fit_catboost(trial, train_data, valid_data, cat_features_indices) # Определили выше\n",
    "        scores.append(f1_score(valid_data[1], y_pred, average='macro'))\n",
    "        models.append(model)\n",
    "        # break\n",
    "         \n",
    "\n",
    "    result = np.mean(scores)\n",
    "    \n",
    "    if return_models:\n",
    "        return result, models\n",
    "    else:\n",
    "        return result"
   ]
  },
  {
   "cell_type": "code",
   "execution_count": 79,
   "metadata": {},
   "outputs": [],
   "source": [
    "selected_features = [\n",
    "    'most_frequent_route_per_week',\n",
    "    'working_time_per_week',\n",
    "    'entry_time',\n",
    "    'cnt_users_per_day',\n",
    "    'cnt_repeat_gate_3s',\n",
    "    'most_frequent_route_per_day',\n",
    "    'route_avg_time',\n",
    "    'daily_attendance_index',\n",
    "    'cnt_repeat_gate_2s',\n",
    "    'exit_gate_id',\n",
    "    'daily_workload_index',\n",
    "    'cnt_repeat_gate_1s',\n",
    "    'entrance_gate_id',\n",
    "    'working_time_per_day',\n",
    "    'pass_cnt_per_day',\n",
    "    'cnt_users_per_week',\n",
    "    'cnt_days_per_week',\n",
    "    'most_frequent_gate_per_week'\n",
    "]\n",
    "\n",
    "cat_features = [\n",
    "    'most_frequent_route_per_week',\n",
    "    'most_frequent_route_per_day',\n",
    "    'exit_gate_id',\n",
    "    'entrance_gate_id',\n",
    "    'most_frequent_gate_per_week'\n",
    "]"
   ]
  },
  {
   "cell_type": "code",
   "execution_count": 80,
   "metadata": {},
   "outputs": [
    {
     "name": "stderr",
     "output_type": "stream",
     "text": [
      "[I 2024-08-15 16:33:34,267] A new study created in memory with name: no-name-ad9606ce-7b7b-4137-bf28-f96b29f1a55f\n"
     ]
    },
    {
     "data": {
      "application/vnd.jupyter.widget-view+json": {
       "model_id": "9cb914ac4e3e464cb007d39b70515d50",
       "version_major": 2,
       "version_minor": 0
      },
      "text/plain": [
       "  0%|          | 0/3 [00:00<?, ?it/s]"
      ]
     },
     "metadata": {},
     "output_type": "display_data"
    },
    {
     "name": "stdout",
     "output_type": "stream",
     "text": [
      "0:\tlearn: 0.9049303\ttest: 0.8911628\tbest: 0.8911628 (0)\ttotal: 45.3ms\tremaining: 1m 30s\n",
      "100:\tlearn: 0.9948332\ttest: 0.9897130\tbest: 0.9897130 (88)\ttotal: 3.25s\tremaining: 1m 1s\n",
      "200:\tlearn: 0.9960066\ttest: 0.9920715\tbest: 0.9920715 (106)\ttotal: 6.42s\tremaining: 57.5s\n",
      "bestTest = 0.9920715119\n",
      "bestIteration = 106\n",
      "Shrink model to first 107 iterations.\n",
      "0:\tlearn: 0.9190256\ttest: 0.8952953\tbest: 0.8952953 (0)\ttotal: 32.6ms\tremaining: 1m 5s\n",
      "100:\tlearn: 0.9866029\ttest: 0.9786416\tbest: 0.9786416 (85)\ttotal: 3.16s\tremaining: 59.4s\n",
      "200:\tlearn: 0.9960377\ttest: 0.9973451\tbest: 0.9973451 (144)\ttotal: 6.29s\tremaining: 56.3s\n",
      "bestTest = 0.9973451228\n",
      "bestIteration = 144\n",
      "Shrink model to first 145 iterations.\n",
      "0:\tlearn: 0.9370656\ttest: 0.9133638\tbest: 0.9133638 (0)\ttotal: 32.6ms\tremaining: 1m 5s\n",
      "100:\tlearn: 0.9899378\ttest: 0.9810617\tbest: 0.9810617 (76)\ttotal: 3.13s\tremaining: 59s\n",
      "200:\tlearn: 0.9947024\ttest: 0.9946604\tbest: 0.9946604 (139)\ttotal: 6.39s\tremaining: 57.2s\n",
      "bestTest = 0.9946603919\n",
      "bestIteration = 139\n",
      "Shrink model to first 140 iterations.\n",
      "[I 2024-08-15 16:33:57,183] Trial 0 finished with value: 0.9946923421716245 and parameters: {'learning_rate': 0.05966818718247904, 'l2_leaf_reg': 9.554837948563577, 'auto_class_weights': 'None', 'max_depth': 9, 'border_count': 94}. Best is trial 0 with value: 0.9946923421716245.\n",
      "0:\tlearn: 0.7824553\ttest: 0.7577772\tbest: 0.7577772 (0)\ttotal: 16.6ms\tremaining: 33.1s\n",
      "100:\tlearn: 0.9802089\ttest: 0.9693053\tbest: 0.9693053 (93)\ttotal: 1.32s\tremaining: 24.8s\n",
      "200:\tlearn: 0.9947187\ttest: 0.9926882\tbest: 0.9926882 (134)\ttotal: 2.63s\tremaining: 23.5s\n",
      "300:\tlearn: 0.9974607\ttest: 0.9945011\tbest: 0.9945011 (205)\ttotal: 3.97s\tremaining: 22.4s\n",
      "bestTest = 0.9945010842\n",
      "bestIteration = 205\n",
      "Shrink model to first 206 iterations.\n",
      "0:\tlearn: 0.7663240\ttest: 0.7516607\tbest: 0.7516607 (0)\ttotal: 15ms\tremaining: 30s\n",
      "100:\tlearn: 0.9792419\ttest: 0.9619151\tbest: 0.9619151 (97)\ttotal: 1.28s\tremaining: 24.1s\n",
      "200:\tlearn: 0.9944925\ttest: 0.9963053\tbest: 0.9963053 (159)\ttotal: 2.58s\tremaining: 23.1s\n",
      "300:\tlearn: 0.9965498\ttest: 0.9976934\tbest: 0.9976934 (204)\ttotal: 3.98s\tremaining: 22.5s\n",
      "bestTest = 0.9976933927\n",
      "bestIteration = 204\n",
      "Shrink model to first 205 iterations.\n",
      "0:\tlearn: 0.7776036\ttest: 0.7639936\tbest: 0.7639936 (0)\ttotal: 13.8ms\tremaining: 27.5s\n",
      "100:\tlearn: 0.9864800\ttest: 0.9823129\tbest: 0.9823129 (89)\ttotal: 1.29s\tremaining: 24.3s\n",
      "200:\tlearn: 0.9954107\ttest: 0.9945081\tbest: 0.9945081 (172)\ttotal: 2.58s\tremaining: 23.1s\n",
      "300:\tlearn: 0.9997722\ttest: 0.9990849\tbest: 0.9990849 (282)\ttotal: 3.94s\tremaining: 22.2s\n",
      "bestTest = 0.9990849486\n",
      "bestIteration = 282\n",
      "Shrink model to first 283 iterations.\n",
      "[I 2024-08-15 16:34:11,032] Trial 1 finished with value: 0.9934683238399397 and parameters: {'learning_rate': 0.030519233668928808, 'l2_leaf_reg': 8.582408782570994, 'auto_class_weights': 'Balanced', 'max_depth': 6, 'border_count': 124}. Best is trial 0 with value: 0.9946923421716245.\n",
      "0:\tlearn: 0.9379591\ttest: 0.9108880\tbest: 0.9108880 (0)\ttotal: 59.4ms\tremaining: 1m 58s\n",
      "100:\tlearn: 0.9434159\ttest: 0.9166788\tbest: 0.9633826 (2)\ttotal: 4.81s\tremaining: 1m 30s\n",
      "bestTest = 0.9633826291\n",
      "bestIteration = 2\n",
      "Shrink model to first 3 iterations.\n",
      "0:\tlearn: 0.9310666\ttest: 0.9095289\tbest: 0.9095289 (0)\ttotal: 49.2ms\tremaining: 1m 38s\n",
      "100:\tlearn: 0.9739825\ttest: 0.9517705\tbest: 0.9603613 (1)\ttotal: 4.8s\tremaining: 1m 30s\n",
      "bestTest = 0.96036129\n",
      "bestIteration = 1\n",
      "Shrink model to first 2 iterations.\n",
      "0:\tlearn: 0.9246162\ttest: 0.8737951\tbest: 0.8737951 (0)\ttotal: 51.5ms\tremaining: 1m 42s\n",
      "100:\tlearn: 0.9835437\ttest: 0.9674975\tbest: 0.9674975 (87)\ttotal: 4.86s\tremaining: 1m 31s\n",
      "bestTest = 0.9674974706\n",
      "bestIteration = 87\n",
      "Shrink model to first 88 iterations.\n",
      "[I 2024-08-15 16:34:30,576] Trial 2 finished with value: 0.9637471298932075 and parameters: {'learning_rate': 0.015500991875547088, 'l2_leaf_reg': 42.705748223512465, 'auto_class_weights': 'None', 'max_depth': 10, 'border_count': 94}. Best is trial 0 with value: 0.9946923421716245.\n",
      "CPU times: total: 2min 2s\n",
      "Wall time: 56.3 s\n"
     ]
    }
   ],
   "source": [
    "%%time\n",
    "\n",
    "study = optuna.create_study(direction='maximize')\n",
    "study.optimize(\n",
    "                lambda trial: objective(trial, X[selected_features], y, cat_features),\n",
    "                n_trials=3,\n",
    "                show_progress_bar=True,\n",
    ")"
   ]
  },
  {
   "cell_type": "code",
   "execution_count": 81,
   "metadata": {},
   "outputs": [
    {
     "name": "stdout",
     "output_type": "stream",
     "text": [
      "Best trial: score 0.9946923421716245, params {'learning_rate': 0.05966818718247904, 'l2_leaf_reg': 9.554837948563577, 'auto_class_weights': 'None', 'max_depth': 9, 'border_count': 94}\n"
     ]
    }
   ],
   "source": [
    "print(\"Best trial: score {}, params {}\".format(study.best_trial.value, study.best_trial.params))"
   ]
  },
  {
   "cell_type": "code",
   "execution_count": 82,
   "metadata": {},
   "outputs": [
    {
     "name": "stdout",
     "output_type": "stream",
     "text": [
      "0:\tlearn: 0.9049303\ttest: 0.8911628\tbest: 0.8911628 (0)\ttotal: 34.8ms\tremaining: 1m 9s\n",
      "100:\tlearn: 0.9948332\ttest: 0.9897130\tbest: 0.9897130 (88)\ttotal: 3.18s\tremaining: 59.8s\n",
      "200:\tlearn: 0.9960066\ttest: 0.9920715\tbest: 0.9920715 (106)\ttotal: 6.42s\tremaining: 57.5s\n",
      "bestTest = 0.9920715119\n",
      "bestIteration = 106\n",
      "Shrink model to first 107 iterations.\n",
      "0:\tlearn: 0.9190256\ttest: 0.8952953\tbest: 0.8952953 (0)\ttotal: 32.7ms\tremaining: 1m 5s\n",
      "100:\tlearn: 0.9866029\ttest: 0.9786416\tbest: 0.9786416 (85)\ttotal: 3.15s\tremaining: 59.1s\n",
      "200:\tlearn: 0.9960377\ttest: 0.9973451\tbest: 0.9973451 (144)\ttotal: 6.34s\tremaining: 56.8s\n",
      "bestTest = 0.9973451228\n",
      "bestIteration = 144\n",
      "Shrink model to first 145 iterations.\n",
      "0:\tlearn: 0.9370656\ttest: 0.9133638\tbest: 0.9133638 (0)\ttotal: 33.5ms\tremaining: 1m 7s\n",
      "100:\tlearn: 0.9899378\ttest: 0.9810617\tbest: 0.9810617 (76)\ttotal: 3.13s\tremaining: 58.8s\n",
      "200:\tlearn: 0.9947024\ttest: 0.9946604\tbest: 0.9946604 (139)\ttotal: 6.34s\tremaining: 56.7s\n",
      "bestTest = 0.9946603919\n",
      "bestIteration = 139\n",
      "Shrink model to first 140 iterations.\n",
      "CPU times: total: 47.6 s\n",
      "Wall time: 22.6 s\n"
     ]
    }
   ],
   "source": [
    "%%time\n",
    "\n",
    "valid_scores, models_sf_new_fit = objective(\n",
    "    optuna.trial.FixedTrial(study.best_params),\n",
    "    X[selected_features], \n",
    "    y, \n",
    "    cat_features,\n",
    "    return_models=True,\n",
    ")"
   ]
  },
  {
   "cell_type": "code",
   "execution_count": 83,
   "metadata": {},
   "outputs": [
    {
     "data": {
      "text/plain": [
       "0.9946923421716245"
      ]
     },
     "execution_count": 83,
     "metadata": {},
     "output_type": "execute_result"
    }
   ],
   "source": [
    "valid_scores"
   ]
  },
  {
   "cell_type": "code",
   "execution_count": 84,
   "metadata": {},
   "outputs": [
    {
     "name": "stdout",
     "output_type": "stream",
     "text": [
      "107\n",
      "145\n",
      "140\n"
     ]
    }
   ],
   "source": [
    "for m in models_sf_new_fit:\n",
    "    print(m.tree_count_)"
   ]
  },
  {
   "cell_type": "code",
   "execution_count": 85,
   "metadata": {},
   "outputs": [
    {
     "name": "stdout",
     "output_type": "stream",
     "text": [
      "{'nan_mode': 'Min', 'gpu_ram_part': 0.95, 'eval_metric': 'TotalF1:average=Macro', 'combinations_ctr': ['Borders:CtrBorderCount=15:CtrBorderType=Uniform:TargetBorderCount=1:TargetBorderType=MinEntropy:Prior=0/1:Prior=0.5/1:Prior=1/1', 'FeatureFreq:CtrBorderCount=15:CtrBorderType=Median:Prior=0/1'], 'iterations': 2000, 'fold_permutation_block': 64, 'leaf_estimation_method': 'Newton', 'observations_to_bootstrap': 'TestOnly', 'od_pval': 0, 'random_score_type': 'NormalWithModelSizeDecrease', 'counter_calc_method': 'SkipTest', 'grow_policy': 'SymmetricTree', 'penalties_coefficient': 1, 'boosting_type': 'Plain', 'ctr_history_unit': 'Sample', 'feature_border_type': 'GreedyLogSum', 'bayesian_matrix_reg': 0.10000000149011612, 'one_hot_max_size': 2, 'devices': '-1', 'eval_fraction': 0, 'pinned_memory_bytes': '104857600', 'force_unit_auto_pair_weights': False, 'l2_leaf_reg': 9.554838180541992, 'random_strength': 1, 'od_type': 'Iter', 'rsm': 1, 'boost_from_average': False, 'gpu_cat_features_storage': 'GpuRam', 'fold_size_loss_normalization': False, 'max_ctr_complexity': 4, 'model_size_reg': 0.5, 'simple_ctr': ['Borders:CtrBorderCount=15:CtrBorderType=Uniform:TargetBorderCount=1:TargetBorderType=MinEntropy:Prior=0/1:Prior=0.5/1:Prior=1/1', 'FeatureFreq:CtrBorderCount=15:CtrBorderType=MinEntropy:Prior=0/1'], 'pool_metainfo_options': {'tags': {}}, 'use_best_model': True, 'meta_l2_frequency': 0, 'od_wait': 100, 'class_names': [2, 25, 26, 34, 41, 50, 56], 'random_seed': 42, 'depth': 9, 'ctr_target_border_count': 1, 'has_time': False, 'border_count': 94, 'min_fold_size': 100, 'data_partition': 'DocParallel', 'bagging_temperature': 1, 'classes_count': 0, 'auto_class_weights': 'None', 'leaf_estimation_backtracking': 'AnyImprovement', 'best_model_min_trees': 1, 'min_data_in_leaf': 1, 'add_ridge_penalty_to_loss_function': False, 'loss_function': 'MultiClass', 'learning_rate': 0.05966818705201149, 'meta_l2_exponent': 1, 'score_function': 'Cosine', 'task_type': 'GPU', 'leaf_estimation_iterations': 1, 'bootstrap_type': 'Bayesian', 'max_leaves': 512, 'permutation_count': 4}\n",
      "{'nan_mode': 'Min', 'gpu_ram_part': 0.95, 'eval_metric': 'TotalF1:average=Macro', 'combinations_ctr': ['Borders:CtrBorderCount=15:CtrBorderType=Uniform:TargetBorderCount=1:TargetBorderType=MinEntropy:Prior=0/1:Prior=0.5/1:Prior=1/1', 'FeatureFreq:CtrBorderCount=15:CtrBorderType=Median:Prior=0/1'], 'iterations': 2000, 'fold_permutation_block': 64, 'leaf_estimation_method': 'Newton', 'observations_to_bootstrap': 'TestOnly', 'od_pval': 0, 'random_score_type': 'NormalWithModelSizeDecrease', 'counter_calc_method': 'SkipTest', 'grow_policy': 'SymmetricTree', 'penalties_coefficient': 1, 'boosting_type': 'Plain', 'ctr_history_unit': 'Sample', 'feature_border_type': 'GreedyLogSum', 'bayesian_matrix_reg': 0.10000000149011612, 'one_hot_max_size': 2, 'devices': '-1', 'eval_fraction': 0, 'pinned_memory_bytes': '104857600', 'force_unit_auto_pair_weights': False, 'l2_leaf_reg': 9.554838180541992, 'random_strength': 1, 'od_type': 'Iter', 'rsm': 1, 'boost_from_average': False, 'gpu_cat_features_storage': 'GpuRam', 'fold_size_loss_normalization': False, 'max_ctr_complexity': 4, 'model_size_reg': 0.5, 'simple_ctr': ['Borders:CtrBorderCount=15:CtrBorderType=Uniform:TargetBorderCount=1:TargetBorderType=MinEntropy:Prior=0/1:Prior=0.5/1:Prior=1/1', 'FeatureFreq:CtrBorderCount=15:CtrBorderType=MinEntropy:Prior=0/1'], 'pool_metainfo_options': {'tags': {}}, 'use_best_model': True, 'meta_l2_frequency': 0, 'od_wait': 100, 'class_names': [2, 25, 26, 34, 41, 50, 56], 'random_seed': 42, 'depth': 9, 'ctr_target_border_count': 1, 'has_time': False, 'border_count': 94, 'min_fold_size': 100, 'data_partition': 'DocParallel', 'bagging_temperature': 1, 'classes_count': 0, 'auto_class_weights': 'None', 'leaf_estimation_backtracking': 'AnyImprovement', 'best_model_min_trees': 1, 'min_data_in_leaf': 1, 'add_ridge_penalty_to_loss_function': False, 'loss_function': 'MultiClass', 'learning_rate': 0.05966818705201149, 'meta_l2_exponent': 1, 'score_function': 'Cosine', 'task_type': 'GPU', 'leaf_estimation_iterations': 1, 'bootstrap_type': 'Bayesian', 'max_leaves': 512, 'permutation_count': 4}\n",
      "{'nan_mode': 'Min', 'gpu_ram_part': 0.95, 'eval_metric': 'TotalF1:average=Macro', 'combinations_ctr': ['Borders:CtrBorderCount=15:CtrBorderType=Uniform:TargetBorderCount=1:TargetBorderType=MinEntropy:Prior=0/1:Prior=0.5/1:Prior=1/1', 'FeatureFreq:CtrBorderCount=15:CtrBorderType=Median:Prior=0/1'], 'iterations': 2000, 'fold_permutation_block': 64, 'leaf_estimation_method': 'Newton', 'observations_to_bootstrap': 'TestOnly', 'od_pval': 0, 'random_score_type': 'NormalWithModelSizeDecrease', 'counter_calc_method': 'SkipTest', 'grow_policy': 'SymmetricTree', 'penalties_coefficient': 1, 'boosting_type': 'Plain', 'ctr_history_unit': 'Sample', 'feature_border_type': 'GreedyLogSum', 'bayesian_matrix_reg': 0.10000000149011612, 'one_hot_max_size': 2, 'devices': '-1', 'eval_fraction': 0, 'pinned_memory_bytes': '104857600', 'force_unit_auto_pair_weights': False, 'l2_leaf_reg': 9.554838180541992, 'random_strength': 1, 'od_type': 'Iter', 'rsm': 1, 'boost_from_average': False, 'gpu_cat_features_storage': 'GpuRam', 'fold_size_loss_normalization': False, 'max_ctr_complexity': 4, 'model_size_reg': 0.5, 'simple_ctr': ['Borders:CtrBorderCount=15:CtrBorderType=Uniform:TargetBorderCount=1:TargetBorderType=MinEntropy:Prior=0/1:Prior=0.5/1:Prior=1/1', 'FeatureFreq:CtrBorderCount=15:CtrBorderType=MinEntropy:Prior=0/1'], 'pool_metainfo_options': {'tags': {}}, 'use_best_model': True, 'meta_l2_frequency': 0, 'od_wait': 100, 'class_names': [2, 25, 26, 34, 41, 50, 56], 'random_seed': 42, 'depth': 9, 'ctr_target_border_count': 1, 'has_time': False, 'border_count': 94, 'min_fold_size': 100, 'data_partition': 'DocParallel', 'bagging_temperature': 1, 'classes_count': 0, 'auto_class_weights': 'None', 'leaf_estimation_backtracking': 'AnyImprovement', 'best_model_min_trees': 1, 'min_data_in_leaf': 1, 'add_ridge_penalty_to_loss_function': False, 'loss_function': 'MultiClass', 'learning_rate': 0.05966818705201149, 'meta_l2_exponent': 1, 'score_function': 'Cosine', 'task_type': 'GPU', 'leaf_estimation_iterations': 1, 'bootstrap_type': 'Bayesian', 'max_leaves': 512, 'permutation_count': 4}\n"
     ]
    }
   ],
   "source": [
    "for m in models_sf_new_fit:\n",
    "    print(m.get_all_params())"
   ]
  },
  {
   "cell_type": "code",
   "execution_count": null,
   "metadata": {},
   "outputs": [],
   "source": []
  },
  {
   "cell_type": "markdown",
   "metadata": {},
   "source": [
    "## Итоговое предсказание лучшей модели"
   ]
  },
  {
   "cell_type": "code",
   "execution_count": 86,
   "metadata": {},
   "outputs": [],
   "source": [
    "def make_prediction_dict(df_test, name_columns, models):\n",
    "    # из тестового набора выделяем фичи, на которых обучались\n",
    "    X = df_test.loc[:, name_columns]\n",
    "    # датафрейм с закодированными user_id из тестовой выборки\n",
    "    result = df_test.loc[:, ['user_word']]\n",
    "    # делаем предсказания user_id\n",
    "    predictions = np.array([model.predict(X) for model in models])\n",
    "    result['pred_user_id'] = mode(predictions, axis=0)[0].flatten()\n",
    "    result = result.groupby('user_word')['pred_user_id'].agg(lambda group: dict(group.value_counts())).to_dict()\n",
    "    return result"
   ]
  },
  {
   "cell_type": "code",
   "execution_count": 87,
   "metadata": {},
   "outputs": [],
   "source": [
    "def make_prediction(df_test, name_columns, models):\n",
    "    # из тестового набора выделяем фичи, на которых обучались\n",
    "    X = df_test.loc[:, name_columns]\n",
    "    # датафрейм с закодированными user_id из тестовой выборки\n",
    "    result = df_test.loc[:, ['user_word']]\n",
    "    # делаем предсказания user_id\n",
    "    predictions = np.array([model.predict(X) for model in models])\n",
    "    result['pred_user_id'] = mode(predictions, axis=0)[0].flatten()\n",
    "    # датафрейм: user_word; предсказанный user_id; количество предсказанных конкретных user_id для конкретной категории user_word\n",
    "    temp_1 = result.groupby(['user_word', 'pred_user_id']).size().reset_index(name='count_pred_user_id_in_user_word')\n",
    "    # датафрейм: user_word; количество user_word\n",
    "    temp_2 = result['user_word'].value_counts().reset_index(name='count_user_word')\n",
    "    # датафрейм: pred_user_id; количество pred_user_id\n",
    "    temp_3 = result['pred_user_id'].value_counts().reset_index(name='count_pred_user_id')\n",
    "    # датафрейм: user_word; pred_user_id; count_pred_user_id_in_user_word; count_user_word; count_pred_user_id\n",
    "    result = temp_1.merge(temp_2, on='user_word', how='left').merge(temp_3, on='pred_user_id', how='left')\n",
    "    # добавляем уверенность модели в том, что предсказанный user_id, соответсвует user_word, в знаменателе - кол-во user_word\n",
    "    result['confidence_per_user_word'] = result['count_pred_user_id_in_user_word'] / result['count_user_word']\n",
    "    # добавляем уверенность модели в том, что предсказанный user_id, соответсвует user_word, в знаменателе - кол-во pred_user_id\n",
    "    result['confidence_per_pred_user_id'] = result['count_pred_user_id_in_user_word'] / result['count_pred_user_id']\n",
    "    # итоговая уверенность\n",
    "    result['confidence'] = result['confidence_per_user_word'] + result['confidence_per_pred_user_id']\n",
    "    # сортируем данные по убыванию уверенности\n",
    "    result = result.sort_values(by='confidence', ascending=False)\n",
    "\n",
    "    # формируем итоговый датафрейм\n",
    "    final = pd.DataFrame(columns=['user_word', 'preds'])\n",
    "    # user_word, которые уже добавлены в final\n",
    "    words = set()\n",
    "    # user_id, которые уже добавлены в final\n",
    "    ids = set()\n",
    "    # добавляем в final предсказания по приоритету уверенности (result уже отсортирован)\n",
    "    for _, row in result.iterrows():\n",
    "        word, user_id = row['user_word'], row['pred_user_id']\n",
    "        if word not in words and user_id not in ids and row['confidence'] > 0.1:\n",
    "            final.loc[len(final)] = [word, user_id]\n",
    "            words.add(word)\n",
    "            ids.add(user_id)\n",
    "\n",
    "    # категориям, насчет которых модель не уверена, проставляется -999\n",
    "    for word in (set(result['user_word'].unique()) - set(final['user_word'])):\n",
    "        final.loc[len(final)] = [word, -999]\n",
    "    \n",
    "    return final.sort_values(by='user_word')"
   ]
  },
  {
   "cell_type": "code",
   "execution_count": 88,
   "metadata": {},
   "outputs": [],
   "source": [
    "df_test = df_test.rename(columns={'user_id': 'user_word'})"
   ]
  },
  {
   "cell_type": "markdown",
   "metadata": {},
   "source": [
    "Сделаем предсказание"
   ]
  },
  {
   "cell_type": "markdown",
   "metadata": {},
   "source": [
    "После удаления фичей, уменьшающих скор, и повторного подбора гиперпараметров"
   ]
  },
  {
   "cell_type": "code",
   "execution_count": 89,
   "metadata": {},
   "outputs": [
    {
     "data": {
      "text/plain": [
       "{'blue': {25: 7, 56: 5},\n",
       " 'coefficient': {34: 37, 26: 9, 25: 7, 56: 3},\n",
       " 'collinear': {50: 201, 25: 28, 2: 16, 34: 7},\n",
       " 'lasso': {56: 14, 34: 10, 25: 9},\n",
       " 'logistic': {56: 5},\n",
       " 'minimization': {50: 59, 26: 24, 34: 8, 56: 4},\n",
       " 'precision': {56: 27, 25: 11},\n",
       " 'regression': {41: 28, 26: 14},\n",
       " 'residual': {50: 224}}"
      ]
     },
     "execution_count": 89,
     "metadata": {},
     "output_type": "execute_result"
    }
   ],
   "source": [
    "result_dct_sf_new_fit = make_prediction_dict(df_test, selected_features, models_sf_new_fit)\n",
    "result_dct_sf_new_fit"
   ]
  },
  {
   "cell_type": "code",
   "execution_count": 90,
   "metadata": {},
   "outputs": [
    {
     "data": {
      "text/plain": [
       "{'blue': {56: 12},\n",
       " 'coefficient': {18: 37, 22: 9, 56: 7, 7: 3},\n",
       " 'collinear': {50: 138, 56: 35, 47: 27, 25: 27, 2: 16, 18: 5, 53: 4},\n",
       " 'lasso': {56: 14, 41: 10, 30: 9},\n",
       " 'logistic': {36: 5},\n",
       " 'minimization': {50: 70, 41: 21, 30: 4},\n",
       " 'precision': {41: 16, 50: 11, 56: 11},\n",
       " 'regression': {41: 28, 26: 14},\n",
       " 'residual': {50: 169, 47: 20, 48: 15, 2: 15, 25: 5}}"
      ]
     },
     "execution_count": 90,
     "metadata": {},
     "output_type": "execute_result"
    }
   ],
   "source": [
    "{'blue': {56: 12},\n",
    " 'coefficient': {18: 37, 22: 9, 56: 7, 7: 3},\n",
    " 'collinear': {50: 138, 56: 35, 47: 27, 25: 27, 2: 16, 18: 5, 53: 4},\n",
    " 'lasso': {56: 14, 41: 10, 30: 9},\n",
    " 'logistic': {36: 5},\n",
    " 'minimization': {50: 70, 41: 21, 30: 4},\n",
    " 'precision': {41: 16, 50: 11, 56: 11},\n",
    " 'regression': {41: 28, 26: 14},\n",
    " 'residual': {50: 169, 47: 20, 48: 15, 2: 15, 25: 5}}"
   ]
  },
  {
   "cell_type": "code",
   "execution_count": null,
   "metadata": {},
   "outputs": [],
   "source": [
    "{'blue': {36: 7, 25: 5},\n",
    " 'coefficient': {18: 24, 34: 13, 27: 7, 22: 7, 25: 3, 41: 2},\n",
    " 'collinear': {50: 133, 23: 58, 47: 27, 2: 16, 41: 11, 56: 7},\n",
    " 'fit': {23: 166, 50: 17},\n",
    " 'lasso': {41: 10, 36: 9, 25: 6, 56: 4, 30: 3, 23: 1},\n",
    " 'logistic': {36: 5},\n",
    " 'minimization': {50: 78, 41: 13, 30: 4},\n",
    " 'precision': {41: 16, 56: 11, 23: 8, 50: 3},\n",
    " 'regression': {41: 28, 22: 11, 56: 3},\n",
    " 'residual': {50: 157, 48: 42, 47: 20, 25: 5}}"
   ]
  },
  {
   "cell_type": "code",
   "execution_count": null,
   "metadata": {},
   "outputs": [],
   "source": [
    "{'blue': {56: 12},\n",
    " 'coefficient': {49: 21, 26: 10, 41: 8, 18: 7, 25: 7, 40: 3},\n",
    " 'collinear': {50: 144, 23: 47, 29: 40, 49: 14, 25: 7},\n",
    " 'fit': {23: 160, 49: 8, 29: 8, 25: 7},\n",
    " 'independent': {49: 193, 23: 27, 18: 14},\n",
    " 'lasso': {25: 13, 56: 10, 41: 10},\n",
    " 'logistic': {56: 5},\n",
    " 'matrix': {29: 67, 50: 24, 23: 11, 41: 9, 49: 8, 56: 7, 25: 6},\n",
    " 'minimization': {50: 60, 41: 30, 56: 4, 10: 1},\n",
    " 'precision': {41: 16, 23: 11, 25: 11},\n",
    " 'regression': {50: 14, 41: 14, 49: 14},\n",
    " 'residual': {50: 106, 29: 76, 49: 22, 47: 20}}"
   ]
  },
  {
   "cell_type": "code",
   "execution_count": null,
   "metadata": {},
   "outputs": [],
   "source": [
    "{'blue': {30: 7, 56: 5},\n",
    " 'coefficient': {18: 16, 2: 12, 34: 9, 22: 9, 23: 7, 7: 3},\n",
    " 'collinear': {50: 147,\n",
    "  29: 42,\n",
    "  23: 41,\n",
    "  41: 20,\n",
    "  2: 16,\n",
    "  22: 9,\n",
    "  38: 9,\n",
    "  56: 8,\n",
    "  25: 6},\n",
    " 'fit': {23: 144, 2: 24, 25: 8, 50: 7},\n",
    " 'independent': {49: 170, 23: 69, 26: 25, 41: 14},\n",
    " 'lasso': {34: 10, 56: 8, 36: 5, 30: 5, 23: 5},\n",
    " 'logistic': {36: 5},\n",
    " 'matrix': {29: 46, 50: 31, 2: 19, 41: 17, 30: 16, 25: 12, 22: 9, 10: 7},\n",
    " 'minimization': {50: 59, 41: 21, 10: 11, 30: 4},\n",
    " 'precision': {23: 38, 25: 15},\n",
    " 'regression': {41: 28, 50: 14, 56: 8},\n",
    " 'residual': {50: 94, 29: 91, 47: 34, 25: 5}}"
   ]
  },
  {
   "cell_type": "code",
   "execution_count": null,
   "metadata": {},
   "outputs": [],
   "source": [
    "{'blue': {25: 12},\n",
    " 'coefficient': {18: 28, 49: 12, 41: 9, 27: 7},\n",
    " 'collinear': {50: 108, 29: 97, 23: 47, 18: 20, 49: 18, 56: 8},\n",
    " 'fit': {23: 157, 50: 13, 49: 8, 29: 5},\n",
    " 'independent': {49: 241, 23: 21, 18: 14, 50: 2},\n",
    " 'lasso': {25: 13, 18: 10, 56: 9, 23: 1},\n",
    " 'logistic': {56: 5},\n",
    " 'matrix': {29: 84, 49: 33, 50: 13, 2: 11, 47: 9, 27: 6, 23: 1},\n",
    " 'minimization': {50: 91, 30: 4},\n",
    " 'precision': {50: 52, 23: 1},\n",
    " 'regression': {50: 14, 49: 14, 29: 8, 47: 8, 41: 6},\n",
    " 'residual': {50: 102, 29: 85, 49: 37}}"
   ]
  },
  {
   "cell_type": "code",
   "execution_count": 91,
   "metadata": {},
   "outputs": [
    {
     "data": {
      "text/html": [
       "<div>\n",
       "<style scoped>\n",
       "    .dataframe tbody tr th:only-of-type {\n",
       "        vertical-align: middle;\n",
       "    }\n",
       "\n",
       "    .dataframe tbody tr th {\n",
       "        vertical-align: top;\n",
       "    }\n",
       "\n",
       "    .dataframe thead th {\n",
       "        text-align: right;\n",
       "    }\n",
       "</style>\n",
       "<table border=\"1\" class=\"dataframe\">\n",
       "  <thead>\n",
       "    <tr style=\"text-align: right;\">\n",
       "      <th></th>\n",
       "      <th>user_word</th>\n",
       "      <th>preds</th>\n",
       "    </tr>\n",
       "  </thead>\n",
       "  <tbody>\n",
       "    <tr>\n",
       "      <th>6</th>\n",
       "      <td>blue</td>\n",
       "      <td>25</td>\n",
       "    </tr>\n",
       "    <tr>\n",
       "      <th>2</th>\n",
       "      <td>coefficient</td>\n",
       "      <td>34</td>\n",
       "    </tr>\n",
       "    <tr>\n",
       "      <th>4</th>\n",
       "      <td>collinear</td>\n",
       "      <td>2</td>\n",
       "    </tr>\n",
       "    <tr>\n",
       "      <th>8</th>\n",
       "      <td>lasso</td>\n",
       "      <td>-999</td>\n",
       "    </tr>\n",
       "    <tr>\n",
       "      <th>7</th>\n",
       "      <td>logistic</td>\n",
       "      <td>-999</td>\n",
       "    </tr>\n",
       "    <tr>\n",
       "      <th>5</th>\n",
       "      <td>minimization</td>\n",
       "      <td>26</td>\n",
       "    </tr>\n",
       "    <tr>\n",
       "      <th>3</th>\n",
       "      <td>precision</td>\n",
       "      <td>56</td>\n",
       "    </tr>\n",
       "    <tr>\n",
       "      <th>0</th>\n",
       "      <td>regression</td>\n",
       "      <td>41</td>\n",
       "    </tr>\n",
       "    <tr>\n",
       "      <th>1</th>\n",
       "      <td>residual</td>\n",
       "      <td>50</td>\n",
       "    </tr>\n",
       "  </tbody>\n",
       "</table>\n",
       "</div>"
      ],
      "text/plain": [
       "      user_word  preds\n",
       "6          blue     25\n",
       "2   coefficient     34\n",
       "4     collinear      2\n",
       "8         lasso   -999\n",
       "7      logistic   -999\n",
       "5  minimization     26\n",
       "3     precision     56\n",
       "0    regression     41\n",
       "1      residual     50"
      ]
     },
     "execution_count": 91,
     "metadata": {},
     "output_type": "execute_result"
    }
   ],
   "source": [
    "result_cb_sf_new_fit = make_prediction(df_test, selected_features, models_sf_new_fit)\n",
    "result_cb_sf_new_fit"
   ]
  },
  {
   "cell_type": "code",
   "execution_count": 91,
   "metadata": {},
   "outputs": [
    {
     "data": {
      "text/plain": [
       "9"
      ]
     },
     "execution_count": 91,
     "metadata": {},
     "output_type": "execute_result"
    }
   ],
   "source": [
    "len(result_cb_sf_new_fit)"
   ]
  },
  {
   "cell_type": "markdown",
   "metadata": {},
   "source": [
    "Сохраненим результаты"
   ]
  },
  {
   "cell_type": "code",
   "execution_count": 302,
   "metadata": {},
   "outputs": [],
   "source": [
    "# csv_buffer = io.StringIO()\n",
    "\n",
    "# # result_cb.to_csv(csv_buffer, index=False)\n",
    "\n",
    "# # result_cb_sf.to_csv(csv_buffer, index=False)\n",
    "\n",
    "# result_cb_sf_new_fit.to_csv(csv_buffer, index=False)\n",
    "\n",
    "# with zipfile.ZipFile('../data/answer.zip', mode='w', compression=zipfile.ZIP_DEFLATED) as zf:\n",
    "#     zf.writestr('answer.csv', csv_buffer.getvalue())"
   ]
  },
  {
   "cell_type": "code",
   "execution_count": 92,
   "metadata": {},
   "outputs": [],
   "source": [
    "# result_cb.to_csv('../data/submit_cb_v_05_all.csv', index=False)\n",
    "\n",
    "# result_cb_sf.to_csv('../data/submit_cb_v_05_sf.csv', index=False)\n",
    "\n",
    "result_cb_sf_new_fit.to_csv('../data/experiment_06.csv', index=False)"
   ]
  },
  {
   "cell_type": "markdown",
   "metadata": {},
   "source": [
    "# Сравнение ответов"
   ]
  },
  {
   "cell_type": "code",
   "execution_count": 93,
   "metadata": {},
   "outputs": [],
   "source": [
    "right_answers = pd.read_csv(r'E:\\projects\\SHIFT\\предыдущие_наработки\\right_answers.csv')\n",
    "res_ivan = pd.read_csv(r'E:\\projects\\SHIFT\\От_Ивана\\ШИФТ тест\\Решения\\1) 04_02_2024\\answer_ivan.csv')\n",
    "res_vera = pd.read_csv(r'E:\\projects\\SHIFT\\От_Ивана\\ШИФТ тест\\Решения\\4) Ivanova_Vera_SaintPetersburg 358\\shift_ml-main\\answer_vera.csv')\n",
    "res_cb_01 = pd.read_csv('../data/experiment_01.csv')\n",
    "res_cb_02 = pd.read_csv('../data/experiment_02.csv')\n",
    "res_cb_03 = pd.read_csv('../data/experiment_03.csv')\n",
    "res_cb_04 = pd.read_csv('../data/experiment_04.csv')\n",
    "res_cb_05 = pd.read_csv('../data/experiment_05.csv')\n",
    "res_cb_06 = pd.read_csv('../data/experiment_06.csv')"
   ]
  },
  {
   "cell_type": "code",
   "execution_count": 94,
   "metadata": {},
   "outputs": [
    {
     "data": {
      "text/plain": [
       "array(['blue', 'coefficient', 'collinear', 'lasso', 'logistic',\n",
       "       'minimization', 'precision', 'regression', 'residual'],\n",
       "      dtype=object)"
      ]
     },
     "execution_count": 94,
     "metadata": {},
     "output_type": "execute_result"
    }
   ],
   "source": [
    "u_w = res_cb_06.user_word.unique()\n",
    "u_w"
   ]
  },
  {
   "cell_type": "code",
   "execution_count": 95,
   "metadata": {},
   "outputs": [],
   "source": [
    "res = right_answers.loc[:].rename(columns={'preds': 'right_answers'}).query('user_word in @u_w').reset_index(drop=True)\n",
    "res['right_answers'] = res['right_answers'].apply(lambda x: f'{x:.0f}')\n",
    "res['ivan'] = res_ivan.query('user_word in @u_w').reset_index(drop=True)['preds']\n",
    "res['vera'] = res_vera.query('word in @u_w').reset_index(drop=True)['preds']\n",
    "res['cb_v_01'] = res_cb_01.query('user_word in @u_w').reset_index(drop=True)['preds']\n",
    "res['cb_v_02'] = res_cb_02.query('user_word in @u_w').reset_index(drop=True)['preds']\n",
    "res['cb_v_03'] = res_cb_03.query('user_word in @u_w').reset_index(drop=True)['preds']\n",
    "res['cb_v_04'] = res_cb_04.query('user_word in @u_w').reset_index(drop=True)['preds']\n",
    "res['cb_v_05'] = res_cb_05['preds']\n",
    "res['cb_v_06'] = res_cb_06['preds']"
   ]
  },
  {
   "cell_type": "code",
   "execution_count": 96,
   "metadata": {},
   "outputs": [
    {
     "data": {
      "text/html": [
       "<style type=\"text/css\">\n",
       "#T_9c2a8_row0_col6, #T_9c2a8_row0_col8, #T_9c2a8_row3_col6, #T_9c2a8_row7_col2, #T_9c2a8_row7_col6, #T_9c2a8_row8_col5, #T_9c2a8_row8_col6 {\n",
       "  background-color: green;\n",
       "}\n",
       "</style>\n",
       "<table id=\"T_9c2a8\">\n",
       "  <thead>\n",
       "    <tr>\n",
       "      <th class=\"blank level0\" >&nbsp;</th>\n",
       "      <th id=\"T_9c2a8_level0_col0\" class=\"col_heading level0 col0\" >user_word</th>\n",
       "      <th id=\"T_9c2a8_level0_col1\" class=\"col_heading level0 col1\" >right_answers</th>\n",
       "      <th id=\"T_9c2a8_level0_col2\" class=\"col_heading level0 col2\" >ivan</th>\n",
       "      <th id=\"T_9c2a8_level0_col3\" class=\"col_heading level0 col3\" >vera</th>\n",
       "      <th id=\"T_9c2a8_level0_col4\" class=\"col_heading level0 col4\" >cb_v_01</th>\n",
       "      <th id=\"T_9c2a8_level0_col5\" class=\"col_heading level0 col5\" >cb_v_02</th>\n",
       "      <th id=\"T_9c2a8_level0_col6\" class=\"col_heading level0 col6\" >cb_v_03</th>\n",
       "      <th id=\"T_9c2a8_level0_col7\" class=\"col_heading level0 col7\" >cb_v_04</th>\n",
       "      <th id=\"T_9c2a8_level0_col8\" class=\"col_heading level0 col8\" >cb_v_05</th>\n",
       "    </tr>\n",
       "  </thead>\n",
       "  <tbody>\n",
       "    <tr>\n",
       "      <th id=\"T_9c2a8_level0_row0\" class=\"row_heading level0 row0\" >0</th>\n",
       "      <td id=\"T_9c2a8_row0_col0\" class=\"data row0 col0\" >blue</td>\n",
       "      <td id=\"T_9c2a8_row0_col1\" class=\"data row0 col1\" >nan</td>\n",
       "      <td id=\"T_9c2a8_row0_col2\" class=\"data row0 col2\" >-999</td>\n",
       "      <td id=\"T_9c2a8_row0_col3\" class=\"data row0 col3\" >56</td>\n",
       "      <td id=\"T_9c2a8_row0_col4\" class=\"data row0 col4\" >25</td>\n",
       "      <td id=\"T_9c2a8_row0_col5\" class=\"data row0 col5\" >30</td>\n",
       "      <td id=\"T_9c2a8_row0_col6\" class=\"data row0 col6\" >56</td>\n",
       "      <td id=\"T_9c2a8_row0_col7\" class=\"data row0 col7\" >25</td>\n",
       "      <td id=\"T_9c2a8_row0_col8\" class=\"data row0 col8\" >56</td>\n",
       "    </tr>\n",
       "    <tr>\n",
       "      <th id=\"T_9c2a8_level0_row1\" class=\"row_heading level0 row1\" >1</th>\n",
       "      <td id=\"T_9c2a8_row1_col0\" class=\"data row1 col0\" >coefficient</td>\n",
       "      <td id=\"T_9c2a8_row1_col1\" class=\"data row1 col1\" >nan</td>\n",
       "      <td id=\"T_9c2a8_row1_col2\" class=\"data row1 col2\" >-999</td>\n",
       "      <td id=\"T_9c2a8_row1_col3\" class=\"data row1 col3\" >27</td>\n",
       "      <td id=\"T_9c2a8_row1_col4\" class=\"data row1 col4\" >18</td>\n",
       "      <td id=\"T_9c2a8_row1_col5\" class=\"data row1 col5\" >18</td>\n",
       "      <td id=\"T_9c2a8_row1_col6\" class=\"data row1 col6\" >26</td>\n",
       "      <td id=\"T_9c2a8_row1_col7\" class=\"data row1 col7\" >18</td>\n",
       "      <td id=\"T_9c2a8_row1_col8\" class=\"data row1 col8\" >18</td>\n",
       "    </tr>\n",
       "    <tr>\n",
       "      <th id=\"T_9c2a8_level0_row2\" class=\"row_heading level0 row2\" >2</th>\n",
       "      <td id=\"T_9c2a8_row2_col0\" class=\"data row2 col0\" >collinear</td>\n",
       "      <td id=\"T_9c2a8_row2_col1\" class=\"data row2 col1\" >nan</td>\n",
       "      <td id=\"T_9c2a8_row2_col2\" class=\"data row2 col2\" >-999</td>\n",
       "      <td id=\"T_9c2a8_row2_col3\" class=\"data row2 col3\" >23</td>\n",
       "      <td id=\"T_9c2a8_row2_col4\" class=\"data row2 col4\" >-999</td>\n",
       "      <td id=\"T_9c2a8_row2_col5\" class=\"data row2 col5\" >38</td>\n",
       "      <td id=\"T_9c2a8_row2_col6\" class=\"data row2 col6\" >50</td>\n",
       "      <td id=\"T_9c2a8_row2_col7\" class=\"data row2 col7\" >2</td>\n",
       "      <td id=\"T_9c2a8_row2_col8\" class=\"data row2 col8\" >53</td>\n",
       "    </tr>\n",
       "    <tr>\n",
       "      <th id=\"T_9c2a8_level0_row3\" class=\"row_heading level0 row3\" >3</th>\n",
       "      <td id=\"T_9c2a8_row3_col0\" class=\"data row3 col0\" >lasso</td>\n",
       "      <td id=\"T_9c2a8_row3_col1\" class=\"data row3 col1\" >nan</td>\n",
       "      <td id=\"T_9c2a8_row3_col2\" class=\"data row3 col2\" >36</td>\n",
       "      <td id=\"T_9c2a8_row3_col3\" class=\"data row3 col3\" >25</td>\n",
       "      <td id=\"T_9c2a8_row3_col4\" class=\"data row3 col4\" >-999</td>\n",
       "      <td id=\"T_9c2a8_row3_col5\" class=\"data row3 col5\" >34</td>\n",
       "      <td id=\"T_9c2a8_row3_col6\" class=\"data row3 col6\" >25</td>\n",
       "      <td id=\"T_9c2a8_row3_col7\" class=\"data row3 col7\" >30</td>\n",
       "      <td id=\"T_9c2a8_row3_col8\" class=\"data row3 col8\" >30</td>\n",
       "    </tr>\n",
       "    <tr>\n",
       "      <th id=\"T_9c2a8_level0_row4\" class=\"row_heading level0 row4\" >4</th>\n",
       "      <td id=\"T_9c2a8_row4_col0\" class=\"data row4 col0\" >logistic</td>\n",
       "      <td id=\"T_9c2a8_row4_col1\" class=\"data row4 col1\" >nan</td>\n",
       "      <td id=\"T_9c2a8_row4_col2\" class=\"data row4 col2\" >-999</td>\n",
       "      <td id=\"T_9c2a8_row4_col3\" class=\"data row4 col3\" >31</td>\n",
       "      <td id=\"T_9c2a8_row4_col4\" class=\"data row4 col4\" >56</td>\n",
       "      <td id=\"T_9c2a8_row4_col5\" class=\"data row4 col5\" >36</td>\n",
       "      <td id=\"T_9c2a8_row4_col6\" class=\"data row4 col6\" >-999</td>\n",
       "      <td id=\"T_9c2a8_row4_col7\" class=\"data row4 col7\" >36</td>\n",
       "      <td id=\"T_9c2a8_row4_col8\" class=\"data row4 col8\" >36</td>\n",
       "    </tr>\n",
       "    <tr>\n",
       "      <th id=\"T_9c2a8_level0_row5\" class=\"row_heading level0 row5\" >5</th>\n",
       "      <td id=\"T_9c2a8_row5_col0\" class=\"data row5 col0\" >minimization</td>\n",
       "      <td id=\"T_9c2a8_row5_col1\" class=\"data row5 col1\" >nan</td>\n",
       "      <td id=\"T_9c2a8_row5_col2\" class=\"data row5 col2\" >50</td>\n",
       "      <td id=\"T_9c2a8_row5_col3\" class=\"data row5 col3\" >48</td>\n",
       "      <td id=\"T_9c2a8_row5_col4\" class=\"data row5 col4\" >50</td>\n",
       "      <td id=\"T_9c2a8_row5_col5\" class=\"data row5 col5\" >50</td>\n",
       "      <td id=\"T_9c2a8_row5_col6\" class=\"data row5 col6\" >10</td>\n",
       "      <td id=\"T_9c2a8_row5_col7\" class=\"data row5 col7\" >50</td>\n",
       "      <td id=\"T_9c2a8_row5_col8\" class=\"data row5 col8\" >-999</td>\n",
       "    </tr>\n",
       "    <tr>\n",
       "      <th id=\"T_9c2a8_level0_row6\" class=\"row_heading level0 row6\" >6</th>\n",
       "      <td id=\"T_9c2a8_row6_col0\" class=\"data row6 col0\" >precision</td>\n",
       "      <td id=\"T_9c2a8_row6_col1\" class=\"data row6 col1\" >nan</td>\n",
       "      <td id=\"T_9c2a8_row6_col2\" class=\"data row6 col2\" >-999</td>\n",
       "      <td id=\"T_9c2a8_row6_col3\" class=\"data row6 col3\" >8</td>\n",
       "      <td id=\"T_9c2a8_row6_col4\" class=\"data row6 col4\" >-999</td>\n",
       "      <td id=\"T_9c2a8_row6_col5\" class=\"data row6 col5\" >25</td>\n",
       "      <td id=\"T_9c2a8_row6_col6\" class=\"data row6 col6\" >41</td>\n",
       "      <td id=\"T_9c2a8_row6_col7\" class=\"data row6 col7\" >56</td>\n",
       "      <td id=\"T_9c2a8_row6_col8\" class=\"data row6 col8\" >41</td>\n",
       "    </tr>\n",
       "    <tr>\n",
       "      <th id=\"T_9c2a8_level0_row7\" class=\"row_heading level0 row7\" >7</th>\n",
       "      <td id=\"T_9c2a8_row7_col0\" class=\"data row7 col0\" >regression</td>\n",
       "      <td id=\"T_9c2a8_row7_col1\" class=\"data row7 col1\" >nan</td>\n",
       "      <td id=\"T_9c2a8_row7_col2\" class=\"data row7 col2\" >-999</td>\n",
       "      <td id=\"T_9c2a8_row7_col3\" class=\"data row7 col3\" >-999</td>\n",
       "      <td id=\"T_9c2a8_row7_col4\" class=\"data row7 col4\" >47</td>\n",
       "      <td id=\"T_9c2a8_row7_col5\" class=\"data row7 col5\" >41</td>\n",
       "      <td id=\"T_9c2a8_row7_col6\" class=\"data row7 col6\" >-999</td>\n",
       "      <td id=\"T_9c2a8_row7_col7\" class=\"data row7 col7\" >41</td>\n",
       "      <td id=\"T_9c2a8_row7_col8\" class=\"data row7 col8\" >26</td>\n",
       "    </tr>\n",
       "    <tr>\n",
       "      <th id=\"T_9c2a8_level0_row8\" class=\"row_heading level0 row8\" >8</th>\n",
       "      <td id=\"T_9c2a8_row8_col0\" class=\"data row8 col0\" >residual</td>\n",
       "      <td id=\"T_9c2a8_row8_col1\" class=\"data row8 col1\" >nan</td>\n",
       "      <td id=\"T_9c2a8_row8_col2\" class=\"data row8 col2\" >-999</td>\n",
       "      <td id=\"T_9c2a8_row8_col3\" class=\"data row8 col3\" >47</td>\n",
       "      <td id=\"T_9c2a8_row8_col4\" class=\"data row8 col4\" >29</td>\n",
       "      <td id=\"T_9c2a8_row8_col5\" class=\"data row8 col5\" >47</td>\n",
       "      <td id=\"T_9c2a8_row8_col6\" class=\"data row8 col6\" >47</td>\n",
       "      <td id=\"T_9c2a8_row8_col7\" class=\"data row8 col7\" >48</td>\n",
       "      <td id=\"T_9c2a8_row8_col8\" class=\"data row8 col8\" >50</td>\n",
       "    </tr>\n",
       "  </tbody>\n",
       "</table>\n"
      ],
      "text/plain": [
       "<pandas.io.formats.style.Styler at 0x1e377d1a4d0>"
      ]
     },
     "execution_count": 96,
     "metadata": {},
     "output_type": "execute_result"
    }
   ],
   "source": [
    "# Функция для условного форматирования\n",
    "def highlight_matching_cells(x):\n",
    "    ref_col = x['vera']\n",
    "    df_styled = pd.DataFrame('', index=x.index, columns=x.columns)\n",
    "    for col in x.columns:\n",
    "        if col == 'right_answers':\n",
    "            df_styled[col] = ['background-color: red' if x[col].iloc[i] != 'nan' else '' for i in range(len(x))]\n",
    "        elif col != 'vera':\n",
    "            df_styled[col] = ['background-color: green' if x[col].iloc[i] == ref_col.iloc[i] else '' for i in range(len(x))]\n",
    "    return df_styled\n",
    "\n",
    "# Применение стиля\n",
    "res.style.apply(highlight_matching_cells, axis=None)"
   ]
  },
  {
   "cell_type": "markdown",
   "metadata": {},
   "source": [
    "# The end"
   ]
  }
 ],
 "metadata": {
  "kernelspec": {
   "display_name": "venv",
   "language": "python",
   "name": "python3"
  },
  "language_info": {
   "codemirror_mode": {
    "name": "ipython",
    "version": 3
   },
   "file_extension": ".py",
   "mimetype": "text/x-python",
   "name": "python",
   "nbconvert_exporter": "python",
   "pygments_lexer": "ipython3",
   "version": "3.10.7"
  }
 },
 "nbformat": 4,
 "nbformat_minor": 2
}
