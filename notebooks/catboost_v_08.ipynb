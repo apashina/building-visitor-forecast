{
 "cells": [
  {
   "cell_type": "markdown",
   "metadata": {},
   "source": [
    "ML ШИФТ"
   ]
  },
  {
   "cell_type": "markdown",
   "metadata": {},
   "source": [
    "[JINT] (SHIFT-64009) Пашина Алёна"
   ]
  },
  {
   "cell_type": "markdown",
   "metadata": {},
   "source": [
    "374"
   ]
  },
  {
   "cell_type": "markdown",
   "metadata": {},
   "source": [
    "# Описание задачи\n",
    "\n",
    "Чтобы попасть в здание, нужно пройти через турникет. Чтобы открыть парковку, нужно открыть шлагбаум. Чтобы попасть на этаж, нужно приложить 'таблетку'. Все это фиксируется - кто, в какую дату, в какое время.\n",
    "Сможем ли мы выучить, кому конкретно принадлежит 'след' прохода через турникеты? Мы знаем, что это был кто-то, кто уже был. (Правда, есть и несколько новых - не больше 10%).\n",
    "\n",
    "'8 утра понедельник, турникет 4? Директор.' '11 утра суббота? Гриша. Но Гриша в последний день месяца никогда не приходит.'  Какие есть паттерны в настоящих данных?\n",
    "\n",
    "**Цель** - предсказать, кто вошел в здание по времени и турникету.\n",
    "\n",
    "**Описание данных**\n",
    "\n",
    "В обучающей выборке:\n",
    "\n",
    "* `user_id` - ID посетителя\n",
    "* `ts` - дата и время прохождения через турникет\n",
    "* `gate_id` - ID турникета\n",
    "\n",
    "В тестовой выборке `user_id` заменены на слова: `aucroc, binary, blue, categorical` и т.п.\n",
    "\n",
    "Требуется составить таблицу вида:\n",
    "\n",
    "| user_word | preds |\n",
    "| --- | --- |\n",
    "| aucroc | 50 |\n",
    "| binary | 11 |\n",
    "| blue | -999 |\n",
    "| ... | ... |\n",
    "\n",
    "* `user_word` - закодированные ID пользователей\n",
    "* `preds` - предсказанные ID\n",
    "* `-999` - ID нового посетителя, которого раньше не было\n",
    "\n",
    "Таблицу нужно запомнить как `csv` и потом заархивировать в `zip` архив. \n",
    "\n",
    "Каждому слову сопоставлен вес, который зависит от того, насколько трудно предсказать ID. Баллы набираются как взвешенная по весам сумма правильных ответов. Чем сложнее отгадали слово, тем больше баллов.\n",
    "\n",
    "Посетителей здания будем считать сотрудниками некой компании."
   ]
  },
  {
   "cell_type": "markdown",
   "metadata": {},
   "source": [
    "# Импорт библиотек"
   ]
  },
  {
   "cell_type": "code",
   "execution_count": 1,
   "metadata": {},
   "outputs": [],
   "source": [
    "import pandas as pd\n",
    "import numpy as np\n",
    "import sklearn\n",
    "import warnings\n",
    "import matplotlib.pyplot as plt\n",
    "import seaborn as sns\n",
    "import joblib\n",
    "import lightgbm as lgb\n",
    "\n",
    "from sklearn.model_selection import train_test_split, cross_val_score, GridSearchCV, StratifiedKFold\n",
    "from sklearn.compose import ColumnTransformer\n",
    "from sklearn.pipeline import Pipeline\n",
    "\n",
    "from sklearn.metrics import (roc_auc_score, \n",
    "                             f1_score,\n",
    "                             roc_curve, \n",
    "                             accuracy_score, \n",
    "                             ConfusionMatrixDisplay, \n",
    "                             confusion_matrix, \n",
    "                             recall_score,\n",
    "                             precision_score)\n",
    "from sklearn.inspection import permutation_importance\n",
    "from catboost import (CatBoostClassifier,\n",
    "                        Pool,\n",
    "                        EShapCalcType,\n",
    "                        EFeaturesSelectionAlgorithm)\n",
    "\n",
    "import shap\n",
    "import loguru\n",
    "import plotly\n",
    "import phik\n",
    "import zipfile\n",
    "import io\n",
    "import re\n",
    "from optuna.integration import OptunaSearchCV\n",
    "from optuna.distributions import IntDistribution, FloatDistribution\n",
    "import optuna\n",
    "from scipy.stats import mode"
   ]
  },
  {
   "cell_type": "code",
   "execution_count": 2,
   "metadata": {},
   "outputs": [],
   "source": [
    "# sklearn.set_config(transform_output=\"pandas\")\n",
    "warnings.filterwarnings('ignore')\n",
    "pd.options.display.float_format = '{:,.2f}'.format\n",
    "\n",
    "RANDOM_STATE = 42"
   ]
  },
  {
   "cell_type": "code",
   "execution_count": 3,
   "metadata": {},
   "outputs": [],
   "source": [
    "pd.set_option('display.max_rows', 300)\n",
    "pd.set_option('display.max_columns', 300)"
   ]
  },
  {
   "cell_type": "markdown",
   "metadata": {},
   "source": [
    "# Первичный анализ и предобработка данных"
   ]
  },
  {
   "cell_type": "code",
   "execution_count": 4,
   "metadata": {},
   "outputs": [],
   "source": [
    "df_train = pd.read_csv('../data/train.csv', index_col=[0], parse_dates=[2])\n",
    "df_test = pd.read_csv('../data/test.csv', index_col=[0], parse_dates=[1])\n",
    "ex_submit = pd.read_csv('../data/submit.csv')"
   ]
  },
  {
   "cell_type": "code",
   "execution_count": 5,
   "metadata": {},
   "outputs": [
    {
     "name": "stdout",
     "output_type": "stream",
     "text": [
      "\u001b[1mтренировочная выборка:\u001b[0m\n"
     ]
    },
    {
     "data": {
      "text/html": [
       "<div>\n",
       "<style scoped>\n",
       "    .dataframe tbody tr th:only-of-type {\n",
       "        vertical-align: middle;\n",
       "    }\n",
       "\n",
       "    .dataframe tbody tr th {\n",
       "        vertical-align: top;\n",
       "    }\n",
       "\n",
       "    .dataframe thead th {\n",
       "        text-align: right;\n",
       "    }\n",
       "</style>\n",
       "<table border=\"1\" class=\"dataframe\">\n",
       "  <thead>\n",
       "    <tr style=\"text-align: right;\">\n",
       "      <th></th>\n",
       "      <th>user_id</th>\n",
       "      <th>ts</th>\n",
       "      <th>gate_id</th>\n",
       "    </tr>\n",
       "  </thead>\n",
       "  <tbody>\n",
       "    <tr>\n",
       "      <th>0</th>\n",
       "      <td>18</td>\n",
       "      <td>2022-07-29 09:08:54</td>\n",
       "      <td>7</td>\n",
       "    </tr>\n",
       "    <tr>\n",
       "      <th>1</th>\n",
       "      <td>18</td>\n",
       "      <td>2022-07-29 09:09:54</td>\n",
       "      <td>9</td>\n",
       "    </tr>\n",
       "    <tr>\n",
       "      <th>2</th>\n",
       "      <td>18</td>\n",
       "      <td>2022-07-29 09:09:54</td>\n",
       "      <td>9</td>\n",
       "    </tr>\n",
       "    <tr>\n",
       "      <th>3</th>\n",
       "      <td>18</td>\n",
       "      <td>2022-07-29 09:10:06</td>\n",
       "      <td>5</td>\n",
       "    </tr>\n",
       "    <tr>\n",
       "      <th>4</th>\n",
       "      <td>18</td>\n",
       "      <td>2022-07-29 09:10:08</td>\n",
       "      <td>5</td>\n",
       "    </tr>\n",
       "    <tr>\n",
       "      <th>...</th>\n",
       "      <td>...</td>\n",
       "      <td>...</td>\n",
       "      <td>...</td>\n",
       "    </tr>\n",
       "    <tr>\n",
       "      <th>37513</th>\n",
       "      <td>6</td>\n",
       "      <td>2022-12-31 20:38:56</td>\n",
       "      <td>11</td>\n",
       "    </tr>\n",
       "    <tr>\n",
       "      <th>37514</th>\n",
       "      <td>6</td>\n",
       "      <td>2022-12-31 20:39:22</td>\n",
       "      <td>6</td>\n",
       "    </tr>\n",
       "    <tr>\n",
       "      <th>37515</th>\n",
       "      <td>6</td>\n",
       "      <td>2022-12-31 20:39:23</td>\n",
       "      <td>6</td>\n",
       "    </tr>\n",
       "    <tr>\n",
       "      <th>37516</th>\n",
       "      <td>6</td>\n",
       "      <td>2022-12-31 20:39:31</td>\n",
       "      <td>9</td>\n",
       "    </tr>\n",
       "    <tr>\n",
       "      <th>37517</th>\n",
       "      <td>6</td>\n",
       "      <td>2022-12-31 20:39:31</td>\n",
       "      <td>9</td>\n",
       "    </tr>\n",
       "  </tbody>\n",
       "</table>\n",
       "<p>37518 rows × 3 columns</p>\n",
       "</div>"
      ],
      "text/plain": [
       "       user_id                  ts  gate_id\n",
       "0           18 2022-07-29 09:08:54        7\n",
       "1           18 2022-07-29 09:09:54        9\n",
       "2           18 2022-07-29 09:09:54        9\n",
       "3           18 2022-07-29 09:10:06        5\n",
       "4           18 2022-07-29 09:10:08        5\n",
       "...        ...                 ...      ...\n",
       "37513        6 2022-12-31 20:38:56       11\n",
       "37514        6 2022-12-31 20:39:22        6\n",
       "37515        6 2022-12-31 20:39:23        6\n",
       "37516        6 2022-12-31 20:39:31        9\n",
       "37517        6 2022-12-31 20:39:31        9\n",
       "\n",
       "[37518 rows x 3 columns]"
      ]
     },
     "metadata": {},
     "output_type": "display_data"
    },
    {
     "name": "stdout",
     "output_type": "stream",
     "text": [
      "\u001b[1mобщая информация - тренировочная выборка:\u001b[0m\n",
      "<class 'pandas.core.frame.DataFrame'>\n",
      "Index: 37518 entries, 0 to 37517\n",
      "Data columns (total 3 columns):\n",
      " #   Column   Non-Null Count  Dtype         \n",
      "---  ------   --------------  -----         \n",
      " 0   user_id  37518 non-null  int64         \n",
      " 1   ts       37518 non-null  datetime64[ns]\n",
      " 2   gate_id  37518 non-null  int64         \n",
      "dtypes: datetime64[ns](1), int64(2)\n",
      "memory usage: 1.1 MB\n",
      "\u001b[1mколичество пропусков: 0\u001b[0m\n",
      "\u001b[1mколичество явных дубликатов: 2346\u001b[0m\n",
      "\n",
      "\u001b[1mтестовая выборка:\u001b[0m\n"
     ]
    },
    {
     "data": {
      "text/html": [
       "<div>\n",
       "<style scoped>\n",
       "    .dataframe tbody tr th:only-of-type {\n",
       "        vertical-align: middle;\n",
       "    }\n",
       "\n",
       "    .dataframe tbody tr th {\n",
       "        vertical-align: top;\n",
       "    }\n",
       "\n",
       "    .dataframe thead th {\n",
       "        text-align: right;\n",
       "    }\n",
       "</style>\n",
       "<table border=\"1\" class=\"dataframe\">\n",
       "  <thead>\n",
       "    <tr style=\"text-align: right;\">\n",
       "      <th></th>\n",
       "      <th>ts</th>\n",
       "      <th>gate_id</th>\n",
       "      <th>user_word</th>\n",
       "    </tr>\n",
       "  </thead>\n",
       "  <tbody>\n",
       "    <tr>\n",
       "      <th>37518</th>\n",
       "      <td>2023-01-03 08:21:00</td>\n",
       "      <td>9</td>\n",
       "      <td>gini</td>\n",
       "    </tr>\n",
       "    <tr>\n",
       "      <th>37519</th>\n",
       "      <td>2023-01-03 08:21:00</td>\n",
       "      <td>9</td>\n",
       "      <td>gini</td>\n",
       "    </tr>\n",
       "    <tr>\n",
       "      <th>37520</th>\n",
       "      <td>2023-01-03 08:21:18</td>\n",
       "      <td>5</td>\n",
       "      <td>gini</td>\n",
       "    </tr>\n",
       "    <tr>\n",
       "      <th>37521</th>\n",
       "      <td>2023-01-03 08:21:19</td>\n",
       "      <td>5</td>\n",
       "      <td>gini</td>\n",
       "    </tr>\n",
       "    <tr>\n",
       "      <th>37522</th>\n",
       "      <td>2023-01-03 08:21:39</td>\n",
       "      <td>10</td>\n",
       "      <td>gini</td>\n",
       "    </tr>\n",
       "    <tr>\n",
       "      <th>...</th>\n",
       "      <td>...</td>\n",
       "      <td>...</td>\n",
       "      <td>...</td>\n",
       "    </tr>\n",
       "    <tr>\n",
       "      <th>44638</th>\n",
       "      <td>2023-02-24 19:43:36</td>\n",
       "      <td>11</td>\n",
       "      <td>collinear</td>\n",
       "    </tr>\n",
       "    <tr>\n",
       "      <th>44639</th>\n",
       "      <td>2023-02-24 19:44:00</td>\n",
       "      <td>4</td>\n",
       "      <td>collinear</td>\n",
       "    </tr>\n",
       "    <tr>\n",
       "      <th>44640</th>\n",
       "      <td>2023-02-24 19:44:01</td>\n",
       "      <td>4</td>\n",
       "      <td>collinear</td>\n",
       "    </tr>\n",
       "    <tr>\n",
       "      <th>44641</th>\n",
       "      <td>2023-02-24 19:44:09</td>\n",
       "      <td>9</td>\n",
       "      <td>collinear</td>\n",
       "    </tr>\n",
       "    <tr>\n",
       "      <th>44642</th>\n",
       "      <td>2023-02-24 19:44:09</td>\n",
       "      <td>9</td>\n",
       "      <td>collinear</td>\n",
       "    </tr>\n",
       "  </tbody>\n",
       "</table>\n",
       "<p>7125 rows × 3 columns</p>\n",
       "</div>"
      ],
      "text/plain": [
       "                       ts  gate_id  user_word\n",
       "37518 2023-01-03 08:21:00        9       gini\n",
       "37519 2023-01-03 08:21:00        9       gini\n",
       "37520 2023-01-03 08:21:18        5       gini\n",
       "37521 2023-01-03 08:21:19        5       gini\n",
       "37522 2023-01-03 08:21:39       10       gini\n",
       "...                   ...      ...        ...\n",
       "44638 2023-02-24 19:43:36       11  collinear\n",
       "44639 2023-02-24 19:44:00        4  collinear\n",
       "44640 2023-02-24 19:44:01        4  collinear\n",
       "44641 2023-02-24 19:44:09        9  collinear\n",
       "44642 2023-02-24 19:44:09        9  collinear\n",
       "\n",
       "[7125 rows x 3 columns]"
      ]
     },
     "metadata": {},
     "output_type": "display_data"
    },
    {
     "name": "stdout",
     "output_type": "stream",
     "text": [
      "\u001b[1mобщая информация - тестовая выборка:\u001b[0m\n",
      "<class 'pandas.core.frame.DataFrame'>\n",
      "Index: 7125 entries, 37518 to 44642\n",
      "Data columns (total 3 columns):\n",
      " #   Column     Non-Null Count  Dtype         \n",
      "---  ------     --------------  -----         \n",
      " 0   ts         7125 non-null   datetime64[ns]\n",
      " 1   gate_id    7125 non-null   int64         \n",
      " 2   user_word  7125 non-null   object        \n",
      "dtypes: datetime64[ns](1), int64(1), object(1)\n",
      "memory usage: 222.7+ KB\n",
      "\u001b[1mколичество пропусков: 0\u001b[0m\n",
      "\u001b[1mколичество явных дубликатов: 505\u001b[0m\n",
      "\n",
      "\u001b[1mпример решения:\u001b[0m\n"
     ]
    },
    {
     "data": {
      "text/html": [
       "<div>\n",
       "<style scoped>\n",
       "    .dataframe tbody tr th:only-of-type {\n",
       "        vertical-align: middle;\n",
       "    }\n",
       "\n",
       "    .dataframe tbody tr th {\n",
       "        vertical-align: top;\n",
       "    }\n",
       "\n",
       "    .dataframe thead th {\n",
       "        text-align: right;\n",
       "    }\n",
       "</style>\n",
       "<table border=\"1\" class=\"dataframe\">\n",
       "  <thead>\n",
       "    <tr style=\"text-align: right;\">\n",
       "      <th></th>\n",
       "      <th>user_word</th>\n",
       "      <th>preds</th>\n",
       "    </tr>\n",
       "  </thead>\n",
       "  <tbody>\n",
       "    <tr>\n",
       "      <th>0</th>\n",
       "      <td>aucroc</td>\n",
       "      <td>49</td>\n",
       "    </tr>\n",
       "    <tr>\n",
       "      <th>1</th>\n",
       "      <td>binary</td>\n",
       "      <td>12</td>\n",
       "    </tr>\n",
       "    <tr>\n",
       "      <th>2</th>\n",
       "      <td>blue</td>\n",
       "      <td>55</td>\n",
       "    </tr>\n",
       "    <tr>\n",
       "      <th>3</th>\n",
       "      <td>categorical</td>\n",
       "      <td>14</td>\n",
       "    </tr>\n",
       "    <tr>\n",
       "      <th>4</th>\n",
       "      <td>coefficient</td>\n",
       "      <td>15</td>\n",
       "    </tr>\n",
       "    <tr>\n",
       "      <th>5</th>\n",
       "      <td>collinear</td>\n",
       "      <td>12</td>\n",
       "    </tr>\n",
       "    <tr>\n",
       "      <th>6</th>\n",
       "      <td>distributed</td>\n",
       "      <td>12</td>\n",
       "    </tr>\n",
       "    <tr>\n",
       "      <th>7</th>\n",
       "      <td>epsilon</td>\n",
       "      <td>1</td>\n",
       "    </tr>\n",
       "    <tr>\n",
       "      <th>8</th>\n",
       "      <td>f1</td>\n",
       "      <td>37</td>\n",
       "    </tr>\n",
       "    <tr>\n",
       "      <th>9</th>\n",
       "      <td>fit</td>\n",
       "      <td>3</td>\n",
       "    </tr>\n",
       "    <tr>\n",
       "      <th>10</th>\n",
       "      <td>gini</td>\n",
       "      <td>15</td>\n",
       "    </tr>\n",
       "    <tr>\n",
       "      <th>11</th>\n",
       "      <td>independent</td>\n",
       "      <td>-999</td>\n",
       "    </tr>\n",
       "    <tr>\n",
       "      <th>12</th>\n",
       "      <td>lasso</td>\n",
       "      <td>15</td>\n",
       "    </tr>\n",
       "    <tr>\n",
       "      <th>13</th>\n",
       "      <td>linear</td>\n",
       "      <td>3</td>\n",
       "    </tr>\n",
       "    <tr>\n",
       "      <th>14</th>\n",
       "      <td>logistic</td>\n",
       "      <td>12</td>\n",
       "    </tr>\n",
       "    <tr>\n",
       "      <th>15</th>\n",
       "      <td>loss</td>\n",
       "      <td>19</td>\n",
       "    </tr>\n",
       "    <tr>\n",
       "      <th>16</th>\n",
       "      <td>matrix</td>\n",
       "      <td>55</td>\n",
       "    </tr>\n",
       "    <tr>\n",
       "      <th>17</th>\n",
       "      <td>minimization</td>\n",
       "      <td>12</td>\n",
       "    </tr>\n",
       "    <tr>\n",
       "      <th>18</th>\n",
       "      <td>mse</td>\n",
       "      <td>55</td>\n",
       "    </tr>\n",
       "    <tr>\n",
       "      <th>19</th>\n",
       "      <td>ols</td>\n",
       "      <td>37</td>\n",
       "    </tr>\n",
       "    <tr>\n",
       "      <th>20</th>\n",
       "      <td>precision</td>\n",
       "      <td>-999</td>\n",
       "    </tr>\n",
       "    <tr>\n",
       "      <th>21</th>\n",
       "      <td>predict</td>\n",
       "      <td>12</td>\n",
       "    </tr>\n",
       "    <tr>\n",
       "      <th>22</th>\n",
       "      <td>pvalue</td>\n",
       "      <td>32</td>\n",
       "    </tr>\n",
       "    <tr>\n",
       "      <th>23</th>\n",
       "      <td>r2</td>\n",
       "      <td>12</td>\n",
       "    </tr>\n",
       "    <tr>\n",
       "      <th>24</th>\n",
       "      <td>recall</td>\n",
       "      <td>3</td>\n",
       "    </tr>\n",
       "    <tr>\n",
       "      <th>25</th>\n",
       "      <td>regression</td>\n",
       "      <td>55</td>\n",
       "    </tr>\n",
       "    <tr>\n",
       "      <th>26</th>\n",
       "      <td>residual</td>\n",
       "      <td>-999</td>\n",
       "    </tr>\n",
       "    <tr>\n",
       "      <th>27</th>\n",
       "      <td>ridge</td>\n",
       "      <td>12</td>\n",
       "    </tr>\n",
       "    <tr>\n",
       "      <th>28</th>\n",
       "      <td>sigmoid</td>\n",
       "      <td>55</td>\n",
       "    </tr>\n",
       "    <tr>\n",
       "      <th>29</th>\n",
       "      <td>significant</td>\n",
       "      <td>55</td>\n",
       "    </tr>\n",
       "    <tr>\n",
       "      <th>30</th>\n",
       "      <td>target</td>\n",
       "      <td>55</td>\n",
       "    </tr>\n",
       "    <tr>\n",
       "      <th>31</th>\n",
       "      <td>tstat</td>\n",
       "      <td>55</td>\n",
       "    </tr>\n",
       "    <tr>\n",
       "      <th>32</th>\n",
       "      <td>x</td>\n",
       "      <td>19</td>\n",
       "    </tr>\n",
       "    <tr>\n",
       "      <th>33</th>\n",
       "      <td>y</td>\n",
       "      <td>17</td>\n",
       "    </tr>\n",
       "  </tbody>\n",
       "</table>\n",
       "</div>"
      ],
      "text/plain": [
       "       user_word  preds\n",
       "0         aucroc     49\n",
       "1         binary     12\n",
       "2           blue     55\n",
       "3    categorical     14\n",
       "4    coefficient     15\n",
       "5      collinear     12\n",
       "6    distributed     12\n",
       "7        epsilon      1\n",
       "8             f1     37\n",
       "9            fit      3\n",
       "10          gini     15\n",
       "11   independent   -999\n",
       "12         lasso     15\n",
       "13        linear      3\n",
       "14      logistic     12\n",
       "15          loss     19\n",
       "16        matrix     55\n",
       "17  minimization     12\n",
       "18           mse     55\n",
       "19           ols     37\n",
       "20     precision   -999\n",
       "21       predict     12\n",
       "22        pvalue     32\n",
       "23            r2     12\n",
       "24        recall      3\n",
       "25    regression     55\n",
       "26      residual   -999\n",
       "27         ridge     12\n",
       "28       sigmoid     55\n",
       "29   significant     55\n",
       "30        target     55\n",
       "31         tstat     55\n",
       "32             x     19\n",
       "33             y     17"
      ]
     },
     "metadata": {},
     "output_type": "display_data"
    },
    {
     "name": "stdout",
     "output_type": "stream",
     "text": [
      "\u001b[1mобщая информация - пример решения:\u001b[0m\n",
      "<class 'pandas.core.frame.DataFrame'>\n",
      "RangeIndex: 34 entries, 0 to 33\n",
      "Data columns (total 2 columns):\n",
      " #   Column     Non-Null Count  Dtype \n",
      "---  ------     --------------  ----- \n",
      " 0   user_word  34 non-null     object\n",
      " 1   preds      34 non-null     int64 \n",
      "dtypes: int64(1), object(1)\n",
      "memory usage: 672.0+ bytes\n",
      "\u001b[1mколичество пропусков: 0\u001b[0m\n",
      "\u001b[1mколичество явных дубликатов: 0\u001b[0m\n",
      "\n"
     ]
    }
   ],
   "source": [
    "for name, df in zip(['тренировочная выборка', 'тестовая выборка', 'пример решения'], [df_train, df_test, ex_submit]):\n",
    "    print(f'\\033[1m{name}:\\033[0m')\n",
    "    display(df)\n",
    "    print(f'\\033[1mобщая информация - {name}:\\033[0m')\n",
    "    df.info()\n",
    "    print(f'\\033[1mколичество пропусков: {df.isna().sum().sum()}\\033[0m')\n",
    "    print(f'\\033[1mколичество явных дубликатов: {df.duplicated().sum()}\\033[0m')\n",
    "    print()"
   ]
  },
  {
   "cell_type": "markdown",
   "metadata": {},
   "source": [
    "Пропусков в данных не обнаружено.\n",
    "\n",
    "В тренировочной и тестовой выборке есть явные дубликаты, удалим их."
   ]
  },
  {
   "cell_type": "code",
   "execution_count": 6,
   "metadata": {},
   "outputs": [],
   "source": [
    "df_train = df_train.drop_duplicates().reset_index(drop=True)\n",
    "df_test = df_test.drop_duplicates().reset_index(drop=True)"
   ]
  },
  {
   "cell_type": "code",
   "execution_count": 7,
   "metadata": {},
   "outputs": [
    {
     "data": {
      "text/plain": [
       "(35172, 3)"
      ]
     },
     "execution_count": 7,
     "metadata": {},
     "output_type": "execute_result"
    }
   ],
   "source": [
    "df_train.shape"
   ]
  },
  {
   "cell_type": "code",
   "execution_count": 8,
   "metadata": {},
   "outputs": [
    {
     "data": {
      "text/plain": [
       "(6620, 3)"
      ]
     },
     "execution_count": 8,
     "metadata": {},
     "output_type": "execute_result"
    }
   ],
   "source": [
    "df_test.shape"
   ]
  },
  {
   "cell_type": "code",
   "execution_count": 9,
   "metadata": {},
   "outputs": [
    {
     "data": {
      "text/html": [
       "<div>\n",
       "<style scoped>\n",
       "    .dataframe tbody tr th:only-of-type {\n",
       "        vertical-align: middle;\n",
       "    }\n",
       "\n",
       "    .dataframe tbody tr th {\n",
       "        vertical-align: top;\n",
       "    }\n",
       "\n",
       "    .dataframe thead th {\n",
       "        text-align: right;\n",
       "    }\n",
       "</style>\n",
       "<table border=\"1\" class=\"dataframe\">\n",
       "  <thead>\n",
       "    <tr style=\"text-align: right;\">\n",
       "      <th></th>\n",
       "      <th>ts</th>\n",
       "    </tr>\n",
       "  </thead>\n",
       "  <tbody>\n",
       "    <tr>\n",
       "      <th>min</th>\n",
       "      <td>2022-07-29 09:08:54</td>\n",
       "    </tr>\n",
       "    <tr>\n",
       "      <th>max</th>\n",
       "      <td>2022-12-31 20:39:31</td>\n",
       "    </tr>\n",
       "  </tbody>\n",
       "</table>\n",
       "</div>"
      ],
      "text/plain": [
       "                     ts\n",
       "min 2022-07-29 09:08:54\n",
       "max 2022-12-31 20:39:31"
      ]
     },
     "execution_count": 9,
     "metadata": {},
     "output_type": "execute_result"
    }
   ],
   "source": [
    "df_train.ts.agg([min, max]).to_frame()"
   ]
  },
  {
   "cell_type": "code",
   "execution_count": 10,
   "metadata": {},
   "outputs": [
    {
     "data": {
      "text/html": [
       "<div>\n",
       "<style scoped>\n",
       "    .dataframe tbody tr th:only-of-type {\n",
       "        vertical-align: middle;\n",
       "    }\n",
       "\n",
       "    .dataframe tbody tr th {\n",
       "        vertical-align: top;\n",
       "    }\n",
       "\n",
       "    .dataframe thead th {\n",
       "        text-align: right;\n",
       "    }\n",
       "</style>\n",
       "<table border=\"1\" class=\"dataframe\">\n",
       "  <thead>\n",
       "    <tr style=\"text-align: right;\">\n",
       "      <th></th>\n",
       "      <th>ts</th>\n",
       "    </tr>\n",
       "  </thead>\n",
       "  <tbody>\n",
       "    <tr>\n",
       "      <th>min</th>\n",
       "      <td>2023-01-03 08:21:00</td>\n",
       "    </tr>\n",
       "    <tr>\n",
       "      <th>max</th>\n",
       "      <td>2023-02-24 19:44:09</td>\n",
       "    </tr>\n",
       "  </tbody>\n",
       "</table>\n",
       "</div>"
      ],
      "text/plain": [
       "                     ts\n",
       "min 2023-01-03 08:21:00\n",
       "max 2023-02-24 19:44:09"
      ]
     },
     "execution_count": 10,
     "metadata": {},
     "output_type": "execute_result"
    }
   ],
   "source": [
    "df_test.ts.agg([min, max]).to_frame()"
   ]
  },
  {
   "cell_type": "code",
   "execution_count": 11,
   "metadata": {},
   "outputs": [
    {
     "data": {
      "text/plain": [
       "7"
      ]
     },
     "execution_count": 11,
     "metadata": {},
     "output_type": "execute_result"
    }
   ],
   "source": [
    "(df_test.ts.max() - df_train.ts.min()).days // 30"
   ]
  },
  {
   "cell_type": "markdown",
   "metadata": {},
   "source": [
    "Предоставлены данные за 7 месяцев - с июля 2022 по фефраль 2023. Номер месяца в качестве признака не подойдет."
   ]
  },
  {
   "cell_type": "markdown",
   "metadata": {},
   "source": [
    "ID сотрудников"
   ]
  },
  {
   "cell_type": "code",
   "execution_count": 12,
   "metadata": {},
   "outputs": [
    {
     "name": "stdout",
     "output_type": "stream",
     "text": [
      "0, 1, 2, 3, 4, 5, 6, 7, 8, 9, 10, 11, 12, 14, 15, 17, 18, 19, 20, 21, 22, 23, 24, 25, 26, 27, 28, 29, 30, 31, 32, 33, 34, 35, 36, 37, 38, 39, 40, 41, 42, 43, 44, 45, 46, 47, 48, 49, 50, 51, 52, 53, 54, 55, 56, 57\n",
      "Количество сотрудников в train: 56\n"
     ]
    }
   ],
   "source": [
    "# id сотрудников в train\n",
    "print(*sorted(df_train.user_id.unique()), sep=', ')\n",
    "print(f'Количество сотрудников в train: {len(df_train.user_id.unique())}')"
   ]
  },
  {
   "cell_type": "code",
   "execution_count": 13,
   "metadata": {},
   "outputs": [
    {
     "data": {
      "text/plain": [
       "{13, 16}"
      ]
     },
     "execution_count": 13,
     "metadata": {},
     "output_type": "execute_result"
    }
   ],
   "source": [
    "# отсутствующие id\n",
    "set(range(0, 58)) - set(df_train.user_id.unique())"
   ]
  },
  {
   "cell_type": "code",
   "execution_count": 14,
   "metadata": {},
   "outputs": [],
   "source": [
    "# активность сотрудников в train\n",
    "count_user_id = df_train.user_id.value_counts(ascending=True).to_frame()"
   ]
  },
  {
   "cell_type": "code",
   "execution_count": 15,
   "metadata": {},
   "outputs": [
    {
     "data": {
      "text/html": [
       "<div>\n",
       "<style scoped>\n",
       "    .dataframe tbody tr th:only-of-type {\n",
       "        vertical-align: middle;\n",
       "    }\n",
       "\n",
       "    .dataframe tbody tr th {\n",
       "        vertical-align: top;\n",
       "    }\n",
       "\n",
       "    .dataframe thead th {\n",
       "        text-align: right;\n",
       "    }\n",
       "</style>\n",
       "<table border=\"1\" class=\"dataframe\">\n",
       "  <thead>\n",
       "    <tr style=\"text-align: right;\">\n",
       "      <th>user_id</th>\n",
       "      <th>4</th>\n",
       "      <th>51</th>\n",
       "      <th>44</th>\n",
       "      <th>21</th>\n",
       "      <th>52</th>\n",
       "      <th>30</th>\n",
       "      <th>5</th>\n",
       "      <th>38</th>\n",
       "      <th>10</th>\n",
       "      <th>8</th>\n",
       "      <th>2</th>\n",
       "      <th>36</th>\n",
       "      <th>7</th>\n",
       "      <th>45</th>\n",
       "      <th>28</th>\n",
       "      <th>22</th>\n",
       "      <th>41</th>\n",
       "      <th>20</th>\n",
       "      <th>43</th>\n",
       "      <th>56</th>\n",
       "      <th>31</th>\n",
       "      <th>25</th>\n",
       "      <th>40</th>\n",
       "      <th>23</th>\n",
       "      <th>34</th>\n",
       "      <th>26</th>\n",
       "      <th>42</th>\n",
       "      <th>24</th>\n",
       "      <th>46</th>\n",
       "      <th>57</th>\n",
       "      <th>27</th>\n",
       "      <th>35</th>\n",
       "      <th>14</th>\n",
       "      <th>17</th>\n",
       "      <th>48</th>\n",
       "      <th>3</th>\n",
       "      <th>29</th>\n",
       "      <th>50</th>\n",
       "      <th>54</th>\n",
       "      <th>9</th>\n",
       "      <th>32</th>\n",
       "      <th>39</th>\n",
       "      <th>49</th>\n",
       "      <th>1</th>\n",
       "      <th>0</th>\n",
       "      <th>33</th>\n",
       "      <th>47</th>\n",
       "      <th>11</th>\n",
       "      <th>53</th>\n",
       "      <th>18</th>\n",
       "      <th>15</th>\n",
       "      <th>19</th>\n",
       "      <th>12</th>\n",
       "      <th>6</th>\n",
       "      <th>55</th>\n",
       "      <th>37</th>\n",
       "    </tr>\n",
       "  </thead>\n",
       "  <tbody>\n",
       "    <tr>\n",
       "      <th>count</th>\n",
       "      <td>1</td>\n",
       "      <td>2</td>\n",
       "      <td>4</td>\n",
       "      <td>5</td>\n",
       "      <td>5</td>\n",
       "      <td>10</td>\n",
       "      <td>10</td>\n",
       "      <td>13</td>\n",
       "      <td>17</td>\n",
       "      <td>27</td>\n",
       "      <td>39</td>\n",
       "      <td>45</td>\n",
       "      <td>48</td>\n",
       "      <td>57</td>\n",
       "      <td>64</td>\n",
       "      <td>87</td>\n",
       "      <td>110</td>\n",
       "      <td>112</td>\n",
       "      <td>117</td>\n",
       "      <td>129</td>\n",
       "      <td>181</td>\n",
       "      <td>238</td>\n",
       "      <td>242</td>\n",
       "      <td>247</td>\n",
       "      <td>267</td>\n",
       "      <td>279</td>\n",
       "      <td>340</td>\n",
       "      <td>386</td>\n",
       "      <td>475</td>\n",
       "      <td>482</td>\n",
       "      <td>523</td>\n",
       "      <td>549</td>\n",
       "      <td>617</td>\n",
       "      <td>648</td>\n",
       "      <td>712</td>\n",
       "      <td>894</td>\n",
       "      <td>924</td>\n",
       "      <td>965</td>\n",
       "      <td>977</td>\n",
       "      <td>1015</td>\n",
       "      <td>1020</td>\n",
       "      <td>1032</td>\n",
       "      <td>1129</td>\n",
       "      <td>1171</td>\n",
       "      <td>1184</td>\n",
       "      <td>1184</td>\n",
       "      <td>1250</td>\n",
       "      <td>1255</td>\n",
       "      <td>1279</td>\n",
       "      <td>1441</td>\n",
       "      <td>1659</td>\n",
       "      <td>1661</td>\n",
       "      <td>1837</td>\n",
       "      <td>1857</td>\n",
       "      <td>2166</td>\n",
       "      <td>2184</td>\n",
       "    </tr>\n",
       "  </tbody>\n",
       "</table>\n",
       "</div>"
      ],
      "text/plain": [
       "user_id  4   51  44  21  52  30  5   38  10  8   2   36  7   45  28  22   41  \\\n",
       "count     1   2   4   5   5  10  10  13  17  27  39  45  48  57  64  87  110   \n",
       "\n",
       "user_id   20   43   56   31   25   40   23   34   26   42   24   46   57   27  \\\n",
       "count    112  117  129  181  238  242  247  267  279  340  386  475  482  523   \n",
       "\n",
       "user_id   35   14   17   48   3    29   50   54    9     32    39    49    1   \\\n",
       "count    549  617  648  712  894  924  965  977  1015  1020  1032  1129  1171   \n",
       "\n",
       "user_id    0     33    47    11    53    18    15    19    12    6     55  \\\n",
       "count    1184  1184  1250  1255  1279  1441  1659  1661  1837  1857  2166   \n",
       "\n",
       "user_id    37  \n",
       "count    2184  "
      ]
     },
     "execution_count": 15,
     "metadata": {},
     "output_type": "execute_result"
    }
   ],
   "source": [
    "count_user_id.T"
   ]
  },
  {
   "cell_type": "markdown",
   "metadata": {},
   "source": [
    "Удалим неактивных сотрудников, количество проходов через турникеты которых менее 100. Поскольку это слишком маленькие категории для обучения (подбор гиперпараметров модели будет выполняться с помощью кроссвалидации), и, скорее всего, этих сотрудников нет в test."
   ]
  },
  {
   "cell_type": "code",
   "execution_count": 16,
   "metadata": {},
   "outputs": [
    {
     "data": {
      "text/plain": [
       "29"
      ]
     },
     "execution_count": 16,
     "metadata": {},
     "output_type": "execute_result"
    }
   ],
   "source": [
    "len([0, 1, 2, 3, 6, 9, 11, 12, 14, 15, 17, 19, 23, 24, 25, 26, 29, 32, 33, 35, 37, 39, 43, 46, 49, 50, 54, 55, 56])"
   ]
  },
  {
   "cell_type": "code",
   "execution_count": 17,
   "metadata": {},
   "outputs": [],
   "source": [
    "# delete_user_id = [4, 5, 7, 8, 10, 18, 20, 21, 22, 27, 28, 30, 31, 34, 36, 38, 40, 41, 42, 44, 45, 47, 48, 51, 52, 53, 57]"
   ]
  },
  {
   "cell_type": "code",
   "execution_count": 18,
   "metadata": {},
   "outputs": [
    {
     "data": {
      "text/plain": [
       "36"
      ]
     },
     "execution_count": 18,
     "metadata": {},
     "output_type": "execute_result"
    }
   ],
   "source": [
    "27\n",
    "18\n",
    "31\n",
    "48\n",
    "8\n",
    "47\n",
    "36"
   ]
  },
  {
   "cell_type": "code",
   "execution_count": 19,
   "metadata": {},
   "outputs": [],
   "source": [
    "# 8 и 41"
   ]
  },
  {
   "cell_type": "code",
   "execution_count": 20,
   "metadata": {},
   "outputs": [
    {
     "data": {
      "text/plain": [
       "23"
      ]
     },
     "execution_count": 20,
     "metadata": {},
     "output_type": "execute_result"
    }
   ],
   "source": [
    "delete_user_id = [4, 5, 7, 10, 18, 20, 21, 27, 28, 31, 30, 34, 38, 40, 42, 44, 45, 47, 48, 51, 52, 53, 57]\n",
    "len(delete_user_id)"
   ]
  },
  {
   "cell_type": "code",
   "execution_count": 21,
   "metadata": {},
   "outputs": [
    {
     "data": {
      "text/plain": [
       "(28107, 3)"
      ]
     },
     "execution_count": 21,
     "metadata": {},
     "output_type": "execute_result"
    }
   ],
   "source": [
    "df_train = df_train[~df_train['user_id'].isin(delete_user_id)]\n",
    "df_train.shape"
   ]
  },
  {
   "cell_type": "code",
   "execution_count": 22,
   "metadata": {},
   "outputs": [
    {
     "name": "stdout",
     "output_type": "stream",
     "text": [
      "Количество сотрудников в train: 33\n"
     ]
    }
   ],
   "source": [
    "print(f'Количество сотрудников в train: {len(df_train.user_id.unique())}')"
   ]
  },
  {
   "cell_type": "code",
   "execution_count": 23,
   "metadata": {},
   "outputs": [
    {
     "data": {
      "text/html": [
       "<div>\n",
       "<style scoped>\n",
       "    .dataframe tbody tr th:only-of-type {\n",
       "        vertical-align: middle;\n",
       "    }\n",
       "\n",
       "    .dataframe tbody tr th {\n",
       "        vertical-align: top;\n",
       "    }\n",
       "\n",
       "    .dataframe thead th {\n",
       "        text-align: right;\n",
       "    }\n",
       "</style>\n",
       "<table border=\"1\" class=\"dataframe\">\n",
       "  <thead>\n",
       "    <tr style=\"text-align: right;\">\n",
       "      <th>user_id</th>\n",
       "      <th>8</th>\n",
       "      <th>2</th>\n",
       "      <th>36</th>\n",
       "      <th>22</th>\n",
       "      <th>41</th>\n",
       "      <th>43</th>\n",
       "      <th>56</th>\n",
       "      <th>25</th>\n",
       "      <th>23</th>\n",
       "      <th>26</th>\n",
       "      <th>24</th>\n",
       "      <th>46</th>\n",
       "      <th>35</th>\n",
       "      <th>14</th>\n",
       "      <th>17</th>\n",
       "      <th>3</th>\n",
       "      <th>29</th>\n",
       "      <th>50</th>\n",
       "      <th>54</th>\n",
       "      <th>9</th>\n",
       "      <th>32</th>\n",
       "      <th>39</th>\n",
       "      <th>49</th>\n",
       "      <th>1</th>\n",
       "      <th>0</th>\n",
       "      <th>33</th>\n",
       "      <th>11</th>\n",
       "      <th>15</th>\n",
       "      <th>19</th>\n",
       "      <th>12</th>\n",
       "      <th>6</th>\n",
       "      <th>55</th>\n",
       "      <th>37</th>\n",
       "    </tr>\n",
       "  </thead>\n",
       "  <tbody>\n",
       "    <tr>\n",
       "      <th>count</th>\n",
       "      <td>27</td>\n",
       "      <td>39</td>\n",
       "      <td>45</td>\n",
       "      <td>87</td>\n",
       "      <td>110</td>\n",
       "      <td>117</td>\n",
       "      <td>129</td>\n",
       "      <td>238</td>\n",
       "      <td>247</td>\n",
       "      <td>279</td>\n",
       "      <td>386</td>\n",
       "      <td>475</td>\n",
       "      <td>549</td>\n",
       "      <td>617</td>\n",
       "      <td>648</td>\n",
       "      <td>894</td>\n",
       "      <td>924</td>\n",
       "      <td>965</td>\n",
       "      <td>977</td>\n",
       "      <td>1015</td>\n",
       "      <td>1020</td>\n",
       "      <td>1032</td>\n",
       "      <td>1129</td>\n",
       "      <td>1171</td>\n",
       "      <td>1184</td>\n",
       "      <td>1184</td>\n",
       "      <td>1255</td>\n",
       "      <td>1659</td>\n",
       "      <td>1661</td>\n",
       "      <td>1837</td>\n",
       "      <td>1857</td>\n",
       "      <td>2166</td>\n",
       "      <td>2184</td>\n",
       "    </tr>\n",
       "  </tbody>\n",
       "</table>\n",
       "</div>"
      ],
      "text/plain": [
       "user_id  8   2   36  22   41   43   56   25   23   26   24   46   35   14  \\\n",
       "count    27  39  45  87  110  117  129  238  247  279  386  475  549  617   \n",
       "\n",
       "user_id   17   3    29   50   54    9     32    39    49    1     0     33  \\\n",
       "count    648  894  924  965  977  1015  1020  1032  1129  1171  1184  1184   \n",
       "\n",
       "user_id    11    15    19    12    6     55    37  \n",
       "count    1255  1659  1661  1837  1857  2166  2184  "
      ]
     },
     "execution_count": 23,
     "metadata": {},
     "output_type": "execute_result"
    }
   ],
   "source": [
    "df_train.user_id.value_counts(ascending=True).to_frame().T"
   ]
  },
  {
   "cell_type": "code",
   "execution_count": 24,
   "metadata": {},
   "outputs": [
    {
     "name": "stdout",
     "output_type": "stream",
     "text": [
      "Количество сотрудников в test: 34\n"
     ]
    }
   ],
   "source": [
    "print(f'Количество сотрудников в test: {len(df_test.user_word.unique())}')"
   ]
  },
  {
   "cell_type": "code",
   "execution_count": 25,
   "metadata": {},
   "outputs": [
    {
     "data": {
      "text/plain": [
       "3"
      ]
     },
     "execution_count": 25,
     "metadata": {},
     "output_type": "execute_result"
    }
   ],
   "source": [
    "# по условию сказано, что в тестовой выборке может быть не более 10% новых сотрудников\n",
    "int(.1 * len(df_test.user_word.unique()))"
   ]
  },
  {
   "cell_type": "code",
   "execution_count": 26,
   "metadata": {},
   "outputs": [],
   "source": [
    "# активность сотрудников в test\n",
    "count_user_word = df_test.user_word.value_counts(ascending=True).to_frame()"
   ]
  },
  {
   "cell_type": "code",
   "execution_count": 27,
   "metadata": {},
   "outputs": [
    {
     "data": {
      "text/html": [
       "<div>\n",
       "<style scoped>\n",
       "    .dataframe tbody tr th:only-of-type {\n",
       "        vertical-align: middle;\n",
       "    }\n",
       "\n",
       "    .dataframe tbody tr th {\n",
       "        vertical-align: top;\n",
       "    }\n",
       "\n",
       "    .dataframe thead th {\n",
       "        text-align: right;\n",
       "    }\n",
       "</style>\n",
       "<table border=\"1\" class=\"dataframe\">\n",
       "  <thead>\n",
       "    <tr style=\"text-align: right;\">\n",
       "      <th>user_word</th>\n",
       "      <th>logistic</th>\n",
       "      <th>blue</th>\n",
       "      <th>lasso</th>\n",
       "      <th>aucroc</th>\n",
       "      <th>regression</th>\n",
       "      <th>y</th>\n",
       "      <th>precision</th>\n",
       "      <th>coefficient</th>\n",
       "      <th>minimization</th>\n",
       "      <th>mse</th>\n",
       "      <th>target</th>\n",
       "      <th>distributed</th>\n",
       "      <th>ols</th>\n",
       "      <th>tstat</th>\n",
       "      <th>ridge</th>\n",
       "      <th>matrix</th>\n",
       "      <th>pvalue</th>\n",
       "      <th>fit</th>\n",
       "      <th>r2</th>\n",
       "      <th>linear</th>\n",
       "      <th>predict</th>\n",
       "      <th>recall</th>\n",
       "      <th>residual</th>\n",
       "      <th>categorical</th>\n",
       "      <th>gini</th>\n",
       "      <th>significant</th>\n",
       "      <th>independent</th>\n",
       "      <th>collinear</th>\n",
       "      <th>x</th>\n",
       "      <th>epsilon</th>\n",
       "      <th>binary</th>\n",
       "      <th>sigmoid</th>\n",
       "      <th>loss</th>\n",
       "      <th>f1</th>\n",
       "    </tr>\n",
       "  </thead>\n",
       "  <tbody>\n",
       "    <tr>\n",
       "      <th>count</th>\n",
       "      <td>5</td>\n",
       "      <td>12</td>\n",
       "      <td>33</td>\n",
       "      <td>37</td>\n",
       "      <td>50</td>\n",
       "      <td>50</td>\n",
       "      <td>54</td>\n",
       "      <td>56</td>\n",
       "      <td>95</td>\n",
       "      <td>103</td>\n",
       "      <td>111</td>\n",
       "      <td>117</td>\n",
       "      <td>139</td>\n",
       "      <td>139</td>\n",
       "      <td>141</td>\n",
       "      <td>157</td>\n",
       "      <td>181</td>\n",
       "      <td>183</td>\n",
       "      <td>185</td>\n",
       "      <td>199</td>\n",
       "      <td>208</td>\n",
       "      <td>210</td>\n",
       "      <td>224</td>\n",
       "      <td>245</td>\n",
       "      <td>253</td>\n",
       "      <td>277</td>\n",
       "      <td>278</td>\n",
       "      <td>298</td>\n",
       "      <td>298</td>\n",
       "      <td>336</td>\n",
       "      <td>362</td>\n",
       "      <td>432</td>\n",
       "      <td>458</td>\n",
       "      <td>694</td>\n",
       "    </tr>\n",
       "  </tbody>\n",
       "</table>\n",
       "</div>"
      ],
      "text/plain": [
       "user_word  logistic  blue  lasso  aucroc  regression   y  precision  \\\n",
       "count             5    12     33      37          50  50         54   \n",
       "\n",
       "user_word  coefficient  minimization  mse  target  distributed  ols  tstat  \\\n",
       "count               56            95  103     111          117  139    139   \n",
       "\n",
       "user_word  ridge  matrix  pvalue  fit   r2  linear  predict  recall  residual  \\\n",
       "count        141     157     181  183  185     199      208     210       224   \n",
       "\n",
       "user_word  categorical  gini  significant  independent  collinear    x  \\\n",
       "count              245   253          277          278        298  298   \n",
       "\n",
       "user_word  epsilon  binary  sigmoid  loss   f1  \n",
       "count          336     362      432   458  694  "
      ]
     },
     "execution_count": 27,
     "metadata": {},
     "output_type": "execute_result"
    }
   ],
   "source": [
    "count_user_word.T"
   ]
  },
  {
   "cell_type": "markdown",
   "metadata": {},
   "source": [
    "Турникеты"
   ]
  },
  {
   "cell_type": "code",
   "execution_count": 28,
   "metadata": {},
   "outputs": [
    {
     "name": "stdout",
     "output_type": "stream",
     "text": [
      "Количество турникетов в train: 17\n"
     ]
    },
    {
     "data": {
      "text/html": [
       "<div>\n",
       "<style scoped>\n",
       "    .dataframe tbody tr th:only-of-type {\n",
       "        vertical-align: middle;\n",
       "    }\n",
       "\n",
       "    .dataframe tbody tr th {\n",
       "        vertical-align: top;\n",
       "    }\n",
       "\n",
       "    .dataframe thead th {\n",
       "        text-align: right;\n",
       "    }\n",
       "</style>\n",
       "<table border=\"1\" class=\"dataframe\">\n",
       "  <thead>\n",
       "    <tr style=\"text-align: right;\">\n",
       "      <th>gate_id</th>\n",
       "      <th>14</th>\n",
       "      <th>0</th>\n",
       "      <th>16</th>\n",
       "      <th>1</th>\n",
       "      <th>8</th>\n",
       "      <th>-1</th>\n",
       "      <th>15</th>\n",
       "      <th>12</th>\n",
       "      <th>13</th>\n",
       "      <th>6</th>\n",
       "      <th>9</th>\n",
       "      <th>7</th>\n",
       "      <th>11</th>\n",
       "      <th>5</th>\n",
       "      <th>10</th>\n",
       "      <th>3</th>\n",
       "      <th>4</th>\n",
       "    </tr>\n",
       "  </thead>\n",
       "  <tbody>\n",
       "    <tr>\n",
       "      <th>count</th>\n",
       "      <td>1</td>\n",
       "      <td>2</td>\n",
       "      <td>3</td>\n",
       "      <td>5</td>\n",
       "      <td>16</td>\n",
       "      <td>23</td>\n",
       "      <td>298</td>\n",
       "      <td>378</td>\n",
       "      <td>729</td>\n",
       "      <td>1309</td>\n",
       "      <td>1452</td>\n",
       "      <td>2412</td>\n",
       "      <td>3373</td>\n",
       "      <td>3732</td>\n",
       "      <td>3925</td>\n",
       "      <td>4033</td>\n",
       "      <td>6416</td>\n",
       "    </tr>\n",
       "  </tbody>\n",
       "</table>\n",
       "</div>"
      ],
      "text/plain": [
       "gate_id   14   0    16   1    8   -1    15   12   13    6     9     7     11  \\\n",
       "count      1    2    3    5   16   23  298  378  729  1309  1452  2412  3373   \n",
       "\n",
       "gate_id    5     10    3     4   \n",
       "count    3732  3925  4033  6416  "
      ]
     },
     "execution_count": 28,
     "metadata": {},
     "output_type": "execute_result"
    }
   ],
   "source": [
    "print(f'Количество турникетов в train: {len(df_train.gate_id.unique())}')\n",
    "# частота использования турникетов в train\n",
    "count_gate_id_train = df_train.gate_id.value_counts(ascending=True).to_frame()\n",
    "count_gate_id_train.T"
   ]
  },
  {
   "cell_type": "code",
   "execution_count": 29,
   "metadata": {},
   "outputs": [
    {
     "name": "stdout",
     "output_type": "stream",
     "text": [
      "Количество турникетов в test: 16\n"
     ]
    },
    {
     "data": {
      "text/html": [
       "<div>\n",
       "<style scoped>\n",
       "    .dataframe tbody tr th:only-of-type {\n",
       "        vertical-align: middle;\n",
       "    }\n",
       "\n",
       "    .dataframe tbody tr th {\n",
       "        vertical-align: top;\n",
       "    }\n",
       "\n",
       "    .dataframe thead th {\n",
       "        text-align: right;\n",
       "    }\n",
       "</style>\n",
       "<table border=\"1\" class=\"dataframe\">\n",
       "  <thead>\n",
       "    <tr style=\"text-align: right;\">\n",
       "      <th>gate_id</th>\n",
       "      <th>14</th>\n",
       "      <th>-1</th>\n",
       "      <th>1</th>\n",
       "      <th>2</th>\n",
       "      <th>8</th>\n",
       "      <th>15</th>\n",
       "      <th>12</th>\n",
       "      <th>6</th>\n",
       "      <th>13</th>\n",
       "      <th>9</th>\n",
       "      <th>7</th>\n",
       "      <th>11</th>\n",
       "      <th>5</th>\n",
       "      <th>3</th>\n",
       "      <th>10</th>\n",
       "      <th>4</th>\n",
       "    </tr>\n",
       "  </thead>\n",
       "  <tbody>\n",
       "    <tr>\n",
       "      <th>count</th>\n",
       "      <td>1</td>\n",
       "      <td>1</td>\n",
       "      <td>2</td>\n",
       "      <td>4</td>\n",
       "      <td>10</td>\n",
       "      <td>102</td>\n",
       "      <td>120</td>\n",
       "      <td>282</td>\n",
       "      <td>310</td>\n",
       "      <td>394</td>\n",
       "      <td>540</td>\n",
       "      <td>762</td>\n",
       "      <td>853</td>\n",
       "      <td>893</td>\n",
       "      <td>915</td>\n",
       "      <td>1431</td>\n",
       "    </tr>\n",
       "  </tbody>\n",
       "</table>\n",
       "</div>"
      ],
      "text/plain": [
       "gate_id   14  -1    1    2    8    15   12   6    13   9    7    11   5    3   \\\n",
       "count      1    1    2    4   10  102  120  282  310  394  540  762  853  893   \n",
       "\n",
       "gate_id   10    4   \n",
       "count    915  1431  "
      ]
     },
     "execution_count": 29,
     "metadata": {},
     "output_type": "execute_result"
    }
   ],
   "source": [
    "print(f'Количество турникетов в test: {len(df_test.gate_id.unique())}')\n",
    "# частота использования турникетов в test\n",
    "count_gate_id_test = df_test.gate_id.value_counts(ascending=True).to_frame()\n",
    "count_gate_id_test.T"
   ]
  },
  {
   "cell_type": "code",
   "execution_count": 30,
   "metadata": {},
   "outputs": [
    {
     "data": {
      "text/plain": [
       "{0, 16}"
      ]
     },
     "execution_count": 30,
     "metadata": {},
     "output_type": "execute_result"
    }
   ],
   "source": [
    "# id турникетов, которые есть в train, но нет в test\n",
    "set(df_train.gate_id.unique()) - set(df_test.gate_id.unique())"
   ]
  },
  {
   "cell_type": "code",
   "execution_count": 31,
   "metadata": {},
   "outputs": [
    {
     "data": {
      "text/plain": [
       "{2}"
      ]
     },
     "execution_count": 31,
     "metadata": {},
     "output_type": "execute_result"
    }
   ],
   "source": [
    "# id турникетов, которые есть в test, но нет в train\n",
    "set(df_test.gate_id.unique()) - set(df_train.gate_id.unique())"
   ]
  },
  {
   "cell_type": "markdown",
   "metadata": {},
   "source": [
    "Поскольку `gate_id` мы будем использовать в качестве признака, редкие категории (менее 5 записей) нужно удалить."
   ]
  },
  {
   "cell_type": "code",
   "execution_count": 32,
   "metadata": {},
   "outputs": [
    {
     "data": {
      "text/plain": [
       "{-1, 0, 1, 2, 14, 16}"
      ]
     },
     "execution_count": 32,
     "metadata": {},
     "output_type": "execute_result"
    }
   ],
   "source": [
    "delete_gate_id = set(count_gate_id_train.query('count < 5').index) | set(count_gate_id_test.query('count < 5').index)\n",
    "delete_gate_id"
   ]
  },
  {
   "cell_type": "code",
   "execution_count": 33,
   "metadata": {},
   "outputs": [],
   "source": [
    "df_train = df_train.query('gate_id not in @delete_gate_id').reset_index(drop=True)\n",
    "df_test = df_test.query('gate_id not in @delete_gate_id').reset_index(drop=True)"
   ]
  },
  {
   "cell_type": "code",
   "execution_count": 34,
   "metadata": {},
   "outputs": [
    {
     "data": {
      "text/plain": [
       "(6612, 3)"
      ]
     },
     "execution_count": 34,
     "metadata": {},
     "output_type": "execute_result"
    }
   ],
   "source": [
    "df_test.shape"
   ]
  },
  {
   "cell_type": "markdown",
   "metadata": {},
   "source": [
    "# Генерирование признаков"
   ]
  },
  {
   "cell_type": "code",
   "execution_count": 35,
   "metadata": {},
   "outputs": [],
   "source": [
    "def make_features(df):\n",
    "    df = df.loc[:]\n",
    "    # отсортируем датафрейм для удобства генерирования признаков\n",
    "    # потом отсортируем только по дате\n",
    "    df = df.sort_values(['user_id', 'ts']).reset_index(drop=True)\n",
    "    # временные признаки\n",
    "    df['date'] = df.ts.dt.normalize()\n",
    "    df['day_of_month'] = df.ts.dt.day\n",
    "    df['hour'] = df.ts.dt.hour\n",
    "    df['total_minutes'] = df.hour * 60 + df.ts.dt.minute\n",
    "    df['total_seconds'] = df.total_minutes * 60 + df.ts.dt.second\n",
    "    df['week_number'] = df.ts.dt.isocalendar().week             # неделя начинается с пн. Вспомогательный признак\n",
    "    df['day_of_week'] = df.ts.dt.dayofweek                      # 0 = пн.\n",
    "    df['is_weekend'] = df.day_of_week >= 5\n",
    "    df['time_of_day'] = np.select(\n",
    "            condlist=[df['hour'] < 6, df['hour'] < 12, df['hour'] < 18],\n",
    "            choicelist=['night', 'morning', 'afternoon'],\n",
    "            default='evening',\n",
    "    )       # время суток\n",
    "    df['is_month_start'] = df['ts'].dt.is_month_start\n",
    "    df['is_month_end'] = df['ts'].dt.is_month_end\n",
    "\n",
    "    # для удобства расчетов\n",
    "    grouped_data = df.groupby(['user_id', 'date'])\n",
    "    # число проходов сотрудником ч/з турникуты в день\n",
    "    df['pass_cnt_per_day'] = grouped_data['gate_id'].transform('size')\n",
    "    # число проходов через конкретный турникет в конкретный день\n",
    "    df['daily_gate_pass_count'] = df.groupby(['user_id', 'date', 'gate_id'])['gate_id'].transform('size')\n",
    "    # вероятность прохода через конкретный турникет в конкретный день\n",
    "    df['probability_gate_id'] = df['daily_gate_pass_count'] / df['pass_cnt_per_day']\n",
    "    # количество сотрудников, вошедших в конкретный день в здание\n",
    "    df['cnt_users_per_day'] = df.groupby('date')['user_id'].transform('nunique')\n",
    "    # количество сотрудников, вошедших в конкретную неделю в здание\n",
    "    df['cnt_users_per_week'] = df.groupby('week_number')['user_id'].transform('nunique')\n",
    "    # индекс дневной явки сотрудника\n",
    "    df['daily_attendance_index'] = df['cnt_users_per_day'] / df['cnt_users_per_week']\n",
    "    # количество дней в конкретную неделю, в которые сотрудник заходил в здание\n",
    "    df['cnt_days_per_week'] = df.groupby(['user_id', 'week_number'])['date'].transform('nunique')\n",
    "\n",
    "    # время прихода на работу (количество минут от полуночи)\n",
    "    df['entry_time'] = grouped_data['ts'].transform('min')\n",
    "    df['entry_time'] = ((df['entry_time'] - df['date']).dt.total_seconds() // 60).astype('int')\n",
    "    # время ухода с работы (количество минут от полуночи)\n",
    "    df['exit_time'] = grouped_data['ts'].transform('max')\n",
    "    df['exit_time'] = ((df['exit_time'] - df['date']).dt.total_seconds() // 60).astype('int')   # Вспомогательный признак\n",
    "    # продолжительность рабочего времени в минутах\n",
    "    df['working_time_per_day'] = df['exit_time'] - df['entry_time']\n",
    "    # турникет, через который сотрудник зашел в здание в конкретный день\n",
    "    df['entrance_gate_id'] = grouped_data['gate_id'].transform('first')\n",
    "    # турникет, через который сотрудник вышел из здания в конкретный день\n",
    "    df['exit_gate_id'] = grouped_data['gate_id'].transform('last')\n",
    "    # продолжительность рабочего времени за неделю в минутах (working_time_per_week)\n",
    "    df_working_time_per_week = df.groupby(['user_id', 'date'], as_index=False)[['week_number', 'working_time_per_day']].first()\n",
    "    df_working_time_per_week = df_working_time_per_week.groupby(['user_id', 'week_number'], as_index=False)['working_time_per_day'].sum()\n",
    "    df_working_time_per_week = df_working_time_per_week.rename(columns={'working_time_per_day': 'working_time_per_week'})\n",
    "    df = pd.merge(df, df_working_time_per_week, on=['user_id', 'week_number'], how='left')\n",
    "    # индекс дневной нагрузки сотрудника - отношение минут работы за день к минутам работы за неделю\n",
    "    df['daily_workload_index'] = df['working_time_per_day'] / df['working_time_per_week']\n",
    "    # на случай, когда working_time_per_day = 0 и working_time_per_week = 0\n",
    "    df['daily_workload_index'] = df['daily_workload_index'].fillna(0)\n",
    "\n",
    "    for i in range(1, 6):\n",
    "        # 5 предыдущих турникетов\n",
    "        df[f'gate_id_lag_{i}'] = grouped_data['gate_id'].shift(i, fill_value=-100)\n",
    "        # 5 последующих турникетов\n",
    "        df[f'gate_id_{i}'] = grouped_data['gate_id'].shift(-i, fill_value=-200)\n",
    "        # разница в секундах между текущей записью и пятью предыдущими\n",
    "        df[f'sec_btw_lag_{i}'] = df['total_seconds'] - grouped_data['total_seconds'].shift(i)\n",
    "        df[f'sec_btw_lag_{i}'] = df[f'sec_btw_lag_{i}'].fillna(-1000).astype('int')\n",
    "        # разница в секундах между текущей записью и пятью следующими\n",
    "        df[f'sec_btw_{i}'] = df['total_seconds'] - grouped_data['total_seconds'].shift(-i)\n",
    "        df[f'sec_btw_{i}'] = df[f'sec_btw_{i}'].fillna(1000).astype('int')\n",
    "\n",
    "    # метка gate_id, совпадающего с предыдущим, промежуток между срабатываниями равен 1 секунде\n",
    "    df['repeat_gate_1s'] = df['gate_id'].eq(df['gate_id_lag_1']) & df['sec_btw_lag_1'].eq(1)\n",
    "    # -//- 2 секундам\n",
    "    df['repeat_gate_2s'] = df['gate_id'].eq(df['gate_id_lag_1']) & df['sec_btw_lag_1'].eq(2)\n",
    "    # -//- 3 секундам\n",
    "    df['repeat_gate_3s'] = df['gate_id'].eq(df['gate_id_lag_1']) & df['sec_btw_lag_1'].eq(3)\n",
    "    # -//- 4 секундам\n",
    "    df['repeat_gate_4s'] = df['gate_id'].eq(df['gate_id_lag_1']) & df['sec_btw_lag_1'].eq(4)\n",
    "    # -//- от 5 секунд\n",
    "    df['repeat_gate_ge_5s'] = df['gate_id'].eq(df['gate_id_lag_1']) & df['sec_btw_lag_1'].ge(5)\n",
    "    # для удобства расчетов\n",
    "    grouped_data = df.groupby(['user_id', 'date'])\n",
    "    # количество повторных срабатываний турникетов для user_id в конкретный день, промежуток между срабатываниями равен 1 секунде\n",
    "    df['cnt_repeat_gate_1s'] = grouped_data['repeat_gate_1s'].transform('sum')\n",
    "    # -//- 2 секундам\n",
    "    df['cnt_repeat_gate_2s'] = grouped_data['repeat_gate_2s'].transform('sum')\n",
    "    # -//- 2 секундам\n",
    "    df['cnt_repeat_gate_3s'] = grouped_data['repeat_gate_3s'].transform('sum')\n",
    "    # -//- 2 секундам\n",
    "    df['cnt_repeat_gate_4s'] = grouped_data['repeat_gate_4s'].transform('sum')\n",
    "    # -//- от 5 секунд\n",
    "    df['cnt_repeat_gate_ge_5s'] = grouped_data['repeat_gate_ge_5s'].transform('sum')\n",
    "\n",
    "    # маршрут – содержит информацию о соседних турникетах, через которые прошел сотрудник (направление не учитывается)\n",
    "    df['route'] = df.apply(lambda row: str(sorted([row['gate_id_lag_1'], row['gate_id']])), axis=1)\n",
    "    # если сотрудник пришел с улицы\n",
    "    df.loc[df['route'].str.contains('-100'), 'route'] = 'not_route'\n",
    "\n",
    "    # вспомогательный признак\n",
    "    df['temp_sec_btw_lag_1'] = df['sec_btw_lag_1']\n",
    "    # если сотрудник пришел с улицы\n",
    "    df.loc[df['temp_sec_btw_lag_1'] < 0, 'temp_sec_btw_lag_1'] = 0\n",
    "    # накопленное время нахождения в здании к моменту прохода через турникет в течение дня\n",
    "    df['cumtime_per_day'] = df.groupby(['user_id', 'date'])['temp_sec_btw_lag_1'].cumsum()\n",
    "    # накопленное время нахождения на конкретном маршруте в течение дня\n",
    "    df['cumtime_at_route_per_day'] = df.groupby(['user_id', 'date', 'route'])['temp_sec_btw_lag_1'].cumsum()\n",
    "\n",
    "    # самый часто используемый турникет за день\n",
    "    df['most_frequent_gate_per_day'] = df.groupby(['user_id', 'date'])['gate_id'].transform(lambda x: x.value_counts().idxmax())\n",
    "    # самый часто используемый турникет за неделю\n",
    "    df['most_frequent_gate_per_week'] = df.groupby(['user_id', 'week_number'])['gate_id'].transform(lambda x: x.value_counts().idxmax())\n",
    "    # самый часто используемый маршрут за день\n",
    "    df['most_frequent_route_per_day'] = df.groupby(['user_id', 'date'])['route'].transform(lambda x: x.value_counts().idxmax())\n",
    "    # самый часто используемый маршрут за неделю\n",
    "    df['most_frequent_route_per_week'] = df.groupby(['user_id', 'week_number'])['route'].transform(lambda x: x.value_counts().idxmax())\n",
    "\n",
    "    # среднее время, затраченное на маршрут в течение недели\n",
    "    df['weekly_route_avg_time'] = df.groupby(['user_id', 'week_number', 'route'])['temp_sec_btw_lag_1'].transform('mean')\n",
    "    # среднее время, затраченное на маршрут\n",
    "    df['route_avg_time'] = df.groupby(['user_id', 'route'])['temp_sec_btw_lag_1'].transform('mean')\n",
    "\n",
    "    return df"
   ]
  },
  {
   "cell_type": "code",
   "execution_count": 36,
   "metadata": {},
   "outputs": [
    {
     "data": {
      "text/html": [
       "<div>\n",
       "<style scoped>\n",
       "    .dataframe tbody tr th:only-of-type {\n",
       "        vertical-align: middle;\n",
       "    }\n",
       "\n",
       "    .dataframe tbody tr th {\n",
       "        vertical-align: top;\n",
       "    }\n",
       "\n",
       "    .dataframe thead th {\n",
       "        text-align: right;\n",
       "    }\n",
       "</style>\n",
       "<table border=\"1\" class=\"dataframe\">\n",
       "  <thead>\n",
       "    <tr style=\"text-align: right;\">\n",
       "      <th></th>\n",
       "      <th>user_id</th>\n",
       "      <th>ts</th>\n",
       "      <th>gate_id</th>\n",
       "      <th>date</th>\n",
       "      <th>day_of_month</th>\n",
       "      <th>hour</th>\n",
       "      <th>total_minutes</th>\n",
       "      <th>total_seconds</th>\n",
       "      <th>week_number</th>\n",
       "      <th>day_of_week</th>\n",
       "      <th>is_weekend</th>\n",
       "      <th>time_of_day</th>\n",
       "      <th>is_month_start</th>\n",
       "      <th>is_month_end</th>\n",
       "      <th>pass_cnt_per_day</th>\n",
       "      <th>daily_gate_pass_count</th>\n",
       "      <th>probability_gate_id</th>\n",
       "      <th>cnt_users_per_day</th>\n",
       "      <th>cnt_users_per_week</th>\n",
       "      <th>daily_attendance_index</th>\n",
       "      <th>cnt_days_per_week</th>\n",
       "      <th>entry_time</th>\n",
       "      <th>exit_time</th>\n",
       "      <th>working_time_per_day</th>\n",
       "      <th>entrance_gate_id</th>\n",
       "      <th>exit_gate_id</th>\n",
       "      <th>working_time_per_week</th>\n",
       "      <th>daily_workload_index</th>\n",
       "      <th>gate_id_lag_1</th>\n",
       "      <th>gate_id_1</th>\n",
       "      <th>sec_btw_lag_1</th>\n",
       "      <th>sec_btw_1</th>\n",
       "      <th>gate_id_lag_2</th>\n",
       "      <th>gate_id_2</th>\n",
       "      <th>sec_btw_lag_2</th>\n",
       "      <th>sec_btw_2</th>\n",
       "      <th>gate_id_lag_3</th>\n",
       "      <th>gate_id_3</th>\n",
       "      <th>sec_btw_lag_3</th>\n",
       "      <th>sec_btw_3</th>\n",
       "      <th>gate_id_lag_4</th>\n",
       "      <th>gate_id_4</th>\n",
       "      <th>sec_btw_lag_4</th>\n",
       "      <th>sec_btw_4</th>\n",
       "      <th>gate_id_lag_5</th>\n",
       "      <th>gate_id_5</th>\n",
       "      <th>sec_btw_lag_5</th>\n",
       "      <th>sec_btw_5</th>\n",
       "      <th>repeat_gate_1s</th>\n",
       "      <th>repeat_gate_2s</th>\n",
       "      <th>repeat_gate_3s</th>\n",
       "      <th>repeat_gate_4s</th>\n",
       "      <th>repeat_gate_ge_5s</th>\n",
       "      <th>cnt_repeat_gate_1s</th>\n",
       "      <th>cnt_repeat_gate_2s</th>\n",
       "      <th>cnt_repeat_gate_3s</th>\n",
       "      <th>cnt_repeat_gate_4s</th>\n",
       "      <th>cnt_repeat_gate_ge_5s</th>\n",
       "      <th>route</th>\n",
       "      <th>temp_sec_btw_lag_1</th>\n",
       "      <th>cumtime_per_day</th>\n",
       "      <th>cumtime_at_route_per_day</th>\n",
       "      <th>most_frequent_gate_per_day</th>\n",
       "      <th>most_frequent_gate_per_week</th>\n",
       "      <th>most_frequent_route_per_day</th>\n",
       "      <th>most_frequent_route_per_week</th>\n",
       "      <th>weekly_route_avg_time</th>\n",
       "      <th>route_avg_time</th>\n",
       "    </tr>\n",
       "  </thead>\n",
       "  <tbody>\n",
       "    <tr>\n",
       "      <th>0</th>\n",
       "      <td>0</td>\n",
       "      <td>2022-07-29 10:30:17</td>\n",
       "      <td>3</td>\n",
       "      <td>2022-07-29</td>\n",
       "      <td>29</td>\n",
       "      <td>10</td>\n",
       "      <td>630</td>\n",
       "      <td>37817</td>\n",
       "      <td>30</td>\n",
       "      <td>4</td>\n",
       "      <td>False</td>\n",
       "      <td>morning</td>\n",
       "      <td>False</td>\n",
       "      <td>False</td>\n",
       "      <td>12</td>\n",
       "      <td>4</td>\n",
       "      <td>0.33</td>\n",
       "      <td>17</td>\n",
       "      <td>17</td>\n",
       "      <td>1.00</td>\n",
       "      <td>1</td>\n",
       "      <td>630</td>\n",
       "      <td>1126</td>\n",
       "      <td>496</td>\n",
       "      <td>3</td>\n",
       "      <td>4</td>\n",
       "      <td>496</td>\n",
       "      <td>1.00</td>\n",
       "      <td>-100</td>\n",
       "      <td>3</td>\n",
       "      <td>-1000</td>\n",
       "      <td>-1</td>\n",
       "      <td>-100</td>\n",
       "      <td>11</td>\n",
       "      <td>-1000</td>\n",
       "      <td>-10144</td>\n",
       "      <td>-100</td>\n",
       "      <td>6</td>\n",
       "      <td>-1000</td>\n",
       "      <td>-10171</td>\n",
       "      <td>-100</td>\n",
       "      <td>6</td>\n",
       "      <td>-1000</td>\n",
       "      <td>-10172</td>\n",
       "      <td>-100</td>\n",
       "      <td>7</td>\n",
       "      <td>-1000</td>\n",
       "      <td>-13798</td>\n",
       "      <td>False</td>\n",
       "      <td>False</td>\n",
       "      <td>False</td>\n",
       "      <td>False</td>\n",
       "      <td>False</td>\n",
       "      <td>2</td>\n",
       "      <td>2</td>\n",
       "      <td>0</td>\n",
       "      <td>0</td>\n",
       "      <td>0</td>\n",
       "      <td>not_route</td>\n",
       "      <td>0</td>\n",
       "      <td>0</td>\n",
       "      <td>0</td>\n",
       "      <td>3</td>\n",
       "      <td>3</td>\n",
       "      <td>[3, 3]</td>\n",
       "      <td>[3, 3]</td>\n",
       "      <td>0.00</td>\n",
       "      <td>0.00</td>\n",
       "    </tr>\n",
       "    <tr>\n",
       "      <th>1</th>\n",
       "      <td>0</td>\n",
       "      <td>2022-07-29 10:30:18</td>\n",
       "      <td>3</td>\n",
       "      <td>2022-07-29</td>\n",
       "      <td>29</td>\n",
       "      <td>10</td>\n",
       "      <td>630</td>\n",
       "      <td>37818</td>\n",
       "      <td>30</td>\n",
       "      <td>4</td>\n",
       "      <td>False</td>\n",
       "      <td>morning</td>\n",
       "      <td>False</td>\n",
       "      <td>False</td>\n",
       "      <td>12</td>\n",
       "      <td>4</td>\n",
       "      <td>0.33</td>\n",
       "      <td>17</td>\n",
       "      <td>17</td>\n",
       "      <td>1.00</td>\n",
       "      <td>1</td>\n",
       "      <td>630</td>\n",
       "      <td>1126</td>\n",
       "      <td>496</td>\n",
       "      <td>3</td>\n",
       "      <td>4</td>\n",
       "      <td>496</td>\n",
       "      <td>1.00</td>\n",
       "      <td>3</td>\n",
       "      <td>11</td>\n",
       "      <td>1</td>\n",
       "      <td>-10143</td>\n",
       "      <td>-100</td>\n",
       "      <td>6</td>\n",
       "      <td>-1000</td>\n",
       "      <td>-10170</td>\n",
       "      <td>-100</td>\n",
       "      <td>6</td>\n",
       "      <td>-1000</td>\n",
       "      <td>-10171</td>\n",
       "      <td>-100</td>\n",
       "      <td>7</td>\n",
       "      <td>-1000</td>\n",
       "      <td>-13797</td>\n",
       "      <td>-100</td>\n",
       "      <td>3</td>\n",
       "      <td>-1000</td>\n",
       "      <td>-13868</td>\n",
       "      <td>True</td>\n",
       "      <td>False</td>\n",
       "      <td>False</td>\n",
       "      <td>False</td>\n",
       "      <td>False</td>\n",
       "      <td>2</td>\n",
       "      <td>2</td>\n",
       "      <td>0</td>\n",
       "      <td>0</td>\n",
       "      <td>0</td>\n",
       "      <td>[3, 3]</td>\n",
       "      <td>1</td>\n",
       "      <td>1</td>\n",
       "      <td>1</td>\n",
       "      <td>3</td>\n",
       "      <td>3</td>\n",
       "      <td>[3, 3]</td>\n",
       "      <td>[3, 3]</td>\n",
       "      <td>1.50</td>\n",
       "      <td>1.92</td>\n",
       "    </tr>\n",
       "    <tr>\n",
       "      <th>2</th>\n",
       "      <td>0</td>\n",
       "      <td>2022-07-29 13:19:21</td>\n",
       "      <td>11</td>\n",
       "      <td>2022-07-29</td>\n",
       "      <td>29</td>\n",
       "      <td>13</td>\n",
       "      <td>799</td>\n",
       "      <td>47961</td>\n",
       "      <td>30</td>\n",
       "      <td>4</td>\n",
       "      <td>False</td>\n",
       "      <td>afternoon</td>\n",
       "      <td>False</td>\n",
       "      <td>False</td>\n",
       "      <td>12</td>\n",
       "      <td>2</td>\n",
       "      <td>0.17</td>\n",
       "      <td>17</td>\n",
       "      <td>17</td>\n",
       "      <td>1.00</td>\n",
       "      <td>1</td>\n",
       "      <td>630</td>\n",
       "      <td>1126</td>\n",
       "      <td>496</td>\n",
       "      <td>3</td>\n",
       "      <td>4</td>\n",
       "      <td>496</td>\n",
       "      <td>1.00</td>\n",
       "      <td>3</td>\n",
       "      <td>6</td>\n",
       "      <td>10143</td>\n",
       "      <td>-27</td>\n",
       "      <td>3</td>\n",
       "      <td>6</td>\n",
       "      <td>10144</td>\n",
       "      <td>-28</td>\n",
       "      <td>-100</td>\n",
       "      <td>7</td>\n",
       "      <td>-1000</td>\n",
       "      <td>-3654</td>\n",
       "      <td>-100</td>\n",
       "      <td>3</td>\n",
       "      <td>-1000</td>\n",
       "      <td>-3725</td>\n",
       "      <td>-100</td>\n",
       "      <td>3</td>\n",
       "      <td>-1000</td>\n",
       "      <td>-3727</td>\n",
       "      <td>False</td>\n",
       "      <td>False</td>\n",
       "      <td>False</td>\n",
       "      <td>False</td>\n",
       "      <td>False</td>\n",
       "      <td>2</td>\n",
       "      <td>2</td>\n",
       "      <td>0</td>\n",
       "      <td>0</td>\n",
       "      <td>0</td>\n",
       "      <td>[3, 11]</td>\n",
       "      <td>10143</td>\n",
       "      <td>10144</td>\n",
       "      <td>10143</td>\n",
       "      <td>3</td>\n",
       "      <td>3</td>\n",
       "      <td>[3, 3]</td>\n",
       "      <td>[3, 3]</td>\n",
       "      <td>10,143.00</td>\n",
       "      <td>12,404.29</td>\n",
       "    </tr>\n",
       "  </tbody>\n",
       "</table>\n",
       "</div>"
      ],
      "text/plain": [
       "   user_id                  ts  gate_id       date  day_of_month  hour  \\\n",
       "0        0 2022-07-29 10:30:17        3 2022-07-29            29    10   \n",
       "1        0 2022-07-29 10:30:18        3 2022-07-29            29    10   \n",
       "2        0 2022-07-29 13:19:21       11 2022-07-29            29    13   \n",
       "\n",
       "   total_minutes  total_seconds  week_number  day_of_week  is_weekend  \\\n",
       "0            630          37817           30            4       False   \n",
       "1            630          37818           30            4       False   \n",
       "2            799          47961           30            4       False   \n",
       "\n",
       "  time_of_day  is_month_start  is_month_end  pass_cnt_per_day  \\\n",
       "0     morning           False         False                12   \n",
       "1     morning           False         False                12   \n",
       "2   afternoon           False         False                12   \n",
       "\n",
       "   daily_gate_pass_count  probability_gate_id  cnt_users_per_day  \\\n",
       "0                      4                 0.33                 17   \n",
       "1                      4                 0.33                 17   \n",
       "2                      2                 0.17                 17   \n",
       "\n",
       "   cnt_users_per_week  daily_attendance_index  cnt_days_per_week  entry_time  \\\n",
       "0                  17                    1.00                  1         630   \n",
       "1                  17                    1.00                  1         630   \n",
       "2                  17                    1.00                  1         630   \n",
       "\n",
       "   exit_time  working_time_per_day  entrance_gate_id  exit_gate_id  \\\n",
       "0       1126                   496                 3             4   \n",
       "1       1126                   496                 3             4   \n",
       "2       1126                   496                 3             4   \n",
       "\n",
       "   working_time_per_week  daily_workload_index  gate_id_lag_1  gate_id_1  \\\n",
       "0                    496                  1.00           -100          3   \n",
       "1                    496                  1.00              3         11   \n",
       "2                    496                  1.00              3          6   \n",
       "\n",
       "   sec_btw_lag_1  sec_btw_1  gate_id_lag_2  gate_id_2  sec_btw_lag_2  \\\n",
       "0          -1000         -1           -100         11          -1000   \n",
       "1              1     -10143           -100          6          -1000   \n",
       "2          10143        -27              3          6          10144   \n",
       "\n",
       "   sec_btw_2  gate_id_lag_3  gate_id_3  sec_btw_lag_3  sec_btw_3  \\\n",
       "0     -10144           -100          6          -1000     -10171   \n",
       "1     -10170           -100          6          -1000     -10171   \n",
       "2        -28           -100          7          -1000      -3654   \n",
       "\n",
       "   gate_id_lag_4  gate_id_4  sec_btw_lag_4  sec_btw_4  gate_id_lag_5  \\\n",
       "0           -100          6          -1000     -10172           -100   \n",
       "1           -100          7          -1000     -13797           -100   \n",
       "2           -100          3          -1000      -3725           -100   \n",
       "\n",
       "   gate_id_5  sec_btw_lag_5  sec_btw_5  repeat_gate_1s  repeat_gate_2s  \\\n",
       "0          7          -1000     -13798           False           False   \n",
       "1          3          -1000     -13868            True           False   \n",
       "2          3          -1000      -3727           False           False   \n",
       "\n",
       "   repeat_gate_3s  repeat_gate_4s  repeat_gate_ge_5s  cnt_repeat_gate_1s  \\\n",
       "0           False           False              False                   2   \n",
       "1           False           False              False                   2   \n",
       "2           False           False              False                   2   \n",
       "\n",
       "   cnt_repeat_gate_2s  cnt_repeat_gate_3s  cnt_repeat_gate_4s  \\\n",
       "0                   2                   0                   0   \n",
       "1                   2                   0                   0   \n",
       "2                   2                   0                   0   \n",
       "\n",
       "   cnt_repeat_gate_ge_5s      route  temp_sec_btw_lag_1  cumtime_per_day  \\\n",
       "0                      0  not_route                   0                0   \n",
       "1                      0     [3, 3]                   1                1   \n",
       "2                      0    [3, 11]               10143            10144   \n",
       "\n",
       "   cumtime_at_route_per_day  most_frequent_gate_per_day  \\\n",
       "0                         0                           3   \n",
       "1                         1                           3   \n",
       "2                     10143                           3   \n",
       "\n",
       "   most_frequent_gate_per_week most_frequent_route_per_day  \\\n",
       "0                            3                      [3, 3]   \n",
       "1                            3                      [3, 3]   \n",
       "2                            3                      [3, 3]   \n",
       "\n",
       "  most_frequent_route_per_week  weekly_route_avg_time  route_avg_time  \n",
       "0                       [3, 3]                   0.00            0.00  \n",
       "1                       [3, 3]                   1.50            1.92  \n",
       "2                       [3, 3]              10,143.00       12,404.29  "
      ]
     },
     "execution_count": 36,
     "metadata": {},
     "output_type": "execute_result"
    }
   ],
   "source": [
    "df_train = make_features(df_train)\n",
    "df_train.head(3)"
   ]
  },
  {
   "cell_type": "code",
   "execution_count": 37,
   "metadata": {},
   "outputs": [
    {
     "data": {
      "text/plain": [
       "(28073, 68)"
      ]
     },
     "execution_count": 37,
     "metadata": {},
     "output_type": "execute_result"
    }
   ],
   "source": [
    "df_train.shape"
   ]
  },
  {
   "cell_type": "code",
   "execution_count": 38,
   "metadata": {},
   "outputs": [
    {
     "data": {
      "text/html": [
       "<div>\n",
       "<style scoped>\n",
       "    .dataframe tbody tr th:only-of-type {\n",
       "        vertical-align: middle;\n",
       "    }\n",
       "\n",
       "    .dataframe tbody tr th {\n",
       "        vertical-align: top;\n",
       "    }\n",
       "\n",
       "    .dataframe thead th {\n",
       "        text-align: right;\n",
       "    }\n",
       "</style>\n",
       "<table border=\"1\" class=\"dataframe\">\n",
       "  <thead>\n",
       "    <tr style=\"text-align: right;\">\n",
       "      <th></th>\n",
       "      <th>ts</th>\n",
       "      <th>gate_id</th>\n",
       "      <th>user_id</th>\n",
       "      <th>date</th>\n",
       "      <th>day_of_month</th>\n",
       "      <th>hour</th>\n",
       "      <th>total_minutes</th>\n",
       "      <th>total_seconds</th>\n",
       "      <th>week_number</th>\n",
       "      <th>day_of_week</th>\n",
       "      <th>is_weekend</th>\n",
       "      <th>time_of_day</th>\n",
       "      <th>is_month_start</th>\n",
       "      <th>is_month_end</th>\n",
       "      <th>pass_cnt_per_day</th>\n",
       "      <th>daily_gate_pass_count</th>\n",
       "      <th>probability_gate_id</th>\n",
       "      <th>cnt_users_per_day</th>\n",
       "      <th>cnt_users_per_week</th>\n",
       "      <th>daily_attendance_index</th>\n",
       "      <th>cnt_days_per_week</th>\n",
       "      <th>entry_time</th>\n",
       "      <th>exit_time</th>\n",
       "      <th>working_time_per_day</th>\n",
       "      <th>entrance_gate_id</th>\n",
       "      <th>exit_gate_id</th>\n",
       "      <th>working_time_per_week</th>\n",
       "      <th>daily_workload_index</th>\n",
       "      <th>gate_id_lag_1</th>\n",
       "      <th>gate_id_1</th>\n",
       "      <th>sec_btw_lag_1</th>\n",
       "      <th>sec_btw_1</th>\n",
       "      <th>gate_id_lag_2</th>\n",
       "      <th>gate_id_2</th>\n",
       "      <th>sec_btw_lag_2</th>\n",
       "      <th>sec_btw_2</th>\n",
       "      <th>gate_id_lag_3</th>\n",
       "      <th>gate_id_3</th>\n",
       "      <th>sec_btw_lag_3</th>\n",
       "      <th>sec_btw_3</th>\n",
       "      <th>gate_id_lag_4</th>\n",
       "      <th>gate_id_4</th>\n",
       "      <th>sec_btw_lag_4</th>\n",
       "      <th>sec_btw_4</th>\n",
       "      <th>gate_id_lag_5</th>\n",
       "      <th>gate_id_5</th>\n",
       "      <th>sec_btw_lag_5</th>\n",
       "      <th>sec_btw_5</th>\n",
       "      <th>repeat_gate_1s</th>\n",
       "      <th>repeat_gate_2s</th>\n",
       "      <th>repeat_gate_3s</th>\n",
       "      <th>repeat_gate_4s</th>\n",
       "      <th>repeat_gate_ge_5s</th>\n",
       "      <th>cnt_repeat_gate_1s</th>\n",
       "      <th>cnt_repeat_gate_2s</th>\n",
       "      <th>cnt_repeat_gate_3s</th>\n",
       "      <th>cnt_repeat_gate_4s</th>\n",
       "      <th>cnt_repeat_gate_ge_5s</th>\n",
       "      <th>route</th>\n",
       "      <th>temp_sec_btw_lag_1</th>\n",
       "      <th>cumtime_per_day</th>\n",
       "      <th>cumtime_at_route_per_day</th>\n",
       "      <th>most_frequent_gate_per_day</th>\n",
       "      <th>most_frequent_gate_per_week</th>\n",
       "      <th>most_frequent_route_per_day</th>\n",
       "      <th>most_frequent_route_per_week</th>\n",
       "      <th>weekly_route_avg_time</th>\n",
       "      <th>route_avg_time</th>\n",
       "    </tr>\n",
       "  </thead>\n",
       "  <tbody>\n",
       "    <tr>\n",
       "      <th>0</th>\n",
       "      <td>2023-01-04 11:07:00</td>\n",
       "      <td>15</td>\n",
       "      <td>aucroc</td>\n",
       "      <td>2023-01-04</td>\n",
       "      <td>4</td>\n",
       "      <td>11</td>\n",
       "      <td>667</td>\n",
       "      <td>40020</td>\n",
       "      <td>1</td>\n",
       "      <td>2</td>\n",
       "      <td>False</td>\n",
       "      <td>morning</td>\n",
       "      <td>False</td>\n",
       "      <td>False</td>\n",
       "      <td>9</td>\n",
       "      <td>2</td>\n",
       "      <td>0.22</td>\n",
       "      <td>21</td>\n",
       "      <td>27</td>\n",
       "      <td>0.78</td>\n",
       "      <td>2</td>\n",
       "      <td>667</td>\n",
       "      <td>1103</td>\n",
       "      <td>436</td>\n",
       "      <td>15</td>\n",
       "      <td>15</td>\n",
       "      <td>632</td>\n",
       "      <td>0.69</td>\n",
       "      <td>-100</td>\n",
       "      <td>9</td>\n",
       "      <td>-1000</td>\n",
       "      <td>-164</td>\n",
       "      <td>-100</td>\n",
       "      <td>5</td>\n",
       "      <td>-1000</td>\n",
       "      <td>-174</td>\n",
       "      <td>-100</td>\n",
       "      <td>5</td>\n",
       "      <td>-1000</td>\n",
       "      <td>-175</td>\n",
       "      <td>-100</td>\n",
       "      <td>10</td>\n",
       "      <td>-1000</td>\n",
       "      <td>-192</td>\n",
       "      <td>-100</td>\n",
       "      <td>11</td>\n",
       "      <td>-1000</td>\n",
       "      <td>-25885</td>\n",
       "      <td>False</td>\n",
       "      <td>False</td>\n",
       "      <td>False</td>\n",
       "      <td>False</td>\n",
       "      <td>False</td>\n",
       "      <td>1</td>\n",
       "      <td>1</td>\n",
       "      <td>0</td>\n",
       "      <td>0</td>\n",
       "      <td>0</td>\n",
       "      <td>not_route</td>\n",
       "      <td>0</td>\n",
       "      <td>0</td>\n",
       "      <td>0</td>\n",
       "      <td>15</td>\n",
       "      <td>5</td>\n",
       "      <td>not_route</td>\n",
       "      <td>not_route</td>\n",
       "      <td>0.00</td>\n",
       "      <td>0.00</td>\n",
       "    </tr>\n",
       "    <tr>\n",
       "      <th>1</th>\n",
       "      <td>2023-01-04 11:09:44</td>\n",
       "      <td>9</td>\n",
       "      <td>aucroc</td>\n",
       "      <td>2023-01-04</td>\n",
       "      <td>4</td>\n",
       "      <td>11</td>\n",
       "      <td>669</td>\n",
       "      <td>40184</td>\n",
       "      <td>1</td>\n",
       "      <td>2</td>\n",
       "      <td>False</td>\n",
       "      <td>morning</td>\n",
       "      <td>False</td>\n",
       "      <td>False</td>\n",
       "      <td>9</td>\n",
       "      <td>1</td>\n",
       "      <td>0.11</td>\n",
       "      <td>21</td>\n",
       "      <td>27</td>\n",
       "      <td>0.78</td>\n",
       "      <td>2</td>\n",
       "      <td>667</td>\n",
       "      <td>1103</td>\n",
       "      <td>436</td>\n",
       "      <td>15</td>\n",
       "      <td>15</td>\n",
       "      <td>632</td>\n",
       "      <td>0.69</td>\n",
       "      <td>15</td>\n",
       "      <td>5</td>\n",
       "      <td>164</td>\n",
       "      <td>-10</td>\n",
       "      <td>-100</td>\n",
       "      <td>5</td>\n",
       "      <td>-1000</td>\n",
       "      <td>-11</td>\n",
       "      <td>-100</td>\n",
       "      <td>10</td>\n",
       "      <td>-1000</td>\n",
       "      <td>-28</td>\n",
       "      <td>-100</td>\n",
       "      <td>11</td>\n",
       "      <td>-1000</td>\n",
       "      <td>-25721</td>\n",
       "      <td>-100</td>\n",
       "      <td>4</td>\n",
       "      <td>-1000</td>\n",
       "      <td>-25746</td>\n",
       "      <td>False</td>\n",
       "      <td>False</td>\n",
       "      <td>False</td>\n",
       "      <td>False</td>\n",
       "      <td>False</td>\n",
       "      <td>1</td>\n",
       "      <td>1</td>\n",
       "      <td>0</td>\n",
       "      <td>0</td>\n",
       "      <td>0</td>\n",
       "      <td>[9, 15]</td>\n",
       "      <td>164</td>\n",
       "      <td>164</td>\n",
       "      <td>164</td>\n",
       "      <td>15</td>\n",
       "      <td>5</td>\n",
       "      <td>not_route</td>\n",
       "      <td>not_route</td>\n",
       "      <td>164.00</td>\n",
       "      <td>211.33</td>\n",
       "    </tr>\n",
       "    <tr>\n",
       "      <th>2</th>\n",
       "      <td>2023-01-04 11:09:54</td>\n",
       "      <td>5</td>\n",
       "      <td>aucroc</td>\n",
       "      <td>2023-01-04</td>\n",
       "      <td>4</td>\n",
       "      <td>11</td>\n",
       "      <td>669</td>\n",
       "      <td>40194</td>\n",
       "      <td>1</td>\n",
       "      <td>2</td>\n",
       "      <td>False</td>\n",
       "      <td>morning</td>\n",
       "      <td>False</td>\n",
       "      <td>False</td>\n",
       "      <td>9</td>\n",
       "      <td>2</td>\n",
       "      <td>0.22</td>\n",
       "      <td>21</td>\n",
       "      <td>27</td>\n",
       "      <td>0.78</td>\n",
       "      <td>2</td>\n",
       "      <td>667</td>\n",
       "      <td>1103</td>\n",
       "      <td>436</td>\n",
       "      <td>15</td>\n",
       "      <td>15</td>\n",
       "      <td>632</td>\n",
       "      <td>0.69</td>\n",
       "      <td>9</td>\n",
       "      <td>5</td>\n",
       "      <td>10</td>\n",
       "      <td>-1</td>\n",
       "      <td>15</td>\n",
       "      <td>10</td>\n",
       "      <td>174</td>\n",
       "      <td>-18</td>\n",
       "      <td>-100</td>\n",
       "      <td>11</td>\n",
       "      <td>-1000</td>\n",
       "      <td>-25711</td>\n",
       "      <td>-100</td>\n",
       "      <td>4</td>\n",
       "      <td>-1000</td>\n",
       "      <td>-25736</td>\n",
       "      <td>-100</td>\n",
       "      <td>4</td>\n",
       "      <td>-1000</td>\n",
       "      <td>-25738</td>\n",
       "      <td>False</td>\n",
       "      <td>False</td>\n",
       "      <td>False</td>\n",
       "      <td>False</td>\n",
       "      <td>False</td>\n",
       "      <td>1</td>\n",
       "      <td>1</td>\n",
       "      <td>0</td>\n",
       "      <td>0</td>\n",
       "      <td>0</td>\n",
       "      <td>[5, 9]</td>\n",
       "      <td>10</td>\n",
       "      <td>174</td>\n",
       "      <td>10</td>\n",
       "      <td>15</td>\n",
       "      <td>5</td>\n",
       "      <td>not_route</td>\n",
       "      <td>not_route</td>\n",
       "      <td>14.50</td>\n",
       "      <td>14.50</td>\n",
       "    </tr>\n",
       "  </tbody>\n",
       "</table>\n",
       "</div>"
      ],
      "text/plain": [
       "                   ts  gate_id user_id       date  day_of_month  hour  \\\n",
       "0 2023-01-04 11:07:00       15  aucroc 2023-01-04             4    11   \n",
       "1 2023-01-04 11:09:44        9  aucroc 2023-01-04             4    11   \n",
       "2 2023-01-04 11:09:54        5  aucroc 2023-01-04             4    11   \n",
       "\n",
       "   total_minutes  total_seconds  week_number  day_of_week  is_weekend  \\\n",
       "0            667          40020            1            2       False   \n",
       "1            669          40184            1            2       False   \n",
       "2            669          40194            1            2       False   \n",
       "\n",
       "  time_of_day  is_month_start  is_month_end  pass_cnt_per_day  \\\n",
       "0     morning           False         False                 9   \n",
       "1     morning           False         False                 9   \n",
       "2     morning           False         False                 9   \n",
       "\n",
       "   daily_gate_pass_count  probability_gate_id  cnt_users_per_day  \\\n",
       "0                      2                 0.22                 21   \n",
       "1                      1                 0.11                 21   \n",
       "2                      2                 0.22                 21   \n",
       "\n",
       "   cnt_users_per_week  daily_attendance_index  cnt_days_per_week  entry_time  \\\n",
       "0                  27                    0.78                  2         667   \n",
       "1                  27                    0.78                  2         667   \n",
       "2                  27                    0.78                  2         667   \n",
       "\n",
       "   exit_time  working_time_per_day  entrance_gate_id  exit_gate_id  \\\n",
       "0       1103                   436                15            15   \n",
       "1       1103                   436                15            15   \n",
       "2       1103                   436                15            15   \n",
       "\n",
       "   working_time_per_week  daily_workload_index  gate_id_lag_1  gate_id_1  \\\n",
       "0                    632                  0.69           -100          9   \n",
       "1                    632                  0.69             15          5   \n",
       "2                    632                  0.69              9          5   \n",
       "\n",
       "   sec_btw_lag_1  sec_btw_1  gate_id_lag_2  gate_id_2  sec_btw_lag_2  \\\n",
       "0          -1000       -164           -100          5          -1000   \n",
       "1            164        -10           -100          5          -1000   \n",
       "2             10         -1             15         10            174   \n",
       "\n",
       "   sec_btw_2  gate_id_lag_3  gate_id_3  sec_btw_lag_3  sec_btw_3  \\\n",
       "0       -174           -100          5          -1000       -175   \n",
       "1        -11           -100         10          -1000        -28   \n",
       "2        -18           -100         11          -1000     -25711   \n",
       "\n",
       "   gate_id_lag_4  gate_id_4  sec_btw_lag_4  sec_btw_4  gate_id_lag_5  \\\n",
       "0           -100         10          -1000       -192           -100   \n",
       "1           -100         11          -1000     -25721           -100   \n",
       "2           -100          4          -1000     -25736           -100   \n",
       "\n",
       "   gate_id_5  sec_btw_lag_5  sec_btw_5  repeat_gate_1s  repeat_gate_2s  \\\n",
       "0         11          -1000     -25885           False           False   \n",
       "1          4          -1000     -25746           False           False   \n",
       "2          4          -1000     -25738           False           False   \n",
       "\n",
       "   repeat_gate_3s  repeat_gate_4s  repeat_gate_ge_5s  cnt_repeat_gate_1s  \\\n",
       "0           False           False              False                   1   \n",
       "1           False           False              False                   1   \n",
       "2           False           False              False                   1   \n",
       "\n",
       "   cnt_repeat_gate_2s  cnt_repeat_gate_3s  cnt_repeat_gate_4s  \\\n",
       "0                   1                   0                   0   \n",
       "1                   1                   0                   0   \n",
       "2                   1                   0                   0   \n",
       "\n",
       "   cnt_repeat_gate_ge_5s      route  temp_sec_btw_lag_1  cumtime_per_day  \\\n",
       "0                      0  not_route                   0                0   \n",
       "1                      0    [9, 15]                 164              164   \n",
       "2                      0     [5, 9]                  10              174   \n",
       "\n",
       "   cumtime_at_route_per_day  most_frequent_gate_per_day  \\\n",
       "0                         0                          15   \n",
       "1                       164                          15   \n",
       "2                        10                          15   \n",
       "\n",
       "   most_frequent_gate_per_week most_frequent_route_per_day  \\\n",
       "0                            5                   not_route   \n",
       "1                            5                   not_route   \n",
       "2                            5                   not_route   \n",
       "\n",
       "  most_frequent_route_per_week  weekly_route_avg_time  route_avg_time  \n",
       "0                    not_route                   0.00            0.00  \n",
       "1                    not_route                 164.00          211.33  \n",
       "2                    not_route                  14.50           14.50  "
      ]
     },
     "execution_count": 38,
     "metadata": {},
     "output_type": "execute_result"
    }
   ],
   "source": [
    "# временно переименуем колонку `user_word` на `user_id`\n",
    "df_test = df_test.rename(columns={'user_word': 'user_id'})\n",
    "\n",
    "df_test = make_features(df_test)\n",
    "# df_test = df_test.rename(columns={'user_id': 'user_word'})\n",
    "df_test.head(3)"
   ]
  },
  {
   "cell_type": "code",
   "execution_count": 39,
   "metadata": {},
   "outputs": [
    {
     "data": {
      "text/plain": [
       "(6612, 68)"
      ]
     },
     "execution_count": 39,
     "metadata": {},
     "output_type": "execute_result"
    }
   ],
   "source": [
    "df_test.shape"
   ]
  },
  {
   "cell_type": "code",
   "execution_count": 40,
   "metadata": {},
   "outputs": [
    {
     "data": {
      "text/plain": [
       "0"
      ]
     },
     "execution_count": 40,
     "metadata": {},
     "output_type": "execute_result"
    }
   ],
   "source": [
    "df_train.isna().sum().sum()"
   ]
  },
  {
   "cell_type": "code",
   "execution_count": 41,
   "metadata": {},
   "outputs": [
    {
     "data": {
      "text/plain": [
       "0"
      ]
     },
     "execution_count": 41,
     "metadata": {},
     "output_type": "execute_result"
    }
   ],
   "source": [
    "df_test.isna().sum().sum()"
   ]
  },
  {
   "cell_type": "markdown",
   "metadata": {},
   "source": [
    "# Исследовательский анализ данных"
   ]
  },
  {
   "cell_type": "markdown",
   "metadata": {},
   "source": [
    "## Повторное срабатывание турникетов"
   ]
  },
  {
   "cell_type": "code",
   "execution_count": null,
   "metadata": {},
   "outputs": [],
   "source": []
  },
  {
   "cell_type": "code",
   "execution_count": null,
   "metadata": {},
   "outputs": [],
   "source": []
  },
  {
   "cell_type": "code",
   "execution_count": null,
   "metadata": {},
   "outputs": [],
   "source": []
  },
  {
   "cell_type": "markdown",
   "metadata": {},
   "source": [
    "## Количество проходов через турникеты в неделю"
   ]
  },
  {
   "cell_type": "code",
   "execution_count": 42,
   "metadata": {},
   "outputs": [],
   "source": [
    "week_counts_train = df_train['week_number'].value_counts().sort_index().reset_index()"
   ]
  },
  {
   "cell_type": "code",
   "execution_count": 43,
   "metadata": {},
   "outputs": [
    {
     "data": {
      "image/png": "[encoded data removed]",
      "text/plain": [
       "<Figure size 1500x300 with 1 Axes>"
      ]
     },
     "metadata": {},
     "output_type": "display_data"
    }
   ],
   "source": [
    "plt.figure(figsize=(15, 3))\n",
    "sns.barplot(x='week_number', y='count', data=week_counts_train, color='purple')\n",
    "plt.title('Количество проходов через турникеты в неделю (train)')\n",
    "plt.xlabel('Номер недели')\n",
    "plt.ylabel('Количество')\n",
    "plt.tight_layout()"
   ]
  },
  {
   "cell_type": "code",
   "execution_count": 44,
   "metadata": {},
   "outputs": [
    {
     "data": {
      "text/plain": [
       "3"
      ]
     },
     "execution_count": 44,
     "metadata": {},
     "output_type": "execute_result"
    }
   ],
   "source": [
    "df_train.loc[df_train['week_number'] == 30, 'date'].nunique()"
   ]
  },
  {
   "cell_type": "code",
   "execution_count": 45,
   "metadata": {},
   "outputs": [
    {
     "data": {
      "text/plain": [
       "3"
      ]
     },
     "execution_count": 45,
     "metadata": {},
     "output_type": "execute_result"
    }
   ],
   "source": [
    "df_train.loc[df_train['week_number'] == 45, 'date'].nunique()"
   ]
  },
  {
   "cell_type": "code",
   "execution_count": 46,
   "metadata": {},
   "outputs": [
    {
     "data": {
      "text/plain": [
       "array([ 0,  1,  6, 12, 14, 15, 17, 32, 35, 37, 46, 49, 50, 54],\n",
       "      dtype=int64)"
      ]
     },
     "execution_count": 46,
     "metadata": {},
     "output_type": "execute_result"
    }
   ],
   "source": [
    "df_train.loc[df_train['week_number'] == 45, 'user_id'].unique()"
   ]
  },
  {
   "cell_type": "markdown",
   "metadata": {},
   "source": [
    "Мы видим, что 30 неделя - неполная. Поскольку при генерировании признаков мы использовали агрегацию по номеру недели, удалим данные за 30 неделю из тренировочной выборки."
   ]
  },
  {
   "cell_type": "code",
   "execution_count": 47,
   "metadata": {},
   "outputs": [
    {
     "data": {
      "text/plain": [
       "(28073, 68)"
      ]
     },
     "execution_count": 47,
     "metadata": {},
     "output_type": "execute_result"
    }
   ],
   "source": [
    "df_train.shape"
   ]
  },
  {
   "cell_type": "code",
   "execution_count": 48,
   "metadata": {},
   "outputs": [
    {
     "data": {
      "text/plain": [
       "(27515, 68)"
      ]
     },
     "execution_count": 48,
     "metadata": {},
     "output_type": "execute_result"
    }
   ],
   "source": [
    "df_train = df_train.query('week_number > 30 and week_number != 45').reset_index(drop=True)\n",
    "df_train.shape"
   ]
  },
  {
   "cell_type": "code",
   "execution_count": 49,
   "metadata": {},
   "outputs": [],
   "source": [
    "# df_train = df_train.query('week_number > 30').reset_index(drop=True)\n",
    "# df_train.shape"
   ]
  },
  {
   "cell_type": "code",
   "execution_count": 50,
   "metadata": {},
   "outputs": [
    {
     "data": {
      "text/plain": [
       "33"
      ]
     },
     "execution_count": 50,
     "metadata": {},
     "output_type": "execute_result"
    }
   ],
   "source": [
    "df_train['user_id'].nunique()"
   ]
  },
  {
   "cell_type": "code",
   "execution_count": 51,
   "metadata": {},
   "outputs": [],
   "source": [
    "week_counts_test = df_test['week_number'].value_counts().sort_index().reset_index()"
   ]
  },
  {
   "cell_type": "code",
   "execution_count": 52,
   "metadata": {},
   "outputs": [
    {
     "data": {
      "image/png": "[encoded data removed]",
      "text/plain": [
       "<Figure size 600x300 with 1 Axes>"
      ]
     },
     "metadata": {},
     "output_type": "display_data"
    }
   ],
   "source": [
    "plt.figure(figsize=(6, 3))\n",
    "sns.barplot(x='week_number', y='count', data=week_counts_test, color='purple')\n",
    "plt.title('Количество проходов через турникеты в неделю (test)')\n",
    "plt.xlabel('Номер недели')\n",
    "plt.ylabel('Количество')\n",
    "plt.tight_layout()"
   ]
  },
  {
   "cell_type": "code",
   "execution_count": 53,
   "metadata": {},
   "outputs": [
    {
     "data": {
      "text/plain": [
       "5"
      ]
     },
     "execution_count": 53,
     "metadata": {},
     "output_type": "execute_result"
    }
   ],
   "source": [
    "df_test.loc[df_test['week_number'] == 1, 'date'].nunique()"
   ]
  },
  {
   "cell_type": "code",
   "execution_count": 54,
   "metadata": {},
   "outputs": [
    {
     "data": {
      "text/plain": [
       "5"
      ]
     },
     "execution_count": 54,
     "metadata": {},
     "output_type": "execute_result"
    }
   ],
   "source": [
    "df_test.loc[df_test['week_number'] == 8, 'date'].nunique()"
   ]
  },
  {
   "cell_type": "code",
   "execution_count": 55,
   "metadata": {},
   "outputs": [
    {
     "data": {
      "text/plain": [
       "20"
      ]
     },
     "execution_count": 55,
     "metadata": {},
     "output_type": "execute_result"
    }
   ],
   "source": [
    "df_test.query('week_number >= 6')['user_id'].nunique()"
   ]
  },
  {
   "cell_type": "markdown",
   "metadata": {},
   "source": [
    "Удалим из тестовой выборки данные с 6 по 8 неделю, поскольку в этот период была маленькая активность."
   ]
  },
  {
   "cell_type": "code",
   "execution_count": 56,
   "metadata": {},
   "outputs": [
    {
     "data": {
      "text/plain": [
       "(6612, 68)"
      ]
     },
     "execution_count": 56,
     "metadata": {},
     "output_type": "execute_result"
    }
   ],
   "source": [
    "df_test.shape"
   ]
  },
  {
   "cell_type": "code",
   "execution_count": 57,
   "metadata": {},
   "outputs": [
    {
     "data": {
      "text/plain": [
       "(6040, 68)"
      ]
     },
     "execution_count": 57,
     "metadata": {},
     "output_type": "execute_result"
    }
   ],
   "source": [
    "df_test = df_test.query('week_number < 6').reset_index(drop=True)\n",
    "df_test.shape"
   ]
  },
  {
   "cell_type": "code",
   "execution_count": 58,
   "metadata": {},
   "outputs": [
    {
     "data": {
      "text/plain": [
       "34"
      ]
     },
     "execution_count": 58,
     "metadata": {},
     "output_type": "execute_result"
    }
   ],
   "source": [
    "df_test['user_id'].nunique()"
   ]
  },
  {
   "cell_type": "code",
   "execution_count": null,
   "metadata": {},
   "outputs": [],
   "source": []
  },
  {
   "cell_type": "code",
   "execution_count": null,
   "metadata": {},
   "outputs": [],
   "source": []
  },
  {
   "cell_type": "code",
   "execution_count": 59,
   "metadata": {},
   "outputs": [],
   "source": [
    "df_train = df_train.sort_values('ts').reset_index(drop=True)\n",
    "df_test = df_test.sort_values('ts').reset_index(drop=True)"
   ]
  },
  {
   "cell_type": "code",
   "execution_count": 60,
   "metadata": {},
   "outputs": [],
   "source": [
    "# удаление вспомогательных признаков\n",
    "df_train = df_train.drop(['ts', 'date', 'week_number', 'exit_time', 'temp_sec_btw_lag_1'], axis=1)\n",
    "df_test = df_test.drop(['ts', 'date', 'week_number', 'exit_time', 'temp_sec_btw_lag_1'], axis=1)"
   ]
  },
  {
   "cell_type": "code",
   "execution_count": 61,
   "metadata": {},
   "outputs": [
    {
     "name": "stdout",
     "output_type": "stream",
     "text": [
      "<class 'pandas.core.frame.DataFrame'>\n",
      "RangeIndex: 27515 entries, 0 to 27514\n",
      "Data columns (total 63 columns):\n",
      " #   Column                        Non-Null Count  Dtype  \n",
      "---  ------                        --------------  -----  \n",
      " 0   user_id                       27515 non-null  int64  \n",
      " 1   gate_id                       27515 non-null  int64  \n",
      " 2   day_of_month                  27515 non-null  int32  \n",
      " 3   hour                          27515 non-null  int32  \n",
      " 4   total_minutes                 27515 non-null  int32  \n",
      " 5   total_seconds                 27515 non-null  int32  \n",
      " 6   day_of_week                   27515 non-null  int32  \n",
      " 7   is_weekend                    27515 non-null  bool   \n",
      " 8   time_of_day                   27515 non-null  object \n",
      " 9   is_month_start                27515 non-null  bool   \n",
      " 10  is_month_end                  27515 non-null  bool   \n",
      " 11  pass_cnt_per_day              27515 non-null  int64  \n",
      " 12  daily_gate_pass_count         27515 non-null  int64  \n",
      " 13  probability_gate_id           27515 non-null  float64\n",
      " 14  cnt_users_per_day             27515 non-null  int64  \n",
      " 15  cnt_users_per_week            27515 non-null  int64  \n",
      " 16  daily_attendance_index        27515 non-null  float64\n",
      " 17  cnt_days_per_week             27515 non-null  int64  \n",
      " 18  entry_time                    27515 non-null  int32  \n",
      " 19  working_time_per_day          27515 non-null  int32  \n",
      " 20  entrance_gate_id              27515 non-null  int64  \n",
      " 21  exit_gate_id                  27515 non-null  int64  \n",
      " 22  working_time_per_week         27515 non-null  int32  \n",
      " 23  daily_workload_index          27515 non-null  float64\n",
      " 24  gate_id_lag_1                 27515 non-null  int64  \n",
      " 25  gate_id_1                     27515 non-null  int64  \n",
      " 26  sec_btw_lag_1                 27515 non-null  int32  \n",
      " 27  sec_btw_1                     27515 non-null  int32  \n",
      " 28  gate_id_lag_2                 27515 non-null  int64  \n",
      " 29  gate_id_2                     27515 non-null  int64  \n",
      " 30  sec_btw_lag_2                 27515 non-null  int32  \n",
      " 31  sec_btw_2                     27515 non-null  int32  \n",
      " 32  gate_id_lag_3                 27515 non-null  int64  \n",
      " 33  gate_id_3                     27515 non-null  int64  \n",
      " 34  sec_btw_lag_3                 27515 non-null  int32  \n",
      " 35  sec_btw_3                     27515 non-null  int32  \n",
      " 36  gate_id_lag_4                 27515 non-null  int64  \n",
      " 37  gate_id_4                     27515 non-null  int64  \n",
      " 38  sec_btw_lag_4                 27515 non-null  int32  \n",
      " 39  sec_btw_4                     27515 non-null  int32  \n",
      " 40  gate_id_lag_5                 27515 non-null  int64  \n",
      " 41  gate_id_5                     27515 non-null  int64  \n",
      " 42  sec_btw_lag_5                 27515 non-null  int32  \n",
      " 43  sec_btw_5                     27515 non-null  int32  \n",
      " 44  repeat_gate_1s                27515 non-null  bool   \n",
      " 45  repeat_gate_2s                27515 non-null  bool   \n",
      " 46  repeat_gate_3s                27515 non-null  bool   \n",
      " 47  repeat_gate_4s                27515 non-null  bool   \n",
      " 48  repeat_gate_ge_5s             27515 non-null  bool   \n",
      " 49  cnt_repeat_gate_1s            27515 non-null  int64  \n",
      " 50  cnt_repeat_gate_2s            27515 non-null  int64  \n",
      " 51  cnt_repeat_gate_3s            27515 non-null  int64  \n",
      " 52  cnt_repeat_gate_4s            27515 non-null  int64  \n",
      " 53  cnt_repeat_gate_ge_5s         27515 non-null  int64  \n",
      " 54  route                         27515 non-null  object \n",
      " 55  cumtime_per_day               27515 non-null  int32  \n",
      " 56  cumtime_at_route_per_day      27515 non-null  int32  \n",
      " 57  most_frequent_gate_per_day    27515 non-null  int64  \n",
      " 58  most_frequent_gate_per_week   27515 non-null  int64  \n",
      " 59  most_frequent_route_per_day   27515 non-null  object \n",
      " 60  most_frequent_route_per_week  27515 non-null  object \n",
      " 61  weekly_route_avg_time         27515 non-null  float64\n",
      " 62  route_avg_time                27515 non-null  float64\n",
      "dtypes: bool(8), float64(5), int32(20), int64(26), object(4)\n",
      "memory usage: 9.7+ MB\n"
     ]
    }
   ],
   "source": [
    "df_train.info()"
   ]
  },
  {
   "cell_type": "code",
   "execution_count": 62,
   "metadata": {},
   "outputs": [
    {
     "data": {
      "text/plain": [
       "Index(['user_id', 'gate_id', 'day_of_month', 'hour', 'total_minutes',\n",
       "       'total_seconds', 'day_of_week', 'is_weekend', 'time_of_day',\n",
       "       'is_month_start', 'is_month_end', 'pass_cnt_per_day',\n",
       "       'daily_gate_pass_count', 'probability_gate_id', 'cnt_users_per_day',\n",
       "       'cnt_users_per_week', 'daily_attendance_index', 'cnt_days_per_week',\n",
       "       'entry_time', 'working_time_per_day', 'entrance_gate_id',\n",
       "       'exit_gate_id', 'working_time_per_week', 'daily_workload_index',\n",
       "       'gate_id_lag_1', 'gate_id_1', 'sec_btw_lag_1', 'sec_btw_1',\n",
       "       'gate_id_lag_2', 'gate_id_2', 'sec_btw_lag_2', 'sec_btw_2',\n",
       "       'gate_id_lag_3', 'gate_id_3', 'sec_btw_lag_3', 'sec_btw_3',\n",
       "       'gate_id_lag_4', 'gate_id_4', 'sec_btw_lag_4', 'sec_btw_4',\n",
       "       'gate_id_lag_5', 'gate_id_5', 'sec_btw_lag_5', 'sec_btw_5',\n",
       "       'repeat_gate_1s', 'repeat_gate_2s', 'repeat_gate_3s', 'repeat_gate_4s',\n",
       "       'repeat_gate_ge_5s', 'cnt_repeat_gate_1s', 'cnt_repeat_gate_2s',\n",
       "       'cnt_repeat_gate_3s', 'cnt_repeat_gate_4s', 'cnt_repeat_gate_ge_5s',\n",
       "       'route', 'cumtime_per_day', 'cumtime_at_route_per_day',\n",
       "       'most_frequent_gate_per_day', 'most_frequent_gate_per_week',\n",
       "       'most_frequent_route_per_day', 'most_frequent_route_per_week',\n",
       "       'weekly_route_avg_time', 'route_avg_time'],\n",
       "      dtype='object')"
      ]
     },
     "execution_count": 62,
     "metadata": {},
     "output_type": "execute_result"
    }
   ],
   "source": [
    "df_train.columns"
   ]
  },
  {
   "cell_type": "code",
   "execution_count": 138,
   "metadata": {},
   "outputs": [],
   "source": [
    "categorical_features = [\n",
    "       'gate_id', 'day_of_month', 'hour',\n",
    "       'day_of_week', 'is_weekend', 'time_of_day', \n",
    "       'is_month_start', 'is_month_end', 'entrance_gate_id', \n",
    "       'exit_gate_id', 'gate_id_lag_1', 'gate_id_1',\n",
    "       'gate_id_lag_2', 'gate_id_2', 'gate_id_lag_3',\n",
    "       'gate_id_3', 'gate_id_lag_4', 'gate_id_4',\n",
    "       'gate_id_lag_5', 'gate_id_5', 'repeat_gate_1s',\n",
    "       'repeat_gate_2s', 'repeat_gate_3s', 'repeat_gate_4s',\n",
    "       'repeat_gate_ge_5s', 'route', 'most_frequent_gate_per_day',\n",
    "       'most_frequent_gate_per_week', 'most_frequent_route_per_day', 'most_frequent_route_per_week'\n",
    "]"
   ]
  },
  {
   "cell_type": "markdown",
   "metadata": {},
   "source": [
    "## Оценка важности признаков"
   ]
  },
  {
   "cell_type": "markdown",
   "metadata": {},
   "source": [
    "### Корреляция между признаками"
   ]
  },
  {
   "cell_type": "code",
   "execution_count": 64,
   "metadata": {},
   "outputs": [],
   "source": [
    "# %%time\n",
    "# phik_overview = df_train.phik_matrix().round(2).sort_values('user_id', ascending=False)\n",
    "# phik_overview"
   ]
  },
  {
   "cell_type": "code",
   "execution_count": 65,
   "metadata": {},
   "outputs": [],
   "source": [
    "# # отберем фичи, у которых корреляция с целевым признаком более 0.2\n",
    "# df_train = df_train[phik_overview[phik_overview['user_id'] > 0.2].index]"
   ]
  },
  {
   "cell_type": "code",
   "execution_count": 66,
   "metadata": {},
   "outputs": [],
   "source": [
    "# fig = plt.figure(figsize=(45,15))\n",
    "# sns.heatmap(phik_overview, vmin=0, vmax=1, cmap='Purples', annot=True, linewidths=0.1, fmt='.2f')\n",
    "# plt.suptitle('Матрица Phi_K-корреляций', y=0.92);"
   ]
  },
  {
   "cell_type": "code",
   "execution_count": 67,
   "metadata": {},
   "outputs": [],
   "source": [
    "# %%time\n",
    "# significance_overview = df_train.significance_matrix().fillna(0).round(1).sort_values('user_id', ascending=False)\n",
    "# significance_overview"
   ]
  },
  {
   "cell_type": "code",
   "execution_count": 68,
   "metadata": {},
   "outputs": [],
   "source": [
    "# fig = plt.figure(figsize=(45,15))\n",
    "# sns.heatmap(significance_overview, vmin=-5, vmax=5, cmap='Purples', annot=True, linewidths=0.1, fmt='.1f')\n",
    "# plt.suptitle('Значимость коэффициентов', y=0.92);"
   ]
  },
  {
   "cell_type": "code",
   "execution_count": null,
   "metadata": {},
   "outputs": [],
   "source": []
  },
  {
   "cell_type": "markdown",
   "metadata": {},
   "source": [
    "# Построение моделей"
   ]
  },
  {
   "cell_type": "markdown",
   "metadata": {},
   "source": [
    "## Разделение исходных данных на выборки"
   ]
  },
  {
   "cell_type": "code",
   "execution_count": 69,
   "metadata": {},
   "outputs": [
    {
     "name": "stdout",
     "output_type": "stream",
     "text": [
      "<class 'pandas.core.frame.DataFrame'>\n",
      "RangeIndex: 27515 entries, 0 to 27514\n",
      "Data columns (total 63 columns):\n",
      " #   Column                        Non-Null Count  Dtype  \n",
      "---  ------                        --------------  -----  \n",
      " 0   user_id                       27515 non-null  int64  \n",
      " 1   gate_id                       27515 non-null  int64  \n",
      " 2   day_of_month                  27515 non-null  int32  \n",
      " 3   hour                          27515 non-null  int32  \n",
      " 4   total_minutes                 27515 non-null  int32  \n",
      " 5   total_seconds                 27515 non-null  int32  \n",
      " 6   day_of_week                   27515 non-null  int32  \n",
      " 7   is_weekend                    27515 non-null  bool   \n",
      " 8   time_of_day                   27515 non-null  object \n",
      " 9   is_month_start                27515 non-null  bool   \n",
      " 10  is_month_end                  27515 non-null  bool   \n",
      " 11  pass_cnt_per_day              27515 non-null  int64  \n",
      " 12  daily_gate_pass_count         27515 non-null  int64  \n",
      " 13  probability_gate_id           27515 non-null  float64\n",
      " 14  cnt_users_per_day             27515 non-null  int64  \n",
      " 15  cnt_users_per_week            27515 non-null  int64  \n",
      " 16  daily_attendance_index        27515 non-null  float64\n",
      " 17  cnt_days_per_week             27515 non-null  int64  \n",
      " 18  entry_time                    27515 non-null  int32  \n",
      " 19  working_time_per_day          27515 non-null  int32  \n",
      " 20  entrance_gate_id              27515 non-null  int64  \n",
      " 21  exit_gate_id                  27515 non-null  int64  \n",
      " 22  working_time_per_week         27515 non-null  int32  \n",
      " 23  daily_workload_index          27515 non-null  float64\n",
      " 24  gate_id_lag_1                 27515 non-null  int64  \n",
      " 25  gate_id_1                     27515 non-null  int64  \n",
      " 26  sec_btw_lag_1                 27515 non-null  int32  \n",
      " 27  sec_btw_1                     27515 non-null  int32  \n",
      " 28  gate_id_lag_2                 27515 non-null  int64  \n",
      " 29  gate_id_2                     27515 non-null  int64  \n",
      " 30  sec_btw_lag_2                 27515 non-null  int32  \n",
      " 31  sec_btw_2                     27515 non-null  int32  \n",
      " 32  gate_id_lag_3                 27515 non-null  int64  \n",
      " 33  gate_id_3                     27515 non-null  int64  \n",
      " 34  sec_btw_lag_3                 27515 non-null  int32  \n",
      " 35  sec_btw_3                     27515 non-null  int32  \n",
      " 36  gate_id_lag_4                 27515 non-null  int64  \n",
      " 37  gate_id_4                     27515 non-null  int64  \n",
      " 38  sec_btw_lag_4                 27515 non-null  int32  \n",
      " 39  sec_btw_4                     27515 non-null  int32  \n",
      " 40  gate_id_lag_5                 27515 non-null  int64  \n",
      " 41  gate_id_5                     27515 non-null  int64  \n",
      " 42  sec_btw_lag_5                 27515 non-null  int32  \n",
      " 43  sec_btw_5                     27515 non-null  int32  \n",
      " 44  repeat_gate_1s                27515 non-null  bool   \n",
      " 45  repeat_gate_2s                27515 non-null  bool   \n",
      " 46  repeat_gate_3s                27515 non-null  bool   \n",
      " 47  repeat_gate_4s                27515 non-null  bool   \n",
      " 48  repeat_gate_ge_5s             27515 non-null  bool   \n",
      " 49  cnt_repeat_gate_1s            27515 non-null  int64  \n",
      " 50  cnt_repeat_gate_2s            27515 non-null  int64  \n",
      " 51  cnt_repeat_gate_3s            27515 non-null  int64  \n",
      " 52  cnt_repeat_gate_4s            27515 non-null  int64  \n",
      " 53  cnt_repeat_gate_ge_5s         27515 non-null  int64  \n",
      " 54  route                         27515 non-null  object \n",
      " 55  cumtime_per_day               27515 non-null  int32  \n",
      " 56  cumtime_at_route_per_day      27515 non-null  int32  \n",
      " 57  most_frequent_gate_per_day    27515 non-null  int64  \n",
      " 58  most_frequent_gate_per_week   27515 non-null  int64  \n",
      " 59  most_frequent_route_per_day   27515 non-null  object \n",
      " 60  most_frequent_route_per_week  27515 non-null  object \n",
      " 61  weekly_route_avg_time         27515 non-null  float64\n",
      " 62  route_avg_time                27515 non-null  float64\n",
      "dtypes: bool(8), float64(5), int32(20), int64(26), object(4)\n",
      "memory usage: 9.7+ MB\n"
     ]
    }
   ],
   "source": [
    "df_train.info()"
   ]
  },
  {
   "cell_type": "code",
   "execution_count": 70,
   "metadata": {},
   "outputs": [],
   "source": [
    "y = df_train['user_id']\n",
    "X = df_train.drop(['user_id'], axis=1)"
   ]
  },
  {
   "cell_type": "code",
   "execution_count": 71,
   "metadata": {},
   "outputs": [],
   "source": [
    "# categorical_columns = categorical_features\n",
    "# print(categorical_columns)"
   ]
  },
  {
   "cell_type": "code",
   "execution_count": 72,
   "metadata": {},
   "outputs": [],
   "source": [
    "# len(categorical_columns)"
   ]
  },
  {
   "cell_type": "code",
   "execution_count": 73,
   "metadata": {},
   "outputs": [],
   "source": [
    "# numerical_columns = list(set(X.columns) - set(categorical_columns))\n",
    "# print(numerical_columns)"
   ]
  },
  {
   "cell_type": "code",
   "execution_count": 74,
   "metadata": {},
   "outputs": [],
   "source": [
    "# len(numerical_columns)"
   ]
  },
  {
   "cell_type": "code",
   "execution_count": 75,
   "metadata": {},
   "outputs": [],
   "source": [
    "# X = X[categorical_columns + numerical_columns]"
   ]
  },
  {
   "cell_type": "code",
   "execution_count": 76,
   "metadata": {},
   "outputs": [],
   "source": [
    "# # формируем массив индексов категориальных признаков\n",
    "# categorical_features_indices = list(range(len(categorical_columns)))\n",
    "# print(categorical_features_indices)"
   ]
  },
  {
   "cell_type": "code",
   "execution_count": 77,
   "metadata": {},
   "outputs": [],
   "source": [
    "# выделение обучающей выборки (80 %) и тестовой (20 %)\n",
    "X_train, X_test, y_train, y_test = train_test_split(\n",
    "                                                    X, \n",
    "                                                    y, \n",
    "                                                    test_size=0.2, \n",
    "                                                    random_state=RANDOM_STATE,\n",
    "                                                    shuffle=True,\n",
    "                                                    stratify=y\n",
    ")"
   ]
  },
  {
   "cell_type": "code",
   "execution_count": 78,
   "metadata": {},
   "outputs": [
    {
     "data": {
      "text/plain": [
       "((22012, 62), (5503, 62), (22012,), (5503,))"
      ]
     },
     "execution_count": 78,
     "metadata": {},
     "output_type": "execute_result"
    }
   ],
   "source": [
    "X_train.shape, X_test.shape, y_train.shape, y_test.shape"
   ]
  },
  {
   "cell_type": "code",
   "execution_count": 79,
   "metadata": {},
   "outputs": [
    {
     "data": {
      "text/plain": [
       "33"
      ]
     },
     "execution_count": 79,
     "metadata": {},
     "output_type": "execute_result"
    }
   ],
   "source": [
    "y_train.nunique()"
   ]
  },
  {
   "cell_type": "code",
   "execution_count": 80,
   "metadata": {},
   "outputs": [
    {
     "name": "stdout",
     "output_type": "stream",
     "text": [
      "[0, 1, 2, 3, 6, 8, 9, 11, 12, 14, 15, 17, 19, 22, 23, 24, 25, 26, 29, 32, 33, 35, 36, 37, 39, 41, 43, 46, 49, 50, 54, 55, 56]\n"
     ]
    }
   ],
   "source": [
    "print(sorted(y_train.unique()))"
   ]
  },
  {
   "cell_type": "code",
   "execution_count": 81,
   "metadata": {},
   "outputs": [
    {
     "data": {
      "text/plain": [
       "33"
      ]
     },
     "execution_count": 81,
     "metadata": {},
     "output_type": "execute_result"
    }
   ],
   "source": [
    "y_test.nunique()"
   ]
  },
  {
   "cell_type": "code",
   "execution_count": 82,
   "metadata": {},
   "outputs": [
    {
     "name": "stdout",
     "output_type": "stream",
     "text": [
      "[0, 1, 2, 3, 6, 8, 9, 11, 12, 14, 15, 17, 19, 22, 23, 24, 25, 26, 29, 32, 33, 35, 36, 37, 39, 41, 43, 46, 49, 50, 54, 55, 56]\n"
     ]
    }
   ],
   "source": [
    "print(sorted(y_test.unique()))"
   ]
  },
  {
   "cell_type": "markdown",
   "metadata": {},
   "source": [
    "## Подбор гиперпараметров"
   ]
  },
  {
   "cell_type": "code",
   "execution_count": 83,
   "metadata": {},
   "outputs": [],
   "source": [
    "def fit_catboost(trial, train, val, cat_features_indices):\n",
    "    X_train, y_train = train\n",
    "    X_val, y_val = val\n",
    "\n",
    "    param = {\n",
    "        'n_estimators' : 2000, # Можно не перебирать, есть Early-Stopping\n",
    "        'learning_rate': trial.suggest_float('learning_rate', 0.001, 0.1),\n",
    "        'l2_leaf_reg': trial.suggest_float('l2_leaf_reg', 3.0, 60.0),        \n",
    "        'auto_class_weights': trial.suggest_categorical('auto_class_weights', ['Balanced', 'None']),\n",
    "        'max_depth': trial.suggest_int('max_depth', 4, 10),\n",
    "        'border_count': trial.suggest_int('border_count', 32, 128)\n",
    "    }\n",
    "\n",
    "    clf = CatBoostClassifier(\n",
    "        **param,\n",
    "        loss_function='MultiClass',\n",
    "        eval_metric='TotalF1:average=Macro',\n",
    "        random_seed=RANDOM_STATE,\n",
    "        cat_features=cat_features_indices,\n",
    "        thread_count=-1,\n",
    "        task_type='GPU',\n",
    "    )\n",
    "\n",
    "    clf.fit(\n",
    "        X_train,\n",
    "        y_train,\n",
    "        eval_set=(X_val, y_val),\n",
    "        verbose=100,\n",
    "        plot=False,\n",
    "        early_stopping_rounds=100,\n",
    "    )\n",
    "\n",
    "    y_pred = clf.predict(X_val)\n",
    "    return clf, y_pred"
   ]
  },
  {
   "cell_type": "code",
   "execution_count": 84,
   "metadata": {},
   "outputs": [],
   "source": [
    "def objective(trial, X, y, cat_features_indices, return_models=False):\n",
    "    n_splits = 3\n",
    "    skf = StratifiedKFold(n_splits=n_splits, shuffle=True, random_state=RANDOM_STATE)\n",
    "\n",
    "    scores, models = [], []\n",
    "    \n",
    "    for train_idx, valid_idx in skf.split(X, y):\n",
    "        train_data = X.iloc[train_idx, :], y.iloc[train_idx]\n",
    "        valid_data = X.iloc[valid_idx, :], y.iloc[valid_idx]\n",
    "\n",
    "        # Подаем trials для перебора\n",
    "        model, y_pred = fit_catboost(trial, train_data, valid_data, cat_features_indices) # Определили выше\n",
    "        scores.append(f1_score(valid_data[1], y_pred, average='macro'))\n",
    "        models.append(model)\n",
    "         \n",
    "\n",
    "    result = np.mean(scores)\n",
    "    \n",
    "    if return_models:\n",
    "        return result, models\n",
    "    else:\n",
    "        return result"
   ]
  },
  {
   "cell_type": "code",
   "execution_count": 85,
   "metadata": {},
   "outputs": [
    {
     "name": "stderr",
     "output_type": "stream",
     "text": [
      "[I 2024-08-16 18:16:43,434] A new study created in memory with name: no-name-a88180a7-824a-495e-95bc-6dc31add3078\n"
     ]
    },
    {
     "data": {
      "application/vnd.jupyter.widget-view+json": {
       "model_id": "951d883abe9f4fa5a23bc98c670a6941",
       "version_major": 2,
       "version_minor": 0
      },
      "text/plain": [
       "  0%|          | 0/3 [00:00<?, ?it/s]"
      ]
     },
     "metadata": {},
     "output_type": "display_data"
    },
    {
     "name": "stdout",
     "output_type": "stream",
     "text": [
      "0:\tlearn: 0.2606482\ttest: 0.2593489\tbest: 0.2593489 (0)\ttotal: 91.8ms\tremaining: 3m 3s\n",
      "100:\tlearn: 0.5536750\ttest: 0.5555023\tbest: 0.5555023 (100)\ttotal: 8.37s\tremaining: 2m 37s\n",
      "200:\tlearn: 0.7433961\ttest: 0.7215110\tbest: 0.7225690 (199)\ttotal: 16.7s\tremaining: 2m 29s\n",
      "300:\tlearn: 0.8138344\ttest: 0.7991717\tbest: 0.7991717 (300)\ttotal: 24.6s\tremaining: 2m 18s\n",
      "400:\tlearn: 0.8749451\ttest: 0.8504557\tbest: 0.8504696 (399)\ttotal: 31.7s\tremaining: 2m 6s\n",
      "500:\tlearn: 0.9197323\ttest: 0.9045497\tbest: 0.9045662 (498)\ttotal: 39.1s\tremaining: 1m 57s\n",
      "600:\tlearn: 0.9479254\ttest: 0.9282599\tbest: 0.9282979 (596)\ttotal: 46.3s\tremaining: 1m 47s\n",
      "700:\tlearn: 0.9586096\ttest: 0.9409278\tbest: 0.9410093 (699)\ttotal: 53.4s\tremaining: 1m 38s\n",
      "800:\tlearn: 0.9646410\ttest: 0.9495787\tbest: 0.9496471 (798)\ttotal: 1m\tremaining: 1m 30s\n",
      "900:\tlearn: 0.9706787\ttest: 0.9549787\tbest: 0.9549787 (900)\ttotal: 1m 7s\tremaining: 1m 22s\n",
      "1000:\tlearn: 0.9743751\ttest: 0.9576491\tbest: 0.9576491 (999)\ttotal: 1m 14s\tremaining: 1m 13s\n",
      "1100:\tlearn: 0.9773302\ttest: 0.9603114\tbest: 0.9603114 (1098)\ttotal: 1m 20s\tremaining: 1m 5s\n",
      "1200:\tlearn: 0.9816867\ttest: 0.9678425\tbest: 0.9678425 (1198)\ttotal: 1m 26s\tremaining: 57.8s\n",
      "1300:\tlearn: 0.9840153\ttest: 0.9702583\tbest: 0.9702679 (1285)\ttotal: 1m 32s\tremaining: 50s\n",
      "1400:\tlearn: 0.9853933\ttest: 0.9722192\tbest: 0.9722192 (1395)\ttotal: 1m 39s\tremaining: 42.4s\n",
      "1500:\tlearn: 0.9855833\ttest: 0.9744759\tbest: 0.9745841 (1480)\ttotal: 1m 45s\tremaining: 34.9s\n",
      "1600:\tlearn: 0.9866161\ttest: 0.9764053\tbest: 0.9766031 (1589)\ttotal: 1m 51s\tremaining: 27.7s\n",
      "1700:\tlearn: 0.9888844\ttest: 0.9769882\tbest: 0.9772425 (1639)\ttotal: 1m 56s\tremaining: 20.5s\n",
      "1800:\tlearn: 0.9892806\ttest: 0.9777557\tbest: 0.9778606 (1783)\ttotal: 2m 2s\tremaining: 13.6s\n",
      "1900:\tlearn: 0.9895656\ttest: 0.9798830\tbest: 0.9800527 (1883)\ttotal: 2m 10s\tremaining: 6.82s\n",
      "1999:\tlearn: 0.9899565\ttest: 0.9810130\tbest: 0.9811117 (1993)\ttotal: 2m 22s\tremaining: 0us\n",
      "bestTest = 0.9811116942\n",
      "bestIteration = 1993\n",
      "Shrink model to first 1994 iterations.\n",
      "0:\tlearn: 0.2617206\ttest: 0.2675037\tbest: 0.2675037 (0)\ttotal: 140ms\tremaining: 4m 39s\n",
      "100:\tlearn: 0.5548726\ttest: 0.5554424\tbest: 0.5554424 (100)\ttotal: 15.2s\tremaining: 4m 45s\n",
      "200:\tlearn: 0.7394629\ttest: 0.7257589\tbest: 0.7257589 (200)\ttotal: 30.4s\tremaining: 4m 32s\n",
      "300:\tlearn: 0.8061331\ttest: 0.7918054\tbest: 0.7919122 (299)\ttotal: 44.8s\tremaining: 4m 12s\n",
      "400:\tlearn: 0.8686469\ttest: 0.8549941\tbest: 0.8551394 (397)\ttotal: 58.1s\tremaining: 3m 51s\n",
      "500:\tlearn: 0.8988203\ttest: 0.8866633\tbest: 0.8866633 (500)\ttotal: 1m 11s\tremaining: 3m 34s\n",
      "600:\tlearn: 0.9250694\ttest: 0.9203876\tbest: 0.9203876 (600)\ttotal: 1m 25s\tremaining: 3m 18s\n",
      "700:\tlearn: 0.9416501\ttest: 0.9360483\tbest: 0.9360924 (698)\ttotal: 1m 39s\tremaining: 3m 3s\n",
      "800:\tlearn: 0.9561685\ttest: 0.9451982\tbest: 0.9452847 (798)\ttotal: 1m 53s\tremaining: 2m 49s\n",
      "900:\tlearn: 0.9647124\ttest: 0.9505362\tbest: 0.9505362 (899)\ttotal: 2m 6s\tremaining: 2m 34s\n",
      "1000:\tlearn: 0.9718503\ttest: 0.9613910\tbest: 0.9613910 (1000)\ttotal: 2m 20s\tremaining: 2m 20s\n",
      "1100:\tlearn: 0.9832595\ttest: 0.9775019\tbest: 0.9775019 (1097)\ttotal: 2m 34s\tremaining: 2m 5s\n",
      "1200:\tlearn: 0.9890250\ttest: 0.9841071\tbest: 0.9841071 (1197)\ttotal: 2m 47s\tremaining: 1m 51s\n",
      "1300:\tlearn: 0.9913641\ttest: 0.9866904\tbest: 0.9866904 (1297)\ttotal: 3m\tremaining: 1m 37s\n",
      "1400:\tlearn: 0.9925644\ttest: 0.9884164\tbest: 0.9884177 (1365)\ttotal: 3m 13s\tremaining: 1m 22s\n",
      "1500:\tlearn: 0.9932875\ttest: 0.9895092\tbest: 0.9896846 (1481)\ttotal: 3m 26s\tremaining: 1m 8s\n",
      "1600:\tlearn: 0.9939178\ttest: 0.9900658\tbest: 0.9904638 (1591)\ttotal: 3m 39s\tremaining: 54.7s\n",
      "1700:\tlearn: 0.9948804\ttest: 0.9910074\tbest: 0.9910074 (1673)\ttotal: 3m 51s\tremaining: 40.8s\n",
      "1800:\tlearn: 0.9956631\ttest: 0.9915302\tbest: 0.9916083 (1798)\ttotal: 4m 4s\tremaining: 27s\n",
      "1900:\tlearn: 0.9963673\ttest: 0.9920593\tbest: 0.9920593 (1828)\ttotal: 4m 17s\tremaining: 13.4s\n",
      "1999:\tlearn: 0.9967333\ttest: 0.9922814\tbest: 0.9923166 (1945)\ttotal: 4m 29s\tremaining: 0us\n",
      "bestTest = 0.9923166127\n",
      "bestIteration = 1945\n",
      "Shrink model to first 1946 iterations.\n",
      "0:\tlearn: 0.2635365\ttest: 0.2655109\tbest: 0.2655109 (0)\ttotal: 140ms\tremaining: 4m 40s\n",
      "100:\tlearn: 0.5597850\ttest: 0.5448946\tbest: 0.5448946 (100)\ttotal: 15.2s\tremaining: 4m 45s\n",
      "200:\tlearn: 0.7280394\ttest: 0.7123965\tbest: 0.7123965 (200)\ttotal: 30.4s\tremaining: 4m 32s\n",
      "300:\tlearn: 0.8214128\ttest: 0.8023604\tbest: 0.8023604 (300)\ttotal: 44.7s\tremaining: 4m 12s\n",
      "400:\tlearn: 0.8596431\ttest: 0.8335599\tbest: 0.8335599 (400)\ttotal: 58.9s\tremaining: 3m 54s\n",
      "500:\tlearn: 0.9167880\ttest: 0.8908839\tbest: 0.8908839 (500)\ttotal: 1m 12s\tremaining: 3m 38s\n",
      "600:\tlearn: 0.9329236\ttest: 0.9083448\tbest: 0.9083448 (600)\ttotal: 1m 26s\tremaining: 3m 22s\n",
      "700:\tlearn: 0.9485954\ttest: 0.9239540\tbest: 0.9239540 (700)\ttotal: 1m 40s\tremaining: 3m 6s\n",
      "800:\tlearn: 0.9605391\ttest: 0.9432048\tbest: 0.9433028 (798)\ttotal: 1m 54s\tremaining: 2m 51s\n",
      "900:\tlearn: 0.9730159\ttest: 0.9552930\tbest: 0.9553396 (899)\ttotal: 2m 8s\tremaining: 2m 36s\n",
      "1000:\tlearn: 0.9764429\ttest: 0.9607933\tbest: 0.9608908 (998)\ttotal: 2m 21s\tremaining: 2m 21s\n",
      "1100:\tlearn: 0.9796879\ttest: 0.9642536\tbest: 0.9642536 (1099)\ttotal: 2m 34s\tremaining: 2m 6s\n",
      "1200:\tlearn: 0.9818433\ttest: 0.9674861\tbest: 0.9677337 (1196)\ttotal: 2m 47s\tremaining: 1m 51s\n",
      "1300:\tlearn: 0.9837155\ttest: 0.9696520\tbest: 0.9696520 (1300)\ttotal: 3m\tremaining: 1m 36s\n",
      "1400:\tlearn: 0.9851318\ttest: 0.9707360\tbest: 0.9708278 (1378)\ttotal: 3m 12s\tremaining: 1m 22s\n",
      "1500:\tlearn: 0.9864726\ttest: 0.9719858\tbest: 0.9719858 (1500)\ttotal: 3m 24s\tremaining: 1m 8s\n",
      "1600:\tlearn: 0.9872903\ttest: 0.9734078\tbest: 0.9734078 (1600)\ttotal: 3m 37s\tremaining: 54.1s\n",
      "1700:\tlearn: 0.9888056\ttest: 0.9746458\tbest: 0.9747297 (1699)\ttotal: 3m 49s\tremaining: 40.4s\n",
      "1800:\tlearn: 0.9901140\ttest: 0.9756176\tbest: 0.9756176 (1796)\ttotal: 4m 2s\tremaining: 26.7s\n",
      "1900:\tlearn: 0.9908875\ttest: 0.9799630\tbest: 0.9799630 (1898)\ttotal: 4m 14s\tremaining: 13.3s\n",
      "1999:\tlearn: 0.9915275\ttest: 0.9821130\tbest: 0.9822082 (1992)\ttotal: 4m 26s\tremaining: 0us\n",
      "bestTest = 0.9822082297\n",
      "bestIteration = 1992\n",
      "Shrink model to first 1993 iterations.\n",
      "[I 2024-08-16 18:28:09,157] Trial 0 finished with value: 0.9852121788427541 and parameters: {'learning_rate': 0.047151241915866816, 'l2_leaf_reg': 49.749009454308556, 'auto_class_weights': 'None', 'max_depth': 7, 'border_count': 127}. Best is trial 0 with value: 0.9852121788427541.\n",
      "0:\tlearn: 0.2190609\ttest: 0.2157486\tbest: 0.2157486 (0)\ttotal: 107ms\tremaining: 3m 33s\n",
      "100:\tlearn: 0.8986821\ttest: 0.8825366\tbest: 0.8825366 (100)\ttotal: 10.6s\tremaining: 3m 18s\n",
      "200:\tlearn: 0.9751459\ttest: 0.9562846\tbest: 0.9562846 (200)\ttotal: 20.4s\tremaining: 3m 2s\n",
      "300:\tlearn: 0.9814369\ttest: 0.9677286\tbest: 0.9680143 (295)\ttotal: 29.8s\tremaining: 2m 48s\n",
      "400:\tlearn: 0.9858355\ttest: 0.9787608\tbest: 0.9799704 (398)\ttotal: 39.1s\tremaining: 2m 35s\n",
      "500:\tlearn: 0.9894641\ttest: 0.9829720\tbest: 0.9829720 (497)\ttotal: 48.4s\tremaining: 2m 24s\n",
      "600:\tlearn: 0.9933671\ttest: 0.9848480\tbest: 0.9848515 (594)\ttotal: 57.9s\tremaining: 2m 14s\n",
      "700:\tlearn: 0.9952037\ttest: 0.9869114\tbest: 0.9869742 (675)\ttotal: 1m 7s\tremaining: 2m 4s\n",
      "800:\tlearn: 0.9967420\ttest: 0.9893864\tbest: 0.9893864 (795)\ttotal: 1m 17s\tremaining: 1m 55s\n",
      "900:\tlearn: 0.9986774\ttest: 0.9908256\tbest: 0.9909370 (898)\ttotal: 1m 26s\tremaining: 1m 45s\n",
      "1000:\tlearn: 0.9994302\ttest: 0.9937728\tbest: 0.9937728 (999)\ttotal: 1m 36s\tremaining: 1m 36s\n",
      "1100:\tlearn: 0.9997263\ttest: 0.9953711\tbest: 0.9954883 (1085)\ttotal: 1m 45s\tremaining: 1m 26s\n",
      "1200:\tlearn: 0.9998109\ttest: 0.9971992\tbest: 0.9971992 (1193)\ttotal: 1m 55s\tremaining: 1m 16s\n",
      "1300:\tlearn: 0.9998711\ttest: 0.9975078\tbest: 0.9975698 (1277)\ttotal: 2m 5s\tremaining: 1m 7s\n",
      "1400:\tlearn: 0.9999074\ttest: 0.9983141\tbest: 0.9983141 (1389)\ttotal: 2m 14s\tremaining: 57.5s\n",
      "1500:\tlearn: 0.9999399\ttest: 0.9986208\tbest: 0.9986208 (1495)\ttotal: 2m 24s\tremaining: 48s\n",
      "1600:\tlearn: 1.0000000\ttest: 0.9986260\tbest: 0.9986885 (1526)\ttotal: 2m 33s\tremaining: 38.3s\n",
      "bestTest = 0.9986884604\n",
      "bestIteration = 1526\n",
      "Shrink model to first 1527 iterations.\n",
      "0:\tlearn: 0.2152717\ttest: 0.2220045\tbest: 0.2220045 (0)\ttotal: 103ms\tremaining: 3m 25s\n",
      "100:\tlearn: 0.9099258\ttest: 0.8989602\tbest: 0.8989602 (100)\ttotal: 10.6s\tremaining: 3m 18s\n",
      "200:\tlearn: 0.9704327\ttest: 0.9496745\tbest: 0.9499887 (199)\ttotal: 20.5s\tremaining: 3m 3s\n",
      "300:\tlearn: 0.9854098\ttest: 0.9731153\tbest: 0.9731153 (300)\ttotal: 30.1s\tremaining: 2m 49s\n",
      "400:\tlearn: 0.9938010\ttest: 0.9866024\tbest: 0.9866024 (394)\ttotal: 39.6s\tremaining: 2m 37s\n",
      "500:\tlearn: 0.9965798\ttest: 0.9909425\tbest: 0.9909425 (496)\ttotal: 49.2s\tremaining: 2m 27s\n",
      "600:\tlearn: 0.9975914\ttest: 0.9922042\tbest: 0.9922042 (592)\ttotal: 58.7s\tremaining: 2m 16s\n",
      "700:\tlearn: 0.9986401\ttest: 0.9933029\tbest: 0.9933029 (684)\ttotal: 1m 8s\tremaining: 2m 6s\n",
      "800:\tlearn: 0.9991091\ttest: 0.9952165\tbest: 0.9952165 (795)\ttotal: 1m 17s\tremaining: 1m 56s\n",
      "900:\tlearn: 0.9992973\ttest: 0.9954726\tbest: 0.9955599 (893)\ttotal: 1m 27s\tremaining: 1m 46s\n",
      "1000:\tlearn: 0.9995901\ttest: 0.9970760\tbest: 0.9970760 (996)\ttotal: 1m 37s\tremaining: 1m 37s\n",
      "1100:\tlearn: 0.9997120\ttest: 0.9975734\tbest: 0.9975734 (1093)\ttotal: 1m 46s\tremaining: 1m 27s\n",
      "1200:\tlearn: 1.0000000\ttest: 0.9978857\tbest: 0.9979850 (1189)\ttotal: 1m 56s\tremaining: 1m 17s\n",
      "1300:\tlearn: 1.0000000\ttest: 0.9983355\tbest: 0.9983355 (1250)\ttotal: 2m 6s\tremaining: 1m 7s\n",
      "bestTest = 0.9983354599\n",
      "bestIteration = 1250\n",
      "Shrink model to first 1251 iterations.\n",
      "0:\tlearn: 0.2148768\ttest: 0.2120221\tbest: 0.2120221 (0)\ttotal: 102ms\tremaining: 3m 24s\n",
      "100:\tlearn: 0.9070327\ttest: 0.8816925\tbest: 0.8818542 (99)\ttotal: 10.6s\tremaining: 3m 18s\n",
      "200:\tlearn: 0.9697429\ttest: 0.9537398\tbest: 0.9537398 (200)\ttotal: 20.4s\tremaining: 3m 3s\n",
      "300:\tlearn: 0.9882606\ttest: 0.9753014\tbest: 0.9755510 (292)\ttotal: 29.9s\tremaining: 2m 48s\n",
      "400:\tlearn: 0.9926569\ttest: 0.9824594\tbest: 0.9824594 (400)\ttotal: 39.3s\tremaining: 2m 36s\n",
      "500:\tlearn: 0.9953897\ttest: 0.9855122\tbest: 0.9871412 (494)\ttotal: 48.9s\tremaining: 2m 26s\n",
      "600:\tlearn: 0.9971534\ttest: 0.9917824\tbest: 0.9917824 (600)\ttotal: 58.4s\tremaining: 2m 15s\n",
      "700:\tlearn: 0.9990972\ttest: 0.9924100\tbest: 0.9924100 (644)\ttotal: 1m 7s\tremaining: 2m 5s\n",
      "800:\tlearn: 0.9992806\ttest: 0.9952792\tbest: 0.9953469 (793)\ttotal: 1m 17s\tremaining: 1m 55s\n",
      "900:\tlearn: 0.9994014\ttest: 0.9955206\tbest: 0.9957198 (885)\ttotal: 1m 26s\tremaining: 1m 45s\n",
      "1000:\tlearn: 0.9996307\ttest: 0.9970083\tbest: 0.9970083 (996)\ttotal: 1m 36s\tremaining: 1m 36s\n",
      "1100:\tlearn: 0.9996801\ttest: 0.9971079\tbest: 0.9971079 (1082)\ttotal: 1m 46s\tremaining: 1m 26s\n",
      "1200:\tlearn: 0.9996801\ttest: 0.9974808\tbest: 0.9974808 (1168)\ttotal: 1m 55s\tremaining: 1m 16s\n",
      "1300:\tlearn: 0.9996801\ttest: 0.9978200\tbest: 0.9978200 (1287)\ttotal: 2m 5s\tremaining: 1m 7s\n",
      "bestTest = 0.9978200258\n",
      "bestIteration = 1287\n",
      "Shrink model to first 1288 iterations.\n",
      "[I 2024-08-16 18:35:15,462] Trial 1 finished with value: 0.9982813153647968 and parameters: {'learning_rate': 0.0769727755879644, 'l2_leaf_reg': 8.216801603031977, 'auto_class_weights': 'None', 'max_depth': 6, 'border_count': 73}. Best is trial 1 with value: 0.9982813153647968.\n",
      "0:\tlearn: 0.3719068\ttest: 0.3611736\tbest: 0.3611736 (0)\ttotal: 297ms\tremaining: 9m 53s\n",
      "100:\tlearn: 0.4038272\ttest: 0.3932714\tbest: 0.3934490 (96)\ttotal: 30s\tremaining: 9m 24s\n",
      "200:\tlearn: 0.4113093\ttest: 0.3994207\tbest: 0.4004724 (198)\ttotal: 59.7s\tremaining: 8m 54s\n",
      "300:\tlearn: 0.4471296\ttest: 0.4447422\tbest: 0.4447422 (300)\ttotal: 1m 30s\tremaining: 8m 29s\n",
      "400:\tlearn: 0.4608370\ttest: 0.4689785\tbest: 0.4689785 (400)\ttotal: 2m 1s\tremaining: 8m 4s\n",
      "500:\tlearn: 0.4793554\ttest: 0.4851822\tbest: 0.4863042 (480)\ttotal: 2m 33s\tremaining: 7m 38s\n",
      "600:\tlearn: 0.5016156\ttest: 0.5088822\tbest: 0.5088822 (600)\ttotal: 3m 5s\tremaining: 7m 11s\n",
      "700:\tlearn: 0.5278231\ttest: 0.5323231\tbest: 0.5323291 (699)\ttotal: 3m 36s\tremaining: 6m 40s\n",
      "800:\tlearn: 0.5719842\ttest: 0.5792660\tbest: 0.5792660 (800)\ttotal: 4m 7s\tremaining: 6m 10s\n",
      "900:\tlearn: 0.5915183\ttest: 0.5930075\tbest: 0.5930075 (900)\ttotal: 4m 38s\tremaining: 5m 39s\n",
      "1000:\tlearn: 0.5989564\ttest: 0.6005756\tbest: 0.6010646 (996)\ttotal: 5m 9s\tremaining: 5m 8s\n",
      "1100:\tlearn: 0.6244107\ttest: 0.6224636\tbest: 0.6228560 (1092)\ttotal: 5m 39s\tremaining: 4m 37s\n",
      "1200:\tlearn: 0.6372277\ttest: 0.6354543\tbest: 0.6357181 (1190)\ttotal: 6m 8s\tremaining: 4m 5s\n",
      "1300:\tlearn: 0.6489780\ttest: 0.6464628\tbest: 0.6467759 (1289)\ttotal: 6m 39s\tremaining: 3m 34s\n",
      "1400:\tlearn: 0.6649653\ttest: 0.6616788\tbest: 0.6616788 (1399)\ttotal: 7m 10s\tremaining: 3m 3s\n",
      "1500:\tlearn: 0.6725007\ttest: 0.6699595\tbest: 0.6699595 (1498)\ttotal: 7m 41s\tremaining: 2m 33s\n",
      "1600:\tlearn: 0.6884944\ttest: 0.6907199\tbest: 0.6907199 (1598)\ttotal: 8m 13s\tremaining: 2m 3s\n",
      "1700:\tlearn: 0.7064550\ttest: 0.7063609\tbest: 0.7063609 (1700)\ttotal: 8m 46s\tremaining: 1m 32s\n",
      "1800:\tlearn: 0.7245951\ttest: 0.7238758\tbest: 0.7246139 (1799)\ttotal: 9m 18s\tremaining: 1m 1s\n",
      "1900:\tlearn: 0.7477649\ttest: 0.7400542\tbest: 0.7400542 (1900)\ttotal: 9m 51s\tremaining: 30.8s\n",
      "1999:\tlearn: 0.7630486\ttest: 0.7518923\tbest: 0.7519190 (1988)\ttotal: 10m 23s\tremaining: 0us\n",
      "bestTest = 0.7519190259\n",
      "bestIteration = 1988\n",
      "Shrink model to first 1989 iterations.\n",
      "0:\tlearn: 0.3800638\ttest: 0.3812557\tbest: 0.3812557 (0)\ttotal: 323ms\tremaining: 10m 45s\n",
      "100:\tlearn: 0.4157913\ttest: 0.4178440\tbest: 0.4183540 (97)\ttotal: 30.2s\tremaining: 9m 27s\n",
      "200:\tlearn: 0.4300933\ttest: 0.4332781\tbest: 0.4332781 (200)\ttotal: 60s\tremaining: 8m 56s\n",
      "300:\tlearn: 0.4631162\ttest: 0.4609151\tbest: 0.4726332 (288)\ttotal: 1m 29s\tremaining: 8m 26s\n",
      "bestTest = 0.472633245\n",
      "bestIteration = 288\n",
      "Shrink model to first 289 iterations.\n",
      "0:\tlearn: 0.3668429\ttest: 0.3585520\tbest: 0.3585520 (0)\ttotal: 293ms\tremaining: 9m 46s\n",
      "100:\tlearn: 0.3934669\ttest: 0.3810245\tbest: 0.3820700 (98)\ttotal: 29.8s\tremaining: 9m 20s\n",
      "200:\tlearn: 0.4097195\ttest: 0.3936783\tbest: 0.3936783 (200)\ttotal: 59.7s\tremaining: 8m 54s\n",
      "300:\tlearn: 0.4223940\ttest: 0.4114090\tbest: 0.4114138 (297)\ttotal: 1m 30s\tremaining: 8m 28s\n",
      "400:\tlearn: 0.4604041\ttest: 0.4458276\tbest: 0.4458276 (400)\ttotal: 2m 1s\tremaining: 8m 5s\n",
      "500:\tlearn: 0.4848084\ttest: 0.4745540\tbest: 0.4745540 (500)\ttotal: 2m 34s\tremaining: 7m 40s\n",
      "600:\tlearn: 0.5042891\ttest: 0.4906594\tbest: 0.4906594 (599)\ttotal: 3m 7s\tremaining: 7m 15s\n",
      "700:\tlearn: 0.5375412\ttest: 0.5272428\tbest: 0.5272428 (700)\ttotal: 3m 37s\tremaining: 6m 43s\n",
      "800:\tlearn: 0.5713351\ttest: 0.5476389\tbest: 0.5476389 (799)\ttotal: 4m 8s\tremaining: 6m 11s\n",
      "900:\tlearn: 0.5940828\ttest: 0.5735509\tbest: 0.5745463 (895)\ttotal: 4m 38s\tremaining: 5m 40s\n",
      "1000:\tlearn: 0.6087153\ttest: 0.5891048\tbest: 0.5891048 (998)\ttotal: 5m 8s\tremaining: 5m 8s\n",
      "1100:\tlearn: 0.6204497\ttest: 0.5979902\tbest: 0.6000864 (1061)\ttotal: 5m 39s\tremaining: 4m 37s\n",
      "1200:\tlearn: 0.6401129\ttest: 0.6160515\tbest: 0.6160516 (1198)\ttotal: 6m 9s\tremaining: 4m 5s\n",
      "1300:\tlearn: 0.6566695\ttest: 0.6310776\tbest: 0.6318809 (1292)\ttotal: 6m 40s\tremaining: 3m 35s\n",
      "1400:\tlearn: 0.6702354\ttest: 0.6477206\tbest: 0.6481257 (1397)\ttotal: 7m 10s\tremaining: 3m 4s\n",
      "1500:\tlearn: 0.6768162\ttest: 0.6573086\tbest: 0.6573086 (1500)\ttotal: 7m 40s\tremaining: 2m 33s\n",
      "1600:\tlearn: 0.6862363\ttest: 0.6706275\tbest: 0.6706275 (1597)\ttotal: 8m 12s\tremaining: 2m 2s\n",
      "1700:\tlearn: 0.7005194\ttest: 0.6824162\tbest: 0.6824162 (1700)\ttotal: 8m 45s\tremaining: 1m 32s\n",
      "1800:\tlearn: 0.7098649\ttest: 0.6909332\tbest: 0.6909332 (1787)\ttotal: 9m 17s\tremaining: 1m 1s\n",
      "1900:\tlearn: 0.7319693\ttest: 0.7045949\tbest: 0.7051418 (1891)\ttotal: 9m 49s\tremaining: 30.7s\n",
      "1999:\tlearn: 0.7481253\ttest: 0.7220928\tbest: 0.7220928 (1998)\ttotal: 10m 21s\tremaining: 0us\n",
      "bestTest = 0.7220927998\n",
      "bestIteration = 1998\n",
      "Shrink model to first 1999 iterations.\n",
      "[I 2024-08-16 18:58:05,049] Trial 2 finished with value: 0.6488816902496825 and parameters: {'learning_rate': 0.005685946723618368, 'l2_leaf_reg': 57.66039909044879, 'auto_class_weights': 'None', 'max_depth': 9, 'border_count': 75}. Best is trial 1 with value: 0.9982813153647968.\n",
      "CPU times: total: 1h 23min 49s\n",
      "Wall time: 41min 21s\n"
     ]
    }
   ],
   "source": [
    "%%time\n",
    "\n",
    "study = optuna.create_study(direction='maximize')\n",
    "study.optimize(\n",
    "                lambda trial: objective(trial, X, y, categorical_features),\n",
    "                n_trials=3,\n",
    "                show_progress_bar=True,\n",
    ")"
   ]
  },
  {
   "cell_type": "code",
   "execution_count": 86,
   "metadata": {},
   "outputs": [
    {
     "name": "stdout",
     "output_type": "stream",
     "text": [
      "Best trial: score 0.9982813153647968, params {'learning_rate': 0.0769727755879644, 'l2_leaf_reg': 8.216801603031977, 'auto_class_weights': 'None', 'max_depth': 6, 'border_count': 73}\n"
     ]
    }
   ],
   "source": [
    "print(\"Best trial: score {}, params {}\".format(study.best_trial.value, study.best_trial.params))"
   ]
  },
  {
   "cell_type": "code",
   "execution_count": 87,
   "metadata": {},
   "outputs": [
    {
     "name": "stdout",
     "output_type": "stream",
     "text": [
      "0:\tlearn: 0.2190609\ttest: 0.2157486\tbest: 0.2157486 (0)\ttotal: 117ms\tremaining: 3m 53s\n",
      "100:\tlearn: 0.8986821\ttest: 0.8825366\tbest: 0.8825366 (100)\ttotal: 10.5s\tremaining: 3m 18s\n",
      "200:\tlearn: 0.9751459\ttest: 0.9562846\tbest: 0.9562846 (200)\ttotal: 20.4s\tremaining: 3m 2s\n",
      "300:\tlearn: 0.9814369\ttest: 0.9677286\tbest: 0.9680143 (295)\ttotal: 29.8s\tremaining: 2m 48s\n",
      "400:\tlearn: 0.9858355\ttest: 0.9787608\tbest: 0.9799704 (398)\ttotal: 39.1s\tremaining: 2m 36s\n",
      "500:\tlearn: 0.9894641\ttest: 0.9829720\tbest: 0.9829720 (497)\ttotal: 48.4s\tremaining: 2m 24s\n",
      "600:\tlearn: 0.9933671\ttest: 0.9848480\tbest: 0.9848515 (594)\ttotal: 57.8s\tremaining: 2m 14s\n",
      "700:\tlearn: 0.9952037\ttest: 0.9869114\tbest: 0.9869742 (675)\ttotal: 1m 7s\tremaining: 2m 4s\n",
      "800:\tlearn: 0.9967420\ttest: 0.9893864\tbest: 0.9893864 (795)\ttotal: 1m 16s\tremaining: 1m 55s\n",
      "900:\tlearn: 0.9986774\ttest: 0.9908256\tbest: 0.9909370 (898)\ttotal: 1m 26s\tremaining: 1m 45s\n",
      "1000:\tlearn: 0.9994302\ttest: 0.9937728\tbest: 0.9937728 (999)\ttotal: 1m 36s\tremaining: 1m 35s\n",
      "1100:\tlearn: 0.9997263\ttest: 0.9953711\tbest: 0.9954883 (1085)\ttotal: 1m 45s\tremaining: 1m 26s\n",
      "1200:\tlearn: 0.9998109\ttest: 0.9971992\tbest: 0.9971992 (1193)\ttotal: 1m 55s\tremaining: 1m 16s\n",
      "1300:\tlearn: 0.9998711\ttest: 0.9975078\tbest: 0.9975698 (1277)\ttotal: 2m 4s\tremaining: 1m 7s\n",
      "1400:\tlearn: 0.9999074\ttest: 0.9983141\tbest: 0.9983141 (1389)\ttotal: 2m 14s\tremaining: 57.4s\n",
      "1500:\tlearn: 0.9999399\ttest: 0.9986208\tbest: 0.9986208 (1495)\ttotal: 2m 24s\tremaining: 47.9s\n",
      "1600:\tlearn: 1.0000000\ttest: 0.9986260\tbest: 0.9986885 (1526)\ttotal: 2m 33s\tremaining: 38.3s\n",
      "bestTest = 0.9986884604\n",
      "bestIteration = 1526\n",
      "Shrink model to first 1527 iterations.\n",
      "0:\tlearn: 0.2152717\ttest: 0.2220045\tbest: 0.2220045 (0)\ttotal: 103ms\tremaining: 3m 26s\n",
      "100:\tlearn: 0.9099258\ttest: 0.8989602\tbest: 0.8989602 (100)\ttotal: 10.5s\tremaining: 3m 18s\n",
      "200:\tlearn: 0.9704327\ttest: 0.9496745\tbest: 0.9499887 (199)\ttotal: 20.5s\tremaining: 3m 3s\n",
      "300:\tlearn: 0.9854098\ttest: 0.9731153\tbest: 0.9731153 (300)\ttotal: 30.1s\tremaining: 2m 49s\n",
      "400:\tlearn: 0.9938010\ttest: 0.9866024\tbest: 0.9866024 (394)\ttotal: 39.7s\tremaining: 2m 38s\n",
      "500:\tlearn: 0.9965798\ttest: 0.9909425\tbest: 0.9909425 (496)\ttotal: 49.2s\tremaining: 2m 27s\n",
      "600:\tlearn: 0.9975914\ttest: 0.9922042\tbest: 0.9922042 (592)\ttotal: 58.8s\tremaining: 2m 16s\n",
      "700:\tlearn: 0.9986401\ttest: 0.9933029\tbest: 0.9933029 (684)\ttotal: 1m 8s\tremaining: 2m 6s\n",
      "800:\tlearn: 0.9991091\ttest: 0.9952165\tbest: 0.9952165 (795)\ttotal: 1m 18s\tremaining: 1m 56s\n",
      "900:\tlearn: 0.9992973\ttest: 0.9954726\tbest: 0.9955599 (893)\ttotal: 1m 27s\tremaining: 1m 47s\n",
      "1000:\tlearn: 0.9995901\ttest: 0.9970760\tbest: 0.9970760 (996)\ttotal: 1m 37s\tremaining: 1m 37s\n",
      "1100:\tlearn: 0.9997120\ttest: 0.9975734\tbest: 0.9975734 (1093)\ttotal: 1m 47s\tremaining: 1m 27s\n",
      "1200:\tlearn: 1.0000000\ttest: 0.9978857\tbest: 0.9979850 (1189)\ttotal: 1m 56s\tremaining: 1m 17s\n",
      "1300:\tlearn: 1.0000000\ttest: 0.9983355\tbest: 0.9983355 (1250)\ttotal: 2m 6s\tremaining: 1m 8s\n",
      "bestTest = 0.9983354599\n",
      "bestIteration = 1250\n",
      "Shrink model to first 1251 iterations.\n",
      "0:\tlearn: 0.2148768\ttest: 0.2120221\tbest: 0.2120221 (0)\ttotal: 104ms\tremaining: 3m 26s\n",
      "100:\tlearn: 0.9070327\ttest: 0.8816925\tbest: 0.8818542 (99)\ttotal: 10.6s\tremaining: 3m 20s\n",
      "200:\tlearn: 0.9697429\ttest: 0.9537398\tbest: 0.9537398 (200)\ttotal: 20.7s\tremaining: 3m 5s\n",
      "300:\tlearn: 0.9882606\ttest: 0.9753014\tbest: 0.9755510 (292)\ttotal: 30.4s\tremaining: 2m 51s\n",
      "400:\tlearn: 0.9926569\ttest: 0.9824594\tbest: 0.9824594 (400)\ttotal: 39.9s\tremaining: 2m 39s\n",
      "500:\tlearn: 0.9953897\ttest: 0.9855122\tbest: 0.9871412 (494)\ttotal: 49.5s\tremaining: 2m 28s\n",
      "600:\tlearn: 0.9971534\ttest: 0.9917824\tbest: 0.9917824 (600)\ttotal: 59.1s\tremaining: 2m 17s\n",
      "700:\tlearn: 0.9990972\ttest: 0.9924100\tbest: 0.9924100 (644)\ttotal: 1m 8s\tremaining: 2m 7s\n",
      "800:\tlearn: 0.9992806\ttest: 0.9952792\tbest: 0.9953469 (793)\ttotal: 1m 18s\tremaining: 1m 57s\n",
      "900:\tlearn: 0.9994014\ttest: 0.9955206\tbest: 0.9957198 (885)\ttotal: 1m 28s\tremaining: 1m 47s\n",
      "1000:\tlearn: 0.9996307\ttest: 0.9970083\tbest: 0.9970083 (996)\ttotal: 1m 37s\tremaining: 1m 37s\n",
      "1100:\tlearn: 0.9996801\ttest: 0.9971079\tbest: 0.9971079 (1082)\ttotal: 1m 47s\tremaining: 1m 27s\n",
      "1200:\tlearn: 0.9996801\ttest: 0.9974808\tbest: 0.9974808 (1168)\ttotal: 1m 57s\tremaining: 1m 17s\n",
      "1300:\tlearn: 0.9996801\ttest: 0.9978200\tbest: 0.9978200 (1287)\ttotal: 2m 7s\tremaining: 1m 8s\n",
      "bestTest = 0.9978200258\n",
      "bestIteration = 1287\n",
      "Shrink model to first 1288 iterations.\n",
      "CPU times: total: 14min 37s\n",
      "Wall time: 7min 9s\n"
     ]
    }
   ],
   "source": [
    "%%time\n",
    "\n",
    "valid_scores, models_all_features = objective(\n",
    "    optuna.trial.FixedTrial(study.best_params),\n",
    "    X, \n",
    "    y, \n",
    "    categorical_features,\n",
    "    return_models=True,\n",
    ")"
   ]
  },
  {
   "cell_type": "code",
   "execution_count": 88,
   "metadata": {},
   "outputs": [
    {
     "data": {
      "text/plain": [
       "[<catboost.core.CatBoostClassifier at 0x254440e0a90>,\n",
       " <catboost.core.CatBoostClassifier at 0x25444110640>,\n",
       " <catboost.core.CatBoostClassifier at 0x254406dce50>]"
      ]
     },
     "execution_count": 88,
     "metadata": {},
     "output_type": "execute_result"
    }
   ],
   "source": [
    "models_all_features"
   ]
  },
  {
   "cell_type": "code",
   "execution_count": 89,
   "metadata": {},
   "outputs": [
    {
     "data": {
      "text/plain": [
       "(0.9982813153647968, 3)"
      ]
     },
     "execution_count": 89,
     "metadata": {},
     "output_type": "execute_result"
    }
   ],
   "source": [
    "valid_scores, len(models_all_features)"
   ]
  },
  {
   "cell_type": "code",
   "execution_count": 90,
   "metadata": {},
   "outputs": [
    {
     "name": "stdout",
     "output_type": "stream",
     "text": [
      "1527\n",
      "1251\n",
      "1288\n"
     ]
    }
   ],
   "source": [
    "for m in models_all_features:\n",
    "    print(m.tree_count_)"
   ]
  },
  {
   "cell_type": "code",
   "execution_count": 91,
   "metadata": {},
   "outputs": [
    {
     "name": "stdout",
     "output_type": "stream",
     "text": [
      "{'nan_mode': 'Min', 'gpu_ram_part': 0.95, 'eval_metric': 'TotalF1:average=Macro', 'combinations_ctr': ['Borders:CtrBorderCount=15:CtrBorderType=Uniform:TargetBorderCount=1:TargetBorderType=MinEntropy:Prior=0/1:Prior=0.5/1:Prior=1/1', 'FeatureFreq:CtrBorderCount=15:CtrBorderType=Median:Prior=0/1'], 'iterations': 2000, 'fold_permutation_block': 64, 'leaf_estimation_method': 'Newton', 'observations_to_bootstrap': 'TestOnly', 'od_pval': 0, 'random_score_type': 'NormalWithModelSizeDecrease', 'counter_calc_method': 'SkipTest', 'grow_policy': 'SymmetricTree', 'penalties_coefficient': 1, 'boosting_type': 'Plain', 'ctr_history_unit': 'Sample', 'feature_border_type': 'GreedyLogSum', 'bayesian_matrix_reg': 0.10000000149011612, 'one_hot_max_size': 2, 'devices': '-1', 'eval_fraction': 0, 'pinned_memory_bytes': '104857600', 'force_unit_auto_pair_weights': False, 'l2_leaf_reg': 8.216801643371582, 'random_strength': 1, 'od_type': 'Iter', 'rsm': 1, 'boost_from_average': False, 'gpu_cat_features_storage': 'GpuRam', 'fold_size_loss_normalization': False, 'max_ctr_complexity': 4, 'model_size_reg': 0.5, 'simple_ctr': ['Borders:CtrBorderCount=15:CtrBorderType=Uniform:TargetBorderCount=1:TargetBorderType=MinEntropy:Prior=0/1:Prior=0.5/1:Prior=1/1', 'FeatureFreq:CtrBorderCount=15:CtrBorderType=MinEntropy:Prior=0/1'], 'pool_metainfo_options': {'tags': {}}, 'use_best_model': True, 'meta_l2_frequency': 0, 'od_wait': 100, 'class_names': [0, 1, 2, 3, 6, 8, 9, 11, 12, 14, 15, 17, 19, 22, 23, 24, 25, 26, 29, 32, 33, 35, 36, 37, 39, 41, 43, 46, 49, 50, 54, 55, 56], 'random_seed': 42, 'depth': 6, 'ctr_target_border_count': 1, 'has_time': False, 'border_count': 73, 'min_fold_size': 100, 'data_partition': 'DocParallel', 'bagging_temperature': 1, 'classes_count': 0, 'auto_class_weights': 'None', 'leaf_estimation_backtracking': 'AnyImprovement', 'best_model_min_trees': 1, 'min_data_in_leaf': 1, 'add_ridge_penalty_to_loss_function': False, 'loss_function': 'MultiClass', 'learning_rate': 0.07697277516126633, 'meta_l2_exponent': 1, 'score_function': 'Cosine', 'task_type': 'GPU', 'leaf_estimation_iterations': 1, 'bootstrap_type': 'Bayesian', 'max_leaves': 64, 'permutation_count': 4}\n",
      "{'nan_mode': 'Min', 'gpu_ram_part': 0.95, 'eval_metric': 'TotalF1:average=Macro', 'combinations_ctr': ['Borders:CtrBorderCount=15:CtrBorderType=Uniform:TargetBorderCount=1:TargetBorderType=MinEntropy:Prior=0/1:Prior=0.5/1:Prior=1/1', 'FeatureFreq:CtrBorderCount=15:CtrBorderType=Median:Prior=0/1'], 'iterations': 2000, 'fold_permutation_block': 64, 'leaf_estimation_method': 'Newton', 'observations_to_bootstrap': 'TestOnly', 'od_pval': 0, 'random_score_type': 'NormalWithModelSizeDecrease', 'counter_calc_method': 'SkipTest', 'grow_policy': 'SymmetricTree', 'penalties_coefficient': 1, 'boosting_type': 'Plain', 'ctr_history_unit': 'Sample', 'feature_border_type': 'GreedyLogSum', 'bayesian_matrix_reg': 0.10000000149011612, 'one_hot_max_size': 2, 'devices': '-1', 'eval_fraction': 0, 'pinned_memory_bytes': '104857600', 'force_unit_auto_pair_weights': False, 'l2_leaf_reg': 8.216801643371582, 'random_strength': 1, 'od_type': 'Iter', 'rsm': 1, 'boost_from_average': False, 'gpu_cat_features_storage': 'GpuRam', 'fold_size_loss_normalization': False, 'max_ctr_complexity': 4, 'model_size_reg': 0.5, 'simple_ctr': ['Borders:CtrBorderCount=15:CtrBorderType=Uniform:TargetBorderCount=1:TargetBorderType=MinEntropy:Prior=0/1:Prior=0.5/1:Prior=1/1', 'FeatureFreq:CtrBorderCount=15:CtrBorderType=MinEntropy:Prior=0/1'], 'pool_metainfo_options': {'tags': {}}, 'use_best_model': True, 'meta_l2_frequency': 0, 'od_wait': 100, 'class_names': [0, 1, 2, 3, 6, 8, 9, 11, 12, 14, 15, 17, 19, 22, 23, 24, 25, 26, 29, 32, 33, 35, 36, 37, 39, 41, 43, 46, 49, 50, 54, 55, 56], 'random_seed': 42, 'depth': 6, 'ctr_target_border_count': 1, 'has_time': False, 'border_count': 73, 'min_fold_size': 100, 'data_partition': 'DocParallel', 'bagging_temperature': 1, 'classes_count': 0, 'auto_class_weights': 'None', 'leaf_estimation_backtracking': 'AnyImprovement', 'best_model_min_trees': 1, 'min_data_in_leaf': 1, 'add_ridge_penalty_to_loss_function': False, 'loss_function': 'MultiClass', 'learning_rate': 0.07697277516126633, 'meta_l2_exponent': 1, 'score_function': 'Cosine', 'task_type': 'GPU', 'leaf_estimation_iterations': 1, 'bootstrap_type': 'Bayesian', 'max_leaves': 64, 'permutation_count': 4}\n",
      "{'nan_mode': 'Min', 'gpu_ram_part': 0.95, 'eval_metric': 'TotalF1:average=Macro', 'combinations_ctr': ['Borders:CtrBorderCount=15:CtrBorderType=Uniform:TargetBorderCount=1:TargetBorderType=MinEntropy:Prior=0/1:Prior=0.5/1:Prior=1/1', 'FeatureFreq:CtrBorderCount=15:CtrBorderType=Median:Prior=0/1'], 'iterations': 2000, 'fold_permutation_block': 64, 'leaf_estimation_method': 'Newton', 'observations_to_bootstrap': 'TestOnly', 'od_pval': 0, 'random_score_type': 'NormalWithModelSizeDecrease', 'counter_calc_method': 'SkipTest', 'grow_policy': 'SymmetricTree', 'penalties_coefficient': 1, 'boosting_type': 'Plain', 'ctr_history_unit': 'Sample', 'feature_border_type': 'GreedyLogSum', 'bayesian_matrix_reg': 0.10000000149011612, 'one_hot_max_size': 2, 'devices': '-1', 'eval_fraction': 0, 'pinned_memory_bytes': '104857600', 'force_unit_auto_pair_weights': False, 'l2_leaf_reg': 8.216801643371582, 'random_strength': 1, 'od_type': 'Iter', 'rsm': 1, 'boost_from_average': False, 'gpu_cat_features_storage': 'GpuRam', 'fold_size_loss_normalization': False, 'max_ctr_complexity': 4, 'model_size_reg': 0.5, 'simple_ctr': ['Borders:CtrBorderCount=15:CtrBorderType=Uniform:TargetBorderCount=1:TargetBorderType=MinEntropy:Prior=0/1:Prior=0.5/1:Prior=1/1', 'FeatureFreq:CtrBorderCount=15:CtrBorderType=MinEntropy:Prior=0/1'], 'pool_metainfo_options': {'tags': {}}, 'use_best_model': True, 'meta_l2_frequency': 0, 'od_wait': 100, 'class_names': [0, 1, 2, 3, 6, 8, 9, 11, 12, 14, 15, 17, 19, 22, 23, 24, 25, 26, 29, 32, 33, 35, 36, 37, 39, 41, 43, 46, 49, 50, 54, 55, 56], 'random_seed': 42, 'depth': 6, 'ctr_target_border_count': 1, 'has_time': False, 'border_count': 73, 'min_fold_size': 100, 'data_partition': 'DocParallel', 'bagging_temperature': 1, 'classes_count': 0, 'auto_class_weights': 'None', 'leaf_estimation_backtracking': 'AnyImprovement', 'best_model_min_trees': 1, 'min_data_in_leaf': 1, 'add_ridge_penalty_to_loss_function': False, 'loss_function': 'MultiClass', 'learning_rate': 0.07697277516126633, 'meta_l2_exponent': 1, 'score_function': 'Cosine', 'task_type': 'GPU', 'leaf_estimation_iterations': 1, 'bootstrap_type': 'Bayesian', 'max_leaves': 64, 'permutation_count': 4}\n"
     ]
    }
   ],
   "source": [
    "for m in models_all_features:\n",
    "    print(m.get_all_params())"
   ]
  },
  {
   "cell_type": "markdown",
   "metadata": {},
   "source": [
    "## Важность признаков"
   ]
  },
  {
   "cell_type": "markdown",
   "metadata": {},
   "source": [
    "### Feature Importance"
   ]
  },
  {
   "cell_type": "code",
   "execution_count": 167,
   "metadata": {},
   "outputs": [],
   "source": [
    "# models_all_features[1].get_feature_importance(prettified=True)"
   ]
  },
  {
   "cell_type": "code",
   "execution_count": 119,
   "metadata": {},
   "outputs": [],
   "source": [
    "# feature_importance = models_all_features[1].feature_importances_\n",
    "# sorted_idx = np.argsort(feature_importance)"
   ]
  },
  {
   "cell_type": "code",
   "execution_count": 105,
   "metadata": {},
   "outputs": [],
   "source": [
    "# plt.figure(figsize=(15, 15))\n",
    "# plt.barh(np.array(X.columns)[sorted_idx], feature_importance[sorted_idx], color='skyblue')\n",
    "# plt.xlabel('Importance')\n",
    "# plt.ylabel('Features')\n",
    "# plt.title('Feature Importance in CatBoostClassifier')\n",
    "# plt.grid(axis='x', linestyle='--', linewidth=0.7)"
   ]
  },
  {
   "cell_type": "markdown",
   "metadata": {},
   "source": [
    "### SHAP values"
   ]
  },
  {
   "cell_type": "code",
   "execution_count": null,
   "metadata": {},
   "outputs": [],
   "source": []
  },
  {
   "cell_type": "markdown",
   "metadata": {},
   "source": [
    "## Отбор признаков"
   ]
  },
  {
   "cell_type": "code",
   "execution_count": 102,
   "metadata": {},
   "outputs": [],
   "source": [
    "# создаем список имен признаков\n",
    "feature_names = list(X_train.columns)\n",
    "\n",
    "\n",
    "# создаем обучающий и проверочный пулы\n",
    "train_pool = Pool(X_train, \n",
    "                  y_train,\n",
    "                  feature_names=feature_names, \n",
    "                  cat_features=categorical_features)\n",
    "\n",
    "test_pool = Pool(X_test, \n",
    "                 y_test, \n",
    "                 feature_names=feature_names, \n",
    "                 cat_features=categorical_features)"
   ]
  },
  {
   "cell_type": "code",
   "execution_count": 103,
   "metadata": {},
   "outputs": [
    {
     "data": {
      "text/plain": [
       "{'learning_rate': 0.0769727755879644,\n",
       " 'l2_leaf_reg': 8.216801603031977,\n",
       " 'auto_class_weights': 'None',\n",
       " 'max_depth': 6,\n",
       " 'border_count': 73}"
      ]
     },
     "execution_count": 103,
     "metadata": {},
     "output_type": "execute_result"
    }
   ],
   "source": [
    "study.best_params"
   ]
  },
  {
   "cell_type": "code",
   "execution_count": 104,
   "metadata": {},
   "outputs": [],
   "source": [
    "# пишем функцию отбора признаков на основе \n",
    "# рекурсивного удаления признаков\n",
    "def catboost_select_features(\n",
    "    algorithm: EFeaturesSelectionAlgorithm, \n",
    "    steps: int = 1):\n",
    "    print('Algorithm:', algorithm)\n",
    "    model = CatBoostClassifier(\n",
    "                    **study.best_params,\n",
    "                    n_estimators=1400,\n",
    "                    random_seed=RANDOM_STATE,\n",
    "                    loss_function='MultiClass',\n",
    "                    eval_metric='TotalF1:average=Macro',\n",
    "                    thread_count=-1,\n",
    "                    task_type='GPU'\n",
    "    )\n",
    "    summary = model.select_features(\n",
    "        # обучающий пул\n",
    "        train_pool,\n",
    "        # проверочный пул\n",
    "        eval_set=test_pool,\n",
    "        # список признаков, участвующих в отборе\n",
    "        features_for_select=list(range(train_pool.num_col())),\n",
    "        # количество отбираемых признаков\n",
    "        num_features_to_select=3,\n",
    "        # количество итераций обучения модели, вычисляющей \n",
    "        # оценки важностей (чем больше, тем лучше качество)\n",
    "        steps=steps,\n",
    "        # алгоритм отбора\n",
    "        algorithm=algorithm,\n",
    "        # метод вычисления значений SHAP\n",
    "        shap_calc_type=EShapCalcType.Regular,\n",
    "        # обучаем модель с отобранными признаками\n",
    "        train_final_model=True,\n",
    "        # уровень детализации вывода\n",
    "        logging_level='Silent',\n",
    "        # отрисовка кривых обучения и валидации\n",
    "        plot=True\n",
    "    )\n",
    "    print('Selected features:', summary['selected_features_names'])\n",
    "    return summary"
   ]
  },
  {
   "cell_type": "code",
   "execution_count": 105,
   "metadata": {},
   "outputs": [
    {
     "name": "stdout",
     "output_type": "stream",
     "text": [
      "Algorithm: EFeaturesSelectionAlgorithm.RecursiveByShapValues\n"
     ]
    },
    {
     "data": {
      "application/vnd.jupyter.widget-view+json": {
       "model_id": "6adc194439f743e19ce624026c29fab8",
       "version_major": 2,
       "version_minor": 0
      },
      "text/plain": [
       "MetricVisualizer(layout=Layout(align_self='stretch', height='500px'))"
      ]
     },
     "metadata": {},
     "output_type": "display_data"
    },
    {
     "data": {
      "application/vnd.plotly.v1+json": {
       "config": {
        "plotlyServerURL": "https://plot.ly"
       },
       "data": [
        {
         "line": {
          "color": "rgb(51,160,44)"
         },
         "mode": "lines+markers",
         "name": "",
         "text": [
          "",
          "sec_btw_lag_1",
          "gate_id_lag_3",
          "gate_id_lag_5",
          "repeat_gate_1s",
          "repeat_gate_3s",
          "repeat_gate_4s",
          "route",
          "gate_id_2",
          "gate_id_3",
          "repeat_gate_2s",
          "sec_btw_lag_5",
          "repeat_gate_ge_5s",
          "cumtime_at_route_per_day",
          "daily_gate_pass_count",
          "gate_id_lag_4",
          "gate_id",
          "sec_btw_5",
          "gate_id_4",
          "gate_id_5",
          "sec_btw_lag_4",
          "is_month_end",
          "time_of_day",
          "total_minutes",
          "hour",
          "day_of_month",
          "gate_id_1",
          "gate_id_lag_2",
          "sec_btw_4",
          "sec_btw_lag_2",
          "gate_id_lag_1",
          "is_month_start",
          "is_weekend",
          "sec_btw_3",
          "sec_btw_lag_3",
          "cumtime_per_day",
          "sec_btw_1",
          "total_seconds",
          "weekly_route_avg_time",
          "sec_btw_2",
          "probability_gate_id",
          "cnt_repeat_gate_4s",
          "day_of_week",
          "cnt_repeat_gate_ge_5s",
          "cnt_users_per_day",
          "cnt_repeat_gate_3s",
          "most_frequent_gate_per_day",
          "cnt_repeat_gate_2s",
          "daily_attendance_index",
          "most_frequent_route_per_day",
          "daily_workload_index",
          "exit_gate_id",
          "route_avg_time",
          "cnt_repeat_gate_1s",
          "entrance_gate_id",
          "working_time_per_day",
          "pass_cnt_per_day",
          "cnt_users_per_week",
          "cnt_days_per_week",
          "most_frequent_gate_per_week"
         ],
         "type": "scatter",
         "x": [
          0,
          1,
          2,
          3,
          4,
          5,
          6,
          7,
          8,
          9,
          10,
          11,
          12,
          13,
          14,
          15,
          16,
          17,
          18,
          19,
          20,
          21,
          22,
          23,
          24,
          25,
          26,
          27,
          28,
          29,
          30,
          31,
          32,
          33,
          34,
          35,
          36,
          37,
          38,
          39,
          40,
          41,
          42,
          43,
          44,
          45,
          46,
          47,
          48,
          49,
          50,
          51,
          52,
          53,
          54,
          55,
          56,
          57,
          58,
          59
         ],
         "y": [
          0.061350654661992014,
          0.06315717086131735,
          0.0631571708613175,
          0.0631571708613175,
          0.06315717086131782,
          0.06315717086131782,
          0.06315717086131782,
          0.06315717086131782,
          0.06306265417793575,
          0.062898514247475,
          0.06273357299014315,
          0.06247217050690329,
          0.06219828411627583,
          0.061887953490978545,
          0.06157501267477719,
          0.06123118519757982,
          0.06083757001841402,
          0.06038564490325236,
          0.05990119815279373,
          0.059390230369066016,
          0.05878974798891861,
          0.058155989576013215,
          0.057505131150421135,
          0.05659791292547568,
          0.05535985570194032,
          0.054118461564382214,
          0.05280684901226633,
          0.05101684179540017,
          0.0491496936840524,
          0.04916007242853885,
          0.0491718513417819,
          0.04918428273904506,
          0.04920206226545088,
          0.04922019619532308,
          0.04924089171868861,
          0.04926718025108777,
          0.04929983647862871,
          0.049338912222695236,
          0.04938203021633998,
          0.04943529715681311,
          0.04950532159906942,
          0.049576853991120336,
          0.04970640894256721,
          0.05001760828178939,
          0.050345610994425534,
          0.05092809531406123,
          0.051641408996817975,
          0.05261807896094285,
          0.05372152426365843,
          0.0552256421272897,
          0.0570807092838151,
          0.059369138689209705,
          0.06276444898230474,
          0.06456344134330702,
          0.06746832524301064,
          0.07208097685176355,
          0.07875766240655634,
          0.08996887844566837,
          0.10601382498158253,
          0.1490967258949292
         ]
        },
        {
         "marker": {
          "size": 10,
          "symbol": "square"
         },
         "mode": "markers",
         "name": "",
         "text": [
          "",
          "sec_btw_4",
          "cnt_users_per_day",
          "route_avg_time",
          "cnt_users_per_week",
          "most_frequent_gate_per_week"
         ],
         "type": "scatter",
         "x": [
          0,
          28,
          44,
          52,
          57,
          59
         ],
         "y": [
          0.061350654661992014,
          0.0491496936840524,
          0.050345610994425534,
          0.06276444898230474,
          0.08996887844566837,
          0.1490967258949292
         ]
        },
        {
         "mode": "text",
         "name": "",
         "text": [
          "",
          "25",
          "31",
          "39",
          "43",
          "45",
          "46",
          "53",
          "28",
          "32",
          "44",
          "41",
          "47",
          "55",
          "11",
          "35",
          "0",
          "42",
          "36",
          "40",
          "37",
          "9",
          "7",
          "3",
          "2",
          "1",
          "24",
          "27",
          "38",
          "29",
          "23",
          "8",
          "6",
          "34",
          "33",
          "54",
          "26",
          "4",
          "60",
          "30",
          "12",
          "51",
          "5",
          "52",
          "13",
          "50",
          "56",
          "49",
          "15",
          "58",
          "22",
          "20",
          "61",
          "48",
          "19",
          "18",
          "10",
          "14",
          "16",
          "57"
         ],
         "textfont": {
          "color": "rgb(51,160,44)",
          "family": "sans serif",
          "size": 18
         },
         "textposition": "bottom center",
         "type": "scatter",
         "visible": false,
         "x": [
          0,
          1,
          2,
          3,
          4,
          5,
          6,
          7,
          8,
          9,
          10,
          11,
          12,
          13,
          14,
          15,
          16,
          17,
          18,
          19,
          20,
          21,
          22,
          23,
          24,
          25,
          26,
          27,
          28,
          29,
          30,
          31,
          32,
          33,
          34,
          35,
          36,
          37,
          38,
          39,
          40,
          41,
          42,
          43,
          44,
          45,
          46,
          47,
          48,
          49,
          50,
          51,
          52,
          53,
          54,
          55,
          56,
          57,
          58,
          59
         ],
         "y": [
          0.061350654661992014,
          0.06315717086131735,
          0.0631571708613175,
          0.0631571708613175,
          0.06315717086131782,
          0.06315717086131782,
          0.06315717086131782,
          0.06315717086131782,
          0.06306265417793575,
          0.062898514247475,
          0.06273357299014315,
          0.06247217050690329,
          0.06219828411627583,
          0.061887953490978545,
          0.06157501267477719,
          0.06123118519757982,
          0.06083757001841402,
          0.06038564490325236,
          0.05990119815279373,
          0.059390230369066016,
          0.05878974798891861,
          0.058155989576013215,
          0.057505131150421135,
          0.05659791292547568,
          0.05535985570194032,
          0.054118461564382214,
          0.05280684901226633,
          0.05101684179540017,
          0.0491496936840524,
          0.04916007242853885,
          0.0491718513417819,
          0.04918428273904506,
          0.04920206226545088,
          0.04922019619532308,
          0.04924089171868861,
          0.04926718025108777,
          0.04929983647862871,
          0.049338912222695236,
          0.04938203021633998,
          0.04943529715681311,
          0.04950532159906942,
          0.049576853991120336,
          0.04970640894256721,
          0.05001760828178939,
          0.050345610994425534,
          0.05092809531406123,
          0.051641408996817975,
          0.05261807896094285,
          0.05372152426365843,
          0.0552256421272897,
          0.0570807092838151,
          0.059369138689209705,
          0.06276444898230474,
          0.06456344134330702,
          0.06746832524301064,
          0.07208097685176355,
          0.07875766240655634,
          0.08996887844566837,
          0.10601382498158253,
          0.1490967258949292
         ]
        },
        {
         "mode": "text",
         "name": "",
         "text": [
          "",
          "sec_btw_lag_1",
          "gate_id_lag_3",
          "gate_id_lag_5",
          "repeat_gate_1s",
          "repeat_gate_3s",
          "repeat_gate_4s",
          "route",
          "gate_id_2",
          "gate_id_3",
          "repeat_gate_2s",
          "sec_btw_lag_5",
          "repeat_gate_ge_5s",
          "cumtime_at_route_per_day",
          "daily_gate_pass_count",
          "gate_id_lag_4",
          "gate_id",
          "sec_btw_5",
          "gate_id_4",
          "gate_id_5",
          "sec_btw_lag_4",
          "is_month_end",
          "time_of_day",
          "total_minutes",
          "hour",
          "day_of_month",
          "gate_id_1",
          "gate_id_lag_2",
          "sec_btw_4",
          "sec_btw_lag_2",
          "gate_id_lag_1",
          "is_month_start",
          "is_weekend",
          "sec_btw_3",
          "sec_btw_lag_3",
          "cumtime_per_day",
          "sec_btw_1",
          "total_seconds",
          "weekly_route_avg_time",
          "sec_btw_2",
          "probability_gate_id",
          "cnt_repeat_gate_4s",
          "day_of_week",
          "cnt_repeat_gate_ge_5s",
          "cnt_users_per_day",
          "cnt_repeat_gate_3s",
          "most_frequent_gate_per_day",
          "cnt_repeat_gate_2s",
          "daily_attendance_index",
          "most_frequent_route_per_day",
          "daily_workload_index",
          "exit_gate_id",
          "route_avg_time",
          "cnt_repeat_gate_1s",
          "entrance_gate_id",
          "working_time_per_day",
          "pass_cnt_per_day",
          "cnt_users_per_week",
          "cnt_days_per_week",
          "most_frequent_gate_per_week"
         ],
         "textfont": {
          "color": "rgb(51,160,44)",
          "family": "sans serif",
          "size": 18
         },
         "textposition": "bottom center",
         "type": "scatter",
         "visible": false,
         "x": [
          0,
          1,
          2,
          3,
          4,
          5,
          6,
          7,
          8,
          9,
          10,
          11,
          12,
          13,
          14,
          15,
          16,
          17,
          18,
          19,
          20,
          21,
          22,
          23,
          24,
          25,
          26,
          27,
          28,
          29,
          30,
          31,
          32,
          33,
          34,
          35,
          36,
          37,
          38,
          39,
          40,
          41,
          42,
          43,
          44,
          45,
          46,
          47,
          48,
          49,
          50,
          51,
          52,
          53,
          54,
          55,
          56,
          57,
          58,
          59
         ],
         "y": [
          0.061350654661992014,
          0.06315717086131735,
          0.0631571708613175,
          0.0631571708613175,
          0.06315717086131782,
          0.06315717086131782,
          0.06315717086131782,
          0.06315717086131782,
          0.06306265417793575,
          0.062898514247475,
          0.06273357299014315,
          0.06247217050690329,
          0.06219828411627583,
          0.061887953490978545,
          0.06157501267477719,
          0.06123118519757982,
          0.06083757001841402,
          0.06038564490325236,
          0.05990119815279373,
          0.059390230369066016,
          0.05878974798891861,
          0.058155989576013215,
          0.057505131150421135,
          0.05659791292547568,
          0.05535985570194032,
          0.054118461564382214,
          0.05280684901226633,
          0.05101684179540017,
          0.0491496936840524,
          0.04916007242853885,
          0.0491718513417819,
          0.04918428273904506,
          0.04920206226545088,
          0.04922019619532308,
          0.04924089171868861,
          0.04926718025108777,
          0.04929983647862871,
          0.049338912222695236,
          0.04938203021633998,
          0.04943529715681311,
          0.04950532159906942,
          0.049576853991120336,
          0.04970640894256721,
          0.05001760828178939,
          0.050345610994425534,
          0.05092809531406123,
          0.051641408996817975,
          0.05261807896094285,
          0.05372152426365843,
          0.0552256421272897,
          0.0570807092838151,
          0.059369138689209705,
          0.06276444898230474,
          0.06456344134330702,
          0.06746832524301064,
          0.07208097685176355,
          0.07875766240655634,
          0.08996887844566837,
          0.10601382498158253,
          0.1490967258949292
         ]
        }
       ],
       "layout": {
        "showlegend": false,
        "template": {
         "data": {
          "bar": [
           {
            "error_x": {
             "color": "#2a3f5f"
            },
            "error_y": {
             "color": "#2a3f5f"
            },
            "marker": {
             "line": {
              "color": "#E5ECF6",
              "width": 0.5
             },
             "pattern": {
              "fillmode": "overlay",
              "size": 10,
              "solidity": 0.2
             }
            },
            "type": "bar"
           }
          ],
          "barpolar": [
           {
            "marker": {
             "line": {
              "color": "#E5ECF6",
              "width": 0.5
             },
             "pattern": {
              "fillmode": "overlay",
              "size": 10,
              "solidity": 0.2
             }
            },
            "type": "barpolar"
           }
          ],
          "carpet": [
           {
            "aaxis": {
             "endlinecolor": "#2a3f5f",
             "gridcolor": "white",
             "linecolor": "white",
             "minorgridcolor": "white",
             "startlinecolor": "#2a3f5f"
            },
            "baxis": {
             "endlinecolor": "#2a3f5f",
             "gridcolor": "white",
             "linecolor": "white",
             "minorgridcolor": "white",
             "startlinecolor": "#2a3f5f"
            },
            "type": "carpet"
           }
          ],
          "choropleth": [
           {
            "colorbar": {
             "outlinewidth": 0,
             "ticks": ""
            },
            "type": "choropleth"
           }
          ],
          "contour": [
           {
            "colorbar": {
             "outlinewidth": 0,
             "ticks": ""
            },
            "colorscale": [
             [
              0,
              "#0d0887"
             ],
             [
              0.1111111111111111,
              "#46039f"
             ],
             [
              0.2222222222222222,
              "#7201a8"
             ],
             [
              0.3333333333333333,
              "#9c179e"
             ],
             [
              0.4444444444444444,
              "#bd3786"
             ],
             [
              0.5555555555555556,
              "#d8576b"
             ],
             [
              0.6666666666666666,
              "#ed7953"
             ],
             [
              0.7777777777777778,
              "#fb9f3a"
             ],
             [
              0.8888888888888888,
              "#fdca26"
             ],
             [
              1,
              "#f0f921"
             ]
            ],
            "type": "contour"
           }
          ],
          "contourcarpet": [
           {
            "colorbar": {
             "outlinewidth": 0,
             "ticks": ""
            },
            "type": "contourcarpet"
           }
          ],
          "heatmap": [
           {
            "colorbar": {
             "outlinewidth": 0,
             "ticks": ""
            },
            "colorscale": [
             [
              0,
              "#0d0887"
             ],
             [
              0.1111111111111111,
              "#46039f"
             ],
             [
              0.2222222222222222,
              "#7201a8"
             ],
             [
              0.3333333333333333,
              "#9c179e"
             ],
             [
              0.4444444444444444,
              "#bd3786"
             ],
             [
              0.5555555555555556,
              "#d8576b"
             ],
             [
              0.6666666666666666,
              "#ed7953"
             ],
             [
              0.7777777777777778,
              "#fb9f3a"
             ],
             [
              0.8888888888888888,
              "#fdca26"
             ],
             [
              1,
              "#f0f921"
             ]
            ],
            "type": "heatmap"
           }
          ],
          "heatmapgl": [
           {
            "colorbar": {
             "outlinewidth": 0,
             "ticks": ""
            },
            "colorscale": [
             [
              0,
              "#0d0887"
             ],
             [
              0.1111111111111111,
              "#46039f"
             ],
             [
              0.2222222222222222,
              "#7201a8"
             ],
             [
              0.3333333333333333,
              "#9c179e"
             ],
             [
              0.4444444444444444,
              "#bd3786"
             ],
             [
              0.5555555555555556,
              "#d8576b"
             ],
             [
              0.6666666666666666,
              "#ed7953"
             ],
             [
              0.7777777777777778,
              "#fb9f3a"
             ],
             [
              0.8888888888888888,
              "#fdca26"
             ],
             [
              1,
              "#f0f921"
             ]
            ],
            "type": "heatmapgl"
           }
          ],
          "histogram": [
           {
            "marker": {
             "pattern": {
              "fillmode": "overlay",
              "size": 10,
              "solidity": 0.2
             }
            },
            "type": "histogram"
           }
          ],
          "histogram2d": [
           {
            "colorbar": {
             "outlinewidth": 0,
             "ticks": ""
            },
            "colorscale": [
             [
              0,
              "#0d0887"
             ],
             [
              0.1111111111111111,
              "#46039f"
             ],
             [
              0.2222222222222222,
              "#7201a8"
             ],
             [
              0.3333333333333333,
              "#9c179e"
             ],
             [
              0.4444444444444444,
              "#bd3786"
             ],
             [
              0.5555555555555556,
              "#d8576b"
             ],
             [
              0.6666666666666666,
              "#ed7953"
             ],
             [
              0.7777777777777778,
              "#fb9f3a"
             ],
             [
              0.8888888888888888,
              "#fdca26"
             ],
             [
              1,
              "#f0f921"
             ]
            ],
            "type": "histogram2d"
           }
          ],
          "histogram2dcontour": [
           {
            "colorbar": {
             "outlinewidth": 0,
             "ticks": ""
            },
            "colorscale": [
             [
              0,
              "#0d0887"
             ],
             [
              0.1111111111111111,
              "#46039f"
             ],
             [
              0.2222222222222222,
              "#7201a8"
             ],
             [
              0.3333333333333333,
              "#9c179e"
             ],
             [
              0.4444444444444444,
              "#bd3786"
             ],
             [
              0.5555555555555556,
              "#d8576b"
             ],
             [
              0.6666666666666666,
              "#ed7953"
             ],
             [
              0.7777777777777778,
              "#fb9f3a"
             ],
             [
              0.8888888888888888,
              "#fdca26"
             ],
             [
              1,
              "#f0f921"
             ]
            ],
            "type": "histogram2dcontour"
           }
          ],
          "mesh3d": [
           {
            "colorbar": {
             "outlinewidth": 0,
             "ticks": ""
            },
            "type": "mesh3d"
           }
          ],
          "parcoords": [
           {
            "line": {
             "colorbar": {
              "outlinewidth": 0,
              "ticks": ""
             }
            },
            "type": "parcoords"
           }
          ],
          "pie": [
           {
            "automargin": true,
            "type": "pie"
           }
          ],
          "scatter": [
           {
            "fillpattern": {
             "fillmode": "overlay",
             "size": 10,
             "solidity": 0.2
            },
            "type": "scatter"
           }
          ],
          "scatter3d": [
           {
            "line": {
             "colorbar": {
              "outlinewidth": 0,
              "ticks": ""
             }
            },
            "marker": {
             "colorbar": {
              "outlinewidth": 0,
              "ticks": ""
             }
            },
            "type": "scatter3d"
           }
          ],
          "scattercarpet": [
           {
            "marker": {
             "colorbar": {
              "outlinewidth": 0,
              "ticks": ""
             }
            },
            "type": "scattercarpet"
           }
          ],
          "scattergeo": [
           {
            "marker": {
             "colorbar": {
              "outlinewidth": 0,
              "ticks": ""
             }
            },
            "type": "scattergeo"
           }
          ],
          "scattergl": [
           {
            "marker": {
             "colorbar": {
              "outlinewidth": 0,
              "ticks": ""
             }
            },
            "type": "scattergl"
           }
          ],
          "scattermapbox": [
           {
            "marker": {
             "colorbar": {
              "outlinewidth": 0,
              "ticks": ""
             }
            },
            "type": "scattermapbox"
           }
          ],
          "scatterpolar": [
           {
            "marker": {
             "colorbar": {
              "outlinewidth": 0,
              "ticks": ""
             }
            },
            "type": "scatterpolar"
           }
          ],
          "scatterpolargl": [
           {
            "marker": {
             "colorbar": {
              "outlinewidth": 0,
              "ticks": ""
             }
            },
            "type": "scatterpolargl"
           }
          ],
          "scatterternary": [
           {
            "marker": {
             "colorbar": {
              "outlinewidth": 0,
              "ticks": ""
             }
            },
            "type": "scatterternary"
           }
          ],
          "surface": [
           {
            "colorbar": {
             "outlinewidth": 0,
             "ticks": ""
            },
            "colorscale": [
             [
              0,
              "#0d0887"
             ],
             [
              0.1111111111111111,
              "#46039f"
             ],
             [
              0.2222222222222222,
              "#7201a8"
             ],
             [
              0.3333333333333333,
              "#9c179e"
             ],
             [
              0.4444444444444444,
              "#bd3786"
             ],
             [
              0.5555555555555556,
              "#d8576b"
             ],
             [
              0.6666666666666666,
              "#ed7953"
             ],
             [
              0.7777777777777778,
              "#fb9f3a"
             ],
             [
              0.8888888888888888,
              "#fdca26"
             ],
             [
              1,
              "#f0f921"
             ]
            ],
            "type": "surface"
           }
          ],
          "table": [
           {
            "cells": {
             "fill": {
              "color": "#EBF0F8"
             },
             "line": {
              "color": "white"
             }
            },
            "header": {
             "fill": {
              "color": "#C8D4E3"
             },
             "line": {
              "color": "white"
             }
            },
            "type": "table"
           }
          ]
         },
         "layout": {
          "annotationdefaults": {
           "arrowcolor": "#2a3f5f",
           "arrowhead": 0,
           "arrowwidth": 1
          },
          "autotypenumbers": "strict",
          "coloraxis": {
           "colorbar": {
            "outlinewidth": 0,
            "ticks": ""
           }
          },
          "colorscale": {
           "diverging": [
            [
             0,
             "#8e0152"
            ],
            [
             0.1,
             "#c51b7d"
            ],
            [
             0.2,
             "#de77ae"
            ],
            [
             0.3,
             "#f1b6da"
            ],
            [
             0.4,
             "#fde0ef"
            ],
            [
             0.5,
             "#f7f7f7"
            ],
            [
             0.6,
             "#e6f5d0"
            ],
            [
             0.7,
             "#b8e186"
            ],
            [
             0.8,
             "#7fbc41"
            ],
            [
             0.9,
             "#4d9221"
            ],
            [
             1,
             "#276419"
            ]
           ],
           "sequential": [
            [
             0,
             "#0d0887"
            ],
            [
             0.1111111111111111,
             "#46039f"
            ],
            [
             0.2222222222222222,
             "#7201a8"
            ],
            [
             0.3333333333333333,
             "#9c179e"
            ],
            [
             0.4444444444444444,
             "#bd3786"
            ],
            [
             0.5555555555555556,
             "#d8576b"
            ],
            [
             0.6666666666666666,
             "#ed7953"
            ],
            [
             0.7777777777777778,
             "#fb9f3a"
            ],
            [
             0.8888888888888888,
             "#fdca26"
            ],
            [
             1,
             "#f0f921"
            ]
           ],
           "sequentialminus": [
            [
             0,
             "#0d0887"
            ],
            [
             0.1111111111111111,
             "#46039f"
            ],
            [
             0.2222222222222222,
             "#7201a8"
            ],
            [
             0.3333333333333333,
             "#9c179e"
            ],
            [
             0.4444444444444444,
             "#bd3786"
            ],
            [
             0.5555555555555556,
             "#d8576b"
            ],
            [
             0.6666666666666666,
             "#ed7953"
            ],
            [
             0.7777777777777778,
             "#fb9f3a"
            ],
            [
             0.8888888888888888,
             "#fdca26"
            ],
            [
             1,
             "#f0f921"
            ]
           ]
          },
          "colorway": [
           "#636efa",
           "#EF553B",
           "#00cc96",
           "#ab63fa",
           "#FFA15A",
           "#19d3f3",
           "#FF6692",
           "#B6E880",
           "#FF97FF",
           "#FECB52"
          ],
          "font": {
           "color": "#2a3f5f"
          },
          "geo": {
           "bgcolor": "white",
           "lakecolor": "white",
           "landcolor": "#E5ECF6",
           "showlakes": true,
           "showland": true,
           "subunitcolor": "white"
          },
          "hoverlabel": {
           "align": "left"
          },
          "hovermode": "closest",
          "mapbox": {
           "style": "light"
          },
          "paper_bgcolor": "white",
          "plot_bgcolor": "#E5ECF6",
          "polar": {
           "angularaxis": {
            "gridcolor": "white",
            "linecolor": "white",
            "ticks": ""
           },
           "bgcolor": "#E5ECF6",
           "radialaxis": {
            "gridcolor": "white",
            "linecolor": "white",
            "ticks": ""
           }
          },
          "scene": {
           "xaxis": {
            "backgroundcolor": "#E5ECF6",
            "gridcolor": "white",
            "gridwidth": 2,
            "linecolor": "white",
            "showbackground": true,
            "ticks": "",
            "zerolinecolor": "white"
           },
           "yaxis": {
            "backgroundcolor": "#E5ECF6",
            "gridcolor": "white",
            "gridwidth": 2,
            "linecolor": "white",
            "showbackground": true,
            "ticks": "",
            "zerolinecolor": "white"
           },
           "zaxis": {
            "backgroundcolor": "#E5ECF6",
            "gridcolor": "white",
            "gridwidth": 2,
            "linecolor": "white",
            "showbackground": true,
            "ticks": "",
            "zerolinecolor": "white"
           }
          },
          "shapedefaults": {
           "line": {
            "color": "#2a3f5f"
           }
          },
          "ternary": {
           "aaxis": {
            "gridcolor": "white",
            "linecolor": "white",
            "ticks": ""
           },
           "baxis": {
            "gridcolor": "white",
            "linecolor": "white",
            "ticks": ""
           },
           "bgcolor": "#E5ECF6",
           "caxis": {
            "gridcolor": "white",
            "linecolor": "white",
            "ticks": ""
           }
          },
          "title": {
           "x": 0.05
          },
          "xaxis": {
           "automargin": true,
           "gridcolor": "white",
           "linecolor": "white",
           "ticks": "",
           "title": {
            "standoff": 15
           },
           "zerolinecolor": "white",
           "zerolinewidth": 2
          },
          "yaxis": {
           "automargin": true,
           "gridcolor": "white",
           "linecolor": "white",
           "ticks": "",
           "title": {
            "standoff": 15
           },
           "zerolinecolor": "white",
           "zerolinewidth": 2
          }
         }
        },
        "title": {
         "text": "Loss by eliminated features"
        },
        "updatemenus": [
         {
          "active": 0,
          "buttons": [
           {
            "args": [
             {
              "visible": [
               true,
               true,
               false,
               false
              ]
             }
            ],
            "label": "Hide features",
            "method": "update"
           },
           {
            "args": [
             {
              "visible": [
               true,
               true,
               true,
               false
              ]
             }
            ],
            "label": "Show indices",
            "method": "update"
           },
           {
            "args": [
             {
              "visible": [
               true,
               true,
               false,
               true
              ]
             }
            ],
            "label": "Show names",
            "method": "update"
           }
          ],
          "pad": {
           "r": 10,
           "t": 10
          },
          "showactive": true,
          "x": -0.25,
          "xanchor": "left",
          "y": 1.03,
          "yanchor": "top"
         }
        ],
        "xaxis": {
         "gridcolor": "rgb(255,255,255)",
         "showgrid": true,
         "showline": false,
         "showticklabels": true,
         "tickcolor": "rgb(127,127,127)",
         "ticks": "outside",
         "title": {
          "text": "number of removed features"
         },
         "zeroline": false
        },
        "yaxis": {
         "gridcolor": "rgb(255,255,255)",
         "showgrid": true,
         "showline": false,
         "showticklabels": true,
         "tickcolor": "rgb(127,127,127)",
         "tickfont": {
          "color": "rgb(51,160,44)"
         },
         "ticks": "outside",
         "title": {
          "font": {
           "color": "rgb(51,160,44)"
          },
          "text": "loss value"
         },
         "zeroline": false
        }
       }
      }
     },
     "metadata": {},
     "output_type": "display_data"
    },
    {
     "name": "stdout",
     "output_type": "stream",
     "text": [
      "Selected features: ['entry_time', 'working_time_per_week', 'most_frequent_route_per_week']\n",
      "CPU times: total: 28min 35s\n",
      "Wall time: 12min 21s\n"
     ]
    }
   ],
   "source": [
    "%%time\n",
    "\n",
    "# выполняем отбор признаков\n",
    "shap_summary = catboost_select_features(\n",
    "    algorithm=EFeaturesSelectionAlgorithm.RecursiveByShapValues, \n",
    "    steps=5\n",
    ")"
   ]
  },
  {
   "cell_type": "code",
   "execution_count": 106,
   "metadata": {},
   "outputs": [
    {
     "name": "stdout",
     "output_type": "stream",
     "text": [
      "{'main_indices': [0, 28, 44, 52, 57, 59], 'removed_features_count': [0, 1, 2, 3, 4, 5, 6, 7, 8, 9, 10, 11, 12, 13, 14, 15, 16, 17, 18, 19, 20, 21, 22, 23, 24, 25, 26, 27, 28, 29, 30, 31, 32, 33, 34, 35, 36, 37, 38, 39, 40, 41, 42, 43, 44, 45, 46, 47, 48, 49, 50, 51, 52, 53, 54, 55, 56, 57, 58, 59], 'loss_values': [0.061350654661992014, 0.06315717086131735, 0.0631571708613175, 0.0631571708613175, 0.06315717086131782, 0.06315717086131782, 0.06315717086131782, 0.06315717086131782, 0.06306265417793575, 0.062898514247475, 0.06273357299014315, 0.06247217050690329, 0.06219828411627583, 0.061887953490978545, 0.06157501267477719, 0.06123118519757982, 0.06083757001841402, 0.06038564490325236, 0.05990119815279373, 0.059390230369066016, 0.05878974798891861, 0.058155989576013215, 0.057505131150421135, 0.05659791292547568, 0.05535985570194032, 0.054118461564382214, 0.05280684901226633, 0.05101684179540017, 0.0491496936840524, 0.04916007242853885, 0.0491718513417819, 0.04918428273904506, 0.04920206226545088, 0.04922019619532308, 0.04924089171868861, 0.04926718025108777, 0.04929983647862871, 0.049338912222695236, 0.04938203021633998, 0.04943529715681311, 0.04950532159906942, 0.049576853991120336, 0.04970640894256721, 0.05001760828178939, 0.050345610994425534, 0.05092809531406123, 0.051641408996817975, 0.05261807896094285, 0.05372152426365843, 0.0552256421272897, 0.0570807092838151, 0.059369138689209705, 0.06276444898230474, 0.06456344134330702, 0.06746832524301064, 0.07208097685176355, 0.07875766240655634, 0.08996887844566837, 0.10601382498158253, 0.1490967258949292]}\n"
     ]
    }
   ],
   "source": [
    "print(shap_summary['loss_graph'])"
   ]
  },
  {
   "cell_type": "code",
   "execution_count": 107,
   "metadata": {},
   "outputs": [
    {
     "data": {
      "text/plain": [
       "0.1490967258949292"
      ]
     },
     "execution_count": 107,
     "metadata": {},
     "output_type": "execute_result"
    }
   ],
   "source": [
    "shap_summary['loss_graph']['loss_values'][-1]"
   ]
  },
  {
   "cell_type": "code",
   "execution_count": 108,
   "metadata": {},
   "outputs": [
    {
     "name": "stdout",
     "output_type": "stream",
     "text": [
      "['entry_time', 'working_time_per_week', 'most_frequent_route_per_week']\n"
     ]
    }
   ],
   "source": [
    "# печатаем отобранные признаки\n",
    "selected_feat = shap_summary['selected_features_names']\n",
    "print(selected_feat)"
   ]
  },
  {
   "cell_type": "code",
   "execution_count": 109,
   "metadata": {},
   "outputs": [
    {
     "name": "stdout",
     "output_type": "stream",
     "text": [
      "['sec_btw_lag_1', 'gate_id_lag_3', 'gate_id_lag_5', 'repeat_gate_1s', 'repeat_gate_3s', 'repeat_gate_4s', 'route', 'gate_id_2', 'gate_id_3', 'repeat_gate_2s', 'sec_btw_lag_5', 'repeat_gate_ge_5s', 'cumtime_at_route_per_day', 'daily_gate_pass_count', 'gate_id_lag_4', 'gate_id', 'sec_btw_5', 'gate_id_4', 'gate_id_5', 'sec_btw_lag_4', 'is_month_end', 'time_of_day', 'total_minutes', 'hour', 'day_of_month', 'gate_id_1', 'gate_id_lag_2', 'sec_btw_4', 'sec_btw_lag_2', 'gate_id_lag_1', 'is_month_start', 'is_weekend', 'sec_btw_3', 'sec_btw_lag_3', 'cumtime_per_day', 'sec_btw_1', 'total_seconds', 'weekly_route_avg_time', 'sec_btw_2', 'probability_gate_id', 'cnt_repeat_gate_4s', 'day_of_week', 'cnt_repeat_gate_ge_5s', 'cnt_users_per_day', 'cnt_repeat_gate_3s', 'most_frequent_gate_per_day', 'cnt_repeat_gate_2s', 'daily_attendance_index', 'most_frequent_route_per_day', 'daily_workload_index', 'exit_gate_id', 'route_avg_time', 'cnt_repeat_gate_1s', 'entrance_gate_id', 'working_time_per_day', 'pass_cnt_per_day', 'cnt_users_per_week', 'cnt_days_per_week', 'most_frequent_gate_per_week']\n"
     ]
    }
   ],
   "source": [
    "# печатаем исключенные признаки\n",
    "eliminated_feat = shap_summary['eliminated_features_names']\n",
    "print(eliminated_feat)"
   ]
  },
  {
   "cell_type": "markdown",
   "metadata": {},
   "source": [
    "На основе графика `Loss by eliminated features`, отберем из списка `eliminated_feat` фичи, начиная с 44-го индекса."
   ]
  },
  {
   "cell_type": "code",
   "execution_count": 111,
   "metadata": {},
   "outputs": [
    {
     "data": {
      "text/plain": [
       "['entry_time',\n",
       " 'working_time_per_week',\n",
       " 'most_frequent_route_per_week',\n",
       " 'sec_btw_lag_2',\n",
       " 'gate_id_lag_1',\n",
       " 'is_month_start',\n",
       " 'is_weekend',\n",
       " 'sec_btw_3',\n",
       " 'sec_btw_lag_3',\n",
       " 'cumtime_per_day',\n",
       " 'sec_btw_1',\n",
       " 'total_seconds',\n",
       " 'weekly_route_avg_time',\n",
       " 'sec_btw_2',\n",
       " 'probability_gate_id',\n",
       " 'cnt_repeat_gate_4s',\n",
       " 'day_of_week',\n",
       " 'cnt_repeat_gate_ge_5s',\n",
       " 'cnt_users_per_day',\n",
       " 'cnt_repeat_gate_3s',\n",
       " 'most_frequent_gate_per_day',\n",
       " 'cnt_repeat_gate_2s',\n",
       " 'daily_attendance_index',\n",
       " 'most_frequent_route_per_day',\n",
       " 'daily_workload_index',\n",
       " 'exit_gate_id',\n",
       " 'route_avg_time',\n",
       " 'cnt_repeat_gate_1s',\n",
       " 'entrance_gate_id',\n",
       " 'working_time_per_day',\n",
       " 'pass_cnt_per_day',\n",
       " 'cnt_users_per_week',\n",
       " 'cnt_days_per_week',\n",
       " 'most_frequent_gate_per_week']"
      ]
     },
     "execution_count": 111,
     "metadata": {},
     "output_type": "execute_result"
    }
   ],
   "source": [
    "selected_features = selected_feat + eliminated_feat[28:]\n",
    "selected_features"
   ]
  },
  {
   "cell_type": "code",
   "execution_count": 112,
   "metadata": {},
   "outputs": [
    {
     "data": {
      "text/plain": [
       "34"
      ]
     },
     "execution_count": 112,
     "metadata": {},
     "output_type": "execute_result"
    }
   ],
   "source": [
    "len(selected_features)"
   ]
  },
  {
   "cell_type": "code",
   "execution_count": 114,
   "metadata": {},
   "outputs": [],
   "source": [
    "cat_features = [\n",
    "    'most_frequent_route_per_week',\n",
    "    'gate_id_lag_1',\n",
    "    'is_month_start',\n",
    "    'is_weekend',\n",
    "    'day_of_week',\n",
    "    'most_frequent_gate_per_day',\n",
    "    'most_frequent_route_per_day',\n",
    "    'exit_gate_id',\n",
    "    'entrance_gate_id',\n",
    "    'most_frequent_gate_per_week'\n",
    "]"
   ]
  },
  {
   "cell_type": "code",
   "execution_count": 115,
   "metadata": {},
   "outputs": [
    {
     "name": "stdout",
     "output_type": "stream",
     "text": [
      "0:\tlearn: 0.1660224\ttest: 0.1708891\tbest: 0.1708891 (0)\ttotal: 70.6ms\tremaining: 2m 21s\n",
      "100:\tlearn: 0.8953478\ttest: 0.8748655\tbest: 0.8748655 (100)\ttotal: 5s\tremaining: 1m 34s\n",
      "200:\tlearn: 0.9707850\ttest: 0.9520451\tbest: 0.9520451 (200)\ttotal: 9.57s\tremaining: 1m 25s\n",
      "300:\tlearn: 0.9863208\ttest: 0.9758638\tbest: 0.9758638 (298)\ttotal: 13.9s\tremaining: 1m 18s\n",
      "400:\tlearn: 0.9926128\ttest: 0.9827912\tbest: 0.9827912 (400)\ttotal: 18s\tremaining: 1m 11s\n",
      "500:\tlearn: 0.9960834\ttest: 0.9881939\tbest: 0.9882308 (495)\ttotal: 22.2s\tremaining: 1m 6s\n",
      "600:\tlearn: 0.9970571\ttest: 0.9896676\tbest: 0.9896676 (599)\ttotal: 26.5s\tremaining: 1m 1s\n",
      "700:\tlearn: 0.9981323\ttest: 0.9910722\tbest: 0.9910722 (696)\ttotal: 30.7s\tremaining: 56.9s\n",
      "800:\tlearn: 0.9991502\ttest: 0.9940013\tbest: 0.9940688 (790)\ttotal: 34.9s\tremaining: 52.3s\n",
      "900:\tlearn: 0.9997263\ttest: 0.9956091\tbest: 0.9956766 (890)\ttotal: 39.2s\tremaining: 47.8s\n",
      "1000:\tlearn: 0.9998109\ttest: 0.9970440\tbest: 0.9970440 (990)\ttotal: 43.5s\tremaining: 43.4s\n",
      "1100:\tlearn: 0.9999074\ttest: 0.9985336\tbest: 0.9985336 (1081)\ttotal: 47.8s\tremaining: 39.1s\n",
      "1200:\tlearn: 0.9999074\ttest: 0.9988542\tbest: 0.9988542 (1171)\ttotal: 52.2s\tremaining: 34.7s\n",
      "1300:\tlearn: 0.9999074\ttest: 0.9991306\tbest: 0.9991306 (1287)\ttotal: 56.6s\tremaining: 30.4s\n",
      "bestTest = 0.999130627\n",
      "bestIteration = 1287\n",
      "Shrink model to first 1288 iterations.\n",
      "0:\tlearn: 0.1950838\ttest: 0.1895117\tbest: 0.1895117 (0)\ttotal: 55ms\tremaining: 1m 49s\n",
      "100:\tlearn: 0.8953137\ttest: 0.8726176\tbest: 0.8726176 (100)\ttotal: 5.03s\tremaining: 1m 34s\n",
      "200:\tlearn: 0.9681291\ttest: 0.9522828\tbest: 0.9522828 (200)\ttotal: 9.78s\tremaining: 1m 27s\n",
      "300:\tlearn: 0.9882175\ttest: 0.9812192\tbest: 0.9812192 (300)\ttotal: 14.2s\tremaining: 1m 20s\n",
      "400:\tlearn: 0.9944217\ttest: 0.9872681\tbest: 0.9872746 (390)\ttotal: 18.4s\tremaining: 1m 13s\n",
      "500:\tlearn: 0.9961191\ttest: 0.9910741\tbest: 0.9913841 (498)\ttotal: 22.6s\tremaining: 1m 7s\n",
      "600:\tlearn: 0.9976583\ttest: 0.9925789\tbest: 0.9925789 (597)\ttotal: 26.9s\tremaining: 1m 2s\n",
      "700:\tlearn: 0.9986878\ttest: 0.9951511\tbest: 0.9951511 (697)\ttotal: 31.2s\tremaining: 57.9s\n",
      "800:\tlearn: 0.9990023\ttest: 0.9958939\tbest: 0.9958939 (800)\ttotal: 35.6s\tremaining: 53.2s\n",
      "900:\tlearn: 0.9993721\ttest: 0.9967355\tbest: 0.9967355 (879)\ttotal: 40s\tremaining: 48.8s\n",
      "1000:\tlearn: 0.9996519\ttest: 0.9970420\tbest: 0.9971420 (992)\ttotal: 44.5s\tremaining: 44.4s\n",
      "1100:\tlearn: 0.9997120\ttest: 0.9981121\tbest: 0.9981121 (1079)\ttotal: 48.9s\tremaining: 39.9s\n",
      "bestTest = 0.9981120712\n",
      "bestIteration = 1079\n",
      "Shrink model to first 1080 iterations.\n",
      "0:\tlearn: 0.1789947\ttest: 0.1719963\tbest: 0.1719963 (0)\ttotal: 49.7ms\tremaining: 1m 39s\n",
      "100:\tlearn: 0.8922646\ttest: 0.8565301\tbest: 0.8581472 (98)\ttotal: 5.11s\tremaining: 1m 36s\n",
      "200:\tlearn: 0.9713391\ttest: 0.9562087\tbest: 0.9562087 (200)\ttotal: 9.87s\tremaining: 1m 28s\n",
      "300:\tlearn: 0.9863909\ttest: 0.9745972\tbest: 0.9753581 (296)\ttotal: 14.2s\tremaining: 1m 20s\n",
      "400:\tlearn: 0.9921113\ttest: 0.9793306\tbest: 0.9794566 (384)\ttotal: 18.3s\tremaining: 1m 13s\n",
      "500:\tlearn: 0.9960144\ttest: 0.9851543\tbest: 0.9851962 (497)\ttotal: 25.8s\tremaining: 1m 17s\n",
      "600:\tlearn: 0.9978707\ttest: 0.9891842\tbest: 0.9892731 (592)\ttotal: 35s\tremaining: 1m 21s\n",
      "700:\tlearn: 0.9987977\ttest: 0.9934130\tbest: 0.9934130 (698)\ttotal: 44s\tremaining: 1m 21s\n",
      "800:\tlearn: 0.9993899\ttest: 0.9959831\tbest: 0.9965621 (787)\ttotal: 53.1s\tremaining: 1m 19s\n",
      "900:\tlearn: 0.9995182\ttest: 0.9968049\tbest: 0.9968049 (895)\ttotal: 1m 2s\tremaining: 1m 15s\n",
      "1000:\tlearn: 0.9996801\ttest: 0.9968923\tbest: 0.9968923 (939)\ttotal: 1m 11s\tremaining: 1m 11s\n",
      "bestTest = 0.9968922871\n",
      "bestIteration = 939\n",
      "Shrink model to first 940 iterations.\n",
      "CPU times: total: 6min 39s\n",
      "Wall time: 3min 10s\n"
     ]
    }
   ],
   "source": [
    "%%time\n",
    "\n",
    "valid_scores, models_selected_features = objective(\n",
    "    optuna.trial.FixedTrial(study.best_params),\n",
    "    X[selected_features], \n",
    "    y, \n",
    "    cat_features,\n",
    "    return_models=True,\n",
    ")"
   ]
  },
  {
   "cell_type": "code",
   "execution_count": 116,
   "metadata": {},
   "outputs": [
    {
     "data": {
      "text/plain": [
       "0.9980449950872896"
      ]
     },
     "execution_count": 116,
     "metadata": {},
     "output_type": "execute_result"
    }
   ],
   "source": [
    "valid_scores"
   ]
  },
  {
   "cell_type": "code",
   "execution_count": 117,
   "metadata": {},
   "outputs": [
    {
     "name": "stdout",
     "output_type": "stream",
     "text": [
      "1288\n",
      "1080\n",
      "940\n"
     ]
    }
   ],
   "source": [
    "for m in models_selected_features:\n",
    "    print(m.tree_count_)"
   ]
  },
  {
   "cell_type": "code",
   "execution_count": 118,
   "metadata": {},
   "outputs": [
    {
     "name": "stdout",
     "output_type": "stream",
     "text": [
      "{'nan_mode': 'Min', 'gpu_ram_part': 0.95, 'eval_metric': 'TotalF1:average=Macro', 'combinations_ctr': ['Borders:CtrBorderCount=15:CtrBorderType=Uniform:TargetBorderCount=1:TargetBorderType=MinEntropy:Prior=0/1:Prior=0.5/1:Prior=1/1', 'FeatureFreq:CtrBorderCount=15:CtrBorderType=Median:Prior=0/1'], 'iterations': 2000, 'fold_permutation_block': 64, 'leaf_estimation_method': 'Newton', 'observations_to_bootstrap': 'TestOnly', 'od_pval': 0, 'random_score_type': 'NormalWithModelSizeDecrease', 'counter_calc_method': 'SkipTest', 'grow_policy': 'SymmetricTree', 'penalties_coefficient': 1, 'boosting_type': 'Plain', 'ctr_history_unit': 'Sample', 'feature_border_type': 'GreedyLogSum', 'bayesian_matrix_reg': 0.10000000149011612, 'one_hot_max_size': 2, 'devices': '-1', 'eval_fraction': 0, 'pinned_memory_bytes': '104857600', 'force_unit_auto_pair_weights': False, 'l2_leaf_reg': 8.216801643371582, 'random_strength': 1, 'od_type': 'Iter', 'rsm': 1, 'boost_from_average': False, 'gpu_cat_features_storage': 'GpuRam', 'fold_size_loss_normalization': False, 'max_ctr_complexity': 4, 'model_size_reg': 0.5, 'simple_ctr': ['Borders:CtrBorderCount=15:CtrBorderType=Uniform:TargetBorderCount=1:TargetBorderType=MinEntropy:Prior=0/1:Prior=0.5/1:Prior=1/1', 'FeatureFreq:CtrBorderCount=15:CtrBorderType=MinEntropy:Prior=0/1'], 'pool_metainfo_options': {'tags': {}}, 'use_best_model': True, 'meta_l2_frequency': 0, 'od_wait': 100, 'class_names': [0, 1, 2, 3, 6, 8, 9, 11, 12, 14, 15, 17, 19, 22, 23, 24, 25, 26, 29, 32, 33, 35, 36, 37, 39, 41, 43, 46, 49, 50, 54, 55, 56], 'random_seed': 42, 'depth': 6, 'ctr_target_border_count': 1, 'has_time': False, 'border_count': 73, 'min_fold_size': 100, 'data_partition': 'DocParallel', 'bagging_temperature': 1, 'classes_count': 0, 'auto_class_weights': 'None', 'leaf_estimation_backtracking': 'AnyImprovement', 'best_model_min_trees': 1, 'min_data_in_leaf': 1, 'add_ridge_penalty_to_loss_function': False, 'loss_function': 'MultiClass', 'learning_rate': 0.07697277516126633, 'meta_l2_exponent': 1, 'score_function': 'Cosine', 'task_type': 'GPU', 'leaf_estimation_iterations': 1, 'bootstrap_type': 'Bayesian', 'max_leaves': 64, 'permutation_count': 4}\n",
      "{'nan_mode': 'Min', 'gpu_ram_part': 0.95, 'eval_metric': 'TotalF1:average=Macro', 'combinations_ctr': ['Borders:CtrBorderCount=15:CtrBorderType=Uniform:TargetBorderCount=1:TargetBorderType=MinEntropy:Prior=0/1:Prior=0.5/1:Prior=1/1', 'FeatureFreq:CtrBorderCount=15:CtrBorderType=Median:Prior=0/1'], 'iterations': 2000, 'fold_permutation_block': 64, 'leaf_estimation_method': 'Newton', 'observations_to_bootstrap': 'TestOnly', 'od_pval': 0, 'random_score_type': 'NormalWithModelSizeDecrease', 'counter_calc_method': 'SkipTest', 'grow_policy': 'SymmetricTree', 'penalties_coefficient': 1, 'boosting_type': 'Plain', 'ctr_history_unit': 'Sample', 'feature_border_type': 'GreedyLogSum', 'bayesian_matrix_reg': 0.10000000149011612, 'one_hot_max_size': 2, 'devices': '-1', 'eval_fraction': 0, 'pinned_memory_bytes': '104857600', 'force_unit_auto_pair_weights': False, 'l2_leaf_reg': 8.216801643371582, 'random_strength': 1, 'od_type': 'Iter', 'rsm': 1, 'boost_from_average': False, 'gpu_cat_features_storage': 'GpuRam', 'fold_size_loss_normalization': False, 'max_ctr_complexity': 4, 'model_size_reg': 0.5, 'simple_ctr': ['Borders:CtrBorderCount=15:CtrBorderType=Uniform:TargetBorderCount=1:TargetBorderType=MinEntropy:Prior=0/1:Prior=0.5/1:Prior=1/1', 'FeatureFreq:CtrBorderCount=15:CtrBorderType=MinEntropy:Prior=0/1'], 'pool_metainfo_options': {'tags': {}}, 'use_best_model': True, 'meta_l2_frequency': 0, 'od_wait': 100, 'class_names': [0, 1, 2, 3, 6, 8, 9, 11, 12, 14, 15, 17, 19, 22, 23, 24, 25, 26, 29, 32, 33, 35, 36, 37, 39, 41, 43, 46, 49, 50, 54, 55, 56], 'random_seed': 42, 'depth': 6, 'ctr_target_border_count': 1, 'has_time': False, 'border_count': 73, 'min_fold_size': 100, 'data_partition': 'DocParallel', 'bagging_temperature': 1, 'classes_count': 0, 'auto_class_weights': 'None', 'leaf_estimation_backtracking': 'AnyImprovement', 'best_model_min_trees': 1, 'min_data_in_leaf': 1, 'add_ridge_penalty_to_loss_function': False, 'loss_function': 'MultiClass', 'learning_rate': 0.07697277516126633, 'meta_l2_exponent': 1, 'score_function': 'Cosine', 'task_type': 'GPU', 'leaf_estimation_iterations': 1, 'bootstrap_type': 'Bayesian', 'max_leaves': 64, 'permutation_count': 4}\n",
      "{'nan_mode': 'Min', 'gpu_ram_part': 0.95, 'eval_metric': 'TotalF1:average=Macro', 'combinations_ctr': ['Borders:CtrBorderCount=15:CtrBorderType=Uniform:TargetBorderCount=1:TargetBorderType=MinEntropy:Prior=0/1:Prior=0.5/1:Prior=1/1', 'FeatureFreq:CtrBorderCount=15:CtrBorderType=Median:Prior=0/1'], 'iterations': 2000, 'fold_permutation_block': 64, 'leaf_estimation_method': 'Newton', 'observations_to_bootstrap': 'TestOnly', 'od_pval': 0, 'random_score_type': 'NormalWithModelSizeDecrease', 'counter_calc_method': 'SkipTest', 'grow_policy': 'SymmetricTree', 'penalties_coefficient': 1, 'boosting_type': 'Plain', 'ctr_history_unit': 'Sample', 'feature_border_type': 'GreedyLogSum', 'bayesian_matrix_reg': 0.10000000149011612, 'one_hot_max_size': 2, 'devices': '-1', 'eval_fraction': 0, 'pinned_memory_bytes': '104857600', 'force_unit_auto_pair_weights': False, 'l2_leaf_reg': 8.216801643371582, 'random_strength': 1, 'od_type': 'Iter', 'rsm': 1, 'boost_from_average': False, 'gpu_cat_features_storage': 'GpuRam', 'fold_size_loss_normalization': False, 'max_ctr_complexity': 4, 'model_size_reg': 0.5, 'simple_ctr': ['Borders:CtrBorderCount=15:CtrBorderType=Uniform:TargetBorderCount=1:TargetBorderType=MinEntropy:Prior=0/1:Prior=0.5/1:Prior=1/1', 'FeatureFreq:CtrBorderCount=15:CtrBorderType=MinEntropy:Prior=0/1'], 'pool_metainfo_options': {'tags': {}}, 'use_best_model': True, 'meta_l2_frequency': 0, 'od_wait': 100, 'class_names': [0, 1, 2, 3, 6, 8, 9, 11, 12, 14, 15, 17, 19, 22, 23, 24, 25, 26, 29, 32, 33, 35, 36, 37, 39, 41, 43, 46, 49, 50, 54, 55, 56], 'random_seed': 42, 'depth': 6, 'ctr_target_border_count': 1, 'has_time': False, 'border_count': 73, 'min_fold_size': 100, 'data_partition': 'DocParallel', 'bagging_temperature': 1, 'classes_count': 0, 'auto_class_weights': 'None', 'leaf_estimation_backtracking': 'AnyImprovement', 'best_model_min_trees': 1, 'min_data_in_leaf': 1, 'add_ridge_penalty_to_loss_function': False, 'loss_function': 'MultiClass', 'learning_rate': 0.07697277516126633, 'meta_l2_exponent': 1, 'score_function': 'Cosine', 'task_type': 'GPU', 'leaf_estimation_iterations': 1, 'bootstrap_type': 'Bayesian', 'max_leaves': 64, 'permutation_count': 4}\n"
     ]
    }
   ],
   "source": [
    "for m in models_selected_features:\n",
    "    print(m.get_all_params())"
   ]
  },
  {
   "cell_type": "code",
   "execution_count": null,
   "metadata": {},
   "outputs": [],
   "source": []
  },
  {
   "cell_type": "markdown",
   "metadata": {},
   "source": [
    "## Подбор гиперпараметров после отбора признаков"
   ]
  },
  {
   "cell_type": "code",
   "execution_count": 127,
   "metadata": {},
   "outputs": [
    {
     "name": "stderr",
     "output_type": "stream",
     "text": [
      "[I 2024-08-16 19:57:33,094] A new study created in memory with name: no-name-b1c855e6-c920-43fc-985d-7dce42b03037\n"
     ]
    },
    {
     "data": {
      "application/vnd.jupyter.widget-view+json": {
       "model_id": "54b5eac2bd3b4e20a07c1f78b0696a2b",
       "version_major": 2,
       "version_minor": 0
      },
      "text/plain": [
       "  0%|          | 0/3 [00:00<?, ?it/s]"
      ]
     },
     "metadata": {},
     "output_type": "display_data"
    },
    {
     "name": "stdout",
     "output_type": "stream",
     "text": [
      "0:\tlearn: 0.1158024\ttest: 0.1173108\tbest: 0.1173108 (0)\ttotal: 35.8ms\tremaining: 1m 11s\n",
      "100:\tlearn: 0.5586758\ttest: 0.5570482\tbest: 0.5570482 (100)\ttotal: 2.98s\tremaining: 55.9s\n",
      "200:\tlearn: 0.6465937\ttest: 0.6469918\tbest: 0.6469918 (200)\ttotal: 5.92s\tremaining: 53s\n",
      "300:\tlearn: 0.7405274\ttest: 0.7363120\tbest: 0.7363306 (299)\ttotal: 8.86s\tremaining: 50s\n",
      "400:\tlearn: 0.7851284\ttest: 0.7764509\tbest: 0.7764509 (400)\ttotal: 11.7s\tremaining: 46.7s\n",
      "500:\tlearn: 0.8137674\ttest: 0.8064561\tbest: 0.8069580 (495)\ttotal: 14.6s\tremaining: 43.6s\n",
      "600:\tlearn: 0.8318686\ttest: 0.8262388\tbest: 0.8262388 (600)\ttotal: 17.5s\tremaining: 40.8s\n",
      "700:\tlearn: 0.8491159\ttest: 0.8444259\tbest: 0.8449423 (698)\ttotal: 20.4s\tremaining: 37.8s\n",
      "800:\tlearn: 0.8617079\ttest: 0.8543384\tbest: 0.8543384 (800)\ttotal: 23.2s\tremaining: 34.8s\n",
      "900:\tlearn: 0.8716488\ttest: 0.8675375\tbest: 0.8675375 (900)\ttotal: 26.1s\tremaining: 31.8s\n",
      "1000:\tlearn: 0.8841551\ttest: 0.8788279\tbest: 0.8789275 (998)\ttotal: 28.9s\tremaining: 28.9s\n",
      "1100:\tlearn: 0.8915858\ttest: 0.8871751\tbest: 0.8871751 (1100)\ttotal: 31.8s\tremaining: 25.9s\n",
      "1200:\tlearn: 0.8996124\ttest: 0.8942660\tbest: 0.8946628 (1199)\ttotal: 34.6s\tremaining: 23s\n",
      "1300:\tlearn: 0.9051447\ttest: 0.8991319\tbest: 0.8991319 (1300)\ttotal: 37.4s\tremaining: 20.1s\n",
      "1400:\tlearn: 0.9094695\ttest: 0.9026449\tbest: 0.9027249 (1397)\ttotal: 40.2s\tremaining: 17.2s\n",
      "1500:\tlearn: 0.9150069\ttest: 0.9074159\tbest: 0.9074172 (1498)\ttotal: 43s\tremaining: 14.3s\n",
      "1600:\tlearn: 0.9218080\ttest: 0.9149793\tbest: 0.9149793 (1599)\ttotal: 45.8s\tremaining: 11.4s\n",
      "1700:\tlearn: 0.9269208\ttest: 0.9198717\tbest: 0.9198717 (1700)\ttotal: 48.6s\tremaining: 8.54s\n",
      "1800:\tlearn: 0.9298728\ttest: 0.9240663\tbest: 0.9240663 (1800)\ttotal: 51.4s\tremaining: 5.68s\n",
      "1900:\tlearn: 0.9336090\ttest: 0.9290346\tbest: 0.9291425 (1895)\ttotal: 54.2s\tremaining: 2.82s\n",
      "1999:\tlearn: 0.9367668\ttest: 0.9324134\tbest: 0.9325208 (1998)\ttotal: 56.9s\tremaining: 0us\n",
      "bestTest = 0.9325207542\n",
      "bestIteration = 1998\n",
      "Shrink model to first 1999 iterations.\n",
      "0:\tlearn: 0.1330607\ttest: 0.1291887\tbest: 0.1291887 (0)\ttotal: 28.2ms\tremaining: 56.3s\n",
      "100:\tlearn: 0.5395230\ttest: 0.5288749\tbest: 0.5288749 (100)\ttotal: 2.93s\tremaining: 55s\n",
      "200:\tlearn: 0.6601169\ttest: 0.6443809\tbest: 0.6443809 (200)\ttotal: 5.86s\tremaining: 52.5s\n",
      "300:\tlearn: 0.7415251\ttest: 0.7336781\tbest: 0.7336781 (300)\ttotal: 8.82s\tremaining: 49.8s\n",
      "400:\tlearn: 0.7909950\ttest: 0.7835442\tbest: 0.7835442 (400)\ttotal: 11.8s\tremaining: 46.9s\n",
      "500:\tlearn: 0.8218011\ttest: 0.8147470\tbest: 0.8148720 (498)\ttotal: 14.7s\tremaining: 44s\n",
      "600:\tlearn: 0.8407499\ttest: 0.8335134\tbest: 0.8345250 (596)\ttotal: 17.6s\tremaining: 40.9s\n",
      "700:\tlearn: 0.8563724\ttest: 0.8482105\tbest: 0.8482105 (700)\ttotal: 20.4s\tremaining: 37.9s\n",
      "800:\tlearn: 0.8655629\ttest: 0.8553659\tbest: 0.8554014 (796)\ttotal: 23.3s\tremaining: 34.8s\n",
      "900:\tlearn: 0.8728669\ttest: 0.8613767\tbest: 0.8613767 (900)\ttotal: 26.1s\tremaining: 31.8s\n",
      "1000:\tlearn: 0.8823359\ttest: 0.8688532\tbest: 0.8688532 (1000)\ttotal: 29s\tremaining: 28.9s\n",
      "1100:\tlearn: 0.8882350\ttest: 0.8758869\tbest: 0.8760797 (1099)\ttotal: 31.8s\tremaining: 26s\n",
      "1200:\tlearn: 0.8971823\ttest: 0.8848374\tbest: 0.8848374 (1200)\ttotal: 34.6s\tremaining: 23.1s\n",
      "1300:\tlearn: 0.9023519\ttest: 0.8917809\tbest: 0.8917809 (1300)\ttotal: 37.5s\tremaining: 20.1s\n",
      "1400:\tlearn: 0.9079104\ttest: 0.8964704\tbest: 0.8964704 (1400)\ttotal: 40.3s\tremaining: 17.2s\n",
      "1500:\tlearn: 0.9134965\ttest: 0.9034006\tbest: 0.9034006 (1500)\ttotal: 43.1s\tremaining: 14.3s\n",
      "1600:\tlearn: 0.9189075\ttest: 0.9103485\tbest: 0.9103977 (1597)\ttotal: 46s\tremaining: 11.5s\n",
      "1700:\tlearn: 0.9237412\ttest: 0.9162825\tbest: 0.9162825 (1700)\ttotal: 48.8s\tremaining: 8.58s\n",
      "1800:\tlearn: 0.9285743\ttest: 0.9216923\tbest: 0.9217007 (1799)\ttotal: 51.6s\tremaining: 5.7s\n",
      "1900:\tlearn: 0.9325792\ttest: 0.9249065\tbest: 0.9251263 (1897)\ttotal: 54.4s\tremaining: 2.83s\n",
      "1999:\tlearn: 0.9365826\ttest: 0.9300124\tbest: 0.9300939 (1997)\ttotal: 57.2s\tremaining: 0us\n",
      "bestTest = 0.9300939278\n",
      "bestIteration = 1997\n",
      "Shrink model to first 1998 iterations.\n",
      "0:\tlearn: 0.1171598\ttest: 0.1148214\tbest: 0.1148214 (0)\ttotal: 31.6ms\tremaining: 1m 3s\n",
      "100:\tlearn: 0.5396991\ttest: 0.5322443\tbest: 0.5322443 (100)\ttotal: 6.39s\tremaining: 2m\n",
      "200:\tlearn: 0.6744808\ttest: 0.6553532\tbest: 0.6553532 (200)\ttotal: 13.7s\tremaining: 2m 2s\n",
      "300:\tlearn: 0.7491219\ttest: 0.7306576\tbest: 0.7306576 (300)\ttotal: 21s\tremaining: 1m 58s\n",
      "400:\tlearn: 0.7929203\ttest: 0.7817055\tbest: 0.7839698 (397)\ttotal: 28.3s\tremaining: 1m 52s\n",
      "500:\tlearn: 0.8214276\ttest: 0.8066433\tbest: 0.8067605 (499)\ttotal: 35.6s\tremaining: 1m 46s\n",
      "600:\tlearn: 0.8462046\ttest: 0.8352763\tbest: 0.8352763 (600)\ttotal: 42.9s\tremaining: 1m 39s\n",
      "700:\tlearn: 0.8532786\ttest: 0.8451164\tbest: 0.8451164 (700)\ttotal: 50.1s\tremaining: 1m 32s\n",
      "800:\tlearn: 0.8664554\ttest: 0.8579803\tbest: 0.8579803 (800)\ttotal: 57.3s\tremaining: 1m 25s\n",
      "900:\tlearn: 0.8772897\ttest: 0.8669354\tbest: 0.8672410 (889)\ttotal: 1m 4s\tremaining: 1m 18s\n",
      "1000:\tlearn: 0.8894394\ttest: 0.8770552\tbest: 0.8770552 (1000)\ttotal: 1m 12s\tremaining: 1m 11s\n",
      "1100:\tlearn: 0.8981329\ttest: 0.8838868\tbest: 0.8838868 (1098)\ttotal: 1m 19s\tremaining: 1m 4s\n",
      "1200:\tlearn: 0.9051987\ttest: 0.8921445\tbest: 0.8924418 (1197)\ttotal: 1m 26s\tremaining: 57.8s\n",
      "1300:\tlearn: 0.9117405\ttest: 0.8984445\tbest: 0.8984445 (1300)\ttotal: 1m 34s\tremaining: 50.6s\n",
      "1400:\tlearn: 0.9174543\ttest: 0.9037314\tbest: 0.9037314 (1400)\ttotal: 1m 41s\tremaining: 43.4s\n",
      "1500:\tlearn: 0.9234322\ttest: 0.9093388\tbest: 0.9095846 (1491)\ttotal: 1m 49s\tremaining: 36.2s\n",
      "1600:\tlearn: 0.9266135\ttest: 0.9129408\tbest: 0.9130916 (1599)\ttotal: 1m 56s\tremaining: 29s\n",
      "1700:\tlearn: 0.9297356\ttest: 0.9177030\tbest: 0.9177902 (1695)\ttotal: 2m 3s\tremaining: 21.8s\n",
      "1800:\tlearn: 0.9333271\ttest: 0.9213653\tbest: 0.9214025 (1786)\ttotal: 2m 11s\tremaining: 14.5s\n",
      "1900:\tlearn: 0.9372652\ttest: 0.9242022\tbest: 0.9242022 (1899)\ttotal: 2m 18s\tremaining: 7.22s\n",
      "1999:\tlearn: 0.9411332\ttest: 0.9281230\tbest: 0.9281230 (1999)\ttotal: 2m 25s\tremaining: 0us\n",
      "bestTest = 0.9281229772\n",
      "bestIteration = 1999\n",
      "[I 2024-08-16 20:01:55,793] Trial 0 finished with value: 0.9026127493128144 and parameters: {'learning_rate': 0.012553239377960594, 'l2_leaf_reg': 52.2180047133739, 'auto_class_weights': 'Balanced', 'max_depth': 4, 'border_count': 84}. Best is trial 0 with value: 0.9026127493128144.\n",
      "0:\tlearn: 0.3864876\ttest: 0.3844690\tbest: 0.3844690 (0)\ttotal: 497ms\tremaining: 16m 32s\n",
      "100:\tlearn: 0.7529086\ttest: 0.7356702\tbest: 0.7356702 (100)\ttotal: 50.1s\tremaining: 15m 41s\n",
      "200:\tlearn: 0.8848241\ttest: 0.8662362\tbest: 0.8662362 (200)\ttotal: 1m 39s\tremaining: 14m 54s\n",
      "300:\tlearn: 0.9411259\ttest: 0.9273788\tbest: 0.9273788 (300)\ttotal: 2m 28s\tremaining: 14m\n",
      "400:\tlearn: 0.9661965\ttest: 0.9510845\tbest: 0.9510845 (398)\ttotal: 3m 13s\tremaining: 12m 53s\n",
      "500:\tlearn: 0.9868048\ttest: 0.9736080\tbest: 0.9737023 (495)\ttotal: 3m 58s\tremaining: 11m 52s\n",
      "600:\tlearn: 0.9917324\ttest: 0.9835485\tbest: 0.9835485 (600)\ttotal: 4m 42s\tremaining: 10m 56s\n",
      "700:\tlearn: 0.9959598\ttest: 0.9931528\tbest: 0.9931528 (696)\ttotal: 5m 25s\tremaining: 10m 3s\n",
      "800:\tlearn: 0.9968471\ttest: 0.9943142\tbest: 0.9943225 (760)\ttotal: 6m 11s\tremaining: 9m 16s\n",
      "bestTest = 0.9943224513\n",
      "bestIteration = 760\n",
      "Shrink model to first 761 iterations.\n",
      "0:\tlearn: 0.3834364\ttest: 0.3733063\tbest: 0.3733063 (0)\ttotal: 492ms\tremaining: 16m 24s\n",
      "100:\tlearn: 0.7533724\ttest: 0.7243888\tbest: 0.7243888 (100)\ttotal: 49.3s\tremaining: 15m 27s\n",
      "200:\tlearn: 0.9011169\ttest: 0.8930612\tbest: 0.8930612 (200)\ttotal: 1m 38s\tremaining: 14m 44s\n",
      "300:\tlearn: 0.9412686\ttest: 0.9340286\tbest: 0.9342063 (297)\ttotal: 2m 25s\tremaining: 13m 38s\n",
      "400:\tlearn: 0.9717010\ttest: 0.9572546\tbest: 0.9575062 (396)\ttotal: 3m 7s\tremaining: 12m 28s\n",
      "500:\tlearn: 0.9830617\ttest: 0.9718929\tbest: 0.9718929 (500)\ttotal: 3m 50s\tremaining: 11m 29s\n",
      "600:\tlearn: 0.9898378\ttest: 0.9787564\tbest: 0.9787564 (600)\ttotal: 4m 35s\tremaining: 10m 40s\n",
      "700:\tlearn: 0.9944516\ttest: 0.9879329\tbest: 0.9879329 (699)\ttotal: 5m 21s\tremaining: 9m 56s\n",
      "800:\tlearn: 0.9961476\ttest: 0.9924765\tbest: 0.9924765 (800)\ttotal: 6m 7s\tremaining: 9m 9s\n",
      "900:\tlearn: 0.9973154\ttest: 0.9948337\tbest: 0.9948337 (898)\ttotal: 6m 52s\tremaining: 8m 23s\n",
      "1000:\tlearn: 0.9975337\ttest: 0.9953960\tbest: 0.9954842 (994)\ttotal: 7m 36s\tremaining: 7m 36s\n",
      "1100:\tlearn: 0.9985470\ttest: 0.9972384\tbest: 0.9972384 (1091)\ttotal: 8m 19s\tremaining: 6m 48s\n",
      "1200:\tlearn: 0.9987329\ttest: 0.9973291\tbest: 0.9973291 (1103)\ttotal: 9m\tremaining: 5m 59s\n",
      "bestTest = 0.9973290723\n",
      "bestIteration = 1103\n",
      "Shrink model to first 1104 iterations.\n",
      "0:\tlearn: 0.3761439\ttest: 0.3649230\tbest: 0.3649230 (0)\ttotal: 485ms\tremaining: 16m 9s\n",
      "100:\tlearn: 0.7412377\ttest: 0.7063966\tbest: 0.7063966 (100)\ttotal: 49.6s\tremaining: 15m 32s\n",
      "200:\tlearn: 0.8930484\ttest: 0.8560677\tbest: 0.8569821 (199)\ttotal: 1m 38s\tremaining: 14m 42s\n",
      "300:\tlearn: 0.9458761\ttest: 0.9232185\tbest: 0.9232185 (300)\ttotal: 2m 29s\tremaining: 14m 2s\n",
      "400:\tlearn: 0.9617713\ttest: 0.9426593\tbest: 0.9426958 (398)\ttotal: 3m 14s\tremaining: 12m 54s\n",
      "500:\tlearn: 0.9871867\ttest: 0.9707744\tbest: 0.9708588 (497)\ttotal: 3m 58s\tremaining: 11m 52s\n",
      "600:\tlearn: 0.9936979\ttest: 0.9787957\tbest: 0.9787957 (600)\ttotal: 4m 42s\tremaining: 10m 56s\n",
      "700:\tlearn: 0.9961366\ttest: 0.9855729\tbest: 0.9856701 (690)\ttotal: 5m 25s\tremaining: 10m 2s\n",
      "800:\tlearn: 0.9968029\ttest: 0.9877205\tbest: 0.9877205 (800)\ttotal: 6m 7s\tremaining: 9m 9s\n",
      "900:\tlearn: 0.9972580\ttest: 0.9893586\tbest: 0.9893586 (899)\ttotal: 6m 49s\tremaining: 8m 19s\n",
      "1000:\tlearn: 0.9988405\ttest: 0.9920439\tbest: 0.9920439 (988)\ttotal: 7m 30s\tremaining: 7m 30s\n",
      "1100:\tlearn: 0.9989277\ttest: 0.9943213\tbest: 0.9943213 (1089)\ttotal: 8m 11s\tremaining: 6m 41s\n",
      "1200:\tlearn: 0.9990190\ttest: 0.9944126\tbest: 0.9944126 (1160)\ttotal: 8m 52s\tremaining: 5m 54s\n",
      "bestTest = 0.9944126336\n",
      "bestIteration = 1160\n",
      "Shrink model to first 1161 iterations.\n",
      "[I 2024-08-16 20:26:57,480] Trial 1 finished with value: 0.9953547190938936 and parameters: {'learning_rate': 0.09816883769920995, 'l2_leaf_reg': 54.63988329368241, 'auto_class_weights': 'None', 'max_depth': 10, 'border_count': 115}. Best is trial 1 with value: 0.9953547190938936.\n",
      "0:\tlearn: 0.1660224\ttest: 0.1708891\tbest: 0.1708891 (0)\ttotal: 101ms\tremaining: 3m 21s\n",
      "100:\tlearn: 0.3974855\ttest: 0.3966744\tbest: 0.3966744 (100)\ttotal: 9.97s\tremaining: 3m 7s\n",
      "200:\tlearn: 0.5420312\ttest: 0.5395644\tbest: 0.5395644 (200)\ttotal: 20.1s\tremaining: 2m 59s\n",
      "300:\tlearn: 0.6400780\ttest: 0.6285710\tbest: 0.6292187 (298)\ttotal: 30.2s\tremaining: 2m 50s\n",
      "400:\tlearn: 0.7169738\ttest: 0.7027165\tbest: 0.7027818 (399)\ttotal: 40.1s\tremaining: 2m 40s\n",
      "500:\tlearn: 0.7837426\ttest: 0.7640273\tbest: 0.7640273 (500)\ttotal: 50.1s\tremaining: 2m 30s\n",
      "600:\tlearn: 0.8072637\ttest: 0.7900100\tbest: 0.7900100 (600)\ttotal: 59.8s\tremaining: 2m 19s\n",
      "700:\tlearn: 0.8233050\ttest: 0.8061596\tbest: 0.8064548 (699)\ttotal: 1m 9s\tremaining: 2m 8s\n",
      "800:\tlearn: 0.8685704\ttest: 0.8453647\tbest: 0.8453647 (800)\ttotal: 1m 19s\tremaining: 1m 58s\n",
      "900:\tlearn: 0.8913184\ttest: 0.8688274\tbest: 0.8690043 (899)\ttotal: 1m 28s\tremaining: 1m 48s\n",
      "1000:\tlearn: 0.9071556\ttest: 0.8833166\tbest: 0.8833166 (1000)\ttotal: 1m 38s\tremaining: 1m 37s\n",
      "1100:\tlearn: 0.9194778\ttest: 0.9040535\tbest: 0.9040535 (1098)\ttotal: 1m 47s\tremaining: 1m 27s\n",
      "1200:\tlearn: 0.9302410\ttest: 0.9146356\tbest: 0.9146356 (1200)\ttotal: 1m 56s\tremaining: 1m 17s\n",
      "1300:\tlearn: 0.9395136\ttest: 0.9209856\tbest: 0.9209856 (1300)\ttotal: 2m 6s\tremaining: 1m 7s\n",
      "1400:\tlearn: 0.9465300\ttest: 0.9286091\tbest: 0.9286091 (1400)\ttotal: 2m 15s\tremaining: 58.1s\n",
      "1500:\tlearn: 0.9500303\ttest: 0.9321422\tbest: 0.9321422 (1494)\ttotal: 2m 25s\tremaining: 48.3s\n",
      "1600:\tlearn: 0.9574620\ttest: 0.9371744\tbest: 0.9371875 (1594)\ttotal: 2m 34s\tremaining: 38.5s\n",
      "1700:\tlearn: 0.9616283\ttest: 0.9395466\tbest: 0.9397353 (1698)\ttotal: 2m 43s\tremaining: 28.8s\n",
      "1800:\tlearn: 0.9646237\ttest: 0.9432407\tbest: 0.9438341 (1782)\ttotal: 2m 53s\tremaining: 19.1s\n",
      "1900:\tlearn: 0.9671946\ttest: 0.9458855\tbest: 0.9463100 (1899)\ttotal: 3m 2s\tremaining: 9.5s\n",
      "1999:\tlearn: 0.9682493\ttest: 0.9469547\tbest: 0.9471450 (1992)\ttotal: 3m 11s\tremaining: 0us\n",
      "bestTest = 0.9471449595\n",
      "bestIteration = 1992\n",
      "Shrink model to first 1993 iterations.\n",
      "0:\tlearn: 0.1708005\ttest: 0.1657141\tbest: 0.1657141 (0)\ttotal: 99.8ms\tremaining: 3m 19s\n",
      "100:\tlearn: 0.4031212\ttest: 0.4073588\tbest: 0.4073588 (100)\ttotal: 10s\tremaining: 3m 8s\n",
      "200:\tlearn: 0.5569026\ttest: 0.5604063\tbest: 0.5604063 (200)\ttotal: 20.4s\tremaining: 3m 2s\n",
      "300:\tlearn: 0.6224261\ttest: 0.6178607\tbest: 0.6178607 (300)\ttotal: 30.6s\tremaining: 2m 52s\n",
      "400:\tlearn: 0.7116437\ttest: 0.7088277\tbest: 0.7088277 (400)\ttotal: 40.7s\tremaining: 2m 42s\n",
      "500:\tlearn: 0.7543760\ttest: 0.7426953\tbest: 0.7426953 (500)\ttotal: 50.7s\tremaining: 2m 31s\n",
      "600:\tlearn: 0.7876172\ttest: 0.7760267\tbest: 0.7760267 (600)\ttotal: 1m\tremaining: 2m 20s\n",
      "700:\tlearn: 0.8074339\ttest: 0.7918190\tbest: 0.7918190 (700)\ttotal: 1m 10s\tremaining: 2m 10s\n",
      "800:\tlearn: 0.8550473\ttest: 0.8357762\tbest: 0.8357762 (800)\ttotal: 1m 19s\tremaining: 1m 59s\n",
      "900:\tlearn: 0.8682602\ttest: 0.8476817\tbest: 0.8480670 (898)\ttotal: 1m 29s\tremaining: 1m 49s\n",
      "1000:\tlearn: 0.8954830\ttest: 0.8863259\tbest: 0.8863259 (1000)\ttotal: 1m 39s\tremaining: 1m 38s\n",
      "1100:\tlearn: 0.9095246\ttest: 0.8967522\tbest: 0.8967522 (1100)\ttotal: 1m 48s\tremaining: 1m 28s\n",
      "1200:\tlearn: 0.9201757\ttest: 0.9061313\tbest: 0.9063308 (1198)\ttotal: 1m 58s\tremaining: 1m 18s\n",
      "1300:\tlearn: 0.9278668\ttest: 0.9138452\tbest: 0.9139707 (1296)\ttotal: 2m 7s\tremaining: 1m 8s\n",
      "1400:\tlearn: 0.9353263\ttest: 0.9187373\tbest: 0.9188241 (1394)\ttotal: 2m 17s\tremaining: 58.6s\n",
      "1500:\tlearn: 0.9399965\ttest: 0.9237223\tbest: 0.9238052 (1497)\ttotal: 2m 26s\tremaining: 48.7s\n",
      "1600:\tlearn: 0.9456308\ttest: 0.9282906\tbest: 0.9285749 (1594)\ttotal: 2m 35s\tremaining: 38.8s\n",
      "1700:\tlearn: 0.9521119\ttest: 0.9351274\tbest: 0.9352128 (1699)\ttotal: 2m 45s\tremaining: 29s\n",
      "1800:\tlearn: 0.9575653\ttest: 0.9388590\tbest: 0.9388590 (1800)\ttotal: 2m 54s\tremaining: 19.3s\n",
      "1900:\tlearn: 0.9636569\ttest: 0.9426866\tbest: 0.9428834 (1892)\ttotal: 3m 4s\tremaining: 9.61s\n",
      "1999:\tlearn: 0.9664604\ttest: 0.9452501\tbest: 0.9454268 (1995)\ttotal: 3m 13s\tremaining: 0us\n",
      "bestTest = 0.9454267736\n",
      "bestIteration = 1995\n",
      "Shrink model to first 1996 iterations.\n",
      "0:\tlearn: 0.1714727\ttest: 0.1665395\tbest: 0.1665395 (0)\ttotal: 98.3ms\tremaining: 3m 16s\n",
      "100:\tlearn: 0.4197883\ttest: 0.4111733\tbest: 0.4111733 (100)\ttotal: 10.1s\tremaining: 3m 10s\n",
      "200:\tlearn: 0.5553554\ttest: 0.5427748\tbest: 0.5427748 (200)\ttotal: 20.4s\tremaining: 3m 2s\n",
      "300:\tlearn: 0.6275289\ttest: 0.6103162\tbest: 0.6103162 (300)\ttotal: 30.5s\tremaining: 2m 52s\n",
      "400:\tlearn: 0.7120129\ttest: 0.6902186\tbest: 0.6902186 (400)\ttotal: 40.7s\tremaining: 2m 42s\n",
      "500:\tlearn: 0.7646899\ttest: 0.7495547\tbest: 0.7495547 (500)\ttotal: 50.6s\tremaining: 2m 31s\n",
      "600:\tlearn: 0.7834690\ttest: 0.7686882\tbest: 0.7687722 (599)\ttotal: 1m\tremaining: 2m 20s\n",
      "700:\tlearn: 0.8283901\ttest: 0.8012479\tbest: 0.8012542 (699)\ttotal: 1m 9s\tremaining: 2m 9s\n",
      "800:\tlearn: 0.8435659\ttest: 0.8154477\tbest: 0.8155829 (799)\ttotal: 1m 19s\tremaining: 1m 58s\n",
      "900:\tlearn: 0.8863175\ttest: 0.8585654\tbest: 0.8585654 (899)\ttotal: 1m 28s\tremaining: 1m 48s\n",
      "1000:\tlearn: 0.9001734\ttest: 0.8716023\tbest: 0.8716023 (1000)\ttotal: 1m 38s\tremaining: 1m 38s\n",
      "1100:\tlearn: 0.9124725\ttest: 0.8842698\tbest: 0.8844878 (1099)\ttotal: 1m 47s\tremaining: 1m 28s\n",
      "1200:\tlearn: 0.9294412\ttest: 0.8981403\tbest: 0.8981403 (1200)\ttotal: 1m 57s\tremaining: 1m 18s\n",
      "1300:\tlearn: 0.9423895\ttest: 0.9198825\tbest: 0.9198825 (1300)\ttotal: 2m 6s\tremaining: 1m 8s\n",
      "1400:\tlearn: 0.9486913\ttest: 0.9267110\tbest: 0.9268055 (1397)\ttotal: 2m 16s\tremaining: 58.3s\n",
      "1500:\tlearn: 0.9532572\ttest: 0.9310588\tbest: 0.9310588 (1500)\ttotal: 2m 25s\tremaining: 48.5s\n",
      "1600:\tlearn: 0.9571933\ttest: 0.9370843\tbest: 0.9370944 (1592)\ttotal: 2m 35s\tremaining: 38.7s\n",
      "1700:\tlearn: 0.9605886\ttest: 0.9410924\tbest: 0.9410924 (1697)\ttotal: 2m 44s\tremaining: 28.9s\n",
      "1800:\tlearn: 0.9648757\ttest: 0.9456647\tbest: 0.9456647 (1797)\ttotal: 2m 54s\tremaining: 19.3s\n",
      "1900:\tlearn: 0.9670563\ttest: 0.9477706\tbest: 0.9477706 (1900)\ttotal: 3m 3s\tremaining: 9.56s\n",
      "1999:\tlearn: 0.9690917\ttest: 0.9493040\tbest: 0.9493040 (1990)\ttotal: 3m 12s\tremaining: 0us\n",
      "bestTest = 0.9493040142\n",
      "bestIteration = 1990\n",
      "Shrink model to first 1991 iterations.\n",
      "[I 2024-08-16 20:36:38,944] Trial 2 finished with value: 0.9472919157798293 and parameters: {'learning_rate': 0.017301419607036444, 'l2_leaf_reg': 29.90307012223897, 'auto_class_weights': 'None', 'max_depth': 6, 'border_count': 34}. Best is trial 1 with value: 0.9953547190938936.\n",
      "CPU times: total: 1h 20min 25s\n",
      "Wall time: 39min 5s\n"
     ]
    }
   ],
   "source": [
    "%%time\n",
    "\n",
    "study = optuna.create_study(direction='maximize')\n",
    "study.optimize(\n",
    "                lambda trial: objective(trial, X[selected_features], y, cat_features),\n",
    "                n_trials=3,\n",
    "                show_progress_bar=True,\n",
    ")"
   ]
  },
  {
   "cell_type": "code",
   "execution_count": 128,
   "metadata": {},
   "outputs": [
    {
     "name": "stdout",
     "output_type": "stream",
     "text": [
      "Best trial: score 0.9953547190938936, params {'learning_rate': 0.09816883769920995, 'l2_leaf_reg': 54.63988329368241, 'auto_class_weights': 'None', 'max_depth': 10, 'border_count': 115}\n"
     ]
    }
   ],
   "source": [
    "print(\"Best trial: score {}, params {}\".format(study.best_trial.value, study.best_trial.params))"
   ]
  },
  {
   "cell_type": "code",
   "execution_count": 130,
   "metadata": {},
   "outputs": [
    {
     "name": "stdout",
     "output_type": "stream",
     "text": [
      "0:\tlearn: 0.3864876\ttest: 0.3844690\tbest: 0.3844690 (0)\ttotal: 340ms\tremaining: 11m 20s\n",
      "100:\tlearn: 0.7529086\ttest: 0.7356702\tbest: 0.7356702 (100)\ttotal: 29.4s\tremaining: 9m 13s\n",
      "200:\tlearn: 0.8848241\ttest: 0.8662362\tbest: 0.8662362 (200)\ttotal: 59.1s\tremaining: 8m 48s\n",
      "300:\tlearn: 0.9411259\ttest: 0.9273788\tbest: 0.9273788 (300)\ttotal: 1m 28s\tremaining: 8m 18s\n",
      "400:\tlearn: 0.9661965\ttest: 0.9510845\tbest: 0.9510845 (398)\ttotal: 1m 56s\tremaining: 7m 43s\n",
      "500:\tlearn: 0.9868048\ttest: 0.9736080\tbest: 0.9737023 (495)\ttotal: 2m 39s\tremaining: 7m 55s\n",
      "600:\tlearn: 0.9917324\ttest: 0.9835485\tbest: 0.9835485 (600)\ttotal: 3m 21s\tremaining: 7m 50s\n",
      "700:\tlearn: 0.9959598\ttest: 0.9931528\tbest: 0.9931528 (696)\ttotal: 4m 5s\tremaining: 7m 34s\n",
      "800:\tlearn: 0.9968471\ttest: 0.9943142\tbest: 0.9943225 (760)\ttotal: 4m 50s\tremaining: 7m 14s\n",
      "bestTest = 0.9943224513\n",
      "bestIteration = 760\n",
      "Shrink model to first 761 iterations.\n",
      "0:\tlearn: 0.3834364\ttest: 0.3733063\tbest: 0.3733063 (0)\ttotal: 486ms\tremaining: 16m 11s\n",
      "100:\tlearn: 0.7533724\ttest: 0.7243888\tbest: 0.7243888 (100)\ttotal: 47.8s\tremaining: 14m 58s\n",
      "200:\tlearn: 0.9011169\ttest: 0.8930612\tbest: 0.8930612 (200)\ttotal: 1m 35s\tremaining: 14m 14s\n",
      "300:\tlearn: 0.9412686\ttest: 0.9340286\tbest: 0.9342063 (297)\ttotal: 2m 20s\tremaining: 13m 11s\n",
      "400:\tlearn: 0.9717010\ttest: 0.9572546\tbest: 0.9575062 (396)\ttotal: 3m 1s\tremaining: 12m 5s\n",
      "500:\tlearn: 0.9830617\ttest: 0.9718929\tbest: 0.9718929 (500)\ttotal: 3m 43s\tremaining: 11m 9s\n",
      "600:\tlearn: 0.9898378\ttest: 0.9787564\tbest: 0.9787564 (600)\ttotal: 4m 26s\tremaining: 10m 21s\n",
      "700:\tlearn: 0.9944516\ttest: 0.9879329\tbest: 0.9879329 (699)\ttotal: 5m 12s\tremaining: 9m 38s\n",
      "800:\tlearn: 0.9961476\ttest: 0.9924765\tbest: 0.9924765 (800)\ttotal: 5m 55s\tremaining: 8m 52s\n",
      "900:\tlearn: 0.9973154\ttest: 0.9948337\tbest: 0.9948337 (898)\ttotal: 6m 39s\tremaining: 8m 7s\n",
      "1000:\tlearn: 0.9975337\ttest: 0.9953960\tbest: 0.9954842 (994)\ttotal: 7m 21s\tremaining: 7m 20s\n",
      "1100:\tlearn: 0.9985470\ttest: 0.9972384\tbest: 0.9972384 (1091)\ttotal: 8m 2s\tremaining: 6m 34s\n",
      "1200:\tlearn: 0.9987329\ttest: 0.9973291\tbest: 0.9973291 (1103)\ttotal: 8m 42s\tremaining: 5m 47s\n",
      "bestTest = 0.9973290723\n",
      "bestIteration = 1103\n",
      "Shrink model to first 1104 iterations.\n",
      "0:\tlearn: 0.3761439\ttest: 0.3649230\tbest: 0.3649230 (0)\ttotal: 467ms\tremaining: 15m 32s\n",
      "100:\tlearn: 0.7412377\ttest: 0.7063966\tbest: 0.7063966 (100)\ttotal: 47.3s\tremaining: 14m 49s\n",
      "200:\tlearn: 0.8930484\ttest: 0.8560677\tbest: 0.8569821 (199)\ttotal: 1m 34s\tremaining: 14m 2s\n",
      "300:\tlearn: 0.9458761\ttest: 0.9232185\tbest: 0.9232185 (300)\ttotal: 2m 22s\tremaining: 13m 23s\n",
      "400:\tlearn: 0.9617713\ttest: 0.9426593\tbest: 0.9426958 (398)\ttotal: 3m 5s\tremaining: 12m 20s\n",
      "500:\tlearn: 0.9871867\ttest: 0.9707744\tbest: 0.9708588 (497)\ttotal: 3m 48s\tremaining: 11m 22s\n",
      "600:\tlearn: 0.9936979\ttest: 0.9787957\tbest: 0.9787957 (600)\ttotal: 4m 30s\tremaining: 10m 28s\n",
      "700:\tlearn: 0.9961366\ttest: 0.9855729\tbest: 0.9856701 (690)\ttotal: 5m 12s\tremaining: 9m 38s\n",
      "800:\tlearn: 0.9968029\ttest: 0.9877205\tbest: 0.9877205 (800)\ttotal: 5m 53s\tremaining: 8m 49s\n",
      "900:\tlearn: 0.9972580\ttest: 0.9893586\tbest: 0.9893586 (899)\ttotal: 6m 35s\tremaining: 8m 2s\n",
      "1000:\tlearn: 0.9988405\ttest: 0.9920439\tbest: 0.9920439 (988)\ttotal: 7m 16s\tremaining: 7m 15s\n",
      "1100:\tlearn: 0.9989277\ttest: 0.9943213\tbest: 0.9943213 (1089)\ttotal: 7m 56s\tremaining: 6m 28s\n",
      "1200:\tlearn: 0.9990190\ttest: 0.9944126\tbest: 0.9944126 (1160)\ttotal: 8m 36s\tremaining: 5m 43s\n",
      "bestTest = 0.9944126336\n",
      "bestIteration = 1160\n",
      "Shrink model to first 1161 iterations.\n",
      "CPU times: total: 47min 23s\n",
      "Wall time: 23min 4s\n"
     ]
    }
   ],
   "source": [
    "%%time\n",
    "\n",
    "valid_scores, models_sf_new_fit = objective(\n",
    "    optuna.trial.FixedTrial(study.best_params),\n",
    "    X[selected_features], \n",
    "    y, \n",
    "    cat_features,\n",
    "    return_models=True,\n",
    ")"
   ]
  },
  {
   "cell_type": "code",
   "execution_count": null,
   "metadata": {},
   "outputs": [
    {
     "data": {
      "text/plain": [
       "0.9987588005955305"
      ]
     },
     "execution_count": 289,
     "metadata": {},
     "output_type": "execute_result"
    }
   ],
   "source": [
    "valid_scores"
   ]
  },
  {
   "cell_type": "code",
   "execution_count": null,
   "metadata": {},
   "outputs": [
    {
     "name": "stdout",
     "output_type": "stream",
     "text": [
      "687\n",
      "539\n",
      "882\n"
     ]
    }
   ],
   "source": [
    "for m in models_sf_new_fit:\n",
    "    print(m.tree_count_)"
   ]
  },
  {
   "cell_type": "code",
   "execution_count": null,
   "metadata": {},
   "outputs": [
    {
     "name": "stdout",
     "output_type": "stream",
     "text": [
      "{'nan_mode': 'Min', 'gpu_ram_part': 0.95, 'eval_metric': 'TotalF1:average=Macro', 'combinations_ctr': ['Borders:CtrBorderCount=15:CtrBorderType=Uniform:TargetBorderCount=1:TargetBorderType=MinEntropy:Prior=0/1:Prior=0.5/1:Prior=1/1', 'FeatureFreq:CtrBorderCount=15:CtrBorderType=Median:Prior=0/1'], 'iterations': 2000, 'fold_permutation_block': 64, 'leaf_estimation_method': 'Newton', 'observations_to_bootstrap': 'TestOnly', 'od_pval': 0, 'random_score_type': 'NormalWithModelSizeDecrease', 'counter_calc_method': 'SkipTest', 'grow_policy': 'SymmetricTree', 'penalties_coefficient': 1, 'boosting_type': 'Plain', 'ctr_history_unit': 'Sample', 'feature_border_type': 'GreedyLogSum', 'bayesian_matrix_reg': 0.10000000149011612, 'one_hot_max_size': 2, 'devices': '-1', 'eval_fraction': 0, 'pinned_memory_bytes': '104857600', 'force_unit_auto_pair_weights': False, 'l2_leaf_reg': 18.33833122253418, 'random_strength': 1, 'od_type': 'Iter', 'rsm': 1, 'boost_from_average': False, 'gpu_cat_features_storage': 'GpuRam', 'fold_size_loss_normalization': False, 'max_ctr_complexity': 4, 'model_size_reg': 0.5, 'simple_ctr': ['Borders:CtrBorderCount=15:CtrBorderType=Uniform:TargetBorderCount=1:TargetBorderType=MinEntropy:Prior=0/1:Prior=0.5/1:Prior=1/1', 'FeatureFreq:CtrBorderCount=15:CtrBorderType=MinEntropy:Prior=0/1'], 'pool_metainfo_options': {'tags': {}}, 'use_best_model': True, 'meta_l2_frequency': 0, 'od_wait': 100, 'class_names': [0, 1, 2, 3, 6, 9, 11, 12, 14, 15, 17, 19, 22, 23, 24, 25, 26, 29, 32, 33, 35, 36, 37, 39, 43, 46, 49, 50, 54, 55, 56], 'random_seed': 42, 'depth': 10, 'ctr_target_border_count': 1, 'has_time': False, 'border_count': 84, 'min_fold_size': 100, 'class_weights': [1.8316195011138916, 1.8603132963180544, 54.80769348144531, 2.4317405223846436, 1.1914715766906738, 2.1048743724823, 1.704545497894287, 1.1855241060256958, 3.518518447875977, 1.3268156051635742, 3.376777172088623, 1.3109475374221802, 24.56896591186523, 8.796296119689941, 5.888429641723633, 9.253246307373049, 8.189655303955078, 2.4070944786071777, 2.1236960887908936, 1.8434669971466064, 3.9473683834075928, 49.13793182373047, 1, 2.0833332538604736, 18.269229888916016, 4.765886306762695, 1.9547325372695925, 2.2727272510528564, 2.2335422039031982, 1.0042283535003662, 17.378047943115234], 'data_partition': 'DocParallel', 'bagging_temperature': 1, 'classes_count': 0, 'auto_class_weights': 'Balanced', 'leaf_estimation_backtracking': 'AnyImprovement', 'best_model_min_trees': 1, 'min_data_in_leaf': 1, 'add_ridge_penalty_to_loss_function': False, 'loss_function': 'MultiClass', 'learning_rate': 0.04325415566563606, 'meta_l2_exponent': 1, 'score_function': 'Cosine', 'task_type': 'GPU', 'leaf_estimation_iterations': 1, 'bootstrap_type': 'Bayesian', 'max_leaves': 1024, 'permutation_count': 4}\n",
      "{'nan_mode': 'Min', 'gpu_ram_part': 0.95, 'eval_metric': 'TotalF1:average=Macro', 'combinations_ctr': ['Borders:CtrBorderCount=15:CtrBorderType=Uniform:TargetBorderCount=1:TargetBorderType=MinEntropy:Prior=0/1:Prior=0.5/1:Prior=1/1', 'FeatureFreq:CtrBorderCount=15:CtrBorderType=Median:Prior=0/1'], 'iterations': 2000, 'fold_permutation_block': 64, 'leaf_estimation_method': 'Newton', 'observations_to_bootstrap': 'TestOnly', 'od_pval': 0, 'random_score_type': 'NormalWithModelSizeDecrease', 'counter_calc_method': 'SkipTest', 'grow_policy': 'SymmetricTree', 'penalties_coefficient': 1, 'boosting_type': 'Plain', 'ctr_history_unit': 'Sample', 'feature_border_type': 'GreedyLogSum', 'bayesian_matrix_reg': 0.10000000149011612, 'one_hot_max_size': 2, 'devices': '-1', 'eval_fraction': 0, 'pinned_memory_bytes': '104857600', 'force_unit_auto_pair_weights': False, 'l2_leaf_reg': 18.33833122253418, 'random_strength': 1, 'od_type': 'Iter', 'rsm': 1, 'boost_from_average': False, 'gpu_cat_features_storage': 'GpuRam', 'fold_size_loss_normalization': False, 'max_ctr_complexity': 4, 'model_size_reg': 0.5, 'simple_ctr': ['Borders:CtrBorderCount=15:CtrBorderType=Uniform:TargetBorderCount=1:TargetBorderType=MinEntropy:Prior=0/1:Prior=0.5/1:Prior=1/1', 'FeatureFreq:CtrBorderCount=15:CtrBorderType=MinEntropy:Prior=0/1'], 'pool_metainfo_options': {'tags': {}}, 'use_best_model': True, 'meta_l2_frequency': 0, 'od_wait': 100, 'class_names': [0, 1, 2, 3, 6, 9, 11, 12, 14, 15, 17, 19, 22, 23, 24, 25, 26, 29, 32, 33, 35, 36, 37, 39, 43, 46, 49, 50, 54, 55, 56], 'random_seed': 42, 'depth': 10, 'ctr_target_border_count': 1, 'has_time': False, 'border_count': 84, 'min_fold_size': 100, 'class_weights': [1.8339768648147583, 1.8603132963180544, 54.80769348144531, 2.4317405223846436, 1.1904761791229248, 2.1048743724823, 1.704545497894287, 1.1865112781524658, 3.518518447875977, 1.325581431388855, 3.376777172088623, 1.3097426891326904, 24.56896591186523, 8.796296119689941, 5.864197731018066, 9.193548202514648, 8.189655303955078, 2.411167621612549, 2.1268656253814697, 1.8434669971466064, 3.9473683834075928, 49.13793182373047, 1, 2.086383581161499, 18.269229888916016, 4.765886306762695, 1.9547325372695925, 2.2727272510528564, 2.2335422039031982, 1.0042283535003662, 17.378047943115234], 'data_partition': 'DocParallel', 'bagging_temperature': 1, 'classes_count': 0, 'auto_class_weights': 'Balanced', 'leaf_estimation_backtracking': 'AnyImprovement', 'best_model_min_trees': 1, 'min_data_in_leaf': 1, 'add_ridge_penalty_to_loss_function': False, 'loss_function': 'MultiClass', 'learning_rate': 0.04325415566563606, 'meta_l2_exponent': 1, 'score_function': 'Cosine', 'task_type': 'GPU', 'leaf_estimation_iterations': 1, 'bootstrap_type': 'Bayesian', 'max_leaves': 1024, 'permutation_count': 4}\n",
      "{'nan_mode': 'Min', 'gpu_ram_part': 0.95, 'eval_metric': 'TotalF1:average=Macro', 'combinations_ctr': ['Borders:CtrBorderCount=15:CtrBorderType=Uniform:TargetBorderCount=1:TargetBorderType=MinEntropy:Prior=0/1:Prior=0.5/1:Prior=1/1', 'FeatureFreq:CtrBorderCount=15:CtrBorderType=Median:Prior=0/1'], 'iterations': 2000, 'fold_permutation_block': 64, 'leaf_estimation_method': 'Newton', 'observations_to_bootstrap': 'TestOnly', 'od_pval': 0, 'random_score_type': 'NormalWithModelSizeDecrease', 'counter_calc_method': 'SkipTest', 'grow_policy': 'SymmetricTree', 'penalties_coefficient': 1, 'boosting_type': 'Plain', 'ctr_history_unit': 'Sample', 'feature_border_type': 'GreedyLogSum', 'bayesian_matrix_reg': 0.10000000149011612, 'one_hot_max_size': 2, 'devices': '-1', 'eval_fraction': 0, 'pinned_memory_bytes': '104857600', 'force_unit_auto_pair_weights': False, 'l2_leaf_reg': 18.33833122253418, 'random_strength': 1, 'od_type': 'Iter', 'rsm': 1, 'boost_from_average': False, 'gpu_cat_features_storage': 'GpuRam', 'fold_size_loss_normalization': False, 'max_ctr_complexity': 4, 'model_size_reg': 0.5, 'simple_ctr': ['Borders:CtrBorderCount=15:CtrBorderType=Uniform:TargetBorderCount=1:TargetBorderType=MinEntropy:Prior=0/1:Prior=0.5/1:Prior=1/1', 'FeatureFreq:CtrBorderCount=15:CtrBorderType=MinEntropy:Prior=0/1'], 'pool_metainfo_options': {'tags': {}}, 'use_best_model': True, 'meta_l2_frequency': 0, 'od_wait': 100, 'class_names': [0, 1, 2, 3, 6, 9, 11, 12, 14, 15, 17, 19, 22, 23, 24, 25, 26, 29, 32, 33, 35, 36, 37, 39, 43, 46, 49, 50, 54, 55, 56], 'random_seed': 42, 'depth': 10, 'ctr_target_border_count': 1, 'has_time': False, 'border_count': 84, 'min_fold_size': 100, 'class_weights': [1.832689881324768, 1.8590078353881836, 54.769229888916016, 2.4300341606140137, 1.189640760421753, 2.10650897026062, 1.703349232673645, 1.1856786012649536, 3.5073890686035156, 1.324651122093201, 3.3744075298309326, 1.3100275993347168, 24.55172348022461, 8.790122985839844, 5.860082149505615, 9.18709659576416, 8.183908462524414, 2.409475564956665, 2.1222057342529297, 1.83979332447052, 3.9555554389953618, 50.85714340209961, 1, 2.0849194526672363, 18.256410598754883, 4.746666431427002, 1.950684905052185, 2.2747604846954346, 2.231974840164185, 1.002816915512085, 17.365854263305664], 'data_partition': 'DocParallel', 'bagging_temperature': 1, 'classes_count': 0, 'auto_class_weights': 'Balanced', 'leaf_estimation_backtracking': 'AnyImprovement', 'best_model_min_trees': 1, 'min_data_in_leaf': 1, 'add_ridge_penalty_to_loss_function': False, 'loss_function': 'MultiClass', 'learning_rate': 0.04325415566563606, 'meta_l2_exponent': 1, 'score_function': 'Cosine', 'task_type': 'GPU', 'leaf_estimation_iterations': 1, 'bootstrap_type': 'Bayesian', 'max_leaves': 1024, 'permutation_count': 4}\n"
     ]
    }
   ],
   "source": [
    "for m in models_sf_new_fit:\n",
    "    print(m.get_all_params())"
   ]
  },
  {
   "cell_type": "markdown",
   "metadata": {},
   "source": [
    "## Итоговое предсказание лучшей модели"
   ]
  },
  {
   "cell_type": "code",
   "execution_count": 92,
   "metadata": {},
   "outputs": [],
   "source": [
    "def make_prediction_dict(df_test, name_columns, models):\n",
    "    # из тестового набора выделяем фичи, на которых обучались\n",
    "    X = df_test.loc[:, name_columns]\n",
    "    # датафрейм с закодированными user_id из тестовой выборки\n",
    "    result = df_test.loc[:, ['user_word']]\n",
    "    # делаем предсказания user_id\n",
    "    predictions = np.array([model.predict(X) for model in models])\n",
    "    result['pred_user_id'] = mode(predictions, axis=0)[0].flatten()\n",
    "    result = result.groupby('user_word')['pred_user_id'].agg(lambda group: dict(group.value_counts())).to_dict()\n",
    "    return result"
   ]
  },
  {
   "cell_type": "code",
   "execution_count": 93,
   "metadata": {},
   "outputs": [],
   "source": [
    "def make_prediction(df_test, name_columns, models):\n",
    "    # из тестового набора выделяем фичи, на которых обучались\n",
    "    X = df_test.loc[:, name_columns]\n",
    "    # датафрейм с закодированными user_id из тестовой выборки\n",
    "    result = df_test.loc[:, ['user_word']]\n",
    "    # делаем предсказания user_id\n",
    "    predictions = np.array([model.predict(X) for model in models])\n",
    "    result['pred_user_id'] = mode(predictions, axis=0)[0].flatten()\n",
    "    # датафрейм: user_word; предсказанный user_id; количество предсказанных конкретных user_id для конкретной категории user_word\n",
    "    temp_1 = result.groupby(['user_word', 'pred_user_id']).size().reset_index(name='count_pred_user_id_in_user_word')\n",
    "    # датафрейм: user_word; количество user_word\n",
    "    temp_2 = result['user_word'].value_counts().reset_index(name='count_user_word')\n",
    "    # датафрейм: pred_user_id; количество pred_user_id\n",
    "    temp_3 = result['pred_user_id'].value_counts().reset_index(name='count_pred_user_id')\n",
    "    # датафрейм: user_word; pred_user_id; count_pred_user_id_in_user_word; count_user_word; count_pred_user_id\n",
    "    result = temp_1.merge(temp_2, on='user_word', how='left').merge(temp_3, on='pred_user_id', how='left')\n",
    "    # добавляем уверенность модели в том, что предсказанный user_id, соответсвует user_word, в знаменателе - кол-во user_word\n",
    "    result['confidence_per_user_word'] = result['count_pred_user_id_in_user_word'] / result['count_user_word']\n",
    "    # добавляем уверенность модели в том, что предсказанный user_id, соответсвует user_word, в знаменателе - кол-во pred_user_id\n",
    "    result['confidence_per_pred_user_id'] = result['count_pred_user_id_in_user_word'] / result['count_pred_user_id']\n",
    "    # итоговая уверенность\n",
    "    result['confidence'] = result['confidence_per_user_word'] + result['confidence_per_pred_user_id']\n",
    "    # сортируем данные по убыванию уверенности\n",
    "    result = result.sort_values(by='confidence', ascending=False)\n",
    "\n",
    "    # формируем итоговый датафрейм\n",
    "    final = pd.DataFrame(columns=['user_word', 'preds'])\n",
    "    # user_word, которые уже добавлены в final\n",
    "    words = set()\n",
    "    # user_id, которые уже добавлены в final\n",
    "    ids = set()\n",
    "    # добавляем в final предсказания по приоритету уверенности (result уже отсортирован)\n",
    "    for _, row in result.iterrows():\n",
    "        word, user_id = row['user_word'], row['pred_user_id']\n",
    "        if word not in words and user_id not in ids and row['confidence'] > 0.1:\n",
    "            final.loc[len(final)] = [word, user_id]\n",
    "            words.add(word)\n",
    "            ids.add(user_id)\n",
    "\n",
    "    # категориям, насчет которых модель не уверена, проставляется -999\n",
    "    for word in (set(result['user_word'].unique()) - set(final['user_word'])):\n",
    "        final.loc[len(final)] = [word, -999]\n",
    "    \n",
    "    return final.sort_values(by='user_word')"
   ]
  },
  {
   "cell_type": "code",
   "execution_count": 94,
   "metadata": {},
   "outputs": [],
   "source": [
    "df_test = df_test.rename(columns={'user_id': 'user_word'})"
   ]
  },
  {
   "cell_type": "markdown",
   "metadata": {},
   "source": [
    "Сделаем предсказание"
   ]
  },
  {
   "cell_type": "markdown",
   "metadata": {},
   "source": [
    "Используем все фичи"
   ]
  },
  {
   "cell_type": "code",
   "execution_count": 95,
   "metadata": {},
   "outputs": [
    {
     "data": {
      "text/plain": [
       "{'aucroc': {24: 33, 14: 2},\n",
       " 'binary': {12: 249, 14: 40, 29: 18, 9: 15, 49: 7},\n",
       " 'blue': {25: 12},\n",
       " 'categorical': {14: 170, 12: 1},\n",
       " 'coefficient': {15: 47, 22: 9},\n",
       " 'collinear': {46: 50,\n",
       "  33: 50,\n",
       "  43: 34,\n",
       "  54: 30,\n",
       "  6: 27,\n",
       "  35: 20,\n",
       "  55: 14,\n",
       "  0: 12,\n",
       "  17: 5,\n",
       "  37: 3,\n",
       "  23: 3,\n",
       "  29: 2,\n",
       "  50: 2},\n",
       " 'distributed': {0: 89, 24: 14, 11: 13, 35: 1},\n",
       " 'epsilon': {1: 171, 49: 96, 26: 20, 15: 16},\n",
       " 'f1': {6: 537, 37: 91, 1: 5},\n",
       " 'fit': {15: 79,\n",
       "  23: 39,\n",
       "  35: 9,\n",
       "  0: 9,\n",
       "  11: 8,\n",
       "  43: 8,\n",
       "  1: 7,\n",
       "  50: 6,\n",
       "  2: 5,\n",
       "  46: 5,\n",
       "  3: 3,\n",
       "  39: 2,\n",
       "  17: 2,\n",
       "  33: 1},\n",
       " 'gini': {15: 164, 0: 8, 1: 7, 39: 7},\n",
       " 'independent': {39: 114,\n",
       "  14: 35,\n",
       "  15: 27,\n",
       "  49: 22,\n",
       "  46: 16,\n",
       "  12: 9,\n",
       "  1: 7,\n",
       "  25: 2,\n",
       "  35: 1,\n",
       "  23: 1},\n",
       " 'lasso': {46: 13, 56: 9, 25: 6, 23: 5},\n",
       " 'linear': {17: 60, 55: 44, 0: 39, 33: 34, 3: 12, 32: 10},\n",
       " 'logistic': {25: 5},\n",
       " 'loss': {19: 384, 15: 33, 11: 15, 46: 10, 54: 4, 12: 1},\n",
       " 'matrix': {29: 29,\n",
       "  32: 21,\n",
       "  25: 16,\n",
       "  55: 16,\n",
       "  11: 13,\n",
       "  49: 9,\n",
       "  15: 8,\n",
       "  35: 8,\n",
       "  43: 6,\n",
       "  37: 5,\n",
       "  23: 1},\n",
       " 'minimization': {50: 59, 43: 8, 22: 8, 0: 7, 35: 6, 25: 4, 29: 3},\n",
       " 'mse': {43: 52, 23: 27, 46: 6, 25: 4},\n",
       " 'ols': {11: 123, 22: 8, 35: 5, 54: 1, 19: 1, 29: 1},\n",
       " 'precision': {9: 20, 12: 16, 46: 2},\n",
       " 'predict': {39: 76, 23: 62, 54: 16, 46: 14, 11: 12, 15: 11, 0: 1},\n",
       " 'pvalue': {32: 85, 54: 38, 50: 34, 29: 23, 0: 1},\n",
       " 'r2': {54: 128, 14: 16, 50: 15, 15: 7, 1: 4},\n",
       " 'recall': {3: 151, 0: 11, 39: 8, 1: 7},\n",
       " 'regression': {19: 14, 25: 13, 29: 13, 46: 1, 0: 1},\n",
       " 'residual': {29: 67,\n",
       "  54: 55,\n",
       "  33: 39,\n",
       "  32: 20,\n",
       "  11: 15,\n",
       "  19: 15,\n",
       "  50: 7,\n",
       "  49: 4,\n",
       "  12: 2},\n",
       " 'ridge': {35: 60,\n",
       "  29: 23,\n",
       "  39: 18,\n",
       "  11: 12,\n",
       "  1: 9,\n",
       "  32: 6,\n",
       "  15: 6,\n",
       "  3: 5,\n",
       "  49: 1,\n",
       "  54: 1},\n",
       " 'sigmoid': {55: 296, 49: 84, 0: 4, 29: 3, 23: 3},\n",
       " 'significant': {33: 114, 55: 64, 0: 43, 19: 24, 17: 23},\n",
       " 'target': {46: 69, 25: 11, 43: 11, 56: 9, 0: 8, 54: 3},\n",
       " 'tstat': {9: 63, 19: 30, 49: 30, 15: 16},\n",
       " 'x': {6: 100,\n",
       "  19: 64,\n",
       "  11: 50,\n",
       "  37: 18,\n",
       "  35: 14,\n",
       "  12: 12,\n",
       "  50: 8,\n",
       "  1: 8,\n",
       "  0: 2,\n",
       "  49: 1},\n",
       " 'y': {12: 29, 54: 9, 25: 2}}"
      ]
     },
     "execution_count": 95,
     "metadata": {},
     "output_type": "execute_result"
    }
   ],
   "source": [
    "result_dct = make_prediction_dict(df_test, X.columns, models_all_features)\n",
    "result_dct"
   ]
  },
  {
   "cell_type": "code",
   "execution_count": 96,
   "metadata": {},
   "outputs": [
    {
     "data": {
      "text/html": [
       "<div>\n",
       "<style scoped>\n",
       "    .dataframe tbody tr th:only-of-type {\n",
       "        vertical-align: middle;\n",
       "    }\n",
       "\n",
       "    .dataframe tbody tr th {\n",
       "        vertical-align: top;\n",
       "    }\n",
       "\n",
       "    .dataframe thead th {\n",
       "        text-align: right;\n",
       "    }\n",
       "</style>\n",
       "<table border=\"1\" class=\"dataframe\">\n",
       "  <thead>\n",
       "    <tr style=\"text-align: right;\">\n",
       "      <th></th>\n",
       "      <th>user_word</th>\n",
       "      <th>preds</th>\n",
       "    </tr>\n",
       "  </thead>\n",
       "  <tbody>\n",
       "    <tr>\n",
       "      <th>2</th>\n",
       "      <td>aucroc</td>\n",
       "      <td>24</td>\n",
       "    </tr>\n",
       "    <tr>\n",
       "      <th>5</th>\n",
       "      <td>binary</td>\n",
       "      <td>12</td>\n",
       "    </tr>\n",
       "    <tr>\n",
       "      <th>11</th>\n",
       "      <td>blue</td>\n",
       "      <td>25</td>\n",
       "    </tr>\n",
       "    <tr>\n",
       "      <th>3</th>\n",
       "      <td>categorical</td>\n",
       "      <td>14</td>\n",
       "    </tr>\n",
       "    <tr>\n",
       "      <th>26</th>\n",
       "      <td>coefficient</td>\n",
       "      <td>22</td>\n",
       "    </tr>\n",
       "    <tr>\n",
       "      <th>32</th>\n",
       "      <td>collinear</td>\n",
       "      <td>-999</td>\n",
       "    </tr>\n",
       "    <tr>\n",
       "      <th>12</th>\n",
       "      <td>distributed</td>\n",
       "      <td>0</td>\n",
       "    </tr>\n",
       "    <tr>\n",
       "      <th>8</th>\n",
       "      <td>epsilon</td>\n",
       "      <td>1</td>\n",
       "    </tr>\n",
       "    <tr>\n",
       "      <th>1</th>\n",
       "      <td>f1</td>\n",
       "      <td>6</td>\n",
       "    </tr>\n",
       "    <tr>\n",
       "      <th>16</th>\n",
       "      <td>fit</td>\n",
       "      <td>2</td>\n",
       "    </tr>\n",
       "    <tr>\n",
       "      <th>9</th>\n",
       "      <td>gini</td>\n",
       "      <td>15</td>\n",
       "    </tr>\n",
       "    <tr>\n",
       "      <th>18</th>\n",
       "      <td>independent</td>\n",
       "      <td>39</td>\n",
       "    </tr>\n",
       "    <tr>\n",
       "      <th>23</th>\n",
       "      <td>lasso</td>\n",
       "      <td>56</td>\n",
       "    </tr>\n",
       "    <tr>\n",
       "      <th>20</th>\n",
       "      <td>linear</td>\n",
       "      <td>17</td>\n",
       "    </tr>\n",
       "    <tr>\n",
       "      <th>31</th>\n",
       "      <td>logistic</td>\n",
       "      <td>-999</td>\n",
       "    </tr>\n",
       "    <tr>\n",
       "      <th>4</th>\n",
       "      <td>loss</td>\n",
       "      <td>19</td>\n",
       "    </tr>\n",
       "    <tr>\n",
       "      <th>28</th>\n",
       "      <td>matrix</td>\n",
       "      <td>49</td>\n",
       "    </tr>\n",
       "    <tr>\n",
       "      <th>14</th>\n",
       "      <td>minimization</td>\n",
       "      <td>50</td>\n",
       "    </tr>\n",
       "    <tr>\n",
       "      <th>17</th>\n",
       "      <td>mse</td>\n",
       "      <td>43</td>\n",
       "    </tr>\n",
       "    <tr>\n",
       "      <th>7</th>\n",
       "      <td>ols</td>\n",
       "      <td>11</td>\n",
       "    </tr>\n",
       "    <tr>\n",
       "      <th>33</th>\n",
       "      <td>precision</td>\n",
       "      <td>-999</td>\n",
       "    </tr>\n",
       "    <tr>\n",
       "      <th>24</th>\n",
       "      <td>predict</td>\n",
       "      <td>23</td>\n",
       "    </tr>\n",
       "    <tr>\n",
       "      <th>15</th>\n",
       "      <td>pvalue</td>\n",
       "      <td>32</td>\n",
       "    </tr>\n",
       "    <tr>\n",
       "      <th>10</th>\n",
       "      <td>r2</td>\n",
       "      <td>54</td>\n",
       "    </tr>\n",
       "    <tr>\n",
       "      <th>0</th>\n",
       "      <td>recall</td>\n",
       "      <td>3</td>\n",
       "    </tr>\n",
       "    <tr>\n",
       "      <th>29</th>\n",
       "      <td>regression</td>\n",
       "      <td>-999</td>\n",
       "    </tr>\n",
       "    <tr>\n",
       "      <th>25</th>\n",
       "      <td>residual</td>\n",
       "      <td>29</td>\n",
       "    </tr>\n",
       "    <tr>\n",
       "      <th>21</th>\n",
       "      <td>ridge</td>\n",
       "      <td>35</td>\n",
       "    </tr>\n",
       "    <tr>\n",
       "      <th>6</th>\n",
       "      <td>sigmoid</td>\n",
       "      <td>55</td>\n",
       "    </tr>\n",
       "    <tr>\n",
       "      <th>22</th>\n",
       "      <td>significant</td>\n",
       "      <td>33</td>\n",
       "    </tr>\n",
       "    <tr>\n",
       "      <th>19</th>\n",
       "      <td>target</td>\n",
       "      <td>46</td>\n",
       "    </tr>\n",
       "    <tr>\n",
       "      <th>13</th>\n",
       "      <td>tstat</td>\n",
       "      <td>9</td>\n",
       "    </tr>\n",
       "    <tr>\n",
       "      <th>27</th>\n",
       "      <td>x</td>\n",
       "      <td>37</td>\n",
       "    </tr>\n",
       "    <tr>\n",
       "      <th>30</th>\n",
       "      <td>y</td>\n",
       "      <td>-999</td>\n",
       "    </tr>\n",
       "  </tbody>\n",
       "</table>\n",
       "</div>"
      ],
      "text/plain": [
       "       user_word  preds\n",
       "2         aucroc     24\n",
       "5         binary     12\n",
       "11          blue     25\n",
       "3    categorical     14\n",
       "26   coefficient     22\n",
       "32     collinear   -999\n",
       "12   distributed      0\n",
       "8        epsilon      1\n",
       "1             f1      6\n",
       "16           fit      2\n",
       "9           gini     15\n",
       "18   independent     39\n",
       "23         lasso     56\n",
       "20        linear     17\n",
       "31      logistic   -999\n",
       "4           loss     19\n",
       "28        matrix     49\n",
       "14  minimization     50\n",
       "17           mse     43\n",
       "7            ols     11\n",
       "33     precision   -999\n",
       "24       predict     23\n",
       "15        pvalue     32\n",
       "10            r2     54\n",
       "0         recall      3\n",
       "29    regression   -999\n",
       "25      residual     29\n",
       "21         ridge     35\n",
       "6        sigmoid     55\n",
       "22   significant     33\n",
       "19        target     46\n",
       "13         tstat      9\n",
       "27             x     37\n",
       "30             y   -999"
      ]
     },
     "execution_count": 96,
     "metadata": {},
     "output_type": "execute_result"
    }
   ],
   "source": [
    "result_cb = make_prediction(df_test, X.columns, models_all_features)\n",
    "result_cb"
   ]
  },
  {
   "cell_type": "code",
   "execution_count": 97,
   "metadata": {},
   "outputs": [
    {
     "data": {
      "text/plain": [
       "34"
      ]
     },
     "execution_count": 97,
     "metadata": {},
     "output_type": "execute_result"
    }
   ],
   "source": [
    "len(result_cb)"
   ]
  },
  {
   "cell_type": "markdown",
   "metadata": {},
   "source": [
    "После удаления фичей, уменьшающих скор"
   ]
  },
  {
   "cell_type": "code",
   "execution_count": 119,
   "metadata": {},
   "outputs": [
    {
     "data": {
      "text/plain": [
       "{'aucroc': {24: 35},\n",
       " 'binary': {12: 258, 14: 29, 29: 18, 9: 16, 49: 8},\n",
       " 'blue': {25: 12},\n",
       " 'categorical': {14: 170, 12: 1},\n",
       " 'coefficient': {15: 47, 22: 9},\n",
       " 'collinear': {33: 50,\n",
       "  46: 44,\n",
       "  43: 35,\n",
       "  54: 30,\n",
       "  6: 27,\n",
       "  35: 27,\n",
       "  55: 13,\n",
       "  0: 7,\n",
       "  17: 5,\n",
       "  50: 4,\n",
       "  37: 3,\n",
       "  29: 3,\n",
       "  1: 2,\n",
       "  23: 2},\n",
       " 'distributed': {0: 84, 11: 17, 24: 14, 50: 1, 35: 1},\n",
       " 'epsilon': {1: 149, 49: 113, 26: 25, 15: 16},\n",
       " 'f1': {6: 553, 37: 75, 1: 5},\n",
       " 'fit': {15: 78,\n",
       "  23: 35,\n",
       "  0: 13,\n",
       "  11: 12,\n",
       "  2: 12,\n",
       "  39: 7,\n",
       "  43: 6,\n",
       "  50: 6,\n",
       "  1: 5,\n",
       "  46: 5,\n",
       "  54: 2,\n",
       "  17: 1,\n",
       "  19: 1},\n",
       " 'gini': {15: 153, 39: 20, 0: 8, 1: 5},\n",
       " 'independent': {39: 116, 14: 35, 49: 27, 1: 19, 46: 14, 15: 10, 12: 7, 25: 6},\n",
       " 'lasso': {46: 14, 25: 9, 56: 5, 23: 5},\n",
       " 'linear': {17: 62, 55: 47, 33: 36, 0: 31, 3: 15, 32: 8},\n",
       " 'logistic': {25: 5},\n",
       " 'loss': {19: 379, 15: 33, 11: 13, 46: 12, 54: 10},\n",
       " 'matrix': {29: 33,\n",
       "  32: 27,\n",
       "  55: 15,\n",
       "  11: 13,\n",
       "  25: 9,\n",
       "  15: 8,\n",
       "  35: 8,\n",
       "  49: 7,\n",
       "  2: 7,\n",
       "  41: 2,\n",
       "  37: 2,\n",
       "  23: 1},\n",
       " 'minimization': {50: 61, 0: 11, 22: 8, 29: 5, 43: 5, 25: 4, 35: 1},\n",
       " 'mse': {43: 52, 23: 26, 46: 7, 25: 4},\n",
       " 'ols': {11: 121, 35: 8, 22: 8, 29: 2},\n",
       " 'precision': {9: 21, 12: 16, 46: 1},\n",
       " 'predict': {39: 82,\n",
       "  11: 37,\n",
       "  23: 29,\n",
       "  54: 17,\n",
       "  46: 12,\n",
       "  29: 7,\n",
       "  15: 5,\n",
       "  35: 2,\n",
       "  0: 1},\n",
       " 'pvalue': {32: 85, 50: 36, 29: 29, 54: 28, 35: 3},\n",
       " 'r2': {54: 135, 14: 21, 50: 8, 1: 4, 15: 2},\n",
       " 'recall': {3: 144, 0: 14, 39: 11, 1: 8},\n",
       " 'regression': {19: 14, 29: 12, 43: 9, 56: 3, 25: 2, 0: 1, 33: 1},\n",
       " 'residual': {29: 63,\n",
       "  54: 59,\n",
       "  33: 36,\n",
       "  32: 24,\n",
       "  11: 15,\n",
       "  19: 9,\n",
       "  0: 5,\n",
       "  49: 5,\n",
       "  35: 4,\n",
       "  50: 4},\n",
       " 'ridge': {35: 60,\n",
       "  29: 26,\n",
       "  39: 17,\n",
       "  11: 12,\n",
       "  49: 8,\n",
       "  32: 6,\n",
       "  1: 4,\n",
       "  37: 4,\n",
       "  3: 2,\n",
       "  0: 1,\n",
       "  54: 1},\n",
       " 'sigmoid': {55: 276, 49: 103, 23: 4, 0: 4, 29: 3},\n",
       " 'significant': {33: 158, 55: 36, 0: 26, 17: 24, 19: 24},\n",
       " 'target': {46: 63, 0: 16, 25: 10, 56: 6, 43: 5, 29: 5, 14: 3, 35: 2, 54: 1},\n",
       " 'tstat': {9: 91, 49: 26, 15: 20, 19: 2},\n",
       " 'x': {6: 70, 19: 65, 11: 58, 37: 41, 35: 14, 50: 9, 1: 8, 49: 8, 0: 2, 39: 2},\n",
       " 'y': {12: 29, 54: 9, 25: 2}}"
      ]
     },
     "execution_count": 119,
     "metadata": {},
     "output_type": "execute_result"
    }
   ],
   "source": [
    "result_dct_sf = make_prediction_dict(df_test, selected_features, models_selected_features)\n",
    "result_dct_sf"
   ]
  },
  {
   "cell_type": "code",
   "execution_count": 120,
   "metadata": {},
   "outputs": [
    {
     "data": {
      "text/html": [
       "<div>\n",
       "<style scoped>\n",
       "    .dataframe tbody tr th:only-of-type {\n",
       "        vertical-align: middle;\n",
       "    }\n",
       "\n",
       "    .dataframe tbody tr th {\n",
       "        vertical-align: top;\n",
       "    }\n",
       "\n",
       "    .dataframe thead th {\n",
       "        text-align: right;\n",
       "    }\n",
       "</style>\n",
       "<table border=\"1\" class=\"dataframe\">\n",
       "  <thead>\n",
       "    <tr style=\"text-align: right;\">\n",
       "      <th></th>\n",
       "      <th>user_word</th>\n",
       "      <th>preds</th>\n",
       "    </tr>\n",
       "  </thead>\n",
       "  <tbody>\n",
       "    <tr>\n",
       "      <th>1</th>\n",
       "      <td>aucroc</td>\n",
       "      <td>24</td>\n",
       "    </tr>\n",
       "    <tr>\n",
       "      <th>5</th>\n",
       "      <td>binary</td>\n",
       "      <td>12</td>\n",
       "    </tr>\n",
       "    <tr>\n",
       "      <th>12</th>\n",
       "      <td>blue</td>\n",
       "      <td>25</td>\n",
       "    </tr>\n",
       "    <tr>\n",
       "      <th>3</th>\n",
       "      <td>categorical</td>\n",
       "      <td>14</td>\n",
       "    </tr>\n",
       "    <tr>\n",
       "      <th>25</th>\n",
       "      <td>coefficient</td>\n",
       "      <td>22</td>\n",
       "    </tr>\n",
       "    <tr>\n",
       "      <th>32</th>\n",
       "      <td>collinear</td>\n",
       "      <td>-999</td>\n",
       "    </tr>\n",
       "    <tr>\n",
       "      <th>15</th>\n",
       "      <td>distributed</td>\n",
       "      <td>0</td>\n",
       "    </tr>\n",
       "    <tr>\n",
       "      <th>11</th>\n",
       "      <td>epsilon</td>\n",
       "      <td>1</td>\n",
       "    </tr>\n",
       "    <tr>\n",
       "      <th>0</th>\n",
       "      <td>f1</td>\n",
       "      <td>6</td>\n",
       "    </tr>\n",
       "    <tr>\n",
       "      <th>23</th>\n",
       "      <td>fit</td>\n",
       "      <td>2</td>\n",
       "    </tr>\n",
       "    <tr>\n",
       "      <th>10</th>\n",
       "      <td>gini</td>\n",
       "      <td>15</td>\n",
       "    </tr>\n",
       "    <tr>\n",
       "      <th>20</th>\n",
       "      <td>independent</td>\n",
       "      <td>39</td>\n",
       "    </tr>\n",
       "    <tr>\n",
       "      <th>26</th>\n",
       "      <td>lasso</td>\n",
       "      <td>56</td>\n",
       "    </tr>\n",
       "    <tr>\n",
       "      <th>19</th>\n",
       "      <td>linear</td>\n",
       "      <td>17</td>\n",
       "    </tr>\n",
       "    <tr>\n",
       "      <th>31</th>\n",
       "      <td>logistic</td>\n",
       "      <td>-999</td>\n",
       "    </tr>\n",
       "    <tr>\n",
       "      <th>4</th>\n",
       "      <td>loss</td>\n",
       "      <td>19</td>\n",
       "    </tr>\n",
       "    <tr>\n",
       "      <th>18</th>\n",
       "      <td>matrix</td>\n",
       "      <td>41</td>\n",
       "    </tr>\n",
       "    <tr>\n",
       "      <th>14</th>\n",
       "      <td>minimization</td>\n",
       "      <td>50</td>\n",
       "    </tr>\n",
       "    <tr>\n",
       "      <th>16</th>\n",
       "      <td>mse</td>\n",
       "      <td>43</td>\n",
       "    </tr>\n",
       "    <tr>\n",
       "      <th>8</th>\n",
       "      <td>ols</td>\n",
       "      <td>11</td>\n",
       "    </tr>\n",
       "    <tr>\n",
       "      <th>33</th>\n",
       "      <td>precision</td>\n",
       "      <td>-999</td>\n",
       "    </tr>\n",
       "    <tr>\n",
       "      <th>28</th>\n",
       "      <td>predict</td>\n",
       "      <td>23</td>\n",
       "    </tr>\n",
       "    <tr>\n",
       "      <th>17</th>\n",
       "      <td>pvalue</td>\n",
       "      <td>32</td>\n",
       "    </tr>\n",
       "    <tr>\n",
       "      <th>9</th>\n",
       "      <td>r2</td>\n",
       "      <td>54</td>\n",
       "    </tr>\n",
       "    <tr>\n",
       "      <th>2</th>\n",
       "      <td>recall</td>\n",
       "      <td>3</td>\n",
       "    </tr>\n",
       "    <tr>\n",
       "      <th>29</th>\n",
       "      <td>regression</td>\n",
       "      <td>-999</td>\n",
       "    </tr>\n",
       "    <tr>\n",
       "      <th>24</th>\n",
       "      <td>residual</td>\n",
       "      <td>29</td>\n",
       "    </tr>\n",
       "    <tr>\n",
       "      <th>22</th>\n",
       "      <td>ridge</td>\n",
       "      <td>35</td>\n",
       "    </tr>\n",
       "    <tr>\n",
       "      <th>6</th>\n",
       "      <td>sigmoid</td>\n",
       "      <td>55</td>\n",
       "    </tr>\n",
       "    <tr>\n",
       "      <th>13</th>\n",
       "      <td>significant</td>\n",
       "      <td>33</td>\n",
       "    </tr>\n",
       "    <tr>\n",
       "      <th>21</th>\n",
       "      <td>target</td>\n",
       "      <td>46</td>\n",
       "    </tr>\n",
       "    <tr>\n",
       "      <th>7</th>\n",
       "      <td>tstat</td>\n",
       "      <td>9</td>\n",
       "    </tr>\n",
       "    <tr>\n",
       "      <th>27</th>\n",
       "      <td>x</td>\n",
       "      <td>37</td>\n",
       "    </tr>\n",
       "    <tr>\n",
       "      <th>30</th>\n",
       "      <td>y</td>\n",
       "      <td>-999</td>\n",
       "    </tr>\n",
       "  </tbody>\n",
       "</table>\n",
       "</div>"
      ],
      "text/plain": [
       "       user_word  preds\n",
       "1         aucroc     24\n",
       "5         binary     12\n",
       "12          blue     25\n",
       "3    categorical     14\n",
       "25   coefficient     22\n",
       "32     collinear   -999\n",
       "15   distributed      0\n",
       "11       epsilon      1\n",
       "0             f1      6\n",
       "23           fit      2\n",
       "10          gini     15\n",
       "20   independent     39\n",
       "26         lasso     56\n",
       "19        linear     17\n",
       "31      logistic   -999\n",
       "4           loss     19\n",
       "18        matrix     41\n",
       "14  minimization     50\n",
       "16           mse     43\n",
       "8            ols     11\n",
       "33     precision   -999\n",
       "28       predict     23\n",
       "17        pvalue     32\n",
       "9             r2     54\n",
       "2         recall      3\n",
       "29    regression   -999\n",
       "24      residual     29\n",
       "22         ridge     35\n",
       "6        sigmoid     55\n",
       "13   significant     33\n",
       "21        target     46\n",
       "7          tstat      9\n",
       "27             x     37\n",
       "30             y   -999"
      ]
     },
     "execution_count": 120,
     "metadata": {},
     "output_type": "execute_result"
    }
   ],
   "source": [
    "result_cb_sf = make_prediction(df_test, selected_features, models_selected_features)\n",
    "result_cb_sf"
   ]
  },
  {
   "cell_type": "code",
   "execution_count": 121,
   "metadata": {},
   "outputs": [
    {
     "data": {
      "text/plain": [
       "34"
      ]
     },
     "execution_count": 121,
     "metadata": {},
     "output_type": "execute_result"
    }
   ],
   "source": [
    "len(result_cb_sf)"
   ]
  },
  {
   "cell_type": "markdown",
   "metadata": {},
   "source": [
    "После удаления фичей, уменьшающих скор, и повторного подбора гиперпараметров"
   ]
  },
  {
   "cell_type": "code",
   "execution_count": 131,
   "metadata": {},
   "outputs": [
    {
     "data": {
      "text/plain": [
       "{'aucroc': {24: 35},\n",
       " 'binary': {12: 250, 14: 25, 9: 20, 29: 18, 43: 8, 49: 8},\n",
       " 'blue': {24: 12},\n",
       " 'categorical': {14: 152, 24: 18, 12: 1},\n",
       " 'coefficient': {15: 37, 24: 16, 46: 3},\n",
       " 'collinear': {43: 55,\n",
       "  0: 42,\n",
       "  33: 38,\n",
       "  46: 38,\n",
       "  37: 21,\n",
       "  6: 16,\n",
       "  35: 13,\n",
       "  29: 9,\n",
       "  50: 6,\n",
       "  17: 5,\n",
       "  3: 5,\n",
       "  1: 4},\n",
       " 'distributed': {0: 61, 26: 14, 19: 13, 11: 12, 24: 12, 55: 5},\n",
       " 'epsilon': {49: 112, 1: 79, 15: 57, 55: 17, 3: 17, 26: 14, 29: 7},\n",
       " 'f1': {6: 479, 37: 143, 1: 5, 3: 4, 49: 2},\n",
       " 'fit': {15: 54,\n",
       "  23: 43,\n",
       "  1: 24,\n",
       "  2: 24,\n",
       "  0: 16,\n",
       "  43: 8,\n",
       "  3: 4,\n",
       "  33: 4,\n",
       "  19: 4,\n",
       "  50: 2},\n",
       " 'gini': {15: 133, 1: 23, 39: 14, 49: 8, 0: 8},\n",
       " 'independent': {39: 86, 49: 52, 14: 35, 1: 27, 2: 14, 15: 14, 25: 6},\n",
       " 'lasso': {25: 18, 56: 5, 23: 5, 24: 3, 46: 2},\n",
       " 'linear': {17: 61, 3: 45, 55: 34, 33: 33, 0: 23, 19: 3},\n",
       " 'logistic': {24: 5},\n",
       " 'loss': {6: 152, 19: 134, 15: 100, 11: 37, 43: 13, 46: 11},\n",
       " 'matrix': {32: 27, 25: 27, 29: 25, 37: 16, 2: 11, 49: 9, 54: 9, 24: 8},\n",
       " 'minimization': {50: 59, 43: 21, 46: 11, 24: 4},\n",
       " 'mse': {43: 52, 23: 14, 50: 12, 41: 7, 25: 4},\n",
       " 'ols': {11: 131, 25: 8},\n",
       " 'precision': {46: 23, 12: 15},\n",
       " 'predict': {39: 59,\n",
       "  54: 22,\n",
       "  11: 21,\n",
       "  23: 21,\n",
       "  35: 21,\n",
       "  15: 15,\n",
       "  46: 13,\n",
       "  49: 13,\n",
       "  0: 7},\n",
       " 'pvalue': {32: 85, 50: 36, 29: 32, 54: 14, 11: 14},\n",
       " 'r2': {54: 105, 25: 22, 0: 18, 46: 18, 29: 6, 9: 1},\n",
       " 'recall': {3: 133, 39: 16, 1: 14, 15: 14},\n",
       " 'regression': {46: 14, 29: 14, 19: 14},\n",
       " 'residual': {29: 92,\n",
       "  32: 40,\n",
       "  33: 24,\n",
       "  11: 20,\n",
       "  54: 15,\n",
       "  35: 15,\n",
       "  0: 9,\n",
       "  12: 7,\n",
       "  15: 2},\n",
       " 'ridge': {35: 36, 0: 32, 54: 24, 29: 17, 15: 15, 39: 7, 32: 6, 3: 3, 37: 1},\n",
       " 'sigmoid': {55: 276, 49: 110, 0: 4},\n",
       " 'significant': {33: 107, 55: 63, 0: 38, 19: 27, 17: 21, 3: 12},\n",
       " 'target': {46: 48, 29: 21, 19: 14, 9: 9, 25: 8, 14: 6, 43: 5},\n",
       " 'tstat': {19: 66, 49: 46, 9: 14, 25: 13},\n",
       " 'x': {6: 69, 11: 57, 9: 52, 37: 52, 29: 15, 35: 13, 50: 11, 1: 8},\n",
       " 'y': {12: 29, 54: 9, 43: 2}}"
      ]
     },
     "execution_count": 131,
     "metadata": {},
     "output_type": "execute_result"
    }
   ],
   "source": [
    "result_dct_sf_new_fit = make_prediction_dict(df_test, selected_features, models_sf_new_fit)\n",
    "result_dct_sf_new_fit"
   ]
  },
  {
   "cell_type": "code",
   "execution_count": 132,
   "metadata": {},
   "outputs": [
    {
     "data": {
      "text/html": [
       "<div>\n",
       "<style scoped>\n",
       "    .dataframe tbody tr th:only-of-type {\n",
       "        vertical-align: middle;\n",
       "    }\n",
       "\n",
       "    .dataframe tbody tr th {\n",
       "        vertical-align: top;\n",
       "    }\n",
       "\n",
       "    .dataframe thead th {\n",
       "        text-align: right;\n",
       "    }\n",
       "</style>\n",
       "<table border=\"1\" class=\"dataframe\">\n",
       "  <thead>\n",
       "    <tr style=\"text-align: right;\">\n",
       "      <th></th>\n",
       "      <th>user_word</th>\n",
       "      <th>preds</th>\n",
       "    </tr>\n",
       "  </thead>\n",
       "  <tbody>\n",
       "    <tr>\n",
       "      <th>6</th>\n",
       "      <td>aucroc</td>\n",
       "      <td>24</td>\n",
       "    </tr>\n",
       "    <tr>\n",
       "      <th>0</th>\n",
       "      <td>binary</td>\n",
       "      <td>12</td>\n",
       "    </tr>\n",
       "    <tr>\n",
       "      <th>33</th>\n",
       "      <td>blue</td>\n",
       "      <td>-999</td>\n",
       "    </tr>\n",
       "    <tr>\n",
       "      <th>1</th>\n",
       "      <td>categorical</td>\n",
       "      <td>14</td>\n",
       "    </tr>\n",
       "    <tr>\n",
       "      <th>27</th>\n",
       "      <td>coefficient</td>\n",
       "      <td>-999</td>\n",
       "    </tr>\n",
       "    <tr>\n",
       "      <th>24</th>\n",
       "      <td>collinear</td>\n",
       "      <td>43</td>\n",
       "    </tr>\n",
       "    <tr>\n",
       "      <th>18</th>\n",
       "      <td>distributed</td>\n",
       "      <td>0</td>\n",
       "    </tr>\n",
       "    <tr>\n",
       "      <th>22</th>\n",
       "      <td>epsilon</td>\n",
       "      <td>1</td>\n",
       "    </tr>\n",
       "    <tr>\n",
       "      <th>2</th>\n",
       "      <td>f1</td>\n",
       "      <td>6</td>\n",
       "    </tr>\n",
       "    <tr>\n",
       "      <th>19</th>\n",
       "      <td>fit</td>\n",
       "      <td>23</td>\n",
       "    </tr>\n",
       "    <tr>\n",
       "      <th>11</th>\n",
       "      <td>gini</td>\n",
       "      <td>15</td>\n",
       "    </tr>\n",
       "    <tr>\n",
       "      <th>15</th>\n",
       "      <td>independent</td>\n",
       "      <td>39</td>\n",
       "    </tr>\n",
       "    <tr>\n",
       "      <th>7</th>\n",
       "      <td>lasso</td>\n",
       "      <td>56</td>\n",
       "    </tr>\n",
       "    <tr>\n",
       "      <th>12</th>\n",
       "      <td>linear</td>\n",
       "      <td>17</td>\n",
       "    </tr>\n",
       "    <tr>\n",
       "      <th>31</th>\n",
       "      <td>logistic</td>\n",
       "      <td>-999</td>\n",
       "    </tr>\n",
       "    <tr>\n",
       "      <th>16</th>\n",
       "      <td>loss</td>\n",
       "      <td>19</td>\n",
       "    </tr>\n",
       "    <tr>\n",
       "      <th>25</th>\n",
       "      <td>matrix</td>\n",
       "      <td>25</td>\n",
       "    </tr>\n",
       "    <tr>\n",
       "      <th>9</th>\n",
       "      <td>minimization</td>\n",
       "      <td>50</td>\n",
       "    </tr>\n",
       "    <tr>\n",
       "      <th>10</th>\n",
       "      <td>mse</td>\n",
       "      <td>41</td>\n",
       "    </tr>\n",
       "    <tr>\n",
       "      <th>4</th>\n",
       "      <td>ols</td>\n",
       "      <td>11</td>\n",
       "    </tr>\n",
       "    <tr>\n",
       "      <th>20</th>\n",
       "      <td>precision</td>\n",
       "      <td>46</td>\n",
       "    </tr>\n",
       "    <tr>\n",
       "      <th>30</th>\n",
       "      <td>predict</td>\n",
       "      <td>-999</td>\n",
       "    </tr>\n",
       "    <tr>\n",
       "      <th>13</th>\n",
       "      <td>pvalue</td>\n",
       "      <td>32</td>\n",
       "    </tr>\n",
       "    <tr>\n",
       "      <th>8</th>\n",
       "      <td>r2</td>\n",
       "      <td>54</td>\n",
       "    </tr>\n",
       "    <tr>\n",
       "      <th>5</th>\n",
       "      <td>recall</td>\n",
       "      <td>3</td>\n",
       "    </tr>\n",
       "    <tr>\n",
       "      <th>28</th>\n",
       "      <td>regression</td>\n",
       "      <td>-999</td>\n",
       "    </tr>\n",
       "    <tr>\n",
       "      <th>17</th>\n",
       "      <td>residual</td>\n",
       "      <td>29</td>\n",
       "    </tr>\n",
       "    <tr>\n",
       "      <th>23</th>\n",
       "      <td>ridge</td>\n",
       "      <td>35</td>\n",
       "    </tr>\n",
       "    <tr>\n",
       "      <th>3</th>\n",
       "      <td>sigmoid</td>\n",
       "      <td>55</td>\n",
       "    </tr>\n",
       "    <tr>\n",
       "      <th>14</th>\n",
       "      <td>significant</td>\n",
       "      <td>33</td>\n",
       "    </tr>\n",
       "    <tr>\n",
       "      <th>32</th>\n",
       "      <td>target</td>\n",
       "      <td>-999</td>\n",
       "    </tr>\n",
       "    <tr>\n",
       "      <th>26</th>\n",
       "      <td>tstat</td>\n",
       "      <td>49</td>\n",
       "    </tr>\n",
       "    <tr>\n",
       "      <th>21</th>\n",
       "      <td>x</td>\n",
       "      <td>9</td>\n",
       "    </tr>\n",
       "    <tr>\n",
       "      <th>29</th>\n",
       "      <td>y</td>\n",
       "      <td>-999</td>\n",
       "    </tr>\n",
       "  </tbody>\n",
       "</table>\n",
       "</div>"
      ],
      "text/plain": [
       "       user_word  preds\n",
       "6         aucroc     24\n",
       "0         binary     12\n",
       "33          blue   -999\n",
       "1    categorical     14\n",
       "27   coefficient   -999\n",
       "24     collinear     43\n",
       "18   distributed      0\n",
       "22       epsilon      1\n",
       "2             f1      6\n",
       "19           fit     23\n",
       "11          gini     15\n",
       "15   independent     39\n",
       "7          lasso     56\n",
       "12        linear     17\n",
       "31      logistic   -999\n",
       "16          loss     19\n",
       "25        matrix     25\n",
       "9   minimization     50\n",
       "10           mse     41\n",
       "4            ols     11\n",
       "20     precision     46\n",
       "30       predict   -999\n",
       "13        pvalue     32\n",
       "8             r2     54\n",
       "5         recall      3\n",
       "28    regression   -999\n",
       "17      residual     29\n",
       "23         ridge     35\n",
       "3        sigmoid     55\n",
       "14   significant     33\n",
       "32        target   -999\n",
       "26         tstat     49\n",
       "21             x      9\n",
       "29             y   -999"
      ]
     },
     "execution_count": 132,
     "metadata": {},
     "output_type": "execute_result"
    }
   ],
   "source": [
    "result_cb_sf_new_fit = make_prediction(df_test, selected_features, models_sf_new_fit)\n",
    "result_cb_sf_new_fit"
   ]
  },
  {
   "cell_type": "code",
   "execution_count": 296,
   "metadata": {},
   "outputs": [
    {
     "data": {
      "text/plain": [
       "34"
      ]
     },
     "execution_count": 296,
     "metadata": {},
     "output_type": "execute_result"
    }
   ],
   "source": [
    "len(result_cb_sf_new_fit)"
   ]
  },
  {
   "cell_type": "markdown",
   "metadata": {},
   "source": [
    "Сохраненим результаты"
   ]
  },
  {
   "cell_type": "code",
   "execution_count": 137,
   "metadata": {},
   "outputs": [],
   "source": [
    "csv_buffer = io.StringIO()\n",
    "\n",
    "# result_cb.to_csv(csv_buffer, index=False)\n",
    "\n",
    "# result_cb_sf.to_csv(csv_buffer, index=False)\n",
    "\n",
    "result_cb_sf_new_fit.to_csv(csv_buffer, index=False)\n",
    "\n",
    "with zipfile.ZipFile('../data/answer.zip', mode='w', compression=zipfile.ZIP_DEFLATED) as zf:\n",
    "    zf.writestr('answer.csv', csv_buffer.getvalue())"
   ]
  },
  {
   "cell_type": "code",
   "execution_count": 133,
   "metadata": {},
   "outputs": [],
   "source": [
    "# result_cb.to_csv('../data/submit_cb_v_08_all.csv', index=False)\n",
    "\n",
    "# result_cb_sf.to_csv('../data/submit_cb_v_08_sf.csv', index=False)\n",
    "\n",
    "result_cb_sf_new_fit.to_csv('../data/submit_cb_v_08_sf_new_fit.csv', index=False)"
   ]
  },
  {
   "cell_type": "markdown",
   "metadata": {},
   "source": [
    "# Сравнение ответов"
   ]
  },
  {
   "cell_type": "code",
   "execution_count": 134,
   "metadata": {},
   "outputs": [],
   "source": [
    "right_answers = pd.read_csv(r'E:\\projects\\SHIFT\\предыдущие_наработки\\right_answers.csv')\n",
    "res_ivan = pd.read_csv(r'E:\\projects\\SHIFT\\От_Ивана\\ШИФТ тест\\Решения\\1) 04_02_2024\\answer_ivan.csv')\n",
    "res_vera = pd.read_csv(r'E:\\projects\\SHIFT\\От_Ивана\\ШИФТ тест\\Решения\\4) Ivanova_Vera_SaintPetersburg 358\\shift_ml-main\\answer_vera.csv')\n",
    "res_cb_01 = pd.read_csv('../data/submit_cb_v_01_264.csv')\n",
    "res_cb_02 = pd.read_csv('../data/submit_cb_v_02.csv')\n",
    "res_cb_03 = pd.read_csv('../data/submit_cb_v_03_270.csv')\n",
    "res_cb_04 = pd.read_csv('../data/submit_cb_v_04.csv')\n",
    "res_cb_05_all = pd.read_csv('../data/submit_cb_v_05_all_353.csv')\n",
    "res_cb_05_sf = pd.read_csv('../data/submit_cb_v_05_sf.csv')\n",
    "res_cb_05_sf_new_fit = pd.read_csv('../data/submit_cb_v_05_sf_new_fit_374.csv')\n",
    "\n",
    "res_cb_08_all = pd.read_csv('../data/submit_cb_v_08_all.csv')\n",
    "res_cb_08_sf = pd.read_csv('../data/submit_cb_v_08_sf.csv')\n",
    "res_cb_08_sf_new_fit = pd.read_csv('../data/submit_cb_v_08_sf_new_fit.csv')"
   ]
  },
  {
   "cell_type": "code",
   "execution_count": 135,
   "metadata": {},
   "outputs": [],
   "source": [
    "res = right_answers.loc[:].rename(columns={'preds': 'right_answers'})\n",
    "res['right_answers'] = res['right_answers'].apply(lambda x: f'{x:.0f}')\n",
    "res['ivan'] = res_ivan['preds']\n",
    "res['vera'] = res_vera['preds']\n",
    "res['cb_v_01_264'] = res_cb_01['preds']\n",
    "res['cb_v_02'] = res_cb_02['preds']\n",
    "res['cb_v_03_270'] = res_cb_03['preds']\n",
    "res['cb_v_04'] = res_cb_04['preds']\n",
    "res['cb_v_05_all_353'] = res_cb_05_all['preds']\n",
    "res['cb_v_05_sf'] = res_cb_05_sf['preds']\n",
    "res['cb_v_05_sf_new_fit_374'] = res_cb_05_sf_new_fit['preds']\n",
    "\n",
    "res['cb_v_08_all'] = res_cb_08_all['preds']\n",
    "res['cb_v_08_sf'] = res_cb_08_sf['preds']\n",
    "res['cb_v_08_sf_new_fit'] = res_cb_08_sf_new_fit['preds']"
   ]
  },
  {
   "cell_type": "code",
   "execution_count": 136,
   "metadata": {},
   "outputs": [
    {
     "data": {
      "text/html": [
       "<style type=\"text/css\">\n",
       "#T_ee131_row0_col1, #T_ee131_row1_col1, #T_ee131_row3_col1, #T_ee131_row6_col1, #T_ee131_row7_col1, #T_ee131_row8_col1, #T_ee131_row10_col1, #T_ee131_row13_col1, #T_ee131_row15_col1, #T_ee131_row16_col1, #T_ee131_row18_col1, #T_ee131_row19_col1, #T_ee131_row21_col1, #T_ee131_row22_col1, #T_ee131_row23_col1, #T_ee131_row24_col1, #T_ee131_row27_col1, #T_ee131_row28_col1, #T_ee131_row29_col1, #T_ee131_row30_col1, #T_ee131_row31_col1, #T_ee131_row32_col1, #T_ee131_row33_col1 {\n",
       "  background-color: red;\n",
       "}\n",
       "#T_ee131_row0_col2, #T_ee131_row0_col4, #T_ee131_row0_col6, #T_ee131_row0_col7, #T_ee131_row0_col8, #T_ee131_row0_col9, #T_ee131_row0_col10, #T_ee131_row0_col11, #T_ee131_row0_col12, #T_ee131_row0_col13, #T_ee131_row1_col2, #T_ee131_row1_col4, #T_ee131_row1_col5, #T_ee131_row1_col6, #T_ee131_row1_col8, #T_ee131_row1_col9, #T_ee131_row1_col10, #T_ee131_row1_col11, #T_ee131_row1_col12, #T_ee131_row1_col13, #T_ee131_row2_col8, #T_ee131_row2_col9, #T_ee131_row2_col10, #T_ee131_row3_col2, #T_ee131_row3_col4, #T_ee131_row3_col5, #T_ee131_row3_col6, #T_ee131_row3_col7, #T_ee131_row3_col8, #T_ee131_row3_col9, #T_ee131_row3_col10, #T_ee131_row3_col11, #T_ee131_row3_col12, #T_ee131_row3_col13, #T_ee131_row6_col2, #T_ee131_row6_col4, #T_ee131_row6_col6, #T_ee131_row6_col7, #T_ee131_row6_col8, #T_ee131_row6_col9, #T_ee131_row6_col10, #T_ee131_row6_col11, #T_ee131_row6_col12, #T_ee131_row6_col13, #T_ee131_row7_col2, #T_ee131_row7_col4, #T_ee131_row7_col5, #T_ee131_row7_col6, #T_ee131_row7_col8, #T_ee131_row7_col9, #T_ee131_row7_col10, #T_ee131_row7_col11, #T_ee131_row7_col12, #T_ee131_row7_col13, #T_ee131_row10_col2, #T_ee131_row10_col4, #T_ee131_row10_col5, #T_ee131_row10_col6, #T_ee131_row10_col7, #T_ee131_row10_col8, #T_ee131_row10_col9, #T_ee131_row10_col10, #T_ee131_row10_col11, #T_ee131_row10_col12, #T_ee131_row10_col13, #T_ee131_row11_col2, #T_ee131_row11_col4, #T_ee131_row11_col6, #T_ee131_row12_col5, #T_ee131_row13_col2, #T_ee131_row13_col4, #T_ee131_row13_col5, #T_ee131_row13_col6, #T_ee131_row13_col7, #T_ee131_row13_col8, #T_ee131_row13_col9, #T_ee131_row13_col10, #T_ee131_row13_col11, #T_ee131_row13_col12, #T_ee131_row13_col13, #T_ee131_row15_col2, #T_ee131_row15_col4, #T_ee131_row15_col5, #T_ee131_row15_col6, #T_ee131_row15_col8, #T_ee131_row15_col9, #T_ee131_row15_col10, #T_ee131_row15_col11, #T_ee131_row15_col12, #T_ee131_row15_col13, #T_ee131_row16_col2, #T_ee131_row18_col2, #T_ee131_row18_col4, #T_ee131_row18_col5, #T_ee131_row18_col6, #T_ee131_row18_col7, #T_ee131_row18_col8, #T_ee131_row18_col9, #T_ee131_row18_col10, #T_ee131_row18_col11, #T_ee131_row18_col12, #T_ee131_row19_col2, #T_ee131_row19_col4, #T_ee131_row19_col5, #T_ee131_row19_col6, #T_ee131_row19_col7, #T_ee131_row19_col8, #T_ee131_row19_col9, #T_ee131_row19_col10, #T_ee131_row19_col11, #T_ee131_row19_col12, #T_ee131_row19_col13, #T_ee131_row21_col2, #T_ee131_row21_col4, #T_ee131_row21_col5, #T_ee131_row21_col6, #T_ee131_row21_col7, #T_ee131_row21_col10, #T_ee131_row22_col2, #T_ee131_row22_col4, #T_ee131_row22_col8, #T_ee131_row22_col9, #T_ee131_row22_col10, #T_ee131_row22_col11, #T_ee131_row22_col12, #T_ee131_row22_col13, #T_ee131_row23_col2, #T_ee131_row23_col4, #T_ee131_row23_col5, #T_ee131_row23_col6, #T_ee131_row23_col7, #T_ee131_row23_col8, #T_ee131_row23_col9, #T_ee131_row23_col10, #T_ee131_row23_col11, #T_ee131_row23_col12, #T_ee131_row23_col13, #T_ee131_row24_col2, #T_ee131_row24_col4, #T_ee131_row24_col5, #T_ee131_row24_col6, #T_ee131_row24_col7, #T_ee131_row24_col8, #T_ee131_row24_col9, #T_ee131_row24_col10, #T_ee131_row24_col11, #T_ee131_row24_col12, #T_ee131_row24_col13, #T_ee131_row25_col2, #T_ee131_row25_col8, #T_ee131_row25_col9, #T_ee131_row25_col10, #T_ee131_row25_col11, #T_ee131_row25_col12, #T_ee131_row25_col13, #T_ee131_row27_col2, #T_ee131_row27_col4, #T_ee131_row27_col6, #T_ee131_row27_col7, #T_ee131_row27_col8, #T_ee131_row27_col9, #T_ee131_row27_col10, #T_ee131_row27_col11, #T_ee131_row27_col12, #T_ee131_row27_col13, #T_ee131_row28_col2, #T_ee131_row28_col5, #T_ee131_row28_col6, #T_ee131_row28_col7, #T_ee131_row28_col8, #T_ee131_row28_col9, #T_ee131_row28_col10, #T_ee131_row28_col11, #T_ee131_row28_col12, #T_ee131_row28_col13, #T_ee131_row29_col2, #T_ee131_row29_col4, #T_ee131_row29_col5, #T_ee131_row29_col6, #T_ee131_row29_col7, #T_ee131_row29_col10, #T_ee131_row29_col11, #T_ee131_row29_col12, #T_ee131_row29_col13, #T_ee131_row30_col2, #T_ee131_row30_col4, #T_ee131_row30_col5, #T_ee131_row30_col6, #T_ee131_row30_col8, #T_ee131_row30_col9, #T_ee131_row30_col10, #T_ee131_row30_col11, #T_ee131_row30_col12, #T_ee131_row31_col2, #T_ee131_row31_col4, #T_ee131_row31_col6, #T_ee131_row31_col8, #T_ee131_row31_col9, #T_ee131_row31_col10, #T_ee131_row31_col11, #T_ee131_row31_col12, #T_ee131_row32_col2, #T_ee131_row32_col8, #T_ee131_row32_col9, #T_ee131_row32_col10, #T_ee131_row32_col11, #T_ee131_row32_col12, #T_ee131_row33_col2, #T_ee131_row33_col4, #T_ee131_row33_col6, #T_ee131_row33_col8, #T_ee131_row33_col9, #T_ee131_row33_col10, #T_ee131_row33_col11, #T_ee131_row33_col12, #T_ee131_row33_col13 {\n",
       "  background-color: green;\n",
       "}\n",
       "</style>\n",
       "<table id=\"T_ee131\">\n",
       "  <thead>\n",
       "    <tr>\n",
       "      <th class=\"blank level0\" >&nbsp;</th>\n",
       "      <th id=\"T_ee131_level0_col0\" class=\"col_heading level0 col0\" >user_word</th>\n",
       "      <th id=\"T_ee131_level0_col1\" class=\"col_heading level0 col1\" >right_answers</th>\n",
       "      <th id=\"T_ee131_level0_col2\" class=\"col_heading level0 col2\" >ivan</th>\n",
       "      <th id=\"T_ee131_level0_col3\" class=\"col_heading level0 col3\" >vera</th>\n",
       "      <th id=\"T_ee131_level0_col4\" class=\"col_heading level0 col4\" >cb_v_01_264</th>\n",
       "      <th id=\"T_ee131_level0_col5\" class=\"col_heading level0 col5\" >cb_v_02</th>\n",
       "      <th id=\"T_ee131_level0_col6\" class=\"col_heading level0 col6\" >cb_v_03_270</th>\n",
       "      <th id=\"T_ee131_level0_col7\" class=\"col_heading level0 col7\" >cb_v_04</th>\n",
       "      <th id=\"T_ee131_level0_col8\" class=\"col_heading level0 col8\" >cb_v_05_all_353</th>\n",
       "      <th id=\"T_ee131_level0_col9\" class=\"col_heading level0 col9\" >cb_v_05_sf</th>\n",
       "      <th id=\"T_ee131_level0_col10\" class=\"col_heading level0 col10\" >cb_v_05_sf_new_fit_374</th>\n",
       "      <th id=\"T_ee131_level0_col11\" class=\"col_heading level0 col11\" >cb_v_08_all</th>\n",
       "      <th id=\"T_ee131_level0_col12\" class=\"col_heading level0 col12\" >cb_v_08_sf</th>\n",
       "      <th id=\"T_ee131_level0_col13\" class=\"col_heading level0 col13\" >cb_v_08_sf_new_fit</th>\n",
       "    </tr>\n",
       "  </thead>\n",
       "  <tbody>\n",
       "    <tr>\n",
       "      <th id=\"T_ee131_level0_row0\" class=\"row_heading level0 row0\" >0</th>\n",
       "      <td id=\"T_ee131_row0_col0\" class=\"data row0 col0\" >aucroc</td>\n",
       "      <td id=\"T_ee131_row0_col1\" class=\"data row0 col1\" >24</td>\n",
       "      <td id=\"T_ee131_row0_col2\" class=\"data row0 col2\" >24</td>\n",
       "      <td id=\"T_ee131_row0_col3\" class=\"data row0 col3\" >24</td>\n",
       "      <td id=\"T_ee131_row0_col4\" class=\"data row0 col4\" >24</td>\n",
       "      <td id=\"T_ee131_row0_col5\" class=\"data row0 col5\" >49</td>\n",
       "      <td id=\"T_ee131_row0_col6\" class=\"data row0 col6\" >24</td>\n",
       "      <td id=\"T_ee131_row0_col7\" class=\"data row0 col7\" >24</td>\n",
       "      <td id=\"T_ee131_row0_col8\" class=\"data row0 col8\" >24</td>\n",
       "      <td id=\"T_ee131_row0_col9\" class=\"data row0 col9\" >24</td>\n",
       "      <td id=\"T_ee131_row0_col10\" class=\"data row0 col10\" >24</td>\n",
       "      <td id=\"T_ee131_row0_col11\" class=\"data row0 col11\" >24</td>\n",
       "      <td id=\"T_ee131_row0_col12\" class=\"data row0 col12\" >24</td>\n",
       "      <td id=\"T_ee131_row0_col13\" class=\"data row0 col13\" >24</td>\n",
       "    </tr>\n",
       "    <tr>\n",
       "      <th id=\"T_ee131_level0_row1\" class=\"row_heading level0 row1\" >1</th>\n",
       "      <td id=\"T_ee131_row1_col0\" class=\"data row1 col0\" >binary</td>\n",
       "      <td id=\"T_ee131_row1_col1\" class=\"data row1 col1\" >12</td>\n",
       "      <td id=\"T_ee131_row1_col2\" class=\"data row1 col2\" >12</td>\n",
       "      <td id=\"T_ee131_row1_col3\" class=\"data row1 col3\" >12</td>\n",
       "      <td id=\"T_ee131_row1_col4\" class=\"data row1 col4\" >12</td>\n",
       "      <td id=\"T_ee131_row1_col5\" class=\"data row1 col5\" >12</td>\n",
       "      <td id=\"T_ee131_row1_col6\" class=\"data row1 col6\" >12</td>\n",
       "      <td id=\"T_ee131_row1_col7\" class=\"data row1 col7\" >-999</td>\n",
       "      <td id=\"T_ee131_row1_col8\" class=\"data row1 col8\" >12</td>\n",
       "      <td id=\"T_ee131_row1_col9\" class=\"data row1 col9\" >12</td>\n",
       "      <td id=\"T_ee131_row1_col10\" class=\"data row1 col10\" >12</td>\n",
       "      <td id=\"T_ee131_row1_col11\" class=\"data row1 col11\" >12</td>\n",
       "      <td id=\"T_ee131_row1_col12\" class=\"data row1 col12\" >12</td>\n",
       "      <td id=\"T_ee131_row1_col13\" class=\"data row1 col13\" >12</td>\n",
       "    </tr>\n",
       "    <tr>\n",
       "      <th id=\"T_ee131_level0_row2\" class=\"row_heading level0 row2\" >2</th>\n",
       "      <td id=\"T_ee131_row2_col0\" class=\"data row2 col0\" >blue</td>\n",
       "      <td id=\"T_ee131_row2_col1\" class=\"data row2 col1\" >nan</td>\n",
       "      <td id=\"T_ee131_row2_col2\" class=\"data row2 col2\" >-999</td>\n",
       "      <td id=\"T_ee131_row2_col3\" class=\"data row2 col3\" >56</td>\n",
       "      <td id=\"T_ee131_row2_col4\" class=\"data row2 col4\" >-999</td>\n",
       "      <td id=\"T_ee131_row2_col5\" class=\"data row2 col5\" >-999</td>\n",
       "      <td id=\"T_ee131_row2_col6\" class=\"data row2 col6\" >-999</td>\n",
       "      <td id=\"T_ee131_row2_col7\" class=\"data row2 col7\" >-999</td>\n",
       "      <td id=\"T_ee131_row2_col8\" class=\"data row2 col8\" >56</td>\n",
       "      <td id=\"T_ee131_row2_col9\" class=\"data row2 col9\" >56</td>\n",
       "      <td id=\"T_ee131_row2_col10\" class=\"data row2 col10\" >56</td>\n",
       "      <td id=\"T_ee131_row2_col11\" class=\"data row2 col11\" >25</td>\n",
       "      <td id=\"T_ee131_row2_col12\" class=\"data row2 col12\" >25</td>\n",
       "      <td id=\"T_ee131_row2_col13\" class=\"data row2 col13\" >-999</td>\n",
       "    </tr>\n",
       "    <tr>\n",
       "      <th id=\"T_ee131_level0_row3\" class=\"row_heading level0 row3\" >3</th>\n",
       "      <td id=\"T_ee131_row3_col0\" class=\"data row3 col0\" >categorical</td>\n",
       "      <td id=\"T_ee131_row3_col1\" class=\"data row3 col1\" >14</td>\n",
       "      <td id=\"T_ee131_row3_col2\" class=\"data row3 col2\" >14</td>\n",
       "      <td id=\"T_ee131_row3_col3\" class=\"data row3 col3\" >14</td>\n",
       "      <td id=\"T_ee131_row3_col4\" class=\"data row3 col4\" >14</td>\n",
       "      <td id=\"T_ee131_row3_col5\" class=\"data row3 col5\" >14</td>\n",
       "      <td id=\"T_ee131_row3_col6\" class=\"data row3 col6\" >14</td>\n",
       "      <td id=\"T_ee131_row3_col7\" class=\"data row3 col7\" >14</td>\n",
       "      <td id=\"T_ee131_row3_col8\" class=\"data row3 col8\" >14</td>\n",
       "      <td id=\"T_ee131_row3_col9\" class=\"data row3 col9\" >14</td>\n",
       "      <td id=\"T_ee131_row3_col10\" class=\"data row3 col10\" >14</td>\n",
       "      <td id=\"T_ee131_row3_col11\" class=\"data row3 col11\" >14</td>\n",
       "      <td id=\"T_ee131_row3_col12\" class=\"data row3 col12\" >14</td>\n",
       "      <td id=\"T_ee131_row3_col13\" class=\"data row3 col13\" >14</td>\n",
       "    </tr>\n",
       "    <tr>\n",
       "      <th id=\"T_ee131_level0_row4\" class=\"row_heading level0 row4\" >4</th>\n",
       "      <td id=\"T_ee131_row4_col0\" class=\"data row4 col0\" >coefficient</td>\n",
       "      <td id=\"T_ee131_row4_col1\" class=\"data row4 col1\" >nan</td>\n",
       "      <td id=\"T_ee131_row4_col2\" class=\"data row4 col2\" >-999</td>\n",
       "      <td id=\"T_ee131_row4_col3\" class=\"data row4 col3\" >27</td>\n",
       "      <td id=\"T_ee131_row4_col4\" class=\"data row4 col4\" >22</td>\n",
       "      <td id=\"T_ee131_row4_col5\" class=\"data row4 col5\" >22</td>\n",
       "      <td id=\"T_ee131_row4_col6\" class=\"data row4 col6\" >22</td>\n",
       "      <td id=\"T_ee131_row4_col7\" class=\"data row4 col7\" >26</td>\n",
       "      <td id=\"T_ee131_row4_col8\" class=\"data row4 col8\" >22</td>\n",
       "      <td id=\"T_ee131_row4_col9\" class=\"data row4 col9\" >22</td>\n",
       "      <td id=\"T_ee131_row4_col10\" class=\"data row4 col10\" >-999</td>\n",
       "      <td id=\"T_ee131_row4_col11\" class=\"data row4 col11\" >22</td>\n",
       "      <td id=\"T_ee131_row4_col12\" class=\"data row4 col12\" >22</td>\n",
       "      <td id=\"T_ee131_row4_col13\" class=\"data row4 col13\" >-999</td>\n",
       "    </tr>\n",
       "    <tr>\n",
       "      <th id=\"T_ee131_level0_row5\" class=\"row_heading level0 row5\" >5</th>\n",
       "      <td id=\"T_ee131_row5_col0\" class=\"data row5 col0\" >collinear</td>\n",
       "      <td id=\"T_ee131_row5_col1\" class=\"data row5 col1\" >nan</td>\n",
       "      <td id=\"T_ee131_row5_col2\" class=\"data row5 col2\" >-999</td>\n",
       "      <td id=\"T_ee131_row5_col3\" class=\"data row5 col3\" >23</td>\n",
       "      <td id=\"T_ee131_row5_col4\" class=\"data row5 col4\" >-999</td>\n",
       "      <td id=\"T_ee131_row5_col5\" class=\"data row5 col5\" >-999</td>\n",
       "      <td id=\"T_ee131_row5_col6\" class=\"data row5 col6\" >47</td>\n",
       "      <td id=\"T_ee131_row5_col7\" class=\"data row5 col7\" >-999</td>\n",
       "      <td id=\"T_ee131_row5_col8\" class=\"data row5 col8\" >33</td>\n",
       "      <td id=\"T_ee131_row5_col9\" class=\"data row5 col9\" >33</td>\n",
       "      <td id=\"T_ee131_row5_col10\" class=\"data row5 col10\" >22</td>\n",
       "      <td id=\"T_ee131_row5_col11\" class=\"data row5 col11\" >-999</td>\n",
       "      <td id=\"T_ee131_row5_col12\" class=\"data row5 col12\" >-999</td>\n",
       "      <td id=\"T_ee131_row5_col13\" class=\"data row5 col13\" >43</td>\n",
       "    </tr>\n",
       "    <tr>\n",
       "      <th id=\"T_ee131_level0_row6\" class=\"row_heading level0 row6\" >6</th>\n",
       "      <td id=\"T_ee131_row6_col0\" class=\"data row6 col0\" >distributed</td>\n",
       "      <td id=\"T_ee131_row6_col1\" class=\"data row6 col1\" >0</td>\n",
       "      <td id=\"T_ee131_row6_col2\" class=\"data row6 col2\" >0</td>\n",
       "      <td id=\"T_ee131_row6_col3\" class=\"data row6 col3\" >0</td>\n",
       "      <td id=\"T_ee131_row6_col4\" class=\"data row6 col4\" >0</td>\n",
       "      <td id=\"T_ee131_row6_col5\" class=\"data row6 col5\" >35</td>\n",
       "      <td id=\"T_ee131_row6_col6\" class=\"data row6 col6\" >0</td>\n",
       "      <td id=\"T_ee131_row6_col7\" class=\"data row6 col7\" >0</td>\n",
       "      <td id=\"T_ee131_row6_col8\" class=\"data row6 col8\" >0</td>\n",
       "      <td id=\"T_ee131_row6_col9\" class=\"data row6 col9\" >0</td>\n",
       "      <td id=\"T_ee131_row6_col10\" class=\"data row6 col10\" >0</td>\n",
       "      <td id=\"T_ee131_row6_col11\" class=\"data row6 col11\" >0</td>\n",
       "      <td id=\"T_ee131_row6_col12\" class=\"data row6 col12\" >0</td>\n",
       "      <td id=\"T_ee131_row6_col13\" class=\"data row6 col13\" >0</td>\n",
       "    </tr>\n",
       "    <tr>\n",
       "      <th id=\"T_ee131_level0_row7\" class=\"row_heading level0 row7\" >7</th>\n",
       "      <td id=\"T_ee131_row7_col0\" class=\"data row7 col0\" >epsilon</td>\n",
       "      <td id=\"T_ee131_row7_col1\" class=\"data row7 col1\" >1</td>\n",
       "      <td id=\"T_ee131_row7_col2\" class=\"data row7 col2\" >1</td>\n",
       "      <td id=\"T_ee131_row7_col3\" class=\"data row7 col3\" >1</td>\n",
       "      <td id=\"T_ee131_row7_col4\" class=\"data row7 col4\" >1</td>\n",
       "      <td id=\"T_ee131_row7_col5\" class=\"data row7 col5\" >1</td>\n",
       "      <td id=\"T_ee131_row7_col6\" class=\"data row7 col6\" >1</td>\n",
       "      <td id=\"T_ee131_row7_col7\" class=\"data row7 col7\" >49</td>\n",
       "      <td id=\"T_ee131_row7_col8\" class=\"data row7 col8\" >1</td>\n",
       "      <td id=\"T_ee131_row7_col9\" class=\"data row7 col9\" >1</td>\n",
       "      <td id=\"T_ee131_row7_col10\" class=\"data row7 col10\" >1</td>\n",
       "      <td id=\"T_ee131_row7_col11\" class=\"data row7 col11\" >1</td>\n",
       "      <td id=\"T_ee131_row7_col12\" class=\"data row7 col12\" >1</td>\n",
       "      <td id=\"T_ee131_row7_col13\" class=\"data row7 col13\" >1</td>\n",
       "    </tr>\n",
       "    <tr>\n",
       "      <th id=\"T_ee131_level0_row8\" class=\"row_heading level0 row8\" >8</th>\n",
       "      <td id=\"T_ee131_row8_col0\" class=\"data row8 col0\" >f1</td>\n",
       "      <td id=\"T_ee131_row8_col1\" class=\"data row8 col1\" >6</td>\n",
       "      <td id=\"T_ee131_row8_col2\" class=\"data row8 col2\" >6</td>\n",
       "      <td id=\"T_ee131_row8_col3\" class=\"data row8 col3\" >18</td>\n",
       "      <td id=\"T_ee131_row8_col4\" class=\"data row8 col4\" >37</td>\n",
       "      <td id=\"T_ee131_row8_col5\" class=\"data row8 col5\" >6</td>\n",
       "      <td id=\"T_ee131_row8_col6\" class=\"data row8 col6\" >6</td>\n",
       "      <td id=\"T_ee131_row8_col7\" class=\"data row8 col7\" >37</td>\n",
       "      <td id=\"T_ee131_row8_col8\" class=\"data row8 col8\" >6</td>\n",
       "      <td id=\"T_ee131_row8_col9\" class=\"data row8 col9\" >6</td>\n",
       "      <td id=\"T_ee131_row8_col10\" class=\"data row8 col10\" >6</td>\n",
       "      <td id=\"T_ee131_row8_col11\" class=\"data row8 col11\" >6</td>\n",
       "      <td id=\"T_ee131_row8_col12\" class=\"data row8 col12\" >6</td>\n",
       "      <td id=\"T_ee131_row8_col13\" class=\"data row8 col13\" >6</td>\n",
       "    </tr>\n",
       "    <tr>\n",
       "      <th id=\"T_ee131_level0_row9\" class=\"row_heading level0 row9\" >9</th>\n",
       "      <td id=\"T_ee131_row9_col0\" class=\"data row9 col0\" >fit</td>\n",
       "      <td id=\"T_ee131_row9_col1\" class=\"data row9 col1\" >nan</td>\n",
       "      <td id=\"T_ee131_row9_col2\" class=\"data row9 col2\" >23</td>\n",
       "      <td id=\"T_ee131_row9_col3\" class=\"data row9 col3\" >6</td>\n",
       "      <td id=\"T_ee131_row9_col4\" class=\"data row9 col4\" >-999</td>\n",
       "      <td id=\"T_ee131_row9_col5\" class=\"data row9 col5\" >23</td>\n",
       "      <td id=\"T_ee131_row9_col6\" class=\"data row9 col6\" >37</td>\n",
       "      <td id=\"T_ee131_row9_col7\" class=\"data row9 col7\" >23</td>\n",
       "      <td id=\"T_ee131_row9_col8\" class=\"data row9 col8\" >2</td>\n",
       "      <td id=\"T_ee131_row9_col9\" class=\"data row9 col9\" >2</td>\n",
       "      <td id=\"T_ee131_row9_col10\" class=\"data row9 col10\" >2</td>\n",
       "      <td id=\"T_ee131_row9_col11\" class=\"data row9 col11\" >2</td>\n",
       "      <td id=\"T_ee131_row9_col12\" class=\"data row9 col12\" >2</td>\n",
       "      <td id=\"T_ee131_row9_col13\" class=\"data row9 col13\" >23</td>\n",
       "    </tr>\n",
       "    <tr>\n",
       "      <th id=\"T_ee131_level0_row10\" class=\"row_heading level0 row10\" >10</th>\n",
       "      <td id=\"T_ee131_row10_col0\" class=\"data row10 col0\" >gini</td>\n",
       "      <td id=\"T_ee131_row10_col1\" class=\"data row10 col1\" >15</td>\n",
       "      <td id=\"T_ee131_row10_col2\" class=\"data row10 col2\" >15</td>\n",
       "      <td id=\"T_ee131_row10_col3\" class=\"data row10 col3\" >15</td>\n",
       "      <td id=\"T_ee131_row10_col4\" class=\"data row10 col4\" >15</td>\n",
       "      <td id=\"T_ee131_row10_col5\" class=\"data row10 col5\" >15</td>\n",
       "      <td id=\"T_ee131_row10_col6\" class=\"data row10 col6\" >15</td>\n",
       "      <td id=\"T_ee131_row10_col7\" class=\"data row10 col7\" >15</td>\n",
       "      <td id=\"T_ee131_row10_col8\" class=\"data row10 col8\" >15</td>\n",
       "      <td id=\"T_ee131_row10_col9\" class=\"data row10 col9\" >15</td>\n",
       "      <td id=\"T_ee131_row10_col10\" class=\"data row10 col10\" >15</td>\n",
       "      <td id=\"T_ee131_row10_col11\" class=\"data row10 col11\" >15</td>\n",
       "      <td id=\"T_ee131_row10_col12\" class=\"data row10 col12\" >15</td>\n",
       "      <td id=\"T_ee131_row10_col13\" class=\"data row10 col13\" >15</td>\n",
       "    </tr>\n",
       "    <tr>\n",
       "      <th id=\"T_ee131_level0_row11\" class=\"row_heading level0 row11\" >11</th>\n",
       "      <td id=\"T_ee131_row11_col0\" class=\"data row11 col0\" >independent</td>\n",
       "      <td id=\"T_ee131_row11_col1\" class=\"data row11 col1\" >nan</td>\n",
       "      <td id=\"T_ee131_row11_col2\" class=\"data row11 col2\" >49</td>\n",
       "      <td id=\"T_ee131_row11_col3\" class=\"data row11 col3\" >49</td>\n",
       "      <td id=\"T_ee131_row11_col4\" class=\"data row11 col4\" >49</td>\n",
       "      <td id=\"T_ee131_row11_col5\" class=\"data row11 col5\" >-999</td>\n",
       "      <td id=\"T_ee131_row11_col6\" class=\"data row11 col6\" >49</td>\n",
       "      <td id=\"T_ee131_row11_col7\" class=\"data row11 col7\" >1</td>\n",
       "      <td id=\"T_ee131_row11_col8\" class=\"data row11 col8\" >39</td>\n",
       "      <td id=\"T_ee131_row11_col9\" class=\"data row11 col9\" >39</td>\n",
       "      <td id=\"T_ee131_row11_col10\" class=\"data row11 col10\" >26</td>\n",
       "      <td id=\"T_ee131_row11_col11\" class=\"data row11 col11\" >39</td>\n",
       "      <td id=\"T_ee131_row11_col12\" class=\"data row11 col12\" >39</td>\n",
       "      <td id=\"T_ee131_row11_col13\" class=\"data row11 col13\" >39</td>\n",
       "    </tr>\n",
       "    <tr>\n",
       "      <th id=\"T_ee131_level0_row12\" class=\"row_heading level0 row12\" >12</th>\n",
       "      <td id=\"T_ee131_row12_col0\" class=\"data row12 col0\" >lasso</td>\n",
       "      <td id=\"T_ee131_row12_col1\" class=\"data row12 col1\" >nan</td>\n",
       "      <td id=\"T_ee131_row12_col2\" class=\"data row12 col2\" >36</td>\n",
       "      <td id=\"T_ee131_row12_col3\" class=\"data row12 col3\" >25</td>\n",
       "      <td id=\"T_ee131_row12_col4\" class=\"data row12 col4\" >56</td>\n",
       "      <td id=\"T_ee131_row12_col5\" class=\"data row12 col5\" >25</td>\n",
       "      <td id=\"T_ee131_row12_col6\" class=\"data row12 col6\" >23</td>\n",
       "      <td id=\"T_ee131_row12_col7\" class=\"data row12 col7\" >46</td>\n",
       "      <td id=\"T_ee131_row12_col8\" class=\"data row12 col8\" >36</td>\n",
       "      <td id=\"T_ee131_row12_col9\" class=\"data row12 col9\" >36</td>\n",
       "      <td id=\"T_ee131_row12_col10\" class=\"data row12 col10\" >23</td>\n",
       "      <td id=\"T_ee131_row12_col11\" class=\"data row12 col11\" >56</td>\n",
       "      <td id=\"T_ee131_row12_col12\" class=\"data row12 col12\" >56</td>\n",
       "      <td id=\"T_ee131_row12_col13\" class=\"data row12 col13\" >56</td>\n",
       "    </tr>\n",
       "    <tr>\n",
       "      <th id=\"T_ee131_level0_row13\" class=\"row_heading level0 row13\" >13</th>\n",
       "      <td id=\"T_ee131_row13_col0\" class=\"data row13 col0\" >linear</td>\n",
       "      <td id=\"T_ee131_row13_col1\" class=\"data row13 col1\" >17</td>\n",
       "      <td id=\"T_ee131_row13_col2\" class=\"data row13 col2\" >17</td>\n",
       "      <td id=\"T_ee131_row13_col3\" class=\"data row13 col3\" >17</td>\n",
       "      <td id=\"T_ee131_row13_col4\" class=\"data row13 col4\" >17</td>\n",
       "      <td id=\"T_ee131_row13_col5\" class=\"data row13 col5\" >17</td>\n",
       "      <td id=\"T_ee131_row13_col6\" class=\"data row13 col6\" >17</td>\n",
       "      <td id=\"T_ee131_row13_col7\" class=\"data row13 col7\" >17</td>\n",
       "      <td id=\"T_ee131_row13_col8\" class=\"data row13 col8\" >17</td>\n",
       "      <td id=\"T_ee131_row13_col9\" class=\"data row13 col9\" >17</td>\n",
       "      <td id=\"T_ee131_row13_col10\" class=\"data row13 col10\" >17</td>\n",
       "      <td id=\"T_ee131_row13_col11\" class=\"data row13 col11\" >17</td>\n",
       "      <td id=\"T_ee131_row13_col12\" class=\"data row13 col12\" >17</td>\n",
       "      <td id=\"T_ee131_row13_col13\" class=\"data row13 col13\" >17</td>\n",
       "    </tr>\n",
       "    <tr>\n",
       "      <th id=\"T_ee131_level0_row14\" class=\"row_heading level0 row14\" >14</th>\n",
       "      <td id=\"T_ee131_row14_col0\" class=\"data row14 col0\" >logistic</td>\n",
       "      <td id=\"T_ee131_row14_col1\" class=\"data row14 col1\" >nan</td>\n",
       "      <td id=\"T_ee131_row14_col2\" class=\"data row14 col2\" >-999</td>\n",
       "      <td id=\"T_ee131_row14_col3\" class=\"data row14 col3\" >31</td>\n",
       "      <td id=\"T_ee131_row14_col4\" class=\"data row14 col4\" >23</td>\n",
       "      <td id=\"T_ee131_row14_col5\" class=\"data row14 col5\" >56</td>\n",
       "      <td id=\"T_ee131_row14_col6\" class=\"data row14 col6\" >56</td>\n",
       "      <td id=\"T_ee131_row14_col7\" class=\"data row14 col7\" >56</td>\n",
       "      <td id=\"T_ee131_row14_col8\" class=\"data row14 col8\" >-999</td>\n",
       "      <td id=\"T_ee131_row14_col9\" class=\"data row14 col9\" >-999</td>\n",
       "      <td id=\"T_ee131_row14_col10\" class=\"data row14 col10\" >-999</td>\n",
       "      <td id=\"T_ee131_row14_col11\" class=\"data row14 col11\" >-999</td>\n",
       "      <td id=\"T_ee131_row14_col12\" class=\"data row14 col12\" >-999</td>\n",
       "      <td id=\"T_ee131_row14_col13\" class=\"data row14 col13\" >-999</td>\n",
       "    </tr>\n",
       "    <tr>\n",
       "      <th id=\"T_ee131_level0_row15\" class=\"row_heading level0 row15\" >15</th>\n",
       "      <td id=\"T_ee131_row15_col0\" class=\"data row15 col0\" >loss</td>\n",
       "      <td id=\"T_ee131_row15_col1\" class=\"data row15 col1\" >19</td>\n",
       "      <td id=\"T_ee131_row15_col2\" class=\"data row15 col2\" >19</td>\n",
       "      <td id=\"T_ee131_row15_col3\" class=\"data row15 col3\" >19</td>\n",
       "      <td id=\"T_ee131_row15_col4\" class=\"data row15 col4\" >19</td>\n",
       "      <td id=\"T_ee131_row15_col5\" class=\"data row15 col5\" >19</td>\n",
       "      <td id=\"T_ee131_row15_col6\" class=\"data row15 col6\" >19</td>\n",
       "      <td id=\"T_ee131_row15_col7\" class=\"data row15 col7\" >-999</td>\n",
       "      <td id=\"T_ee131_row15_col8\" class=\"data row15 col8\" >19</td>\n",
       "      <td id=\"T_ee131_row15_col9\" class=\"data row15 col9\" >19</td>\n",
       "      <td id=\"T_ee131_row15_col10\" class=\"data row15 col10\" >19</td>\n",
       "      <td id=\"T_ee131_row15_col11\" class=\"data row15 col11\" >19</td>\n",
       "      <td id=\"T_ee131_row15_col12\" class=\"data row15 col12\" >19</td>\n",
       "      <td id=\"T_ee131_row15_col13\" class=\"data row15 col13\" >19</td>\n",
       "    </tr>\n",
       "    <tr>\n",
       "      <th id=\"T_ee131_level0_row16\" class=\"row_heading level0 row16\" >16</th>\n",
       "      <td id=\"T_ee131_row16_col0\" class=\"data row16 col0\" >matrix</td>\n",
       "      <td id=\"T_ee131_row16_col1\" class=\"data row16 col1\" >29</td>\n",
       "      <td id=\"T_ee131_row16_col2\" class=\"data row16 col2\" >29</td>\n",
       "      <td id=\"T_ee131_row16_col3\" class=\"data row16 col3\" >29</td>\n",
       "      <td id=\"T_ee131_row16_col4\" class=\"data row16 col4\" >48</td>\n",
       "      <td id=\"T_ee131_row16_col5\" class=\"data row16 col5\" >-999</td>\n",
       "      <td id=\"T_ee131_row16_col6\" class=\"data row16 col6\" >48</td>\n",
       "      <td id=\"T_ee131_row16_col7\" class=\"data row16 col7\" >32</td>\n",
       "      <td id=\"T_ee131_row16_col8\" class=\"data row16 col8\" >41</td>\n",
       "      <td id=\"T_ee131_row16_col9\" class=\"data row16 col9\" >41</td>\n",
       "      <td id=\"T_ee131_row16_col10\" class=\"data row16 col10\" >25</td>\n",
       "      <td id=\"T_ee131_row16_col11\" class=\"data row16 col11\" >49</td>\n",
       "      <td id=\"T_ee131_row16_col12\" class=\"data row16 col12\" >41</td>\n",
       "      <td id=\"T_ee131_row16_col13\" class=\"data row16 col13\" >25</td>\n",
       "    </tr>\n",
       "    <tr>\n",
       "      <th id=\"T_ee131_level0_row17\" class=\"row_heading level0 row17\" >17</th>\n",
       "      <td id=\"T_ee131_row17_col0\" class=\"data row17 col0\" >minimization</td>\n",
       "      <td id=\"T_ee131_row17_col1\" class=\"data row17 col1\" >nan</td>\n",
       "      <td id=\"T_ee131_row17_col2\" class=\"data row17 col2\" >50</td>\n",
       "      <td id=\"T_ee131_row17_col3\" class=\"data row17 col3\" >48</td>\n",
       "      <td id=\"T_ee131_row17_col4\" class=\"data row17 col4\" >50</td>\n",
       "      <td id=\"T_ee131_row17_col5\" class=\"data row17 col5\" >50</td>\n",
       "      <td id=\"T_ee131_row17_col6\" class=\"data row17 col6\" >50</td>\n",
       "      <td id=\"T_ee131_row17_col7\" class=\"data row17 col7\" >29</td>\n",
       "      <td id=\"T_ee131_row17_col8\" class=\"data row17 col8\" >50</td>\n",
       "      <td id=\"T_ee131_row17_col9\" class=\"data row17 col9\" >50</td>\n",
       "      <td id=\"T_ee131_row17_col10\" class=\"data row17 col10\" >50</td>\n",
       "      <td id=\"T_ee131_row17_col11\" class=\"data row17 col11\" >50</td>\n",
       "      <td id=\"T_ee131_row17_col12\" class=\"data row17 col12\" >50</td>\n",
       "      <td id=\"T_ee131_row17_col13\" class=\"data row17 col13\" >50</td>\n",
       "    </tr>\n",
       "    <tr>\n",
       "      <th id=\"T_ee131_level0_row18\" class=\"row_heading level0 row18\" >18</th>\n",
       "      <td id=\"T_ee131_row18_col0\" class=\"data row18 col0\" >mse</td>\n",
       "      <td id=\"T_ee131_row18_col1\" class=\"data row18 col1\" >43</td>\n",
       "      <td id=\"T_ee131_row18_col2\" class=\"data row18 col2\" >43</td>\n",
       "      <td id=\"T_ee131_row18_col3\" class=\"data row18 col3\" >43</td>\n",
       "      <td id=\"T_ee131_row18_col4\" class=\"data row18 col4\" >43</td>\n",
       "      <td id=\"T_ee131_row18_col5\" class=\"data row18 col5\" >43</td>\n",
       "      <td id=\"T_ee131_row18_col6\" class=\"data row18 col6\" >43</td>\n",
       "      <td id=\"T_ee131_row18_col7\" class=\"data row18 col7\" >43</td>\n",
       "      <td id=\"T_ee131_row18_col8\" class=\"data row18 col8\" >43</td>\n",
       "      <td id=\"T_ee131_row18_col9\" class=\"data row18 col9\" >43</td>\n",
       "      <td id=\"T_ee131_row18_col10\" class=\"data row18 col10\" >43</td>\n",
       "      <td id=\"T_ee131_row18_col11\" class=\"data row18 col11\" >43</td>\n",
       "      <td id=\"T_ee131_row18_col12\" class=\"data row18 col12\" >43</td>\n",
       "      <td id=\"T_ee131_row18_col13\" class=\"data row18 col13\" >41</td>\n",
       "    </tr>\n",
       "    <tr>\n",
       "      <th id=\"T_ee131_level0_row19\" class=\"row_heading level0 row19\" >19</th>\n",
       "      <td id=\"T_ee131_row19_col0\" class=\"data row19 col0\" >ols</td>\n",
       "      <td id=\"T_ee131_row19_col1\" class=\"data row19 col1\" >11</td>\n",
       "      <td id=\"T_ee131_row19_col2\" class=\"data row19 col2\" >11</td>\n",
       "      <td id=\"T_ee131_row19_col3\" class=\"data row19 col3\" >11</td>\n",
       "      <td id=\"T_ee131_row19_col4\" class=\"data row19 col4\" >11</td>\n",
       "      <td id=\"T_ee131_row19_col5\" class=\"data row19 col5\" >11</td>\n",
       "      <td id=\"T_ee131_row19_col6\" class=\"data row19 col6\" >11</td>\n",
       "      <td id=\"T_ee131_row19_col7\" class=\"data row19 col7\" >11</td>\n",
       "      <td id=\"T_ee131_row19_col8\" class=\"data row19 col8\" >11</td>\n",
       "      <td id=\"T_ee131_row19_col9\" class=\"data row19 col9\" >11</td>\n",
       "      <td id=\"T_ee131_row19_col10\" class=\"data row19 col10\" >11</td>\n",
       "      <td id=\"T_ee131_row19_col11\" class=\"data row19 col11\" >11</td>\n",
       "      <td id=\"T_ee131_row19_col12\" class=\"data row19 col12\" >11</td>\n",
       "      <td id=\"T_ee131_row19_col13\" class=\"data row19 col13\" >11</td>\n",
       "    </tr>\n",
       "    <tr>\n",
       "      <th id=\"T_ee131_level0_row20\" class=\"row_heading level0 row20\" >20</th>\n",
       "      <td id=\"T_ee131_row20_col0\" class=\"data row20 col0\" >precision</td>\n",
       "      <td id=\"T_ee131_row20_col1\" class=\"data row20 col1\" >nan</td>\n",
       "      <td id=\"T_ee131_row20_col2\" class=\"data row20 col2\" >-999</td>\n",
       "      <td id=\"T_ee131_row20_col3\" class=\"data row20 col3\" >8</td>\n",
       "      <td id=\"T_ee131_row20_col4\" class=\"data row20 col4\" >-999</td>\n",
       "      <td id=\"T_ee131_row20_col5\" class=\"data row20 col5\" >9</td>\n",
       "      <td id=\"T_ee131_row20_col6\" class=\"data row20 col6\" >-999</td>\n",
       "      <td id=\"T_ee131_row20_col7\" class=\"data row20 col7\" >9</td>\n",
       "      <td id=\"T_ee131_row20_col8\" class=\"data row20 col8\" >-999</td>\n",
       "      <td id=\"T_ee131_row20_col9\" class=\"data row20 col9\" >-999</td>\n",
       "      <td id=\"T_ee131_row20_col10\" class=\"data row20 col10\" >-999</td>\n",
       "      <td id=\"T_ee131_row20_col11\" class=\"data row20 col11\" >-999</td>\n",
       "      <td id=\"T_ee131_row20_col12\" class=\"data row20 col12\" >-999</td>\n",
       "      <td id=\"T_ee131_row20_col13\" class=\"data row20 col13\" >46</td>\n",
       "    </tr>\n",
       "    <tr>\n",
       "      <th id=\"T_ee131_level0_row21\" class=\"row_heading level0 row21\" >21</th>\n",
       "      <td id=\"T_ee131_row21_col0\" class=\"data row21 col0\" >predict</td>\n",
       "      <td id=\"T_ee131_row21_col1\" class=\"data row21 col1\" >39</td>\n",
       "      <td id=\"T_ee131_row21_col2\" class=\"data row21 col2\" >39</td>\n",
       "      <td id=\"T_ee131_row21_col3\" class=\"data row21 col3\" >39</td>\n",
       "      <td id=\"T_ee131_row21_col4\" class=\"data row21 col4\" >39</td>\n",
       "      <td id=\"T_ee131_row21_col5\" class=\"data row21 col5\" >39</td>\n",
       "      <td id=\"T_ee131_row21_col6\" class=\"data row21 col6\" >39</td>\n",
       "      <td id=\"T_ee131_row21_col7\" class=\"data row21 col7\" >39</td>\n",
       "      <td id=\"T_ee131_row21_col8\" class=\"data row21 col8\" >23</td>\n",
       "      <td id=\"T_ee131_row21_col9\" class=\"data row21 col9\" >23</td>\n",
       "      <td id=\"T_ee131_row21_col10\" class=\"data row21 col10\" >39</td>\n",
       "      <td id=\"T_ee131_row21_col11\" class=\"data row21 col11\" >23</td>\n",
       "      <td id=\"T_ee131_row21_col12\" class=\"data row21 col12\" >23</td>\n",
       "      <td id=\"T_ee131_row21_col13\" class=\"data row21 col13\" >-999</td>\n",
       "    </tr>\n",
       "    <tr>\n",
       "      <th id=\"T_ee131_level0_row22\" class=\"row_heading level0 row22\" >22</th>\n",
       "      <td id=\"T_ee131_row22_col0\" class=\"data row22 col0\" >pvalue</td>\n",
       "      <td id=\"T_ee131_row22_col1\" class=\"data row22 col1\" >32</td>\n",
       "      <td id=\"T_ee131_row22_col2\" class=\"data row22 col2\" >32</td>\n",
       "      <td id=\"T_ee131_row22_col3\" class=\"data row22 col3\" >32</td>\n",
       "      <td id=\"T_ee131_row22_col4\" class=\"data row22 col4\" >32</td>\n",
       "      <td id=\"T_ee131_row22_col5\" class=\"data row22 col5\" >0</td>\n",
       "      <td id=\"T_ee131_row22_col6\" class=\"data row22 col6\" >29</td>\n",
       "      <td id=\"T_ee131_row22_col7\" class=\"data row22 col7\" >-999</td>\n",
       "      <td id=\"T_ee131_row22_col8\" class=\"data row22 col8\" >32</td>\n",
       "      <td id=\"T_ee131_row22_col9\" class=\"data row22 col9\" >32</td>\n",
       "      <td id=\"T_ee131_row22_col10\" class=\"data row22 col10\" >32</td>\n",
       "      <td id=\"T_ee131_row22_col11\" class=\"data row22 col11\" >32</td>\n",
       "      <td id=\"T_ee131_row22_col12\" class=\"data row22 col12\" >32</td>\n",
       "      <td id=\"T_ee131_row22_col13\" class=\"data row22 col13\" >32</td>\n",
       "    </tr>\n",
       "    <tr>\n",
       "      <th id=\"T_ee131_level0_row23\" class=\"row_heading level0 row23\" >23</th>\n",
       "      <td id=\"T_ee131_row23_col0\" class=\"data row23 col0\" >r2</td>\n",
       "      <td id=\"T_ee131_row23_col1\" class=\"data row23 col1\" >54</td>\n",
       "      <td id=\"T_ee131_row23_col2\" class=\"data row23 col2\" >54</td>\n",
       "      <td id=\"T_ee131_row23_col3\" class=\"data row23 col3\" >54</td>\n",
       "      <td id=\"T_ee131_row23_col4\" class=\"data row23 col4\" >54</td>\n",
       "      <td id=\"T_ee131_row23_col5\" class=\"data row23 col5\" >54</td>\n",
       "      <td id=\"T_ee131_row23_col6\" class=\"data row23 col6\" >54</td>\n",
       "      <td id=\"T_ee131_row23_col7\" class=\"data row23 col7\" >54</td>\n",
       "      <td id=\"T_ee131_row23_col8\" class=\"data row23 col8\" >54</td>\n",
       "      <td id=\"T_ee131_row23_col9\" class=\"data row23 col9\" >54</td>\n",
       "      <td id=\"T_ee131_row23_col10\" class=\"data row23 col10\" >54</td>\n",
       "      <td id=\"T_ee131_row23_col11\" class=\"data row23 col11\" >54</td>\n",
       "      <td id=\"T_ee131_row23_col12\" class=\"data row23 col12\" >54</td>\n",
       "      <td id=\"T_ee131_row23_col13\" class=\"data row23 col13\" >54</td>\n",
       "    </tr>\n",
       "    <tr>\n",
       "      <th id=\"T_ee131_level0_row24\" class=\"row_heading level0 row24\" >24</th>\n",
       "      <td id=\"T_ee131_row24_col0\" class=\"data row24 col0\" >recall</td>\n",
       "      <td id=\"T_ee131_row24_col1\" class=\"data row24 col1\" >3</td>\n",
       "      <td id=\"T_ee131_row24_col2\" class=\"data row24 col2\" >3</td>\n",
       "      <td id=\"T_ee131_row24_col3\" class=\"data row24 col3\" >3</td>\n",
       "      <td id=\"T_ee131_row24_col4\" class=\"data row24 col4\" >3</td>\n",
       "      <td id=\"T_ee131_row24_col5\" class=\"data row24 col5\" >3</td>\n",
       "      <td id=\"T_ee131_row24_col6\" class=\"data row24 col6\" >3</td>\n",
       "      <td id=\"T_ee131_row24_col7\" class=\"data row24 col7\" >3</td>\n",
       "      <td id=\"T_ee131_row24_col8\" class=\"data row24 col8\" >3</td>\n",
       "      <td id=\"T_ee131_row24_col9\" class=\"data row24 col9\" >3</td>\n",
       "      <td id=\"T_ee131_row24_col10\" class=\"data row24 col10\" >3</td>\n",
       "      <td id=\"T_ee131_row24_col11\" class=\"data row24 col11\" >3</td>\n",
       "      <td id=\"T_ee131_row24_col12\" class=\"data row24 col12\" >3</td>\n",
       "      <td id=\"T_ee131_row24_col13\" class=\"data row24 col13\" >3</td>\n",
       "    </tr>\n",
       "    <tr>\n",
       "      <th id=\"T_ee131_level0_row25\" class=\"row_heading level0 row25\" >25</th>\n",
       "      <td id=\"T_ee131_row25_col0\" class=\"data row25 col0\" >regression</td>\n",
       "      <td id=\"T_ee131_row25_col1\" class=\"data row25 col1\" >nan</td>\n",
       "      <td id=\"T_ee131_row25_col2\" class=\"data row25 col2\" >-999</td>\n",
       "      <td id=\"T_ee131_row25_col3\" class=\"data row25 col3\" >-999</td>\n",
       "      <td id=\"T_ee131_row25_col4\" class=\"data row25 col4\" >25</td>\n",
       "      <td id=\"T_ee131_row25_col5\" class=\"data row25 col5\" >32</td>\n",
       "      <td id=\"T_ee131_row25_col6\" class=\"data row25 col6\" >32</td>\n",
       "      <td id=\"T_ee131_row25_col7\" class=\"data row25 col7\" >19</td>\n",
       "      <td id=\"T_ee131_row25_col8\" class=\"data row25 col8\" >-999</td>\n",
       "      <td id=\"T_ee131_row25_col9\" class=\"data row25 col9\" >-999</td>\n",
       "      <td id=\"T_ee131_row25_col10\" class=\"data row25 col10\" >-999</td>\n",
       "      <td id=\"T_ee131_row25_col11\" class=\"data row25 col11\" >-999</td>\n",
       "      <td id=\"T_ee131_row25_col12\" class=\"data row25 col12\" >-999</td>\n",
       "      <td id=\"T_ee131_row25_col13\" class=\"data row25 col13\" >-999</td>\n",
       "    </tr>\n",
       "    <tr>\n",
       "      <th id=\"T_ee131_level0_row26\" class=\"row_heading level0 row26\" >26</th>\n",
       "      <td id=\"T_ee131_row26_col0\" class=\"data row26 col0\" >residual</td>\n",
       "      <td id=\"T_ee131_row26_col1\" class=\"data row26 col1\" >nan</td>\n",
       "      <td id=\"T_ee131_row26_col2\" class=\"data row26 col2\" >-999</td>\n",
       "      <td id=\"T_ee131_row26_col3\" class=\"data row26 col3\" >47</td>\n",
       "      <td id=\"T_ee131_row26_col4\" class=\"data row26 col4\" >-999</td>\n",
       "      <td id=\"T_ee131_row26_col5\" class=\"data row26 col5\" >-999</td>\n",
       "      <td id=\"T_ee131_row26_col6\" class=\"data row26 col6\" >-999</td>\n",
       "      <td id=\"T_ee131_row26_col7\" class=\"data row26 col7\" >50</td>\n",
       "      <td id=\"T_ee131_row26_col8\" class=\"data row26 col8\" >29</td>\n",
       "      <td id=\"T_ee131_row26_col9\" class=\"data row26 col9\" >29</td>\n",
       "      <td id=\"T_ee131_row26_col10\" class=\"data row26 col10\" >29</td>\n",
       "      <td id=\"T_ee131_row26_col11\" class=\"data row26 col11\" >29</td>\n",
       "      <td id=\"T_ee131_row26_col12\" class=\"data row26 col12\" >29</td>\n",
       "      <td id=\"T_ee131_row26_col13\" class=\"data row26 col13\" >29</td>\n",
       "    </tr>\n",
       "    <tr>\n",
       "      <th id=\"T_ee131_level0_row27\" class=\"row_heading level0 row27\" >27</th>\n",
       "      <td id=\"T_ee131_row27_col0\" class=\"data row27 col0\" >ridge</td>\n",
       "      <td id=\"T_ee131_row27_col1\" class=\"data row27 col1\" >35</td>\n",
       "      <td id=\"T_ee131_row27_col2\" class=\"data row27 col2\" >35</td>\n",
       "      <td id=\"T_ee131_row27_col3\" class=\"data row27 col3\" >35</td>\n",
       "      <td id=\"T_ee131_row27_col4\" class=\"data row27 col4\" >35</td>\n",
       "      <td id=\"T_ee131_row27_col5\" class=\"data row27 col5\" >48</td>\n",
       "      <td id=\"T_ee131_row27_col6\" class=\"data row27 col6\" >35</td>\n",
       "      <td id=\"T_ee131_row27_col7\" class=\"data row27 col7\" >35</td>\n",
       "      <td id=\"T_ee131_row27_col8\" class=\"data row27 col8\" >35</td>\n",
       "      <td id=\"T_ee131_row27_col9\" class=\"data row27 col9\" >35</td>\n",
       "      <td id=\"T_ee131_row27_col10\" class=\"data row27 col10\" >35</td>\n",
       "      <td id=\"T_ee131_row27_col11\" class=\"data row27 col11\" >35</td>\n",
       "      <td id=\"T_ee131_row27_col12\" class=\"data row27 col12\" >35</td>\n",
       "      <td id=\"T_ee131_row27_col13\" class=\"data row27 col13\" >35</td>\n",
       "    </tr>\n",
       "    <tr>\n",
       "      <th id=\"T_ee131_level0_row28\" class=\"row_heading level0 row28\" >28</th>\n",
       "      <td id=\"T_ee131_row28_col0\" class=\"data row28 col0\" >sigmoid</td>\n",
       "      <td id=\"T_ee131_row28_col1\" class=\"data row28 col1\" >55</td>\n",
       "      <td id=\"T_ee131_row28_col2\" class=\"data row28 col2\" >55</td>\n",
       "      <td id=\"T_ee131_row28_col3\" class=\"data row28 col3\" >55</td>\n",
       "      <td id=\"T_ee131_row28_col4\" class=\"data row28 col4\" >26</td>\n",
       "      <td id=\"T_ee131_row28_col5\" class=\"data row28 col5\" >55</td>\n",
       "      <td id=\"T_ee131_row28_col6\" class=\"data row28 col6\" >55</td>\n",
       "      <td id=\"T_ee131_row28_col7\" class=\"data row28 col7\" >55</td>\n",
       "      <td id=\"T_ee131_row28_col8\" class=\"data row28 col8\" >55</td>\n",
       "      <td id=\"T_ee131_row28_col9\" class=\"data row28 col9\" >55</td>\n",
       "      <td id=\"T_ee131_row28_col10\" class=\"data row28 col10\" >55</td>\n",
       "      <td id=\"T_ee131_row28_col11\" class=\"data row28 col11\" >55</td>\n",
       "      <td id=\"T_ee131_row28_col12\" class=\"data row28 col12\" >55</td>\n",
       "      <td id=\"T_ee131_row28_col13\" class=\"data row28 col13\" >55</td>\n",
       "    </tr>\n",
       "    <tr>\n",
       "      <th id=\"T_ee131_level0_row29\" class=\"row_heading level0 row29\" >29</th>\n",
       "      <td id=\"T_ee131_row29_col0\" class=\"data row29 col0\" >significant</td>\n",
       "      <td id=\"T_ee131_row29_col1\" class=\"data row29 col1\" >33</td>\n",
       "      <td id=\"T_ee131_row29_col2\" class=\"data row29 col2\" >33</td>\n",
       "      <td id=\"T_ee131_row29_col3\" class=\"data row29 col3\" >33</td>\n",
       "      <td id=\"T_ee131_row29_col4\" class=\"data row29 col4\" >33</td>\n",
       "      <td id=\"T_ee131_row29_col5\" class=\"data row29 col5\" >33</td>\n",
       "      <td id=\"T_ee131_row29_col6\" class=\"data row29 col6\" >33</td>\n",
       "      <td id=\"T_ee131_row29_col7\" class=\"data row29 col7\" >33</td>\n",
       "      <td id=\"T_ee131_row29_col8\" class=\"data row29 col8\" >-999</td>\n",
       "      <td id=\"T_ee131_row29_col9\" class=\"data row29 col9\" >-999</td>\n",
       "      <td id=\"T_ee131_row29_col10\" class=\"data row29 col10\" >33</td>\n",
       "      <td id=\"T_ee131_row29_col11\" class=\"data row29 col11\" >33</td>\n",
       "      <td id=\"T_ee131_row29_col12\" class=\"data row29 col12\" >33</td>\n",
       "      <td id=\"T_ee131_row29_col13\" class=\"data row29 col13\" >33</td>\n",
       "    </tr>\n",
       "    <tr>\n",
       "      <th id=\"T_ee131_level0_row30\" class=\"row_heading level0 row30\" >30</th>\n",
       "      <td id=\"T_ee131_row30_col0\" class=\"data row30 col0\" >target</td>\n",
       "      <td id=\"T_ee131_row30_col1\" class=\"data row30 col1\" >46</td>\n",
       "      <td id=\"T_ee131_row30_col2\" class=\"data row30 col2\" >46</td>\n",
       "      <td id=\"T_ee131_row30_col3\" class=\"data row30 col3\" >46</td>\n",
       "      <td id=\"T_ee131_row30_col4\" class=\"data row30 col4\" >46</td>\n",
       "      <td id=\"T_ee131_row30_col5\" class=\"data row30 col5\" >46</td>\n",
       "      <td id=\"T_ee131_row30_col6\" class=\"data row30 col6\" >46</td>\n",
       "      <td id=\"T_ee131_row30_col7\" class=\"data row30 col7\" >25</td>\n",
       "      <td id=\"T_ee131_row30_col8\" class=\"data row30 col8\" >46</td>\n",
       "      <td id=\"T_ee131_row30_col9\" class=\"data row30 col9\" >46</td>\n",
       "      <td id=\"T_ee131_row30_col10\" class=\"data row30 col10\" >46</td>\n",
       "      <td id=\"T_ee131_row30_col11\" class=\"data row30 col11\" >46</td>\n",
       "      <td id=\"T_ee131_row30_col12\" class=\"data row30 col12\" >46</td>\n",
       "      <td id=\"T_ee131_row30_col13\" class=\"data row30 col13\" >-999</td>\n",
       "    </tr>\n",
       "    <tr>\n",
       "      <th id=\"T_ee131_level0_row31\" class=\"row_heading level0 row31\" >31</th>\n",
       "      <td id=\"T_ee131_row31_col0\" class=\"data row31 col0\" >tstat</td>\n",
       "      <td id=\"T_ee131_row31_col1\" class=\"data row31 col1\" >9</td>\n",
       "      <td id=\"T_ee131_row31_col2\" class=\"data row31 col2\" >9</td>\n",
       "      <td id=\"T_ee131_row31_col3\" class=\"data row31 col3\" >9</td>\n",
       "      <td id=\"T_ee131_row31_col4\" class=\"data row31 col4\" >9</td>\n",
       "      <td id=\"T_ee131_row31_col5\" class=\"data row31 col5\" >-999</td>\n",
       "      <td id=\"T_ee131_row31_col6\" class=\"data row31 col6\" >9</td>\n",
       "      <td id=\"T_ee131_row31_col7\" class=\"data row31 col7\" >-999</td>\n",
       "      <td id=\"T_ee131_row31_col8\" class=\"data row31 col8\" >9</td>\n",
       "      <td id=\"T_ee131_row31_col9\" class=\"data row31 col9\" >9</td>\n",
       "      <td id=\"T_ee131_row31_col10\" class=\"data row31 col10\" >9</td>\n",
       "      <td id=\"T_ee131_row31_col11\" class=\"data row31 col11\" >9</td>\n",
       "      <td id=\"T_ee131_row31_col12\" class=\"data row31 col12\" >9</td>\n",
       "      <td id=\"T_ee131_row31_col13\" class=\"data row31 col13\" >49</td>\n",
       "    </tr>\n",
       "    <tr>\n",
       "      <th id=\"T_ee131_level0_row32\" class=\"row_heading level0 row32\" >32</th>\n",
       "      <td id=\"T_ee131_row32_col0\" class=\"data row32 col0\" >x</td>\n",
       "      <td id=\"T_ee131_row32_col1\" class=\"data row32 col1\" >37</td>\n",
       "      <td id=\"T_ee131_row32_col2\" class=\"data row32 col2\" >37</td>\n",
       "      <td id=\"T_ee131_row32_col3\" class=\"data row32 col3\" >37</td>\n",
       "      <td id=\"T_ee131_row32_col4\" class=\"data row32 col4\" >6</td>\n",
       "      <td id=\"T_ee131_row32_col5\" class=\"data row32 col5\" >53</td>\n",
       "      <td id=\"T_ee131_row32_col6\" class=\"data row32 col6\" >-999</td>\n",
       "      <td id=\"T_ee131_row32_col7\" class=\"data row32 col7\" >6</td>\n",
       "      <td id=\"T_ee131_row32_col8\" class=\"data row32 col8\" >37</td>\n",
       "      <td id=\"T_ee131_row32_col9\" class=\"data row32 col9\" >37</td>\n",
       "      <td id=\"T_ee131_row32_col10\" class=\"data row32 col10\" >37</td>\n",
       "      <td id=\"T_ee131_row32_col11\" class=\"data row32 col11\" >37</td>\n",
       "      <td id=\"T_ee131_row32_col12\" class=\"data row32 col12\" >37</td>\n",
       "      <td id=\"T_ee131_row32_col13\" class=\"data row32 col13\" >9</td>\n",
       "    </tr>\n",
       "    <tr>\n",
       "      <th id=\"T_ee131_level0_row33\" class=\"row_heading level0 row33\" >33</th>\n",
       "      <td id=\"T_ee131_row33_col0\" class=\"data row33 col0\" >y</td>\n",
       "      <td id=\"T_ee131_row33_col1\" class=\"data row33 col1\" >-999</td>\n",
       "      <td id=\"T_ee131_row33_col2\" class=\"data row33 col2\" >-999</td>\n",
       "      <td id=\"T_ee131_row33_col3\" class=\"data row33 col3\" >-999</td>\n",
       "      <td id=\"T_ee131_row33_col4\" class=\"data row33 col4\" >-999</td>\n",
       "      <td id=\"T_ee131_row33_col5\" class=\"data row33 col5\" >47</td>\n",
       "      <td id=\"T_ee131_row33_col6\" class=\"data row33 col6\" >-999</td>\n",
       "      <td id=\"T_ee131_row33_col7\" class=\"data row33 col7\" >12</td>\n",
       "      <td id=\"T_ee131_row33_col8\" class=\"data row33 col8\" >-999</td>\n",
       "      <td id=\"T_ee131_row33_col9\" class=\"data row33 col9\" >-999</td>\n",
       "      <td id=\"T_ee131_row33_col10\" class=\"data row33 col10\" >-999</td>\n",
       "      <td id=\"T_ee131_row33_col11\" class=\"data row33 col11\" >-999</td>\n",
       "      <td id=\"T_ee131_row33_col12\" class=\"data row33 col12\" >-999</td>\n",
       "      <td id=\"T_ee131_row33_col13\" class=\"data row33 col13\" >-999</td>\n",
       "    </tr>\n",
       "  </tbody>\n",
       "</table>\n"
      ],
      "text/plain": [
       "<pandas.io.formats.style.Styler at 0x254408399c0>"
      ]
     },
     "execution_count": 136,
     "metadata": {},
     "output_type": "execute_result"
    }
   ],
   "source": [
    "# Функция для условного форматирования\n",
    "def highlight_matching_cells(x):\n",
    "    ref_col = x['vera']\n",
    "    df_styled = pd.DataFrame('', index=x.index, columns=x.columns)\n",
    "    for col in x.columns:\n",
    "        if col == 'right_answers':\n",
    "            df_styled[col] = ['background-color: red' if x[col].iloc[i] != 'nan' else '' for i in range(len(x))]\n",
    "        elif col != 'vera':\n",
    "            df_styled[col] = ['background-color: green' if x[col].iloc[i] == ref_col.iloc[i] else '' for i in range(len(x))]\n",
    "    return df_styled\n",
    "\n",
    "# Применение стиля\n",
    "res.style.apply(highlight_matching_cells, axis=None)"
   ]
  },
  {
   "cell_type": "markdown",
   "metadata": {},
   "source": [
    "# The end"
   ]
  }
 ],
 "metadata": {
  "kernelspec": {
   "display_name": "venv",
   "language": "python",
   "name": "python3"
  },
  "language_info": {
   "codemirror_mode": {
    "name": "ipython",
    "version": 3
   },
   "file_extension": ".py",
   "mimetype": "text/x-python",
   "name": "python",
   "nbconvert_exporter": "python",
   "pygments_lexer": "ipython3",
   "version": "3.10.7"
  }
 },
 "nbformat": 4,
 "nbformat_minor": 2
}
