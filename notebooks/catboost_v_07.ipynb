{
 "cells": [
  {
   "cell_type": "markdown",
   "metadata": {},
   "source": [
    "ML ШИФТ"
   ]
  },
  {
   "cell_type": "markdown",
   "metadata": {},
   "source": [
    "[JINT] (SHIFT-64009) Пашина Алёна"
   ]
  },
  {
   "cell_type": "markdown",
   "metadata": {},
   "source": []
  },
  {
   "cell_type": "markdown",
   "metadata": {},
   "source": [
    "# Описание задачи\n",
    "\n",
    "Чтобы попасть в здание, нужно пройти через турникет. Чтобы открыть парковку, нужно открыть шлагбаум. Чтобы попасть на этаж, нужно приложить 'таблетку'. Все это фиксируется - кто, в какую дату, в какое время.\n",
    "Сможем ли мы выучить, кому конкретно принадлежит 'след' прохода через турникеты? Мы знаем, что это был кто-то, кто уже был. (Правда, есть и несколько новых - не больше 10%).\n",
    "\n",
    "'8 утра понедельник, турникет 4? Директор.' '11 утра суббота? Гриша. Но Гриша в последний день месяца никогда не приходит.'  Какие есть паттерны в настоящих данных?\n",
    "\n",
    "**Цель** - предсказать, кто вошел в здание по времени и турникету.\n",
    "\n",
    "**Описание данных**\n",
    "\n",
    "В обучающей выборке:\n",
    "\n",
    "* `user_id` - ID посетителя\n",
    "* `ts` - дата и время прохождения через турникет\n",
    "* `gate_id` - ID турникета\n",
    "\n",
    "В тестовой выборке `user_id` заменены на слова: `aucroc, binary, blue, categorical` и т.п.\n",
    "\n",
    "Требуется составить таблицу вида:\n",
    "\n",
    "| user_word | preds |\n",
    "| --- | --- |\n",
    "| aucroc | 50 |\n",
    "| binary | 11 |\n",
    "| blue | -999 |\n",
    "| ... | ... |\n",
    "\n",
    "* `user_word` - закодированные ID пользователей\n",
    "* `preds` - предсказанные ID\n",
    "* `-999` - ID нового посетителя, которого раньше не было\n",
    "\n",
    "Таблицу нужно запомнить как `csv` и потом заархивировать в `zip` архив. \n",
    "\n",
    "Каждому слову сопоставлен вес, который зависит от того, насколько трудно предсказать ID. Баллы набираются как взвешенная по весам сумма правильных ответов. Чем сложнее отгадали слово, тем больше баллов.\n",
    "\n",
    "Посетителей здания будем считать сотрудниками некой компании."
   ]
  },
  {
   "cell_type": "markdown",
   "metadata": {},
   "source": [
    "# Импорт библиотек"
   ]
  },
  {
   "cell_type": "code",
   "execution_count": 1,
   "metadata": {},
   "outputs": [],
   "source": [
    "import pandas as pd\n",
    "import numpy as np\n",
    "import sklearn\n",
    "import warnings\n",
    "import matplotlib.pyplot as plt\n",
    "import seaborn as sns\n",
    "import joblib\n",
    "import lightgbm as lgb\n",
    "\n",
    "from sklearn.model_selection import train_test_split, cross_val_score, GridSearchCV, StratifiedKFold\n",
    "from sklearn.compose import ColumnTransformer\n",
    "from sklearn.pipeline import Pipeline\n",
    "\n",
    "from sklearn.metrics import (roc_auc_score, \n",
    "                             f1_score,\n",
    "                             roc_curve, \n",
    "                             accuracy_score, \n",
    "                             ConfusionMatrixDisplay, \n",
    "                             confusion_matrix, \n",
    "                             recall_score,\n",
    "                             precision_score)\n",
    "from sklearn.inspection import permutation_importance\n",
    "from catboost import (CatBoostClassifier,\n",
    "                        Pool,\n",
    "                        EShapCalcType,\n",
    "                        EFeaturesSelectionAlgorithm)\n",
    "\n",
    "import shap\n",
    "import loguru\n",
    "import plotly\n",
    "import phik\n",
    "import zipfile\n",
    "import io\n",
    "import re\n",
    "from optuna.integration import OptunaSearchCV\n",
    "from optuna.distributions import IntDistribution, FloatDistribution\n",
    "import optuna\n",
    "from scipy.stats import mode"
   ]
  },
  {
   "cell_type": "code",
   "execution_count": 2,
   "metadata": {},
   "outputs": [],
   "source": [
    "# sklearn.set_config(transform_output=\"pandas\")\n",
    "warnings.filterwarnings('ignore')\n",
    "pd.options.display.float_format = '{:,.2f}'.format\n",
    "\n",
    "RANDOM_STATE = 42"
   ]
  },
  {
   "cell_type": "code",
   "execution_count": 3,
   "metadata": {},
   "outputs": [],
   "source": [
    "pd.set_option('display.max_rows', 300)\n",
    "pd.set_option('display.max_columns', 300)"
   ]
  },
  {
   "cell_type": "markdown",
   "metadata": {},
   "source": [
    "# Первичный анализ и предобработка данных"
   ]
  },
  {
   "cell_type": "code",
   "execution_count": 4,
   "metadata": {},
   "outputs": [],
   "source": [
    "df_train = pd.read_csv('../data/train.csv', index_col=[0], parse_dates=[2])\n",
    "df_test = pd.read_csv('../data/test.csv', index_col=[0], parse_dates=[1])\n",
    "ex_submit = pd.read_csv('../data/submit.csv')"
   ]
  },
  {
   "cell_type": "code",
   "execution_count": 5,
   "metadata": {},
   "outputs": [
    {
     "name": "stdout",
     "output_type": "stream",
     "text": [
      "\u001b[1mтренировочная выборка:\u001b[0m\n"
     ]
    },
    {
     "data": {
      "text/html": [
       "<div>\n",
       "<style scoped>\n",
       "    .dataframe tbody tr th:only-of-type {\n",
       "        vertical-align: middle;\n",
       "    }\n",
       "\n",
       "    .dataframe tbody tr th {\n",
       "        vertical-align: top;\n",
       "    }\n",
       "\n",
       "    .dataframe thead th {\n",
       "        text-align: right;\n",
       "    }\n",
       "</style>\n",
       "<table border=\"1\" class=\"dataframe\">\n",
       "  <thead>\n",
       "    <tr style=\"text-align: right;\">\n",
       "      <th></th>\n",
       "      <th>user_id</th>\n",
       "      <th>ts</th>\n",
       "      <th>gate_id</th>\n",
       "    </tr>\n",
       "  </thead>\n",
       "  <tbody>\n",
       "    <tr>\n",
       "      <th>0</th>\n",
       "      <td>18</td>\n",
       "      <td>2022-07-29 09:08:54</td>\n",
       "      <td>7</td>\n",
       "    </tr>\n",
       "    <tr>\n",
       "      <th>1</th>\n",
       "      <td>18</td>\n",
       "      <td>2022-07-29 09:09:54</td>\n",
       "      <td>9</td>\n",
       "    </tr>\n",
       "    <tr>\n",
       "      <th>2</th>\n",
       "      <td>18</td>\n",
       "      <td>2022-07-29 09:09:54</td>\n",
       "      <td>9</td>\n",
       "    </tr>\n",
       "    <tr>\n",
       "      <th>3</th>\n",
       "      <td>18</td>\n",
       "      <td>2022-07-29 09:10:06</td>\n",
       "      <td>5</td>\n",
       "    </tr>\n",
       "    <tr>\n",
       "      <th>4</th>\n",
       "      <td>18</td>\n",
       "      <td>2022-07-29 09:10:08</td>\n",
       "      <td>5</td>\n",
       "    </tr>\n",
       "    <tr>\n",
       "      <th>...</th>\n",
       "      <td>...</td>\n",
       "      <td>...</td>\n",
       "      <td>...</td>\n",
       "    </tr>\n",
       "    <tr>\n",
       "      <th>37513</th>\n",
       "      <td>6</td>\n",
       "      <td>2022-12-31 20:38:56</td>\n",
       "      <td>11</td>\n",
       "    </tr>\n",
       "    <tr>\n",
       "      <th>37514</th>\n",
       "      <td>6</td>\n",
       "      <td>2022-12-31 20:39:22</td>\n",
       "      <td>6</td>\n",
       "    </tr>\n",
       "    <tr>\n",
       "      <th>37515</th>\n",
       "      <td>6</td>\n",
       "      <td>2022-12-31 20:39:23</td>\n",
       "      <td>6</td>\n",
       "    </tr>\n",
       "    <tr>\n",
       "      <th>37516</th>\n",
       "      <td>6</td>\n",
       "      <td>2022-12-31 20:39:31</td>\n",
       "      <td>9</td>\n",
       "    </tr>\n",
       "    <tr>\n",
       "      <th>37517</th>\n",
       "      <td>6</td>\n",
       "      <td>2022-12-31 20:39:31</td>\n",
       "      <td>9</td>\n",
       "    </tr>\n",
       "  </tbody>\n",
       "</table>\n",
       "<p>37518 rows × 3 columns</p>\n",
       "</div>"
      ],
      "text/plain": [
       "       user_id                  ts  gate_id\n",
       "0           18 2022-07-29 09:08:54        7\n",
       "1           18 2022-07-29 09:09:54        9\n",
       "2           18 2022-07-29 09:09:54        9\n",
       "3           18 2022-07-29 09:10:06        5\n",
       "4           18 2022-07-29 09:10:08        5\n",
       "...        ...                 ...      ...\n",
       "37513        6 2022-12-31 20:38:56       11\n",
       "37514        6 2022-12-31 20:39:22        6\n",
       "37515        6 2022-12-31 20:39:23        6\n",
       "37516        6 2022-12-31 20:39:31        9\n",
       "37517        6 2022-12-31 20:39:31        9\n",
       "\n",
       "[37518 rows x 3 columns]"
      ]
     },
     "metadata": {},
     "output_type": "display_data"
    },
    {
     "name": "stdout",
     "output_type": "stream",
     "text": [
      "\u001b[1mобщая информация - тренировочная выборка:\u001b[0m\n",
      "<class 'pandas.core.frame.DataFrame'>\n",
      "Index: 37518 entries, 0 to 37517\n",
      "Data columns (total 3 columns):\n",
      " #   Column   Non-Null Count  Dtype         \n",
      "---  ------   --------------  -----         \n",
      " 0   user_id  37518 non-null  int64         \n",
      " 1   ts       37518 non-null  datetime64[ns]\n",
      " 2   gate_id  37518 non-null  int64         \n",
      "dtypes: datetime64[ns](1), int64(2)\n",
      "memory usage: 1.1 MB\n",
      "\u001b[1mколичество пропусков: 0\u001b[0m\n",
      "\u001b[1mколичество явных дубликатов: 2346\u001b[0m\n",
      "\n",
      "\u001b[1mтестовая выборка:\u001b[0m\n"
     ]
    },
    {
     "data": {
      "text/html": [
       "<div>\n",
       "<style scoped>\n",
       "    .dataframe tbody tr th:only-of-type {\n",
       "        vertical-align: middle;\n",
       "    }\n",
       "\n",
       "    .dataframe tbody tr th {\n",
       "        vertical-align: top;\n",
       "    }\n",
       "\n",
       "    .dataframe thead th {\n",
       "        text-align: right;\n",
       "    }\n",
       "</style>\n",
       "<table border=\"1\" class=\"dataframe\">\n",
       "  <thead>\n",
       "    <tr style=\"text-align: right;\">\n",
       "      <th></th>\n",
       "      <th>ts</th>\n",
       "      <th>gate_id</th>\n",
       "      <th>user_word</th>\n",
       "    </tr>\n",
       "  </thead>\n",
       "  <tbody>\n",
       "    <tr>\n",
       "      <th>37518</th>\n",
       "      <td>2023-01-03 08:21:00</td>\n",
       "      <td>9</td>\n",
       "      <td>gini</td>\n",
       "    </tr>\n",
       "    <tr>\n",
       "      <th>37519</th>\n",
       "      <td>2023-01-03 08:21:00</td>\n",
       "      <td>9</td>\n",
       "      <td>gini</td>\n",
       "    </tr>\n",
       "    <tr>\n",
       "      <th>37520</th>\n",
       "      <td>2023-01-03 08:21:18</td>\n",
       "      <td>5</td>\n",
       "      <td>gini</td>\n",
       "    </tr>\n",
       "    <tr>\n",
       "      <th>37521</th>\n",
       "      <td>2023-01-03 08:21:19</td>\n",
       "      <td>5</td>\n",
       "      <td>gini</td>\n",
       "    </tr>\n",
       "    <tr>\n",
       "      <th>37522</th>\n",
       "      <td>2023-01-03 08:21:39</td>\n",
       "      <td>10</td>\n",
       "      <td>gini</td>\n",
       "    </tr>\n",
       "    <tr>\n",
       "      <th>...</th>\n",
       "      <td>...</td>\n",
       "      <td>...</td>\n",
       "      <td>...</td>\n",
       "    </tr>\n",
       "    <tr>\n",
       "      <th>44638</th>\n",
       "      <td>2023-02-24 19:43:36</td>\n",
       "      <td>11</td>\n",
       "      <td>collinear</td>\n",
       "    </tr>\n",
       "    <tr>\n",
       "      <th>44639</th>\n",
       "      <td>2023-02-24 19:44:00</td>\n",
       "      <td>4</td>\n",
       "      <td>collinear</td>\n",
       "    </tr>\n",
       "    <tr>\n",
       "      <th>44640</th>\n",
       "      <td>2023-02-24 19:44:01</td>\n",
       "      <td>4</td>\n",
       "      <td>collinear</td>\n",
       "    </tr>\n",
       "    <tr>\n",
       "      <th>44641</th>\n",
       "      <td>2023-02-24 19:44:09</td>\n",
       "      <td>9</td>\n",
       "      <td>collinear</td>\n",
       "    </tr>\n",
       "    <tr>\n",
       "      <th>44642</th>\n",
       "      <td>2023-02-24 19:44:09</td>\n",
       "      <td>9</td>\n",
       "      <td>collinear</td>\n",
       "    </tr>\n",
       "  </tbody>\n",
       "</table>\n",
       "<p>7125 rows × 3 columns</p>\n",
       "</div>"
      ],
      "text/plain": [
       "                       ts  gate_id  user_word\n",
       "37518 2023-01-03 08:21:00        9       gini\n",
       "37519 2023-01-03 08:21:00        9       gini\n",
       "37520 2023-01-03 08:21:18        5       gini\n",
       "37521 2023-01-03 08:21:19        5       gini\n",
       "37522 2023-01-03 08:21:39       10       gini\n",
       "...                   ...      ...        ...\n",
       "44638 2023-02-24 19:43:36       11  collinear\n",
       "44639 2023-02-24 19:44:00        4  collinear\n",
       "44640 2023-02-24 19:44:01        4  collinear\n",
       "44641 2023-02-24 19:44:09        9  collinear\n",
       "44642 2023-02-24 19:44:09        9  collinear\n",
       "\n",
       "[7125 rows x 3 columns]"
      ]
     },
     "metadata": {},
     "output_type": "display_data"
    },
    {
     "name": "stdout",
     "output_type": "stream",
     "text": [
      "\u001b[1mобщая информация - тестовая выборка:\u001b[0m\n",
      "<class 'pandas.core.frame.DataFrame'>\n",
      "Index: 7125 entries, 37518 to 44642\n",
      "Data columns (total 3 columns):\n",
      " #   Column     Non-Null Count  Dtype         \n",
      "---  ------     --------------  -----         \n",
      " 0   ts         7125 non-null   datetime64[ns]\n",
      " 1   gate_id    7125 non-null   int64         \n",
      " 2   user_word  7125 non-null   object        \n",
      "dtypes: datetime64[ns](1), int64(1), object(1)\n",
      "memory usage: 222.7+ KB\n",
      "\u001b[1mколичество пропусков: 0\u001b[0m\n",
      "\u001b[1mколичество явных дубликатов: 505\u001b[0m\n",
      "\n",
      "\u001b[1mпример решения:\u001b[0m\n"
     ]
    },
    {
     "data": {
      "text/html": [
       "<div>\n",
       "<style scoped>\n",
       "    .dataframe tbody tr th:only-of-type {\n",
       "        vertical-align: middle;\n",
       "    }\n",
       "\n",
       "    .dataframe tbody tr th {\n",
       "        vertical-align: top;\n",
       "    }\n",
       "\n",
       "    .dataframe thead th {\n",
       "        text-align: right;\n",
       "    }\n",
       "</style>\n",
       "<table border=\"1\" class=\"dataframe\">\n",
       "  <thead>\n",
       "    <tr style=\"text-align: right;\">\n",
       "      <th></th>\n",
       "      <th>user_word</th>\n",
       "      <th>preds</th>\n",
       "    </tr>\n",
       "  </thead>\n",
       "  <tbody>\n",
       "    <tr>\n",
       "      <th>0</th>\n",
       "      <td>aucroc</td>\n",
       "      <td>49</td>\n",
       "    </tr>\n",
       "    <tr>\n",
       "      <th>1</th>\n",
       "      <td>binary</td>\n",
       "      <td>12</td>\n",
       "    </tr>\n",
       "    <tr>\n",
       "      <th>2</th>\n",
       "      <td>blue</td>\n",
       "      <td>55</td>\n",
       "    </tr>\n",
       "    <tr>\n",
       "      <th>3</th>\n",
       "      <td>categorical</td>\n",
       "      <td>14</td>\n",
       "    </tr>\n",
       "    <tr>\n",
       "      <th>4</th>\n",
       "      <td>coefficient</td>\n",
       "      <td>15</td>\n",
       "    </tr>\n",
       "    <tr>\n",
       "      <th>5</th>\n",
       "      <td>collinear</td>\n",
       "      <td>12</td>\n",
       "    </tr>\n",
       "    <tr>\n",
       "      <th>6</th>\n",
       "      <td>distributed</td>\n",
       "      <td>12</td>\n",
       "    </tr>\n",
       "    <tr>\n",
       "      <th>7</th>\n",
       "      <td>epsilon</td>\n",
       "      <td>1</td>\n",
       "    </tr>\n",
       "    <tr>\n",
       "      <th>8</th>\n",
       "      <td>f1</td>\n",
       "      <td>37</td>\n",
       "    </tr>\n",
       "    <tr>\n",
       "      <th>9</th>\n",
       "      <td>fit</td>\n",
       "      <td>3</td>\n",
       "    </tr>\n",
       "    <tr>\n",
       "      <th>10</th>\n",
       "      <td>gini</td>\n",
       "      <td>15</td>\n",
       "    </tr>\n",
       "    <tr>\n",
       "      <th>11</th>\n",
       "      <td>independent</td>\n",
       "      <td>-999</td>\n",
       "    </tr>\n",
       "    <tr>\n",
       "      <th>12</th>\n",
       "      <td>lasso</td>\n",
       "      <td>15</td>\n",
       "    </tr>\n",
       "    <tr>\n",
       "      <th>13</th>\n",
       "      <td>linear</td>\n",
       "      <td>3</td>\n",
       "    </tr>\n",
       "    <tr>\n",
       "      <th>14</th>\n",
       "      <td>logistic</td>\n",
       "      <td>12</td>\n",
       "    </tr>\n",
       "    <tr>\n",
       "      <th>15</th>\n",
       "      <td>loss</td>\n",
       "      <td>19</td>\n",
       "    </tr>\n",
       "    <tr>\n",
       "      <th>16</th>\n",
       "      <td>matrix</td>\n",
       "      <td>55</td>\n",
       "    </tr>\n",
       "    <tr>\n",
       "      <th>17</th>\n",
       "      <td>minimization</td>\n",
       "      <td>12</td>\n",
       "    </tr>\n",
       "    <tr>\n",
       "      <th>18</th>\n",
       "      <td>mse</td>\n",
       "      <td>55</td>\n",
       "    </tr>\n",
       "    <tr>\n",
       "      <th>19</th>\n",
       "      <td>ols</td>\n",
       "      <td>37</td>\n",
       "    </tr>\n",
       "    <tr>\n",
       "      <th>20</th>\n",
       "      <td>precision</td>\n",
       "      <td>-999</td>\n",
       "    </tr>\n",
       "    <tr>\n",
       "      <th>21</th>\n",
       "      <td>predict</td>\n",
       "      <td>12</td>\n",
       "    </tr>\n",
       "    <tr>\n",
       "      <th>22</th>\n",
       "      <td>pvalue</td>\n",
       "      <td>32</td>\n",
       "    </tr>\n",
       "    <tr>\n",
       "      <th>23</th>\n",
       "      <td>r2</td>\n",
       "      <td>12</td>\n",
       "    </tr>\n",
       "    <tr>\n",
       "      <th>24</th>\n",
       "      <td>recall</td>\n",
       "      <td>3</td>\n",
       "    </tr>\n",
       "    <tr>\n",
       "      <th>25</th>\n",
       "      <td>regression</td>\n",
       "      <td>55</td>\n",
       "    </tr>\n",
       "    <tr>\n",
       "      <th>26</th>\n",
       "      <td>residual</td>\n",
       "      <td>-999</td>\n",
       "    </tr>\n",
       "    <tr>\n",
       "      <th>27</th>\n",
       "      <td>ridge</td>\n",
       "      <td>12</td>\n",
       "    </tr>\n",
       "    <tr>\n",
       "      <th>28</th>\n",
       "      <td>sigmoid</td>\n",
       "      <td>55</td>\n",
       "    </tr>\n",
       "    <tr>\n",
       "      <th>29</th>\n",
       "      <td>significant</td>\n",
       "      <td>55</td>\n",
       "    </tr>\n",
       "    <tr>\n",
       "      <th>30</th>\n",
       "      <td>target</td>\n",
       "      <td>55</td>\n",
       "    </tr>\n",
       "    <tr>\n",
       "      <th>31</th>\n",
       "      <td>tstat</td>\n",
       "      <td>55</td>\n",
       "    </tr>\n",
       "    <tr>\n",
       "      <th>32</th>\n",
       "      <td>x</td>\n",
       "      <td>19</td>\n",
       "    </tr>\n",
       "    <tr>\n",
       "      <th>33</th>\n",
       "      <td>y</td>\n",
       "      <td>17</td>\n",
       "    </tr>\n",
       "  </tbody>\n",
       "</table>\n",
       "</div>"
      ],
      "text/plain": [
       "       user_word  preds\n",
       "0         aucroc     49\n",
       "1         binary     12\n",
       "2           blue     55\n",
       "3    categorical     14\n",
       "4    coefficient     15\n",
       "5      collinear     12\n",
       "6    distributed     12\n",
       "7        epsilon      1\n",
       "8             f1     37\n",
       "9            fit      3\n",
       "10          gini     15\n",
       "11   independent   -999\n",
       "12         lasso     15\n",
       "13        linear      3\n",
       "14      logistic     12\n",
       "15          loss     19\n",
       "16        matrix     55\n",
       "17  minimization     12\n",
       "18           mse     55\n",
       "19           ols     37\n",
       "20     precision   -999\n",
       "21       predict     12\n",
       "22        pvalue     32\n",
       "23            r2     12\n",
       "24        recall      3\n",
       "25    regression     55\n",
       "26      residual   -999\n",
       "27         ridge     12\n",
       "28       sigmoid     55\n",
       "29   significant     55\n",
       "30        target     55\n",
       "31         tstat     55\n",
       "32             x     19\n",
       "33             y     17"
      ]
     },
     "metadata": {},
     "output_type": "display_data"
    },
    {
     "name": "stdout",
     "output_type": "stream",
     "text": [
      "\u001b[1mобщая информация - пример решения:\u001b[0m\n",
      "<class 'pandas.core.frame.DataFrame'>\n",
      "RangeIndex: 34 entries, 0 to 33\n",
      "Data columns (total 2 columns):\n",
      " #   Column     Non-Null Count  Dtype \n",
      "---  ------     --------------  ----- \n",
      " 0   user_word  34 non-null     object\n",
      " 1   preds      34 non-null     int64 \n",
      "dtypes: int64(1), object(1)\n",
      "memory usage: 672.0+ bytes\n",
      "\u001b[1mколичество пропусков: 0\u001b[0m\n",
      "\u001b[1mколичество явных дубликатов: 0\u001b[0m\n",
      "\n"
     ]
    }
   ],
   "source": [
    "for name, df in zip(['тренировочная выборка', 'тестовая выборка', 'пример решения'], [df_train, df_test, ex_submit]):\n",
    "    print(f'\\033[1m{name}:\\033[0m')\n",
    "    display(df)\n",
    "    print(f'\\033[1mобщая информация - {name}:\\033[0m')\n",
    "    df.info()\n",
    "    print(f'\\033[1mколичество пропусков: {df.isna().sum().sum()}\\033[0m')\n",
    "    print(f'\\033[1mколичество явных дубликатов: {df.duplicated().sum()}\\033[0m')\n",
    "    print()"
   ]
  },
  {
   "cell_type": "markdown",
   "metadata": {},
   "source": [
    "Пропусков в данных не обнаружено.\n",
    "\n",
    "В тренировочной и тестовой выборке есть явные дубликаты, удалим их."
   ]
  },
  {
   "cell_type": "code",
   "execution_count": 6,
   "metadata": {},
   "outputs": [],
   "source": [
    "df_train = df_train.drop_duplicates().reset_index(drop=True)\n",
    "df_test = df_test.drop_duplicates().reset_index(drop=True)"
   ]
  },
  {
   "cell_type": "code",
   "execution_count": 7,
   "metadata": {},
   "outputs": [
    {
     "data": {
      "text/plain": [
       "(35172, 3)"
      ]
     },
     "execution_count": 7,
     "metadata": {},
     "output_type": "execute_result"
    }
   ],
   "source": [
    "df_train.shape"
   ]
  },
  {
   "cell_type": "code",
   "execution_count": 8,
   "metadata": {},
   "outputs": [
    {
     "data": {
      "text/plain": [
       "(6620, 3)"
      ]
     },
     "execution_count": 8,
     "metadata": {},
     "output_type": "execute_result"
    }
   ],
   "source": [
    "df_test.shape"
   ]
  },
  {
   "cell_type": "code",
   "execution_count": 9,
   "metadata": {},
   "outputs": [
    {
     "data": {
      "text/html": [
       "<div>\n",
       "<style scoped>\n",
       "    .dataframe tbody tr th:only-of-type {\n",
       "        vertical-align: middle;\n",
       "    }\n",
       "\n",
       "    .dataframe tbody tr th {\n",
       "        vertical-align: top;\n",
       "    }\n",
       "\n",
       "    .dataframe thead th {\n",
       "        text-align: right;\n",
       "    }\n",
       "</style>\n",
       "<table border=\"1\" class=\"dataframe\">\n",
       "  <thead>\n",
       "    <tr style=\"text-align: right;\">\n",
       "      <th></th>\n",
       "      <th>ts</th>\n",
       "    </tr>\n",
       "  </thead>\n",
       "  <tbody>\n",
       "    <tr>\n",
       "      <th>min</th>\n",
       "      <td>2022-07-29 09:08:54</td>\n",
       "    </tr>\n",
       "    <tr>\n",
       "      <th>max</th>\n",
       "      <td>2022-12-31 20:39:31</td>\n",
       "    </tr>\n",
       "  </tbody>\n",
       "</table>\n",
       "</div>"
      ],
      "text/plain": [
       "                     ts\n",
       "min 2022-07-29 09:08:54\n",
       "max 2022-12-31 20:39:31"
      ]
     },
     "execution_count": 9,
     "metadata": {},
     "output_type": "execute_result"
    }
   ],
   "source": [
    "df_train.ts.agg([min, max]).to_frame()"
   ]
  },
  {
   "cell_type": "code",
   "execution_count": 10,
   "metadata": {},
   "outputs": [
    {
     "data": {
      "text/html": [
       "<div>\n",
       "<style scoped>\n",
       "    .dataframe tbody tr th:only-of-type {\n",
       "        vertical-align: middle;\n",
       "    }\n",
       "\n",
       "    .dataframe tbody tr th {\n",
       "        vertical-align: top;\n",
       "    }\n",
       "\n",
       "    .dataframe thead th {\n",
       "        text-align: right;\n",
       "    }\n",
       "</style>\n",
       "<table border=\"1\" class=\"dataframe\">\n",
       "  <thead>\n",
       "    <tr style=\"text-align: right;\">\n",
       "      <th></th>\n",
       "      <th>ts</th>\n",
       "    </tr>\n",
       "  </thead>\n",
       "  <tbody>\n",
       "    <tr>\n",
       "      <th>min</th>\n",
       "      <td>2023-01-03 08:21:00</td>\n",
       "    </tr>\n",
       "    <tr>\n",
       "      <th>max</th>\n",
       "      <td>2023-02-24 19:44:09</td>\n",
       "    </tr>\n",
       "  </tbody>\n",
       "</table>\n",
       "</div>"
      ],
      "text/plain": [
       "                     ts\n",
       "min 2023-01-03 08:21:00\n",
       "max 2023-02-24 19:44:09"
      ]
     },
     "execution_count": 10,
     "metadata": {},
     "output_type": "execute_result"
    }
   ],
   "source": [
    "df_test.ts.agg([min, max]).to_frame()"
   ]
  },
  {
   "cell_type": "code",
   "execution_count": 11,
   "metadata": {},
   "outputs": [
    {
     "data": {
      "text/plain": [
       "7"
      ]
     },
     "execution_count": 11,
     "metadata": {},
     "output_type": "execute_result"
    }
   ],
   "source": [
    "(df_test.ts.max() - df_train.ts.min()).days // 30"
   ]
  },
  {
   "cell_type": "markdown",
   "metadata": {},
   "source": [
    "Предоставлены данные за 7 месяцев - с июля 2022 по фефраль 2023. Номер месяца в качестве признака не подойдет."
   ]
  },
  {
   "cell_type": "markdown",
   "metadata": {},
   "source": [
    "ID сотрудников"
   ]
  },
  {
   "cell_type": "code",
   "execution_count": 12,
   "metadata": {},
   "outputs": [
    {
     "name": "stdout",
     "output_type": "stream",
     "text": [
      "0, 1, 2, 3, 4, 5, 6, 7, 8, 9, 10, 11, 12, 14, 15, 17, 18, 19, 20, 21, 22, 23, 24, 25, 26, 27, 28, 29, 30, 31, 32, 33, 34, 35, 36, 37, 38, 39, 40, 41, 42, 43, 44, 45, 46, 47, 48, 49, 50, 51, 52, 53, 54, 55, 56, 57\n",
      "Количество сотрудников в train: 56\n"
     ]
    }
   ],
   "source": [
    "# id сотрудников в train\n",
    "print(*sorted(df_train.user_id.unique()), sep=', ')\n",
    "print(f'Количество сотрудников в train: {len(df_train.user_id.unique())}')"
   ]
  },
  {
   "cell_type": "code",
   "execution_count": 13,
   "metadata": {},
   "outputs": [
    {
     "data": {
      "text/plain": [
       "{13, 16}"
      ]
     },
     "execution_count": 13,
     "metadata": {},
     "output_type": "execute_result"
    }
   ],
   "source": [
    "# отсутствующие id\n",
    "set(range(0, 58)) - set(df_train.user_id.unique())"
   ]
  },
  {
   "cell_type": "code",
   "execution_count": 14,
   "metadata": {},
   "outputs": [],
   "source": [
    "# активность сотрудников в train\n",
    "count_user_id = df_train.user_id.value_counts(ascending=True).to_frame()"
   ]
  },
  {
   "cell_type": "code",
   "execution_count": 15,
   "metadata": {},
   "outputs": [
    {
     "data": {
      "text/html": [
       "<div>\n",
       "<style scoped>\n",
       "    .dataframe tbody tr th:only-of-type {\n",
       "        vertical-align: middle;\n",
       "    }\n",
       "\n",
       "    .dataframe tbody tr th {\n",
       "        vertical-align: top;\n",
       "    }\n",
       "\n",
       "    .dataframe thead th {\n",
       "        text-align: right;\n",
       "    }\n",
       "</style>\n",
       "<table border=\"1\" class=\"dataframe\">\n",
       "  <thead>\n",
       "    <tr style=\"text-align: right;\">\n",
       "      <th>user_id</th>\n",
       "      <th>4</th>\n",
       "      <th>51</th>\n",
       "      <th>44</th>\n",
       "      <th>21</th>\n",
       "      <th>52</th>\n",
       "      <th>30</th>\n",
       "      <th>5</th>\n",
       "      <th>38</th>\n",
       "      <th>10</th>\n",
       "      <th>8</th>\n",
       "      <th>2</th>\n",
       "      <th>36</th>\n",
       "      <th>7</th>\n",
       "      <th>45</th>\n",
       "      <th>28</th>\n",
       "      <th>22</th>\n",
       "      <th>41</th>\n",
       "      <th>20</th>\n",
       "      <th>43</th>\n",
       "      <th>56</th>\n",
       "      <th>31</th>\n",
       "      <th>25</th>\n",
       "      <th>40</th>\n",
       "      <th>23</th>\n",
       "      <th>34</th>\n",
       "      <th>26</th>\n",
       "      <th>42</th>\n",
       "      <th>24</th>\n",
       "      <th>46</th>\n",
       "      <th>57</th>\n",
       "      <th>27</th>\n",
       "      <th>35</th>\n",
       "      <th>14</th>\n",
       "      <th>17</th>\n",
       "      <th>48</th>\n",
       "      <th>3</th>\n",
       "      <th>29</th>\n",
       "      <th>50</th>\n",
       "      <th>54</th>\n",
       "      <th>9</th>\n",
       "      <th>32</th>\n",
       "      <th>39</th>\n",
       "      <th>49</th>\n",
       "      <th>1</th>\n",
       "      <th>0</th>\n",
       "      <th>33</th>\n",
       "      <th>47</th>\n",
       "      <th>11</th>\n",
       "      <th>53</th>\n",
       "      <th>18</th>\n",
       "      <th>15</th>\n",
       "      <th>19</th>\n",
       "      <th>12</th>\n",
       "      <th>6</th>\n",
       "      <th>55</th>\n",
       "      <th>37</th>\n",
       "    </tr>\n",
       "  </thead>\n",
       "  <tbody>\n",
       "    <tr>\n",
       "      <th>count</th>\n",
       "      <td>1</td>\n",
       "      <td>2</td>\n",
       "      <td>4</td>\n",
       "      <td>5</td>\n",
       "      <td>5</td>\n",
       "      <td>10</td>\n",
       "      <td>10</td>\n",
       "      <td>13</td>\n",
       "      <td>17</td>\n",
       "      <td>27</td>\n",
       "      <td>39</td>\n",
       "      <td>45</td>\n",
       "      <td>48</td>\n",
       "      <td>57</td>\n",
       "      <td>64</td>\n",
       "      <td>87</td>\n",
       "      <td>110</td>\n",
       "      <td>112</td>\n",
       "      <td>117</td>\n",
       "      <td>129</td>\n",
       "      <td>181</td>\n",
       "      <td>238</td>\n",
       "      <td>242</td>\n",
       "      <td>247</td>\n",
       "      <td>267</td>\n",
       "      <td>279</td>\n",
       "      <td>340</td>\n",
       "      <td>386</td>\n",
       "      <td>475</td>\n",
       "      <td>482</td>\n",
       "      <td>523</td>\n",
       "      <td>549</td>\n",
       "      <td>617</td>\n",
       "      <td>648</td>\n",
       "      <td>712</td>\n",
       "      <td>894</td>\n",
       "      <td>924</td>\n",
       "      <td>965</td>\n",
       "      <td>977</td>\n",
       "      <td>1015</td>\n",
       "      <td>1020</td>\n",
       "      <td>1032</td>\n",
       "      <td>1129</td>\n",
       "      <td>1171</td>\n",
       "      <td>1184</td>\n",
       "      <td>1184</td>\n",
       "      <td>1250</td>\n",
       "      <td>1255</td>\n",
       "      <td>1279</td>\n",
       "      <td>1441</td>\n",
       "      <td>1659</td>\n",
       "      <td>1661</td>\n",
       "      <td>1837</td>\n",
       "      <td>1857</td>\n",
       "      <td>2166</td>\n",
       "      <td>2184</td>\n",
       "    </tr>\n",
       "  </tbody>\n",
       "</table>\n",
       "</div>"
      ],
      "text/plain": [
       "user_id  4   51  44  21  52  30  5   38  10  8   2   36  7   45  28  22   41  \\\n",
       "count     1   2   4   5   5  10  10  13  17  27  39  45  48  57  64  87  110   \n",
       "\n",
       "user_id   20   43   56   31   25   40   23   34   26   42   24   46   57   27  \\\n",
       "count    112  117  129  181  238  242  247  267  279  340  386  475  482  523   \n",
       "\n",
       "user_id   35   14   17   48   3    29   50   54    9     32    39    49    1   \\\n",
       "count    549  617  648  712  894  924  965  977  1015  1020  1032  1129  1171   \n",
       "\n",
       "user_id    0     33    47    11    53    18    15    19    12    6     55  \\\n",
       "count    1184  1184  1250  1255  1279  1441  1659  1661  1837  1857  2166   \n",
       "\n",
       "user_id    37  \n",
       "count    2184  "
      ]
     },
     "execution_count": 15,
     "metadata": {},
     "output_type": "execute_result"
    }
   ],
   "source": [
    "count_user_id.T"
   ]
  },
  {
   "cell_type": "code",
   "execution_count": 16,
   "metadata": {},
   "outputs": [],
   "source": [
    "# delete_user_id = [4, 5, 7, 8, 10, 18, 20, 21, 22, 27, 28, 30, 31, 34, 36, 38, 40, 41, 42, 44, 45, 47, 48, 51, 52, 53, 57]"
   ]
  },
  {
   "cell_type": "code",
   "execution_count": 17,
   "metadata": {},
   "outputs": [],
   "source": [
    "# 8 и 41"
   ]
  },
  {
   "cell_type": "code",
   "execution_count": 18,
   "metadata": {},
   "outputs": [],
   "source": [
    "# delete_user_id = [4, 5, 7, 8, 10, 18, 20, 21, 27, 28, 30, 31, 34, 38, 40, 41, 42, 44, 45, 47, 48, 51, 52, 53, 57]\n",
    "# len(delete_user_id)"
   ]
  },
  {
   "cell_type": "code",
   "execution_count": 19,
   "metadata": {},
   "outputs": [],
   "source": [
    "# delete_user_id = [4, 5, 7, 8, 10, 18, 20, 21, 27, 28, 30, 31, 34, 38, 40, 41, 42, 44, 45, 47, 48, 51, 52, 53, 57]\n",
    "# len(delete_user_id)"
   ]
  },
  {
   "cell_type": "code",
   "execution_count": 20,
   "metadata": {},
   "outputs": [],
   "source": [
    "# delete_user_id = [2, 4, 5, 7, 8, 10, 21, 22, 28, 30, 36, 38, 44, 45, 51, 52]\n",
    "# len(delete_user_id)"
   ]
  },
  {
   "cell_type": "code",
   "execution_count": 21,
   "metadata": {},
   "outputs": [
    {
     "data": {
      "text/plain": [
       "21"
      ]
     },
     "execution_count": 21,
     "metadata": {},
     "output_type": "execute_result"
    }
   ],
   "source": [
    "delete_user_id = [4, 5, 7, 10, 21, 28, 30, 38, 44, 45, 51, 52] + [18, 20, 31, 40, 42, 57] + [47, 48, 53]\n",
    "len(delete_user_id)"
   ]
  },
  {
   "cell_type": "code",
   "execution_count": 22,
   "metadata": {},
   "outputs": [
    {
     "data": {
      "text/plain": [
       "35"
      ]
     },
     "execution_count": 22,
     "metadata": {},
     "output_type": "execute_result"
    }
   ],
   "source": [
    "len(df_train.user_id.unique()) - len(delete_user_id)"
   ]
  },
  {
   "cell_type": "code",
   "execution_count": 23,
   "metadata": {},
   "outputs": [
    {
     "data": {
      "text/plain": [
       "(28897, 3)"
      ]
     },
     "execution_count": 23,
     "metadata": {},
     "output_type": "execute_result"
    }
   ],
   "source": [
    "df_train = df_train[~df_train['user_id'].isin(delete_user_id)]\n",
    "df_train.shape"
   ]
  },
  {
   "cell_type": "code",
   "execution_count": 24,
   "metadata": {},
   "outputs": [
    {
     "name": "stdout",
     "output_type": "stream",
     "text": [
      "Количество сотрудников в train: 35\n"
     ]
    }
   ],
   "source": [
    "print(f'Количество сотрудников в train: {len(df_train.user_id.unique())}')"
   ]
  },
  {
   "cell_type": "code",
   "execution_count": 25,
   "metadata": {},
   "outputs": [
    {
     "data": {
      "text/html": [
       "<div>\n",
       "<style scoped>\n",
       "    .dataframe tbody tr th:only-of-type {\n",
       "        vertical-align: middle;\n",
       "    }\n",
       "\n",
       "    .dataframe tbody tr th {\n",
       "        vertical-align: top;\n",
       "    }\n",
       "\n",
       "    .dataframe thead th {\n",
       "        text-align: right;\n",
       "    }\n",
       "</style>\n",
       "<table border=\"1\" class=\"dataframe\">\n",
       "  <thead>\n",
       "    <tr style=\"text-align: right;\">\n",
       "      <th></th>\n",
       "      <th>count</th>\n",
       "    </tr>\n",
       "    <tr>\n",
       "      <th>user_id</th>\n",
       "      <th></th>\n",
       "    </tr>\n",
       "  </thead>\n",
       "  <tbody>\n",
       "    <tr>\n",
       "      <th>8</th>\n",
       "      <td>27</td>\n",
       "    </tr>\n",
       "    <tr>\n",
       "      <th>2</th>\n",
       "      <td>39</td>\n",
       "    </tr>\n",
       "    <tr>\n",
       "      <th>36</th>\n",
       "      <td>45</td>\n",
       "    </tr>\n",
       "    <tr>\n",
       "      <th>22</th>\n",
       "      <td>87</td>\n",
       "    </tr>\n",
       "    <tr>\n",
       "      <th>41</th>\n",
       "      <td>110</td>\n",
       "    </tr>\n",
       "    <tr>\n",
       "      <th>43</th>\n",
       "      <td>117</td>\n",
       "    </tr>\n",
       "    <tr>\n",
       "      <th>56</th>\n",
       "      <td>129</td>\n",
       "    </tr>\n",
       "    <tr>\n",
       "      <th>25</th>\n",
       "      <td>238</td>\n",
       "    </tr>\n",
       "    <tr>\n",
       "      <th>23</th>\n",
       "      <td>247</td>\n",
       "    </tr>\n",
       "    <tr>\n",
       "      <th>34</th>\n",
       "      <td>267</td>\n",
       "    </tr>\n",
       "    <tr>\n",
       "      <th>26</th>\n",
       "      <td>279</td>\n",
       "    </tr>\n",
       "    <tr>\n",
       "      <th>24</th>\n",
       "      <td>386</td>\n",
       "    </tr>\n",
       "    <tr>\n",
       "      <th>46</th>\n",
       "      <td>475</td>\n",
       "    </tr>\n",
       "    <tr>\n",
       "      <th>27</th>\n",
       "      <td>523</td>\n",
       "    </tr>\n",
       "    <tr>\n",
       "      <th>35</th>\n",
       "      <td>549</td>\n",
       "    </tr>\n",
       "    <tr>\n",
       "      <th>14</th>\n",
       "      <td>617</td>\n",
       "    </tr>\n",
       "    <tr>\n",
       "      <th>17</th>\n",
       "      <td>648</td>\n",
       "    </tr>\n",
       "    <tr>\n",
       "      <th>3</th>\n",
       "      <td>894</td>\n",
       "    </tr>\n",
       "    <tr>\n",
       "      <th>29</th>\n",
       "      <td>924</td>\n",
       "    </tr>\n",
       "    <tr>\n",
       "      <th>50</th>\n",
       "      <td>965</td>\n",
       "    </tr>\n",
       "    <tr>\n",
       "      <th>54</th>\n",
       "      <td>977</td>\n",
       "    </tr>\n",
       "    <tr>\n",
       "      <th>9</th>\n",
       "      <td>1015</td>\n",
       "    </tr>\n",
       "    <tr>\n",
       "      <th>32</th>\n",
       "      <td>1020</td>\n",
       "    </tr>\n",
       "    <tr>\n",
       "      <th>39</th>\n",
       "      <td>1032</td>\n",
       "    </tr>\n",
       "    <tr>\n",
       "      <th>49</th>\n",
       "      <td>1129</td>\n",
       "    </tr>\n",
       "    <tr>\n",
       "      <th>1</th>\n",
       "      <td>1171</td>\n",
       "    </tr>\n",
       "    <tr>\n",
       "      <th>33</th>\n",
       "      <td>1184</td>\n",
       "    </tr>\n",
       "    <tr>\n",
       "      <th>0</th>\n",
       "      <td>1184</td>\n",
       "    </tr>\n",
       "    <tr>\n",
       "      <th>11</th>\n",
       "      <td>1255</td>\n",
       "    </tr>\n",
       "    <tr>\n",
       "      <th>15</th>\n",
       "      <td>1659</td>\n",
       "    </tr>\n",
       "    <tr>\n",
       "      <th>19</th>\n",
       "      <td>1661</td>\n",
       "    </tr>\n",
       "    <tr>\n",
       "      <th>12</th>\n",
       "      <td>1837</td>\n",
       "    </tr>\n",
       "    <tr>\n",
       "      <th>6</th>\n",
       "      <td>1857</td>\n",
       "    </tr>\n",
       "    <tr>\n",
       "      <th>55</th>\n",
       "      <td>2166</td>\n",
       "    </tr>\n",
       "    <tr>\n",
       "      <th>37</th>\n",
       "      <td>2184</td>\n",
       "    </tr>\n",
       "  </tbody>\n",
       "</table>\n",
       "</div>"
      ],
      "text/plain": [
       "         count\n",
       "user_id       \n",
       "8           27\n",
       "2           39\n",
       "36          45\n",
       "22          87\n",
       "41         110\n",
       "43         117\n",
       "56         129\n",
       "25         238\n",
       "23         247\n",
       "34         267\n",
       "26         279\n",
       "24         386\n",
       "46         475\n",
       "27         523\n",
       "35         549\n",
       "14         617\n",
       "17         648\n",
       "3          894\n",
       "29         924\n",
       "50         965\n",
       "54         977\n",
       "9         1015\n",
       "32        1020\n",
       "39        1032\n",
       "49        1129\n",
       "1         1171\n",
       "33        1184\n",
       "0         1184\n",
       "11        1255\n",
       "15        1659\n",
       "19        1661\n",
       "12        1837\n",
       "6         1857\n",
       "55        2166\n",
       "37        2184"
      ]
     },
     "execution_count": 25,
     "metadata": {},
     "output_type": "execute_result"
    }
   ],
   "source": [
    "df_train.user_id.value_counts(ascending=True).to_frame()"
   ]
  },
  {
   "cell_type": "markdown",
   "metadata": {},
   "source": [
    "Исходя из графиков посещений здания для каждого сотрудника, исключим некоторых из тренировочной выборки."
   ]
  },
  {
   "cell_type": "code",
   "execution_count": null,
   "metadata": {},
   "outputs": [],
   "source": []
  },
  {
   "cell_type": "code",
   "execution_count": 26,
   "metadata": {},
   "outputs": [
    {
     "name": "stdout",
     "output_type": "stream",
     "text": [
      "Количество сотрудников в test: 34\n"
     ]
    }
   ],
   "source": [
    "print(f'Количество сотрудников в test: {len(df_test.user_word.unique())}')"
   ]
  },
  {
   "cell_type": "code",
   "execution_count": 27,
   "metadata": {},
   "outputs": [
    {
     "data": {
      "text/plain": [
       "3"
      ]
     },
     "execution_count": 27,
     "metadata": {},
     "output_type": "execute_result"
    }
   ],
   "source": [
    "# по условию сказано, что в тестовой выборке может быть не более 10% новых сотрудников\n",
    "int(.1 * len(df_test.user_word.unique()))"
   ]
  },
  {
   "cell_type": "code",
   "execution_count": 28,
   "metadata": {},
   "outputs": [],
   "source": [
    "# активность сотрудников в test\n",
    "count_user_word = df_test.user_word.value_counts(ascending=True).to_frame()"
   ]
  },
  {
   "cell_type": "code",
   "execution_count": 29,
   "metadata": {},
   "outputs": [
    {
     "data": {
      "text/html": [
       "<div>\n",
       "<style scoped>\n",
       "    .dataframe tbody tr th:only-of-type {\n",
       "        vertical-align: middle;\n",
       "    }\n",
       "\n",
       "    .dataframe tbody tr th {\n",
       "        vertical-align: top;\n",
       "    }\n",
       "\n",
       "    .dataframe thead th {\n",
       "        text-align: right;\n",
       "    }\n",
       "</style>\n",
       "<table border=\"1\" class=\"dataframe\">\n",
       "  <thead>\n",
       "    <tr style=\"text-align: right;\">\n",
       "      <th>user_word</th>\n",
       "      <th>logistic</th>\n",
       "      <th>blue</th>\n",
       "      <th>lasso</th>\n",
       "      <th>aucroc</th>\n",
       "      <th>regression</th>\n",
       "      <th>y</th>\n",
       "      <th>precision</th>\n",
       "      <th>coefficient</th>\n",
       "      <th>minimization</th>\n",
       "      <th>mse</th>\n",
       "      <th>target</th>\n",
       "      <th>distributed</th>\n",
       "      <th>ols</th>\n",
       "      <th>tstat</th>\n",
       "      <th>ridge</th>\n",
       "      <th>matrix</th>\n",
       "      <th>pvalue</th>\n",
       "      <th>fit</th>\n",
       "      <th>r2</th>\n",
       "      <th>linear</th>\n",
       "      <th>predict</th>\n",
       "      <th>recall</th>\n",
       "      <th>residual</th>\n",
       "      <th>categorical</th>\n",
       "      <th>gini</th>\n",
       "      <th>significant</th>\n",
       "      <th>independent</th>\n",
       "      <th>collinear</th>\n",
       "      <th>x</th>\n",
       "      <th>epsilon</th>\n",
       "      <th>binary</th>\n",
       "      <th>sigmoid</th>\n",
       "      <th>loss</th>\n",
       "      <th>f1</th>\n",
       "    </tr>\n",
       "  </thead>\n",
       "  <tbody>\n",
       "    <tr>\n",
       "      <th>count</th>\n",
       "      <td>5</td>\n",
       "      <td>12</td>\n",
       "      <td>33</td>\n",
       "      <td>37</td>\n",
       "      <td>50</td>\n",
       "      <td>50</td>\n",
       "      <td>54</td>\n",
       "      <td>56</td>\n",
       "      <td>95</td>\n",
       "      <td>103</td>\n",
       "      <td>111</td>\n",
       "      <td>117</td>\n",
       "      <td>139</td>\n",
       "      <td>139</td>\n",
       "      <td>141</td>\n",
       "      <td>157</td>\n",
       "      <td>181</td>\n",
       "      <td>183</td>\n",
       "      <td>185</td>\n",
       "      <td>199</td>\n",
       "      <td>208</td>\n",
       "      <td>210</td>\n",
       "      <td>224</td>\n",
       "      <td>245</td>\n",
       "      <td>253</td>\n",
       "      <td>277</td>\n",
       "      <td>278</td>\n",
       "      <td>298</td>\n",
       "      <td>298</td>\n",
       "      <td>336</td>\n",
       "      <td>362</td>\n",
       "      <td>432</td>\n",
       "      <td>458</td>\n",
       "      <td>694</td>\n",
       "    </tr>\n",
       "  </tbody>\n",
       "</table>\n",
       "</div>"
      ],
      "text/plain": [
       "user_word  logistic  blue  lasso  aucroc  regression   y  precision  \\\n",
       "count             5    12     33      37          50  50         54   \n",
       "\n",
       "user_word  coefficient  minimization  mse  target  distributed  ols  tstat  \\\n",
       "count               56            95  103     111          117  139    139   \n",
       "\n",
       "user_word  ridge  matrix  pvalue  fit   r2  linear  predict  recall  residual  \\\n",
       "count        141     157     181  183  185     199      208     210       224   \n",
       "\n",
       "user_word  categorical  gini  significant  independent  collinear    x  \\\n",
       "count              245   253          277          278        298  298   \n",
       "\n",
       "user_word  epsilon  binary  sigmoid  loss   f1  \n",
       "count          336     362      432   458  694  "
      ]
     },
     "execution_count": 29,
     "metadata": {},
     "output_type": "execute_result"
    }
   ],
   "source": [
    "count_user_word.T"
   ]
  },
  {
   "cell_type": "markdown",
   "metadata": {},
   "source": [
    "Турникеты"
   ]
  },
  {
   "cell_type": "code",
   "execution_count": 30,
   "metadata": {},
   "outputs": [
    {
     "name": "stdout",
     "output_type": "stream",
     "text": [
      "Количество турникетов в train: 17\n"
     ]
    },
    {
     "data": {
      "text/html": [
       "<div>\n",
       "<style scoped>\n",
       "    .dataframe tbody tr th:only-of-type {\n",
       "        vertical-align: middle;\n",
       "    }\n",
       "\n",
       "    .dataframe tbody tr th {\n",
       "        vertical-align: top;\n",
       "    }\n",
       "\n",
       "    .dataframe thead th {\n",
       "        text-align: right;\n",
       "    }\n",
       "</style>\n",
       "<table border=\"1\" class=\"dataframe\">\n",
       "  <thead>\n",
       "    <tr style=\"text-align: right;\">\n",
       "      <th>gate_id</th>\n",
       "      <th>14</th>\n",
       "      <th>0</th>\n",
       "      <th>16</th>\n",
       "      <th>1</th>\n",
       "      <th>8</th>\n",
       "      <th>-1</th>\n",
       "      <th>15</th>\n",
       "      <th>12</th>\n",
       "      <th>13</th>\n",
       "      <th>6</th>\n",
       "      <th>9</th>\n",
       "      <th>7</th>\n",
       "      <th>11</th>\n",
       "      <th>5</th>\n",
       "      <th>10</th>\n",
       "      <th>3</th>\n",
       "      <th>4</th>\n",
       "    </tr>\n",
       "  </thead>\n",
       "  <tbody>\n",
       "    <tr>\n",
       "      <th>count</th>\n",
       "      <td>1</td>\n",
       "      <td>2</td>\n",
       "      <td>3</td>\n",
       "      <td>5</td>\n",
       "      <td>21</td>\n",
       "      <td>23</td>\n",
       "      <td>298</td>\n",
       "      <td>388</td>\n",
       "      <td>746</td>\n",
       "      <td>1397</td>\n",
       "      <td>1541</td>\n",
       "      <td>2475</td>\n",
       "      <td>3442</td>\n",
       "      <td>3884</td>\n",
       "      <td>4001</td>\n",
       "      <td>4112</td>\n",
       "      <td>6558</td>\n",
       "    </tr>\n",
       "  </tbody>\n",
       "</table>\n",
       "</div>"
      ],
      "text/plain": [
       "gate_id   14   0    16   1    8   -1    15   12   13    6     9     7     11  \\\n",
       "count      1    2    3    5   21   23  298  388  746  1397  1541  2475  3442   \n",
       "\n",
       "gate_id    5     10    3     4   \n",
       "count    3884  4001  4112  6558  "
      ]
     },
     "execution_count": 30,
     "metadata": {},
     "output_type": "execute_result"
    }
   ],
   "source": [
    "print(f'Количество турникетов в train: {len(df_train.gate_id.unique())}')\n",
    "# частота использования турникетов в train\n",
    "count_gate_id_train = df_train.gate_id.value_counts(ascending=True).to_frame()\n",
    "count_gate_id_train.T"
   ]
  },
  {
   "cell_type": "code",
   "execution_count": 31,
   "metadata": {},
   "outputs": [
    {
     "name": "stdout",
     "output_type": "stream",
     "text": [
      "Количество турникетов в test: 16\n"
     ]
    },
    {
     "data": {
      "text/html": [
       "<div>\n",
       "<style scoped>\n",
       "    .dataframe tbody tr th:only-of-type {\n",
       "        vertical-align: middle;\n",
       "    }\n",
       "\n",
       "    .dataframe tbody tr th {\n",
       "        vertical-align: top;\n",
       "    }\n",
       "\n",
       "    .dataframe thead th {\n",
       "        text-align: right;\n",
       "    }\n",
       "</style>\n",
       "<table border=\"1\" class=\"dataframe\">\n",
       "  <thead>\n",
       "    <tr style=\"text-align: right;\">\n",
       "      <th>gate_id</th>\n",
       "      <th>14</th>\n",
       "      <th>-1</th>\n",
       "      <th>1</th>\n",
       "      <th>2</th>\n",
       "      <th>8</th>\n",
       "      <th>15</th>\n",
       "      <th>12</th>\n",
       "      <th>6</th>\n",
       "      <th>13</th>\n",
       "      <th>9</th>\n",
       "      <th>7</th>\n",
       "      <th>11</th>\n",
       "      <th>5</th>\n",
       "      <th>3</th>\n",
       "      <th>10</th>\n",
       "      <th>4</th>\n",
       "    </tr>\n",
       "  </thead>\n",
       "  <tbody>\n",
       "    <tr>\n",
       "      <th>count</th>\n",
       "      <td>1</td>\n",
       "      <td>1</td>\n",
       "      <td>2</td>\n",
       "      <td>4</td>\n",
       "      <td>10</td>\n",
       "      <td>102</td>\n",
       "      <td>120</td>\n",
       "      <td>282</td>\n",
       "      <td>310</td>\n",
       "      <td>394</td>\n",
       "      <td>540</td>\n",
       "      <td>762</td>\n",
       "      <td>853</td>\n",
       "      <td>893</td>\n",
       "      <td>915</td>\n",
       "      <td>1431</td>\n",
       "    </tr>\n",
       "  </tbody>\n",
       "</table>\n",
       "</div>"
      ],
      "text/plain": [
       "gate_id   14  -1    1    2    8    15   12   6    13   9    7    11   5    3   \\\n",
       "count      1    1    2    4   10  102  120  282  310  394  540  762  853  893   \n",
       "\n",
       "gate_id   10    4   \n",
       "count    915  1431  "
      ]
     },
     "execution_count": 31,
     "metadata": {},
     "output_type": "execute_result"
    }
   ],
   "source": [
    "print(f'Количество турникетов в test: {len(df_test.gate_id.unique())}')\n",
    "# частота использования турникетов в test\n",
    "count_gate_id_test = df_test.gate_id.value_counts(ascending=True).to_frame()\n",
    "count_gate_id_test.T"
   ]
  },
  {
   "cell_type": "code",
   "execution_count": 32,
   "metadata": {},
   "outputs": [
    {
     "data": {
      "text/plain": [
       "{0, 16}"
      ]
     },
     "execution_count": 32,
     "metadata": {},
     "output_type": "execute_result"
    }
   ],
   "source": [
    "# id турникетов, которые есть в train, но нет в test\n",
    "set(df_train.gate_id.unique()) - set(df_test.gate_id.unique())"
   ]
  },
  {
   "cell_type": "code",
   "execution_count": 33,
   "metadata": {},
   "outputs": [
    {
     "data": {
      "text/plain": [
       "{2}"
      ]
     },
     "execution_count": 33,
     "metadata": {},
     "output_type": "execute_result"
    }
   ],
   "source": [
    "# id турникетов, которые есть в test, но нет в train\n",
    "set(df_test.gate_id.unique()) - set(df_train.gate_id.unique())"
   ]
  },
  {
   "cell_type": "markdown",
   "metadata": {},
   "source": [
    "Поскольку `gate_id` мы будем использовать в качестве признака, редкие категории (менее 5 записей) нужно удалить."
   ]
  },
  {
   "cell_type": "code",
   "execution_count": 34,
   "metadata": {},
   "outputs": [
    {
     "data": {
      "text/plain": [
       "{-1, 0, 1, 2, 14, 16}"
      ]
     },
     "execution_count": 34,
     "metadata": {},
     "output_type": "execute_result"
    }
   ],
   "source": [
    "delete_gate_id = set(count_gate_id_train.query('count < 5').index) | set(count_gate_id_test.query('count < 5').index)\n",
    "delete_gate_id"
   ]
  },
  {
   "cell_type": "code",
   "execution_count": 35,
   "metadata": {},
   "outputs": [],
   "source": [
    "df_train = df_train.query('gate_id not in @delete_gate_id').reset_index(drop=True)\n",
    "df_test = df_test.query('gate_id not in @delete_gate_id').reset_index(drop=True)"
   ]
  },
  {
   "cell_type": "code",
   "execution_count": 36,
   "metadata": {},
   "outputs": [
    {
     "data": {
      "text/plain": [
       "(6612, 3)"
      ]
     },
     "execution_count": 36,
     "metadata": {},
     "output_type": "execute_result"
    }
   ],
   "source": [
    "df_test.shape"
   ]
  },
  {
   "cell_type": "markdown",
   "metadata": {},
   "source": [
    "# Генерирование признаков"
   ]
  },
  {
   "cell_type": "code",
   "execution_count": 37,
   "metadata": {},
   "outputs": [],
   "source": [
    "def make_features(df):\n",
    "    df = df.loc[:]\n",
    "    # отсортируем датафрейм для удобства генерирования признаков\n",
    "    # потом отсортируем только по дате\n",
    "    df = df.sort_values(['user_id', 'ts']).reset_index(drop=True)\n",
    "    # временные признаки\n",
    "    df['date'] = df.ts.dt.normalize()\n",
    "    df['day_of_month'] = df.ts.dt.day\n",
    "    df['hour'] = df.ts.dt.hour\n",
    "    df['total_minutes'] = df.hour * 60 + df.ts.dt.minute\n",
    "    df['total_seconds'] = df.total_minutes * 60 + df.ts.dt.second\n",
    "    df['week_number'] = df.ts.dt.isocalendar().week             # неделя начинается с пн. Вспомогательный признак\n",
    "    df['day_of_week'] = df.ts.dt.dayofweek                      # 0 = пн.\n",
    "    df['is_weekend'] = df.day_of_week >= 5\n",
    "    df['time_of_day'] = np.select(\n",
    "            condlist=[df['hour'] < 6, df['hour'] < 12, df['hour'] < 18],\n",
    "            choicelist=['night', 'morning', 'afternoon'],\n",
    "            default='evening',\n",
    "    )       # время суток\n",
    "    df['is_month_start'] = df['ts'].dt.is_month_start\n",
    "    df['is_month_end'] = df['ts'].dt.is_month_end\n",
    "\n",
    "    # для удобства расчетов\n",
    "    grouped_data = df.groupby(['user_id', 'date'])\n",
    "    # число проходов сотрудником ч/з турникуты в день\n",
    "    df['pass_cnt_per_day'] = grouped_data['gate_id'].transform('size')\n",
    "    # число проходов через конкретный турникет в конкретный день\n",
    "    df['daily_gate_pass_count'] = df.groupby(['user_id', 'date', 'gate_id'])['gate_id'].transform('size')\n",
    "    # вероятность прохода через конкретный турникет в конкретный день\n",
    "    df['probability_gate_id'] = df['daily_gate_pass_count'] / df['pass_cnt_per_day']\n",
    "    # количество сотрудников, вошедших в конкретный день в здание\n",
    "    df['cnt_users_per_day'] = df.groupby('date')['user_id'].transform('nunique')\n",
    "    # количество сотрудников, вошедших в конкретную неделю в здание\n",
    "    df['cnt_users_per_week'] = df.groupby('week_number')['user_id'].transform('nunique')\n",
    "    # индекс дневной явки сотрудника\n",
    "    df['daily_attendance_index'] = df['cnt_users_per_day'] / df['cnt_users_per_week']\n",
    "    # количество дней в конкретную неделю, в которые сотрудник заходил в здание\n",
    "    df['cnt_days_per_week'] = df.groupby(['user_id', 'week_number'])['date'].transform('nunique')\n",
    "\n",
    "    # количество уникальных турникетов, через которые прошел сотрудник за день\n",
    "    df['nunique_gate_per_day'] = grouped_data['gate_id'].transform('nunique')\n",
    "    # количество уникальных турникетов, через которые прошел сотрудник за неделю\n",
    "    df['nunique_gate_per_week'] = df.groupby(['user_id', 'week_number'])['gate_id'].transform('nunique')\n",
    "\n",
    "\n",
    "    # время прихода на работу (количество минут от полуночи)\n",
    "    df['entry_time'] = grouped_data['ts'].transform('min')\n",
    "    df['entry_time'] = ((df['entry_time'] - df['date']).dt.total_seconds() // 60).astype('int')\n",
    "    # время ухода с работы (количество минут от полуночи)\n",
    "    df['exit_time'] = grouped_data['ts'].transform('max')\n",
    "    df['exit_time'] = ((df['exit_time'] - df['date']).dt.total_seconds() // 60).astype('int')   # Вспомогательный признак\n",
    "    # продолжительность рабочего времени в минутах\n",
    "    df['working_time_per_day'] = df['exit_time'] - df['entry_time']\n",
    "    # турникет, через который сотрудник зашел в здание в конкретный день\n",
    "    df['entrance_gate_id'] = grouped_data['gate_id'].transform('first')\n",
    "    # турникет, через который сотрудник вышел из здания в конкретный день\n",
    "    df['exit_gate_id'] = grouped_data['gate_id'].transform('last')\n",
    "    # продолжительность рабочего времени за неделю в минутах (working_time_per_week)\n",
    "    df_working_time_per_week = df.groupby(['user_id', 'date'], as_index=False)[['week_number', 'working_time_per_day']].first()\n",
    "    df_working_time_per_week = df_working_time_per_week.groupby(['user_id', 'week_number'], as_index=False)['working_time_per_day'].sum()\n",
    "    df_working_time_per_week = df_working_time_per_week.rename(columns={'working_time_per_day': 'working_time_per_week'})\n",
    "    df = pd.merge(df, df_working_time_per_week, on=['user_id', 'week_number'], how='left')\n",
    "    # индекс дневной нагрузки сотрудника - отношение минут работы за день к минутам работы за неделю\n",
    "    df['daily_workload_index'] = df['working_time_per_day'] / df['working_time_per_week']\n",
    "    # на случай, когда working_time_per_day = 0 и working_time_per_week = 0\n",
    "    df['daily_workload_index'] = df['daily_workload_index'].fillna(0)\n",
    "\n",
    "    for i in range(1, 6):\n",
    "        # 5 предыдущих турникетов\n",
    "        df[f'gate_id_lag_{i}'] = grouped_data['gate_id'].shift(i, fill_value=-100)\n",
    "        # 5 последующих турникетов\n",
    "        df[f'gate_id_{i}'] = grouped_data['gate_id'].shift(-i, fill_value=-200)\n",
    "        # разница в секундах между текущей записью и пятью предыдущими\n",
    "        df[f'sec_btw_lag_{i}'] = df['total_seconds'] - grouped_data['total_seconds'].shift(i)\n",
    "        df[f'sec_btw_lag_{i}'] = df[f'sec_btw_lag_{i}'].fillna(-1000).astype('int')\n",
    "        # разница в секундах между текущей записью и пятью следующими\n",
    "        df[f'sec_btw_{i}'] = df['total_seconds'] - grouped_data['total_seconds'].shift(-i)\n",
    "        df[f'sec_btw_{i}'] = df[f'sec_btw_{i}'].fillna(1000).astype('int')\n",
    "\n",
    "    # метка gate_id, совпадающего с предыдущим, промежуток между срабатываниями равен 1 секунде\n",
    "    df['repeat_gate_1s'] = df['gate_id'].eq(df['gate_id_lag_1']) & df['sec_btw_lag_1'].eq(1)\n",
    "    # -//- 2 секундам\n",
    "    df['repeat_gate_2s'] = df['gate_id'].eq(df['gate_id_lag_1']) & df['sec_btw_lag_1'].eq(2)\n",
    "    # -//- 3 секундам\n",
    "    df['repeat_gate_3s'] = df['gate_id'].eq(df['gate_id_lag_1']) & df['sec_btw_lag_1'].eq(3)\n",
    "    # -//- 4 секундам\n",
    "    df['repeat_gate_4s'] = df['gate_id'].eq(df['gate_id_lag_1']) & df['sec_btw_lag_1'].eq(4)\n",
    "    # -//- от 5 секунд\n",
    "    df['repeat_gate_ge_5s'] = df['gate_id'].eq(df['gate_id_lag_1']) & df['sec_btw_lag_1'].ge(5)\n",
    "    # для удобства расчетов\n",
    "    grouped_data = df.groupby(['user_id', 'date'])\n",
    "    # количество повторных срабатываний турникетов для user_id в конкретный день, промежуток между срабатываниями равен 1 секунде\n",
    "    df['cnt_repeat_gate_1s'] = grouped_data['repeat_gate_1s'].transform('sum')\n",
    "    # -//- 2 секундам\n",
    "    df['cnt_repeat_gate_2s'] = grouped_data['repeat_gate_2s'].transform('sum')\n",
    "    # -//- 2 секундам\n",
    "    df['cnt_repeat_gate_3s'] = grouped_data['repeat_gate_3s'].transform('sum')\n",
    "    # -//- 2 секундам\n",
    "    df['cnt_repeat_gate_4s'] = grouped_data['repeat_gate_4s'].transform('sum')\n",
    "    # -//- от 5 секунд\n",
    "    df['cnt_repeat_gate_ge_5s'] = grouped_data['repeat_gate_ge_5s'].transform('sum')\n",
    "\n",
    "\n",
    "    # маршрут – содержит информацию о соседних турникетах, через которые прошел сотрудник (направление не учитывается)\n",
    "    df['route'] = df.apply(lambda row: str(sorted([row['gate_id_lag_1'], row['gate_id']])), axis=1)\n",
    "    # если сотрудник пришел с улицы\n",
    "    df.loc[df['route'].str.contains('-100'), 'route'] = 'not_route'\n",
    "\n",
    "    # вспомогательный признак\n",
    "    df['temp_sec_btw_lag_1'] = df['sec_btw_lag_1']\n",
    "    # если сотрудник пришел с улицы\n",
    "    df.loc[df['temp_sec_btw_lag_1'] < 0, 'temp_sec_btw_lag_1'] = 0\n",
    "    # накопленное время нахождения в здании к моменту прохода через турникет в течение дня\n",
    "    df['cumtime_per_day'] = df.groupby(['user_id', 'date'])['temp_sec_btw_lag_1'].cumsum()\n",
    "    # накопленное время нахождения на конкретном маршруте в течение дня\n",
    "    df['cumtime_at_route_per_day'] = df.groupby(['user_id', 'date', 'route'])['temp_sec_btw_lag_1'].cumsum()\n",
    "\n",
    "    # самый часто используемый турникет за день\n",
    "    df['most_frequent_gate_per_day'] = df.groupby(['user_id', 'date'])['gate_id'].transform(lambda x: x.value_counts().idxmax())\n",
    "    # самый часто используемый турникет за неделю\n",
    "    df['most_frequent_gate_per_week'] = df.groupby(['user_id', 'week_number'])['gate_id'].transform(lambda x: x.value_counts().idxmax())\n",
    "    # самый часто используемый маршрут за день\n",
    "    df['most_frequent_route_per_day'] = df.groupby(['user_id', 'date'])['route'].transform(lambda x: x.value_counts().idxmax())\n",
    "    # самый часто используемый маршрут за неделю\n",
    "    df['most_frequent_route_per_week'] = df.groupby(['user_id', 'week_number'])['route'].transform(lambda x: x.value_counts().idxmax())\n",
    "\n",
    "    # самый часто используемый турникет для входа в здание за неделю\n",
    "    df['most_frequent_entrance_gate_per_week'] = df.groupby(['user_id', 'week_number'])['entrance_gate_id'].transform(lambda x: x.value_counts().idxmax())\n",
    "    # самый часто используемый турникет для выхода из здания за неделю\n",
    "    df['most_frequent_exit_gate_per_week'] = df.groupby(['user_id', 'week_number'])['exit_gate_id'].transform(lambda x: x.value_counts().idxmax())\n",
    "\n",
    "    # среднее время, затраченное на маршрут в течение недели\n",
    "    df['weekly_route_avg_time'] = df.groupby(['user_id', 'week_number', 'route'])['temp_sec_btw_lag_1'].transform('mean')\n",
    "    # стандартное отклонение времени, затраченного на маршрут в течение недели\n",
    "    # df['weekly_route_std_time'] = df.groupby(['user_id', 'week_number', 'route'])['temp_sec_btw_lag_1'].transform('std').fillna(0)\n",
    "    # среднее время, затраченное на маршрут\n",
    "    df['route_avg_time'] = df.groupby(['user_id', 'route'])['temp_sec_btw_lag_1'].transform('mean')\n",
    "    # стандартное отклонение времени, затраченного на маршрут\n",
    "    # df['route_std_time'] = df.groupby(['user_id', 'route'])['temp_sec_btw_lag_1'].transform('std').fillna(0)\n",
    "\n",
    "    # количество уникальных маршрутов, по которым прошел сотрудник за неделю\n",
    "    df['nunique_route_per_week'] = df.groupby(['user_id', 'week_number'])['route'].transform('nunique')\n",
    "\n",
    "    return df"
   ]
  },
  {
   "cell_type": "code",
   "execution_count": 38,
   "metadata": {},
   "outputs": [
    {
     "data": {
      "text/html": [
       "<div>\n",
       "<style scoped>\n",
       "    .dataframe tbody tr th:only-of-type {\n",
       "        vertical-align: middle;\n",
       "    }\n",
       "\n",
       "    .dataframe tbody tr th {\n",
       "        vertical-align: top;\n",
       "    }\n",
       "\n",
       "    .dataframe thead th {\n",
       "        text-align: right;\n",
       "    }\n",
       "</style>\n",
       "<table border=\"1\" class=\"dataframe\">\n",
       "  <thead>\n",
       "    <tr style=\"text-align: right;\">\n",
       "      <th></th>\n",
       "      <th>user_id</th>\n",
       "      <th>ts</th>\n",
       "      <th>gate_id</th>\n",
       "      <th>date</th>\n",
       "      <th>day_of_month</th>\n",
       "      <th>hour</th>\n",
       "      <th>total_minutes</th>\n",
       "      <th>total_seconds</th>\n",
       "      <th>week_number</th>\n",
       "      <th>day_of_week</th>\n",
       "      <th>is_weekend</th>\n",
       "      <th>time_of_day</th>\n",
       "      <th>is_month_start</th>\n",
       "      <th>is_month_end</th>\n",
       "      <th>pass_cnt_per_day</th>\n",
       "      <th>daily_gate_pass_count</th>\n",
       "      <th>probability_gate_id</th>\n",
       "      <th>cnt_users_per_day</th>\n",
       "      <th>cnt_users_per_week</th>\n",
       "      <th>daily_attendance_index</th>\n",
       "      <th>cnt_days_per_week</th>\n",
       "      <th>nunique_gate_per_day</th>\n",
       "      <th>nunique_gate_per_week</th>\n",
       "      <th>entry_time</th>\n",
       "      <th>exit_time</th>\n",
       "      <th>working_time_per_day</th>\n",
       "      <th>entrance_gate_id</th>\n",
       "      <th>exit_gate_id</th>\n",
       "      <th>working_time_per_week</th>\n",
       "      <th>daily_workload_index</th>\n",
       "      <th>gate_id_lag_1</th>\n",
       "      <th>gate_id_1</th>\n",
       "      <th>sec_btw_lag_1</th>\n",
       "      <th>sec_btw_1</th>\n",
       "      <th>gate_id_lag_2</th>\n",
       "      <th>gate_id_2</th>\n",
       "      <th>sec_btw_lag_2</th>\n",
       "      <th>sec_btw_2</th>\n",
       "      <th>gate_id_lag_3</th>\n",
       "      <th>gate_id_3</th>\n",
       "      <th>sec_btw_lag_3</th>\n",
       "      <th>sec_btw_3</th>\n",
       "      <th>gate_id_lag_4</th>\n",
       "      <th>gate_id_4</th>\n",
       "      <th>sec_btw_lag_4</th>\n",
       "      <th>sec_btw_4</th>\n",
       "      <th>gate_id_lag_5</th>\n",
       "      <th>gate_id_5</th>\n",
       "      <th>sec_btw_lag_5</th>\n",
       "      <th>sec_btw_5</th>\n",
       "      <th>repeat_gate_1s</th>\n",
       "      <th>repeat_gate_2s</th>\n",
       "      <th>repeat_gate_3s</th>\n",
       "      <th>repeat_gate_4s</th>\n",
       "      <th>repeat_gate_ge_5s</th>\n",
       "      <th>cnt_repeat_gate_1s</th>\n",
       "      <th>cnt_repeat_gate_2s</th>\n",
       "      <th>cnt_repeat_gate_3s</th>\n",
       "      <th>cnt_repeat_gate_4s</th>\n",
       "      <th>cnt_repeat_gate_ge_5s</th>\n",
       "      <th>route</th>\n",
       "      <th>temp_sec_btw_lag_1</th>\n",
       "      <th>cumtime_per_day</th>\n",
       "      <th>cumtime_at_route_per_day</th>\n",
       "      <th>most_frequent_gate_per_day</th>\n",
       "      <th>most_frequent_gate_per_week</th>\n",
       "      <th>most_frequent_route_per_day</th>\n",
       "      <th>most_frequent_route_per_week</th>\n",
       "      <th>most_frequent_entrance_gate_per_week</th>\n",
       "      <th>most_frequent_exit_gate_per_week</th>\n",
       "      <th>weekly_route_avg_time</th>\n",
       "      <th>route_avg_time</th>\n",
       "      <th>nunique_route_per_week</th>\n",
       "    </tr>\n",
       "  </thead>\n",
       "  <tbody>\n",
       "    <tr>\n",
       "      <th>0</th>\n",
       "      <td>0</td>\n",
       "      <td>2022-07-29 10:30:17</td>\n",
       "      <td>3</td>\n",
       "      <td>2022-07-29</td>\n",
       "      <td>29</td>\n",
       "      <td>10</td>\n",
       "      <td>630</td>\n",
       "      <td>37817</td>\n",
       "      <td>30</td>\n",
       "      <td>4</td>\n",
       "      <td>False</td>\n",
       "      <td>morning</td>\n",
       "      <td>False</td>\n",
       "      <td>False</td>\n",
       "      <td>12</td>\n",
       "      <td>4</td>\n",
       "      <td>0.33</td>\n",
       "      <td>18</td>\n",
       "      <td>18</td>\n",
       "      <td>1.00</td>\n",
       "      <td>1</td>\n",
       "      <td>6</td>\n",
       "      <td>6</td>\n",
       "      <td>630</td>\n",
       "      <td>1126</td>\n",
       "      <td>496</td>\n",
       "      <td>3</td>\n",
       "      <td>4</td>\n",
       "      <td>496</td>\n",
       "      <td>1.00</td>\n",
       "      <td>-100</td>\n",
       "      <td>3</td>\n",
       "      <td>-1000</td>\n",
       "      <td>-1</td>\n",
       "      <td>-100</td>\n",
       "      <td>11</td>\n",
       "      <td>-1000</td>\n",
       "      <td>-10144</td>\n",
       "      <td>-100</td>\n",
       "      <td>6</td>\n",
       "      <td>-1000</td>\n",
       "      <td>-10171</td>\n",
       "      <td>-100</td>\n",
       "      <td>6</td>\n",
       "      <td>-1000</td>\n",
       "      <td>-10172</td>\n",
       "      <td>-100</td>\n",
       "      <td>7</td>\n",
       "      <td>-1000</td>\n",
       "      <td>-13798</td>\n",
       "      <td>False</td>\n",
       "      <td>False</td>\n",
       "      <td>False</td>\n",
       "      <td>False</td>\n",
       "      <td>False</td>\n",
       "      <td>2</td>\n",
       "      <td>2</td>\n",
       "      <td>0</td>\n",
       "      <td>0</td>\n",
       "      <td>0</td>\n",
       "      <td>not_route</td>\n",
       "      <td>0</td>\n",
       "      <td>0</td>\n",
       "      <td>0</td>\n",
       "      <td>3</td>\n",
       "      <td>3</td>\n",
       "      <td>[3, 3]</td>\n",
       "      <td>[3, 3]</td>\n",
       "      <td>3</td>\n",
       "      <td>4</td>\n",
       "      <td>0.00</td>\n",
       "      <td>0.00</td>\n",
       "      <td>11</td>\n",
       "    </tr>\n",
       "    <tr>\n",
       "      <th>1</th>\n",
       "      <td>0</td>\n",
       "      <td>2022-07-29 10:30:18</td>\n",
       "      <td>3</td>\n",
       "      <td>2022-07-29</td>\n",
       "      <td>29</td>\n",
       "      <td>10</td>\n",
       "      <td>630</td>\n",
       "      <td>37818</td>\n",
       "      <td>30</td>\n",
       "      <td>4</td>\n",
       "      <td>False</td>\n",
       "      <td>morning</td>\n",
       "      <td>False</td>\n",
       "      <td>False</td>\n",
       "      <td>12</td>\n",
       "      <td>4</td>\n",
       "      <td>0.33</td>\n",
       "      <td>18</td>\n",
       "      <td>18</td>\n",
       "      <td>1.00</td>\n",
       "      <td>1</td>\n",
       "      <td>6</td>\n",
       "      <td>6</td>\n",
       "      <td>630</td>\n",
       "      <td>1126</td>\n",
       "      <td>496</td>\n",
       "      <td>3</td>\n",
       "      <td>4</td>\n",
       "      <td>496</td>\n",
       "      <td>1.00</td>\n",
       "      <td>3</td>\n",
       "      <td>11</td>\n",
       "      <td>1</td>\n",
       "      <td>-10143</td>\n",
       "      <td>-100</td>\n",
       "      <td>6</td>\n",
       "      <td>-1000</td>\n",
       "      <td>-10170</td>\n",
       "      <td>-100</td>\n",
       "      <td>6</td>\n",
       "      <td>-1000</td>\n",
       "      <td>-10171</td>\n",
       "      <td>-100</td>\n",
       "      <td>7</td>\n",
       "      <td>-1000</td>\n",
       "      <td>-13797</td>\n",
       "      <td>-100</td>\n",
       "      <td>3</td>\n",
       "      <td>-1000</td>\n",
       "      <td>-13868</td>\n",
       "      <td>True</td>\n",
       "      <td>False</td>\n",
       "      <td>False</td>\n",
       "      <td>False</td>\n",
       "      <td>False</td>\n",
       "      <td>2</td>\n",
       "      <td>2</td>\n",
       "      <td>0</td>\n",
       "      <td>0</td>\n",
       "      <td>0</td>\n",
       "      <td>[3, 3]</td>\n",
       "      <td>1</td>\n",
       "      <td>1</td>\n",
       "      <td>1</td>\n",
       "      <td>3</td>\n",
       "      <td>3</td>\n",
       "      <td>[3, 3]</td>\n",
       "      <td>[3, 3]</td>\n",
       "      <td>3</td>\n",
       "      <td>4</td>\n",
       "      <td>1.50</td>\n",
       "      <td>1.92</td>\n",
       "      <td>11</td>\n",
       "    </tr>\n",
       "    <tr>\n",
       "      <th>2</th>\n",
       "      <td>0</td>\n",
       "      <td>2022-07-29 13:19:21</td>\n",
       "      <td>11</td>\n",
       "      <td>2022-07-29</td>\n",
       "      <td>29</td>\n",
       "      <td>13</td>\n",
       "      <td>799</td>\n",
       "      <td>47961</td>\n",
       "      <td>30</td>\n",
       "      <td>4</td>\n",
       "      <td>False</td>\n",
       "      <td>afternoon</td>\n",
       "      <td>False</td>\n",
       "      <td>False</td>\n",
       "      <td>12</td>\n",
       "      <td>2</td>\n",
       "      <td>0.17</td>\n",
       "      <td>18</td>\n",
       "      <td>18</td>\n",
       "      <td>1.00</td>\n",
       "      <td>1</td>\n",
       "      <td>6</td>\n",
       "      <td>6</td>\n",
       "      <td>630</td>\n",
       "      <td>1126</td>\n",
       "      <td>496</td>\n",
       "      <td>3</td>\n",
       "      <td>4</td>\n",
       "      <td>496</td>\n",
       "      <td>1.00</td>\n",
       "      <td>3</td>\n",
       "      <td>6</td>\n",
       "      <td>10143</td>\n",
       "      <td>-27</td>\n",
       "      <td>3</td>\n",
       "      <td>6</td>\n",
       "      <td>10144</td>\n",
       "      <td>-28</td>\n",
       "      <td>-100</td>\n",
       "      <td>7</td>\n",
       "      <td>-1000</td>\n",
       "      <td>-3654</td>\n",
       "      <td>-100</td>\n",
       "      <td>3</td>\n",
       "      <td>-1000</td>\n",
       "      <td>-3725</td>\n",
       "      <td>-100</td>\n",
       "      <td>3</td>\n",
       "      <td>-1000</td>\n",
       "      <td>-3727</td>\n",
       "      <td>False</td>\n",
       "      <td>False</td>\n",
       "      <td>False</td>\n",
       "      <td>False</td>\n",
       "      <td>False</td>\n",
       "      <td>2</td>\n",
       "      <td>2</td>\n",
       "      <td>0</td>\n",
       "      <td>0</td>\n",
       "      <td>0</td>\n",
       "      <td>[3, 11]</td>\n",
       "      <td>10143</td>\n",
       "      <td>10144</td>\n",
       "      <td>10143</td>\n",
       "      <td>3</td>\n",
       "      <td>3</td>\n",
       "      <td>[3, 3]</td>\n",
       "      <td>[3, 3]</td>\n",
       "      <td>3</td>\n",
       "      <td>4</td>\n",
       "      <td>10,143.00</td>\n",
       "      <td>12,404.29</td>\n",
       "      <td>11</td>\n",
       "    </tr>\n",
       "  </tbody>\n",
       "</table>\n",
       "</div>"
      ],
      "text/plain": [
       "   user_id                  ts  gate_id       date  day_of_month  hour  \\\n",
       "0        0 2022-07-29 10:30:17        3 2022-07-29            29    10   \n",
       "1        0 2022-07-29 10:30:18        3 2022-07-29            29    10   \n",
       "2        0 2022-07-29 13:19:21       11 2022-07-29            29    13   \n",
       "\n",
       "   total_minutes  total_seconds  week_number  day_of_week  is_weekend  \\\n",
       "0            630          37817           30            4       False   \n",
       "1            630          37818           30            4       False   \n",
       "2            799          47961           30            4       False   \n",
       "\n",
       "  time_of_day  is_month_start  is_month_end  pass_cnt_per_day  \\\n",
       "0     morning           False         False                12   \n",
       "1     morning           False         False                12   \n",
       "2   afternoon           False         False                12   \n",
       "\n",
       "   daily_gate_pass_count  probability_gate_id  cnt_users_per_day  \\\n",
       "0                      4                 0.33                 18   \n",
       "1                      4                 0.33                 18   \n",
       "2                      2                 0.17                 18   \n",
       "\n",
       "   cnt_users_per_week  daily_attendance_index  cnt_days_per_week  \\\n",
       "0                  18                    1.00                  1   \n",
       "1                  18                    1.00                  1   \n",
       "2                  18                    1.00                  1   \n",
       "\n",
       "   nunique_gate_per_day  nunique_gate_per_week  entry_time  exit_time  \\\n",
       "0                     6                      6         630       1126   \n",
       "1                     6                      6         630       1126   \n",
       "2                     6                      6         630       1126   \n",
       "\n",
       "   working_time_per_day  entrance_gate_id  exit_gate_id  \\\n",
       "0                   496                 3             4   \n",
       "1                   496                 3             4   \n",
       "2                   496                 3             4   \n",
       "\n",
       "   working_time_per_week  daily_workload_index  gate_id_lag_1  gate_id_1  \\\n",
       "0                    496                  1.00           -100          3   \n",
       "1                    496                  1.00              3         11   \n",
       "2                    496                  1.00              3          6   \n",
       "\n",
       "   sec_btw_lag_1  sec_btw_1  gate_id_lag_2  gate_id_2  sec_btw_lag_2  \\\n",
       "0          -1000         -1           -100         11          -1000   \n",
       "1              1     -10143           -100          6          -1000   \n",
       "2          10143        -27              3          6          10144   \n",
       "\n",
       "   sec_btw_2  gate_id_lag_3  gate_id_3  sec_btw_lag_3  sec_btw_3  \\\n",
       "0     -10144           -100          6          -1000     -10171   \n",
       "1     -10170           -100          6          -1000     -10171   \n",
       "2        -28           -100          7          -1000      -3654   \n",
       "\n",
       "   gate_id_lag_4  gate_id_4  sec_btw_lag_4  sec_btw_4  gate_id_lag_5  \\\n",
       "0           -100          6          -1000     -10172           -100   \n",
       "1           -100          7          -1000     -13797           -100   \n",
       "2           -100          3          -1000      -3725           -100   \n",
       "\n",
       "   gate_id_5  sec_btw_lag_5  sec_btw_5  repeat_gate_1s  repeat_gate_2s  \\\n",
       "0          7          -1000     -13798           False           False   \n",
       "1          3          -1000     -13868            True           False   \n",
       "2          3          -1000      -3727           False           False   \n",
       "\n",
       "   repeat_gate_3s  repeat_gate_4s  repeat_gate_ge_5s  cnt_repeat_gate_1s  \\\n",
       "0           False           False              False                   2   \n",
       "1           False           False              False                   2   \n",
       "2           False           False              False                   2   \n",
       "\n",
       "   cnt_repeat_gate_2s  cnt_repeat_gate_3s  cnt_repeat_gate_4s  \\\n",
       "0                   2                   0                   0   \n",
       "1                   2                   0                   0   \n",
       "2                   2                   0                   0   \n",
       "\n",
       "   cnt_repeat_gate_ge_5s      route  temp_sec_btw_lag_1  cumtime_per_day  \\\n",
       "0                      0  not_route                   0                0   \n",
       "1                      0     [3, 3]                   1                1   \n",
       "2                      0    [3, 11]               10143            10144   \n",
       "\n",
       "   cumtime_at_route_per_day  most_frequent_gate_per_day  \\\n",
       "0                         0                           3   \n",
       "1                         1                           3   \n",
       "2                     10143                           3   \n",
       "\n",
       "   most_frequent_gate_per_week most_frequent_route_per_day  \\\n",
       "0                            3                      [3, 3]   \n",
       "1                            3                      [3, 3]   \n",
       "2                            3                      [3, 3]   \n",
       "\n",
       "  most_frequent_route_per_week  most_frequent_entrance_gate_per_week  \\\n",
       "0                       [3, 3]                                     3   \n",
       "1                       [3, 3]                                     3   \n",
       "2                       [3, 3]                                     3   \n",
       "\n",
       "   most_frequent_exit_gate_per_week  weekly_route_avg_time  route_avg_time  \\\n",
       "0                                 4                   0.00            0.00   \n",
       "1                                 4                   1.50            1.92   \n",
       "2                                 4              10,143.00       12,404.29   \n",
       "\n",
       "   nunique_route_per_week  \n",
       "0                      11  \n",
       "1                      11  \n",
       "2                      11  "
      ]
     },
     "execution_count": 38,
     "metadata": {},
     "output_type": "execute_result"
    }
   ],
   "source": [
    "df_train = make_features(df_train)\n",
    "df_train.head(3)"
   ]
  },
  {
   "cell_type": "code",
   "execution_count": 39,
   "metadata": {},
   "outputs": [
    {
     "data": {
      "text/plain": [
       "(28863, 73)"
      ]
     },
     "execution_count": 39,
     "metadata": {},
     "output_type": "execute_result"
    }
   ],
   "source": [
    "df_train.shape"
   ]
  },
  {
   "cell_type": "code",
   "execution_count": 40,
   "metadata": {},
   "outputs": [
    {
     "data": {
      "text/html": [
       "<div>\n",
       "<style scoped>\n",
       "    .dataframe tbody tr th:only-of-type {\n",
       "        vertical-align: middle;\n",
       "    }\n",
       "\n",
       "    .dataframe tbody tr th {\n",
       "        vertical-align: top;\n",
       "    }\n",
       "\n",
       "    .dataframe thead th {\n",
       "        text-align: right;\n",
       "    }\n",
       "</style>\n",
       "<table border=\"1\" class=\"dataframe\">\n",
       "  <thead>\n",
       "    <tr style=\"text-align: right;\">\n",
       "      <th></th>\n",
       "      <th>ts</th>\n",
       "      <th>gate_id</th>\n",
       "      <th>user_id</th>\n",
       "      <th>date</th>\n",
       "      <th>day_of_month</th>\n",
       "      <th>hour</th>\n",
       "      <th>total_minutes</th>\n",
       "      <th>total_seconds</th>\n",
       "      <th>week_number</th>\n",
       "      <th>day_of_week</th>\n",
       "      <th>is_weekend</th>\n",
       "      <th>time_of_day</th>\n",
       "      <th>is_month_start</th>\n",
       "      <th>is_month_end</th>\n",
       "      <th>pass_cnt_per_day</th>\n",
       "      <th>daily_gate_pass_count</th>\n",
       "      <th>probability_gate_id</th>\n",
       "      <th>cnt_users_per_day</th>\n",
       "      <th>cnt_users_per_week</th>\n",
       "      <th>daily_attendance_index</th>\n",
       "      <th>cnt_days_per_week</th>\n",
       "      <th>nunique_gate_per_day</th>\n",
       "      <th>nunique_gate_per_week</th>\n",
       "      <th>entry_time</th>\n",
       "      <th>exit_time</th>\n",
       "      <th>working_time_per_day</th>\n",
       "      <th>entrance_gate_id</th>\n",
       "      <th>exit_gate_id</th>\n",
       "      <th>working_time_per_week</th>\n",
       "      <th>daily_workload_index</th>\n",
       "      <th>gate_id_lag_1</th>\n",
       "      <th>gate_id_1</th>\n",
       "      <th>sec_btw_lag_1</th>\n",
       "      <th>sec_btw_1</th>\n",
       "      <th>gate_id_lag_2</th>\n",
       "      <th>gate_id_2</th>\n",
       "      <th>sec_btw_lag_2</th>\n",
       "      <th>sec_btw_2</th>\n",
       "      <th>gate_id_lag_3</th>\n",
       "      <th>gate_id_3</th>\n",
       "      <th>sec_btw_lag_3</th>\n",
       "      <th>sec_btw_3</th>\n",
       "      <th>gate_id_lag_4</th>\n",
       "      <th>gate_id_4</th>\n",
       "      <th>sec_btw_lag_4</th>\n",
       "      <th>sec_btw_4</th>\n",
       "      <th>gate_id_lag_5</th>\n",
       "      <th>gate_id_5</th>\n",
       "      <th>sec_btw_lag_5</th>\n",
       "      <th>sec_btw_5</th>\n",
       "      <th>repeat_gate_1s</th>\n",
       "      <th>repeat_gate_2s</th>\n",
       "      <th>repeat_gate_3s</th>\n",
       "      <th>repeat_gate_4s</th>\n",
       "      <th>repeat_gate_ge_5s</th>\n",
       "      <th>cnt_repeat_gate_1s</th>\n",
       "      <th>cnt_repeat_gate_2s</th>\n",
       "      <th>cnt_repeat_gate_3s</th>\n",
       "      <th>cnt_repeat_gate_4s</th>\n",
       "      <th>cnt_repeat_gate_ge_5s</th>\n",
       "      <th>route</th>\n",
       "      <th>temp_sec_btw_lag_1</th>\n",
       "      <th>cumtime_per_day</th>\n",
       "      <th>cumtime_at_route_per_day</th>\n",
       "      <th>most_frequent_gate_per_day</th>\n",
       "      <th>most_frequent_gate_per_week</th>\n",
       "      <th>most_frequent_route_per_day</th>\n",
       "      <th>most_frequent_route_per_week</th>\n",
       "      <th>most_frequent_entrance_gate_per_week</th>\n",
       "      <th>most_frequent_exit_gate_per_week</th>\n",
       "      <th>weekly_route_avg_time</th>\n",
       "      <th>route_avg_time</th>\n",
       "      <th>nunique_route_per_week</th>\n",
       "    </tr>\n",
       "  </thead>\n",
       "  <tbody>\n",
       "    <tr>\n",
       "      <th>0</th>\n",
       "      <td>2023-01-04 11:07:00</td>\n",
       "      <td>15</td>\n",
       "      <td>aucroc</td>\n",
       "      <td>2023-01-04</td>\n",
       "      <td>4</td>\n",
       "      <td>11</td>\n",
       "      <td>667</td>\n",
       "      <td>40020</td>\n",
       "      <td>1</td>\n",
       "      <td>2</td>\n",
       "      <td>False</td>\n",
       "      <td>morning</td>\n",
       "      <td>False</td>\n",
       "      <td>False</td>\n",
       "      <td>9</td>\n",
       "      <td>2</td>\n",
       "      <td>0.22</td>\n",
       "      <td>21</td>\n",
       "      <td>27</td>\n",
       "      <td>0.78</td>\n",
       "      <td>2</td>\n",
       "      <td>6</td>\n",
       "      <td>6</td>\n",
       "      <td>667</td>\n",
       "      <td>1103</td>\n",
       "      <td>436</td>\n",
       "      <td>15</td>\n",
       "      <td>15</td>\n",
       "      <td>632</td>\n",
       "      <td>0.69</td>\n",
       "      <td>-100</td>\n",
       "      <td>9</td>\n",
       "      <td>-1000</td>\n",
       "      <td>-164</td>\n",
       "      <td>-100</td>\n",
       "      <td>5</td>\n",
       "      <td>-1000</td>\n",
       "      <td>-174</td>\n",
       "      <td>-100</td>\n",
       "      <td>5</td>\n",
       "      <td>-1000</td>\n",
       "      <td>-175</td>\n",
       "      <td>-100</td>\n",
       "      <td>10</td>\n",
       "      <td>-1000</td>\n",
       "      <td>-192</td>\n",
       "      <td>-100</td>\n",
       "      <td>11</td>\n",
       "      <td>-1000</td>\n",
       "      <td>-25885</td>\n",
       "      <td>False</td>\n",
       "      <td>False</td>\n",
       "      <td>False</td>\n",
       "      <td>False</td>\n",
       "      <td>False</td>\n",
       "      <td>1</td>\n",
       "      <td>1</td>\n",
       "      <td>0</td>\n",
       "      <td>0</td>\n",
       "      <td>0</td>\n",
       "      <td>not_route</td>\n",
       "      <td>0</td>\n",
       "      <td>0</td>\n",
       "      <td>0</td>\n",
       "      <td>15</td>\n",
       "      <td>5</td>\n",
       "      <td>not_route</td>\n",
       "      <td>not_route</td>\n",
       "      <td>15</td>\n",
       "      <td>15</td>\n",
       "      <td>0.00</td>\n",
       "      <td>0.00</td>\n",
       "      <td>9</td>\n",
       "    </tr>\n",
       "    <tr>\n",
       "      <th>1</th>\n",
       "      <td>2023-01-04 11:09:44</td>\n",
       "      <td>9</td>\n",
       "      <td>aucroc</td>\n",
       "      <td>2023-01-04</td>\n",
       "      <td>4</td>\n",
       "      <td>11</td>\n",
       "      <td>669</td>\n",
       "      <td>40184</td>\n",
       "      <td>1</td>\n",
       "      <td>2</td>\n",
       "      <td>False</td>\n",
       "      <td>morning</td>\n",
       "      <td>False</td>\n",
       "      <td>False</td>\n",
       "      <td>9</td>\n",
       "      <td>1</td>\n",
       "      <td>0.11</td>\n",
       "      <td>21</td>\n",
       "      <td>27</td>\n",
       "      <td>0.78</td>\n",
       "      <td>2</td>\n",
       "      <td>6</td>\n",
       "      <td>6</td>\n",
       "      <td>667</td>\n",
       "      <td>1103</td>\n",
       "      <td>436</td>\n",
       "      <td>15</td>\n",
       "      <td>15</td>\n",
       "      <td>632</td>\n",
       "      <td>0.69</td>\n",
       "      <td>15</td>\n",
       "      <td>5</td>\n",
       "      <td>164</td>\n",
       "      <td>-10</td>\n",
       "      <td>-100</td>\n",
       "      <td>5</td>\n",
       "      <td>-1000</td>\n",
       "      <td>-11</td>\n",
       "      <td>-100</td>\n",
       "      <td>10</td>\n",
       "      <td>-1000</td>\n",
       "      <td>-28</td>\n",
       "      <td>-100</td>\n",
       "      <td>11</td>\n",
       "      <td>-1000</td>\n",
       "      <td>-25721</td>\n",
       "      <td>-100</td>\n",
       "      <td>4</td>\n",
       "      <td>-1000</td>\n",
       "      <td>-25746</td>\n",
       "      <td>False</td>\n",
       "      <td>False</td>\n",
       "      <td>False</td>\n",
       "      <td>False</td>\n",
       "      <td>False</td>\n",
       "      <td>1</td>\n",
       "      <td>1</td>\n",
       "      <td>0</td>\n",
       "      <td>0</td>\n",
       "      <td>0</td>\n",
       "      <td>[9, 15]</td>\n",
       "      <td>164</td>\n",
       "      <td>164</td>\n",
       "      <td>164</td>\n",
       "      <td>15</td>\n",
       "      <td>5</td>\n",
       "      <td>not_route</td>\n",
       "      <td>not_route</td>\n",
       "      <td>15</td>\n",
       "      <td>15</td>\n",
       "      <td>164.00</td>\n",
       "      <td>211.33</td>\n",
       "      <td>9</td>\n",
       "    </tr>\n",
       "    <tr>\n",
       "      <th>2</th>\n",
       "      <td>2023-01-04 11:09:54</td>\n",
       "      <td>5</td>\n",
       "      <td>aucroc</td>\n",
       "      <td>2023-01-04</td>\n",
       "      <td>4</td>\n",
       "      <td>11</td>\n",
       "      <td>669</td>\n",
       "      <td>40194</td>\n",
       "      <td>1</td>\n",
       "      <td>2</td>\n",
       "      <td>False</td>\n",
       "      <td>morning</td>\n",
       "      <td>False</td>\n",
       "      <td>False</td>\n",
       "      <td>9</td>\n",
       "      <td>2</td>\n",
       "      <td>0.22</td>\n",
       "      <td>21</td>\n",
       "      <td>27</td>\n",
       "      <td>0.78</td>\n",
       "      <td>2</td>\n",
       "      <td>6</td>\n",
       "      <td>6</td>\n",
       "      <td>667</td>\n",
       "      <td>1103</td>\n",
       "      <td>436</td>\n",
       "      <td>15</td>\n",
       "      <td>15</td>\n",
       "      <td>632</td>\n",
       "      <td>0.69</td>\n",
       "      <td>9</td>\n",
       "      <td>5</td>\n",
       "      <td>10</td>\n",
       "      <td>-1</td>\n",
       "      <td>15</td>\n",
       "      <td>10</td>\n",
       "      <td>174</td>\n",
       "      <td>-18</td>\n",
       "      <td>-100</td>\n",
       "      <td>11</td>\n",
       "      <td>-1000</td>\n",
       "      <td>-25711</td>\n",
       "      <td>-100</td>\n",
       "      <td>4</td>\n",
       "      <td>-1000</td>\n",
       "      <td>-25736</td>\n",
       "      <td>-100</td>\n",
       "      <td>4</td>\n",
       "      <td>-1000</td>\n",
       "      <td>-25738</td>\n",
       "      <td>False</td>\n",
       "      <td>False</td>\n",
       "      <td>False</td>\n",
       "      <td>False</td>\n",
       "      <td>False</td>\n",
       "      <td>1</td>\n",
       "      <td>1</td>\n",
       "      <td>0</td>\n",
       "      <td>0</td>\n",
       "      <td>0</td>\n",
       "      <td>[5, 9]</td>\n",
       "      <td>10</td>\n",
       "      <td>174</td>\n",
       "      <td>10</td>\n",
       "      <td>15</td>\n",
       "      <td>5</td>\n",
       "      <td>not_route</td>\n",
       "      <td>not_route</td>\n",
       "      <td>15</td>\n",
       "      <td>15</td>\n",
       "      <td>14.50</td>\n",
       "      <td>14.50</td>\n",
       "      <td>9</td>\n",
       "    </tr>\n",
       "  </tbody>\n",
       "</table>\n",
       "</div>"
      ],
      "text/plain": [
       "                   ts  gate_id user_id       date  day_of_month  hour  \\\n",
       "0 2023-01-04 11:07:00       15  aucroc 2023-01-04             4    11   \n",
       "1 2023-01-04 11:09:44        9  aucroc 2023-01-04             4    11   \n",
       "2 2023-01-04 11:09:54        5  aucroc 2023-01-04             4    11   \n",
       "\n",
       "   total_minutes  total_seconds  week_number  day_of_week  is_weekend  \\\n",
       "0            667          40020            1            2       False   \n",
       "1            669          40184            1            2       False   \n",
       "2            669          40194            1            2       False   \n",
       "\n",
       "  time_of_day  is_month_start  is_month_end  pass_cnt_per_day  \\\n",
       "0     morning           False         False                 9   \n",
       "1     morning           False         False                 9   \n",
       "2     morning           False         False                 9   \n",
       "\n",
       "   daily_gate_pass_count  probability_gate_id  cnt_users_per_day  \\\n",
       "0                      2                 0.22                 21   \n",
       "1                      1                 0.11                 21   \n",
       "2                      2                 0.22                 21   \n",
       "\n",
       "   cnt_users_per_week  daily_attendance_index  cnt_days_per_week  \\\n",
       "0                  27                    0.78                  2   \n",
       "1                  27                    0.78                  2   \n",
       "2                  27                    0.78                  2   \n",
       "\n",
       "   nunique_gate_per_day  nunique_gate_per_week  entry_time  exit_time  \\\n",
       "0                     6                      6         667       1103   \n",
       "1                     6                      6         667       1103   \n",
       "2                     6                      6         667       1103   \n",
       "\n",
       "   working_time_per_day  entrance_gate_id  exit_gate_id  \\\n",
       "0                   436                15            15   \n",
       "1                   436                15            15   \n",
       "2                   436                15            15   \n",
       "\n",
       "   working_time_per_week  daily_workload_index  gate_id_lag_1  gate_id_1  \\\n",
       "0                    632                  0.69           -100          9   \n",
       "1                    632                  0.69             15          5   \n",
       "2                    632                  0.69              9          5   \n",
       "\n",
       "   sec_btw_lag_1  sec_btw_1  gate_id_lag_2  gate_id_2  sec_btw_lag_2  \\\n",
       "0          -1000       -164           -100          5          -1000   \n",
       "1            164        -10           -100          5          -1000   \n",
       "2             10         -1             15         10            174   \n",
       "\n",
       "   sec_btw_2  gate_id_lag_3  gate_id_3  sec_btw_lag_3  sec_btw_3  \\\n",
       "0       -174           -100          5          -1000       -175   \n",
       "1        -11           -100         10          -1000        -28   \n",
       "2        -18           -100         11          -1000     -25711   \n",
       "\n",
       "   gate_id_lag_4  gate_id_4  sec_btw_lag_4  sec_btw_4  gate_id_lag_5  \\\n",
       "0           -100         10          -1000       -192           -100   \n",
       "1           -100         11          -1000     -25721           -100   \n",
       "2           -100          4          -1000     -25736           -100   \n",
       "\n",
       "   gate_id_5  sec_btw_lag_5  sec_btw_5  repeat_gate_1s  repeat_gate_2s  \\\n",
       "0         11          -1000     -25885           False           False   \n",
       "1          4          -1000     -25746           False           False   \n",
       "2          4          -1000     -25738           False           False   \n",
       "\n",
       "   repeat_gate_3s  repeat_gate_4s  repeat_gate_ge_5s  cnt_repeat_gate_1s  \\\n",
       "0           False           False              False                   1   \n",
       "1           False           False              False                   1   \n",
       "2           False           False              False                   1   \n",
       "\n",
       "   cnt_repeat_gate_2s  cnt_repeat_gate_3s  cnt_repeat_gate_4s  \\\n",
       "0                   1                   0                   0   \n",
       "1                   1                   0                   0   \n",
       "2                   1                   0                   0   \n",
       "\n",
       "   cnt_repeat_gate_ge_5s      route  temp_sec_btw_lag_1  cumtime_per_day  \\\n",
       "0                      0  not_route                   0                0   \n",
       "1                      0    [9, 15]                 164              164   \n",
       "2                      0     [5, 9]                  10              174   \n",
       "\n",
       "   cumtime_at_route_per_day  most_frequent_gate_per_day  \\\n",
       "0                         0                          15   \n",
       "1                       164                          15   \n",
       "2                        10                          15   \n",
       "\n",
       "   most_frequent_gate_per_week most_frequent_route_per_day  \\\n",
       "0                            5                   not_route   \n",
       "1                            5                   not_route   \n",
       "2                            5                   not_route   \n",
       "\n",
       "  most_frequent_route_per_week  most_frequent_entrance_gate_per_week  \\\n",
       "0                    not_route                                    15   \n",
       "1                    not_route                                    15   \n",
       "2                    not_route                                    15   \n",
       "\n",
       "   most_frequent_exit_gate_per_week  weekly_route_avg_time  route_avg_time  \\\n",
       "0                                15                   0.00            0.00   \n",
       "1                                15                 164.00          211.33   \n",
       "2                                15                  14.50           14.50   \n",
       "\n",
       "   nunique_route_per_week  \n",
       "0                       9  \n",
       "1                       9  \n",
       "2                       9  "
      ]
     },
     "execution_count": 40,
     "metadata": {},
     "output_type": "execute_result"
    }
   ],
   "source": [
    "# временно переименуем колонку `user_word` на `user_id`\n",
    "df_test = df_test.rename(columns={'user_word': 'user_id'})\n",
    "\n",
    "df_test = make_features(df_test)\n",
    "# df_test = df_test.rename(columns={'user_id': 'user_word'})\n",
    "df_test.head(3)"
   ]
  },
  {
   "cell_type": "code",
   "execution_count": 41,
   "metadata": {},
   "outputs": [
    {
     "data": {
      "text/plain": [
       "(6612, 73)"
      ]
     },
     "execution_count": 41,
     "metadata": {},
     "output_type": "execute_result"
    }
   ],
   "source": [
    "df_test.shape"
   ]
  },
  {
   "cell_type": "code",
   "execution_count": 42,
   "metadata": {},
   "outputs": [
    {
     "data": {
      "text/plain": [
       "0"
      ]
     },
     "execution_count": 42,
     "metadata": {},
     "output_type": "execute_result"
    }
   ],
   "source": [
    "df_train.isna().sum().sum()"
   ]
  },
  {
   "cell_type": "code",
   "execution_count": 43,
   "metadata": {},
   "outputs": [
    {
     "data": {
      "text/plain": [
       "0"
      ]
     },
     "execution_count": 43,
     "metadata": {},
     "output_type": "execute_result"
    }
   ],
   "source": [
    "df_test.isna().sum().sum()"
   ]
  },
  {
   "cell_type": "markdown",
   "metadata": {},
   "source": [
    "# Исследовательский анализ данных"
   ]
  },
  {
   "cell_type": "markdown",
   "metadata": {},
   "source": [
    "## Повторное срабатывание турникетов"
   ]
  },
  {
   "cell_type": "code",
   "execution_count": null,
   "metadata": {},
   "outputs": [],
   "source": []
  },
  {
   "cell_type": "code",
   "execution_count": null,
   "metadata": {},
   "outputs": [],
   "source": []
  },
  {
   "cell_type": "code",
   "execution_count": null,
   "metadata": {},
   "outputs": [],
   "source": []
  },
  {
   "cell_type": "markdown",
   "metadata": {},
   "source": [
    "## Количество проходов через турникеты в неделю"
   ]
  },
  {
   "cell_type": "code",
   "execution_count": 44,
   "metadata": {},
   "outputs": [],
   "source": [
    "week_counts_train = df_train['week_number'].value_counts().sort_index().reset_index()"
   ]
  },
  {
   "cell_type": "code",
   "execution_count": 45,
   "metadata": {},
   "outputs": [
    {
     "data": {
      "image/png": "[encoded data removed]",
      "text/plain": [
       "<Figure size 1500x300 with 1 Axes>"
      ]
     },
     "metadata": {},
     "output_type": "display_data"
    }
   ],
   "source": [
    "plt.figure(figsize=(15, 3))\n",
    "sns.barplot(x='week_number', y='count', data=week_counts_train, color='purple')\n",
    "plt.title('Количество проходов через турникеты в неделю (train)')\n",
    "plt.xlabel('Номер недели')\n",
    "plt.ylabel('Количество')\n",
    "plt.tight_layout()"
   ]
  },
  {
   "cell_type": "code",
   "execution_count": 46,
   "metadata": {},
   "outputs": [
    {
     "data": {
      "text/plain": [
       "3"
      ]
     },
     "execution_count": 46,
     "metadata": {},
     "output_type": "execute_result"
    }
   ],
   "source": [
    "df_train.loc[df_train['week_number'] == 30, 'date'].nunique()"
   ]
  },
  {
   "cell_type": "code",
   "execution_count": 47,
   "metadata": {},
   "outputs": [
    {
     "data": {
      "text/plain": [
       "3"
      ]
     },
     "execution_count": 47,
     "metadata": {},
     "output_type": "execute_result"
    }
   ],
   "source": [
    "df_train.loc[df_train['week_number'] == 45, 'date'].nunique()"
   ]
  },
  {
   "cell_type": "markdown",
   "metadata": {},
   "source": [
    "Мы видим, что 30 неделя - неполная. Поскольку при генерировании признаков мы использовали агрегацию по номеру недели, удалим данные за 30 неделю из тренировочной выборки."
   ]
  },
  {
   "cell_type": "code",
   "execution_count": 48,
   "metadata": {},
   "outputs": [
    {
     "data": {
      "text/plain": [
       "(28863, 73)"
      ]
     },
     "execution_count": 48,
     "metadata": {},
     "output_type": "execute_result"
    }
   ],
   "source": [
    "df_train.shape"
   ]
  },
  {
   "cell_type": "code",
   "execution_count": 49,
   "metadata": {},
   "outputs": [],
   "source": [
    "# df_train = df_train.query('week_number > 30 and week_number != 45').reset_index(drop=True)\n",
    "# df_train.shape"
   ]
  },
  {
   "cell_type": "code",
   "execution_count": 50,
   "metadata": {},
   "outputs": [
    {
     "data": {
      "text/plain": [
       "(28490, 73)"
      ]
     },
     "execution_count": 50,
     "metadata": {},
     "output_type": "execute_result"
    }
   ],
   "source": [
    "df_train = df_train.query('week_number > 30').reset_index(drop=True)\n",
    "df_train.shape"
   ]
  },
  {
   "cell_type": "code",
   "execution_count": 51,
   "metadata": {},
   "outputs": [
    {
     "data": {
      "text/plain": [
       "35"
      ]
     },
     "execution_count": 51,
     "metadata": {},
     "output_type": "execute_result"
    }
   ],
   "source": [
    "df_train['user_id'].nunique()"
   ]
  },
  {
   "cell_type": "code",
   "execution_count": 52,
   "metadata": {},
   "outputs": [],
   "source": [
    "week_counts_test = df_test['week_number'].value_counts().sort_index().reset_index()"
   ]
  },
  {
   "cell_type": "code",
   "execution_count": 53,
   "metadata": {},
   "outputs": [
    {
     "data": {
      "image/png": "[encoded data removed]",
      "text/plain": [
       "<Figure size 600x300 with 1 Axes>"
      ]
     },
     "metadata": {},
     "output_type": "display_data"
    }
   ],
   "source": [
    "plt.figure(figsize=(6, 3))\n",
    "sns.barplot(x='week_number', y='count', data=week_counts_test, color='purple')\n",
    "plt.title('Количество проходов через турникеты в неделю (test)')\n",
    "plt.xlabel('Номер недели')\n",
    "plt.ylabel('Количество')\n",
    "plt.tight_layout()"
   ]
  },
  {
   "cell_type": "code",
   "execution_count": 54,
   "metadata": {},
   "outputs": [
    {
     "data": {
      "text/plain": [
       "5"
      ]
     },
     "execution_count": 54,
     "metadata": {},
     "output_type": "execute_result"
    }
   ],
   "source": [
    "df_test.loc[df_test['week_number'] == 1, 'date'].nunique()"
   ]
  },
  {
   "cell_type": "code",
   "execution_count": 55,
   "metadata": {},
   "outputs": [
    {
     "data": {
      "text/plain": [
       "5"
      ]
     },
     "execution_count": 55,
     "metadata": {},
     "output_type": "execute_result"
    }
   ],
   "source": [
    "df_test.loc[df_test['week_number'] == 8, 'date'].nunique()"
   ]
  },
  {
   "cell_type": "markdown",
   "metadata": {},
   "source": [
    "Удалим из тестовой выборки данные с 6 по 8 неделю, поскольку в этот период была маленькая активность."
   ]
  },
  {
   "cell_type": "code",
   "execution_count": 56,
   "metadata": {},
   "outputs": [
    {
     "data": {
      "text/plain": [
       "(6612, 73)"
      ]
     },
     "execution_count": 56,
     "metadata": {},
     "output_type": "execute_result"
    }
   ],
   "source": [
    "df_test.shape"
   ]
  },
  {
   "cell_type": "code",
   "execution_count": 57,
   "metadata": {},
   "outputs": [],
   "source": [
    "# df_test = df_test.query('week_number < 6').reset_index(drop=True)\n",
    "# df_test.shape"
   ]
  },
  {
   "cell_type": "code",
   "execution_count": 58,
   "metadata": {},
   "outputs": [
    {
     "data": {
      "text/plain": [
       "34"
      ]
     },
     "execution_count": 58,
     "metadata": {},
     "output_type": "execute_result"
    }
   ],
   "source": [
    "df_test['user_id'].nunique()"
   ]
  },
  {
   "cell_type": "code",
   "execution_count": null,
   "metadata": {},
   "outputs": [],
   "source": []
  },
  {
   "cell_type": "code",
   "execution_count": 59,
   "metadata": {},
   "outputs": [],
   "source": [
    "df_train = df_train.sort_values('ts').reset_index(drop=True)\n",
    "df_test = df_test.sort_values('ts').reset_index(drop=True)"
   ]
  },
  {
   "cell_type": "code",
   "execution_count": 60,
   "metadata": {},
   "outputs": [],
   "source": [
    "# удаление вспомогательных признаков\n",
    "df_train = df_train.drop(['ts', 'date', 'week_number', 'exit_time', 'temp_sec_btw_lag_1'], axis=1)\n",
    "df_test = df_test.drop(['ts', 'date', 'week_number', 'exit_time', 'temp_sec_btw_lag_1'], axis=1)"
   ]
  },
  {
   "cell_type": "code",
   "execution_count": 61,
   "metadata": {},
   "outputs": [
    {
     "name": "stdout",
     "output_type": "stream",
     "text": [
      "<class 'pandas.core.frame.DataFrame'>\n",
      "RangeIndex: 28490 entries, 0 to 28489\n",
      "Data columns (total 68 columns):\n",
      " #   Column                                Non-Null Count  Dtype  \n",
      "---  ------                                --------------  -----  \n",
      " 0   user_id                               28490 non-null  int64  \n",
      " 1   gate_id                               28490 non-null  int64  \n",
      " 2   day_of_month                          28490 non-null  int32  \n",
      " 3   hour                                  28490 non-null  int32  \n",
      " 4   total_minutes                         28490 non-null  int32  \n",
      " 5   total_seconds                         28490 non-null  int32  \n",
      " 6   day_of_week                           28490 non-null  int32  \n",
      " 7   is_weekend                            28490 non-null  bool   \n",
      " 8   time_of_day                           28490 non-null  object \n",
      " 9   is_month_start                        28490 non-null  bool   \n",
      " 10  is_month_end                          28490 non-null  bool   \n",
      " 11  pass_cnt_per_day                      28490 non-null  int64  \n",
      " 12  daily_gate_pass_count                 28490 non-null  int64  \n",
      " 13  probability_gate_id                   28490 non-null  float64\n",
      " 14  cnt_users_per_day                     28490 non-null  int64  \n",
      " 15  cnt_users_per_week                    28490 non-null  int64  \n",
      " 16  daily_attendance_index                28490 non-null  float64\n",
      " 17  cnt_days_per_week                     28490 non-null  int64  \n",
      " 18  nunique_gate_per_day                  28490 non-null  int64  \n",
      " 19  nunique_gate_per_week                 28490 non-null  int64  \n",
      " 20  entry_time                            28490 non-null  int32  \n",
      " 21  working_time_per_day                  28490 non-null  int32  \n",
      " 22  entrance_gate_id                      28490 non-null  int64  \n",
      " 23  exit_gate_id                          28490 non-null  int64  \n",
      " 24  working_time_per_week                 28490 non-null  int32  \n",
      " 25  daily_workload_index                  28490 non-null  float64\n",
      " 26  gate_id_lag_1                         28490 non-null  int64  \n",
      " 27  gate_id_1                             28490 non-null  int64  \n",
      " 28  sec_btw_lag_1                         28490 non-null  int32  \n",
      " 29  sec_btw_1                             28490 non-null  int32  \n",
      " 30  gate_id_lag_2                         28490 non-null  int64  \n",
      " 31  gate_id_2                             28490 non-null  int64  \n",
      " 32  sec_btw_lag_2                         28490 non-null  int32  \n",
      " 33  sec_btw_2                             28490 non-null  int32  \n",
      " 34  gate_id_lag_3                         28490 non-null  int64  \n",
      " 35  gate_id_3                             28490 non-null  int64  \n",
      " 36  sec_btw_lag_3                         28490 non-null  int32  \n",
      " 37  sec_btw_3                             28490 non-null  int32  \n",
      " 38  gate_id_lag_4                         28490 non-null  int64  \n",
      " 39  gate_id_4                             28490 non-null  int64  \n",
      " 40  sec_btw_lag_4                         28490 non-null  int32  \n",
      " 41  sec_btw_4                             28490 non-null  int32  \n",
      " 42  gate_id_lag_5                         28490 non-null  int64  \n",
      " 43  gate_id_5                             28490 non-null  int64  \n",
      " 44  sec_btw_lag_5                         28490 non-null  int32  \n",
      " 45  sec_btw_5                             28490 non-null  int32  \n",
      " 46  repeat_gate_1s                        28490 non-null  bool   \n",
      " 47  repeat_gate_2s                        28490 non-null  bool   \n",
      " 48  repeat_gate_3s                        28490 non-null  bool   \n",
      " 49  repeat_gate_4s                        28490 non-null  bool   \n",
      " 50  repeat_gate_ge_5s                     28490 non-null  bool   \n",
      " 51  cnt_repeat_gate_1s                    28490 non-null  int64  \n",
      " 52  cnt_repeat_gate_2s                    28490 non-null  int64  \n",
      " 53  cnt_repeat_gate_3s                    28490 non-null  int64  \n",
      " 54  cnt_repeat_gate_4s                    28490 non-null  int64  \n",
      " 55  cnt_repeat_gate_ge_5s                 28490 non-null  int64  \n",
      " 56  route                                 28490 non-null  object \n",
      " 57  cumtime_per_day                       28490 non-null  int32  \n",
      " 58  cumtime_at_route_per_day              28490 non-null  int32  \n",
      " 59  most_frequent_gate_per_day            28490 non-null  int64  \n",
      " 60  most_frequent_gate_per_week           28490 non-null  int64  \n",
      " 61  most_frequent_route_per_day           28490 non-null  object \n",
      " 62  most_frequent_route_per_week          28490 non-null  object \n",
      " 63  most_frequent_entrance_gate_per_week  28490 non-null  int64  \n",
      " 64  most_frequent_exit_gate_per_week      28490 non-null  int64  \n",
      " 65  weekly_route_avg_time                 28490 non-null  float64\n",
      " 66  route_avg_time                        28490 non-null  float64\n",
      " 67  nunique_route_per_week                28490 non-null  int64  \n",
      "dtypes: bool(8), float64(5), int32(20), int64(31), object(4)\n",
      "memory usage: 11.1+ MB\n"
     ]
    }
   ],
   "source": [
    "df_train.info()"
   ]
  },
  {
   "cell_type": "code",
   "execution_count": 62,
   "metadata": {},
   "outputs": [
    {
     "data": {
      "text/plain": [
       "Index(['user_id', 'gate_id', 'day_of_month', 'hour', 'total_minutes',\n",
       "       'total_seconds', 'day_of_week', 'is_weekend', 'time_of_day',\n",
       "       'is_month_start', 'is_month_end', 'pass_cnt_per_day',\n",
       "       'daily_gate_pass_count', 'probability_gate_id', 'cnt_users_per_day',\n",
       "       'cnt_users_per_week', 'daily_attendance_index', 'cnt_days_per_week',\n",
       "       'nunique_gate_per_day', 'nunique_gate_per_week', 'entry_time',\n",
       "       'working_time_per_day', 'entrance_gate_id', 'exit_gate_id',\n",
       "       'working_time_per_week', 'daily_workload_index', 'gate_id_lag_1',\n",
       "       'gate_id_1', 'sec_btw_lag_1', 'sec_btw_1', 'gate_id_lag_2', 'gate_id_2',\n",
       "       'sec_btw_lag_2', 'sec_btw_2', 'gate_id_lag_3', 'gate_id_3',\n",
       "       'sec_btw_lag_3', 'sec_btw_3', 'gate_id_lag_4', 'gate_id_4',\n",
       "       'sec_btw_lag_4', 'sec_btw_4', 'gate_id_lag_5', 'gate_id_5',\n",
       "       'sec_btw_lag_5', 'sec_btw_5', 'repeat_gate_1s', 'repeat_gate_2s',\n",
       "       'repeat_gate_3s', 'repeat_gate_4s', 'repeat_gate_ge_5s',\n",
       "       'cnt_repeat_gate_1s', 'cnt_repeat_gate_2s', 'cnt_repeat_gate_3s',\n",
       "       'cnt_repeat_gate_4s', 'cnt_repeat_gate_ge_5s', 'route',\n",
       "       'cumtime_per_day', 'cumtime_at_route_per_day',\n",
       "       'most_frequent_gate_per_day', 'most_frequent_gate_per_week',\n",
       "       'most_frequent_route_per_day', 'most_frequent_route_per_week',\n",
       "       'most_frequent_entrance_gate_per_week',\n",
       "       'most_frequent_exit_gate_per_week', 'weekly_route_avg_time',\n",
       "       'route_avg_time', 'nunique_route_per_week'],\n",
       "      dtype='object')"
      ]
     },
     "execution_count": 62,
     "metadata": {},
     "output_type": "execute_result"
    }
   ],
   "source": [
    "df_train.columns"
   ]
  },
  {
   "cell_type": "code",
   "execution_count": 63,
   "metadata": {},
   "outputs": [],
   "source": [
    "categorical_features = [\n",
    "       'gate_id', 'day_of_month', 'hour',\n",
    "       'day_of_week', 'is_weekend', 'time_of_day', \n",
    "       'is_month_start', 'is_month_end', 'entrance_gate_id', \n",
    "       'exit_gate_id', 'gate_id_lag_1', 'gate_id_1',\n",
    "       'gate_id_lag_2', 'gate_id_2', 'gate_id_lag_3',\n",
    "       'gate_id_3', 'gate_id_lag_4', 'gate_id_4',\n",
    "       'gate_id_lag_5', 'gate_id_5', 'repeat_gate_1s',\n",
    "       'repeat_gate_2s', 'repeat_gate_3s', 'repeat_gate_4s',\n",
    "       'repeat_gate_ge_5s', 'route', 'most_frequent_gate_per_day',\n",
    "       'most_frequent_gate_per_week', 'most_frequent_route_per_day', 'most_frequent_route_per_week',\n",
    "       'most_frequent_entrance_gate_per_week', 'most_frequent_exit_gate_per_week'\n",
    "]"
   ]
  },
  {
   "cell_type": "markdown",
   "metadata": {},
   "source": [
    "## Оценка важности признаков"
   ]
  },
  {
   "cell_type": "markdown",
   "metadata": {},
   "source": [
    "### Корреляция между признаками"
   ]
  },
  {
   "cell_type": "code",
   "execution_count": 64,
   "metadata": {},
   "outputs": [],
   "source": [
    "# %%time\n",
    "# phik_overview = df_train.phik_matrix().round(2).sort_values('user_id', ascending=False)\n",
    "# phik_overview"
   ]
  },
  {
   "cell_type": "code",
   "execution_count": 65,
   "metadata": {},
   "outputs": [],
   "source": [
    "# # отберем фичи, у которых корреляция с целевым признаком более 0.2\n",
    "# df_train = df_train[phik_overview[phik_overview['user_id'] > 0.2].index]"
   ]
  },
  {
   "cell_type": "code",
   "execution_count": 66,
   "metadata": {},
   "outputs": [],
   "source": [
    "# fig = plt.figure(figsize=(45,15))\n",
    "# sns.heatmap(phik_overview, vmin=0, vmax=1, cmap='Purples', annot=True, linewidths=0.1, fmt='.2f')\n",
    "# plt.suptitle('Матрица Phi_K-корреляций', y=0.92);"
   ]
  },
  {
   "cell_type": "code",
   "execution_count": 67,
   "metadata": {},
   "outputs": [],
   "source": [
    "# %%time\n",
    "# significance_overview = df_train.significance_matrix().fillna(0).round(1).sort_values('user_id', ascending=False)\n",
    "# significance_overview"
   ]
  },
  {
   "cell_type": "code",
   "execution_count": 68,
   "metadata": {},
   "outputs": [],
   "source": [
    "# fig = plt.figure(figsize=(45,15))\n",
    "# sns.heatmap(significance_overview, vmin=-5, vmax=5, cmap='Purples', annot=True, linewidths=0.1, fmt='.1f')\n",
    "# plt.suptitle('Значимость коэффициентов', y=0.92);"
   ]
  },
  {
   "cell_type": "code",
   "execution_count": null,
   "metadata": {},
   "outputs": [],
   "source": []
  },
  {
   "cell_type": "markdown",
   "metadata": {},
   "source": [
    "# Построение моделей"
   ]
  },
  {
   "cell_type": "markdown",
   "metadata": {},
   "source": [
    "## Разделение исходных данных на выборки"
   ]
  },
  {
   "cell_type": "code",
   "execution_count": 69,
   "metadata": {},
   "outputs": [
    {
     "name": "stdout",
     "output_type": "stream",
     "text": [
      "<class 'pandas.core.frame.DataFrame'>\n",
      "RangeIndex: 28490 entries, 0 to 28489\n",
      "Data columns (total 68 columns):\n",
      " #   Column                                Non-Null Count  Dtype  \n",
      "---  ------                                --------------  -----  \n",
      " 0   user_id                               28490 non-null  int64  \n",
      " 1   gate_id                               28490 non-null  int64  \n",
      " 2   day_of_month                          28490 non-null  int32  \n",
      " 3   hour                                  28490 non-null  int32  \n",
      " 4   total_minutes                         28490 non-null  int32  \n",
      " 5   total_seconds                         28490 non-null  int32  \n",
      " 6   day_of_week                           28490 non-null  int32  \n",
      " 7   is_weekend                            28490 non-null  bool   \n",
      " 8   time_of_day                           28490 non-null  object \n",
      " 9   is_month_start                        28490 non-null  bool   \n",
      " 10  is_month_end                          28490 non-null  bool   \n",
      " 11  pass_cnt_per_day                      28490 non-null  int64  \n",
      " 12  daily_gate_pass_count                 28490 non-null  int64  \n",
      " 13  probability_gate_id                   28490 non-null  float64\n",
      " 14  cnt_users_per_day                     28490 non-null  int64  \n",
      " 15  cnt_users_per_week                    28490 non-null  int64  \n",
      " 16  daily_attendance_index                28490 non-null  float64\n",
      " 17  cnt_days_per_week                     28490 non-null  int64  \n",
      " 18  nunique_gate_per_day                  28490 non-null  int64  \n",
      " 19  nunique_gate_per_week                 28490 non-null  int64  \n",
      " 20  entry_time                            28490 non-null  int32  \n",
      " 21  working_time_per_day                  28490 non-null  int32  \n",
      " 22  entrance_gate_id                      28490 non-null  int64  \n",
      " 23  exit_gate_id                          28490 non-null  int64  \n",
      " 24  working_time_per_week                 28490 non-null  int32  \n",
      " 25  daily_workload_index                  28490 non-null  float64\n",
      " 26  gate_id_lag_1                         28490 non-null  int64  \n",
      " 27  gate_id_1                             28490 non-null  int64  \n",
      " 28  sec_btw_lag_1                         28490 non-null  int32  \n",
      " 29  sec_btw_1                             28490 non-null  int32  \n",
      " 30  gate_id_lag_2                         28490 non-null  int64  \n",
      " 31  gate_id_2                             28490 non-null  int64  \n",
      " 32  sec_btw_lag_2                         28490 non-null  int32  \n",
      " 33  sec_btw_2                             28490 non-null  int32  \n",
      " 34  gate_id_lag_3                         28490 non-null  int64  \n",
      " 35  gate_id_3                             28490 non-null  int64  \n",
      " 36  sec_btw_lag_3                         28490 non-null  int32  \n",
      " 37  sec_btw_3                             28490 non-null  int32  \n",
      " 38  gate_id_lag_4                         28490 non-null  int64  \n",
      " 39  gate_id_4                             28490 non-null  int64  \n",
      " 40  sec_btw_lag_4                         28490 non-null  int32  \n",
      " 41  sec_btw_4                             28490 non-null  int32  \n",
      " 42  gate_id_lag_5                         28490 non-null  int64  \n",
      " 43  gate_id_5                             28490 non-null  int64  \n",
      " 44  sec_btw_lag_5                         28490 non-null  int32  \n",
      " 45  sec_btw_5                             28490 non-null  int32  \n",
      " 46  repeat_gate_1s                        28490 non-null  bool   \n",
      " 47  repeat_gate_2s                        28490 non-null  bool   \n",
      " 48  repeat_gate_3s                        28490 non-null  bool   \n",
      " 49  repeat_gate_4s                        28490 non-null  bool   \n",
      " 50  repeat_gate_ge_5s                     28490 non-null  bool   \n",
      " 51  cnt_repeat_gate_1s                    28490 non-null  int64  \n",
      " 52  cnt_repeat_gate_2s                    28490 non-null  int64  \n",
      " 53  cnt_repeat_gate_3s                    28490 non-null  int64  \n",
      " 54  cnt_repeat_gate_4s                    28490 non-null  int64  \n",
      " 55  cnt_repeat_gate_ge_5s                 28490 non-null  int64  \n",
      " 56  route                                 28490 non-null  object \n",
      " 57  cumtime_per_day                       28490 non-null  int32  \n",
      " 58  cumtime_at_route_per_day              28490 non-null  int32  \n",
      " 59  most_frequent_gate_per_day            28490 non-null  int64  \n",
      " 60  most_frequent_gate_per_week           28490 non-null  int64  \n",
      " 61  most_frequent_route_per_day           28490 non-null  object \n",
      " 62  most_frequent_route_per_week          28490 non-null  object \n",
      " 63  most_frequent_entrance_gate_per_week  28490 non-null  int64  \n",
      " 64  most_frequent_exit_gate_per_week      28490 non-null  int64  \n",
      " 65  weekly_route_avg_time                 28490 non-null  float64\n",
      " 66  route_avg_time                        28490 non-null  float64\n",
      " 67  nunique_route_per_week                28490 non-null  int64  \n",
      "dtypes: bool(8), float64(5), int32(20), int64(31), object(4)\n",
      "memory usage: 11.1+ MB\n"
     ]
    }
   ],
   "source": [
    "df_train.info()"
   ]
  },
  {
   "cell_type": "code",
   "execution_count": 70,
   "metadata": {},
   "outputs": [],
   "source": [
    "y = df_train['user_id']\n",
    "X = df_train.drop(['user_id'], axis=1)"
   ]
  },
  {
   "cell_type": "code",
   "execution_count": 71,
   "metadata": {},
   "outputs": [],
   "source": [
    "# categorical_columns = categorical_features\n",
    "# print(categorical_columns)"
   ]
  },
  {
   "cell_type": "code",
   "execution_count": 72,
   "metadata": {},
   "outputs": [],
   "source": [
    "# len(categorical_columns)"
   ]
  },
  {
   "cell_type": "code",
   "execution_count": 73,
   "metadata": {},
   "outputs": [],
   "source": [
    "# numerical_columns = list(set(X.columns) - set(categorical_columns))\n",
    "# print(numerical_columns)"
   ]
  },
  {
   "cell_type": "code",
   "execution_count": 74,
   "metadata": {},
   "outputs": [],
   "source": [
    "# len(numerical_columns)"
   ]
  },
  {
   "cell_type": "code",
   "execution_count": 75,
   "metadata": {},
   "outputs": [],
   "source": [
    "# X = X[categorical_columns + numerical_columns]"
   ]
  },
  {
   "cell_type": "code",
   "execution_count": 76,
   "metadata": {},
   "outputs": [],
   "source": [
    "# # формируем массив индексов категориальных признаков\n",
    "# categorical_features_indices = np.where(X.dtypes == 'category')[0]\n",
    "# categorical_features_indices"
   ]
  },
  {
   "cell_type": "code",
   "execution_count": 77,
   "metadata": {},
   "outputs": [],
   "source": [
    "# # формируем массив индексов категориальных признаков\n",
    "# categorical_features_indices = list(range(len(categorical_columns)))\n",
    "# print(categorical_features_indices)"
   ]
  },
  {
   "cell_type": "code",
   "execution_count": 78,
   "metadata": {},
   "outputs": [],
   "source": [
    "# выделение обучающей выборки (80 %) и тестовой (20 %)\n",
    "X_train, X_test, y_train, y_test = train_test_split(\n",
    "                                                    X, \n",
    "                                                    y, \n",
    "                                                    test_size=0.2, \n",
    "                                                    random_state=RANDOM_STATE,\n",
    "                                                    shuffle=True,\n",
    "                                                    stratify=y\n",
    ")"
   ]
  },
  {
   "cell_type": "code",
   "execution_count": 79,
   "metadata": {},
   "outputs": [
    {
     "data": {
      "text/plain": [
       "((22792, 67), (5698, 67), (22792,), (5698,))"
      ]
     },
     "execution_count": 79,
     "metadata": {},
     "output_type": "execute_result"
    }
   ],
   "source": [
    "X_train.shape, X_test.shape, y_train.shape, y_test.shape"
   ]
  },
  {
   "cell_type": "code",
   "execution_count": 80,
   "metadata": {},
   "outputs": [
    {
     "data": {
      "text/plain": [
       "35"
      ]
     },
     "execution_count": 80,
     "metadata": {},
     "output_type": "execute_result"
    }
   ],
   "source": [
    "y_train.nunique()"
   ]
  },
  {
   "cell_type": "code",
   "execution_count": 81,
   "metadata": {},
   "outputs": [
    {
     "name": "stdout",
     "output_type": "stream",
     "text": [
      "[0, 1, 2, 3, 6, 8, 9, 11, 12, 14, 15, 17, 19, 22, 23, 24, 25, 26, 27, 29, 32, 33, 34, 35, 36, 37, 39, 41, 43, 46, 49, 50, 54, 55, 56]\n"
     ]
    }
   ],
   "source": [
    "print(sorted(y_train.unique()))"
   ]
  },
  {
   "cell_type": "code",
   "execution_count": 82,
   "metadata": {},
   "outputs": [
    {
     "data": {
      "text/plain": [
       "35"
      ]
     },
     "execution_count": 82,
     "metadata": {},
     "output_type": "execute_result"
    }
   ],
   "source": [
    "y_test.nunique()"
   ]
  },
  {
   "cell_type": "code",
   "execution_count": 83,
   "metadata": {},
   "outputs": [
    {
     "name": "stdout",
     "output_type": "stream",
     "text": [
      "[0, 1, 2, 3, 6, 8, 9, 11, 12, 14, 15, 17, 19, 22, 23, 24, 25, 26, 27, 29, 32, 33, 34, 35, 36, 37, 39, 41, 43, 46, 49, 50, 54, 55, 56]\n"
     ]
    }
   ],
   "source": [
    "print(sorted(y_test.unique()))"
   ]
  },
  {
   "cell_type": "markdown",
   "metadata": {},
   "source": [
    "## Подбор гиперпараметров"
   ]
  },
  {
   "cell_type": "code",
   "execution_count": 84,
   "metadata": {},
   "outputs": [],
   "source": [
    "def fit_catboost(trial, train, val, cat_features_indices):\n",
    "    X_train, y_train = train\n",
    "    X_val, y_val = val\n",
    "\n",
    "    param = {\n",
    "        'n_estimators' : 2000, # Можно не перебирать, есть Early-Stopping\n",
    "        'learning_rate': trial.suggest_float('learning_rate', 0.001, 0.1),\n",
    "        'l2_leaf_reg': trial.suggest_float('l2_leaf_reg', 3.0, 60.0),        \n",
    "        'auto_class_weights': trial.suggest_categorical('auto_class_weights', ['Balanced', 'None']),\n",
    "        'max_depth': trial.suggest_int('max_depth', 4, 10),\n",
    "        'border_count': trial.suggest_int('border_count', 32, 128)\n",
    "    }\n",
    "\n",
    "    clf = CatBoostClassifier(\n",
    "        **param,\n",
    "        loss_function='MultiClass',\n",
    "        eval_metric='TotalF1:average=Macro',\n",
    "        random_seed=RANDOM_STATE,\n",
    "        cat_features=cat_features_indices,\n",
    "        thread_count=-1,\n",
    "        task_type='GPU',\n",
    "    )\n",
    "\n",
    "    clf.fit(\n",
    "        X_train,\n",
    "        y_train,\n",
    "        eval_set=(X_val, y_val),\n",
    "        verbose=100,\n",
    "        plot=False,\n",
    "        early_stopping_rounds=100,\n",
    "    )\n",
    "\n",
    "    y_pred = clf.predict(X_val)\n",
    "    return clf, y_pred"
   ]
  },
  {
   "cell_type": "code",
   "execution_count": 85,
   "metadata": {},
   "outputs": [],
   "source": [
    "def objective(trial, X, y, cat_features_indices, return_models=False):\n",
    "    n_splits = 3\n",
    "    skf = StratifiedKFold(n_splits=n_splits, shuffle=True, random_state=RANDOM_STATE)\n",
    "\n",
    "    scores, models = [], []\n",
    "    \n",
    "    for train_idx, valid_idx in skf.split(X, y):\n",
    "        train_data = X.iloc[train_idx, :], y.iloc[train_idx]\n",
    "        valid_data = X.iloc[valid_idx, :], y.iloc[valid_idx]\n",
    "\n",
    "        # Подаем trials для перебора\n",
    "        model, y_pred = fit_catboost(trial, train_data, valid_data, cat_features_indices) # Определили выше\n",
    "        scores.append(f1_score(valid_data[1], y_pred, average='macro'))\n",
    "        models.append(model)\n",
    "         \n",
    "\n",
    "    result = np.mean(scores)\n",
    "    \n",
    "    if return_models:\n",
    "        return result, models\n",
    "    else:\n",
    "        return result"
   ]
  },
  {
   "cell_type": "code",
   "execution_count": 86,
   "metadata": {},
   "outputs": [
    {
     "name": "stderr",
     "output_type": "stream",
     "text": [
      "[I 2024-08-16 14:18:07,212] A new study created in memory with name: no-name-73681624-93cd-40cc-b2f0-a5f8bcc57114\n"
     ]
    },
    {
     "data": {
      "application/vnd.jupyter.widget-view+json": {
       "model_id": "1f50ee55bd304c02992ed33153587fc2",
       "version_major": 2,
       "version_minor": 0
      },
      "text/plain": [
       "  0%|          | 0/3 [00:00<?, ?it/s]"
      ]
     },
     "metadata": {},
     "output_type": "display_data"
    },
    {
     "name": "stdout",
     "output_type": "stream",
     "text": [
      "0:\tlearn: 0.1995064\ttest: 0.2058814\tbest: 0.2058814 (0)\ttotal: 46.1ms\tremaining: 1m 32s\n",
      "100:\tlearn: 0.8283260\ttest: 0.8269430\tbest: 0.8288056 (99)\ttotal: 4.25s\tremaining: 1m 19s\n",
      "200:\tlearn: 0.8983680\ttest: 0.8911531\tbest: 0.8911531 (200)\ttotal: 8.24s\tremaining: 1m 13s\n",
      "300:\tlearn: 0.9298635\ttest: 0.9232028\tbest: 0.9234687 (295)\ttotal: 12.1s\tremaining: 1m 8s\n",
      "400:\tlearn: 0.9508799\ttest: 0.9433375\tbest: 0.9433375 (400)\ttotal: 16s\tremaining: 1m 3s\n",
      "500:\tlearn: 0.9634937\ttest: 0.9571985\tbest: 0.9572479 (498)\ttotal: 19.9s\tremaining: 59.5s\n",
      "600:\tlearn: 0.9710818\ttest: 0.9674571\tbest: 0.9674571 (600)\ttotal: 23.7s\tremaining: 55.2s\n",
      "700:\tlearn: 0.9775241\ttest: 0.9742068\tbest: 0.9742068 (700)\ttotal: 27.6s\tremaining: 51.2s\n",
      "800:\tlearn: 0.9829600\ttest: 0.9803635\tbest: 0.9803635 (800)\ttotal: 31.5s\tremaining: 47.1s\n",
      "900:\tlearn: 0.9855000\ttest: 0.9826988\tbest: 0.9826988 (899)\ttotal: 35.2s\tremaining: 43s\n",
      "1000:\tlearn: 0.9867899\ttest: 0.9842312\tbest: 0.9842312 (1000)\ttotal: 38.9s\tremaining: 38.9s\n",
      "1100:\tlearn: 0.9883101\ttest: 0.9850154\tbest: 0.9850614 (1080)\ttotal: 42.6s\tremaining: 34.7s\n",
      "1200:\tlearn: 0.9892862\ttest: 0.9863649\tbest: 0.9863649 (1178)\ttotal: 46.2s\tremaining: 30.7s\n",
      "1300:\tlearn: 0.9898951\ttest: 0.9867308\tbest: 0.9868252 (1262)\ttotal: 49.8s\tremaining: 26.8s\n",
      "1400:\tlearn: 0.9908965\ttest: 0.9879173\tbest: 0.9879173 (1397)\ttotal: 53.5s\tremaining: 22.9s\n",
      "1500:\tlearn: 0.9914252\ttest: 0.9897671\tbest: 0.9897679 (1494)\ttotal: 57.1s\tremaining: 19s\n",
      "1600:\tlearn: 0.9915625\ttest: 0.9903851\tbest: 0.9904592 (1576)\ttotal: 1m\tremaining: 15.1s\n",
      "1700:\tlearn: 0.9926788\ttest: 0.9917126\tbest: 0.9917126 (1694)\ttotal: 1m 4s\tremaining: 11.3s\n",
      "1800:\tlearn: 0.9932231\ttest: 0.9918023\tbest: 0.9918023 (1794)\ttotal: 1m 7s\tremaining: 7.48s\n",
      "1900:\tlearn: 0.9936305\ttest: 0.9922678\tbest: 0.9922678 (1885)\ttotal: 1m 11s\tremaining: 3.71s\n",
      "1999:\tlearn: 0.9940775\ttest: 0.9926087\tbest: 0.9926087 (1927)\ttotal: 1m 14s\tremaining: 0us\n",
      "bestTest = 0.992608684\n",
      "bestIteration = 1927\n",
      "Shrink model to first 1928 iterations.\n",
      "0:\tlearn: 0.2209075\ttest: 0.2120009\tbest: 0.2120009 (0)\ttotal: 40.9ms\tremaining: 1m 21s\n",
      "100:\tlearn: 0.8313043\ttest: 0.8266878\tbest: 0.8266878 (100)\ttotal: 4.39s\tremaining: 1m 22s\n",
      "200:\tlearn: 0.8940657\ttest: 0.8923424\tbest: 0.8923424 (200)\ttotal: 8.61s\tremaining: 1m 17s\n",
      "300:\tlearn: 0.9255573\ttest: 0.9196083\tbest: 0.9199474 (298)\ttotal: 12.6s\tremaining: 1m 10s\n",
      "400:\tlearn: 0.9477956\ttest: 0.9422290\tbest: 0.9424059 (397)\ttotal: 16.6s\tremaining: 1m 6s\n",
      "500:\tlearn: 0.9605755\ttest: 0.9556975\tbest: 0.9556975 (500)\ttotal: 20.6s\tremaining: 1m 1s\n",
      "600:\tlearn: 0.9713161\ttest: 0.9662909\tbest: 0.9662909 (600)\ttotal: 24.5s\tremaining: 57.1s\n",
      "700:\tlearn: 0.9768726\ttest: 0.9727831\tbest: 0.9727831 (700)\ttotal: 28.5s\tremaining: 52.9s\n",
      "800:\tlearn: 0.9819415\ttest: 0.9774349\tbest: 0.9775272 (797)\ttotal: 32.5s\tremaining: 48.6s\n",
      "900:\tlearn: 0.9855959\ttest: 0.9810334\tbest: 0.9811267 (899)\ttotal: 36.4s\tremaining: 44.4s\n",
      "1000:\tlearn: 0.9878406\ttest: 0.9827972\tbest: 0.9828954 (997)\ttotal: 40.2s\tremaining: 40.1s\n",
      "1100:\tlearn: 0.9889482\ttest: 0.9835888\tbest: 0.9835888 (1091)\ttotal: 43.9s\tremaining: 35.8s\n",
      "1200:\tlearn: 0.9900904\ttest: 0.9850545\tbest: 0.9850545 (1196)\ttotal: 47.6s\tremaining: 31.7s\n",
      "1300:\tlearn: 0.9912122\ttest: 0.9861228\tbest: 0.9861228 (1286)\ttotal: 51.3s\tremaining: 27.6s\n",
      "1400:\tlearn: 0.9919787\ttest: 0.9872842\tbest: 0.9872842 (1398)\ttotal: 56.7s\tremaining: 24.2s\n",
      "1500:\tlearn: 0.9925641\ttest: 0.9876918\tbest: 0.9877585 (1447)\ttotal: 1m 6s\tremaining: 21.9s\n",
      "1600:\tlearn: 0.9928507\ttest: 0.9888039\tbest: 0.9888039 (1599)\ttotal: 1m 15s\tremaining: 18.8s\n",
      "1700:\tlearn: 0.9934108\ttest: 0.9892331\tbest: 0.9892331 (1685)\ttotal: 1m 24s\tremaining: 14.9s\n",
      "1800:\tlearn: 0.9938164\ttest: 0.9896044\tbest: 0.9896044 (1794)\ttotal: 1m 33s\tremaining: 10.4s\n",
      "1900:\tlearn: 0.9943217\ttest: 0.9899591\tbest: 0.9899591 (1894)\ttotal: 1m 43s\tremaining: 5.37s\n",
      "1999:\tlearn: 0.9945503\ttest: 0.9904412\tbest: 0.9904412 (1993)\ttotal: 1m 52s\tremaining: 0us\n",
      "bestTest = 0.9904411856\n",
      "bestIteration = 1993\n",
      "Shrink model to first 1994 iterations.\n",
      "0:\tlearn: 0.2025309\ttest: 0.1986895\tbest: 0.1986895 (0)\ttotal: 97ms\tremaining: 3m 13s\n",
      "100:\tlearn: 0.8266658\ttest: 0.8108315\tbest: 0.8122935 (98)\ttotal: 9.93s\tremaining: 3m 6s\n",
      "200:\tlearn: 0.9003956\ttest: 0.8878226\tbest: 0.8891658 (196)\ttotal: 19.6s\tremaining: 2m 55s\n",
      "300:\tlearn: 0.9322478\ttest: 0.9220371\tbest: 0.9220371 (300)\ttotal: 29.2s\tremaining: 2m 44s\n",
      "400:\tlearn: 0.9507286\ttest: 0.9449496\tbest: 0.9449496 (400)\ttotal: 38.7s\tremaining: 2m 34s\n",
      "500:\tlearn: 0.9612162\ttest: 0.9546273\tbest: 0.9546930 (499)\ttotal: 48.3s\tremaining: 2m 24s\n",
      "600:\tlearn: 0.9676928\ttest: 0.9622288\tbest: 0.9622288 (600)\ttotal: 57.9s\tremaining: 2m 14s\n",
      "700:\tlearn: 0.9736822\ttest: 0.9686771\tbest: 0.9686771 (700)\ttotal: 1m 7s\tremaining: 2m 4s\n",
      "800:\tlearn: 0.9765112\ttest: 0.9713862\tbest: 0.9713862 (799)\ttotal: 1m 16s\tremaining: 1m 55s\n",
      "900:\tlearn: 0.9787864\ttest: 0.9736032\tbest: 0.9736736 (895)\ttotal: 1m 26s\tremaining: 1m 45s\n",
      "1000:\tlearn: 0.9809477\ttest: 0.9755999\tbest: 0.9755999 (1000)\ttotal: 1m 35s\tremaining: 1m 35s\n",
      "1100:\tlearn: 0.9820979\ttest: 0.9767659\tbest: 0.9767659 (1100)\ttotal: 1m 44s\tremaining: 1m 25s\n",
      "1200:\tlearn: 0.9826273\ttest: 0.9778780\tbest: 0.9778780 (1196)\ttotal: 1m 54s\tremaining: 1m 16s\n",
      "1300:\tlearn: 0.9832942\ttest: 0.9781693\tbest: 0.9781693 (1283)\ttotal: 2m 3s\tremaining: 1m 6s\n",
      "1400:\tlearn: 0.9842963\ttest: 0.9786567\tbest: 0.9787552 (1399)\ttotal: 2m 12s\tremaining: 56.8s\n",
      "1500:\tlearn: 0.9847428\ttest: 0.9791649\tbest: 0.9791649 (1500)\ttotal: 2m 22s\tremaining: 47.3s\n",
      "1600:\tlearn: 0.9851740\ttest: 0.9794649\tbest: 0.9795173 (1597)\ttotal: 2m 31s\tremaining: 37.7s\n",
      "1700:\tlearn: 0.9860510\ttest: 0.9806425\tbest: 0.9807172 (1698)\ttotal: 2m 40s\tremaining: 28.3s\n",
      "1800:\tlearn: 0.9866469\ttest: 0.9821679\tbest: 0.9821679 (1800)\ttotal: 2m 50s\tremaining: 18.8s\n",
      "1900:\tlearn: 0.9878832\ttest: 0.9835508\tbest: 0.9835678 (1883)\ttotal: 2m 59s\tremaining: 9.34s\n",
      "1999:\tlearn: 0.9889581\ttest: 0.9850252\tbest: 0.9850252 (1998)\ttotal: 3m 8s\tremaining: 0us\n",
      "bestTest = 0.9850251795\n",
      "bestIteration = 1998\n",
      "Shrink model to first 1999 iterations.\n",
      "[I 2024-08-16 14:24:29,366] Trial 0 finished with value: 0.9826195052095215 and parameters: {'learning_rate': 0.02571790970250488, 'l2_leaf_reg': 32.11006061384563, 'auto_class_weights': 'Balanced', 'max_depth': 5, 'border_count': 39}. Best is trial 0 with value: 0.9826195052095215.\n",
      "0:\tlearn: 0.3824798\ttest: 0.3804157\tbest: 0.3804157 (0)\ttotal: 361ms\tremaining: 12m 1s\n",
      "100:\tlearn: 0.8790799\ttest: 0.8564030\tbest: 0.8564030 (100)\ttotal: 36s\tremaining: 11m 17s\n",
      "200:\tlearn: 0.9710020\ttest: 0.9525076\tbest: 0.9527333 (195)\ttotal: 1m 9s\tremaining: 10m 21s\n",
      "300:\tlearn: 0.9907792\ttest: 0.9860582\tbest: 0.9860582 (299)\ttotal: 1m 40s\tremaining: 9m 28s\n",
      "400:\tlearn: 0.9954299\ttest: 0.9945534\tbest: 0.9946387 (395)\ttotal: 2m 11s\tremaining: 8m 44s\n",
      "500:\tlearn: 0.9979068\ttest: 0.9973341\tbest: 0.9975718 (499)\ttotal: 2m 41s\tremaining: 8m 2s\n",
      "600:\tlearn: 0.9985506\ttest: 0.9982309\tbest: 0.9982309 (600)\ttotal: 3m 9s\tremaining: 7m 22s\n",
      "700:\tlearn: 0.9992201\ttest: 0.9989104\tbest: 0.9989104 (698)\ttotal: 3m 37s\tremaining: 6m 42s\n",
      "800:\tlearn: 0.9998911\ttest: 0.9994411\tbest: 0.9994411 (772)\ttotal: 4m 6s\tremaining: 6m 8s\n",
      "900:\tlearn: 0.9999141\ttest: 0.9998281\tbest: 0.9998281 (880)\ttotal: 4m 33s\tremaining: 5m 33s\n",
      "bestTest = 0.999828065\n",
      "bestIteration = 880\n",
      "Shrink model to first 881 iterations.\n",
      "0:\tlearn: 0.3758739\ttest: 0.3661990\tbest: 0.3661990 (0)\ttotal: 347ms\tremaining: 11m 33s\n",
      "100:\tlearn: 0.8654970\ttest: 0.8468228\tbest: 0.8468228 (100)\ttotal: 36s\tremaining: 11m 16s\n",
      "200:\tlearn: 0.9671210\ttest: 0.9654402\tbest: 0.9654402 (200)\ttotal: 1m 9s\tremaining: 10m 20s\n",
      "300:\tlearn: 0.9934508\ttest: 0.9920040\tbest: 0.9920040 (299)\ttotal: 1m 40s\tremaining: 9m 28s\n",
      "400:\tlearn: 0.9976768\ttest: 0.9949983\tbest: 0.9950048 (391)\ttotal: 2m 11s\tremaining: 8m 42s\n",
      "500:\tlearn: 0.9984614\ttest: 0.9975320\tbest: 0.9975320 (455)\ttotal: 2m 40s\tremaining: 8m 1s\n",
      "600:\tlearn: 0.9986127\ttest: 0.9976109\tbest: 0.9976109 (548)\ttotal: 3m 8s\tremaining: 7m 19s\n",
      "bestTest = 0.9976109362\n",
      "bestIteration = 548\n",
      "Shrink model to first 549 iterations.\n",
      "0:\tlearn: 0.3291549\ttest: 0.3229286\tbest: 0.3229286 (0)\ttotal: 320ms\tremaining: 10m 40s\n",
      "100:\tlearn: 0.8851528\ttest: 0.8735552\tbest: 0.8735552 (100)\ttotal: 36.6s\tremaining: 11m 28s\n",
      "200:\tlearn: 0.9638655\ttest: 0.9535441\tbest: 0.9535441 (200)\ttotal: 1m 9s\tremaining: 10m 25s\n",
      "300:\tlearn: 0.9899310\ttest: 0.9859904\tbest: 0.9859904 (293)\ttotal: 1m 41s\tremaining: 9m 30s\n",
      "400:\tlearn: 0.9942442\ttest: 0.9898287\tbest: 0.9898287 (398)\ttotal: 2m 10s\tremaining: 8m 41s\n",
      "500:\tlearn: 0.9951379\ttest: 0.9903493\tbest: 0.9903493 (409)\ttotal: 2m 38s\tremaining: 7m 55s\n",
      "600:\tlearn: 0.9961721\ttest: 0.9911046\tbest: 0.9911046 (586)\ttotal: 3m 6s\tremaining: 7m 14s\n",
      "700:\tlearn: 0.9969512\ttest: 0.9934781\tbest: 0.9934781 (698)\ttotal: 3m 34s\tremaining: 6m 37s\n",
      "800:\tlearn: 0.9980139\ttest: 0.9953594\tbest: 0.9953594 (798)\ttotal: 4m 2s\tremaining: 6m 3s\n",
      "900:\tlearn: 0.9984408\ttest: 0.9962220\tbest: 0.9962220 (869)\ttotal: 4m 30s\tremaining: 5m 30s\n",
      "1000:\tlearn: 0.9988258\ttest: 0.9966767\tbest: 0.9966767 (1000)\ttotal: 4m 59s\tremaining: 4m 59s\n",
      "1100:\tlearn: 0.9991299\ttest: 0.9971836\tbest: 0.9971836 (1099)\ttotal: 5m 28s\tremaining: 4m 28s\n",
      "1200:\tlearn: 0.9994922\ttest: 0.9979296\tbest: 0.9979296 (1167)\ttotal: 5m 57s\tremaining: 3m 58s\n",
      "bestTest = 0.9979296408\n",
      "bestIteration = 1167\n",
      "Shrink model to first 1168 iterations.\n",
      "[I 2024-08-16 14:39:10,815] Trial 1 finished with value: 0.998456213980594 and parameters: {'learning_rate': 0.05328466110887766, 'l2_leaf_reg': 17.73969853470537, 'auto_class_weights': 'None', 'max_depth': 9, 'border_count': 109}. Best is trial 1 with value: 0.998456213980594.\n",
      "0:\tlearn: 0.3605711\ttest: 0.3450678\tbest: 0.3450678 (0)\ttotal: 159ms\tremaining: 5m 18s\n",
      "100:\tlearn: 0.9233993\ttest: 0.9168132\tbest: 0.9168132 (100)\ttotal: 15.9s\tremaining: 4m 58s\n",
      "200:\tlearn: 0.9689949\ttest: 0.9619689\tbest: 0.9619689 (200)\ttotal: 30.6s\tremaining: 4m 33s\n",
      "300:\tlearn: 0.9813691\ttest: 0.9787968\tbest: 0.9787968 (299)\ttotal: 45.2s\tremaining: 4m 14s\n",
      "400:\tlearn: 0.9892184\ttest: 0.9865228\tbest: 0.9866150 (395)\ttotal: 59.5s\tremaining: 3m 57s\n",
      "500:\tlearn: 0.9922301\ttest: 0.9896599\tbest: 0.9896599 (499)\ttotal: 1m 13s\tremaining: 3m 39s\n",
      "600:\tlearn: 0.9943883\ttest: 0.9917671\tbest: 0.9917671 (600)\ttotal: 1m 26s\tremaining: 3m 22s\n",
      "700:\tlearn: 0.9952339\ttest: 0.9923991\tbest: 0.9923991 (698)\ttotal: 1m 40s\tremaining: 3m 5s\n",
      "800:\tlearn: 0.9961567\ttest: 0.9943413\tbest: 0.9943413 (795)\ttotal: 1m 53s\tremaining: 2m 49s\n",
      "900:\tlearn: 0.9966899\ttest: 0.9949602\tbest: 0.9949755 (875)\ttotal: 2m 6s\tremaining: 2m 34s\n",
      "1000:\tlearn: 0.9970942\ttest: 0.9952717\tbest: 0.9952717 (966)\ttotal: 2m 19s\tremaining: 2m 19s\n",
      "1100:\tlearn: 0.9976630\ttest: 0.9960189\tbest: 0.9960189 (1100)\ttotal: 2m 33s\tremaining: 2m 5s\n",
      "1200:\tlearn: 0.9983423\ttest: 0.9962717\tbest: 0.9962717 (1179)\ttotal: 2m 46s\tremaining: 1m 50s\n",
      "1300:\tlearn: 0.9985730\ttest: 0.9970284\tbest: 0.9970284 (1292)\ttotal: 3m\tremaining: 1m 36s\n",
      "1400:\tlearn: 0.9987222\ttest: 0.9976061\tbest: 0.9976061 (1396)\ttotal: 3m 13s\tremaining: 1m 22s\n",
      "1500:\tlearn: 0.9988706\ttest: 0.9977550\tbest: 0.9977550 (1475)\ttotal: 3m 26s\tremaining: 1m 8s\n",
      "1600:\tlearn: 0.9989222\ttest: 0.9978962\tbest: 0.9978962 (1526)\ttotal: 3m 40s\tremaining: 54.9s\n",
      "bestTest = 0.9978961915\n",
      "bestIteration = 1526\n",
      "Shrink model to first 1527 iterations.\n",
      "0:\tlearn: 0.3570315\ttest: 0.3512493\tbest: 0.3512493 (0)\ttotal: 158ms\tremaining: 5m 16s\n",
      "100:\tlearn: 0.9306590\ttest: 0.9280171\tbest: 0.9280171 (100)\ttotal: 16.2s\tremaining: 5m 5s\n",
      "200:\tlearn: 0.9693040\ttest: 0.9648530\tbest: 0.9648531 (199)\ttotal: 31s\tremaining: 4m 37s\n",
      "300:\tlearn: 0.9849839\ttest: 0.9799344\tbest: 0.9799344 (298)\ttotal: 45.4s\tremaining: 4m 16s\n",
      "400:\tlearn: 0.9919589\ttest: 0.9886115\tbest: 0.9889661 (396)\ttotal: 59.6s\tremaining: 3m 57s\n",
      "500:\tlearn: 0.9943889\ttest: 0.9909641\tbest: 0.9909641 (497)\ttotal: 1m 13s\tremaining: 3m 39s\n",
      "600:\tlearn: 0.9952336\ttest: 0.9916005\tbest: 0.9916005 (598)\ttotal: 1m 26s\tremaining: 3m 22s\n",
      "700:\tlearn: 0.9957098\ttest: 0.9917720\tbest: 0.9919106 (628)\ttotal: 1m 40s\tremaining: 3m 6s\n",
      "800:\tlearn: 0.9962159\ttest: 0.9930323\tbest: 0.9930412 (780)\ttotal: 1m 53s\tremaining: 2m 50s\n",
      "900:\tlearn: 0.9972587\ttest: 0.9939368\tbest: 0.9939368 (900)\ttotal: 2m 6s\tremaining: 2m 34s\n",
      "1000:\tlearn: 0.9976562\ttest: 0.9943051\tbest: 0.9943051 (955)\ttotal: 2m 20s\tremaining: 2m 19s\n",
      "1100:\tlearn: 0.9978611\ttest: 0.9946262\tbest: 0.9946262 (1045)\ttotal: 2m 33s\tremaining: 2m 5s\n",
      "1200:\tlearn: 0.9980358\ttest: 0.9948958\tbest: 0.9948958 (1153)\ttotal: 2m 46s\tremaining: 1m 51s\n",
      "1300:\tlearn: 0.9984447\ttest: 0.9952049\tbest: 0.9952049 (1286)\ttotal: 3m\tremaining: 1m 36s\n",
      "1400:\tlearn: 0.9987252\ttest: 0.9953551\tbest: 0.9954280 (1391)\ttotal: 3m 13s\tremaining: 1m 22s\n",
      "1500:\tlearn: 0.9988153\ttest: 0.9956201\tbest: 0.9956201 (1462)\ttotal: 3m 26s\tremaining: 1m 8s\n",
      "1600:\tlearn: 0.9990685\ttest: 0.9958585\tbest: 0.9958585 (1557)\ttotal: 3m 40s\tremaining: 54.9s\n",
      "1700:\tlearn: 0.9991825\ttest: 0.9963195\tbest: 0.9963195 (1687)\ttotal: 3m 53s\tremaining: 41.1s\n",
      "1800:\tlearn: 0.9992569\ttest: 0.9963711\tbest: 0.9963711 (1760)\ttotal: 4m 7s\tremaining: 27.3s\n",
      "1900:\tlearn: 0.9993972\ttest: 0.9966608\tbest: 0.9968527 (1895)\ttotal: 4m 20s\tremaining: 13.6s\n",
      "1999:\tlearn: 0.9996302\ttest: 0.9970278\tbest: 0.9970278 (1994)\ttotal: 4m 33s\tremaining: 0us\n",
      "bestTest = 0.9970277966\n",
      "bestIteration = 1994\n",
      "Shrink model to first 1995 iterations.\n",
      "0:\tlearn: 0.3566666\ttest: 0.3565222\tbest: 0.3565222 (0)\ttotal: 159ms\tremaining: 5m 17s\n",
      "100:\tlearn: 0.9241842\ttest: 0.9148664\tbest: 0.9148664 (100)\ttotal: 16.3s\tremaining: 5m 6s\n",
      "200:\tlearn: 0.9677486\ttest: 0.9617633\tbest: 0.9628600 (191)\ttotal: 31.1s\tremaining: 4m 38s\n",
      "300:\tlearn: 0.9815452\ttest: 0.9784714\tbest: 0.9784714 (300)\ttotal: 45.7s\tremaining: 4m 18s\n",
      "400:\tlearn: 0.9875582\ttest: 0.9855830\tbest: 0.9856226 (397)\ttotal: 1m\tremaining: 3m 59s\n",
      "500:\tlearn: 0.9903338\ttest: 0.9876213\tbest: 0.9876213 (495)\ttotal: 1m 13s\tremaining: 3m 39s\n",
      "600:\tlearn: 0.9912210\ttest: 0.9889534\tbest: 0.9889534 (591)\ttotal: 1m 26s\tremaining: 3m 21s\n",
      "700:\tlearn: 0.9920785\ttest: 0.9895184\tbest: 0.9895184 (699)\ttotal: 1m 40s\tremaining: 3m 5s\n",
      "800:\tlearn: 0.9926200\ttest: 0.9902326\tbest: 0.9902326 (799)\ttotal: 1m 53s\tremaining: 2m 49s\n",
      "900:\tlearn: 0.9940564\ttest: 0.9909269\tbest: 0.9909269 (899)\ttotal: 2m 6s\tremaining: 2m 34s\n",
      "1000:\tlearn: 0.9949857\ttest: 0.9919869\tbest: 0.9919869 (981)\ttotal: 2m 20s\tremaining: 2m 19s\n",
      "1100:\tlearn: 0.9954998\ttest: 0.9925331\tbest: 0.9925331 (1097)\ttotal: 2m 33s\tremaining: 2m 5s\n",
      "1200:\tlearn: 0.9960600\ttest: 0.9928198\tbest: 0.9928198 (1197)\ttotal: 2m 46s\tremaining: 1m 51s\n",
      "1300:\tlearn: 0.9969421\ttest: 0.9937134\tbest: 0.9937134 (1295)\ttotal: 3m\tremaining: 1m 37s\n",
      "1400:\tlearn: 0.9978200\ttest: 0.9947014\tbest: 0.9947014 (1381)\ttotal: 3m 14s\tremaining: 1m 23s\n",
      "1500:\tlearn: 0.9981801\ttest: 0.9950793\tbest: 0.9951020 (1486)\ttotal: 3m 27s\tremaining: 1m 9s\n",
      "1600:\tlearn: 0.9983481\ttest: 0.9955268\tbest: 0.9955526 (1560)\ttotal: 3m 41s\tremaining: 55.2s\n",
      "1700:\tlearn: 0.9987141\ttest: 0.9962864\tbest: 0.9962864 (1698)\ttotal: 3m 55s\tremaining: 41.3s\n",
      "1800:\tlearn: 0.9989229\ttest: 0.9965016\tbest: 0.9965016 (1769)\ttotal: 4m 8s\tremaining: 27.5s\n",
      "1900:\tlearn: 0.9991873\ttest: 0.9970837\tbest: 0.9970837 (1883)\ttotal: 4m 22s\tremaining: 13.7s\n",
      "1999:\tlearn: 0.9992951\ttest: 0.9972635\tbest: 0.9972635 (1992)\ttotal: 4m 35s\tremaining: 0us\n",
      "bestTest = 0.997263454\n",
      "bestIteration = 1992\n",
      "Shrink model to first 1993 iterations.\n",
      "[I 2024-08-16 14:52:10,018] Trial 2 finished with value: 0.9951370052938971 and parameters: {'learning_rate': 0.0465390323230857, 'l2_leaf_reg': 42.5820542067631, 'auto_class_weights': 'Balanced', 'max_depth': 7, 'border_count': 92}. Best is trial 1 with value: 0.998456213980594.\n",
      "CPU times: total: 1h 9min 17s\n",
      "Wall time: 34min 2s\n"
     ]
    }
   ],
   "source": [
    "%%time\n",
    "\n",
    "study = optuna.create_study(direction='maximize')\n",
    "study.optimize(\n",
    "                lambda trial: objective(trial, X, y, categorical_features),\n",
    "                n_trials=3,\n",
    "                show_progress_bar=True,\n",
    ")"
   ]
  },
  {
   "cell_type": "code",
   "execution_count": 87,
   "metadata": {},
   "outputs": [
    {
     "name": "stdout",
     "output_type": "stream",
     "text": [
      "Best trial: score 0.998456213980594, params {'learning_rate': 0.05328466110887766, 'l2_leaf_reg': 17.73969853470537, 'auto_class_weights': 'None', 'max_depth': 9, 'border_count': 109}\n"
     ]
    }
   ],
   "source": [
    "print(\"Best trial: score {}, params {}\".format(study.best_trial.value, study.best_trial.params))"
   ]
  },
  {
   "cell_type": "code",
   "execution_count": 88,
   "metadata": {},
   "outputs": [
    {
     "name": "stdout",
     "output_type": "stream",
     "text": [
      "0:\tlearn: 0.3824798\ttest: 0.3804157\tbest: 0.3804157 (0)\ttotal: 358ms\tremaining: 11m 55s\n",
      "100:\tlearn: 0.8790799\ttest: 0.8564030\tbest: 0.8564030 (100)\ttotal: 36.2s\tremaining: 11m 21s\n",
      "200:\tlearn: 0.9710020\ttest: 0.9525076\tbest: 0.9527333 (195)\ttotal: 1m 10s\tremaining: 10m 26s\n",
      "300:\tlearn: 0.9907792\ttest: 0.9860582\tbest: 0.9860582 (299)\ttotal: 1m 41s\tremaining: 9m 32s\n",
      "400:\tlearn: 0.9954299\ttest: 0.9945534\tbest: 0.9946387 (395)\ttotal: 2m 12s\tremaining: 8m 48s\n",
      "500:\tlearn: 0.9979068\ttest: 0.9973341\tbest: 0.9975718 (499)\ttotal: 2m 42s\tremaining: 8m 6s\n",
      "600:\tlearn: 0.9985506\ttest: 0.9982309\tbest: 0.9982309 (600)\ttotal: 3m 11s\tremaining: 7m 25s\n",
      "700:\tlearn: 0.9992201\ttest: 0.9989104\tbest: 0.9989104 (698)\ttotal: 3m 39s\tremaining: 6m 46s\n",
      "800:\tlearn: 0.9998911\ttest: 0.9994411\tbest: 0.9994411 (772)\ttotal: 4m 8s\tremaining: 6m 11s\n",
      "900:\tlearn: 0.9999141\ttest: 0.9998281\tbest: 0.9998281 (880)\ttotal: 4m 35s\tremaining: 5m 36s\n",
      "bestTest = 0.999828065\n",
      "bestIteration = 880\n",
      "Shrink model to first 881 iterations.\n",
      "0:\tlearn: 0.3758739\ttest: 0.3661990\tbest: 0.3661990 (0)\ttotal: 352ms\tremaining: 11m 43s\n",
      "100:\tlearn: 0.8654970\ttest: 0.8468228\tbest: 0.8468228 (100)\ttotal: 36.3s\tremaining: 11m 22s\n",
      "200:\tlearn: 0.9671210\ttest: 0.9654402\tbest: 0.9654402 (200)\ttotal: 1m 9s\tremaining: 10m 25s\n",
      "300:\tlearn: 0.9934508\ttest: 0.9920040\tbest: 0.9920040 (299)\ttotal: 1m 41s\tremaining: 9m 32s\n",
      "400:\tlearn: 0.9976768\ttest: 0.9949983\tbest: 0.9950048 (391)\ttotal: 2m 11s\tremaining: 8m 46s\n",
      "500:\tlearn: 0.9984614\ttest: 0.9975320\tbest: 0.9975320 (455)\ttotal: 2m 42s\tremaining: 8m 4s\n",
      "600:\tlearn: 0.9986127\ttest: 0.9976109\tbest: 0.9976109 (548)\ttotal: 3m 10s\tremaining: 7m 24s\n",
      "bestTest = 0.9976109362\n",
      "bestIteration = 548\n",
      "Shrink model to first 549 iterations.\n",
      "0:\tlearn: 0.3291549\ttest: 0.3229286\tbest: 0.3229286 (0)\ttotal: 324ms\tremaining: 10m 47s\n",
      "100:\tlearn: 0.8851528\ttest: 0.8735552\tbest: 0.8735552 (100)\ttotal: 36.8s\tremaining: 11m 31s\n",
      "200:\tlearn: 0.9638655\ttest: 0.9535441\tbest: 0.9535441 (200)\ttotal: 1m 10s\tremaining: 10m 30s\n",
      "300:\tlearn: 0.9899310\ttest: 0.9859904\tbest: 0.9859904 (293)\ttotal: 1m 41s\tremaining: 9m 34s\n",
      "400:\tlearn: 0.9942442\ttest: 0.9898287\tbest: 0.9898287 (398)\ttotal: 2m 11s\tremaining: 8m 45s\n",
      "500:\tlearn: 0.9951379\ttest: 0.9903493\tbest: 0.9903493 (409)\ttotal: 2m 39s\tremaining: 7m 58s\n",
      "600:\tlearn: 0.9961721\ttest: 0.9911046\tbest: 0.9911046 (586)\ttotal: 3m 7s\tremaining: 7m 17s\n",
      "700:\tlearn: 0.9969512\ttest: 0.9934781\tbest: 0.9934781 (698)\ttotal: 3m 35s\tremaining: 6m 39s\n",
      "800:\tlearn: 0.9980139\ttest: 0.9953594\tbest: 0.9953594 (798)\ttotal: 4m 3s\tremaining: 6m 4s\n",
      "900:\tlearn: 0.9984408\ttest: 0.9962220\tbest: 0.9962220 (869)\ttotal: 4m 32s\tremaining: 5m 31s\n",
      "1000:\tlearn: 0.9988258\ttest: 0.9966767\tbest: 0.9966767 (1000)\ttotal: 5m 1s\tremaining: 5m\n",
      "1100:\tlearn: 0.9991299\ttest: 0.9971836\tbest: 0.9971836 (1099)\ttotal: 5m 30s\tremaining: 4m 29s\n",
      "1200:\tlearn: 0.9994922\ttest: 0.9979296\tbest: 0.9979296 (1167)\ttotal: 5m 59s\tremaining: 3m 59s\n",
      "bestTest = 0.9979296408\n",
      "bestIteration = 1167\n",
      "Shrink model to first 1168 iterations.\n",
      "CPU times: total: 29min 43s\n",
      "Wall time: 14min 47s\n"
     ]
    }
   ],
   "source": [
    "%%time\n",
    "\n",
    "valid_scores, models_all_features = objective(\n",
    "    optuna.trial.FixedTrial(study.best_params),\n",
    "    X, \n",
    "    y, \n",
    "    categorical_features,\n",
    "    return_models=True,\n",
    ")"
   ]
  },
  {
   "cell_type": "code",
   "execution_count": 89,
   "metadata": {},
   "outputs": [
    {
     "data": {
      "text/plain": [
       "[<catboost.core.CatBoostClassifier at 0x1a291626890>,\n",
       " <catboost.core.CatBoostClassifier at 0x1a28e7f2d70>,\n",
       " <catboost.core.CatBoostClassifier at 0x1a29166f160>]"
      ]
     },
     "execution_count": 89,
     "metadata": {},
     "output_type": "execute_result"
    }
   ],
   "source": [
    "models_all_features"
   ]
  },
  {
   "cell_type": "code",
   "execution_count": 90,
   "metadata": {},
   "outputs": [
    {
     "data": {
      "text/plain": [
       "0.998456213980594"
      ]
     },
     "execution_count": 90,
     "metadata": {},
     "output_type": "execute_result"
    }
   ],
   "source": [
    "valid_scores"
   ]
  },
  {
   "cell_type": "code",
   "execution_count": 91,
   "metadata": {},
   "outputs": [
    {
     "name": "stdout",
     "output_type": "stream",
     "text": [
      "881\n",
      "549\n",
      "1168\n"
     ]
    }
   ],
   "source": [
    "for m in models_all_features:\n",
    "    print(m.tree_count_)"
   ]
  },
  {
   "cell_type": "code",
   "execution_count": 92,
   "metadata": {},
   "outputs": [
    {
     "name": "stdout",
     "output_type": "stream",
     "text": [
      "{'nan_mode': 'Min', 'gpu_ram_part': 0.95, 'eval_metric': 'TotalF1:average=Macro', 'combinations_ctr': ['Borders:CtrBorderCount=15:CtrBorderType=Uniform:TargetBorderCount=1:TargetBorderType=MinEntropy:Prior=0/1:Prior=0.5/1:Prior=1/1', 'FeatureFreq:CtrBorderCount=15:CtrBorderType=Median:Prior=0/1'], 'iterations': 2000, 'fold_permutation_block': 64, 'leaf_estimation_method': 'Newton', 'observations_to_bootstrap': 'TestOnly', 'od_pval': 0, 'random_score_type': 'NormalWithModelSizeDecrease', 'counter_calc_method': 'SkipTest', 'grow_policy': 'SymmetricTree', 'penalties_coefficient': 1, 'boosting_type': 'Plain', 'ctr_history_unit': 'Sample', 'feature_border_type': 'GreedyLogSum', 'bayesian_matrix_reg': 0.10000000149011612, 'one_hot_max_size': 2, 'devices': '-1', 'eval_fraction': 0, 'pinned_memory_bytes': '104857600', 'force_unit_auto_pair_weights': False, 'l2_leaf_reg': 17.73969841003418, 'random_strength': 1, 'od_type': 'Iter', 'rsm': 1, 'boost_from_average': False, 'gpu_cat_features_storage': 'GpuRam', 'fold_size_loss_normalization': False, 'max_ctr_complexity': 4, 'model_size_reg': 0.5, 'simple_ctr': ['Borders:CtrBorderCount=15:CtrBorderType=Uniform:TargetBorderCount=1:TargetBorderType=MinEntropy:Prior=0/1:Prior=0.5/1:Prior=1/1', 'FeatureFreq:CtrBorderCount=15:CtrBorderType=MinEntropy:Prior=0/1'], 'pool_metainfo_options': {'tags': {}}, 'use_best_model': True, 'meta_l2_frequency': 0, 'od_wait': 100, 'class_names': [0, 1, 2, 3, 6, 8, 9, 11, 12, 14, 15, 17, 19, 22, 23, 24, 25, 26, 27, 29, 32, 33, 34, 35, 36, 37, 39, 41, 43, 46, 49, 50, 54, 55, 56], 'random_seed': 42, 'depth': 9, 'ctr_target_border_count': 1, 'has_time': False, 'border_count': 109, 'min_fold_size': 100, 'data_partition': 'DocParallel', 'bagging_temperature': 1, 'classes_count': 0, 'auto_class_weights': 'None', 'leaf_estimation_backtracking': 'AnyImprovement', 'best_model_min_trees': 1, 'min_data_in_leaf': 1, 'add_ridge_penalty_to_loss_function': False, 'loss_function': 'MultiClass', 'learning_rate': 0.0532846599817276, 'meta_l2_exponent': 1, 'score_function': 'Cosine', 'task_type': 'GPU', 'leaf_estimation_iterations': 1, 'bootstrap_type': 'Bayesian', 'max_leaves': 512, 'permutation_count': 4}\n",
      "{'nan_mode': 'Min', 'gpu_ram_part': 0.95, 'eval_metric': 'TotalF1:average=Macro', 'combinations_ctr': ['Borders:CtrBorderCount=15:CtrBorderType=Uniform:TargetBorderCount=1:TargetBorderType=MinEntropy:Prior=0/1:Prior=0.5/1:Prior=1/1', 'FeatureFreq:CtrBorderCount=15:CtrBorderType=Median:Prior=0/1'], 'iterations': 2000, 'fold_permutation_block': 64, 'leaf_estimation_method': 'Newton', 'observations_to_bootstrap': 'TestOnly', 'od_pval': 0, 'random_score_type': 'NormalWithModelSizeDecrease', 'counter_calc_method': 'SkipTest', 'grow_policy': 'SymmetricTree', 'penalties_coefficient': 1, 'boosting_type': 'Plain', 'ctr_history_unit': 'Sample', 'feature_border_type': 'GreedyLogSum', 'bayesian_matrix_reg': 0.10000000149011612, 'one_hot_max_size': 2, 'devices': '-1', 'eval_fraction': 0, 'pinned_memory_bytes': '104857600', 'force_unit_auto_pair_weights': False, 'l2_leaf_reg': 17.73969841003418, 'random_strength': 1, 'od_type': 'Iter', 'rsm': 1, 'boost_from_average': False, 'gpu_cat_features_storage': 'GpuRam', 'fold_size_loss_normalization': False, 'max_ctr_complexity': 4, 'model_size_reg': 0.5, 'simple_ctr': ['Borders:CtrBorderCount=15:CtrBorderType=Uniform:TargetBorderCount=1:TargetBorderType=MinEntropy:Prior=0/1:Prior=0.5/1:Prior=1/1', 'FeatureFreq:CtrBorderCount=15:CtrBorderType=MinEntropy:Prior=0/1'], 'pool_metainfo_options': {'tags': {}}, 'use_best_model': True, 'meta_l2_frequency': 0, 'od_wait': 100, 'class_names': [0, 1, 2, 3, 6, 8, 9, 11, 12, 14, 15, 17, 19, 22, 23, 24, 25, 26, 27, 29, 32, 33, 34, 35, 36, 37, 39, 41, 43, 46, 49, 50, 54, 55, 56], 'random_seed': 42, 'depth': 9, 'ctr_target_border_count': 1, 'has_time': False, 'border_count': 109, 'min_fold_size': 100, 'data_partition': 'DocParallel', 'bagging_temperature': 1, 'classes_count': 0, 'auto_class_weights': 'None', 'leaf_estimation_backtracking': 'AnyImprovement', 'best_model_min_trees': 1, 'min_data_in_leaf': 1, 'add_ridge_penalty_to_loss_function': False, 'loss_function': 'MultiClass', 'learning_rate': 0.0532846599817276, 'meta_l2_exponent': 1, 'score_function': 'Cosine', 'task_type': 'GPU', 'leaf_estimation_iterations': 1, 'bootstrap_type': 'Bayesian', 'max_leaves': 512, 'permutation_count': 4}\n",
      "{'nan_mode': 'Min', 'gpu_ram_part': 0.95, 'eval_metric': 'TotalF1:average=Macro', 'combinations_ctr': ['Borders:CtrBorderCount=15:CtrBorderType=Uniform:TargetBorderCount=1:TargetBorderType=MinEntropy:Prior=0/1:Prior=0.5/1:Prior=1/1', 'FeatureFreq:CtrBorderCount=15:CtrBorderType=Median:Prior=0/1'], 'iterations': 2000, 'fold_permutation_block': 64, 'leaf_estimation_method': 'Newton', 'observations_to_bootstrap': 'TestOnly', 'od_pval': 0, 'random_score_type': 'NormalWithModelSizeDecrease', 'counter_calc_method': 'SkipTest', 'grow_policy': 'SymmetricTree', 'penalties_coefficient': 1, 'boosting_type': 'Plain', 'ctr_history_unit': 'Sample', 'feature_border_type': 'GreedyLogSum', 'bayesian_matrix_reg': 0.10000000149011612, 'one_hot_max_size': 2, 'devices': '-1', 'eval_fraction': 0, 'pinned_memory_bytes': '104857600', 'force_unit_auto_pair_weights': False, 'l2_leaf_reg': 17.73969841003418, 'random_strength': 1, 'od_type': 'Iter', 'rsm': 1, 'boost_from_average': False, 'gpu_cat_features_storage': 'GpuRam', 'fold_size_loss_normalization': False, 'max_ctr_complexity': 4, 'model_size_reg': 0.5, 'simple_ctr': ['Borders:CtrBorderCount=15:CtrBorderType=Uniform:TargetBorderCount=1:TargetBorderType=MinEntropy:Prior=0/1:Prior=0.5/1:Prior=1/1', 'FeatureFreq:CtrBorderCount=15:CtrBorderType=MinEntropy:Prior=0/1'], 'pool_metainfo_options': {'tags': {}}, 'use_best_model': True, 'meta_l2_frequency': 0, 'od_wait': 100, 'class_names': [0, 1, 2, 3, 6, 8, 9, 11, 12, 14, 15, 17, 19, 22, 23, 24, 25, 26, 27, 29, 32, 33, 34, 35, 36, 37, 39, 41, 43, 46, 49, 50, 54, 55, 56], 'random_seed': 42, 'depth': 9, 'ctr_target_border_count': 1, 'has_time': False, 'border_count': 109, 'min_fold_size': 100, 'data_partition': 'DocParallel', 'bagging_temperature': 1, 'classes_count': 0, 'auto_class_weights': 'None', 'leaf_estimation_backtracking': 'AnyImprovement', 'best_model_min_trees': 1, 'min_data_in_leaf': 1, 'add_ridge_penalty_to_loss_function': False, 'loss_function': 'MultiClass', 'learning_rate': 0.0532846599817276, 'meta_l2_exponent': 1, 'score_function': 'Cosine', 'task_type': 'GPU', 'leaf_estimation_iterations': 1, 'bootstrap_type': 'Bayesian', 'max_leaves': 512, 'permutation_count': 4}\n"
     ]
    }
   ],
   "source": [
    "for m in models_all_features:\n",
    "    print(m.get_all_params())"
   ]
  },
  {
   "cell_type": "markdown",
   "metadata": {},
   "source": [
    "## Важность признаков"
   ]
  },
  {
   "cell_type": "markdown",
   "metadata": {},
   "source": [
    "### Feature Importance"
   ]
  },
  {
   "cell_type": "code",
   "execution_count": 93,
   "metadata": {},
   "outputs": [],
   "source": [
    "# models_all_features[1].get_feature_importance(prettified=True)"
   ]
  },
  {
   "cell_type": "code",
   "execution_count": null,
   "metadata": {},
   "outputs": [],
   "source": [
    "# feature_importance = models_all_features[1].feature_importances_\n",
    "# sorted_idx = np.argsort(feature_importance)"
   ]
  },
  {
   "cell_type": "code",
   "execution_count": null,
   "metadata": {},
   "outputs": [],
   "source": [
    "# plt.figure(figsize=(15, 15))\n",
    "# plt.barh(np.array(X.columns)[sorted_idx], feature_importance[sorted_idx], color='skyblue')\n",
    "# plt.xlabel('Importance')\n",
    "# plt.ylabel('Features')\n",
    "# plt.title('Feature Importance in CatBoostClassifier')\n",
    "# plt.grid(axis='x', linestyle='--', linewidth=0.7)"
   ]
  },
  {
   "cell_type": "markdown",
   "metadata": {},
   "source": [
    "### SHAP values"
   ]
  },
  {
   "cell_type": "code",
   "execution_count": null,
   "metadata": {},
   "outputs": [],
   "source": []
  },
  {
   "cell_type": "markdown",
   "metadata": {},
   "source": [
    "## Отбор признаков"
   ]
  },
  {
   "cell_type": "code",
   "execution_count": null,
   "metadata": {},
   "outputs": [],
   "source": [
    "# создаем список имен признаков\n",
    "feature_names = list(X_train.columns)\n",
    "\n",
    "# создаем обучающий и проверочный пулы\n",
    "train_pool = Pool(X_train, \n",
    "                  y_train,\n",
    "                  feature_names=feature_names, \n",
    "                  cat_features=categorical_features)\n",
    "\n",
    "test_pool = Pool(X_test, \n",
    "                 y_test, \n",
    "                 feature_names=feature_names, \n",
    "                 cat_features=categorical_features)"
   ]
  },
  {
   "cell_type": "code",
   "execution_count": null,
   "metadata": {},
   "outputs": [
    {
     "data": {
      "text/plain": [
       "{'learning_rate': 0.04297364008773572,\n",
       " 'l2_leaf_reg': 11.65131039758567,\n",
       " 'auto_class_weights': 'None',\n",
       " 'max_depth': 9,\n",
       " 'border_count': 36}"
      ]
     },
     "execution_count": 104,
     "metadata": {},
     "output_type": "execute_result"
    }
   ],
   "source": [
    "study.best_params"
   ]
  },
  {
   "cell_type": "code",
   "execution_count": null,
   "metadata": {},
   "outputs": [],
   "source": [
    "# пишем функцию отбора признаков на основе \n",
    "# рекурсивного удаления признаков\n",
    "def catboost_select_features(\n",
    "    algorithm: EFeaturesSelectionAlgorithm, \n",
    "    steps: int = 1):\n",
    "    print('Algorithm:', algorithm)\n",
    "    model = CatBoostClassifier(\n",
    "                    **study.best_params,\n",
    "                    n_estimators=800,\n",
    "                    random_seed=RANDOM_STATE,\n",
    "                    loss_function='MultiClass',\n",
    "                    eval_metric='TotalF1:average=Macro',\n",
    "                    thread_count=-1,\n",
    "                    task_type='GPU'\n",
    "    )\n",
    "    summary = model.select_features(\n",
    "        # обучающий пул\n",
    "        train_pool,\n",
    "        # проверочный пул\n",
    "        eval_set=test_pool,\n",
    "        # список признаков, участвующих в отборе\n",
    "        features_for_select=list(range(train_pool.num_col())),\n",
    "        # количество отбираемых признаков\n",
    "        num_features_to_select=3,\n",
    "        # количество итераций обучения модели, вычисляющей \n",
    "        # оценки важностей (чем больше, тем лучше качество)\n",
    "        steps=steps,\n",
    "        # алгоритм отбора\n",
    "        algorithm=algorithm,\n",
    "        # метод вычисления значений SHAP\n",
    "        shap_calc_type=EShapCalcType.Regular,\n",
    "        # обучаем модель с отобранными признаками\n",
    "        train_final_model=True,\n",
    "        # уровень детализации вывода\n",
    "        logging_level='Silent',\n",
    "        # отрисовка кривых обучения и валидации\n",
    "        plot=True\n",
    "    )\n",
    "    print('Selected features:', summary['selected_features_names'])\n",
    "    return summary"
   ]
  },
  {
   "cell_type": "code",
   "execution_count": null,
   "metadata": {},
   "outputs": [
    {
     "name": "stdout",
     "output_type": "stream",
     "text": [
      "Algorithm: EFeaturesSelectionAlgorithm.RecursiveByShapValues\n"
     ]
    },
    {
     "data": {
      "application/vnd.jupyter.widget-view+json": {
       "model_id": "96494c303bf2411c907b789a689d3520",
       "version_major": 2,
       "version_minor": 0
      },
      "text/plain": [
       "MetricVisualizer(layout=Layout(align_self='stretch', height='500px'))"
      ]
     },
     "metadata": {},
     "output_type": "display_data"
    },
    {
     "data": {
      "application/vnd.plotly.v1+json": {
       "config": {
        "plotlyServerURL": "https://plot.ly"
       },
       "data": [
        {
         "line": {
          "color": "rgb(51,160,44)"
         },
         "mode": "lines+markers",
         "name": "",
         "text": [
          "",
          "sec_btw_3",
          "gate_id",
          "gate_id_lag_1",
          "day_of_month",
          "hour",
          "is_weekend",
          "is_month_start",
          "is_month_end",
          "daily_gate_pass_count",
          "gate_id_1",
          "gate_id_2",
          "gate_id_lag_3",
          "gate_id_3",
          "gate_id_lag_4",
          "gate_id_4",
          "gate_triple_activation",
          "sec_btw_4",
          "route",
          "cumtime_per_day",
          "cumtime_at_route_per_day",
          "most_frequent_route_per_day",
          "weekly_route_std_time",
          "gate_id_lag_5",
          "gate_id_5",
          "sec_btw_lag_5",
          "sec_btw_5",
          "repeat_gate_1s",
          "repeat_gate_3s",
          "repeat_gate_4s",
          "repeat_gate_ge_5s",
          "time_of_day",
          "gate_id_lag_2",
          "total_minutes",
          "repeat_gate_2s",
          "sec_btw_lag_1",
          "most_frequent_gate_per_day",
          "entrance_gate_id",
          "exit_gate_id",
          "sec_btw_lag_2",
          "weekly_route_avg_time",
          "sec_btw_2",
          "sec_btw_lag_4",
          "probability_gate_id",
          "cnt_repeat_gate_4s",
          "sec_btw_1",
          "sec_btw_lag_3",
          "total_seconds",
          "day_of_week",
          "route_std_time",
          "route_avg_time",
          "cnt_users_per_day",
          "cnt_repeat_gate_3s",
          "daily_attendance_index",
          "daily_workload_index",
          "cnt_repeat_gate_ge_5s",
          "cnt_repeat_gate_2s",
          "nunique_gate_per_day",
          "pass_cnt_per_day",
          "cnt_repeat_gate_1s",
          "working_time_per_day",
          "most_frequent_entrance_gate_per_week",
          "cnt_days_per_week",
          "most_frequent_route_per_week",
          "cnt_users_per_week",
          "nunique_gate_per_week",
          "most_frequent_exit_gate_per_week",
          "entry_time"
         ],
         "type": "scatter",
         "x": [
          0,
          1,
          2,
          3,
          4,
          5,
          6,
          7,
          8,
          9,
          10,
          11,
          12,
          13,
          14,
          15,
          16,
          17,
          18,
          19,
          20,
          21,
          22,
          23,
          24,
          25,
          26,
          27,
          28,
          29,
          30,
          31,
          32,
          33,
          34,
          35,
          36,
          37,
          38,
          39,
          40,
          41,
          42,
          43,
          44,
          45,
          46,
          47,
          48,
          49,
          50,
          51,
          52,
          53,
          54,
          55,
          56,
          57,
          58,
          59,
          60,
          61,
          62,
          63,
          64,
          65,
          66,
          67
         ],
         "y": [
          0.05893465244926891,
          0.07193846279883465,
          0.07193846279881795,
          0.07193846279881795,
          0.07193846279881795,
          0.07193846279881795,
          0.07193846279881795,
          0.07193846279881795,
          0.07193846279881795,
          0.07193846279881795,
          0.07193846279876787,
          0.07193846279873446,
          0.07193846279871777,
          0.07193846279871777,
          0.07193846279871777,
          0.07193846279871777,
          0.07193846279873446,
          0.07193846279873446,
          0.07193846279871777,
          0.07193846279871777,
          0.07193846279871777,
          0.07193846279871777,
          0.07193846279871777,
          0.07193846279871777,
          0.07193846279871777,
          0.07193846279871777,
          0.07193846279871777,
          0.07193846279871777,
          0.07193846279871777,
          0.07193846279868438,
          0.07193846279868438,
          0.07151456883339899,
          0.07066725058351721,
          0.06630793633701246,
          0.06657168486492651,
          0.06675897854385487,
          0.06675897854385487,
          0.06675897854385485,
          0.06675897854385485,
          0.06675704204686542,
          0.066745586313651,
          0.06672996096020824,
          0.06661392714049695,
          0.0664944782733702,
          0.06637088575337576,
          0.06608389293770645,
          0.06576341959233079,
          0.06521380026589688,
          0.06447406076721883,
          0.06249371163521399,
          0.05998581218025508,
          0.059938548573523064,
          0.05984686056417347,
          0.05974381959279362,
          0.05962952742293634,
          0.05950645883259831,
          0.05928774828279774,
          0.059054723330111684,
          0.05849467977527668,
          0.05775533180785098,
          0.060689279219371915,
          0.06573790973367517,
          0.07668855788670403,
          0.09366961651204786,
          0.11786348749312588,
          0.14305050567283367,
          0.18711457115501526,
          0.25807046550675605
         ]
        },
        {
         "marker": {
          "size": 10,
          "symbol": "square"
         },
         "mode": "markers",
         "name": "",
         "text": [
          "",
          "total_minutes",
          "route_avg_time",
          "cnt_repeat_gate_1s",
          "cnt_users_per_week",
          "entry_time"
         ],
         "type": "scatter",
         "x": [
          0,
          33,
          50,
          59,
          64,
          67
         ],
         "y": [
          0.05893465244926891,
          0.06630793633701246,
          0.05998581218025508,
          0.05775533180785098,
          0.11786348749312588,
          0.25807046550675605
         ]
        },
        {
         "mode": "text",
         "name": "",
         "text": [
          "",
          "36",
          "0",
          "25",
          "1",
          "2",
          "6",
          "8",
          "9",
          "11",
          "26",
          "30",
          "33",
          "34",
          "37",
          "38",
          "55",
          "40",
          "56",
          "57",
          "58",
          "61",
          "66",
          "41",
          "42",
          "43",
          "44",
          "45",
          "47",
          "48",
          "49",
          "7",
          "29",
          "3",
          "46",
          "27",
          "59",
          "21",
          "22",
          "31",
          "65",
          "32",
          "39",
          "12",
          "53",
          "28",
          "35",
          "4",
          "5",
          "68",
          "67",
          "13",
          "52",
          "15",
          "24",
          "54",
          "51",
          "17",
          "10",
          "50",
          "20",
          "63",
          "16",
          "62",
          "14",
          "18",
          "64",
          "19"
         ],
         "textfont": {
          "color": "rgb(51,160,44)",
          "family": "sans serif",
          "size": 18
         },
         "textposition": "bottom center",
         "type": "scatter",
         "visible": false,
         "x": [
          0,
          1,
          2,
          3,
          4,
          5,
          6,
          7,
          8,
          9,
          10,
          11,
          12,
          13,
          14,
          15,
          16,
          17,
          18,
          19,
          20,
          21,
          22,
          23,
          24,
          25,
          26,
          27,
          28,
          29,
          30,
          31,
          32,
          33,
          34,
          35,
          36,
          37,
          38,
          39,
          40,
          41,
          42,
          43,
          44,
          45,
          46,
          47,
          48,
          49,
          50,
          51,
          52,
          53,
          54,
          55,
          56,
          57,
          58,
          59,
          60,
          61,
          62,
          63,
          64,
          65,
          66,
          67
         ],
         "y": [
          0.05893465244926891,
          0.07193846279883465,
          0.07193846279881795,
          0.07193846279881795,
          0.07193846279881795,
          0.07193846279881795,
          0.07193846279881795,
          0.07193846279881795,
          0.07193846279881795,
          0.07193846279881795,
          0.07193846279876787,
          0.07193846279873446,
          0.07193846279871777,
          0.07193846279871777,
          0.07193846279871777,
          0.07193846279871777,
          0.07193846279873446,
          0.07193846279873446,
          0.07193846279871777,
          0.07193846279871777,
          0.07193846279871777,
          0.07193846279871777,
          0.07193846279871777,
          0.07193846279871777,
          0.07193846279871777,
          0.07193846279871777,
          0.07193846279871777,
          0.07193846279871777,
          0.07193846279871777,
          0.07193846279868438,
          0.07193846279868438,
          0.07151456883339899,
          0.07066725058351721,
          0.06630793633701246,
          0.06657168486492651,
          0.06675897854385487,
          0.06675897854385487,
          0.06675897854385485,
          0.06675897854385485,
          0.06675704204686542,
          0.066745586313651,
          0.06672996096020824,
          0.06661392714049695,
          0.0664944782733702,
          0.06637088575337576,
          0.06608389293770645,
          0.06576341959233079,
          0.06521380026589688,
          0.06447406076721883,
          0.06249371163521399,
          0.05998581218025508,
          0.059938548573523064,
          0.05984686056417347,
          0.05974381959279362,
          0.05962952742293634,
          0.05950645883259831,
          0.05928774828279774,
          0.059054723330111684,
          0.05849467977527668,
          0.05775533180785098,
          0.060689279219371915,
          0.06573790973367517,
          0.07668855788670403,
          0.09366961651204786,
          0.11786348749312588,
          0.14305050567283367,
          0.18711457115501526,
          0.25807046550675605
         ]
        },
        {
         "mode": "text",
         "name": "",
         "text": [
          "",
          "sec_btw_3",
          "gate_id",
          "gate_id_lag_1",
          "day_of_month",
          "hour",
          "is_weekend",
          "is_month_start",
          "is_month_end",
          "daily_gate_pass_count",
          "gate_id_1",
          "gate_id_2",
          "gate_id_lag_3",
          "gate_id_3",
          "gate_id_lag_4",
          "gate_id_4",
          "gate_triple_activation",
          "sec_btw_4",
          "route",
          "cumtime_per_day",
          "cumtime_at_route_per_day",
          "most_frequent_route_per_day",
          "weekly_route_std_time",
          "gate_id_lag_5",
          "gate_id_5",
          "sec_btw_lag_5",
          "sec_btw_5",
          "repeat_gate_1s",
          "repeat_gate_3s",
          "repeat_gate_4s",
          "repeat_gate_ge_5s",
          "time_of_day",
          "gate_id_lag_2",
          "total_minutes",
          "repeat_gate_2s",
          "sec_btw_lag_1",
          "most_frequent_gate_per_day",
          "entrance_gate_id",
          "exit_gate_id",
          "sec_btw_lag_2",
          "weekly_route_avg_time",
          "sec_btw_2",
          "sec_btw_lag_4",
          "probability_gate_id",
          "cnt_repeat_gate_4s",
          "sec_btw_1",
          "sec_btw_lag_3",
          "total_seconds",
          "day_of_week",
          "route_std_time",
          "route_avg_time",
          "cnt_users_per_day",
          "cnt_repeat_gate_3s",
          "daily_attendance_index",
          "daily_workload_index",
          "cnt_repeat_gate_ge_5s",
          "cnt_repeat_gate_2s",
          "nunique_gate_per_day",
          "pass_cnt_per_day",
          "cnt_repeat_gate_1s",
          "working_time_per_day",
          "most_frequent_entrance_gate_per_week",
          "cnt_days_per_week",
          "most_frequent_route_per_week",
          "cnt_users_per_week",
          "nunique_gate_per_week",
          "most_frequent_exit_gate_per_week",
          "entry_time"
         ],
         "textfont": {
          "color": "rgb(51,160,44)",
          "family": "sans serif",
          "size": 18
         },
         "textposition": "bottom center",
         "type": "scatter",
         "visible": false,
         "x": [
          0,
          1,
          2,
          3,
          4,
          5,
          6,
          7,
          8,
          9,
          10,
          11,
          12,
          13,
          14,
          15,
          16,
          17,
          18,
          19,
          20,
          21,
          22,
          23,
          24,
          25,
          26,
          27,
          28,
          29,
          30,
          31,
          32,
          33,
          34,
          35,
          36,
          37,
          38,
          39,
          40,
          41,
          42,
          43,
          44,
          45,
          46,
          47,
          48,
          49,
          50,
          51,
          52,
          53,
          54,
          55,
          56,
          57,
          58,
          59,
          60,
          61,
          62,
          63,
          64,
          65,
          66,
          67
         ],
         "y": [
          0.05893465244926891,
          0.07193846279883465,
          0.07193846279881795,
          0.07193846279881795,
          0.07193846279881795,
          0.07193846279881795,
          0.07193846279881795,
          0.07193846279881795,
          0.07193846279881795,
          0.07193846279881795,
          0.07193846279876787,
          0.07193846279873446,
          0.07193846279871777,
          0.07193846279871777,
          0.07193846279871777,
          0.07193846279871777,
          0.07193846279873446,
          0.07193846279873446,
          0.07193846279871777,
          0.07193846279871777,
          0.07193846279871777,
          0.07193846279871777,
          0.07193846279871777,
          0.07193846279871777,
          0.07193846279871777,
          0.07193846279871777,
          0.07193846279871777,
          0.07193846279871777,
          0.07193846279871777,
          0.07193846279868438,
          0.07193846279868438,
          0.07151456883339899,
          0.07066725058351721,
          0.06630793633701246,
          0.06657168486492651,
          0.06675897854385487,
          0.06675897854385487,
          0.06675897854385485,
          0.06675897854385485,
          0.06675704204686542,
          0.066745586313651,
          0.06672996096020824,
          0.06661392714049695,
          0.0664944782733702,
          0.06637088575337576,
          0.06608389293770645,
          0.06576341959233079,
          0.06521380026589688,
          0.06447406076721883,
          0.06249371163521399,
          0.05998581218025508,
          0.059938548573523064,
          0.05984686056417347,
          0.05974381959279362,
          0.05962952742293634,
          0.05950645883259831,
          0.05928774828279774,
          0.059054723330111684,
          0.05849467977527668,
          0.05775533180785098,
          0.060689279219371915,
          0.06573790973367517,
          0.07668855788670403,
          0.09366961651204786,
          0.11786348749312588,
          0.14305050567283367,
          0.18711457115501526,
          0.25807046550675605
         ]
        }
       ],
       "layout": {
        "showlegend": false,
        "template": {
         "data": {
          "bar": [
           {
            "error_x": {
             "color": "#2a3f5f"
            },
            "error_y": {
             "color": "#2a3f5f"
            },
            "marker": {
             "line": {
              "color": "#E5ECF6",
              "width": 0.5
             },
             "pattern": {
              "fillmode": "overlay",
              "size": 10,
              "solidity": 0.2
             }
            },
            "type": "bar"
           }
          ],
          "barpolar": [
           {
            "marker": {
             "line": {
              "color": "#E5ECF6",
              "width": 0.5
             },
             "pattern": {
              "fillmode": "overlay",
              "size": 10,
              "solidity": 0.2
             }
            },
            "type": "barpolar"
           }
          ],
          "carpet": [
           {
            "aaxis": {
             "endlinecolor": "#2a3f5f",
             "gridcolor": "white",
             "linecolor": "white",
             "minorgridcolor": "white",
             "startlinecolor": "#2a3f5f"
            },
            "baxis": {
             "endlinecolor": "#2a3f5f",
             "gridcolor": "white",
             "linecolor": "white",
             "minorgridcolor": "white",
             "startlinecolor": "#2a3f5f"
            },
            "type": "carpet"
           }
          ],
          "choropleth": [
           {
            "colorbar": {
             "outlinewidth": 0,
             "ticks": ""
            },
            "type": "choropleth"
           }
          ],
          "contour": [
           {
            "colorbar": {
             "outlinewidth": 0,
             "ticks": ""
            },
            "colorscale": [
             [
              0,
              "#0d0887"
             ],
             [
              0.1111111111111111,
              "#46039f"
             ],
             [
              0.2222222222222222,
              "#7201a8"
             ],
             [
              0.3333333333333333,
              "#9c179e"
             ],
             [
              0.4444444444444444,
              "#bd3786"
             ],
             [
              0.5555555555555556,
              "#d8576b"
             ],
             [
              0.6666666666666666,
              "#ed7953"
             ],
             [
              0.7777777777777778,
              "#fb9f3a"
             ],
             [
              0.8888888888888888,
              "#fdca26"
             ],
             [
              1,
              "#f0f921"
             ]
            ],
            "type": "contour"
           }
          ],
          "contourcarpet": [
           {
            "colorbar": {
             "outlinewidth": 0,
             "ticks": ""
            },
            "type": "contourcarpet"
           }
          ],
          "heatmap": [
           {
            "colorbar": {
             "outlinewidth": 0,
             "ticks": ""
            },
            "colorscale": [
             [
              0,
              "#0d0887"
             ],
             [
              0.1111111111111111,
              "#46039f"
             ],
             [
              0.2222222222222222,
              "#7201a8"
             ],
             [
              0.3333333333333333,
              "#9c179e"
             ],
             [
              0.4444444444444444,
              "#bd3786"
             ],
             [
              0.5555555555555556,
              "#d8576b"
             ],
             [
              0.6666666666666666,
              "#ed7953"
             ],
             [
              0.7777777777777778,
              "#fb9f3a"
             ],
             [
              0.8888888888888888,
              "#fdca26"
             ],
             [
              1,
              "#f0f921"
             ]
            ],
            "type": "heatmap"
           }
          ],
          "heatmapgl": [
           {
            "colorbar": {
             "outlinewidth": 0,
             "ticks": ""
            },
            "colorscale": [
             [
              0,
              "#0d0887"
             ],
             [
              0.1111111111111111,
              "#46039f"
             ],
             [
              0.2222222222222222,
              "#7201a8"
             ],
             [
              0.3333333333333333,
              "#9c179e"
             ],
             [
              0.4444444444444444,
              "#bd3786"
             ],
             [
              0.5555555555555556,
              "#d8576b"
             ],
             [
              0.6666666666666666,
              "#ed7953"
             ],
             [
              0.7777777777777778,
              "#fb9f3a"
             ],
             [
              0.8888888888888888,
              "#fdca26"
             ],
             [
              1,
              "#f0f921"
             ]
            ],
            "type": "heatmapgl"
           }
          ],
          "histogram": [
           {
            "marker": {
             "pattern": {
              "fillmode": "overlay",
              "size": 10,
              "solidity": 0.2
             }
            },
            "type": "histogram"
           }
          ],
          "histogram2d": [
           {
            "colorbar": {
             "outlinewidth": 0,
             "ticks": ""
            },
            "colorscale": [
             [
              0,
              "#0d0887"
             ],
             [
              0.1111111111111111,
              "#46039f"
             ],
             [
              0.2222222222222222,
              "#7201a8"
             ],
             [
              0.3333333333333333,
              "#9c179e"
             ],
             [
              0.4444444444444444,
              "#bd3786"
             ],
             [
              0.5555555555555556,
              "#d8576b"
             ],
             [
              0.6666666666666666,
              "#ed7953"
             ],
             [
              0.7777777777777778,
              "#fb9f3a"
             ],
             [
              0.8888888888888888,
              "#fdca26"
             ],
             [
              1,
              "#f0f921"
             ]
            ],
            "type": "histogram2d"
           }
          ],
          "histogram2dcontour": [
           {
            "colorbar": {
             "outlinewidth": 0,
             "ticks": ""
            },
            "colorscale": [
             [
              0,
              "#0d0887"
             ],
             [
              0.1111111111111111,
              "#46039f"
             ],
             [
              0.2222222222222222,
              "#7201a8"
             ],
             [
              0.3333333333333333,
              "#9c179e"
             ],
             [
              0.4444444444444444,
              "#bd3786"
             ],
             [
              0.5555555555555556,
              "#d8576b"
             ],
             [
              0.6666666666666666,
              "#ed7953"
             ],
             [
              0.7777777777777778,
              "#fb9f3a"
             ],
             [
              0.8888888888888888,
              "#fdca26"
             ],
             [
              1,
              "#f0f921"
             ]
            ],
            "type": "histogram2dcontour"
           }
          ],
          "mesh3d": [
           {
            "colorbar": {
             "outlinewidth": 0,
             "ticks": ""
            },
            "type": "mesh3d"
           }
          ],
          "parcoords": [
           {
            "line": {
             "colorbar": {
              "outlinewidth": 0,
              "ticks": ""
             }
            },
            "type": "parcoords"
           }
          ],
          "pie": [
           {
            "automargin": true,
            "type": "pie"
           }
          ],
          "scatter": [
           {
            "fillpattern": {
             "fillmode": "overlay",
             "size": 10,
             "solidity": 0.2
            },
            "type": "scatter"
           }
          ],
          "scatter3d": [
           {
            "line": {
             "colorbar": {
              "outlinewidth": 0,
              "ticks": ""
             }
            },
            "marker": {
             "colorbar": {
              "outlinewidth": 0,
              "ticks": ""
             }
            },
            "type": "scatter3d"
           }
          ],
          "scattercarpet": [
           {
            "marker": {
             "colorbar": {
              "outlinewidth": 0,
              "ticks": ""
             }
            },
            "type": "scattercarpet"
           }
          ],
          "scattergeo": [
           {
            "marker": {
             "colorbar": {
              "outlinewidth": 0,
              "ticks": ""
             }
            },
            "type": "scattergeo"
           }
          ],
          "scattergl": [
           {
            "marker": {
             "colorbar": {
              "outlinewidth": 0,
              "ticks": ""
             }
            },
            "type": "scattergl"
           }
          ],
          "scattermapbox": [
           {
            "marker": {
             "colorbar": {
              "outlinewidth": 0,
              "ticks": ""
             }
            },
            "type": "scattermapbox"
           }
          ],
          "scatterpolar": [
           {
            "marker": {
             "colorbar": {
              "outlinewidth": 0,
              "ticks": ""
             }
            },
            "type": "scatterpolar"
           }
          ],
          "scatterpolargl": [
           {
            "marker": {
             "colorbar": {
              "outlinewidth": 0,
              "ticks": ""
             }
            },
            "type": "scatterpolargl"
           }
          ],
          "scatterternary": [
           {
            "marker": {
             "colorbar": {
              "outlinewidth": 0,
              "ticks": ""
             }
            },
            "type": "scatterternary"
           }
          ],
          "surface": [
           {
            "colorbar": {
             "outlinewidth": 0,
             "ticks": ""
            },
            "colorscale": [
             [
              0,
              "#0d0887"
             ],
             [
              0.1111111111111111,
              "#46039f"
             ],
             [
              0.2222222222222222,
              "#7201a8"
             ],
             [
              0.3333333333333333,
              "#9c179e"
             ],
             [
              0.4444444444444444,
              "#bd3786"
             ],
             [
              0.5555555555555556,
              "#d8576b"
             ],
             [
              0.6666666666666666,
              "#ed7953"
             ],
             [
              0.7777777777777778,
              "#fb9f3a"
             ],
             [
              0.8888888888888888,
              "#fdca26"
             ],
             [
              1,
              "#f0f921"
             ]
            ],
            "type": "surface"
           }
          ],
          "table": [
           {
            "cells": {
             "fill": {
              "color": "#EBF0F8"
             },
             "line": {
              "color": "white"
             }
            },
            "header": {
             "fill": {
              "color": "#C8D4E3"
             },
             "line": {
              "color": "white"
             }
            },
            "type": "table"
           }
          ]
         },
         "layout": {
          "annotationdefaults": {
           "arrowcolor": "#2a3f5f",
           "arrowhead": 0,
           "arrowwidth": 1
          },
          "autotypenumbers": "strict",
          "coloraxis": {
           "colorbar": {
            "outlinewidth": 0,
            "ticks": ""
           }
          },
          "colorscale": {
           "diverging": [
            [
             0,
             "#8e0152"
            ],
            [
             0.1,
             "#c51b7d"
            ],
            [
             0.2,
             "#de77ae"
            ],
            [
             0.3,
             "#f1b6da"
            ],
            [
             0.4,
             "#fde0ef"
            ],
            [
             0.5,
             "#f7f7f7"
            ],
            [
             0.6,
             "#e6f5d0"
            ],
            [
             0.7,
             "#b8e186"
            ],
            [
             0.8,
             "#7fbc41"
            ],
            [
             0.9,
             "#4d9221"
            ],
            [
             1,
             "#276419"
            ]
           ],
           "sequential": [
            [
             0,
             "#0d0887"
            ],
            [
             0.1111111111111111,
             "#46039f"
            ],
            [
             0.2222222222222222,
             "#7201a8"
            ],
            [
             0.3333333333333333,
             "#9c179e"
            ],
            [
             0.4444444444444444,
             "#bd3786"
            ],
            [
             0.5555555555555556,
             "#d8576b"
            ],
            [
             0.6666666666666666,
             "#ed7953"
            ],
            [
             0.7777777777777778,
             "#fb9f3a"
            ],
            [
             0.8888888888888888,
             "#fdca26"
            ],
            [
             1,
             "#f0f921"
            ]
           ],
           "sequentialminus": [
            [
             0,
             "#0d0887"
            ],
            [
             0.1111111111111111,
             "#46039f"
            ],
            [
             0.2222222222222222,
             "#7201a8"
            ],
            [
             0.3333333333333333,
             "#9c179e"
            ],
            [
             0.4444444444444444,
             "#bd3786"
            ],
            [
             0.5555555555555556,
             "#d8576b"
            ],
            [
             0.6666666666666666,
             "#ed7953"
            ],
            [
             0.7777777777777778,
             "#fb9f3a"
            ],
            [
             0.8888888888888888,
             "#fdca26"
            ],
            [
             1,
             "#f0f921"
            ]
           ]
          },
          "colorway": [
           "#636efa",
           "#EF553B",
           "#00cc96",
           "#ab63fa",
           "#FFA15A",
           "#19d3f3",
           "#FF6692",
           "#B6E880",
           "#FF97FF",
           "#FECB52"
          ],
          "font": {
           "color": "#2a3f5f"
          },
          "geo": {
           "bgcolor": "white",
           "lakecolor": "white",
           "landcolor": "#E5ECF6",
           "showlakes": true,
           "showland": true,
           "subunitcolor": "white"
          },
          "hoverlabel": {
           "align": "left"
          },
          "hovermode": "closest",
          "mapbox": {
           "style": "light"
          },
          "paper_bgcolor": "white",
          "plot_bgcolor": "#E5ECF6",
          "polar": {
           "angularaxis": {
            "gridcolor": "white",
            "linecolor": "white",
            "ticks": ""
           },
           "bgcolor": "#E5ECF6",
           "radialaxis": {
            "gridcolor": "white",
            "linecolor": "white",
            "ticks": ""
           }
          },
          "scene": {
           "xaxis": {
            "backgroundcolor": "#E5ECF6",
            "gridcolor": "white",
            "gridwidth": 2,
            "linecolor": "white",
            "showbackground": true,
            "ticks": "",
            "zerolinecolor": "white"
           },
           "yaxis": {
            "backgroundcolor": "#E5ECF6",
            "gridcolor": "white",
            "gridwidth": 2,
            "linecolor": "white",
            "showbackground": true,
            "ticks": "",
            "zerolinecolor": "white"
           },
           "zaxis": {
            "backgroundcolor": "#E5ECF6",
            "gridcolor": "white",
            "gridwidth": 2,
            "linecolor": "white",
            "showbackground": true,
            "ticks": "",
            "zerolinecolor": "white"
           }
          },
          "shapedefaults": {
           "line": {
            "color": "#2a3f5f"
           }
          },
          "ternary": {
           "aaxis": {
            "gridcolor": "white",
            "linecolor": "white",
            "ticks": ""
           },
           "baxis": {
            "gridcolor": "white",
            "linecolor": "white",
            "ticks": ""
           },
           "bgcolor": "#E5ECF6",
           "caxis": {
            "gridcolor": "white",
            "linecolor": "white",
            "ticks": ""
           }
          },
          "title": {
           "x": 0.05
          },
          "xaxis": {
           "automargin": true,
           "gridcolor": "white",
           "linecolor": "white",
           "ticks": "",
           "title": {
            "standoff": 15
           },
           "zerolinecolor": "white",
           "zerolinewidth": 2
          },
          "yaxis": {
           "automargin": true,
           "gridcolor": "white",
           "linecolor": "white",
           "ticks": "",
           "title": {
            "standoff": 15
           },
           "zerolinecolor": "white",
           "zerolinewidth": 2
          }
         }
        },
        "title": {
         "text": "Loss by eliminated features"
        },
        "updatemenus": [
         {
          "active": 0,
          "buttons": [
           {
            "args": [
             {
              "visible": [
               true,
               true,
               false,
               false
              ]
             }
            ],
            "label": "Hide features",
            "method": "update"
           },
           {
            "args": [
             {
              "visible": [
               true,
               true,
               true,
               false
              ]
             }
            ],
            "label": "Show indices",
            "method": "update"
           },
           {
            "args": [
             {
              "visible": [
               true,
               true,
               false,
               true
              ]
             }
            ],
            "label": "Show names",
            "method": "update"
           }
          ],
          "pad": {
           "r": 10,
           "t": 10
          },
          "showactive": true,
          "x": -0.25,
          "xanchor": "left",
          "y": 1.03,
          "yanchor": "top"
         }
        ],
        "xaxis": {
         "gridcolor": "rgb(255,255,255)",
         "showgrid": true,
         "showline": false,
         "showticklabels": true,
         "tickcolor": "rgb(127,127,127)",
         "ticks": "outside",
         "title": {
          "text": "number of removed features"
         },
         "zeroline": false
        },
        "yaxis": {
         "gridcolor": "rgb(255,255,255)",
         "showgrid": true,
         "showline": false,
         "showticklabels": true,
         "tickcolor": "rgb(127,127,127)",
         "tickfont": {
          "color": "rgb(51,160,44)"
         },
         "ticks": "outside",
         "title": {
          "font": {
           "color": "rgb(51,160,44)"
          },
          "text": "loss value"
         },
         "zeroline": false
        }
       }
      }
     },
     "metadata": {},
     "output_type": "display_data"
    },
    {
     "name": "stdout",
     "output_type": "stream",
     "text": [
      "Selected features: ['working_time_per_week', 'most_frequent_gate_per_week', 'nunique_route_per_week']\n",
      "CPU times: total: 2h 21min 48s\n",
      "Wall time: 17min 41s\n"
     ]
    }
   ],
   "source": [
    "%%time\n",
    "\n",
    "# выполняем отбор признаков\n",
    "shap_summary = catboost_select_features(\n",
    "    algorithm=EFeaturesSelectionAlgorithm.RecursiveByShapValues, \n",
    "    steps=5\n",
    ")"
   ]
  },
  {
   "cell_type": "code",
   "execution_count": null,
   "metadata": {},
   "outputs": [
    {
     "name": "stdout",
     "output_type": "stream",
     "text": [
      "{'main_indices': [0, 33, 50, 59, 64, 67], 'removed_features_count': [0, 1, 2, 3, 4, 5, 6, 7, 8, 9, 10, 11, 12, 13, 14, 15, 16, 17, 18, 19, 20, 21, 22, 23, 24, 25, 26, 27, 28, 29, 30, 31, 32, 33, 34, 35, 36, 37, 38, 39, 40, 41, 42, 43, 44, 45, 46, 47, 48, 49, 50, 51, 52, 53, 54, 55, 56, 57, 58, 59, 60, 61, 62, 63, 64, 65, 66, 67], 'loss_values': [0.05893465244926891, 0.07193846279883465, 0.07193846279881795, 0.07193846279881795, 0.07193846279881795, 0.07193846279881795, 0.07193846279881795, 0.07193846279881795, 0.07193846279881795, 0.07193846279881795, 0.07193846279876787, 0.07193846279873446, 0.07193846279871777, 0.07193846279871777, 0.07193846279871777, 0.07193846279871777, 0.07193846279873446, 0.07193846279873446, 0.07193846279871777, 0.07193846279871777, 0.07193846279871777, 0.07193846279871777, 0.07193846279871777, 0.07193846279871777, 0.07193846279871777, 0.07193846279871777, 0.07193846279871777, 0.07193846279871777, 0.07193846279871777, 0.07193846279868438, 0.07193846279868438, 0.07151456883339899, 0.07066725058351721, 0.06630793633701246, 0.06657168486492651, 0.06675897854385487, 0.06675897854385487, 0.06675897854385485, 0.06675897854385485, 0.06675704204686542, 0.066745586313651, 0.06672996096020824, 0.06661392714049695, 0.0664944782733702, 0.06637088575337576, 0.06608389293770645, 0.06576341959233079, 0.06521380026589688, 0.06447406076721883, 0.06249371163521399, 0.05998581218025508, 0.059938548573523064, 0.05984686056417347, 0.05974381959279362, 0.05962952742293634, 0.05950645883259831, 0.05928774828279774, 0.059054723330111684, 0.05849467977527668, 0.05775533180785098, 0.060689279219371915, 0.06573790973367517, 0.07668855788670403, 0.09366961651204786, 0.11786348749312588, 0.14305050567283367, 0.18711457115501526, 0.25807046550675605]}\n"
     ]
    }
   ],
   "source": [
    "print(shap_summary['loss_graph'])"
   ]
  },
  {
   "cell_type": "code",
   "execution_count": null,
   "metadata": {},
   "outputs": [
    {
     "data": {
      "text/plain": [
       "0.25807046550675605"
      ]
     },
     "execution_count": 108,
     "metadata": {},
     "output_type": "execute_result"
    }
   ],
   "source": [
    "shap_summary['loss_graph']['loss_values'][-1]"
   ]
  },
  {
   "cell_type": "code",
   "execution_count": null,
   "metadata": {},
   "outputs": [
    {
     "name": "stdout",
     "output_type": "stream",
     "text": [
      "['working_time_per_week', 'most_frequent_gate_per_week', 'nunique_route_per_week']\n"
     ]
    }
   ],
   "source": [
    "# печатаем отобранные признаки\n",
    "selected_feat = shap_summary['selected_features_names']\n",
    "print(selected_feat)"
   ]
  },
  {
   "cell_type": "code",
   "execution_count": null,
   "metadata": {},
   "outputs": [
    {
     "name": "stdout",
     "output_type": "stream",
     "text": [
      "['sec_btw_3', 'gate_id', 'gate_id_lag_1', 'day_of_month', 'hour', 'is_weekend', 'is_month_start', 'is_month_end', 'daily_gate_pass_count', 'gate_id_1', 'gate_id_2', 'gate_id_lag_3', 'gate_id_3', 'gate_id_lag_4', 'gate_id_4', 'gate_triple_activation', 'sec_btw_4', 'route', 'cumtime_per_day', 'cumtime_at_route_per_day', 'most_frequent_route_per_day', 'weekly_route_std_time', 'gate_id_lag_5', 'gate_id_5', 'sec_btw_lag_5', 'sec_btw_5', 'repeat_gate_1s', 'repeat_gate_3s', 'repeat_gate_4s', 'repeat_gate_ge_5s', 'time_of_day', 'gate_id_lag_2', 'total_minutes', 'repeat_gate_2s', 'sec_btw_lag_1', 'most_frequent_gate_per_day', 'entrance_gate_id', 'exit_gate_id', 'sec_btw_lag_2', 'weekly_route_avg_time', 'sec_btw_2', 'sec_btw_lag_4', 'probability_gate_id', 'cnt_repeat_gate_4s', 'sec_btw_1', 'sec_btw_lag_3', 'total_seconds', 'day_of_week', 'route_std_time', 'route_avg_time', 'cnt_users_per_day', 'cnt_repeat_gate_3s', 'daily_attendance_index', 'daily_workload_index', 'cnt_repeat_gate_ge_5s', 'cnt_repeat_gate_2s', 'nunique_gate_per_day', 'pass_cnt_per_day', 'cnt_repeat_gate_1s', 'working_time_per_day', 'most_frequent_entrance_gate_per_week', 'cnt_days_per_week', 'most_frequent_route_per_week', 'cnt_users_per_week', 'nunique_gate_per_week', 'most_frequent_exit_gate_per_week', 'entry_time']\n"
     ]
    }
   ],
   "source": [
    "# печатаем исключенные признаки\n",
    "eliminated_feat = shap_summary['eliminated_features_names']\n",
    "print(eliminated_feat)"
   ]
  },
  {
   "cell_type": "markdown",
   "metadata": {},
   "source": [
    "На основе графика `Loss by eliminated features`, отберем из списка `eliminated_feat` фичи, начиная с 49-го индекса."
   ]
  },
  {
   "cell_type": "code",
   "execution_count": null,
   "metadata": {},
   "outputs": [
    {
     "data": {
      "text/plain": [
       "['working_time_per_week',\n",
       " 'most_frequent_gate_per_week',\n",
       " 'nunique_route_per_week',\n",
       " 'route_avg_time',\n",
       " 'cnt_users_per_day',\n",
       " 'cnt_repeat_gate_3s',\n",
       " 'daily_attendance_index',\n",
       " 'daily_workload_index',\n",
       " 'cnt_repeat_gate_ge_5s',\n",
       " 'cnt_repeat_gate_2s',\n",
       " 'nunique_gate_per_day',\n",
       " 'pass_cnt_per_day',\n",
       " 'cnt_repeat_gate_1s',\n",
       " 'working_time_per_day',\n",
       " 'most_frequent_entrance_gate_per_week',\n",
       " 'cnt_days_per_week',\n",
       " 'most_frequent_route_per_week',\n",
       " 'cnt_users_per_week',\n",
       " 'nunique_gate_per_week',\n",
       " 'most_frequent_exit_gate_per_week',\n",
       " 'entry_time']"
      ]
     },
     "execution_count": 113,
     "metadata": {},
     "output_type": "execute_result"
    }
   ],
   "source": [
    "selected_features = selected_feat + eliminated_feat[49:]\n",
    "selected_features"
   ]
  },
  {
   "cell_type": "code",
   "execution_count": null,
   "metadata": {},
   "outputs": [
    {
     "data": {
      "text/plain": [
       "21"
      ]
     },
     "execution_count": 114,
     "metadata": {},
     "output_type": "execute_result"
    }
   ],
   "source": [
    "len(selected_features)"
   ]
  },
  {
   "cell_type": "code",
   "execution_count": null,
   "metadata": {},
   "outputs": [],
   "source": [
    "cat_features = [\n",
    "    'most_frequent_gate_per_week',\n",
    "    'most_frequent_entrance_gate_per_week',\n",
    "    'most_frequent_route_per_week',\n",
    "    'most_frequent_exit_gate_per_week',\n",
    "]"
   ]
  },
  {
   "cell_type": "code",
   "execution_count": null,
   "metadata": {},
   "outputs": [
    {
     "name": "stdout",
     "output_type": "stream",
     "text": [
      "0:\tlearn: 0.4007834\ttest: 0.3901104\tbest: 0.3901104 (0)\ttotal: 195ms\tremaining: 6m 30s\n",
      "100:\tlearn: 0.9354000\ttest: 0.9121491\tbest: 0.9121491 (100)\ttotal: 14.7s\tremaining: 4m 37s\n",
      "200:\tlearn: 0.9837736\ttest: 0.9716423\tbest: 0.9716423 (200)\ttotal: 28.8s\tremaining: 4m 17s\n",
      "300:\tlearn: 0.9963192\ttest: 0.9937391\tbest: 0.9937391 (296)\ttotal: 41.5s\tremaining: 3m 54s\n",
      "400:\tlearn: 0.9986501\ttest: 0.9979904\tbest: 0.9979904 (363)\ttotal: 53.7s\tremaining: 3m 34s\n",
      "500:\tlearn: 0.9992714\ttest: 0.9986876\tbest: 0.9986876 (474)\ttotal: 1m 4s\tremaining: 3m 13s\n",
      "600:\tlearn: 0.9993770\ttest: 0.9992160\tbest: 0.9992160 (570)\ttotal: 1m 14s\tremaining: 2m 53s\n",
      "700:\tlearn: 0.9993770\ttest: 0.9992160\tbest: 0.9994407 (636)\ttotal: 1m 24s\tremaining: 2m 36s\n",
      "800:\tlearn: 0.9996186\ttest: 0.9997806\tbest: 0.9997806 (733)\ttotal: 1m 34s\tremaining: 2m 20s\n",
      "bestTest = 0.9997805574\n",
      "bestIteration = 733\n",
      "Shrink model to first 734 iterations.\n",
      "0:\tlearn: 0.3956776\ttest: 0.3906075\tbest: 0.3906075 (0)\ttotal: 142ms\tremaining: 4m 44s\n",
      "100:\tlearn: 0.9160253\ttest: 0.9104021\tbest: 0.9104021 (100)\ttotal: 15s\tremaining: 4m 41s\n",
      "200:\tlearn: 0.9798752\ttest: 0.9744983\tbest: 0.9744983 (199)\ttotal: 29.1s\tremaining: 4m 20s\n",
      "300:\tlearn: 0.9925722\ttest: 0.9881437\tbest: 0.9881437 (293)\ttotal: 41.9s\tremaining: 3m 56s\n",
      "400:\tlearn: 0.9958776\ttest: 0.9927643\tbest: 0.9927643 (398)\ttotal: 53.8s\tremaining: 3m 34s\n",
      "500:\tlearn: 0.9983224\ttest: 0.9977755\tbest: 0.9978591 (478)\ttotal: 1m 5s\tremaining: 3m 15s\n",
      "600:\tlearn: 0.9985829\ttest: 0.9978688\tbest: 0.9979523 (525)\ttotal: 1m 21s\tremaining: 3m 8s\n",
      "700:\tlearn: 0.9988262\ttest: 0.9981801\tbest: 0.9981801 (681)\ttotal: 1m 38s\tremaining: 3m 2s\n",
      "800:\tlearn: 0.9992542\ttest: 0.9984419\tbest: 0.9984419 (791)\ttotal: 1m 55s\tremaining: 2m 53s\n",
      "900:\tlearn: 0.9994681\ttest: 0.9985726\tbest: 0.9985726 (813)\ttotal: 2m 13s\tremaining: 2m 42s\n",
      "bestTest = 0.9985725914\n",
      "bestIteration = 813\n",
      "Shrink model to first 814 iterations.\n",
      "0:\tlearn: 0.3563744\ttest: 0.3475004\tbest: 0.3475004 (0)\ttotal: 216ms\tremaining: 7m 12s\n",
      "100:\tlearn: 0.9365514\ttest: 0.9213672\tbest: 0.9213672 (100)\ttotal: 22.1s\tremaining: 6m 55s\n",
      "200:\tlearn: 0.9836080\ttest: 0.9741017\tbest: 0.9741017 (200)\ttotal: 43.5s\tremaining: 6m 29s\n",
      "300:\tlearn: 0.9963356\ttest: 0.9939087\tbest: 0.9939087 (300)\ttotal: 1m 2s\tremaining: 5m 53s\n",
      "400:\tlearn: 0.9989163\ttest: 0.9962477\tbest: 0.9962477 (377)\ttotal: 1m 21s\tremaining: 5m 23s\n",
      "500:\tlearn: 0.9991837\ttest: 0.9971156\tbest: 0.9971156 (435)\ttotal: 1m 38s\tremaining: 4m 56s\n",
      "bestTest = 0.9971155639\n",
      "bestIteration = 435\n",
      "Shrink model to first 436 iterations.\n",
      "CPU times: total: 12min 5s\n",
      "Wall time: 5min 40s\n"
     ]
    }
   ],
   "source": [
    "%%time\n",
    "\n",
    "valid_scores, models_selected_features = objective(\n",
    "    optuna.trial.FixedTrial(study.best_params),\n",
    "    X[selected_features], \n",
    "    y, \n",
    "    cat_features,\n",
    "    return_models=True,\n",
    ")"
   ]
  },
  {
   "cell_type": "code",
   "execution_count": null,
   "metadata": {},
   "outputs": [
    {
     "data": {
      "text/plain": [
       "0.9984895709103195"
      ]
     },
     "execution_count": 117,
     "metadata": {},
     "output_type": "execute_result"
    }
   ],
   "source": [
    "valid_scores"
   ]
  },
  {
   "cell_type": "code",
   "execution_count": null,
   "metadata": {},
   "outputs": [
    {
     "name": "stdout",
     "output_type": "stream",
     "text": [
      "734\n",
      "814\n",
      "436\n"
     ]
    }
   ],
   "source": [
    "for m in models_selected_features:\n",
    "    print(m.tree_count_)"
   ]
  },
  {
   "cell_type": "code",
   "execution_count": null,
   "metadata": {},
   "outputs": [
    {
     "name": "stdout",
     "output_type": "stream",
     "text": [
      "{'nan_mode': 'Min', 'gpu_ram_part': 0.95, 'eval_metric': 'TotalF1:average=Macro', 'combinations_ctr': ['Borders:CtrBorderCount=15:CtrBorderType=Uniform:TargetBorderCount=1:TargetBorderType=MinEntropy:Prior=0/1:Prior=0.5/1:Prior=1/1', 'FeatureFreq:CtrBorderCount=15:CtrBorderType=Median:Prior=0/1'], 'iterations': 2000, 'fold_permutation_block': 64, 'leaf_estimation_method': 'Newton', 'observations_to_bootstrap': 'TestOnly', 'od_pval': 0, 'random_score_type': 'NormalWithModelSizeDecrease', 'counter_calc_method': 'SkipTest', 'grow_policy': 'SymmetricTree', 'penalties_coefficient': 1, 'boosting_type': 'Plain', 'ctr_history_unit': 'Sample', 'feature_border_type': 'GreedyLogSum', 'bayesian_matrix_reg': 0.10000000149011612, 'one_hot_max_size': 2, 'devices': '-1', 'eval_fraction': 0, 'pinned_memory_bytes': '104857600', 'force_unit_auto_pair_weights': False, 'l2_leaf_reg': 11.651309967041016, 'random_strength': 1, 'od_type': 'Iter', 'rsm': 1, 'boost_from_average': False, 'gpu_cat_features_storage': 'GpuRam', 'fold_size_loss_normalization': False, 'max_ctr_complexity': 4, 'model_size_reg': 0.5, 'simple_ctr': ['Borders:CtrBorderCount=15:CtrBorderType=Uniform:TargetBorderCount=1:TargetBorderType=MinEntropy:Prior=0/1:Prior=0.5/1:Prior=1/1', 'FeatureFreq:CtrBorderCount=15:CtrBorderType=MinEntropy:Prior=0/1'], 'pool_metainfo_options': {'tags': {}}, 'use_best_model': True, 'meta_l2_frequency': 0, 'od_wait': 100, 'class_names': [0, 1, 2, 3, 6, 9, 11, 12, 14, 15, 17, 19, 23, 24, 25, 26, 29, 32, 33, 34, 35, 37, 39, 41, 43, 46, 49, 50, 54, 55, 56], 'random_seed': 42, 'depth': 9, 'ctr_target_border_count': 1, 'has_time': False, 'border_count': 36, 'min_fold_size': 100, 'data_partition': 'DocParallel', 'bagging_temperature': 1, 'classes_count': 0, 'auto_class_weights': 'None', 'leaf_estimation_backtracking': 'AnyImprovement', 'best_model_min_trees': 1, 'min_data_in_leaf': 1, 'add_ridge_penalty_to_loss_function': False, 'loss_function': 'MultiClass', 'learning_rate': 0.04297364130616188, 'meta_l2_exponent': 1, 'score_function': 'Cosine', 'task_type': 'GPU', 'leaf_estimation_iterations': 1, 'bootstrap_type': 'Bayesian', 'max_leaves': 512, 'permutation_count': 4}\n",
      "{'nan_mode': 'Min', 'gpu_ram_part': 0.95, 'eval_metric': 'TotalF1:average=Macro', 'combinations_ctr': ['Borders:CtrBorderCount=15:CtrBorderType=Uniform:TargetBorderCount=1:TargetBorderType=MinEntropy:Prior=0/1:Prior=0.5/1:Prior=1/1', 'FeatureFreq:CtrBorderCount=15:CtrBorderType=Median:Prior=0/1'], 'iterations': 2000, 'fold_permutation_block': 64, 'leaf_estimation_method': 'Newton', 'observations_to_bootstrap': 'TestOnly', 'od_pval': 0, 'random_score_type': 'NormalWithModelSizeDecrease', 'counter_calc_method': 'SkipTest', 'grow_policy': 'SymmetricTree', 'penalties_coefficient': 1, 'boosting_type': 'Plain', 'ctr_history_unit': 'Sample', 'feature_border_type': 'GreedyLogSum', 'bayesian_matrix_reg': 0.10000000149011612, 'one_hot_max_size': 2, 'devices': '-1', 'eval_fraction': 0, 'pinned_memory_bytes': '104857600', 'force_unit_auto_pair_weights': False, 'l2_leaf_reg': 11.651309967041016, 'random_strength': 1, 'od_type': 'Iter', 'rsm': 1, 'boost_from_average': False, 'gpu_cat_features_storage': 'GpuRam', 'fold_size_loss_normalization': False, 'max_ctr_complexity': 4, 'model_size_reg': 0.5, 'simple_ctr': ['Borders:CtrBorderCount=15:CtrBorderType=Uniform:TargetBorderCount=1:TargetBorderType=MinEntropy:Prior=0/1:Prior=0.5/1:Prior=1/1', 'FeatureFreq:CtrBorderCount=15:CtrBorderType=MinEntropy:Prior=0/1'], 'pool_metainfo_options': {'tags': {}}, 'use_best_model': True, 'meta_l2_frequency': 0, 'od_wait': 100, 'class_names': [0, 1, 2, 3, 6, 9, 11, 12, 14, 15, 17, 19, 23, 24, 25, 26, 29, 32, 33, 34, 35, 37, 39, 41, 43, 46, 49, 50, 54, 55, 56], 'random_seed': 42, 'depth': 9, 'ctr_target_border_count': 1, 'has_time': False, 'border_count': 36, 'min_fold_size': 100, 'data_partition': 'DocParallel', 'bagging_temperature': 1, 'classes_count': 0, 'auto_class_weights': 'None', 'leaf_estimation_backtracking': 'AnyImprovement', 'best_model_min_trees': 1, 'min_data_in_leaf': 1, 'add_ridge_penalty_to_loss_function': False, 'loss_function': 'MultiClass', 'learning_rate': 0.04297364130616188, 'meta_l2_exponent': 1, 'score_function': 'Cosine', 'task_type': 'GPU', 'leaf_estimation_iterations': 1, 'bootstrap_type': 'Bayesian', 'max_leaves': 512, 'permutation_count': 4}\n",
      "{'nan_mode': 'Min', 'gpu_ram_part': 0.95, 'eval_metric': 'TotalF1:average=Macro', 'combinations_ctr': ['Borders:CtrBorderCount=15:CtrBorderType=Uniform:TargetBorderCount=1:TargetBorderType=MinEntropy:Prior=0/1:Prior=0.5/1:Prior=1/1', 'FeatureFreq:CtrBorderCount=15:CtrBorderType=Median:Prior=0/1'], 'iterations': 2000, 'fold_permutation_block': 64, 'leaf_estimation_method': 'Newton', 'observations_to_bootstrap': 'TestOnly', 'od_pval': 0, 'random_score_type': 'NormalWithModelSizeDecrease', 'counter_calc_method': 'SkipTest', 'grow_policy': 'SymmetricTree', 'penalties_coefficient': 1, 'boosting_type': 'Plain', 'ctr_history_unit': 'Sample', 'feature_border_type': 'GreedyLogSum', 'bayesian_matrix_reg': 0.10000000149011612, 'one_hot_max_size': 2, 'devices': '-1', 'eval_fraction': 0, 'pinned_memory_bytes': '104857600', 'force_unit_auto_pair_weights': False, 'l2_leaf_reg': 11.651309967041016, 'random_strength': 1, 'od_type': 'Iter', 'rsm': 1, 'boost_from_average': False, 'gpu_cat_features_storage': 'GpuRam', 'fold_size_loss_normalization': False, 'max_ctr_complexity': 4, 'model_size_reg': 0.5, 'simple_ctr': ['Borders:CtrBorderCount=15:CtrBorderType=Uniform:TargetBorderCount=1:TargetBorderType=MinEntropy:Prior=0/1:Prior=0.5/1:Prior=1/1', 'FeatureFreq:CtrBorderCount=15:CtrBorderType=MinEntropy:Prior=0/1'], 'pool_metainfo_options': {'tags': {}}, 'use_best_model': True, 'meta_l2_frequency': 0, 'od_wait': 100, 'class_names': [0, 1, 2, 3, 6, 9, 11, 12, 14, 15, 17, 19, 23, 24, 25, 26, 29, 32, 33, 34, 35, 37, 39, 41, 43, 46, 49, 50, 54, 55, 56], 'random_seed': 42, 'depth': 9, 'ctr_target_border_count': 1, 'has_time': False, 'border_count': 36, 'min_fold_size': 100, 'data_partition': 'DocParallel', 'bagging_temperature': 1, 'classes_count': 0, 'auto_class_weights': 'None', 'leaf_estimation_backtracking': 'AnyImprovement', 'best_model_min_trees': 1, 'min_data_in_leaf': 1, 'add_ridge_penalty_to_loss_function': False, 'loss_function': 'MultiClass', 'learning_rate': 0.04297364130616188, 'meta_l2_exponent': 1, 'score_function': 'Cosine', 'task_type': 'GPU', 'leaf_estimation_iterations': 1, 'bootstrap_type': 'Bayesian', 'max_leaves': 512, 'permutation_count': 4}\n"
     ]
    }
   ],
   "source": [
    "for m in models_selected_features:\n",
    "    print(m.get_all_params())"
   ]
  },
  {
   "cell_type": "code",
   "execution_count": null,
   "metadata": {},
   "outputs": [],
   "source": []
  },
  {
   "cell_type": "markdown",
   "metadata": {},
   "source": [
    "## Подбор гиперпараметров после отбора признаков"
   ]
  },
  {
   "cell_type": "code",
   "execution_count": null,
   "metadata": {},
   "outputs": [
    {
     "name": "stderr",
     "output_type": "stream",
     "text": [
      "[I 2024-08-15 22:36:49,029] A new study created in memory with name: no-name-0bd33a55-366b-4b01-be6d-b977d4de47f9\n"
     ]
    },
    {
     "data": {
      "application/vnd.jupyter.widget-view+json": {
       "model_id": "ad373c7c8079453e94c871c6c089c6bb",
       "version_major": 2,
       "version_minor": 0
      },
      "text/plain": [
       "  0%|          | 0/3 [00:00<?, ?it/s]"
      ]
     },
     "metadata": {},
     "output_type": "display_data"
    },
    {
     "name": "stdout",
     "output_type": "stream",
     "text": [
      "0:\tlearn: 0.3143760\ttest: 0.3021613\tbest: 0.3021613 (0)\ttotal: 62.9ms\tremaining: 2m 5s\n",
      "100:\tlearn: 0.9398499\ttest: 0.9373522\tbest: 0.9373522 (100)\ttotal: 4.41s\tremaining: 1m 22s\n",
      "200:\tlearn: 0.9811990\ttest: 0.9796056\tbest: 0.9796056 (200)\ttotal: 8.44s\tremaining: 1m 15s\n",
      "300:\tlearn: 0.9906184\ttest: 0.9885019\tbest: 0.9885019 (300)\ttotal: 12.3s\tremaining: 1m 9s\n",
      "400:\tlearn: 0.9941541\ttest: 0.9925621\tbest: 0.9925621 (398)\ttotal: 16.1s\tremaining: 1m 4s\n",
      "500:\tlearn: 0.9954882\ttest: 0.9948336\tbest: 0.9948336 (500)\ttotal: 19.7s\tremaining: 58.9s\n",
      "600:\tlearn: 0.9968709\ttest: 0.9959297\tbest: 0.9959297 (600)\ttotal: 23.3s\tremaining: 54.2s\n",
      "700:\tlearn: 0.9975384\ttest: 0.9969681\tbest: 0.9970777 (696)\ttotal: 26.8s\tremaining: 49.7s\n",
      "800:\tlearn: 0.9979513\ttest: 0.9974755\tbest: 0.9974755 (770)\ttotal: 30.3s\tremaining: 45.4s\n",
      "900:\tlearn: 0.9981296\ttest: 0.9979155\tbest: 0.9979155 (900)\ttotal: 34s\tremaining: 41.5s\n",
      "1000:\tlearn: 0.9988398\ttest: 0.9982114\tbest: 0.9984165 (985)\ttotal: 37.6s\tremaining: 37.5s\n",
      "1100:\tlearn: 0.9990514\ttest: 0.9988778\tbest: 0.9988778 (1100)\ttotal: 41.2s\tremaining: 33.6s\n",
      "1200:\tlearn: 0.9993366\ttest: 0.9989988\tbest: 0.9989988 (1155)\ttotal: 44.9s\tremaining: 29.9s\n",
      "bestTest = 0.9989988011\n",
      "bestIteration = 1155\n",
      "Shrink model to first 1156 iterations.\n",
      "0:\tlearn: 0.3079190\ttest: 0.2980429\tbest: 0.2980429 (0)\ttotal: 48.9ms\tremaining: 1m 37s\n",
      "100:\tlearn: 0.9462260\ttest: 0.9423019\tbest: 0.9423019 (100)\ttotal: 4.28s\tremaining: 1m 20s\n",
      "200:\tlearn: 0.9830165\ttest: 0.9794043\tbest: 0.9795430 (199)\ttotal: 8.32s\tremaining: 1m 14s\n",
      "300:\tlearn: 0.9923873\ttest: 0.9905233\tbest: 0.9906335 (297)\ttotal: 12.2s\tremaining: 1m 9s\n",
      "400:\tlearn: 0.9955229\ttest: 0.9938022\tbest: 0.9938022 (399)\ttotal: 16s\tremaining: 1m 3s\n",
      "500:\tlearn: 0.9970095\ttest: 0.9955895\tbest: 0.9960071 (499)\ttotal: 19.6s\tremaining: 58.6s\n",
      "600:\tlearn: 0.9974510\ttest: 0.9966075\tbest: 0.9966075 (582)\ttotal: 23.1s\tremaining: 53.7s\n",
      "700:\tlearn: 0.9983167\ttest: 0.9975273\tbest: 0.9976303 (691)\ttotal: 26.6s\tremaining: 49.3s\n",
      "800:\tlearn: 0.9985722\ttest: 0.9976541\tbest: 0.9978399 (772)\ttotal: 30.1s\tremaining: 45.1s\n",
      "900:\tlearn: 0.9989707\ttest: 0.9984962\tbest: 0.9984962 (898)\ttotal: 33.6s\tremaining: 41s\n",
      "1000:\tlearn: 0.9993393\ttest: 0.9988273\tbest: 0.9988273 (993)\ttotal: 37.2s\tremaining: 37.1s\n",
      "1100:\tlearn: 0.9995097\ttest: 0.9990912\tbest: 0.9990912 (1023)\ttotal: 40.8s\tremaining: 33.3s\n",
      "bestTest = 0.9990912459\n",
      "bestIteration = 1023\n",
      "Shrink model to first 1024 iterations.\n",
      "0:\tlearn: 0.3011423\ttest: 0.2914150\tbest: 0.2914150 (0)\ttotal: 48.5ms\tremaining: 1m 36s\n",
      "100:\tlearn: 0.9480046\ttest: 0.9450113\tbest: 0.9450113 (100)\ttotal: 4.37s\tremaining: 1m 22s\n",
      "200:\tlearn: 0.9822100\ttest: 0.9770199\tbest: 0.9771321 (199)\ttotal: 8.38s\tremaining: 1m 14s\n",
      "300:\tlearn: 0.9907809\ttest: 0.9864064\tbest: 0.9864064 (299)\ttotal: 12.1s\tremaining: 1m 8s\n",
      "400:\tlearn: 0.9921733\ttest: 0.9881113\tbest: 0.9881113 (397)\ttotal: 15.8s\tremaining: 1m 2s\n",
      "500:\tlearn: 0.9947519\ttest: 0.9907364\tbest: 0.9907364 (499)\ttotal: 19.4s\tremaining: 58s\n",
      "600:\tlearn: 0.9967991\ttest: 0.9938579\tbest: 0.9938875 (596)\ttotal: 23s\tremaining: 53.6s\n",
      "700:\tlearn: 0.9977407\ttest: 0.9952910\tbest: 0.9952910 (695)\ttotal: 26.7s\tremaining: 49.6s\n",
      "800:\tlearn: 0.9987968\ttest: 0.9963329\tbest: 0.9963329 (798)\ttotal: 30.6s\tremaining: 45.8s\n",
      "900:\tlearn: 0.9992041\ttest: 0.9972856\tbest: 0.9972856 (878)\ttotal: 34.5s\tremaining: 42s\n",
      "1000:\tlearn: 0.9994632\ttest: 0.9978739\tbest: 0.9979830 (978)\ttotal: 38.4s\tremaining: 38.3s\n",
      "1100:\tlearn: 0.9996713\ttest: 0.9979830\tbest: 0.9980858 (1073)\ttotal: 42.2s\tremaining: 34.5s\n",
      "1200:\tlearn: 0.9996713\ttest: 0.9984034\tbest: 0.9984034 (1197)\ttotal: 46s\tremaining: 30.6s\n",
      "1300:\tlearn: 0.9997615\ttest: 0.9985665\tbest: 0.9985665 (1280)\ttotal: 49.9s\tremaining: 26.8s\n",
      "bestTest = 0.9985664857\n",
      "bestIteration = 1280\n",
      "Shrink model to first 1281 iterations.\n",
      "[I 2024-08-15 22:39:12,217] Trial 0 finished with value: 0.9980574461233096 and parameters: {'learning_rate': 0.08576323215321141, 'l2_leaf_reg': 40.864287218344465, 'auto_class_weights': 'Balanced', 'max_depth': 6, 'border_count': 110}. Best is trial 0 with value: 0.9980574461233096.\n",
      "0:\tlearn: 0.4308180\ttest: 0.4169848\tbest: 0.4169848 (0)\ttotal: 102ms\tremaining: 3m 24s\n",
      "100:\tlearn: 0.9945462\ttest: 0.9945670\tbest: 0.9945670 (100)\ttotal: 9.06s\tremaining: 2m 50s\n",
      "200:\tlearn: 0.9996840\ttest: 1.0000000\tbest: 1.0000000 (198)\ttotal: 20.9s\tremaining: 3m 6s\n",
      "bestTest = 1\n",
      "bestIteration = 198\n",
      "Shrink model to first 199 iterations.\n",
      "0:\tlearn: 0.4385372\ttest: 0.4372399\tbest: 0.4372399 (0)\ttotal: 165ms\tremaining: 5m 29s\n",
      "100:\tlearn: 0.9959685\ttest: 0.9948369\tbest: 0.9949483 (99)\ttotal: 14.5s\tremaining: 4m 33s\n",
      "200:\tlearn: 0.9997423\ttest: 0.9992348\tbest: 0.9992348 (189)\ttotal: 27.4s\tremaining: 4m 5s\n",
      "300:\tlearn: 1.0000000\ttest: 1.0000000\tbest: 1.0000000 (213)\ttotal: 40s\tremaining: 3m 45s\n",
      "bestTest = 1\n",
      "bestIteration = 213\n",
      "Shrink model to first 214 iterations.\n",
      "0:\tlearn: 0.4539735\ttest: 0.4390737\tbest: 0.4390737 (0)\ttotal: 162ms\tremaining: 5m 23s\n",
      "100:\tlearn: 0.9954335\ttest: 0.9941160\tbest: 0.9941160 (99)\ttotal: 14.3s\tremaining: 4m 29s\n",
      "200:\tlearn: 0.9997898\ttest: 0.9983037\tbest: 0.9983037 (194)\ttotal: 27.2s\tremaining: 4m 3s\n",
      "300:\tlearn: 0.9999700\ttest: 0.9987466\tbest: 0.9987466 (264)\ttotal: 40.2s\tremaining: 3m 46s\n",
      "bestTest = 0.9987466164\n",
      "bestIteration = 264\n",
      "Shrink model to first 265 iterations.\n",
      "[I 2024-08-15 22:41:16,709] Trial 1 finished with value: 0.9994068637923018 and parameters: {'learning_rate': 0.08699429997044715, 'l2_leaf_reg': 6.994157555716834, 'auto_class_weights': 'Balanced', 'max_depth': 8, 'border_count': 111}. Best is trial 1 with value: 0.9994068637923018.\n",
      "0:\tlearn: 0.4338485\ttest: 0.4323537\tbest: 0.4323537 (0)\ttotal: 354ms\tremaining: 11m 46s\n",
      "100:\tlearn: 0.8046528\ttest: 0.7862962\tbest: 0.7862962 (100)\ttotal: 36.7s\tremaining: 11m 29s\n",
      "200:\tlearn: 0.9354801\ttest: 0.9133113\tbest: 0.9143583 (199)\ttotal: 1m 12s\tremaining: 10m 52s\n",
      "300:\tlearn: 0.9745115\ttest: 0.9603557\tbest: 0.9606994 (299)\ttotal: 1m 49s\tremaining: 10m 18s\n",
      "400:\tlearn: 0.9862399\ttest: 0.9784008\tbest: 0.9784008 (399)\ttotal: 2m 26s\tremaining: 9m 45s\n",
      "500:\tlearn: 0.9907778\ttest: 0.9843769\tbest: 0.9843769 (499)\ttotal: 3m 2s\tremaining: 9m 5s\n",
      "600:\tlearn: 0.9952867\ttest: 0.9908706\tbest: 0.9908706 (587)\ttotal: 3m 36s\tremaining: 8m 24s\n",
      "700:\tlearn: 0.9970440\ttest: 0.9939967\tbest: 0.9939967 (680)\ttotal: 4m 11s\tremaining: 7m 45s\n",
      "800:\tlearn: 0.9978297\ttest: 0.9949491\tbest: 0.9949491 (780)\ttotal: 4m 44s\tremaining: 7m 5s\n",
      "900:\tlearn: 0.9994296\ttest: 0.9985149\tbest: 0.9985149 (876)\ttotal: 5m 17s\tremaining: 6m 27s\n",
      "1000:\tlearn: 0.9997724\ttest: 0.9992269\tbest: 0.9992269 (967)\ttotal: 5m 49s\tremaining: 5m 48s\n",
      "1100:\tlearn: 0.9997724\ttest: 0.9995474\tbest: 0.9995474 (1024)\ttotal: 6m 21s\tremaining: 5m 11s\n",
      "bestTest = 0.9995474203\n",
      "bestIteration = 1024\n",
      "Shrink model to first 1025 iterations.\n",
      "0:\tlearn: 0.4439731\ttest: 0.4302764\tbest: 0.4302764 (0)\ttotal: 352ms\tremaining: 11m 43s\n",
      "100:\tlearn: 0.7975476\ttest: 0.7841105\tbest: 0.7841105 (100)\ttotal: 36.5s\tremaining: 11m 27s\n",
      "200:\tlearn: 0.9304061\ttest: 0.9254380\tbest: 0.9254380 (199)\ttotal: 1m 12s\tremaining: 10m 52s\n",
      "300:\tlearn: 0.9669390\ttest: 0.9572536\tbest: 0.9573964 (290)\ttotal: 1m 49s\tremaining: 10m 20s\n",
      "400:\tlearn: 0.9845297\ttest: 0.9768554\tbest: 0.9768554 (400)\ttotal: 2m 25s\tremaining: 9m 38s\n",
      "500:\tlearn: 0.9880280\ttest: 0.9814391\tbest: 0.9814391 (497)\ttotal: 2m 58s\tremaining: 8m 53s\n",
      "600:\tlearn: 0.9931429\ttest: 0.9885158\tbest: 0.9885158 (598)\ttotal: 3m 30s\tremaining: 8m 11s\n",
      "700:\tlearn: 0.9940998\ttest: 0.9904409\tbest: 0.9905635 (684)\ttotal: 4m 3s\tremaining: 7m 30s\n",
      "800:\tlearn: 0.9971202\ttest: 0.9938573\tbest: 0.9939643 (799)\ttotal: 4m 35s\tremaining: 6m 52s\n",
      "900:\tlearn: 0.9978328\ttest: 0.9947941\tbest: 0.9947941 (874)\ttotal: 5m 7s\tremaining: 6m 15s\n",
      "1000:\tlearn: 0.9989100\ttest: 0.9985079\tbest: 0.9985079 (986)\ttotal: 5m 38s\tremaining: 5m 38s\n",
      "bestTest = 0.9985079003\n",
      "bestIteration = 986\n",
      "Shrink model to first 987 iterations.\n",
      "0:\tlearn: 0.4418747\ttest: 0.4250194\tbest: 0.4250194 (0)\ttotal: 353ms\tremaining: 11m 44s\n",
      "100:\tlearn: 0.7996015\ttest: 0.7827325\tbest: 0.7827325 (99)\ttotal: 36.8s\tremaining: 11m 32s\n",
      "200:\tlearn: 0.9313332\ttest: 0.9207334\tbest: 0.9207334 (200)\ttotal: 1m 13s\tremaining: 10m 56s\n",
      "300:\tlearn: 0.9698702\ttest: 0.9578601\tbest: 0.9578601 (300)\ttotal: 1m 50s\tremaining: 10m 23s\n",
      "400:\tlearn: 0.9831414\ttest: 0.9745245\tbest: 0.9745245 (398)\ttotal: 2m 27s\tremaining: 9m 48s\n",
      "500:\tlearn: 0.9951125\ttest: 0.9892156\tbest: 0.9892156 (488)\ttotal: 3m 1s\tremaining: 9m 2s\n",
      "600:\tlearn: 0.9967417\ttest: 0.9933536\tbest: 0.9933536 (600)\ttotal: 3m 34s\tremaining: 8m 18s\n",
      "700:\tlearn: 0.9974709\ttest: 0.9942086\tbest: 0.9942086 (695)\ttotal: 4m 6s\tremaining: 7m 37s\n",
      "800:\tlearn: 0.9985904\ttest: 0.9948683\tbest: 0.9948683 (797)\ttotal: 4m 38s\tremaining: 6m 57s\n",
      "bestTest = 0.9948683017\n",
      "bestIteration = 797\n",
      "Shrink model to first 798 iterations.\n",
      "[I 2024-08-15 22:59:03,931] Trial 2 finished with value: 0.9976412074200439 and parameters: {'learning_rate': 0.03679430158672004, 'l2_leaf_reg': 25.224656972502878, 'auto_class_weights': 'None', 'max_depth': 10, 'border_count': 93}. Best is trial 1 with value: 0.9994068637923018.\n",
      "CPU times: total: 46min 34s\n",
      "Wall time: 22min 14s\n"
     ]
    }
   ],
   "source": [
    "%%time\n",
    "\n",
    "study = optuna.create_study(direction='maximize')\n",
    "study.optimize(\n",
    "                lambda trial: objective(trial, X[selected_features], y, cat_features),\n",
    "                n_trials=3,\n",
    "                show_progress_bar=True,\n",
    ")"
   ]
  },
  {
   "cell_type": "code",
   "execution_count": null,
   "metadata": {},
   "outputs": [
    {
     "name": "stdout",
     "output_type": "stream",
     "text": [
      "Best trial: score 0.9994068637923018, params {'learning_rate': 0.08699429997044715, 'l2_leaf_reg': 6.994157555716834, 'auto_class_weights': 'Balanced', 'max_depth': 8, 'border_count': 111}\n"
     ]
    }
   ],
   "source": [
    "print(\"Best trial: score {}, params {}\".format(study.best_trial.value, study.best_trial.params))"
   ]
  },
  {
   "cell_type": "code",
   "execution_count": null,
   "metadata": {},
   "outputs": [
    {
     "name": "stdout",
     "output_type": "stream",
     "text": [
      "0:\tlearn: 0.4308180\ttest: 0.4169848\tbest: 0.4169848 (0)\ttotal: 135ms\tremaining: 4m 30s\n",
      "100:\tlearn: 0.9945462\ttest: 0.9945670\tbest: 0.9945670 (100)\ttotal: 8.95s\tremaining: 2m 48s\n",
      "200:\tlearn: 0.9996840\ttest: 1.0000000\tbest: 1.0000000 (198)\ttotal: 16.1s\tremaining: 2m 24s\n",
      "bestTest = 1\n",
      "bestIteration = 198\n",
      "Shrink model to first 199 iterations.\n",
      "0:\tlearn: 0.4385372\ttest: 0.4372399\tbest: 0.4372399 (0)\ttotal: 108ms\tremaining: 3m 35s\n",
      "100:\tlearn: 0.9959685\ttest: 0.9948369\tbest: 0.9949483 (99)\ttotal: 8.76s\tremaining: 2m 44s\n",
      "200:\tlearn: 0.9997423\ttest: 0.9992348\tbest: 0.9992348 (189)\ttotal: 16s\tremaining: 2m 23s\n",
      "300:\tlearn: 1.0000000\ttest: 1.0000000\tbest: 1.0000000 (213)\ttotal: 23s\tremaining: 2m 9s\n",
      "bestTest = 1\n",
      "bestIteration = 213\n",
      "Shrink model to first 214 iterations.\n",
      "0:\tlearn: 0.4539735\ttest: 0.4390737\tbest: 0.4390737 (0)\ttotal: 105ms\tremaining: 3m 30s\n",
      "100:\tlearn: 0.9954335\ttest: 0.9941160\tbest: 0.9941160 (99)\ttotal: 8.62s\tremaining: 2m 42s\n",
      "200:\tlearn: 0.9997898\ttest: 0.9983037\tbest: 0.9983037 (194)\ttotal: 16s\tremaining: 2m 22s\n",
      "300:\tlearn: 0.9999700\ttest: 0.9987466\tbest: 0.9987466 (264)\ttotal: 23.4s\tremaining: 2m 11s\n",
      "bestTest = 0.9987466164\n",
      "bestIteration = 264\n",
      "Shrink model to first 265 iterations.\n",
      "CPU times: total: 2min 42s\n",
      "Wall time: 1min 16s\n"
     ]
    }
   ],
   "source": [
    "%%time\n",
    "\n",
    "valid_scores, models_sf_new_fit = objective(\n",
    "    optuna.trial.FixedTrial(study.best_params),\n",
    "    X[selected_features], \n",
    "    y, \n",
    "    cat_features,\n",
    "    return_models=True,\n",
    ")"
   ]
  },
  {
   "cell_type": "code",
   "execution_count": null,
   "metadata": {},
   "outputs": [
    {
     "data": {
      "text/plain": [
       "0.9994068637923018"
      ]
     },
     "execution_count": 130,
     "metadata": {},
     "output_type": "execute_result"
    }
   ],
   "source": [
    "valid_scores"
   ]
  },
  {
   "cell_type": "code",
   "execution_count": null,
   "metadata": {},
   "outputs": [
    {
     "name": "stdout",
     "output_type": "stream",
     "text": [
      "199\n",
      "214\n",
      "265\n"
     ]
    }
   ],
   "source": [
    "for m in models_sf_new_fit:\n",
    "    print(m.tree_count_)"
   ]
  },
  {
   "cell_type": "code",
   "execution_count": null,
   "metadata": {},
   "outputs": [
    {
     "name": "stdout",
     "output_type": "stream",
     "text": [
      "{'nan_mode': 'Min', 'gpu_ram_part': 0.95, 'eval_metric': 'TotalF1:average=Macro', 'combinations_ctr': ['Borders:CtrBorderCount=15:CtrBorderType=Uniform:TargetBorderCount=1:TargetBorderType=MinEntropy:Prior=0/1:Prior=0.5/1:Prior=1/1', 'FeatureFreq:CtrBorderCount=15:CtrBorderType=Median:Prior=0/1'], 'iterations': 2000, 'fold_permutation_block': 64, 'leaf_estimation_method': 'Newton', 'observations_to_bootstrap': 'TestOnly', 'od_pval': 0, 'random_score_type': 'NormalWithModelSizeDecrease', 'counter_calc_method': 'SkipTest', 'grow_policy': 'SymmetricTree', 'penalties_coefficient': 1, 'boosting_type': 'Plain', 'ctr_history_unit': 'Sample', 'feature_border_type': 'GreedyLogSum', 'bayesian_matrix_reg': 0.10000000149011612, 'one_hot_max_size': 2, 'devices': '-1', 'eval_fraction': 0, 'pinned_memory_bytes': '104857600', 'force_unit_auto_pair_weights': False, 'l2_leaf_reg': 6.994157791137695, 'random_strength': 1, 'od_type': 'Iter', 'rsm': 1, 'boost_from_average': False, 'gpu_cat_features_storage': 'GpuRam', 'fold_size_loss_normalization': False, 'max_ctr_complexity': 4, 'model_size_reg': 0.5, 'simple_ctr': ['Borders:CtrBorderCount=15:CtrBorderType=Uniform:TargetBorderCount=1:TargetBorderType=MinEntropy:Prior=0/1:Prior=0.5/1:Prior=1/1', 'FeatureFreq:CtrBorderCount=15:CtrBorderType=MinEntropy:Prior=0/1'], 'pool_metainfo_options': {'tags': {}}, 'use_best_model': True, 'meta_l2_frequency': 0, 'od_wait': 100, 'class_names': [0, 1, 2, 3, 6, 9, 11, 12, 14, 15, 17, 19, 23, 24, 25, 26, 29, 32, 33, 34, 35, 37, 39, 41, 43, 46, 49, 50, 54, 55, 56], 'random_seed': 42, 'depth': 8, 'ctr_target_border_count': 1, 'has_time': False, 'border_count': 111, 'min_fold_size': 100, 'class_weights': [1.8316195011138916, 1.8603132963180544, 54.80769348144531, 2.4317405223846436, 1.1914715766906738, 2.1048743724823, 1.704545497894287, 1.1855241060256958, 3.518518447875977, 1.3268156051635742, 3.376777172088623, 1.3109475374221802, 8.796296119689941, 5.888429641723633, 9.253246307373049, 8.189655303955078, 2.4070944786071777, 2.1236960887908936, 1.8434669971466064, 8.00561809539795, 3.9473683834075928, 1, 2.0833332538604736, 19.52054786682129, 18.269229888916016, 4.765886306762695, 1.9547325372695925, 2.2727272510528564, 2.2335422039031982, 1.0042283535003662, 17.378047943115234], 'data_partition': 'DocParallel', 'bagging_temperature': 1, 'classes_count': 0, 'auto_class_weights': 'Balanced', 'leaf_estimation_backtracking': 'AnyImprovement', 'best_model_min_trees': 1, 'min_data_in_leaf': 1, 'add_ridge_penalty_to_loss_function': False, 'loss_function': 'MultiClass', 'learning_rate': 0.08699429780244827, 'meta_l2_exponent': 1, 'score_function': 'Cosine', 'task_type': 'GPU', 'leaf_estimation_iterations': 1, 'bootstrap_type': 'Bayesian', 'max_leaves': 256, 'permutation_count': 4}\n",
      "{'nan_mode': 'Min', 'gpu_ram_part': 0.95, 'eval_metric': 'TotalF1:average=Macro', 'combinations_ctr': ['Borders:CtrBorderCount=15:CtrBorderType=Uniform:TargetBorderCount=1:TargetBorderType=MinEntropy:Prior=0/1:Prior=0.5/1:Prior=1/1', 'FeatureFreq:CtrBorderCount=15:CtrBorderType=Median:Prior=0/1'], 'iterations': 2000, 'fold_permutation_block': 64, 'leaf_estimation_method': 'Newton', 'observations_to_bootstrap': 'TestOnly', 'od_pval': 0, 'random_score_type': 'NormalWithModelSizeDecrease', 'counter_calc_method': 'SkipTest', 'grow_policy': 'SymmetricTree', 'penalties_coefficient': 1, 'boosting_type': 'Plain', 'ctr_history_unit': 'Sample', 'feature_border_type': 'GreedyLogSum', 'bayesian_matrix_reg': 0.10000000149011612, 'one_hot_max_size': 2, 'devices': '-1', 'eval_fraction': 0, 'pinned_memory_bytes': '104857600', 'force_unit_auto_pair_weights': False, 'l2_leaf_reg': 6.994157791137695, 'random_strength': 1, 'od_type': 'Iter', 'rsm': 1, 'boost_from_average': False, 'gpu_cat_features_storage': 'GpuRam', 'fold_size_loss_normalization': False, 'max_ctr_complexity': 4, 'model_size_reg': 0.5, 'simple_ctr': ['Borders:CtrBorderCount=15:CtrBorderType=Uniform:TargetBorderCount=1:TargetBorderType=MinEntropy:Prior=0/1:Prior=0.5/1:Prior=1/1', 'FeatureFreq:CtrBorderCount=15:CtrBorderType=MinEntropy:Prior=0/1'], 'pool_metainfo_options': {'tags': {}}, 'use_best_model': True, 'meta_l2_frequency': 0, 'od_wait': 100, 'class_names': [0, 1, 2, 3, 6, 9, 11, 12, 14, 15, 17, 19, 23, 24, 25, 26, 29, 32, 33, 34, 35, 37, 39, 41, 43, 46, 49, 50, 54, 55, 56], 'random_seed': 42, 'depth': 8, 'ctr_target_border_count': 1, 'has_time': False, 'border_count': 111, 'min_fold_size': 100, 'class_weights': [1.8339768648147583, 1.8603132963180544, 54.80769348144531, 2.4317405223846436, 1.1904761791229248, 2.1048743724823, 1.704545497894287, 1.1865112781524658, 3.509852170944214, 1.325581431388855, 3.376777172088623, 1.3097426891326904, 8.796296119689941, 5.864197731018066, 9.193548202514648, 8.189655303955078, 2.411167621612549, 2.1268656253814697, 1.8434669971466064, 8.00561809539795, 3.9583332538604736, 1, 2.086383581161499, 19.256755828857425, 18.269229888916016, 4.765886306762695, 1.9547325372695925, 2.2727272510528564, 2.2335422039031982, 1.0042283535003662, 17.378047943115234], 'data_partition': 'DocParallel', 'bagging_temperature': 1, 'classes_count': 0, 'auto_class_weights': 'Balanced', 'leaf_estimation_backtracking': 'AnyImprovement', 'best_model_min_trees': 1, 'min_data_in_leaf': 1, 'add_ridge_penalty_to_loss_function': False, 'loss_function': 'MultiClass', 'learning_rate': 0.08699429780244827, 'meta_l2_exponent': 1, 'score_function': 'Cosine', 'task_type': 'GPU', 'leaf_estimation_iterations': 1, 'bootstrap_type': 'Bayesian', 'max_leaves': 256, 'permutation_count': 4}\n",
      "{'nan_mode': 'Min', 'gpu_ram_part': 0.95, 'eval_metric': 'TotalF1:average=Macro', 'combinations_ctr': ['Borders:CtrBorderCount=15:CtrBorderType=Uniform:TargetBorderCount=1:TargetBorderType=MinEntropy:Prior=0/1:Prior=0.5/1:Prior=1/1', 'FeatureFreq:CtrBorderCount=15:CtrBorderType=Median:Prior=0/1'], 'iterations': 2000, 'fold_permutation_block': 64, 'leaf_estimation_method': 'Newton', 'observations_to_bootstrap': 'TestOnly', 'od_pval': 0, 'random_score_type': 'NormalWithModelSizeDecrease', 'counter_calc_method': 'SkipTest', 'grow_policy': 'SymmetricTree', 'penalties_coefficient': 1, 'boosting_type': 'Plain', 'ctr_history_unit': 'Sample', 'feature_border_type': 'GreedyLogSum', 'bayesian_matrix_reg': 0.10000000149011612, 'one_hot_max_size': 2, 'devices': '-1', 'eval_fraction': 0, 'pinned_memory_bytes': '104857600', 'force_unit_auto_pair_weights': False, 'l2_leaf_reg': 6.994157791137695, 'random_strength': 1, 'od_type': 'Iter', 'rsm': 1, 'boost_from_average': False, 'gpu_cat_features_storage': 'GpuRam', 'fold_size_loss_normalization': False, 'max_ctr_complexity': 4, 'model_size_reg': 0.5, 'simple_ctr': ['Borders:CtrBorderCount=15:CtrBorderType=Uniform:TargetBorderCount=1:TargetBorderType=MinEntropy:Prior=0/1:Prior=0.5/1:Prior=1/1', 'FeatureFreq:CtrBorderCount=15:CtrBorderType=MinEntropy:Prior=0/1'], 'pool_metainfo_options': {'tags': {}}, 'use_best_model': True, 'meta_l2_frequency': 0, 'od_wait': 100, 'class_names': [0, 1, 2, 3, 6, 9, 11, 12, 14, 15, 17, 19, 23, 24, 25, 26, 29, 32, 33, 34, 35, 37, 39, 41, 43, 46, 49, 50, 54, 55, 56], 'random_seed': 42, 'depth': 8, 'ctr_target_border_count': 1, 'has_time': False, 'border_count': 111, 'min_fold_size': 100, 'class_weights': [1.832689881324768, 1.8590078353881836, 54.769229888916016, 2.4300341606140137, 1.189640760421753, 2.10650897026062, 1.703349232673645, 1.1856786012649536, 3.516049385070801, 1.324651122093201, 3.3744075298309326, 1.3100275993347168, 8.790122985839844, 5.860082149505615, 9.18709659576416, 8.183908462524414, 2.409475564956665, 2.1222057342529297, 1.83979332447052, 8, 3.944598436355591, 1, 2.0849194526672363, 19.50684928894043, 18.256410598754883, 4.746666431427002, 1.950684905052185, 2.2747604846954346, 2.231974840164185, 1.002816915512085, 17.365854263305664], 'data_partition': 'DocParallel', 'bagging_temperature': 1, 'classes_count': 0, 'auto_class_weights': 'Balanced', 'leaf_estimation_backtracking': 'AnyImprovement', 'best_model_min_trees': 1, 'min_data_in_leaf': 1, 'add_ridge_penalty_to_loss_function': False, 'loss_function': 'MultiClass', 'learning_rate': 0.08699429780244827, 'meta_l2_exponent': 1, 'score_function': 'Cosine', 'task_type': 'GPU', 'leaf_estimation_iterations': 1, 'bootstrap_type': 'Bayesian', 'max_leaves': 256, 'permutation_count': 4}\n"
     ]
    }
   ],
   "source": [
    "for m in models_sf_new_fit:\n",
    "    print(m.get_all_params())"
   ]
  },
  {
   "cell_type": "markdown",
   "metadata": {},
   "source": [
    "## Итоговое предсказание лучшей модели"
   ]
  },
  {
   "cell_type": "code",
   "execution_count": 93,
   "metadata": {},
   "outputs": [],
   "source": [
    "def make_prediction_dict(df_test, name_columns, models):\n",
    "    # из тестового набора выделяем фичи, на которых обучались\n",
    "    X = df_test.loc[:, name_columns]\n",
    "    # датафрейм с закодированными user_id из тестовой выборки\n",
    "    result = df_test.loc[:, ['user_word']]\n",
    "    # делаем предсказания user_id\n",
    "    predictions = np.array([model.predict(X) for model in models])\n",
    "    result['pred_user_id'] = mode(predictions, axis=0)[0].flatten()\n",
    "    result = result.groupby('user_word')['pred_user_id'].agg(lambda group: dict(group.value_counts())).to_dict()\n",
    "    return result"
   ]
  },
  {
   "cell_type": "code",
   "execution_count": 94,
   "metadata": {},
   "outputs": [],
   "source": [
    "def make_prediction(df_test, name_columns, models):\n",
    "    # из тестового набора выделяем фичи, на которых обучались\n",
    "    X = df_test.loc[:, name_columns]\n",
    "    # датафрейм с закодированными user_id из тестовой выборки\n",
    "    result = df_test.loc[:, ['user_word']]\n",
    "    # делаем предсказания user_id\n",
    "    predictions = np.array([model.predict(X) for model in models])\n",
    "    result['pred_user_id'] = mode(predictions, axis=0)[0].flatten()\n",
    "    # датафрейм: user_word; предсказанный user_id; количество предсказанных конкретных user_id для конкретной категории user_word\n",
    "    temp_1 = result.groupby(['user_word', 'pred_user_id']).size().reset_index(name='count_pred_user_id_in_user_word')\n",
    "    # датафрейм: user_word; количество user_word\n",
    "    temp_2 = result['user_word'].value_counts().reset_index(name='count_user_word')\n",
    "    # датафрейм: pred_user_id; количество pred_user_id\n",
    "    temp_3 = result['pred_user_id'].value_counts().reset_index(name='count_pred_user_id')\n",
    "    # датафрейм: user_word; pred_user_id; count_pred_user_id_in_user_word; count_user_word; count_pred_user_id\n",
    "    result = temp_1.merge(temp_2, on='user_word', how='left').merge(temp_3, on='pred_user_id', how='left')\n",
    "    # добавляем уверенность модели в том, что предсказанный user_id, соответсвует user_word, в знаменателе - кол-во user_word\n",
    "    result['confidence_per_user_word'] = result['count_pred_user_id_in_user_word'] / result['count_user_word']\n",
    "    # добавляем уверенность модели в том, что предсказанный user_id, соответсвует user_word, в знаменателе - кол-во pred_user_id\n",
    "    result['confidence_per_pred_user_id'] = result['count_pred_user_id_in_user_word'] / result['count_pred_user_id']\n",
    "    # итоговая уверенность\n",
    "    result['confidence'] = result['confidence_per_user_word'] + result['confidence_per_pred_user_id']\n",
    "    # сортируем данные по убыванию уверенности\n",
    "    result = result.sort_values(by='confidence', ascending=False)\n",
    "\n",
    "    # формируем итоговый датафрейм\n",
    "    final = pd.DataFrame(columns=['user_word', 'preds'])\n",
    "    # user_word, которые уже добавлены в final\n",
    "    words = set()\n",
    "    # user_id, которые уже добавлены в final\n",
    "    ids = set()\n",
    "    # добавляем в final предсказания по приоритету уверенности (result уже отсортирован)\n",
    "    for _, row in result.iterrows():\n",
    "        word, user_id = row['user_word'], row['pred_user_id']\n",
    "        if word not in words and user_id not in ids and row['confidence'] > 0.1:\n",
    "            final.loc[len(final)] = [word, user_id]\n",
    "            words.add(word)\n",
    "            ids.add(user_id)\n",
    "\n",
    "    # категориям, насчет которых модель не уверена, проставляется -999\n",
    "    for word in (set(result['user_word'].unique()) - set(final['user_word'])):\n",
    "        final.loc[len(final)] = [word, -999]\n",
    "    \n",
    "    return final.sort_values(by='user_word')"
   ]
  },
  {
   "cell_type": "code",
   "execution_count": 95,
   "metadata": {},
   "outputs": [],
   "source": [
    "df_test = df_test.rename(columns={'user_id': 'user_word'})"
   ]
  },
  {
   "cell_type": "markdown",
   "metadata": {},
   "source": [
    "Сделаем предсказание"
   ]
  },
  {
   "cell_type": "markdown",
   "metadata": {},
   "source": [
    "Используем все фичи"
   ]
  },
  {
   "cell_type": "code",
   "execution_count": 96,
   "metadata": {},
   "outputs": [],
   "source": [
    "# delete_user_id = [2, 4, 5, 7, 8, 10, 21, 22, 28, 30, 36, 38, 44, 45, 51, 52] + [18, 20, 27, 31, 40, 41, 42, 57]"
   ]
  },
  {
   "cell_type": "code",
   "execution_count": 97,
   "metadata": {},
   "outputs": [
    {
     "data": {
      "text/plain": [
       "{'aucroc': {24: 35, 49: 2},\n",
       " 'binary': {12: 196, 46: 65, 14: 43, 9: 23, 15: 20, 50: 15},\n",
       " 'blue': {25: 12},\n",
       " 'categorical': {14: 241},\n",
       " 'coefficient': {15: 21, 1: 11, 41: 9, 26: 8, 27: 7},\n",
       " 'collinear': {6: 78,\n",
       "  37: 54,\n",
       "  43: 42,\n",
       "  35: 40,\n",
       "  14: 26,\n",
       "  1: 17,\n",
       "  29: 15,\n",
       "  50: 7,\n",
       "  15: 6,\n",
       "  33: 5,\n",
       "  39: 4,\n",
       "  26: 3,\n",
       "  24: 1},\n",
       " 'distributed': {0: 64, 11: 26, 34: 14, 55: 13},\n",
       " 'epsilon': {49: 153, 1: 113, 24: 41, 26: 14, 14: 9, 25: 6},\n",
       " 'f1': {6: 660, 27: 33},\n",
       " 'fit': {15: 78, 23: 54, 35: 24, 34: 14, 54: 8, 0: 5},\n",
       " 'gini': {15: 188, 1: 24, 54: 17, 3: 9, 0: 8, 49: 6},\n",
       " 'independent': {49: 114, 15: 60, 14: 44, 1: 28, 46: 14, 24: 12, 25: 6},\n",
       " 'lasso': {25: 14, 34: 10, 56: 9},\n",
       " 'linear': {0: 92, 17: 67, 3: 25, 19: 15},\n",
       " 'logistic': {56: 5},\n",
       " 'loss': {19: 330, 15: 62, 37: 33, 12: 22, 14: 11},\n",
       " 'matrix': {29: 44,\n",
       "  50: 30,\n",
       "  54: 17,\n",
       "  14: 16,\n",
       "  27: 16,\n",
       "  11: 14,\n",
       "  9: 9,\n",
       "  39: 7,\n",
       "  43: 4},\n",
       " 'minimization': {50: 59, 29: 21, 34: 11, 25: 4},\n",
       " 'mse': {43: 52, 23: 26, 50: 14, 34: 7, 56: 4},\n",
       " 'ols': {11: 92, 29: 23, 54: 9, 34: 8, 23: 7},\n",
       " 'precision': {46: 38, 23: 15},\n",
       " 'predict': {15: 62,\n",
       "  11: 42,\n",
       "  0: 22,\n",
       "  14: 16,\n",
       "  12: 14,\n",
       "  33: 14,\n",
       "  29: 13,\n",
       "  19: 8,\n",
       "  39: 8,\n",
       "  23: 7,\n",
       "  6: 2},\n",
       " 'pvalue': {50: 96, 32: 85},\n",
       " 'r2': {54: 143, 14: 30, 15: 8, 35: 4},\n",
       " 'recall': {3: 144, 1: 34, 14: 25, 34: 7},\n",
       " 'regression': {25: 14, 33: 14, 54: 14, 14: 8},\n",
       " 'residual': {0: 63, 19: 51, 11: 42, 29: 34, 32: 22, 33: 7, 50: 5},\n",
       " 'ridge': {3: 59, 0: 40, 24: 16, 29: 11, 39: 9, 32: 4, 11: 2},\n",
       " 'sigmoid': {55: 247, 49: 114, 26: 71},\n",
       " 'significant': {33: 127, 17: 72, 32: 22, 0: 21, 29: 14, 34: 12, 14: 9},\n",
       " 'target': {46: 48, 25: 25, 24: 12, 43: 11, 12: 11, 23: 4},\n",
       " 'tstat': {9: 131, 15: 8},\n",
       " 'x': {6: 214, 12: 63, 54: 12, 23: 7, 15: 2},\n",
       " 'y': {50: 25, 12: 13, 14: 9, 24: 2}}"
      ]
     },
     "execution_count": 97,
     "metadata": {},
     "output_type": "execute_result"
    }
   ],
   "source": [
    "result_dct = make_prediction_dict(df_test, X.columns, models_all_features)\n",
    "result_dct"
   ]
  },
  {
   "cell_type": "code",
   "execution_count": 98,
   "metadata": {},
   "outputs": [
    {
     "data": {
      "text/html": [
       "<div>\n",
       "<style scoped>\n",
       "    .dataframe tbody tr th:only-of-type {\n",
       "        vertical-align: middle;\n",
       "    }\n",
       "\n",
       "    .dataframe tbody tr th {\n",
       "        vertical-align: top;\n",
       "    }\n",
       "\n",
       "    .dataframe thead th {\n",
       "        text-align: right;\n",
       "    }\n",
       "</style>\n",
       "<table border=\"1\" class=\"dataframe\">\n",
       "  <thead>\n",
       "    <tr style=\"text-align: right;\">\n",
       "      <th></th>\n",
       "      <th>user_word</th>\n",
       "      <th>preds</th>\n",
       "    </tr>\n",
       "  </thead>\n",
       "  <tbody>\n",
       "    <tr>\n",
       "      <th>8</th>\n",
       "      <td>aucroc</td>\n",
       "      <td>24</td>\n",
       "    </tr>\n",
       "    <tr>\n",
       "      <th>11</th>\n",
       "      <td>binary</td>\n",
       "      <td>12</td>\n",
       "    </tr>\n",
       "    <tr>\n",
       "      <th>12</th>\n",
       "      <td>blue</td>\n",
       "      <td>25</td>\n",
       "    </tr>\n",
       "    <tr>\n",
       "      <th>4</th>\n",
       "      <td>categorical</td>\n",
       "      <td>14</td>\n",
       "    </tr>\n",
       "    <tr>\n",
       "      <th>10</th>\n",
       "      <td>coefficient</td>\n",
       "      <td>41</td>\n",
       "    </tr>\n",
       "    <tr>\n",
       "      <th>21</th>\n",
       "      <td>collinear</td>\n",
       "      <td>37</td>\n",
       "    </tr>\n",
       "    <tr>\n",
       "      <th>22</th>\n",
       "      <td>distributed</td>\n",
       "      <td>0</td>\n",
       "    </tr>\n",
       "    <tr>\n",
       "      <th>19</th>\n",
       "      <td>epsilon</td>\n",
       "      <td>49</td>\n",
       "    </tr>\n",
       "    <tr>\n",
       "      <th>1</th>\n",
       "      <td>f1</td>\n",
       "      <td>6</td>\n",
       "    </tr>\n",
       "    <tr>\n",
       "      <th>23</th>\n",
       "      <td>fit</td>\n",
       "      <td>23</td>\n",
       "    </tr>\n",
       "    <tr>\n",
       "      <th>13</th>\n",
       "      <td>gini</td>\n",
       "      <td>15</td>\n",
       "    </tr>\n",
       "    <tr>\n",
       "      <th>27</th>\n",
       "      <td>independent</td>\n",
       "      <td>1</td>\n",
       "    </tr>\n",
       "    <tr>\n",
       "      <th>25</th>\n",
       "      <td>lasso</td>\n",
       "      <td>34</td>\n",
       "    </tr>\n",
       "    <tr>\n",
       "      <th>20</th>\n",
       "      <td>linear</td>\n",
       "      <td>17</td>\n",
       "    </tr>\n",
       "    <tr>\n",
       "      <th>7</th>\n",
       "      <td>logistic</td>\n",
       "      <td>56</td>\n",
       "    </tr>\n",
       "    <tr>\n",
       "      <th>2</th>\n",
       "      <td>loss</td>\n",
       "      <td>19</td>\n",
       "    </tr>\n",
       "    <tr>\n",
       "      <th>24</th>\n",
       "      <td>matrix</td>\n",
       "      <td>29</td>\n",
       "    </tr>\n",
       "    <tr>\n",
       "      <th>18</th>\n",
       "      <td>minimization</td>\n",
       "      <td>50</td>\n",
       "    </tr>\n",
       "    <tr>\n",
       "      <th>16</th>\n",
       "      <td>mse</td>\n",
       "      <td>43</td>\n",
       "    </tr>\n",
       "    <tr>\n",
       "      <th>15</th>\n",
       "      <td>ols</td>\n",
       "      <td>11</td>\n",
       "    </tr>\n",
       "    <tr>\n",
       "      <th>17</th>\n",
       "      <td>precision</td>\n",
       "      <td>46</td>\n",
       "    </tr>\n",
       "    <tr>\n",
       "      <th>30</th>\n",
       "      <td>predict</td>\n",
       "      <td>-999</td>\n",
       "    </tr>\n",
       "    <tr>\n",
       "      <th>14</th>\n",
       "      <td>pvalue</td>\n",
       "      <td>32</td>\n",
       "    </tr>\n",
       "    <tr>\n",
       "      <th>5</th>\n",
       "      <td>r2</td>\n",
       "      <td>54</td>\n",
       "    </tr>\n",
       "    <tr>\n",
       "      <th>6</th>\n",
       "      <td>recall</td>\n",
       "      <td>3</td>\n",
       "    </tr>\n",
       "    <tr>\n",
       "      <th>33</th>\n",
       "      <td>regression</td>\n",
       "      <td>-999</td>\n",
       "    </tr>\n",
       "    <tr>\n",
       "      <th>32</th>\n",
       "      <td>residual</td>\n",
       "      <td>-999</td>\n",
       "    </tr>\n",
       "    <tr>\n",
       "      <th>26</th>\n",
       "      <td>ridge</td>\n",
       "      <td>39</td>\n",
       "    </tr>\n",
       "    <tr>\n",
       "      <th>3</th>\n",
       "      <td>sigmoid</td>\n",
       "      <td>55</td>\n",
       "    </tr>\n",
       "    <tr>\n",
       "      <th>9</th>\n",
       "      <td>significant</td>\n",
       "      <td>33</td>\n",
       "    </tr>\n",
       "    <tr>\n",
       "      <th>31</th>\n",
       "      <td>target</td>\n",
       "      <td>-999</td>\n",
       "    </tr>\n",
       "    <tr>\n",
       "      <th>0</th>\n",
       "      <td>tstat</td>\n",
       "      <td>9</td>\n",
       "    </tr>\n",
       "    <tr>\n",
       "      <th>28</th>\n",
       "      <td>x</td>\n",
       "      <td>-999</td>\n",
       "    </tr>\n",
       "    <tr>\n",
       "      <th>29</th>\n",
       "      <td>y</td>\n",
       "      <td>-999</td>\n",
       "    </tr>\n",
       "  </tbody>\n",
       "</table>\n",
       "</div>"
      ],
      "text/plain": [
       "       user_word  preds\n",
       "8         aucroc     24\n",
       "11        binary     12\n",
       "12          blue     25\n",
       "4    categorical     14\n",
       "10   coefficient     41\n",
       "21     collinear     37\n",
       "22   distributed      0\n",
       "19       epsilon     49\n",
       "1             f1      6\n",
       "23           fit     23\n",
       "13          gini     15\n",
       "27   independent      1\n",
       "25         lasso     34\n",
       "20        linear     17\n",
       "7       logistic     56\n",
       "2           loss     19\n",
       "24        matrix     29\n",
       "18  minimization     50\n",
       "16           mse     43\n",
       "15           ols     11\n",
       "17     precision     46\n",
       "30       predict   -999\n",
       "14        pvalue     32\n",
       "5             r2     54\n",
       "6         recall      3\n",
       "33    regression   -999\n",
       "32      residual   -999\n",
       "26         ridge     39\n",
       "3        sigmoid     55\n",
       "9    significant     33\n",
       "31        target   -999\n",
       "0          tstat      9\n",
       "28             x   -999\n",
       "29             y   -999"
      ]
     },
     "execution_count": 98,
     "metadata": {},
     "output_type": "execute_result"
    }
   ],
   "source": [
    "result_cb = make_prediction(df_test, X.columns, models_all_features)\n",
    "result_cb"
   ]
  },
  {
   "cell_type": "code",
   "execution_count": null,
   "metadata": {},
   "outputs": [
    {
     "data": {
      "text/plain": [
       "34"
      ]
     },
     "execution_count": 96,
     "metadata": {},
     "output_type": "execute_result"
    }
   ],
   "source": [
    "len(result_cb)"
   ]
  },
  {
   "cell_type": "markdown",
   "metadata": {},
   "source": [
    "После удаления фичей, уменьшающих скор"
   ]
  },
  {
   "cell_type": "code",
   "execution_count": null,
   "metadata": {},
   "outputs": [
    {
     "data": {
      "text/plain": [
       "{'aucroc': {24: 35},\n",
       " 'binary': {12: 234, 46: 34, 9: 33, 14: 25, 56: 3},\n",
       " 'blue': {25: 12},\n",
       " 'categorical': {14: 171},\n",
       " 'coefficient': {15: 24, 26: 16, 43: 9, 14: 7},\n",
       " 'collinear': {6: 77, 37: 55, 35: 42, 43: 35, 24: 18, 33: 17, 54: 6, 1: 2},\n",
       " 'distributed': {0: 66, 55: 25, 34: 14, 12: 12},\n",
       " 'epsilon': {49: 138, 1: 113, 24: 31, 26: 14, 39: 7},\n",
       " 'f1': {6: 633},\n",
       " 'fit': {15: 78, 23: 47, 35: 24, 34: 14, 54: 8, 50: 7, 32: 3, 0: 2},\n",
       " 'gini': {15: 178, 34: 8},\n",
       " 'independent': {49: 110, 15: 60, 14: 35, 46: 14, 1: 9, 25: 6},\n",
       " 'lasso': {25: 12, 34: 10, 56: 9, 46: 2},\n",
       " 'linear': {17: 73, 0: 73, 3: 19, 19: 15, 33: 13, 37: 6},\n",
       " 'logistic': {56: 5},\n",
       " 'loss': {19: 157, 6: 95, 15: 83, 12: 39, 37: 33, 0: 18, 11: 9, 46: 7, 9: 6},\n",
       " 'matrix': {33: 30, 43: 26, 11: 23, 50: 21, 29: 13, 2: 8, 23: 7, 19: 4},\n",
       " 'minimization': {0: 59, 43: 32, 25: 4},\n",
       " 'mse': {43: 52, 23: 26, 34: 7, 56: 4},\n",
       " 'ols': {11: 99, 35: 16, 54: 16, 34: 8},\n",
       " 'precision': {46: 38},\n",
       " 'predict': {15: 51,\n",
       "  0: 44,\n",
       "  39: 29,\n",
       "  37: 21,\n",
       "  29: 17,\n",
       "  12: 14,\n",
       "  6: 8,\n",
       "  23: 7,\n",
       "  11: 1},\n",
       " 'pvalue': {32: 85, 50: 61, 29: 30, 11: 5},\n",
       " 'r2': {54: 143, 14: 23, 1: 4},\n",
       " 'recall': {3: 150, 0: 18, 15: 7, 39: 2},\n",
       " 'regression': {25: 14, 54: 14, 33: 13, 34: 1},\n",
       " 'residual': {29: 74, 33: 59, 11: 42, 19: 28, 50: 14, 0: 7},\n",
       " 'ridge': {0: 40, 1: 38, 3: 27, 39: 25, 29: 11},\n",
       " 'sigmoid': {55: 247, 49: 114, 26: 29},\n",
       " 'significant': {33: 161, 17: 37, 34: 33, 39: 15, 54: 14, 1: 8},\n",
       " 'target': {46: 82, 25: 12, 23: 9, 43: 8},\n",
       " 'tstat': {9: 139},\n",
       " 'x': {6: 158, 12: 73, 37: 31, 19: 15},\n",
       " 'y': {50: 25, 12: 13, 24: 2}}"
      ]
     },
     "execution_count": 120,
     "metadata": {},
     "output_type": "execute_result"
    }
   ],
   "source": [
    "result_dct_sf = make_prediction_dict(df_test, selected_features, models_selected_features)\n",
    "result_dct_sf"
   ]
  },
  {
   "cell_type": "code",
   "execution_count": null,
   "metadata": {},
   "outputs": [
    {
     "data": {
      "text/html": [
       "<div>\n",
       "<style scoped>\n",
       "    .dataframe tbody tr th:only-of-type {\n",
       "        vertical-align: middle;\n",
       "    }\n",
       "\n",
       "    .dataframe tbody tr th {\n",
       "        vertical-align: top;\n",
       "    }\n",
       "\n",
       "    .dataframe thead th {\n",
       "        text-align: right;\n",
       "    }\n",
       "</style>\n",
       "<table border=\"1\" class=\"dataframe\">\n",
       "  <thead>\n",
       "    <tr style=\"text-align: right;\">\n",
       "      <th></th>\n",
       "      <th>user_word</th>\n",
       "      <th>preds</th>\n",
       "    </tr>\n",
       "  </thead>\n",
       "  <tbody>\n",
       "    <tr>\n",
       "      <th>7</th>\n",
       "      <td>aucroc</td>\n",
       "      <td>24</td>\n",
       "    </tr>\n",
       "    <tr>\n",
       "      <th>9</th>\n",
       "      <td>binary</td>\n",
       "      <td>12</td>\n",
       "    </tr>\n",
       "    <tr>\n",
       "      <th>13</th>\n",
       "      <td>blue</td>\n",
       "      <td>25</td>\n",
       "    </tr>\n",
       "    <tr>\n",
       "      <th>1</th>\n",
       "      <td>categorical</td>\n",
       "      <td>14</td>\n",
       "    </tr>\n",
       "    <tr>\n",
       "      <th>26</th>\n",
       "      <td>coefficient</td>\n",
       "      <td>26</td>\n",
       "    </tr>\n",
       "    <tr>\n",
       "      <th>25</th>\n",
       "      <td>collinear</td>\n",
       "      <td>35</td>\n",
       "    </tr>\n",
       "    <tr>\n",
       "      <th>30</th>\n",
       "      <td>distributed</td>\n",
       "      <td>-999</td>\n",
       "    </tr>\n",
       "    <tr>\n",
       "      <th>18</th>\n",
       "      <td>epsilon</td>\n",
       "      <td>1</td>\n",
       "    </tr>\n",
       "    <tr>\n",
       "      <th>2</th>\n",
       "      <td>f1</td>\n",
       "      <td>6</td>\n",
       "    </tr>\n",
       "    <tr>\n",
       "      <th>24</th>\n",
       "      <td>fit</td>\n",
       "      <td>23</td>\n",
       "    </tr>\n",
       "    <tr>\n",
       "      <th>8</th>\n",
       "      <td>gini</td>\n",
       "      <td>15</td>\n",
       "    </tr>\n",
       "    <tr>\n",
       "      <th>23</th>\n",
       "      <td>independent</td>\n",
       "      <td>49</td>\n",
       "    </tr>\n",
       "    <tr>\n",
       "      <th>28</th>\n",
       "      <td>lasso</td>\n",
       "      <td>34</td>\n",
       "    </tr>\n",
       "    <tr>\n",
       "      <th>17</th>\n",
       "      <td>linear</td>\n",
       "      <td>17</td>\n",
       "    </tr>\n",
       "    <tr>\n",
       "      <th>11</th>\n",
       "      <td>logistic</td>\n",
       "      <td>56</td>\n",
       "    </tr>\n",
       "    <tr>\n",
       "      <th>15</th>\n",
       "      <td>loss</td>\n",
       "      <td>19</td>\n",
       "    </tr>\n",
       "    <tr>\n",
       "      <th>16</th>\n",
       "      <td>matrix</td>\n",
       "      <td>2</td>\n",
       "    </tr>\n",
       "    <tr>\n",
       "      <th>22</th>\n",
       "      <td>minimization</td>\n",
       "      <td>0</td>\n",
       "    </tr>\n",
       "    <tr>\n",
       "      <th>19</th>\n",
       "      <td>mse</td>\n",
       "      <td>43</td>\n",
       "    </tr>\n",
       "    <tr>\n",
       "      <th>10</th>\n",
       "      <td>ols</td>\n",
       "      <td>11</td>\n",
       "    </tr>\n",
       "    <tr>\n",
       "      <th>12</th>\n",
       "      <td>precision</td>\n",
       "      <td>46</td>\n",
       "    </tr>\n",
       "    <tr>\n",
       "      <th>27</th>\n",
       "      <td>predict</td>\n",
       "      <td>39</td>\n",
       "    </tr>\n",
       "    <tr>\n",
       "      <th>6</th>\n",
       "      <td>pvalue</td>\n",
       "      <td>32</td>\n",
       "    </tr>\n",
       "    <tr>\n",
       "      <th>4</th>\n",
       "      <td>r2</td>\n",
       "      <td>54</td>\n",
       "    </tr>\n",
       "    <tr>\n",
       "      <th>3</th>\n",
       "      <td>recall</td>\n",
       "      <td>3</td>\n",
       "    </tr>\n",
       "    <tr>\n",
       "      <th>31</th>\n",
       "      <td>regression</td>\n",
       "      <td>-999</td>\n",
       "    </tr>\n",
       "    <tr>\n",
       "      <th>20</th>\n",
       "      <td>residual</td>\n",
       "      <td>29</td>\n",
       "    </tr>\n",
       "    <tr>\n",
       "      <th>33</th>\n",
       "      <td>ridge</td>\n",
       "      <td>-999</td>\n",
       "    </tr>\n",
       "    <tr>\n",
       "      <th>5</th>\n",
       "      <td>sigmoid</td>\n",
       "      <td>55</td>\n",
       "    </tr>\n",
       "    <tr>\n",
       "      <th>14</th>\n",
       "      <td>significant</td>\n",
       "      <td>33</td>\n",
       "    </tr>\n",
       "    <tr>\n",
       "      <th>32</th>\n",
       "      <td>target</td>\n",
       "      <td>-999</td>\n",
       "    </tr>\n",
       "    <tr>\n",
       "      <th>0</th>\n",
       "      <td>tstat</td>\n",
       "      <td>9</td>\n",
       "    </tr>\n",
       "    <tr>\n",
       "      <th>29</th>\n",
       "      <td>x</td>\n",
       "      <td>37</td>\n",
       "    </tr>\n",
       "    <tr>\n",
       "      <th>21</th>\n",
       "      <td>y</td>\n",
       "      <td>50</td>\n",
       "    </tr>\n",
       "  </tbody>\n",
       "</table>\n",
       "</div>"
      ],
      "text/plain": [
       "       user_word  preds\n",
       "7         aucroc     24\n",
       "9         binary     12\n",
       "13          blue     25\n",
       "1    categorical     14\n",
       "26   coefficient     26\n",
       "25     collinear     35\n",
       "30   distributed   -999\n",
       "18       epsilon      1\n",
       "2             f1      6\n",
       "24           fit     23\n",
       "8           gini     15\n",
       "23   independent     49\n",
       "28         lasso     34\n",
       "17        linear     17\n",
       "11      logistic     56\n",
       "15          loss     19\n",
       "16        matrix      2\n",
       "22  minimization      0\n",
       "19           mse     43\n",
       "10           ols     11\n",
       "12     precision     46\n",
       "27       predict     39\n",
       "6         pvalue     32\n",
       "4             r2     54\n",
       "3         recall      3\n",
       "31    regression   -999\n",
       "20      residual     29\n",
       "33         ridge   -999\n",
       "5        sigmoid     55\n",
       "14   significant     33\n",
       "32        target   -999\n",
       "0          tstat      9\n",
       "29             x     37\n",
       "21             y     50"
      ]
     },
     "execution_count": 121,
     "metadata": {},
     "output_type": "execute_result"
    }
   ],
   "source": [
    "result_cb_sf = make_prediction(df_test, selected_features, models_selected_features)\n",
    "result_cb_sf"
   ]
  },
  {
   "cell_type": "code",
   "execution_count": null,
   "metadata": {},
   "outputs": [
    {
     "data": {
      "text/plain": [
       "34"
      ]
     },
     "execution_count": 122,
     "metadata": {},
     "output_type": "execute_result"
    }
   ],
   "source": [
    "len(result_cb_sf)"
   ]
  },
  {
   "cell_type": "markdown",
   "metadata": {},
   "source": [
    "После удаления фичей, уменьшающих скор, и повторного подбора гиперпараметров"
   ]
  },
  {
   "cell_type": "code",
   "execution_count": null,
   "metadata": {},
   "outputs": [],
   "source": []
  },
  {
   "cell_type": "code",
   "execution_count": null,
   "metadata": {},
   "outputs": [
    {
     "data": {
      "text/plain": [
       "{'aucroc': {24: 26, 41: 9},\n",
       " 'binary': {12: 219, 46: 49, 14: 25, 9: 20, 56: 16},\n",
       " 'blue': {56: 7, 25: 5},\n",
       " 'categorical': {14: 171},\n",
       " 'coefficient': {15: 23, 34: 16, 41: 9, 14: 7, 1: 1},\n",
       " 'collinear': {37: 54,\n",
       "  6: 53,\n",
       "  43: 35,\n",
       "  29: 30,\n",
       "  33: 29,\n",
       "  35: 24,\n",
       "  1: 17,\n",
       "  54: 7,\n",
       "  0: 3},\n",
       " 'distributed': {0: 89, 34: 14, 55: 14},\n",
       " 'epsilon': {49: 145, 1: 123, 26: 15, 24: 14, 39: 6},\n",
       " 'f1': {6: 633},\n",
       " 'fit': {15: 66, 23: 46, 35: 24, 34: 16, 3: 12, 24: 8, 11: 6, 50: 5},\n",
       " 'gini': {15: 170, 49: 8, 0: 8},\n",
       " 'independent': {49: 67, 15: 60, 1: 52, 14: 35, 26: 14, 43: 6},\n",
       " 'lasso': {25: 14, 34: 10, 56: 9},\n",
       " 'linear': {0: 86, 3: 51, 17: 45, 19: 9, 33: 8},\n",
       " 'logistic': {56: 5},\n",
       " 'loss': {19: 392, 12: 55},\n",
       " 'matrix': {2: 31, 50: 27, 43: 24, 33: 22, 29: 21, 23: 7},\n",
       " 'minimization': {0: 40, 50: 28, 43: 22, 25: 5},\n",
       " 'mse': {43: 52, 23: 26, 34: 7, 56: 4},\n",
       " 'ols': {11: 99, 54: 26, 34: 8, 35: 6},\n",
       " 'precision': {46: 38},\n",
       " 'predict': {55: 42, 39: 40, 15: 26, 0: 24, 23: 21, 46: 20, 29: 18, 6: 1},\n",
       " 'pvalue': {50: 91, 32: 76, 11: 14},\n",
       " 'r2': {54: 143, 23: 15, 14: 8, 29: 4},\n",
       " 'recall': {3: 147, 39: 20, 15: 7, 1: 3},\n",
       " 'regression': {25: 14, 35: 14, 54: 7, 23: 7},\n",
       " 'residual': {33: 59, 50: 49, 11: 47, 0: 41, 29: 20, 15: 7, 19: 1},\n",
       " 'ridge': {3: 39, 0: 39, 39: 25, 1: 20, 29: 11, 11: 7},\n",
       " 'sigmoid': {55: 247, 49: 114, 26: 29},\n",
       " 'significant': {39: 102, 33: 60, 17: 59, 34: 33, 54: 14},\n",
       " 'target': {46: 52, 41: 23, 25: 21, 23: 15},\n",
       " 'tstat': {9: 91, 49: 35, 2: 13},\n",
       " 'x': {6: 214, 12: 61, 11: 2},\n",
       " 'y': {50: 38, 25: 2}}"
      ]
     },
     "execution_count": 133,
     "metadata": {},
     "output_type": "execute_result"
    }
   ],
   "source": [
    "result_dct_sf_new_fit = make_prediction_dict(df_test, selected_features, models_sf_new_fit)\n",
    "result_dct_sf_new_fit"
   ]
  },
  {
   "cell_type": "code",
   "execution_count": null,
   "metadata": {},
   "outputs": [
    {
     "data": {
      "text/html": [
       "<div>\n",
       "<style scoped>\n",
       "    .dataframe tbody tr th:only-of-type {\n",
       "        vertical-align: middle;\n",
       "    }\n",
       "\n",
       "    .dataframe tbody tr th {\n",
       "        vertical-align: top;\n",
       "    }\n",
       "\n",
       "    .dataframe thead th {\n",
       "        text-align: right;\n",
       "    }\n",
       "</style>\n",
       "<table border=\"1\" class=\"dataframe\">\n",
       "  <thead>\n",
       "    <tr style=\"text-align: right;\">\n",
       "      <th></th>\n",
       "      <th>user_word</th>\n",
       "      <th>preds</th>\n",
       "    </tr>\n",
       "  </thead>\n",
       "  <tbody>\n",
       "    <tr>\n",
       "      <th>10</th>\n",
       "      <td>aucroc</td>\n",
       "      <td>24</td>\n",
       "    </tr>\n",
       "    <tr>\n",
       "      <th>9</th>\n",
       "      <td>binary</td>\n",
       "      <td>12</td>\n",
       "    </tr>\n",
       "    <tr>\n",
       "      <th>33</th>\n",
       "      <td>blue</td>\n",
       "      <td>-999</td>\n",
       "    </tr>\n",
       "    <tr>\n",
       "      <th>2</th>\n",
       "      <td>categorical</td>\n",
       "      <td>14</td>\n",
       "    </tr>\n",
       "    <tr>\n",
       "      <th>28</th>\n",
       "      <td>coefficient</td>\n",
       "      <td>34</td>\n",
       "    </tr>\n",
       "    <tr>\n",
       "      <th>13</th>\n",
       "      <td>collinear</td>\n",
       "      <td>37</td>\n",
       "    </tr>\n",
       "    <tr>\n",
       "      <th>16</th>\n",
       "      <td>distributed</td>\n",
       "      <td>0</td>\n",
       "    </tr>\n",
       "    <tr>\n",
       "      <th>17</th>\n",
       "      <td>epsilon</td>\n",
       "      <td>1</td>\n",
       "    </tr>\n",
       "    <tr>\n",
       "      <th>1</th>\n",
       "      <td>f1</td>\n",
       "      <td>6</td>\n",
       "    </tr>\n",
       "    <tr>\n",
       "      <th>25</th>\n",
       "      <td>fit</td>\n",
       "      <td>23</td>\n",
       "    </tr>\n",
       "    <tr>\n",
       "      <th>8</th>\n",
       "      <td>gini</td>\n",
       "      <td>15</td>\n",
       "    </tr>\n",
       "    <tr>\n",
       "      <th>27</th>\n",
       "      <td>independent</td>\n",
       "      <td>49</td>\n",
       "    </tr>\n",
       "    <tr>\n",
       "      <th>23</th>\n",
       "      <td>lasso</td>\n",
       "      <td>25</td>\n",
       "    </tr>\n",
       "    <tr>\n",
       "      <th>22</th>\n",
       "      <td>linear</td>\n",
       "      <td>17</td>\n",
       "    </tr>\n",
       "    <tr>\n",
       "      <th>14</th>\n",
       "      <td>logistic</td>\n",
       "      <td>56</td>\n",
       "    </tr>\n",
       "    <tr>\n",
       "      <th>0</th>\n",
       "      <td>loss</td>\n",
       "      <td>19</td>\n",
       "    </tr>\n",
       "    <tr>\n",
       "      <th>19</th>\n",
       "      <td>matrix</td>\n",
       "      <td>2</td>\n",
       "    </tr>\n",
       "    <tr>\n",
       "      <th>31</th>\n",
       "      <td>minimization</td>\n",
       "      <td>-999</td>\n",
       "    </tr>\n",
       "    <tr>\n",
       "      <th>18</th>\n",
       "      <td>mse</td>\n",
       "      <td>43</td>\n",
       "    </tr>\n",
       "    <tr>\n",
       "      <th>11</th>\n",
       "      <td>ols</td>\n",
       "      <td>11</td>\n",
       "    </tr>\n",
       "    <tr>\n",
       "      <th>12</th>\n",
       "      <td>precision</td>\n",
       "      <td>46</td>\n",
       "    </tr>\n",
       "    <tr>\n",
       "      <th>29</th>\n",
       "      <td>predict</td>\n",
       "      <td>29</td>\n",
       "    </tr>\n",
       "    <tr>\n",
       "      <th>7</th>\n",
       "      <td>pvalue</td>\n",
       "      <td>32</td>\n",
       "    </tr>\n",
       "    <tr>\n",
       "      <th>3</th>\n",
       "      <td>r2</td>\n",
       "      <td>54</td>\n",
       "    </tr>\n",
       "    <tr>\n",
       "      <th>6</th>\n",
       "      <td>recall</td>\n",
       "      <td>3</td>\n",
       "    </tr>\n",
       "    <tr>\n",
       "      <th>26</th>\n",
       "      <td>regression</td>\n",
       "      <td>35</td>\n",
       "    </tr>\n",
       "    <tr>\n",
       "      <th>24</th>\n",
       "      <td>residual</td>\n",
       "      <td>33</td>\n",
       "    </tr>\n",
       "    <tr>\n",
       "      <th>32</th>\n",
       "      <td>ridge</td>\n",
       "      <td>-999</td>\n",
       "    </tr>\n",
       "    <tr>\n",
       "      <th>5</th>\n",
       "      <td>sigmoid</td>\n",
       "      <td>55</td>\n",
       "    </tr>\n",
       "    <tr>\n",
       "      <th>20</th>\n",
       "      <td>significant</td>\n",
       "      <td>39</td>\n",
       "    </tr>\n",
       "    <tr>\n",
       "      <th>21</th>\n",
       "      <td>target</td>\n",
       "      <td>41</td>\n",
       "    </tr>\n",
       "    <tr>\n",
       "      <th>4</th>\n",
       "      <td>tstat</td>\n",
       "      <td>9</td>\n",
       "    </tr>\n",
       "    <tr>\n",
       "      <th>30</th>\n",
       "      <td>x</td>\n",
       "      <td>-999</td>\n",
       "    </tr>\n",
       "    <tr>\n",
       "      <th>15</th>\n",
       "      <td>y</td>\n",
       "      <td>50</td>\n",
       "    </tr>\n",
       "  </tbody>\n",
       "</table>\n",
       "</div>"
      ],
      "text/plain": [
       "       user_word  preds\n",
       "10        aucroc     24\n",
       "9         binary     12\n",
       "33          blue   -999\n",
       "2    categorical     14\n",
       "28   coefficient     34\n",
       "13     collinear     37\n",
       "16   distributed      0\n",
       "17       epsilon      1\n",
       "1             f1      6\n",
       "25           fit     23\n",
       "8           gini     15\n",
       "27   independent     49\n",
       "23         lasso     25\n",
       "22        linear     17\n",
       "14      logistic     56\n",
       "0           loss     19\n",
       "19        matrix      2\n",
       "31  minimization   -999\n",
       "18           mse     43\n",
       "11           ols     11\n",
       "12     precision     46\n",
       "29       predict     29\n",
       "7         pvalue     32\n",
       "3             r2     54\n",
       "6         recall      3\n",
       "26    regression     35\n",
       "24      residual     33\n",
       "32         ridge   -999\n",
       "5        sigmoid     55\n",
       "20   significant     39\n",
       "21        target     41\n",
       "4          tstat      9\n",
       "30             x   -999\n",
       "15             y     50"
      ]
     },
     "execution_count": 134,
     "metadata": {},
     "output_type": "execute_result"
    }
   ],
   "source": [
    "result_cb_sf_new_fit = make_prediction(df_test, selected_features, models_sf_new_fit)\n",
    "result_cb_sf_new_fit"
   ]
  },
  {
   "cell_type": "code",
   "execution_count": null,
   "metadata": {},
   "outputs": [
    {
     "data": {
      "text/plain": [
       "34"
      ]
     },
     "execution_count": 296,
     "metadata": {},
     "output_type": "execute_result"
    }
   ],
   "source": [
    "len(result_cb_sf_new_fit)"
   ]
  },
  {
   "cell_type": "markdown",
   "metadata": {},
   "source": [
    "Сохраненим результаты"
   ]
  },
  {
   "cell_type": "code",
   "execution_count": null,
   "metadata": {},
   "outputs": [],
   "source": [
    "csv_buffer = io.StringIO()\n",
    "\n",
    "# result_cb.to_csv(csv_buffer, index=False)\n",
    "\n",
    "# result_cb_sf.to_csv(csv_buffer, index=False)\n",
    "\n",
    "# result_cb_sf_new_fit.to_csv(csv_buffer, index=False)\n",
    "\n",
    "with zipfile.ZipFile('../data/answer.zip', mode='w', compression=zipfile.ZIP_DEFLATED) as zf:\n",
    "    zf.writestr('answer.csv', csv_buffer.getvalue())"
   ]
  },
  {
   "cell_type": "code",
   "execution_count": 99,
   "metadata": {},
   "outputs": [],
   "source": [
    "result_cb.to_csv('../data/submit_cb_v_07_all.csv', index=False)\n",
    "\n",
    "# result_cb_sf.to_csv('../data/submit_cb_v_07_sf.csv', index=False)\n",
    "\n",
    "# result_cb_sf_new_fit.to_csv('../data/submit_cb_v_05_sf_new_fit.csv', index=False)"
   ]
  },
  {
   "cell_type": "markdown",
   "metadata": {},
   "source": [
    "# Сравнение ответов"
   ]
  },
  {
   "cell_type": "code",
   "execution_count": 100,
   "metadata": {},
   "outputs": [],
   "source": [
    "right_answers = pd.read_csv(r'E:\\projects\\SHIFT\\предыдущие_наработки\\right_answers.csv')\n",
    "res_ivan = pd.read_csv(r'E:\\projects\\SHIFT\\От_Ивана\\ШИФТ тест\\Решения\\1) 04_02_2024\\answer_ivan.csv')\n",
    "res_vera = pd.read_csv(r'E:\\projects\\SHIFT\\От_Ивана\\ШИФТ тест\\Решения\\4) Ivanova_Vera_SaintPetersburg 358\\shift_ml-main\\answer_vera.csv')\n",
    "res_cb_01 = pd.read_csv('../data/submit_cb_v_01_264.csv')\n",
    "res_cb_02 = pd.read_csv('../data/submit_cb_v_02.csv')\n",
    "res_cb_03 = pd.read_csv('../data/submit_cb_v_03_270.csv')\n",
    "res_cb_04 = pd.read_csv('../data/submit_cb_v_04.csv')\n",
    "res_cb_05_all = pd.read_csv('../data/submit_cb_v_05_all_353.csv')\n",
    "res_cb_05_sf = pd.read_csv('../data/submit_cb_v_05_sf.csv')\n",
    "res_cb_05_sf_new_fit = pd.read_csv('../data/submit_cb_v_05_sf_new_fit_374.csv')\n",
    "\n",
    "res_cb_07_all = pd.read_csv('../data/submit_cb_v_07_all.csv')\n",
    "# res_cb_07_sf = pd.read_csv('../data/submit_cb_v_07_sf.csv')"
   ]
  },
  {
   "cell_type": "code",
   "execution_count": 101,
   "metadata": {},
   "outputs": [],
   "source": [
    "res = right_answers.loc[:].rename(columns={'preds': 'right_answers'})\n",
    "res['right_answers'] = res['right_answers'].apply(lambda x: f'{x:.0f}')\n",
    "res['ivan'] = res_ivan['preds']\n",
    "res['vera'] = res_vera['preds']\n",
    "res['cb_v_01_264'] = res_cb_01['preds']\n",
    "res['cb_v_02'] = res_cb_02['preds']\n",
    "res['cb_v_03_270'] = res_cb_03['preds']\n",
    "res['cb_v_04'] = res_cb_04['preds']\n",
    "res['cb_v_05_all_353'] = res_cb_05_all['preds']\n",
    "res['cb_v_05_sf'] = res_cb_05_sf['preds']\n",
    "res['cb_v_05_sf_new_fit_374'] = res_cb_05_sf_new_fit['preds']\n",
    "\n",
    "res['cb_v_07_all'] = res_cb_07_all['preds']\n",
    "# res['cb_v_07_sf'] = res_cb_07_sf['preds']"
   ]
  },
  {
   "cell_type": "code",
   "execution_count": 102,
   "metadata": {},
   "outputs": [
    {
     "data": {
      "text/html": [
       "<style type=\"text/css\">\n",
       "#T_97643_row0_col1, #T_97643_row1_col1, #T_97643_row3_col1, #T_97643_row6_col1, #T_97643_row7_col1, #T_97643_row8_col1, #T_97643_row10_col1, #T_97643_row13_col1, #T_97643_row15_col1, #T_97643_row16_col1, #T_97643_row18_col1, #T_97643_row19_col1, #T_97643_row21_col1, #T_97643_row22_col1, #T_97643_row23_col1, #T_97643_row24_col1, #T_97643_row27_col1, #T_97643_row28_col1, #T_97643_row29_col1, #T_97643_row30_col1, #T_97643_row31_col1, #T_97643_row32_col1, #T_97643_row33_col1 {\n",
       "  background-color: red;\n",
       "}\n",
       "#T_97643_row0_col2, #T_97643_row0_col4, #T_97643_row0_col6, #T_97643_row0_col7, #T_97643_row0_col8, #T_97643_row0_col9, #T_97643_row0_col10, #T_97643_row0_col11, #T_97643_row1_col2, #T_97643_row1_col4, #T_97643_row1_col5, #T_97643_row1_col6, #T_97643_row1_col8, #T_97643_row1_col9, #T_97643_row1_col10, #T_97643_row1_col11, #T_97643_row2_col8, #T_97643_row2_col9, #T_97643_row2_col10, #T_97643_row2_col11, #T_97643_row3_col2, #T_97643_row3_col4, #T_97643_row3_col5, #T_97643_row3_col6, #T_97643_row3_col7, #T_97643_row3_col8, #T_97643_row3_col9, #T_97643_row3_col10, #T_97643_row3_col11, #T_97643_row6_col2, #T_97643_row6_col4, #T_97643_row6_col6, #T_97643_row6_col7, #T_97643_row6_col8, #T_97643_row6_col9, #T_97643_row6_col10, #T_97643_row7_col2, #T_97643_row7_col4, #T_97643_row7_col5, #T_97643_row7_col6, #T_97643_row7_col8, #T_97643_row7_col9, #T_97643_row7_col10, #T_97643_row10_col2, #T_97643_row10_col4, #T_97643_row10_col5, #T_97643_row10_col6, #T_97643_row10_col7, #T_97643_row10_col8, #T_97643_row10_col9, #T_97643_row10_col10, #T_97643_row10_col11, #T_97643_row11_col2, #T_97643_row11_col4, #T_97643_row11_col6, #T_97643_row12_col5, #T_97643_row12_col11, #T_97643_row13_col2, #T_97643_row13_col4, #T_97643_row13_col5, #T_97643_row13_col6, #T_97643_row13_col7, #T_97643_row13_col8, #T_97643_row13_col9, #T_97643_row13_col10, #T_97643_row13_col11, #T_97643_row15_col2, #T_97643_row15_col4, #T_97643_row15_col5, #T_97643_row15_col6, #T_97643_row15_col8, #T_97643_row15_col9, #T_97643_row15_col10, #T_97643_row15_col11, #T_97643_row16_col2, #T_97643_row18_col2, #T_97643_row18_col4, #T_97643_row18_col5, #T_97643_row18_col6, #T_97643_row18_col7, #T_97643_row18_col8, #T_97643_row18_col9, #T_97643_row18_col10, #T_97643_row18_col11, #T_97643_row19_col2, #T_97643_row19_col4, #T_97643_row19_col5, #T_97643_row19_col6, #T_97643_row19_col7, #T_97643_row19_col8, #T_97643_row19_col9, #T_97643_row19_col10, #T_97643_row19_col11, #T_97643_row21_col2, #T_97643_row21_col4, #T_97643_row21_col5, #T_97643_row21_col6, #T_97643_row21_col7, #T_97643_row21_col10, #T_97643_row21_col11, #T_97643_row22_col2, #T_97643_row22_col4, #T_97643_row22_col8, #T_97643_row22_col9, #T_97643_row22_col10, #T_97643_row22_col11, #T_97643_row23_col2, #T_97643_row23_col4, #T_97643_row23_col5, #T_97643_row23_col6, #T_97643_row23_col7, #T_97643_row23_col8, #T_97643_row23_col9, #T_97643_row23_col10, #T_97643_row23_col11, #T_97643_row24_col2, #T_97643_row24_col4, #T_97643_row24_col5, #T_97643_row24_col6, #T_97643_row24_col7, #T_97643_row24_col8, #T_97643_row24_col9, #T_97643_row24_col10, #T_97643_row24_col11, #T_97643_row25_col2, #T_97643_row25_col8, #T_97643_row25_col9, #T_97643_row25_col10, #T_97643_row25_col11, #T_97643_row27_col2, #T_97643_row27_col4, #T_97643_row27_col6, #T_97643_row27_col7, #T_97643_row27_col8, #T_97643_row27_col9, #T_97643_row27_col10, #T_97643_row27_col11, #T_97643_row28_col2, #T_97643_row28_col5, #T_97643_row28_col6, #T_97643_row28_col7, #T_97643_row28_col8, #T_97643_row28_col9, #T_97643_row28_col10, #T_97643_row28_col11, #T_97643_row29_col2, #T_97643_row29_col4, #T_97643_row29_col5, #T_97643_row29_col6, #T_97643_row29_col7, #T_97643_row29_col10, #T_97643_row29_col11, #T_97643_row30_col2, #T_97643_row30_col4, #T_97643_row30_col5, #T_97643_row30_col6, #T_97643_row30_col8, #T_97643_row30_col9, #T_97643_row30_col10, #T_97643_row31_col2, #T_97643_row31_col4, #T_97643_row31_col6, #T_97643_row31_col8, #T_97643_row31_col9, #T_97643_row31_col10, #T_97643_row31_col11, #T_97643_row32_col2, #T_97643_row32_col8, #T_97643_row32_col9, #T_97643_row32_col10, #T_97643_row33_col2, #T_97643_row33_col4, #T_97643_row33_col6, #T_97643_row33_col8, #T_97643_row33_col9, #T_97643_row33_col10 {\n",
       "  background-color: green;\n",
       "}\n",
       "</style>\n",
       "<table id=\"T_97643\">\n",
       "  <thead>\n",
       "    <tr>\n",
       "      <th class=\"blank level0\" >&nbsp;</th>\n",
       "      <th id=\"T_97643_level0_col0\" class=\"col_heading level0 col0\" >user_word</th>\n",
       "      <th id=\"T_97643_level0_col1\" class=\"col_heading level0 col1\" >right_answers</th>\n",
       "      <th id=\"T_97643_level0_col2\" class=\"col_heading level0 col2\" >ivan</th>\n",
       "      <th id=\"T_97643_level0_col3\" class=\"col_heading level0 col3\" >vera</th>\n",
       "      <th id=\"T_97643_level0_col4\" class=\"col_heading level0 col4\" >cb_v_01_264</th>\n",
       "      <th id=\"T_97643_level0_col5\" class=\"col_heading level0 col5\" >cb_v_02</th>\n",
       "      <th id=\"T_97643_level0_col6\" class=\"col_heading level0 col6\" >cb_v_03_270</th>\n",
       "      <th id=\"T_97643_level0_col7\" class=\"col_heading level0 col7\" >cb_v_04</th>\n",
       "      <th id=\"T_97643_level0_col8\" class=\"col_heading level0 col8\" >cb_v_05_all_353</th>\n",
       "      <th id=\"T_97643_level0_col9\" class=\"col_heading level0 col9\" >cb_v_05_sf</th>\n",
       "      <th id=\"T_97643_level0_col10\" class=\"col_heading level0 col10\" >cb_v_05_sf_new_fit_374</th>\n",
       "      <th id=\"T_97643_level0_col11\" class=\"col_heading level0 col11\" >cb_v_07_all</th>\n",
       "    </tr>\n",
       "  </thead>\n",
       "  <tbody>\n",
       "    <tr>\n",
       "      <th id=\"T_97643_level0_row0\" class=\"row_heading level0 row0\" >0</th>\n",
       "      <td id=\"T_97643_row0_col0\" class=\"data row0 col0\" >aucroc</td>\n",
       "      <td id=\"T_97643_row0_col1\" class=\"data row0 col1\" >24</td>\n",
       "      <td id=\"T_97643_row0_col2\" class=\"data row0 col2\" >24</td>\n",
       "      <td id=\"T_97643_row0_col3\" class=\"data row0 col3\" >24</td>\n",
       "      <td id=\"T_97643_row0_col4\" class=\"data row0 col4\" >24</td>\n",
       "      <td id=\"T_97643_row0_col5\" class=\"data row0 col5\" >49</td>\n",
       "      <td id=\"T_97643_row0_col6\" class=\"data row0 col6\" >24</td>\n",
       "      <td id=\"T_97643_row0_col7\" class=\"data row0 col7\" >24</td>\n",
       "      <td id=\"T_97643_row0_col8\" class=\"data row0 col8\" >24</td>\n",
       "      <td id=\"T_97643_row0_col9\" class=\"data row0 col9\" >24</td>\n",
       "      <td id=\"T_97643_row0_col10\" class=\"data row0 col10\" >24</td>\n",
       "      <td id=\"T_97643_row0_col11\" class=\"data row0 col11\" >24</td>\n",
       "    </tr>\n",
       "    <tr>\n",
       "      <th id=\"T_97643_level0_row1\" class=\"row_heading level0 row1\" >1</th>\n",
       "      <td id=\"T_97643_row1_col0\" class=\"data row1 col0\" >binary</td>\n",
       "      <td id=\"T_97643_row1_col1\" class=\"data row1 col1\" >12</td>\n",
       "      <td id=\"T_97643_row1_col2\" class=\"data row1 col2\" >12</td>\n",
       "      <td id=\"T_97643_row1_col3\" class=\"data row1 col3\" >12</td>\n",
       "      <td id=\"T_97643_row1_col4\" class=\"data row1 col4\" >12</td>\n",
       "      <td id=\"T_97643_row1_col5\" class=\"data row1 col5\" >12</td>\n",
       "      <td id=\"T_97643_row1_col6\" class=\"data row1 col6\" >12</td>\n",
       "      <td id=\"T_97643_row1_col7\" class=\"data row1 col7\" >-999</td>\n",
       "      <td id=\"T_97643_row1_col8\" class=\"data row1 col8\" >12</td>\n",
       "      <td id=\"T_97643_row1_col9\" class=\"data row1 col9\" >12</td>\n",
       "      <td id=\"T_97643_row1_col10\" class=\"data row1 col10\" >12</td>\n",
       "      <td id=\"T_97643_row1_col11\" class=\"data row1 col11\" >12</td>\n",
       "    </tr>\n",
       "    <tr>\n",
       "      <th id=\"T_97643_level0_row2\" class=\"row_heading level0 row2\" >2</th>\n",
       "      <td id=\"T_97643_row2_col0\" class=\"data row2 col0\" >blue</td>\n",
       "      <td id=\"T_97643_row2_col1\" class=\"data row2 col1\" >nan</td>\n",
       "      <td id=\"T_97643_row2_col2\" class=\"data row2 col2\" >-999</td>\n",
       "      <td id=\"T_97643_row2_col3\" class=\"data row2 col3\" >56</td>\n",
       "      <td id=\"T_97643_row2_col4\" class=\"data row2 col4\" >-999</td>\n",
       "      <td id=\"T_97643_row2_col5\" class=\"data row2 col5\" >-999</td>\n",
       "      <td id=\"T_97643_row2_col6\" class=\"data row2 col6\" >-999</td>\n",
       "      <td id=\"T_97643_row2_col7\" class=\"data row2 col7\" >-999</td>\n",
       "      <td id=\"T_97643_row2_col8\" class=\"data row2 col8\" >56</td>\n",
       "      <td id=\"T_97643_row2_col9\" class=\"data row2 col9\" >56</td>\n",
       "      <td id=\"T_97643_row2_col10\" class=\"data row2 col10\" >56</td>\n",
       "      <td id=\"T_97643_row2_col11\" class=\"data row2 col11\" >56</td>\n",
       "    </tr>\n",
       "    <tr>\n",
       "      <th id=\"T_97643_level0_row3\" class=\"row_heading level0 row3\" >3</th>\n",
       "      <td id=\"T_97643_row3_col0\" class=\"data row3 col0\" >categorical</td>\n",
       "      <td id=\"T_97643_row3_col1\" class=\"data row3 col1\" >14</td>\n",
       "      <td id=\"T_97643_row3_col2\" class=\"data row3 col2\" >14</td>\n",
       "      <td id=\"T_97643_row3_col3\" class=\"data row3 col3\" >14</td>\n",
       "      <td id=\"T_97643_row3_col4\" class=\"data row3 col4\" >14</td>\n",
       "      <td id=\"T_97643_row3_col5\" class=\"data row3 col5\" >14</td>\n",
       "      <td id=\"T_97643_row3_col6\" class=\"data row3 col6\" >14</td>\n",
       "      <td id=\"T_97643_row3_col7\" class=\"data row3 col7\" >14</td>\n",
       "      <td id=\"T_97643_row3_col8\" class=\"data row3 col8\" >14</td>\n",
       "      <td id=\"T_97643_row3_col9\" class=\"data row3 col9\" >14</td>\n",
       "      <td id=\"T_97643_row3_col10\" class=\"data row3 col10\" >14</td>\n",
       "      <td id=\"T_97643_row3_col11\" class=\"data row3 col11\" >14</td>\n",
       "    </tr>\n",
       "    <tr>\n",
       "      <th id=\"T_97643_level0_row4\" class=\"row_heading level0 row4\" >4</th>\n",
       "      <td id=\"T_97643_row4_col0\" class=\"data row4 col0\" >coefficient</td>\n",
       "      <td id=\"T_97643_row4_col1\" class=\"data row4 col1\" >nan</td>\n",
       "      <td id=\"T_97643_row4_col2\" class=\"data row4 col2\" >-999</td>\n",
       "      <td id=\"T_97643_row4_col3\" class=\"data row4 col3\" >27</td>\n",
       "      <td id=\"T_97643_row4_col4\" class=\"data row4 col4\" >22</td>\n",
       "      <td id=\"T_97643_row4_col5\" class=\"data row4 col5\" >22</td>\n",
       "      <td id=\"T_97643_row4_col6\" class=\"data row4 col6\" >22</td>\n",
       "      <td id=\"T_97643_row4_col7\" class=\"data row4 col7\" >26</td>\n",
       "      <td id=\"T_97643_row4_col8\" class=\"data row4 col8\" >22</td>\n",
       "      <td id=\"T_97643_row4_col9\" class=\"data row4 col9\" >22</td>\n",
       "      <td id=\"T_97643_row4_col10\" class=\"data row4 col10\" >-999</td>\n",
       "      <td id=\"T_97643_row4_col11\" class=\"data row4 col11\" >-999</td>\n",
       "    </tr>\n",
       "    <tr>\n",
       "      <th id=\"T_97643_level0_row5\" class=\"row_heading level0 row5\" >5</th>\n",
       "      <td id=\"T_97643_row5_col0\" class=\"data row5 col0\" >collinear</td>\n",
       "      <td id=\"T_97643_row5_col1\" class=\"data row5 col1\" >nan</td>\n",
       "      <td id=\"T_97643_row5_col2\" class=\"data row5 col2\" >-999</td>\n",
       "      <td id=\"T_97643_row5_col3\" class=\"data row5 col3\" >23</td>\n",
       "      <td id=\"T_97643_row5_col4\" class=\"data row5 col4\" >-999</td>\n",
       "      <td id=\"T_97643_row5_col5\" class=\"data row5 col5\" >-999</td>\n",
       "      <td id=\"T_97643_row5_col6\" class=\"data row5 col6\" >47</td>\n",
       "      <td id=\"T_97643_row5_col7\" class=\"data row5 col7\" >-999</td>\n",
       "      <td id=\"T_97643_row5_col8\" class=\"data row5 col8\" >33</td>\n",
       "      <td id=\"T_97643_row5_col9\" class=\"data row5 col9\" >33</td>\n",
       "      <td id=\"T_97643_row5_col10\" class=\"data row5 col10\" >22</td>\n",
       "      <td id=\"T_97643_row5_col11\" class=\"data row5 col11\" >37</td>\n",
       "    </tr>\n",
       "    <tr>\n",
       "      <th id=\"T_97643_level0_row6\" class=\"row_heading level0 row6\" >6</th>\n",
       "      <td id=\"T_97643_row6_col0\" class=\"data row6 col0\" >distributed</td>\n",
       "      <td id=\"T_97643_row6_col1\" class=\"data row6 col1\" >0</td>\n",
       "      <td id=\"T_97643_row6_col2\" class=\"data row6 col2\" >0</td>\n",
       "      <td id=\"T_97643_row6_col3\" class=\"data row6 col3\" >0</td>\n",
       "      <td id=\"T_97643_row6_col4\" class=\"data row6 col4\" >0</td>\n",
       "      <td id=\"T_97643_row6_col5\" class=\"data row6 col5\" >35</td>\n",
       "      <td id=\"T_97643_row6_col6\" class=\"data row6 col6\" >0</td>\n",
       "      <td id=\"T_97643_row6_col7\" class=\"data row6 col7\" >0</td>\n",
       "      <td id=\"T_97643_row6_col8\" class=\"data row6 col8\" >0</td>\n",
       "      <td id=\"T_97643_row6_col9\" class=\"data row6 col9\" >0</td>\n",
       "      <td id=\"T_97643_row6_col10\" class=\"data row6 col10\" >0</td>\n",
       "      <td id=\"T_97643_row6_col11\" class=\"data row6 col11\" >34</td>\n",
       "    </tr>\n",
       "    <tr>\n",
       "      <th id=\"T_97643_level0_row7\" class=\"row_heading level0 row7\" >7</th>\n",
       "      <td id=\"T_97643_row7_col0\" class=\"data row7 col0\" >epsilon</td>\n",
       "      <td id=\"T_97643_row7_col1\" class=\"data row7 col1\" >1</td>\n",
       "      <td id=\"T_97643_row7_col2\" class=\"data row7 col2\" >1</td>\n",
       "      <td id=\"T_97643_row7_col3\" class=\"data row7 col3\" >1</td>\n",
       "      <td id=\"T_97643_row7_col4\" class=\"data row7 col4\" >1</td>\n",
       "      <td id=\"T_97643_row7_col5\" class=\"data row7 col5\" >1</td>\n",
       "      <td id=\"T_97643_row7_col6\" class=\"data row7 col6\" >1</td>\n",
       "      <td id=\"T_97643_row7_col7\" class=\"data row7 col7\" >49</td>\n",
       "      <td id=\"T_97643_row7_col8\" class=\"data row7 col8\" >1</td>\n",
       "      <td id=\"T_97643_row7_col9\" class=\"data row7 col9\" >1</td>\n",
       "      <td id=\"T_97643_row7_col10\" class=\"data row7 col10\" >1</td>\n",
       "      <td id=\"T_97643_row7_col11\" class=\"data row7 col11\" >49</td>\n",
       "    </tr>\n",
       "    <tr>\n",
       "      <th id=\"T_97643_level0_row8\" class=\"row_heading level0 row8\" >8</th>\n",
       "      <td id=\"T_97643_row8_col0\" class=\"data row8 col0\" >f1</td>\n",
       "      <td id=\"T_97643_row8_col1\" class=\"data row8 col1\" >6</td>\n",
       "      <td id=\"T_97643_row8_col2\" class=\"data row8 col2\" >6</td>\n",
       "      <td id=\"T_97643_row8_col3\" class=\"data row8 col3\" >18</td>\n",
       "      <td id=\"T_97643_row8_col4\" class=\"data row8 col4\" >37</td>\n",
       "      <td id=\"T_97643_row8_col5\" class=\"data row8 col5\" >6</td>\n",
       "      <td id=\"T_97643_row8_col6\" class=\"data row8 col6\" >6</td>\n",
       "      <td id=\"T_97643_row8_col7\" class=\"data row8 col7\" >37</td>\n",
       "      <td id=\"T_97643_row8_col8\" class=\"data row8 col8\" >6</td>\n",
       "      <td id=\"T_97643_row8_col9\" class=\"data row8 col9\" >6</td>\n",
       "      <td id=\"T_97643_row8_col10\" class=\"data row8 col10\" >6</td>\n",
       "      <td id=\"T_97643_row8_col11\" class=\"data row8 col11\" >6</td>\n",
       "    </tr>\n",
       "    <tr>\n",
       "      <th id=\"T_97643_level0_row9\" class=\"row_heading level0 row9\" >9</th>\n",
       "      <td id=\"T_97643_row9_col0\" class=\"data row9 col0\" >fit</td>\n",
       "      <td id=\"T_97643_row9_col1\" class=\"data row9 col1\" >nan</td>\n",
       "      <td id=\"T_97643_row9_col2\" class=\"data row9 col2\" >23</td>\n",
       "      <td id=\"T_97643_row9_col3\" class=\"data row9 col3\" >6</td>\n",
       "      <td id=\"T_97643_row9_col4\" class=\"data row9 col4\" >-999</td>\n",
       "      <td id=\"T_97643_row9_col5\" class=\"data row9 col5\" >23</td>\n",
       "      <td id=\"T_97643_row9_col6\" class=\"data row9 col6\" >37</td>\n",
       "      <td id=\"T_97643_row9_col7\" class=\"data row9 col7\" >23</td>\n",
       "      <td id=\"T_97643_row9_col8\" class=\"data row9 col8\" >2</td>\n",
       "      <td id=\"T_97643_row9_col9\" class=\"data row9 col9\" >2</td>\n",
       "      <td id=\"T_97643_row9_col10\" class=\"data row9 col10\" >2</td>\n",
       "      <td id=\"T_97643_row9_col11\" class=\"data row9 col11\" >23</td>\n",
       "    </tr>\n",
       "    <tr>\n",
       "      <th id=\"T_97643_level0_row10\" class=\"row_heading level0 row10\" >10</th>\n",
       "      <td id=\"T_97643_row10_col0\" class=\"data row10 col0\" >gini</td>\n",
       "      <td id=\"T_97643_row10_col1\" class=\"data row10 col1\" >15</td>\n",
       "      <td id=\"T_97643_row10_col2\" class=\"data row10 col2\" >15</td>\n",
       "      <td id=\"T_97643_row10_col3\" class=\"data row10 col3\" >15</td>\n",
       "      <td id=\"T_97643_row10_col4\" class=\"data row10 col4\" >15</td>\n",
       "      <td id=\"T_97643_row10_col5\" class=\"data row10 col5\" >15</td>\n",
       "      <td id=\"T_97643_row10_col6\" class=\"data row10 col6\" >15</td>\n",
       "      <td id=\"T_97643_row10_col7\" class=\"data row10 col7\" >15</td>\n",
       "      <td id=\"T_97643_row10_col8\" class=\"data row10 col8\" >15</td>\n",
       "      <td id=\"T_97643_row10_col9\" class=\"data row10 col9\" >15</td>\n",
       "      <td id=\"T_97643_row10_col10\" class=\"data row10 col10\" >15</td>\n",
       "      <td id=\"T_97643_row10_col11\" class=\"data row10 col11\" >15</td>\n",
       "    </tr>\n",
       "    <tr>\n",
       "      <th id=\"T_97643_level0_row11\" class=\"row_heading level0 row11\" >11</th>\n",
       "      <td id=\"T_97643_row11_col0\" class=\"data row11 col0\" >independent</td>\n",
       "      <td id=\"T_97643_row11_col1\" class=\"data row11 col1\" >nan</td>\n",
       "      <td id=\"T_97643_row11_col2\" class=\"data row11 col2\" >49</td>\n",
       "      <td id=\"T_97643_row11_col3\" class=\"data row11 col3\" >49</td>\n",
       "      <td id=\"T_97643_row11_col4\" class=\"data row11 col4\" >49</td>\n",
       "      <td id=\"T_97643_row11_col5\" class=\"data row11 col5\" >-999</td>\n",
       "      <td id=\"T_97643_row11_col6\" class=\"data row11 col6\" >49</td>\n",
       "      <td id=\"T_97643_row11_col7\" class=\"data row11 col7\" >1</td>\n",
       "      <td id=\"T_97643_row11_col8\" class=\"data row11 col8\" >39</td>\n",
       "      <td id=\"T_97643_row11_col9\" class=\"data row11 col9\" >39</td>\n",
       "      <td id=\"T_97643_row11_col10\" class=\"data row11 col10\" >26</td>\n",
       "      <td id=\"T_97643_row11_col11\" class=\"data row11 col11\" >26</td>\n",
       "    </tr>\n",
       "    <tr>\n",
       "      <th id=\"T_97643_level0_row12\" class=\"row_heading level0 row12\" >12</th>\n",
       "      <td id=\"T_97643_row12_col0\" class=\"data row12 col0\" >lasso</td>\n",
       "      <td id=\"T_97643_row12_col1\" class=\"data row12 col1\" >nan</td>\n",
       "      <td id=\"T_97643_row12_col2\" class=\"data row12 col2\" >36</td>\n",
       "      <td id=\"T_97643_row12_col3\" class=\"data row12 col3\" >25</td>\n",
       "      <td id=\"T_97643_row12_col4\" class=\"data row12 col4\" >56</td>\n",
       "      <td id=\"T_97643_row12_col5\" class=\"data row12 col5\" >25</td>\n",
       "      <td id=\"T_97643_row12_col6\" class=\"data row12 col6\" >23</td>\n",
       "      <td id=\"T_97643_row12_col7\" class=\"data row12 col7\" >46</td>\n",
       "      <td id=\"T_97643_row12_col8\" class=\"data row12 col8\" >36</td>\n",
       "      <td id=\"T_97643_row12_col9\" class=\"data row12 col9\" >36</td>\n",
       "      <td id=\"T_97643_row12_col10\" class=\"data row12 col10\" >23</td>\n",
       "      <td id=\"T_97643_row12_col11\" class=\"data row12 col11\" >25</td>\n",
       "    </tr>\n",
       "    <tr>\n",
       "      <th id=\"T_97643_level0_row13\" class=\"row_heading level0 row13\" >13</th>\n",
       "      <td id=\"T_97643_row13_col0\" class=\"data row13 col0\" >linear</td>\n",
       "      <td id=\"T_97643_row13_col1\" class=\"data row13 col1\" >17</td>\n",
       "      <td id=\"T_97643_row13_col2\" class=\"data row13 col2\" >17</td>\n",
       "      <td id=\"T_97643_row13_col3\" class=\"data row13 col3\" >17</td>\n",
       "      <td id=\"T_97643_row13_col4\" class=\"data row13 col4\" >17</td>\n",
       "      <td id=\"T_97643_row13_col5\" class=\"data row13 col5\" >17</td>\n",
       "      <td id=\"T_97643_row13_col6\" class=\"data row13 col6\" >17</td>\n",
       "      <td id=\"T_97643_row13_col7\" class=\"data row13 col7\" >17</td>\n",
       "      <td id=\"T_97643_row13_col8\" class=\"data row13 col8\" >17</td>\n",
       "      <td id=\"T_97643_row13_col9\" class=\"data row13 col9\" >17</td>\n",
       "      <td id=\"T_97643_row13_col10\" class=\"data row13 col10\" >17</td>\n",
       "      <td id=\"T_97643_row13_col11\" class=\"data row13 col11\" >17</td>\n",
       "    </tr>\n",
       "    <tr>\n",
       "      <th id=\"T_97643_level0_row14\" class=\"row_heading level0 row14\" >14</th>\n",
       "      <td id=\"T_97643_row14_col0\" class=\"data row14 col0\" >logistic</td>\n",
       "      <td id=\"T_97643_row14_col1\" class=\"data row14 col1\" >nan</td>\n",
       "      <td id=\"T_97643_row14_col2\" class=\"data row14 col2\" >-999</td>\n",
       "      <td id=\"T_97643_row14_col3\" class=\"data row14 col3\" >31</td>\n",
       "      <td id=\"T_97643_row14_col4\" class=\"data row14 col4\" >23</td>\n",
       "      <td id=\"T_97643_row14_col5\" class=\"data row14 col5\" >56</td>\n",
       "      <td id=\"T_97643_row14_col6\" class=\"data row14 col6\" >56</td>\n",
       "      <td id=\"T_97643_row14_col7\" class=\"data row14 col7\" >56</td>\n",
       "      <td id=\"T_97643_row14_col8\" class=\"data row14 col8\" >-999</td>\n",
       "      <td id=\"T_97643_row14_col9\" class=\"data row14 col9\" >-999</td>\n",
       "      <td id=\"T_97643_row14_col10\" class=\"data row14 col10\" >-999</td>\n",
       "      <td id=\"T_97643_row14_col11\" class=\"data row14 col11\" >-999</td>\n",
       "    </tr>\n",
       "    <tr>\n",
       "      <th id=\"T_97643_level0_row15\" class=\"row_heading level0 row15\" >15</th>\n",
       "      <td id=\"T_97643_row15_col0\" class=\"data row15 col0\" >loss</td>\n",
       "      <td id=\"T_97643_row15_col1\" class=\"data row15 col1\" >19</td>\n",
       "      <td id=\"T_97643_row15_col2\" class=\"data row15 col2\" >19</td>\n",
       "      <td id=\"T_97643_row15_col3\" class=\"data row15 col3\" >19</td>\n",
       "      <td id=\"T_97643_row15_col4\" class=\"data row15 col4\" >19</td>\n",
       "      <td id=\"T_97643_row15_col5\" class=\"data row15 col5\" >19</td>\n",
       "      <td id=\"T_97643_row15_col6\" class=\"data row15 col6\" >19</td>\n",
       "      <td id=\"T_97643_row15_col7\" class=\"data row15 col7\" >-999</td>\n",
       "      <td id=\"T_97643_row15_col8\" class=\"data row15 col8\" >19</td>\n",
       "      <td id=\"T_97643_row15_col9\" class=\"data row15 col9\" >19</td>\n",
       "      <td id=\"T_97643_row15_col10\" class=\"data row15 col10\" >19</td>\n",
       "      <td id=\"T_97643_row15_col11\" class=\"data row15 col11\" >19</td>\n",
       "    </tr>\n",
       "    <tr>\n",
       "      <th id=\"T_97643_level0_row16\" class=\"row_heading level0 row16\" >16</th>\n",
       "      <td id=\"T_97643_row16_col0\" class=\"data row16 col0\" >matrix</td>\n",
       "      <td id=\"T_97643_row16_col1\" class=\"data row16 col1\" >29</td>\n",
       "      <td id=\"T_97643_row16_col2\" class=\"data row16 col2\" >29</td>\n",
       "      <td id=\"T_97643_row16_col3\" class=\"data row16 col3\" >29</td>\n",
       "      <td id=\"T_97643_row16_col4\" class=\"data row16 col4\" >48</td>\n",
       "      <td id=\"T_97643_row16_col5\" class=\"data row16 col5\" >-999</td>\n",
       "      <td id=\"T_97643_row16_col6\" class=\"data row16 col6\" >48</td>\n",
       "      <td id=\"T_97643_row16_col7\" class=\"data row16 col7\" >32</td>\n",
       "      <td id=\"T_97643_row16_col8\" class=\"data row16 col8\" >41</td>\n",
       "      <td id=\"T_97643_row16_col9\" class=\"data row16 col9\" >41</td>\n",
       "      <td id=\"T_97643_row16_col10\" class=\"data row16 col10\" >25</td>\n",
       "      <td id=\"T_97643_row16_col11\" class=\"data row16 col11\" >41</td>\n",
       "    </tr>\n",
       "    <tr>\n",
       "      <th id=\"T_97643_level0_row17\" class=\"row_heading level0 row17\" >17</th>\n",
       "      <td id=\"T_97643_row17_col0\" class=\"data row17 col0\" >minimization</td>\n",
       "      <td id=\"T_97643_row17_col1\" class=\"data row17 col1\" >nan</td>\n",
       "      <td id=\"T_97643_row17_col2\" class=\"data row17 col2\" >50</td>\n",
       "      <td id=\"T_97643_row17_col3\" class=\"data row17 col3\" >48</td>\n",
       "      <td id=\"T_97643_row17_col4\" class=\"data row17 col4\" >50</td>\n",
       "      <td id=\"T_97643_row17_col5\" class=\"data row17 col5\" >50</td>\n",
       "      <td id=\"T_97643_row17_col6\" class=\"data row17 col6\" >50</td>\n",
       "      <td id=\"T_97643_row17_col7\" class=\"data row17 col7\" >29</td>\n",
       "      <td id=\"T_97643_row17_col8\" class=\"data row17 col8\" >50</td>\n",
       "      <td id=\"T_97643_row17_col9\" class=\"data row17 col9\" >50</td>\n",
       "      <td id=\"T_97643_row17_col10\" class=\"data row17 col10\" >50</td>\n",
       "      <td id=\"T_97643_row17_col11\" class=\"data row17 col11\" >0</td>\n",
       "    </tr>\n",
       "    <tr>\n",
       "      <th id=\"T_97643_level0_row18\" class=\"row_heading level0 row18\" >18</th>\n",
       "      <td id=\"T_97643_row18_col0\" class=\"data row18 col0\" >mse</td>\n",
       "      <td id=\"T_97643_row18_col1\" class=\"data row18 col1\" >43</td>\n",
       "      <td id=\"T_97643_row18_col2\" class=\"data row18 col2\" >43</td>\n",
       "      <td id=\"T_97643_row18_col3\" class=\"data row18 col3\" >43</td>\n",
       "      <td id=\"T_97643_row18_col4\" class=\"data row18 col4\" >43</td>\n",
       "      <td id=\"T_97643_row18_col5\" class=\"data row18 col5\" >43</td>\n",
       "      <td id=\"T_97643_row18_col6\" class=\"data row18 col6\" >43</td>\n",
       "      <td id=\"T_97643_row18_col7\" class=\"data row18 col7\" >43</td>\n",
       "      <td id=\"T_97643_row18_col8\" class=\"data row18 col8\" >43</td>\n",
       "      <td id=\"T_97643_row18_col9\" class=\"data row18 col9\" >43</td>\n",
       "      <td id=\"T_97643_row18_col10\" class=\"data row18 col10\" >43</td>\n",
       "      <td id=\"T_97643_row18_col11\" class=\"data row18 col11\" >43</td>\n",
       "    </tr>\n",
       "    <tr>\n",
       "      <th id=\"T_97643_level0_row19\" class=\"row_heading level0 row19\" >19</th>\n",
       "      <td id=\"T_97643_row19_col0\" class=\"data row19 col0\" >ols</td>\n",
       "      <td id=\"T_97643_row19_col1\" class=\"data row19 col1\" >11</td>\n",
       "      <td id=\"T_97643_row19_col2\" class=\"data row19 col2\" >11</td>\n",
       "      <td id=\"T_97643_row19_col3\" class=\"data row19 col3\" >11</td>\n",
       "      <td id=\"T_97643_row19_col4\" class=\"data row19 col4\" >11</td>\n",
       "      <td id=\"T_97643_row19_col5\" class=\"data row19 col5\" >11</td>\n",
       "      <td id=\"T_97643_row19_col6\" class=\"data row19 col6\" >11</td>\n",
       "      <td id=\"T_97643_row19_col7\" class=\"data row19 col7\" >11</td>\n",
       "      <td id=\"T_97643_row19_col8\" class=\"data row19 col8\" >11</td>\n",
       "      <td id=\"T_97643_row19_col9\" class=\"data row19 col9\" >11</td>\n",
       "      <td id=\"T_97643_row19_col10\" class=\"data row19 col10\" >11</td>\n",
       "      <td id=\"T_97643_row19_col11\" class=\"data row19 col11\" >11</td>\n",
       "    </tr>\n",
       "    <tr>\n",
       "      <th id=\"T_97643_level0_row20\" class=\"row_heading level0 row20\" >20</th>\n",
       "      <td id=\"T_97643_row20_col0\" class=\"data row20 col0\" >precision</td>\n",
       "      <td id=\"T_97643_row20_col1\" class=\"data row20 col1\" >nan</td>\n",
       "      <td id=\"T_97643_row20_col2\" class=\"data row20 col2\" >-999</td>\n",
       "      <td id=\"T_97643_row20_col3\" class=\"data row20 col3\" >8</td>\n",
       "      <td id=\"T_97643_row20_col4\" class=\"data row20 col4\" >-999</td>\n",
       "      <td id=\"T_97643_row20_col5\" class=\"data row20 col5\" >9</td>\n",
       "      <td id=\"T_97643_row20_col6\" class=\"data row20 col6\" >-999</td>\n",
       "      <td id=\"T_97643_row20_col7\" class=\"data row20 col7\" >9</td>\n",
       "      <td id=\"T_97643_row20_col8\" class=\"data row20 col8\" >-999</td>\n",
       "      <td id=\"T_97643_row20_col9\" class=\"data row20 col9\" >-999</td>\n",
       "      <td id=\"T_97643_row20_col10\" class=\"data row20 col10\" >-999</td>\n",
       "      <td id=\"T_97643_row20_col11\" class=\"data row20 col11\" >46</td>\n",
       "    </tr>\n",
       "    <tr>\n",
       "      <th id=\"T_97643_level0_row21\" class=\"row_heading level0 row21\" >21</th>\n",
       "      <td id=\"T_97643_row21_col0\" class=\"data row21 col0\" >predict</td>\n",
       "      <td id=\"T_97643_row21_col1\" class=\"data row21 col1\" >39</td>\n",
       "      <td id=\"T_97643_row21_col2\" class=\"data row21 col2\" >39</td>\n",
       "      <td id=\"T_97643_row21_col3\" class=\"data row21 col3\" >39</td>\n",
       "      <td id=\"T_97643_row21_col4\" class=\"data row21 col4\" >39</td>\n",
       "      <td id=\"T_97643_row21_col5\" class=\"data row21 col5\" >39</td>\n",
       "      <td id=\"T_97643_row21_col6\" class=\"data row21 col6\" >39</td>\n",
       "      <td id=\"T_97643_row21_col7\" class=\"data row21 col7\" >39</td>\n",
       "      <td id=\"T_97643_row21_col8\" class=\"data row21 col8\" >23</td>\n",
       "      <td id=\"T_97643_row21_col9\" class=\"data row21 col9\" >23</td>\n",
       "      <td id=\"T_97643_row21_col10\" class=\"data row21 col10\" >39</td>\n",
       "      <td id=\"T_97643_row21_col11\" class=\"data row21 col11\" >39</td>\n",
       "    </tr>\n",
       "    <tr>\n",
       "      <th id=\"T_97643_level0_row22\" class=\"row_heading level0 row22\" >22</th>\n",
       "      <td id=\"T_97643_row22_col0\" class=\"data row22 col0\" >pvalue</td>\n",
       "      <td id=\"T_97643_row22_col1\" class=\"data row22 col1\" >32</td>\n",
       "      <td id=\"T_97643_row22_col2\" class=\"data row22 col2\" >32</td>\n",
       "      <td id=\"T_97643_row22_col3\" class=\"data row22 col3\" >32</td>\n",
       "      <td id=\"T_97643_row22_col4\" class=\"data row22 col4\" >32</td>\n",
       "      <td id=\"T_97643_row22_col5\" class=\"data row22 col5\" >0</td>\n",
       "      <td id=\"T_97643_row22_col6\" class=\"data row22 col6\" >29</td>\n",
       "      <td id=\"T_97643_row22_col7\" class=\"data row22 col7\" >-999</td>\n",
       "      <td id=\"T_97643_row22_col8\" class=\"data row22 col8\" >32</td>\n",
       "      <td id=\"T_97643_row22_col9\" class=\"data row22 col9\" >32</td>\n",
       "      <td id=\"T_97643_row22_col10\" class=\"data row22 col10\" >32</td>\n",
       "      <td id=\"T_97643_row22_col11\" class=\"data row22 col11\" >32</td>\n",
       "    </tr>\n",
       "    <tr>\n",
       "      <th id=\"T_97643_level0_row23\" class=\"row_heading level0 row23\" >23</th>\n",
       "      <td id=\"T_97643_row23_col0\" class=\"data row23 col0\" >r2</td>\n",
       "      <td id=\"T_97643_row23_col1\" class=\"data row23 col1\" >54</td>\n",
       "      <td id=\"T_97643_row23_col2\" class=\"data row23 col2\" >54</td>\n",
       "      <td id=\"T_97643_row23_col3\" class=\"data row23 col3\" >54</td>\n",
       "      <td id=\"T_97643_row23_col4\" class=\"data row23 col4\" >54</td>\n",
       "      <td id=\"T_97643_row23_col5\" class=\"data row23 col5\" >54</td>\n",
       "      <td id=\"T_97643_row23_col6\" class=\"data row23 col6\" >54</td>\n",
       "      <td id=\"T_97643_row23_col7\" class=\"data row23 col7\" >54</td>\n",
       "      <td id=\"T_97643_row23_col8\" class=\"data row23 col8\" >54</td>\n",
       "      <td id=\"T_97643_row23_col9\" class=\"data row23 col9\" >54</td>\n",
       "      <td id=\"T_97643_row23_col10\" class=\"data row23 col10\" >54</td>\n",
       "      <td id=\"T_97643_row23_col11\" class=\"data row23 col11\" >54</td>\n",
       "    </tr>\n",
       "    <tr>\n",
       "      <th id=\"T_97643_level0_row24\" class=\"row_heading level0 row24\" >24</th>\n",
       "      <td id=\"T_97643_row24_col0\" class=\"data row24 col0\" >recall</td>\n",
       "      <td id=\"T_97643_row24_col1\" class=\"data row24 col1\" >3</td>\n",
       "      <td id=\"T_97643_row24_col2\" class=\"data row24 col2\" >3</td>\n",
       "      <td id=\"T_97643_row24_col3\" class=\"data row24 col3\" >3</td>\n",
       "      <td id=\"T_97643_row24_col4\" class=\"data row24 col4\" >3</td>\n",
       "      <td id=\"T_97643_row24_col5\" class=\"data row24 col5\" >3</td>\n",
       "      <td id=\"T_97643_row24_col6\" class=\"data row24 col6\" >3</td>\n",
       "      <td id=\"T_97643_row24_col7\" class=\"data row24 col7\" >3</td>\n",
       "      <td id=\"T_97643_row24_col8\" class=\"data row24 col8\" >3</td>\n",
       "      <td id=\"T_97643_row24_col9\" class=\"data row24 col9\" >3</td>\n",
       "      <td id=\"T_97643_row24_col10\" class=\"data row24 col10\" >3</td>\n",
       "      <td id=\"T_97643_row24_col11\" class=\"data row24 col11\" >3</td>\n",
       "    </tr>\n",
       "    <tr>\n",
       "      <th id=\"T_97643_level0_row25\" class=\"row_heading level0 row25\" >25</th>\n",
       "      <td id=\"T_97643_row25_col0\" class=\"data row25 col0\" >regression</td>\n",
       "      <td id=\"T_97643_row25_col1\" class=\"data row25 col1\" >nan</td>\n",
       "      <td id=\"T_97643_row25_col2\" class=\"data row25 col2\" >-999</td>\n",
       "      <td id=\"T_97643_row25_col3\" class=\"data row25 col3\" >-999</td>\n",
       "      <td id=\"T_97643_row25_col4\" class=\"data row25 col4\" >25</td>\n",
       "      <td id=\"T_97643_row25_col5\" class=\"data row25 col5\" >32</td>\n",
       "      <td id=\"T_97643_row25_col6\" class=\"data row25 col6\" >32</td>\n",
       "      <td id=\"T_97643_row25_col7\" class=\"data row25 col7\" >19</td>\n",
       "      <td id=\"T_97643_row25_col8\" class=\"data row25 col8\" >-999</td>\n",
       "      <td id=\"T_97643_row25_col9\" class=\"data row25 col9\" >-999</td>\n",
       "      <td id=\"T_97643_row25_col10\" class=\"data row25 col10\" >-999</td>\n",
       "      <td id=\"T_97643_row25_col11\" class=\"data row25 col11\" >-999</td>\n",
       "    </tr>\n",
       "    <tr>\n",
       "      <th id=\"T_97643_level0_row26\" class=\"row_heading level0 row26\" >26</th>\n",
       "      <td id=\"T_97643_row26_col0\" class=\"data row26 col0\" >residual</td>\n",
       "      <td id=\"T_97643_row26_col1\" class=\"data row26 col1\" >nan</td>\n",
       "      <td id=\"T_97643_row26_col2\" class=\"data row26 col2\" >-999</td>\n",
       "      <td id=\"T_97643_row26_col3\" class=\"data row26 col3\" >47</td>\n",
       "      <td id=\"T_97643_row26_col4\" class=\"data row26 col4\" >-999</td>\n",
       "      <td id=\"T_97643_row26_col5\" class=\"data row26 col5\" >-999</td>\n",
       "      <td id=\"T_97643_row26_col6\" class=\"data row26 col6\" >-999</td>\n",
       "      <td id=\"T_97643_row26_col7\" class=\"data row26 col7\" >50</td>\n",
       "      <td id=\"T_97643_row26_col8\" class=\"data row26 col8\" >29</td>\n",
       "      <td id=\"T_97643_row26_col9\" class=\"data row26 col9\" >29</td>\n",
       "      <td id=\"T_97643_row26_col10\" class=\"data row26 col10\" >29</td>\n",
       "      <td id=\"T_97643_row26_col11\" class=\"data row26 col11\" >29</td>\n",
       "    </tr>\n",
       "    <tr>\n",
       "      <th id=\"T_97643_level0_row27\" class=\"row_heading level0 row27\" >27</th>\n",
       "      <td id=\"T_97643_row27_col0\" class=\"data row27 col0\" >ridge</td>\n",
       "      <td id=\"T_97643_row27_col1\" class=\"data row27 col1\" >35</td>\n",
       "      <td id=\"T_97643_row27_col2\" class=\"data row27 col2\" >35</td>\n",
       "      <td id=\"T_97643_row27_col3\" class=\"data row27 col3\" >35</td>\n",
       "      <td id=\"T_97643_row27_col4\" class=\"data row27 col4\" >35</td>\n",
       "      <td id=\"T_97643_row27_col5\" class=\"data row27 col5\" >48</td>\n",
       "      <td id=\"T_97643_row27_col6\" class=\"data row27 col6\" >35</td>\n",
       "      <td id=\"T_97643_row27_col7\" class=\"data row27 col7\" >35</td>\n",
       "      <td id=\"T_97643_row27_col8\" class=\"data row27 col8\" >35</td>\n",
       "      <td id=\"T_97643_row27_col9\" class=\"data row27 col9\" >35</td>\n",
       "      <td id=\"T_97643_row27_col10\" class=\"data row27 col10\" >35</td>\n",
       "      <td id=\"T_97643_row27_col11\" class=\"data row27 col11\" >35</td>\n",
       "    </tr>\n",
       "    <tr>\n",
       "      <th id=\"T_97643_level0_row28\" class=\"row_heading level0 row28\" >28</th>\n",
       "      <td id=\"T_97643_row28_col0\" class=\"data row28 col0\" >sigmoid</td>\n",
       "      <td id=\"T_97643_row28_col1\" class=\"data row28 col1\" >55</td>\n",
       "      <td id=\"T_97643_row28_col2\" class=\"data row28 col2\" >55</td>\n",
       "      <td id=\"T_97643_row28_col3\" class=\"data row28 col3\" >55</td>\n",
       "      <td id=\"T_97643_row28_col4\" class=\"data row28 col4\" >26</td>\n",
       "      <td id=\"T_97643_row28_col5\" class=\"data row28 col5\" >55</td>\n",
       "      <td id=\"T_97643_row28_col6\" class=\"data row28 col6\" >55</td>\n",
       "      <td id=\"T_97643_row28_col7\" class=\"data row28 col7\" >55</td>\n",
       "      <td id=\"T_97643_row28_col8\" class=\"data row28 col8\" >55</td>\n",
       "      <td id=\"T_97643_row28_col9\" class=\"data row28 col9\" >55</td>\n",
       "      <td id=\"T_97643_row28_col10\" class=\"data row28 col10\" >55</td>\n",
       "      <td id=\"T_97643_row28_col11\" class=\"data row28 col11\" >55</td>\n",
       "    </tr>\n",
       "    <tr>\n",
       "      <th id=\"T_97643_level0_row29\" class=\"row_heading level0 row29\" >29</th>\n",
       "      <td id=\"T_97643_row29_col0\" class=\"data row29 col0\" >significant</td>\n",
       "      <td id=\"T_97643_row29_col1\" class=\"data row29 col1\" >33</td>\n",
       "      <td id=\"T_97643_row29_col2\" class=\"data row29 col2\" >33</td>\n",
       "      <td id=\"T_97643_row29_col3\" class=\"data row29 col3\" >33</td>\n",
       "      <td id=\"T_97643_row29_col4\" class=\"data row29 col4\" >33</td>\n",
       "      <td id=\"T_97643_row29_col5\" class=\"data row29 col5\" >33</td>\n",
       "      <td id=\"T_97643_row29_col6\" class=\"data row29 col6\" >33</td>\n",
       "      <td id=\"T_97643_row29_col7\" class=\"data row29 col7\" >33</td>\n",
       "      <td id=\"T_97643_row29_col8\" class=\"data row29 col8\" >-999</td>\n",
       "      <td id=\"T_97643_row29_col9\" class=\"data row29 col9\" >-999</td>\n",
       "      <td id=\"T_97643_row29_col10\" class=\"data row29 col10\" >33</td>\n",
       "      <td id=\"T_97643_row29_col11\" class=\"data row29 col11\" >33</td>\n",
       "    </tr>\n",
       "    <tr>\n",
       "      <th id=\"T_97643_level0_row30\" class=\"row_heading level0 row30\" >30</th>\n",
       "      <td id=\"T_97643_row30_col0\" class=\"data row30 col0\" >target</td>\n",
       "      <td id=\"T_97643_row30_col1\" class=\"data row30 col1\" >46</td>\n",
       "      <td id=\"T_97643_row30_col2\" class=\"data row30 col2\" >46</td>\n",
       "      <td id=\"T_97643_row30_col3\" class=\"data row30 col3\" >46</td>\n",
       "      <td id=\"T_97643_row30_col4\" class=\"data row30 col4\" >46</td>\n",
       "      <td id=\"T_97643_row30_col5\" class=\"data row30 col5\" >46</td>\n",
       "      <td id=\"T_97643_row30_col6\" class=\"data row30 col6\" >46</td>\n",
       "      <td id=\"T_97643_row30_col7\" class=\"data row30 col7\" >25</td>\n",
       "      <td id=\"T_97643_row30_col8\" class=\"data row30 col8\" >46</td>\n",
       "      <td id=\"T_97643_row30_col9\" class=\"data row30 col9\" >46</td>\n",
       "      <td id=\"T_97643_row30_col10\" class=\"data row30 col10\" >46</td>\n",
       "      <td id=\"T_97643_row30_col11\" class=\"data row30 col11\" >-999</td>\n",
       "    </tr>\n",
       "    <tr>\n",
       "      <th id=\"T_97643_level0_row31\" class=\"row_heading level0 row31\" >31</th>\n",
       "      <td id=\"T_97643_row31_col0\" class=\"data row31 col0\" >tstat</td>\n",
       "      <td id=\"T_97643_row31_col1\" class=\"data row31 col1\" >9</td>\n",
       "      <td id=\"T_97643_row31_col2\" class=\"data row31 col2\" >9</td>\n",
       "      <td id=\"T_97643_row31_col3\" class=\"data row31 col3\" >9</td>\n",
       "      <td id=\"T_97643_row31_col4\" class=\"data row31 col4\" >9</td>\n",
       "      <td id=\"T_97643_row31_col5\" class=\"data row31 col5\" >-999</td>\n",
       "      <td id=\"T_97643_row31_col6\" class=\"data row31 col6\" >9</td>\n",
       "      <td id=\"T_97643_row31_col7\" class=\"data row31 col7\" >-999</td>\n",
       "      <td id=\"T_97643_row31_col8\" class=\"data row31 col8\" >9</td>\n",
       "      <td id=\"T_97643_row31_col9\" class=\"data row31 col9\" >9</td>\n",
       "      <td id=\"T_97643_row31_col10\" class=\"data row31 col10\" >9</td>\n",
       "      <td id=\"T_97643_row31_col11\" class=\"data row31 col11\" >9</td>\n",
       "    </tr>\n",
       "    <tr>\n",
       "      <th id=\"T_97643_level0_row32\" class=\"row_heading level0 row32\" >32</th>\n",
       "      <td id=\"T_97643_row32_col0\" class=\"data row32 col0\" >x</td>\n",
       "      <td id=\"T_97643_row32_col1\" class=\"data row32 col1\" >37</td>\n",
       "      <td id=\"T_97643_row32_col2\" class=\"data row32 col2\" >37</td>\n",
       "      <td id=\"T_97643_row32_col3\" class=\"data row32 col3\" >37</td>\n",
       "      <td id=\"T_97643_row32_col4\" class=\"data row32 col4\" >6</td>\n",
       "      <td id=\"T_97643_row32_col5\" class=\"data row32 col5\" >53</td>\n",
       "      <td id=\"T_97643_row32_col6\" class=\"data row32 col6\" >-999</td>\n",
       "      <td id=\"T_97643_row32_col7\" class=\"data row32 col7\" >6</td>\n",
       "      <td id=\"T_97643_row32_col8\" class=\"data row32 col8\" >37</td>\n",
       "      <td id=\"T_97643_row32_col9\" class=\"data row32 col9\" >37</td>\n",
       "      <td id=\"T_97643_row32_col10\" class=\"data row32 col10\" >37</td>\n",
       "      <td id=\"T_97643_row32_col11\" class=\"data row32 col11\" >-999</td>\n",
       "    </tr>\n",
       "    <tr>\n",
       "      <th id=\"T_97643_level0_row33\" class=\"row_heading level0 row33\" >33</th>\n",
       "      <td id=\"T_97643_row33_col0\" class=\"data row33 col0\" >y</td>\n",
       "      <td id=\"T_97643_row33_col1\" class=\"data row33 col1\" >-999</td>\n",
       "      <td id=\"T_97643_row33_col2\" class=\"data row33 col2\" >-999</td>\n",
       "      <td id=\"T_97643_row33_col3\" class=\"data row33 col3\" >-999</td>\n",
       "      <td id=\"T_97643_row33_col4\" class=\"data row33 col4\" >-999</td>\n",
       "      <td id=\"T_97643_row33_col5\" class=\"data row33 col5\" >47</td>\n",
       "      <td id=\"T_97643_row33_col6\" class=\"data row33 col6\" >-999</td>\n",
       "      <td id=\"T_97643_row33_col7\" class=\"data row33 col7\" >12</td>\n",
       "      <td id=\"T_97643_row33_col8\" class=\"data row33 col8\" >-999</td>\n",
       "      <td id=\"T_97643_row33_col9\" class=\"data row33 col9\" >-999</td>\n",
       "      <td id=\"T_97643_row33_col10\" class=\"data row33 col10\" >-999</td>\n",
       "      <td id=\"T_97643_row33_col11\" class=\"data row33 col11\" >50</td>\n",
       "    </tr>\n",
       "  </tbody>\n",
       "</table>\n"
      ],
      "text/plain": [
       "<pandas.io.formats.style.Styler at 0x2f64f79e890>"
      ]
     },
     "execution_count": 102,
     "metadata": {},
     "output_type": "execute_result"
    }
   ],
   "source": [
    "# Функция для условного форматирования\n",
    "def highlight_matching_cells(x):\n",
    "    ref_col = x['vera']\n",
    "    df_styled = pd.DataFrame('', index=x.index, columns=x.columns)\n",
    "    for col in x.columns:\n",
    "        if col == 'right_answers':\n",
    "            df_styled[col] = ['background-color: red' if x[col].iloc[i] != 'nan' else '' for i in range(len(x))]\n",
    "        elif col != 'vera':\n",
    "            df_styled[col] = ['background-color: green' if x[col].iloc[i] == ref_col.iloc[i] else '' for i in range(len(x))]\n",
    "    return df_styled\n",
    "\n",
    "# Применение стиля\n",
    "res.style.apply(highlight_matching_cells, axis=None)"
   ]
  },
  {
   "cell_type": "markdown",
   "metadata": {},
   "source": [
    "# The end"
   ]
  }
 ],
 "metadata": {
  "kernelspec": {
   "display_name": "venv",
   "language": "python",
   "name": "python3"
  },
  "language_info": {
   "codemirror_mode": {
    "name": "ipython",
    "version": 3
   },
   "file_extension": ".py",
   "mimetype": "text/x-python",
   "name": "python",
   "nbconvert_exporter": "python",
   "pygments_lexer": "ipython3",
   "version": "3.10.7"
  }
 },
 "nbformat": 4,
 "nbformat_minor": 2
}
