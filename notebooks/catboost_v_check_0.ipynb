{
 "cells": [
  {
   "cell_type": "markdown",
   "metadata": {},
   "source": [
    "ML ШИФТ"
   ]
  },
  {
   "cell_type": "markdown",
   "metadata": {},
   "source": [
    "[JINT] (SHIFT-64009) Пашина Алёна"
   ]
  },
  {
   "cell_type": "markdown",
   "metadata": {},
   "source": [
    "374"
   ]
  },
  {
   "cell_type": "markdown",
   "metadata": {},
   "source": [
    "# Описание задачи\n",
    "\n",
    "Чтобы попасть в здание, нужно пройти через турникет. Чтобы открыть парковку, нужно открыть шлагбаум. Чтобы попасть на этаж, нужно приложить 'таблетку'. Все это фиксируется - кто, в какую дату, в какое время.\n",
    "Сможем ли мы выучить, кому конкретно принадлежит 'след' прохода через турникеты? Мы знаем, что это был кто-то, кто уже был. (Правда, есть и несколько новых - не больше 10%).\n",
    "\n",
    "'8 утра понедельник, турникет 4? Директор.' '11 утра суббота? Гриша. Но Гриша в последний день месяца никогда не приходит.'  Какие есть паттерны в настоящих данных?\n",
    "\n",
    "**Цель** - предсказать, кто вошел в здание по времени и турникету.\n",
    "\n",
    "**Описание данных**\n",
    "\n",
    "В обучающей выборке:\n",
    "\n",
    "* `user_id` - ID посетителя\n",
    "* `ts` - дата и время прохождения через турникет\n",
    "* `gate_id` - ID турникета\n",
    "\n",
    "В тестовой выборке `user_id` заменены на слова: `aucroc, binary, blue, categorical` и т.п.\n",
    "\n",
    "Требуется составить таблицу вида:\n",
    "\n",
    "| user_word | preds |\n",
    "| --- | --- |\n",
    "| aucroc | 50 |\n",
    "| binary | 11 |\n",
    "| blue | -999 |\n",
    "| ... | ... |\n",
    "\n",
    "* `user_word` - закодированные ID пользователей\n",
    "* `preds` - предсказанные ID\n",
    "* `-999` - ID нового посетителя, которого раньше не было\n",
    "\n",
    "Таблицу нужно запомнить как `csv` и потом заархивировать в `zip` архив. \n",
    "\n",
    "Каждому слову сопоставлен вес, который зависит от того, насколько трудно предсказать ID. Баллы набираются как взвешенная по весам сумма правильных ответов. Чем сложнее отгадали слово, тем больше баллов.\n",
    "\n",
    "Посетителей здания будем считать сотрудниками некой компании."
   ]
  },
  {
   "cell_type": "markdown",
   "metadata": {},
   "source": [
    "# Импорт библиотек"
   ]
  },
  {
   "cell_type": "code",
   "execution_count": 1,
   "metadata": {},
   "outputs": [],
   "source": [
    "import io\n",
    "import warnings\n",
    "import zipfile\n",
    "\n",
    "import matplotlib.pyplot as plt\n",
    "import numpy as np\n",
    "import optuna\n",
    "import pandas as pd\n",
    "import phik\n",
    "import plotly.graph_objects as go\n",
    "import seaborn as sns\n",
    "import sklearn\n",
    "\n",
    "from catboost import (CatBoostClassifier,\n",
    "                      EFeaturesSelectionAlgorithm,\n",
    "                      EShapCalcType,\n",
    "                      Pool)\n",
    "from scipy.stats import mode\n",
    "from sklearn.metrics import f1_score\n",
    "from sklearn.model_selection import StratifiedKFold, train_test_split"
   ]
  },
  {
   "cell_type": "code",
   "execution_count": 2,
   "metadata": {},
   "outputs": [],
   "source": [
    "# sklearn.set_config(transform_output=\"pandas\")\n",
    "warnings.filterwarnings('ignore')\n",
    "pd.options.display.float_format = '{:,.2f}'.format\n",
    "\n",
    "RANDOM_STATE = 42"
   ]
  },
  {
   "cell_type": "code",
   "execution_count": 3,
   "metadata": {},
   "outputs": [],
   "source": [
    "pd.set_option('display.max_rows', 300)\n",
    "pd.set_option('display.max_columns', 300)"
   ]
  },
  {
   "cell_type": "markdown",
   "metadata": {},
   "source": [
    "# Первичный анализ и предобработка данных"
   ]
  },
  {
   "cell_type": "code",
   "execution_count": 4,
   "metadata": {},
   "outputs": [],
   "source": [
    "df_train = pd.read_csv('../data/train.csv', index_col=[0], parse_dates=[2])\n",
    "df_test = pd.read_csv('../data/test.csv', index_col=[0], parse_dates=[1])\n",
    "ex_submit = pd.read_csv('../data/submit.csv')"
   ]
  },
  {
   "cell_type": "code",
   "execution_count": 5,
   "metadata": {},
   "outputs": [
    {
     "name": "stdout",
     "output_type": "stream",
     "text": [
      "\u001b[1mтренировочная выборка:\u001b[0m\n"
     ]
    },
    {
     "data": {
      "text/html": [
       "<div>\n",
       "<style scoped>\n",
       "    .dataframe tbody tr th:only-of-type {\n",
       "        vertical-align: middle;\n",
       "    }\n",
       "\n",
       "    .dataframe tbody tr th {\n",
       "        vertical-align: top;\n",
       "    }\n",
       "\n",
       "    .dataframe thead th {\n",
       "        text-align: right;\n",
       "    }\n",
       "</style>\n",
       "<table border=\"1\" class=\"dataframe\">\n",
       "  <thead>\n",
       "    <tr style=\"text-align: right;\">\n",
       "      <th></th>\n",
       "      <th>user_id</th>\n",
       "      <th>ts</th>\n",
       "      <th>gate_id</th>\n",
       "    </tr>\n",
       "  </thead>\n",
       "  <tbody>\n",
       "    <tr>\n",
       "      <th>0</th>\n",
       "      <td>18</td>\n",
       "      <td>2022-07-29 09:08:54</td>\n",
       "      <td>7</td>\n",
       "    </tr>\n",
       "    <tr>\n",
       "      <th>1</th>\n",
       "      <td>18</td>\n",
       "      <td>2022-07-29 09:09:54</td>\n",
       "      <td>9</td>\n",
       "    </tr>\n",
       "    <tr>\n",
       "      <th>2</th>\n",
       "      <td>18</td>\n",
       "      <td>2022-07-29 09:09:54</td>\n",
       "      <td>9</td>\n",
       "    </tr>\n",
       "    <tr>\n",
       "      <th>3</th>\n",
       "      <td>18</td>\n",
       "      <td>2022-07-29 09:10:06</td>\n",
       "      <td>5</td>\n",
       "    </tr>\n",
       "    <tr>\n",
       "      <th>4</th>\n",
       "      <td>18</td>\n",
       "      <td>2022-07-29 09:10:08</td>\n",
       "      <td>5</td>\n",
       "    </tr>\n",
       "    <tr>\n",
       "      <th>...</th>\n",
       "      <td>...</td>\n",
       "      <td>...</td>\n",
       "      <td>...</td>\n",
       "    </tr>\n",
       "    <tr>\n",
       "      <th>37513</th>\n",
       "      <td>6</td>\n",
       "      <td>2022-12-31 20:38:56</td>\n",
       "      <td>11</td>\n",
       "    </tr>\n",
       "    <tr>\n",
       "      <th>37514</th>\n",
       "      <td>6</td>\n",
       "      <td>2022-12-31 20:39:22</td>\n",
       "      <td>6</td>\n",
       "    </tr>\n",
       "    <tr>\n",
       "      <th>37515</th>\n",
       "      <td>6</td>\n",
       "      <td>2022-12-31 20:39:23</td>\n",
       "      <td>6</td>\n",
       "    </tr>\n",
       "    <tr>\n",
       "      <th>37516</th>\n",
       "      <td>6</td>\n",
       "      <td>2022-12-31 20:39:31</td>\n",
       "      <td>9</td>\n",
       "    </tr>\n",
       "    <tr>\n",
       "      <th>37517</th>\n",
       "      <td>6</td>\n",
       "      <td>2022-12-31 20:39:31</td>\n",
       "      <td>9</td>\n",
       "    </tr>\n",
       "  </tbody>\n",
       "</table>\n",
       "<p>37518 rows × 3 columns</p>\n",
       "</div>"
      ],
      "text/plain": [
       "       user_id                  ts  gate_id\n",
       "0           18 2022-07-29 09:08:54        7\n",
       "1           18 2022-07-29 09:09:54        9\n",
       "2           18 2022-07-29 09:09:54        9\n",
       "3           18 2022-07-29 09:10:06        5\n",
       "4           18 2022-07-29 09:10:08        5\n",
       "...        ...                 ...      ...\n",
       "37513        6 2022-12-31 20:38:56       11\n",
       "37514        6 2022-12-31 20:39:22        6\n",
       "37515        6 2022-12-31 20:39:23        6\n",
       "37516        6 2022-12-31 20:39:31        9\n",
       "37517        6 2022-12-31 20:39:31        9\n",
       "\n",
       "[37518 rows x 3 columns]"
      ]
     },
     "metadata": {},
     "output_type": "display_data"
    },
    {
     "name": "stdout",
     "output_type": "stream",
     "text": [
      "\u001b[1mобщая информация - тренировочная выборка:\u001b[0m\n",
      "<class 'pandas.core.frame.DataFrame'>\n",
      "Index: 37518 entries, 0 to 37517\n",
      "Data columns (total 3 columns):\n",
      " #   Column   Non-Null Count  Dtype         \n",
      "---  ------   --------------  -----         \n",
      " 0   user_id  37518 non-null  int64         \n",
      " 1   ts       37518 non-null  datetime64[ns]\n",
      " 2   gate_id  37518 non-null  int64         \n",
      "dtypes: datetime64[ns](1), int64(2)\n",
      "memory usage: 1.1 MB\n",
      "\u001b[1mколичество пропусков: 0\u001b[0m\n",
      "\u001b[1mколичество явных дубликатов: 2346\u001b[0m\n",
      "\n",
      "\u001b[1mтестовая выборка:\u001b[0m\n"
     ]
    },
    {
     "data": {
      "text/html": [
       "<div>\n",
       "<style scoped>\n",
       "    .dataframe tbody tr th:only-of-type {\n",
       "        vertical-align: middle;\n",
       "    }\n",
       "\n",
       "    .dataframe tbody tr th {\n",
       "        vertical-align: top;\n",
       "    }\n",
       "\n",
       "    .dataframe thead th {\n",
       "        text-align: right;\n",
       "    }\n",
       "</style>\n",
       "<table border=\"1\" class=\"dataframe\">\n",
       "  <thead>\n",
       "    <tr style=\"text-align: right;\">\n",
       "      <th></th>\n",
       "      <th>ts</th>\n",
       "      <th>gate_id</th>\n",
       "      <th>user_word</th>\n",
       "    </tr>\n",
       "  </thead>\n",
       "  <tbody>\n",
       "    <tr>\n",
       "      <th>37518</th>\n",
       "      <td>2023-01-03 08:21:00</td>\n",
       "      <td>9</td>\n",
       "      <td>gini</td>\n",
       "    </tr>\n",
       "    <tr>\n",
       "      <th>37519</th>\n",
       "      <td>2023-01-03 08:21:00</td>\n",
       "      <td>9</td>\n",
       "      <td>gini</td>\n",
       "    </tr>\n",
       "    <tr>\n",
       "      <th>37520</th>\n",
       "      <td>2023-01-03 08:21:18</td>\n",
       "      <td>5</td>\n",
       "      <td>gini</td>\n",
       "    </tr>\n",
       "    <tr>\n",
       "      <th>37521</th>\n",
       "      <td>2023-01-03 08:21:19</td>\n",
       "      <td>5</td>\n",
       "      <td>gini</td>\n",
       "    </tr>\n",
       "    <tr>\n",
       "      <th>37522</th>\n",
       "      <td>2023-01-03 08:21:39</td>\n",
       "      <td>10</td>\n",
       "      <td>gini</td>\n",
       "    </tr>\n",
       "    <tr>\n",
       "      <th>...</th>\n",
       "      <td>...</td>\n",
       "      <td>...</td>\n",
       "      <td>...</td>\n",
       "    </tr>\n",
       "    <tr>\n",
       "      <th>44638</th>\n",
       "      <td>2023-02-24 19:43:36</td>\n",
       "      <td>11</td>\n",
       "      <td>collinear</td>\n",
       "    </tr>\n",
       "    <tr>\n",
       "      <th>44639</th>\n",
       "      <td>2023-02-24 19:44:00</td>\n",
       "      <td>4</td>\n",
       "      <td>collinear</td>\n",
       "    </tr>\n",
       "    <tr>\n",
       "      <th>44640</th>\n",
       "      <td>2023-02-24 19:44:01</td>\n",
       "      <td>4</td>\n",
       "      <td>collinear</td>\n",
       "    </tr>\n",
       "    <tr>\n",
       "      <th>44641</th>\n",
       "      <td>2023-02-24 19:44:09</td>\n",
       "      <td>9</td>\n",
       "      <td>collinear</td>\n",
       "    </tr>\n",
       "    <tr>\n",
       "      <th>44642</th>\n",
       "      <td>2023-02-24 19:44:09</td>\n",
       "      <td>9</td>\n",
       "      <td>collinear</td>\n",
       "    </tr>\n",
       "  </tbody>\n",
       "</table>\n",
       "<p>7125 rows × 3 columns</p>\n",
       "</div>"
      ],
      "text/plain": [
       "                       ts  gate_id  user_word\n",
       "37518 2023-01-03 08:21:00        9       gini\n",
       "37519 2023-01-03 08:21:00        9       gini\n",
       "37520 2023-01-03 08:21:18        5       gini\n",
       "37521 2023-01-03 08:21:19        5       gini\n",
       "37522 2023-01-03 08:21:39       10       gini\n",
       "...                   ...      ...        ...\n",
       "44638 2023-02-24 19:43:36       11  collinear\n",
       "44639 2023-02-24 19:44:00        4  collinear\n",
       "44640 2023-02-24 19:44:01        4  collinear\n",
       "44641 2023-02-24 19:44:09        9  collinear\n",
       "44642 2023-02-24 19:44:09        9  collinear\n",
       "\n",
       "[7125 rows x 3 columns]"
      ]
     },
     "metadata": {},
     "output_type": "display_data"
    },
    {
     "name": "stdout",
     "output_type": "stream",
     "text": [
      "\u001b[1mобщая информация - тестовая выборка:\u001b[0m\n",
      "<class 'pandas.core.frame.DataFrame'>\n",
      "Index: 7125 entries, 37518 to 44642\n",
      "Data columns (total 3 columns):\n",
      " #   Column     Non-Null Count  Dtype         \n",
      "---  ------     --------------  -----         \n",
      " 0   ts         7125 non-null   datetime64[ns]\n",
      " 1   gate_id    7125 non-null   int64         \n",
      " 2   user_word  7125 non-null   object        \n",
      "dtypes: datetime64[ns](1), int64(1), object(1)\n",
      "memory usage: 222.7+ KB\n",
      "\u001b[1mколичество пропусков: 0\u001b[0m\n",
      "\u001b[1mколичество явных дубликатов: 505\u001b[0m\n",
      "\n",
      "\u001b[1mпример решения:\u001b[0m\n"
     ]
    },
    {
     "data": {
      "text/html": [
       "<div>\n",
       "<style scoped>\n",
       "    .dataframe tbody tr th:only-of-type {\n",
       "        vertical-align: middle;\n",
       "    }\n",
       "\n",
       "    .dataframe tbody tr th {\n",
       "        vertical-align: top;\n",
       "    }\n",
       "\n",
       "    .dataframe thead th {\n",
       "        text-align: right;\n",
       "    }\n",
       "</style>\n",
       "<table border=\"1\" class=\"dataframe\">\n",
       "  <thead>\n",
       "    <tr style=\"text-align: right;\">\n",
       "      <th></th>\n",
       "      <th>user_word</th>\n",
       "      <th>preds</th>\n",
       "    </tr>\n",
       "  </thead>\n",
       "  <tbody>\n",
       "    <tr>\n",
       "      <th>0</th>\n",
       "      <td>aucroc</td>\n",
       "      <td>49</td>\n",
       "    </tr>\n",
       "    <tr>\n",
       "      <th>1</th>\n",
       "      <td>binary</td>\n",
       "      <td>12</td>\n",
       "    </tr>\n",
       "    <tr>\n",
       "      <th>2</th>\n",
       "      <td>blue</td>\n",
       "      <td>55</td>\n",
       "    </tr>\n",
       "    <tr>\n",
       "      <th>3</th>\n",
       "      <td>categorical</td>\n",
       "      <td>14</td>\n",
       "    </tr>\n",
       "    <tr>\n",
       "      <th>4</th>\n",
       "      <td>coefficient</td>\n",
       "      <td>15</td>\n",
       "    </tr>\n",
       "    <tr>\n",
       "      <th>5</th>\n",
       "      <td>collinear</td>\n",
       "      <td>12</td>\n",
       "    </tr>\n",
       "    <tr>\n",
       "      <th>6</th>\n",
       "      <td>distributed</td>\n",
       "      <td>12</td>\n",
       "    </tr>\n",
       "    <tr>\n",
       "      <th>7</th>\n",
       "      <td>epsilon</td>\n",
       "      <td>1</td>\n",
       "    </tr>\n",
       "    <tr>\n",
       "      <th>8</th>\n",
       "      <td>f1</td>\n",
       "      <td>37</td>\n",
       "    </tr>\n",
       "    <tr>\n",
       "      <th>9</th>\n",
       "      <td>fit</td>\n",
       "      <td>3</td>\n",
       "    </tr>\n",
       "    <tr>\n",
       "      <th>10</th>\n",
       "      <td>gini</td>\n",
       "      <td>15</td>\n",
       "    </tr>\n",
       "    <tr>\n",
       "      <th>11</th>\n",
       "      <td>independent</td>\n",
       "      <td>-999</td>\n",
       "    </tr>\n",
       "    <tr>\n",
       "      <th>12</th>\n",
       "      <td>lasso</td>\n",
       "      <td>15</td>\n",
       "    </tr>\n",
       "    <tr>\n",
       "      <th>13</th>\n",
       "      <td>linear</td>\n",
       "      <td>3</td>\n",
       "    </tr>\n",
       "    <tr>\n",
       "      <th>14</th>\n",
       "      <td>logistic</td>\n",
       "      <td>12</td>\n",
       "    </tr>\n",
       "    <tr>\n",
       "      <th>15</th>\n",
       "      <td>loss</td>\n",
       "      <td>19</td>\n",
       "    </tr>\n",
       "    <tr>\n",
       "      <th>16</th>\n",
       "      <td>matrix</td>\n",
       "      <td>55</td>\n",
       "    </tr>\n",
       "    <tr>\n",
       "      <th>17</th>\n",
       "      <td>minimization</td>\n",
       "      <td>12</td>\n",
       "    </tr>\n",
       "    <tr>\n",
       "      <th>18</th>\n",
       "      <td>mse</td>\n",
       "      <td>55</td>\n",
       "    </tr>\n",
       "    <tr>\n",
       "      <th>19</th>\n",
       "      <td>ols</td>\n",
       "      <td>37</td>\n",
       "    </tr>\n",
       "    <tr>\n",
       "      <th>20</th>\n",
       "      <td>precision</td>\n",
       "      <td>-999</td>\n",
       "    </tr>\n",
       "    <tr>\n",
       "      <th>21</th>\n",
       "      <td>predict</td>\n",
       "      <td>12</td>\n",
       "    </tr>\n",
       "    <tr>\n",
       "      <th>22</th>\n",
       "      <td>pvalue</td>\n",
       "      <td>32</td>\n",
       "    </tr>\n",
       "    <tr>\n",
       "      <th>23</th>\n",
       "      <td>r2</td>\n",
       "      <td>12</td>\n",
       "    </tr>\n",
       "    <tr>\n",
       "      <th>24</th>\n",
       "      <td>recall</td>\n",
       "      <td>3</td>\n",
       "    </tr>\n",
       "    <tr>\n",
       "      <th>25</th>\n",
       "      <td>regression</td>\n",
       "      <td>55</td>\n",
       "    </tr>\n",
       "    <tr>\n",
       "      <th>26</th>\n",
       "      <td>residual</td>\n",
       "      <td>-999</td>\n",
       "    </tr>\n",
       "    <tr>\n",
       "      <th>27</th>\n",
       "      <td>ridge</td>\n",
       "      <td>12</td>\n",
       "    </tr>\n",
       "    <tr>\n",
       "      <th>28</th>\n",
       "      <td>sigmoid</td>\n",
       "      <td>55</td>\n",
       "    </tr>\n",
       "    <tr>\n",
       "      <th>29</th>\n",
       "      <td>significant</td>\n",
       "      <td>55</td>\n",
       "    </tr>\n",
       "    <tr>\n",
       "      <th>30</th>\n",
       "      <td>target</td>\n",
       "      <td>55</td>\n",
       "    </tr>\n",
       "    <tr>\n",
       "      <th>31</th>\n",
       "      <td>tstat</td>\n",
       "      <td>55</td>\n",
       "    </tr>\n",
       "    <tr>\n",
       "      <th>32</th>\n",
       "      <td>x</td>\n",
       "      <td>19</td>\n",
       "    </tr>\n",
       "    <tr>\n",
       "      <th>33</th>\n",
       "      <td>y</td>\n",
       "      <td>17</td>\n",
       "    </tr>\n",
       "  </tbody>\n",
       "</table>\n",
       "</div>"
      ],
      "text/plain": [
       "       user_word  preds\n",
       "0         aucroc     49\n",
       "1         binary     12\n",
       "2           blue     55\n",
       "3    categorical     14\n",
       "4    coefficient     15\n",
       "5      collinear     12\n",
       "6    distributed     12\n",
       "7        epsilon      1\n",
       "8             f1     37\n",
       "9            fit      3\n",
       "10          gini     15\n",
       "11   independent   -999\n",
       "12         lasso     15\n",
       "13        linear      3\n",
       "14      logistic     12\n",
       "15          loss     19\n",
       "16        matrix     55\n",
       "17  minimization     12\n",
       "18           mse     55\n",
       "19           ols     37\n",
       "20     precision   -999\n",
       "21       predict     12\n",
       "22        pvalue     32\n",
       "23            r2     12\n",
       "24        recall      3\n",
       "25    regression     55\n",
       "26      residual   -999\n",
       "27         ridge     12\n",
       "28       sigmoid     55\n",
       "29   significant     55\n",
       "30        target     55\n",
       "31         tstat     55\n",
       "32             x     19\n",
       "33             y     17"
      ]
     },
     "metadata": {},
     "output_type": "display_data"
    },
    {
     "name": "stdout",
     "output_type": "stream",
     "text": [
      "\u001b[1mобщая информация - пример решения:\u001b[0m\n",
      "<class 'pandas.core.frame.DataFrame'>\n",
      "RangeIndex: 34 entries, 0 to 33\n",
      "Data columns (total 2 columns):\n",
      " #   Column     Non-Null Count  Dtype \n",
      "---  ------     --------------  ----- \n",
      " 0   user_word  34 non-null     object\n",
      " 1   preds      34 non-null     int64 \n",
      "dtypes: int64(1), object(1)\n",
      "memory usage: 672.0+ bytes\n",
      "\u001b[1mколичество пропусков: 0\u001b[0m\n",
      "\u001b[1mколичество явных дубликатов: 0\u001b[0m\n",
      "\n"
     ]
    }
   ],
   "source": [
    "for name, df in zip(['тренировочная выборка', 'тестовая выборка', 'пример решения'], [df_train, df_test, ex_submit]):\n",
    "    print(f'\\033[1m{name}:\\033[0m')\n",
    "    display(df)\n",
    "    print(f'\\033[1mобщая информация - {name}:\\033[0m')\n",
    "    df.info()\n",
    "    print(f'\\033[1mколичество пропусков: {df.isna().sum().sum()}\\033[0m')\n",
    "    print(f'\\033[1mколичество явных дубликатов: {df.duplicated().sum()}\\033[0m')\n",
    "    print()"
   ]
  },
  {
   "cell_type": "markdown",
   "metadata": {},
   "source": [
    "Пропусков в данных не обнаружено.\n",
    "\n",
    "В тренировочной и тестовой выборке есть явные дубликаты, удалим их."
   ]
  },
  {
   "cell_type": "code",
   "execution_count": 6,
   "metadata": {},
   "outputs": [],
   "source": [
    "df_train = df_train.drop_duplicates().reset_index(drop=True)\n",
    "df_test = df_test.drop_duplicates().reset_index(drop=True)"
   ]
  },
  {
   "cell_type": "code",
   "execution_count": 7,
   "metadata": {},
   "outputs": [
    {
     "data": {
      "text/plain": [
       "(35172, 3)"
      ]
     },
     "execution_count": 7,
     "metadata": {},
     "output_type": "execute_result"
    }
   ],
   "source": [
    "df_train.shape"
   ]
  },
  {
   "cell_type": "code",
   "execution_count": 8,
   "metadata": {},
   "outputs": [
    {
     "data": {
      "text/plain": [
       "(6620, 3)"
      ]
     },
     "execution_count": 8,
     "metadata": {},
     "output_type": "execute_result"
    }
   ],
   "source": [
    "df_test.shape"
   ]
  },
  {
   "cell_type": "code",
   "execution_count": 9,
   "metadata": {},
   "outputs": [
    {
     "data": {
      "text/html": [
       "<div>\n",
       "<style scoped>\n",
       "    .dataframe tbody tr th:only-of-type {\n",
       "        vertical-align: middle;\n",
       "    }\n",
       "\n",
       "    .dataframe tbody tr th {\n",
       "        vertical-align: top;\n",
       "    }\n",
       "\n",
       "    .dataframe thead th {\n",
       "        text-align: right;\n",
       "    }\n",
       "</style>\n",
       "<table border=\"1\" class=\"dataframe\">\n",
       "  <thead>\n",
       "    <tr style=\"text-align: right;\">\n",
       "      <th></th>\n",
       "      <th>ts</th>\n",
       "    </tr>\n",
       "  </thead>\n",
       "  <tbody>\n",
       "    <tr>\n",
       "      <th>min</th>\n",
       "      <td>2022-07-29 09:08:54</td>\n",
       "    </tr>\n",
       "    <tr>\n",
       "      <th>max</th>\n",
       "      <td>2022-12-31 20:39:31</td>\n",
       "    </tr>\n",
       "  </tbody>\n",
       "</table>\n",
       "</div>"
      ],
      "text/plain": [
       "                     ts\n",
       "min 2022-07-29 09:08:54\n",
       "max 2022-12-31 20:39:31"
      ]
     },
     "execution_count": 9,
     "metadata": {},
     "output_type": "execute_result"
    }
   ],
   "source": [
    "df_train.ts.agg([min, max]).to_frame()"
   ]
  },
  {
   "cell_type": "code",
   "execution_count": 10,
   "metadata": {},
   "outputs": [
    {
     "data": {
      "text/html": [
       "<div>\n",
       "<style scoped>\n",
       "    .dataframe tbody tr th:only-of-type {\n",
       "        vertical-align: middle;\n",
       "    }\n",
       "\n",
       "    .dataframe tbody tr th {\n",
       "        vertical-align: top;\n",
       "    }\n",
       "\n",
       "    .dataframe thead th {\n",
       "        text-align: right;\n",
       "    }\n",
       "</style>\n",
       "<table border=\"1\" class=\"dataframe\">\n",
       "  <thead>\n",
       "    <tr style=\"text-align: right;\">\n",
       "      <th></th>\n",
       "      <th>ts</th>\n",
       "    </tr>\n",
       "  </thead>\n",
       "  <tbody>\n",
       "    <tr>\n",
       "      <th>min</th>\n",
       "      <td>2023-01-03 08:21:00</td>\n",
       "    </tr>\n",
       "    <tr>\n",
       "      <th>max</th>\n",
       "      <td>2023-02-24 19:44:09</td>\n",
       "    </tr>\n",
       "  </tbody>\n",
       "</table>\n",
       "</div>"
      ],
      "text/plain": [
       "                     ts\n",
       "min 2023-01-03 08:21:00\n",
       "max 2023-02-24 19:44:09"
      ]
     },
     "execution_count": 10,
     "metadata": {},
     "output_type": "execute_result"
    }
   ],
   "source": [
    "df_test.ts.agg([min, max]).to_frame()"
   ]
  },
  {
   "cell_type": "code",
   "execution_count": 11,
   "metadata": {},
   "outputs": [
    {
     "data": {
      "text/plain": [
       "7"
      ]
     },
     "execution_count": 11,
     "metadata": {},
     "output_type": "execute_result"
    }
   ],
   "source": [
    "(df_test.ts.max() - df_train.ts.min()).days // 30"
   ]
  },
  {
   "cell_type": "markdown",
   "metadata": {},
   "source": [
    "Предоставлены данные за 7 месяцев - с июля 2022 по фефраль 2023. Номер месяца в качестве признака не подойдет."
   ]
  },
  {
   "cell_type": "markdown",
   "metadata": {},
   "source": [
    "ID сотрудников"
   ]
  },
  {
   "cell_type": "code",
   "execution_count": 12,
   "metadata": {},
   "outputs": [
    {
     "name": "stdout",
     "output_type": "stream",
     "text": [
      "0, 1, 2, 3, 4, 5, 6, 7, 8, 9, 10, 11, 12, 14, 15, 17, 18, 19, 20, 21, 22, 23, 24, 25, 26, 27, 28, 29, 30, 31, 32, 33, 34, 35, 36, 37, 38, 39, 40, 41, 42, 43, 44, 45, 46, 47, 48, 49, 50, 51, 52, 53, 54, 55, 56, 57\n",
      "Количество сотрудников в train: 56\n"
     ]
    }
   ],
   "source": [
    "# id сотрудников в train\n",
    "print(*sorted(df_train.user_id.unique()), sep=', ')\n",
    "print(f'Количество сотрудников в train: {len(df_train.user_id.unique())}')"
   ]
  },
  {
   "cell_type": "code",
   "execution_count": 13,
   "metadata": {},
   "outputs": [
    {
     "data": {
      "text/plain": [
       "{13, 16}"
      ]
     },
     "execution_count": 13,
     "metadata": {},
     "output_type": "execute_result"
    }
   ],
   "source": [
    "# отсутствующие id\n",
    "set(range(0, 58)) - set(df_train.user_id.unique())"
   ]
  },
  {
   "cell_type": "code",
   "execution_count": 14,
   "metadata": {},
   "outputs": [],
   "source": [
    "# активность сотрудников в train\n",
    "count_user_id = df_train.user_id.value_counts(ascending=True).to_frame()"
   ]
  },
  {
   "cell_type": "code",
   "execution_count": 15,
   "metadata": {},
   "outputs": [
    {
     "data": {
      "text/html": [
       "<div>\n",
       "<style scoped>\n",
       "    .dataframe tbody tr th:only-of-type {\n",
       "        vertical-align: middle;\n",
       "    }\n",
       "\n",
       "    .dataframe tbody tr th {\n",
       "        vertical-align: top;\n",
       "    }\n",
       "\n",
       "    .dataframe thead th {\n",
       "        text-align: right;\n",
       "    }\n",
       "</style>\n",
       "<table border=\"1\" class=\"dataframe\">\n",
       "  <thead>\n",
       "    <tr style=\"text-align: right;\">\n",
       "      <th>user_id</th>\n",
       "      <th>4</th>\n",
       "      <th>51</th>\n",
       "      <th>44</th>\n",
       "      <th>21</th>\n",
       "      <th>52</th>\n",
       "      <th>30</th>\n",
       "      <th>5</th>\n",
       "      <th>38</th>\n",
       "      <th>10</th>\n",
       "      <th>8</th>\n",
       "      <th>2</th>\n",
       "      <th>36</th>\n",
       "      <th>7</th>\n",
       "      <th>45</th>\n",
       "      <th>28</th>\n",
       "      <th>22</th>\n",
       "      <th>41</th>\n",
       "      <th>20</th>\n",
       "      <th>43</th>\n",
       "      <th>56</th>\n",
       "      <th>31</th>\n",
       "      <th>25</th>\n",
       "      <th>40</th>\n",
       "      <th>23</th>\n",
       "      <th>34</th>\n",
       "      <th>26</th>\n",
       "      <th>42</th>\n",
       "      <th>24</th>\n",
       "      <th>46</th>\n",
       "      <th>57</th>\n",
       "      <th>27</th>\n",
       "      <th>35</th>\n",
       "      <th>14</th>\n",
       "      <th>17</th>\n",
       "      <th>48</th>\n",
       "      <th>3</th>\n",
       "      <th>29</th>\n",
       "      <th>50</th>\n",
       "      <th>54</th>\n",
       "      <th>9</th>\n",
       "      <th>32</th>\n",
       "      <th>39</th>\n",
       "      <th>49</th>\n",
       "      <th>1</th>\n",
       "      <th>0</th>\n",
       "      <th>33</th>\n",
       "      <th>47</th>\n",
       "      <th>11</th>\n",
       "      <th>53</th>\n",
       "      <th>18</th>\n",
       "      <th>15</th>\n",
       "      <th>19</th>\n",
       "      <th>12</th>\n",
       "      <th>6</th>\n",
       "      <th>55</th>\n",
       "      <th>37</th>\n",
       "    </tr>\n",
       "  </thead>\n",
       "  <tbody>\n",
       "    <tr>\n",
       "      <th>count</th>\n",
       "      <td>1</td>\n",
       "      <td>2</td>\n",
       "      <td>4</td>\n",
       "      <td>5</td>\n",
       "      <td>5</td>\n",
       "      <td>10</td>\n",
       "      <td>10</td>\n",
       "      <td>13</td>\n",
       "      <td>17</td>\n",
       "      <td>27</td>\n",
       "      <td>39</td>\n",
       "      <td>45</td>\n",
       "      <td>48</td>\n",
       "      <td>57</td>\n",
       "      <td>64</td>\n",
       "      <td>87</td>\n",
       "      <td>110</td>\n",
       "      <td>112</td>\n",
       "      <td>117</td>\n",
       "      <td>129</td>\n",
       "      <td>181</td>\n",
       "      <td>238</td>\n",
       "      <td>242</td>\n",
       "      <td>247</td>\n",
       "      <td>267</td>\n",
       "      <td>279</td>\n",
       "      <td>340</td>\n",
       "      <td>386</td>\n",
       "      <td>475</td>\n",
       "      <td>482</td>\n",
       "      <td>523</td>\n",
       "      <td>549</td>\n",
       "      <td>617</td>\n",
       "      <td>648</td>\n",
       "      <td>712</td>\n",
       "      <td>894</td>\n",
       "      <td>924</td>\n",
       "      <td>965</td>\n",
       "      <td>977</td>\n",
       "      <td>1015</td>\n",
       "      <td>1020</td>\n",
       "      <td>1032</td>\n",
       "      <td>1129</td>\n",
       "      <td>1171</td>\n",
       "      <td>1184</td>\n",
       "      <td>1184</td>\n",
       "      <td>1250</td>\n",
       "      <td>1255</td>\n",
       "      <td>1279</td>\n",
       "      <td>1441</td>\n",
       "      <td>1659</td>\n",
       "      <td>1661</td>\n",
       "      <td>1837</td>\n",
       "      <td>1857</td>\n",
       "      <td>2166</td>\n",
       "      <td>2184</td>\n",
       "    </tr>\n",
       "  </tbody>\n",
       "</table>\n",
       "</div>"
      ],
      "text/plain": [
       "user_id  4   51  44  21  52  30  5   38  10  8   2   36  7   45  28  22   41  \\\n",
       "count     1   2   4   5   5  10  10  13  17  27  39  45  48  57  64  87  110   \n",
       "\n",
       "user_id   20   43   56   31   25   40   23   34   26   42   24   46   57   27  \\\n",
       "count    112  117  129  181  238  242  247  267  279  340  386  475  482  523   \n",
       "\n",
       "user_id   35   14   17   48   3    29   50   54    9     32    39    49    1   \\\n",
       "count    549  617  648  712  894  924  965  977  1015  1020  1032  1129  1171   \n",
       "\n",
       "user_id    0     33    47    11    53    18    15    19    12    6     55  \\\n",
       "count    1184  1184  1250  1255  1279  1441  1659  1661  1837  1857  2166   \n",
       "\n",
       "user_id    37  \n",
       "count    2184  "
      ]
     },
     "execution_count": 15,
     "metadata": {},
     "output_type": "execute_result"
    }
   ],
   "source": [
    "count_user_id.T"
   ]
  },
  {
   "cell_type": "markdown",
   "metadata": {},
   "source": [
    "Удалим неактивных сотрудников, количество проходов через турникеты которых менее 100. Поскольку это слишком маленькие категории для обучения (подбор гиперпараметров модели будет выполняться с помощью кроссвалидации), и, скорее всего, этих сотрудников нет в test."
   ]
  },
  {
   "cell_type": "code",
   "execution_count": 16,
   "metadata": {},
   "outputs": [],
   "source": [
    "# delete_user_id = [4, 5, 7, 8, 10, 18, 20, 21, 22, 27, 28, 30, 31, 34, 36, 38, 40, 41, 42, 44, 45, 47, 48, 51, 52, 53, 57]"
   ]
  },
  {
   "cell_type": "code",
   "execution_count": 17,
   "metadata": {},
   "outputs": [
    {
     "data": {
      "text/plain": [
       "36"
      ]
     },
     "execution_count": 17,
     "metadata": {},
     "output_type": "execute_result"
    }
   ],
   "source": [
    "27\n",
    "18\n",
    "31\n",
    "48\n",
    "8\n",
    "47\n",
    "36"
   ]
  },
  {
   "cell_type": "code",
   "execution_count": 18,
   "metadata": {},
   "outputs": [],
   "source": [
    "# 8 и 41"
   ]
  },
  {
   "cell_type": "code",
   "execution_count": 19,
   "metadata": {},
   "outputs": [
    {
     "data": {
      "text/plain": [
       "25"
      ]
     },
     "execution_count": 19,
     "metadata": {},
     "output_type": "execute_result"
    }
   ],
   "source": [
    "delete_user_id = [4, 5, 7, 8, 10, 18, 20, 21, 27, 28, 31, 30, 34, 38, 40, 41, 42, 44, 45, 47, 48, 51, 52, 53, 57]\n",
    "len(delete_user_id)"
   ]
  },
  {
   "cell_type": "code",
   "execution_count": 20,
   "metadata": {},
   "outputs": [
    {
     "data": {
      "text/plain": [
       "(27970, 3)"
      ]
     },
     "execution_count": 20,
     "metadata": {},
     "output_type": "execute_result"
    }
   ],
   "source": [
    "df_train = df_train[~df_train['user_id'].isin(delete_user_id)]\n",
    "df_train.shape"
   ]
  },
  {
   "cell_type": "code",
   "execution_count": 21,
   "metadata": {},
   "outputs": [
    {
     "name": "stdout",
     "output_type": "stream",
     "text": [
      "Количество сотрудников в train: 31\n"
     ]
    }
   ],
   "source": [
    "print(f'Количество сотрудников в train: {len(df_train.user_id.unique())}')"
   ]
  },
  {
   "cell_type": "code",
   "execution_count": 22,
   "metadata": {},
   "outputs": [
    {
     "data": {
      "text/html": [
       "<div>\n",
       "<style scoped>\n",
       "    .dataframe tbody tr th:only-of-type {\n",
       "        vertical-align: middle;\n",
       "    }\n",
       "\n",
       "    .dataframe tbody tr th {\n",
       "        vertical-align: top;\n",
       "    }\n",
       "\n",
       "    .dataframe thead th {\n",
       "        text-align: right;\n",
       "    }\n",
       "</style>\n",
       "<table border=\"1\" class=\"dataframe\">\n",
       "  <thead>\n",
       "    <tr style=\"text-align: right;\">\n",
       "      <th>user_id</th>\n",
       "      <th>2</th>\n",
       "      <th>36</th>\n",
       "      <th>22</th>\n",
       "      <th>43</th>\n",
       "      <th>56</th>\n",
       "      <th>25</th>\n",
       "      <th>23</th>\n",
       "      <th>26</th>\n",
       "      <th>24</th>\n",
       "      <th>46</th>\n",
       "      <th>35</th>\n",
       "      <th>14</th>\n",
       "      <th>17</th>\n",
       "      <th>3</th>\n",
       "      <th>29</th>\n",
       "      <th>50</th>\n",
       "      <th>54</th>\n",
       "      <th>9</th>\n",
       "      <th>32</th>\n",
       "      <th>39</th>\n",
       "      <th>49</th>\n",
       "      <th>1</th>\n",
       "      <th>0</th>\n",
       "      <th>33</th>\n",
       "      <th>11</th>\n",
       "      <th>15</th>\n",
       "      <th>19</th>\n",
       "      <th>12</th>\n",
       "      <th>6</th>\n",
       "      <th>55</th>\n",
       "      <th>37</th>\n",
       "    </tr>\n",
       "  </thead>\n",
       "  <tbody>\n",
       "    <tr>\n",
       "      <th>count</th>\n",
       "      <td>39</td>\n",
       "      <td>45</td>\n",
       "      <td>87</td>\n",
       "      <td>117</td>\n",
       "      <td>129</td>\n",
       "      <td>238</td>\n",
       "      <td>247</td>\n",
       "      <td>279</td>\n",
       "      <td>386</td>\n",
       "      <td>475</td>\n",
       "      <td>549</td>\n",
       "      <td>617</td>\n",
       "      <td>648</td>\n",
       "      <td>894</td>\n",
       "      <td>924</td>\n",
       "      <td>965</td>\n",
       "      <td>977</td>\n",
       "      <td>1015</td>\n",
       "      <td>1020</td>\n",
       "      <td>1032</td>\n",
       "      <td>1129</td>\n",
       "      <td>1171</td>\n",
       "      <td>1184</td>\n",
       "      <td>1184</td>\n",
       "      <td>1255</td>\n",
       "      <td>1659</td>\n",
       "      <td>1661</td>\n",
       "      <td>1837</td>\n",
       "      <td>1857</td>\n",
       "      <td>2166</td>\n",
       "      <td>2184</td>\n",
       "    </tr>\n",
       "  </tbody>\n",
       "</table>\n",
       "</div>"
      ],
      "text/plain": [
       "user_id  2   36  22   43   56   25   23   26   24   46   35   14   17   3   \\\n",
       "count    39  45  87  117  129  238  247  279  386  475  549  617  648  894   \n",
       "\n",
       "user_id   29   50   54    9     32    39    49    1     0     33    11    15  \\\n",
       "count    924  965  977  1015  1020  1032  1129  1171  1184  1184  1255  1659   \n",
       "\n",
       "user_id    19    12    6     55    37  \n",
       "count    1661  1837  1857  2166  2184  "
      ]
     },
     "execution_count": 22,
     "metadata": {},
     "output_type": "execute_result"
    }
   ],
   "source": [
    "df_train.user_id.value_counts(ascending=True).to_frame().T"
   ]
  },
  {
   "cell_type": "markdown",
   "metadata": {},
   "source": [
    "Исходя из графиков посещений здания для каждого сотрудника, исключим некоторых из тренировочной выборки."
   ]
  },
  {
   "cell_type": "code",
   "execution_count": null,
   "metadata": {},
   "outputs": [],
   "source": []
  },
  {
   "cell_type": "code",
   "execution_count": 23,
   "metadata": {},
   "outputs": [
    {
     "name": "stdout",
     "output_type": "stream",
     "text": [
      "Количество сотрудников в test: 34\n"
     ]
    }
   ],
   "source": [
    "print(f'Количество сотрудников в test: {len(df_test.user_word.unique())}')"
   ]
  },
  {
   "cell_type": "code",
   "execution_count": 24,
   "metadata": {},
   "outputs": [
    {
     "data": {
      "text/plain": [
       "3"
      ]
     },
     "execution_count": 24,
     "metadata": {},
     "output_type": "execute_result"
    }
   ],
   "source": [
    "# по условию сказано, что в тестовой выборке может быть не более 10% новых сотрудников\n",
    "int(.1 * len(df_test.user_word.unique()))"
   ]
  },
  {
   "cell_type": "code",
   "execution_count": 25,
   "metadata": {},
   "outputs": [],
   "source": [
    "# активность сотрудников в test\n",
    "count_user_word = df_test.user_word.value_counts(ascending=True).to_frame()"
   ]
  },
  {
   "cell_type": "code",
   "execution_count": 26,
   "metadata": {},
   "outputs": [
    {
     "data": {
      "text/html": [
       "<div>\n",
       "<style scoped>\n",
       "    .dataframe tbody tr th:only-of-type {\n",
       "        vertical-align: middle;\n",
       "    }\n",
       "\n",
       "    .dataframe tbody tr th {\n",
       "        vertical-align: top;\n",
       "    }\n",
       "\n",
       "    .dataframe thead th {\n",
       "        text-align: right;\n",
       "    }\n",
       "</style>\n",
       "<table border=\"1\" class=\"dataframe\">\n",
       "  <thead>\n",
       "    <tr style=\"text-align: right;\">\n",
       "      <th>user_word</th>\n",
       "      <th>logistic</th>\n",
       "      <th>blue</th>\n",
       "      <th>lasso</th>\n",
       "      <th>aucroc</th>\n",
       "      <th>regression</th>\n",
       "      <th>y</th>\n",
       "      <th>precision</th>\n",
       "      <th>coefficient</th>\n",
       "      <th>minimization</th>\n",
       "      <th>mse</th>\n",
       "      <th>target</th>\n",
       "      <th>distributed</th>\n",
       "      <th>ols</th>\n",
       "      <th>tstat</th>\n",
       "      <th>ridge</th>\n",
       "      <th>matrix</th>\n",
       "      <th>pvalue</th>\n",
       "      <th>fit</th>\n",
       "      <th>r2</th>\n",
       "      <th>linear</th>\n",
       "      <th>predict</th>\n",
       "      <th>recall</th>\n",
       "      <th>residual</th>\n",
       "      <th>categorical</th>\n",
       "      <th>gini</th>\n",
       "      <th>significant</th>\n",
       "      <th>independent</th>\n",
       "      <th>collinear</th>\n",
       "      <th>x</th>\n",
       "      <th>epsilon</th>\n",
       "      <th>binary</th>\n",
       "      <th>sigmoid</th>\n",
       "      <th>loss</th>\n",
       "      <th>f1</th>\n",
       "    </tr>\n",
       "  </thead>\n",
       "  <tbody>\n",
       "    <tr>\n",
       "      <th>count</th>\n",
       "      <td>5</td>\n",
       "      <td>12</td>\n",
       "      <td>33</td>\n",
       "      <td>37</td>\n",
       "      <td>50</td>\n",
       "      <td>50</td>\n",
       "      <td>54</td>\n",
       "      <td>56</td>\n",
       "      <td>95</td>\n",
       "      <td>103</td>\n",
       "      <td>111</td>\n",
       "      <td>117</td>\n",
       "      <td>139</td>\n",
       "      <td>139</td>\n",
       "      <td>141</td>\n",
       "      <td>157</td>\n",
       "      <td>181</td>\n",
       "      <td>183</td>\n",
       "      <td>185</td>\n",
       "      <td>199</td>\n",
       "      <td>208</td>\n",
       "      <td>210</td>\n",
       "      <td>224</td>\n",
       "      <td>245</td>\n",
       "      <td>253</td>\n",
       "      <td>277</td>\n",
       "      <td>278</td>\n",
       "      <td>298</td>\n",
       "      <td>298</td>\n",
       "      <td>336</td>\n",
       "      <td>362</td>\n",
       "      <td>432</td>\n",
       "      <td>458</td>\n",
       "      <td>694</td>\n",
       "    </tr>\n",
       "  </tbody>\n",
       "</table>\n",
       "</div>"
      ],
      "text/plain": [
       "user_word  logistic  blue  lasso  aucroc  regression   y  precision  \\\n",
       "count             5    12     33      37          50  50         54   \n",
       "\n",
       "user_word  coefficient  minimization  mse  target  distributed  ols  tstat  \\\n",
       "count               56            95  103     111          117  139    139   \n",
       "\n",
       "user_word  ridge  matrix  pvalue  fit   r2  linear  predict  recall  residual  \\\n",
       "count        141     157     181  183  185     199      208     210       224   \n",
       "\n",
       "user_word  categorical  gini  significant  independent  collinear    x  \\\n",
       "count              245   253          277          278        298  298   \n",
       "\n",
       "user_word  epsilon  binary  sigmoid  loss   f1  \n",
       "count          336     362      432   458  694  "
      ]
     },
     "execution_count": 26,
     "metadata": {},
     "output_type": "execute_result"
    }
   ],
   "source": [
    "count_user_word.T"
   ]
  },
  {
   "cell_type": "markdown",
   "metadata": {},
   "source": [
    "Турникеты"
   ]
  },
  {
   "cell_type": "code",
   "execution_count": 27,
   "metadata": {},
   "outputs": [
    {
     "name": "stdout",
     "output_type": "stream",
     "text": [
      "Количество турникетов в train: 17\n"
     ]
    },
    {
     "data": {
      "text/html": [
       "<div>\n",
       "<style scoped>\n",
       "    .dataframe tbody tr th:only-of-type {\n",
       "        vertical-align: middle;\n",
       "    }\n",
       "\n",
       "    .dataframe tbody tr th {\n",
       "        vertical-align: top;\n",
       "    }\n",
       "\n",
       "    .dataframe thead th {\n",
       "        text-align: right;\n",
       "    }\n",
       "</style>\n",
       "<table border=\"1\" class=\"dataframe\">\n",
       "  <thead>\n",
       "    <tr style=\"text-align: right;\">\n",
       "      <th>gate_id</th>\n",
       "      <th>14</th>\n",
       "      <th>0</th>\n",
       "      <th>16</th>\n",
       "      <th>1</th>\n",
       "      <th>8</th>\n",
       "      <th>-1</th>\n",
       "      <th>15</th>\n",
       "      <th>12</th>\n",
       "      <th>13</th>\n",
       "      <th>6</th>\n",
       "      <th>9</th>\n",
       "      <th>7</th>\n",
       "      <th>11</th>\n",
       "      <th>5</th>\n",
       "      <th>10</th>\n",
       "      <th>3</th>\n",
       "      <th>4</th>\n",
       "    </tr>\n",
       "  </thead>\n",
       "  <tbody>\n",
       "    <tr>\n",
       "      <th>count</th>\n",
       "      <td>1</td>\n",
       "      <td>2</td>\n",
       "      <td>3</td>\n",
       "      <td>5</td>\n",
       "      <td>15</td>\n",
       "      <td>23</td>\n",
       "      <td>298</td>\n",
       "      <td>378</td>\n",
       "      <td>720</td>\n",
       "      <td>1309</td>\n",
       "      <td>1440</td>\n",
       "      <td>2406</td>\n",
       "      <td>3356</td>\n",
       "      <td>3716</td>\n",
       "      <td>3905</td>\n",
       "      <td>4013</td>\n",
       "      <td>6380</td>\n",
       "    </tr>\n",
       "  </tbody>\n",
       "</table>\n",
       "</div>"
      ],
      "text/plain": [
       "gate_id   14   0    16   1    8   -1    15   12   13    6     9     7     11  \\\n",
       "count      1    2    3    5   15   23  298  378  720  1309  1440  2406  3356   \n",
       "\n",
       "gate_id    5     10    3     4   \n",
       "count    3716  3905  4013  6380  "
      ]
     },
     "execution_count": 27,
     "metadata": {},
     "output_type": "execute_result"
    }
   ],
   "source": [
    "print(f'Количество турникетов в train: {len(df_train.gate_id.unique())}')\n",
    "# частота использования турникетов в train\n",
    "count_gate_id_train = df_train.gate_id.value_counts(ascending=True).to_frame()\n",
    "count_gate_id_train.T"
   ]
  },
  {
   "cell_type": "code",
   "execution_count": 28,
   "metadata": {},
   "outputs": [
    {
     "name": "stdout",
     "output_type": "stream",
     "text": [
      "Количество турникетов в test: 16\n"
     ]
    },
    {
     "data": {
      "text/html": [
       "<div>\n",
       "<style scoped>\n",
       "    .dataframe tbody tr th:only-of-type {\n",
       "        vertical-align: middle;\n",
       "    }\n",
       "\n",
       "    .dataframe tbody tr th {\n",
       "        vertical-align: top;\n",
       "    }\n",
       "\n",
       "    .dataframe thead th {\n",
       "        text-align: right;\n",
       "    }\n",
       "</style>\n",
       "<table border=\"1\" class=\"dataframe\">\n",
       "  <thead>\n",
       "    <tr style=\"text-align: right;\">\n",
       "      <th>gate_id</th>\n",
       "      <th>14</th>\n",
       "      <th>-1</th>\n",
       "      <th>1</th>\n",
       "      <th>2</th>\n",
       "      <th>8</th>\n",
       "      <th>15</th>\n",
       "      <th>12</th>\n",
       "      <th>6</th>\n",
       "      <th>13</th>\n",
       "      <th>9</th>\n",
       "      <th>7</th>\n",
       "      <th>11</th>\n",
       "      <th>5</th>\n",
       "      <th>3</th>\n",
       "      <th>10</th>\n",
       "      <th>4</th>\n",
       "    </tr>\n",
       "  </thead>\n",
       "  <tbody>\n",
       "    <tr>\n",
       "      <th>count</th>\n",
       "      <td>1</td>\n",
       "      <td>1</td>\n",
       "      <td>2</td>\n",
       "      <td>4</td>\n",
       "      <td>10</td>\n",
       "      <td>102</td>\n",
       "      <td>120</td>\n",
       "      <td>282</td>\n",
       "      <td>310</td>\n",
       "      <td>394</td>\n",
       "      <td>540</td>\n",
       "      <td>762</td>\n",
       "      <td>853</td>\n",
       "      <td>893</td>\n",
       "      <td>915</td>\n",
       "      <td>1431</td>\n",
       "    </tr>\n",
       "  </tbody>\n",
       "</table>\n",
       "</div>"
      ],
      "text/plain": [
       "gate_id   14  -1    1    2    8    15   12   6    13   9    7    11   5    3   \\\n",
       "count      1    1    2    4   10  102  120  282  310  394  540  762  853  893   \n",
       "\n",
       "gate_id   10    4   \n",
       "count    915  1431  "
      ]
     },
     "execution_count": 28,
     "metadata": {},
     "output_type": "execute_result"
    }
   ],
   "source": [
    "print(f'Количество турникетов в test: {len(df_test.gate_id.unique())}')\n",
    "# частота использования турникетов в test\n",
    "count_gate_id_test = df_test.gate_id.value_counts(ascending=True).to_frame()\n",
    "count_gate_id_test.T"
   ]
  },
  {
   "cell_type": "code",
   "execution_count": 29,
   "metadata": {},
   "outputs": [
    {
     "data": {
      "text/plain": [
       "{0, 16}"
      ]
     },
     "execution_count": 29,
     "metadata": {},
     "output_type": "execute_result"
    }
   ],
   "source": [
    "# id турникетов, которые есть в train, но нет в test\n",
    "set(df_train.gate_id.unique()) - set(df_test.gate_id.unique())"
   ]
  },
  {
   "cell_type": "code",
   "execution_count": 30,
   "metadata": {},
   "outputs": [
    {
     "data": {
      "text/plain": [
       "{2}"
      ]
     },
     "execution_count": 30,
     "metadata": {},
     "output_type": "execute_result"
    }
   ],
   "source": [
    "# id турникетов, которые есть в test, но нет в train\n",
    "set(df_test.gate_id.unique()) - set(df_train.gate_id.unique())"
   ]
  },
  {
   "cell_type": "markdown",
   "metadata": {},
   "source": [
    "Поскольку `gate_id` мы будем использовать в качестве признака, редкие категории (менее 5 записей) нужно удалить."
   ]
  },
  {
   "cell_type": "code",
   "execution_count": 31,
   "metadata": {},
   "outputs": [
    {
     "data": {
      "text/plain": [
       "{-1, 0, 1, 2, 14, 16}"
      ]
     },
     "execution_count": 31,
     "metadata": {},
     "output_type": "execute_result"
    }
   ],
   "source": [
    "delete_gate_id = set(count_gate_id_train.query('count < 5').index) | set(count_gate_id_test.query('count < 5').index)\n",
    "delete_gate_id"
   ]
  },
  {
   "cell_type": "code",
   "execution_count": 32,
   "metadata": {},
   "outputs": [],
   "source": [
    "df_train = df_train.query('gate_id not in @delete_gate_id').reset_index(drop=True)\n",
    "df_test = df_test.query('gate_id not in @delete_gate_id').reset_index(drop=True)"
   ]
  },
  {
   "cell_type": "code",
   "execution_count": 33,
   "metadata": {},
   "outputs": [
    {
     "data": {
      "text/plain": [
       "(6612, 3)"
      ]
     },
     "execution_count": 33,
     "metadata": {},
     "output_type": "execute_result"
    }
   ],
   "source": [
    "df_test.shape"
   ]
  },
  {
   "cell_type": "markdown",
   "metadata": {},
   "source": [
    "# Генерирование признаков"
   ]
  },
  {
   "cell_type": "code",
   "execution_count": 34,
   "metadata": {},
   "outputs": [],
   "source": [
    "def make_features(df):\n",
    "    df = df.loc[:]\n",
    "    # отсортируем датафрейм для удобства генерирования признаков\n",
    "    # потом отсортируем только по дате\n",
    "    df = df.sort_values(['user_id', 'ts']).reset_index(drop=True)\n",
    "    # временные признаки\n",
    "    df['date'] = df.ts.dt.normalize()\n",
    "    df['day_of_month'] = df.ts.dt.day\n",
    "    df['hour'] = df.ts.dt.hour\n",
    "    df['total_minutes'] = df.hour * 60 + df.ts.dt.minute\n",
    "    df['total_seconds'] = df.total_minutes * 60 + df.ts.dt.second\n",
    "    df['week_number'] = df.ts.dt.isocalendar().week             # неделя начинается с пн. Вспомогательный признак\n",
    "    df['day_of_week'] = df.ts.dt.dayofweek                      # 0 = пн.\n",
    "    df['is_weekend'] = df.day_of_week >= 5\n",
    "    df['time_of_day'] = np.select(\n",
    "            condlist=[df['hour'] < 6, df['hour'] < 12, df['hour'] < 18],\n",
    "            choicelist=['night', 'morning', 'afternoon'],\n",
    "            default='evening',\n",
    "    )       # время суток\n",
    "    df['is_month_start'] = df['ts'].dt.is_month_start\n",
    "    df['is_month_end'] = df['ts'].dt.is_month_end\n",
    "\n",
    "    # для удобства расчетов\n",
    "    grouped_data = df.groupby(['user_id', 'date'])\n",
    "    # число проходов сотрудником ч/з турникуты в день\n",
    "    df['pass_cnt_per_day'] = grouped_data['gate_id'].transform('size')\n",
    "    # число проходов через конкретный турникет в конкретный день\n",
    "    df['daily_gate_pass_count'] = df.groupby(['user_id', 'date', 'gate_id'])['gate_id'].transform('size')\n",
    "    # вероятность прохода через конкретный турникет в конкретный день\n",
    "    df['probability_gate_id'] = df['daily_gate_pass_count'] / df['pass_cnt_per_day']\n",
    "    # количество сотрудников, вошедших в конкретный день в здание\n",
    "    df['cnt_users_per_day'] = df.groupby('date')['user_id'].transform('nunique')\n",
    "    # количество сотрудников, вошедших в конкретную неделю в здание\n",
    "    df['cnt_users_per_week'] = df.groupby('week_number')['user_id'].transform('nunique')\n",
    "    # индекс дневной явки сотрудника\n",
    "    df['daily_attendance_index'] = df['cnt_users_per_day'] / df['cnt_users_per_week']\n",
    "    # количество дней в конкретную неделю, в которые сотрудник заходил в здание\n",
    "    df['cnt_days_per_week'] = df.groupby(['user_id', 'week_number'])['date'].transform('nunique')\n",
    "\n",
    "    # время прихода на работу (количество минут от полуночи)\n",
    "    df['entry_time'] = grouped_data['ts'].transform('min')\n",
    "    df['entry_time'] = ((df['entry_time'] - df['date']).dt.total_seconds() // 60).astype('int')\n",
    "    # время ухода с работы (количество минут от полуночи)\n",
    "    df['exit_time'] = grouped_data['ts'].transform('max')\n",
    "    df['exit_time'] = ((df['exit_time'] - df['date']).dt.total_seconds() // 60).astype('int')   # Вспомогательный признак\n",
    "    # продолжительность рабочего времени в минутах\n",
    "    df['working_time_per_day'] = df['exit_time'] - df['entry_time']\n",
    "    # турникет, через который сотрудник зашел в здание в конкретный день\n",
    "    df['entrance_gate_id'] = grouped_data['gate_id'].transform('first')\n",
    "    # турникет, через который сотрудник вышел из здания в конкретный день\n",
    "    df['exit_gate_id'] = grouped_data['gate_id'].transform('last')\n",
    "    # продолжительность рабочего времени за неделю в минутах (working_time_per_week)\n",
    "    df_working_time_per_week = df.groupby(['user_id', 'date'], as_index=False)[['week_number', 'working_time_per_day']].first()\n",
    "    df_working_time_per_week = df_working_time_per_week.groupby(['user_id', 'week_number'], as_index=False)['working_time_per_day'].sum()\n",
    "    df_working_time_per_week = df_working_time_per_week.rename(columns={'working_time_per_day': 'working_time_per_week'})\n",
    "    df = pd.merge(df, df_working_time_per_week, on=['user_id', 'week_number'], how='left')\n",
    "    # индекс дневной нагрузки сотрудника - отношение минут работы за день к минутам работы за неделю\n",
    "    df['daily_workload_index'] = df['working_time_per_day'] / df['working_time_per_week']\n",
    "    # на случай, когда working_time_per_day = 0 и working_time_per_week = 0\n",
    "    df['daily_workload_index'] = df['daily_workload_index'].fillna(0)\n",
    "\n",
    "    for i in range(1, 6):\n",
    "        # 5 предыдущих турникетов\n",
    "        df[f'gate_id_lag_{i}'] = grouped_data['gate_id'].shift(i, fill_value=-100)\n",
    "        # 5 последующих турникетов\n",
    "        df[f'gate_id_{i}'] = grouped_data['gate_id'].shift(-i, fill_value=-200)\n",
    "        # разница в секундах между текущей записью и пятью предыдущими\n",
    "        df[f'sec_btw_lag_{i}'] = df['total_seconds'] - grouped_data['total_seconds'].shift(i)\n",
    "        df[f'sec_btw_lag_{i}'] = df[f'sec_btw_lag_{i}'].fillna(-1000).astype('int')\n",
    "        # разница в секундах между текущей записью и пятью следующими\n",
    "        df[f'sec_btw_{i}'] = df['total_seconds'] - grouped_data['total_seconds'].shift(-i)\n",
    "        df[f'sec_btw_{i}'] = df[f'sec_btw_{i}'].fillna(1000).astype('int')\n",
    "\n",
    "    # метка gate_id, совпадающего с предыдущим, промежуток между срабатываниями равен 1 секунде\n",
    "    df['repeat_gate_1s'] = df['gate_id'].eq(df['gate_id_lag_1']) & df['sec_btw_lag_1'].eq(1)\n",
    "    # -//- 2 секундам\n",
    "    df['repeat_gate_2s'] = df['gate_id'].eq(df['gate_id_lag_1']) & df['sec_btw_lag_1'].eq(2)\n",
    "    # -//- 3 секундам\n",
    "    df['repeat_gate_3s'] = df['gate_id'].eq(df['gate_id_lag_1']) & df['sec_btw_lag_1'].eq(3)\n",
    "    # -//- 4 секундам\n",
    "    df['repeat_gate_4s'] = df['gate_id'].eq(df['gate_id_lag_1']) & df['sec_btw_lag_1'].eq(4)\n",
    "    # -//- от 5 секунд\n",
    "    df['repeat_gate_ge_5s'] = df['gate_id'].eq(df['gate_id_lag_1']) & df['sec_btw_lag_1'].ge(5)\n",
    "    # для удобства расчетов\n",
    "    grouped_data = df.groupby(['user_id', 'date'])\n",
    "    # количество повторных срабатываний турникетов для user_id в конкретный день, промежуток между срабатываниями равен 1 секунде\n",
    "    df['cnt_repeat_gate_1s'] = grouped_data['repeat_gate_1s'].transform('sum')\n",
    "    # -//- 2 секундам\n",
    "    df['cnt_repeat_gate_2s'] = grouped_data['repeat_gate_2s'].transform('sum')\n",
    "    # -//- 2 секундам\n",
    "    df['cnt_repeat_gate_3s'] = grouped_data['repeat_gate_3s'].transform('sum')\n",
    "    # -//- 2 секундам\n",
    "    df['cnt_repeat_gate_4s'] = grouped_data['repeat_gate_4s'].transform('sum')\n",
    "    # -//- от 5 секунд\n",
    "    df['cnt_repeat_gate_ge_5s'] = grouped_data['repeat_gate_ge_5s'].transform('sum')\n",
    "\n",
    "    # маршрут – содержит информацию о соседних турникетах, через которые прошел сотрудник (направление не учитывается)\n",
    "    df['route'] = df.apply(lambda row: str(sorted([row['gate_id_lag_1'], row['gate_id']])), axis=1)\n",
    "    # если сотрудник пришел с улицы\n",
    "    df.loc[df['route'].str.contains('-100'), 'route'] = 'not_route'\n",
    "\n",
    "    # вспомогательный признак\n",
    "    df['temp_sec_btw_lag_1'] = df['sec_btw_lag_1']\n",
    "    # если сотрудник пришел с улицы\n",
    "    df.loc[df['temp_sec_btw_lag_1'] < 0, 'temp_sec_btw_lag_1'] = 0\n",
    "    # накопленное время нахождения в здании к моменту прохода через турникет в течение дня\n",
    "    df['cumtime_per_day'] = df.groupby(['user_id', 'date'])['temp_sec_btw_lag_1'].cumsum()\n",
    "    # накопленное время нахождения на конкретном маршруте в течение дня\n",
    "    df['cumtime_at_route_per_day'] = df.groupby(['user_id', 'date', 'route'])['temp_sec_btw_lag_1'].cumsum()\n",
    "\n",
    "    # самый часто используемый турникет за день\n",
    "    df['most_frequent_gate_per_day'] = df.groupby(['user_id', 'date'])['gate_id'].transform(lambda x: x.value_counts().idxmax())\n",
    "    # самый часто используемый турникет за неделю\n",
    "    df['most_frequent_gate_per_week'] = df.groupby(['user_id', 'week_number'])['gate_id'].transform(lambda x: x.value_counts().idxmax())\n",
    "    # самый часто используемый маршрут за день\n",
    "    df['most_frequent_route_per_day'] = df.groupby(['user_id', 'date'])['route'].transform(lambda x: x.value_counts().idxmax())\n",
    "    # самый часто используемый маршрут за неделю\n",
    "    df['most_frequent_route_per_week'] = df.groupby(['user_id', 'week_number'])['route'].transform(lambda x: x.value_counts().idxmax())\n",
    "\n",
    "    # среднее время, затраченное на маршрут в течение недели\n",
    "    df['weekly_route_avg_time'] = df.groupby(['user_id', 'week_number', 'route'])['temp_sec_btw_lag_1'].transform('mean')\n",
    "    # среднее время, затраченное на маршрут\n",
    "    df['route_avg_time'] = df.groupby(['user_id', 'route'])['temp_sec_btw_lag_1'].transform('mean')\n",
    "\n",
    "    return df"
   ]
  },
  {
   "cell_type": "code",
   "execution_count": 35,
   "metadata": {},
   "outputs": [
    {
     "data": {
      "text/html": [
       "<div>\n",
       "<style scoped>\n",
       "    .dataframe tbody tr th:only-of-type {\n",
       "        vertical-align: middle;\n",
       "    }\n",
       "\n",
       "    .dataframe tbody tr th {\n",
       "        vertical-align: top;\n",
       "    }\n",
       "\n",
       "    .dataframe thead th {\n",
       "        text-align: right;\n",
       "    }\n",
       "</style>\n",
       "<table border=\"1\" class=\"dataframe\">\n",
       "  <thead>\n",
       "    <tr style=\"text-align: right;\">\n",
       "      <th></th>\n",
       "      <th>user_id</th>\n",
       "      <th>ts</th>\n",
       "      <th>gate_id</th>\n",
       "      <th>date</th>\n",
       "      <th>day_of_month</th>\n",
       "      <th>hour</th>\n",
       "      <th>total_minutes</th>\n",
       "      <th>total_seconds</th>\n",
       "      <th>week_number</th>\n",
       "      <th>day_of_week</th>\n",
       "      <th>is_weekend</th>\n",
       "      <th>time_of_day</th>\n",
       "      <th>is_month_start</th>\n",
       "      <th>is_month_end</th>\n",
       "      <th>pass_cnt_per_day</th>\n",
       "      <th>daily_gate_pass_count</th>\n",
       "      <th>probability_gate_id</th>\n",
       "      <th>cnt_users_per_day</th>\n",
       "      <th>cnt_users_per_week</th>\n",
       "      <th>daily_attendance_index</th>\n",
       "      <th>cnt_days_per_week</th>\n",
       "      <th>entry_time</th>\n",
       "      <th>exit_time</th>\n",
       "      <th>working_time_per_day</th>\n",
       "      <th>entrance_gate_id</th>\n",
       "      <th>exit_gate_id</th>\n",
       "      <th>working_time_per_week</th>\n",
       "      <th>daily_workload_index</th>\n",
       "      <th>gate_id_lag_1</th>\n",
       "      <th>gate_id_1</th>\n",
       "      <th>sec_btw_lag_1</th>\n",
       "      <th>sec_btw_1</th>\n",
       "      <th>gate_id_lag_2</th>\n",
       "      <th>gate_id_2</th>\n",
       "      <th>sec_btw_lag_2</th>\n",
       "      <th>sec_btw_2</th>\n",
       "      <th>gate_id_lag_3</th>\n",
       "      <th>gate_id_3</th>\n",
       "      <th>sec_btw_lag_3</th>\n",
       "      <th>sec_btw_3</th>\n",
       "      <th>gate_id_lag_4</th>\n",
       "      <th>gate_id_4</th>\n",
       "      <th>sec_btw_lag_4</th>\n",
       "      <th>sec_btw_4</th>\n",
       "      <th>gate_id_lag_5</th>\n",
       "      <th>gate_id_5</th>\n",
       "      <th>sec_btw_lag_5</th>\n",
       "      <th>sec_btw_5</th>\n",
       "      <th>repeat_gate_1s</th>\n",
       "      <th>repeat_gate_2s</th>\n",
       "      <th>repeat_gate_3s</th>\n",
       "      <th>repeat_gate_4s</th>\n",
       "      <th>repeat_gate_ge_5s</th>\n",
       "      <th>cnt_repeat_gate_1s</th>\n",
       "      <th>cnt_repeat_gate_2s</th>\n",
       "      <th>cnt_repeat_gate_3s</th>\n",
       "      <th>cnt_repeat_gate_4s</th>\n",
       "      <th>cnt_repeat_gate_ge_5s</th>\n",
       "      <th>route</th>\n",
       "      <th>temp_sec_btw_lag_1</th>\n",
       "      <th>cumtime_per_day</th>\n",
       "      <th>cumtime_at_route_per_day</th>\n",
       "      <th>most_frequent_gate_per_day</th>\n",
       "      <th>most_frequent_gate_per_week</th>\n",
       "      <th>most_frequent_route_per_day</th>\n",
       "      <th>most_frequent_route_per_week</th>\n",
       "      <th>weekly_route_avg_time</th>\n",
       "      <th>route_avg_time</th>\n",
       "    </tr>\n",
       "  </thead>\n",
       "  <tbody>\n",
       "    <tr>\n",
       "      <th>0</th>\n",
       "      <td>0</td>\n",
       "      <td>2022-07-29 10:30:17</td>\n",
       "      <td>3</td>\n",
       "      <td>2022-07-29</td>\n",
       "      <td>29</td>\n",
       "      <td>10</td>\n",
       "      <td>630</td>\n",
       "      <td>37817</td>\n",
       "      <td>30</td>\n",
       "      <td>4</td>\n",
       "      <td>False</td>\n",
       "      <td>morning</td>\n",
       "      <td>False</td>\n",
       "      <td>False</td>\n",
       "      <td>12</td>\n",
       "      <td>4</td>\n",
       "      <td>0.33</td>\n",
       "      <td>17</td>\n",
       "      <td>17</td>\n",
       "      <td>1.00</td>\n",
       "      <td>1</td>\n",
       "      <td>630</td>\n",
       "      <td>1126</td>\n",
       "      <td>496</td>\n",
       "      <td>3</td>\n",
       "      <td>4</td>\n",
       "      <td>496</td>\n",
       "      <td>1.00</td>\n",
       "      <td>-100</td>\n",
       "      <td>3</td>\n",
       "      <td>-1000</td>\n",
       "      <td>-1</td>\n",
       "      <td>-100</td>\n",
       "      <td>11</td>\n",
       "      <td>-1000</td>\n",
       "      <td>-10144</td>\n",
       "      <td>-100</td>\n",
       "      <td>6</td>\n",
       "      <td>-1000</td>\n",
       "      <td>-10171</td>\n",
       "      <td>-100</td>\n",
       "      <td>6</td>\n",
       "      <td>-1000</td>\n",
       "      <td>-10172</td>\n",
       "      <td>-100</td>\n",
       "      <td>7</td>\n",
       "      <td>-1000</td>\n",
       "      <td>-13798</td>\n",
       "      <td>False</td>\n",
       "      <td>False</td>\n",
       "      <td>False</td>\n",
       "      <td>False</td>\n",
       "      <td>False</td>\n",
       "      <td>2</td>\n",
       "      <td>2</td>\n",
       "      <td>0</td>\n",
       "      <td>0</td>\n",
       "      <td>0</td>\n",
       "      <td>not_route</td>\n",
       "      <td>0</td>\n",
       "      <td>0</td>\n",
       "      <td>0</td>\n",
       "      <td>3</td>\n",
       "      <td>3</td>\n",
       "      <td>[3, 3]</td>\n",
       "      <td>[3, 3]</td>\n",
       "      <td>0.00</td>\n",
       "      <td>0.00</td>\n",
       "    </tr>\n",
       "    <tr>\n",
       "      <th>1</th>\n",
       "      <td>0</td>\n",
       "      <td>2022-07-29 10:30:18</td>\n",
       "      <td>3</td>\n",
       "      <td>2022-07-29</td>\n",
       "      <td>29</td>\n",
       "      <td>10</td>\n",
       "      <td>630</td>\n",
       "      <td>37818</td>\n",
       "      <td>30</td>\n",
       "      <td>4</td>\n",
       "      <td>False</td>\n",
       "      <td>morning</td>\n",
       "      <td>False</td>\n",
       "      <td>False</td>\n",
       "      <td>12</td>\n",
       "      <td>4</td>\n",
       "      <td>0.33</td>\n",
       "      <td>17</td>\n",
       "      <td>17</td>\n",
       "      <td>1.00</td>\n",
       "      <td>1</td>\n",
       "      <td>630</td>\n",
       "      <td>1126</td>\n",
       "      <td>496</td>\n",
       "      <td>3</td>\n",
       "      <td>4</td>\n",
       "      <td>496</td>\n",
       "      <td>1.00</td>\n",
       "      <td>3</td>\n",
       "      <td>11</td>\n",
       "      <td>1</td>\n",
       "      <td>-10143</td>\n",
       "      <td>-100</td>\n",
       "      <td>6</td>\n",
       "      <td>-1000</td>\n",
       "      <td>-10170</td>\n",
       "      <td>-100</td>\n",
       "      <td>6</td>\n",
       "      <td>-1000</td>\n",
       "      <td>-10171</td>\n",
       "      <td>-100</td>\n",
       "      <td>7</td>\n",
       "      <td>-1000</td>\n",
       "      <td>-13797</td>\n",
       "      <td>-100</td>\n",
       "      <td>3</td>\n",
       "      <td>-1000</td>\n",
       "      <td>-13868</td>\n",
       "      <td>True</td>\n",
       "      <td>False</td>\n",
       "      <td>False</td>\n",
       "      <td>False</td>\n",
       "      <td>False</td>\n",
       "      <td>2</td>\n",
       "      <td>2</td>\n",
       "      <td>0</td>\n",
       "      <td>0</td>\n",
       "      <td>0</td>\n",
       "      <td>[3, 3]</td>\n",
       "      <td>1</td>\n",
       "      <td>1</td>\n",
       "      <td>1</td>\n",
       "      <td>3</td>\n",
       "      <td>3</td>\n",
       "      <td>[3, 3]</td>\n",
       "      <td>[3, 3]</td>\n",
       "      <td>1.50</td>\n",
       "      <td>1.92</td>\n",
       "    </tr>\n",
       "    <tr>\n",
       "      <th>2</th>\n",
       "      <td>0</td>\n",
       "      <td>2022-07-29 13:19:21</td>\n",
       "      <td>11</td>\n",
       "      <td>2022-07-29</td>\n",
       "      <td>29</td>\n",
       "      <td>13</td>\n",
       "      <td>799</td>\n",
       "      <td>47961</td>\n",
       "      <td>30</td>\n",
       "      <td>4</td>\n",
       "      <td>False</td>\n",
       "      <td>afternoon</td>\n",
       "      <td>False</td>\n",
       "      <td>False</td>\n",
       "      <td>12</td>\n",
       "      <td>2</td>\n",
       "      <td>0.17</td>\n",
       "      <td>17</td>\n",
       "      <td>17</td>\n",
       "      <td>1.00</td>\n",
       "      <td>1</td>\n",
       "      <td>630</td>\n",
       "      <td>1126</td>\n",
       "      <td>496</td>\n",
       "      <td>3</td>\n",
       "      <td>4</td>\n",
       "      <td>496</td>\n",
       "      <td>1.00</td>\n",
       "      <td>3</td>\n",
       "      <td>6</td>\n",
       "      <td>10143</td>\n",
       "      <td>-27</td>\n",
       "      <td>3</td>\n",
       "      <td>6</td>\n",
       "      <td>10144</td>\n",
       "      <td>-28</td>\n",
       "      <td>-100</td>\n",
       "      <td>7</td>\n",
       "      <td>-1000</td>\n",
       "      <td>-3654</td>\n",
       "      <td>-100</td>\n",
       "      <td>3</td>\n",
       "      <td>-1000</td>\n",
       "      <td>-3725</td>\n",
       "      <td>-100</td>\n",
       "      <td>3</td>\n",
       "      <td>-1000</td>\n",
       "      <td>-3727</td>\n",
       "      <td>False</td>\n",
       "      <td>False</td>\n",
       "      <td>False</td>\n",
       "      <td>False</td>\n",
       "      <td>False</td>\n",
       "      <td>2</td>\n",
       "      <td>2</td>\n",
       "      <td>0</td>\n",
       "      <td>0</td>\n",
       "      <td>0</td>\n",
       "      <td>[3, 11]</td>\n",
       "      <td>10143</td>\n",
       "      <td>10144</td>\n",
       "      <td>10143</td>\n",
       "      <td>3</td>\n",
       "      <td>3</td>\n",
       "      <td>[3, 3]</td>\n",
       "      <td>[3, 3]</td>\n",
       "      <td>10,143.00</td>\n",
       "      <td>12,404.29</td>\n",
       "    </tr>\n",
       "  </tbody>\n",
       "</table>\n",
       "</div>"
      ],
      "text/plain": [
       "   user_id                  ts  gate_id       date  day_of_month  hour  \\\n",
       "0        0 2022-07-29 10:30:17        3 2022-07-29            29    10   \n",
       "1        0 2022-07-29 10:30:18        3 2022-07-29            29    10   \n",
       "2        0 2022-07-29 13:19:21       11 2022-07-29            29    13   \n",
       "\n",
       "   total_minutes  total_seconds  week_number  day_of_week  is_weekend  \\\n",
       "0            630          37817           30            4       False   \n",
       "1            630          37818           30            4       False   \n",
       "2            799          47961           30            4       False   \n",
       "\n",
       "  time_of_day  is_month_start  is_month_end  pass_cnt_per_day  \\\n",
       "0     morning           False         False                12   \n",
       "1     morning           False         False                12   \n",
       "2   afternoon           False         False                12   \n",
       "\n",
       "   daily_gate_pass_count  probability_gate_id  cnt_users_per_day  \\\n",
       "0                      4                 0.33                 17   \n",
       "1                      4                 0.33                 17   \n",
       "2                      2                 0.17                 17   \n",
       "\n",
       "   cnt_users_per_week  daily_attendance_index  cnt_days_per_week  entry_time  \\\n",
       "0                  17                    1.00                  1         630   \n",
       "1                  17                    1.00                  1         630   \n",
       "2                  17                    1.00                  1         630   \n",
       "\n",
       "   exit_time  working_time_per_day  entrance_gate_id  exit_gate_id  \\\n",
       "0       1126                   496                 3             4   \n",
       "1       1126                   496                 3             4   \n",
       "2       1126                   496                 3             4   \n",
       "\n",
       "   working_time_per_week  daily_workload_index  gate_id_lag_1  gate_id_1  \\\n",
       "0                    496                  1.00           -100          3   \n",
       "1                    496                  1.00              3         11   \n",
       "2                    496                  1.00              3          6   \n",
       "\n",
       "   sec_btw_lag_1  sec_btw_1  gate_id_lag_2  gate_id_2  sec_btw_lag_2  \\\n",
       "0          -1000         -1           -100         11          -1000   \n",
       "1              1     -10143           -100          6          -1000   \n",
       "2          10143        -27              3          6          10144   \n",
       "\n",
       "   sec_btw_2  gate_id_lag_3  gate_id_3  sec_btw_lag_3  sec_btw_3  \\\n",
       "0     -10144           -100          6          -1000     -10171   \n",
       "1     -10170           -100          6          -1000     -10171   \n",
       "2        -28           -100          7          -1000      -3654   \n",
       "\n",
       "   gate_id_lag_4  gate_id_4  sec_btw_lag_4  sec_btw_4  gate_id_lag_5  \\\n",
       "0           -100          6          -1000     -10172           -100   \n",
       "1           -100          7          -1000     -13797           -100   \n",
       "2           -100          3          -1000      -3725           -100   \n",
       "\n",
       "   gate_id_5  sec_btw_lag_5  sec_btw_5  repeat_gate_1s  repeat_gate_2s  \\\n",
       "0          7          -1000     -13798           False           False   \n",
       "1          3          -1000     -13868            True           False   \n",
       "2          3          -1000      -3727           False           False   \n",
       "\n",
       "   repeat_gate_3s  repeat_gate_4s  repeat_gate_ge_5s  cnt_repeat_gate_1s  \\\n",
       "0           False           False              False                   2   \n",
       "1           False           False              False                   2   \n",
       "2           False           False              False                   2   \n",
       "\n",
       "   cnt_repeat_gate_2s  cnt_repeat_gate_3s  cnt_repeat_gate_4s  \\\n",
       "0                   2                   0                   0   \n",
       "1                   2                   0                   0   \n",
       "2                   2                   0                   0   \n",
       "\n",
       "   cnt_repeat_gate_ge_5s      route  temp_sec_btw_lag_1  cumtime_per_day  \\\n",
       "0                      0  not_route                   0                0   \n",
       "1                      0     [3, 3]                   1                1   \n",
       "2                      0    [3, 11]               10143            10144   \n",
       "\n",
       "   cumtime_at_route_per_day  most_frequent_gate_per_day  \\\n",
       "0                         0                           3   \n",
       "1                         1                           3   \n",
       "2                     10143                           3   \n",
       "\n",
       "   most_frequent_gate_per_week most_frequent_route_per_day  \\\n",
       "0                            3                      [3, 3]   \n",
       "1                            3                      [3, 3]   \n",
       "2                            3                      [3, 3]   \n",
       "\n",
       "  most_frequent_route_per_week  weekly_route_avg_time  route_avg_time  \n",
       "0                       [3, 3]                   0.00            0.00  \n",
       "1                       [3, 3]                   1.50            1.92  \n",
       "2                       [3, 3]              10,143.00       12,404.29  "
      ]
     },
     "execution_count": 35,
     "metadata": {},
     "output_type": "execute_result"
    }
   ],
   "source": [
    "df_train = make_features(df_train)\n",
    "df_train.head(3)"
   ]
  },
  {
   "cell_type": "code",
   "execution_count": 36,
   "metadata": {},
   "outputs": [
    {
     "data": {
      "text/plain": [
       "(27936, 68)"
      ]
     },
     "execution_count": 36,
     "metadata": {},
     "output_type": "execute_result"
    }
   ],
   "source": [
    "df_train.shape"
   ]
  },
  {
   "cell_type": "code",
   "execution_count": 37,
   "metadata": {},
   "outputs": [
    {
     "data": {
      "text/html": [
       "<div>\n",
       "<style scoped>\n",
       "    .dataframe tbody tr th:only-of-type {\n",
       "        vertical-align: middle;\n",
       "    }\n",
       "\n",
       "    .dataframe tbody tr th {\n",
       "        vertical-align: top;\n",
       "    }\n",
       "\n",
       "    .dataframe thead th {\n",
       "        text-align: right;\n",
       "    }\n",
       "</style>\n",
       "<table border=\"1\" class=\"dataframe\">\n",
       "  <thead>\n",
       "    <tr style=\"text-align: right;\">\n",
       "      <th></th>\n",
       "      <th>ts</th>\n",
       "      <th>gate_id</th>\n",
       "      <th>user_id</th>\n",
       "      <th>date</th>\n",
       "      <th>day_of_month</th>\n",
       "      <th>hour</th>\n",
       "      <th>total_minutes</th>\n",
       "      <th>total_seconds</th>\n",
       "      <th>week_number</th>\n",
       "      <th>day_of_week</th>\n",
       "      <th>is_weekend</th>\n",
       "      <th>time_of_day</th>\n",
       "      <th>is_month_start</th>\n",
       "      <th>is_month_end</th>\n",
       "      <th>pass_cnt_per_day</th>\n",
       "      <th>daily_gate_pass_count</th>\n",
       "      <th>probability_gate_id</th>\n",
       "      <th>cnt_users_per_day</th>\n",
       "      <th>cnt_users_per_week</th>\n",
       "      <th>daily_attendance_index</th>\n",
       "      <th>cnt_days_per_week</th>\n",
       "      <th>entry_time</th>\n",
       "      <th>exit_time</th>\n",
       "      <th>working_time_per_day</th>\n",
       "      <th>entrance_gate_id</th>\n",
       "      <th>exit_gate_id</th>\n",
       "      <th>working_time_per_week</th>\n",
       "      <th>daily_workload_index</th>\n",
       "      <th>gate_id_lag_1</th>\n",
       "      <th>gate_id_1</th>\n",
       "      <th>sec_btw_lag_1</th>\n",
       "      <th>sec_btw_1</th>\n",
       "      <th>gate_id_lag_2</th>\n",
       "      <th>gate_id_2</th>\n",
       "      <th>sec_btw_lag_2</th>\n",
       "      <th>sec_btw_2</th>\n",
       "      <th>gate_id_lag_3</th>\n",
       "      <th>gate_id_3</th>\n",
       "      <th>sec_btw_lag_3</th>\n",
       "      <th>sec_btw_3</th>\n",
       "      <th>gate_id_lag_4</th>\n",
       "      <th>gate_id_4</th>\n",
       "      <th>sec_btw_lag_4</th>\n",
       "      <th>sec_btw_4</th>\n",
       "      <th>gate_id_lag_5</th>\n",
       "      <th>gate_id_5</th>\n",
       "      <th>sec_btw_lag_5</th>\n",
       "      <th>sec_btw_5</th>\n",
       "      <th>repeat_gate_1s</th>\n",
       "      <th>repeat_gate_2s</th>\n",
       "      <th>repeat_gate_3s</th>\n",
       "      <th>repeat_gate_4s</th>\n",
       "      <th>repeat_gate_ge_5s</th>\n",
       "      <th>cnt_repeat_gate_1s</th>\n",
       "      <th>cnt_repeat_gate_2s</th>\n",
       "      <th>cnt_repeat_gate_3s</th>\n",
       "      <th>cnt_repeat_gate_4s</th>\n",
       "      <th>cnt_repeat_gate_ge_5s</th>\n",
       "      <th>route</th>\n",
       "      <th>temp_sec_btw_lag_1</th>\n",
       "      <th>cumtime_per_day</th>\n",
       "      <th>cumtime_at_route_per_day</th>\n",
       "      <th>most_frequent_gate_per_day</th>\n",
       "      <th>most_frequent_gate_per_week</th>\n",
       "      <th>most_frequent_route_per_day</th>\n",
       "      <th>most_frequent_route_per_week</th>\n",
       "      <th>weekly_route_avg_time</th>\n",
       "      <th>route_avg_time</th>\n",
       "    </tr>\n",
       "  </thead>\n",
       "  <tbody>\n",
       "    <tr>\n",
       "      <th>0</th>\n",
       "      <td>2023-01-04 11:07:00</td>\n",
       "      <td>15</td>\n",
       "      <td>aucroc</td>\n",
       "      <td>2023-01-04</td>\n",
       "      <td>4</td>\n",
       "      <td>11</td>\n",
       "      <td>667</td>\n",
       "      <td>40020</td>\n",
       "      <td>1</td>\n",
       "      <td>2</td>\n",
       "      <td>False</td>\n",
       "      <td>morning</td>\n",
       "      <td>False</td>\n",
       "      <td>False</td>\n",
       "      <td>9</td>\n",
       "      <td>2</td>\n",
       "      <td>0.22</td>\n",
       "      <td>21</td>\n",
       "      <td>27</td>\n",
       "      <td>0.78</td>\n",
       "      <td>2</td>\n",
       "      <td>667</td>\n",
       "      <td>1103</td>\n",
       "      <td>436</td>\n",
       "      <td>15</td>\n",
       "      <td>15</td>\n",
       "      <td>632</td>\n",
       "      <td>0.69</td>\n",
       "      <td>-100</td>\n",
       "      <td>9</td>\n",
       "      <td>-1000</td>\n",
       "      <td>-164</td>\n",
       "      <td>-100</td>\n",
       "      <td>5</td>\n",
       "      <td>-1000</td>\n",
       "      <td>-174</td>\n",
       "      <td>-100</td>\n",
       "      <td>5</td>\n",
       "      <td>-1000</td>\n",
       "      <td>-175</td>\n",
       "      <td>-100</td>\n",
       "      <td>10</td>\n",
       "      <td>-1000</td>\n",
       "      <td>-192</td>\n",
       "      <td>-100</td>\n",
       "      <td>11</td>\n",
       "      <td>-1000</td>\n",
       "      <td>-25885</td>\n",
       "      <td>False</td>\n",
       "      <td>False</td>\n",
       "      <td>False</td>\n",
       "      <td>False</td>\n",
       "      <td>False</td>\n",
       "      <td>1</td>\n",
       "      <td>1</td>\n",
       "      <td>0</td>\n",
       "      <td>0</td>\n",
       "      <td>0</td>\n",
       "      <td>not_route</td>\n",
       "      <td>0</td>\n",
       "      <td>0</td>\n",
       "      <td>0</td>\n",
       "      <td>15</td>\n",
       "      <td>5</td>\n",
       "      <td>not_route</td>\n",
       "      <td>not_route</td>\n",
       "      <td>0.00</td>\n",
       "      <td>0.00</td>\n",
       "    </tr>\n",
       "    <tr>\n",
       "      <th>1</th>\n",
       "      <td>2023-01-04 11:09:44</td>\n",
       "      <td>9</td>\n",
       "      <td>aucroc</td>\n",
       "      <td>2023-01-04</td>\n",
       "      <td>4</td>\n",
       "      <td>11</td>\n",
       "      <td>669</td>\n",
       "      <td>40184</td>\n",
       "      <td>1</td>\n",
       "      <td>2</td>\n",
       "      <td>False</td>\n",
       "      <td>morning</td>\n",
       "      <td>False</td>\n",
       "      <td>False</td>\n",
       "      <td>9</td>\n",
       "      <td>1</td>\n",
       "      <td>0.11</td>\n",
       "      <td>21</td>\n",
       "      <td>27</td>\n",
       "      <td>0.78</td>\n",
       "      <td>2</td>\n",
       "      <td>667</td>\n",
       "      <td>1103</td>\n",
       "      <td>436</td>\n",
       "      <td>15</td>\n",
       "      <td>15</td>\n",
       "      <td>632</td>\n",
       "      <td>0.69</td>\n",
       "      <td>15</td>\n",
       "      <td>5</td>\n",
       "      <td>164</td>\n",
       "      <td>-10</td>\n",
       "      <td>-100</td>\n",
       "      <td>5</td>\n",
       "      <td>-1000</td>\n",
       "      <td>-11</td>\n",
       "      <td>-100</td>\n",
       "      <td>10</td>\n",
       "      <td>-1000</td>\n",
       "      <td>-28</td>\n",
       "      <td>-100</td>\n",
       "      <td>11</td>\n",
       "      <td>-1000</td>\n",
       "      <td>-25721</td>\n",
       "      <td>-100</td>\n",
       "      <td>4</td>\n",
       "      <td>-1000</td>\n",
       "      <td>-25746</td>\n",
       "      <td>False</td>\n",
       "      <td>False</td>\n",
       "      <td>False</td>\n",
       "      <td>False</td>\n",
       "      <td>False</td>\n",
       "      <td>1</td>\n",
       "      <td>1</td>\n",
       "      <td>0</td>\n",
       "      <td>0</td>\n",
       "      <td>0</td>\n",
       "      <td>[9, 15]</td>\n",
       "      <td>164</td>\n",
       "      <td>164</td>\n",
       "      <td>164</td>\n",
       "      <td>15</td>\n",
       "      <td>5</td>\n",
       "      <td>not_route</td>\n",
       "      <td>not_route</td>\n",
       "      <td>164.00</td>\n",
       "      <td>211.33</td>\n",
       "    </tr>\n",
       "    <tr>\n",
       "      <th>2</th>\n",
       "      <td>2023-01-04 11:09:54</td>\n",
       "      <td>5</td>\n",
       "      <td>aucroc</td>\n",
       "      <td>2023-01-04</td>\n",
       "      <td>4</td>\n",
       "      <td>11</td>\n",
       "      <td>669</td>\n",
       "      <td>40194</td>\n",
       "      <td>1</td>\n",
       "      <td>2</td>\n",
       "      <td>False</td>\n",
       "      <td>morning</td>\n",
       "      <td>False</td>\n",
       "      <td>False</td>\n",
       "      <td>9</td>\n",
       "      <td>2</td>\n",
       "      <td>0.22</td>\n",
       "      <td>21</td>\n",
       "      <td>27</td>\n",
       "      <td>0.78</td>\n",
       "      <td>2</td>\n",
       "      <td>667</td>\n",
       "      <td>1103</td>\n",
       "      <td>436</td>\n",
       "      <td>15</td>\n",
       "      <td>15</td>\n",
       "      <td>632</td>\n",
       "      <td>0.69</td>\n",
       "      <td>9</td>\n",
       "      <td>5</td>\n",
       "      <td>10</td>\n",
       "      <td>-1</td>\n",
       "      <td>15</td>\n",
       "      <td>10</td>\n",
       "      <td>174</td>\n",
       "      <td>-18</td>\n",
       "      <td>-100</td>\n",
       "      <td>11</td>\n",
       "      <td>-1000</td>\n",
       "      <td>-25711</td>\n",
       "      <td>-100</td>\n",
       "      <td>4</td>\n",
       "      <td>-1000</td>\n",
       "      <td>-25736</td>\n",
       "      <td>-100</td>\n",
       "      <td>4</td>\n",
       "      <td>-1000</td>\n",
       "      <td>-25738</td>\n",
       "      <td>False</td>\n",
       "      <td>False</td>\n",
       "      <td>False</td>\n",
       "      <td>False</td>\n",
       "      <td>False</td>\n",
       "      <td>1</td>\n",
       "      <td>1</td>\n",
       "      <td>0</td>\n",
       "      <td>0</td>\n",
       "      <td>0</td>\n",
       "      <td>[5, 9]</td>\n",
       "      <td>10</td>\n",
       "      <td>174</td>\n",
       "      <td>10</td>\n",
       "      <td>15</td>\n",
       "      <td>5</td>\n",
       "      <td>not_route</td>\n",
       "      <td>not_route</td>\n",
       "      <td>14.50</td>\n",
       "      <td>14.50</td>\n",
       "    </tr>\n",
       "  </tbody>\n",
       "</table>\n",
       "</div>"
      ],
      "text/plain": [
       "                   ts  gate_id user_id       date  day_of_month  hour  \\\n",
       "0 2023-01-04 11:07:00       15  aucroc 2023-01-04             4    11   \n",
       "1 2023-01-04 11:09:44        9  aucroc 2023-01-04             4    11   \n",
       "2 2023-01-04 11:09:54        5  aucroc 2023-01-04             4    11   \n",
       "\n",
       "   total_minutes  total_seconds  week_number  day_of_week  is_weekend  \\\n",
       "0            667          40020            1            2       False   \n",
       "1            669          40184            1            2       False   \n",
       "2            669          40194            1            2       False   \n",
       "\n",
       "  time_of_day  is_month_start  is_month_end  pass_cnt_per_day  \\\n",
       "0     morning           False         False                 9   \n",
       "1     morning           False         False                 9   \n",
       "2     morning           False         False                 9   \n",
       "\n",
       "   daily_gate_pass_count  probability_gate_id  cnt_users_per_day  \\\n",
       "0                      2                 0.22                 21   \n",
       "1                      1                 0.11                 21   \n",
       "2                      2                 0.22                 21   \n",
       "\n",
       "   cnt_users_per_week  daily_attendance_index  cnt_days_per_week  entry_time  \\\n",
       "0                  27                    0.78                  2         667   \n",
       "1                  27                    0.78                  2         667   \n",
       "2                  27                    0.78                  2         667   \n",
       "\n",
       "   exit_time  working_time_per_day  entrance_gate_id  exit_gate_id  \\\n",
       "0       1103                   436                15            15   \n",
       "1       1103                   436                15            15   \n",
       "2       1103                   436                15            15   \n",
       "\n",
       "   working_time_per_week  daily_workload_index  gate_id_lag_1  gate_id_1  \\\n",
       "0                    632                  0.69           -100          9   \n",
       "1                    632                  0.69             15          5   \n",
       "2                    632                  0.69              9          5   \n",
       "\n",
       "   sec_btw_lag_1  sec_btw_1  gate_id_lag_2  gate_id_2  sec_btw_lag_2  \\\n",
       "0          -1000       -164           -100          5          -1000   \n",
       "1            164        -10           -100          5          -1000   \n",
       "2             10         -1             15         10            174   \n",
       "\n",
       "   sec_btw_2  gate_id_lag_3  gate_id_3  sec_btw_lag_3  sec_btw_3  \\\n",
       "0       -174           -100          5          -1000       -175   \n",
       "1        -11           -100         10          -1000        -28   \n",
       "2        -18           -100         11          -1000     -25711   \n",
       "\n",
       "   gate_id_lag_4  gate_id_4  sec_btw_lag_4  sec_btw_4  gate_id_lag_5  \\\n",
       "0           -100         10          -1000       -192           -100   \n",
       "1           -100         11          -1000     -25721           -100   \n",
       "2           -100          4          -1000     -25736           -100   \n",
       "\n",
       "   gate_id_5  sec_btw_lag_5  sec_btw_5  repeat_gate_1s  repeat_gate_2s  \\\n",
       "0         11          -1000     -25885           False           False   \n",
       "1          4          -1000     -25746           False           False   \n",
       "2          4          -1000     -25738           False           False   \n",
       "\n",
       "   repeat_gate_3s  repeat_gate_4s  repeat_gate_ge_5s  cnt_repeat_gate_1s  \\\n",
       "0           False           False              False                   1   \n",
       "1           False           False              False                   1   \n",
       "2           False           False              False                   1   \n",
       "\n",
       "   cnt_repeat_gate_2s  cnt_repeat_gate_3s  cnt_repeat_gate_4s  \\\n",
       "0                   1                   0                   0   \n",
       "1                   1                   0                   0   \n",
       "2                   1                   0                   0   \n",
       "\n",
       "   cnt_repeat_gate_ge_5s      route  temp_sec_btw_lag_1  cumtime_per_day  \\\n",
       "0                      0  not_route                   0                0   \n",
       "1                      0    [9, 15]                 164              164   \n",
       "2                      0     [5, 9]                  10              174   \n",
       "\n",
       "   cumtime_at_route_per_day  most_frequent_gate_per_day  \\\n",
       "0                         0                          15   \n",
       "1                       164                          15   \n",
       "2                        10                          15   \n",
       "\n",
       "   most_frequent_gate_per_week most_frequent_route_per_day  \\\n",
       "0                            5                   not_route   \n",
       "1                            5                   not_route   \n",
       "2                            5                   not_route   \n",
       "\n",
       "  most_frequent_route_per_week  weekly_route_avg_time  route_avg_time  \n",
       "0                    not_route                   0.00            0.00  \n",
       "1                    not_route                 164.00          211.33  \n",
       "2                    not_route                  14.50           14.50  "
      ]
     },
     "execution_count": 37,
     "metadata": {},
     "output_type": "execute_result"
    }
   ],
   "source": [
    "# временно переименуем колонку `user_word` на `user_id`\n",
    "df_test = df_test.rename(columns={'user_word': 'user_id'})\n",
    "\n",
    "df_test = make_features(df_test)\n",
    "# df_test = df_test.rename(columns={'user_id': 'user_word'})\n",
    "df_test.head(3)"
   ]
  },
  {
   "cell_type": "code",
   "execution_count": 38,
   "metadata": {},
   "outputs": [
    {
     "data": {
      "text/plain": [
       "(6612, 68)"
      ]
     },
     "execution_count": 38,
     "metadata": {},
     "output_type": "execute_result"
    }
   ],
   "source": [
    "df_test.shape"
   ]
  },
  {
   "cell_type": "code",
   "execution_count": 39,
   "metadata": {},
   "outputs": [
    {
     "data": {
      "text/plain": [
       "0"
      ]
     },
     "execution_count": 39,
     "metadata": {},
     "output_type": "execute_result"
    }
   ],
   "source": [
    "df_train.isna().sum().sum()"
   ]
  },
  {
   "cell_type": "code",
   "execution_count": 40,
   "metadata": {},
   "outputs": [
    {
     "data": {
      "text/plain": [
       "0"
      ]
     },
     "execution_count": 40,
     "metadata": {},
     "output_type": "execute_result"
    }
   ],
   "source": [
    "df_test.isna().sum().sum()"
   ]
  },
  {
   "cell_type": "markdown",
   "metadata": {},
   "source": [
    "# Исследовательский анализ данных"
   ]
  },
  {
   "cell_type": "markdown",
   "metadata": {},
   "source": [
    "## Повторное срабатывание турникетов"
   ]
  },
  {
   "cell_type": "code",
   "execution_count": null,
   "metadata": {},
   "outputs": [],
   "source": []
  },
  {
   "cell_type": "code",
   "execution_count": null,
   "metadata": {},
   "outputs": [],
   "source": []
  },
  {
   "cell_type": "code",
   "execution_count": null,
   "metadata": {},
   "outputs": [],
   "source": []
  },
  {
   "cell_type": "markdown",
   "metadata": {},
   "source": [
    "## Количество проходов через турникеты в неделю"
   ]
  },
  {
   "cell_type": "code",
   "execution_count": 41,
   "metadata": {},
   "outputs": [],
   "source": [
    "week_counts_train = df_train['week_number'].value_counts().sort_index().reset_index()"
   ]
  },
  {
   "cell_type": "code",
   "execution_count": 42,
   "metadata": {},
   "outputs": [
    {
     "data": {
      "image/png": "[encoded data removed]",
      "text/plain": [
       "<Figure size 1500x300 with 1 Axes>"
      ]
     },
     "metadata": {},
     "output_type": "display_data"
    }
   ],
   "source": [
    "plt.figure(figsize=(15, 3))\n",
    "sns.barplot(x='week_number', y='count', data=week_counts_train, color='purple')\n",
    "plt.title('Количество проходов через турникеты в неделю (train)')\n",
    "plt.xlabel('Номер недели')\n",
    "plt.ylabel('Количество')\n",
    "plt.tight_layout()"
   ]
  },
  {
   "cell_type": "code",
   "execution_count": 43,
   "metadata": {},
   "outputs": [
    {
     "data": {
      "text/plain": [
       "3"
      ]
     },
     "execution_count": 43,
     "metadata": {},
     "output_type": "execute_result"
    }
   ],
   "source": [
    "df_train.loc[df_train['week_number'] == 30, 'date'].nunique()"
   ]
  },
  {
   "cell_type": "code",
   "execution_count": 44,
   "metadata": {},
   "outputs": [
    {
     "data": {
      "text/plain": [
       "3"
      ]
     },
     "execution_count": 44,
     "metadata": {},
     "output_type": "execute_result"
    }
   ],
   "source": [
    "df_train.loc[df_train['week_number'] == 45, 'date'].nunique()"
   ]
  },
  {
   "cell_type": "code",
   "execution_count": 45,
   "metadata": {},
   "outputs": [
    {
     "data": {
      "text/plain": [
       "array([ 0,  1,  6, 12, 14, 15, 17, 32, 35, 37, 46, 49, 50, 54],\n",
       "      dtype=int64)"
      ]
     },
     "execution_count": 45,
     "metadata": {},
     "output_type": "execute_result"
    }
   ],
   "source": [
    "df_train.loc[df_train['week_number'] == 45, 'user_id'].unique()"
   ]
  },
  {
   "cell_type": "markdown",
   "metadata": {},
   "source": [
    "Мы видим, что 30 неделя - неполная. Поскольку при генерировании признаков мы использовали агрегацию по номеру недели, удалим данные за 30 неделю из тренировочной выборки."
   ]
  },
  {
   "cell_type": "code",
   "execution_count": 46,
   "metadata": {},
   "outputs": [
    {
     "data": {
      "text/plain": [
       "(27936, 68)"
      ]
     },
     "execution_count": 46,
     "metadata": {},
     "output_type": "execute_result"
    }
   ],
   "source": [
    "df_train.shape"
   ]
  },
  {
   "cell_type": "code",
   "execution_count": 47,
   "metadata": {},
   "outputs": [
    {
     "data": {
      "text/plain": [
       "(27378, 68)"
      ]
     },
     "execution_count": 47,
     "metadata": {},
     "output_type": "execute_result"
    }
   ],
   "source": [
    "df_train = df_train.query('week_number > 30 and week_number != 45').reset_index(drop=True)\n",
    "df_train.shape"
   ]
  },
  {
   "cell_type": "code",
   "execution_count": 48,
   "metadata": {},
   "outputs": [],
   "source": [
    "# df_train = df_train.query('week_number > 30').reset_index(drop=True)\n",
    "# df_train.shape"
   ]
  },
  {
   "cell_type": "code",
   "execution_count": 49,
   "metadata": {},
   "outputs": [
    {
     "data": {
      "text/plain": [
       "31"
      ]
     },
     "execution_count": 49,
     "metadata": {},
     "output_type": "execute_result"
    }
   ],
   "source": [
    "df_train['user_id'].nunique()"
   ]
  },
  {
   "cell_type": "code",
   "execution_count": 50,
   "metadata": {},
   "outputs": [],
   "source": [
    "week_counts_test = df_test['week_number'].value_counts().sort_index().reset_index()"
   ]
  },
  {
   "cell_type": "code",
   "execution_count": 51,
   "metadata": {},
   "outputs": [
    {
     "data": {
      "image/png": "[encoded data removed]",
      "text/plain": [
       "<Figure size 600x300 with 1 Axes>"
      ]
     },
     "metadata": {},
     "output_type": "display_data"
    }
   ],
   "source": [
    "plt.figure(figsize=(6, 3))\n",
    "sns.barplot(x='week_number', y='count', data=week_counts_test, color='purple')\n",
    "plt.title('Количество проходов через турникеты в неделю (test)')\n",
    "plt.xlabel('Номер недели')\n",
    "plt.ylabel('Количество')\n",
    "plt.tight_layout()"
   ]
  },
  {
   "cell_type": "code",
   "execution_count": 52,
   "metadata": {},
   "outputs": [
    {
     "data": {
      "text/plain": [
       "5"
      ]
     },
     "execution_count": 52,
     "metadata": {},
     "output_type": "execute_result"
    }
   ],
   "source": [
    "df_test.loc[df_test['week_number'] == 1, 'date'].nunique()"
   ]
  },
  {
   "cell_type": "code",
   "execution_count": 53,
   "metadata": {},
   "outputs": [
    {
     "data": {
      "text/plain": [
       "5"
      ]
     },
     "execution_count": 53,
     "metadata": {},
     "output_type": "execute_result"
    }
   ],
   "source": [
    "df_test.loc[df_test['week_number'] == 8, 'date'].nunique()"
   ]
  },
  {
   "cell_type": "code",
   "execution_count": 54,
   "metadata": {},
   "outputs": [
    {
     "data": {
      "text/plain": [
       "20"
      ]
     },
     "execution_count": 54,
     "metadata": {},
     "output_type": "execute_result"
    }
   ],
   "source": [
    "df_test.query('week_number >= 6')['user_id'].nunique()"
   ]
  },
  {
   "cell_type": "markdown",
   "metadata": {},
   "source": [
    "Удалим из тестовой выборки данные с 6 по 8 неделю, поскольку в этот период была маленькая активность."
   ]
  },
  {
   "cell_type": "code",
   "execution_count": 55,
   "metadata": {},
   "outputs": [
    {
     "data": {
      "text/plain": [
       "(6612, 68)"
      ]
     },
     "execution_count": 55,
     "metadata": {},
     "output_type": "execute_result"
    }
   ],
   "source": [
    "df_test.shape"
   ]
  },
  {
   "cell_type": "code",
   "execution_count": 56,
   "metadata": {},
   "outputs": [
    {
     "data": {
      "text/plain": [
       "(6040, 68)"
      ]
     },
     "execution_count": 56,
     "metadata": {},
     "output_type": "execute_result"
    }
   ],
   "source": [
    "df_test = df_test.query('week_number < 6').reset_index(drop=True)\n",
    "df_test.shape"
   ]
  },
  {
   "cell_type": "code",
   "execution_count": 57,
   "metadata": {},
   "outputs": [
    {
     "data": {
      "text/plain": [
       "34"
      ]
     },
     "execution_count": 57,
     "metadata": {},
     "output_type": "execute_result"
    }
   ],
   "source": [
    "df_test['user_id'].nunique()"
   ]
  },
  {
   "cell_type": "code",
   "execution_count": null,
   "metadata": {},
   "outputs": [],
   "source": []
  },
  {
   "cell_type": "code",
   "execution_count": 58,
   "metadata": {},
   "outputs": [],
   "source": [
    "df_train = df_train.sort_values('ts').reset_index(drop=True)\n",
    "df_test = df_test.sort_values('ts').reset_index(drop=True)"
   ]
  },
  {
   "cell_type": "code",
   "execution_count": 59,
   "metadata": {},
   "outputs": [],
   "source": [
    "# удаление вспомогательных признаков\n",
    "df_train = df_train.drop(['ts', 'date', 'week_number', 'exit_time', 'temp_sec_btw_lag_1'], axis=1)\n",
    "df_test = df_test.drop(['ts', 'date', 'week_number', 'exit_time', 'temp_sec_btw_lag_1'], axis=1)"
   ]
  },
  {
   "cell_type": "code",
   "execution_count": 60,
   "metadata": {},
   "outputs": [
    {
     "name": "stdout",
     "output_type": "stream",
     "text": [
      "<class 'pandas.core.frame.DataFrame'>\n",
      "RangeIndex: 27378 entries, 0 to 27377\n",
      "Data columns (total 63 columns):\n",
      " #   Column                        Non-Null Count  Dtype  \n",
      "---  ------                        --------------  -----  \n",
      " 0   user_id                       27378 non-null  int64  \n",
      " 1   gate_id                       27378 non-null  int64  \n",
      " 2   day_of_month                  27378 non-null  int32  \n",
      " 3   hour                          27378 non-null  int32  \n",
      " 4   total_minutes                 27378 non-null  int32  \n",
      " 5   total_seconds                 27378 non-null  int32  \n",
      " 6   day_of_week                   27378 non-null  int32  \n",
      " 7   is_weekend                    27378 non-null  bool   \n",
      " 8   time_of_day                   27378 non-null  object \n",
      " 9   is_month_start                27378 non-null  bool   \n",
      " 10  is_month_end                  27378 non-null  bool   \n",
      " 11  pass_cnt_per_day              27378 non-null  int64  \n",
      " 12  daily_gate_pass_count         27378 non-null  int64  \n",
      " 13  probability_gate_id           27378 non-null  float64\n",
      " 14  cnt_users_per_day             27378 non-null  int64  \n",
      " 15  cnt_users_per_week            27378 non-null  int64  \n",
      " 16  daily_attendance_index        27378 non-null  float64\n",
      " 17  cnt_days_per_week             27378 non-null  int64  \n",
      " 18  entry_time                    27378 non-null  int32  \n",
      " 19  working_time_per_day          27378 non-null  int32  \n",
      " 20  entrance_gate_id              27378 non-null  int64  \n",
      " 21  exit_gate_id                  27378 non-null  int64  \n",
      " 22  working_time_per_week         27378 non-null  int32  \n",
      " 23  daily_workload_index          27378 non-null  float64\n",
      " 24  gate_id_lag_1                 27378 non-null  int64  \n",
      " 25  gate_id_1                     27378 non-null  int64  \n",
      " 26  sec_btw_lag_1                 27378 non-null  int32  \n",
      " 27  sec_btw_1                     27378 non-null  int32  \n",
      " 28  gate_id_lag_2                 27378 non-null  int64  \n",
      " 29  gate_id_2                     27378 non-null  int64  \n",
      " 30  sec_btw_lag_2                 27378 non-null  int32  \n",
      " 31  sec_btw_2                     27378 non-null  int32  \n",
      " 32  gate_id_lag_3                 27378 non-null  int64  \n",
      " 33  gate_id_3                     27378 non-null  int64  \n",
      " 34  sec_btw_lag_3                 27378 non-null  int32  \n",
      " 35  sec_btw_3                     27378 non-null  int32  \n",
      " 36  gate_id_lag_4                 27378 non-null  int64  \n",
      " 37  gate_id_4                     27378 non-null  int64  \n",
      " 38  sec_btw_lag_4                 27378 non-null  int32  \n",
      " 39  sec_btw_4                     27378 non-null  int32  \n",
      " 40  gate_id_lag_5                 27378 non-null  int64  \n",
      " 41  gate_id_5                     27378 non-null  int64  \n",
      " 42  sec_btw_lag_5                 27378 non-null  int32  \n",
      " 43  sec_btw_5                     27378 non-null  int32  \n",
      " 44  repeat_gate_1s                27378 non-null  bool   \n",
      " 45  repeat_gate_2s                27378 non-null  bool   \n",
      " 46  repeat_gate_3s                27378 non-null  bool   \n",
      " 47  repeat_gate_4s                27378 non-null  bool   \n",
      " 48  repeat_gate_ge_5s             27378 non-null  bool   \n",
      " 49  cnt_repeat_gate_1s            27378 non-null  int64  \n",
      " 50  cnt_repeat_gate_2s            27378 non-null  int64  \n",
      " 51  cnt_repeat_gate_3s            27378 non-null  int64  \n",
      " 52  cnt_repeat_gate_4s            27378 non-null  int64  \n",
      " 53  cnt_repeat_gate_ge_5s         27378 non-null  int64  \n",
      " 54  route                         27378 non-null  object \n",
      " 55  cumtime_per_day               27378 non-null  int32  \n",
      " 56  cumtime_at_route_per_day      27378 non-null  int32  \n",
      " 57  most_frequent_gate_per_day    27378 non-null  int64  \n",
      " 58  most_frequent_gate_per_week   27378 non-null  int64  \n",
      " 59  most_frequent_route_per_day   27378 non-null  object \n",
      " 60  most_frequent_route_per_week  27378 non-null  object \n",
      " 61  weekly_route_avg_time         27378 non-null  float64\n",
      " 62  route_avg_time                27378 non-null  float64\n",
      "dtypes: bool(8), float64(5), int32(20), int64(26), object(4)\n",
      "memory usage: 9.6+ MB\n"
     ]
    }
   ],
   "source": [
    "df_train.info()"
   ]
  },
  {
   "cell_type": "code",
   "execution_count": 61,
   "metadata": {},
   "outputs": [
    {
     "data": {
      "text/plain": [
       "Index(['user_id', 'gate_id', 'day_of_month', 'hour', 'total_minutes',\n",
       "       'total_seconds', 'day_of_week', 'is_weekend', 'time_of_day',\n",
       "       'is_month_start', 'is_month_end', 'pass_cnt_per_day',\n",
       "       'daily_gate_pass_count', 'probability_gate_id', 'cnt_users_per_day',\n",
       "       'cnt_users_per_week', 'daily_attendance_index', 'cnt_days_per_week',\n",
       "       'entry_time', 'working_time_per_day', 'entrance_gate_id',\n",
       "       'exit_gate_id', 'working_time_per_week', 'daily_workload_index',\n",
       "       'gate_id_lag_1', 'gate_id_1', 'sec_btw_lag_1', 'sec_btw_1',\n",
       "       'gate_id_lag_2', 'gate_id_2', 'sec_btw_lag_2', 'sec_btw_2',\n",
       "       'gate_id_lag_3', 'gate_id_3', 'sec_btw_lag_3', 'sec_btw_3',\n",
       "       'gate_id_lag_4', 'gate_id_4', 'sec_btw_lag_4', 'sec_btw_4',\n",
       "       'gate_id_lag_5', 'gate_id_5', 'sec_btw_lag_5', 'sec_btw_5',\n",
       "       'repeat_gate_1s', 'repeat_gate_2s', 'repeat_gate_3s', 'repeat_gate_4s',\n",
       "       'repeat_gate_ge_5s', 'cnt_repeat_gate_1s', 'cnt_repeat_gate_2s',\n",
       "       'cnt_repeat_gate_3s', 'cnt_repeat_gate_4s', 'cnt_repeat_gate_ge_5s',\n",
       "       'route', 'cumtime_per_day', 'cumtime_at_route_per_day',\n",
       "       'most_frequent_gate_per_day', 'most_frequent_gate_per_week',\n",
       "       'most_frequent_route_per_day', 'most_frequent_route_per_week',\n",
       "       'weekly_route_avg_time', 'route_avg_time'],\n",
       "      dtype='object')"
      ]
     },
     "execution_count": 61,
     "metadata": {},
     "output_type": "execute_result"
    }
   ],
   "source": [
    "df_train.columns"
   ]
  },
  {
   "cell_type": "code",
   "execution_count": 62,
   "metadata": {},
   "outputs": [],
   "source": [
    "categorical_features = [\n",
    "       'gate_id', 'day_of_month', 'hour',\n",
    "       'day_of_week', 'is_weekend', 'time_of_day', \n",
    "       'is_month_start', 'is_month_end', 'entrance_gate_id', \n",
    "       'exit_gate_id', 'gate_id_lag_1', 'gate_id_1',\n",
    "       'gate_id_lag_2', 'gate_id_2', 'gate_id_lag_3',\n",
    "       'gate_id_3', 'gate_id_lag_4', 'gate_id_4',\n",
    "       'gate_id_lag_5', 'gate_id_5', 'repeat_gate_1s',\n",
    "       'repeat_gate_2s', 'repeat_gate_3s', 'repeat_gate_4s',\n",
    "       'repeat_gate_ge_5s', 'route', 'most_frequent_gate_per_day',\n",
    "       'most_frequent_gate_per_week', 'most_frequent_route_per_day', 'most_frequent_route_per_week'\n",
    "]"
   ]
  },
  {
   "cell_type": "markdown",
   "metadata": {},
   "source": [
    "## Оценка важности признаков"
   ]
  },
  {
   "cell_type": "markdown",
   "metadata": {},
   "source": [
    "### Корреляция между признаками"
   ]
  },
  {
   "cell_type": "code",
   "execution_count": 63,
   "metadata": {},
   "outputs": [],
   "source": [
    "# %%time\n",
    "# phik_overview = df_train.phik_matrix().round(2).sort_values('user_id', ascending=False)\n",
    "# phik_overview"
   ]
  },
  {
   "cell_type": "code",
   "execution_count": 64,
   "metadata": {},
   "outputs": [],
   "source": [
    "# # отберем фичи, у которых корреляция с целевым признаком более 0.2\n",
    "# df_train = df_train[phik_overview[phik_overview['user_id'] > 0.2].index]"
   ]
  },
  {
   "cell_type": "code",
   "execution_count": 65,
   "metadata": {},
   "outputs": [],
   "source": [
    "# fig = plt.figure(figsize=(45,15))\n",
    "# sns.heatmap(phik_overview, vmin=0, vmax=1, cmap='Purples', annot=True, linewidths=0.1, fmt='.2f')\n",
    "# plt.suptitle('Матрица Phi_K-корреляций', y=0.92);"
   ]
  },
  {
   "cell_type": "code",
   "execution_count": 66,
   "metadata": {},
   "outputs": [],
   "source": [
    "# %%time\n",
    "# significance_overview = df_train.significance_matrix().fillna(0).round(1).sort_values('user_id', ascending=False)\n",
    "# significance_overview"
   ]
  },
  {
   "cell_type": "code",
   "execution_count": 67,
   "metadata": {},
   "outputs": [],
   "source": [
    "# fig = plt.figure(figsize=(45,15))\n",
    "# sns.heatmap(significance_overview, vmin=-5, vmax=5, cmap='Purples', annot=True, linewidths=0.1, fmt='.1f')\n",
    "# plt.suptitle('Значимость коэффициентов', y=0.92);"
   ]
  },
  {
   "cell_type": "code",
   "execution_count": null,
   "metadata": {},
   "outputs": [],
   "source": []
  },
  {
   "cell_type": "markdown",
   "metadata": {},
   "source": [
    "# Построение моделей"
   ]
  },
  {
   "cell_type": "markdown",
   "metadata": {},
   "source": [
    "## Разделение исходных данных на выборки"
   ]
  },
  {
   "cell_type": "code",
   "execution_count": 68,
   "metadata": {},
   "outputs": [
    {
     "name": "stdout",
     "output_type": "stream",
     "text": [
      "<class 'pandas.core.frame.DataFrame'>\n",
      "RangeIndex: 27378 entries, 0 to 27377\n",
      "Data columns (total 63 columns):\n",
      " #   Column                        Non-Null Count  Dtype  \n",
      "---  ------                        --------------  -----  \n",
      " 0   user_id                       27378 non-null  int64  \n",
      " 1   gate_id                       27378 non-null  int64  \n",
      " 2   day_of_month                  27378 non-null  int32  \n",
      " 3   hour                          27378 non-null  int32  \n",
      " 4   total_minutes                 27378 non-null  int32  \n",
      " 5   total_seconds                 27378 non-null  int32  \n",
      " 6   day_of_week                   27378 non-null  int32  \n",
      " 7   is_weekend                    27378 non-null  bool   \n",
      " 8   time_of_day                   27378 non-null  object \n",
      " 9   is_month_start                27378 non-null  bool   \n",
      " 10  is_month_end                  27378 non-null  bool   \n",
      " 11  pass_cnt_per_day              27378 non-null  int64  \n",
      " 12  daily_gate_pass_count         27378 non-null  int64  \n",
      " 13  probability_gate_id           27378 non-null  float64\n",
      " 14  cnt_users_per_day             27378 non-null  int64  \n",
      " 15  cnt_users_per_week            27378 non-null  int64  \n",
      " 16  daily_attendance_index        27378 non-null  float64\n",
      " 17  cnt_days_per_week             27378 non-null  int64  \n",
      " 18  entry_time                    27378 non-null  int32  \n",
      " 19  working_time_per_day          27378 non-null  int32  \n",
      " 20  entrance_gate_id              27378 non-null  int64  \n",
      " 21  exit_gate_id                  27378 non-null  int64  \n",
      " 22  working_time_per_week         27378 non-null  int32  \n",
      " 23  daily_workload_index          27378 non-null  float64\n",
      " 24  gate_id_lag_1                 27378 non-null  int64  \n",
      " 25  gate_id_1                     27378 non-null  int64  \n",
      " 26  sec_btw_lag_1                 27378 non-null  int32  \n",
      " 27  sec_btw_1                     27378 non-null  int32  \n",
      " 28  gate_id_lag_2                 27378 non-null  int64  \n",
      " 29  gate_id_2                     27378 non-null  int64  \n",
      " 30  sec_btw_lag_2                 27378 non-null  int32  \n",
      " 31  sec_btw_2                     27378 non-null  int32  \n",
      " 32  gate_id_lag_3                 27378 non-null  int64  \n",
      " 33  gate_id_3                     27378 non-null  int64  \n",
      " 34  sec_btw_lag_3                 27378 non-null  int32  \n",
      " 35  sec_btw_3                     27378 non-null  int32  \n",
      " 36  gate_id_lag_4                 27378 non-null  int64  \n",
      " 37  gate_id_4                     27378 non-null  int64  \n",
      " 38  sec_btw_lag_4                 27378 non-null  int32  \n",
      " 39  sec_btw_4                     27378 non-null  int32  \n",
      " 40  gate_id_lag_5                 27378 non-null  int64  \n",
      " 41  gate_id_5                     27378 non-null  int64  \n",
      " 42  sec_btw_lag_5                 27378 non-null  int32  \n",
      " 43  sec_btw_5                     27378 non-null  int32  \n",
      " 44  repeat_gate_1s                27378 non-null  bool   \n",
      " 45  repeat_gate_2s                27378 non-null  bool   \n",
      " 46  repeat_gate_3s                27378 non-null  bool   \n",
      " 47  repeat_gate_4s                27378 non-null  bool   \n",
      " 48  repeat_gate_ge_5s             27378 non-null  bool   \n",
      " 49  cnt_repeat_gate_1s            27378 non-null  int64  \n",
      " 50  cnt_repeat_gate_2s            27378 non-null  int64  \n",
      " 51  cnt_repeat_gate_3s            27378 non-null  int64  \n",
      " 52  cnt_repeat_gate_4s            27378 non-null  int64  \n",
      " 53  cnt_repeat_gate_ge_5s         27378 non-null  int64  \n",
      " 54  route                         27378 non-null  object \n",
      " 55  cumtime_per_day               27378 non-null  int32  \n",
      " 56  cumtime_at_route_per_day      27378 non-null  int32  \n",
      " 57  most_frequent_gate_per_day    27378 non-null  int64  \n",
      " 58  most_frequent_gate_per_week   27378 non-null  int64  \n",
      " 59  most_frequent_route_per_day   27378 non-null  object \n",
      " 60  most_frequent_route_per_week  27378 non-null  object \n",
      " 61  weekly_route_avg_time         27378 non-null  float64\n",
      " 62  route_avg_time                27378 non-null  float64\n",
      "dtypes: bool(8), float64(5), int32(20), int64(26), object(4)\n",
      "memory usage: 9.6+ MB\n"
     ]
    }
   ],
   "source": [
    "df_train.info()"
   ]
  },
  {
   "cell_type": "code",
   "execution_count": 69,
   "metadata": {},
   "outputs": [],
   "source": [
    "y = df_train['user_id']\n",
    "X = df_train.drop(['user_id'], axis=1)"
   ]
  },
  {
   "cell_type": "code",
   "execution_count": 70,
   "metadata": {},
   "outputs": [
    {
     "name": "stdout",
     "output_type": "stream",
     "text": [
      "['gate_id', 'day_of_month', 'hour', 'day_of_week', 'is_weekend', 'time_of_day', 'is_month_start', 'is_month_end', 'entrance_gate_id', 'exit_gate_id', 'gate_id_lag_1', 'gate_id_1', 'gate_id_lag_2', 'gate_id_2', 'gate_id_lag_3', 'gate_id_3', 'gate_id_lag_4', 'gate_id_4', 'gate_id_lag_5', 'gate_id_5', 'repeat_gate_1s', 'repeat_gate_2s', 'repeat_gate_3s', 'repeat_gate_4s', 'repeat_gate_ge_5s', 'route', 'most_frequent_gate_per_day', 'most_frequent_gate_per_week', 'most_frequent_route_per_day', 'most_frequent_route_per_week']\n"
     ]
    }
   ],
   "source": [
    "categorical_columns = categorical_features\n",
    "print(categorical_columns)"
   ]
  },
  {
   "cell_type": "code",
   "execution_count": 71,
   "metadata": {},
   "outputs": [
    {
     "data": {
      "text/plain": [
       "30"
      ]
     },
     "execution_count": 71,
     "metadata": {},
     "output_type": "execute_result"
    }
   ],
   "source": [
    "len(categorical_columns)"
   ]
  },
  {
   "cell_type": "code",
   "execution_count": 72,
   "metadata": {},
   "outputs": [
    {
     "name": "stdout",
     "output_type": "stream",
     "text": [
      "['cnt_repeat_gate_2s', 'daily_workload_index', 'sec_btw_lag_3', 'pass_cnt_per_day', 'weekly_route_avg_time', 'sec_btw_2', 'entry_time', 'working_time_per_week', 'sec_btw_1', 'sec_btw_lag_2', 'cnt_repeat_gate_1s', 'sec_btw_3', 'sec_btw_lag_1', 'total_minutes', 'daily_attendance_index', 'cnt_repeat_gate_4s', 'probability_gate_id', 'sec_btw_4', 'daily_gate_pass_count', 'cnt_days_per_week', 'cnt_repeat_gate_ge_5s', 'route_avg_time', 'total_seconds', 'working_time_per_day', 'cnt_users_per_week', 'sec_btw_lag_4', 'sec_btw_lag_5', 'cumtime_at_route_per_day', 'cnt_users_per_day', 'cnt_repeat_gate_3s', 'sec_btw_5', 'cumtime_per_day']\n"
     ]
    }
   ],
   "source": [
    "numerical_columns = list(set(X.columns) - set(categorical_columns))\n",
    "print(numerical_columns)"
   ]
  },
  {
   "cell_type": "code",
   "execution_count": 73,
   "metadata": {},
   "outputs": [
    {
     "data": {
      "text/plain": [
       "32"
      ]
     },
     "execution_count": 73,
     "metadata": {},
     "output_type": "execute_result"
    }
   ],
   "source": [
    "len(numerical_columns)"
   ]
  },
  {
   "cell_type": "code",
   "execution_count": 74,
   "metadata": {},
   "outputs": [],
   "source": [
    "X = X[categorical_columns + numerical_columns]"
   ]
  },
  {
   "cell_type": "code",
   "execution_count": 75,
   "metadata": {},
   "outputs": [],
   "source": [
    "# # формируем массив индексов категориальных признаков\n",
    "# categorical_features_indices = np.where(X.dtypes == 'category')[0]\n",
    "# categorical_features_indices"
   ]
  },
  {
   "cell_type": "code",
   "execution_count": 76,
   "metadata": {},
   "outputs": [
    {
     "name": "stdout",
     "output_type": "stream",
     "text": [
      "[0, 1, 2, 3, 4, 5, 6, 7, 8, 9, 10, 11, 12, 13, 14, 15, 16, 17, 18, 19, 20, 21, 22, 23, 24, 25, 26, 27, 28, 29]\n"
     ]
    }
   ],
   "source": [
    "# формируем массив индексов категориальных признаков\n",
    "categorical_features_indices = list(range(len(categorical_columns)))\n",
    "print(categorical_features_indices)"
   ]
  },
  {
   "cell_type": "code",
   "execution_count": 77,
   "metadata": {},
   "outputs": [],
   "source": [
    "# выделение обучающей выборки (80 %) и тестовой (20 %)\n",
    "X_train, X_test, y_train, y_test = train_test_split(\n",
    "                                                    X, \n",
    "                                                    y, \n",
    "                                                    test_size=0.2, \n",
    "                                                    random_state=RANDOM_STATE,\n",
    "                                                    shuffle=True,\n",
    "                                                    stratify=y\n",
    ")"
   ]
  },
  {
   "cell_type": "code",
   "execution_count": 78,
   "metadata": {},
   "outputs": [
    {
     "data": {
      "text/plain": [
       "((21902, 62), (5476, 62), (21902,), (5476,))"
      ]
     },
     "execution_count": 78,
     "metadata": {},
     "output_type": "execute_result"
    }
   ],
   "source": [
    "X_train.shape, X_test.shape, y_train.shape, y_test.shape"
   ]
  },
  {
   "cell_type": "code",
   "execution_count": 79,
   "metadata": {},
   "outputs": [
    {
     "data": {
      "text/plain": [
       "31"
      ]
     },
     "execution_count": 79,
     "metadata": {},
     "output_type": "execute_result"
    }
   ],
   "source": [
    "y_train.nunique()"
   ]
  },
  {
   "cell_type": "code",
   "execution_count": 80,
   "metadata": {},
   "outputs": [
    {
     "name": "stdout",
     "output_type": "stream",
     "text": [
      "[0, 1, 2, 3, 6, 9, 11, 12, 14, 15, 17, 19, 22, 23, 24, 25, 26, 29, 32, 33, 35, 36, 37, 39, 43, 46, 49, 50, 54, 55, 56]\n"
     ]
    }
   ],
   "source": [
    "print(sorted(y_train.unique()))"
   ]
  },
  {
   "cell_type": "code",
   "execution_count": 81,
   "metadata": {},
   "outputs": [
    {
     "data": {
      "text/plain": [
       "31"
      ]
     },
     "execution_count": 81,
     "metadata": {},
     "output_type": "execute_result"
    }
   ],
   "source": [
    "y_test.nunique()"
   ]
  },
  {
   "cell_type": "code",
   "execution_count": 82,
   "metadata": {},
   "outputs": [
    {
     "name": "stdout",
     "output_type": "stream",
     "text": [
      "[0, 1, 2, 3, 6, 9, 11, 12, 14, 15, 17, 19, 22, 23, 24, 25, 26, 29, 32, 33, 35, 36, 37, 39, 43, 46, 49, 50, 54, 55, 56]\n"
     ]
    }
   ],
   "source": [
    "print(sorted(y_test.unique()))"
   ]
  },
  {
   "cell_type": "markdown",
   "metadata": {},
   "source": [
    "## Подбор гиперпараметров"
   ]
  },
  {
   "cell_type": "code",
   "execution_count": 83,
   "metadata": {},
   "outputs": [],
   "source": [
    "def fit_catboost(trial, train, val, cat_features_indices):\n",
    "    X_train, y_train = train\n",
    "    X_val, y_val = val\n",
    "\n",
    "    param = {\n",
    "        'n_estimators' : 2000, # Можно не перебирать, есть Early-Stopping\n",
    "        'learning_rate': trial.suggest_float('learning_rate', 0.001, 0.1),\n",
    "        'l2_leaf_reg': trial.suggest_float('l2_leaf_reg', 3.0, 60.0),        \n",
    "        'auto_class_weights': trial.suggest_categorical('auto_class_weights', ['Balanced', 'None']),\n",
    "        'max_depth': trial.suggest_int('max_depth', 4, 10),\n",
    "        'border_count': trial.suggest_int('border_count', 32, 128)\n",
    "    }\n",
    "\n",
    "    clf = CatBoostClassifier(\n",
    "        **param,\n",
    "        loss_function='MultiClass',\n",
    "        eval_metric='TotalF1:average=Macro',\n",
    "        random_seed=RANDOM_STATE,\n",
    "        cat_features=cat_features_indices,\n",
    "        thread_count=-1,\n",
    "        task_type='GPU',\n",
    "    )\n",
    "\n",
    "    clf.fit(\n",
    "        X_train,\n",
    "        y_train,\n",
    "        eval_set=(X_val, y_val),\n",
    "        verbose=100,\n",
    "        plot=False,\n",
    "        early_stopping_rounds=100,\n",
    "    )\n",
    "\n",
    "    y_pred = clf.predict(X_val)\n",
    "    return clf, y_pred"
   ]
  },
  {
   "cell_type": "code",
   "execution_count": 84,
   "metadata": {},
   "outputs": [],
   "source": [
    "def objective(trial, X, y, cat_features_indices, return_models=False):\n",
    "    n_splits = 3\n",
    "    skf = StratifiedKFold(n_splits=n_splits, shuffle=True, random_state=RANDOM_STATE)\n",
    "\n",
    "    scores, models = [], []\n",
    "    \n",
    "    for train_idx, valid_idx in skf.split(X, y):\n",
    "        train_data = X.iloc[train_idx, :], y.iloc[train_idx]\n",
    "        valid_data = X.iloc[valid_idx, :], y.iloc[valid_idx]\n",
    "\n",
    "        # Подаем trials для перебора\n",
    "        model, y_pred = fit_catboost(trial, train_data, valid_data, cat_features_indices) # Определили выше\n",
    "        scores.append(f1_score(valid_data[1], y_pred, average='macro'))\n",
    "        models.append(model)\n",
    "        # break\n",
    "         \n",
    "\n",
    "    result = np.mean(scores)\n",
    "    \n",
    "    if return_models:\n",
    "        return result, models\n",
    "    else:\n",
    "        return result"
   ]
  },
  {
   "cell_type": "code",
   "execution_count": 85,
   "metadata": {},
   "outputs": [],
   "source": [
    "# %%time\n",
    "\n",
    "# study = optuna.create_study(direction='maximize')\n",
    "# study.optimize(\n",
    "#                 lambda trial: objective(trial, X, y, categorical_features_indices),\n",
    "#                 n_trials=3,\n",
    "#                 show_progress_bar=True,\n",
    "# )"
   ]
  },
  {
   "cell_type": "code",
   "execution_count": 86,
   "metadata": {},
   "outputs": [],
   "source": [
    "# print(\"Best trial: score {}, params {}\".format(study.best_trial.value, study.best_trial.params))"
   ]
  },
  {
   "cell_type": "code",
   "execution_count": 87,
   "metadata": {},
   "outputs": [],
   "source": [
    "# %%time\n",
    "\n",
    "# valid_scores, models_all_features = objective(\n",
    "#     optuna.trial.FixedTrial(study.best_params),\n",
    "#     X, \n",
    "#     y, \n",
    "#     categorical_features_indices,\n",
    "#     return_models=True,\n",
    "# )"
   ]
  },
  {
   "cell_type": "code",
   "execution_count": 88,
   "metadata": {},
   "outputs": [],
   "source": [
    "# models_all_features"
   ]
  },
  {
   "cell_type": "code",
   "execution_count": 89,
   "metadata": {},
   "outputs": [],
   "source": [
    "# valid_scores, len(models_all_features)"
   ]
  },
  {
   "cell_type": "code",
   "execution_count": 90,
   "metadata": {},
   "outputs": [],
   "source": [
    "# for m in models_all_features:\n",
    "#     print(m.tree_count_)"
   ]
  },
  {
   "cell_type": "code",
   "execution_count": 91,
   "metadata": {},
   "outputs": [],
   "source": [
    "# for m in models_all_features:\n",
    "#     print(m.get_all_params())"
   ]
  },
  {
   "cell_type": "markdown",
   "metadata": {},
   "source": [
    "## Важность признаков"
   ]
  },
  {
   "cell_type": "markdown",
   "metadata": {},
   "source": [
    "### Feature Importance"
   ]
  },
  {
   "cell_type": "code",
   "execution_count": 92,
   "metadata": {},
   "outputs": [],
   "source": [
    "# models_all_features[1].get_feature_importance(prettified=True)"
   ]
  },
  {
   "cell_type": "code",
   "execution_count": 93,
   "metadata": {},
   "outputs": [],
   "source": [
    "# feature_importance = models_all_features[1].feature_importances_\n",
    "# sorted_idx = np.argsort(feature_importance)"
   ]
  },
  {
   "cell_type": "code",
   "execution_count": 94,
   "metadata": {},
   "outputs": [],
   "source": [
    "# plt.figure(figsize=(15, 15))\n",
    "# plt.barh(np.array(X.columns)[sorted_idx], feature_importance[sorted_idx], color='skyblue')\n",
    "# plt.xlabel('Importance')\n",
    "# plt.ylabel('Features')\n",
    "# plt.title('Feature Importance in CatBoostClassifier')\n",
    "# plt.grid(axis='x', linestyle='--', linewidth=0.7)"
   ]
  },
  {
   "cell_type": "markdown",
   "metadata": {},
   "source": [
    "### SHAP values"
   ]
  },
  {
   "cell_type": "code",
   "execution_count": null,
   "metadata": {},
   "outputs": [],
   "source": []
  },
  {
   "cell_type": "markdown",
   "metadata": {},
   "source": [
    "## Отбор признаков"
   ]
  },
  {
   "cell_type": "code",
   "execution_count": 95,
   "metadata": {},
   "outputs": [],
   "source": [
    "# # создаем список имен признаков\n",
    "# feature_names = list(X_train.columns)\n",
    "\n",
    "# # создаем список категориальных признаков\n",
    "# cat_features = categorical_columns\n",
    "\n",
    "# # создаем обучающий и проверочный пулы\n",
    "# train_pool = Pool(X_train, \n",
    "#                   y_train,\n",
    "#                   feature_names=feature_names, \n",
    "#                   cat_features=cat_features)\n",
    "\n",
    "# test_pool = Pool(X_test, \n",
    "#                  y_test, \n",
    "#                  feature_names=feature_names, \n",
    "#                  cat_features=cat_features)"
   ]
  },
  {
   "cell_type": "code",
   "execution_count": 96,
   "metadata": {},
   "outputs": [],
   "source": [
    "# study.best_params"
   ]
  },
  {
   "cell_type": "code",
   "execution_count": 97,
   "metadata": {},
   "outputs": [],
   "source": [
    "# # пишем функцию отбора признаков на основе \n",
    "# # рекурсивного удаления признаков\n",
    "# def catboost_select_features(\n",
    "#     algorithm: EFeaturesSelectionAlgorithm, \n",
    "#     steps: int = 1):\n",
    "#     print('Algorithm:', algorithm)\n",
    "#     model = CatBoostClassifier(\n",
    "#                     **study.best_params,\n",
    "#                     n_estimators=1700,\n",
    "#                     random_seed=RANDOM_STATE,\n",
    "#                     loss_function='MultiClass',\n",
    "#                     eval_metric='TotalF1:average=Macro',\n",
    "#                     thread_count=-1,\n",
    "#                     task_type='GPU'\n",
    "#     )\n",
    "#     summary = model.select_features(\n",
    "#         # обучающий пул\n",
    "#         train_pool,\n",
    "#         # проверочный пул\n",
    "#         eval_set=test_pool,\n",
    "#         # список признаков, участвующих в отборе\n",
    "#         features_for_select=list(range(train_pool.num_col())),\n",
    "#         # количество отбираемых признаков\n",
    "#         num_features_to_select=3,\n",
    "#         # количество итераций обучения модели, вычисляющей \n",
    "#         # оценки важностей (чем больше, тем лучше качество)\n",
    "#         steps=steps,\n",
    "#         # алгоритм отбора\n",
    "#         algorithm=algorithm,\n",
    "#         # метод вычисления значений SHAP\n",
    "#         shap_calc_type=EShapCalcType.Regular,\n",
    "#         # обучаем модель с отобранными признаками\n",
    "#         train_final_model=True,\n",
    "#         # уровень детализации вывода\n",
    "#         logging_level='Silent',\n",
    "#         # отрисовка кривых обучения и валидации\n",
    "#         plot=True\n",
    "#     )\n",
    "#     print('Selected features:', summary['selected_features_names'])\n",
    "#     return summary"
   ]
  },
  {
   "cell_type": "code",
   "execution_count": 98,
   "metadata": {},
   "outputs": [],
   "source": [
    "# %%time\n",
    "\n",
    "# # выполняем отбор признаков\n",
    "# shap_summary = catboost_select_features(\n",
    "#     algorithm=EFeaturesSelectionAlgorithm.RecursiveByShapValues, \n",
    "#     steps=5\n",
    "# )"
   ]
  },
  {
   "cell_type": "code",
   "execution_count": 99,
   "metadata": {},
   "outputs": [],
   "source": [
    "# print(shap_summary['loss_graph'])"
   ]
  },
  {
   "cell_type": "code",
   "execution_count": 100,
   "metadata": {},
   "outputs": [],
   "source": [
    "# shap_summary['loss_graph']['loss_values'][-1]"
   ]
  },
  {
   "cell_type": "code",
   "execution_count": 101,
   "metadata": {},
   "outputs": [],
   "source": [
    "# # печатаем отобранные признаки\n",
    "# selected_feat = shap_summary['selected_features_names']\n",
    "# print(selected_feat)"
   ]
  },
  {
   "cell_type": "code",
   "execution_count": 102,
   "metadata": {},
   "outputs": [],
   "source": [
    "# # печатаем исключенные признаки\n",
    "# eliminated_feat = shap_summary['eliminated_features_names']\n",
    "# print(eliminated_feat)"
   ]
  },
  {
   "cell_type": "markdown",
   "metadata": {},
   "source": [
    "На основе графика `Loss by eliminated features`, отберем из списка `eliminated_feat` фичи, начиная с 44-го индекса."
   ]
  },
  {
   "cell_type": "code",
   "execution_count": 103,
   "metadata": {},
   "outputs": [],
   "source": [
    "# selected_features = selected_feat + eliminated_feat[44:]\n",
    "# selected_features"
   ]
  },
  {
   "cell_type": "code",
   "execution_count": 104,
   "metadata": {},
   "outputs": [],
   "source": [
    "# len(selected_features)"
   ]
  },
  {
   "cell_type": "code",
   "execution_count": 105,
   "metadata": {},
   "outputs": [],
   "source": [
    "# cat_features = [\n",
    "#     'most_frequent_route_per_week',\n",
    "#     'most_frequent_route_per_day',\n",
    "#     'exit_gate_id',\n",
    "#     'entrance_gate_id',\n",
    "#     'most_frequent_gate_per_week'\n",
    "# ]"
   ]
  },
  {
   "cell_type": "code",
   "execution_count": 106,
   "metadata": {},
   "outputs": [],
   "source": [
    "# %%time\n",
    "\n",
    "# valid_scores, models_selected_features = objective(\n",
    "#     optuna.trial.FixedTrial(study.best_params),\n",
    "#     X[selected_features], \n",
    "#     y, \n",
    "#     cat_features,\n",
    "#     return_models=True,\n",
    "# )"
   ]
  },
  {
   "cell_type": "code",
   "execution_count": 107,
   "metadata": {},
   "outputs": [],
   "source": [
    "# valid_scores"
   ]
  },
  {
   "cell_type": "code",
   "execution_count": 108,
   "metadata": {},
   "outputs": [],
   "source": [
    "# for m in models_selected_features:\n",
    "#     print(m.tree_count_)"
   ]
  },
  {
   "cell_type": "code",
   "execution_count": 109,
   "metadata": {},
   "outputs": [],
   "source": [
    "# for m in models_selected_features:\n",
    "#     print(m.get_all_params())"
   ]
  },
  {
   "cell_type": "code",
   "execution_count": null,
   "metadata": {},
   "outputs": [],
   "source": []
  },
  {
   "cell_type": "markdown",
   "metadata": {},
   "source": [
    "## Подбор гиперпараметров после отбора признаков"
   ]
  },
  {
   "cell_type": "code",
   "execution_count": 110,
   "metadata": {},
   "outputs": [],
   "source": [
    "selected_features = [\n",
    "    'most_frequent_route_per_week',\n",
    "    'working_time_per_week',\n",
    "    'entry_time',\n",
    "    'cnt_users_per_day',\n",
    "    'cnt_repeat_gate_3s',\n",
    "    'most_frequent_route_per_day',\n",
    "    'route_avg_time',\n",
    "    'daily_attendance_index',\n",
    "    'cnt_repeat_gate_2s',\n",
    "    'exit_gate_id',\n",
    "    'daily_workload_index',\n",
    "    'cnt_repeat_gate_1s',\n",
    "    'entrance_gate_id',\n",
    "    'working_time_per_day',\n",
    "    'pass_cnt_per_day',\n",
    "    'cnt_users_per_week',\n",
    "    'cnt_days_per_week',\n",
    "    'most_frequent_gate_per_week'\n",
    "]"
   ]
  },
  {
   "cell_type": "code",
   "execution_count": 111,
   "metadata": {},
   "outputs": [],
   "source": [
    "cat_features = [\n",
    "    'most_frequent_route_per_week',\n",
    "    'most_frequent_route_per_day',\n",
    "    'exit_gate_id',\n",
    "    'entrance_gate_id',\n",
    "    'most_frequent_gate_per_week'\n",
    "]"
   ]
  },
  {
   "cell_type": "code",
   "execution_count": 112,
   "metadata": {},
   "outputs": [],
   "source": [
    "best_params = {\n",
    "    'n_estimators' : 2000,\n",
    "    'learning_rate': 0.04325415489908707, \n",
    "    'l2_leaf_reg': 18.338330868742815, \n",
    "    'auto_class_weights': 'Balanced', \n",
    "    'max_depth': 10, \n",
    "    'border_count': 84\n",
    "}"
   ]
  },
  {
   "cell_type": "code",
   "execution_count": 113,
   "metadata": {},
   "outputs": [],
   "source": [
    "X_new = X[selected_features]"
   ]
  },
  {
   "cell_type": "code",
   "execution_count": 114,
   "metadata": {},
   "outputs": [
    {
     "name": "stdout",
     "output_type": "stream",
     "text": [
      "0:\tlearn: 0.5120311\ttest: 0.4962075\tbest: 0.4962075 (0)\ttotal: 324ms\tremaining: 10m 46s\n",
      "100:\tlearn: 0.9318659\ttest: 0.9249244\tbest: 0.9249244 (100)\ttotal: 25.5s\tremaining: 7m 58s\n",
      "200:\tlearn: 0.9901533\ttest: 0.9874677\tbest: 0.9874677 (196)\ttotal: 48.3s\tremaining: 7m 12s\n",
      "300:\tlearn: 0.9959134\ttest: 0.9938779\tbest: 0.9938779 (285)\ttotal: 1m 10s\tremaining: 6m 39s\n",
      "400:\tlearn: 0.9980723\ttest: 0.9966054\tbest: 0.9966054 (394)\ttotal: 1m 30s\tremaining: 6m 2s\n",
      "500:\tlearn: 0.9988756\ttest: 0.9980029\tbest: 0.9980029 (483)\ttotal: 1m 50s\tremaining: 5m 30s\n",
      "600:\tlearn: 0.9994448\ttest: 0.9991288\tbest: 0.9991288 (598)\ttotal: 2m 10s\tremaining: 5m 3s\n",
      "700:\tlearn: 0.9997169\ttest: 0.9997318\tbest: 0.9997318 (686)\ttotal: 2m 30s\tremaining: 4m 38s\n",
      "bestTest = 0.9997318185\n",
      "bestIteration = 686\n",
      "Shrink model to first 687 iterations.\n",
      "0:\tlearn: 0.5169725\ttest: 0.5048728\tbest: 0.5048728 (0)\ttotal: 282ms\tremaining: 9m 22s\n",
      "100:\tlearn: 0.9524290\ttest: 0.9427776\tbest: 0.9427776 (100)\ttotal: 34.5s\tremaining: 10m 48s\n",
      "200:\tlearn: 0.9920873\ttest: 0.9884751\tbest: 0.9887813 (198)\ttotal: 1m 10s\tremaining: 10m 28s\n",
      "300:\tlearn: 0.9975799\ttest: 0.9950186\tbest: 0.9950186 (298)\ttotal: 1m 43s\tremaining: 9m 43s\n",
      "400:\tlearn: 0.9990202\ttest: 0.9973435\tbest: 0.9973435 (362)\ttotal: 2m 17s\tremaining: 9m 6s\n",
      "500:\tlearn: 0.9993645\ttest: 0.9981541\tbest: 0.9981541 (459)\ttotal: 2m 50s\tremaining: 8m 28s\n",
      "600:\tlearn: 0.9995750\ttest: 0.9982742\tbest: 0.9982747 (538)\ttotal: 3m 22s\tremaining: 7m 51s\n",
      "bestTest = 0.9982747212\n",
      "bestIteration = 538\n",
      "Shrink model to first 539 iterations.\n",
      "0:\tlearn: 0.5243674\ttest: 0.4906534\tbest: 0.4906534 (0)\ttotal: 411ms\tremaining: 13m 41s\n",
      "100:\tlearn: 0.9446386\ttest: 0.9219060\tbest: 0.9219060 (100)\ttotal: 37.9s\tremaining: 11m 52s\n",
      "200:\tlearn: 0.9879602\ttest: 0.9796197\tbest: 0.9796197 (200)\ttotal: 1m 12s\tremaining: 10m 50s\n",
      "300:\tlearn: 0.9969533\ttest: 0.9925069\tbest: 0.9925069 (298)\ttotal: 1m 47s\tremaining: 10m 4s\n",
      "400:\tlearn: 0.9986172\ttest: 0.9954863\tbest: 0.9954863 (396)\ttotal: 2m 20s\tremaining: 9m 21s\n",
      "500:\tlearn: 0.9993456\ttest: 0.9963055\tbest: 0.9963055 (490)\ttotal: 2m 52s\tremaining: 8m 35s\n",
      "600:\tlearn: 0.9996984\ttest: 0.9969594\tbest: 0.9969594 (576)\ttotal: 3m 24s\tremaining: 7m 55s\n",
      "700:\tlearn: 0.9996984\ttest: 0.9971716\tbest: 0.9971716 (613)\ttotal: 3m 55s\tremaining: 7m 17s\n",
      "800:\tlearn: 0.9998928\ttest: 0.9987260\tbest: 0.9987260 (788)\ttotal: 4m 28s\tremaining: 6m 42s\n",
      "900:\tlearn: 0.9999528\ttest: 0.9989896\tbest: 0.9992074 (881)\ttotal: 5m 2s\tremaining: 6m 8s\n",
      "bestTest = 0.9992074299\n",
      "bestIteration = 881\n",
      "Shrink model to first 882 iterations.\n",
      "CPU times: total: 25min 1s\n",
      "Wall time: 11min 56s\n"
     ]
    }
   ],
   "source": [
    "%%time\n",
    "\n",
    "skf = StratifiedKFold(n_splits=3, shuffle=True, random_state=RANDOM_STATE)\n",
    "\n",
    "scores, models = [], []\n",
    "\n",
    "for train_idx, valid_idx in skf.split(X_new, y):\n",
    "    X_train, y_train = X_new.iloc[train_idx, :], y.iloc[train_idx]\n",
    "    X_val, y_val = X_new.iloc[valid_idx, :], y.iloc[valid_idx]\n",
    "\n",
    "    clf = CatBoostClassifier(\n",
    "        **best_params,\n",
    "        loss_function='MultiClass',\n",
    "        eval_metric='TotalF1:average=Macro',\n",
    "        random_seed=RANDOM_STATE,\n",
    "        cat_features=cat_features,\n",
    "        thread_count=-1,\n",
    "        task_type='GPU',\n",
    "    )\n",
    "\n",
    "    clf.fit(\n",
    "        X_train,\n",
    "        y_train,\n",
    "        eval_set=(X_val, y_val),\n",
    "        verbose=100,\n",
    "        plot=False,\n",
    "        early_stopping_rounds=100,\n",
    "    )\n",
    "\n",
    "    y_pred = clf.predict(X_val)\n",
    "\n",
    "    scores.append(f1_score(y_val, y_pred, average='macro'))\n",
    "    models.append(clf)\n",
    "\n",
    "result = np.mean(scores)"
   ]
  },
  {
   "cell_type": "code",
   "execution_count": 115,
   "metadata": {},
   "outputs": [
    {
     "name": "stdout",
     "output_type": "stream",
     "text": [
      "687\n",
      "539\n",
      "882\n"
     ]
    }
   ],
   "source": [
    "for m in models:\n",
    "    print(m.tree_count_)"
   ]
  },
  {
   "cell_type": "code",
   "execution_count": 120,
   "metadata": {},
   "outputs": [
    {
     "name": "stdout",
     "output_type": "stream",
     "text": [
      "{'nan_mode': 'Min', 'gpu_ram_part': 0.95, 'eval_metric': 'TotalF1:average=Macro', 'combinations_ctr': ['Borders:CtrBorderCount=15:CtrBorderType=Uniform:TargetBorderCount=1:TargetBorderType=MinEntropy:Prior=0/1:Prior=0.5/1:Prior=1/1', 'FeatureFreq:CtrBorderCount=15:CtrBorderType=Median:Prior=0/1'], 'iterations': 2000, 'fold_permutation_block': 64, 'leaf_estimation_method': 'Newton', 'observations_to_bootstrap': 'TestOnly', 'od_pval': 0, 'random_score_type': 'NormalWithModelSizeDecrease', 'counter_calc_method': 'SkipTest', 'grow_policy': 'SymmetricTree', 'penalties_coefficient': 1, 'boosting_type': 'Plain', 'ctr_history_unit': 'Sample', 'feature_border_type': 'GreedyLogSum', 'bayesian_matrix_reg': 0.10000000149011612, 'one_hot_max_size': 2, 'devices': '-1', 'eval_fraction': 0, 'pinned_memory_bytes': '104857600', 'force_unit_auto_pair_weights': False, 'l2_leaf_reg': 18.33833122253418, 'random_strength': 1, 'od_type': 'Iter', 'rsm': 1, 'boost_from_average': False, 'gpu_cat_features_storage': 'GpuRam', 'fold_size_loss_normalization': False, 'max_ctr_complexity': 4, 'model_size_reg': 0.5, 'simple_ctr': ['Borders:CtrBorderCount=15:CtrBorderType=Uniform:TargetBorderCount=1:TargetBorderType=MinEntropy:Prior=0/1:Prior=0.5/1:Prior=1/1', 'FeatureFreq:CtrBorderCount=15:CtrBorderType=MinEntropy:Prior=0/1'], 'pool_metainfo_options': {'tags': {}}, 'use_best_model': True, 'meta_l2_frequency': 0, 'od_wait': 100, 'class_names': [0, 1, 2, 3, 6, 9, 11, 12, 14, 15, 17, 19, 22, 23, 24, 25, 26, 29, 32, 33, 35, 36, 37, 39, 43, 46, 49, 50, 54, 55, 56], 'random_seed': 42, 'depth': 10, 'ctr_target_border_count': 1, 'has_time': False, 'border_count': 84, 'min_fold_size': 100, 'class_weights': [1.8316195011138916, 1.8603132963180544, 54.80769348144531, 2.4317405223846436, 1.1914715766906738, 2.1048743724823, 1.704545497894287, 1.1855241060256958, 3.518518447875977, 1.3268156051635742, 3.376777172088623, 1.3109475374221802, 24.56896591186523, 8.796296119689941, 5.888429641723633, 9.253246307373049, 8.189655303955078, 2.4070944786071777, 2.1236960887908936, 1.8434669971466064, 3.9473683834075928, 49.13793182373047, 1, 2.0833332538604736, 18.269229888916016, 4.765886306762695, 1.9547325372695925, 2.2727272510528564, 2.2335422039031982, 1.0042283535003662, 17.378047943115234], 'data_partition': 'DocParallel', 'bagging_temperature': 1, 'classes_count': 0, 'auto_class_weights': 'Balanced', 'leaf_estimation_backtracking': 'AnyImprovement', 'best_model_min_trees': 1, 'min_data_in_leaf': 1, 'add_ridge_penalty_to_loss_function': False, 'loss_function': 'MultiClass', 'learning_rate': 0.04325415566563606, 'meta_l2_exponent': 1, 'score_function': 'Cosine', 'task_type': 'GPU', 'leaf_estimation_iterations': 1, 'bootstrap_type': 'Bayesian', 'max_leaves': 1024, 'permutation_count': 4}\n",
      "{'nan_mode': 'Min', 'gpu_ram_part': 0.95, 'eval_metric': 'TotalF1:average=Macro', 'combinations_ctr': ['Borders:CtrBorderCount=15:CtrBorderType=Uniform:TargetBorderCount=1:TargetBorderType=MinEntropy:Prior=0/1:Prior=0.5/1:Prior=1/1', 'FeatureFreq:CtrBorderCount=15:CtrBorderType=Median:Prior=0/1'], 'iterations': 2000, 'fold_permutation_block': 64, 'leaf_estimation_method': 'Newton', 'observations_to_bootstrap': 'TestOnly', 'od_pval': 0, 'random_score_type': 'NormalWithModelSizeDecrease', 'counter_calc_method': 'SkipTest', 'grow_policy': 'SymmetricTree', 'penalties_coefficient': 1, 'boosting_type': 'Plain', 'ctr_history_unit': 'Sample', 'feature_border_type': 'GreedyLogSum', 'bayesian_matrix_reg': 0.10000000149011612, 'one_hot_max_size': 2, 'devices': '-1', 'eval_fraction': 0, 'pinned_memory_bytes': '104857600', 'force_unit_auto_pair_weights': False, 'l2_leaf_reg': 18.33833122253418, 'random_strength': 1, 'od_type': 'Iter', 'rsm': 1, 'boost_from_average': False, 'gpu_cat_features_storage': 'GpuRam', 'fold_size_loss_normalization': False, 'max_ctr_complexity': 4, 'model_size_reg': 0.5, 'simple_ctr': ['Borders:CtrBorderCount=15:CtrBorderType=Uniform:TargetBorderCount=1:TargetBorderType=MinEntropy:Prior=0/1:Prior=0.5/1:Prior=1/1', 'FeatureFreq:CtrBorderCount=15:CtrBorderType=MinEntropy:Prior=0/1'], 'pool_metainfo_options': {'tags': {}}, 'use_best_model': True, 'meta_l2_frequency': 0, 'od_wait': 100, 'class_names': [0, 1, 2, 3, 6, 9, 11, 12, 14, 15, 17, 19, 22, 23, 24, 25, 26, 29, 32, 33, 35, 36, 37, 39, 43, 46, 49, 50, 54, 55, 56], 'random_seed': 42, 'depth': 10, 'ctr_target_border_count': 1, 'has_time': False, 'border_count': 84, 'min_fold_size': 100, 'class_weights': [1.8339768648147583, 1.8603132963180544, 54.80769348144531, 2.4317405223846436, 1.1904761791229248, 2.1048743724823, 1.704545497894287, 1.1865112781524658, 3.518518447875977, 1.325581431388855, 3.376777172088623, 1.3097426891326904, 24.56896591186523, 8.796296119689941, 5.864197731018066, 9.193548202514648, 8.189655303955078, 2.411167621612549, 2.1268656253814697, 1.8434669971466064, 3.9473683834075928, 49.13793182373047, 1, 2.086383581161499, 18.269229888916016, 4.765886306762695, 1.9547325372695925, 2.2727272510528564, 2.2335422039031982, 1.0042283535003662, 17.378047943115234], 'data_partition': 'DocParallel', 'bagging_temperature': 1, 'classes_count': 0, 'auto_class_weights': 'Balanced', 'leaf_estimation_backtracking': 'AnyImprovement', 'best_model_min_trees': 1, 'min_data_in_leaf': 1, 'add_ridge_penalty_to_loss_function': False, 'loss_function': 'MultiClass', 'learning_rate': 0.04325415566563606, 'meta_l2_exponent': 1, 'score_function': 'Cosine', 'task_type': 'GPU', 'leaf_estimation_iterations': 1, 'bootstrap_type': 'Bayesian', 'max_leaves': 1024, 'permutation_count': 4}\n",
      "{'nan_mode': 'Min', 'gpu_ram_part': 0.95, 'eval_metric': 'TotalF1:average=Macro', 'combinations_ctr': ['Borders:CtrBorderCount=15:CtrBorderType=Uniform:TargetBorderCount=1:TargetBorderType=MinEntropy:Prior=0/1:Prior=0.5/1:Prior=1/1', 'FeatureFreq:CtrBorderCount=15:CtrBorderType=Median:Prior=0/1'], 'iterations': 2000, 'fold_permutation_block': 64, 'leaf_estimation_method': 'Newton', 'observations_to_bootstrap': 'TestOnly', 'od_pval': 0, 'random_score_type': 'NormalWithModelSizeDecrease', 'counter_calc_method': 'SkipTest', 'grow_policy': 'SymmetricTree', 'penalties_coefficient': 1, 'boosting_type': 'Plain', 'ctr_history_unit': 'Sample', 'feature_border_type': 'GreedyLogSum', 'bayesian_matrix_reg': 0.10000000149011612, 'one_hot_max_size': 2, 'devices': '-1', 'eval_fraction': 0, 'pinned_memory_bytes': '104857600', 'force_unit_auto_pair_weights': False, 'l2_leaf_reg': 18.33833122253418, 'random_strength': 1, 'od_type': 'Iter', 'rsm': 1, 'boost_from_average': False, 'gpu_cat_features_storage': 'GpuRam', 'fold_size_loss_normalization': False, 'max_ctr_complexity': 4, 'model_size_reg': 0.5, 'simple_ctr': ['Borders:CtrBorderCount=15:CtrBorderType=Uniform:TargetBorderCount=1:TargetBorderType=MinEntropy:Prior=0/1:Prior=0.5/1:Prior=1/1', 'FeatureFreq:CtrBorderCount=15:CtrBorderType=MinEntropy:Prior=0/1'], 'pool_metainfo_options': {'tags': {}}, 'use_best_model': True, 'meta_l2_frequency': 0, 'od_wait': 100, 'class_names': [0, 1, 2, 3, 6, 9, 11, 12, 14, 15, 17, 19, 22, 23, 24, 25, 26, 29, 32, 33, 35, 36, 37, 39, 43, 46, 49, 50, 54, 55, 56], 'random_seed': 42, 'depth': 10, 'ctr_target_border_count': 1, 'has_time': False, 'border_count': 84, 'min_fold_size': 100, 'class_weights': [1.832689881324768, 1.8590078353881836, 54.769229888916016, 2.4300341606140137, 1.189640760421753, 2.10650897026062, 1.703349232673645, 1.1856786012649536, 3.5073890686035156, 1.324651122093201, 3.3744075298309326, 1.3100275993347168, 24.55172348022461, 8.790122985839844, 5.860082149505615, 9.18709659576416, 8.183908462524414, 2.409475564956665, 2.1222057342529297, 1.83979332447052, 3.9555554389953618, 50.85714340209961, 1, 2.0849194526672363, 18.256410598754883, 4.746666431427002, 1.950684905052185, 2.2747604846954346, 2.231974840164185, 1.002816915512085, 17.365854263305664], 'data_partition': 'DocParallel', 'bagging_temperature': 1, 'classes_count': 0, 'auto_class_weights': 'Balanced', 'leaf_estimation_backtracking': 'AnyImprovement', 'best_model_min_trees': 1, 'min_data_in_leaf': 1, 'add_ridge_penalty_to_loss_function': False, 'loss_function': 'MultiClass', 'learning_rate': 0.04325415566563606, 'meta_l2_exponent': 1, 'score_function': 'Cosine', 'task_type': 'GPU', 'leaf_estimation_iterations': 1, 'bootstrap_type': 'Bayesian', 'max_leaves': 1024, 'permutation_count': 4}\n"
     ]
    }
   ],
   "source": [
    "for m in models:\n",
    "    print(m.get_all_params())"
   ]
  },
  {
   "cell_type": "code",
   "execution_count": 133,
   "metadata": {},
   "outputs": [
    {
     "data": {
      "text/html": [
       "<div>\n",
       "<style scoped>\n",
       "    .dataframe tbody tr th:only-of-type {\n",
       "        vertical-align: middle;\n",
       "    }\n",
       "\n",
       "    .dataframe tbody tr th {\n",
       "        vertical-align: top;\n",
       "    }\n",
       "\n",
       "    .dataframe thead th {\n",
       "        text-align: right;\n",
       "    }\n",
       "</style>\n",
       "<table border=\"1\" class=\"dataframe\">\n",
       "  <thead>\n",
       "    <tr style=\"text-align: right;\">\n",
       "      <th></th>\n",
       "      <th>Feature Id</th>\n",
       "      <th>Importances</th>\n",
       "    </tr>\n",
       "  </thead>\n",
       "  <tbody>\n",
       "    <tr>\n",
       "      <th>0</th>\n",
       "      <td>cnt_users_per_week</td>\n",
       "      <td>12.78</td>\n",
       "    </tr>\n",
       "    <tr>\n",
       "      <th>1</th>\n",
       "      <td>entry_time</td>\n",
       "      <td>11.71</td>\n",
       "    </tr>\n",
       "    <tr>\n",
       "      <th>2</th>\n",
       "      <td>working_time_per_week</td>\n",
       "      <td>11.48</td>\n",
       "    </tr>\n",
       "    <tr>\n",
       "      <th>3</th>\n",
       "      <td>most_frequent_gate_per_week</td>\n",
       "      <td>10.87</td>\n",
       "    </tr>\n",
       "    <tr>\n",
       "      <th>4</th>\n",
       "      <td>working_time_per_day</td>\n",
       "      <td>7.13</td>\n",
       "    </tr>\n",
       "    <tr>\n",
       "      <th>5</th>\n",
       "      <td>pass_cnt_per_day</td>\n",
       "      <td>7.12</td>\n",
       "    </tr>\n",
       "    <tr>\n",
       "      <th>6</th>\n",
       "      <td>cnt_repeat_gate_1s</td>\n",
       "      <td>6.50</td>\n",
       "    </tr>\n",
       "    <tr>\n",
       "      <th>7</th>\n",
       "      <td>most_frequent_route_per_week</td>\n",
       "      <td>5.40</td>\n",
       "    </tr>\n",
       "    <tr>\n",
       "      <th>8</th>\n",
       "      <td>daily_attendance_index</td>\n",
       "      <td>5.39</td>\n",
       "    </tr>\n",
       "    <tr>\n",
       "      <th>9</th>\n",
       "      <td>cnt_repeat_gate_2s</td>\n",
       "      <td>5.21</td>\n",
       "    </tr>\n",
       "    <tr>\n",
       "      <th>10</th>\n",
       "      <td>cnt_days_per_week</td>\n",
       "      <td>5.19</td>\n",
       "    </tr>\n",
       "    <tr>\n",
       "      <th>11</th>\n",
       "      <td>entrance_gate_id</td>\n",
       "      <td>4.08</td>\n",
       "    </tr>\n",
       "    <tr>\n",
       "      <th>12</th>\n",
       "      <td>cnt_repeat_gate_3s</td>\n",
       "      <td>3.14</td>\n",
       "    </tr>\n",
       "    <tr>\n",
       "      <th>13</th>\n",
       "      <td>daily_workload_index</td>\n",
       "      <td>1.54</td>\n",
       "    </tr>\n",
       "    <tr>\n",
       "      <th>14</th>\n",
       "      <td>exit_gate_id</td>\n",
       "      <td>1.28</td>\n",
       "    </tr>\n",
       "    <tr>\n",
       "      <th>15</th>\n",
       "      <td>cnt_users_per_day</td>\n",
       "      <td>1.08</td>\n",
       "    </tr>\n",
       "    <tr>\n",
       "      <th>16</th>\n",
       "      <td>route_avg_time</td>\n",
       "      <td>0.06</td>\n",
       "    </tr>\n",
       "    <tr>\n",
       "      <th>17</th>\n",
       "      <td>most_frequent_route_per_day</td>\n",
       "      <td>0.05</td>\n",
       "    </tr>\n",
       "  </tbody>\n",
       "</table>\n",
       "</div>"
      ],
      "text/plain": [
       "                      Feature Id  Importances\n",
       "0             cnt_users_per_week        12.78\n",
       "1                     entry_time        11.71\n",
       "2          working_time_per_week        11.48\n",
       "3    most_frequent_gate_per_week        10.87\n",
       "4           working_time_per_day         7.13\n",
       "5               pass_cnt_per_day         7.12\n",
       "6             cnt_repeat_gate_1s         6.50\n",
       "7   most_frequent_route_per_week         5.40\n",
       "8         daily_attendance_index         5.39\n",
       "9             cnt_repeat_gate_2s         5.21\n",
       "10             cnt_days_per_week         5.19\n",
       "11              entrance_gate_id         4.08\n",
       "12            cnt_repeat_gate_3s         3.14\n",
       "13          daily_workload_index         1.54\n",
       "14                  exit_gate_id         1.28\n",
       "15             cnt_users_per_day         1.08\n",
       "16                route_avg_time         0.06\n",
       "17   most_frequent_route_per_day         0.05"
      ]
     },
     "execution_count": 133,
     "metadata": {},
     "output_type": "execute_result"
    }
   ],
   "source": [
    "models[2].get_feature_importance(prettified=True)"
   ]
  },
  {
   "cell_type": "markdown",
   "metadata": {},
   "source": [
    "## Итоговое предсказание лучшей модели"
   ]
  },
  {
   "cell_type": "code",
   "execution_count": 121,
   "metadata": {},
   "outputs": [],
   "source": [
    "def make_prediction_dict(df_test, name_columns, models):\n",
    "    # из тестового набора выделяем фичи, на которых обучались\n",
    "    X = df_test.loc[:, name_columns]\n",
    "    # датафрейм с закодированными user_id из тестовой выборки\n",
    "    result = df_test.loc[:, ['user_word']]\n",
    "    # делаем предсказания user_id\n",
    "    predictions = np.array([model.predict(X) for model in models])\n",
    "    result['pred_user_id'] = mode(predictions, axis=0)[0].flatten()\n",
    "    result = result.groupby('user_word')['pred_user_id'].agg(lambda group: dict(group.value_counts())).to_dict()\n",
    "    return result"
   ]
  },
  {
   "cell_type": "code",
   "execution_count": 122,
   "metadata": {},
   "outputs": [],
   "source": [
    "def make_prediction(df_test, name_columns, models):\n",
    "    # из тестового набора выделяем фичи, на которых обучались\n",
    "    X = df_test.loc[:, name_columns]\n",
    "    # датафрейм с закодированными user_id из тестовой выборки\n",
    "    result = df_test.loc[:, ['user_word']]\n",
    "    # делаем предсказания user_id\n",
    "    predictions = np.array([model.predict(X) for model in models])\n",
    "    result['pred_user_id'] = mode(predictions, axis=0)[0].flatten()\n",
    "    # датафрейм: user_word; предсказанный user_id; количество предсказанных конкретных user_id для конкретной категории user_word\n",
    "    temp_1 = result.groupby(['user_word', 'pred_user_id']).size().reset_index(name='count_pred_user_id_in_user_word')\n",
    "    # датафрейм: user_word; количество user_word\n",
    "    temp_2 = result['user_word'].value_counts().reset_index(name='count_user_word')\n",
    "    # датафрейм: pred_user_id; количество pred_user_id\n",
    "    temp_3 = result['pred_user_id'].value_counts().reset_index(name='count_pred_user_id')\n",
    "    # датафрейм: user_word; pred_user_id; count_pred_user_id_in_user_word; count_user_word; count_pred_user_id\n",
    "    result = temp_1.merge(temp_2, on='user_word', how='left').merge(temp_3, on='pred_user_id', how='left')\n",
    "    # добавляем уверенность модели в том, что предсказанный user_id, соответсвует user_word, в знаменателе - кол-во user_word\n",
    "    result['confidence_per_user_word'] = result['count_pred_user_id_in_user_word'] / result['count_user_word']\n",
    "    # добавляем уверенность модели в том, что предсказанный user_id, соответсвует user_word, в знаменателе - кол-во pred_user_id\n",
    "    result['confidence_per_pred_user_id'] = result['count_pred_user_id_in_user_word'] / result['count_pred_user_id']\n",
    "    # итоговая уверенность\n",
    "    result['confidence'] = result['confidence_per_user_word'] + result['confidence_per_pred_user_id']\n",
    "    # сортируем данные по убыванию уверенности\n",
    "    result = result.sort_values(by='confidence', ascending=False)\n",
    "\n",
    "    # формируем итоговый датафрейм\n",
    "    final = pd.DataFrame(columns=['user_word', 'preds'])\n",
    "    # user_word, которые уже добавлены в final\n",
    "    words = set()\n",
    "    # user_id, которые уже добавлены в final\n",
    "    ids = set()\n",
    "    # добавляем в final предсказания по приоритету уверенности (result уже отсортирован)\n",
    "    for _, row in result.iterrows():\n",
    "        word, user_id = row['user_word'], row['pred_user_id']\n",
    "        if word not in words and user_id not in ids and row['confidence'] > 0.1:\n",
    "            final.loc[len(final)] = [word, user_id]\n",
    "            words.add(word)\n",
    "            ids.add(user_id)\n",
    "\n",
    "    # категориям, насчет которых модель не уверена, проставляется -999\n",
    "    for word in (set(result['user_word'].unique()) - set(final['user_word'])):\n",
    "        final.loc[len(final)] = [word, -999]\n",
    "    \n",
    "    return final.sort_values(by='user_word')"
   ]
  },
  {
   "cell_type": "code",
   "execution_count": 123,
   "metadata": {},
   "outputs": [],
   "source": [
    "df_test = df_test.rename(columns={'user_id': 'user_word'})"
   ]
  },
  {
   "cell_type": "markdown",
   "metadata": {},
   "source": [
    "Сделаем предсказание"
   ]
  },
  {
   "cell_type": "markdown",
   "metadata": {},
   "source": [
    "После удаления фичей, уменьшающих скор, и повторного подбора гиперпараметров"
   ]
  },
  {
   "cell_type": "code",
   "execution_count": 125,
   "metadata": {},
   "outputs": [
    {
     "data": {
      "text/plain": [
       "{'aucroc': {24: 35},\n",
       " 'binary': {12: 211, 49: 35, 43: 29, 14: 25, 15: 20, 24: 8, 54: 1},\n",
       " 'blue': {56: 12},\n",
       " 'categorical': {14: 140, 56: 14, 43: 10, 24: 6, 12: 1},\n",
       " 'coefficient': {15: 37, 6: 8, 25: 7, 46: 3, 22: 1},\n",
       " 'collinear': {33: 76,\n",
       "  43: 48,\n",
       "  46: 34,\n",
       "  0: 19,\n",
       "  54: 19,\n",
       "  23: 15,\n",
       "  35: 13,\n",
       "  29: 10,\n",
       "  50: 7,\n",
       "  17: 5,\n",
       "  22: 5,\n",
       "  6: 1},\n",
       " 'distributed': {0: 66, 35: 14, 19: 13, 11: 12, 46: 12},\n",
       " 'epsilon': {1: 217, 15: 45, 55: 17, 24: 14, 6: 4, 49: 3, 33: 2, 3: 1},\n",
       " 'f1': {6: 472, 37: 144, 33: 12, 1: 5},\n",
       " 'fit': {15: 72, 23: 35, 2: 24, 11: 19, 0: 14, 43: 8, 1: 5, 46: 5, 3: 1},\n",
       " 'gini': {15: 151, 1: 11, 24: 8, 0: 8, 39: 7, 3: 1},\n",
       " 'independent': {15: 78, 39: 62, 14: 35, 1: 20, 49: 19, 26: 14, 43: 6},\n",
       " 'lasso': {46: 15, 25: 8, 56: 5, 23: 5},\n",
       " 'linear': {17: 61, 55: 51, 3: 33, 33: 31, 0: 21, 32: 2},\n",
       " 'logistic': {56: 5},\n",
       " 'loss': {19: 225, 6: 73, 46: 48, 49: 41, 37: 19, 50: 14, 15: 14, 43: 13},\n",
       " 'matrix': {32: 22,\n",
       "  25: 20,\n",
       "  29: 19,\n",
       "  6: 16,\n",
       "  2: 13,\n",
       "  49: 9,\n",
       "  56: 8,\n",
       "  54: 8,\n",
       "  43: 7,\n",
       "  35: 5,\n",
       "  11: 5},\n",
       " 'minimization': {50: 61, 29: 11, 46: 10, 43: 9, 24: 4},\n",
       " 'mse': {43: 52, 23: 26, 3: 7, 56: 3, 25: 1},\n",
       " 'ols': {11: 131, 25: 7, 0: 1},\n",
       " 'precision': {9: 22, 12: 10, 24: 6},\n",
       " 'predict': {39: 72,\n",
       "  23: 28,\n",
       "  11: 25,\n",
       "  55: 21,\n",
       "  46: 20,\n",
       "  15: 15,\n",
       "  25: 6,\n",
       "  29: 4,\n",
       "  54: 1},\n",
       " 'pvalue': {32: 72, 50: 36, 29: 24, 54: 22, 11: 14, 19: 13},\n",
       " 'r2': {54: 124, 25: 23, 50: 18, 0: 4, 29: 1},\n",
       " 'recall': {3: 133, 39: 30, 15: 14},\n",
       " 'regression': {19: 27, 50: 14, 29: 1},\n",
       " 'residual': {29: 43, 54: 42, 33: 39, 11: 30, 35: 27, 19: 23, 32: 20},\n",
       " 'ridge': {3: 41,\n",
       "  29: 24,\n",
       "  0: 18,\n",
       "  39: 17,\n",
       "  35: 15,\n",
       "  11: 12,\n",
       "  32: 6,\n",
       "  15: 6,\n",
       "  49: 1,\n",
       "  6: 1},\n",
       " 'sigmoid': {55: 276, 49: 110, 0: 4},\n",
       " 'significant': {55: 122, 19: 52, 33: 47, 17: 21, 0: 20, 54: 6},\n",
       " 'target': {46: 58, 25: 23, 50: 11, 29: 9, 23: 5, 43: 4, 54: 1},\n",
       " 'tstat': {9: 66, 49: 46, 43: 27},\n",
       " 'x': {6: 165, 11: 39, 37: 18, 29: 15, 35: 13, 24: 10, 32: 9, 1: 8},\n",
       " 'y': {12: 16, 46: 11, 54: 9, 24: 2, 50: 2}}"
      ]
     },
     "execution_count": 125,
     "metadata": {},
     "output_type": "execute_result"
    }
   ],
   "source": [
    "result_dct_sf_new_fit = make_prediction_dict(df_test, selected_features, models_sf_new_fit)\n",
    "result_dct_sf_new_fit"
   ]
  },
  {
   "cell_type": "code",
   "execution_count": 126,
   "metadata": {},
   "outputs": [
    {
     "data": {
      "text/html": [
       "<div>\n",
       "<style scoped>\n",
       "    .dataframe tbody tr th:only-of-type {\n",
       "        vertical-align: middle;\n",
       "    }\n",
       "\n",
       "    .dataframe tbody tr th {\n",
       "        vertical-align: top;\n",
       "    }\n",
       "\n",
       "    .dataframe thead th {\n",
       "        text-align: right;\n",
       "    }\n",
       "</style>\n",
       "<table border=\"1\" class=\"dataframe\">\n",
       "  <thead>\n",
       "    <tr style=\"text-align: right;\">\n",
       "      <th></th>\n",
       "      <th>user_word</th>\n",
       "      <th>preds</th>\n",
       "    </tr>\n",
       "  </thead>\n",
       "  <tbody>\n",
       "    <tr>\n",
       "      <th>5</th>\n",
       "      <td>aucroc</td>\n",
       "      <td>24</td>\n",
       "    </tr>\n",
       "    <tr>\n",
       "      <th>1</th>\n",
       "      <td>binary</td>\n",
       "      <td>12</td>\n",
       "    </tr>\n",
       "    <tr>\n",
       "      <th>9</th>\n",
       "      <td>blue</td>\n",
       "      <td>56</td>\n",
       "    </tr>\n",
       "    <tr>\n",
       "      <th>2</th>\n",
       "      <td>categorical</td>\n",
       "      <td>14</td>\n",
       "    </tr>\n",
       "    <tr>\n",
       "      <th>30</th>\n",
       "      <td>coefficient</td>\n",
       "      <td>-999</td>\n",
       "    </tr>\n",
       "    <tr>\n",
       "      <th>18</th>\n",
       "      <td>collinear</td>\n",
       "      <td>22</td>\n",
       "    </tr>\n",
       "    <tr>\n",
       "      <th>17</th>\n",
       "      <td>distributed</td>\n",
       "      <td>0</td>\n",
       "    </tr>\n",
       "    <tr>\n",
       "      <th>0</th>\n",
       "      <td>epsilon</td>\n",
       "      <td>1</td>\n",
       "    </tr>\n",
       "    <tr>\n",
       "      <th>4</th>\n",
       "      <td>f1</td>\n",
       "      <td>6</td>\n",
       "    </tr>\n",
       "    <tr>\n",
       "      <th>21</th>\n",
       "      <td>fit</td>\n",
       "      <td>2</td>\n",
       "    </tr>\n",
       "    <tr>\n",
       "      <th>11</th>\n",
       "      <td>gini</td>\n",
       "      <td>15</td>\n",
       "    </tr>\n",
       "    <tr>\n",
       "      <th>13</th>\n",
       "      <td>independent</td>\n",
       "      <td>26</td>\n",
       "    </tr>\n",
       "    <tr>\n",
       "      <th>27</th>\n",
       "      <td>lasso</td>\n",
       "      <td>23</td>\n",
       "    </tr>\n",
       "    <tr>\n",
       "      <th>15</th>\n",
       "      <td>linear</td>\n",
       "      <td>17</td>\n",
       "    </tr>\n",
       "    <tr>\n",
       "      <th>32</th>\n",
       "      <td>logistic</td>\n",
       "      <td>-999</td>\n",
       "    </tr>\n",
       "    <tr>\n",
       "      <th>12</th>\n",
       "      <td>loss</td>\n",
       "      <td>19</td>\n",
       "    </tr>\n",
       "    <tr>\n",
       "      <th>25</th>\n",
       "      <td>matrix</td>\n",
       "      <td>25</td>\n",
       "    </tr>\n",
       "    <tr>\n",
       "      <th>14</th>\n",
       "      <td>minimization</td>\n",
       "      <td>50</td>\n",
       "    </tr>\n",
       "    <tr>\n",
       "      <th>19</th>\n",
       "      <td>mse</td>\n",
       "      <td>43</td>\n",
       "    </tr>\n",
       "    <tr>\n",
       "      <th>3</th>\n",
       "      <td>ols</td>\n",
       "      <td>11</td>\n",
       "    </tr>\n",
       "    <tr>\n",
       "      <th>33</th>\n",
       "      <td>precision</td>\n",
       "      <td>-999</td>\n",
       "    </tr>\n",
       "    <tr>\n",
       "      <th>22</th>\n",
       "      <td>predict</td>\n",
       "      <td>39</td>\n",
       "    </tr>\n",
       "    <tr>\n",
       "      <th>16</th>\n",
       "      <td>pvalue</td>\n",
       "      <td>32</td>\n",
       "    </tr>\n",
       "    <tr>\n",
       "      <th>8</th>\n",
       "      <td>r2</td>\n",
       "      <td>54</td>\n",
       "    </tr>\n",
       "    <tr>\n",
       "      <th>6</th>\n",
       "      <td>recall</td>\n",
       "      <td>3</td>\n",
       "    </tr>\n",
       "    <tr>\n",
       "      <th>31</th>\n",
       "      <td>regression</td>\n",
       "      <td>-999</td>\n",
       "    </tr>\n",
       "    <tr>\n",
       "      <th>23</th>\n",
       "      <td>residual</td>\n",
       "      <td>29</td>\n",
       "    </tr>\n",
       "    <tr>\n",
       "      <th>26</th>\n",
       "      <td>ridge</td>\n",
       "      <td>35</td>\n",
       "    </tr>\n",
       "    <tr>\n",
       "      <th>7</th>\n",
       "      <td>sigmoid</td>\n",
       "      <td>55</td>\n",
       "    </tr>\n",
       "    <tr>\n",
       "      <th>24</th>\n",
       "      <td>significant</td>\n",
       "      <td>33</td>\n",
       "    </tr>\n",
       "    <tr>\n",
       "      <th>20</th>\n",
       "      <td>target</td>\n",
       "      <td>46</td>\n",
       "    </tr>\n",
       "    <tr>\n",
       "      <th>10</th>\n",
       "      <td>tstat</td>\n",
       "      <td>9</td>\n",
       "    </tr>\n",
       "    <tr>\n",
       "      <th>28</th>\n",
       "      <td>x</td>\n",
       "      <td>37</td>\n",
       "    </tr>\n",
       "    <tr>\n",
       "      <th>29</th>\n",
       "      <td>y</td>\n",
       "      <td>-999</td>\n",
       "    </tr>\n",
       "  </tbody>\n",
       "</table>\n",
       "</div>"
      ],
      "text/plain": [
       "       user_word  preds\n",
       "5         aucroc     24\n",
       "1         binary     12\n",
       "9           blue     56\n",
       "2    categorical     14\n",
       "30   coefficient   -999\n",
       "18     collinear     22\n",
       "17   distributed      0\n",
       "0        epsilon      1\n",
       "4             f1      6\n",
       "21           fit      2\n",
       "11          gini     15\n",
       "13   independent     26\n",
       "27         lasso     23\n",
       "15        linear     17\n",
       "32      logistic   -999\n",
       "12          loss     19\n",
       "25        matrix     25\n",
       "14  minimization     50\n",
       "19           mse     43\n",
       "3            ols     11\n",
       "33     precision   -999\n",
       "22       predict     39\n",
       "16        pvalue     32\n",
       "8             r2     54\n",
       "6         recall      3\n",
       "31    regression   -999\n",
       "23      residual     29\n",
       "26         ridge     35\n",
       "7        sigmoid     55\n",
       "24   significant     33\n",
       "20        target     46\n",
       "10         tstat      9\n",
       "28             x     37\n",
       "29             y   -999"
      ]
     },
     "execution_count": 126,
     "metadata": {},
     "output_type": "execute_result"
    }
   ],
   "source": [
    "result_cb_sf_new_fit = make_prediction(df_test, selected_features, models_sf_new_fit)\n",
    "result_cb_sf_new_fit"
   ]
  },
  {
   "cell_type": "code",
   "execution_count": 127,
   "metadata": {},
   "outputs": [
    {
     "data": {
      "text/plain": [
       "34"
      ]
     },
     "execution_count": 127,
     "metadata": {},
     "output_type": "execute_result"
    }
   ],
   "source": [
    "len(result_cb_sf_new_fit)"
   ]
  },
  {
   "cell_type": "markdown",
   "metadata": {},
   "source": [
    "Сохраненим результаты"
   ]
  },
  {
   "cell_type": "code",
   "execution_count": 302,
   "metadata": {},
   "outputs": [],
   "source": [
    "# csv_buffer = io.StringIO()\n",
    "\n",
    "# # result_cb.to_csv(csv_buffer, index=False)\n",
    "\n",
    "# # result_cb_sf.to_csv(csv_buffer, index=False)\n",
    "\n",
    "# result_cb_sf_new_fit.to_csv(csv_buffer, index=False)\n",
    "\n",
    "# with zipfile.ZipFile('../data/answer.zip', mode='w', compression=zipfile.ZIP_DEFLATED) as zf:\n",
    "#     zf.writestr('answer.csv', csv_buffer.getvalue())"
   ]
  },
  {
   "cell_type": "code",
   "execution_count": 128,
   "metadata": {},
   "outputs": [],
   "source": [
    "# result_cb.to_csv('../data/submit_cb_v_05_all.csv', index=False)\n",
    "\n",
    "# result_cb_sf.to_csv('../data/submit_cb_v_05_sf.csv', index=False)\n",
    "\n",
    "result_cb_sf_new_fit.to_csv('../data/submit_cb_v_05_sf_new_fit_check.csv', index=False)"
   ]
  },
  {
   "cell_type": "markdown",
   "metadata": {},
   "source": [
    "# Сравнение ответов"
   ]
  },
  {
   "cell_type": "code",
   "execution_count": 110,
   "metadata": {},
   "outputs": [],
   "source": [
    "right_answers = pd.read_csv(r'E:\\projects\\SHIFT\\предыдущие_наработки\\right_answers.csv')\n",
    "res_ivan = pd.read_csv(r'E:\\projects\\SHIFT\\От_Ивана\\ШИФТ тест\\Решения\\1) 04_02_2024\\answer_ivan.csv')\n",
    "res_vera = pd.read_csv(r'E:\\projects\\SHIFT\\От_Ивана\\ШИФТ тест\\Решения\\4) Ivanova_Vera_SaintPetersburg 358\\shift_ml-main\\answer_vera.csv')\n",
    "res_cb_01 = pd.read_csv('../data/submit_cb_v_01_264.csv')\n",
    "res_cb_02 = pd.read_csv('../data/submit_cb_v_02.csv')\n",
    "res_cb_03 = pd.read_csv('../data/submit_cb_v_03_270.csv')\n",
    "res_cb_04 = pd.read_csv('../data/submit_cb_v_04.csv')\n",
    "res_cb_05_all = pd.read_csv('../data/submit_cb_v_05_all_353.csv')\n",
    "res_cb_05_sf = pd.read_csv('../data/submit_cb_v_05_sf.csv')\n",
    "res_cb_05_sf_new_fit = pd.read_csv('../data/submit_cb_v_05_sf_new_fit_374.csv')\n",
    "\n",
    "res_cb_05_sf_new_fit_check = pd.read_csv('../data/submit_cb_v_05_sf_new_fit_check.csv')"
   ]
  },
  {
   "cell_type": "code",
   "execution_count": 111,
   "metadata": {},
   "outputs": [],
   "source": [
    "res = right_answers.loc[:].rename(columns={'preds': 'right_answers'})\n",
    "res['right_answers'] = res['right_answers'].apply(lambda x: f'{x:.0f}')\n",
    "res['ivan'] = res_ivan['preds']\n",
    "res['vera'] = res_vera['preds']\n",
    "res['cb_v_01_264'] = res_cb_01['preds']\n",
    "res['cb_v_02'] = res_cb_02['preds']\n",
    "res['cb_v_03_270'] = res_cb_03['preds']\n",
    "res['cb_v_04'] = res_cb_04['preds']\n",
    "res['cb_v_05_all_353'] = res_cb_05_all['preds']\n",
    "res['cb_v_05_sf'] = res_cb_05_sf['preds']\n",
    "res['cb_v_05_sf_new_fit'] = res_cb_05_sf_new_fit['preds']\n",
    "\n",
    "res['cb_v_05_sf_new_fit_check'] = res_cb_05_sf_new_fit_check['preds']"
   ]
  },
  {
   "cell_type": "code",
   "execution_count": 112,
   "metadata": {},
   "outputs": [
    {
     "data": {
      "text/html": [
       "<style type=\"text/css\">\n",
       "#T_5d480_row0_col1, #T_5d480_row1_col1, #T_5d480_row2_col1, #T_5d480_row3_col1, #T_5d480_row6_col1, #T_5d480_row7_col1, #T_5d480_row8_col1, #T_5d480_row9_col1, #T_5d480_row10_col1, #T_5d480_row13_col1, #T_5d480_row15_col1, #T_5d480_row16_col1, #T_5d480_row17_col1, #T_5d480_row18_col1, #T_5d480_row19_col1, #T_5d480_row21_col1, #T_5d480_row22_col1, #T_5d480_row23_col1, #T_5d480_row24_col1, #T_5d480_row25_col1, #T_5d480_row27_col1, #T_5d480_row28_col1, #T_5d480_row29_col1, #T_5d480_row30_col1, #T_5d480_row31_col1, #T_5d480_row32_col1, #T_5d480_row33_col1 {\n",
       "  background-color: red;\n",
       "}\n",
       "#T_5d480_row0_col2, #T_5d480_row0_col4, #T_5d480_row0_col6, #T_5d480_row0_col7, #T_5d480_row0_col8, #T_5d480_row0_col9, #T_5d480_row0_col10, #T_5d480_row0_col11, #T_5d480_row1_col2, #T_5d480_row1_col4, #T_5d480_row1_col5, #T_5d480_row1_col6, #T_5d480_row1_col8, #T_5d480_row1_col9, #T_5d480_row1_col10, #T_5d480_row1_col11, #T_5d480_row2_col8, #T_5d480_row2_col9, #T_5d480_row2_col10, #T_5d480_row2_col11, #T_5d480_row3_col2, #T_5d480_row3_col4, #T_5d480_row3_col5, #T_5d480_row3_col6, #T_5d480_row3_col7, #T_5d480_row3_col8, #T_5d480_row3_col9, #T_5d480_row3_col10, #T_5d480_row3_col11, #T_5d480_row6_col2, #T_5d480_row6_col4, #T_5d480_row6_col6, #T_5d480_row6_col7, #T_5d480_row6_col8, #T_5d480_row6_col9, #T_5d480_row6_col10, #T_5d480_row6_col11, #T_5d480_row7_col2, #T_5d480_row7_col4, #T_5d480_row7_col5, #T_5d480_row7_col6, #T_5d480_row7_col8, #T_5d480_row7_col9, #T_5d480_row7_col10, #T_5d480_row7_col11, #T_5d480_row10_col2, #T_5d480_row10_col4, #T_5d480_row10_col5, #T_5d480_row10_col6, #T_5d480_row10_col7, #T_5d480_row10_col8, #T_5d480_row10_col9, #T_5d480_row10_col10, #T_5d480_row10_col11, #T_5d480_row11_col2, #T_5d480_row11_col4, #T_5d480_row11_col6, #T_5d480_row12_col5, #T_5d480_row13_col2, #T_5d480_row13_col4, #T_5d480_row13_col5, #T_5d480_row13_col6, #T_5d480_row13_col7, #T_5d480_row13_col8, #T_5d480_row13_col9, #T_5d480_row13_col10, #T_5d480_row13_col11, #T_5d480_row15_col2, #T_5d480_row15_col4, #T_5d480_row15_col5, #T_5d480_row15_col6, #T_5d480_row15_col8, #T_5d480_row15_col9, #T_5d480_row15_col10, #T_5d480_row15_col11, #T_5d480_row16_col2, #T_5d480_row18_col2, #T_5d480_row18_col4, #T_5d480_row18_col5, #T_5d480_row18_col6, #T_5d480_row18_col7, #T_5d480_row18_col8, #T_5d480_row18_col9, #T_5d480_row18_col10, #T_5d480_row18_col11, #T_5d480_row19_col2, #T_5d480_row19_col4, #T_5d480_row19_col5, #T_5d480_row19_col6, #T_5d480_row19_col7, #T_5d480_row19_col8, #T_5d480_row19_col9, #T_5d480_row19_col10, #T_5d480_row19_col11, #T_5d480_row21_col2, #T_5d480_row21_col4, #T_5d480_row21_col5, #T_5d480_row21_col6, #T_5d480_row21_col7, #T_5d480_row21_col10, #T_5d480_row21_col11, #T_5d480_row22_col2, #T_5d480_row22_col4, #T_5d480_row22_col8, #T_5d480_row22_col9, #T_5d480_row22_col10, #T_5d480_row22_col11, #T_5d480_row23_col2, #T_5d480_row23_col4, #T_5d480_row23_col5, #T_5d480_row23_col6, #T_5d480_row23_col7, #T_5d480_row23_col8, #T_5d480_row23_col9, #T_5d480_row23_col10, #T_5d480_row23_col11, #T_5d480_row24_col2, #T_5d480_row24_col4, #T_5d480_row24_col5, #T_5d480_row24_col6, #T_5d480_row24_col7, #T_5d480_row24_col8, #T_5d480_row24_col9, #T_5d480_row24_col10, #T_5d480_row24_col11, #T_5d480_row25_col2, #T_5d480_row25_col8, #T_5d480_row25_col9, #T_5d480_row25_col10, #T_5d480_row25_col11, #T_5d480_row27_col2, #T_5d480_row27_col4, #T_5d480_row27_col6, #T_5d480_row27_col7, #T_5d480_row27_col8, #T_5d480_row27_col9, #T_5d480_row27_col10, #T_5d480_row27_col11, #T_5d480_row28_col2, #T_5d480_row28_col5, #T_5d480_row28_col6, #T_5d480_row28_col7, #T_5d480_row28_col8, #T_5d480_row28_col9, #T_5d480_row28_col10, #T_5d480_row28_col11, #T_5d480_row29_col2, #T_5d480_row29_col4, #T_5d480_row29_col5, #T_5d480_row29_col6, #T_5d480_row29_col7, #T_5d480_row29_col10, #T_5d480_row29_col11, #T_5d480_row30_col2, #T_5d480_row30_col4, #T_5d480_row30_col5, #T_5d480_row30_col6, #T_5d480_row30_col8, #T_5d480_row30_col9, #T_5d480_row30_col10, #T_5d480_row30_col11, #T_5d480_row31_col2, #T_5d480_row31_col4, #T_5d480_row31_col6, #T_5d480_row31_col8, #T_5d480_row31_col9, #T_5d480_row31_col10, #T_5d480_row31_col11, #T_5d480_row32_col2, #T_5d480_row32_col8, #T_5d480_row32_col9, #T_5d480_row32_col10, #T_5d480_row32_col11, #T_5d480_row33_col2, #T_5d480_row33_col4, #T_5d480_row33_col6, #T_5d480_row33_col8, #T_5d480_row33_col9, #T_5d480_row33_col10, #T_5d480_row33_col11 {\n",
       "  background-color: green;\n",
       "}\n",
       "</style>\n",
       "<table id=\"T_5d480\">\n",
       "  <thead>\n",
       "    <tr>\n",
       "      <th class=\"blank level0\" >&nbsp;</th>\n",
       "      <th id=\"T_5d480_level0_col0\" class=\"col_heading level0 col0\" >user_word</th>\n",
       "      <th id=\"T_5d480_level0_col1\" class=\"col_heading level0 col1\" >right_answers</th>\n",
       "      <th id=\"T_5d480_level0_col2\" class=\"col_heading level0 col2\" >ivan</th>\n",
       "      <th id=\"T_5d480_level0_col3\" class=\"col_heading level0 col3\" >vera</th>\n",
       "      <th id=\"T_5d480_level0_col4\" class=\"col_heading level0 col4\" >cb_v_01_264</th>\n",
       "      <th id=\"T_5d480_level0_col5\" class=\"col_heading level0 col5\" >cb_v_02</th>\n",
       "      <th id=\"T_5d480_level0_col6\" class=\"col_heading level0 col6\" >cb_v_03_270</th>\n",
       "      <th id=\"T_5d480_level0_col7\" class=\"col_heading level0 col7\" >cb_v_04</th>\n",
       "      <th id=\"T_5d480_level0_col8\" class=\"col_heading level0 col8\" >cb_v_05_all_353</th>\n",
       "      <th id=\"T_5d480_level0_col9\" class=\"col_heading level0 col9\" >cb_v_05_sf</th>\n",
       "      <th id=\"T_5d480_level0_col10\" class=\"col_heading level0 col10\" >cb_v_05_sf_new_fit</th>\n",
       "      <th id=\"T_5d480_level0_col11\" class=\"col_heading level0 col11\" >cb_v_05_sf_new_fit_check</th>\n",
       "    </tr>\n",
       "  </thead>\n",
       "  <tbody>\n",
       "    <tr>\n",
       "      <th id=\"T_5d480_level0_row0\" class=\"row_heading level0 row0\" >0</th>\n",
       "      <td id=\"T_5d480_row0_col0\" class=\"data row0 col0\" >aucroc</td>\n",
       "      <td id=\"T_5d480_row0_col1\" class=\"data row0 col1\" >24</td>\n",
       "      <td id=\"T_5d480_row0_col2\" class=\"data row0 col2\" >24</td>\n",
       "      <td id=\"T_5d480_row0_col3\" class=\"data row0 col3\" >24</td>\n",
       "      <td id=\"T_5d480_row0_col4\" class=\"data row0 col4\" >24</td>\n",
       "      <td id=\"T_5d480_row0_col5\" class=\"data row0 col5\" >49</td>\n",
       "      <td id=\"T_5d480_row0_col6\" class=\"data row0 col6\" >24</td>\n",
       "      <td id=\"T_5d480_row0_col7\" class=\"data row0 col7\" >24</td>\n",
       "      <td id=\"T_5d480_row0_col8\" class=\"data row0 col8\" >24</td>\n",
       "      <td id=\"T_5d480_row0_col9\" class=\"data row0 col9\" >24</td>\n",
       "      <td id=\"T_5d480_row0_col10\" class=\"data row0 col10\" >24</td>\n",
       "      <td id=\"T_5d480_row0_col11\" class=\"data row0 col11\" >24</td>\n",
       "    </tr>\n",
       "    <tr>\n",
       "      <th id=\"T_5d480_level0_row1\" class=\"row_heading level0 row1\" >1</th>\n",
       "      <td id=\"T_5d480_row1_col0\" class=\"data row1 col0\" >binary</td>\n",
       "      <td id=\"T_5d480_row1_col1\" class=\"data row1 col1\" >12</td>\n",
       "      <td id=\"T_5d480_row1_col2\" class=\"data row1 col2\" >12</td>\n",
       "      <td id=\"T_5d480_row1_col3\" class=\"data row1 col3\" >12</td>\n",
       "      <td id=\"T_5d480_row1_col4\" class=\"data row1 col4\" >12</td>\n",
       "      <td id=\"T_5d480_row1_col5\" class=\"data row1 col5\" >12</td>\n",
       "      <td id=\"T_5d480_row1_col6\" class=\"data row1 col6\" >12</td>\n",
       "      <td id=\"T_5d480_row1_col7\" class=\"data row1 col7\" >-999</td>\n",
       "      <td id=\"T_5d480_row1_col8\" class=\"data row1 col8\" >12</td>\n",
       "      <td id=\"T_5d480_row1_col9\" class=\"data row1 col9\" >12</td>\n",
       "      <td id=\"T_5d480_row1_col10\" class=\"data row1 col10\" >12</td>\n",
       "      <td id=\"T_5d480_row1_col11\" class=\"data row1 col11\" >12</td>\n",
       "    </tr>\n",
       "    <tr>\n",
       "      <th id=\"T_5d480_level0_row2\" class=\"row_heading level0 row2\" >2</th>\n",
       "      <td id=\"T_5d480_row2_col0\" class=\"data row2 col0\" >blue</td>\n",
       "      <td id=\"T_5d480_row2_col1\" class=\"data row2 col1\" >56</td>\n",
       "      <td id=\"T_5d480_row2_col2\" class=\"data row2 col2\" >-999</td>\n",
       "      <td id=\"T_5d480_row2_col3\" class=\"data row2 col3\" >56</td>\n",
       "      <td id=\"T_5d480_row2_col4\" class=\"data row2 col4\" >-999</td>\n",
       "      <td id=\"T_5d480_row2_col5\" class=\"data row2 col5\" >-999</td>\n",
       "      <td id=\"T_5d480_row2_col6\" class=\"data row2 col6\" >-999</td>\n",
       "      <td id=\"T_5d480_row2_col7\" class=\"data row2 col7\" >-999</td>\n",
       "      <td id=\"T_5d480_row2_col8\" class=\"data row2 col8\" >56</td>\n",
       "      <td id=\"T_5d480_row2_col9\" class=\"data row2 col9\" >56</td>\n",
       "      <td id=\"T_5d480_row2_col10\" class=\"data row2 col10\" >56</td>\n",
       "      <td id=\"T_5d480_row2_col11\" class=\"data row2 col11\" >56</td>\n",
       "    </tr>\n",
       "    <tr>\n",
       "      <th id=\"T_5d480_level0_row3\" class=\"row_heading level0 row3\" >3</th>\n",
       "      <td id=\"T_5d480_row3_col0\" class=\"data row3 col0\" >categorical</td>\n",
       "      <td id=\"T_5d480_row3_col1\" class=\"data row3 col1\" >14</td>\n",
       "      <td id=\"T_5d480_row3_col2\" class=\"data row3 col2\" >14</td>\n",
       "      <td id=\"T_5d480_row3_col3\" class=\"data row3 col3\" >14</td>\n",
       "      <td id=\"T_5d480_row3_col4\" class=\"data row3 col4\" >14</td>\n",
       "      <td id=\"T_5d480_row3_col5\" class=\"data row3 col5\" >14</td>\n",
       "      <td id=\"T_5d480_row3_col6\" class=\"data row3 col6\" >14</td>\n",
       "      <td id=\"T_5d480_row3_col7\" class=\"data row3 col7\" >14</td>\n",
       "      <td id=\"T_5d480_row3_col8\" class=\"data row3 col8\" >14</td>\n",
       "      <td id=\"T_5d480_row3_col9\" class=\"data row3 col9\" >14</td>\n",
       "      <td id=\"T_5d480_row3_col10\" class=\"data row3 col10\" >14</td>\n",
       "      <td id=\"T_5d480_row3_col11\" class=\"data row3 col11\" >14</td>\n",
       "    </tr>\n",
       "    <tr>\n",
       "      <th id=\"T_5d480_level0_row4\" class=\"row_heading level0 row4\" >4</th>\n",
       "      <td id=\"T_5d480_row4_col0\" class=\"data row4 col0\" >coefficient</td>\n",
       "      <td id=\"T_5d480_row4_col1\" class=\"data row4 col1\" >nan</td>\n",
       "      <td id=\"T_5d480_row4_col2\" class=\"data row4 col2\" >-999</td>\n",
       "      <td id=\"T_5d480_row4_col3\" class=\"data row4 col3\" >27</td>\n",
       "      <td id=\"T_5d480_row4_col4\" class=\"data row4 col4\" >22</td>\n",
       "      <td id=\"T_5d480_row4_col5\" class=\"data row4 col5\" >22</td>\n",
       "      <td id=\"T_5d480_row4_col6\" class=\"data row4 col6\" >22</td>\n",
       "      <td id=\"T_5d480_row4_col7\" class=\"data row4 col7\" >26</td>\n",
       "      <td id=\"T_5d480_row4_col8\" class=\"data row4 col8\" >22</td>\n",
       "      <td id=\"T_5d480_row4_col9\" class=\"data row4 col9\" >22</td>\n",
       "      <td id=\"T_5d480_row4_col10\" class=\"data row4 col10\" >-999</td>\n",
       "      <td id=\"T_5d480_row4_col11\" class=\"data row4 col11\" >-999</td>\n",
       "    </tr>\n",
       "    <tr>\n",
       "      <th id=\"T_5d480_level0_row5\" class=\"row_heading level0 row5\" >5</th>\n",
       "      <td id=\"T_5d480_row5_col0\" class=\"data row5 col0\" >collinear</td>\n",
       "      <td id=\"T_5d480_row5_col1\" class=\"data row5 col1\" >nan</td>\n",
       "      <td id=\"T_5d480_row5_col2\" class=\"data row5 col2\" >-999</td>\n",
       "      <td id=\"T_5d480_row5_col3\" class=\"data row5 col3\" >23</td>\n",
       "      <td id=\"T_5d480_row5_col4\" class=\"data row5 col4\" >-999</td>\n",
       "      <td id=\"T_5d480_row5_col5\" class=\"data row5 col5\" >-999</td>\n",
       "      <td id=\"T_5d480_row5_col6\" class=\"data row5 col6\" >47</td>\n",
       "      <td id=\"T_5d480_row5_col7\" class=\"data row5 col7\" >-999</td>\n",
       "      <td id=\"T_5d480_row5_col8\" class=\"data row5 col8\" >33</td>\n",
       "      <td id=\"T_5d480_row5_col9\" class=\"data row5 col9\" >33</td>\n",
       "      <td id=\"T_5d480_row5_col10\" class=\"data row5 col10\" >22</td>\n",
       "      <td id=\"T_5d480_row5_col11\" class=\"data row5 col11\" >22</td>\n",
       "    </tr>\n",
       "    <tr>\n",
       "      <th id=\"T_5d480_level0_row6\" class=\"row_heading level0 row6\" >6</th>\n",
       "      <td id=\"T_5d480_row6_col0\" class=\"data row6 col0\" >distributed</td>\n",
       "      <td id=\"T_5d480_row6_col1\" class=\"data row6 col1\" >0</td>\n",
       "      <td id=\"T_5d480_row6_col2\" class=\"data row6 col2\" >0</td>\n",
       "      <td id=\"T_5d480_row6_col3\" class=\"data row6 col3\" >0</td>\n",
       "      <td id=\"T_5d480_row6_col4\" class=\"data row6 col4\" >0</td>\n",
       "      <td id=\"T_5d480_row6_col5\" class=\"data row6 col5\" >35</td>\n",
       "      <td id=\"T_5d480_row6_col6\" class=\"data row6 col6\" >0</td>\n",
       "      <td id=\"T_5d480_row6_col7\" class=\"data row6 col7\" >0</td>\n",
       "      <td id=\"T_5d480_row6_col8\" class=\"data row6 col8\" >0</td>\n",
       "      <td id=\"T_5d480_row6_col9\" class=\"data row6 col9\" >0</td>\n",
       "      <td id=\"T_5d480_row6_col10\" class=\"data row6 col10\" >0</td>\n",
       "      <td id=\"T_5d480_row6_col11\" class=\"data row6 col11\" >0</td>\n",
       "    </tr>\n",
       "    <tr>\n",
       "      <th id=\"T_5d480_level0_row7\" class=\"row_heading level0 row7\" >7</th>\n",
       "      <td id=\"T_5d480_row7_col0\" class=\"data row7 col0\" >epsilon</td>\n",
       "      <td id=\"T_5d480_row7_col1\" class=\"data row7 col1\" >1</td>\n",
       "      <td id=\"T_5d480_row7_col2\" class=\"data row7 col2\" >1</td>\n",
       "      <td id=\"T_5d480_row7_col3\" class=\"data row7 col3\" >1</td>\n",
       "      <td id=\"T_5d480_row7_col4\" class=\"data row7 col4\" >1</td>\n",
       "      <td id=\"T_5d480_row7_col5\" class=\"data row7 col5\" >1</td>\n",
       "      <td id=\"T_5d480_row7_col6\" class=\"data row7 col6\" >1</td>\n",
       "      <td id=\"T_5d480_row7_col7\" class=\"data row7 col7\" >49</td>\n",
       "      <td id=\"T_5d480_row7_col8\" class=\"data row7 col8\" >1</td>\n",
       "      <td id=\"T_5d480_row7_col9\" class=\"data row7 col9\" >1</td>\n",
       "      <td id=\"T_5d480_row7_col10\" class=\"data row7 col10\" >1</td>\n",
       "      <td id=\"T_5d480_row7_col11\" class=\"data row7 col11\" >1</td>\n",
       "    </tr>\n",
       "    <tr>\n",
       "      <th id=\"T_5d480_level0_row8\" class=\"row_heading level0 row8\" >8</th>\n",
       "      <td id=\"T_5d480_row8_col0\" class=\"data row8 col0\" >f1</td>\n",
       "      <td id=\"T_5d480_row8_col1\" class=\"data row8 col1\" >6</td>\n",
       "      <td id=\"T_5d480_row8_col2\" class=\"data row8 col2\" >6</td>\n",
       "      <td id=\"T_5d480_row8_col3\" class=\"data row8 col3\" >18</td>\n",
       "      <td id=\"T_5d480_row8_col4\" class=\"data row8 col4\" >37</td>\n",
       "      <td id=\"T_5d480_row8_col5\" class=\"data row8 col5\" >6</td>\n",
       "      <td id=\"T_5d480_row8_col6\" class=\"data row8 col6\" >6</td>\n",
       "      <td id=\"T_5d480_row8_col7\" class=\"data row8 col7\" >37</td>\n",
       "      <td id=\"T_5d480_row8_col8\" class=\"data row8 col8\" >6</td>\n",
       "      <td id=\"T_5d480_row8_col9\" class=\"data row8 col9\" >6</td>\n",
       "      <td id=\"T_5d480_row8_col10\" class=\"data row8 col10\" >6</td>\n",
       "      <td id=\"T_5d480_row8_col11\" class=\"data row8 col11\" >6</td>\n",
       "    </tr>\n",
       "    <tr>\n",
       "      <th id=\"T_5d480_level0_row9\" class=\"row_heading level0 row9\" >9</th>\n",
       "      <td id=\"T_5d480_row9_col0\" class=\"data row9 col0\" >fit</td>\n",
       "      <td id=\"T_5d480_row9_col1\" class=\"data row9 col1\" >2</td>\n",
       "      <td id=\"T_5d480_row9_col2\" class=\"data row9 col2\" >23</td>\n",
       "      <td id=\"T_5d480_row9_col3\" class=\"data row9 col3\" >6</td>\n",
       "      <td id=\"T_5d480_row9_col4\" class=\"data row9 col4\" >-999</td>\n",
       "      <td id=\"T_5d480_row9_col5\" class=\"data row9 col5\" >23</td>\n",
       "      <td id=\"T_5d480_row9_col6\" class=\"data row9 col6\" >37</td>\n",
       "      <td id=\"T_5d480_row9_col7\" class=\"data row9 col7\" >23</td>\n",
       "      <td id=\"T_5d480_row9_col8\" class=\"data row9 col8\" >2</td>\n",
       "      <td id=\"T_5d480_row9_col9\" class=\"data row9 col9\" >2</td>\n",
       "      <td id=\"T_5d480_row9_col10\" class=\"data row9 col10\" >2</td>\n",
       "      <td id=\"T_5d480_row9_col11\" class=\"data row9 col11\" >2</td>\n",
       "    </tr>\n",
       "    <tr>\n",
       "      <th id=\"T_5d480_level0_row10\" class=\"row_heading level0 row10\" >10</th>\n",
       "      <td id=\"T_5d480_row10_col0\" class=\"data row10 col0\" >gini</td>\n",
       "      <td id=\"T_5d480_row10_col1\" class=\"data row10 col1\" >15</td>\n",
       "      <td id=\"T_5d480_row10_col2\" class=\"data row10 col2\" >15</td>\n",
       "      <td id=\"T_5d480_row10_col3\" class=\"data row10 col3\" >15</td>\n",
       "      <td id=\"T_5d480_row10_col4\" class=\"data row10 col4\" >15</td>\n",
       "      <td id=\"T_5d480_row10_col5\" class=\"data row10 col5\" >15</td>\n",
       "      <td id=\"T_5d480_row10_col6\" class=\"data row10 col6\" >15</td>\n",
       "      <td id=\"T_5d480_row10_col7\" class=\"data row10 col7\" >15</td>\n",
       "      <td id=\"T_5d480_row10_col8\" class=\"data row10 col8\" >15</td>\n",
       "      <td id=\"T_5d480_row10_col9\" class=\"data row10 col9\" >15</td>\n",
       "      <td id=\"T_5d480_row10_col10\" class=\"data row10 col10\" >15</td>\n",
       "      <td id=\"T_5d480_row10_col11\" class=\"data row10 col11\" >15</td>\n",
       "    </tr>\n",
       "    <tr>\n",
       "      <th id=\"T_5d480_level0_row11\" class=\"row_heading level0 row11\" >11</th>\n",
       "      <td id=\"T_5d480_row11_col0\" class=\"data row11 col0\" >independent</td>\n",
       "      <td id=\"T_5d480_row11_col1\" class=\"data row11 col1\" >nan</td>\n",
       "      <td id=\"T_5d480_row11_col2\" class=\"data row11 col2\" >49</td>\n",
       "      <td id=\"T_5d480_row11_col3\" class=\"data row11 col3\" >49</td>\n",
       "      <td id=\"T_5d480_row11_col4\" class=\"data row11 col4\" >49</td>\n",
       "      <td id=\"T_5d480_row11_col5\" class=\"data row11 col5\" >-999</td>\n",
       "      <td id=\"T_5d480_row11_col6\" class=\"data row11 col6\" >49</td>\n",
       "      <td id=\"T_5d480_row11_col7\" class=\"data row11 col7\" >1</td>\n",
       "      <td id=\"T_5d480_row11_col8\" class=\"data row11 col8\" >39</td>\n",
       "      <td id=\"T_5d480_row11_col9\" class=\"data row11 col9\" >39</td>\n",
       "      <td id=\"T_5d480_row11_col10\" class=\"data row11 col10\" >26</td>\n",
       "      <td id=\"T_5d480_row11_col11\" class=\"data row11 col11\" >26</td>\n",
       "    </tr>\n",
       "    <tr>\n",
       "      <th id=\"T_5d480_level0_row12\" class=\"row_heading level0 row12\" >12</th>\n",
       "      <td id=\"T_5d480_row12_col0\" class=\"data row12 col0\" >lasso</td>\n",
       "      <td id=\"T_5d480_row12_col1\" class=\"data row12 col1\" >nan</td>\n",
       "      <td id=\"T_5d480_row12_col2\" class=\"data row12 col2\" >36</td>\n",
       "      <td id=\"T_5d480_row12_col3\" class=\"data row12 col3\" >25</td>\n",
       "      <td id=\"T_5d480_row12_col4\" class=\"data row12 col4\" >56</td>\n",
       "      <td id=\"T_5d480_row12_col5\" class=\"data row12 col5\" >25</td>\n",
       "      <td id=\"T_5d480_row12_col6\" class=\"data row12 col6\" >23</td>\n",
       "      <td id=\"T_5d480_row12_col7\" class=\"data row12 col7\" >46</td>\n",
       "      <td id=\"T_5d480_row12_col8\" class=\"data row12 col8\" >36</td>\n",
       "      <td id=\"T_5d480_row12_col9\" class=\"data row12 col9\" >36</td>\n",
       "      <td id=\"T_5d480_row12_col10\" class=\"data row12 col10\" >23</td>\n",
       "      <td id=\"T_5d480_row12_col11\" class=\"data row12 col11\" >23</td>\n",
       "    </tr>\n",
       "    <tr>\n",
       "      <th id=\"T_5d480_level0_row13\" class=\"row_heading level0 row13\" >13</th>\n",
       "      <td id=\"T_5d480_row13_col0\" class=\"data row13 col0\" >linear</td>\n",
       "      <td id=\"T_5d480_row13_col1\" class=\"data row13 col1\" >17</td>\n",
       "      <td id=\"T_5d480_row13_col2\" class=\"data row13 col2\" >17</td>\n",
       "      <td id=\"T_5d480_row13_col3\" class=\"data row13 col3\" >17</td>\n",
       "      <td id=\"T_5d480_row13_col4\" class=\"data row13 col4\" >17</td>\n",
       "      <td id=\"T_5d480_row13_col5\" class=\"data row13 col5\" >17</td>\n",
       "      <td id=\"T_5d480_row13_col6\" class=\"data row13 col6\" >17</td>\n",
       "      <td id=\"T_5d480_row13_col7\" class=\"data row13 col7\" >17</td>\n",
       "      <td id=\"T_5d480_row13_col8\" class=\"data row13 col8\" >17</td>\n",
       "      <td id=\"T_5d480_row13_col9\" class=\"data row13 col9\" >17</td>\n",
       "      <td id=\"T_5d480_row13_col10\" class=\"data row13 col10\" >17</td>\n",
       "      <td id=\"T_5d480_row13_col11\" class=\"data row13 col11\" >17</td>\n",
       "    </tr>\n",
       "    <tr>\n",
       "      <th id=\"T_5d480_level0_row14\" class=\"row_heading level0 row14\" >14</th>\n",
       "      <td id=\"T_5d480_row14_col0\" class=\"data row14 col0\" >logistic</td>\n",
       "      <td id=\"T_5d480_row14_col1\" class=\"data row14 col1\" >nan</td>\n",
       "      <td id=\"T_5d480_row14_col2\" class=\"data row14 col2\" >-999</td>\n",
       "      <td id=\"T_5d480_row14_col3\" class=\"data row14 col3\" >31</td>\n",
       "      <td id=\"T_5d480_row14_col4\" class=\"data row14 col4\" >23</td>\n",
       "      <td id=\"T_5d480_row14_col5\" class=\"data row14 col5\" >56</td>\n",
       "      <td id=\"T_5d480_row14_col6\" class=\"data row14 col6\" >56</td>\n",
       "      <td id=\"T_5d480_row14_col7\" class=\"data row14 col7\" >56</td>\n",
       "      <td id=\"T_5d480_row14_col8\" class=\"data row14 col8\" >-999</td>\n",
       "      <td id=\"T_5d480_row14_col9\" class=\"data row14 col9\" >-999</td>\n",
       "      <td id=\"T_5d480_row14_col10\" class=\"data row14 col10\" >-999</td>\n",
       "      <td id=\"T_5d480_row14_col11\" class=\"data row14 col11\" >-999</td>\n",
       "    </tr>\n",
       "    <tr>\n",
       "      <th id=\"T_5d480_level0_row15\" class=\"row_heading level0 row15\" >15</th>\n",
       "      <td id=\"T_5d480_row15_col0\" class=\"data row15 col0\" >loss</td>\n",
       "      <td id=\"T_5d480_row15_col1\" class=\"data row15 col1\" >19</td>\n",
       "      <td id=\"T_5d480_row15_col2\" class=\"data row15 col2\" >19</td>\n",
       "      <td id=\"T_5d480_row15_col3\" class=\"data row15 col3\" >19</td>\n",
       "      <td id=\"T_5d480_row15_col4\" class=\"data row15 col4\" >19</td>\n",
       "      <td id=\"T_5d480_row15_col5\" class=\"data row15 col5\" >19</td>\n",
       "      <td id=\"T_5d480_row15_col6\" class=\"data row15 col6\" >19</td>\n",
       "      <td id=\"T_5d480_row15_col7\" class=\"data row15 col7\" >-999</td>\n",
       "      <td id=\"T_5d480_row15_col8\" class=\"data row15 col8\" >19</td>\n",
       "      <td id=\"T_5d480_row15_col9\" class=\"data row15 col9\" >19</td>\n",
       "      <td id=\"T_5d480_row15_col10\" class=\"data row15 col10\" >19</td>\n",
       "      <td id=\"T_5d480_row15_col11\" class=\"data row15 col11\" >19</td>\n",
       "    </tr>\n",
       "    <tr>\n",
       "      <th id=\"T_5d480_level0_row16\" class=\"row_heading level0 row16\" >16</th>\n",
       "      <td id=\"T_5d480_row16_col0\" class=\"data row16 col0\" >matrix</td>\n",
       "      <td id=\"T_5d480_row16_col1\" class=\"data row16 col1\" >29</td>\n",
       "      <td id=\"T_5d480_row16_col2\" class=\"data row16 col2\" >29</td>\n",
       "      <td id=\"T_5d480_row16_col3\" class=\"data row16 col3\" >29</td>\n",
       "      <td id=\"T_5d480_row16_col4\" class=\"data row16 col4\" >48</td>\n",
       "      <td id=\"T_5d480_row16_col5\" class=\"data row16 col5\" >-999</td>\n",
       "      <td id=\"T_5d480_row16_col6\" class=\"data row16 col6\" >48</td>\n",
       "      <td id=\"T_5d480_row16_col7\" class=\"data row16 col7\" >32</td>\n",
       "      <td id=\"T_5d480_row16_col8\" class=\"data row16 col8\" >41</td>\n",
       "      <td id=\"T_5d480_row16_col9\" class=\"data row16 col9\" >41</td>\n",
       "      <td id=\"T_5d480_row16_col10\" class=\"data row16 col10\" >25</td>\n",
       "      <td id=\"T_5d480_row16_col11\" class=\"data row16 col11\" >25</td>\n",
       "    </tr>\n",
       "    <tr>\n",
       "      <th id=\"T_5d480_level0_row17\" class=\"row_heading level0 row17\" >17</th>\n",
       "      <td id=\"T_5d480_row17_col0\" class=\"data row17 col0\" >minimization</td>\n",
       "      <td id=\"T_5d480_row17_col1\" class=\"data row17 col1\" >50</td>\n",
       "      <td id=\"T_5d480_row17_col2\" class=\"data row17 col2\" >50</td>\n",
       "      <td id=\"T_5d480_row17_col3\" class=\"data row17 col3\" >48</td>\n",
       "      <td id=\"T_5d480_row17_col4\" class=\"data row17 col4\" >50</td>\n",
       "      <td id=\"T_5d480_row17_col5\" class=\"data row17 col5\" >50</td>\n",
       "      <td id=\"T_5d480_row17_col6\" class=\"data row17 col6\" >50</td>\n",
       "      <td id=\"T_5d480_row17_col7\" class=\"data row17 col7\" >29</td>\n",
       "      <td id=\"T_5d480_row17_col8\" class=\"data row17 col8\" >50</td>\n",
       "      <td id=\"T_5d480_row17_col9\" class=\"data row17 col9\" >50</td>\n",
       "      <td id=\"T_5d480_row17_col10\" class=\"data row17 col10\" >50</td>\n",
       "      <td id=\"T_5d480_row17_col11\" class=\"data row17 col11\" >50</td>\n",
       "    </tr>\n",
       "    <tr>\n",
       "      <th id=\"T_5d480_level0_row18\" class=\"row_heading level0 row18\" >18</th>\n",
       "      <td id=\"T_5d480_row18_col0\" class=\"data row18 col0\" >mse</td>\n",
       "      <td id=\"T_5d480_row18_col1\" class=\"data row18 col1\" >43</td>\n",
       "      <td id=\"T_5d480_row18_col2\" class=\"data row18 col2\" >43</td>\n",
       "      <td id=\"T_5d480_row18_col3\" class=\"data row18 col3\" >43</td>\n",
       "      <td id=\"T_5d480_row18_col4\" class=\"data row18 col4\" >43</td>\n",
       "      <td id=\"T_5d480_row18_col5\" class=\"data row18 col5\" >43</td>\n",
       "      <td id=\"T_5d480_row18_col6\" class=\"data row18 col6\" >43</td>\n",
       "      <td id=\"T_5d480_row18_col7\" class=\"data row18 col7\" >43</td>\n",
       "      <td id=\"T_5d480_row18_col8\" class=\"data row18 col8\" >43</td>\n",
       "      <td id=\"T_5d480_row18_col9\" class=\"data row18 col9\" >43</td>\n",
       "      <td id=\"T_5d480_row18_col10\" class=\"data row18 col10\" >43</td>\n",
       "      <td id=\"T_5d480_row18_col11\" class=\"data row18 col11\" >43</td>\n",
       "    </tr>\n",
       "    <tr>\n",
       "      <th id=\"T_5d480_level0_row19\" class=\"row_heading level0 row19\" >19</th>\n",
       "      <td id=\"T_5d480_row19_col0\" class=\"data row19 col0\" >ols</td>\n",
       "      <td id=\"T_5d480_row19_col1\" class=\"data row19 col1\" >11</td>\n",
       "      <td id=\"T_5d480_row19_col2\" class=\"data row19 col2\" >11</td>\n",
       "      <td id=\"T_5d480_row19_col3\" class=\"data row19 col3\" >11</td>\n",
       "      <td id=\"T_5d480_row19_col4\" class=\"data row19 col4\" >11</td>\n",
       "      <td id=\"T_5d480_row19_col5\" class=\"data row19 col5\" >11</td>\n",
       "      <td id=\"T_5d480_row19_col6\" class=\"data row19 col6\" >11</td>\n",
       "      <td id=\"T_5d480_row19_col7\" class=\"data row19 col7\" >11</td>\n",
       "      <td id=\"T_5d480_row19_col8\" class=\"data row19 col8\" >11</td>\n",
       "      <td id=\"T_5d480_row19_col9\" class=\"data row19 col9\" >11</td>\n",
       "      <td id=\"T_5d480_row19_col10\" class=\"data row19 col10\" >11</td>\n",
       "      <td id=\"T_5d480_row19_col11\" class=\"data row19 col11\" >11</td>\n",
       "    </tr>\n",
       "    <tr>\n",
       "      <th id=\"T_5d480_level0_row20\" class=\"row_heading level0 row20\" >20</th>\n",
       "      <td id=\"T_5d480_row20_col0\" class=\"data row20 col0\" >precision</td>\n",
       "      <td id=\"T_5d480_row20_col1\" class=\"data row20 col1\" >nan</td>\n",
       "      <td id=\"T_5d480_row20_col2\" class=\"data row20 col2\" >-999</td>\n",
       "      <td id=\"T_5d480_row20_col3\" class=\"data row20 col3\" >8</td>\n",
       "      <td id=\"T_5d480_row20_col4\" class=\"data row20 col4\" >-999</td>\n",
       "      <td id=\"T_5d480_row20_col5\" class=\"data row20 col5\" >9</td>\n",
       "      <td id=\"T_5d480_row20_col6\" class=\"data row20 col6\" >-999</td>\n",
       "      <td id=\"T_5d480_row20_col7\" class=\"data row20 col7\" >9</td>\n",
       "      <td id=\"T_5d480_row20_col8\" class=\"data row20 col8\" >-999</td>\n",
       "      <td id=\"T_5d480_row20_col9\" class=\"data row20 col9\" >-999</td>\n",
       "      <td id=\"T_5d480_row20_col10\" class=\"data row20 col10\" >-999</td>\n",
       "      <td id=\"T_5d480_row20_col11\" class=\"data row20 col11\" >-999</td>\n",
       "    </tr>\n",
       "    <tr>\n",
       "      <th id=\"T_5d480_level0_row21\" class=\"row_heading level0 row21\" >21</th>\n",
       "      <td id=\"T_5d480_row21_col0\" class=\"data row21 col0\" >predict</td>\n",
       "      <td id=\"T_5d480_row21_col1\" class=\"data row21 col1\" >39</td>\n",
       "      <td id=\"T_5d480_row21_col2\" class=\"data row21 col2\" >39</td>\n",
       "      <td id=\"T_5d480_row21_col3\" class=\"data row21 col3\" >39</td>\n",
       "      <td id=\"T_5d480_row21_col4\" class=\"data row21 col4\" >39</td>\n",
       "      <td id=\"T_5d480_row21_col5\" class=\"data row21 col5\" >39</td>\n",
       "      <td id=\"T_5d480_row21_col6\" class=\"data row21 col6\" >39</td>\n",
       "      <td id=\"T_5d480_row21_col7\" class=\"data row21 col7\" >39</td>\n",
       "      <td id=\"T_5d480_row21_col8\" class=\"data row21 col8\" >23</td>\n",
       "      <td id=\"T_5d480_row21_col9\" class=\"data row21 col9\" >23</td>\n",
       "      <td id=\"T_5d480_row21_col10\" class=\"data row21 col10\" >39</td>\n",
       "      <td id=\"T_5d480_row21_col11\" class=\"data row21 col11\" >39</td>\n",
       "    </tr>\n",
       "    <tr>\n",
       "      <th id=\"T_5d480_level0_row22\" class=\"row_heading level0 row22\" >22</th>\n",
       "      <td id=\"T_5d480_row22_col0\" class=\"data row22 col0\" >pvalue</td>\n",
       "      <td id=\"T_5d480_row22_col1\" class=\"data row22 col1\" >32</td>\n",
       "      <td id=\"T_5d480_row22_col2\" class=\"data row22 col2\" >32</td>\n",
       "      <td id=\"T_5d480_row22_col3\" class=\"data row22 col3\" >32</td>\n",
       "      <td id=\"T_5d480_row22_col4\" class=\"data row22 col4\" >32</td>\n",
       "      <td id=\"T_5d480_row22_col5\" class=\"data row22 col5\" >0</td>\n",
       "      <td id=\"T_5d480_row22_col6\" class=\"data row22 col6\" >29</td>\n",
       "      <td id=\"T_5d480_row22_col7\" class=\"data row22 col7\" >-999</td>\n",
       "      <td id=\"T_5d480_row22_col8\" class=\"data row22 col8\" >32</td>\n",
       "      <td id=\"T_5d480_row22_col9\" class=\"data row22 col9\" >32</td>\n",
       "      <td id=\"T_5d480_row22_col10\" class=\"data row22 col10\" >32</td>\n",
       "      <td id=\"T_5d480_row22_col11\" class=\"data row22 col11\" >32</td>\n",
       "    </tr>\n",
       "    <tr>\n",
       "      <th id=\"T_5d480_level0_row23\" class=\"row_heading level0 row23\" >23</th>\n",
       "      <td id=\"T_5d480_row23_col0\" class=\"data row23 col0\" >r2</td>\n",
       "      <td id=\"T_5d480_row23_col1\" class=\"data row23 col1\" >54</td>\n",
       "      <td id=\"T_5d480_row23_col2\" class=\"data row23 col2\" >54</td>\n",
       "      <td id=\"T_5d480_row23_col3\" class=\"data row23 col3\" >54</td>\n",
       "      <td id=\"T_5d480_row23_col4\" class=\"data row23 col4\" >54</td>\n",
       "      <td id=\"T_5d480_row23_col5\" class=\"data row23 col5\" >54</td>\n",
       "      <td id=\"T_5d480_row23_col6\" class=\"data row23 col6\" >54</td>\n",
       "      <td id=\"T_5d480_row23_col7\" class=\"data row23 col7\" >54</td>\n",
       "      <td id=\"T_5d480_row23_col8\" class=\"data row23 col8\" >54</td>\n",
       "      <td id=\"T_5d480_row23_col9\" class=\"data row23 col9\" >54</td>\n",
       "      <td id=\"T_5d480_row23_col10\" class=\"data row23 col10\" >54</td>\n",
       "      <td id=\"T_5d480_row23_col11\" class=\"data row23 col11\" >54</td>\n",
       "    </tr>\n",
       "    <tr>\n",
       "      <th id=\"T_5d480_level0_row24\" class=\"row_heading level0 row24\" >24</th>\n",
       "      <td id=\"T_5d480_row24_col0\" class=\"data row24 col0\" >recall</td>\n",
       "      <td id=\"T_5d480_row24_col1\" class=\"data row24 col1\" >3</td>\n",
       "      <td id=\"T_5d480_row24_col2\" class=\"data row24 col2\" >3</td>\n",
       "      <td id=\"T_5d480_row24_col3\" class=\"data row24 col3\" >3</td>\n",
       "      <td id=\"T_5d480_row24_col4\" class=\"data row24 col4\" >3</td>\n",
       "      <td id=\"T_5d480_row24_col5\" class=\"data row24 col5\" >3</td>\n",
       "      <td id=\"T_5d480_row24_col6\" class=\"data row24 col6\" >3</td>\n",
       "      <td id=\"T_5d480_row24_col7\" class=\"data row24 col7\" >3</td>\n",
       "      <td id=\"T_5d480_row24_col8\" class=\"data row24 col8\" >3</td>\n",
       "      <td id=\"T_5d480_row24_col9\" class=\"data row24 col9\" >3</td>\n",
       "      <td id=\"T_5d480_row24_col10\" class=\"data row24 col10\" >3</td>\n",
       "      <td id=\"T_5d480_row24_col11\" class=\"data row24 col11\" >3</td>\n",
       "    </tr>\n",
       "    <tr>\n",
       "      <th id=\"T_5d480_level0_row25\" class=\"row_heading level0 row25\" >25</th>\n",
       "      <td id=\"T_5d480_row25_col0\" class=\"data row25 col0\" >regression</td>\n",
       "      <td id=\"T_5d480_row25_col1\" class=\"data row25 col1\" >-999</td>\n",
       "      <td id=\"T_5d480_row25_col2\" class=\"data row25 col2\" >-999</td>\n",
       "      <td id=\"T_5d480_row25_col3\" class=\"data row25 col3\" >-999</td>\n",
       "      <td id=\"T_5d480_row25_col4\" class=\"data row25 col4\" >25</td>\n",
       "      <td id=\"T_5d480_row25_col5\" class=\"data row25 col5\" >32</td>\n",
       "      <td id=\"T_5d480_row25_col6\" class=\"data row25 col6\" >32</td>\n",
       "      <td id=\"T_5d480_row25_col7\" class=\"data row25 col7\" >19</td>\n",
       "      <td id=\"T_5d480_row25_col8\" class=\"data row25 col8\" >-999</td>\n",
       "      <td id=\"T_5d480_row25_col9\" class=\"data row25 col9\" >-999</td>\n",
       "      <td id=\"T_5d480_row25_col10\" class=\"data row25 col10\" >-999</td>\n",
       "      <td id=\"T_5d480_row25_col11\" class=\"data row25 col11\" >-999</td>\n",
       "    </tr>\n",
       "    <tr>\n",
       "      <th id=\"T_5d480_level0_row26\" class=\"row_heading level0 row26\" >26</th>\n",
       "      <td id=\"T_5d480_row26_col0\" class=\"data row26 col0\" >residual</td>\n",
       "      <td id=\"T_5d480_row26_col1\" class=\"data row26 col1\" >nan</td>\n",
       "      <td id=\"T_5d480_row26_col2\" class=\"data row26 col2\" >-999</td>\n",
       "      <td id=\"T_5d480_row26_col3\" class=\"data row26 col3\" >47</td>\n",
       "      <td id=\"T_5d480_row26_col4\" class=\"data row26 col4\" >-999</td>\n",
       "      <td id=\"T_5d480_row26_col5\" class=\"data row26 col5\" >-999</td>\n",
       "      <td id=\"T_5d480_row26_col6\" class=\"data row26 col6\" >-999</td>\n",
       "      <td id=\"T_5d480_row26_col7\" class=\"data row26 col7\" >50</td>\n",
       "      <td id=\"T_5d480_row26_col8\" class=\"data row26 col8\" >29</td>\n",
       "      <td id=\"T_5d480_row26_col9\" class=\"data row26 col9\" >29</td>\n",
       "      <td id=\"T_5d480_row26_col10\" class=\"data row26 col10\" >29</td>\n",
       "      <td id=\"T_5d480_row26_col11\" class=\"data row26 col11\" >29</td>\n",
       "    </tr>\n",
       "    <tr>\n",
       "      <th id=\"T_5d480_level0_row27\" class=\"row_heading level0 row27\" >27</th>\n",
       "      <td id=\"T_5d480_row27_col0\" class=\"data row27 col0\" >ridge</td>\n",
       "      <td id=\"T_5d480_row27_col1\" class=\"data row27 col1\" >35</td>\n",
       "      <td id=\"T_5d480_row27_col2\" class=\"data row27 col2\" >35</td>\n",
       "      <td id=\"T_5d480_row27_col3\" class=\"data row27 col3\" >35</td>\n",
       "      <td id=\"T_5d480_row27_col4\" class=\"data row27 col4\" >35</td>\n",
       "      <td id=\"T_5d480_row27_col5\" class=\"data row27 col5\" >48</td>\n",
       "      <td id=\"T_5d480_row27_col6\" class=\"data row27 col6\" >35</td>\n",
       "      <td id=\"T_5d480_row27_col7\" class=\"data row27 col7\" >35</td>\n",
       "      <td id=\"T_5d480_row27_col8\" class=\"data row27 col8\" >35</td>\n",
       "      <td id=\"T_5d480_row27_col9\" class=\"data row27 col9\" >35</td>\n",
       "      <td id=\"T_5d480_row27_col10\" class=\"data row27 col10\" >35</td>\n",
       "      <td id=\"T_5d480_row27_col11\" class=\"data row27 col11\" >35</td>\n",
       "    </tr>\n",
       "    <tr>\n",
       "      <th id=\"T_5d480_level0_row28\" class=\"row_heading level0 row28\" >28</th>\n",
       "      <td id=\"T_5d480_row28_col0\" class=\"data row28 col0\" >sigmoid</td>\n",
       "      <td id=\"T_5d480_row28_col1\" class=\"data row28 col1\" >55</td>\n",
       "      <td id=\"T_5d480_row28_col2\" class=\"data row28 col2\" >55</td>\n",
       "      <td id=\"T_5d480_row28_col3\" class=\"data row28 col3\" >55</td>\n",
       "      <td id=\"T_5d480_row28_col4\" class=\"data row28 col4\" >26</td>\n",
       "      <td id=\"T_5d480_row28_col5\" class=\"data row28 col5\" >55</td>\n",
       "      <td id=\"T_5d480_row28_col6\" class=\"data row28 col6\" >55</td>\n",
       "      <td id=\"T_5d480_row28_col7\" class=\"data row28 col7\" >55</td>\n",
       "      <td id=\"T_5d480_row28_col8\" class=\"data row28 col8\" >55</td>\n",
       "      <td id=\"T_5d480_row28_col9\" class=\"data row28 col9\" >55</td>\n",
       "      <td id=\"T_5d480_row28_col10\" class=\"data row28 col10\" >55</td>\n",
       "      <td id=\"T_5d480_row28_col11\" class=\"data row28 col11\" >55</td>\n",
       "    </tr>\n",
       "    <tr>\n",
       "      <th id=\"T_5d480_level0_row29\" class=\"row_heading level0 row29\" >29</th>\n",
       "      <td id=\"T_5d480_row29_col0\" class=\"data row29 col0\" >significant</td>\n",
       "      <td id=\"T_5d480_row29_col1\" class=\"data row29 col1\" >33</td>\n",
       "      <td id=\"T_5d480_row29_col2\" class=\"data row29 col2\" >33</td>\n",
       "      <td id=\"T_5d480_row29_col3\" class=\"data row29 col3\" >33</td>\n",
       "      <td id=\"T_5d480_row29_col4\" class=\"data row29 col4\" >33</td>\n",
       "      <td id=\"T_5d480_row29_col5\" class=\"data row29 col5\" >33</td>\n",
       "      <td id=\"T_5d480_row29_col6\" class=\"data row29 col6\" >33</td>\n",
       "      <td id=\"T_5d480_row29_col7\" class=\"data row29 col7\" >33</td>\n",
       "      <td id=\"T_5d480_row29_col8\" class=\"data row29 col8\" >-999</td>\n",
       "      <td id=\"T_5d480_row29_col9\" class=\"data row29 col9\" >-999</td>\n",
       "      <td id=\"T_5d480_row29_col10\" class=\"data row29 col10\" >33</td>\n",
       "      <td id=\"T_5d480_row29_col11\" class=\"data row29 col11\" >33</td>\n",
       "    </tr>\n",
       "    <tr>\n",
       "      <th id=\"T_5d480_level0_row30\" class=\"row_heading level0 row30\" >30</th>\n",
       "      <td id=\"T_5d480_row30_col0\" class=\"data row30 col0\" >target</td>\n",
       "      <td id=\"T_5d480_row30_col1\" class=\"data row30 col1\" >46</td>\n",
       "      <td id=\"T_5d480_row30_col2\" class=\"data row30 col2\" >46</td>\n",
       "      <td id=\"T_5d480_row30_col3\" class=\"data row30 col3\" >46</td>\n",
       "      <td id=\"T_5d480_row30_col4\" class=\"data row30 col4\" >46</td>\n",
       "      <td id=\"T_5d480_row30_col5\" class=\"data row30 col5\" >46</td>\n",
       "      <td id=\"T_5d480_row30_col6\" class=\"data row30 col6\" >46</td>\n",
       "      <td id=\"T_5d480_row30_col7\" class=\"data row30 col7\" >25</td>\n",
       "      <td id=\"T_5d480_row30_col8\" class=\"data row30 col8\" >46</td>\n",
       "      <td id=\"T_5d480_row30_col9\" class=\"data row30 col9\" >46</td>\n",
       "      <td id=\"T_5d480_row30_col10\" class=\"data row30 col10\" >46</td>\n",
       "      <td id=\"T_5d480_row30_col11\" class=\"data row30 col11\" >46</td>\n",
       "    </tr>\n",
       "    <tr>\n",
       "      <th id=\"T_5d480_level0_row31\" class=\"row_heading level0 row31\" >31</th>\n",
       "      <td id=\"T_5d480_row31_col0\" class=\"data row31 col0\" >tstat</td>\n",
       "      <td id=\"T_5d480_row31_col1\" class=\"data row31 col1\" >9</td>\n",
       "      <td id=\"T_5d480_row31_col2\" class=\"data row31 col2\" >9</td>\n",
       "      <td id=\"T_5d480_row31_col3\" class=\"data row31 col3\" >9</td>\n",
       "      <td id=\"T_5d480_row31_col4\" class=\"data row31 col4\" >9</td>\n",
       "      <td id=\"T_5d480_row31_col5\" class=\"data row31 col5\" >-999</td>\n",
       "      <td id=\"T_5d480_row31_col6\" class=\"data row31 col6\" >9</td>\n",
       "      <td id=\"T_5d480_row31_col7\" class=\"data row31 col7\" >-999</td>\n",
       "      <td id=\"T_5d480_row31_col8\" class=\"data row31 col8\" >9</td>\n",
       "      <td id=\"T_5d480_row31_col9\" class=\"data row31 col9\" >9</td>\n",
       "      <td id=\"T_5d480_row31_col10\" class=\"data row31 col10\" >9</td>\n",
       "      <td id=\"T_5d480_row31_col11\" class=\"data row31 col11\" >9</td>\n",
       "    </tr>\n",
       "    <tr>\n",
       "      <th id=\"T_5d480_level0_row32\" class=\"row_heading level0 row32\" >32</th>\n",
       "      <td id=\"T_5d480_row32_col0\" class=\"data row32 col0\" >x</td>\n",
       "      <td id=\"T_5d480_row32_col1\" class=\"data row32 col1\" >37</td>\n",
       "      <td id=\"T_5d480_row32_col2\" class=\"data row32 col2\" >37</td>\n",
       "      <td id=\"T_5d480_row32_col3\" class=\"data row32 col3\" >37</td>\n",
       "      <td id=\"T_5d480_row32_col4\" class=\"data row32 col4\" >6</td>\n",
       "      <td id=\"T_5d480_row32_col5\" class=\"data row32 col5\" >53</td>\n",
       "      <td id=\"T_5d480_row32_col6\" class=\"data row32 col6\" >-999</td>\n",
       "      <td id=\"T_5d480_row32_col7\" class=\"data row32 col7\" >6</td>\n",
       "      <td id=\"T_5d480_row32_col8\" class=\"data row32 col8\" >37</td>\n",
       "      <td id=\"T_5d480_row32_col9\" class=\"data row32 col9\" >37</td>\n",
       "      <td id=\"T_5d480_row32_col10\" class=\"data row32 col10\" >37</td>\n",
       "      <td id=\"T_5d480_row32_col11\" class=\"data row32 col11\" >37</td>\n",
       "    </tr>\n",
       "    <tr>\n",
       "      <th id=\"T_5d480_level0_row33\" class=\"row_heading level0 row33\" >33</th>\n",
       "      <td id=\"T_5d480_row33_col0\" class=\"data row33 col0\" >y</td>\n",
       "      <td id=\"T_5d480_row33_col1\" class=\"data row33 col1\" >-999</td>\n",
       "      <td id=\"T_5d480_row33_col2\" class=\"data row33 col2\" >-999</td>\n",
       "      <td id=\"T_5d480_row33_col3\" class=\"data row33 col3\" >-999</td>\n",
       "      <td id=\"T_5d480_row33_col4\" class=\"data row33 col4\" >-999</td>\n",
       "      <td id=\"T_5d480_row33_col5\" class=\"data row33 col5\" >47</td>\n",
       "      <td id=\"T_5d480_row33_col6\" class=\"data row33 col6\" >-999</td>\n",
       "      <td id=\"T_5d480_row33_col7\" class=\"data row33 col7\" >12</td>\n",
       "      <td id=\"T_5d480_row33_col8\" class=\"data row33 col8\" >-999</td>\n",
       "      <td id=\"T_5d480_row33_col9\" class=\"data row33 col9\" >-999</td>\n",
       "      <td id=\"T_5d480_row33_col10\" class=\"data row33 col10\" >-999</td>\n",
       "      <td id=\"T_5d480_row33_col11\" class=\"data row33 col11\" >-999</td>\n",
       "    </tr>\n",
       "  </tbody>\n",
       "</table>\n"
      ],
      "text/plain": [
       "<pandas.io.formats.style.Styler at 0x2b308fbbcd0>"
      ]
     },
     "execution_count": 112,
     "metadata": {},
     "output_type": "execute_result"
    }
   ],
   "source": [
    "# Функция для условного форматирования\n",
    "def highlight_matching_cells(x):\n",
    "    ref_col = x['vera']\n",
    "    df_styled = pd.DataFrame('', index=x.index, columns=x.columns)\n",
    "    for col in x.columns:\n",
    "        if col == 'right_answers':\n",
    "            df_styled[col] = ['background-color: red' if x[col].iloc[i] != 'nan' else '' for i in range(len(x))]\n",
    "        elif col != 'vera':\n",
    "            df_styled[col] = ['background-color: green' if x[col].iloc[i] == ref_col.iloc[i] else '' for i in range(len(x))]\n",
    "    return df_styled\n",
    "\n",
    "# Применение стиля\n",
    "res.style.apply(highlight_matching_cells, axis=None)"
   ]
  },
  {
   "cell_type": "markdown",
   "metadata": {},
   "source": [
    "# The end"
   ]
  }
 ],
 "metadata": {
  "kernelspec": {
   "display_name": "venv",
   "language": "python",
   "name": "python3"
  },
  "language_info": {
   "codemirror_mode": {
    "name": "ipython",
    "version": 3
   },
   "file_extension": ".py",
   "mimetype": "text/x-python",
   "name": "python",
   "nbconvert_exporter": "python",
   "pygments_lexer": "ipython3",
   "version": "3.10.7"
  }
 },
 "nbformat": 4,
 "nbformat_minor": 2
}
